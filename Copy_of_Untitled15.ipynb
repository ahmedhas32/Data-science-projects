{
  "nbformat": 4,
  "nbformat_minor": 0,
  "metadata": {
    "colab": {
      "name": "Copy of Untitled15.ipynb",
      "provenance": [],
      "collapsed_sections": [],
      "toc_visible": true
    },
    "kernelspec": {
      "name": "python3",
      "display_name": "Python 3"
    },
    "accelerator": "GPU"
  },
  "cells": [
    {
      "cell_type": "code",
      "metadata": {
        "id": "KX50fmDqy6P4"
      },
      "source": [
        "# importing necessary libraries\n",
        "from datetime import date\n",
        "from datetime import datetime\n",
        "from sklearn.metrics import accuracy_score\n",
        "from sklearn.metrics import r2_score\n",
        "from xgboost import XGBClassifier\n",
        "from sklearn.model_selection import train_test_split\n",
        "from sklearn.metrics import accuracy_score"
      ],
      "execution_count": 1,
      "outputs": []
    },
    {
      "cell_type": "code",
      "metadata": {
        "id": "yKBN8vgkZSlL",
        "outputId": "fdf02b06-28bb-4e33-9d2d-afcd5c21d171",
        "colab": {
          "base_uri": "https://localhost:8080/",
          "height": 71
        }
      },
      "source": [
        "import statsmodels.api as sm\n",
        "from statsmodels.formula.api import ols"
      ],
      "execution_count": 2,
      "outputs": [
        {
          "output_type": "stream",
          "text": [
            "/usr/local/lib/python3.6/dist-packages/statsmodels/tools/_testing.py:19: FutureWarning: pandas.util.testing is deprecated. Use the functions in the public API at pandas.testing instead.\n",
            "  import pandas.util.testing as tm\n"
          ],
          "name": "stderr"
        }
      ]
    },
    {
      "cell_type": "code",
      "metadata": {
        "id": "Ry0olUlhw8lj",
        "outputId": "d4ae0a4b-0d1a-40fa-9277-4a11f5d78ba5",
        "colab": {
          "base_uri": "https://localhost:8080/",
          "height": 224
        }
      },
      "source": [
        "!pip install arabic_reshaper"
      ],
      "execution_count": 3,
      "outputs": [
        {
          "output_type": "stream",
          "text": [
            "Collecting arabic_reshaper\n",
            "  Downloading https://files.pythonhosted.org/packages/41/55/e905af99b0172b5550c5e22d76b7737004495354b5f1094adf7cb2a41659/arabic_reshaper-2.1.0.tar.gz\n",
            "Requirement already satisfied: future in /usr/local/lib/python3.6/dist-packages (from arabic_reshaper) (0.16.0)\n",
            "Requirement already satisfied: setuptools in /usr/local/lib/python3.6/dist-packages (from arabic_reshaper) (50.3.0)\n",
            "Building wheels for collected packages: arabic-reshaper\n",
            "  Building wheel for arabic-reshaper (setup.py) ... \u001b[?25l\u001b[?25hdone\n",
            "  Created wheel for arabic-reshaper: filename=arabic_reshaper-2.1.0-cp36-none-any.whl size=16502 sha256=a7484c3236d164b214830473cabb90ced4694c613234bd8a8ce108b804ab2d71\n",
            "  Stored in directory: /root/.cache/pip/wheels/a9/e6/ec/2ba48138d4447d40442dd6ba3bf6b92d9c6afd74e9c720c6fe\n",
            "Successfully built arabic-reshaper\n",
            "Installing collected packages: arabic-reshaper\n",
            "Successfully installed arabic-reshaper-2.1.0\n"
          ],
          "name": "stdout"
        }
      ]
    },
    {
      "cell_type": "code",
      "metadata": {
        "id": "grkPl33j2CAY",
        "outputId": "85126f29-6e92-4864-df3c-50eed172b305",
        "colab": {
          "base_uri": "https://localhost:8080/",
          "height": 122
        }
      },
      "source": [
        "!pip install python-bidi"
      ],
      "execution_count": 4,
      "outputs": [
        {
          "output_type": "stream",
          "text": [
            "Collecting python-bidi\n",
            "  Downloading https://files.pythonhosted.org/packages/33/b0/f942d146a2f457233baaafd6bdf624eba8e0f665045b4abd69d1b62d097d/python_bidi-0.4.2-py2.py3-none-any.whl\n",
            "Requirement already satisfied: six in /usr/local/lib/python3.6/dist-packages (from python-bidi) (1.15.0)\n",
            "Installing collected packages: python-bidi\n",
            "Successfully installed python-bidi-0.4.2\n"
          ],
          "name": "stdout"
        }
      ]
    },
    {
      "cell_type": "code",
      "metadata": {
        "id": "fwvSizqR8cqO"
      },
      "source": [
        "import arabic_reshaper\n",
        "from bidi.algorithm import get_display\n"
      ],
      "execution_count": 5,
      "outputs": []
    },
    {
      "cell_type": "code",
      "metadata": {
        "id": "iqX4vk1Em58q"
      },
      "source": [
        "import numpy as np\n",
        "import pandas as pd\n",
        "import matplotlib.pyplot as plt\n",
        "import seaborn as sns\n",
        "import statsmodels.api as sm\n",
        "from scipy.stats import skew\n",
        "import csv as csv\n",
        "from sklearn.preprocessing import StandardScaler\n",
        "from scipy.stats import ks_2samp\n",
        "\n",
        "\n",
        "import warnings\n",
        "warnings.filterwarnings(\"ignore\")"
      ],
      "execution_count": 6,
      "outputs": []
    },
    {
      "cell_type": "code",
      "metadata": {
        "id": "RjoTt20O3Ubf"
      },
      "source": [
        ""
      ],
      "execution_count": 6,
      "outputs": []
    },
    {
      "cell_type": "code",
      "metadata": {
        "id": "1np2kM9TF659"
      },
      "source": [
        "\n",
        "import xgboost\n",
        "import csv as csv\n",
        "from xgboost import plot_importance\n",
        "from matplotlib import pyplot\n",
        "from sklearn.model_selection import cross_val_score,KFold\n",
        "from sklearn.metrics import mean_absolute_error\n",
        "import matplotlib.pyplot as plt\n",
        "from scipy.stats import skew\n",
        "from collections import OrderedDict\n",
        "from sklearn import preprocessing"
      ],
      "execution_count": 7,
      "outputs": []
    },
    {
      "cell_type": "code",
      "metadata": {
        "id": "OzC9VmzGFzHf"
      },
      "source": [
        "import keras\n",
        "from keras.wrappers.scikit_learn import KerasRegressor\n",
        "from keras.models import Sequential\n",
        "from keras.layers import Dense , Dropout\n",
        "from keras.wrappers.scikit_learn import KerasClassifier\n",
        "from keras.utils import np_utils\n",
        "from sklearn.model_selection import cross_val_score\n",
        "from sklearn.model_selection import KFold\n",
        "from sklearn.preprocessing import LabelEncoder\n",
        "from sklearn.pipeline import Pipeline"
      ],
      "execution_count": 8,
      "outputs": []
    },
    {
      "cell_type": "code",
      "metadata": {
        "id": "28eTcGQGF3EJ"
      },
      "source": [
        "import tensorflow.keras.layers as Layers\n",
        "import tensorflow.keras.activations as Actications\n",
        "import tensorflow.keras.models as Models\n",
        "import tensorflow.keras.optimizers as Optimizer\n",
        "import tensorflow.keras.metrics as Metrics\n",
        "import tensorflow.keras.utils as Utils\n",
        "from keras.utils.vis_utils import model_to_dot\n",
        "from keras import backend as K"
      ],
      "execution_count": 9,
      "outputs": []
    },
    {
      "cell_type": "code",
      "metadata": {
        "id": "QE1E9Vk-q98O"
      },
      "source": [
        "# to set the default display of numbers\n",
        "pd.set_option('display.float_format', lambda x: '%.2f' % x)"
      ],
      "execution_count": 10,
      "outputs": []
    },
    {
      "cell_type": "code",
      "metadata": {
        "id": "qHBaiFqbnMiB"
      },
      "source": [
        "# Importing data\n",
        "df = pd.read_excel('/content/drive/My Drive/24032020 C2A Entities Activities - Master v9_2 (Autosaved).xlsm' ,sheet_name='BreakDown-Master')\n"
      ],
      "execution_count": 11,
      "outputs": []
    },
    {
      "cell_type": "code",
      "metadata": {
        "id": "dgFg7Dm0zXCD"
      },
      "source": [
        "#df['pct'] = df.groupby(['المجموعة' , 'اسم الجهة' , 'اسم المبادرة'])['output pct'].apply(lambda x: x.astype(float)/x.sum())\n"
      ],
      "execution_count": 12,
      "outputs": []
    },
    {
      "cell_type": "code",
      "metadata": {
        "id": "Stkm07BHn9Cw"
      },
      "source": [
        "#pct1=df.loc[: ,['المجموعة' , 'اسم الجهة' ,'اسم المبادرة' ,'output pct','pct' , 'مسلسل']]"
      ],
      "execution_count": 13,
      "outputs": []
    },
    {
      "cell_type": "code",
      "metadata": {
        "id": "PNKavL_zgoIn"
      },
      "source": [
        "#pct1.to_excel(\"output.xlsx\")"
      ],
      "execution_count": 14,
      "outputs": []
    },
    {
      "cell_type": "code",
      "metadata": {
        "id": "jJ0rDx6rBpsD",
        "outputId": "0a6b42c1-58cc-484b-dc3d-d4e1b0e46256",
        "colab": {
          "base_uri": "https://localhost:8080/",
          "height": 1000
        }
      },
      "source": [
        "# Having a quick view\n",
        "df.head(10)"
      ],
      "execution_count": 15,
      "outputs": [
        {
          "output_type": "execute_result",
          "data": {
            "text/html": [
              "<div>\n",
              "<style scoped>\n",
              "    .dataframe tbody tr th:only-of-type {\n",
              "        vertical-align: middle;\n",
              "    }\n",
              "\n",
              "    .dataframe tbody tr th {\n",
              "        vertical-align: top;\n",
              "    }\n",
              "\n",
              "    .dataframe thead th {\n",
              "        text-align: right;\n",
              "    }\n",
              "</style>\n",
              "<table border=\"1\" class=\"dataframe\">\n",
              "  <thead>\n",
              "    <tr style=\"text-align: right;\">\n",
              "      <th></th>\n",
              "      <th>المجموعة</th>\n",
              "      <th>اسم الجهة</th>\n",
              "      <th>الترميز</th>\n",
              "      <th>اسم المبادرة</th>\n",
              "      <th>الانشطة الرئيسة للمشروع</th>\n",
              "      <th>المدة\\n (شهر)</th>\n",
              "      <th>نسبة المدة</th>\n",
              "      <th>نوع النشاط</th>\n",
              "      <th>البداية المخطط</th>\n",
              "      <th>النهاية المخطط</th>\n",
              "      <th>المخرجات المتوقعة</th>\n",
              "      <th>Started?</th>\n",
              "      <th>Completed</th>\n",
              "      <th>Varience</th>\n",
              "      <th>Planned %</th>\n",
              "      <th>Actual\\n %</th>\n",
              "      <th>Origin Budget</th>\n",
              "      <th>Awarded Budget</th>\n",
              "      <th>Outputs Planned Due Date</th>\n",
              "      <th>Outputs Due Amount</th>\n",
              "      <th>Outputs Due</th>\n",
              "      <th>Planned Budget</th>\n",
              "      <th>Actual Payments</th>\n",
              "      <th>Budget Varience</th>\n",
              "      <th>Budget Remaining</th>\n",
              "      <th>ID</th>\n",
              "      <th>لا</th>\n",
              "      <th>output pct</th>\n",
              "      <th>مسلسل</th>\n",
              "      <th>pct</th>\n",
              "      <th>payment_actions</th>\n",
              "      <th>Unnamed: 31</th>\n",
              "    </tr>\n",
              "  </thead>\n",
              "  <tbody>\n",
              "    <tr>\n",
              "      <th>0</th>\n",
              "      <td>وزارة الدفاع والجهات الأمنية</td>\n",
              "      <td>الادارة العامة للخدمات الطبية للقوات المسلحة</td>\n",
              "      <td>1</td>\n",
              "      <td>الاعداد والتهيئة</td>\n",
              "      <td>الاعداد والتهيئة</td>\n",
              "      <td>0.00</td>\n",
              "      <td>30.00</td>\n",
              "      <td>Initiative</td>\n",
              "      <td>2018-07-31</td>\n",
              "      <td>2018-07-31</td>\n",
              "      <td>NaN</td>\n",
              "      <td>نعم</td>\n",
              "      <td>قيد التنفيذ</td>\n",
              "      <td>0.50</td>\n",
              "      <td>1.00</td>\n",
              "      <td>0.50</td>\n",
              "      <td>nan</td>\n",
              "      <td>nan</td>\n",
              "      <td>NaT</td>\n",
              "      <td>nan</td>\n",
              "      <td>NaN</td>\n",
              "      <td>nan</td>\n",
              "      <td>nan</td>\n",
              "      <td>NaN</td>\n",
              "      <td>nan</td>\n",
              "      <td>الادارة العامة للخدمات الطبية للقوات المسلحة|ا...</td>\n",
              "      <td>لا</td>\n",
              "      <td>nan</td>\n",
              "      <td>1</td>\n",
              "      <td>nan</td>\n",
              "      <td>nan</td>\n",
              "      <td>0.00</td>\n",
              "    </tr>\n",
              "    <tr>\n",
              "      <th>1</th>\n",
              "      <td>وزارة الدفاع والجهات الأمنية</td>\n",
              "      <td>الادارة العامة للخدمات الطبية للقوات المسلحة</td>\n",
              "      <td>NaN</td>\n",
              "      <td>الاعداد والتهيئة</td>\n",
              "      <td>التواصل مع الجهة لتحديد موعد للاجتماع</td>\n",
              "      <td>0.00</td>\n",
              "      <td>0.50</td>\n",
              "      <td>Activity</td>\n",
              "      <td>2018-07-31</td>\n",
              "      <td>2018-07-31</td>\n",
              "      <td>-</td>\n",
              "      <td>True</td>\n",
              "      <td>نعم</td>\n",
              "      <td>nan</td>\n",
              "      <td>nan</td>\n",
              "      <td>nan</td>\n",
              "      <td>nan</td>\n",
              "      <td>nan</td>\n",
              "      <td>NaT</td>\n",
              "      <td>nan</td>\n",
              "      <td>NaN</td>\n",
              "      <td>nan</td>\n",
              "      <td>nan</td>\n",
              "      <td>NaN</td>\n",
              "      <td>nan</td>\n",
              "      <td>الادارة العامة للخدمات الطبية للقوات المسلحة|ا...</td>\n",
              "      <td>نعم</td>\n",
              "      <td>nan</td>\n",
              "      <td>2</td>\n",
              "      <td>nan</td>\n",
              "      <td>nan</td>\n",
              "      <td>0.00</td>\n",
              "    </tr>\n",
              "    <tr>\n",
              "      <th>2</th>\n",
              "      <td>وزارة الدفاع والجهات الأمنية</td>\n",
              "      <td>الادارة العامة للخدمات الطبية للقوات المسلحة</td>\n",
              "      <td>1.10</td>\n",
              "      <td>الاعداد والتهيئة</td>\n",
              "      <td>اجتماع الاطلاق مع الجهة</td>\n",
              "      <td>0.00</td>\n",
              "      <td>nan</td>\n",
              "      <td>Milestone</td>\n",
              "      <td>2018-07-31</td>\n",
              "      <td>2018-07-31</td>\n",
              "      <td>محضر الاجتماع مع الجهة</td>\n",
              "      <td>True</td>\n",
              "      <td>لا</td>\n",
              "      <td>nan</td>\n",
              "      <td>nan</td>\n",
              "      <td>nan</td>\n",
              "      <td>nan</td>\n",
              "      <td>nan</td>\n",
              "      <td>NaT</td>\n",
              "      <td>nan</td>\n",
              "      <td>NaN</td>\n",
              "      <td>nan</td>\n",
              "      <td>nan</td>\n",
              "      <td>NaN</td>\n",
              "      <td>nan</td>\n",
              "      <td>الادارة العامة للخدمات الطبية للقوات المسلحة|ا...</td>\n",
              "      <td>لا</td>\n",
              "      <td>nan</td>\n",
              "      <td>3</td>\n",
              "      <td>nan</td>\n",
              "      <td>nan</td>\n",
              "      <td>0.00</td>\n",
              "    </tr>\n",
              "    <tr>\n",
              "      <th>3</th>\n",
              "      <td>وزارة الدفاع والجهات الأمنية</td>\n",
              "      <td>الادارة العامة للخدمات الطبية للقوات المسلحة</td>\n",
              "      <td>NaN</td>\n",
              "      <td>الاعداد والتهيئة</td>\n",
              "      <td>الإجابة عن استفسارات الجهة</td>\n",
              "      <td>0.00</td>\n",
              "      <td>0.50</td>\n",
              "      <td>Activity</td>\n",
              "      <td>2018-07-31</td>\n",
              "      <td>2018-07-31</td>\n",
              "      <td>-</td>\n",
              "      <td>True</td>\n",
              "      <td>لا</td>\n",
              "      <td>nan</td>\n",
              "      <td>nan</td>\n",
              "      <td>nan</td>\n",
              "      <td>nan</td>\n",
              "      <td>nan</td>\n",
              "      <td>NaT</td>\n",
              "      <td>nan</td>\n",
              "      <td>NaN</td>\n",
              "      <td>nan</td>\n",
              "      <td>nan</td>\n",
              "      <td>NaN</td>\n",
              "      <td>nan</td>\n",
              "      <td>الادارة العامة للخدمات الطبية للقوات المسلحة|ا...</td>\n",
              "      <td>لا</td>\n",
              "      <td>nan</td>\n",
              "      <td>4</td>\n",
              "      <td>nan</td>\n",
              "      <td>nan</td>\n",
              "      <td>0.00</td>\n",
              "    </tr>\n",
              "    <tr>\n",
              "      <th>4</th>\n",
              "      <td>وزارة الدفاع والجهات الأمنية</td>\n",
              "      <td>الادارة العامة للخدمات الطبية للقوات المسلحة</td>\n",
              "      <td>1.20</td>\n",
              "      <td>الاعداد والتهيئة</td>\n",
              "      <td>الانتهاء من الإجابة عن استفسارات الجهة</td>\n",
              "      <td>0.00</td>\n",
              "      <td>nan</td>\n",
              "      <td>Milestone</td>\n",
              "      <td>2018-07-31</td>\n",
              "      <td>2018-07-31</td>\n",
              "      <td>محضر الاجتماع مع الجهة</td>\n",
              "      <td>True</td>\n",
              "      <td>لا</td>\n",
              "      <td>nan</td>\n",
              "      <td>nan</td>\n",
              "      <td>nan</td>\n",
              "      <td>nan</td>\n",
              "      <td>nan</td>\n",
              "      <td>NaT</td>\n",
              "      <td>nan</td>\n",
              "      <td>NaN</td>\n",
              "      <td>nan</td>\n",
              "      <td>nan</td>\n",
              "      <td>NaN</td>\n",
              "      <td>nan</td>\n",
              "      <td>الادارة العامة للخدمات الطبية للقوات المسلحة|ا...</td>\n",
              "      <td>لا</td>\n",
              "      <td>nan</td>\n",
              "      <td>5</td>\n",
              "      <td>nan</td>\n",
              "      <td>nan</td>\n",
              "      <td>0.00</td>\n",
              "    </tr>\n",
              "    <tr>\n",
              "      <th>5</th>\n",
              "      <td>وزارة الدفاع والجهات الأمنية</td>\n",
              "      <td>الادارة العامة للخدمات الطبية للقوات المسلحة</td>\n",
              "      <td>1.30</td>\n",
              "      <td>الاعداد والتهيئة</td>\n",
              "      <td>استلام تحليل أصحاب المصلحة والمفوضين عن كل مبادرة</td>\n",
              "      <td>0.00</td>\n",
              "      <td>nan</td>\n",
              "      <td>Output</td>\n",
              "      <td>2018-07-31</td>\n",
              "      <td>2018-07-31</td>\n",
              "      <td>ملف تحليل أصحاب المصلحة والمفوضين</td>\n",
              "      <td>True</td>\n",
              "      <td>لا</td>\n",
              "      <td>nan</td>\n",
              "      <td>nan</td>\n",
              "      <td>nan</td>\n",
              "      <td>nan</td>\n",
              "      <td>nan</td>\n",
              "      <td>2018-08-29</td>\n",
              "      <td>0.00</td>\n",
              "      <td>NaN</td>\n",
              "      <td>nan</td>\n",
              "      <td>nan</td>\n",
              "      <td>NaN</td>\n",
              "      <td>nan</td>\n",
              "      <td>الادارة العامة للخدمات الطبية للقوات المسلحة|ا...</td>\n",
              "      <td>لا</td>\n",
              "      <td>55.00</td>\n",
              "      <td>6</td>\n",
              "      <td>1.00</td>\n",
              "      <td>nan</td>\n",
              "      <td>0.00</td>\n",
              "    </tr>\n",
              "    <tr>\n",
              "      <th>6</th>\n",
              "      <td>وزارة الدفاع والجهات الأمنية</td>\n",
              "      <td>الادارة العامة للخدمات الطبية للقوات المسلحة</td>\n",
              "      <td>2</td>\n",
              "      <td>طرح كراسة حصر وجرد وتقييم الأصول الثابتة</td>\n",
              "      <td>طرح كراسة حصر وجرد وتقييم الأصول الثابتة</td>\n",
              "      <td>0.00</td>\n",
              "      <td>1.00</td>\n",
              "      <td>Initiative</td>\n",
              "      <td>2018-07-31</td>\n",
              "      <td>2018-07-31</td>\n",
              "      <td>NaN</td>\n",
              "      <td>نعم</td>\n",
              "      <td>قيد التنفيذ</td>\n",
              "      <td>1.00</td>\n",
              "      <td>1.00</td>\n",
              "      <td>0.00</td>\n",
              "      <td>nan</td>\n",
              "      <td>nan</td>\n",
              "      <td>NaT</td>\n",
              "      <td>nan</td>\n",
              "      <td>NaN</td>\n",
              "      <td>nan</td>\n",
              "      <td>nan</td>\n",
              "      <td>NaN</td>\n",
              "      <td>nan</td>\n",
              "      <td>الادارة العامة للخدمات الطبية للقوات المسلحة|ط...</td>\n",
              "      <td>لا</td>\n",
              "      <td>nan</td>\n",
              "      <td>7</td>\n",
              "      <td>nan</td>\n",
              "      <td>nan</td>\n",
              "      <td>0.00</td>\n",
              "    </tr>\n",
              "    <tr>\n",
              "      <th>7</th>\n",
              "      <td>وزارة الدفاع والجهات الأمنية</td>\n",
              "      <td>الادارة العامة للخدمات الطبية للقوات المسلحة</td>\n",
              "      <td>2.10</td>\n",
              "      <td>طرح كراسة حصر وجرد وتقييم الأصول الثابتة</td>\n",
              "      <td>التواصل مع الجهة للمتابعة  لطرح الكراسة</td>\n",
              "      <td>0.00</td>\n",
              "      <td>0.25</td>\n",
              "      <td>Activity</td>\n",
              "      <td>2018-07-31</td>\n",
              "      <td>2018-07-31</td>\n",
              "      <td>-</td>\n",
              "      <td>True</td>\n",
              "      <td>نعم</td>\n",
              "      <td>nan</td>\n",
              "      <td>nan</td>\n",
              "      <td>nan</td>\n",
              "      <td>nan</td>\n",
              "      <td>nan</td>\n",
              "      <td>NaT</td>\n",
              "      <td>nan</td>\n",
              "      <td>NaN</td>\n",
              "      <td>nan</td>\n",
              "      <td>nan</td>\n",
              "      <td>NaN</td>\n",
              "      <td>nan</td>\n",
              "      <td>الادارة العامة للخدمات الطبية للقوات المسلحة|ط...</td>\n",
              "      <td>نعم</td>\n",
              "      <td>nan</td>\n",
              "      <td>8</td>\n",
              "      <td>nan</td>\n",
              "      <td>nan</td>\n",
              "      <td>0.00</td>\n",
              "    </tr>\n",
              "    <tr>\n",
              "      <th>8</th>\n",
              "      <td>وزارة الدفاع والجهات الأمنية</td>\n",
              "      <td>الادارة العامة للخدمات الطبية للقوات المسلحة</td>\n",
              "      <td>2.10</td>\n",
              "      <td>طرح كراسة حصر وجرد وتقييم الأصول الثابتة</td>\n",
              "      <td>طرح الكراسة</td>\n",
              "      <td>0.00</td>\n",
              "      <td>nan</td>\n",
              "      <td>Milestone</td>\n",
              "      <td>2018-07-31</td>\n",
              "      <td>2018-07-31</td>\n",
              "      <td>ايميل بتأكيد الطرح</td>\n",
              "      <td>True</td>\n",
              "      <td>لا</td>\n",
              "      <td>nan</td>\n",
              "      <td>nan</td>\n",
              "      <td>nan</td>\n",
              "      <td>nan</td>\n",
              "      <td>nan</td>\n",
              "      <td>NaT</td>\n",
              "      <td>nan</td>\n",
              "      <td>NaN</td>\n",
              "      <td>nan</td>\n",
              "      <td>nan</td>\n",
              "      <td>NaN</td>\n",
              "      <td>nan</td>\n",
              "      <td>الادارة العامة للخدمات الطبية للقوات المسلحة|ط...</td>\n",
              "      <td>لا</td>\n",
              "      <td>nan</td>\n",
              "      <td>9</td>\n",
              "      <td>nan</td>\n",
              "      <td>nan</td>\n",
              "      <td>0.00</td>\n",
              "    </tr>\n",
              "    <tr>\n",
              "      <th>9</th>\n",
              "      <td>وزارة الدفاع والجهات الأمنية</td>\n",
              "      <td>الادارة العامة للخدمات الطبية للقوات المسلحة</td>\n",
              "      <td>2.20</td>\n",
              "      <td>طرح كراسة حصر وجرد وتقييم الأصول الثابتة</td>\n",
              "      <td>التواصل مع الجهة للمتابعة في استقبال العروض</td>\n",
              "      <td>0.00</td>\n",
              "      <td>0.25</td>\n",
              "      <td>Activity</td>\n",
              "      <td>2018-07-31</td>\n",
              "      <td>2018-07-31</td>\n",
              "      <td>-</td>\n",
              "      <td>True</td>\n",
              "      <td>نعم</td>\n",
              "      <td>nan</td>\n",
              "      <td>nan</td>\n",
              "      <td>nan</td>\n",
              "      <td>nan</td>\n",
              "      <td>nan</td>\n",
              "      <td>NaT</td>\n",
              "      <td>nan</td>\n",
              "      <td>NaN</td>\n",
              "      <td>nan</td>\n",
              "      <td>nan</td>\n",
              "      <td>NaN</td>\n",
              "      <td>nan</td>\n",
              "      <td>الادارة العامة للخدمات الطبية للقوات المسلحة|ط...</td>\n",
              "      <td>نعم</td>\n",
              "      <td>nan</td>\n",
              "      <td>10</td>\n",
              "      <td>nan</td>\n",
              "      <td>nan</td>\n",
              "      <td>0.00</td>\n",
              "    </tr>\n",
              "  </tbody>\n",
              "</table>\n",
              "</div>"
            ],
            "text/plain": [
              "                        المجموعة  ... Unnamed: 31\n",
              "0  وزارة الدفاع والجهات الأمنية   ...        0.00\n",
              "1  وزارة الدفاع والجهات الأمنية   ...        0.00\n",
              "2  وزارة الدفاع والجهات الأمنية   ...        0.00\n",
              "3  وزارة الدفاع والجهات الأمنية   ...        0.00\n",
              "4  وزارة الدفاع والجهات الأمنية   ...        0.00\n",
              "5  وزارة الدفاع والجهات الأمنية   ...        0.00\n",
              "6  وزارة الدفاع والجهات الأمنية   ...        0.00\n",
              "7  وزارة الدفاع والجهات الأمنية   ...        0.00\n",
              "8  وزارة الدفاع والجهات الأمنية   ...        0.00\n",
              "9  وزارة الدفاع والجهات الأمنية   ...        0.00\n",
              "\n",
              "[10 rows x 32 columns]"
            ]
          },
          "metadata": {
            "tags": []
          },
          "execution_count": 15
        }
      ]
    },
    {
      "cell_type": "code",
      "metadata": {
        "id": "xFSd1ysNEA1C"
      },
      "source": [
        "PYTHONIOENCODING=\"UTF-8\"  \n"
      ],
      "execution_count": 16,
      "outputs": []
    },
    {
      "cell_type": "code",
      "metadata": {
        "id": "eSdnIHjGy5og"
      },
      "source": [
        "# Getting sum of planned budget for only phases that started\n",
        "d1=pd.DataFrame(df.groupby(['المجموعة' , 'اسم الجهة' , 'اسم المبادرة'])['Planned Budget'].apply(lambda x: (x.astype('float')*(df['Outputs Due']=='نعم')).astype('float').sum())).reset_index()"
      ],
      "execution_count": 17,
      "outputs": []
    },
    {
      "cell_type": "code",
      "metadata": {
        "id": "kpY4v_U6y5TE"
      },
      "source": [
        "# Getting sum of Actual payments for only phases that started\n",
        "\n",
        "d2=pd.DataFrame(df.groupby(['المجموعة' , 'اسم الجهة' , 'اسم المبادرة'])['Actual Payments'].apply(lambda x: (x.astype('float')*(df['Outputs Due']=='نعم')).astype('float').sum())).reset_index()"
      ],
      "execution_count": 18,
      "outputs": []
    },
    {
      "cell_type": "code",
      "metadata": {
        "id": "ouNLJ-v4v1LS"
      },
      "source": [
        "#df['pct'] = df.groupby(['المجموعة' , 'اسم الجهة' , 'اسم المبادرة'])['output pct'].apply(lambda x: x.astype(float)/x.sum())\n"
      ],
      "execution_count": 19,
      "outputs": []
    },
    {
      "cell_type": "code",
      "metadata": {
        "id": "RjIarv2xk6g1"
      },
      "source": [
        "#df['payment_actions']=df.groupby(['المجموعة' , 'اسم الجهة' , 'اسم المبادرة'])['Awarded Budget'].transform(lambda x: x.fillna(x.mean()))*df['pct']"
      ],
      "execution_count": 20,
      "outputs": []
    },
    {
      "cell_type": "code",
      "metadata": {
        "id": "imAsFBeEk6jS"
      },
      "source": [
        "#pct1=df.loc[: ,['المجموعة' , 'اسم الجهة' ,'اسم المبادرة' ,'output pct','pct','payment_actions' , 'مسلسل']]"
      ],
      "execution_count": 21,
      "outputs": []
    },
    {
      "cell_type": "code",
      "metadata": {
        "id": "FPRbLuxv1kSu"
      },
      "source": [
        "#df11=df.groupby(['المجموعة' , 'اسم الجهة' , 'اسم المبادرة'])['Completed'].apply(lambda x: (x=='نعم').sum()).reset_index(name='count')\n"
      ],
      "execution_count": 22,
      "outputs": []
    },
    {
      "cell_type": "code",
      "metadata": {
        "id": "SBy5M4HE4OQD"
      },
      "source": [
        "#df12=df.groupby(['المجموعة' , 'اسم الجهة' , 'اسم المبادرة'])['نوع النشاط'].apply(lambda x: (x!='Initiative').sum()).reset_index(name='count2')\n"
      ],
      "execution_count": 23,
      "outputs": []
    },
    {
      "cell_type": "code",
      "metadata": {
        "id": "2xCJw_r92FBJ"
      },
      "source": [
        "#df=pd.merge(pd.merge(df,df11 , 'left' , on= ['المجموعة' , 'اسم الجهة' , 'اسم المبادرة']) , df12 , 'left' , on=['المجموعة' , 'اسم الجهة' , 'اسم المبادرة'])"
      ],
      "execution_count": 24,
      "outputs": []
    },
    {
      "cell_type": "code",
      "metadata": {
        "id": "1DAFrnL77kXh"
      },
      "source": [
        "#df.head(10)"
      ],
      "execution_count": 25,
      "outputs": []
    },
    {
      "cell_type": "code",
      "metadata": {
        "id": "kMGsNfbcy5M-"
      },
      "source": [
        "# merging them to get real variance  \n",
        "real_variance = pd.merge(d1,d2,on=['المجموعة' , 'اسم الجهة' , 'اسم المبادرة'])"
      ],
      "execution_count": 26,
      "outputs": []
    },
    {
      "cell_type": "code",
      "metadata": {
        "id": "9F-p19V3y5M1"
      },
      "source": [
        "# calculating real byudget variance \n",
        "real_variance['variance'] = (real_variance['Actual Payments']-real_variance['Planned Budget'])*(real_variance['Actual Payments']>0)/real_variance['Planned Budget']"
      ],
      "execution_count": 27,
      "outputs": []
    },
    {
      "cell_type": "code",
      "metadata": {
        "id": "4Ys1bSZJy5Mt"
      },
      "source": [
        "# Merging real budget variance to dataset \n",
        "df_mod=df.merge(real_variance.loc[ : ,['المجموعة' , 'اسم الجهة' , 'اسم المبادرة','variance']],how='left' , on=['المجموعة' , 'اسم الجهة' , 'اسم المبادرة']  )"
      ],
      "execution_count": 28,
      "outputs": []
    },
    {
      "cell_type": "code",
      "metadata": {
        "id": "utW-KU4R8nKJ"
      },
      "source": [
        "# replacing variance by the real variance \n",
        "df_mod.loc[df_mod['نوع النشاط'] =='Initiative','Budget Varience'] = df_mod.loc[df_mod['نوع النشاط'] =='Initiative','variance']"
      ],
      "execution_count": 29,
      "outputs": []
    },
    {
      "cell_type": "code",
      "metadata": {
        "id": "SCDOmj_Ck6qh"
      },
      "source": [
        "# dropping redundant columns\n",
        "df_mod.drop(columns=['ID' , 'لا', 'output pct',  'pct',\n",
        "       'payment_actions', 'Unnamed: 31' ,'variance','الترميز'  ] , inplace=True)"
      ],
      "execution_count": 30,
      "outputs": []
    },
    {
      "cell_type": "code",
      "metadata": {
        "id": "BG8DCoIXgd7E"
      },
      "source": [
        "#  fixing arabic columns names allignment\n",
        "for i in df_mod.columns : \n",
        "  i=i.strip()"
      ],
      "execution_count": 31,
      "outputs": []
    },
    {
      "cell_type": "code",
      "metadata": {
        "id": "T5c6vnzLk6oO",
        "outputId": "1b3c40af-a660-4c63-b492-f185330ae53b",
        "colab": {
          "base_uri": "https://localhost:8080/",
          "height": 153
        }
      },
      "source": [
        "\n",
        "df_mod.columns"
      ],
      "execution_count": 32,
      "outputs": [
        {
          "output_type": "execute_result",
          "data": {
            "text/plain": [
              "Index(['المجموعة', 'اسم الجهة', 'اسم المبادرة', 'الانشطة الرئيسة للمشروع',\n",
              "       'المدة\\n (شهر)', 'نسبة المدة', 'نوع النشاط', 'البداية المخطط',\n",
              "       'النهاية المخطط', 'المخرجات المتوقعة', 'Started?', 'Completed',\n",
              "       'Varience', 'Planned %', 'Actual\\n %', 'Origin Budget',\n",
              "       'Awarded Budget', 'Outputs Planned Due Date', 'Outputs Due Amount',\n",
              "       'Outputs Due', 'Planned Budget', 'Actual Payments', 'Budget Varience',\n",
              "       'Budget Remaining', 'مسلسل'],\n",
              "      dtype='object')"
            ]
          },
          "metadata": {
            "tags": []
          },
          "execution_count": 32
        }
      ]
    },
    {
      "cell_type": "code",
      "metadata": {
        "id": "PpPhWCDtqWwY"
      },
      "source": [
        ""
      ],
      "execution_count": 32,
      "outputs": []
    },
    {
      "cell_type": "code",
      "metadata": {
        "id": "M8-BnVL1k6sr"
      },
      "source": [
        "df_mod.rename(columns=lambda x: x.strip() , inplace=True)"
      ],
      "execution_count": 33,
      "outputs": []
    },
    {
      "cell_type": "code",
      "metadata": {
        "id": "wryGGl7JsKCz"
      },
      "source": [
        ""
      ],
      "execution_count": 33,
      "outputs": []
    },
    {
      "cell_type": "code",
      "metadata": {
        "id": "RxNM19n5k6vQ",
        "outputId": "a43723f8-ba31-4938-95b8-663d69dfd286",
        "colab": {
          "base_uri": "https://localhost:8080/",
          "height": 700
        }
      },
      "source": [
        "df_mod.head()"
      ],
      "execution_count": 34,
      "outputs": [
        {
          "output_type": "execute_result",
          "data": {
            "text/html": [
              "<div>\n",
              "<style scoped>\n",
              "    .dataframe tbody tr th:only-of-type {\n",
              "        vertical-align: middle;\n",
              "    }\n",
              "\n",
              "    .dataframe tbody tr th {\n",
              "        vertical-align: top;\n",
              "    }\n",
              "\n",
              "    .dataframe thead th {\n",
              "        text-align: right;\n",
              "    }\n",
              "</style>\n",
              "<table border=\"1\" class=\"dataframe\">\n",
              "  <thead>\n",
              "    <tr style=\"text-align: right;\">\n",
              "      <th></th>\n",
              "      <th>المجموعة</th>\n",
              "      <th>اسم الجهة</th>\n",
              "      <th>اسم المبادرة</th>\n",
              "      <th>الانشطة الرئيسة للمشروع</th>\n",
              "      <th>المدة\\n (شهر)</th>\n",
              "      <th>نسبة المدة</th>\n",
              "      <th>نوع النشاط</th>\n",
              "      <th>البداية المخطط</th>\n",
              "      <th>النهاية المخطط</th>\n",
              "      <th>المخرجات المتوقعة</th>\n",
              "      <th>Started?</th>\n",
              "      <th>Completed</th>\n",
              "      <th>Varience</th>\n",
              "      <th>Planned %</th>\n",
              "      <th>Actual\\n %</th>\n",
              "      <th>Origin Budget</th>\n",
              "      <th>Awarded Budget</th>\n",
              "      <th>Outputs Planned Due Date</th>\n",
              "      <th>Outputs Due Amount</th>\n",
              "      <th>Outputs Due</th>\n",
              "      <th>Planned Budget</th>\n",
              "      <th>Actual Payments</th>\n",
              "      <th>Budget Varience</th>\n",
              "      <th>Budget Remaining</th>\n",
              "      <th>مسلسل</th>\n",
              "    </tr>\n",
              "  </thead>\n",
              "  <tbody>\n",
              "    <tr>\n",
              "      <th>0</th>\n",
              "      <td>وزارة الدفاع والجهات الأمنية</td>\n",
              "      <td>الادارة العامة للخدمات الطبية للقوات المسلحة</td>\n",
              "      <td>الاعداد والتهيئة</td>\n",
              "      <td>الاعداد والتهيئة</td>\n",
              "      <td>0.00</td>\n",
              "      <td>30.00</td>\n",
              "      <td>Initiative</td>\n",
              "      <td>2018-07-31</td>\n",
              "      <td>2018-07-31</td>\n",
              "      <td>NaN</td>\n",
              "      <td>نعم</td>\n",
              "      <td>قيد التنفيذ</td>\n",
              "      <td>0.50</td>\n",
              "      <td>1.00</td>\n",
              "      <td>0.50</td>\n",
              "      <td>nan</td>\n",
              "      <td>nan</td>\n",
              "      <td>NaT</td>\n",
              "      <td>nan</td>\n",
              "      <td>NaN</td>\n",
              "      <td>nan</td>\n",
              "      <td>nan</td>\n",
              "      <td>NaN</td>\n",
              "      <td>nan</td>\n",
              "      <td>1</td>\n",
              "    </tr>\n",
              "    <tr>\n",
              "      <th>1</th>\n",
              "      <td>وزارة الدفاع والجهات الأمنية</td>\n",
              "      <td>الادارة العامة للخدمات الطبية للقوات المسلحة</td>\n",
              "      <td>الاعداد والتهيئة</td>\n",
              "      <td>التواصل مع الجهة لتحديد موعد للاجتماع</td>\n",
              "      <td>0.00</td>\n",
              "      <td>0.50</td>\n",
              "      <td>Activity</td>\n",
              "      <td>2018-07-31</td>\n",
              "      <td>2018-07-31</td>\n",
              "      <td>-</td>\n",
              "      <td>True</td>\n",
              "      <td>نعم</td>\n",
              "      <td>nan</td>\n",
              "      <td>nan</td>\n",
              "      <td>nan</td>\n",
              "      <td>nan</td>\n",
              "      <td>nan</td>\n",
              "      <td>NaT</td>\n",
              "      <td>nan</td>\n",
              "      <td>NaN</td>\n",
              "      <td>nan</td>\n",
              "      <td>nan</td>\n",
              "      <td>NaN</td>\n",
              "      <td>nan</td>\n",
              "      <td>2</td>\n",
              "    </tr>\n",
              "    <tr>\n",
              "      <th>2</th>\n",
              "      <td>وزارة الدفاع والجهات الأمنية</td>\n",
              "      <td>الادارة العامة للخدمات الطبية للقوات المسلحة</td>\n",
              "      <td>الاعداد والتهيئة</td>\n",
              "      <td>اجتماع الاطلاق مع الجهة</td>\n",
              "      <td>0.00</td>\n",
              "      <td>nan</td>\n",
              "      <td>Milestone</td>\n",
              "      <td>2018-07-31</td>\n",
              "      <td>2018-07-31</td>\n",
              "      <td>محضر الاجتماع مع الجهة</td>\n",
              "      <td>True</td>\n",
              "      <td>لا</td>\n",
              "      <td>nan</td>\n",
              "      <td>nan</td>\n",
              "      <td>nan</td>\n",
              "      <td>nan</td>\n",
              "      <td>nan</td>\n",
              "      <td>NaT</td>\n",
              "      <td>nan</td>\n",
              "      <td>NaN</td>\n",
              "      <td>nan</td>\n",
              "      <td>nan</td>\n",
              "      <td>NaN</td>\n",
              "      <td>nan</td>\n",
              "      <td>3</td>\n",
              "    </tr>\n",
              "    <tr>\n",
              "      <th>3</th>\n",
              "      <td>وزارة الدفاع والجهات الأمنية</td>\n",
              "      <td>الادارة العامة للخدمات الطبية للقوات المسلحة</td>\n",
              "      <td>الاعداد والتهيئة</td>\n",
              "      <td>الإجابة عن استفسارات الجهة</td>\n",
              "      <td>0.00</td>\n",
              "      <td>0.50</td>\n",
              "      <td>Activity</td>\n",
              "      <td>2018-07-31</td>\n",
              "      <td>2018-07-31</td>\n",
              "      <td>-</td>\n",
              "      <td>True</td>\n",
              "      <td>لا</td>\n",
              "      <td>nan</td>\n",
              "      <td>nan</td>\n",
              "      <td>nan</td>\n",
              "      <td>nan</td>\n",
              "      <td>nan</td>\n",
              "      <td>NaT</td>\n",
              "      <td>nan</td>\n",
              "      <td>NaN</td>\n",
              "      <td>nan</td>\n",
              "      <td>nan</td>\n",
              "      <td>NaN</td>\n",
              "      <td>nan</td>\n",
              "      <td>4</td>\n",
              "    </tr>\n",
              "    <tr>\n",
              "      <th>4</th>\n",
              "      <td>وزارة الدفاع والجهات الأمنية</td>\n",
              "      <td>الادارة العامة للخدمات الطبية للقوات المسلحة</td>\n",
              "      <td>الاعداد والتهيئة</td>\n",
              "      <td>الانتهاء من الإجابة عن استفسارات الجهة</td>\n",
              "      <td>0.00</td>\n",
              "      <td>nan</td>\n",
              "      <td>Milestone</td>\n",
              "      <td>2018-07-31</td>\n",
              "      <td>2018-07-31</td>\n",
              "      <td>محضر الاجتماع مع الجهة</td>\n",
              "      <td>True</td>\n",
              "      <td>لا</td>\n",
              "      <td>nan</td>\n",
              "      <td>nan</td>\n",
              "      <td>nan</td>\n",
              "      <td>nan</td>\n",
              "      <td>nan</td>\n",
              "      <td>NaT</td>\n",
              "      <td>nan</td>\n",
              "      <td>NaN</td>\n",
              "      <td>nan</td>\n",
              "      <td>nan</td>\n",
              "      <td>NaN</td>\n",
              "      <td>nan</td>\n",
              "      <td>5</td>\n",
              "    </tr>\n",
              "  </tbody>\n",
              "</table>\n",
              "</div>"
            ],
            "text/plain": [
              "                        المجموعة  ... مسلسل\n",
              "0  وزارة الدفاع والجهات الأمنية   ...     1\n",
              "1  وزارة الدفاع والجهات الأمنية   ...     2\n",
              "2  وزارة الدفاع والجهات الأمنية   ...     3\n",
              "3  وزارة الدفاع والجهات الأمنية   ...     4\n",
              "4  وزارة الدفاع والجهات الأمنية   ...     5\n",
              "\n",
              "[5 rows x 25 columns]"
            ]
          },
          "metadata": {
            "tags": []
          },
          "execution_count": 34
        }
      ]
    },
    {
      "cell_type": "code",
      "metadata": {
        "id": "VXB9SdA5t1zI"
      },
      "source": [
        "# better to replace arabic names by english ones\n",
        "df_mod.columns = ['Group' , 'Holder_name' , 'Initiative_name' , 'Main_activity' , 'Period' , 'Period_%_of_initiative', 'Activity','Planned_start' , 'Planned_end' , 'Expected_output' , 'Started?',\n",
        "       'Completed', 'Varience', 'Planned', 'Actual', 'Origin_Budget',\n",
        "       'Awarded_Budget', 'Outputs_Planned_Due_Date', 'Outputs_Due_Amount',\n",
        "       'Outputs_Due', 'Planned_Budget', 'Actual_Payments', 'Budget_Varience',\n",
        "       'Budget_Remaining', 'مسلسل']"
      ],
      "execution_count": 35,
      "outputs": []
    },
    {
      "cell_type": "code",
      "metadata": {
        "id": "FJiseyQd0tjL",
        "outputId": "a473be48-f8d7-4ad9-bbda-29568f70a848",
        "colab": {
          "base_uri": "https://localhost:8080/",
          "height": 17
        }
      },
      "source": [
        "\n",
        "from IPython.display import HTML\n",
        "display(HTML('''\n",
        "<style>\n",
        "  pre {\n",
        "      white-space: normal;\n",
        "  }\n",
        "</style>\n",
        "'''))"
      ],
      "execution_count": 36,
      "outputs": [
        {
          "output_type": "display_data",
          "data": {
            "text/html": [
              "\n",
              "<style>\n",
              "  pre {\n",
              "      white-space: normal;\n",
              "  }\n",
              "</style>\n"
            ],
            "text/plain": [
              "<IPython.core.display.HTML object>"
            ]
          },
          "metadata": {
            "tags": []
          }
        }
      ]
    },
    {
      "cell_type": "code",
      "metadata": {
        "id": "UfhKW2OGBaqd"
      },
      "source": [
        "# Calculating column for Phase name\n",
        "new_var=[]\n",
        "for i in range(len(df_mod))  :\n",
        "  if df_mod['Activity'] [i] in('Phase','Initiative')  : new_var.append(df_mod['Main_activity'][i])\n",
        "  else : new_var.append(np.nan)\n"
      ],
      "execution_count": 37,
      "outputs": []
    },
    {
      "cell_type": "code",
      "metadata": {
        "id": "ws5h24pDBavk"
      },
      "source": [
        "df_mod['phase'] = new_var"
      ],
      "execution_count": 38,
      "outputs": []
    },
    {
      "cell_type": "code",
      "metadata": {
        "id": "Mq8XNaIdVFPp"
      },
      "source": [
        "df_mod['phase']=df_mod['phase'].ffill()"
      ],
      "execution_count": 39,
      "outputs": []
    },
    {
      "cell_type": "code",
      "metadata": {
        "id": "N9SCJExPVKcg"
      },
      "source": [
        "# calculating field for percentage between awarded and origin budget\n",
        "df_mod['awarded_pct'] = df_mod['Awarded_Budget']/df_mod['Origin_Budget']"
      ],
      "execution_count": 40,
      "outputs": []
    },
    {
      "cell_type": "code",
      "metadata": {
        "id": "hA1-3Rjjp8DQ",
        "outputId": "02bbf6ce-5f4d-4268-a465-3f030ea0469c",
        "colab": {
          "base_uri": "https://localhost:8080/",
          "height": 595
        }
      },
      "source": [
        "df_mod.info()"
      ],
      "execution_count": 41,
      "outputs": [
        {
          "output_type": "stream",
          "text": [
            "<class 'pandas.core.frame.DataFrame'>\n",
            "Int64Index: 43019 entries, 0 to 43018\n",
            "Data columns (total 27 columns):\n",
            " #   Column                    Non-Null Count  Dtype         \n",
            "---  ------                    --------------  -----         \n",
            " 0   Group                     43019 non-null  object        \n",
            " 1   Holder_name               43019 non-null  object        \n",
            " 2   Initiative_name           43019 non-null  object        \n",
            " 3   Main_activity             43019 non-null  object        \n",
            " 4   Period                    43019 non-null  float64       \n",
            " 5   Period_%_of_initiative    27290 non-null  float64       \n",
            " 6   Activity                  43019 non-null  object        \n",
            " 7   Planned_start             43019 non-null  datetime64[ns]\n",
            " 8   Planned_end               43019 non-null  datetime64[ns]\n",
            " 9   Expected_output           37599 non-null  object        \n",
            " 10  Started?                  40446 non-null  object        \n",
            " 11  Completed                 43019 non-null  object        \n",
            " 12  Varience                  4112 non-null   float64       \n",
            " 13  Planned                   4112 non-null   float64       \n",
            " 14  Actual                    4112 non-null   float64       \n",
            " 15  Origin_Budget             769 non-null    float64       \n",
            " 16  Awarded_Budget            769 non-null    float64       \n",
            " 17  Outputs_Planned_Due_Date  7393 non-null   datetime64[ns]\n",
            " 18  Outputs_Due_Amount        9966 non-null   float64       \n",
            " 19  Outputs_Due               35833 non-null  object        \n",
            " 20  Planned_Budget            3342 non-null   float64       \n",
            " 21  Actual_Payments           6174 non-null   float64       \n",
            " 22  Budget_Varience           2999 non-null   object        \n",
            " 23  Budget_Remaining          3342 non-null   float64       \n",
            " 24  مسلسل                     43019 non-null  int64         \n",
            " 25  phase                     43019 non-null  object        \n",
            " 26  awarded_pct               769 non-null    float64       \n",
            "dtypes: datetime64[ns](3), float64(12), int64(1), object(11)\n",
            "memory usage: 10.4+ MB\n"
          ],
          "name": "stdout"
        }
      ]
    },
    {
      "cell_type": "markdown",
      "metadata": {
        "id": "z4003jHRPnsQ"
      },
      "source": [
        "we notice here that budget variance , despite numeric field , stored as object , this is due to the value '-'"
      ]
    },
    {
      "cell_type": "code",
      "metadata": {
        "id": "YZ8DJTMjAzjE"
      },
      "source": [
        "# replacing '-' value\n",
        "df_mod['Budget_Varience'] = np.where(df_mod['Budget_Varience']=='-', np.nan , df_mod['Budget_Varience'])"
      ],
      "execution_count": 42,
      "outputs": []
    },
    {
      "cell_type": "code",
      "metadata": {
        "id": "TdneJAQuAzbA"
      },
      "source": [
        "# making sure that budget variance stored oncorrect data type\n",
        "df_mod['Budget_Varience'] = df_mod['Budget_Varience'].astype('float')"
      ],
      "execution_count": 43,
      "outputs": []
    },
    {
      "cell_type": "code",
      "metadata": {
        "id": "kvpFJodwCRsh"
      },
      "source": [
        "# making sure that Actual and planned target does not exceed 1 (100%)\n",
        "\n",
        "df_mod.loc[(df_mod['Actual'] > 1 ), 'Actual'] = 1"
      ],
      "execution_count": 44,
      "outputs": []
    },
    {
      "cell_type": "code",
      "metadata": {
        "id": "zQbytDRWCdvJ"
      },
      "source": [
        "df_mod.loc[(df_mod['Planned'] > 1 ), 'Planned'] = 1"
      ],
      "execution_count": 45,
      "outputs": []
    },
    {
      "cell_type": "code",
      "metadata": {
        "id": "5-paGKpZ_r5g",
        "outputId": "7d497e1e-9e51-410b-83f5-061cbf8fcac9",
        "colab": {
          "base_uri": "https://localhost:8080/",
          "height": 317
        }
      },
      "source": [
        "# Having quick dicriptive statistics\n",
        "df_mod.describe()"
      ],
      "execution_count": 46,
      "outputs": [
        {
          "output_type": "execute_result",
          "data": {
            "text/html": [
              "<div>\n",
              "<style scoped>\n",
              "    .dataframe tbody tr th:only-of-type {\n",
              "        vertical-align: middle;\n",
              "    }\n",
              "\n",
              "    .dataframe tbody tr th {\n",
              "        vertical-align: top;\n",
              "    }\n",
              "\n",
              "    .dataframe thead th {\n",
              "        text-align: right;\n",
              "    }\n",
              "</style>\n",
              "<table border=\"1\" class=\"dataframe\">\n",
              "  <thead>\n",
              "    <tr style=\"text-align: right;\">\n",
              "      <th></th>\n",
              "      <th>Period</th>\n",
              "      <th>Period_%_of_initiative</th>\n",
              "      <th>Varience</th>\n",
              "      <th>Planned</th>\n",
              "      <th>Actual</th>\n",
              "      <th>Origin_Budget</th>\n",
              "      <th>Awarded_Budget</th>\n",
              "      <th>Outputs_Due_Amount</th>\n",
              "      <th>Planned_Budget</th>\n",
              "      <th>Actual_Payments</th>\n",
              "      <th>Budget_Varience</th>\n",
              "      <th>Budget_Remaining</th>\n",
              "      <th>مسلسل</th>\n",
              "      <th>awarded_pct</th>\n",
              "    </tr>\n",
              "  </thead>\n",
              "  <tbody>\n",
              "    <tr>\n",
              "      <th>count</th>\n",
              "      <td>43019.00</td>\n",
              "      <td>27290.00</td>\n",
              "      <td>4112.00</td>\n",
              "      <td>4112.00</td>\n",
              "      <td>4112.00</td>\n",
              "      <td>769.00</td>\n",
              "      <td>769.00</td>\n",
              "      <td>9966.00</td>\n",
              "      <td>3342.00</td>\n",
              "      <td>6174.00</td>\n",
              "      <td>1599.00</td>\n",
              "      <td>3342.00</td>\n",
              "      <td>43019.00</td>\n",
              "      <td>769.00</td>\n",
              "    </tr>\n",
              "    <tr>\n",
              "      <th>mean</th>\n",
              "      <td>0.65</td>\n",
              "      <td>1.03</td>\n",
              "      <td>0.06</td>\n",
              "      <td>0.29</td>\n",
              "      <td>0.22</td>\n",
              "      <td>55067398.70</td>\n",
              "      <td>44210399.13</td>\n",
              "      <td>6692662.32</td>\n",
              "      <td>13932300.13</td>\n",
              "      <td>6388488.94</td>\n",
              "      <td>-0.05</td>\n",
              "      <td>6064250.92</td>\n",
              "      <td>21510.00</td>\n",
              "      <td>0.80</td>\n",
              "    </tr>\n",
              "    <tr>\n",
              "      <th>std</th>\n",
              "      <td>1.76</td>\n",
              "      <td>4.94</td>\n",
              "      <td>0.15</td>\n",
              "      <td>0.38</td>\n",
              "      <td>0.32</td>\n",
              "      <td>8833741.86</td>\n",
              "      <td>7972133.08</td>\n",
              "      <td>8631886.17</td>\n",
              "      <td>17738440.78</td>\n",
              "      <td>9483529.79</td>\n",
              "      <td>0.03</td>\n",
              "      <td>14203576.50</td>\n",
              "      <td>12418.66</td>\n",
              "      <td>0.06</td>\n",
              "    </tr>\n",
              "    <tr>\n",
              "      <th>min</th>\n",
              "      <td>0.00</td>\n",
              "      <td>0.00</td>\n",
              "      <td>-0.25</td>\n",
              "      <td>0.00</td>\n",
              "      <td>0.00</td>\n",
              "      <td>40027571.00</td>\n",
              "      <td>28760574.21</td>\n",
              "      <td>0.00</td>\n",
              "      <td>0.00</td>\n",
              "      <td>0.00</td>\n",
              "      <td>-0.20</td>\n",
              "      <td>-17032449.79</td>\n",
              "      <td>1.00</td>\n",
              "      <td>0.70</td>\n",
              "    </tr>\n",
              "    <tr>\n",
              "      <th>25%</th>\n",
              "      <td>0.00</td>\n",
              "      <td>0.05</td>\n",
              "      <td>0.00</td>\n",
              "      <td>0.00</td>\n",
              "      <td>0.00</td>\n",
              "      <td>47390534.00</td>\n",
              "      <td>37663300.92</td>\n",
              "      <td>2081804.17</td>\n",
              "      <td>0.00</td>\n",
              "      <td>0.00</td>\n",
              "      <td>-0.07</td>\n",
              "      <td>0.00</td>\n",
              "      <td>10755.50</td>\n",
              "      <td>0.75</td>\n",
              "    </tr>\n",
              "    <tr>\n",
              "      <th>50%</th>\n",
              "      <td>0.02</td>\n",
              "      <td>0.10</td>\n",
              "      <td>0.00</td>\n",
              "      <td>0.07</td>\n",
              "      <td>0.05</td>\n",
              "      <td>55000425.00</td>\n",
              "      <td>44155086.64</td>\n",
              "      <td>3050647.96</td>\n",
              "      <td>4192110.53</td>\n",
              "      <td>2994396.34</td>\n",
              "      <td>-0.05</td>\n",
              "      <td>174886.40</td>\n",
              "      <td>21510.00</td>\n",
              "      <td>0.80</td>\n",
              "    </tr>\n",
              "    <tr>\n",
              "      <th>75%</th>\n",
              "      <td>0.75</td>\n",
              "      <td>0.25</td>\n",
              "      <td>0.04</td>\n",
              "      <td>0.42</td>\n",
              "      <td>0.33</td>\n",
              "      <td>63089998.00</td>\n",
              "      <td>50403368.70</td>\n",
              "      <td>7607548.51</td>\n",
              "      <td>25250319.08</td>\n",
              "      <td>7377090.72</td>\n",
              "      <td>-0.04</td>\n",
              "      <td>1402532.98</td>\n",
              "      <td>32264.50</td>\n",
              "      <td>0.85</td>\n",
              "    </tr>\n",
              "    <tr>\n",
              "      <th>max</th>\n",
              "      <td>30.00</td>\n",
              "      <td>30.00</td>\n",
              "      <td>1.00</td>\n",
              "      <td>1.00</td>\n",
              "      <td>1.00</td>\n",
              "      <td>69990205.00</td>\n",
              "      <td>62408266.20</td>\n",
              "      <td>60526032.24</td>\n",
              "      <td>61717737.97</td>\n",
              "      <td>58109022.02</td>\n",
              "      <td>0.00</td>\n",
              "      <td>61717737.97</td>\n",
              "      <td>43019.00</td>\n",
              "      <td>0.90</td>\n",
              "    </tr>\n",
              "  </tbody>\n",
              "</table>\n",
              "</div>"
            ],
            "text/plain": [
              "        Period  Period_%_of_initiative  ...    مسلسل  awarded_pct\n",
              "count 43019.00                27290.00  ... 43019.00       769.00\n",
              "mean      0.65                    1.03  ... 21510.00         0.80\n",
              "std       1.76                    4.94  ... 12418.66         0.06\n",
              "min       0.00                    0.00  ...     1.00         0.70\n",
              "25%       0.00                    0.05  ... 10755.50         0.75\n",
              "50%       0.02                    0.10  ... 21510.00         0.80\n",
              "75%       0.75                    0.25  ... 32264.50         0.85\n",
              "max      30.00                   30.00  ... 43019.00         0.90\n",
              "\n",
              "[8 rows x 14 columns]"
            ]
          },
          "metadata": {
            "tags": []
          },
          "execution_count": 46
        }
      ]
    },
    {
      "cell_type": "code",
      "metadata": {
        "id": "pdKnyWw-Eg2d"
      },
      "source": [
        ""
      ],
      "execution_count": 46,
      "outputs": []
    },
    {
      "cell_type": "code",
      "metadata": {
        "id": "BjXN8JNSxJkK"
      },
      "source": [
        "\n",
        "#generating 'Status' (our predicted field)\n",
        "\n",
        "df_mod.loc[((df_mod['Activity'] == 'Phase')| (df_mod['Activity'] == 'Initiative')) &(df_mod ['Varience'] < 0.05 ), 'Status'] = \"على المسار\"\n",
        "df_mod.loc[((df_mod['Activity'] == 'Phase')| (df_mod['Activity'] == 'Initiative')) &(df_mod ['Varience'] >= 0.05) & (df_mod ['Varience'] <=0.14) , 'Status'] = \"متأخر\"\n",
        "\n",
        "df_mod.loc[ ((df_mod['Activity'] == 'Phase')| (df_mod['Activity'] == 'Initiative')) & (df_mod ['Varience'] > 0.14) , 'Status'] = \"متأخر جدا\"\n",
        "df_mod.loc[ ((df_mod['Activity'] == 'Initiative')) & (df_mod ['Started?']==\"لم تبدأ\") , 'Status'] = \"لم تبدأ\"\n",
        "df_mod.loc[ ((df_mod['Activity'] == 'Phase')) & (df_mod ['Completed'] ==\"لم تبدأ\") , 'Status'] = \"لم تبدأ\"\n",
        "\n"
      ],
      "execution_count": 47,
      "outputs": []
    },
    {
      "cell_type": "markdown",
      "metadata": {
        "id": "bdnSysQGRnES"
      },
      "source": [
        "### Since we will make our predictions on the level of initiative , we have 2 steps\n",
        "\n",
        "#### 1 - On the level of initiatives : we get main characteristics that are relative to initiative status and check interactions , relationship among them , and betweeneach one and our target(Status)\n",
        "\n",
        "#### 2 - On the level of phases : we get main characteristics of each phase under each initiative (like status , number of activities , number of outputs , budget characteristics)"
      ]
    },
    {
      "cell_type": "markdown",
      "metadata": {
        "id": "qcqS4YpddVz8"
      },
      "source": [
        "## A - On the level of initiatives "
      ]
    },
    {
      "cell_type": "code",
      "metadata": {
        "id": "zdLlswljEXSf"
      },
      "source": [
        "# Getting dataset for relevant fields for each initiative\n",
        "df_initiative=df_mod.loc[df_mod['Activity']=='Initiative' ,['Group' , 'Holder_name' , 'Initiative_name' , 'Main_activity' , 'Period' , 'Planned_start' , 'Planned_end' ,  'Varience', 'Planned', 'Actual',  'Origin_Budget',\n",
        "       'Awarded_Budget' ,'Actual_Payments', 'Budget_Varience', 'Budget_Remaining' ,'awarded_pct' ,'Status']]"
      ],
      "execution_count": 48,
      "outputs": []
    },
    {
      "cell_type": "code",
      "metadata": {
        "id": "nSq_baWoZyiq",
        "outputId": "959d1142-2ca0-472b-d259-0b17b42a3b8c",
        "colab": {
          "base_uri": "https://localhost:8080/",
          "height": 419
        }
      },
      "source": [
        "# getting number of phases for each initiative\n",
        "df_mod.groupby(['Group' , 'Holder_name' , 'Initiative_name'])['Activity'].apply(lambda x: (x=='Phase').sum()).reset_index(name='number_of_phases')"
      ],
      "execution_count": 49,
      "outputs": [
        {
          "output_type": "execute_result",
          "data": {
            "text/html": [
              "<div>\n",
              "<style scoped>\n",
              "    .dataframe tbody tr th:only-of-type {\n",
              "        vertical-align: middle;\n",
              "    }\n",
              "\n",
              "    .dataframe tbody tr th {\n",
              "        vertical-align: top;\n",
              "    }\n",
              "\n",
              "    .dataframe thead th {\n",
              "        text-align: right;\n",
              "    }\n",
              "</style>\n",
              "<table border=\"1\" class=\"dataframe\">\n",
              "  <thead>\n",
              "    <tr style=\"text-align: right;\">\n",
              "      <th></th>\n",
              "      <th>Group</th>\n",
              "      <th>Holder_name</th>\n",
              "      <th>Initiative_name</th>\n",
              "      <th>number_of_phases</th>\n",
              "    </tr>\n",
              "  </thead>\n",
              "  <tbody>\n",
              "    <tr>\n",
              "      <th>0</th>\n",
              "      <td>المجموعة الأولى</td>\n",
              "      <td>إدارة الأقتراض الحكومي</td>\n",
              "      <td>الاعداد والتهيئة</td>\n",
              "      <td>0</td>\n",
              "    </tr>\n",
              "    <tr>\n",
              "      <th>1</th>\n",
              "      <td>المجموعة الأولى</td>\n",
              "      <td>إدارة الأقتراض الحكومي</td>\n",
              "      <td>طرح كراسة اعداد الأرصدة الافتتاحية ومسك الحسابات</td>\n",
              "      <td>0</td>\n",
              "    </tr>\n",
              "    <tr>\n",
              "      <th>2</th>\n",
              "      <td>المجموعة الأولى</td>\n",
              "      <td>إدارة الأقتراض الحكومي</td>\n",
              "      <td>طرح كراسة تنفيذ الخصائص التقنية والفنية للنظام...</td>\n",
              "      <td>0</td>\n",
              "    </tr>\n",
              "    <tr>\n",
              "      <th>3</th>\n",
              "      <td>المجموعة الأولى</td>\n",
              "      <td>إدارة الأقتراض الحكومي</td>\n",
              "      <td>طرح كراسة مراجعة القوائم المالية  للجهة الحكوميّة</td>\n",
              "      <td>0</td>\n",
              "    </tr>\n",
              "    <tr>\n",
              "      <th>4</th>\n",
              "      <td>المجموعة الأولى</td>\n",
              "      <td>إدارة الأقتراض الحكومي</td>\n",
              "      <td>مبادرة اعداد الأرصدة الافتتاحية</td>\n",
              "      <td>2</td>\n",
              "    </tr>\n",
              "    <tr>\n",
              "      <th>...</th>\n",
              "      <td>...</td>\n",
              "      <td>...</td>\n",
              "      <td>...</td>\n",
              "      <td>...</td>\n",
              "    </tr>\n",
              "    <tr>\n",
              "      <th>1534</th>\n",
              "      <td>وزراة الشؤون البلدية والقروية</td>\n",
              "      <td>وزراة الشؤون البلدية والقروية</td>\n",
              "      <td>طرح كراسة مراجعة القوائم المالية  للجهة الحكوميّة</td>\n",
              "      <td>0</td>\n",
              "    </tr>\n",
              "    <tr>\n",
              "      <th>1535</th>\n",
              "      <td>وزراة الشؤون البلدية والقروية</td>\n",
              "      <td>وزراة الشؤون البلدية والقروية</td>\n",
              "      <td>مبادرة اعداد الأرصدة الافتتاحية</td>\n",
              "      <td>2</td>\n",
              "    </tr>\n",
              "    <tr>\n",
              "      <th>1536</th>\n",
              "      <td>وزراة الشؤون البلدية والقروية</td>\n",
              "      <td>وزراة الشؤون البلدية والقروية</td>\n",
              "      <td>مبادرة تنفيذ الخصائص التقنية والمواصفات الفنية...</td>\n",
              "      <td>7</td>\n",
              "    </tr>\n",
              "    <tr>\n",
              "      <th>1537</th>\n",
              "      <td>وزراة الشؤون البلدية والقروية</td>\n",
              "      <td>وزراة الشؤون البلدية والقروية</td>\n",
              "      <td>مبادرة مراجعة القوائم المالية للجهة الحكومية</td>\n",
              "      <td>2</td>\n",
              "    </tr>\n",
              "    <tr>\n",
              "      <th>1538</th>\n",
              "      <td>وزراة الشؤون البلدية والقروية</td>\n",
              "      <td>وزراة الشؤون البلدية والقروية</td>\n",
              "      <td>مسك السجلات المحاسبية</td>\n",
              "      <td>3</td>\n",
              "    </tr>\n",
              "  </tbody>\n",
              "</table>\n",
              "<p>1539 rows × 4 columns</p>\n",
              "</div>"
            ],
            "text/plain": [
              "                               Group  ... number_of_phases\n",
              "0                    المجموعة الأولى  ...                0\n",
              "1                    المجموعة الأولى  ...                0\n",
              "2                    المجموعة الأولى  ...                0\n",
              "3                    المجموعة الأولى  ...                0\n",
              "4                    المجموعة الأولى  ...                2\n",
              "...                              ...  ...              ...\n",
              "1534  وزراة الشؤون البلدية والقروية   ...                0\n",
              "1535  وزراة الشؤون البلدية والقروية   ...                2\n",
              "1536  وزراة الشؤون البلدية والقروية   ...                7\n",
              "1537  وزراة الشؤون البلدية والقروية   ...                2\n",
              "1538  وزراة الشؤون البلدية والقروية   ...                3\n",
              "\n",
              "[1539 rows x 4 columns]"
            ]
          },
          "metadata": {
            "tags": []
          },
          "execution_count": 49
        }
      ]
    },
    {
      "cell_type": "code",
      "metadata": {
        "id": "R__qXroFfm-y"
      },
      "source": [
        "\n",
        "df_initiative = df_initiative.merge(df_mod.groupby(['Group' , 'Holder_name' , 'Initiative_name'])['Activity'].apply(lambda x: (x=='Phase').sum()).reset_index(name='number_of_phases'),how='left' , on = ['Group' , 'Holder_name' , 'Initiative_name'])"
      ],
      "execution_count": 50,
      "outputs": []
    },
    {
      "cell_type": "markdown",
      "metadata": {
        "id": "QcUv8HS3VmHh"
      },
      "source": [
        "### Our object now is to predict the status of initiatives that not started yet after they all end "
      ]
    },
    {
      "cell_type": "markdown",
      "metadata": {
        "id": "KE1jMrtoT-Sj"
      },
      "source": [
        "Since status of each initiative is affected by time , i.e we can not compare status of an initiative started just yesterday and another started months ago.\n",
        "\n",
        "we have 2 cases :\n",
        "\n",
        "  1- initiatives already in action . we calculate months spent since it started till(30-4-2020) so we will use that to predict performance of initiatives after spend.\n",
        "\n",
        "\n",
        "  2- initiatives not started yet : these are our target , so we wil predict its performance at the last day whenall of them ends."
      ]
    },
    {
      "cell_type": "code",
      "metadata": {
        "id": "uRE9wNAv9J2d",
        "outputId": "255c7df3-85dd-4305-8c9f-e733ca2031ba",
        "colab": {
          "base_uri": "https://localhost:8080/",
          "height": 34
        }
      },
      "source": [
        "# getting the date when all initiatives end\n",
        "df_initiative['Planned_end'].max()"
      ],
      "execution_count": 51,
      "outputs": [
        {
          "output_type": "execute_result",
          "data": {
            "text/plain": [
              "Timestamp('2022-10-30 00:00:00')"
            ]
          },
          "metadata": {
            "tags": []
          },
          "execution_count": 51
        }
      ]
    },
    {
      "cell_type": "code",
      "metadata": {
        "id": "i7stHrFc681x"
      },
      "source": [
        "# computing number of months since initiative started \n",
        "df_initiative['since'] = np.where( df_initiative['Status'] != \"لم تبدأ\" ,  datetime.strptime('2020-04-30', '%Y-%m-%d' ) - df_initiative['Planned_start'] ,  datetime.strptime('2022-10-30', '%Y-%m-%d' ) - df_initiative['Planned_start'] )"
      ],
      "execution_count": 52,
      "outputs": []
    },
    {
      "cell_type": "code",
      "metadata": {
        "id": "ssX4fhkA1KiZ"
      },
      "source": [
        ""
      ],
      "execution_count": 52,
      "outputs": []
    },
    {
      "cell_type": "code",
      "metadata": {
        "id": "hjBubEmX_8AZ"
      },
      "source": [
        "df_initiative['since']= ((df_initiative['since'] / np.timedelta64(1, 'D'))/30).astype(int)"
      ],
      "execution_count": 53,
      "outputs": []
    },
    {
      "cell_type": "markdown",
      "metadata": {
        "id": "lskkh1bXXnFY"
      },
      "source": [
        "### Now , let's explore some features of initiatives"
      ]
    },
    {
      "cell_type": "markdown",
      "metadata": {
        "id": "VqlniNcJXxUs"
      },
      "source": [
        "#### We explore our target variable (Status) across initiatives"
      ]
    },
    {
      "cell_type": "code",
      "metadata": {
        "id": "cUtJJOYlzneW"
      },
      "source": [
        "Intiiative_status=df_initiative['Status'].value_counts()"
      ],
      "execution_count": 54,
      "outputs": []
    },
    {
      "cell_type": "code",
      "metadata": {
        "id": "i0R6pobTBfXq"
      },
      "source": [
        "x=[]\n",
        "for i in Intiiative_status.index: \n",
        "  i = get_display(arabic_reshaper.reshape(i))\n",
        "  x.append(i)"
      ],
      "execution_count": 55,
      "outputs": []
    },
    {
      "cell_type": "code",
      "metadata": {
        "id": "9USkj_0rzxAX"
      },
      "source": [
        "Intiiative_status.index=x"
      ],
      "execution_count": 56,
      "outputs": []
    },
    {
      "cell_type": "code",
      "metadata": {
        "id": "inXwOzKOBmub"
      },
      "source": [
        "colors =['#2A9FA5','#E15759' ,'#69B450' , '#F28E2B']\n"
      ],
      "execution_count": 57,
      "outputs": []
    },
    {
      "cell_type": "code",
      "metadata": {
        "id": "SylPGascBe2h"
      },
      "source": [
        "import matplotlib.pyplot as plt\n"
      ],
      "execution_count": 58,
      "outputs": []
    },
    {
      "cell_type": "code",
      "metadata": {
        "id": "ohVZXAnHBMm7"
      },
      "source": [
        "def func(pct, allvals):\n",
        "    absolute = int(pct/100.*np.sum(allvals))\n",
        "    return absolute"
      ],
      "execution_count": 59,
      "outputs": []
    },
    {
      "cell_type": "code",
      "metadata": {
        "id": "46H32VBUA-3N",
        "outputId": "afea9c51-f063-4ade-ea2c-756a4da42f80",
        "colab": {
          "base_uri": "https://localhost:8080/",
          "height": 415
        }
      },
      "source": [
        "\n",
        "plt.pie(Intiiative_status, labels=Intiiative_status.index, colors=colors , autopct=lambda pct: func(pct, Intiiative_status)\n",
        "        , shadow=False)\n",
        "        \n",
        "#draw a circle at the center of pie to make it look like a donut\n",
        "centre_circle = plt.Circle((0,0),0.70,color='white', fc='white')\n",
        "fig = plt.gcf( )\n",
        "fig.set_size_inches(10,7) \n",
        "fig.gca().add_artist(centre_circle)\n",
        "\n",
        "\n",
        "plt.axis('equal')\n",
        "plt.show()  \n",
        "\n"
      ],
      "execution_count": 60,
      "outputs": [
        {
          "output_type": "display_data",
          "data": {
            "image/png": "[encoded data removed]",
            "text/plain": [
              "<Figure size 720x504 with 1 Axes>"
            ]
          },
          "metadata": {
            "tags": []
          }
        }
      ]
    },
    {
      "cell_type": "markdown",
      "metadata": {
        "id": "X3MEupeBX9L7"
      },
      "source": [
        "#### Then we explore average percentage of planned per initiative"
      ]
    },
    {
      "cell_type": "code",
      "metadata": {
        "id": "MI2rwk3BsdTG"
      },
      "source": [
        "planned_initiative=pd.DataFrame(df_initiative.loc[df_initiative['Status']!=  'لم تبدأ' , :].groupby(['Status'])['Planned'].mean())"
      ],
      "execution_count": 61,
      "outputs": []
    },
    {
      "cell_type": "code",
      "metadata": {
        "id": "P9FSWjvnAsZ9",
        "outputId": "0cd51c91-5d45-45bc-d785-471c32dfd39a",
        "colab": {
          "base_uri": "https://localhost:8080/",
          "height": 173
        }
      },
      "source": [
        "planned_initiative"
      ],
      "execution_count": 62,
      "outputs": [
        {
          "output_type": "execute_result",
          "data": {
            "text/html": [
              "<div>\n",
              "<style scoped>\n",
              "    .dataframe tbody tr th:only-of-type {\n",
              "        vertical-align: middle;\n",
              "    }\n",
              "\n",
              "    .dataframe tbody tr th {\n",
              "        vertical-align: top;\n",
              "    }\n",
              "\n",
              "    .dataframe thead th {\n",
              "        text-align: right;\n",
              "    }\n",
              "</style>\n",
              "<table border=\"1\" class=\"dataframe\">\n",
              "  <thead>\n",
              "    <tr style=\"text-align: right;\">\n",
              "      <th></th>\n",
              "      <th>Planned</th>\n",
              "    </tr>\n",
              "    <tr>\n",
              "      <th>Status</th>\n",
              "      <th></th>\n",
              "    </tr>\n",
              "  </thead>\n",
              "  <tbody>\n",
              "    <tr>\n",
              "      <th>على المسار</th>\n",
              "      <td>0.70</td>\n",
              "    </tr>\n",
              "    <tr>\n",
              "      <th>متأخر</th>\n",
              "      <td>0.74</td>\n",
              "    </tr>\n",
              "    <tr>\n",
              "      <th>متأخر جدا</th>\n",
              "      <td>0.95</td>\n",
              "    </tr>\n",
              "  </tbody>\n",
              "</table>\n",
              "</div>"
            ],
            "text/plain": [
              "            Planned\n",
              "Status             \n",
              "على المسار     0.70\n",
              "متأخر          0.74\n",
              "متأخر جدا      0.95"
            ]
          },
          "metadata": {
            "tags": []
          },
          "execution_count": 62
        }
      ]
    },
    {
      "cell_type": "code",
      "metadata": {
        "id": "1nIFqWgKp-Eq"
      },
      "source": [
        ""
      ],
      "execution_count": 62,
      "outputs": []
    },
    {
      "cell_type": "code",
      "metadata": {
        "id": "0U31ddUip-au"
      },
      "source": [
        "x=[]\n",
        "for i in planned_initiative.index: \n",
        "  i = get_display(arabic_reshaper.reshape(i))\n",
        "  x.append(i)"
      ],
      "execution_count": 63,
      "outputs": []
    },
    {
      "cell_type": "code",
      "metadata": {
        "id": "32J-3oxhp-a4"
      },
      "source": [
        "planned_initiative.index=x"
      ],
      "execution_count": 64,
      "outputs": []
    },
    {
      "cell_type": "code",
      "metadata": {
        "id": "m1fhfMpYpJtp"
      },
      "source": [
        "planned_initiative['pct']=planned_initiative['Planned'].astype(float).map(lambda n: '{:.2%}'.format(n))"
      ],
      "execution_count": 65,
      "outputs": []
    },
    {
      "cell_type": "code",
      "metadata": {
        "id": "DSAr6sFCGHRk"
      },
      "source": [
        "colors =['#69B450' , '#F28E2B' , '#E15759' ]\n"
      ],
      "execution_count": 66,
      "outputs": []
    },
    {
      "cell_type": "code",
      "metadata": {
        "id": "HBmgEyjvpEhN",
        "outputId": "e1d2cbf5-b956-4a41-a305-5538157e49cb",
        "colab": {
          "base_uri": "https://localhost:8080/",
          "height": 498
        }
      },
      "source": [
        "# Plot \n",
        "ax = planned_initiative.plot(y='Planned', kind='bar', figsize=(10,7) ,color=colors)\n",
        "ax.set_title('average planned % for each status')\n",
        "ax.set_xlabel('pct')\n",
        "\n",
        "\n",
        "# Labels\n",
        "for i in ax.patches:\n",
        "    ax.text(i.get_x()-.03, i.get_height(), \n",
        "            str(round(i.get_height()*100,2))+'%', color='black')"
      ],
      "execution_count": 67,
      "outputs": [
        {
          "output_type": "display_data",
          "data": {
            "image/png": "[encoded data removed]",
            "text/plain": [
              "<Figure size 720x504 with 1 Axes>"
            ]
          },
          "metadata": {
            "tags": [],
            "needs_background": "light"
          }
        }
      ]
    },
    {
      "cell_type": "markdown",
      "metadata": {
        "id": "gubZK5a_Y5ZT"
      },
      "source": [
        "Here we notice that the more the planned gets the less the status"
      ]
    },
    {
      "cell_type": "markdown",
      "metadata": {
        "id": "9N2KI0JmZGWB"
      },
      "source": [
        "### Now we study initiatives level regarding the relationship between each 2 predictors"
      ]
    },
    {
      "cell_type": "code",
      "metadata": {
        "id": "jY_-O8opyiwm",
        "outputId": "799219fe-df5b-4efc-bf38-2c0815f52eca",
        "colab": {
          "base_uri": "https://localhost:8080/",
          "height": 696
        }
      },
      "source": [
        "# plotting correla\n",
        "fig, ax = plt.subplots(figsize=(10,10)) \n",
        "sns.heatmap(df_initiative.loc[df_initiative['Status'] != 'لم تبدأ',['Period' , 'since' , 'Planned',  'number_of_phases' ,'Origin_Budget',\n",
        "       'Awarded_Budget' ,'Budget_Varience' , 'awarded_pct' ]].corr() , annot = True , vmin=-1, vmax=1, center= 0, cmap= 'RdYlGn' , ax=ax )"
      ],
      "execution_count": 68,
      "outputs": [
        {
          "output_type": "execute_result",
          "data": {
            "text/plain": [
              "<matplotlib.axes._subplots.AxesSubplot at 0x7fa4399e14a8>"
            ]
          },
          "metadata": {
            "tags": []
          },
          "execution_count": 68
        },
        {
          "output_type": "display_data",
          "data": {
            "image/png": "[encoded data removed]",
            "text/plain": [
              "<Figure size 720x720 with 2 Axes>"
            ]
          },
          "metadata": {
            "tags": [],
            "needs_background": "light"
          }
        }
      ]
    },
    {
      "cell_type": "markdown",
      "metadata": {
        "id": "S2_pi8fhZTEJ"
      },
      "source": [
        "#### We notice for the first glance that the strongest linear relationship is between (origin and awarded budget) which makes sense.\n",
        "\n",
        "then we notice average positive relationsship between (since , planned)\n",
        "\n",
        "also average negative relationsship between (period , planned)"
      ]
    },
    {
      "cell_type": "markdown",
      "metadata": {
        "id": "1zrDGVIGbncJ"
      },
      "source": [
        "#### Let's explore more the relationship between (since , planned)"
      ]
    },
    {
      "cell_type": "code",
      "metadata": {
        "id": "41qKsdBmyisU",
        "outputId": "6643146e-4f73-421c-9c4c-645e77980e00",
        "colab": {
          "base_uri": "https://localhost:8080/",
          "height": 623
        }
      },
      "source": [
        " fig, ax = plt.subplots(figsize=(10,10)) \n",
        "\n",
        " sns.regplot( y='since' , x='Planned', data=df_initiative.loc[df_initiative['Status'] != 'لم تبدأ' ,:] , ax=ax)"
      ],
      "execution_count": 69,
      "outputs": [
        {
          "output_type": "execute_result",
          "data": {
            "text/plain": [
              "<matplotlib.axes._subplots.AxesSubplot at 0x7fa4399e1cf8>"
            ]
          },
          "metadata": {
            "tags": []
          },
          "execution_count": 69
        },
        {
          "output_type": "display_data",
          "data": {
            "image/png": "[encoded data removed]",
            "text/plain": [
              "<Figure size 720x720 with 1 Axes>"
            ]
          },
          "metadata": {
            "tags": [],
            "needs_background": "light"
          }
        }
      ]
    },
    {
      "cell_type": "markdown",
      "metadata": {
        "id": "DFSSci_fbzMv"
      },
      "source": [
        "### Then , we transfer to studying the relationship between each of predictors and our target variable"
      ]
    },
    {
      "cell_type": "markdown",
      "metadata": {
        "id": "cgdavb3LcGF5"
      },
      "source": [
        "we do that using Analysis of variance (ANOVA)\n",
        "\n",
        "### We run Anova to check how each of our predictors affect status , and to check is this effect significant so to check narrowly whether it is worthy to be included in our model."
      ]
    },
    {
      "cell_type": "code",
      "metadata": {
        "id": "CTzUi5a0sdex"
      },
      "source": [
        "lm= ols ('Planned ~ Status' , data=df_initiative).fit()\n",
        "table = sm.stats.anova_lm(lm)"
      ],
      "execution_count": 70,
      "outputs": []
    },
    {
      "cell_type": "code",
      "metadata": {
        "id": "DDiqmcGvsdb8",
        "outputId": "fa6efc8d-4736-41b9-f6f2-0ba2b4e07bf9",
        "colab": {
          "base_uri": "https://localhost:8080/",
          "height": 111
        }
      },
      "source": [
        "table"
      ],
      "execution_count": 71,
      "outputs": [
        {
          "output_type": "execute_result",
          "data": {
            "text/html": [
              "<div>\n",
              "<style scoped>\n",
              "    .dataframe tbody tr th:only-of-type {\n",
              "        vertical-align: middle;\n",
              "    }\n",
              "\n",
              "    .dataframe tbody tr th {\n",
              "        vertical-align: top;\n",
              "    }\n",
              "\n",
              "    .dataframe thead th {\n",
              "        text-align: right;\n",
              "    }\n",
              "</style>\n",
              "<table border=\"1\" class=\"dataframe\">\n",
              "  <thead>\n",
              "    <tr style=\"text-align: right;\">\n",
              "      <th></th>\n",
              "      <th>df</th>\n",
              "      <th>sum_sq</th>\n",
              "      <th>mean_sq</th>\n",
              "      <th>F</th>\n",
              "      <th>PR(&gt;F)</th>\n",
              "    </tr>\n",
              "  </thead>\n",
              "  <tbody>\n",
              "    <tr>\n",
              "      <th>Status</th>\n",
              "      <td>3.00</td>\n",
              "      <td>235.38</td>\n",
              "      <td>78.46</td>\n",
              "      <td>1296.96</td>\n",
              "      <td>0.00</td>\n",
              "    </tr>\n",
              "    <tr>\n",
              "      <th>Residual</th>\n",
              "      <td>1535.00</td>\n",
              "      <td>92.86</td>\n",
              "      <td>0.06</td>\n",
              "      <td>nan</td>\n",
              "      <td>nan</td>\n",
              "    </tr>\n",
              "  </tbody>\n",
              "</table>\n",
              "</div>"
            ],
            "text/plain": [
              "              df  sum_sq  mean_sq       F  PR(>F)\n",
              "Status      3.00  235.38    78.46 1296.96    0.00\n",
              "Residual 1535.00   92.86     0.06     nan     nan"
            ]
          },
          "metadata": {
            "tags": []
          },
          "execution_count": 71
        }
      ]
    },
    {
      "cell_type": "markdown",
      "metadata": {
        "id": "22D7UUfXcdDy"
      },
      "source": [
        "#### Here since p- value is less than 0.05 , we see that (planned percentage) differs significantly between each status category "
      ]
    },
    {
      "cell_type": "code",
      "metadata": {
        "id": "_SNP8im-ByTD",
        "outputId": "40904119-7834-4940-b895-c92291127b50",
        "colab": {
          "base_uri": "https://localhost:8080/",
          "height": 1000
        }
      },
      "source": [
        "#Running ANOVA for all numeric predictors\n",
        "for i in ['Period' , 'since' , 'Planned',  'number_of_phases' ,'Origin_Budget',\n",
        "       'Awarded_Budget' ,'Budget_Varience' , 'awarded_pct' ]:\n",
        "       print('Is there a significance difference in' + ' '+ i + ' ' +'for each status')\n",
        "       print(' ')\n",
        "       f = sm.stats.anova_lm(ols('{} ~ Status'.format(i), data=df_initiative.loc[df_initiative['Status'] != 'لم تبدأ']).fit())\n",
        "       print(f)\n",
        "       print(' ')\n",
        "       if  f.iloc[0,4] <0.05 : print(\"'\" +i +\"'\" + ' differs significantly across Status categories')\n",
        "       print(' ')\n",
        "       print('________________________')\n",
        "       print(' ')\n"
      ],
      "execution_count": 72,
      "outputs": [
        {
          "output_type": "stream",
          "text": [
            "Is there a significance difference in Period for each status\n",
            " \n",
            "              df   sum_sq  mean_sq     F  PR(>F)\n",
            "Status      2.00  2000.23  1000.11 52.42    0.00\n",
            "Residual 1055.00 20126.73    19.08   nan     nan\n",
            " \n",
            "'Period' differs significantly across Status categories\n",
            " \n",
            "________________________\n",
            " \n",
            "Is there a significance difference in since for each status\n",
            " \n",
            "              df   sum_sq  mean_sq     F  PR(>F)\n",
            "Status      2.00  2252.01  1126.01 27.65    0.00\n",
            "Residual 1055.00 42965.46    40.73   nan     nan\n",
            " \n",
            "'since' differs significantly across Status categories\n",
            " \n",
            "________________________\n",
            " \n",
            "Is there a significance difference in Planned for each status\n",
            " \n",
            "              df  sum_sq  mean_sq     F  PR(>F)\n",
            "Status      2.00   15.70     7.85 89.20    0.00\n",
            "Residual 1055.00   92.86     0.09   nan     nan\n",
            " \n",
            "'Planned' differs significantly across Status categories\n",
            " \n",
            "________________________\n",
            " \n",
            "Is there a significance difference in number_of_phases for each status\n",
            " \n",
            "              df  sum_sq  mean_sq      F  PR(>F)\n",
            "Status      2.00  860.01   430.00 104.03    0.00\n",
            "Residual 1055.00 4360.60     4.13    nan     nan\n",
            " \n",
            "'number_of_phases' differs significantly across Status categories\n",
            " \n",
            "________________________\n",
            " \n",
            "Is there a significance difference in Origin_Budget for each status\n",
            " \n",
            "             df               sum_sq           mean_sq    F  PR(>F)\n",
            "Status     2.00   147131915091140.16 73565957545570.08 0.91    0.40\n",
            "Residual 448.00 36317970868238664.00 81066899259461.30  nan     nan\n",
            " \n",
            " \n",
            "________________________\n",
            " \n",
            "Is there a significance difference in Awarded_Budget for each status\n",
            " \n",
            "             df               sum_sq           mean_sq    F  PR(>F)\n",
            "Status     2.00   139691399379538.62 69845699689769.31 1.05    0.35\n",
            "Residual 448.00 29876160198518896.00 66687857585979.68  nan     nan\n",
            " \n",
            " \n",
            "________________________\n",
            " \n",
            "Is there a significance difference in Budget_Varience for each status\n",
            " \n",
            "             df  sum_sq  mean_sq    F  PR(>F)\n",
            "Status     2.00    0.00     0.00 1.11    0.33\n",
            "Residual 422.00    0.16     0.00  nan     nan\n",
            " \n",
            " \n",
            "________________________\n",
            " \n",
            "Is there a significance difference in awarded_pct for each status\n",
            " \n",
            "             df  sum_sq  mean_sq    F  PR(>F)\n",
            "Status     2.00    0.01     0.00 0.80    0.45\n",
            "Residual 448.00    1.77     0.00  nan     nan\n",
            " \n",
            " \n",
            "________________________\n",
            " \n"
          ],
          "name": "stdout"
        }
      ]
    },
    {
      "cell_type": "markdown",
      "metadata": {
        "id": "RRdChJjMdBEb"
      },
      "source": [
        "#### So we state that each of( 'Period' , 'since' , 'Planned',  'number_of_phases') differs significaantly as per status , so we include them in our model."
      ]
    },
    {
      "cell_type": "markdown",
      "metadata": {
        "id": "diUv5sXEde0S"
      },
      "source": [
        "## B - On the level of phases "
      ]
    },
    {
      "cell_type": "markdown",
      "metadata": {
        "id": "3jc6FrMHeZDO"
      },
      "source": [
        "## we get a dataset for phases in each initiative\n"
      ]
    },
    {
      "cell_type": "code",
      "metadata": {
        "id": "-yW8PgwyCj39"
      },
      "source": [
        "#we get a dataset for phases in each initiative\n",
        "df_phases=df_mod.loc[((df_mod['Activity'] == 'Phase')| (df_mod['Activity'] == 'Initiative')) , : ]"
      ],
      "execution_count": 73,
      "outputs": []
    },
    {
      "cell_type": "code",
      "metadata": {
        "id": "e7OhyYDBCj8g"
      },
      "source": [
        "df_phases['phase_order']=df_phases.groupby(['Group' , 'Holder_name','Initiative_name']).cumcount()"
      ],
      "execution_count": 74,
      "outputs": []
    },
    {
      "cell_type": "code",
      "metadata": {
        "id": "f5pN51taR3A5",
        "outputId": "a9a2e0eb-fb85-4b27-aaf6-be740536396b",
        "colab": {
          "base_uri": "https://localhost:8080/",
          "height": 649
        }
      },
      "source": [
        "df_phases.head()"
      ],
      "execution_count": 75,
      "outputs": [
        {
          "output_type": "execute_result",
          "data": {
            "text/html": [
              "<div>\n",
              "<style scoped>\n",
              "    .dataframe tbody tr th:only-of-type {\n",
              "        vertical-align: middle;\n",
              "    }\n",
              "\n",
              "    .dataframe tbody tr th {\n",
              "        vertical-align: top;\n",
              "    }\n",
              "\n",
              "    .dataframe thead th {\n",
              "        text-align: right;\n",
              "    }\n",
              "</style>\n",
              "<table border=\"1\" class=\"dataframe\">\n",
              "  <thead>\n",
              "    <tr style=\"text-align: right;\">\n",
              "      <th></th>\n",
              "      <th>Group</th>\n",
              "      <th>Holder_name</th>\n",
              "      <th>Initiative_name</th>\n",
              "      <th>Main_activity</th>\n",
              "      <th>Period</th>\n",
              "      <th>Period_%_of_initiative</th>\n",
              "      <th>Activity</th>\n",
              "      <th>Planned_start</th>\n",
              "      <th>Planned_end</th>\n",
              "      <th>Expected_output</th>\n",
              "      <th>Started?</th>\n",
              "      <th>Completed</th>\n",
              "      <th>Varience</th>\n",
              "      <th>Planned</th>\n",
              "      <th>Actual</th>\n",
              "      <th>Origin_Budget</th>\n",
              "      <th>Awarded_Budget</th>\n",
              "      <th>Outputs_Planned_Due_Date</th>\n",
              "      <th>Outputs_Due_Amount</th>\n",
              "      <th>Outputs_Due</th>\n",
              "      <th>Planned_Budget</th>\n",
              "      <th>Actual_Payments</th>\n",
              "      <th>Budget_Varience</th>\n",
              "      <th>Budget_Remaining</th>\n",
              "      <th>مسلسل</th>\n",
              "      <th>phase</th>\n",
              "      <th>awarded_pct</th>\n",
              "      <th>Status</th>\n",
              "      <th>phase_order</th>\n",
              "    </tr>\n",
              "  </thead>\n",
              "  <tbody>\n",
              "    <tr>\n",
              "      <th>0</th>\n",
              "      <td>وزارة الدفاع والجهات الأمنية</td>\n",
              "      <td>الادارة العامة للخدمات الطبية للقوات المسلحة</td>\n",
              "      <td>الاعداد والتهيئة</td>\n",
              "      <td>الاعداد والتهيئة</td>\n",
              "      <td>0.00</td>\n",
              "      <td>30.00</td>\n",
              "      <td>Initiative</td>\n",
              "      <td>2018-07-31</td>\n",
              "      <td>2018-07-31</td>\n",
              "      <td>NaN</td>\n",
              "      <td>نعم</td>\n",
              "      <td>قيد التنفيذ</td>\n",
              "      <td>0.50</td>\n",
              "      <td>1.00</td>\n",
              "      <td>0.50</td>\n",
              "      <td>nan</td>\n",
              "      <td>nan</td>\n",
              "      <td>NaT</td>\n",
              "      <td>nan</td>\n",
              "      <td>NaN</td>\n",
              "      <td>nan</td>\n",
              "      <td>nan</td>\n",
              "      <td>nan</td>\n",
              "      <td>nan</td>\n",
              "      <td>1</td>\n",
              "      <td>الاعداد والتهيئة</td>\n",
              "      <td>nan</td>\n",
              "      <td>متأخر جدا</td>\n",
              "      <td>0</td>\n",
              "    </tr>\n",
              "    <tr>\n",
              "      <th>6</th>\n",
              "      <td>وزارة الدفاع والجهات الأمنية</td>\n",
              "      <td>الادارة العامة للخدمات الطبية للقوات المسلحة</td>\n",
              "      <td>طرح كراسة حصر وجرد وتقييم الأصول الثابتة</td>\n",
              "      <td>طرح كراسة حصر وجرد وتقييم الأصول الثابتة</td>\n",
              "      <td>0.00</td>\n",
              "      <td>1.00</td>\n",
              "      <td>Initiative</td>\n",
              "      <td>2018-07-31</td>\n",
              "      <td>2018-07-31</td>\n",
              "      <td>NaN</td>\n",
              "      <td>نعم</td>\n",
              "      <td>قيد التنفيذ</td>\n",
              "      <td>1.00</td>\n",
              "      <td>1.00</td>\n",
              "      <td>0.00</td>\n",
              "      <td>nan</td>\n",
              "      <td>nan</td>\n",
              "      <td>NaT</td>\n",
              "      <td>nan</td>\n",
              "      <td>NaN</td>\n",
              "      <td>nan</td>\n",
              "      <td>nan</td>\n",
              "      <td>nan</td>\n",
              "      <td>nan</td>\n",
              "      <td>7</td>\n",
              "      <td>طرح كراسة حصر وجرد وتقييم الأصول الثابتة</td>\n",
              "      <td>nan</td>\n",
              "      <td>متأخر جدا</td>\n",
              "      <td>0</td>\n",
              "    </tr>\n",
              "    <tr>\n",
              "      <th>15</th>\n",
              "      <td>وزارة الدفاع والجهات الأمنية</td>\n",
              "      <td>الادارة العامة للخدمات الطبية للقوات المسلحة</td>\n",
              "      <td>حصر وجرد وتقييم الأصول الثابتة المتخصصة والبني...</td>\n",
              "      <td>حصر وجرد وتقييم الأصول الثابتة المتخصصة والبني...</td>\n",
              "      <td>24.00</td>\n",
              "      <td>30.00</td>\n",
              "      <td>Initiative</td>\n",
              "      <td>2018-08-01</td>\n",
              "      <td>2020-07-31</td>\n",
              "      <td>NaN</td>\n",
              "      <td>نعم</td>\n",
              "      <td>قيد التنفيذ</td>\n",
              "      <td>-0.04</td>\n",
              "      <td>0.84</td>\n",
              "      <td>0.88</td>\n",
              "      <td>47271363.00</td>\n",
              "      <td>34980808.62</td>\n",
              "      <td>NaT</td>\n",
              "      <td>nan</td>\n",
              "      <td>NaN</td>\n",
              "      <td>34980808.62</td>\n",
              "      <td>22533649.72</td>\n",
              "      <td>-0.07</td>\n",
              "      <td>12447158.90</td>\n",
              "      <td>16</td>\n",
              "      <td>حصر وجرد وتقييم الأصول الثابتة المتخصصة والبني...</td>\n",
              "      <td>0.74</td>\n",
              "      <td>على المسار</td>\n",
              "      <td>0</td>\n",
              "    </tr>\n",
              "    <tr>\n",
              "      <th>16</th>\n",
              "      <td>وزارة الدفاع والجهات الأمنية</td>\n",
              "      <td>الادارة العامة للخدمات الطبية للقوات المسلحة</td>\n",
              "      <td>حصر وجرد وتقييم الأصول الثابتة المتخصصة والبني...</td>\n",
              "      <td>المرحلة الأولى : مرحلة الحصر ودراسة الوضع الحالي</td>\n",
              "      <td>4.80</td>\n",
              "      <td>0.20</td>\n",
              "      <td>Phase</td>\n",
              "      <td>2018-08-01</td>\n",
              "      <td>2018-12-23</td>\n",
              "      <td>NaN</td>\n",
              "      <td>NaN</td>\n",
              "      <td>قيد التنفيذ</td>\n",
              "      <td>0.00</td>\n",
              "      <td>0.20</td>\n",
              "      <td>0.20</td>\n",
              "      <td>nan</td>\n",
              "      <td>nan</td>\n",
              "      <td>NaT</td>\n",
              "      <td>11803340.33</td>\n",
              "      <td>نعم</td>\n",
              "      <td>11803340.33</td>\n",
              "      <td>11331206.72</td>\n",
              "      <td>-0.04</td>\n",
              "      <td>472133.61</td>\n",
              "      <td>17</td>\n",
              "      <td>المرحلة الأولى : مرحلة الحصر ودراسة الوضع الحالي</td>\n",
              "      <td>nan</td>\n",
              "      <td>على المسار</td>\n",
              "      <td>1</td>\n",
              "    </tr>\n",
              "    <tr>\n",
              "      <th>25</th>\n",
              "      <td>وزارة الدفاع والجهات الأمنية</td>\n",
              "      <td>الادارة العامة للخدمات الطبية للقوات المسلحة</td>\n",
              "      <td>حصر وجرد وتقييم الأصول الثابتة المتخصصة والبني...</td>\n",
              "      <td>المرحلة الثانية : مرحلة الجرد والترميز</td>\n",
              "      <td>14.40</td>\n",
              "      <td>0.60</td>\n",
              "      <td>Phase</td>\n",
              "      <td>2018-12-20</td>\n",
              "      <td>2020-02-26</td>\n",
              "      <td>NaN</td>\n",
              "      <td>NaN</td>\n",
              "      <td>قيد التنفيذ</td>\n",
              "      <td>-0.04</td>\n",
              "      <td>0.60</td>\n",
              "      <td>0.64</td>\n",
              "      <td>nan</td>\n",
              "      <td>nan</td>\n",
              "      <td>NaT</td>\n",
              "      <td>12447158.90</td>\n",
              "      <td>نعم</td>\n",
              "      <td>12447158.90</td>\n",
              "      <td>11202443.01</td>\n",
              "      <td>-0.10</td>\n",
              "      <td>1244715.89</td>\n",
              "      <td>26</td>\n",
              "      <td>المرحلة الثانية : مرحلة الجرد والترميز</td>\n",
              "      <td>nan</td>\n",
              "      <td>على المسار</td>\n",
              "      <td>2</td>\n",
              "    </tr>\n",
              "  </tbody>\n",
              "</table>\n",
              "</div>"
            ],
            "text/plain": [
              "                            Group  ... phase_order\n",
              "0   وزارة الدفاع والجهات الأمنية   ...           0\n",
              "6   وزارة الدفاع والجهات الأمنية   ...           0\n",
              "15  وزارة الدفاع والجهات الأمنية   ...           0\n",
              "16  وزارة الدفاع والجهات الأمنية   ...           1\n",
              "25  وزارة الدفاع والجهات الأمنية   ...           2\n",
              "\n",
              "[5 rows x 29 columns]"
            ]
          },
          "metadata": {
            "tags": []
          },
          "execution_count": 75
        }
      ]
    },
    {
      "cell_type": "markdown",
      "metadata": {
        "id": "YBi2HfDjeWhr"
      },
      "source": [
        "#### we get the status of each one of phases in our initiatives "
      ]
    },
    {
      "cell_type": "code",
      "metadata": {
        "id": "PfqP2bB7XDgx"
      },
      "source": [
        "phases_per_initiative=pd.pivot_table(df_phases.loc[df_phases['Activity']=='Phase' , :], values='Main_activity', index= ['Group' , 'Holder_name','Initiative_name'],\n",
        "                    columns=['phase_order'], aggfunc=lambda x: x.mode().iat[0]).reset_index()"
      ],
      "execution_count": 76,
      "outputs": []
    },
    {
      "cell_type": "code",
      "metadata": {
        "id": "ElseyNNVtmpD"
      },
      "source": [
        ""
      ],
      "execution_count": 76,
      "outputs": []
    },
    {
      "cell_type": "code",
      "metadata": {
        "id": "yyeLIHmcBf2M"
      },
      "source": [
        ""
      ],
      "execution_count": 76,
      "outputs": []
    },
    {
      "cell_type": "code",
      "metadata": {
        "id": "i4-jlIKpe0qs",
        "outputId": "3bb1166a-e529-4261-84c3-effd2e2af013",
        "colab": {
          "base_uri": "https://localhost:8080/",
          "height": 408
        }
      },
      "source": [
        "phases_per_initiative.head()"
      ],
      "execution_count": 77,
      "outputs": [
        {
          "output_type": "execute_result",
          "data": {
            "text/html": [
              "<div>\n",
              "<style scoped>\n",
              "    .dataframe tbody tr th:only-of-type {\n",
              "        vertical-align: middle;\n",
              "    }\n",
              "\n",
              "    .dataframe tbody tr th {\n",
              "        vertical-align: top;\n",
              "    }\n",
              "\n",
              "    .dataframe thead th {\n",
              "        text-align: right;\n",
              "    }\n",
              "</style>\n",
              "<table border=\"1\" class=\"dataframe\">\n",
              "  <thead>\n",
              "    <tr style=\"text-align: right;\">\n",
              "      <th>phase_order</th>\n",
              "      <th>Group</th>\n",
              "      <th>Holder_name</th>\n",
              "      <th>Initiative_name</th>\n",
              "      <th>1</th>\n",
              "      <th>2</th>\n",
              "      <th>3</th>\n",
              "      <th>4</th>\n",
              "      <th>5</th>\n",
              "      <th>6</th>\n",
              "      <th>7</th>\n",
              "    </tr>\n",
              "  </thead>\n",
              "  <tbody>\n",
              "    <tr>\n",
              "      <th>0</th>\n",
              "      <td>المجموعة الأولى</td>\n",
              "      <td>إدارة الأقتراض الحكومي</td>\n",
              "      <td>مبادرة اعداد الأرصدة الافتتاحية</td>\n",
              "      <td>المرحلة الأولى : التحليل والتخطيط</td>\n",
              "      <td>المرحلة الثانية :التنفيذ و إعداد الارصدة الإفت...</td>\n",
              "      <td>NaN</td>\n",
              "      <td>NaN</td>\n",
              "      <td>NaN</td>\n",
              "      <td>NaN</td>\n",
              "      <td>NaN</td>\n",
              "    </tr>\n",
              "    <tr>\n",
              "      <th>1</th>\n",
              "      <td>المجموعة الأولى</td>\n",
              "      <td>إدارة الأقتراض الحكومي</td>\n",
              "      <td>مبادرة تنفيذ الخصائص التقنية والمواصفات الفنية...</td>\n",
              "      <td>المرحلة الأولى : التجهيز للمشروع</td>\n",
              "      <td>المرحلة الثانية : التحليل والتخطيط</td>\n",
              "      <td>المرحلة الثالثة : تطوير وتنفيذ متطلبات النظام</td>\n",
              "      <td>المرحلة الرابعة : الدعم والتدريب ونقل المعرفة</td>\n",
              "      <td>المرحلة الخامسة : دعم الاطلاق (Pilot Run)</td>\n",
              "      <td>المرحلة السادسة : الدعم الفني (Operations)</td>\n",
              "      <td>NaN</td>\n",
              "    </tr>\n",
              "    <tr>\n",
              "      <th>2</th>\n",
              "      <td>المجموعة الأولى</td>\n",
              "      <td>إدارة الأقتراض الحكومي</td>\n",
              "      <td>مبادرة مراجعة القوائم المالية للجهة الحكومية</td>\n",
              "      <td>الأنشطة الرئيسية</td>\n",
              "      <td>مراجعة الأرصدة الافتتاحية (بيان المركز المالي ...</td>\n",
              "      <td>NaN</td>\n",
              "      <td>NaN</td>\n",
              "      <td>NaN</td>\n",
              "      <td>NaN</td>\n",
              "      <td>NaN</td>\n",
              "    </tr>\n",
              "    <tr>\n",
              "      <th>3</th>\n",
              "      <td>المجموعة الأولى</td>\n",
              "      <td>إدارة الأقتراض الحكومي</td>\n",
              "      <td>مسك السجلات المحاسبية</td>\n",
              "      <td>المرحلة الثالثة :  التضمين و المساندة في مسك ا...</td>\n",
              "      <td>مساندة وتدريب موظفي (الجهة الحكومية) اثناء ال...</td>\n",
              "      <td>اعداد القوائم الماليّة السنوية للجهة والقوائم...</td>\n",
              "      <td>NaN</td>\n",
              "      <td>NaN</td>\n",
              "      <td>NaN</td>\n",
              "      <td>NaN</td>\n",
              "    </tr>\n",
              "    <tr>\n",
              "      <th>4</th>\n",
              "      <td>المجموعة الأولى</td>\n",
              "      <td>الأمانة العامة لمجلس الوزراء</td>\n",
              "      <td>مبادرة اعداد الأرصدة الافتتاحية</td>\n",
              "      <td>المرحلة الأولى : التحليل والتخطيط</td>\n",
              "      <td>المرحلة الثانية :التنفيذ و إعداد الارصدة الإفت...</td>\n",
              "      <td>NaN</td>\n",
              "      <td>NaN</td>\n",
              "      <td>NaN</td>\n",
              "      <td>NaN</td>\n",
              "      <td>NaN</td>\n",
              "    </tr>\n",
              "  </tbody>\n",
              "</table>\n",
              "</div>"
            ],
            "text/plain": [
              "phase_order            Group  ...    7\n",
              "0            المجموعة الأولى  ...  NaN\n",
              "1            المجموعة الأولى  ...  NaN\n",
              "2            المجموعة الأولى  ...  NaN\n",
              "3            المجموعة الأولى  ...  NaN\n",
              "4            المجموعة الأولى  ...  NaN\n",
              "\n",
              "[5 rows x 10 columns]"
            ]
          },
          "metadata": {
            "tags": []
          },
          "execution_count": 77
        }
      ]
    },
    {
      "cell_type": "code",
      "metadata": {
        "id": "9V4uYsuXssGl"
      },
      "source": [
        "# for easier processing in later modeling steps , we transfer status of each phase in the initiative into a binary steps\n",
        "phases_per_initiative=pd.get_dummies(data=phases_per_initiative, columns=[1,2,3,4,5,6,7])"
      ],
      "execution_count": 78,
      "outputs": []
    },
    {
      "cell_type": "code",
      "metadata": {
        "id": "FB8i3oMrvQys",
        "outputId": "b50bd002-07fc-4e20-e67c-b58a347a23df",
        "colab": {
          "base_uri": "https://localhost:8080/",
          "height": 581
        }
      },
      "source": [
        "phases_per_initiative.head()"
      ],
      "execution_count": 79,
      "outputs": [
        {
          "output_type": "execute_result",
          "data": {
            "text/html": [
              "<div>\n",
              "<style scoped>\n",
              "    .dataframe tbody tr th:only-of-type {\n",
              "        vertical-align: middle;\n",
              "    }\n",
              "\n",
              "    .dataframe tbody tr th {\n",
              "        vertical-align: top;\n",
              "    }\n",
              "\n",
              "    .dataframe thead th {\n",
              "        text-align: right;\n",
              "    }\n",
              "</style>\n",
              "<table border=\"1\" class=\"dataframe\">\n",
              "  <thead>\n",
              "    <tr style=\"text-align: right;\">\n",
              "      <th></th>\n",
              "      <th>Group</th>\n",
              "      <th>Holder_name</th>\n",
              "      <th>Initiative_name</th>\n",
              "      <th>1_الأنشطة الرئيسية</th>\n",
              "      <th>1_المرحلة الأولى : التجهيز للمشروع</th>\n",
              "      <th>1_المرحلة الأولى : التحليل والتخطيط</th>\n",
              "      <th>1_المرحلة الأولى : مرحلة الحصر ودراسة الوضع الحالي</th>\n",
              "      <th>1_المرحلة الثالثة :  التضمين و المساندة في مسك السجلات ونقل المعرفة العملية واعداد القوائم المالية</th>\n",
              "      <th>2_ مساندة وتدريب موظفي (الجهة الحكومية) اثناء العمل على القيام بمسك الحسابات على أساس الاستحقاق</th>\n",
              "      <th>2_المرحلة الثانية : التحليل والتخطيط</th>\n",
              "      <th>2_المرحلة الثانية : مرحلة الجرد والترميز</th>\n",
              "      <th>2_المرحلة الثانية :التنفيذ و إعداد الارصدة الإفتتاحية للاصول والخصوم واعداد المركز المالي الافتتاحي</th>\n",
              "      <th>2_مراجعة الأرصدة الافتتاحية (بيان المركز المالي الافتتاحي)</th>\n",
              "      <th>3_ اعداد القوائم الماليّة السنوية للجهة والقوائم الماليّة الموحدة (كما ينطبق) للسنة المالية المنتهية في (تاريخ اول قوائم المالية)</th>\n",
              "      <th>3_المرحلة الثالثة : اعداد وثائق متطلبات نظام تخطيط الموارد الحكومية</th>\n",
              "      <th>3_المرحلة الثالثة : التقييم واعداد سجلات الأصول</th>\n",
              "      <th>3_المرحلة الثالثة : تطوير وتنفيذ متطلبات النظام</th>\n",
              "      <th>4_المرحلة الرابعة : الدعم والتدريب ونقل المعرفة</th>\n",
              "      <th>4_المرحلة الرابعة : تطوير وتنفيذ متطلبات النظام</th>\n",
              "      <th>5_المرحلة الخامسة : الدعم والتدريب ونقل المعرفة</th>\n",
              "      <th>5_المرحلة الخامسة : دعم الاطلاق (Pilot Run)</th>\n",
              "      <th>6_المرحلة السادسة : الدعم الفني (Operations)</th>\n",
              "      <th>6_المرحلة السادسة : دعم الاطلاق (Pilot Run)</th>\n",
              "      <th>7_المرحلة السابعة : الدعم الفني (Operations)</th>\n",
              "    </tr>\n",
              "  </thead>\n",
              "  <tbody>\n",
              "    <tr>\n",
              "      <th>0</th>\n",
              "      <td>المجموعة الأولى</td>\n",
              "      <td>إدارة الأقتراض الحكومي</td>\n",
              "      <td>مبادرة اعداد الأرصدة الافتتاحية</td>\n",
              "      <td>0</td>\n",
              "      <td>0</td>\n",
              "      <td>1</td>\n",
              "      <td>0</td>\n",
              "      <td>0</td>\n",
              "      <td>0</td>\n",
              "      <td>0</td>\n",
              "      <td>0</td>\n",
              "      <td>1</td>\n",
              "      <td>0</td>\n",
              "      <td>0</td>\n",
              "      <td>0</td>\n",
              "      <td>0</td>\n",
              "      <td>0</td>\n",
              "      <td>0</td>\n",
              "      <td>0</td>\n",
              "      <td>0</td>\n",
              "      <td>0</td>\n",
              "      <td>0</td>\n",
              "      <td>0</td>\n",
              "      <td>0</td>\n",
              "    </tr>\n",
              "    <tr>\n",
              "      <th>1</th>\n",
              "      <td>المجموعة الأولى</td>\n",
              "      <td>إدارة الأقتراض الحكومي</td>\n",
              "      <td>مبادرة تنفيذ الخصائص التقنية والمواصفات الفنية...</td>\n",
              "      <td>0</td>\n",
              "      <td>1</td>\n",
              "      <td>0</td>\n",
              "      <td>0</td>\n",
              "      <td>0</td>\n",
              "      <td>0</td>\n",
              "      <td>1</td>\n",
              "      <td>0</td>\n",
              "      <td>0</td>\n",
              "      <td>0</td>\n",
              "      <td>0</td>\n",
              "      <td>0</td>\n",
              "      <td>0</td>\n",
              "      <td>1</td>\n",
              "      <td>1</td>\n",
              "      <td>0</td>\n",
              "      <td>0</td>\n",
              "      <td>1</td>\n",
              "      <td>1</td>\n",
              "      <td>0</td>\n",
              "      <td>0</td>\n",
              "    </tr>\n",
              "    <tr>\n",
              "      <th>2</th>\n",
              "      <td>المجموعة الأولى</td>\n",
              "      <td>إدارة الأقتراض الحكومي</td>\n",
              "      <td>مبادرة مراجعة القوائم المالية للجهة الحكومية</td>\n",
              "      <td>1</td>\n",
              "      <td>0</td>\n",
              "      <td>0</td>\n",
              "      <td>0</td>\n",
              "      <td>0</td>\n",
              "      <td>0</td>\n",
              "      <td>0</td>\n",
              "      <td>0</td>\n",
              "      <td>0</td>\n",
              "      <td>1</td>\n",
              "      <td>0</td>\n",
              "      <td>0</td>\n",
              "      <td>0</td>\n",
              "      <td>0</td>\n",
              "      <td>0</td>\n",
              "      <td>0</td>\n",
              "      <td>0</td>\n",
              "      <td>0</td>\n",
              "      <td>0</td>\n",
              "      <td>0</td>\n",
              "      <td>0</td>\n",
              "    </tr>\n",
              "    <tr>\n",
              "      <th>3</th>\n",
              "      <td>المجموعة الأولى</td>\n",
              "      <td>إدارة الأقتراض الحكومي</td>\n",
              "      <td>مسك السجلات المحاسبية</td>\n",
              "      <td>0</td>\n",
              "      <td>0</td>\n",
              "      <td>0</td>\n",
              "      <td>0</td>\n",
              "      <td>1</td>\n",
              "      <td>1</td>\n",
              "      <td>0</td>\n",
              "      <td>0</td>\n",
              "      <td>0</td>\n",
              "      <td>0</td>\n",
              "      <td>1</td>\n",
              "      <td>0</td>\n",
              "      <td>0</td>\n",
              "      <td>0</td>\n",
              "      <td>0</td>\n",
              "      <td>0</td>\n",
              "      <td>0</td>\n",
              "      <td>0</td>\n",
              "      <td>0</td>\n",
              "      <td>0</td>\n",
              "      <td>0</td>\n",
              "    </tr>\n",
              "    <tr>\n",
              "      <th>4</th>\n",
              "      <td>المجموعة الأولى</td>\n",
              "      <td>الأمانة العامة لمجلس الوزراء</td>\n",
              "      <td>مبادرة اعداد الأرصدة الافتتاحية</td>\n",
              "      <td>0</td>\n",
              "      <td>0</td>\n",
              "      <td>1</td>\n",
              "      <td>0</td>\n",
              "      <td>0</td>\n",
              "      <td>0</td>\n",
              "      <td>0</td>\n",
              "      <td>0</td>\n",
              "      <td>1</td>\n",
              "      <td>0</td>\n",
              "      <td>0</td>\n",
              "      <td>0</td>\n",
              "      <td>0</td>\n",
              "      <td>0</td>\n",
              "      <td>0</td>\n",
              "      <td>0</td>\n",
              "      <td>0</td>\n",
              "      <td>0</td>\n",
              "      <td>0</td>\n",
              "      <td>0</td>\n",
              "      <td>0</td>\n",
              "    </tr>\n",
              "  </tbody>\n",
              "</table>\n",
              "</div>"
            ],
            "text/plain": [
              "             Group  ... 7_المرحلة السابعة : الدعم الفني (Operations)\n",
              "0  المجموعة الأولى  ...                                            0\n",
              "1  المجموعة الأولى  ...                                            0\n",
              "2  المجموعة الأولى  ...                                            0\n",
              "3  المجموعة الأولى  ...                                            0\n",
              "4  المجموعة الأولى  ...                                            0\n",
              "\n",
              "[5 rows x 24 columns]"
            ]
          },
          "metadata": {
            "tags": []
          },
          "execution_count": 79
        }
      ]
    },
    {
      "cell_type": "markdown",
      "metadata": {
        "id": "747KCOyJe9SJ"
      },
      "source": [
        "For example in the above dataset '1_على المسار\t' equals 1 if the first phase in the initiative is 'على المسار' else = 0 and so on"
      ]
    },
    {
      "cell_type": "markdown",
      "metadata": {
        "id": "1yAY28ErfRjn"
      },
      "source": [
        "#### Getting number of activities in each phase "
      ]
    },
    {
      "cell_type": "code",
      "metadata": {
        "id": "GuNUcs34y6MQ"
      },
      "source": [
        "index=pd.pivot_table(df_mod, values=[ 'مسلسل'], index= ['Group' , 'Holder_name','Initiative_name'  , 'phase'],\n",
        "                     aggfunc=lambda x: x.mode().iat[0]).fillna(0).reset_index()"
      ],
      "execution_count": 80,
      "outputs": []
    },
    {
      "cell_type": "code",
      "metadata": {
        "id": "klzT160I9GCi"
      },
      "source": [
        "Activities_per_phase=pd.pivot_table(df_mod, values='Activity', index= ['Group' , 'Holder_name','Initiative_name'  , 'phase'],\n",
        "                     aggfunc=lambda x: (x=='Activity').sum()).fillna(0).reset_index()"
      ],
      "execution_count": 81,
      "outputs": []
    },
    {
      "cell_type": "code",
      "metadata": {
        "id": "laO_eIdC9GFu"
      },
      "source": [
        "Outputs_per_phase=pd.pivot_table(df_mod, values=['Activity' ], index= ['Group' , 'Holder_name','Initiative_name'  , 'phase'],\n",
        "                     aggfunc=lambda x: (x=='Output').sum()).fillna(0).reset_index()"
      ],
      "execution_count": 82,
      "outputs": []
    },
    {
      "cell_type": "code",
      "metadata": {
        "id": "YOr2gEed9GM8"
      },
      "source": [
        "Activities_per_phase=Activities_per_phase.merge(df_phases.loc[:, ['Group',\t'Holder_name'\t,'Initiative_name',\t'phase' , 'phase_order']] , how='left' , on=['Group',\t'Holder_name'\t,'Initiative_name',\t'phase'] )"
      ],
      "execution_count": 83,
      "outputs": []
    },
    {
      "cell_type": "code",
      "metadata": {
        "id": "bPqukQSV9GUo"
      },
      "source": [
        "Activities_per_phase_initiative=pd.pivot_table(Activities_per_phase, values='Activity', index= ['Group' , 'Holder_name','Initiative_name'],\n",
        "                    columns=['phase_order'], aggfunc=lambda x: x.mode().iat[0]).fillna(0).reset_index()"
      ],
      "execution_count": 84,
      "outputs": []
    },
    {
      "cell_type": "code",
      "metadata": {
        "id": "5qNJ1RF4xVgq"
      },
      "source": [
        ""
      ],
      "execution_count": 84,
      "outputs": []
    },
    {
      "cell_type": "code",
      "metadata": {
        "id": "vfcsJ0hGuf8r"
      },
      "source": [
        "Activities_per_phase_initiative.set_index(['Group' , 'Holder_name','Initiative_name' ],inplace=True)"
      ],
      "execution_count": 85,
      "outputs": []
    },
    {
      "cell_type": "code",
      "metadata": {
        "id": "s93FpioYw_Ff"
      },
      "source": [
        "Activities_per_phase_initiative.columns = [ 'Activities' + ' ' + str(col)  for col in Activities_per_phase_initiative.columns]"
      ],
      "execution_count": 86,
      "outputs": []
    },
    {
      "cell_type": "code",
      "metadata": {
        "id": "QKn_KTse6_oi"
      },
      "source": [
        "Activities_per_phase_initiative.reset_index(col_level = 1 , inplace=True)"
      ],
      "execution_count": 87,
      "outputs": []
    },
    {
      "cell_type": "code",
      "metadata": {
        "id": "L8LprstuxO0q",
        "outputId": "1a89332a-b877-4d7a-dfa5-145718d0b1a5",
        "colab": {
          "base_uri": "https://localhost:8080/",
          "height": 847
        }
      },
      "source": [
        "Activities_per_phase_initiative"
      ],
      "execution_count": 88,
      "outputs": [
        {
          "output_type": "execute_result",
          "data": {
            "text/html": [
              "<div>\n",
              "<style scoped>\n",
              "    .dataframe tbody tr th:only-of-type {\n",
              "        vertical-align: middle;\n",
              "    }\n",
              "\n",
              "    .dataframe tbody tr th {\n",
              "        vertical-align: top;\n",
              "    }\n",
              "\n",
              "    .dataframe thead th {\n",
              "        text-align: right;\n",
              "    }\n",
              "</style>\n",
              "<table border=\"1\" class=\"dataframe\">\n",
              "  <thead>\n",
              "    <tr style=\"text-align: right;\">\n",
              "      <th></th>\n",
              "      <th>Group</th>\n",
              "      <th>Holder_name</th>\n",
              "      <th>Initiative_name</th>\n",
              "      <th>Activities 0</th>\n",
              "      <th>Activities 1</th>\n",
              "      <th>Activities 2</th>\n",
              "      <th>Activities 3</th>\n",
              "      <th>Activities 4</th>\n",
              "      <th>Activities 5</th>\n",
              "      <th>Activities 6</th>\n",
              "      <th>Activities 7</th>\n",
              "    </tr>\n",
              "  </thead>\n",
              "  <tbody>\n",
              "    <tr>\n",
              "      <th>0</th>\n",
              "      <td>المجموعة الأولى</td>\n",
              "      <td>إدارة الأقتراض الحكومي</td>\n",
              "      <td>الاعداد والتهيئة</td>\n",
              "      <td>2.00</td>\n",
              "      <td>0.00</td>\n",
              "      <td>0.00</td>\n",
              "      <td>0.00</td>\n",
              "      <td>0.00</td>\n",
              "      <td>0.00</td>\n",
              "      <td>0.00</td>\n",
              "      <td>0.00</td>\n",
              "    </tr>\n",
              "    <tr>\n",
              "      <th>1</th>\n",
              "      <td>المجموعة الأولى</td>\n",
              "      <td>إدارة الأقتراض الحكومي</td>\n",
              "      <td>طرح كراسة اعداد الأرصدة الافتتاحية ومسك الحسابات</td>\n",
              "      <td>4.00</td>\n",
              "      <td>0.00</td>\n",
              "      <td>0.00</td>\n",
              "      <td>0.00</td>\n",
              "      <td>0.00</td>\n",
              "      <td>0.00</td>\n",
              "      <td>0.00</td>\n",
              "      <td>0.00</td>\n",
              "    </tr>\n",
              "    <tr>\n",
              "      <th>2</th>\n",
              "      <td>المجموعة الأولى</td>\n",
              "      <td>إدارة الأقتراض الحكومي</td>\n",
              "      <td>طرح كراسة تنفيذ الخصائص التقنية والفنية للنظام...</td>\n",
              "      <td>4.00</td>\n",
              "      <td>0.00</td>\n",
              "      <td>0.00</td>\n",
              "      <td>0.00</td>\n",
              "      <td>0.00</td>\n",
              "      <td>0.00</td>\n",
              "      <td>0.00</td>\n",
              "      <td>0.00</td>\n",
              "    </tr>\n",
              "    <tr>\n",
              "      <th>3</th>\n",
              "      <td>المجموعة الأولى</td>\n",
              "      <td>إدارة الأقتراض الحكومي</td>\n",
              "      <td>طرح كراسة مراجعة القوائم المالية  للجهة الحكوميّة</td>\n",
              "      <td>4.00</td>\n",
              "      <td>0.00</td>\n",
              "      <td>0.00</td>\n",
              "      <td>0.00</td>\n",
              "      <td>0.00</td>\n",
              "      <td>0.00</td>\n",
              "      <td>0.00</td>\n",
              "      <td>0.00</td>\n",
              "    </tr>\n",
              "    <tr>\n",
              "      <th>4</th>\n",
              "      <td>المجموعة الأولى</td>\n",
              "      <td>إدارة الأقتراض الحكومي</td>\n",
              "      <td>مبادرة اعداد الأرصدة الافتتاحية</td>\n",
              "      <td>0.00</td>\n",
              "      <td>7.00</td>\n",
              "      <td>6.00</td>\n",
              "      <td>0.00</td>\n",
              "      <td>0.00</td>\n",
              "      <td>0.00</td>\n",
              "      <td>0.00</td>\n",
              "      <td>0.00</td>\n",
              "    </tr>\n",
              "    <tr>\n",
              "      <th>...</th>\n",
              "      <td>...</td>\n",
              "      <td>...</td>\n",
              "      <td>...</td>\n",
              "      <td>...</td>\n",
              "      <td>...</td>\n",
              "      <td>...</td>\n",
              "      <td>...</td>\n",
              "      <td>...</td>\n",
              "      <td>...</td>\n",
              "      <td>...</td>\n",
              "      <td>...</td>\n",
              "    </tr>\n",
              "    <tr>\n",
              "      <th>1534</th>\n",
              "      <td>وزراة الشؤون البلدية والقروية</td>\n",
              "      <td>وزراة الشؤون البلدية والقروية</td>\n",
              "      <td>طرح كراسة مراجعة القوائم المالية  للجهة الحكوميّة</td>\n",
              "      <td>4.00</td>\n",
              "      <td>0.00</td>\n",
              "      <td>0.00</td>\n",
              "      <td>0.00</td>\n",
              "      <td>0.00</td>\n",
              "      <td>0.00</td>\n",
              "      <td>0.00</td>\n",
              "      <td>0.00</td>\n",
              "    </tr>\n",
              "    <tr>\n",
              "      <th>1535</th>\n",
              "      <td>وزراة الشؤون البلدية والقروية</td>\n",
              "      <td>وزراة الشؤون البلدية والقروية</td>\n",
              "      <td>مبادرة اعداد الأرصدة الافتتاحية</td>\n",
              "      <td>0.00</td>\n",
              "      <td>7.00</td>\n",
              "      <td>6.00</td>\n",
              "      <td>0.00</td>\n",
              "      <td>0.00</td>\n",
              "      <td>0.00</td>\n",
              "      <td>0.00</td>\n",
              "      <td>0.00</td>\n",
              "    </tr>\n",
              "    <tr>\n",
              "      <th>1536</th>\n",
              "      <td>وزراة الشؤون البلدية والقروية</td>\n",
              "      <td>وزراة الشؤون البلدية والقروية</td>\n",
              "      <td>مبادرة تنفيذ الخصائص التقنية والمواصفات الفنية...</td>\n",
              "      <td>0.00</td>\n",
              "      <td>3.00</td>\n",
              "      <td>5.00</td>\n",
              "      <td>7.00</td>\n",
              "      <td>4.00</td>\n",
              "      <td>4.00</td>\n",
              "      <td>4.00</td>\n",
              "      <td>5.00</td>\n",
              "    </tr>\n",
              "    <tr>\n",
              "      <th>1537</th>\n",
              "      <td>وزراة الشؤون البلدية والقروية</td>\n",
              "      <td>وزراة الشؤون البلدية والقروية</td>\n",
              "      <td>مبادرة مراجعة القوائم المالية للجهة الحكومية</td>\n",
              "      <td>0.00</td>\n",
              "      <td>4.00</td>\n",
              "      <td>12.00</td>\n",
              "      <td>0.00</td>\n",
              "      <td>0.00</td>\n",
              "      <td>0.00</td>\n",
              "      <td>0.00</td>\n",
              "      <td>0.00</td>\n",
              "    </tr>\n",
              "    <tr>\n",
              "      <th>1538</th>\n",
              "      <td>وزراة الشؤون البلدية والقروية</td>\n",
              "      <td>وزراة الشؤون البلدية والقروية</td>\n",
              "      <td>مسك السجلات المحاسبية</td>\n",
              "      <td>0.00</td>\n",
              "      <td>12.00</td>\n",
              "      <td>12.00</td>\n",
              "      <td>4.00</td>\n",
              "      <td>0.00</td>\n",
              "      <td>0.00</td>\n",
              "      <td>0.00</td>\n",
              "      <td>0.00</td>\n",
              "    </tr>\n",
              "  </tbody>\n",
              "</table>\n",
              "<p>1539 rows × 11 columns</p>\n",
              "</div>"
            ],
            "text/plain": [
              "                               Group  ... Activities 7\n",
              "0                    المجموعة الأولى  ...         0.00\n",
              "1                    المجموعة الأولى  ...         0.00\n",
              "2                    المجموعة الأولى  ...         0.00\n",
              "3                    المجموعة الأولى  ...         0.00\n",
              "4                    المجموعة الأولى  ...         0.00\n",
              "...                              ...  ...          ...\n",
              "1534  وزراة الشؤون البلدية والقروية   ...         0.00\n",
              "1535  وزراة الشؤون البلدية والقروية   ...         0.00\n",
              "1536  وزراة الشؤون البلدية والقروية   ...         5.00\n",
              "1537  وزراة الشؤون البلدية والقروية   ...         0.00\n",
              "1538  وزراة الشؤون البلدية والقروية   ...         0.00\n",
              "\n",
              "[1539 rows x 11 columns]"
            ]
          },
          "metadata": {
            "tags": []
          },
          "execution_count": 88
        }
      ]
    },
    {
      "cell_type": "markdown",
      "metadata": {
        "id": "j8lA7geufbKt"
      },
      "source": [
        "Here 'Activities 0' means the number of activities in initiatives that have no phases "
      ]
    },
    {
      "cell_type": "markdown",
      "metadata": {
        "id": "tyeDTzgKfpXK"
      },
      "source": [
        "#### Getting number of outputs in each phase "
      ]
    },
    {
      "cell_type": "code",
      "metadata": {
        "id": "EB4Xb_9M9GZy"
      },
      "source": [
        "Outputs_per_phase=Outputs_per_phase.merge(df_phases.loc[:, ['Group',\t'Holder_name'\t,'Initiative_name',\t'phase' , 'phase_order']] , how='left' , on=['Group',\t'Holder_name'\t,'Initiative_name',\t'phase'] )"
      ],
      "execution_count": 89,
      "outputs": []
    },
    {
      "cell_type": "code",
      "metadata": {
        "id": "lUHYp8XB9GfK"
      },
      "source": [
        "outputs_per_phase_initiative=pd.pivot_table(Outputs_per_phase, values='Activity', index= ['Group' , 'Holder_name','Initiative_name'],\n",
        "                    columns=['phase_order'], aggfunc=lambda x: x.mode().iat[0]).fillna(0).reset_index()"
      ],
      "execution_count": 90,
      "outputs": []
    },
    {
      "cell_type": "code",
      "metadata": {
        "id": "_0Qhj1yLxfk_"
      },
      "source": [
        ""
      ],
      "execution_count": 90,
      "outputs": []
    },
    {
      "cell_type": "code",
      "metadata": {
        "id": "iCNsF76lxf3x"
      },
      "source": [
        "outputs_per_phase_initiative.set_index(['Group' , 'Holder_name','Initiative_name' ],inplace=True)"
      ],
      "execution_count": 91,
      "outputs": []
    },
    {
      "cell_type": "code",
      "metadata": {
        "id": "j5wFSDDjxf3_"
      },
      "source": [
        "outputs_per_phase_initiative.columns = [ 'outputs'+ ' ' + str(col)  for col in outputs_per_phase_initiative.columns]"
      ],
      "execution_count": 92,
      "outputs": []
    },
    {
      "cell_type": "code",
      "metadata": {
        "id": "MfEReJ3_xf4H"
      },
      "source": [
        "outputs_per_phase_initiative.reset_index(col_level = 1 , inplace=True)"
      ],
      "execution_count": 93,
      "outputs": []
    },
    {
      "cell_type": "code",
      "metadata": {
        "id": "TiY9JAr7x-eB",
        "outputId": "9db3714d-1e99-4410-a229-ea83cccf173b",
        "colab": {
          "base_uri": "https://localhost:8080/",
          "height": 606
        }
      },
      "source": [
        "outputs_per_phase_initiative"
      ],
      "execution_count": 94,
      "outputs": [
        {
          "output_type": "execute_result",
          "data": {
            "text/html": [
              "<div>\n",
              "<style scoped>\n",
              "    .dataframe tbody tr th:only-of-type {\n",
              "        vertical-align: middle;\n",
              "    }\n",
              "\n",
              "    .dataframe tbody tr th {\n",
              "        vertical-align: top;\n",
              "    }\n",
              "\n",
              "    .dataframe thead th {\n",
              "        text-align: right;\n",
              "    }\n",
              "</style>\n",
              "<table border=\"1\" class=\"dataframe\">\n",
              "  <thead>\n",
              "    <tr style=\"text-align: right;\">\n",
              "      <th></th>\n",
              "      <th>Group</th>\n",
              "      <th>Holder_name</th>\n",
              "      <th>Initiative_name</th>\n",
              "      <th>outputs 0</th>\n",
              "      <th>outputs 1</th>\n",
              "      <th>outputs 2</th>\n",
              "      <th>outputs 3</th>\n",
              "      <th>outputs 4</th>\n",
              "      <th>outputs 5</th>\n",
              "      <th>outputs 6</th>\n",
              "      <th>outputs 7</th>\n",
              "    </tr>\n",
              "  </thead>\n",
              "  <tbody>\n",
              "    <tr>\n",
              "      <th>0</th>\n",
              "      <td>المجموعة الأولى</td>\n",
              "      <td>إدارة الأقتراض الحكومي</td>\n",
              "      <td>الاعداد والتهيئة</td>\n",
              "      <td>1.00</td>\n",
              "      <td>0.00</td>\n",
              "      <td>0.00</td>\n",
              "      <td>0.00</td>\n",
              "      <td>0.00</td>\n",
              "      <td>0.00</td>\n",
              "      <td>0.00</td>\n",
              "      <td>0.00</td>\n",
              "    </tr>\n",
              "    <tr>\n",
              "      <th>1</th>\n",
              "      <td>المجموعة الأولى</td>\n",
              "      <td>إدارة الأقتراض الحكومي</td>\n",
              "      <td>طرح كراسة اعداد الأرصدة الافتتاحية ومسك الحسابات</td>\n",
              "      <td>1.00</td>\n",
              "      <td>0.00</td>\n",
              "      <td>0.00</td>\n",
              "      <td>0.00</td>\n",
              "      <td>0.00</td>\n",
              "      <td>0.00</td>\n",
              "      <td>0.00</td>\n",
              "      <td>0.00</td>\n",
              "    </tr>\n",
              "    <tr>\n",
              "      <th>2</th>\n",
              "      <td>المجموعة الأولى</td>\n",
              "      <td>إدارة الأقتراض الحكومي</td>\n",
              "      <td>طرح كراسة تنفيذ الخصائص التقنية والفنية للنظام...</td>\n",
              "      <td>1.00</td>\n",
              "      <td>0.00</td>\n",
              "      <td>0.00</td>\n",
              "      <td>0.00</td>\n",
              "      <td>0.00</td>\n",
              "      <td>0.00</td>\n",
              "      <td>0.00</td>\n",
              "      <td>0.00</td>\n",
              "    </tr>\n",
              "    <tr>\n",
              "      <th>3</th>\n",
              "      <td>المجموعة الأولى</td>\n",
              "      <td>إدارة الأقتراض الحكومي</td>\n",
              "      <td>طرح كراسة مراجعة القوائم المالية  للجهة الحكوميّة</td>\n",
              "      <td>1.00</td>\n",
              "      <td>0.00</td>\n",
              "      <td>0.00</td>\n",
              "      <td>0.00</td>\n",
              "      <td>0.00</td>\n",
              "      <td>0.00</td>\n",
              "      <td>0.00</td>\n",
              "      <td>0.00</td>\n",
              "    </tr>\n",
              "    <tr>\n",
              "      <th>4</th>\n",
              "      <td>المجموعة الأولى</td>\n",
              "      <td>إدارة الأقتراض الحكومي</td>\n",
              "      <td>مبادرة اعداد الأرصدة الافتتاحية</td>\n",
              "      <td>0.00</td>\n",
              "      <td>2.00</td>\n",
              "      <td>3.00</td>\n",
              "      <td>0.00</td>\n",
              "      <td>0.00</td>\n",
              "      <td>0.00</td>\n",
              "      <td>0.00</td>\n",
              "      <td>0.00</td>\n",
              "    </tr>\n",
              "    <tr>\n",
              "      <th>...</th>\n",
              "      <td>...</td>\n",
              "      <td>...</td>\n",
              "      <td>...</td>\n",
              "      <td>...</td>\n",
              "      <td>...</td>\n",
              "      <td>...</td>\n",
              "      <td>...</td>\n",
              "      <td>...</td>\n",
              "      <td>...</td>\n",
              "      <td>...</td>\n",
              "      <td>...</td>\n",
              "    </tr>\n",
              "    <tr>\n",
              "      <th>1534</th>\n",
              "      <td>وزراة الشؤون البلدية والقروية</td>\n",
              "      <td>وزراة الشؤون البلدية والقروية</td>\n",
              "      <td>طرح كراسة مراجعة القوائم المالية  للجهة الحكوميّة</td>\n",
              "      <td>1.00</td>\n",
              "      <td>0.00</td>\n",
              "      <td>0.00</td>\n",
              "      <td>0.00</td>\n",
              "      <td>0.00</td>\n",
              "      <td>0.00</td>\n",
              "      <td>0.00</td>\n",
              "      <td>0.00</td>\n",
              "    </tr>\n",
              "    <tr>\n",
              "      <th>1535</th>\n",
              "      <td>وزراة الشؤون البلدية والقروية</td>\n",
              "      <td>وزراة الشؤون البلدية والقروية</td>\n",
              "      <td>مبادرة اعداد الأرصدة الافتتاحية</td>\n",
              "      <td>0.00</td>\n",
              "      <td>2.00</td>\n",
              "      <td>3.00</td>\n",
              "      <td>0.00</td>\n",
              "      <td>0.00</td>\n",
              "      <td>0.00</td>\n",
              "      <td>0.00</td>\n",
              "      <td>0.00</td>\n",
              "    </tr>\n",
              "    <tr>\n",
              "      <th>1536</th>\n",
              "      <td>وزراة الشؤون البلدية والقروية</td>\n",
              "      <td>وزراة الشؤون البلدية والقروية</td>\n",
              "      <td>مبادرة تنفيذ الخصائص التقنية والمواصفات الفنية...</td>\n",
              "      <td>0.00</td>\n",
              "      <td>1.00</td>\n",
              "      <td>2.00</td>\n",
              "      <td>7.00</td>\n",
              "      <td>0.00</td>\n",
              "      <td>1.00</td>\n",
              "      <td>2.00</td>\n",
              "      <td>1.00</td>\n",
              "    </tr>\n",
              "    <tr>\n",
              "      <th>1537</th>\n",
              "      <td>وزراة الشؤون البلدية والقروية</td>\n",
              "      <td>وزراة الشؤون البلدية والقروية</td>\n",
              "      <td>مبادرة مراجعة القوائم المالية للجهة الحكومية</td>\n",
              "      <td>0.00</td>\n",
              "      <td>0.00</td>\n",
              "      <td>2.00</td>\n",
              "      <td>0.00</td>\n",
              "      <td>0.00</td>\n",
              "      <td>0.00</td>\n",
              "      <td>0.00</td>\n",
              "      <td>0.00</td>\n",
              "    </tr>\n",
              "    <tr>\n",
              "      <th>1538</th>\n",
              "      <td>وزراة الشؤون البلدية والقروية</td>\n",
              "      <td>وزراة الشؤون البلدية والقروية</td>\n",
              "      <td>مسك السجلات المحاسبية</td>\n",
              "      <td>0.00</td>\n",
              "      <td>0.00</td>\n",
              "      <td>12.00</td>\n",
              "      <td>7.00</td>\n",
              "      <td>0.00</td>\n",
              "      <td>0.00</td>\n",
              "      <td>0.00</td>\n",
              "      <td>0.00</td>\n",
              "    </tr>\n",
              "  </tbody>\n",
              "</table>\n",
              "<p>1539 rows × 11 columns</p>\n",
              "</div>"
            ],
            "text/plain": [
              "                               Group  ... outputs 7\n",
              "0                    المجموعة الأولى  ...      0.00\n",
              "1                    المجموعة الأولى  ...      0.00\n",
              "2                    المجموعة الأولى  ...      0.00\n",
              "3                    المجموعة الأولى  ...      0.00\n",
              "4                    المجموعة الأولى  ...      0.00\n",
              "...                              ...  ...       ...\n",
              "1534  وزراة الشؤون البلدية والقروية   ...      0.00\n",
              "1535  وزراة الشؤون البلدية والقروية   ...      0.00\n",
              "1536  وزراة الشؤون البلدية والقروية   ...      1.00\n",
              "1537  وزراة الشؤون البلدية والقروية   ...      0.00\n",
              "1538  وزراة الشؤون البلدية والقروية   ...      0.00\n",
              "\n",
              "[1539 rows x 11 columns]"
            ]
          },
          "metadata": {
            "tags": []
          },
          "execution_count": 94
        }
      ]
    },
    {
      "cell_type": "markdown",
      "metadata": {
        "id": "PzD-KUc7ft_I"
      },
      "source": [
        "#### Now , getting budget details on the level of phases in each initiative"
      ]
    },
    {
      "cell_type": "code",
      "metadata": {
        "id": "wWON8b0nB4Un"
      },
      "source": [
        "fund = [\n",
        "       'Awarded_Budget']"
      ],
      "execution_count": 95,
      "outputs": []
    },
    {
      "cell_type": "code",
      "metadata": {
        "id": "x8PvrpRpCEyd"
      },
      "source": [
        "t_name=[]\n",
        "for i in fund : \n",
        "  it = pd.pivot_table(df_phases, values=i, index= ['Group' , 'Holder_name','Initiative_name' ],columns=['phase_order'],\n",
        "                     aggfunc='sum').fillna(0).reset_index()\n",
        "  t_name.append(it)"
      ],
      "execution_count": 96,
      "outputs": []
    },
    {
      "cell_type": "code",
      "metadata": {
        "id": "X_LKI8vWP3sT"
      },
      "source": [
        "for i in range(len(fund)):\n",
        "\n",
        "     t_name[i].set_index(['Group' , 'Holder_name','Initiative_name' ],inplace=True)"
      ],
      "execution_count": 97,
      "outputs": []
    },
    {
      "cell_type": "code",
      "metadata": {
        "id": "edZjxEjSIRkr"
      },
      "source": [
        "for i in range(len(fund)):\n",
        "\n",
        "     t_name[i].columns = [ fund[i] + ' ' + str(col)  for col in t_name[i].columns]\n"
      ],
      "execution_count": 98,
      "outputs": []
    },
    {
      "cell_type": "code",
      "metadata": {
        "id": "dF_pHUwG9Guj"
      },
      "source": [
        "import functools\n",
        "\n",
        "dfs =t_name\n",
        "\n",
        "fund_set = functools.reduce(lambda left,right: pd.merge(left,right , on =['Group' , 'Holder_name','Initiative_name' ],how='outer'),dfs)\n"
      ],
      "execution_count": 99,
      "outputs": []
    },
    {
      "cell_type": "code",
      "metadata": {
        "id": "NMgpKOAq9Gxu",
        "outputId": "499928d4-754b-48fc-a914-e18b52100b6b",
        "colab": {
          "base_uri": "https://localhost:8080/",
          "height": 408
        }
      },
      "source": [
        "fund_set.head()"
      ],
      "execution_count": 100,
      "outputs": [
        {
          "output_type": "execute_result",
          "data": {
            "text/html": [
              "<div>\n",
              "<style scoped>\n",
              "    .dataframe tbody tr th:only-of-type {\n",
              "        vertical-align: middle;\n",
              "    }\n",
              "\n",
              "    .dataframe tbody tr th {\n",
              "        vertical-align: top;\n",
              "    }\n",
              "\n",
              "    .dataframe thead th {\n",
              "        text-align: right;\n",
              "    }\n",
              "</style>\n",
              "<table border=\"1\" class=\"dataframe\">\n",
              "  <thead>\n",
              "    <tr style=\"text-align: right;\">\n",
              "      <th></th>\n",
              "      <th></th>\n",
              "      <th></th>\n",
              "      <th>Awarded_Budget 0</th>\n",
              "      <th>Awarded_Budget 1</th>\n",
              "      <th>Awarded_Budget 2</th>\n",
              "      <th>Awarded_Budget 3</th>\n",
              "      <th>Awarded_Budget 4</th>\n",
              "      <th>Awarded_Budget 5</th>\n",
              "      <th>Awarded_Budget 6</th>\n",
              "      <th>Awarded_Budget 7</th>\n",
              "    </tr>\n",
              "    <tr>\n",
              "      <th>Group</th>\n",
              "      <th>Holder_name</th>\n",
              "      <th>Initiative_name</th>\n",
              "      <th></th>\n",
              "      <th></th>\n",
              "      <th></th>\n",
              "      <th></th>\n",
              "      <th></th>\n",
              "      <th></th>\n",
              "      <th></th>\n",
              "      <th></th>\n",
              "    </tr>\n",
              "  </thead>\n",
              "  <tbody>\n",
              "    <tr>\n",
              "      <th rowspan=\"5\" valign=\"top\">المجموعة الأولى</th>\n",
              "      <th rowspan=\"5\" valign=\"top\">إدارة الأقتراض الحكومي</th>\n",
              "      <th>الاعداد والتهيئة</th>\n",
              "      <td>0.00</td>\n",
              "      <td>0.00</td>\n",
              "      <td>0.00</td>\n",
              "      <td>0.00</td>\n",
              "      <td>0.00</td>\n",
              "      <td>0.00</td>\n",
              "      <td>0.00</td>\n",
              "      <td>0.00</td>\n",
              "    </tr>\n",
              "    <tr>\n",
              "      <th>طرح كراسة اعداد الأرصدة الافتتاحية ومسك الحسابات</th>\n",
              "      <td>0.00</td>\n",
              "      <td>0.00</td>\n",
              "      <td>0.00</td>\n",
              "      <td>0.00</td>\n",
              "      <td>0.00</td>\n",
              "      <td>0.00</td>\n",
              "      <td>0.00</td>\n",
              "      <td>0.00</td>\n",
              "    </tr>\n",
              "    <tr>\n",
              "      <th>طرح كراسة تنفيذ الخصائص التقنية والفنية للنظام المالي للجهات المركزية</th>\n",
              "      <td>0.00</td>\n",
              "      <td>0.00</td>\n",
              "      <td>0.00</td>\n",
              "      <td>0.00</td>\n",
              "      <td>0.00</td>\n",
              "      <td>0.00</td>\n",
              "      <td>0.00</td>\n",
              "      <td>0.00</td>\n",
              "    </tr>\n",
              "    <tr>\n",
              "      <th>طرح كراسة مراجعة القوائم المالية  للجهة الحكوميّة</th>\n",
              "      <td>0.00</td>\n",
              "      <td>0.00</td>\n",
              "      <td>0.00</td>\n",
              "      <td>0.00</td>\n",
              "      <td>0.00</td>\n",
              "      <td>0.00</td>\n",
              "      <td>0.00</td>\n",
              "      <td>0.00</td>\n",
              "    </tr>\n",
              "    <tr>\n",
              "      <th>مبادرة اعداد الأرصدة الافتتاحية</th>\n",
              "      <td>35109405.45</td>\n",
              "      <td>0.00</td>\n",
              "      <td>0.00</td>\n",
              "      <td>0.00</td>\n",
              "      <td>0.00</td>\n",
              "      <td>0.00</td>\n",
              "      <td>0.00</td>\n",
              "      <td>0.00</td>\n",
              "    </tr>\n",
              "  </tbody>\n",
              "</table>\n",
              "</div>"
            ],
            "text/plain": [
              "                                                                                           Awarded_Budget 0  ...  Awarded_Budget 7\n",
              "Group           Holder_name            Initiative_name                                                       ...                  \n",
              "المجموعة الأولى إدارة الأقتراض الحكومي الاعداد والتهيئة                                                0.00  ...              0.00\n",
              "                                       طرح كراسة اعداد الأرصدة الافتتاحية ومسك الحسابات                0.00  ...              0.00\n",
              "                                       طرح كراسة تنفيذ الخصائص التقنية والفنية للنظام ...              0.00  ...              0.00\n",
              "                                       طرح كراسة مراجعة القوائم المالية  للجهة الحكوميّة               0.00  ...              0.00\n",
              "                                       مبادرة اعداد الأرصدة الافتتاحية                          35109405.45  ...              0.00\n",
              "\n",
              "[5 rows x 8 columns]"
            ]
          },
          "metadata": {
            "tags": []
          },
          "execution_count": 100
        }
      ]
    },
    {
      "cell_type": "markdown",
      "metadata": {
        "id": "8n62MzTzf48t"
      },
      "source": [
        "### Finally we merge initiative level and phase level  data to get our final data we use in prediction"
      ]
    },
    {
      "cell_type": "code",
      "metadata": {
        "id": "I516iTK1yKmf"
      },
      "source": [
        "dfs = [df_initiative.drop(columns=['Actual' , 'Planned_start','Planned_end', 'Actual_Payments', 'Budget_Varience',\n",
        "       'Budget_Remaining']),outputs_per_phase_initiative , phases_per_initiative]"
      ],
      "execution_count": 101,
      "outputs": []
    },
    {
      "cell_type": "code",
      "metadata": {
        "id": "cO80ynyA9G0o"
      },
      "source": [
        "final_data=functools.reduce(lambda left,right: pd.merge(left,right , on =['Group' , 'Holder_name','Initiative_name' ],how='left'),dfs).fillna(0)"
      ],
      "execution_count": 102,
      "outputs": []
    },
    {
      "cell_type": "code",
      "metadata": {
        "id": "FvulutUl9GtJ",
        "outputId": "8bdca139-2989-4ae0-edfb-40067e5e4c13",
        "colab": {
          "base_uri": "https://localhost:8080/",
          "height": 734
        }
      },
      "source": [
        "final_data.head()"
      ],
      "execution_count": 103,
      "outputs": [
        {
          "output_type": "execute_result",
          "data": {
            "text/html": [
              "<div>\n",
              "<style scoped>\n",
              "    .dataframe tbody tr th:only-of-type {\n",
              "        vertical-align: middle;\n",
              "    }\n",
              "\n",
              "    .dataframe tbody tr th {\n",
              "        vertical-align: top;\n",
              "    }\n",
              "\n",
              "    .dataframe thead th {\n",
              "        text-align: right;\n",
              "    }\n",
              "</style>\n",
              "<table border=\"1\" class=\"dataframe\">\n",
              "  <thead>\n",
              "    <tr style=\"text-align: right;\">\n",
              "      <th></th>\n",
              "      <th>Group</th>\n",
              "      <th>Holder_name</th>\n",
              "      <th>Initiative_name</th>\n",
              "      <th>Main_activity</th>\n",
              "      <th>Period</th>\n",
              "      <th>Varience</th>\n",
              "      <th>Planned</th>\n",
              "      <th>Origin_Budget</th>\n",
              "      <th>Awarded_Budget</th>\n",
              "      <th>awarded_pct</th>\n",
              "      <th>Status</th>\n",
              "      <th>number_of_phases</th>\n",
              "      <th>since</th>\n",
              "      <th>outputs 0</th>\n",
              "      <th>outputs 1</th>\n",
              "      <th>outputs 2</th>\n",
              "      <th>outputs 3</th>\n",
              "      <th>outputs 4</th>\n",
              "      <th>outputs 5</th>\n",
              "      <th>outputs 6</th>\n",
              "      <th>outputs 7</th>\n",
              "      <th>1_الأنشطة الرئيسية</th>\n",
              "      <th>1_المرحلة الأولى : التجهيز للمشروع</th>\n",
              "      <th>1_المرحلة الأولى : التحليل والتخطيط</th>\n",
              "      <th>1_المرحلة الأولى : مرحلة الحصر ودراسة الوضع الحالي</th>\n",
              "      <th>1_المرحلة الثالثة :  التضمين و المساندة في مسك السجلات ونقل المعرفة العملية واعداد القوائم المالية</th>\n",
              "      <th>2_ مساندة وتدريب موظفي (الجهة الحكومية) اثناء العمل على القيام بمسك الحسابات على أساس الاستحقاق</th>\n",
              "      <th>2_المرحلة الثانية : التحليل والتخطيط</th>\n",
              "      <th>2_المرحلة الثانية : مرحلة الجرد والترميز</th>\n",
              "      <th>2_المرحلة الثانية :التنفيذ و إعداد الارصدة الإفتتاحية للاصول والخصوم واعداد المركز المالي الافتتاحي</th>\n",
              "      <th>2_مراجعة الأرصدة الافتتاحية (بيان المركز المالي الافتتاحي)</th>\n",
              "      <th>3_ اعداد القوائم الماليّة السنوية للجهة والقوائم الماليّة الموحدة (كما ينطبق) للسنة المالية المنتهية في (تاريخ اول قوائم المالية)</th>\n",
              "      <th>3_المرحلة الثالثة : اعداد وثائق متطلبات نظام تخطيط الموارد الحكومية</th>\n",
              "      <th>3_المرحلة الثالثة : التقييم واعداد سجلات الأصول</th>\n",
              "      <th>3_المرحلة الثالثة : تطوير وتنفيذ متطلبات النظام</th>\n",
              "      <th>4_المرحلة الرابعة : الدعم والتدريب ونقل المعرفة</th>\n",
              "      <th>4_المرحلة الرابعة : تطوير وتنفيذ متطلبات النظام</th>\n",
              "      <th>5_المرحلة الخامسة : الدعم والتدريب ونقل المعرفة</th>\n",
              "      <th>5_المرحلة الخامسة : دعم الاطلاق (Pilot Run)</th>\n",
              "      <th>6_المرحلة السادسة : الدعم الفني (Operations)</th>\n",
              "      <th>6_المرحلة السادسة : دعم الاطلاق (Pilot Run)</th>\n",
              "      <th>7_المرحلة السابعة : الدعم الفني (Operations)</th>\n",
              "    </tr>\n",
              "  </thead>\n",
              "  <tbody>\n",
              "    <tr>\n",
              "      <th>0</th>\n",
              "      <td>وزارة الدفاع والجهات الأمنية</td>\n",
              "      <td>الادارة العامة للخدمات الطبية للقوات المسلحة</td>\n",
              "      <td>الاعداد والتهيئة</td>\n",
              "      <td>الاعداد والتهيئة</td>\n",
              "      <td>0.00</td>\n",
              "      <td>0.50</td>\n",
              "      <td>1.00</td>\n",
              "      <td>0.00</td>\n",
              "      <td>0.00</td>\n",
              "      <td>0.00</td>\n",
              "      <td>متأخر جدا</td>\n",
              "      <td>0</td>\n",
              "      <td>21</td>\n",
              "      <td>1.00</td>\n",
              "      <td>0.00</td>\n",
              "      <td>0.00</td>\n",
              "      <td>0.00</td>\n",
              "      <td>0.00</td>\n",
              "      <td>0.00</td>\n",
              "      <td>0.00</td>\n",
              "      <td>0.00</td>\n",
              "      <td>0.00</td>\n",
              "      <td>0.00</td>\n",
              "      <td>0.00</td>\n",
              "      <td>0.00</td>\n",
              "      <td>0.00</td>\n",
              "      <td>0.00</td>\n",
              "      <td>0.00</td>\n",
              "      <td>0.00</td>\n",
              "      <td>0.00</td>\n",
              "      <td>0.00</td>\n",
              "      <td>0.00</td>\n",
              "      <td>0.00</td>\n",
              "      <td>0.00</td>\n",
              "      <td>0.00</td>\n",
              "      <td>0.00</td>\n",
              "      <td>0.00</td>\n",
              "      <td>0.00</td>\n",
              "      <td>0.00</td>\n",
              "      <td>0.00</td>\n",
              "      <td>0.00</td>\n",
              "      <td>0.00</td>\n",
              "    </tr>\n",
              "    <tr>\n",
              "      <th>1</th>\n",
              "      <td>وزارة الدفاع والجهات الأمنية</td>\n",
              "      <td>الادارة العامة للخدمات الطبية للقوات المسلحة</td>\n",
              "      <td>طرح كراسة حصر وجرد وتقييم الأصول الثابتة</td>\n",
              "      <td>طرح كراسة حصر وجرد وتقييم الأصول الثابتة</td>\n",
              "      <td>0.00</td>\n",
              "      <td>1.00</td>\n",
              "      <td>1.00</td>\n",
              "      <td>0.00</td>\n",
              "      <td>0.00</td>\n",
              "      <td>0.00</td>\n",
              "      <td>متأخر جدا</td>\n",
              "      <td>0</td>\n",
              "      <td>21</td>\n",
              "      <td>1.00</td>\n",
              "      <td>0.00</td>\n",
              "      <td>0.00</td>\n",
              "      <td>0.00</td>\n",
              "      <td>0.00</td>\n",
              "      <td>0.00</td>\n",
              "      <td>0.00</td>\n",
              "      <td>0.00</td>\n",
              "      <td>0.00</td>\n",
              "      <td>0.00</td>\n",
              "      <td>0.00</td>\n",
              "      <td>0.00</td>\n",
              "      <td>0.00</td>\n",
              "      <td>0.00</td>\n",
              "      <td>0.00</td>\n",
              "      <td>0.00</td>\n",
              "      <td>0.00</td>\n",
              "      <td>0.00</td>\n",
              "      <td>0.00</td>\n",
              "      <td>0.00</td>\n",
              "      <td>0.00</td>\n",
              "      <td>0.00</td>\n",
              "      <td>0.00</td>\n",
              "      <td>0.00</td>\n",
              "      <td>0.00</td>\n",
              "      <td>0.00</td>\n",
              "      <td>0.00</td>\n",
              "      <td>0.00</td>\n",
              "      <td>0.00</td>\n",
              "    </tr>\n",
              "    <tr>\n",
              "      <th>2</th>\n",
              "      <td>وزارة الدفاع والجهات الأمنية</td>\n",
              "      <td>الادارة العامة للخدمات الطبية للقوات المسلحة</td>\n",
              "      <td>حصر وجرد وتقييم الأصول الثابتة المتخصصة والبني...</td>\n",
              "      <td>حصر وجرد وتقييم الأصول الثابتة المتخصصة والبني...</td>\n",
              "      <td>24.00</td>\n",
              "      <td>-0.04</td>\n",
              "      <td>0.84</td>\n",
              "      <td>47271363.00</td>\n",
              "      <td>34980808.62</td>\n",
              "      <td>0.74</td>\n",
              "      <td>على المسار</td>\n",
              "      <td>3</td>\n",
              "      <td>21</td>\n",
              "      <td>0.00</td>\n",
              "      <td>1.00</td>\n",
              "      <td>1.00</td>\n",
              "      <td>1.00</td>\n",
              "      <td>0.00</td>\n",
              "      <td>0.00</td>\n",
              "      <td>0.00</td>\n",
              "      <td>0.00</td>\n",
              "      <td>0.00</td>\n",
              "      <td>0.00</td>\n",
              "      <td>0.00</td>\n",
              "      <td>1.00</td>\n",
              "      <td>0.00</td>\n",
              "      <td>0.00</td>\n",
              "      <td>0.00</td>\n",
              "      <td>1.00</td>\n",
              "      <td>0.00</td>\n",
              "      <td>0.00</td>\n",
              "      <td>0.00</td>\n",
              "      <td>0.00</td>\n",
              "      <td>1.00</td>\n",
              "      <td>0.00</td>\n",
              "      <td>0.00</td>\n",
              "      <td>0.00</td>\n",
              "      <td>0.00</td>\n",
              "      <td>0.00</td>\n",
              "      <td>0.00</td>\n",
              "      <td>0.00</td>\n",
              "      <td>0.00</td>\n",
              "    </tr>\n",
              "    <tr>\n",
              "      <th>3</th>\n",
              "      <td>وزارة الدفاع والجهات الأمنية</td>\n",
              "      <td>الادارة العامة للخدمات الطبية للقوات المسلحة</td>\n",
              "      <td>طرح كراسة اعداد الأرصدة الافتتاحية ومسك الحسابات</td>\n",
              "      <td>طرح كراسة اعداد الأرصدة الافتتاحية ومسك الحسابات</td>\n",
              "      <td>2.00</td>\n",
              "      <td>0.25</td>\n",
              "      <td>1.00</td>\n",
              "      <td>0.00</td>\n",
              "      <td>0.00</td>\n",
              "      <td>0.00</td>\n",
              "      <td>متأخر جدا</td>\n",
              "      <td>0</td>\n",
              "      <td>21</td>\n",
              "      <td>1.00</td>\n",
              "      <td>0.00</td>\n",
              "      <td>0.00</td>\n",
              "      <td>0.00</td>\n",
              "      <td>0.00</td>\n",
              "      <td>0.00</td>\n",
              "      <td>0.00</td>\n",
              "      <td>0.00</td>\n",
              "      <td>0.00</td>\n",
              "      <td>0.00</td>\n",
              "      <td>0.00</td>\n",
              "      <td>0.00</td>\n",
              "      <td>0.00</td>\n",
              "      <td>0.00</td>\n",
              "      <td>0.00</td>\n",
              "      <td>0.00</td>\n",
              "      <td>0.00</td>\n",
              "      <td>0.00</td>\n",
              "      <td>0.00</td>\n",
              "      <td>0.00</td>\n",
              "      <td>0.00</td>\n",
              "      <td>0.00</td>\n",
              "      <td>0.00</td>\n",
              "      <td>0.00</td>\n",
              "      <td>0.00</td>\n",
              "      <td>0.00</td>\n",
              "      <td>0.00</td>\n",
              "      <td>0.00</td>\n",
              "      <td>0.00</td>\n",
              "    </tr>\n",
              "    <tr>\n",
              "      <th>4</th>\n",
              "      <td>وزارة الدفاع والجهات الأمنية</td>\n",
              "      <td>الادارة العامة للخدمات الطبية للقوات المسلحة</td>\n",
              "      <td>مبادرة اعداد الأرصدة الافتتاحية</td>\n",
              "      <td>مبادرة اعداد الأرصدة الافتتاحية</td>\n",
              "      <td>13.00</td>\n",
              "      <td>0.30</td>\n",
              "      <td>1.00</td>\n",
              "      <td>49981321.00</td>\n",
              "      <td>37485990.75</td>\n",
              "      <td>0.75</td>\n",
              "      <td>متأخر جدا</td>\n",
              "      <td>2</td>\n",
              "      <td>19</td>\n",
              "      <td>0.00</td>\n",
              "      <td>2.00</td>\n",
              "      <td>3.00</td>\n",
              "      <td>0.00</td>\n",
              "      <td>0.00</td>\n",
              "      <td>0.00</td>\n",
              "      <td>0.00</td>\n",
              "      <td>0.00</td>\n",
              "      <td>0.00</td>\n",
              "      <td>0.00</td>\n",
              "      <td>1.00</td>\n",
              "      <td>0.00</td>\n",
              "      <td>0.00</td>\n",
              "      <td>0.00</td>\n",
              "      <td>0.00</td>\n",
              "      <td>0.00</td>\n",
              "      <td>1.00</td>\n",
              "      <td>0.00</td>\n",
              "      <td>0.00</td>\n",
              "      <td>0.00</td>\n",
              "      <td>0.00</td>\n",
              "      <td>0.00</td>\n",
              "      <td>0.00</td>\n",
              "      <td>0.00</td>\n",
              "      <td>0.00</td>\n",
              "      <td>0.00</td>\n",
              "      <td>0.00</td>\n",
              "      <td>0.00</td>\n",
              "      <td>0.00</td>\n",
              "    </tr>\n",
              "  </tbody>\n",
              "</table>\n",
              "</div>"
            ],
            "text/plain": [
              "                           Group  ... 7_المرحلة السابعة : الدعم الفني (Operations)\n",
              "0  وزارة الدفاع والجهات الأمنية   ...                                         0.00\n",
              "1  وزارة الدفاع والجهات الأمنية   ...                                         0.00\n",
              "2  وزارة الدفاع والجهات الأمنية   ...                                         0.00\n",
              "3  وزارة الدفاع والجهات الأمنية   ...                                         0.00\n",
              "4  وزارة الدفاع والجهات الأمنية   ...                                         0.00\n",
              "\n",
              "[5 rows x 42 columns]"
            ]
          },
          "metadata": {
            "tags": []
          },
          "execution_count": 103
        }
      ]
    },
    {
      "cell_type": "markdown",
      "metadata": {
        "id": "DT4Nej6MgnHs"
      },
      "source": [
        "#### Since we will predict status of initiatives that not started based on status of initiatives that already started , we divide data on that basis"
      ]
    },
    {
      "cell_type": "code",
      "metadata": {
        "id": "GhlBjtDc_lHH"
      },
      "source": [
        "\n",
        "final_data_train = final_data.loc[final_data['Status'] != 'لم تبدأ' ,:]"
      ],
      "execution_count": 104,
      "outputs": []
    },
    {
      "cell_type": "code",
      "metadata": {
        "id": "BKUu6BOk2rSs"
      },
      "source": [
        "final_data_test = final_data.loc[final_data['Status'] == 'لم تبدأ' ,:]"
      ],
      "execution_count": 105,
      "outputs": []
    },
    {
      "cell_type": "code",
      "metadata": {
        "id": "pEsPSBJXFF35"
      },
      "source": [
        "#final_data_train.drop(columns=['Status'] , inplace=True)\n",
        "#final_data_test.drop(columns=['Status'] , inplace=True)"
      ],
      "execution_count": 106,
      "outputs": []
    },
    {
      "cell_type": "code",
      "metadata": {
        "id": "8QkSBqXIFF1Y"
      },
      "source": [
        ""
      ],
      "execution_count": 106,
      "outputs": []
    },
    {
      "cell_type": "code",
      "metadata": {
        "id": "EBFGZQsE9Gc8"
      },
      "source": [
        "X_train=pd.get_dummies(final_data_train.drop(columns=[ 'Status','Holder_name'  , 'Varience' ]).fillna(0) , columns = ['Group' ,'Initiative_name'])"
      ],
      "execution_count": 107,
      "outputs": []
    },
    {
      "cell_type": "code",
      "metadata": {
        "id": "p81nQjuF1CrX"
      },
      "source": [
        ""
      ],
      "execution_count": 107,
      "outputs": []
    },
    {
      "cell_type": "code",
      "metadata": {
        "id": "bBOenhzz0fG1",
        "outputId": "0f63ba60-c6fa-4fc1-a41c-6e4bad476aff",
        "colab": {
          "base_uri": "https://localhost:8080/",
          "height": 1000
        }
      },
      "source": [
        "X_train.corr()"
      ],
      "execution_count": 108,
      "outputs": [
        {
          "output_type": "execute_result",
          "data": {
            "text/html": [
              "<div>\n",
              "<style scoped>\n",
              "    .dataframe tbody tr th:only-of-type {\n",
              "        vertical-align: middle;\n",
              "    }\n",
              "\n",
              "    .dataframe tbody tr th {\n",
              "        vertical-align: top;\n",
              "    }\n",
              "\n",
              "    .dataframe thead th {\n",
              "        text-align: right;\n",
              "    }\n",
              "</style>\n",
              "<table border=\"1\" class=\"dataframe\">\n",
              "  <thead>\n",
              "    <tr style=\"text-align: right;\">\n",
              "      <th></th>\n",
              "      <th>Period</th>\n",
              "      <th>Planned</th>\n",
              "      <th>Origin_Budget</th>\n",
              "      <th>Awarded_Budget</th>\n",
              "      <th>awarded_pct</th>\n",
              "      <th>number_of_phases</th>\n",
              "      <th>since</th>\n",
              "      <th>outputs 0</th>\n",
              "      <th>outputs 1</th>\n",
              "      <th>outputs 2</th>\n",
              "      <th>outputs 3</th>\n",
              "      <th>outputs 4</th>\n",
              "      <th>outputs 5</th>\n",
              "      <th>outputs 6</th>\n",
              "      <th>outputs 7</th>\n",
              "      <th>1_الأنشطة الرئيسية</th>\n",
              "      <th>1_المرحلة الأولى : التجهيز للمشروع</th>\n",
              "      <th>1_المرحلة الأولى : التحليل والتخطيط</th>\n",
              "      <th>1_المرحلة الأولى : مرحلة الحصر ودراسة الوضع الحالي</th>\n",
              "      <th>1_المرحلة الثالثة :  التضمين و المساندة في مسك السجلات ونقل المعرفة العملية واعداد القوائم المالية</th>\n",
              "      <th>2_ مساندة وتدريب موظفي (الجهة الحكومية) اثناء العمل على القيام بمسك الحسابات على أساس الاستحقاق</th>\n",
              "      <th>2_المرحلة الثانية : التحليل والتخطيط</th>\n",
              "      <th>2_المرحلة الثانية : مرحلة الجرد والترميز</th>\n",
              "      <th>2_المرحلة الثانية :التنفيذ و إعداد الارصدة الإفتتاحية للاصول والخصوم واعداد المركز المالي الافتتاحي</th>\n",
              "      <th>2_مراجعة الأرصدة الافتتاحية (بيان المركز المالي الافتتاحي)</th>\n",
              "      <th>3_ اعداد القوائم الماليّة السنوية للجهة والقوائم الماليّة الموحدة (كما ينطبق) للسنة المالية المنتهية في (تاريخ اول قوائم المالية)</th>\n",
              "      <th>3_المرحلة الثالثة : اعداد وثائق متطلبات نظام تخطيط الموارد الحكومية</th>\n",
              "      <th>3_المرحلة الثالثة : التقييم واعداد سجلات الأصول</th>\n",
              "      <th>3_المرحلة الثالثة : تطوير وتنفيذ متطلبات النظام</th>\n",
              "      <th>4_المرحلة الرابعة : الدعم والتدريب ونقل المعرفة</th>\n",
              "      <th>4_المرحلة الرابعة : تطوير وتنفيذ متطلبات النظام</th>\n",
              "      <th>5_المرحلة الخامسة : الدعم والتدريب ونقل المعرفة</th>\n",
              "      <th>5_المرحلة الخامسة : دعم الاطلاق (Pilot Run)</th>\n",
              "      <th>6_المرحلة السادسة : الدعم الفني (Operations)</th>\n",
              "      <th>6_المرحلة السادسة : دعم الاطلاق (Pilot Run)</th>\n",
              "      <th>7_المرحلة السابعة : الدعم الفني (Operations)</th>\n",
              "      <th>Group_المجموعة الأولى</th>\n",
              "      <th>Group_المجموعة الثالثة</th>\n",
              "      <th>Group_المجموعة الثانية</th>\n",
              "      <th>Group_وزارة التعليم والمؤسسات التعليمية</th>\n",
              "      <th>Group_وزارة الداخلية والجهات الأمنية</th>\n",
              "      <th>Group_وزارة الدفاع والجهات الأمنية</th>\n",
              "      <th>Group_وزراة الشؤون البلدية والقروية</th>\n",
              "      <th>Initiative_name_الاعداد والتهيئة</th>\n",
              "      <th>Initiative_name_حصر وجرد وتقييم الأصول الثابتة المتخصصة والبنية التحتية</th>\n",
              "      <th>Initiative_name_طرح كراسة اعداد الأرصدة الافتتاحية ومسك الحسابات</th>\n",
              "      <th>Initiative_name_طرح كراسة تنفيذ الخصائص التقنية والفنية للنظام المالي للجهات اللامركزية</th>\n",
              "      <th>Initiative_name_طرح كراسة تنفيذ الخصائص التقنية والفنية للنظام المالي للجهات المركزية</th>\n",
              "      <th>Initiative_name_طرح كراسة حصر وجرد وتقييم الأصول الثابتة</th>\n",
              "      <th>Initiative_name_طرح كراسة مراجعة القوائم المالية  للجهة الحكوميّة</th>\n",
              "      <th>Initiative_name_مبادرة اعداد الأرصدة الافتتاحية</th>\n",
              "      <th>Initiative_name_مبادرة تنفيذ الخصائص التقنية والمواصفات الفنية للنظام المالي للجهات اللامركزية</th>\n",
              "      <th>Initiative_name_مبادرة تنفيذ الخصائص التقنية والمواصفات الفنية للنظام المالي للجهات المركزية</th>\n",
              "      <th>Initiative_name_مبادرة مراجعة القوائم المالية للجهة الحكومية</th>\n",
              "      <th>Initiative_name_مسك السجلات المحاسبية</th>\n",
              "    </tr>\n",
              "  </thead>\n",
              "  <tbody>\n",
              "    <tr>\n",
              "      <th>Period</th>\n",
              "      <td>1.00</td>\n",
              "      <td>-0.43</td>\n",
              "      <td>0.61</td>\n",
              "      <td>0.60</td>\n",
              "      <td>0.63</td>\n",
              "      <td>0.39</td>\n",
              "      <td>-0.13</td>\n",
              "      <td>-0.63</td>\n",
              "      <td>0.35</td>\n",
              "      <td>0.54</td>\n",
              "      <td>0.43</td>\n",
              "      <td>-0.09</td>\n",
              "      <td>-0.02</td>\n",
              "      <td>0.01</td>\n",
              "      <td>0.04</td>\n",
              "      <td>-0.04</td>\n",
              "      <td>-0.02</td>\n",
              "      <td>0.20</td>\n",
              "      <td>0.49</td>\n",
              "      <td>0.46</td>\n",
              "      <td>0.46</td>\n",
              "      <td>-0.02</td>\n",
              "      <td>0.49</td>\n",
              "      <td>0.20</td>\n",
              "      <td>-0.04</td>\n",
              "      <td>0.46</td>\n",
              "      <td>0.04</td>\n",
              "      <td>0.49</td>\n",
              "      <td>-0.09</td>\n",
              "      <td>-0.09</td>\n",
              "      <td>0.04</td>\n",
              "      <td>0.04</td>\n",
              "      <td>-0.09</td>\n",
              "      <td>-0.09</td>\n",
              "      <td>0.04</td>\n",
              "      <td>0.04</td>\n",
              "      <td>-0.06</td>\n",
              "      <td>0.12</td>\n",
              "      <td>-0.01</td>\n",
              "      <td>-0.01</td>\n",
              "      <td>-0.03</td>\n",
              "      <td>0.01</td>\n",
              "      <td>0.04</td>\n",
              "      <td>-0.44</td>\n",
              "      <td>0.49</td>\n",
              "      <td>-0.17</td>\n",
              "      <td>-0.12</td>\n",
              "      <td>-0.07</td>\n",
              "      <td>-0.13</td>\n",
              "      <td>-0.05</td>\n",
              "      <td>0.20</td>\n",
              "      <td>0.04</td>\n",
              "      <td>-0.09</td>\n",
              "      <td>-0.04</td>\n",
              "      <td>0.46</td>\n",
              "    </tr>\n",
              "    <tr>\n",
              "      <th>Planned</th>\n",
              "      <td>-0.43</td>\n",
              "      <td>1.00</td>\n",
              "      <td>-0.33</td>\n",
              "      <td>-0.34</td>\n",
              "      <td>-0.35</td>\n",
              "      <td>-0.19</td>\n",
              "      <td>0.64</td>\n",
              "      <td>0.34</td>\n",
              "      <td>-0.01</td>\n",
              "      <td>-0.53</td>\n",
              "      <td>-0.36</td>\n",
              "      <td>-0.01</td>\n",
              "      <td>0.06</td>\n",
              "      <td>0.07</td>\n",
              "      <td>0.08</td>\n",
              "      <td>-0.13</td>\n",
              "      <td>0.06</td>\n",
              "      <td>0.01</td>\n",
              "      <td>-0.12</td>\n",
              "      <td>-0.53</td>\n",
              "      <td>-0.53</td>\n",
              "      <td>0.06</td>\n",
              "      <td>-0.12</td>\n",
              "      <td>0.01</td>\n",
              "      <td>-0.13</td>\n",
              "      <td>-0.53</td>\n",
              "      <td>0.08</td>\n",
              "      <td>-0.12</td>\n",
              "      <td>-0.01</td>\n",
              "      <td>-0.01</td>\n",
              "      <td>0.08</td>\n",
              "      <td>0.08</td>\n",
              "      <td>-0.01</td>\n",
              "      <td>-0.01</td>\n",
              "      <td>0.08</td>\n",
              "      <td>0.08</td>\n",
              "      <td>-0.01</td>\n",
              "      <td>0.04</td>\n",
              "      <td>-0.11</td>\n",
              "      <td>0.07</td>\n",
              "      <td>-0.12</td>\n",
              "      <td>0.03</td>\n",
              "      <td>0.06</td>\n",
              "      <td>0.24</td>\n",
              "      <td>-0.12</td>\n",
              "      <td>0.16</td>\n",
              "      <td>0.11</td>\n",
              "      <td>0.01</td>\n",
              "      <td>0.11</td>\n",
              "      <td>-0.21</td>\n",
              "      <td>0.01</td>\n",
              "      <td>0.08</td>\n",
              "      <td>-0.01</td>\n",
              "      <td>-0.13</td>\n",
              "      <td>-0.53</td>\n",
              "    </tr>\n",
              "    <tr>\n",
              "      <th>Origin_Budget</th>\n",
              "      <td>0.61</td>\n",
              "      <td>-0.33</td>\n",
              "      <td>1.00</td>\n",
              "      <td>0.99</td>\n",
              "      <td>0.97</td>\n",
              "      <td>0.82</td>\n",
              "      <td>-0.22</td>\n",
              "      <td>-0.98</td>\n",
              "      <td>0.74</td>\n",
              "      <td>0.62</td>\n",
              "      <td>0.55</td>\n",
              "      <td>0.24</td>\n",
              "      <td>0.44</td>\n",
              "      <td>0.43</td>\n",
              "      <td>0.36</td>\n",
              "      <td>0.10</td>\n",
              "      <td>0.44</td>\n",
              "      <td>0.45</td>\n",
              "      <td>0.30</td>\n",
              "      <td>0.34</td>\n",
              "      <td>0.34</td>\n",
              "      <td>0.44</td>\n",
              "      <td>0.30</td>\n",
              "      <td>0.45</td>\n",
              "      <td>0.10</td>\n",
              "      <td>0.34</td>\n",
              "      <td>0.36</td>\n",
              "      <td>0.30</td>\n",
              "      <td>0.24</td>\n",
              "      <td>0.24</td>\n",
              "      <td>0.36</td>\n",
              "      <td>0.36</td>\n",
              "      <td>0.24</td>\n",
              "      <td>0.24</td>\n",
              "      <td>0.36</td>\n",
              "      <td>0.36</td>\n",
              "      <td>0.01</td>\n",
              "      <td>-0.00</td>\n",
              "      <td>-0.08</td>\n",
              "      <td>0.05</td>\n",
              "      <td>-0.10</td>\n",
              "      <td>0.04</td>\n",
              "      <td>0.04</td>\n",
              "      <td>-0.37</td>\n",
              "      <td>0.30</td>\n",
              "      <td>-0.37</td>\n",
              "      <td>-0.26</td>\n",
              "      <td>-0.21</td>\n",
              "      <td>-0.24</td>\n",
              "      <td>-0.15</td>\n",
              "      <td>0.45</td>\n",
              "      <td>0.36</td>\n",
              "      <td>0.24</td>\n",
              "      <td>0.10</td>\n",
              "      <td>0.34</td>\n",
              "    </tr>\n",
              "    <tr>\n",
              "      <th>Awarded_Budget</th>\n",
              "      <td>0.60</td>\n",
              "      <td>-0.34</td>\n",
              "      <td>0.99</td>\n",
              "      <td>1.00</td>\n",
              "      <td>0.98</td>\n",
              "      <td>0.81</td>\n",
              "      <td>-0.22</td>\n",
              "      <td>-0.97</td>\n",
              "      <td>0.73</td>\n",
              "      <td>0.62</td>\n",
              "      <td>0.54</td>\n",
              "      <td>0.25</td>\n",
              "      <td>0.44</td>\n",
              "      <td>0.42</td>\n",
              "      <td>0.35</td>\n",
              "      <td>0.09</td>\n",
              "      <td>0.44</td>\n",
              "      <td>0.45</td>\n",
              "      <td>0.29</td>\n",
              "      <td>0.34</td>\n",
              "      <td>0.34</td>\n",
              "      <td>0.44</td>\n",
              "      <td>0.29</td>\n",
              "      <td>0.45</td>\n",
              "      <td>0.09</td>\n",
              "      <td>0.34</td>\n",
              "      <td>0.35</td>\n",
              "      <td>0.29</td>\n",
              "      <td>0.25</td>\n",
              "      <td>0.25</td>\n",
              "      <td>0.35</td>\n",
              "      <td>0.35</td>\n",
              "      <td>0.25</td>\n",
              "      <td>0.25</td>\n",
              "      <td>0.35</td>\n",
              "      <td>0.35</td>\n",
              "      <td>0.01</td>\n",
              "      <td>-0.00</td>\n",
              "      <td>-0.07</td>\n",
              "      <td>0.04</td>\n",
              "      <td>-0.10</td>\n",
              "      <td>0.04</td>\n",
              "      <td>0.04</td>\n",
              "      <td>-0.37</td>\n",
              "      <td>0.29</td>\n",
              "      <td>-0.36</td>\n",
              "      <td>-0.26</td>\n",
              "      <td>-0.21</td>\n",
              "      <td>-0.24</td>\n",
              "      <td>-0.15</td>\n",
              "      <td>0.45</td>\n",
              "      <td>0.35</td>\n",
              "      <td>0.25</td>\n",
              "      <td>0.09</td>\n",
              "      <td>0.34</td>\n",
              "    </tr>\n",
              "    <tr>\n",
              "      <th>awarded_pct</th>\n",
              "      <td>0.63</td>\n",
              "      <td>-0.35</td>\n",
              "      <td>0.97</td>\n",
              "      <td>0.98</td>\n",
              "      <td>1.00</td>\n",
              "      <td>0.82</td>\n",
              "      <td>-0.23</td>\n",
              "      <td>-0.99</td>\n",
              "      <td>0.75</td>\n",
              "      <td>0.65</td>\n",
              "      <td>0.55</td>\n",
              "      <td>0.25</td>\n",
              "      <td>0.43</td>\n",
              "      <td>0.41</td>\n",
              "      <td>0.34</td>\n",
              "      <td>0.09</td>\n",
              "      <td>0.43</td>\n",
              "      <td>0.47</td>\n",
              "      <td>0.30</td>\n",
              "      <td>0.36</td>\n",
              "      <td>0.36</td>\n",
              "      <td>0.43</td>\n",
              "      <td>0.30</td>\n",
              "      <td>0.47</td>\n",
              "      <td>0.09</td>\n",
              "      <td>0.36</td>\n",
              "      <td>0.34</td>\n",
              "      <td>0.30</td>\n",
              "      <td>0.25</td>\n",
              "      <td>0.25</td>\n",
              "      <td>0.34</td>\n",
              "      <td>0.34</td>\n",
              "      <td>0.25</td>\n",
              "      <td>0.25</td>\n",
              "      <td>0.34</td>\n",
              "      <td>0.34</td>\n",
              "      <td>0.01</td>\n",
              "      <td>0.01</td>\n",
              "      <td>-0.07</td>\n",
              "      <td>0.04</td>\n",
              "      <td>-0.10</td>\n",
              "      <td>0.04</td>\n",
              "      <td>0.04</td>\n",
              "      <td>-0.38</td>\n",
              "      <td>0.30</td>\n",
              "      <td>-0.37</td>\n",
              "      <td>-0.27</td>\n",
              "      <td>-0.21</td>\n",
              "      <td>-0.24</td>\n",
              "      <td>-0.15</td>\n",
              "      <td>0.47</td>\n",
              "      <td>0.34</td>\n",
              "      <td>0.25</td>\n",
              "      <td>0.09</td>\n",
              "      <td>0.36</td>\n",
              "    </tr>\n",
              "    <tr>\n",
              "      <th>number_of_phases</th>\n",
              "      <td>0.39</td>\n",
              "      <td>-0.19</td>\n",
              "      <td>0.82</td>\n",
              "      <td>0.81</td>\n",
              "      <td>0.82</td>\n",
              "      <td>1.00</td>\n",
              "      <td>-0.19</td>\n",
              "      <td>-0.82</td>\n",
              "      <td>0.51</td>\n",
              "      <td>0.45</td>\n",
              "      <td>0.69</td>\n",
              "      <td>0.42</td>\n",
              "      <td>0.85</td>\n",
              "      <td>0.84</td>\n",
              "      <td>0.72</td>\n",
              "      <td>0.02</td>\n",
              "      <td>0.85</td>\n",
              "      <td>0.08</td>\n",
              "      <td>0.17</td>\n",
              "      <td>0.20</td>\n",
              "      <td>0.20</td>\n",
              "      <td>0.85</td>\n",
              "      <td>0.17</td>\n",
              "      <td>0.08</td>\n",
              "      <td>0.02</td>\n",
              "      <td>0.20</td>\n",
              "      <td>0.72</td>\n",
              "      <td>0.17</td>\n",
              "      <td>0.42</td>\n",
              "      <td>0.42</td>\n",
              "      <td>0.72</td>\n",
              "      <td>0.72</td>\n",
              "      <td>0.42</td>\n",
              "      <td>0.42</td>\n",
              "      <td>0.72</td>\n",
              "      <td>0.72</td>\n",
              "      <td>-0.01</td>\n",
              "      <td>0.01</td>\n",
              "      <td>-0.09</td>\n",
              "      <td>0.04</td>\n",
              "      <td>-0.05</td>\n",
              "      <td>0.05</td>\n",
              "      <td>0.03</td>\n",
              "      <td>-0.31</td>\n",
              "      <td>0.17</td>\n",
              "      <td>-0.31</td>\n",
              "      <td>-0.22</td>\n",
              "      <td>-0.18</td>\n",
              "      <td>-0.20</td>\n",
              "      <td>-0.13</td>\n",
              "      <td>0.08</td>\n",
              "      <td>0.72</td>\n",
              "      <td>0.42</td>\n",
              "      <td>0.02</td>\n",
              "      <td>0.20</td>\n",
              "    </tr>\n",
              "    <tr>\n",
              "      <th>since</th>\n",
              "      <td>-0.13</td>\n",
              "      <td>0.64</td>\n",
              "      <td>-0.22</td>\n",
              "      <td>-0.22</td>\n",
              "      <td>-0.23</td>\n",
              "      <td>-0.19</td>\n",
              "      <td>1.00</td>\n",
              "      <td>0.22</td>\n",
              "      <td>-0.06</td>\n",
              "      <td>-0.27</td>\n",
              "      <td>-0.16</td>\n",
              "      <td>-0.18</td>\n",
              "      <td>-0.11</td>\n",
              "      <td>-0.06</td>\n",
              "      <td>0.01</td>\n",
              "      <td>-0.12</td>\n",
              "      <td>-0.11</td>\n",
              "      <td>-0.01</td>\n",
              "      <td>-0.01</td>\n",
              "      <td>-0.21</td>\n",
              "      <td>-0.21</td>\n",
              "      <td>-0.11</td>\n",
              "      <td>-0.01</td>\n",
              "      <td>-0.01</td>\n",
              "      <td>-0.12</td>\n",
              "      <td>-0.21</td>\n",
              "      <td>0.01</td>\n",
              "      <td>-0.01</td>\n",
              "      <td>-0.18</td>\n",
              "      <td>-0.18</td>\n",
              "      <td>0.01</td>\n",
              "      <td>0.01</td>\n",
              "      <td>-0.18</td>\n",
              "      <td>-0.18</td>\n",
              "      <td>0.01</td>\n",
              "      <td>0.01</td>\n",
              "      <td>-0.19</td>\n",
              "      <td>0.14</td>\n",
              "      <td>-0.16</td>\n",
              "      <td>0.19</td>\n",
              "      <td>-0.26</td>\n",
              "      <td>0.13</td>\n",
              "      <td>0.16</td>\n",
              "      <td>0.22</td>\n",
              "      <td>-0.01</td>\n",
              "      <td>0.14</td>\n",
              "      <td>0.11</td>\n",
              "      <td>-0.13</td>\n",
              "      <td>0.07</td>\n",
              "      <td>-0.23</td>\n",
              "      <td>-0.01</td>\n",
              "      <td>0.01</td>\n",
              "      <td>-0.18</td>\n",
              "      <td>-0.12</td>\n",
              "      <td>-0.21</td>\n",
              "    </tr>\n",
              "    <tr>\n",
              "      <th>outputs 0</th>\n",
              "      <td>-0.63</td>\n",
              "      <td>0.34</td>\n",
              "      <td>-0.98</td>\n",
              "      <td>-0.97</td>\n",
              "      <td>-0.99</td>\n",
              "      <td>-0.82</td>\n",
              "      <td>0.22</td>\n",
              "      <td>1.00</td>\n",
              "      <td>-0.75</td>\n",
              "      <td>-0.65</td>\n",
              "      <td>-0.55</td>\n",
              "      <td>-0.24</td>\n",
              "      <td>-0.43</td>\n",
              "      <td>-0.41</td>\n",
              "      <td>-0.34</td>\n",
              "      <td>-0.09</td>\n",
              "      <td>-0.43</td>\n",
              "      <td>-0.47</td>\n",
              "      <td>-0.31</td>\n",
              "      <td>-0.36</td>\n",
              "      <td>-0.36</td>\n",
              "      <td>-0.43</td>\n",
              "      <td>-0.31</td>\n",
              "      <td>-0.47</td>\n",
              "      <td>-0.09</td>\n",
              "      <td>-0.36</td>\n",
              "      <td>-0.34</td>\n",
              "      <td>-0.31</td>\n",
              "      <td>-0.24</td>\n",
              "      <td>-0.24</td>\n",
              "      <td>-0.34</td>\n",
              "      <td>-0.34</td>\n",
              "      <td>-0.24</td>\n",
              "      <td>-0.24</td>\n",
              "      <td>-0.34</td>\n",
              "      <td>-0.34</td>\n",
              "      <td>-0.00</td>\n",
              "      <td>-0.01</td>\n",
              "      <td>0.08</td>\n",
              "      <td>-0.05</td>\n",
              "      <td>0.10</td>\n",
              "      <td>-0.04</td>\n",
              "      <td>-0.04</td>\n",
              "      <td>0.38</td>\n",
              "      <td>-0.31</td>\n",
              "      <td>0.37</td>\n",
              "      <td>0.27</td>\n",
              "      <td>0.21</td>\n",
              "      <td>0.24</td>\n",
              "      <td>0.15</td>\n",
              "      <td>-0.47</td>\n",
              "      <td>-0.34</td>\n",
              "      <td>-0.24</td>\n",
              "      <td>-0.09</td>\n",
              "      <td>-0.36</td>\n",
              "    </tr>\n",
              "    <tr>\n",
              "      <th>outputs 1</th>\n",
              "      <td>0.35</td>\n",
              "      <td>-0.01</td>\n",
              "      <td>0.74</td>\n",
              "      <td>0.73</td>\n",
              "      <td>0.75</td>\n",
              "      <td>0.51</td>\n",
              "      <td>-0.06</td>\n",
              "      <td>-0.75</td>\n",
              "      <td>1.00</td>\n",
              "      <td>0.14</td>\n",
              "      <td>0.02</td>\n",
              "      <td>0.15</td>\n",
              "      <td>0.27</td>\n",
              "      <td>0.26</td>\n",
              "      <td>0.21</td>\n",
              "      <td>-0.05</td>\n",
              "      <td>0.27</td>\n",
              "      <td>0.85</td>\n",
              "      <td>0.19</td>\n",
              "      <td>-0.20</td>\n",
              "      <td>-0.20</td>\n",
              "      <td>0.27</td>\n",
              "      <td>0.19</td>\n",
              "      <td>0.85</td>\n",
              "      <td>-0.05</td>\n",
              "      <td>-0.20</td>\n",
              "      <td>0.21</td>\n",
              "      <td>0.19</td>\n",
              "      <td>0.15</td>\n",
              "      <td>0.15</td>\n",
              "      <td>0.21</td>\n",
              "      <td>0.21</td>\n",
              "      <td>0.15</td>\n",
              "      <td>0.15</td>\n",
              "      <td>0.21</td>\n",
              "      <td>0.21</td>\n",
              "      <td>0.03</td>\n",
              "      <td>0.01</td>\n",
              "      <td>-0.01</td>\n",
              "      <td>-0.01</td>\n",
              "      <td>-0.03</td>\n",
              "      <td>0.00</td>\n",
              "      <td>-0.00</td>\n",
              "      <td>-0.28</td>\n",
              "      <td>0.19</td>\n",
              "      <td>-0.28</td>\n",
              "      <td>-0.20</td>\n",
              "      <td>-0.16</td>\n",
              "      <td>-0.18</td>\n",
              "      <td>-0.12</td>\n",
              "      <td>0.85</td>\n",
              "      <td>0.21</td>\n",
              "      <td>0.15</td>\n",
              "      <td>-0.05</td>\n",
              "      <td>-0.20</td>\n",
              "    </tr>\n",
              "    <tr>\n",
              "      <th>outputs 2</th>\n",
              "      <td>0.54</td>\n",
              "      <td>-0.53</td>\n",
              "      <td>0.62</td>\n",
              "      <td>0.62</td>\n",
              "      <td>0.65</td>\n",
              "      <td>0.45</td>\n",
              "      <td>-0.27</td>\n",
              "      <td>-0.65</td>\n",
              "      <td>0.14</td>\n",
              "      <td>1.00</td>\n",
              "      <td>0.71</td>\n",
              "      <td>0.13</td>\n",
              "      <td>0.09</td>\n",
              "      <td>0.05</td>\n",
              "      <td>0.01</td>\n",
              "      <td>0.00</td>\n",
              "      <td>0.09</td>\n",
              "      <td>0.13</td>\n",
              "      <td>-0.07</td>\n",
              "      <td>0.93</td>\n",
              "      <td>0.93</td>\n",
              "      <td>0.09</td>\n",
              "      <td>-0.07</td>\n",
              "      <td>0.13</td>\n",
              "      <td>0.00</td>\n",
              "      <td>0.93</td>\n",
              "      <td>0.01</td>\n",
              "      <td>-0.07</td>\n",
              "      <td>0.13</td>\n",
              "      <td>0.13</td>\n",
              "      <td>0.01</td>\n",
              "      <td>0.01</td>\n",
              "      <td>0.13</td>\n",
              "      <td>0.13</td>\n",
              "      <td>0.01</td>\n",
              "      <td>0.01</td>\n",
              "      <td>0.06</td>\n",
              "      <td>-0.01</td>\n",
              "      <td>-0.07</td>\n",
              "      <td>0.04</td>\n",
              "      <td>-0.13</td>\n",
              "      <td>0.05</td>\n",
              "      <td>0.01</td>\n",
              "      <td>-0.25</td>\n",
              "      <td>-0.07</td>\n",
              "      <td>-0.24</td>\n",
              "      <td>-0.18</td>\n",
              "      <td>-0.14</td>\n",
              "      <td>-0.16</td>\n",
              "      <td>-0.10</td>\n",
              "      <td>0.13</td>\n",
              "      <td>0.01</td>\n",
              "      <td>0.13</td>\n",
              "      <td>0.00</td>\n",
              "      <td>0.93</td>\n",
              "    </tr>\n",
              "    <tr>\n",
              "      <th>outputs 3</th>\n",
              "      <td>0.43</td>\n",
              "      <td>-0.36</td>\n",
              "      <td>0.55</td>\n",
              "      <td>0.54</td>\n",
              "      <td>0.55</td>\n",
              "      <td>0.69</td>\n",
              "      <td>-0.16</td>\n",
              "      <td>-0.55</td>\n",
              "      <td>0.02</td>\n",
              "      <td>0.71</td>\n",
              "      <td>1.00</td>\n",
              "      <td>-0.10</td>\n",
              "      <td>0.47</td>\n",
              "      <td>0.59</td>\n",
              "      <td>0.65</td>\n",
              "      <td>-0.04</td>\n",
              "      <td>0.47</td>\n",
              "      <td>-0.20</td>\n",
              "      <td>-0.02</td>\n",
              "      <td>0.69</td>\n",
              "      <td>0.69</td>\n",
              "      <td>0.47</td>\n",
              "      <td>-0.02</td>\n",
              "      <td>-0.20</td>\n",
              "      <td>-0.04</td>\n",
              "      <td>0.69</td>\n",
              "      <td>0.65</td>\n",
              "      <td>-0.02</td>\n",
              "      <td>-0.10</td>\n",
              "      <td>-0.10</td>\n",
              "      <td>0.65</td>\n",
              "      <td>0.65</td>\n",
              "      <td>-0.10</td>\n",
              "      <td>-0.10</td>\n",
              "      <td>0.65</td>\n",
              "      <td>0.65</td>\n",
              "      <td>-0.13</td>\n",
              "      <td>-0.04</td>\n",
              "      <td>-0.10</td>\n",
              "      <td>0.11</td>\n",
              "      <td>-0.04</td>\n",
              "      <td>0.11</td>\n",
              "      <td>0.06</td>\n",
              "      <td>-0.21</td>\n",
              "      <td>-0.02</td>\n",
              "      <td>-0.21</td>\n",
              "      <td>-0.15</td>\n",
              "      <td>-0.12</td>\n",
              "      <td>-0.14</td>\n",
              "      <td>-0.09</td>\n",
              "      <td>-0.20</td>\n",
              "      <td>0.65</td>\n",
              "      <td>-0.10</td>\n",
              "      <td>-0.04</td>\n",
              "      <td>0.69</td>\n",
              "    </tr>\n",
              "    <tr>\n",
              "      <th>outputs 4</th>\n",
              "      <td>-0.09</td>\n",
              "      <td>-0.01</td>\n",
              "      <td>0.24</td>\n",
              "      <td>0.25</td>\n",
              "      <td>0.25</td>\n",
              "      <td>0.42</td>\n",
              "      <td>-0.18</td>\n",
              "      <td>-0.24</td>\n",
              "      <td>0.15</td>\n",
              "      <td>0.13</td>\n",
              "      <td>-0.10</td>\n",
              "      <td>1.00</td>\n",
              "      <td>0.57</td>\n",
              "      <td>0.30</td>\n",
              "      <td>-0.06</td>\n",
              "      <td>-0.02</td>\n",
              "      <td>0.57</td>\n",
              "      <td>-0.09</td>\n",
              "      <td>-0.06</td>\n",
              "      <td>-0.07</td>\n",
              "      <td>-0.07</td>\n",
              "      <td>0.57</td>\n",
              "      <td>-0.06</td>\n",
              "      <td>-0.09</td>\n",
              "      <td>-0.02</td>\n",
              "      <td>-0.07</td>\n",
              "      <td>-0.06</td>\n",
              "      <td>-0.06</td>\n",
              "      <td>1.00</td>\n",
              "      <td>1.00</td>\n",
              "      <td>-0.06</td>\n",
              "      <td>-0.06</td>\n",
              "      <td>1.00</td>\n",
              "      <td>1.00</td>\n",
              "      <td>-0.06</td>\n",
              "      <td>-0.06</td>\n",
              "      <td>0.27</td>\n",
              "      <td>0.07</td>\n",
              "      <td>-0.02</td>\n",
              "      <td>-0.12</td>\n",
              "      <td>-0.08</td>\n",
              "      <td>-0.08</td>\n",
              "      <td>-0.09</td>\n",
              "      <td>-0.09</td>\n",
              "      <td>-0.06</td>\n",
              "      <td>-0.09</td>\n",
              "      <td>-0.07</td>\n",
              "      <td>-0.05</td>\n",
              "      <td>-0.06</td>\n",
              "      <td>-0.04</td>\n",
              "      <td>-0.09</td>\n",
              "      <td>-0.06</td>\n",
              "      <td>1.00</td>\n",
              "      <td>-0.02</td>\n",
              "      <td>-0.07</td>\n",
              "    </tr>\n",
              "    <tr>\n",
              "      <th>outputs 5</th>\n",
              "      <td>-0.02</td>\n",
              "      <td>0.06</td>\n",
              "      <td>0.44</td>\n",
              "      <td>0.44</td>\n",
              "      <td>0.43</td>\n",
              "      <td>0.85</td>\n",
              "      <td>-0.11</td>\n",
              "      <td>-0.43</td>\n",
              "      <td>0.27</td>\n",
              "      <td>0.09</td>\n",
              "      <td>0.47</td>\n",
              "      <td>0.57</td>\n",
              "      <td>1.00</td>\n",
              "      <td>0.96</td>\n",
              "      <td>0.79</td>\n",
              "      <td>-0.03</td>\n",
              "      <td>1.00</td>\n",
              "      <td>-0.15</td>\n",
              "      <td>-0.10</td>\n",
              "      <td>-0.12</td>\n",
              "      <td>-0.12</td>\n",
              "      <td>1.00</td>\n",
              "      <td>-0.10</td>\n",
              "      <td>-0.15</td>\n",
              "      <td>-0.03</td>\n",
              "      <td>-0.12</td>\n",
              "      <td>0.79</td>\n",
              "      <td>-0.10</td>\n",
              "      <td>0.57</td>\n",
              "      <td>0.57</td>\n",
              "      <td>0.79</td>\n",
              "      <td>0.79</td>\n",
              "      <td>0.57</td>\n",
              "      <td>0.57</td>\n",
              "      <td>0.79</td>\n",
              "      <td>0.79</td>\n",
              "      <td>0.03</td>\n",
              "      <td>0.01</td>\n",
              "      <td>-0.07</td>\n",
              "      <td>-0.00</td>\n",
              "      <td>0.00</td>\n",
              "      <td>0.02</td>\n",
              "      <td>-0.00</td>\n",
              "      <td>-0.16</td>\n",
              "      <td>-0.10</td>\n",
              "      <td>-0.16</td>\n",
              "      <td>-0.12</td>\n",
              "      <td>-0.09</td>\n",
              "      <td>-0.11</td>\n",
              "      <td>-0.07</td>\n",
              "      <td>-0.15</td>\n",
              "      <td>0.79</td>\n",
              "      <td>0.57</td>\n",
              "      <td>-0.03</td>\n",
              "      <td>-0.12</td>\n",
              "    </tr>\n",
              "    <tr>\n",
              "      <th>outputs 6</th>\n",
              "      <td>0.01</td>\n",
              "      <td>0.07</td>\n",
              "      <td>0.43</td>\n",
              "      <td>0.42</td>\n",
              "      <td>0.41</td>\n",
              "      <td>0.84</td>\n",
              "      <td>-0.06</td>\n",
              "      <td>-0.41</td>\n",
              "      <td>0.26</td>\n",
              "      <td>0.05</td>\n",
              "      <td>0.59</td>\n",
              "      <td>0.30</td>\n",
              "      <td>0.96</td>\n",
              "      <td>1.00</td>\n",
              "      <td>0.93</td>\n",
              "      <td>-0.03</td>\n",
              "      <td>0.96</td>\n",
              "      <td>-0.15</td>\n",
              "      <td>-0.09</td>\n",
              "      <td>-0.11</td>\n",
              "      <td>-0.11</td>\n",
              "      <td>0.96</td>\n",
              "      <td>-0.09</td>\n",
              "      <td>-0.15</td>\n",
              "      <td>-0.03</td>\n",
              "      <td>-0.11</td>\n",
              "      <td>0.93</td>\n",
              "      <td>-0.09</td>\n",
              "      <td>0.30</td>\n",
              "      <td>0.30</td>\n",
              "      <td>0.93</td>\n",
              "      <td>0.93</td>\n",
              "      <td>0.30</td>\n",
              "      <td>0.30</td>\n",
              "      <td>0.93</td>\n",
              "      <td>0.93</td>\n",
              "      <td>-0.07</td>\n",
              "      <td>-0.02</td>\n",
              "      <td>-0.07</td>\n",
              "      <td>0.04</td>\n",
              "      <td>0.03</td>\n",
              "      <td>0.05</td>\n",
              "      <td>0.03</td>\n",
              "      <td>-0.16</td>\n",
              "      <td>-0.09</td>\n",
              "      <td>-0.15</td>\n",
              "      <td>-0.11</td>\n",
              "      <td>-0.09</td>\n",
              "      <td>-0.10</td>\n",
              "      <td>-0.06</td>\n",
              "      <td>-0.15</td>\n",
              "      <td>0.93</td>\n",
              "      <td>0.30</td>\n",
              "      <td>-0.03</td>\n",
              "      <td>-0.11</td>\n",
              "    </tr>\n",
              "    <tr>\n",
              "      <th>outputs 7</th>\n",
              "      <td>0.04</td>\n",
              "      <td>0.08</td>\n",
              "      <td>0.36</td>\n",
              "      <td>0.35</td>\n",
              "      <td>0.34</td>\n",
              "      <td>0.72</td>\n",
              "      <td>0.01</td>\n",
              "      <td>-0.34</td>\n",
              "      <td>0.21</td>\n",
              "      <td>0.01</td>\n",
              "      <td>0.65</td>\n",
              "      <td>-0.06</td>\n",
              "      <td>0.79</td>\n",
              "      <td>0.93</td>\n",
              "      <td>1.00</td>\n",
              "      <td>-0.02</td>\n",
              "      <td>0.79</td>\n",
              "      <td>-0.12</td>\n",
              "      <td>-0.08</td>\n",
              "      <td>-0.09</td>\n",
              "      <td>-0.09</td>\n",
              "      <td>0.79</td>\n",
              "      <td>-0.08</td>\n",
              "      <td>-0.12</td>\n",
              "      <td>-0.02</td>\n",
              "      <td>-0.09</td>\n",
              "      <td>1.00</td>\n",
              "      <td>-0.08</td>\n",
              "      <td>-0.06</td>\n",
              "      <td>-0.06</td>\n",
              "      <td>1.00</td>\n",
              "      <td>1.00</td>\n",
              "      <td>-0.06</td>\n",
              "      <td>-0.06</td>\n",
              "      <td>1.00</td>\n",
              "      <td>1.00</td>\n",
              "      <td>-0.17</td>\n",
              "      <td>-0.04</td>\n",
              "      <td>-0.07</td>\n",
              "      <td>0.08</td>\n",
              "      <td>0.06</td>\n",
              "      <td>0.08</td>\n",
              "      <td>0.06</td>\n",
              "      <td>-0.13</td>\n",
              "      <td>-0.08</td>\n",
              "      <td>-0.13</td>\n",
              "      <td>-0.09</td>\n",
              "      <td>-0.07</td>\n",
              "      <td>-0.08</td>\n",
              "      <td>-0.05</td>\n",
              "      <td>-0.12</td>\n",
              "      <td>1.00</td>\n",
              "      <td>-0.06</td>\n",
              "      <td>-0.02</td>\n",
              "      <td>-0.09</td>\n",
              "    </tr>\n",
              "    <tr>\n",
              "      <th>1_الأنشطة الرئيسية</th>\n",
              "      <td>-0.04</td>\n",
              "      <td>-0.13</td>\n",
              "      <td>0.10</td>\n",
              "      <td>0.09</td>\n",
              "      <td>0.09</td>\n",
              "      <td>0.02</td>\n",
              "      <td>-0.12</td>\n",
              "      <td>-0.09</td>\n",
              "      <td>-0.05</td>\n",
              "      <td>0.00</td>\n",
              "      <td>-0.04</td>\n",
              "      <td>-0.02</td>\n",
              "      <td>-0.03</td>\n",
              "      <td>-0.03</td>\n",
              "      <td>-0.02</td>\n",
              "      <td>1.00</td>\n",
              "      <td>-0.03</td>\n",
              "      <td>-0.03</td>\n",
              "      <td>-0.02</td>\n",
              "      <td>-0.03</td>\n",
              "      <td>-0.03</td>\n",
              "      <td>-0.03</td>\n",
              "      <td>-0.02</td>\n",
              "      <td>-0.03</td>\n",
              "      <td>1.00</td>\n",
              "      <td>-0.03</td>\n",
              "      <td>-0.02</td>\n",
              "      <td>-0.02</td>\n",
              "      <td>-0.02</td>\n",
              "      <td>-0.02</td>\n",
              "      <td>-0.02</td>\n",
              "      <td>-0.02</td>\n",
              "      <td>-0.02</td>\n",
              "      <td>-0.02</td>\n",
              "      <td>-0.02</td>\n",
              "      <td>-0.02</td>\n",
              "      <td>-0.05</td>\n",
              "      <td>-0.02</td>\n",
              "      <td>-0.02</td>\n",
              "      <td>0.04</td>\n",
              "      <td>-0.03</td>\n",
              "      <td>-0.03</td>\n",
              "      <td>0.10</td>\n",
              "      <td>-0.04</td>\n",
              "      <td>-0.02</td>\n",
              "      <td>-0.04</td>\n",
              "      <td>-0.03</td>\n",
              "      <td>-0.02</td>\n",
              "      <td>-0.02</td>\n",
              "      <td>-0.01</td>\n",
              "      <td>-0.03</td>\n",
              "      <td>-0.02</td>\n",
              "      <td>-0.02</td>\n",
              "      <td>1.00</td>\n",
              "      <td>-0.03</td>\n",
              "    </tr>\n",
              "    <tr>\n",
              "      <th>1_المرحلة الأولى : التجهيز للمشروع</th>\n",
              "      <td>-0.02</td>\n",
              "      <td>0.06</td>\n",
              "      <td>0.44</td>\n",
              "      <td>0.44</td>\n",
              "      <td>0.43</td>\n",
              "      <td>0.85</td>\n",
              "      <td>-0.11</td>\n",
              "      <td>-0.43</td>\n",
              "      <td>0.27</td>\n",
              "      <td>0.09</td>\n",
              "      <td>0.47</td>\n",
              "      <td>0.57</td>\n",
              "      <td>1.00</td>\n",
              "      <td>0.96</td>\n",
              "      <td>0.79</td>\n",
              "      <td>-0.03</td>\n",
              "      <td>1.00</td>\n",
              "      <td>-0.15</td>\n",
              "      <td>-0.10</td>\n",
              "      <td>-0.12</td>\n",
              "      <td>-0.12</td>\n",
              "      <td>1.00</td>\n",
              "      <td>-0.10</td>\n",
              "      <td>-0.15</td>\n",
              "      <td>-0.03</td>\n",
              "      <td>-0.12</td>\n",
              "      <td>0.79</td>\n",
              "      <td>-0.10</td>\n",
              "      <td>0.57</td>\n",
              "      <td>0.57</td>\n",
              "      <td>0.79</td>\n",
              "      <td>0.79</td>\n",
              "      <td>0.57</td>\n",
              "      <td>0.57</td>\n",
              "      <td>0.79</td>\n",
              "      <td>0.79</td>\n",
              "      <td>0.03</td>\n",
              "      <td>0.01</td>\n",
              "      <td>-0.07</td>\n",
              "      <td>-0.00</td>\n",
              "      <td>0.00</td>\n",
              "      <td>0.02</td>\n",
              "      <td>-0.00</td>\n",
              "      <td>-0.16</td>\n",
              "      <td>-0.10</td>\n",
              "      <td>-0.16</td>\n",
              "      <td>-0.12</td>\n",
              "      <td>-0.09</td>\n",
              "      <td>-0.11</td>\n",
              "      <td>-0.07</td>\n",
              "      <td>-0.15</td>\n",
              "      <td>0.79</td>\n",
              "      <td>0.57</td>\n",
              "      <td>-0.03</td>\n",
              "      <td>-0.12</td>\n",
              "    </tr>\n",
              "    <tr>\n",
              "      <th>1_المرحلة الأولى : التحليل والتخطيط</th>\n",
              "      <td>0.20</td>\n",
              "      <td>0.01</td>\n",
              "      <td>0.45</td>\n",
              "      <td>0.45</td>\n",
              "      <td>0.47</td>\n",
              "      <td>0.08</td>\n",
              "      <td>-0.01</td>\n",
              "      <td>-0.47</td>\n",
              "      <td>0.85</td>\n",
              "      <td>0.13</td>\n",
              "      <td>-0.20</td>\n",
              "      <td>-0.09</td>\n",
              "      <td>-0.15</td>\n",
              "      <td>-0.15</td>\n",
              "      <td>-0.12</td>\n",
              "      <td>-0.03</td>\n",
              "      <td>-0.15</td>\n",
              "      <td>1.00</td>\n",
              "      <td>-0.11</td>\n",
              "      <td>-0.13</td>\n",
              "      <td>-0.13</td>\n",
              "      <td>-0.15</td>\n",
              "      <td>-0.11</td>\n",
              "      <td>1.00</td>\n",
              "      <td>-0.03</td>\n",
              "      <td>-0.13</td>\n",
              "      <td>-0.12</td>\n",
              "      <td>-0.11</td>\n",
              "      <td>-0.09</td>\n",
              "      <td>-0.09</td>\n",
              "      <td>-0.12</td>\n",
              "      <td>-0.12</td>\n",
              "      <td>-0.09</td>\n",
              "      <td>-0.09</td>\n",
              "      <td>-0.12</td>\n",
              "      <td>-0.12</td>\n",
              "      <td>0.06</td>\n",
              "      <td>-0.01</td>\n",
              "      <td>0.03</td>\n",
              "      <td>-0.04</td>\n",
              "      <td>-0.02</td>\n",
              "      <td>-0.00</td>\n",
              "      <td>-0.03</td>\n",
              "      <td>-0.18</td>\n",
              "      <td>-0.11</td>\n",
              "      <td>-0.18</td>\n",
              "      <td>-0.13</td>\n",
              "      <td>-0.10</td>\n",
              "      <td>-0.12</td>\n",
              "      <td>-0.07</td>\n",
              "      <td>1.00</td>\n",
              "      <td>-0.12</td>\n",
              "      <td>-0.09</td>\n",
              "      <td>-0.03</td>\n",
              "      <td>-0.13</td>\n",
              "    </tr>\n",
              "    <tr>\n",
              "      <th>1_المرحلة الأولى : مرحلة الحصر ودراسة الوضع الحالي</th>\n",
              "      <td>0.49</td>\n",
              "      <td>-0.12</td>\n",
              "      <td>0.30</td>\n",
              "      <td>0.29</td>\n",
              "      <td>0.30</td>\n",
              "      <td>0.17</td>\n",
              "      <td>-0.01</td>\n",
              "      <td>-0.31</td>\n",
              "      <td>0.19</td>\n",
              "      <td>-0.07</td>\n",
              "      <td>-0.02</td>\n",
              "      <td>-0.06</td>\n",
              "      <td>-0.10</td>\n",
              "      <td>-0.09</td>\n",
              "      <td>-0.08</td>\n",
              "      <td>-0.02</td>\n",
              "      <td>-0.10</td>\n",
              "      <td>-0.11</td>\n",
              "      <td>1.00</td>\n",
              "      <td>-0.08</td>\n",
              "      <td>-0.08</td>\n",
              "      <td>-0.10</td>\n",
              "      <td>1.00</td>\n",
              "      <td>-0.11</td>\n",
              "      <td>-0.02</td>\n",
              "      <td>-0.08</td>\n",
              "      <td>-0.08</td>\n",
              "      <td>1.00</td>\n",
              "      <td>-0.06</td>\n",
              "      <td>-0.06</td>\n",
              "      <td>-0.08</td>\n",
              "      <td>-0.08</td>\n",
              "      <td>-0.06</td>\n",
              "      <td>-0.06</td>\n",
              "      <td>-0.08</td>\n",
              "      <td>-0.08</td>\n",
              "      <td>-0.11</td>\n",
              "      <td>0.05</td>\n",
              "      <td>-0.03</td>\n",
              "      <td>0.07</td>\n",
              "      <td>-0.04</td>\n",
              "      <td>-0.00</td>\n",
              "      <td>0.08</td>\n",
              "      <td>-0.12</td>\n",
              "      <td>1.00</td>\n",
              "      <td>-0.12</td>\n",
              "      <td>-0.08</td>\n",
              "      <td>-0.07</td>\n",
              "      <td>-0.08</td>\n",
              "      <td>-0.05</td>\n",
              "      <td>-0.11</td>\n",
              "      <td>-0.08</td>\n",
              "      <td>-0.06</td>\n",
              "      <td>-0.02</td>\n",
              "      <td>-0.08</td>\n",
              "    </tr>\n",
              "    <tr>\n",
              "      <th>1_المرحلة الثالثة :  التضمين و المساندة في مسك السجلات ونقل المعرفة العملية واعداد القوائم المالية</th>\n",
              "      <td>0.46</td>\n",
              "      <td>-0.53</td>\n",
              "      <td>0.34</td>\n",
              "      <td>0.34</td>\n",
              "      <td>0.36</td>\n",
              "      <td>0.20</td>\n",
              "      <td>-0.21</td>\n",
              "      <td>-0.36</td>\n",
              "      <td>-0.20</td>\n",
              "      <td>0.93</td>\n",
              "      <td>0.69</td>\n",
              "      <td>-0.07</td>\n",
              "      <td>-0.12</td>\n",
              "      <td>-0.11</td>\n",
              "      <td>-0.09</td>\n",
              "      <td>-0.03</td>\n",
              "      <td>-0.12</td>\n",
              "      <td>-0.13</td>\n",
              "      <td>-0.08</td>\n",
              "      <td>1.00</td>\n",
              "      <td>1.00</td>\n",
              "      <td>-0.12</td>\n",
              "      <td>-0.08</td>\n",
              "      <td>-0.13</td>\n",
              "      <td>-0.03</td>\n",
              "      <td>1.00</td>\n",
              "      <td>-0.09</td>\n",
              "      <td>-0.08</td>\n",
              "      <td>-0.07</td>\n",
              "      <td>-0.07</td>\n",
              "      <td>-0.09</td>\n",
              "      <td>-0.09</td>\n",
              "      <td>-0.07</td>\n",
              "      <td>-0.07</td>\n",
              "      <td>-0.09</td>\n",
              "      <td>-0.09</td>\n",
              "      <td>0.01</td>\n",
              "      <td>-0.02</td>\n",
              "      <td>-0.06</td>\n",
              "      <td>0.06</td>\n",
              "      <td>-0.11</td>\n",
              "      <td>0.06</td>\n",
              "      <td>0.02</td>\n",
              "      <td>-0.14</td>\n",
              "      <td>-0.08</td>\n",
              "      <td>-0.14</td>\n",
              "      <td>-0.10</td>\n",
              "      <td>-0.08</td>\n",
              "      <td>-0.09</td>\n",
              "      <td>-0.06</td>\n",
              "      <td>-0.13</td>\n",
              "      <td>-0.09</td>\n",
              "      <td>-0.07</td>\n",
              "      <td>-0.03</td>\n",
              "      <td>1.00</td>\n",
              "    </tr>\n",
              "    <tr>\n",
              "      <th>2_ مساندة وتدريب موظفي (الجهة الحكومية) اثناء العمل على القيام بمسك الحسابات على أساس الاستحقاق</th>\n",
              "      <td>0.46</td>\n",
              "      <td>-0.53</td>\n",
              "      <td>0.34</td>\n",
              "      <td>0.34</td>\n",
              "      <td>0.36</td>\n",
              "      <td>0.20</td>\n",
              "      <td>-0.21</td>\n",
              "      <td>-0.36</td>\n",
              "      <td>-0.20</td>\n",
              "      <td>0.93</td>\n",
              "      <td>0.69</td>\n",
              "      <td>-0.07</td>\n",
              "      <td>-0.12</td>\n",
              "      <td>-0.11</td>\n",
              "      <td>-0.09</td>\n",
              "      <td>-0.03</td>\n",
              "      <td>-0.12</td>\n",
              "      <td>-0.13</td>\n",
              "      <td>-0.08</td>\n",
              "      <td>1.00</td>\n",
              "      <td>1.00</td>\n",
              "      <td>-0.12</td>\n",
              "      <td>-0.08</td>\n",
              "      <td>-0.13</td>\n",
              "      <td>-0.03</td>\n",
              "      <td>1.00</td>\n",
              "      <td>-0.09</td>\n",
              "      <td>-0.08</td>\n",
              "      <td>-0.07</td>\n",
              "      <td>-0.07</td>\n",
              "      <td>-0.09</td>\n",
              "      <td>-0.09</td>\n",
              "      <td>-0.07</td>\n",
              "      <td>-0.07</td>\n",
              "      <td>-0.09</td>\n",
              "      <td>-0.09</td>\n",
              "      <td>0.01</td>\n",
              "      <td>-0.02</td>\n",
              "      <td>-0.06</td>\n",
              "      <td>0.06</td>\n",
              "      <td>-0.11</td>\n",
              "      <td>0.06</td>\n",
              "      <td>0.02</td>\n",
              "      <td>-0.14</td>\n",
              "      <td>-0.08</td>\n",
              "      <td>-0.14</td>\n",
              "      <td>-0.10</td>\n",
              "      <td>-0.08</td>\n",
              "      <td>-0.09</td>\n",
              "      <td>-0.06</td>\n",
              "      <td>-0.13</td>\n",
              "      <td>-0.09</td>\n",
              "      <td>-0.07</td>\n",
              "      <td>-0.03</td>\n",
              "      <td>1.00</td>\n",
              "    </tr>\n",
              "    <tr>\n",
              "      <th>2_المرحلة الثانية : التحليل والتخطيط</th>\n",
              "      <td>-0.02</td>\n",
              "      <td>0.06</td>\n",
              "      <td>0.44</td>\n",
              "      <td>0.44</td>\n",
              "      <td>0.43</td>\n",
              "      <td>0.85</td>\n",
              "      <td>-0.11</td>\n",
              "      <td>-0.43</td>\n",
              "      <td>0.27</td>\n",
              "      <td>0.09</td>\n",
              "      <td>0.47</td>\n",
              "      <td>0.57</td>\n",
              "      <td>1.00</td>\n",
              "      <td>0.96</td>\n",
              "      <td>0.79</td>\n",
              "      <td>-0.03</td>\n",
              "      <td>1.00</td>\n",
              "      <td>-0.15</td>\n",
              "      <td>-0.10</td>\n",
              "      <td>-0.12</td>\n",
              "      <td>-0.12</td>\n",
              "      <td>1.00</td>\n",
              "      <td>-0.10</td>\n",
              "      <td>-0.15</td>\n",
              "      <td>-0.03</td>\n",
              "      <td>-0.12</td>\n",
              "      <td>0.79</td>\n",
              "      <td>-0.10</td>\n",
              "      <td>0.57</td>\n",
              "      <td>0.57</td>\n",
              "      <td>0.79</td>\n",
              "      <td>0.79</td>\n",
              "      <td>0.57</td>\n",
              "      <td>0.57</td>\n",
              "      <td>0.79</td>\n",
              "      <td>0.79</td>\n",
              "      <td>0.03</td>\n",
              "      <td>0.01</td>\n",
              "      <td>-0.07</td>\n",
              "      <td>-0.00</td>\n",
              "      <td>0.00</td>\n",
              "      <td>0.02</td>\n",
              "      <td>-0.00</td>\n",
              "      <td>-0.16</td>\n",
              "      <td>-0.10</td>\n",
              "      <td>-0.16</td>\n",
              "      <td>-0.12</td>\n",
              "      <td>-0.09</td>\n",
              "      <td>-0.11</td>\n",
              "      <td>-0.07</td>\n",
              "      <td>-0.15</td>\n",
              "      <td>0.79</td>\n",
              "      <td>0.57</td>\n",
              "      <td>-0.03</td>\n",
              "      <td>-0.12</td>\n",
              "    </tr>\n",
              "    <tr>\n",
              "      <th>2_المرحلة الثانية : مرحلة الجرد والترميز</th>\n",
              "      <td>0.49</td>\n",
              "      <td>-0.12</td>\n",
              "      <td>0.30</td>\n",
              "      <td>0.29</td>\n",
              "      <td>0.30</td>\n",
              "      <td>0.17</td>\n",
              "      <td>-0.01</td>\n",
              "      <td>-0.31</td>\n",
              "      <td>0.19</td>\n",
              "      <td>-0.07</td>\n",
              "      <td>-0.02</td>\n",
              "      <td>-0.06</td>\n",
              "      <td>-0.10</td>\n",
              "      <td>-0.09</td>\n",
              "      <td>-0.08</td>\n",
              "      <td>-0.02</td>\n",
              "      <td>-0.10</td>\n",
              "      <td>-0.11</td>\n",
              "      <td>1.00</td>\n",
              "      <td>-0.08</td>\n",
              "      <td>-0.08</td>\n",
              "      <td>-0.10</td>\n",
              "      <td>1.00</td>\n",
              "      <td>-0.11</td>\n",
              "      <td>-0.02</td>\n",
              "      <td>-0.08</td>\n",
              "      <td>-0.08</td>\n",
              "      <td>1.00</td>\n",
              "      <td>-0.06</td>\n",
              "      <td>-0.06</td>\n",
              "      <td>-0.08</td>\n",
              "      <td>-0.08</td>\n",
              "      <td>-0.06</td>\n",
              "      <td>-0.06</td>\n",
              "      <td>-0.08</td>\n",
              "      <td>-0.08</td>\n",
              "      <td>-0.11</td>\n",
              "      <td>0.05</td>\n",
              "      <td>-0.03</td>\n",
              "      <td>0.07</td>\n",
              "      <td>-0.04</td>\n",
              "      <td>-0.00</td>\n",
              "      <td>0.08</td>\n",
              "      <td>-0.12</td>\n",
              "      <td>1.00</td>\n",
              "      <td>-0.12</td>\n",
              "      <td>-0.08</td>\n",
              "      <td>-0.07</td>\n",
              "      <td>-0.08</td>\n",
              "      <td>-0.05</td>\n",
              "      <td>-0.11</td>\n",
              "      <td>-0.08</td>\n",
              "      <td>-0.06</td>\n",
              "      <td>-0.02</td>\n",
              "      <td>-0.08</td>\n",
              "    </tr>\n",
              "    <tr>\n",
              "      <th>2_المرحلة الثانية :التنفيذ و إعداد الارصدة الإفتتاحية للاصول والخصوم واعداد المركز المالي الافتتاحي</th>\n",
              "      <td>0.20</td>\n",
              "      <td>0.01</td>\n",
              "      <td>0.45</td>\n",
              "      <td>0.45</td>\n",
              "      <td>0.47</td>\n",
              "      <td>0.08</td>\n",
              "      <td>-0.01</td>\n",
              "      <td>-0.47</td>\n",
              "      <td>0.85</td>\n",
              "      <td>0.13</td>\n",
              "      <td>-0.20</td>\n",
              "      <td>-0.09</td>\n",
              "      <td>-0.15</td>\n",
              "      <td>-0.15</td>\n",
              "      <td>-0.12</td>\n",
              "      <td>-0.03</td>\n",
              "      <td>-0.15</td>\n",
              "      <td>1.00</td>\n",
              "      <td>-0.11</td>\n",
              "      <td>-0.13</td>\n",
              "      <td>-0.13</td>\n",
              "      <td>-0.15</td>\n",
              "      <td>-0.11</td>\n",
              "      <td>1.00</td>\n",
              "      <td>-0.03</td>\n",
              "      <td>-0.13</td>\n",
              "      <td>-0.12</td>\n",
              "      <td>-0.11</td>\n",
              "      <td>-0.09</td>\n",
              "      <td>-0.09</td>\n",
              "      <td>-0.12</td>\n",
              "      <td>-0.12</td>\n",
              "      <td>-0.09</td>\n",
              "      <td>-0.09</td>\n",
              "      <td>-0.12</td>\n",
              "      <td>-0.12</td>\n",
              "      <td>0.06</td>\n",
              "      <td>-0.01</td>\n",
              "      <td>0.03</td>\n",
              "      <td>-0.04</td>\n",
              "      <td>-0.02</td>\n",
              "      <td>-0.00</td>\n",
              "      <td>-0.03</td>\n",
              "      <td>-0.18</td>\n",
              "      <td>-0.11</td>\n",
              "      <td>-0.18</td>\n",
              "      <td>-0.13</td>\n",
              "      <td>-0.10</td>\n",
              "      <td>-0.12</td>\n",
              "      <td>-0.07</td>\n",
              "      <td>1.00</td>\n",
              "      <td>-0.12</td>\n",
              "      <td>-0.09</td>\n",
              "      <td>-0.03</td>\n",
              "      <td>-0.13</td>\n",
              "    </tr>\n",
              "    <tr>\n",
              "      <th>2_مراجعة الأرصدة الافتتاحية (بيان المركز المالي الافتتاحي)</th>\n",
              "      <td>-0.04</td>\n",
              "      <td>-0.13</td>\n",
              "      <td>0.10</td>\n",
              "      <td>0.09</td>\n",
              "      <td>0.09</td>\n",
              "      <td>0.02</td>\n",
              "      <td>-0.12</td>\n",
              "      <td>-0.09</td>\n",
              "      <td>-0.05</td>\n",
              "      <td>0.00</td>\n",
              "      <td>-0.04</td>\n",
              "      <td>-0.02</td>\n",
              "      <td>-0.03</td>\n",
              "      <td>-0.03</td>\n",
              "      <td>-0.02</td>\n",
              "      <td>1.00</td>\n",
              "      <td>-0.03</td>\n",
              "      <td>-0.03</td>\n",
              "      <td>-0.02</td>\n",
              "      <td>-0.03</td>\n",
              "      <td>-0.03</td>\n",
              "      <td>-0.03</td>\n",
              "      <td>-0.02</td>\n",
              "      <td>-0.03</td>\n",
              "      <td>1.00</td>\n",
              "      <td>-0.03</td>\n",
              "      <td>-0.02</td>\n",
              "      <td>-0.02</td>\n",
              "      <td>-0.02</td>\n",
              "      <td>-0.02</td>\n",
              "      <td>-0.02</td>\n",
              "      <td>-0.02</td>\n",
              "      <td>-0.02</td>\n",
              "      <td>-0.02</td>\n",
              "      <td>-0.02</td>\n",
              "      <td>-0.02</td>\n",
              "      <td>-0.05</td>\n",
              "      <td>-0.02</td>\n",
              "      <td>-0.02</td>\n",
              "      <td>0.04</td>\n",
              "      <td>-0.03</td>\n",
              "      <td>-0.03</td>\n",
              "      <td>0.10</td>\n",
              "      <td>-0.04</td>\n",
              "      <td>-0.02</td>\n",
              "      <td>-0.04</td>\n",
              "      <td>-0.03</td>\n",
              "      <td>-0.02</td>\n",
              "      <td>-0.02</td>\n",
              "      <td>-0.01</td>\n",
              "      <td>-0.03</td>\n",
              "      <td>-0.02</td>\n",
              "      <td>-0.02</td>\n",
              "      <td>1.00</td>\n",
              "      <td>-0.03</td>\n",
              "    </tr>\n",
              "    <tr>\n",
              "      <th>3_ اعداد القوائم الماليّة السنوية للجهة والقوائم الماليّة الموحدة (كما ينطبق) للسنة المالية المنتهية في (تاريخ اول قوائم المالية)</th>\n",
              "      <td>0.46</td>\n",
              "      <td>-0.53</td>\n",
              "      <td>0.34</td>\n",
              "      <td>0.34</td>\n",
              "      <td>0.36</td>\n",
              "      <td>0.20</td>\n",
              "      <td>-0.21</td>\n",
              "      <td>-0.36</td>\n",
              "      <td>-0.20</td>\n",
              "      <td>0.93</td>\n",
              "      <td>0.69</td>\n",
              "      <td>-0.07</td>\n",
              "      <td>-0.12</td>\n",
              "      <td>-0.11</td>\n",
              "      <td>-0.09</td>\n",
              "      <td>-0.03</td>\n",
              "      <td>-0.12</td>\n",
              "      <td>-0.13</td>\n",
              "      <td>-0.08</td>\n",
              "      <td>1.00</td>\n",
              "      <td>1.00</td>\n",
              "      <td>-0.12</td>\n",
              "      <td>-0.08</td>\n",
              "      <td>-0.13</td>\n",
              "      <td>-0.03</td>\n",
              "      <td>1.00</td>\n",
              "      <td>-0.09</td>\n",
              "      <td>-0.08</td>\n",
              "      <td>-0.07</td>\n",
              "      <td>-0.07</td>\n",
              "      <td>-0.09</td>\n",
              "      <td>-0.09</td>\n",
              "      <td>-0.07</td>\n",
              "      <td>-0.07</td>\n",
              "      <td>-0.09</td>\n",
              "      <td>-0.09</td>\n",
              "      <td>0.01</td>\n",
              "      <td>-0.02</td>\n",
              "      <td>-0.06</td>\n",
              "      <td>0.06</td>\n",
              "      <td>-0.11</td>\n",
              "      <td>0.06</td>\n",
              "      <td>0.02</td>\n",
              "      <td>-0.14</td>\n",
              "      <td>-0.08</td>\n",
              "      <td>-0.14</td>\n",
              "      <td>-0.10</td>\n",
              "      <td>-0.08</td>\n",
              "      <td>-0.09</td>\n",
              "      <td>-0.06</td>\n",
              "      <td>-0.13</td>\n",
              "      <td>-0.09</td>\n",
              "      <td>-0.07</td>\n",
              "      <td>-0.03</td>\n",
              "      <td>1.00</td>\n",
              "    </tr>\n",
              "    <tr>\n",
              "      <th>3_المرحلة الثالثة : اعداد وثائق متطلبات نظام تخطيط الموارد الحكومية</th>\n",
              "      <td>0.04</td>\n",
              "      <td>0.08</td>\n",
              "      <td>0.36</td>\n",
              "      <td>0.35</td>\n",
              "      <td>0.34</td>\n",
              "      <td>0.72</td>\n",
              "      <td>0.01</td>\n",
              "      <td>-0.34</td>\n",
              "      <td>0.21</td>\n",
              "      <td>0.01</td>\n",
              "      <td>0.65</td>\n",
              "      <td>-0.06</td>\n",
              "      <td>0.79</td>\n",
              "      <td>0.93</td>\n",
              "      <td>1.00</td>\n",
              "      <td>-0.02</td>\n",
              "      <td>0.79</td>\n",
              "      <td>-0.12</td>\n",
              "      <td>-0.08</td>\n",
              "      <td>-0.09</td>\n",
              "      <td>-0.09</td>\n",
              "      <td>0.79</td>\n",
              "      <td>-0.08</td>\n",
              "      <td>-0.12</td>\n",
              "      <td>-0.02</td>\n",
              "      <td>-0.09</td>\n",
              "      <td>1.00</td>\n",
              "      <td>-0.08</td>\n",
              "      <td>-0.06</td>\n",
              "      <td>-0.06</td>\n",
              "      <td>1.00</td>\n",
              "      <td>1.00</td>\n",
              "      <td>-0.06</td>\n",
              "      <td>-0.06</td>\n",
              "      <td>1.00</td>\n",
              "      <td>1.00</td>\n",
              "      <td>-0.17</td>\n",
              "      <td>-0.04</td>\n",
              "      <td>-0.07</td>\n",
              "      <td>0.08</td>\n",
              "      <td>0.06</td>\n",
              "      <td>0.08</td>\n",
              "      <td>0.06</td>\n",
              "      <td>-0.13</td>\n",
              "      <td>-0.08</td>\n",
              "      <td>-0.13</td>\n",
              "      <td>-0.09</td>\n",
              "      <td>-0.07</td>\n",
              "      <td>-0.08</td>\n",
              "      <td>-0.05</td>\n",
              "      <td>-0.12</td>\n",
              "      <td>1.00</td>\n",
              "      <td>-0.06</td>\n",
              "      <td>-0.02</td>\n",
              "      <td>-0.09</td>\n",
              "    </tr>\n",
              "    <tr>\n",
              "      <th>3_المرحلة الثالثة : التقييم واعداد سجلات الأصول</th>\n",
              "      <td>0.49</td>\n",
              "      <td>-0.12</td>\n",
              "      <td>0.30</td>\n",
              "      <td>0.29</td>\n",
              "      <td>0.30</td>\n",
              "      <td>0.17</td>\n",
              "      <td>-0.01</td>\n",
              "      <td>-0.31</td>\n",
              "      <td>0.19</td>\n",
              "      <td>-0.07</td>\n",
              "      <td>-0.02</td>\n",
              "      <td>-0.06</td>\n",
              "      <td>-0.10</td>\n",
              "      <td>-0.09</td>\n",
              "      <td>-0.08</td>\n",
              "      <td>-0.02</td>\n",
              "      <td>-0.10</td>\n",
              "      <td>-0.11</td>\n",
              "      <td>1.00</td>\n",
              "      <td>-0.08</td>\n",
              "      <td>-0.08</td>\n",
              "      <td>-0.10</td>\n",
              "      <td>1.00</td>\n",
              "      <td>-0.11</td>\n",
              "      <td>-0.02</td>\n",
              "      <td>-0.08</td>\n",
              "      <td>-0.08</td>\n",
              "      <td>1.00</td>\n",
              "      <td>-0.06</td>\n",
              "      <td>-0.06</td>\n",
              "      <td>-0.08</td>\n",
              "      <td>-0.08</td>\n",
              "      <td>-0.06</td>\n",
              "      <td>-0.06</td>\n",
              "      <td>-0.08</td>\n",
              "      <td>-0.08</td>\n",
              "      <td>-0.11</td>\n",
              "      <td>0.05</td>\n",
              "      <td>-0.03</td>\n",
              "      <td>0.07</td>\n",
              "      <td>-0.04</td>\n",
              "      <td>-0.00</td>\n",
              "      <td>0.08</td>\n",
              "      <td>-0.12</td>\n",
              "      <td>1.00</td>\n",
              "      <td>-0.12</td>\n",
              "      <td>-0.08</td>\n",
              "      <td>-0.07</td>\n",
              "      <td>-0.08</td>\n",
              "      <td>-0.05</td>\n",
              "      <td>-0.11</td>\n",
              "      <td>-0.08</td>\n",
              "      <td>-0.06</td>\n",
              "      <td>-0.02</td>\n",
              "      <td>-0.08</td>\n",
              "    </tr>\n",
              "    <tr>\n",
              "      <th>3_المرحلة الثالثة : تطوير وتنفيذ متطلبات النظام</th>\n",
              "      <td>-0.09</td>\n",
              "      <td>-0.01</td>\n",
              "      <td>0.24</td>\n",
              "      <td>0.25</td>\n",
              "      <td>0.25</td>\n",
              "      <td>0.42</td>\n",
              "      <td>-0.18</td>\n",
              "      <td>-0.24</td>\n",
              "      <td>0.15</td>\n",
              "      <td>0.13</td>\n",
              "      <td>-0.10</td>\n",
              "      <td>1.00</td>\n",
              "      <td>0.57</td>\n",
              "      <td>0.30</td>\n",
              "      <td>-0.06</td>\n",
              "      <td>-0.02</td>\n",
              "      <td>0.57</td>\n",
              "      <td>-0.09</td>\n",
              "      <td>-0.06</td>\n",
              "      <td>-0.07</td>\n",
              "      <td>-0.07</td>\n",
              "      <td>0.57</td>\n",
              "      <td>-0.06</td>\n",
              "      <td>-0.09</td>\n",
              "      <td>-0.02</td>\n",
              "      <td>-0.07</td>\n",
              "      <td>-0.06</td>\n",
              "      <td>-0.06</td>\n",
              "      <td>1.00</td>\n",
              "      <td>1.00</td>\n",
              "      <td>-0.06</td>\n",
              "      <td>-0.06</td>\n",
              "      <td>1.00</td>\n",
              "      <td>1.00</td>\n",
              "      <td>-0.06</td>\n",
              "      <td>-0.06</td>\n",
              "      <td>0.27</td>\n",
              "      <td>0.07</td>\n",
              "      <td>-0.02</td>\n",
              "      <td>-0.12</td>\n",
              "      <td>-0.08</td>\n",
              "      <td>-0.08</td>\n",
              "      <td>-0.09</td>\n",
              "      <td>-0.09</td>\n",
              "      <td>-0.06</td>\n",
              "      <td>-0.09</td>\n",
              "      <td>-0.07</td>\n",
              "      <td>-0.05</td>\n",
              "      <td>-0.06</td>\n",
              "      <td>-0.04</td>\n",
              "      <td>-0.09</td>\n",
              "      <td>-0.06</td>\n",
              "      <td>1.00</td>\n",
              "      <td>-0.02</td>\n",
              "      <td>-0.07</td>\n",
              "    </tr>\n",
              "    <tr>\n",
              "      <th>4_المرحلة الرابعة : الدعم والتدريب ونقل المعرفة</th>\n",
              "      <td>-0.09</td>\n",
              "      <td>-0.01</td>\n",
              "      <td>0.24</td>\n",
              "      <td>0.25</td>\n",
              "      <td>0.25</td>\n",
              "      <td>0.42</td>\n",
              "      <td>-0.18</td>\n",
              "      <td>-0.24</td>\n",
              "      <td>0.15</td>\n",
              "      <td>0.13</td>\n",
              "      <td>-0.10</td>\n",
              "      <td>1.00</td>\n",
              "      <td>0.57</td>\n",
              "      <td>0.30</td>\n",
              "      <td>-0.06</td>\n",
              "      <td>-0.02</td>\n",
              "      <td>0.57</td>\n",
              "      <td>-0.09</td>\n",
              "      <td>-0.06</td>\n",
              "      <td>-0.07</td>\n",
              "      <td>-0.07</td>\n",
              "      <td>0.57</td>\n",
              "      <td>-0.06</td>\n",
              "      <td>-0.09</td>\n",
              "      <td>-0.02</td>\n",
              "      <td>-0.07</td>\n",
              "      <td>-0.06</td>\n",
              "      <td>-0.06</td>\n",
              "      <td>1.00</td>\n",
              "      <td>1.00</td>\n",
              "      <td>-0.06</td>\n",
              "      <td>-0.06</td>\n",
              "      <td>1.00</td>\n",
              "      <td>1.00</td>\n",
              "      <td>-0.06</td>\n",
              "      <td>-0.06</td>\n",
              "      <td>0.27</td>\n",
              "      <td>0.07</td>\n",
              "      <td>-0.02</td>\n",
              "      <td>-0.12</td>\n",
              "      <td>-0.08</td>\n",
              "      <td>-0.08</td>\n",
              "      <td>-0.09</td>\n",
              "      <td>-0.09</td>\n",
              "      <td>-0.06</td>\n",
              "      <td>-0.09</td>\n",
              "      <td>-0.07</td>\n",
              "      <td>-0.05</td>\n",
              "      <td>-0.06</td>\n",
              "      <td>-0.04</td>\n",
              "      <td>-0.09</td>\n",
              "      <td>-0.06</td>\n",
              "      <td>1.00</td>\n",
              "      <td>-0.02</td>\n",
              "      <td>-0.07</td>\n",
              "    </tr>\n",
              "    <tr>\n",
              "      <th>4_المرحلة الرابعة : تطوير وتنفيذ متطلبات النظام</th>\n",
              "      <td>0.04</td>\n",
              "      <td>0.08</td>\n",
              "      <td>0.36</td>\n",
              "      <td>0.35</td>\n",
              "      <td>0.34</td>\n",
              "      <td>0.72</td>\n",
              "      <td>0.01</td>\n",
              "      <td>-0.34</td>\n",
              "      <td>0.21</td>\n",
              "      <td>0.01</td>\n",
              "      <td>0.65</td>\n",
              "      <td>-0.06</td>\n",
              "      <td>0.79</td>\n",
              "      <td>0.93</td>\n",
              "      <td>1.00</td>\n",
              "      <td>-0.02</td>\n",
              "      <td>0.79</td>\n",
              "      <td>-0.12</td>\n",
              "      <td>-0.08</td>\n",
              "      <td>-0.09</td>\n",
              "      <td>-0.09</td>\n",
              "      <td>0.79</td>\n",
              "      <td>-0.08</td>\n",
              "      <td>-0.12</td>\n",
              "      <td>-0.02</td>\n",
              "      <td>-0.09</td>\n",
              "      <td>1.00</td>\n",
              "      <td>-0.08</td>\n",
              "      <td>-0.06</td>\n",
              "      <td>-0.06</td>\n",
              "      <td>1.00</td>\n",
              "      <td>1.00</td>\n",
              "      <td>-0.06</td>\n",
              "      <td>-0.06</td>\n",
              "      <td>1.00</td>\n",
              "      <td>1.00</td>\n",
              "      <td>-0.17</td>\n",
              "      <td>-0.04</td>\n",
              "      <td>-0.07</td>\n",
              "      <td>0.08</td>\n",
              "      <td>0.06</td>\n",
              "      <td>0.08</td>\n",
              "      <td>0.06</td>\n",
              "      <td>-0.13</td>\n",
              "      <td>-0.08</td>\n",
              "      <td>-0.13</td>\n",
              "      <td>-0.09</td>\n",
              "      <td>-0.07</td>\n",
              "      <td>-0.08</td>\n",
              "      <td>-0.05</td>\n",
              "      <td>-0.12</td>\n",
              "      <td>1.00</td>\n",
              "      <td>-0.06</td>\n",
              "      <td>-0.02</td>\n",
              "      <td>-0.09</td>\n",
              "    </tr>\n",
              "    <tr>\n",
              "      <th>5_المرحلة الخامسة : الدعم والتدريب ونقل المعرفة</th>\n",
              "      <td>0.04</td>\n",
              "      <td>0.08</td>\n",
              "      <td>0.36</td>\n",
              "      <td>0.35</td>\n",
              "      <td>0.34</td>\n",
              "      <td>0.72</td>\n",
              "      <td>0.01</td>\n",
              "      <td>-0.34</td>\n",
              "      <td>0.21</td>\n",
              "      <td>0.01</td>\n",
              "      <td>0.65</td>\n",
              "      <td>-0.06</td>\n",
              "      <td>0.79</td>\n",
              "      <td>0.93</td>\n",
              "      <td>1.00</td>\n",
              "      <td>-0.02</td>\n",
              "      <td>0.79</td>\n",
              "      <td>-0.12</td>\n",
              "      <td>-0.08</td>\n",
              "      <td>-0.09</td>\n",
              "      <td>-0.09</td>\n",
              "      <td>0.79</td>\n",
              "      <td>-0.08</td>\n",
              "      <td>-0.12</td>\n",
              "      <td>-0.02</td>\n",
              "      <td>-0.09</td>\n",
              "      <td>1.00</td>\n",
              "      <td>-0.08</td>\n",
              "      <td>-0.06</td>\n",
              "      <td>-0.06</td>\n",
              "      <td>1.00</td>\n",
              "      <td>1.00</td>\n",
              "      <td>-0.06</td>\n",
              "      <td>-0.06</td>\n",
              "      <td>1.00</td>\n",
              "      <td>1.00</td>\n",
              "      <td>-0.17</td>\n",
              "      <td>-0.04</td>\n",
              "      <td>-0.07</td>\n",
              "      <td>0.08</td>\n",
              "      <td>0.06</td>\n",
              "      <td>0.08</td>\n",
              "      <td>0.06</td>\n",
              "      <td>-0.13</td>\n",
              "      <td>-0.08</td>\n",
              "      <td>-0.13</td>\n",
              "      <td>-0.09</td>\n",
              "      <td>-0.07</td>\n",
              "      <td>-0.08</td>\n",
              "      <td>-0.05</td>\n",
              "      <td>-0.12</td>\n",
              "      <td>1.00</td>\n",
              "      <td>-0.06</td>\n",
              "      <td>-0.02</td>\n",
              "      <td>-0.09</td>\n",
              "    </tr>\n",
              "    <tr>\n",
              "      <th>5_المرحلة الخامسة : دعم الاطلاق (Pilot Run)</th>\n",
              "      <td>-0.09</td>\n",
              "      <td>-0.01</td>\n",
              "      <td>0.24</td>\n",
              "      <td>0.25</td>\n",
              "      <td>0.25</td>\n",
              "      <td>0.42</td>\n",
              "      <td>-0.18</td>\n",
              "      <td>-0.24</td>\n",
              "      <td>0.15</td>\n",
              "      <td>0.13</td>\n",
              "      <td>-0.10</td>\n",
              "      <td>1.00</td>\n",
              "      <td>0.57</td>\n",
              "      <td>0.30</td>\n",
              "      <td>-0.06</td>\n",
              "      <td>-0.02</td>\n",
              "      <td>0.57</td>\n",
              "      <td>-0.09</td>\n",
              "      <td>-0.06</td>\n",
              "      <td>-0.07</td>\n",
              "      <td>-0.07</td>\n",
              "      <td>0.57</td>\n",
              "      <td>-0.06</td>\n",
              "      <td>-0.09</td>\n",
              "      <td>-0.02</td>\n",
              "      <td>-0.07</td>\n",
              "      <td>-0.06</td>\n",
              "      <td>-0.06</td>\n",
              "      <td>1.00</td>\n",
              "      <td>1.00</td>\n",
              "      <td>-0.06</td>\n",
              "      <td>-0.06</td>\n",
              "      <td>1.00</td>\n",
              "      <td>1.00</td>\n",
              "      <td>-0.06</td>\n",
              "      <td>-0.06</td>\n",
              "      <td>0.27</td>\n",
              "      <td>0.07</td>\n",
              "      <td>-0.02</td>\n",
              "      <td>-0.12</td>\n",
              "      <td>-0.08</td>\n",
              "      <td>-0.08</td>\n",
              "      <td>-0.09</td>\n",
              "      <td>-0.09</td>\n",
              "      <td>-0.06</td>\n",
              "      <td>-0.09</td>\n",
              "      <td>-0.07</td>\n",
              "      <td>-0.05</td>\n",
              "      <td>-0.06</td>\n",
              "      <td>-0.04</td>\n",
              "      <td>-0.09</td>\n",
              "      <td>-0.06</td>\n",
              "      <td>1.00</td>\n",
              "      <td>-0.02</td>\n",
              "      <td>-0.07</td>\n",
              "    </tr>\n",
              "    <tr>\n",
              "      <th>6_المرحلة السادسة : الدعم الفني (Operations)</th>\n",
              "      <td>-0.09</td>\n",
              "      <td>-0.01</td>\n",
              "      <td>0.24</td>\n",
              "      <td>0.25</td>\n",
              "      <td>0.25</td>\n",
              "      <td>0.42</td>\n",
              "      <td>-0.18</td>\n",
              "      <td>-0.24</td>\n",
              "      <td>0.15</td>\n",
              "      <td>0.13</td>\n",
              "      <td>-0.10</td>\n",
              "      <td>1.00</td>\n",
              "      <td>0.57</td>\n",
              "      <td>0.30</td>\n",
              "      <td>-0.06</td>\n",
              "      <td>-0.02</td>\n",
              "      <td>0.57</td>\n",
              "      <td>-0.09</td>\n",
              "      <td>-0.06</td>\n",
              "      <td>-0.07</td>\n",
              "      <td>-0.07</td>\n",
              "      <td>0.57</td>\n",
              "      <td>-0.06</td>\n",
              "      <td>-0.09</td>\n",
              "      <td>-0.02</td>\n",
              "      <td>-0.07</td>\n",
              "      <td>-0.06</td>\n",
              "      <td>-0.06</td>\n",
              "      <td>1.00</td>\n",
              "      <td>1.00</td>\n",
              "      <td>-0.06</td>\n",
              "      <td>-0.06</td>\n",
              "      <td>1.00</td>\n",
              "      <td>1.00</td>\n",
              "      <td>-0.06</td>\n",
              "      <td>-0.06</td>\n",
              "      <td>0.27</td>\n",
              "      <td>0.07</td>\n",
              "      <td>-0.02</td>\n",
              "      <td>-0.12</td>\n",
              "      <td>-0.08</td>\n",
              "      <td>-0.08</td>\n",
              "      <td>-0.09</td>\n",
              "      <td>-0.09</td>\n",
              "      <td>-0.06</td>\n",
              "      <td>-0.09</td>\n",
              "      <td>-0.07</td>\n",
              "      <td>-0.05</td>\n",
              "      <td>-0.06</td>\n",
              "      <td>-0.04</td>\n",
              "      <td>-0.09</td>\n",
              "      <td>-0.06</td>\n",
              "      <td>1.00</td>\n",
              "      <td>-0.02</td>\n",
              "      <td>-0.07</td>\n",
              "    </tr>\n",
              "    <tr>\n",
              "      <th>6_المرحلة السادسة : دعم الاطلاق (Pilot Run)</th>\n",
              "      <td>0.04</td>\n",
              "      <td>0.08</td>\n",
              "      <td>0.36</td>\n",
              "      <td>0.35</td>\n",
              "      <td>0.34</td>\n",
              "      <td>0.72</td>\n",
              "      <td>0.01</td>\n",
              "      <td>-0.34</td>\n",
              "      <td>0.21</td>\n",
              "      <td>0.01</td>\n",
              "      <td>0.65</td>\n",
              "      <td>-0.06</td>\n",
              "      <td>0.79</td>\n",
              "      <td>0.93</td>\n",
              "      <td>1.00</td>\n",
              "      <td>-0.02</td>\n",
              "      <td>0.79</td>\n",
              "      <td>-0.12</td>\n",
              "      <td>-0.08</td>\n",
              "      <td>-0.09</td>\n",
              "      <td>-0.09</td>\n",
              "      <td>0.79</td>\n",
              "      <td>-0.08</td>\n",
              "      <td>-0.12</td>\n",
              "      <td>-0.02</td>\n",
              "      <td>-0.09</td>\n",
              "      <td>1.00</td>\n",
              "      <td>-0.08</td>\n",
              "      <td>-0.06</td>\n",
              "      <td>-0.06</td>\n",
              "      <td>1.00</td>\n",
              "      <td>1.00</td>\n",
              "      <td>-0.06</td>\n",
              "      <td>-0.06</td>\n",
              "      <td>1.00</td>\n",
              "      <td>1.00</td>\n",
              "      <td>-0.17</td>\n",
              "      <td>-0.04</td>\n",
              "      <td>-0.07</td>\n",
              "      <td>0.08</td>\n",
              "      <td>0.06</td>\n",
              "      <td>0.08</td>\n",
              "      <td>0.06</td>\n",
              "      <td>-0.13</td>\n",
              "      <td>-0.08</td>\n",
              "      <td>-0.13</td>\n",
              "      <td>-0.09</td>\n",
              "      <td>-0.07</td>\n",
              "      <td>-0.08</td>\n",
              "      <td>-0.05</td>\n",
              "      <td>-0.12</td>\n",
              "      <td>1.00</td>\n",
              "      <td>-0.06</td>\n",
              "      <td>-0.02</td>\n",
              "      <td>-0.09</td>\n",
              "    </tr>\n",
              "    <tr>\n",
              "      <th>7_المرحلة السابعة : الدعم الفني (Operations)</th>\n",
              "      <td>0.04</td>\n",
              "      <td>0.08</td>\n",
              "      <td>0.36</td>\n",
              "      <td>0.35</td>\n",
              "      <td>0.34</td>\n",
              "      <td>0.72</td>\n",
              "      <td>0.01</td>\n",
              "      <td>-0.34</td>\n",
              "      <td>0.21</td>\n",
              "      <td>0.01</td>\n",
              "      <td>0.65</td>\n",
              "      <td>-0.06</td>\n",
              "      <td>0.79</td>\n",
              "      <td>0.93</td>\n",
              "      <td>1.00</td>\n",
              "      <td>-0.02</td>\n",
              "      <td>0.79</td>\n",
              "      <td>-0.12</td>\n",
              "      <td>-0.08</td>\n",
              "      <td>-0.09</td>\n",
              "      <td>-0.09</td>\n",
              "      <td>0.79</td>\n",
              "      <td>-0.08</td>\n",
              "      <td>-0.12</td>\n",
              "      <td>-0.02</td>\n",
              "      <td>-0.09</td>\n",
              "      <td>1.00</td>\n",
              "      <td>-0.08</td>\n",
              "      <td>-0.06</td>\n",
              "      <td>-0.06</td>\n",
              "      <td>1.00</td>\n",
              "      <td>1.00</td>\n",
              "      <td>-0.06</td>\n",
              "      <td>-0.06</td>\n",
              "      <td>1.00</td>\n",
              "      <td>1.00</td>\n",
              "      <td>-0.17</td>\n",
              "      <td>-0.04</td>\n",
              "      <td>-0.07</td>\n",
              "      <td>0.08</td>\n",
              "      <td>0.06</td>\n",
              "      <td>0.08</td>\n",
              "      <td>0.06</td>\n",
              "      <td>-0.13</td>\n",
              "      <td>-0.08</td>\n",
              "      <td>-0.13</td>\n",
              "      <td>-0.09</td>\n",
              "      <td>-0.07</td>\n",
              "      <td>-0.08</td>\n",
              "      <td>-0.05</td>\n",
              "      <td>-0.12</td>\n",
              "      <td>1.00</td>\n",
              "      <td>-0.06</td>\n",
              "      <td>-0.02</td>\n",
              "      <td>-0.09</td>\n",
              "    </tr>\n",
              "    <tr>\n",
              "      <th>Group_المجموعة الأولى</th>\n",
              "      <td>-0.06</td>\n",
              "      <td>-0.01</td>\n",
              "      <td>0.01</td>\n",
              "      <td>0.01</td>\n",
              "      <td>0.01</td>\n",
              "      <td>-0.01</td>\n",
              "      <td>-0.19</td>\n",
              "      <td>-0.00</td>\n",
              "      <td>0.03</td>\n",
              "      <td>0.06</td>\n",
              "      <td>-0.13</td>\n",
              "      <td>0.27</td>\n",
              "      <td>0.03</td>\n",
              "      <td>-0.07</td>\n",
              "      <td>-0.17</td>\n",
              "      <td>-0.05</td>\n",
              "      <td>0.03</td>\n",
              "      <td>0.06</td>\n",
              "      <td>-0.11</td>\n",
              "      <td>0.01</td>\n",
              "      <td>0.01</td>\n",
              "      <td>0.03</td>\n",
              "      <td>-0.11</td>\n",
              "      <td>0.06</td>\n",
              "      <td>-0.05</td>\n",
              "      <td>0.01</td>\n",
              "      <td>-0.17</td>\n",
              "      <td>-0.11</td>\n",
              "      <td>0.27</td>\n",
              "      <td>0.27</td>\n",
              "      <td>-0.17</td>\n",
              "      <td>-0.17</td>\n",
              "      <td>0.27</td>\n",
              "      <td>0.27</td>\n",
              "      <td>-0.17</td>\n",
              "      <td>-0.17</td>\n",
              "      <td>1.00</td>\n",
              "      <td>-0.15</td>\n",
              "      <td>-0.16</td>\n",
              "      <td>-0.33</td>\n",
              "      <td>-0.22</td>\n",
              "      <td>-0.22</td>\n",
              "      <td>-0.24</td>\n",
              "      <td>0.03</td>\n",
              "      <td>-0.11</td>\n",
              "      <td>0.03</td>\n",
              "      <td>-0.18</td>\n",
              "      <td>0.30</td>\n",
              "      <td>-0.12</td>\n",
              "      <td>-0.07</td>\n",
              "      <td>0.06</td>\n",
              "      <td>-0.17</td>\n",
              "      <td>0.27</td>\n",
              "      <td>-0.05</td>\n",
              "      <td>0.01</td>\n",
              "    </tr>\n",
              "    <tr>\n",
              "      <th>Group_المجموعة الثالثة</th>\n",
              "      <td>0.12</td>\n",
              "      <td>0.04</td>\n",
              "      <td>-0.00</td>\n",
              "      <td>-0.00</td>\n",
              "      <td>0.01</td>\n",
              "      <td>0.01</td>\n",
              "      <td>0.14</td>\n",
              "      <td>-0.01</td>\n",
              "      <td>0.01</td>\n",
              "      <td>-0.01</td>\n",
              "      <td>-0.04</td>\n",
              "      <td>0.07</td>\n",
              "      <td>0.01</td>\n",
              "      <td>-0.02</td>\n",
              "      <td>-0.04</td>\n",
              "      <td>-0.02</td>\n",
              "      <td>0.01</td>\n",
              "      <td>-0.01</td>\n",
              "      <td>0.05</td>\n",
              "      <td>-0.02</td>\n",
              "      <td>-0.02</td>\n",
              "      <td>0.01</td>\n",
              "      <td>0.05</td>\n",
              "      <td>-0.01</td>\n",
              "      <td>-0.02</td>\n",
              "      <td>-0.02</td>\n",
              "      <td>-0.04</td>\n",
              "      <td>0.05</td>\n",
              "      <td>0.07</td>\n",
              "      <td>0.07</td>\n",
              "      <td>-0.04</td>\n",
              "      <td>-0.04</td>\n",
              "      <td>0.07</td>\n",
              "      <td>0.07</td>\n",
              "      <td>-0.04</td>\n",
              "      <td>-0.04</td>\n",
              "      <td>-0.15</td>\n",
              "      <td>1.00</td>\n",
              "      <td>-0.07</td>\n",
              "      <td>-0.13</td>\n",
              "      <td>-0.09</td>\n",
              "      <td>-0.09</td>\n",
              "      <td>-0.10</td>\n",
              "      <td>-0.01</td>\n",
              "      <td>0.05</td>\n",
              "      <td>-0.02</td>\n",
              "      <td>-0.05</td>\n",
              "      <td>0.04</td>\n",
              "      <td>0.05</td>\n",
              "      <td>-0.04</td>\n",
              "      <td>-0.01</td>\n",
              "      <td>-0.04</td>\n",
              "      <td>0.07</td>\n",
              "      <td>-0.02</td>\n",
              "      <td>-0.02</td>\n",
              "    </tr>\n",
              "    <tr>\n",
              "      <th>Group_المجموعة الثانية</th>\n",
              "      <td>-0.01</td>\n",
              "      <td>-0.11</td>\n",
              "      <td>-0.08</td>\n",
              "      <td>-0.07</td>\n",
              "      <td>-0.07</td>\n",
              "      <td>-0.09</td>\n",
              "      <td>-0.16</td>\n",
              "      <td>0.08</td>\n",
              "      <td>-0.01</td>\n",
              "      <td>-0.07</td>\n",
              "      <td>-0.10</td>\n",
              "      <td>-0.02</td>\n",
              "      <td>-0.07</td>\n",
              "      <td>-0.07</td>\n",
              "      <td>-0.07</td>\n",
              "      <td>-0.02</td>\n",
              "      <td>-0.07</td>\n",
              "      <td>0.03</td>\n",
              "      <td>-0.03</td>\n",
              "      <td>-0.06</td>\n",
              "      <td>-0.06</td>\n",
              "      <td>-0.07</td>\n",
              "      <td>-0.03</td>\n",
              "      <td>0.03</td>\n",
              "      <td>-0.02</td>\n",
              "      <td>-0.06</td>\n",
              "      <td>-0.07</td>\n",
              "      <td>-0.03</td>\n",
              "      <td>-0.02</td>\n",
              "      <td>-0.02</td>\n",
              "      <td>-0.07</td>\n",
              "      <td>-0.07</td>\n",
              "      <td>-0.02</td>\n",
              "      <td>-0.02</td>\n",
              "      <td>-0.07</td>\n",
              "      <td>-0.07</td>\n",
              "      <td>-0.16</td>\n",
              "      <td>-0.07</td>\n",
              "      <td>1.00</td>\n",
              "      <td>-0.15</td>\n",
              "      <td>-0.10</td>\n",
              "      <td>-0.10</td>\n",
              "      <td>-0.11</td>\n",
              "      <td>0.08</td>\n",
              "      <td>-0.03</td>\n",
              "      <td>0.08</td>\n",
              "      <td>-0.07</td>\n",
              "      <td>0.03</td>\n",
              "      <td>-0.02</td>\n",
              "      <td>-0.01</td>\n",
              "      <td>0.03</td>\n",
              "      <td>-0.07</td>\n",
              "      <td>-0.02</td>\n",
              "      <td>-0.02</td>\n",
              "      <td>-0.06</td>\n",
              "    </tr>\n",
              "    <tr>\n",
              "      <th>Group_وزارة التعليم والمؤسسات التعليمية</th>\n",
              "      <td>-0.01</td>\n",
              "      <td>0.07</td>\n",
              "      <td>0.05</td>\n",
              "      <td>0.04</td>\n",
              "      <td>0.04</td>\n",
              "      <td>0.04</td>\n",
              "      <td>0.19</td>\n",
              "      <td>-0.05</td>\n",
              "      <td>-0.01</td>\n",
              "      <td>0.04</td>\n",
              "      <td>0.11</td>\n",
              "      <td>-0.12</td>\n",
              "      <td>-0.00</td>\n",
              "      <td>0.04</td>\n",
              "      <td>0.08</td>\n",
              "      <td>0.04</td>\n",
              "      <td>-0.00</td>\n",
              "      <td>-0.04</td>\n",
              "      <td>0.07</td>\n",
              "      <td>0.06</td>\n",
              "      <td>0.06</td>\n",
              "      <td>-0.00</td>\n",
              "      <td>0.07</td>\n",
              "      <td>-0.04</td>\n",
              "      <td>0.04</td>\n",
              "      <td>0.06</td>\n",
              "      <td>0.08</td>\n",
              "      <td>0.07</td>\n",
              "      <td>-0.12</td>\n",
              "      <td>-0.12</td>\n",
              "      <td>0.08</td>\n",
              "      <td>0.08</td>\n",
              "      <td>-0.12</td>\n",
              "      <td>-0.12</td>\n",
              "      <td>0.08</td>\n",
              "      <td>0.08</td>\n",
              "      <td>-0.33</td>\n",
              "      <td>-0.13</td>\n",
              "      <td>-0.15</td>\n",
              "      <td>1.00</td>\n",
              "      <td>-0.20</td>\n",
              "      <td>-0.20</td>\n",
              "      <td>-0.22</td>\n",
              "      <td>-0.06</td>\n",
              "      <td>0.07</td>\n",
              "      <td>-0.06</td>\n",
              "      <td>0.06</td>\n",
              "      <td>-0.14</td>\n",
              "      <td>0.08</td>\n",
              "      <td>0.10</td>\n",
              "      <td>-0.04</td>\n",
              "      <td>0.08</td>\n",
              "      <td>-0.12</td>\n",
              "      <td>0.04</td>\n",
              "      <td>0.06</td>\n",
              "    </tr>\n",
              "    <tr>\n",
              "      <th>Group_وزارة الداخلية والجهات الأمنية</th>\n",
              "      <td>-0.03</td>\n",
              "      <td>-0.12</td>\n",
              "      <td>-0.10</td>\n",
              "      <td>-0.10</td>\n",
              "      <td>-0.10</td>\n",
              "      <td>-0.05</td>\n",
              "      <td>-0.26</td>\n",
              "      <td>0.10</td>\n",
              "      <td>-0.03</td>\n",
              "      <td>-0.13</td>\n",
              "      <td>-0.04</td>\n",
              "      <td>-0.08</td>\n",
              "      <td>0.00</td>\n",
              "      <td>0.03</td>\n",
              "      <td>0.06</td>\n",
              "      <td>-0.03</td>\n",
              "      <td>0.00</td>\n",
              "      <td>-0.02</td>\n",
              "      <td>-0.04</td>\n",
              "      <td>-0.11</td>\n",
              "      <td>-0.11</td>\n",
              "      <td>0.00</td>\n",
              "      <td>-0.04</td>\n",
              "      <td>-0.02</td>\n",
              "      <td>-0.03</td>\n",
              "      <td>-0.11</td>\n",
              "      <td>0.06</td>\n",
              "      <td>-0.04</td>\n",
              "      <td>-0.08</td>\n",
              "      <td>-0.08</td>\n",
              "      <td>0.06</td>\n",
              "      <td>0.06</td>\n",
              "      <td>-0.08</td>\n",
              "      <td>-0.08</td>\n",
              "      <td>0.06</td>\n",
              "      <td>0.06</td>\n",
              "      <td>-0.22</td>\n",
              "      <td>-0.09</td>\n",
              "      <td>-0.10</td>\n",
              "      <td>-0.20</td>\n",
              "      <td>1.00</td>\n",
              "      <td>-0.14</td>\n",
              "      <td>-0.15</td>\n",
              "      <td>0.06</td>\n",
              "      <td>-0.04</td>\n",
              "      <td>0.05</td>\n",
              "      <td>0.16</td>\n",
              "      <td>-0.09</td>\n",
              "      <td>-0.01</td>\n",
              "      <td>-0.07</td>\n",
              "      <td>-0.02</td>\n",
              "      <td>0.06</td>\n",
              "      <td>-0.08</td>\n",
              "      <td>-0.03</td>\n",
              "      <td>-0.11</td>\n",
              "    </tr>\n",
              "    <tr>\n",
              "      <th>Group_وزارة الدفاع والجهات الأمنية</th>\n",
              "      <td>0.01</td>\n",
              "      <td>0.03</td>\n",
              "      <td>0.04</td>\n",
              "      <td>0.04</td>\n",
              "      <td>0.04</td>\n",
              "      <td>0.05</td>\n",
              "      <td>0.13</td>\n",
              "      <td>-0.04</td>\n",
              "      <td>0.00</td>\n",
              "      <td>0.05</td>\n",
              "      <td>0.11</td>\n",
              "      <td>-0.08</td>\n",
              "      <td>0.02</td>\n",
              "      <td>0.05</td>\n",
              "      <td>0.08</td>\n",
              "      <td>-0.03</td>\n",
              "      <td>0.02</td>\n",
              "      <td>-0.00</td>\n",
              "      <td>-0.00</td>\n",
              "      <td>0.06</td>\n",
              "      <td>0.06</td>\n",
              "      <td>0.02</td>\n",
              "      <td>-0.00</td>\n",
              "      <td>-0.00</td>\n",
              "      <td>-0.03</td>\n",
              "      <td>0.06</td>\n",
              "      <td>0.08</td>\n",
              "      <td>-0.00</td>\n",
              "      <td>-0.08</td>\n",
              "      <td>-0.08</td>\n",
              "      <td>0.08</td>\n",
              "      <td>0.08</td>\n",
              "      <td>-0.08</td>\n",
              "      <td>-0.08</td>\n",
              "      <td>0.08</td>\n",
              "      <td>0.08</td>\n",
              "      <td>-0.22</td>\n",
              "      <td>-0.09</td>\n",
              "      <td>-0.10</td>\n",
              "      <td>-0.20</td>\n",
              "      <td>-0.14</td>\n",
              "      <td>1.00</td>\n",
              "      <td>-0.15</td>\n",
              "      <td>-0.02</td>\n",
              "      <td>-0.00</td>\n",
              "      <td>-0.02</td>\n",
              "      <td>0.06</td>\n",
              "      <td>-0.09</td>\n",
              "      <td>-0.01</td>\n",
              "      <td>0.02</td>\n",
              "      <td>-0.00</td>\n",
              "      <td>0.08</td>\n",
              "      <td>-0.08</td>\n",
              "      <td>-0.03</td>\n",
              "      <td>0.06</td>\n",
              "    </tr>\n",
              "    <tr>\n",
              "      <th>Group_وزراة الشؤون البلدية والقروية</th>\n",
              "      <td>0.04</td>\n",
              "      <td>0.06</td>\n",
              "      <td>0.04</td>\n",
              "      <td>0.04</td>\n",
              "      <td>0.04</td>\n",
              "      <td>0.03</td>\n",
              "      <td>0.16</td>\n",
              "      <td>-0.04</td>\n",
              "      <td>-0.00</td>\n",
              "      <td>0.01</td>\n",
              "      <td>0.06</td>\n",
              "      <td>-0.09</td>\n",
              "      <td>-0.00</td>\n",
              "      <td>0.03</td>\n",
              "      <td>0.06</td>\n",
              "      <td>0.10</td>\n",
              "      <td>-0.00</td>\n",
              "      <td>-0.03</td>\n",
              "      <td>0.08</td>\n",
              "      <td>0.02</td>\n",
              "      <td>0.02</td>\n",
              "      <td>-0.00</td>\n",
              "      <td>0.08</td>\n",
              "      <td>-0.03</td>\n",
              "      <td>0.10</td>\n",
              "      <td>0.02</td>\n",
              "      <td>0.06</td>\n",
              "      <td>0.08</td>\n",
              "      <td>-0.09</td>\n",
              "      <td>-0.09</td>\n",
              "      <td>0.06</td>\n",
              "      <td>0.06</td>\n",
              "      <td>-0.09</td>\n",
              "      <td>-0.09</td>\n",
              "      <td>0.06</td>\n",
              "      <td>0.06</td>\n",
              "      <td>-0.24</td>\n",
              "      <td>-0.10</td>\n",
              "      <td>-0.11</td>\n",
              "      <td>-0.22</td>\n",
              "      <td>-0.15</td>\n",
              "      <td>-0.15</td>\n",
              "      <td>1.00</td>\n",
              "      <td>-0.05</td>\n",
              "      <td>0.08</td>\n",
              "      <td>-0.04</td>\n",
              "      <td>0.04</td>\n",
              "      <td>-0.10</td>\n",
              "      <td>0.06</td>\n",
              "      <td>0.05</td>\n",
              "      <td>-0.03</td>\n",
              "      <td>0.06</td>\n",
              "      <td>-0.09</td>\n",
              "      <td>0.10</td>\n",
              "      <td>0.02</td>\n",
              "    </tr>\n",
              "    <tr>\n",
              "      <th>Initiative_name_الاعداد والتهيئة</th>\n",
              "      <td>-0.44</td>\n",
              "      <td>0.24</td>\n",
              "      <td>-0.37</td>\n",
              "      <td>-0.37</td>\n",
              "      <td>-0.38</td>\n",
              "      <td>-0.31</td>\n",
              "      <td>0.22</td>\n",
              "      <td>0.38</td>\n",
              "      <td>-0.28</td>\n",
              "      <td>-0.25</td>\n",
              "      <td>-0.21</td>\n",
              "      <td>-0.09</td>\n",
              "      <td>-0.16</td>\n",
              "      <td>-0.16</td>\n",
              "      <td>-0.13</td>\n",
              "      <td>-0.04</td>\n",
              "      <td>-0.16</td>\n",
              "      <td>-0.18</td>\n",
              "      <td>-0.12</td>\n",
              "      <td>-0.14</td>\n",
              "      <td>-0.14</td>\n",
              "      <td>-0.16</td>\n",
              "      <td>-0.12</td>\n",
              "      <td>-0.18</td>\n",
              "      <td>-0.04</td>\n",
              "      <td>-0.14</td>\n",
              "      <td>-0.13</td>\n",
              "      <td>-0.12</td>\n",
              "      <td>-0.09</td>\n",
              "      <td>-0.09</td>\n",
              "      <td>-0.13</td>\n",
              "      <td>-0.13</td>\n",
              "      <td>-0.09</td>\n",
              "      <td>-0.09</td>\n",
              "      <td>-0.13</td>\n",
              "      <td>-0.13</td>\n",
              "      <td>0.03</td>\n",
              "      <td>-0.01</td>\n",
              "      <td>0.08</td>\n",
              "      <td>-0.06</td>\n",
              "      <td>0.06</td>\n",
              "      <td>-0.02</td>\n",
              "      <td>-0.05</td>\n",
              "      <td>1.00</td>\n",
              "      <td>-0.12</td>\n",
              "      <td>-0.19</td>\n",
              "      <td>-0.14</td>\n",
              "      <td>-0.11</td>\n",
              "      <td>-0.12</td>\n",
              "      <td>-0.08</td>\n",
              "      <td>-0.18</td>\n",
              "      <td>-0.13</td>\n",
              "      <td>-0.09</td>\n",
              "      <td>-0.04</td>\n",
              "      <td>-0.14</td>\n",
              "    </tr>\n",
              "    <tr>\n",
              "      <th>Initiative_name_حصر وجرد وتقييم الأصول الثابتة المتخصصة والبنية التحتية</th>\n",
              "      <td>0.49</td>\n",
              "      <td>-0.12</td>\n",
              "      <td>0.30</td>\n",
              "      <td>0.29</td>\n",
              "      <td>0.30</td>\n",
              "      <td>0.17</td>\n",
              "      <td>-0.01</td>\n",
              "      <td>-0.31</td>\n",
              "      <td>0.19</td>\n",
              "      <td>-0.07</td>\n",
              "      <td>-0.02</td>\n",
              "      <td>-0.06</td>\n",
              "      <td>-0.10</td>\n",
              "      <td>-0.09</td>\n",
              "      <td>-0.08</td>\n",
              "      <td>-0.02</td>\n",
              "      <td>-0.10</td>\n",
              "      <td>-0.11</td>\n",
              "      <td>1.00</td>\n",
              "      <td>-0.08</td>\n",
              "      <td>-0.08</td>\n",
              "      <td>-0.10</td>\n",
              "      <td>1.00</td>\n",
              "      <td>-0.11</td>\n",
              "      <td>-0.02</td>\n",
              "      <td>-0.08</td>\n",
              "      <td>-0.08</td>\n",
              "      <td>1.00</td>\n",
              "      <td>-0.06</td>\n",
              "      <td>-0.06</td>\n",
              "      <td>-0.08</td>\n",
              "      <td>-0.08</td>\n",
              "      <td>-0.06</td>\n",
              "      <td>-0.06</td>\n",
              "      <td>-0.08</td>\n",
              "      <td>-0.08</td>\n",
              "      <td>-0.11</td>\n",
              "      <td>0.05</td>\n",
              "      <td>-0.03</td>\n",
              "      <td>0.07</td>\n",
              "      <td>-0.04</td>\n",
              "      <td>-0.00</td>\n",
              "      <td>0.08</td>\n",
              "      <td>-0.12</td>\n",
              "      <td>1.00</td>\n",
              "      <td>-0.12</td>\n",
              "      <td>-0.08</td>\n",
              "      <td>-0.07</td>\n",
              "      <td>-0.08</td>\n",
              "      <td>-0.05</td>\n",
              "      <td>-0.11</td>\n",
              "      <td>-0.08</td>\n",
              "      <td>-0.06</td>\n",
              "      <td>-0.02</td>\n",
              "      <td>-0.08</td>\n",
              "    </tr>\n",
              "    <tr>\n",
              "      <th>Initiative_name_طرح كراسة اعداد الأرصدة الافتتاحية ومسك الحسابات</th>\n",
              "      <td>-0.17</td>\n",
              "      <td>0.16</td>\n",
              "      <td>-0.37</td>\n",
              "      <td>-0.36</td>\n",
              "      <td>-0.37</td>\n",
              "      <td>-0.31</td>\n",
              "      <td>0.14</td>\n",
              "      <td>0.37</td>\n",
              "      <td>-0.28</td>\n",
              "      <td>-0.24</td>\n",
              "      <td>-0.21</td>\n",
              "      <td>-0.09</td>\n",
              "      <td>-0.16</td>\n",
              "      <td>-0.15</td>\n",
              "      <td>-0.13</td>\n",
              "      <td>-0.04</td>\n",
              "      <td>-0.16</td>\n",
              "      <td>-0.18</td>\n",
              "      <td>-0.12</td>\n",
              "      <td>-0.14</td>\n",
              "      <td>-0.14</td>\n",
              "      <td>-0.16</td>\n",
              "      <td>-0.12</td>\n",
              "      <td>-0.18</td>\n",
              "      <td>-0.04</td>\n",
              "      <td>-0.14</td>\n",
              "      <td>-0.13</td>\n",
              "      <td>-0.12</td>\n",
              "      <td>-0.09</td>\n",
              "      <td>-0.09</td>\n",
              "      <td>-0.13</td>\n",
              "      <td>-0.13</td>\n",
              "      <td>-0.09</td>\n",
              "      <td>-0.09</td>\n",
              "      <td>-0.13</td>\n",
              "      <td>-0.13</td>\n",
              "      <td>0.03</td>\n",
              "      <td>-0.02</td>\n",
              "      <td>0.08</td>\n",
              "      <td>-0.06</td>\n",
              "      <td>0.05</td>\n",
              "      <td>-0.02</td>\n",
              "      <td>-0.04</td>\n",
              "      <td>-0.19</td>\n",
              "      <td>-0.12</td>\n",
              "      <td>1.00</td>\n",
              "      <td>-0.14</td>\n",
              "      <td>-0.11</td>\n",
              "      <td>-0.12</td>\n",
              "      <td>-0.08</td>\n",
              "      <td>-0.18</td>\n",
              "      <td>-0.13</td>\n",
              "      <td>-0.09</td>\n",
              "      <td>-0.04</td>\n",
              "      <td>-0.14</td>\n",
              "    </tr>\n",
              "    <tr>\n",
              "      <th>Initiative_name_طرح كراسة تنفيذ الخصائص التقنية والفنية للنظام المالي للجهات اللامركزية</th>\n",
              "      <td>-0.12</td>\n",
              "      <td>0.11</td>\n",
              "      <td>-0.26</td>\n",
              "      <td>-0.26</td>\n",
              "      <td>-0.27</td>\n",
              "      <td>-0.22</td>\n",
              "      <td>0.11</td>\n",
              "      <td>0.27</td>\n",
              "      <td>-0.20</td>\n",
              "      <td>-0.18</td>\n",
              "      <td>-0.15</td>\n",
              "      <td>-0.07</td>\n",
              "      <td>-0.12</td>\n",
              "      <td>-0.11</td>\n",
              "      <td>-0.09</td>\n",
              "      <td>-0.03</td>\n",
              "      <td>-0.12</td>\n",
              "      <td>-0.13</td>\n",
              "      <td>-0.08</td>\n",
              "      <td>-0.10</td>\n",
              "      <td>-0.10</td>\n",
              "      <td>-0.12</td>\n",
              "      <td>-0.08</td>\n",
              "      <td>-0.13</td>\n",
              "      <td>-0.03</td>\n",
              "      <td>-0.10</td>\n",
              "      <td>-0.09</td>\n",
              "      <td>-0.08</td>\n",
              "      <td>-0.07</td>\n",
              "      <td>-0.07</td>\n",
              "      <td>-0.09</td>\n",
              "      <td>-0.09</td>\n",
              "      <td>-0.07</td>\n",
              "      <td>-0.07</td>\n",
              "      <td>-0.09</td>\n",
              "      <td>-0.09</td>\n",
              "      <td>-0.18</td>\n",
              "      <td>-0.05</td>\n",
              "      <td>-0.07</td>\n",
              "      <td>0.06</td>\n",
              "      <td>0.16</td>\n",
              "      <td>0.06</td>\n",
              "      <td>0.04</td>\n",
              "      <td>-0.14</td>\n",
              "      <td>-0.08</td>\n",
              "      <td>-0.14</td>\n",
              "      <td>1.00</td>\n",
              "      <td>-0.08</td>\n",
              "      <td>-0.09</td>\n",
              "      <td>-0.06</td>\n",
              "      <td>-0.13</td>\n",
              "      <td>-0.09</td>\n",
              "      <td>-0.07</td>\n",
              "      <td>-0.03</td>\n",
              "      <td>-0.10</td>\n",
              "    </tr>\n",
              "    <tr>\n",
              "      <th>Initiative_name_طرح كراسة تنفيذ الخصائص التقنية والفنية للنظام المالي للجهات المركزية</th>\n",
              "      <td>-0.07</td>\n",
              "      <td>0.01</td>\n",
              "      <td>-0.21</td>\n",
              "      <td>-0.21</td>\n",
              "      <td>-0.21</td>\n",
              "      <td>-0.18</td>\n",
              "      <td>-0.13</td>\n",
              "      <td>0.21</td>\n",
              "      <td>-0.16</td>\n",
              "      <td>-0.14</td>\n",
              "      <td>-0.12</td>\n",
              "      <td>-0.05</td>\n",
              "      <td>-0.09</td>\n",
              "      <td>-0.09</td>\n",
              "      <td>-0.07</td>\n",
              "      <td>-0.02</td>\n",
              "      <td>-0.09</td>\n",
              "      <td>-0.10</td>\n",
              "      <td>-0.07</td>\n",
              "      <td>-0.08</td>\n",
              "      <td>-0.08</td>\n",
              "      <td>-0.09</td>\n",
              "      <td>-0.07</td>\n",
              "      <td>-0.10</td>\n",
              "      <td>-0.02</td>\n",
              "      <td>-0.08</td>\n",
              "      <td>-0.07</td>\n",
              "      <td>-0.07</td>\n",
              "      <td>-0.05</td>\n",
              "      <td>-0.05</td>\n",
              "      <td>-0.07</td>\n",
              "      <td>-0.07</td>\n",
              "      <td>-0.05</td>\n",
              "      <td>-0.05</td>\n",
              "      <td>-0.07</td>\n",
              "      <td>-0.07</td>\n",
              "      <td>0.30</td>\n",
              "      <td>0.04</td>\n",
              "      <td>0.03</td>\n",
              "      <td>-0.14</td>\n",
              "      <td>-0.09</td>\n",
              "      <td>-0.09</td>\n",
              "      <td>-0.10</td>\n",
              "      <td>-0.11</td>\n",
              "      <td>-0.07</td>\n",
              "      <td>-0.11</td>\n",
              "      <td>-0.08</td>\n",
              "      <td>1.00</td>\n",
              "      <td>-0.07</td>\n",
              "      <td>-0.04</td>\n",
              "      <td>-0.10</td>\n",
              "      <td>-0.07</td>\n",
              "      <td>-0.05</td>\n",
              "      <td>-0.02</td>\n",
              "      <td>-0.08</td>\n",
              "    </tr>\n",
              "    <tr>\n",
              "      <th>Initiative_name_طرح كراسة حصر وجرد وتقييم الأصول الثابتة</th>\n",
              "      <td>-0.13</td>\n",
              "      <td>0.11</td>\n",
              "      <td>-0.24</td>\n",
              "      <td>-0.24</td>\n",
              "      <td>-0.24</td>\n",
              "      <td>-0.20</td>\n",
              "      <td>0.07</td>\n",
              "      <td>0.24</td>\n",
              "      <td>-0.18</td>\n",
              "      <td>-0.16</td>\n",
              "      <td>-0.14</td>\n",
              "      <td>-0.06</td>\n",
              "      <td>-0.11</td>\n",
              "      <td>-0.10</td>\n",
              "      <td>-0.08</td>\n",
              "      <td>-0.02</td>\n",
              "      <td>-0.11</td>\n",
              "      <td>-0.12</td>\n",
              "      <td>-0.08</td>\n",
              "      <td>-0.09</td>\n",
              "      <td>-0.09</td>\n",
              "      <td>-0.11</td>\n",
              "      <td>-0.08</td>\n",
              "      <td>-0.12</td>\n",
              "      <td>-0.02</td>\n",
              "      <td>-0.09</td>\n",
              "      <td>-0.08</td>\n",
              "      <td>-0.08</td>\n",
              "      <td>-0.06</td>\n",
              "      <td>-0.06</td>\n",
              "      <td>-0.08</td>\n",
              "      <td>-0.08</td>\n",
              "      <td>-0.06</td>\n",
              "      <td>-0.06</td>\n",
              "      <td>-0.08</td>\n",
              "      <td>-0.08</td>\n",
              "      <td>-0.12</td>\n",
              "      <td>0.05</td>\n",
              "      <td>-0.02</td>\n",
              "      <td>0.08</td>\n",
              "      <td>-0.01</td>\n",
              "      <td>-0.01</td>\n",
              "      <td>0.06</td>\n",
              "      <td>-0.12</td>\n",
              "      <td>-0.08</td>\n",
              "      <td>-0.12</td>\n",
              "      <td>-0.09</td>\n",
              "      <td>-0.07</td>\n",
              "      <td>1.00</td>\n",
              "      <td>-0.05</td>\n",
              "      <td>-0.12</td>\n",
              "      <td>-0.08</td>\n",
              "      <td>-0.06</td>\n",
              "      <td>-0.02</td>\n",
              "      <td>-0.09</td>\n",
              "    </tr>\n",
              "    <tr>\n",
              "      <th>Initiative_name_طرح كراسة مراجعة القوائم المالية  للجهة الحكوميّة</th>\n",
              "      <td>-0.05</td>\n",
              "      <td>-0.21</td>\n",
              "      <td>-0.15</td>\n",
              "      <td>-0.15</td>\n",
              "      <td>-0.15</td>\n",
              "      <td>-0.13</td>\n",
              "      <td>-0.23</td>\n",
              "      <td>0.15</td>\n",
              "      <td>-0.12</td>\n",
              "      <td>-0.10</td>\n",
              "      <td>-0.09</td>\n",
              "      <td>-0.04</td>\n",
              "      <td>-0.07</td>\n",
              "      <td>-0.06</td>\n",
              "      <td>-0.05</td>\n",
              "      <td>-0.01</td>\n",
              "      <td>-0.07</td>\n",
              "      <td>-0.07</td>\n",
              "      <td>-0.05</td>\n",
              "      <td>-0.06</td>\n",
              "      <td>-0.06</td>\n",
              "      <td>-0.07</td>\n",
              "      <td>-0.05</td>\n",
              "      <td>-0.07</td>\n",
              "      <td>-0.01</td>\n",
              "      <td>-0.06</td>\n",
              "      <td>-0.05</td>\n",
              "      <td>-0.05</td>\n",
              "      <td>-0.04</td>\n",
              "      <td>-0.04</td>\n",
              "      <td>-0.05</td>\n",
              "      <td>-0.05</td>\n",
              "      <td>-0.04</td>\n",
              "      <td>-0.04</td>\n",
              "      <td>-0.05</td>\n",
              "      <td>-0.05</td>\n",
              "      <td>-0.07</td>\n",
              "      <td>-0.04</td>\n",
              "      <td>-0.01</td>\n",
              "      <td>0.10</td>\n",
              "      <td>-0.07</td>\n",
              "      <td>0.02</td>\n",
              "      <td>0.05</td>\n",
              "      <td>-0.08</td>\n",
              "      <td>-0.05</td>\n",
              "      <td>-0.08</td>\n",
              "      <td>-0.06</td>\n",
              "      <td>-0.04</td>\n",
              "      <td>-0.05</td>\n",
              "      <td>1.00</td>\n",
              "      <td>-0.07</td>\n",
              "      <td>-0.05</td>\n",
              "      <td>-0.04</td>\n",
              "      <td>-0.01</td>\n",
              "      <td>-0.06</td>\n",
              "    </tr>\n",
              "    <tr>\n",
              "      <th>Initiative_name_مبادرة اعداد الأرصدة الافتتاحية</th>\n",
              "      <td>0.20</td>\n",
              "      <td>0.01</td>\n",
              "      <td>0.45</td>\n",
              "      <td>0.45</td>\n",
              "      <td>0.47</td>\n",
              "      <td>0.08</td>\n",
              "      <td>-0.01</td>\n",
              "      <td>-0.47</td>\n",
              "      <td>0.85</td>\n",
              "      <td>0.13</td>\n",
              "      <td>-0.20</td>\n",
              "      <td>-0.09</td>\n",
              "      <td>-0.15</td>\n",
              "      <td>-0.15</td>\n",
              "      <td>-0.12</td>\n",
              "      <td>-0.03</td>\n",
              "      <td>-0.15</td>\n",
              "      <td>1.00</td>\n",
              "      <td>-0.11</td>\n",
              "      <td>-0.13</td>\n",
              "      <td>-0.13</td>\n",
              "      <td>-0.15</td>\n",
              "      <td>-0.11</td>\n",
              "      <td>1.00</td>\n",
              "      <td>-0.03</td>\n",
              "      <td>-0.13</td>\n",
              "      <td>-0.12</td>\n",
              "      <td>-0.11</td>\n",
              "      <td>-0.09</td>\n",
              "      <td>-0.09</td>\n",
              "      <td>-0.12</td>\n",
              "      <td>-0.12</td>\n",
              "      <td>-0.09</td>\n",
              "      <td>-0.09</td>\n",
              "      <td>-0.12</td>\n",
              "      <td>-0.12</td>\n",
              "      <td>0.06</td>\n",
              "      <td>-0.01</td>\n",
              "      <td>0.03</td>\n",
              "      <td>-0.04</td>\n",
              "      <td>-0.02</td>\n",
              "      <td>-0.00</td>\n",
              "      <td>-0.03</td>\n",
              "      <td>-0.18</td>\n",
              "      <td>-0.11</td>\n",
              "      <td>-0.18</td>\n",
              "      <td>-0.13</td>\n",
              "      <td>-0.10</td>\n",
              "      <td>-0.12</td>\n",
              "      <td>-0.07</td>\n",
              "      <td>1.00</td>\n",
              "      <td>-0.12</td>\n",
              "      <td>-0.09</td>\n",
              "      <td>-0.03</td>\n",
              "      <td>-0.13</td>\n",
              "    </tr>\n",
              "    <tr>\n",
              "      <th>Initiative_name_مبادرة تنفيذ الخصائص التقنية والمواصفات الفنية للنظام المالي للجهات اللامركزية</th>\n",
              "      <td>0.04</td>\n",
              "      <td>0.08</td>\n",
              "      <td>0.36</td>\n",
              "      <td>0.35</td>\n",
              "      <td>0.34</td>\n",
              "      <td>0.72</td>\n",
              "      <td>0.01</td>\n",
              "      <td>-0.34</td>\n",
              "      <td>0.21</td>\n",
              "      <td>0.01</td>\n",
              "      <td>0.65</td>\n",
              "      <td>-0.06</td>\n",
              "      <td>0.79</td>\n",
              "      <td>0.93</td>\n",
              "      <td>1.00</td>\n",
              "      <td>-0.02</td>\n",
              "      <td>0.79</td>\n",
              "      <td>-0.12</td>\n",
              "      <td>-0.08</td>\n",
              "      <td>-0.09</td>\n",
              "      <td>-0.09</td>\n",
              "      <td>0.79</td>\n",
              "      <td>-0.08</td>\n",
              "      <td>-0.12</td>\n",
              "      <td>-0.02</td>\n",
              "      <td>-0.09</td>\n",
              "      <td>1.00</td>\n",
              "      <td>-0.08</td>\n",
              "      <td>-0.06</td>\n",
              "      <td>-0.06</td>\n",
              "      <td>1.00</td>\n",
              "      <td>1.00</td>\n",
              "      <td>-0.06</td>\n",
              "      <td>-0.06</td>\n",
              "      <td>1.00</td>\n",
              "      <td>1.00</td>\n",
              "      <td>-0.17</td>\n",
              "      <td>-0.04</td>\n",
              "      <td>-0.07</td>\n",
              "      <td>0.08</td>\n",
              "      <td>0.06</td>\n",
              "      <td>0.08</td>\n",
              "      <td>0.06</td>\n",
              "      <td>-0.13</td>\n",
              "      <td>-0.08</td>\n",
              "      <td>-0.13</td>\n",
              "      <td>-0.09</td>\n",
              "      <td>-0.07</td>\n",
              "      <td>-0.08</td>\n",
              "      <td>-0.05</td>\n",
              "      <td>-0.12</td>\n",
              "      <td>1.00</td>\n",
              "      <td>-0.06</td>\n",
              "      <td>-0.02</td>\n",
              "      <td>-0.09</td>\n",
              "    </tr>\n",
              "    <tr>\n",
              "      <th>Initiative_name_مبادرة تنفيذ الخصائص التقنية والمواصفات الفنية للنظام المالي للجهات المركزية</th>\n",
              "      <td>-0.09</td>\n",
              "      <td>-0.01</td>\n",
              "      <td>0.24</td>\n",
              "      <td>0.25</td>\n",
              "      <td>0.25</td>\n",
              "      <td>0.42</td>\n",
              "      <td>-0.18</td>\n",
              "      <td>-0.24</td>\n",
              "      <td>0.15</td>\n",
              "      <td>0.13</td>\n",
              "      <td>-0.10</td>\n",
              "      <td>1.00</td>\n",
              "      <td>0.57</td>\n",
              "      <td>0.30</td>\n",
              "      <td>-0.06</td>\n",
              "      <td>-0.02</td>\n",
              "      <td>0.57</td>\n",
              "      <td>-0.09</td>\n",
              "      <td>-0.06</td>\n",
              "      <td>-0.07</td>\n",
              "      <td>-0.07</td>\n",
              "      <td>0.57</td>\n",
              "      <td>-0.06</td>\n",
              "      <td>-0.09</td>\n",
              "      <td>-0.02</td>\n",
              "      <td>-0.07</td>\n",
              "      <td>-0.06</td>\n",
              "      <td>-0.06</td>\n",
              "      <td>1.00</td>\n",
              "      <td>1.00</td>\n",
              "      <td>-0.06</td>\n",
              "      <td>-0.06</td>\n",
              "      <td>1.00</td>\n",
              "      <td>1.00</td>\n",
              "      <td>-0.06</td>\n",
              "      <td>-0.06</td>\n",
              "      <td>0.27</td>\n",
              "      <td>0.07</td>\n",
              "      <td>-0.02</td>\n",
              "      <td>-0.12</td>\n",
              "      <td>-0.08</td>\n",
              "      <td>-0.08</td>\n",
              "      <td>-0.09</td>\n",
              "      <td>-0.09</td>\n",
              "      <td>-0.06</td>\n",
              "      <td>-0.09</td>\n",
              "      <td>-0.07</td>\n",
              "      <td>-0.05</td>\n",
              "      <td>-0.06</td>\n",
              "      <td>-0.04</td>\n",
              "      <td>-0.09</td>\n",
              "      <td>-0.06</td>\n",
              "      <td>1.00</td>\n",
              "      <td>-0.02</td>\n",
              "      <td>-0.07</td>\n",
              "    </tr>\n",
              "    <tr>\n",
              "      <th>Initiative_name_مبادرة مراجعة القوائم المالية للجهة الحكومية</th>\n",
              "      <td>-0.04</td>\n",
              "      <td>-0.13</td>\n",
              "      <td>0.10</td>\n",
              "      <td>0.09</td>\n",
              "      <td>0.09</td>\n",
              "      <td>0.02</td>\n",
              "      <td>-0.12</td>\n",
              "      <td>-0.09</td>\n",
              "      <td>-0.05</td>\n",
              "      <td>0.00</td>\n",
              "      <td>-0.04</td>\n",
              "      <td>-0.02</td>\n",
              "      <td>-0.03</td>\n",
              "      <td>-0.03</td>\n",
              "      <td>-0.02</td>\n",
              "      <td>1.00</td>\n",
              "      <td>-0.03</td>\n",
              "      <td>-0.03</td>\n",
              "      <td>-0.02</td>\n",
              "      <td>-0.03</td>\n",
              "      <td>-0.03</td>\n",
              "      <td>-0.03</td>\n",
              "      <td>-0.02</td>\n",
              "      <td>-0.03</td>\n",
              "      <td>1.00</td>\n",
              "      <td>-0.03</td>\n",
              "      <td>-0.02</td>\n",
              "      <td>-0.02</td>\n",
              "      <td>-0.02</td>\n",
              "      <td>-0.02</td>\n",
              "      <td>-0.02</td>\n",
              "      <td>-0.02</td>\n",
              "      <td>-0.02</td>\n",
              "      <td>-0.02</td>\n",
              "      <td>-0.02</td>\n",
              "      <td>-0.02</td>\n",
              "      <td>-0.05</td>\n",
              "      <td>-0.02</td>\n",
              "      <td>-0.02</td>\n",
              "      <td>0.04</td>\n",
              "      <td>-0.03</td>\n",
              "      <td>-0.03</td>\n",
              "      <td>0.10</td>\n",
              "      <td>-0.04</td>\n",
              "      <td>-0.02</td>\n",
              "      <td>-0.04</td>\n",
              "      <td>-0.03</td>\n",
              "      <td>-0.02</td>\n",
              "      <td>-0.02</td>\n",
              "      <td>-0.01</td>\n",
              "      <td>-0.03</td>\n",
              "      <td>-0.02</td>\n",
              "      <td>-0.02</td>\n",
              "      <td>1.00</td>\n",
              "      <td>-0.03</td>\n",
              "    </tr>\n",
              "    <tr>\n",
              "      <th>Initiative_name_مسك السجلات المحاسبية</th>\n",
              "      <td>0.46</td>\n",
              "      <td>-0.53</td>\n",
              "      <td>0.34</td>\n",
              "      <td>0.34</td>\n",
              "      <td>0.36</td>\n",
              "      <td>0.20</td>\n",
              "      <td>-0.21</td>\n",
              "      <td>-0.36</td>\n",
              "      <td>-0.20</td>\n",
              "      <td>0.93</td>\n",
              "      <td>0.69</td>\n",
              "      <td>-0.07</td>\n",
              "      <td>-0.12</td>\n",
              "      <td>-0.11</td>\n",
              "      <td>-0.09</td>\n",
              "      <td>-0.03</td>\n",
              "      <td>-0.12</td>\n",
              "      <td>-0.13</td>\n",
              "      <td>-0.08</td>\n",
              "      <td>1.00</td>\n",
              "      <td>1.00</td>\n",
              "      <td>-0.12</td>\n",
              "      <td>-0.08</td>\n",
              "      <td>-0.13</td>\n",
              "      <td>-0.03</td>\n",
              "      <td>1.00</td>\n",
              "      <td>-0.09</td>\n",
              "      <td>-0.08</td>\n",
              "      <td>-0.07</td>\n",
              "      <td>-0.07</td>\n",
              "      <td>-0.09</td>\n",
              "      <td>-0.09</td>\n",
              "      <td>-0.07</td>\n",
              "      <td>-0.07</td>\n",
              "      <td>-0.09</td>\n",
              "      <td>-0.09</td>\n",
              "      <td>0.01</td>\n",
              "      <td>-0.02</td>\n",
              "      <td>-0.06</td>\n",
              "      <td>0.06</td>\n",
              "      <td>-0.11</td>\n",
              "      <td>0.06</td>\n",
              "      <td>0.02</td>\n",
              "      <td>-0.14</td>\n",
              "      <td>-0.08</td>\n",
              "      <td>-0.14</td>\n",
              "      <td>-0.10</td>\n",
              "      <td>-0.08</td>\n",
              "      <td>-0.09</td>\n",
              "      <td>-0.06</td>\n",
              "      <td>-0.13</td>\n",
              "      <td>-0.09</td>\n",
              "      <td>-0.07</td>\n",
              "      <td>-0.03</td>\n",
              "      <td>1.00</td>\n",
              "    </tr>\n",
              "  </tbody>\n",
              "</table>\n",
              "</div>"
            ],
            "text/plain": [
              "                                                    Period  ...  Initiative_name_مسك السجلات المحاسبية\n",
              "Period                                                1.00  ...                                   0.46\n",
              "Planned                                              -0.43  ...                                  -0.53\n",
              "Origin_Budget                                         0.61  ...                                   0.34\n",
              "Awarded_Budget                                        0.60  ...                                   0.34\n",
              "awarded_pct                                           0.63  ...                                   0.36\n",
              "number_of_phases                                      0.39  ...                                   0.20\n",
              "since                                                -0.13  ...                                  -0.21\n",
              "outputs 0                                            -0.63  ...                                  -0.36\n",
              "outputs 1                                             0.35  ...                                  -0.20\n",
              "outputs 2                                             0.54  ...                                   0.93\n",
              "outputs 3                                             0.43  ...                                   0.69\n",
              "outputs 4                                            -0.09  ...                                  -0.07\n",
              "outputs 5                                            -0.02  ...                                  -0.12\n",
              "outputs 6                                             0.01  ...                                  -0.11\n",
              "outputs 7                                             0.04  ...                                  -0.09\n",
              "1_الأنشطة الرئيسية                                   -0.04  ...                                  -0.03\n",
              "1_المرحلة الأولى : التجهيز للمشروع                   -0.02  ...                                  -0.12\n",
              "1_المرحلة الأولى : التحليل والتخطيط                   0.20  ...                                  -0.13\n",
              "1_المرحلة الأولى : مرحلة الحصر ودراسة الوضع الحالي    0.49  ...                                  -0.08\n",
              "1_المرحلة الثالثة :  التضمين و المساندة في مسك ...    0.46  ...                                   1.00\n",
              "2_ مساندة وتدريب موظفي (الجهة الحكومية) اثناء ا...    0.46  ...                                   1.00\n",
              "2_المرحلة الثانية : التحليل والتخطيط                 -0.02  ...                                  -0.12\n",
              "2_المرحلة الثانية : مرحلة الجرد والترميز              0.49  ...                                  -0.08\n",
              "2_المرحلة الثانية :التنفيذ و إعداد الارصدة الإف...    0.20  ...                                  -0.13\n",
              "2_مراجعة الأرصدة الافتتاحية (بيان المركز المالي...   -0.04  ...                                  -0.03\n",
              "3_ اعداد القوائم الماليّة السنوية للجهة والقوائ...    0.46  ...                                   1.00\n",
              "3_المرحلة الثالثة : اعداد وثائق متطلبات نظام تخ...    0.04  ...                                  -0.09\n",
              "3_المرحلة الثالثة : التقييم واعداد سجلات الأصول       0.49  ...                                  -0.08\n",
              "3_المرحلة الثالثة : تطوير وتنفيذ متطلبات النظام      -0.09  ...                                  -0.07\n",
              "4_المرحلة الرابعة : الدعم والتدريب ونقل المعرفة      -0.09  ...                                  -0.07\n",
              "4_المرحلة الرابعة : تطوير وتنفيذ متطلبات النظام       0.04  ...                                  -0.09\n",
              "5_المرحلة الخامسة : الدعم والتدريب ونقل المعرفة       0.04  ...                                  -0.09\n",
              "5_المرحلة الخامسة : دعم الاطلاق (Pilot Run)          -0.09  ...                                  -0.07\n",
              "6_المرحلة السادسة : الدعم الفني (Operations)         -0.09  ...                                  -0.07\n",
              "6_المرحلة السادسة : دعم الاطلاق (Pilot Run)           0.04  ...                                  -0.09\n",
              "7_المرحلة السابعة : الدعم الفني (Operations)          0.04  ...                                  -0.09\n",
              "Group_المجموعة الأولى                                -0.06  ...                                   0.01\n",
              "Group_المجموعة الثالثة                                0.12  ...                                  -0.02\n",
              "Group_المجموعة الثانية                               -0.01  ...                                  -0.06\n",
              "Group_وزارة التعليم والمؤسسات التعليمية              -0.01  ...                                   0.06\n",
              "Group_وزارة الداخلية والجهات الأمنية                 -0.03  ...                                  -0.11\n",
              "Group_وزارة الدفاع والجهات الأمنية                    0.01  ...                                   0.06\n",
              "Group_وزراة الشؤون البلدية والقروية                   0.04  ...                                   0.02\n",
              "Initiative_name_الاعداد والتهيئة                     -0.44  ...                                  -0.14\n",
              "Initiative_name_حصر وجرد وتقييم الأصول الثابتة ...    0.49  ...                                  -0.08\n",
              "Initiative_name_طرح كراسة اعداد الأرصدة الافتتا...   -0.17  ...                                  -0.14\n",
              "Initiative_name_طرح كراسة تنفيذ الخصائص التقنية...   -0.12  ...                                  -0.10\n",
              "Initiative_name_طرح كراسة تنفيذ الخصائص التقنية...   -0.07  ...                                  -0.08\n",
              "Initiative_name_طرح كراسة حصر وجرد وتقييم الأصو...   -0.13  ...                                  -0.09\n",
              "Initiative_name_طرح كراسة مراجعة القوائم المالي...   -0.05  ...                                  -0.06\n",
              "Initiative_name_مبادرة اعداد الأرصدة الافتتاحية       0.20  ...                                  -0.13\n",
              "Initiative_name_مبادرة تنفيذ الخصائص التقنية وا...    0.04  ...                                  -0.09\n",
              "Initiative_name_مبادرة تنفيذ الخصائص التقنية وا...   -0.09  ...                                  -0.07\n",
              "Initiative_name_مبادرة مراجعة القوائم المالية ل...   -0.04  ...                                  -0.03\n",
              "Initiative_name_مسك السجلات المحاسبية                 0.46  ...                                   1.00\n",
              "\n",
              "[55 rows x 55 columns]"
            ]
          },
          "metadata": {
            "tags": []
          },
          "execution_count": 108
        }
      ]
    },
    {
      "cell_type": "code",
      "metadata": {
        "id": "m4tFoz632wAs"
      },
      "source": [
        "X_test=pd.get_dummies(final_data_test.drop(columns=[ 'Status','Holder_name', 'Varience','Main_activity']).fillna(0) , columns = ['Group' ,'Initiative_name'])"
      ],
      "execution_count": 109,
      "outputs": []
    },
    {
      "cell_type": "code",
      "metadata": {
        "id": "1GaIaWtt5h6Z",
        "outputId": "e3c499d5-00a2-4a63-8a31-be22ae52b40a",
        "colab": {
          "base_uri": "https://localhost:8080/",
          "height": 34
        }
      },
      "source": [
        "# we check if all fields in test set are included in train set\n",
        "set(X_train.columns)-set(X_test.columns)"
      ],
      "execution_count": 110,
      "outputs": [
        {
          "output_type": "execute_result",
          "data": {
            "text/plain": [
              "{'Initiative_name_الاعداد والتهيئة', 'Main_activity'}"
            ]
          },
          "metadata": {
            "tags": []
          },
          "execution_count": 110
        }
      ]
    },
    {
      "cell_type": "code",
      "metadata": {
        "id": "0vkmnlID6omr"
      },
      "source": [
        "# since the initiative name (_الاعداد والتهيئة')  is not available in data to predict(test set) we generate if \n",
        "X_test['Initiative_name_الاعداد والتهيئة'] = 0\n"
      ],
      "execution_count": 111,
      "outputs": []
    },
    {
      "cell_type": "code",
      "metadata": {
        "id": "cnUgh5Y26yLE"
      },
      "source": [
        "#we make sure that columns are ordered the same in both sets\n",
        "X_test=X_test.reindex(columns=list(set(X_test.columns)))"
      ],
      "execution_count": 112,
      "outputs": []
    },
    {
      "cell_type": "code",
      "metadata": {
        "id": "C7VQ0hSM7Fc2"
      },
      "source": [
        "X_train=X_train.reindex(columns=list(set(X_test.columns)))"
      ],
      "execution_count": 113,
      "outputs": []
    },
    {
      "cell_type": "markdown",
      "metadata": {
        "id": "_GNQYHtNHU5u"
      },
      "source": [
        ""
      ]
    },
    {
      "cell_type": "markdown",
      "metadata": {
        "id": "f_UXGEyQheZb"
      },
      "source": [
        "### Finally , we get our model"
      ]
    },
    {
      "cell_type": "code",
      "metadata": {
        "id": "0uey80fl9GX1"
      },
      "source": [
        "# we set parameters\n",
        "input_dim=len(X_train.columns)\n"
      ],
      "execution_count": 114,
      "outputs": []
    },
    {
      "cell_type": "code",
      "metadata": {
        "id": "CKMfFUi09GQs"
      },
      "source": [
        "#preprocess data(to make values range between 1 and 0 ) \n",
        "#X_train=preprocessing.scale(X_train)\n",
        "\n",
        "X_train=preprocessing.MinMaxScaler().fit_transform(X_train)\n"
      ],
      "execution_count": 115,
      "outputs": []
    },
    {
      "cell_type": "code",
      "metadata": {
        "id": "LnZ4yvwJ3nCg"
      },
      "source": [
        "#X_test=preprocessing.scale(X_test)\n"
      ],
      "execution_count": 116,
      "outputs": []
    },
    {
      "cell_type": "code",
      "metadata": {
        "id": "r3hWOBVoBGYl"
      },
      "source": [
        "datas=[]\n",
        "for i in range(-12,0) : \n",
        "  j=X_test.copy()\n",
        "  j.loc[:, 'since'] = j.loc[:, 'since'] +i\n",
        "  datas.append(j)\n",
        "  "
      ],
      "execution_count": 117,
      "outputs": []
    },
    {
      "cell_type": "code",
      "metadata": {
        "id": "NYbvJXlX9GLX"
      },
      "source": [
        "# transfer labels to binary encoding (i.e status to be transferred into 3 columns the first one equals 1 if 'على  المسار' and so on)\n",
        "#encoder = LabelEncoder()\n",
        "#encoder.fit( final_data_train['Status'])"
      ],
      "execution_count": 118,
      "outputs": []
    },
    {
      "cell_type": "code",
      "metadata": {
        "id": "qPEsYdseF2em"
      },
      "source": [
        "#final_data_train.loc[final_data_train['Varience'] < 0.01 , 'Varience' ] = 0.01\n"
      ],
      "execution_count": 119,
      "outputs": []
    },
    {
      "cell_type": "code",
      "metadata": {
        "id": "yeKp70Q19GAX",
        "outputId": "c6c699ba-f34a-4486-a49e-50e9f1efff88",
        "colab": {
          "base_uri": "https://localhost:8080/",
          "height": 34
        }
      },
      "source": [
        "encoder = LabelEncoder()\n",
        "encoder.fit( final_data_train['Status'])\n"
      ],
      "execution_count": 120,
      "outputs": [
        {
          "output_type": "execute_result",
          "data": {
            "text/plain": [
              "LabelEncoder()"
            ]
          },
          "metadata": {
            "tags": []
          },
          "execution_count": 120
        }
      ]
    },
    {
      "cell_type": "code",
      "metadata": {
        "id": "xcxdCeMIy44x"
      },
      "source": [
        "encoded_Y = encoder.transform(final_data_train['Status'])\n"
      ],
      "execution_count": 121,
      "outputs": []
    },
    {
      "cell_type": "code",
      "metadata": {
        "id": "uzJFfm1Ky6cp",
        "outputId": "f8fd7b24-1198-417a-823c-75c2e415c500",
        "colab": {
          "base_uri": "https://localhost:8080/",
          "height": 34
        }
      },
      "source": [
        "encoded_Y"
      ],
      "execution_count": 122,
      "outputs": [
        {
          "output_type": "execute_result",
          "data": {
            "text/plain": [
              "array([2, 2, 0, ..., 2, 1, 0])"
            ]
          },
          "metadata": {
            "tags": []
          },
          "execution_count": 122
        }
      ]
    },
    {
      "cell_type": "code",
      "metadata": {
        "id": "bV0luBR6f_EE"
      },
      "source": [
        "\n",
        "encoded_Y = encoder.transform(final_data_train['Status'])\n",
        "# convert integers to dummy variables (i.e. one hot encoded)\n",
        "y_train = np_utils.to_categorical(encoded_Y)\n",
        "#y_train= final_data_train['Varience']\n",
        "#scaler = preprocessing.MinMaxScaler(feature_range = (0,1))\n",
        "\n",
        "#encoded_Y = encoder.transform(y_train)\n",
        "# convert integers to dummy variables (i.e. one hot encoded)\n",
        "#y_train = np_utils.to_categorical(encoded_Y)\n"
      ],
      "execution_count": 123,
      "outputs": []
    },
    {
      "cell_type": "code",
      "metadata": {
        "id": "if537m0FNMjo",
        "outputId": "1cadf603-38ba-42e8-b376-0946e9344d58",
        "colab": {
          "base_uri": "https://localhost:8080/",
          "height": 34
        }
      },
      "source": [
        "input_dim"
      ],
      "execution_count": 124,
      "outputs": [
        {
          "output_type": "execute_result",
          "data": {
            "text/plain": [
              "55"
            ]
          },
          "metadata": {
            "tags": []
          },
          "execution_count": 124
        }
      ]
    },
    {
      "cell_type": "code",
      "metadata": {
        "id": "7DGJP-EsISO0"
      },
      "source": [
        "#optimizer = keras.optimizers.Adam(lr=0.0001)\n"
      ],
      "execution_count": 125,
      "outputs": []
    },
    {
      "cell_type": "code",
      "metadata": {
        "id": "DwkKPaKXBJfy"
      },
      "source": [
        "from sklearn.model_selection import GridSearchCV, train_test_split\n",
        "from sklearn.model_selection import KFold\n"
      ],
      "execution_count": 126,
      "outputs": []
    },
    {
      "cell_type": "code",
      "metadata": {
        "id": "u1lta1_t83jf"
      },
      "source": [
        ""
      ],
      "execution_count": 126,
      "outputs": []
    },
    {
      "cell_type": "code",
      "metadata": {
        "id": "hr_X7P64Pp7U"
      },
      "source": [
        "# A parameter grid for XGBoost\n",
        "#params = {'min_child_weight':[4,5,6], 'gamma':[i/10.0 for i in range(1)],  'subsample':[i/10.0 for i in range(3,7)],\n",
        "#'colsample_bytree':[i/10.0 for i in range(3,7)], 'max_depth': [9,10,11]}\n",
        "\n",
        "\n",
        "# Initialize XGB and GridSearch\n",
        "#xgb = XGBClassifier(nthread=-1 , objective ='multi:softprob' ,learning_rate=0.01 , n_estimators=100 ) \n",
        "\n",
        "#grid = GridSearchCV(xgb, params)\n",
        "#grid.fit(X_train, encoded_Y)\n",
        "\n",
        "# Print the r2 score\n",
        "#print(grid.best_estimator_) \n"
      ],
      "execution_count": 127,
      "outputs": []
    },
    {
      "cell_type": "code",
      "metadata": {
        "id": "ZT4LPgiQToIG",
        "outputId": "653cb110-1613-4b44-feca-2b38c097061e",
        "colab": {
          "base_uri": "https://localhost:8080/",
          "height": 34
        }
      },
      "source": [
        "model = XGBClassifier(learning_rate=0.00001, max_depth=10, n_estimators=120000)\n",
        "kfold = KFold(n_splits=16, random_state=7)\n",
        "results = cross_val_score(model, X_train, encoded_Y, cv=kfold)\n",
        "print(\"Accuracy: %.2f%% (%.2f%%)\" % (results.mean()*100, results.std()*100))"
      ],
      "execution_count": 128,
      "outputs": [
        {
          "output_type": "stream",
          "text": [
            "Accuracy: 55.01% (5.02%)\n"
          ],
          "name": "stdout"
        }
      ]
    },
    {
      "cell_type": "markdown",
      "metadata": {
        "id": "SnYS2PV0R872"
      },
      "source": [
        "this score after lr=0.01 & n_estimator = 1200"
      ]
    },
    {
      "cell_type": "code",
      "metadata": {
        "id": "YQNG4KTO1nXl",
        "outputId": "5ed38f02-c428-4864-89cf-be9a9ffc458e",
        "colab": {
          "base_uri": "https://localhost:8080/",
          "height": 136
        }
      },
      "source": [
        "model"
      ],
      "execution_count": 129,
      "outputs": [
        {
          "output_type": "execute_result",
          "data": {
            "text/plain": [
              "XGBClassifier(base_score=0.5, booster='gbtree', colsample_bylevel=1,\n",
              "              colsample_bynode=1, colsample_bytree=1, gamma=0,\n",
              "              learning_rate=0.001, max_delta_step=0, max_depth=10,\n",
              "              min_child_weight=1, missing=None, n_estimators=1200, n_jobs=1,\n",
              "              nthread=None, objective='binary:logistic', random_state=0,\n",
              "              reg_alpha=0, reg_lambda=1, scale_pos_weight=1, seed=None,\n",
              "              silent=None, subsample=1, verbosity=1)"
            ]
          },
          "metadata": {
            "tags": []
          },
          "execution_count": 129
        }
      ]
    },
    {
      "cell_type": "code",
      "metadata": {
        "id": "yclrq0KndnwN",
        "outputId": "ec8a5dab-9b09-43b5-9cc7-3eb99437b66c",
        "colab": {
          "base_uri": "https://localhost:8080/",
          "height": 136
        }
      },
      "source": [
        "# Model\n",
        "\n",
        "#clf = svm.SVC(kernel='linear') # Linear Kernel\n",
        "#clf.fit(X_train, y_train)\n",
        "model = XGBClassifier(learning_rate=0.001, max_depth=10, n_estimators=1200)\n",
        "model.fit(X_train, encoded_Y)"
      ],
      "execution_count": 130,
      "outputs": [
        {
          "output_type": "execute_result",
          "data": {
            "text/plain": [
              "XGBClassifier(base_score=0.5, booster='gbtree', colsample_bylevel=1,\n",
              "              colsample_bynode=1, colsample_bytree=1, gamma=0,\n",
              "              learning_rate=0.001, max_delta_step=0, max_depth=10,\n",
              "              min_child_weight=1, missing=None, n_estimators=1200, n_jobs=1,\n",
              "              nthread=None, objective='multi:softprob', random_state=0,\n",
              "              reg_alpha=0, reg_lambda=1, scale_pos_weight=1, seed=None,\n",
              "              silent=None, subsample=1, verbosity=1)"
            ]
          },
          "metadata": {
            "tags": []
          },
          "execution_count": 130
        }
      ]
    },
    {
      "cell_type": "markdown",
      "metadata": {
        "id": "zd1e-GAiiyak"
      },
      "source": [
        "### Then we get predictions for initiatives that not started "
      ]
    },
    {
      "cell_type": "code",
      "metadata": {
        "id": "JkG31JyQ3fF1"
      },
      "source": [
        "#predicts=np.round(pd.DataFrame(model.predict(X_train).reshape(-1)) , 2).set_index(final_data_train.index)"
      ],
      "execution_count": 131,
      "outputs": []
    },
    {
      "cell_type": "code",
      "metadata": {
        "id": "hfEmK0erayKj"
      },
      "source": [
        "#predicts=predicts.merge(final_data_train.loc[: , ['Status','Varience']] , left_on=predicts.index , right_on= final_data_train.index )"
      ],
      "execution_count": 132,
      "outputs": []
    },
    {
      "cell_type": "code",
      "metadata": {
        "id": "gIB_oqvfdWrX"
      },
      "source": [
        "#predicts.drop(columns=['key_0'] , inplace=True)"
      ],
      "execution_count": 133,
      "outputs": []
    },
    {
      "cell_type": "code",
      "metadata": {
        "id": "LUqotQgKnXsd"
      },
      "source": [
        "#predicts.head()"
      ],
      "execution_count": 134,
      "outputs": []
    },
    {
      "cell_type": "code",
      "metadata": {
        "id": "22wXTTb7deIw"
      },
      "source": [
        "#predicts.columns=['predicted_variance' , 'Status' , 'Varience' ]"
      ],
      "execution_count": 135,
      "outputs": []
    },
    {
      "cell_type": "code",
      "metadata": {
        "id": "HteIV4BJhni5"
      },
      "source": [
        "\n",
        "#generating 'Status' (our predicted field)\n",
        "#predicts['pred_Status'] = np.nan\n",
        "#predicts.loc[(predicts ['predicted_variance'] < 0.05 ), 'pred_Status'] = \"على المسار\"\n",
        "#predicts.loc[(predicts ['predicted_variance'] >= 0.05) & (predicts ['predicted_variance'] <=0.14) , 'pred_Status'] = \"متأخر\"\n",
        "\n",
        "#predicts.loc[ (predicts ['predicted_variance'] > 0.14) , 'pred_Status'] = \"متأخر جدا\"\n",
        "\n"
      ],
      "execution_count": 136,
      "outputs": []
    },
    {
      "cell_type": "code",
      "metadata": {
        "id": "0hipdTjVdkGj"
      },
      "source": [
        "#np.round((accuracy_score(predicts['Status'] , predicts['pred_Status'])*100),0)"
      ],
      "execution_count": 137,
      "outputs": []
    },
    {
      "cell_type": "code",
      "metadata": {
        "id": "QNqDL8zrIE25"
      },
      "source": [
        "PREDICTED_CLASSES1 = model.predict(X_train)\n"
      ],
      "execution_count": 138,
      "outputs": []
    },
    {
      "cell_type": "code",
      "metadata": {
        "id": "N5S10kkLIEx1"
      },
      "source": [
        "p=pd.Series(encoder.inverse_transform(PREDICTED_CLASSES1))\n"
      ],
      "execution_count": 139,
      "outputs": []
    },
    {
      "cell_type": "code",
      "metadata": {
        "id": "56oQS_mlIEvj"
      },
      "source": [
        "\n"
      ],
      "execution_count": 139,
      "outputs": []
    },
    {
      "cell_type": "code",
      "metadata": {
        "id": "5iyDnx9vIEs0",
        "outputId": "e1ba6042-da4f-45f8-e8b4-d03f0ae88031",
        "colab": {
          "base_uri": "https://localhost:8080/",
          "height": 85
        }
      },
      "source": [
        "p.value_counts()"
      ],
      "execution_count": 140,
      "outputs": [
        {
          "output_type": "execute_result",
          "data": {
            "text/plain": [
              "متأخر جدا     565\n",
              "على المسار    356\n",
              "متأخر         137\n",
              "dtype: int64"
            ]
          },
          "metadata": {
            "tags": []
          },
          "execution_count": 140
        }
      ]
    },
    {
      "cell_type": "code",
      "metadata": {
        "id": "s057t4lGuDDW"
      },
      "source": [
        "predicts=pd.DataFrame(p).set_index(final_data_train.index)"
      ],
      "execution_count": 141,
      "outputs": []
    },
    {
      "cell_type": "code",
      "metadata": {
        "id": "jhTaLZJCegGV"
      },
      "source": [
        "pd1=predicts.merge(final_data_train.loc[: , ['Status']] , left_on=predicts.index , right_on= final_data_train.index )"
      ],
      "execution_count": 142,
      "outputs": []
    },
    {
      "cell_type": "code",
      "metadata": {
        "id": "lp6cMSDQegDo",
        "outputId": "ba360429-dee7-4d6e-8187-ca0dbc391399",
        "colab": {
          "base_uri": "https://localhost:8080/",
          "height": 419
        }
      },
      "source": [
        "pd1"
      ],
      "execution_count": 143,
      "outputs": [
        {
          "output_type": "execute_result",
          "data": {
            "text/html": [
              "<div>\n",
              "<style scoped>\n",
              "    .dataframe tbody tr th:only-of-type {\n",
              "        vertical-align: middle;\n",
              "    }\n",
              "\n",
              "    .dataframe tbody tr th {\n",
              "        vertical-align: top;\n",
              "    }\n",
              "\n",
              "    .dataframe thead th {\n",
              "        text-align: right;\n",
              "    }\n",
              "</style>\n",
              "<table border=\"1\" class=\"dataframe\">\n",
              "  <thead>\n",
              "    <tr style=\"text-align: right;\">\n",
              "      <th></th>\n",
              "      <th>key_0</th>\n",
              "      <th>0</th>\n",
              "      <th>Status</th>\n",
              "    </tr>\n",
              "  </thead>\n",
              "  <tbody>\n",
              "    <tr>\n",
              "      <th>0</th>\n",
              "      <td>0</td>\n",
              "      <td>على المسار</td>\n",
              "      <td>متأخر جدا</td>\n",
              "    </tr>\n",
              "    <tr>\n",
              "      <th>1</th>\n",
              "      <td>1</td>\n",
              "      <td>متأخر جدا</td>\n",
              "      <td>متأخر جدا</td>\n",
              "    </tr>\n",
              "    <tr>\n",
              "      <th>2</th>\n",
              "      <td>2</td>\n",
              "      <td>على المسار</td>\n",
              "      <td>على المسار</td>\n",
              "    </tr>\n",
              "    <tr>\n",
              "      <th>3</th>\n",
              "      <td>3</td>\n",
              "      <td>متأخر جدا</td>\n",
              "      <td>متأخر جدا</td>\n",
              "    </tr>\n",
              "    <tr>\n",
              "      <th>4</th>\n",
              "      <td>4</td>\n",
              "      <td>متأخر جدا</td>\n",
              "      <td>متأخر جدا</td>\n",
              "    </tr>\n",
              "    <tr>\n",
              "      <th>...</th>\n",
              "      <td>...</td>\n",
              "      <td>...</td>\n",
              "      <td>...</td>\n",
              "    </tr>\n",
              "    <tr>\n",
              "      <th>1053</th>\n",
              "      <td>1532</td>\n",
              "      <td>متأخر جدا</td>\n",
              "      <td>على المسار</td>\n",
              "    </tr>\n",
              "    <tr>\n",
              "      <th>1054</th>\n",
              "      <td>1533</td>\n",
              "      <td>متأخر</td>\n",
              "      <td>متأخر</td>\n",
              "    </tr>\n",
              "    <tr>\n",
              "      <th>1055</th>\n",
              "      <td>1534</td>\n",
              "      <td>متأخر جدا</td>\n",
              "      <td>متأخر جدا</td>\n",
              "    </tr>\n",
              "    <tr>\n",
              "      <th>1056</th>\n",
              "      <td>1535</td>\n",
              "      <td>متأخر</td>\n",
              "      <td>متأخر</td>\n",
              "    </tr>\n",
              "    <tr>\n",
              "      <th>1057</th>\n",
              "      <td>1536</td>\n",
              "      <td>على المسار</td>\n",
              "      <td>على المسار</td>\n",
              "    </tr>\n",
              "  </tbody>\n",
              "</table>\n",
              "<p>1058 rows × 3 columns</p>\n",
              "</div>"
            ],
            "text/plain": [
              "      key_0           0      Status\n",
              "0         0  على المسار   متأخر جدا\n",
              "1         1   متأخر جدا   متأخر جدا\n",
              "2         2  على المسار  على المسار\n",
              "3         3   متأخر جدا   متأخر جدا\n",
              "4         4   متأخر جدا   متأخر جدا\n",
              "...     ...         ...         ...\n",
              "1053   1532   متأخر جدا  على المسار\n",
              "1054   1533       متأخر       متأخر\n",
              "1055   1534   متأخر جدا   متأخر جدا\n",
              "1056   1535       متأخر       متأخر\n",
              "1057   1536  على المسار  على المسار\n",
              "\n",
              "[1058 rows x 3 columns]"
            ]
          },
          "metadata": {
            "tags": []
          },
          "execution_count": 143
        }
      ]
    },
    {
      "cell_type": "code",
      "metadata": {
        "id": "4ObdjismegBk",
        "outputId": "54f68561-7e1e-436e-d64a-d976eb8e45fe",
        "colab": {
          "base_uri": "https://localhost:8080/",
          "height": 34
        }
      },
      "source": [
        "np.round((accuracy_score(pd1['Status'] , pd1[0])*100),2)"
      ],
      "execution_count": 144,
      "outputs": [
        {
          "output_type": "execute_result",
          "data": {
            "text/plain": [
              "82.04"
            ]
          },
          "metadata": {
            "tags": []
          },
          "execution_count": 144
        }
      ]
    },
    {
      "cell_type": "code",
      "metadata": {
        "id": "QyPocyaJef_l"
      },
      "source": [
        ""
      ],
      "execution_count": 144,
      "outputs": []
    },
    {
      "cell_type": "code",
      "metadata": {
        "id": "FLnP9tsdef9i"
      },
      "source": [
        ""
      ],
      "execution_count": 144,
      "outputs": []
    },
    {
      "cell_type": "code",
      "metadata": {
        "id": "yalv501bef4y"
      },
      "source": [
        ""
      ],
      "execution_count": 144,
      "outputs": []
    },
    {
      "cell_type": "code",
      "metadata": {
        "id": "4dI9F1_3ef1k"
      },
      "source": [
        ""
      ],
      "execution_count": 144,
      "outputs": []
    },
    {
      "cell_type": "code",
      "metadata": {
        "id": "0_b9QgcYefyZ"
      },
      "source": [
        ""
      ],
      "execution_count": 144,
      "outputs": []
    },
    {
      "cell_type": "code",
      "metadata": {
        "id": "ssaAMh2px1_Z"
      },
      "source": [
        "dfs_2 = [df_initiative.drop(columns=['Actual' , 'Planned_start','Planned_end','Awarded_Budget', 'Actual_Payments',\n",
        "       'Budget_Remaining']),outputs_per_phase_initiative,fund_set]"
      ],
      "execution_count": 145,
      "outputs": []
    },
    {
      "cell_type": "code",
      "metadata": {
        "id": "dG8qNGp7x1_k"
      },
      "source": [
        "final_data_2=functools.reduce(lambda left,right: pd.merge(left,right , on =['Group' , 'Holder_name','Initiative_name' ],how='left'),dfs_2).fillna(0)"
      ],
      "execution_count": 146,
      "outputs": []
    },
    {
      "cell_type": "code",
      "metadata": {
        "id": "jPsYSNGfzHoR"
      },
      "source": [
        ""
      ],
      "execution_count": 146,
      "outputs": []
    },
    {
      "cell_type": "code",
      "metadata": {
        "id": "mAPtIAqDzIIt"
      },
      "source": [
        "\n",
        "final_data_train_2 = final_data_2.loc[final_data['Status'] != 'لم تبدأ' ,:]"
      ],
      "execution_count": 147,
      "outputs": []
    },
    {
      "cell_type": "code",
      "metadata": {
        "id": "FEuPQtmZzIIw"
      },
      "source": [
        "final_data_test_2 = final_data_2.loc[final_data['Status'] == 'لم تبدأ' ,:]"
      ],
      "execution_count": 148,
      "outputs": []
    },
    {
      "cell_type": "code",
      "metadata": {
        "id": "7Tn5o1jakHsA"
      },
      "source": [
        ""
      ],
      "execution_count": 148,
      "outputs": []
    },
    {
      "cell_type": "code",
      "metadata": {
        "id": "olthZ5S-yxu2"
      },
      "source": [
        "X_train=pd.get_dummies(final_data_train_2.drop(columns=[ 'Status','Holder_name' ,'Main_activity' , 'Varience'  , 'Budget_Varience' ]).fillna(0) , columns = ['Group' ,'Initiative_name'])"
      ],
      "execution_count": 149,
      "outputs": []
    },
    {
      "cell_type": "code",
      "metadata": {
        "id": "TpxbB5Jizxsn"
      },
      "source": [
        "#X_train=X_train.merge(final_data_train.loc[: , ['Varience']] , left_on=X_train.index , right_on=final_data_train.index ).drop(columns=['key_0'])"
      ],
      "execution_count": 150,
      "outputs": []
    },
    {
      "cell_type": "code",
      "metadata": {
        "id": "jGRUT1ZYyxvH"
      },
      "source": [
        "X_test=pd.get_dummies(final_data_test_2.drop(columns=[ 'Status','Holder_name','Main_activity' , 'Varience' , 'Budget_Varience']).fillna(0) , columns = ['Group' ,'Initiative_name'])"
      ],
      "execution_count": 151,
      "outputs": []
    },
    {
      "cell_type": "code",
      "metadata": {
        "id": "U7I-0WfkyxvM",
        "outputId": "3f25bc67-44fd-4f2f-fa21-db5ef9b5d10f",
        "colab": {
          "base_uri": "https://localhost:8080/",
          "height": 34
        }
      },
      "source": [
        "# we check if all fields in test set are included in train set\n",
        "set(X_train.columns)-set(X_test.columns)"
      ],
      "execution_count": 152,
      "outputs": [
        {
          "output_type": "execute_result",
          "data": {
            "text/plain": [
              "{'Initiative_name_الاعداد والتهيئة'}"
            ]
          },
          "metadata": {
            "tags": []
          },
          "execution_count": 152
        }
      ]
    },
    {
      "cell_type": "code",
      "metadata": {
        "id": "foaDHlwMyxvR"
      },
      "source": [
        "# since the initiative name (_الاعداد والتهيئة')  is not available in data to predict(test set) we generate if \n",
        "X_test['Initiative_name_الاعداد والتهيئة'] = 0"
      ],
      "execution_count": 153,
      "outputs": []
    },
    {
      "cell_type": "code",
      "metadata": {
        "id": "f1U81_GsyxvW"
      },
      "source": [
        "#we make sure that columns are ordered the same in both sets\n",
        "X_test=X_test.reindex(columns=list(set(X_test.columns)))"
      ],
      "execution_count": 154,
      "outputs": []
    },
    {
      "cell_type": "code",
      "metadata": {
        "id": "0-LNOwpoyxva"
      },
      "source": [
        "X_train=X_train.reindex(columns=list(set(X_test.columns)))"
      ],
      "execution_count": 155,
      "outputs": []
    },
    {
      "cell_type": "code",
      "metadata": {
        "id": "ZzjyZj8CXwl5"
      },
      "source": [
        "datas2=[]\n",
        "for i in range(-12,0) : \n",
        "  j=X_test.copy()\n",
        "  j.loc[:, 'since'] = j.loc[:, 'since'] +i\n",
        "  datas2.append(j)"
      ],
      "execution_count": 156,
      "outputs": []
    },
    {
      "cell_type": "code",
      "metadata": {
        "id": "S8HNEFk7yxvg"
      },
      "source": [
        "# we set parameters\n",
        "input_dim=len(X_train.columns)\n"
      ],
      "execution_count": 157,
      "outputs": []
    },
    {
      "cell_type": "code",
      "metadata": {
        "id": "EqgkS6Aeyxvj"
      },
      "source": [
        "#preprocess data(to make values range between 1 and 0 ) \n",
        "X_train=preprocessing.scale(X_train)\n"
      ],
      "execution_count": 158,
      "outputs": []
    },
    {
      "cell_type": "code",
      "metadata": {
        "id": "jNgCpho7yxvn"
      },
      "source": [
        "X_test=preprocessing.scale(X_test)\n"
      ],
      "execution_count": 159,
      "outputs": []
    },
    {
      "cell_type": "code",
      "metadata": {
        "id": "fON_nFgqyxvp"
      },
      "source": [
        "# transfer labels to binary encoding (i.e status to be transferred into 3 columns the first one equals 1 if 'على  المسار' and so on)\n",
        "#encoder = LabelEncoder()\n",
        "#encoder.fit( final_data_train['Status'])"
      ],
      "execution_count": 160,
      "outputs": []
    },
    {
      "cell_type": "code",
      "metadata": {
        "id": "4oiVM17Eyxvr"
      },
      "source": [
        "\n",
        "#encoded_Y = encoder.transform(final_data_train['Status'])\n",
        "# convert integers to dummy variables (i.e. one hot encoded)\n",
        "#y_train = np_utils.to_categorical(encoded_Y)\n",
        "y_train= final_data_train_2['Budget_Varience']*-100"
      ],
      "execution_count": 161,
      "outputs": []
    },
    {
      "cell_type": "code",
      "metadata": {
        "id": "18Z5QHanyxvs",
        "outputId": "430d34e1-1fb5-45a2-e1ae-13d152688788",
        "colab": {
          "base_uri": "https://localhost:8080/",
          "height": 34
        }
      },
      "source": [
        "input_dim"
      ],
      "execution_count": 162,
      "outputs": [
        {
          "output_type": "execute_result",
          "data": {
            "text/plain": [
              "41"
            ]
          },
          "metadata": {
            "tags": []
          },
          "execution_count": 162
        }
      ]
    },
    {
      "cell_type": "code",
      "metadata": {
        "id": "NTWx_st0yxvv",
        "outputId": "ec23108c-96f4-4516-df34-57681bde423a",
        "colab": {
          "base_uri": "https://localhost:8080/",
          "height": 34
        }
      },
      "source": [
        "\n",
        "\n",
        "model2 = Sequential()\n",
        "\n",
        "model2.add(Dense(input_dim, input_dim=input_dim , kernel_initializer='normal', activation='relu'))\n",
        "\n",
        "\n",
        "model2.add(Dense(32, kernel_initializer='normal', activation='relu'))\n",
        "\n",
        "\n",
        "\n",
        "\n",
        "\n",
        "\n",
        "model2.add(Dense(1, kernel_initializer='normal' , activation='linear'))\n",
        "   # Compile model\n",
        "\n",
        "model2.compile(loss='mean_squared_error', optimizer='adam', metrics=['accuracy'])\n",
        "\n",
        "\n",
        "model2.fit(X_train ,y_train , epochs=200, validation_split=0.3, batch_size=5 , verbose=0)"
      ],
      "execution_count": 163,
      "outputs": [
        {
          "output_type": "execute_result",
          "data": {
            "text/plain": [
              "<tensorflow.python.keras.callbacks.History at 0x7fa428555be0>"
            ]
          },
          "metadata": {
            "tags": []
          },
          "execution_count": 163
        }
      ]
    },
    {
      "cell_type": "code",
      "metadata": {
        "id": "OIjpiiJdkHpX"
      },
      "source": [
        ""
      ],
      "execution_count": 163,
      "outputs": []
    },
    {
      "cell_type": "code",
      "metadata": {
        "id": "q72OG4fq1Ua2"
      },
      "source": [
        "predicts=np.round(pd.DataFrame((model2.predict(X_train)/-100).reshape(-1)) , 2).set_index(final_data_train_2.index)"
      ],
      "execution_count": 164,
      "outputs": []
    },
    {
      "cell_type": "code",
      "metadata": {
        "id": "rAjHw9fI1Ua7"
      },
      "source": [
        "predicts=predicts.merge(final_data_train_2.loc[: , ['Budget_Varience']] , left_on=predicts.index , right_on= final_data_train.index )"
      ],
      "execution_count": 165,
      "outputs": []
    },
    {
      "cell_type": "code",
      "metadata": {
        "id": "sTnQrHcm1Ua9"
      },
      "source": [
        "predicts.drop(columns=['key_0'] , inplace=True)"
      ],
      "execution_count": 166,
      "outputs": []
    },
    {
      "cell_type": "code",
      "metadata": {
        "id": "XhfoPaxC1Ua_",
        "outputId": "8ead64f8-5319-4eb5-9e9a-753696888875",
        "colab": {
          "base_uri": "https://localhost:8080/",
          "height": 204
        }
      },
      "source": [
        "predicts.head()"
      ],
      "execution_count": 167,
      "outputs": [
        {
          "output_type": "execute_result",
          "data": {
            "text/html": [
              "<div>\n",
              "<style scoped>\n",
              "    .dataframe tbody tr th:only-of-type {\n",
              "        vertical-align: middle;\n",
              "    }\n",
              "\n",
              "    .dataframe tbody tr th {\n",
              "        vertical-align: top;\n",
              "    }\n",
              "\n",
              "    .dataframe thead th {\n",
              "        text-align: right;\n",
              "    }\n",
              "</style>\n",
              "<table border=\"1\" class=\"dataframe\">\n",
              "  <thead>\n",
              "    <tr style=\"text-align: right;\">\n",
              "      <th></th>\n",
              "      <th>0</th>\n",
              "      <th>Budget_Varience</th>\n",
              "    </tr>\n",
              "  </thead>\n",
              "  <tbody>\n",
              "    <tr>\n",
              "      <th>0</th>\n",
              "      <td>-0.00</td>\n",
              "      <td>0.00</td>\n",
              "    </tr>\n",
              "    <tr>\n",
              "      <th>1</th>\n",
              "      <td>-0.00</td>\n",
              "      <td>0.00</td>\n",
              "    </tr>\n",
              "    <tr>\n",
              "      <th>2</th>\n",
              "      <td>-0.06</td>\n",
              "      <td>-0.07</td>\n",
              "    </tr>\n",
              "    <tr>\n",
              "      <th>3</th>\n",
              "      <td>-0.00</td>\n",
              "      <td>0.00</td>\n",
              "    </tr>\n",
              "    <tr>\n",
              "      <th>4</th>\n",
              "      <td>-0.06</td>\n",
              "      <td>-0.05</td>\n",
              "    </tr>\n",
              "  </tbody>\n",
              "</table>\n",
              "</div>"
            ],
            "text/plain": [
              "      0  Budget_Varience\n",
              "0 -0.00             0.00\n",
              "1 -0.00             0.00\n",
              "2 -0.06            -0.07\n",
              "3 -0.00             0.00\n",
              "4 -0.06            -0.05"
            ]
          },
          "metadata": {
            "tags": []
          },
          "execution_count": 167
        }
      ]
    },
    {
      "cell_type": "code",
      "metadata": {
        "id": "MDi6z0t6gNd1",
        "outputId": "026705ef-9075-4c46-c94f-153763193736",
        "colab": {
          "base_uri": "https://localhost:8080/",
          "height": 34
        }
      },
      "source": [
        "np.round((r2_score (predicts['Budget_Varience'] , predicts[0])),2)"
      ],
      "execution_count": 168,
      "outputs": [
        {
          "output_type": "execute_result",
          "data": {
            "text/plain": [
              "0.78"
            ]
          },
          "metadata": {
            "tags": []
          },
          "execution_count": 168
        }
      ]
    },
    {
      "cell_type": "code",
      "metadata": {
        "id": "dMD0ROWleAjn",
        "outputId": "c7f9b852-aa20-4b47-c886-1326b647b4b9",
        "colab": {
          "base_uri": "https://localhost:8080/",
          "height": 85
        }
      },
      "source": [
        "pd.Series(encoder.inverse_transform(model.predict(preprocessing.MinMaxScaler().fit_transform(datas[0])))).value_counts()\n"
      ],
      "execution_count": 169,
      "outputs": [
        {
          "output_type": "execute_result",
          "data": {
            "text/plain": [
              "على المسار    426\n",
              "متأخر جدا      52\n",
              "متأخر           3\n",
              "dtype: int64"
            ]
          },
          "metadata": {
            "tags": []
          },
          "execution_count": 169
        }
      ]
    },
    {
      "cell_type": "code",
      "metadata": {
        "id": "4T_i2DrPPJo8"
      },
      "source": [
        "data=[]\n",
        "data2=[]\n",
        "months=[datetime.strptime('2021-11-30', '%Y-%m-%d' ) ,datetime.strptime('2021-12-30', '%Y-%m-%d' ) ,datetime.strptime('2022-01-30', '%Y-%m-%d' ) ,datetime.strptime('2022-02-28', '%Y-%m-%d' ) ,datetime.strptime('2022-03-30', '%Y-%m-%d' ) \n",
        ",datetime.strptime('2022-04-30', '%Y-%m-%d' ) ,datetime.strptime('2022-05-30', '%Y-%m-%d' ) ,datetime.strptime('2022-06-30', '%Y-%m-%d' ) ,datetime.strptime('2022-07-30', '%Y-%m-%d' ) \n",
        ",datetime.strptime('2022-08-30', '%Y-%m-%d' ) ,datetime.strptime('2022-09-30', '%Y-%m-%d' ) ,datetime.strptime('2022-10-30', '%Y-%m-%d' ) ]\n",
        "for i in range(len(datas)) : \n",
        "  train=preprocessing.scale(datas[i])\n",
        "  af=pd.DataFrame(encoder.inverse_transform(model.predict(preprocessing.MinMaxScaler().fit_transform(datas[i])))).set_index(final_data_test.index)\n",
        "  af.columns=['pred_Status']\n",
        "  af1=pd.merge(left=final_data_test.loc[: ,['Group' , 'Holder_name','Initiative_name' ]] , right=af,  right_on=af.index , left_on=final_data_test.index , how='outer').drop(columns=['key_0']).merge(datas[i].loc[: ,['since']] , left_on=af.index , right_on=datas[i].index).drop(columns=['key_0'])\n",
        "  af1.loc[af1['since']  < 0 , 'pred_Status'] = 'لم تبدأ'\n",
        "  af_2=np.round(pd.DataFrame((model2.predict(preprocessing.scale(datas2[i]))/-100).reshape(-1)) , 2).set_index(final_data_test.index)\n",
        "  af_2.columns=['predicted_budget_variance']\n",
        "  af_2=af_2.merge(final_data_test_2.loc[: ,['Group' , 'Holder_name','Initiative_name' ]],  left_on=af_2.index , right_on=final_data_test_2.index , how='outer').drop(columns=['key_0'])\n",
        "  af1['date']  = months[i]\n",
        "  data.append(af1)\n",
        "  data2.append(af_2)\n",
        "\n",
        "\n",
        "\n"
      ],
      "execution_count": 170,
      "outputs": []
    },
    {
      "cell_type": "code",
      "metadata": {
        "id": "n05ejs1_epLx"
      },
      "source": [
        "f=[]\n",
        "for i in range(len(datas)) :\n",
        "  df=data[i].merge(data2[i] , on= ['Group' , 'Holder_name','Initiative_name' ] )\n",
        "  df.drop(columns=['since'],inplace=True)\n",
        "  f.append(df)"
      ],
      "execution_count": 171,
      "outputs": []
    },
    {
      "cell_type": "code",
      "metadata": {
        "id": "LyycuBbWg2XP"
      },
      "source": [
        " final_predicts=pd.concat(f, axis=0)"
      ],
      "execution_count": 172,
      "outputs": []
    },
    {
      "cell_type": "code",
      "metadata": {
        "id": "faP8ZE_liBZY",
        "outputId": "e941050f-8192-425a-f7b6-a5b5c369256c",
        "colab": {
          "base_uri": "https://localhost:8080/",
          "height": 102
        }
      },
      "source": [
        "final_predicts['pred_Status'].value_counts()"
      ],
      "execution_count": 173,
      "outputs": [
        {
          "output_type": "execute_result",
          "data": {
            "text/plain": [
              "على المسار    5021\n",
              "متأخر جدا      624\n",
              "لم تبدأ         91\n",
              "متأخر           36\n",
              "Name: pred_Status, dtype: int64"
            ]
          },
          "metadata": {
            "tags": []
          },
          "execution_count": 173
        }
      ]
    },
    {
      "cell_type": "code",
      "metadata": {
        "id": "1dcEPUWEh0t6"
      },
      "source": [
        "holder_status=pd.DataFrame(final_predicts.groupby(['date' , 'Group' , 'Holder_name'])['pred_Status'].agg(lambda x:x.value_counts().index[0])).reset_index()"
      ],
      "execution_count": 174,
      "outputs": []
    },
    {
      "cell_type": "code",
      "metadata": {
        "id": "OnizpOU_mPt7"
      },
      "source": [
        "holder_status.columns=['date' , 'Group' , 'Holder_name','pred_status_holder']"
      ],
      "execution_count": 175,
      "outputs": []
    },
    {
      "cell_type": "code",
      "metadata": {
        "id": "bRei6y5UkM_t"
      },
      "source": [
        ""
      ],
      "execution_count": 175,
      "outputs": []
    },
    {
      "cell_type": "code",
      "metadata": {
        "id": "dfb0Ekk7z1FL"
      },
      "source": [
        "non_started_initiatives=final_data_test.loc[: , ['Group' , 'Holder_name','Initiative_name' ]].merge(df_mod, on= ['Group' , 'Holder_name','Initiative_name' ] , how='left')"
      ],
      "execution_count": 176,
      "outputs": []
    },
    {
      "cell_type": "code",
      "metadata": {
        "id": "csDPcL-YsVO7",
        "outputId": "e66aa2de-046f-4376-8dd2-4a6db0810dfa",
        "colab": {
          "base_uri": "https://localhost:8080/",
          "height": 734
        }
      },
      "source": [
        "non_started_initiatives.head()"
      ],
      "execution_count": 177,
      "outputs": [
        {
          "output_type": "execute_result",
          "data": {
            "text/html": [
              "<div>\n",
              "<style scoped>\n",
              "    .dataframe tbody tr th:only-of-type {\n",
              "        vertical-align: middle;\n",
              "    }\n",
              "\n",
              "    .dataframe tbody tr th {\n",
              "        vertical-align: top;\n",
              "    }\n",
              "\n",
              "    .dataframe thead th {\n",
              "        text-align: right;\n",
              "    }\n",
              "</style>\n",
              "<table border=\"1\" class=\"dataframe\">\n",
              "  <thead>\n",
              "    <tr style=\"text-align: right;\">\n",
              "      <th></th>\n",
              "      <th>Group</th>\n",
              "      <th>Holder_name</th>\n",
              "      <th>Initiative_name</th>\n",
              "      <th>Main_activity</th>\n",
              "      <th>Period</th>\n",
              "      <th>Period_%_of_initiative</th>\n",
              "      <th>Activity</th>\n",
              "      <th>Planned_start</th>\n",
              "      <th>Planned_end</th>\n",
              "      <th>Expected_output</th>\n",
              "      <th>Started?</th>\n",
              "      <th>Completed</th>\n",
              "      <th>Varience</th>\n",
              "      <th>Planned</th>\n",
              "      <th>Actual</th>\n",
              "      <th>Origin_Budget</th>\n",
              "      <th>Awarded_Budget</th>\n",
              "      <th>Outputs_Planned_Due_Date</th>\n",
              "      <th>Outputs_Due_Amount</th>\n",
              "      <th>Outputs_Due</th>\n",
              "      <th>Planned_Budget</th>\n",
              "      <th>Actual_Payments</th>\n",
              "      <th>Budget_Varience</th>\n",
              "      <th>Budget_Remaining</th>\n",
              "      <th>مسلسل</th>\n",
              "      <th>phase</th>\n",
              "      <th>awarded_pct</th>\n",
              "      <th>Status</th>\n",
              "    </tr>\n",
              "  </thead>\n",
              "  <tbody>\n",
              "    <tr>\n",
              "      <th>0</th>\n",
              "      <td>وزارة الدفاع والجهات الأمنية</td>\n",
              "      <td>الادارة العامة للخدمات الطبية للقوات المسلحة</td>\n",
              "      <td>طرح كراسة مراجعة القوائم المالية  للجهة الحكوميّة</td>\n",
              "      <td>طرح كراسة مراجعة القوائم المالية  للجهة الحكوميّة</td>\n",
              "      <td>4.00</td>\n",
              "      <td>1.00</td>\n",
              "      <td>Initiative</td>\n",
              "      <td>2020-07-31</td>\n",
              "      <td>2020-11-30</td>\n",
              "      <td>NaN</td>\n",
              "      <td>لم تبدأ</td>\n",
              "      <td>لم تبدأ</td>\n",
              "      <td>0.00</td>\n",
              "      <td>0.00</td>\n",
              "      <td>0.00</td>\n",
              "      <td>nan</td>\n",
              "      <td>nan</td>\n",
              "      <td>NaT</td>\n",
              "      <td>nan</td>\n",
              "      <td>NaN</td>\n",
              "      <td>nan</td>\n",
              "      <td>nan</td>\n",
              "      <td>nan</td>\n",
              "      <td>nan</td>\n",
              "      <td>238</td>\n",
              "      <td>طرح كراسة مراجعة القوائم المالية  للجهة الحكوميّة</td>\n",
              "      <td>nan</td>\n",
              "      <td>لم تبدأ</td>\n",
              "    </tr>\n",
              "    <tr>\n",
              "      <th>1</th>\n",
              "      <td>وزارة الدفاع والجهات الأمنية</td>\n",
              "      <td>الادارة العامة للخدمات الطبية للقوات المسلحة</td>\n",
              "      <td>طرح كراسة مراجعة القوائم المالية  للجهة الحكوميّة</td>\n",
              "      <td>التواصل مع الجهة للمتابعة  لطرح الكراسة</td>\n",
              "      <td>1.00</td>\n",
              "      <td>0.25</td>\n",
              "      <td>Activity</td>\n",
              "      <td>2020-07-31</td>\n",
              "      <td>2020-08-30</td>\n",
              "      <td>-</td>\n",
              "      <td>False</td>\n",
              "      <td>لا</td>\n",
              "      <td>nan</td>\n",
              "      <td>nan</td>\n",
              "      <td>nan</td>\n",
              "      <td>nan</td>\n",
              "      <td>nan</td>\n",
              "      <td>NaT</td>\n",
              "      <td>nan</td>\n",
              "      <td>NaN</td>\n",
              "      <td>nan</td>\n",
              "      <td>nan</td>\n",
              "      <td>nan</td>\n",
              "      <td>nan</td>\n",
              "      <td>239</td>\n",
              "      <td>طرح كراسة مراجعة القوائم المالية  للجهة الحكوميّة</td>\n",
              "      <td>nan</td>\n",
              "      <td>NaN</td>\n",
              "    </tr>\n",
              "    <tr>\n",
              "      <th>2</th>\n",
              "      <td>وزارة الدفاع والجهات الأمنية</td>\n",
              "      <td>الادارة العامة للخدمات الطبية للقوات المسلحة</td>\n",
              "      <td>طرح كراسة مراجعة القوائم المالية  للجهة الحكوميّة</td>\n",
              "      <td>طرح الكراسة</td>\n",
              "      <td>0.00</td>\n",
              "      <td>nan</td>\n",
              "      <td>Milestone</td>\n",
              "      <td>2020-08-30</td>\n",
              "      <td>2020-08-30</td>\n",
              "      <td>ايميل بتأكيد الطرح</td>\n",
              "      <td>False</td>\n",
              "      <td>لا</td>\n",
              "      <td>nan</td>\n",
              "      <td>nan</td>\n",
              "      <td>nan</td>\n",
              "      <td>nan</td>\n",
              "      <td>nan</td>\n",
              "      <td>NaT</td>\n",
              "      <td>nan</td>\n",
              "      <td>NaN</td>\n",
              "      <td>nan</td>\n",
              "      <td>nan</td>\n",
              "      <td>nan</td>\n",
              "      <td>nan</td>\n",
              "      <td>240</td>\n",
              "      <td>طرح كراسة مراجعة القوائم المالية  للجهة الحكوميّة</td>\n",
              "      <td>nan</td>\n",
              "      <td>NaN</td>\n",
              "    </tr>\n",
              "    <tr>\n",
              "      <th>3</th>\n",
              "      <td>وزارة الدفاع والجهات الأمنية</td>\n",
              "      <td>الادارة العامة للخدمات الطبية للقوات المسلحة</td>\n",
              "      <td>طرح كراسة مراجعة القوائم المالية  للجهة الحكوميّة</td>\n",
              "      <td>التواصل مع الجهة للمتابعة في استقبال العروض</td>\n",
              "      <td>1.00</td>\n",
              "      <td>0.25</td>\n",
              "      <td>Activity</td>\n",
              "      <td>2020-08-30</td>\n",
              "      <td>2020-09-30</td>\n",
              "      <td>-</td>\n",
              "      <td>False</td>\n",
              "      <td>لا</td>\n",
              "      <td>nan</td>\n",
              "      <td>nan</td>\n",
              "      <td>nan</td>\n",
              "      <td>nan</td>\n",
              "      <td>nan</td>\n",
              "      <td>NaT</td>\n",
              "      <td>nan</td>\n",
              "      <td>NaN</td>\n",
              "      <td>nan</td>\n",
              "      <td>nan</td>\n",
              "      <td>nan</td>\n",
              "      <td>nan</td>\n",
              "      <td>241</td>\n",
              "      <td>طرح كراسة مراجعة القوائم المالية  للجهة الحكوميّة</td>\n",
              "      <td>nan</td>\n",
              "      <td>NaN</td>\n",
              "    </tr>\n",
              "    <tr>\n",
              "      <th>4</th>\n",
              "      <td>وزارة الدفاع والجهات الأمنية</td>\n",
              "      <td>الادارة العامة للخدمات الطبية للقوات المسلحة</td>\n",
              "      <td>طرح كراسة مراجعة القوائم المالية  للجهة الحكوميّة</td>\n",
              "      <td>استقبال العروض</td>\n",
              "      <td>0.00</td>\n",
              "      <td>nan</td>\n",
              "      <td>Milestone</td>\n",
              "      <td>2020-09-30</td>\n",
              "      <td>2020-09-30</td>\n",
              "      <td>ايميل بتأكيد بالانتهاء من استقبال العروض</td>\n",
              "      <td>False</td>\n",
              "      <td>لا</td>\n",
              "      <td>nan</td>\n",
              "      <td>nan</td>\n",
              "      <td>nan</td>\n",
              "      <td>nan</td>\n",
              "      <td>nan</td>\n",
              "      <td>NaT</td>\n",
              "      <td>nan</td>\n",
              "      <td>NaN</td>\n",
              "      <td>nan</td>\n",
              "      <td>nan</td>\n",
              "      <td>nan</td>\n",
              "      <td>nan</td>\n",
              "      <td>242</td>\n",
              "      <td>طرح كراسة مراجعة القوائم المالية  للجهة الحكوميّة</td>\n",
              "      <td>nan</td>\n",
              "      <td>NaN</td>\n",
              "    </tr>\n",
              "  </tbody>\n",
              "</table>\n",
              "</div>"
            ],
            "text/plain": [
              "                           Group  ...   Status\n",
              "0  وزارة الدفاع والجهات الأمنية   ...  لم تبدأ\n",
              "1  وزارة الدفاع والجهات الأمنية   ...      NaN\n",
              "2  وزارة الدفاع والجهات الأمنية   ...      NaN\n",
              "3  وزارة الدفاع والجهات الأمنية   ...      NaN\n",
              "4  وزارة الدفاع والجهات الأمنية   ...      NaN\n",
              "\n",
              "[5 rows x 28 columns]"
            ]
          },
          "metadata": {
            "tags": []
          },
          "execution_count": 177
        }
      ]
    },
    {
      "cell_type": "code",
      "metadata": {
        "id": "_y3iNa18l_wk"
      },
      "source": [
        "dashboard_data=pd.merge(final_predicts,holder_status , on=['date' , 'Group' , 'Holder_name'] , how='outer').merge(non_started_initiatives , on=['Group' , 'Holder_name','Initiative_name' ], how='right')"
      ],
      "execution_count": 178,
      "outputs": []
    },
    {
      "cell_type": "code",
      "metadata": {
        "id": "GyVbJQtCsFSr"
      },
      "source": [
        "#dashboard_data.to_excel('dashboard_data.xlsx')"
      ],
      "execution_count": 179,
      "outputs": []
    },
    {
      "cell_type": "code",
      "metadata": {
        "id": "pA0bcwc3Vzk1"
      },
      "source": [
        "#final_predicts.to_excel('final_predicts.xlsx')"
      ],
      "execution_count": 180,
      "outputs": []
    },
    {
      "cell_type": "code",
      "metadata": {
        "id": "zwn-U4hDjSzr"
      },
      "source": [
        "#holder_status.to_excel('holder_status.xlsx')"
      ],
      "execution_count": 181,
      "outputs": []
    }
  ]
}
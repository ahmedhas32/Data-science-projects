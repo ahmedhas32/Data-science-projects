{
 "cells": [
  {
   "cell_type": "markdown",
   "metadata": {},
   "source": [
    "# First : Data Processing"
   ]
  },
  {
   "cell_type": "markdown",
   "metadata": {},
   "source": [
    "### The required answers need some work to make data tidy , it is already clean have no issues except some null values in Exam score , i.e we need for answering correlation point between questions categories ( parental performance , teachers performance , and ICT skills) related questions we need to define questions related to each category first, then average their scores per student , then merge these averages to compose the data adequte for answering points related to questions' categories.\n",
    "\n",
    "### Here we have 3 steps as we will see , geathering data , assessing data i.e testing if it has quality or tidiness issues , cleaning data i.e solving these issues.\n",
    "\n",
    "### Also there are points ask about the general correlation between survey score (regardless questions) and exam score, and also if gender(generally) matters in survey score they can be responded from the main data frame as will follow"
   ]
  },
  {
   "cell_type": "markdown",
   "metadata": {},
   "source": [
    "#### importing library requrements"
   ]
  },
  {
   "cell_type": "code",
   "execution_count": 1,
   "metadata": {},
   "outputs": [],
   "source": [
    "import numpy as np\n",
    "import pandas as pd \n",
    "import re\n",
    "from scipy import stats\n",
    "import scipy\n",
    "from sklearn.decomposition import PCA, FactorAnalysis\n",
    "import matplotlib.pyplot as plt\n",
    "import math"
   ]
  },
  {
   "cell_type": "markdown",
   "metadata": {},
   "source": [
    "### 1 -Gathering Data:"
   ]
  },
  {
   "cell_type": "markdown",
   "metadata": {},
   "source": [
    "#### Reading data into pandas data frame, specifying separator as ';' and encoding to ISO-8859-1 in order not to raise error due to arabic characters\n",
    "\n",
    "#### I saved dataset as comma delimited object to save in storageand make it easier to read in pandas"
   ]
  },
  {
   "cell_type": "code",
   "execution_count": 2,
   "metadata": {},
   "outputs": [],
   "source": [
    "survey_data_row = pd.read_csv('survey_data.csv' , sep='\\t' , encoding = \"utf-16\" ,error_bad_lines=False)"
   ]
  },
  {
   "cell_type": "code",
   "execution_count": null,
   "metadata": {},
   "outputs": [],
   "source": []
  },
  {
   "cell_type": "code",
   "execution_count": 3,
   "metadata": {},
   "outputs": [
    {
     "data": {
      "text/html": [
       "<div>\n",
       "<style scoped>\n",
       "    .dataframe tbody tr th:only-of-type {\n",
       "        vertical-align: middle;\n",
       "    }\n",
       "\n",
       "    .dataframe tbody tr th {\n",
       "        vertical-align: top;\n",
       "    }\n",
       "\n",
       "    .dataframe thead th {\n",
       "        text-align: right;\n",
       "    }\n",
       "</style>\n",
       "<table border=\"1\" class=\"dataframe\">\n",
       "  <thead>\n",
       "    <tr style=\"text-align: right;\">\n",
       "      <th></th>\n",
       "      <th>Student Code</th>\n",
       "      <th>Grade</th>\n",
       "      <th>Gender</th>\n",
       "      <th>Question</th>\n",
       "      <th>School Code</th>\n",
       "      <th>Survey Score</th>\n",
       "      <th>Survey Time Spent</th>\n",
       "      <th>Exam Score</th>\n",
       "    </tr>\n",
       "  </thead>\n",
       "  <tbody>\n",
       "    <tr>\n",
       "      <th>0</th>\n",
       "      <td>123-101</td>\n",
       "      <td>Grade 6</td>\n",
       "      <td>Boys</td>\n",
       "      <td>Navigating web pages</td>\n",
       "      <td>2000</td>\n",
       "      <td>0.666667</td>\n",
       "      <td>20</td>\n",
       "      <td>36.0</td>\n",
       "    </tr>\n",
       "    <tr>\n",
       "      <th>1</th>\n",
       "      <td>123-101</td>\n",
       "      <td>Grade 6</td>\n",
       "      <td>Boys</td>\n",
       "      <td>Typing on a keyboard</td>\n",
       "      <td>2000</td>\n",
       "      <td>0.666667</td>\n",
       "      <td>20</td>\n",
       "      <td>36.0</td>\n",
       "    </tr>\n",
       "    <tr>\n",
       "      <th>2</th>\n",
       "      <td>123-102</td>\n",
       "      <td>Grade 6</td>\n",
       "      <td>Boys</td>\n",
       "      <td>Listening and comprehending audio materials   ...</td>\n",
       "      <td>2000</td>\n",
       "      <td>0.666667</td>\n",
       "      <td>9</td>\n",
       "      <td>34.0</td>\n",
       "    </tr>\n",
       "    <tr>\n",
       "      <th>3</th>\n",
       "      <td>123-102</td>\n",
       "      <td>Grade 6</td>\n",
       "      <td>Boys</td>\n",
       "      <td>Manipulating objects on the screen</td>\n",
       "      <td>2000</td>\n",
       "      <td>0.666667</td>\n",
       "      <td>9</td>\n",
       "      <td>34.0</td>\n",
       "    </tr>\n",
       "    <tr>\n",
       "      <th>4</th>\n",
       "      <td>123-102</td>\n",
       "      <td>Grade 6</td>\n",
       "      <td>Boys</td>\n",
       "      <td>Navigating web pages</td>\n",
       "      <td>2000</td>\n",
       "      <td>0.666667</td>\n",
       "      <td>9</td>\n",
       "      <td>34.0</td>\n",
       "    </tr>\n",
       "  </tbody>\n",
       "</table>\n",
       "</div>"
      ],
      "text/plain": [
       "  Student Code    Grade Gender  \\\n",
       "0      123-101  Grade 6   Boys   \n",
       "1      123-101  Grade 6   Boys   \n",
       "2      123-102  Grade 6   Boys   \n",
       "3      123-102  Grade 6   Boys   \n",
       "4      123-102  Grade 6   Boys   \n",
       "\n",
       "                                            Question  School Code  \\\n",
       "0                               Navigating web pages         2000   \n",
       "1                               Typing on a keyboard         2000   \n",
       "2  Listening and comprehending audio materials   ...         2000   \n",
       "3                 Manipulating objects on the screen         2000   \n",
       "4                               Navigating web pages         2000   \n",
       "\n",
       "   Survey Score  Survey Time Spent  Exam Score  \n",
       "0      0.666667                 20        36.0  \n",
       "1      0.666667                 20        36.0  \n",
       "2      0.666667                  9        34.0  \n",
       "3      0.666667                  9        34.0  \n",
       "4      0.666667                  9        34.0  "
      ]
     },
     "execution_count": 3,
     "metadata": {},
     "output_type": "execute_result"
    }
   ],
   "source": [
    "survey_data_row.head()"
   ]
  },
  {
   "cell_type": "markdown",
   "metadata": {},
   "source": [
    "### 2 - Assessing data"
   ]
  },
  {
   "cell_type": "markdown",
   "metadata": {},
   "source": [
    "#### we check columns data types"
   ]
  },
  {
   "cell_type": "code",
   "execution_count": 4,
   "metadata": {},
   "outputs": [
    {
     "name": "stdout",
     "output_type": "stream",
     "text": [
      "<class 'pandas.core.frame.DataFrame'>\n",
      "RangeIndex: 46080 entries, 0 to 46079\n",
      "Data columns (total 8 columns):\n",
      "Student Code         46080 non-null object\n",
      "Grade                46080 non-null object\n",
      "Gender               46080 non-null object\n",
      "Question             46080 non-null object\n",
      "School Code          46080 non-null int64\n",
      "Survey Score         46080 non-null float64\n",
      "Survey Time Spent    46080 non-null int64\n",
      "Exam Score           45960 non-null float64\n",
      "dtypes: float64(2), int64(2), object(4)\n",
      "memory usage: 2.8+ MB\n"
     ]
    }
   ],
   "source": [
    "survey_data_row.info()"
   ]
  },
  {
   "cell_type": "markdown",
   "metadata": {},
   "source": [
    "#### we find that column 'Exam Score' contains some null values that we will need to deal with later"
   ]
  },
  {
   "cell_type": "markdown",
   "metadata": {},
   "source": [
    "#### We run the following code to modify if a numeric column coded as string objects and modify them to float"
   ]
  },
  {
   "cell_type": "code",
   "execution_count": 5,
   "metadata": {},
   "outputs": [
    {
     "name": "stderr",
     "output_type": "stream",
     "text": [
      "/opt/conda/lib/python3.6/site-packages/ipykernel_launcher.py:1: FutureWarning: convert_objects is deprecated.  To re-infer data dtypes for object columns, use DataFrame.infer_objects()\n",
      "For all other conversions use the data-type specific converters pd.to_datetime, pd.to_timedelta and pd.to_numeric.\n",
      "  \"\"\"Entry point for launching an IPython kernel.\n"
     ]
    }
   ],
   "source": [
    "survey_data_row = survey_data_row.convert_objects(convert_numeric=True)"
   ]
  },
  {
   "cell_type": "markdown",
   "metadata": {},
   "source": [
    "#### we then copy the main data frame to another dataframe to run our moodifications on, in order not to modify our original dataset as much as we can"
   ]
  },
  {
   "cell_type": "code",
   "execution_count": 6,
   "metadata": {},
   "outputs": [],
   "source": [
    "survey_data=survey_data_row.copy()"
   ]
  },
  {
   "cell_type": "code",
   "execution_count": 7,
   "metadata": {},
   "outputs": [
    {
     "data": {
      "text/html": [
       "<div>\n",
       "<style scoped>\n",
       "    .dataframe tbody tr th:only-of-type {\n",
       "        vertical-align: middle;\n",
       "    }\n",
       "\n",
       "    .dataframe tbody tr th {\n",
       "        vertical-align: top;\n",
       "    }\n",
       "\n",
       "    .dataframe thead th {\n",
       "        text-align: right;\n",
       "    }\n",
       "</style>\n",
       "<table border=\"1\" class=\"dataframe\">\n",
       "  <thead>\n",
       "    <tr style=\"text-align: right;\">\n",
       "      <th></th>\n",
       "      <th>Student Code</th>\n",
       "      <th>Grade</th>\n",
       "      <th>Gender</th>\n",
       "      <th>Question</th>\n",
       "      <th>School Code</th>\n",
       "      <th>Survey Score</th>\n",
       "      <th>Survey Time Spent</th>\n",
       "      <th>Exam Score</th>\n",
       "    </tr>\n",
       "  </thead>\n",
       "  <tbody>\n",
       "    <tr>\n",
       "      <th>0</th>\n",
       "      <td>123-101</td>\n",
       "      <td>Grade 6</td>\n",
       "      <td>Boys</td>\n",
       "      <td>Navigating web pages</td>\n",
       "      <td>2000</td>\n",
       "      <td>0.666667</td>\n",
       "      <td>20</td>\n",
       "      <td>36.0</td>\n",
       "    </tr>\n",
       "    <tr>\n",
       "      <th>1</th>\n",
       "      <td>123-101</td>\n",
       "      <td>Grade 6</td>\n",
       "      <td>Boys</td>\n",
       "      <td>Typing on a keyboard</td>\n",
       "      <td>2000</td>\n",
       "      <td>0.666667</td>\n",
       "      <td>20</td>\n",
       "      <td>36.0</td>\n",
       "    </tr>\n",
       "    <tr>\n",
       "      <th>2</th>\n",
       "      <td>123-102</td>\n",
       "      <td>Grade 6</td>\n",
       "      <td>Boys</td>\n",
       "      <td>Listening and comprehending audio materials   ...</td>\n",
       "      <td>2000</td>\n",
       "      <td>0.666667</td>\n",
       "      <td>9</td>\n",
       "      <td>34.0</td>\n",
       "    </tr>\n",
       "    <tr>\n",
       "      <th>3</th>\n",
       "      <td>123-102</td>\n",
       "      <td>Grade 6</td>\n",
       "      <td>Boys</td>\n",
       "      <td>Manipulating objects on the screen</td>\n",
       "      <td>2000</td>\n",
       "      <td>0.666667</td>\n",
       "      <td>9</td>\n",
       "      <td>34.0</td>\n",
       "    </tr>\n",
       "    <tr>\n",
       "      <th>4</th>\n",
       "      <td>123-102</td>\n",
       "      <td>Grade 6</td>\n",
       "      <td>Boys</td>\n",
       "      <td>Navigating web pages</td>\n",
       "      <td>2000</td>\n",
       "      <td>0.666667</td>\n",
       "      <td>9</td>\n",
       "      <td>34.0</td>\n",
       "    </tr>\n",
       "  </tbody>\n",
       "</table>\n",
       "</div>"
      ],
      "text/plain": [
       "  Student Code    Grade Gender  \\\n",
       "0      123-101  Grade 6   Boys   \n",
       "1      123-101  Grade 6   Boys   \n",
       "2      123-102  Grade 6   Boys   \n",
       "3      123-102  Grade 6   Boys   \n",
       "4      123-102  Grade 6   Boys   \n",
       "\n",
       "                                            Question  School Code  \\\n",
       "0                               Navigating web pages         2000   \n",
       "1                               Typing on a keyboard         2000   \n",
       "2  Listening and comprehending audio materials   ...         2000   \n",
       "3                 Manipulating objects on the screen         2000   \n",
       "4                               Navigating web pages         2000   \n",
       "\n",
       "   Survey Score  Survey Time Spent  Exam Score  \n",
       "0      0.666667                 20        36.0  \n",
       "1      0.666667                 20        36.0  \n",
       "2      0.666667                  9        34.0  \n",
       "3      0.666667                  9        34.0  \n",
       "4      0.666667                  9        34.0  "
      ]
     },
     "execution_count": 7,
     "metadata": {},
     "output_type": "execute_result"
    }
   ],
   "source": [
    "survey_data.head()"
   ]
  },
  {
   "cell_type": "markdown",
   "metadata": {},
   "source": [
    "#### then we run some describtive statistics on some columns of interest"
   ]
  },
  {
   "cell_type": "markdown",
   "metadata": {},
   "source": [
    "#### we check then how maany unique students in dataset"
   ]
  },
  {
   "cell_type": "code",
   "execution_count": 8,
   "metadata": {},
   "outputs": [
    {
     "data": {
      "text/plain": [
       "768"
      ]
     },
     "execution_count": 8,
     "metadata": {},
     "output_type": "execute_result"
    }
   ],
   "source": [
    "len(survey_data['Student Code'].drop_duplicates())"
   ]
  },
  {
   "cell_type": "code",
   "execution_count": 9,
   "metadata": {},
   "outputs": [
    {
     "data": {
      "text/plain": [
       "46080"
      ]
     },
     "execution_count": 9,
     "metadata": {},
     "output_type": "execute_result"
    }
   ],
   "source": [
    "len(survey_data['Student Code'])"
   ]
  },
  {
   "cell_type": "markdown",
   "metadata": {},
   "source": [
    "#### so we state that we have a data set of length 46080 with 768 students"
   ]
  },
  {
   "cell_type": "markdown",
   "metadata": {},
   "source": [
    "#### then , we manipulate 'Questions' column to find how many unique questions for each student, also to save time we deal only with Rnglish characters"
   ]
  },
  {
   "cell_type": "code",
   "execution_count": 10,
   "metadata": {},
   "outputs": [],
   "source": [
    "survey_data['English_Questions'] = survey_data['Question'].str.replace('[^a-zA-Z]',' ')"
   ]
  },
  {
   "cell_type": "code",
   "execution_count": 11,
   "metadata": {},
   "outputs": [
    {
     "data": {
      "text/plain": [
       "I read e books articles online                                                                                                                                             768\n",
       "I want to be praised by parents when I perform well at school                                                                                                              768\n",
       "I am confident that I can learn what is being taught in class                                                                                                              768\n",
       "I watch educational videos                                                                                                                                                 768\n",
       "I can be a faster learner with effort                                                                                                                                      768\n",
       "My parents discuss my school performance with me                                                                                                                           768\n",
       "I want to be praised by my teachers when I perform well                                                                                                                    768\n",
       "Understand all materials from a class                                                                                                                                      768\n",
       "I want to be the best in whatever I do                                                                                                                                     768\n",
       "I play educational games                                                                                                                                                   768\n",
       "Manipulating objects on the screen                                                                                                                                         768\n",
       "I can learn all materials from a class                                                                                                                                     768\n",
       "My parents tutor me themselves                                                                                                                                             768\n",
       "I feel confident in my ability to learn new technology                                                                                                                     768\n",
       "Reading and comprehending digital texts                                                                                                                                    768\n",
       "When I am not in school  I talk with people about ideas that I learned                                                                                                     768\n",
       "I am eager to participate in classroom discussions                                                                                                                         768\n",
       "Overall  I am interested in my classes                                                                                                                                     768\n",
       "When I come across problems with technology  I am confident that I can resolve them                                                                                        768\n",
       "I always consider different opinions                                                                                                                                       768\n",
       "Set aside a specific time to complete my homework everyday                                                                                                                 768\n",
       "My parents chat with me                                                                                                                                                    768\n",
       "I do homework on a computer laptop                                                                                                                                         768\n",
       "Selecting texts with a mouse                                                                                                                                               768\n",
       "Understand the lesson when it is difficult                                                                                                                                 768\n",
       "Stayed focused when working on independent tasks                                                                                                                           768\n",
       "My teachers give students opportunities to express opinions                                                                                                                768\n",
       "Navigating web pages                                                                                                                                                       768\n",
       "I stay focused on activities in my classes                                                                                                                                 768\n",
       "I am comfortable using technology                                                                                                                                          768\n",
       "I want to know my performance against my peers                                                                                                                             768\n",
       "Get involved in classroom discussions                                                                                                                                      768\n",
       "I am capable of putting more effort into learning                                                                                                                          768\n",
       "Stayed focused even when I find my classmates distracting                                                                                                                  768\n",
       "My parents hired a private tutor to help me                                                                                                                                768\n",
       "I am really excited to explore new technology                                                                                                                              768\n",
       "I enjoy learning from others                                                                                                                                               768\n",
       "I will achieve the goals that I set for myself                                                                                                                             768\n",
       "Typing on a keyboard                                                                                                                                                       768\n",
       "I like playing educational games                                                                                                                                           768\n",
       "Listening and comprehending audio materials                                                                                                                                768\n",
       "I like watching educational videos                                                                                                                                         768\n",
       "Stay focused throughout a lesson                                                                                                                                           768\n",
       "I enjoy seeing my classmates succeed                                                                                                                                       768\n",
       "Came to class prepared                                                                                                                                                     768\n",
       "I prefer working as part of a team instead of working alone                                                                                                                768\n",
       "When I feel like giving up on a difficult task  my teachers encourage me to keep trying                                                                                    768\n",
       "I can understand when complicated ideas are presented in class                                                                                                             768\n",
       "I want top grades in most of my courses                                                                                                                                    768\n",
       "My parents encourage me to set my learning goal                                                                                                                            768\n",
       "Completed a task right away rather than delay it                                                                                                                           768\n",
       "I can do the hardest work that is assigned to me                                                                                                                           768\n",
       "My teachers take time to make sure I understand the material                                                                                                               768\n",
       "I believe that no matter who you are  you can change your level of intelligence                                                                                            768\n",
       "I like reading digitally rather than on paper                                                                                                                              768\n",
       "My parents support me with my homework                                                                                                                                     768\n",
       "I can develop interests in what I m studying                                                                                                                               768\n",
       "I am excited about going to school                                                                                                                                         768\n",
       "Followed the teachers  instructions in class                                                                                                                               768\n",
       "I browse the Internet to follow up lessons  e g  for finding explanations                                                                                                  768\n",
       "Name: English_Questions, dtype: int64"
      ]
     },
     "execution_count": 11,
     "metadata": {},
     "output_type": "execute_result"
    }
   ],
   "source": [
    "survey_data['English_Questions'].value_counts()"
   ]
  },
  {
   "cell_type": "code",
   "execution_count": 12,
   "metadata": {},
   "outputs": [
    {
     "data": {
      "text/plain": [
       "123-1468    60\n",
       "123-101     60\n",
       "123-1725    60\n",
       "123-927     60\n",
       "123-857     60\n",
       "123-134     60\n",
       "123-1432    60\n",
       "123-749     60\n",
       "123-717     60\n",
       "123-634     60\n",
       "123-790     60\n",
       "123-115     60\n",
       "123-1323    60\n",
       "123-1743    60\n",
       "123-1493    60\n",
       "123-1374    60\n",
       "123-691     60\n",
       "123-1474    60\n",
       "123-593     60\n",
       "123-1388    60\n",
       "123-429     60\n",
       "123-616     60\n",
       "123-1405    60\n",
       "123-1755    60\n",
       "123-132     60\n",
       "123-625     60\n",
       "123-1366    60\n",
       "123-589     60\n",
       "123-654     60\n",
       "123-1484    60\n",
       "            ..\n",
       "123-1320    60\n",
       "123-776     60\n",
       "123-1722    60\n",
       "123-424     60\n",
       "123-563     60\n",
       "123-644     60\n",
       "123-135     60\n",
       "123-1435    60\n",
       "123-704     60\n",
       "123-1358    60\n",
       "123-583     60\n",
       "123-646     60\n",
       "123-1427    60\n",
       "123-1748    60\n",
       "123-1357    60\n",
       "123-1401    60\n",
       "123-884     60\n",
       "123-1362    60\n",
       "123-196     60\n",
       "123-1368    60\n",
       "123-664     60\n",
       "123-696     60\n",
       "123-109     60\n",
       "123-609     60\n",
       "123-643     60\n",
       "123-872     60\n",
       "123-2573    60\n",
       "123-1749    60\n",
       "123-1332    60\n",
       "123-1339    60\n",
       "Name: Student Code, Length: 768, dtype: int64"
      ]
     },
     "execution_count": 12,
     "metadata": {},
     "output_type": "execute_result"
    }
   ],
   "source": [
    "survey_data['Student Code'].value_counts()\n"
   ]
  },
  {
   "cell_type": "markdown",
   "metadata": {},
   "source": [
    "#### now we realize our data structure , we have 768 unique students (not 2477) each asked 60 unique questions"
   ]
  },
  {
   "cell_type": "markdown",
   "metadata": {},
   "source": [
    "### 3 - cleaning data "
   ]
  },
  {
   "cell_type": "code",
   "execution_count": 13,
   "metadata": {},
   "outputs": [
    {
     "data": {
      "text/html": [
       "<div>\n",
       "<style scoped>\n",
       "    .dataframe tbody tr th:only-of-type {\n",
       "        vertical-align: middle;\n",
       "    }\n",
       "\n",
       "    .dataframe tbody tr th {\n",
       "        vertical-align: top;\n",
       "    }\n",
       "\n",
       "    .dataframe thead th {\n",
       "        text-align: right;\n",
       "    }\n",
       "</style>\n",
       "<table border=\"1\" class=\"dataframe\">\n",
       "  <thead>\n",
       "    <tr style=\"text-align: right;\">\n",
       "      <th></th>\n",
       "      <th>School Code</th>\n",
       "      <th>Survey Score</th>\n",
       "      <th>Survey Time Spent</th>\n",
       "      <th>Exam Score</th>\n",
       "    </tr>\n",
       "  </thead>\n",
       "  <tbody>\n",
       "    <tr>\n",
       "      <th>count</th>\n",
       "      <td>46080.000000</td>\n",
       "      <td>46080.000000</td>\n",
       "      <td>46080.000000</td>\n",
       "      <td>45960.000000</td>\n",
       "    </tr>\n",
       "    <tr>\n",
       "      <th>mean</th>\n",
       "      <td>5748.697917</td>\n",
       "      <td>0.800239</td>\n",
       "      <td>112.415365</td>\n",
       "      <td>36.296345</td>\n",
       "    </tr>\n",
       "    <tr>\n",
       "      <th>std</th>\n",
       "      <td>2690.313287</td>\n",
       "      <td>0.254903</td>\n",
       "      <td>326.831846</td>\n",
       "      <td>18.869542</td>\n",
       "    </tr>\n",
       "    <tr>\n",
       "      <th>min</th>\n",
       "      <td>1000.000000</td>\n",
       "      <td>0.000000</td>\n",
       "      <td>2.000000</td>\n",
       "      <td>0.000000</td>\n",
       "    </tr>\n",
       "    <tr>\n",
       "      <th>25%</th>\n",
       "      <td>4000.000000</td>\n",
       "      <td>0.666667</td>\n",
       "      <td>11.000000</td>\n",
       "      <td>21.000000</td>\n",
       "    </tr>\n",
       "    <tr>\n",
       "      <th>50%</th>\n",
       "      <td>5000.000000</td>\n",
       "      <td>1.000000</td>\n",
       "      <td>17.500000</td>\n",
       "      <td>33.000000</td>\n",
       "    </tr>\n",
       "    <tr>\n",
       "      <th>75%</th>\n",
       "      <td>8000.000000</td>\n",
       "      <td>1.000000</td>\n",
       "      <td>26.000000</td>\n",
       "      <td>50.000000</td>\n",
       "    </tr>\n",
       "    <tr>\n",
       "      <th>max</th>\n",
       "      <td>10000.000000</td>\n",
       "      <td>1.000000</td>\n",
       "      <td>1439.000000</td>\n",
       "      <td>100.000000</td>\n",
       "    </tr>\n",
       "  </tbody>\n",
       "</table>\n",
       "</div>"
      ],
      "text/plain": [
       "        School Code  Survey Score  Survey Time Spent    Exam Score\n",
       "count  46080.000000  46080.000000       46080.000000  45960.000000\n",
       "mean    5748.697917      0.800239         112.415365     36.296345\n",
       "std     2690.313287      0.254903         326.831846     18.869542\n",
       "min     1000.000000      0.000000           2.000000      0.000000\n",
       "25%     4000.000000      0.666667          11.000000     21.000000\n",
       "50%     5000.000000      1.000000          17.500000     33.000000\n",
       "75%     8000.000000      1.000000          26.000000     50.000000\n",
       "max    10000.000000      1.000000        1439.000000    100.000000"
      ]
     },
     "execution_count": 13,
     "metadata": {},
     "output_type": "execute_result"
    }
   ],
   "source": [
    "survey_data.describe()"
   ]
  },
  {
   "cell_type": "markdown",
   "metadata": {},
   "source": [
    "#### as we stated, we have some null values in 'Exam Score' column that may cause problem during restructuring data to make it adequte to answer points related to Parental Involvement , teacher facilitation , and ICT skills \n",
    "\n",
    "#### so we replace them by zero"
   ]
  },
  {
   "cell_type": "code",
   "execution_count": 14,
   "metadata": {},
   "outputs": [],
   "source": [
    "survey_data['Exam Score']=survey_data['Exam Score'].fillna('0')"
   ]
  },
  {
   "cell_type": "markdown",
   "metadata": {},
   "source": [
    "### now , we realized of our data structure, we then transfer to specifying questions of each category\n"
   ]
  },
  {
   "cell_type": "markdown",
   "metadata": {},
   "source": [
    "#### we try to extract questions in a separate variables to have a tidy dataset , each student in a row, each information about a student , his/her performance or response to a question in survey in a row\n",
    "#### we will solve this issue later"
   ]
  },
  {
   "cell_type": "markdown",
   "metadata": {},
   "source": [
    "#### our challange needs to define questions related to 3 areas "
   ]
  },
  {
   "cell_type": "markdown",
   "metadata": {},
   "source": [
    "\n",
    "#### we extract questions related to each category i.e teachers,parents , and ICT skills using substrings of interest \n",
    "\n",
    "#### so regarding teacher facilitation,  we select all questions include 'teacher' word as follows"
   ]
  },
  {
   "cell_type": "markdown",
   "metadata": {},
   "source": [
    "#### from this prespective it is easier to deal with questions as values not as columns , so we return to our original dataset "
   ]
  },
  {
   "cell_type": "markdown",
   "metadata": {},
   "source": [
    "#### we then take the data related to each category of questions in a separate dataset\n",
    "\n",
    "#### then take the average of survey score per question for each of the 768 student for each of the 3 datasets"
   ]
  },
  {
   "cell_type": "markdown",
   "metadata": {},
   "source": [
    "#### let's start with teacher facilitation data\n",
    "\n",
    "#### we take all data of the 5 questions related to parental involvement , teachers facility , and ict skills\n",
    "#### then we reshape them making each question's survey scores for the 768 students as a columns , and the 768 students in rows as we will need that to answer questions"
   ]
  },
  {
   "cell_type": "code",
   "execution_count": 15,
   "metadata": {},
   "outputs": [],
   "source": [
    "survey_data['teacher']=survey_data.English_Questions.str.contains('teacher')"
   ]
  },
  {
   "cell_type": "code",
   "execution_count": 16,
   "metadata": {},
   "outputs": [],
   "source": [
    "survey_data['teacher']=survey_data['teacher']*1"
   ]
  },
  {
   "cell_type": "code",
   "execution_count": 17,
   "metadata": {},
   "outputs": [
    {
     "data": {
      "text/plain": [
       "0    42240\n",
       "1     3840\n",
       "Name: teacher, dtype: int64"
      ]
     },
     "execution_count": 17,
     "metadata": {},
     "output_type": "execute_result"
    }
   ],
   "source": [
    "survey_data['teacher'].value_counts()"
   ]
  },
  {
   "cell_type": "markdown",
   "metadata": {},
   "source": [
    "#### so we have 3840/768 = 5 question of the 60 talk about  teacher facilitation"
   ]
  },
  {
   "cell_type": "markdown",
   "metadata": {},
   "source": [
    "#### we do the similar with questions related to parents"
   ]
  },
  {
   "cell_type": "code",
   "execution_count": 18,
   "metadata": {},
   "outputs": [],
   "source": [
    "survey_data['parent']=survey_data.English_Questions.str.contains('parent')"
   ]
  },
  {
   "cell_type": "code",
   "execution_count": 19,
   "metadata": {},
   "outputs": [],
   "source": [
    "survey_data['parent']=survey_data['parent']*1"
   ]
  },
  {
   "cell_type": "code",
   "execution_count": 20,
   "metadata": {},
   "outputs": [
    {
     "data": {
      "text/plain": [
       "0    40704\n",
       "1     5376\n",
       "Name: parent, dtype: int64"
      ]
     },
     "execution_count": 20,
     "metadata": {},
     "output_type": "execute_result"
    }
   ],
   "source": [
    "survey_data['parent'].value_counts()"
   ]
  },
  {
   "cell_type": "markdown",
   "metadata": {},
   "source": [
    "#### so we have 5376/768 = 7 question of the 60 talk about parental performance\n",
    "\n",
    "#### the similar with questions related ti ict skills, we chose some words that may be related to ICT field like(technology,mouse,computer,games,laptop,screen,digital,internet,web,keyboard) considering questions that include them as ICT skills related questions"
   ]
  },
  {
   "cell_type": "code",
   "execution_count": 21,
   "metadata": {},
   "outputs": [],
   "source": [
    "survey_data['ict_skills']=survey_data.English_Questions.str.contains('technology|mouse|computer|games|laptop|screen|digital|internet|web|keyboard')"
   ]
  },
  {
   "cell_type": "code",
   "execution_count": 22,
   "metadata": {},
   "outputs": [],
   "source": [
    "survey_data['ict_skills']=survey_data['ict_skills']*1"
   ]
  },
  {
   "cell_type": "code",
   "execution_count": 23,
   "metadata": {},
   "outputs": [
    {
     "data": {
      "text/plain": [
       "0    36096\n",
       "1     9984\n",
       "Name: ict_skills, dtype: int64"
      ]
     },
     "execution_count": 23,
     "metadata": {},
     "output_type": "execute_result"
    }
   ],
   "source": [
    "survey_data['ict_skills'].value_counts()"
   ]
  },
  {
   "cell_type": "markdown",
   "metadata": {},
   "source": [
    "#### so we have 9984/768 = 13 question of the 60 talk about parental performance\n"
   ]
  },
  {
   "cell_type": "markdown",
   "metadata": {},
   "source": [
    "### then we take questions related to each group then restructure it to make data tidy i.e each case (student) in a row and each question's survet score in a column"
   ]
  },
  {
   "cell_type": "markdown",
   "metadata": {},
   "source": [
    "### we perform that , for easing purpose for the 3 sets of questions havinng a separate data for each instead of having a whole dataset with the 60 questions each in a column"
   ]
  },
  {
   "cell_type": "code",
   "execution_count": 24,
   "metadata": {},
   "outputs": [],
   "source": [
    "data_of_parents_original=survey_data.loc[survey_data.parent==1 , ['Student Code','School Code','Gender','Grade' ,'English_Questions' ,'Survey Score', 'Survey Time Spent' ,'Exam Score']]"
   ]
  },
  {
   "cell_type": "code",
   "execution_count": 25,
   "metadata": {},
   "outputs": [],
   "source": [
    "data_of_parents_restructured=data_of_parents_original.pivot_table(index=['Student Code','Grade','Gender','School Code','Survey Time Spent','Exam Score'] , columns='English_Questions' , values='Survey Score').reset_index().rename_axis(None, 1)"
   ]
  },
  {
   "cell_type": "markdown",
   "metadata": {},
   "source": [
    "#### the result is as follows , we have 768 students with average score of the 5 questions related to parental involvement"
   ]
  },
  {
   "cell_type": "code",
   "execution_count": 26,
   "metadata": {},
   "outputs": [
    {
     "data": {
      "text/html": [
       "<div>\n",
       "<style scoped>\n",
       "    .dataframe tbody tr th:only-of-type {\n",
       "        vertical-align: middle;\n",
       "    }\n",
       "\n",
       "    .dataframe tbody tr th {\n",
       "        vertical-align: top;\n",
       "    }\n",
       "\n",
       "    .dataframe thead th {\n",
       "        text-align: right;\n",
       "    }\n",
       "</style>\n",
       "<table border=\"1\" class=\"dataframe\">\n",
       "  <thead>\n",
       "    <tr style=\"text-align: right;\">\n",
       "      <th></th>\n",
       "      <th>Student Code</th>\n",
       "      <th>Grade</th>\n",
       "      <th>Gender</th>\n",
       "      <th>School Code</th>\n",
       "      <th>Survey Time Spent</th>\n",
       "      <th>Exam Score</th>\n",
       "      <th>I want to be praised by parents when I perform well at school</th>\n",
       "      <th>My parents chat with me</th>\n",
       "      <th>My parents discuss my school performance with me</th>\n",
       "      <th>My parents encourage me to set my learning goal</th>\n",
       "      <th>My parents hired a private tutor to help me</th>\n",
       "      <th>My parents support me with my homework</th>\n",
       "      <th>My parents tutor me themselves</th>\n",
       "    </tr>\n",
       "  </thead>\n",
       "  <tbody>\n",
       "    <tr>\n",
       "      <th>0</th>\n",
       "      <td>123-101</td>\n",
       "      <td>Grade 6</td>\n",
       "      <td>Boys</td>\n",
       "      <td>2000</td>\n",
       "      <td>20</td>\n",
       "      <td>36</td>\n",
       "      <td>0.333333</td>\n",
       "      <td>0.25</td>\n",
       "      <td>1.0</td>\n",
       "      <td>0.6</td>\n",
       "      <td>0.50</td>\n",
       "      <td>0.8</td>\n",
       "      <td>1.0</td>\n",
       "    </tr>\n",
       "    <tr>\n",
       "      <th>1</th>\n",
       "      <td>123-102</td>\n",
       "      <td>Grade 6</td>\n",
       "      <td>Boys</td>\n",
       "      <td>2000</td>\n",
       "      <td>9</td>\n",
       "      <td>34</td>\n",
       "      <td>1.000000</td>\n",
       "      <td>1.00</td>\n",
       "      <td>1.0</td>\n",
       "      <td>0.6</td>\n",
       "      <td>0.50</td>\n",
       "      <td>1.0</td>\n",
       "      <td>1.0</td>\n",
       "    </tr>\n",
       "    <tr>\n",
       "      <th>2</th>\n",
       "      <td>123-1024</td>\n",
       "      <td>Grade 6</td>\n",
       "      <td>Girls</td>\n",
       "      <td>5000</td>\n",
       "      <td>10</td>\n",
       "      <td>41</td>\n",
       "      <td>1.000000</td>\n",
       "      <td>1.00</td>\n",
       "      <td>1.0</td>\n",
       "      <td>1.0</td>\n",
       "      <td>0.50</td>\n",
       "      <td>0.8</td>\n",
       "      <td>0.8</td>\n",
       "    </tr>\n",
       "    <tr>\n",
       "      <th>3</th>\n",
       "      <td>123-1025</td>\n",
       "      <td>Grade 6</td>\n",
       "      <td>Girls</td>\n",
       "      <td>5000</td>\n",
       "      <td>18</td>\n",
       "      <td>43</td>\n",
       "      <td>1.000000</td>\n",
       "      <td>1.00</td>\n",
       "      <td>1.0</td>\n",
       "      <td>1.0</td>\n",
       "      <td>0.60</td>\n",
       "      <td>1.0</td>\n",
       "      <td>0.8</td>\n",
       "    </tr>\n",
       "    <tr>\n",
       "      <th>4</th>\n",
       "      <td>123-1026</td>\n",
       "      <td>Grade 6</td>\n",
       "      <td>Girls</td>\n",
       "      <td>5000</td>\n",
       "      <td>14</td>\n",
       "      <td>38</td>\n",
       "      <td>1.000000</td>\n",
       "      <td>1.00</td>\n",
       "      <td>1.0</td>\n",
       "      <td>1.0</td>\n",
       "      <td>0.25</td>\n",
       "      <td>1.0</td>\n",
       "      <td>0.8</td>\n",
       "    </tr>\n",
       "  </tbody>\n",
       "</table>\n",
       "</div>"
      ],
      "text/plain": [
       "  Student Code    Grade Gender  School Code  Survey Time Spent Exam Score  \\\n",
       "0      123-101  Grade 6   Boys         2000                 20         36   \n",
       "1      123-102  Grade 6   Boys         2000                  9         34   \n",
       "2     123-1024  Grade 6  Girls         5000                 10         41   \n",
       "3     123-1025  Grade 6  Girls         5000                 18         43   \n",
       "4     123-1026  Grade 6  Girls         5000                 14         38   \n",
       "\n",
       "   I want to be praised by parents when I perform well at school                                                       \\\n",
       "0                                           0.333333                                                                    \n",
       "1                                           1.000000                                                                    \n",
       "2                                           1.000000                                                                    \n",
       "3                                           1.000000                                                                    \n",
       "4                                           1.000000                                                                    \n",
       "\n",
       "   My parents chat with me                                   \\\n",
       "0                                               0.25          \n",
       "1                                               1.00          \n",
       "2                                               1.00          \n",
       "3                                               1.00          \n",
       "4                                               1.00          \n",
       "\n",
       "   My parents discuss my school performance with me                                     \\\n",
       "0                                                1.0                                     \n",
       "1                                                1.0                                     \n",
       "2                                                1.0                                     \n",
       "3                                                1.0                                     \n",
       "4                                                1.0                                     \n",
       "\n",
       "   My parents encourage me to set my learning goal                                       \\\n",
       "0                                                0.6                                      \n",
       "1                                                0.6                                      \n",
       "2                                                1.0                                      \n",
       "3                                                1.0                                      \n",
       "4                                                1.0                                      \n",
       "\n",
       "   My parents hired a private tutor to help me                                        \\\n",
       "0                                               0.50                                   \n",
       "1                                               0.50                                   \n",
       "2                                               0.50                                   \n",
       "3                                               0.60                                   \n",
       "4                                               0.25                                   \n",
       "\n",
       "   My parents support me with my homework                                         \\\n",
       "0                                                0.8                               \n",
       "1                                                1.0                               \n",
       "2                                                0.8                               \n",
       "3                                                1.0                               \n",
       "4                                                1.0                               \n",
       "\n",
       "   My parents tutor me themselves                              \n",
       "0                                                1.0           \n",
       "1                                                1.0           \n",
       "2                                                0.8           \n",
       "3                                                0.8           \n",
       "4                                                0.8           "
      ]
     },
     "execution_count": 26,
     "metadata": {},
     "output_type": "execute_result"
    }
   ],
   "source": [
    "data_of_parents_restructured.head()"
   ]
  },
  {
   "cell_type": "code",
   "execution_count": 27,
   "metadata": {},
   "outputs": [
    {
     "name": "stderr",
     "output_type": "stream",
     "text": [
      "/opt/conda/lib/python3.6/site-packages/ipykernel_launcher.py:1: FutureWarning: convert_objects is deprecated.  To re-infer data dtypes for object columns, use DataFrame.infer_objects()\n",
      "For all other conversions use the data-type specific converters pd.to_datetime, pd.to_timedelta and pd.to_numeric.\n",
      "  \"\"\"Entry point for launching an IPython kernel.\n"
     ]
    }
   ],
   "source": [
    "data_of_parents_restructured = data_of_parents_restructured.convert_objects(convert_numeric=True)"
   ]
  },
  {
   "cell_type": "code",
   "execution_count": 28,
   "metadata": {},
   "outputs": [],
   "source": [
    "data_of_teachers_original=survey_data.loc[survey_data.teacher==1 , ['Student Code','School Code','Gender','Grade' ,'English_Questions' ,'Survey Score', 'Survey Time Spent' ,'Exam Score']]"
   ]
  },
  {
   "cell_type": "code",
   "execution_count": 29,
   "metadata": {},
   "outputs": [
    {
     "data": {
      "text/html": [
       "<div>\n",
       "<style scoped>\n",
       "    .dataframe tbody tr th:only-of-type {\n",
       "        vertical-align: middle;\n",
       "    }\n",
       "\n",
       "    .dataframe tbody tr th {\n",
       "        vertical-align: top;\n",
       "    }\n",
       "\n",
       "    .dataframe thead th {\n",
       "        text-align: right;\n",
       "    }\n",
       "</style>\n",
       "<table border=\"1\" class=\"dataframe\">\n",
       "  <thead>\n",
       "    <tr style=\"text-align: right;\">\n",
       "      <th></th>\n",
       "      <th>Student Code</th>\n",
       "      <th>School Code</th>\n",
       "      <th>Gender</th>\n",
       "      <th>Grade</th>\n",
       "      <th>English_Questions</th>\n",
       "      <th>Survey Score</th>\n",
       "      <th>Survey Time Spent</th>\n",
       "      <th>Exam Score</th>\n",
       "    </tr>\n",
       "  </thead>\n",
       "  <tbody>\n",
       "    <tr>\n",
       "      <th>24</th>\n",
       "      <td>123-101</td>\n",
       "      <td>2000</td>\n",
       "      <td>Boys</td>\n",
       "      <td>Grade 6</td>\n",
       "      <td>Followed the teachers  instructions in class  ...</td>\n",
       "      <td>0.250000</td>\n",
       "      <td>20</td>\n",
       "      <td>36</td>\n",
       "    </tr>\n",
       "    <tr>\n",
       "      <th>55</th>\n",
       "      <td>123-101</td>\n",
       "      <td>2000</td>\n",
       "      <td>Boys</td>\n",
       "      <td>Grade 6</td>\n",
       "      <td>I want to be praised by my teachers when I per...</td>\n",
       "      <td>0.666667</td>\n",
       "      <td>20</td>\n",
       "      <td>36</td>\n",
       "    </tr>\n",
       "    <tr>\n",
       "      <th>89</th>\n",
       "      <td>123-102</td>\n",
       "      <td>2000</td>\n",
       "      <td>Boys</td>\n",
       "      <td>Grade 6</td>\n",
       "      <td>Followed the teachers  instructions in class  ...</td>\n",
       "      <td>0.800000</td>\n",
       "      <td>9</td>\n",
       "      <td>34</td>\n",
       "    </tr>\n",
       "    <tr>\n",
       "      <th>108</th>\n",
       "      <td>123-102</td>\n",
       "      <td>2000</td>\n",
       "      <td>Boys</td>\n",
       "      <td>Grade 6</td>\n",
       "      <td>I want to be praised by my teachers when I per...</td>\n",
       "      <td>1.000000</td>\n",
       "      <td>9</td>\n",
       "      <td>34</td>\n",
       "    </tr>\n",
       "    <tr>\n",
       "      <th>114</th>\n",
       "      <td>123-101</td>\n",
       "      <td>2000</td>\n",
       "      <td>Boys</td>\n",
       "      <td>Grade 6</td>\n",
       "      <td>My teachers take time to make sure I understan...</td>\n",
       "      <td>0.250000</td>\n",
       "      <td>20</td>\n",
       "      <td>36</td>\n",
       "    </tr>\n",
       "  </tbody>\n",
       "</table>\n",
       "</div>"
      ],
      "text/plain": [
       "    Student Code  School Code Gender    Grade  \\\n",
       "24       123-101         2000   Boys  Grade 6   \n",
       "55       123-101         2000   Boys  Grade 6   \n",
       "89       123-102         2000   Boys  Grade 6   \n",
       "108      123-102         2000   Boys  Grade 6   \n",
       "114      123-101         2000   Boys  Grade 6   \n",
       "\n",
       "                                     English_Questions  Survey Score  \\\n",
       "24   Followed the teachers  instructions in class  ...      0.250000   \n",
       "55   I want to be praised by my teachers when I per...      0.666667   \n",
       "89   Followed the teachers  instructions in class  ...      0.800000   \n",
       "108  I want to be praised by my teachers when I per...      1.000000   \n",
       "114  My teachers take time to make sure I understan...      0.250000   \n",
       "\n",
       "     Survey Time Spent Exam Score  \n",
       "24                  20         36  \n",
       "55                  20         36  \n",
       "89                   9         34  \n",
       "108                  9         34  \n",
       "114                 20         36  "
      ]
     },
     "execution_count": 29,
     "metadata": {},
     "output_type": "execute_result"
    }
   ],
   "source": [
    "data_of_teachers_original.head()"
   ]
  },
  {
   "cell_type": "code",
   "execution_count": 30,
   "metadata": {},
   "outputs": [],
   "source": [
    "data_of_teachers_restructured=data_of_teachers_original.pivot_table(index=['Student Code','Grade','Gender','School Code','Survey Time Spent','Exam Score'] , columns='English_Questions' , values='Survey Score').reset_index().rename_axis(None, 1)"
   ]
  },
  {
   "cell_type": "code",
   "execution_count": null,
   "metadata": {},
   "outputs": [],
   "source": []
  },
  {
   "cell_type": "markdown",
   "metadata": {},
   "source": [
    "#### the result is as follows , we have 768 students with average score of the 5 questions related to teacher facilities"
   ]
  },
  {
   "cell_type": "code",
   "execution_count": 31,
   "metadata": {},
   "outputs": [
    {
     "data": {
      "text/html": [
       "<div>\n",
       "<style scoped>\n",
       "    .dataframe tbody tr th:only-of-type {\n",
       "        vertical-align: middle;\n",
       "    }\n",
       "\n",
       "    .dataframe tbody tr th {\n",
       "        vertical-align: top;\n",
       "    }\n",
       "\n",
       "    .dataframe thead th {\n",
       "        text-align: right;\n",
       "    }\n",
       "</style>\n",
       "<table border=\"1\" class=\"dataframe\">\n",
       "  <thead>\n",
       "    <tr style=\"text-align: right;\">\n",
       "      <th></th>\n",
       "      <th>Student Code</th>\n",
       "      <th>Grade</th>\n",
       "      <th>Gender</th>\n",
       "      <th>School Code</th>\n",
       "      <th>Survey Time Spent</th>\n",
       "      <th>Exam Score</th>\n",
       "      <th>Followed the teachers  instructions in class</th>\n",
       "      <th>I want to be praised by my teachers when I perform well</th>\n",
       "      <th>My teachers give students opportunities to express opinions</th>\n",
       "      <th>My teachers take time to make sure I understand the material</th>\n",
       "      <th>When I feel like giving up on a difficult task  my teachers encourage me to keep trying</th>\n",
       "    </tr>\n",
       "  </thead>\n",
       "  <tbody>\n",
       "    <tr>\n",
       "      <th>0</th>\n",
       "      <td>123-101</td>\n",
       "      <td>Grade 6</td>\n",
       "      <td>Boys</td>\n",
       "      <td>2000</td>\n",
       "      <td>20</td>\n",
       "      <td>36</td>\n",
       "      <td>0.25</td>\n",
       "      <td>0.666667</td>\n",
       "      <td>0.5</td>\n",
       "      <td>0.25</td>\n",
       "      <td>0.25</td>\n",
       "    </tr>\n",
       "    <tr>\n",
       "      <th>1</th>\n",
       "      <td>123-102</td>\n",
       "      <td>Grade 6</td>\n",
       "      <td>Boys</td>\n",
       "      <td>2000</td>\n",
       "      <td>9</td>\n",
       "      <td>34</td>\n",
       "      <td>0.80</td>\n",
       "      <td>1.000000</td>\n",
       "      <td>0.6</td>\n",
       "      <td>0.60</td>\n",
       "      <td>0.60</td>\n",
       "    </tr>\n",
       "    <tr>\n",
       "      <th>2</th>\n",
       "      <td>123-1024</td>\n",
       "      <td>Grade 6</td>\n",
       "      <td>Girls</td>\n",
       "      <td>5000</td>\n",
       "      <td>10</td>\n",
       "      <td>41</td>\n",
       "      <td>1.00</td>\n",
       "      <td>1.000000</td>\n",
       "      <td>1.0</td>\n",
       "      <td>0.80</td>\n",
       "      <td>1.00</td>\n",
       "    </tr>\n",
       "    <tr>\n",
       "      <th>3</th>\n",
       "      <td>123-1025</td>\n",
       "      <td>Grade 6</td>\n",
       "      <td>Girls</td>\n",
       "      <td>5000</td>\n",
       "      <td>18</td>\n",
       "      <td>43</td>\n",
       "      <td>0.80</td>\n",
       "      <td>1.000000</td>\n",
       "      <td>0.6</td>\n",
       "      <td>1.00</td>\n",
       "      <td>0.80</td>\n",
       "    </tr>\n",
       "    <tr>\n",
       "      <th>4</th>\n",
       "      <td>123-1026</td>\n",
       "      <td>Grade 6</td>\n",
       "      <td>Girls</td>\n",
       "      <td>5000</td>\n",
       "      <td>14</td>\n",
       "      <td>38</td>\n",
       "      <td>1.00</td>\n",
       "      <td>1.000000</td>\n",
       "      <td>1.0</td>\n",
       "      <td>1.00</td>\n",
       "      <td>1.00</td>\n",
       "    </tr>\n",
       "  </tbody>\n",
       "</table>\n",
       "</div>"
      ],
      "text/plain": [
       "  Student Code    Grade Gender  School Code  Survey Time Spent Exam Score  \\\n",
       "0      123-101  Grade 6   Boys         2000                 20         36   \n",
       "1      123-102  Grade 6   Boys         2000                  9         34   \n",
       "2     123-1024  Grade 6  Girls         5000                 10         41   \n",
       "3     123-1025  Grade 6  Girls         5000                 18         43   \n",
       "4     123-1026  Grade 6  Girls         5000                 14         38   \n",
       "\n",
       "   Followed the teachers  instructions in class                               \\\n",
       "0                                               0.25                           \n",
       "1                                               0.80                           \n",
       "2                                               1.00                           \n",
       "3                                               0.80                           \n",
       "4                                               1.00                           \n",
       "\n",
       "   I want to be praised by my teachers when I perform well                                          \\\n",
       "0                                           0.666667                                                 \n",
       "1                                           1.000000                                                 \n",
       "2                                           1.000000                                                 \n",
       "3                                           1.000000                                                 \n",
       "4                                           1.000000                                                 \n",
       "\n",
       "   My teachers give students opportunities to express opinions                                               \\\n",
       "0                                                0.5                                                          \n",
       "1                                                0.6                                                          \n",
       "2                                                1.0                                                          \n",
       "3                                                0.6                                                          \n",
       "4                                                1.0                                                          \n",
       "\n",
       "   My teachers take time to make sure I understand the material                                                     \\\n",
       "0                                               0.25                                                                 \n",
       "1                                               0.60                                                                 \n",
       "2                                               0.80                                                                 \n",
       "3                                               1.00                                                                 \n",
       "4                                               1.00                                                                 \n",
       "\n",
       "   When I feel like giving up on a difficult task  my teachers encourage me to keep trying                                                                                  \n",
       "0                                               0.25                                                                                                                        \n",
       "1                                               0.60                                                                                                                        \n",
       "2                                               1.00                                                                                                                        \n",
       "3                                               0.80                                                                                                                        \n",
       "4                                               1.00                                                                                                                        "
      ]
     },
     "execution_count": 31,
     "metadata": {},
     "output_type": "execute_result"
    }
   ],
   "source": [
    "data_of_teachers_restructured.head()"
   ]
  },
  {
   "cell_type": "code",
   "execution_count": 32,
   "metadata": {},
   "outputs": [
    {
     "name": "stderr",
     "output_type": "stream",
     "text": [
      "/opt/conda/lib/python3.6/site-packages/ipykernel_launcher.py:1: FutureWarning: convert_objects is deprecated.  To re-infer data dtypes for object columns, use DataFrame.infer_objects()\n",
      "For all other conversions use the data-type specific converters pd.to_datetime, pd.to_timedelta and pd.to_numeric.\n",
      "  \"\"\"Entry point for launching an IPython kernel.\n"
     ]
    }
   ],
   "source": [
    "data_of_teachers_restructured = data_of_teachers_restructured.convert_objects(convert_numeric=True)"
   ]
  },
  {
   "cell_type": "code",
   "execution_count": null,
   "metadata": {},
   "outputs": [],
   "source": []
  },
  {
   "cell_type": "code",
   "execution_count": null,
   "metadata": {},
   "outputs": [],
   "source": []
  },
  {
   "cell_type": "code",
   "execution_count": 33,
   "metadata": {},
   "outputs": [],
   "source": [
    "data_of_ict_skills_original=survey_data.loc[survey_data.ict_skills==1 , ['Student Code','School Code','Gender','Grade' ,'English_Questions' ,'Survey Score', 'Survey Time Spent' ,'Exam Score']]"
   ]
  },
  {
   "cell_type": "code",
   "execution_count": 34,
   "metadata": {},
   "outputs": [
    {
     "data": {
      "text/html": [
       "<div>\n",
       "<style scoped>\n",
       "    .dataframe tbody tr th:only-of-type {\n",
       "        vertical-align: middle;\n",
       "    }\n",
       "\n",
       "    .dataframe tbody tr th {\n",
       "        vertical-align: top;\n",
       "    }\n",
       "\n",
       "    .dataframe thead th {\n",
       "        text-align: right;\n",
       "    }\n",
       "</style>\n",
       "<table border=\"1\" class=\"dataframe\">\n",
       "  <thead>\n",
       "    <tr style=\"text-align: right;\">\n",
       "      <th></th>\n",
       "      <th>Student Code</th>\n",
       "      <th>School Code</th>\n",
       "      <th>Gender</th>\n",
       "      <th>Grade</th>\n",
       "      <th>English_Questions</th>\n",
       "      <th>Survey Score</th>\n",
       "      <th>Survey Time Spent</th>\n",
       "      <th>Exam Score</th>\n",
       "    </tr>\n",
       "  </thead>\n",
       "  <tbody>\n",
       "    <tr>\n",
       "      <th>0</th>\n",
       "      <td>123-101</td>\n",
       "      <td>2000</td>\n",
       "      <td>Boys</td>\n",
       "      <td>Grade 6</td>\n",
       "      <td>Navigating web pages</td>\n",
       "      <td>0.666667</td>\n",
       "      <td>20</td>\n",
       "      <td>36</td>\n",
       "    </tr>\n",
       "    <tr>\n",
       "      <th>1</th>\n",
       "      <td>123-101</td>\n",
       "      <td>2000</td>\n",
       "      <td>Boys</td>\n",
       "      <td>Grade 6</td>\n",
       "      <td>Typing on a keyboard</td>\n",
       "      <td>0.666667</td>\n",
       "      <td>20</td>\n",
       "      <td>36</td>\n",
       "    </tr>\n",
       "    <tr>\n",
       "      <th>3</th>\n",
       "      <td>123-102</td>\n",
       "      <td>2000</td>\n",
       "      <td>Boys</td>\n",
       "      <td>Grade 6</td>\n",
       "      <td>Manipulating objects on the screen</td>\n",
       "      <td>0.666667</td>\n",
       "      <td>9</td>\n",
       "      <td>34</td>\n",
       "    </tr>\n",
       "    <tr>\n",
       "      <th>4</th>\n",
       "      <td>123-102</td>\n",
       "      <td>2000</td>\n",
       "      <td>Boys</td>\n",
       "      <td>Grade 6</td>\n",
       "      <td>Navigating web pages</td>\n",
       "      <td>0.666667</td>\n",
       "      <td>9</td>\n",
       "      <td>34</td>\n",
       "    </tr>\n",
       "    <tr>\n",
       "      <th>5</th>\n",
       "      <td>123-102</td>\n",
       "      <td>2000</td>\n",
       "      <td>Boys</td>\n",
       "      <td>Grade 6</td>\n",
       "      <td>Reading and comprehending digital texts</td>\n",
       "      <td>0.666667</td>\n",
       "      <td>9</td>\n",
       "      <td>34</td>\n",
       "    </tr>\n",
       "  </tbody>\n",
       "</table>\n",
       "</div>"
      ],
      "text/plain": [
       "  Student Code  School Code Gender    Grade  \\\n",
       "0      123-101         2000   Boys  Grade 6   \n",
       "1      123-101         2000   Boys  Grade 6   \n",
       "3      123-102         2000   Boys  Grade 6   \n",
       "4      123-102         2000   Boys  Grade 6   \n",
       "5      123-102         2000   Boys  Grade 6   \n",
       "\n",
       "                         English_Questions  Survey Score  Survey Time Spent  \\\n",
       "0                     Navigating web pages      0.666667                 20   \n",
       "1                     Typing on a keyboard      0.666667                 20   \n",
       "3       Manipulating objects on the screen      0.666667                  9   \n",
       "4                     Navigating web pages      0.666667                  9   \n",
       "5  Reading and comprehending digital texts      0.666667                  9   \n",
       "\n",
       "  Exam Score  \n",
       "0         36  \n",
       "1         36  \n",
       "3         34  \n",
       "4         34  \n",
       "5         34  "
      ]
     },
     "execution_count": 34,
     "metadata": {},
     "output_type": "execute_result"
    }
   ],
   "source": [
    "data_of_ict_skills_original.head()"
   ]
  },
  {
   "cell_type": "code",
   "execution_count": 35,
   "metadata": {},
   "outputs": [],
   "source": [
    "data_of_ict_skills_restructured=data_of_ict_skills_original.pivot_table(index=['Student Code','Grade','Gender','School Code','Survey Time Spent','Exam Score'] , columns='English_Questions' , values='Survey Score').reset_index().rename_axis(None, 1)"
   ]
  },
  {
   "cell_type": "code",
   "execution_count": null,
   "metadata": {},
   "outputs": [],
   "source": []
  },
  {
   "cell_type": "markdown",
   "metadata": {},
   "source": [
    "#### the result is as follows , we have 768 students with average score of the 5 questions related to ict_skills"
   ]
  },
  {
   "cell_type": "code",
   "execution_count": 36,
   "metadata": {},
   "outputs": [
    {
     "data": {
      "text/html": [
       "<div>\n",
       "<style scoped>\n",
       "    .dataframe tbody tr th:only-of-type {\n",
       "        vertical-align: middle;\n",
       "    }\n",
       "\n",
       "    .dataframe tbody tr th {\n",
       "        vertical-align: top;\n",
       "    }\n",
       "\n",
       "    .dataframe thead th {\n",
       "        text-align: right;\n",
       "    }\n",
       "</style>\n",
       "<table border=\"1\" class=\"dataframe\">\n",
       "  <thead>\n",
       "    <tr style=\"text-align: right;\">\n",
       "      <th></th>\n",
       "      <th>Student Code</th>\n",
       "      <th>Grade</th>\n",
       "      <th>Gender</th>\n",
       "      <th>School Code</th>\n",
       "      <th>Survey Time Spent</th>\n",
       "      <th>Exam Score</th>\n",
       "      <th>I am comfortable using technology</th>\n",
       "      <th>I am really excited to explore new technology</th>\n",
       "      <th>I do homework on a computer laptop</th>\n",
       "      <th>I feel confident in my ability to learn new technology</th>\n",
       "      <th>I like playing educational games</th>\n",
       "      <th>I like reading digitally rather than on paper</th>\n",
       "      <th>I play educational games</th>\n",
       "      <th>Manipulating objects on the screen</th>\n",
       "      <th>Navigating web pages</th>\n",
       "      <th>Reading and comprehending digital texts</th>\n",
       "      <th>Selecting texts with a mouse</th>\n",
       "      <th>Typing on a keyboard</th>\n",
       "      <th>When I come across problems with technology  I am confident that I can resolve them</th>\n",
       "    </tr>\n",
       "  </thead>\n",
       "  <tbody>\n",
       "    <tr>\n",
       "      <th>0</th>\n",
       "      <td>123-101</td>\n",
       "      <td>Grade 6</td>\n",
       "      <td>Boys</td>\n",
       "      <td>2000</td>\n",
       "      <td>20</td>\n",
       "      <td>36</td>\n",
       "      <td>0.75</td>\n",
       "      <td>0.50</td>\n",
       "      <td>0.50</td>\n",
       "      <td>1.00</td>\n",
       "      <td>0.25</td>\n",
       "      <td>0.50</td>\n",
       "      <td>1.00</td>\n",
       "      <td>1.000000</td>\n",
       "      <td>0.666667</td>\n",
       "      <td>1.000000</td>\n",
       "      <td>1.000000</td>\n",
       "      <td>0.666667</td>\n",
       "      <td>0.50</td>\n",
       "    </tr>\n",
       "    <tr>\n",
       "      <th>1</th>\n",
       "      <td>123-102</td>\n",
       "      <td>Grade 6</td>\n",
       "      <td>Boys</td>\n",
       "      <td>2000</td>\n",
       "      <td>9</td>\n",
       "      <td>34</td>\n",
       "      <td>0.75</td>\n",
       "      <td>0.75</td>\n",
       "      <td>1.00</td>\n",
       "      <td>0.75</td>\n",
       "      <td>0.75</td>\n",
       "      <td>0.50</td>\n",
       "      <td>0.75</td>\n",
       "      <td>0.666667</td>\n",
       "      <td>0.666667</td>\n",
       "      <td>0.666667</td>\n",
       "      <td>0.666667</td>\n",
       "      <td>0.666667</td>\n",
       "      <td>0.75</td>\n",
       "    </tr>\n",
       "    <tr>\n",
       "      <th>2</th>\n",
       "      <td>123-1024</td>\n",
       "      <td>Grade 6</td>\n",
       "      <td>Girls</td>\n",
       "      <td>5000</td>\n",
       "      <td>10</td>\n",
       "      <td>41</td>\n",
       "      <td>0.75</td>\n",
       "      <td>0.75</td>\n",
       "      <td>1.00</td>\n",
       "      <td>1.00</td>\n",
       "      <td>0.50</td>\n",
       "      <td>0.75</td>\n",
       "      <td>0.75</td>\n",
       "      <td>1.000000</td>\n",
       "      <td>0.666667</td>\n",
       "      <td>1.000000</td>\n",
       "      <td>1.000000</td>\n",
       "      <td>0.666667</td>\n",
       "      <td>1.00</td>\n",
       "    </tr>\n",
       "    <tr>\n",
       "      <th>3</th>\n",
       "      <td>123-1025</td>\n",
       "      <td>Grade 6</td>\n",
       "      <td>Girls</td>\n",
       "      <td>5000</td>\n",
       "      <td>18</td>\n",
       "      <td>43</td>\n",
       "      <td>0.75</td>\n",
       "      <td>0.75</td>\n",
       "      <td>0.75</td>\n",
       "      <td>1.00</td>\n",
       "      <td>0.75</td>\n",
       "      <td>0.75</td>\n",
       "      <td>1.00</td>\n",
       "      <td>0.666667</td>\n",
       "      <td>0.666667</td>\n",
       "      <td>0.666667</td>\n",
       "      <td>0.666667</td>\n",
       "      <td>0.666667</td>\n",
       "      <td>1.00</td>\n",
       "    </tr>\n",
       "    <tr>\n",
       "      <th>4</th>\n",
       "      <td>123-1026</td>\n",
       "      <td>Grade 6</td>\n",
       "      <td>Girls</td>\n",
       "      <td>5000</td>\n",
       "      <td>14</td>\n",
       "      <td>38</td>\n",
       "      <td>1.00</td>\n",
       "      <td>1.00</td>\n",
       "      <td>1.00</td>\n",
       "      <td>1.00</td>\n",
       "      <td>1.00</td>\n",
       "      <td>1.00</td>\n",
       "      <td>1.00</td>\n",
       "      <td>1.000000</td>\n",
       "      <td>0.666667</td>\n",
       "      <td>1.000000</td>\n",
       "      <td>0.666667</td>\n",
       "      <td>1.000000</td>\n",
       "      <td>0.75</td>\n",
       "    </tr>\n",
       "  </tbody>\n",
       "</table>\n",
       "</div>"
      ],
      "text/plain": [
       "  Student Code    Grade Gender  School Code  Survey Time Spent Exam Score  \\\n",
       "0      123-101  Grade 6   Boys         2000                 20         36   \n",
       "1      123-102  Grade 6   Boys         2000                  9         34   \n",
       "2     123-1024  Grade 6  Girls         5000                 10         41   \n",
       "3     123-1025  Grade 6  Girls         5000                 18         43   \n",
       "4     123-1026  Grade 6  Girls         5000                 14         38   \n",
       "\n",
       "   I am comfortable using technology                                        \\\n",
       "0                                               0.75                         \n",
       "1                                               0.75                         \n",
       "2                                               0.75                         \n",
       "3                                               0.75                         \n",
       "4                                               1.00                         \n",
       "\n",
       "   I am really excited to explore new technology                                    \\\n",
       "0                                               0.50                                 \n",
       "1                                               0.75                                 \n",
       "2                                               0.75                                 \n",
       "3                                               0.75                                 \n",
       "4                                               1.00                                 \n",
       "\n",
       "   I do homework on a computer laptop                                                                   \\\n",
       "0                                               0.50                                                     \n",
       "1                                               1.00                                                     \n",
       "2                                               1.00                                                     \n",
       "3                                               0.75                                                     \n",
       "4                                               1.00                                                     \n",
       "\n",
       "   I feel confident in my ability to learn new technology                                                 \\\n",
       "0                                               1.00                                                       \n",
       "1                                               0.75                                                       \n",
       "2                                               1.00                                                       \n",
       "3                                               1.00                                                       \n",
       "4                                               1.00                                                       \n",
       "\n",
       "   I like playing educational games                               \\\n",
       "0                                               0.25               \n",
       "1                                               0.75               \n",
       "2                                               0.50               \n",
       "3                                               0.75               \n",
       "4                                               1.00               \n",
       "\n",
       "   I like reading digitally rather than on paper                                            \\\n",
       "0                                               0.50                                         \n",
       "1                                               0.50                                         \n",
       "2                                               0.75                                         \n",
       "3                                               0.75                                         \n",
       "4                                               1.00                                         \n",
       "\n",
       "   I play educational games                         \\\n",
       "0                                             1.00   \n",
       "1                                             0.75   \n",
       "2                                             0.75   \n",
       "3                                             1.00   \n",
       "4                                             1.00   \n",
       "\n",
       "   Manipulating objects on the screen  Navigating web pages  \\\n",
       "0                            1.000000              0.666667   \n",
       "1                            0.666667              0.666667   \n",
       "2                            1.000000              0.666667   \n",
       "3                            0.666667              0.666667   \n",
       "4                            1.000000              0.666667   \n",
       "\n",
       "   Reading and comprehending digital texts  Selecting texts with a mouse  \\\n",
       "0                                 1.000000                      1.000000   \n",
       "1                                 0.666667                      0.666667   \n",
       "2                                 1.000000                      1.000000   \n",
       "3                                 0.666667                      0.666667   \n",
       "4                                 1.000000                      0.666667   \n",
       "\n",
       "   Typing on a keyboard  \\\n",
       "0              0.666667   \n",
       "1              0.666667   \n",
       "2              0.666667   \n",
       "3              0.666667   \n",
       "4              1.000000   \n",
       "\n",
       "   When I come across problems with technology  I am confident that I can resolve them                                                           \n",
       "0                                               0.50                                                                                             \n",
       "1                                               0.75                                                                                             \n",
       "2                                               1.00                                                                                             \n",
       "3                                               1.00                                                                                             \n",
       "4                                               0.75                                                                                             "
      ]
     },
     "execution_count": 36,
     "metadata": {},
     "output_type": "execute_result"
    }
   ],
   "source": [
    "data_of_ict_skills_restructured.head()"
   ]
  },
  {
   "cell_type": "code",
   "execution_count": 37,
   "metadata": {},
   "outputs": [
    {
     "name": "stderr",
     "output_type": "stream",
     "text": [
      "/opt/conda/lib/python3.6/site-packages/ipykernel_launcher.py:1: FutureWarning: convert_objects is deprecated.  To re-infer data dtypes for object columns, use DataFrame.infer_objects()\n",
      "For all other conversions use the data-type specific converters pd.to_datetime, pd.to_timedelta and pd.to_numeric.\n",
      "  \"\"\"Entry point for launching an IPython kernel.\n"
     ]
    }
   ],
   "source": [
    "data_of_ict_skills_restructured = data_of_ict_skills_restructured.convert_objects(convert_numeric=True)"
   ]
  },
  {
   "cell_type": "code",
   "execution_count": null,
   "metadata": {},
   "outputs": [],
   "source": []
  },
  {
   "cell_type": "markdown",
   "metadata": {},
   "source": [
    "#### doing the same with questions related to parental involvment we collect data related to the 7 questions that measure parental involvment for the 768 students in a separate data"
   ]
  },
  {
   "cell_type": "markdown",
   "metadata": {},
   "source": [
    "# Second : Answering questions"
   ]
  },
  {
   "cell_type": "markdown",
   "metadata": {},
   "source": [
    "###  we need to define a function that calculates correlation coeffecients as we will need it a lot in the questions belows"
   ]
  },
  {
   "cell_type": "code",
   "execution_count": 38,
   "metadata": {},
   "outputs": [],
   "source": [
    "def r_to_z(r):\n",
    "    return math.log((1 + r) / (1 - r)) / 2.0\n",
    "\n",
    "def z_to_r(z):\n",
    "    e = math.exp(2 * z)\n",
    "    return((e - 1) / (e + 1))\n",
    "\n",
    "def r_confidence_interval(r, alpha, n):\n",
    "    z = r_to_z(r)\n",
    "    se = 1.0 / math.sqrt(n - 3)\n",
    "    z_crit = stats.norm.ppf(1 - alpha/2)  # 2-tailed z critical value\n",
    "\n",
    "    lo = z - z_crit * se\n",
    "    hi = z + z_crit * se\n",
    "\n",
    "    # Return a sequence\n",
    "    return  (z_to_r(lo), z_to_r(hi))"
   ]
  },
  {
   "cell_type": "markdown",
   "metadata": {},
   "source": [
    "### Q1 : What is the general correlation between Survey Score and Exam Score?"
   ]
  },
  {
   "cell_type": "markdown",
   "metadata": {},
   "source": [
    "### Answer :"
   ]
  },
  {
   "cell_type": "markdown",
   "metadata": {},
   "source": [
    "#### for the first coeffecient between generally the exam score and survey score we have the full data with \n",
    "#### 46080 cases\n",
    "#### also having the final data with the final results of 768 unique students\n",
    "\n",
    "#### we have 95% confidence level so alpha in all our tests will be 1-0.95=0.05"
   ]
  },
  {
   "cell_type": "code",
   "execution_count": 39,
   "metadata": {},
   "outputs": [
    {
     "data": {
      "text/plain": [
       "<matplotlib.axes._subplots.AxesSubplot at 0x7f687dc70668>"
      ]
     },
     "execution_count": 39,
     "metadata": {},
     "output_type": "execute_result"
    },
    {
     "data": {
      "image/png": "[encoded data removed]",
      "text/plain": [
       "<matplotlib.figure.Figure at 0x7f687dc9deb8>"
      ]
     },
     "metadata": {
      "needs_background": "light"
     },
     "output_type": "display_data"
    }
   ],
   "source": [
    "survey_data_row.loc[survey_data_row['Exam Score'] > 0,['Survey Score','Exam Score']].plot.scatter(x='Exam Score',\n",
    "...                       y='Survey Score')"
   ]
  },
  {
   "cell_type": "markdown",
   "metadata": {},
   "source": [
    "#### we see from the scatterplot that generally higher exam score near 100 are generally lesser , but they are more between studenta that have survey score near one , that indicates a positive correlation , let's check this intuition by calculationg correlation coeffecient and checking its significance"
   ]
  },
  {
   "cell_type": "code",
   "execution_count": 40,
   "metadata": {},
   "outputs": [
    {
     "data": {
      "text/html": [
       "<div>\n",
       "<style scoped>\n",
       "    .dataframe tbody tr th:only-of-type {\n",
       "        vertical-align: middle;\n",
       "    }\n",
       "\n",
       "    .dataframe tbody tr th {\n",
       "        vertical-align: top;\n",
       "    }\n",
       "\n",
       "    .dataframe thead th {\n",
       "        text-align: right;\n",
       "    }\n",
       "</style>\n",
       "<table border=\"1\" class=\"dataframe\">\n",
       "  <thead>\n",
       "    <tr style=\"text-align: right;\">\n",
       "      <th></th>\n",
       "      <th>Survey Score</th>\n",
       "      <th>Exam Score</th>\n",
       "    </tr>\n",
       "  </thead>\n",
       "  <tbody>\n",
       "    <tr>\n",
       "      <th>Survey Score</th>\n",
       "      <td>1.000000</td>\n",
       "      <td>0.123111</td>\n",
       "    </tr>\n",
       "    <tr>\n",
       "      <th>Exam Score</th>\n",
       "      <td>0.123111</td>\n",
       "      <td>1.000000</td>\n",
       "    </tr>\n",
       "  </tbody>\n",
       "</table>\n",
       "</div>"
      ],
      "text/plain": [
       "              Survey Score  Exam Score\n",
       "Survey Score      1.000000    0.123111\n",
       "Exam Score        0.123111    1.000000"
      ]
     },
     "execution_count": 40,
     "metadata": {},
     "output_type": "execute_result"
    }
   ],
   "source": [
    "survey_data_row.loc[survey_data_row['Exam Score'] > 0,['Survey Score','Exam Score']].corr()"
   ]
  },
  {
   "cell_type": "code",
   "execution_count": 41,
   "metadata": {},
   "outputs": [
    {
     "name": "stdout",
     "output_type": "stream",
     "text": [
      "[ 0.11  0.13]\n"
     ]
    }
   ],
   "source": [
    "print(np.around((r_confidence_interval(0.123111\n",
    ",0.05,46080)),2))"
   ]
  },
  {
   "cell_type": "markdown",
   "metadata": {},
   "source": [
    "#### so here for Q1 we   obtain (0.11  0.13) as the confidence interval for population’s correlation coefficient between Exam score and survey score. Because this interval is far from 0, we can conclude that there is a significant positive correlation between the  Exam score and survey score"
   ]
  },
  {
   "cell_type": "markdown",
   "metadata": {},
   "source": [
    "### Final Answer to Q1 :\n",
    "\n",
    "#### so here for Q1 we   obtain (0.11 , 0.13) as the confidence interval for population’s correlation coefficient between Exam score and survey score. Because this interval is far from 0, we can conclude that there is a significant positive correlation between the  Exam score and survey score\n"
   ]
  },
  {
   "cell_type": "markdown",
   "metadata": {},
   "source": [
    "# Q2 : Is there any correlation between the students’ feedback on Parental Involvement questions and their Exam score? What about Teacher facilitation and ICT Skill questions?  \n",
    "# (You need to identify the relevant questions of these categories) \n"
   ]
  },
  {
   "cell_type": "markdown",
   "metadata": {},
   "source": [
    "### Answer: "
   ]
  },
  {
   "cell_type": "markdown",
   "metadata": {},
   "source": [
    "#### We introduced above how we identified relevent questions for each category\n",
    "#### A: Questions related to parental involvement we chose all questions include the word \"Parent\" in the text , they were 7 questions\n",
    "#### B : Questions related to teachers facility we chose all questions include the word \"teacher\" in the text , they were 5 questions\n",
    "#### C : Questions related to ICT skills we  chose all questions that contain words related to ICT industry\n",
    "#### like what we chose (technology,mouse,computer,games,laptop,screen,digital,internet,web,keyboard)\n",
    "\n",
    "### Then we made a dataset called final data set contains student code , school code , gender , grade , exam score to help us for this point"
   ]
  },
  {
   "cell_type": "markdown",
   "metadata": {},
   "source": [
    "#### First: We compute pearson correlation coeffecient between Exam score and questions related to each of the 3 factors "
   ]
  },
  {
   "cell_type": "code",
   "execution_count": 42,
   "metadata": {},
   "outputs": [],
   "source": [
    "parents_coeffecients = pd.DataFrame(data_of_parents_restructured.iloc[:, 5:].corr())['Exam Score']"
   ]
  },
  {
   "cell_type": "code",
   "execution_count": 43,
   "metadata": {},
   "outputs": [
    {
     "data": {
      "text/plain": [
       "Exam Score                                                                                                            1.000000\n",
       "I want to be praised by parents when I perform well at school                                                         0.081940\n",
       "My parents chat with me                                                                                               0.198448\n",
       "My parents discuss my school performance with me                                                                      0.245474\n",
       "My parents encourage me to set my learning goal                                                                       0.268005\n",
       "My parents hired a private tutor to help me                                                                          -0.103762\n",
       "My parents support me with my homework                                                                                0.226798\n",
       "My parents tutor me themselves                                                                                        0.116171\n",
       "Name: Exam Score, dtype: float64"
      ]
     },
     "execution_count": 43,
     "metadata": {},
     "output_type": "execute_result"
    }
   ],
   "source": [
    "parents_coeffecients"
   ]
  },
  {
   "cell_type": "code",
   "execution_count": 44,
   "metadata": {},
   "outputs": [],
   "source": [
    "teachers_coeffecients = pd.DataFrame(data_of_teachers_restructured.iloc[:, 5:].corr())['Exam Score']"
   ]
  },
  {
   "cell_type": "code",
   "execution_count": 45,
   "metadata": {},
   "outputs": [],
   "source": [
    "ict_skills_coeffecients = pd.DataFrame(data_of_ict_skills_restructured.iloc[:, 5:].corr())['Exam Score']"
   ]
  },
  {
   "cell_type": "markdown",
   "metadata": {},
   "source": [
    "### then we compute confidence interval of correlation coeffecient between exam score and each of the 7 questions related to parental involvement "
   ]
  },
  {
   "cell_type": "code",
   "execution_count": null,
   "metadata": {},
   "outputs": [],
   "source": []
  },
  {
   "cell_type": "code",
   "execution_count": 46,
   "metadata": {
    "scrolled": true
   },
   "outputs": [
    {
     "name": "stdout",
     "output_type": "stream",
     "text": [
      "Confidence interval of correlation coeffecient between Exam Score and : \" I want to be praised by parents when I perform well at school                                                      \" \n",
      "[ 0.01  0.15]\n",
      "Confidence interval of correlation coeffecient between Exam Score and : \" My parents chat with me                                  \" \n",
      "[ 0.13  0.27]\n",
      "Confidence interval of correlation coeffecient between Exam Score and : \" My parents discuss my school performance with me                                    \" \n",
      "[ 0.18  0.31]\n",
      "Confidence interval of correlation coeffecient between Exam Score and : \" My parents encourage me to set my learning goal                                      \" \n",
      "[ 0.2   0.33]\n",
      "Confidence interval of correlation coeffecient between Exam Score and : \" My parents hired a private tutor to help me                                       \" \n",
      "[-0.17 -0.03]\n",
      "Confidence interval of correlation coeffecient between Exam Score and : \" My parents support me with my homework                                        \" \n",
      "[ 0.16  0.29]\n",
      "Confidence interval of correlation coeffecient between Exam Score and : \" My parents tutor me themselves                             \" \n",
      "[ 0.05  0.19]\n"
     ]
    }
   ],
   "source": [
    "for i in range(1,8) :\n",
    "    print('Confidence interval of correlation coeffecient between Exam Score and :' +' \" ' + parents_coeffecients.index[i] + ' \" ')\n",
    "    print(np.around((r_confidence_interval(parents_coeffecients[i],0.05,768)),2))"
   ]
  },
  {
   "cell_type": "markdown",
   "metadata": {},
   "source": [
    "### We can find that the questions that seem to have the strongest positive correlation with exam score are \n",
    "### \"My parents encourage me to set my learning goal\" , \" My parents discuss my school performance with me\" , My parents discuss my school performance with me \", and \" My parents support me with my homework \" with confidence intervals of (0.2,0.33) , (0.18,0.33) , (13,27) and (0.16,0.29) respectively so we are confident with level of 95% that correlation between exam score and these factors really lies between these limits.\n",
    "\n",
    "### Another thing of interest that we see an example of negative parental involvement when parents hire a tutor , this has correlation with exam score ranges between (-0.03 , -0.17) with confidence level of 95% this indicates importence of parental direct involvement  \n",
    "\n",
    "### other questions have extremely weak , but positive significant correlation with exam score."
   ]
  },
  {
   "cell_type": "markdown",
   "metadata": {},
   "source": [
    "### let's check how exam score is related to questions related to teacher facility"
   ]
  },
  {
   "cell_type": "code",
   "execution_count": 47,
   "metadata": {
    "scrolled": true
   },
   "outputs": [
    {
     "name": "stdout",
     "output_type": "stream",
     "text": [
      "Confidence interval of correlation coeffecient between Exam Score and : \" Followed the teachers  instructions in class                              \" \n",
      "[ 0.2   0.33]\n",
      "Confidence interval of correlation coeffecient between Exam Score and : \" I want to be praised by my teachers when I perform well                                         \" \n",
      "[ 0.09  0.23]\n",
      "Confidence interval of correlation coeffecient between Exam Score and : \" My teachers give students opportunities to express opinions                                              \" \n",
      "[ 0.16  0.29]\n",
      "Confidence interval of correlation coeffecient between Exam Score and : \" My teachers take time to make sure I understand the material                                                    \" \n",
      "[ 0.14  0.28]\n",
      "Confidence interval of correlation coeffecient between Exam Score and : \" When I feel like giving up on a difficult task  my teachers encourage me to keep trying                                                                                 \" \n",
      "[ 0.17  0.31]\n"
     ]
    }
   ],
   "source": [
    "for i in range(1,6) :\n",
    "    print('Confidence interval of correlation coeffecient between Exam Score and :' +' \" ' + teachers_coeffecients.index[i] + ' \" ')\n",
    "    print(np.around((r_confidence_interval(teachers_coeffecients[i],0.05,768)),2))"
   ]
  },
  {
   "cell_type": "markdown",
   "metadata": {},
   "source": [
    "### We can find that the questions that seem to have the strongest positive correlation with exam score are \n",
    "### \" Followed the teachers  instructions in class\"  , \"My teachers give students opportunities to express opinions\" , and \"My teachers take time to make sure I understand the material \" with confidence intervals of (0.2,0.33) , (0.16,0.29) , and (0.14,0.28) respectively so we are confident with level of 95% that correlation between exam score and these factors really lies between these limits."
   ]
  },
  {
   "cell_type": "code",
   "execution_count": 48,
   "metadata": {
    "scrolled": true
   },
   "outputs": [
    {
     "name": "stdout",
     "output_type": "stream",
     "text": [
      "Confidence interval of correlation coeffecient between Exam Score and : \" I am comfortable using technology                                       \" \n",
      "[-0.02  0.12]\n",
      "Confidence interval of correlation coeffecient between Exam Score and : \" I am really excited to explore new technology                                   \" \n",
      "[-0.    0.14]\n",
      "Confidence interval of correlation coeffecient between Exam Score and : \" I do homework on a computer laptop                                                                  \" \n",
      "[ 0.12  0.26]\n",
      "Confidence interval of correlation coeffecient between Exam Score and : \" I feel confident in my ability to learn new technology                                                \" \n",
      "[ 0.04  0.18]\n",
      "Confidence interval of correlation coeffecient between Exam Score and : \" I like playing educational games                              \" \n",
      "[ 0.08  0.22]\n",
      "Confidence interval of correlation coeffecient between Exam Score and : \" I like reading digitally rather than on paper                                           \" \n",
      "[-0.03  0.11]\n",
      "Confidence interval of correlation coeffecient between Exam Score and : \" I play educational games                        \" \n",
      "[ 0.07  0.21]\n",
      "Confidence interval of correlation coeffecient between Exam Score and : \" Manipulating objects on the screen \" \n",
      "[-0.07  0.07]\n",
      "Confidence interval of correlation coeffecient between Exam Score and : \" Navigating web pages \" \n",
      "[ 0.02  0.16]\n",
      "Confidence interval of correlation coeffecient between Exam Score and : \" Reading and comprehending digital texts \" \n",
      "[-0.    0.14]\n",
      "Confidence interval of correlation coeffecient between Exam Score and : \" Selecting texts with a mouse \" \n",
      "[ 0.05  0.19]\n",
      "Confidence interval of correlation coeffecient between Exam Score and : \" Typing on a keyboard \" \n",
      "[-0.03  0.11]\n",
      "Confidence interval of correlation coeffecient between Exam Score and : \" When I come across problems with technology  I am confident that I can resolve them                                                          \" \n",
      "[-0.07  0.07]\n"
     ]
    }
   ],
   "source": [
    "for i in range(1,14) :\n",
    "    print('Confidence interval of correlation coeffecient between Exam Score and :' +' \" ' + ict_skills_coeffecients.index[i] + ' \" ')\n",
    "    print(np.around((r_confidence_interval(ict_skills_coeffecients[i],0.05,768)),2))"
   ]
  },
  {
   "cell_type": "markdown",
   "metadata": {},
   "source": [
    "### from the 13 question related to ICT skills we notice that 6 of them have their 95 % confidence limits contain negative and positive numbers so we can state that correlation coeffecients of Exam score withthese questions survey score are non significanr\n",
    "\n",
    "### then we see that we have 5 questions related to ICT skills which are \"I do homework on a computer laptop\" , \"I like playing educational games\" ,\"I play educational games\" , \"Navigating web pages\" , and \"Selecting texts with a mouse\" have confidence intervals for correlation coeffecient with exam score of (0.12,0.26) , (0.08,0.22) , (0.07,0.21) , (0.02,0.16) , and (0.05, 0.19) which are weak but significant , so we are confident with level of 95% that correlation between exam score and these factors really lies between these limits."
   ]
  },
  {
   "cell_type": "code",
   "execution_count": null,
   "metadata": {},
   "outputs": [],
   "source": []
  },
  {
   "cell_type": "code",
   "execution_count": null,
   "metadata": {},
   "outputs": [],
   "source": []
  },
  {
   "cell_type": "markdown",
   "metadata": {},
   "source": [
    "# Q3 : What is the role of Gender on feedback Scores for different questions? What is the general role of Gender on feedback score?"
   ]
  },
  {
   "cell_type": "markdown",
   "metadata": {},
   "source": [
    "### Answer :"
   ]
  },
  {
   "cell_type": "markdown",
   "metadata": {},
   "source": [
    "#### We first run a quick descriptive frequency table on Gender variable in both datasets (main : the data to calculate the general test if gender affects question score in general , and final: the data to calculate the effect of gender variable on average student's score of each of our 3 question categories i.e parental involvement , teacher facility and ICT skills)"
   ]
  },
  {
   "cell_type": "code",
   "execution_count": 49,
   "metadata": {},
   "outputs": [
    {
     "data": {
      "text/plain": [
       "Girls    28380\n",
       "Boys     17700\n",
       "Name: Gender, dtype: int64"
      ]
     },
     "execution_count": 49,
     "metadata": {},
     "output_type": "execute_result"
    }
   ],
   "source": [
    "survey_data_row['Gender'].value_counts()"
   ]
  },
  {
   "cell_type": "code",
   "execution_count": 50,
   "metadata": {},
   "outputs": [
    {
     "data": {
      "image/png": "[encoded data removed]",
      "text/plain": [
       "<matplotlib.figure.Figure at 0x7f687e1fa0b8>"
      ]
     },
     "metadata": {},
     "output_type": "display_data"
    }
   ],
   "source": [
    "fig1, ax1 = plt.subplots()\n",
    "ax1.pie(survey_data_row['Gender'].value_counts() , labels=survey_data_row['Gender'].value_counts().index , autopct='%1.1f%%',\n",
    "        shadow=True, startangle=90)\n",
    "ax1.axis('equal')  # Equal aspect ratio ensures that pie is drawn as a circle.\n",
    "\n",
    "plt.show()"
   ]
  },
  {
   "cell_type": "markdown",
   "metadata": {},
   "source": [
    "#### so we have the percent of girls more than boys "
   ]
  },
  {
   "cell_type": "code",
   "execution_count": null,
   "metadata": {},
   "outputs": [],
   "source": []
  },
  {
   "cell_type": "markdown",
   "metadata": {},
   "source": [
    "### regarding question 3 we will perform unpaired t test between score of male and female , we will begin with the general data \n"
   ]
  },
  {
   "cell_type": "markdown",
   "metadata": {},
   "source": [
    "### we need to assume normality and equal variances to perform the test , since we have large enough sample, it tends to normal anyway"
   ]
  },
  {
   "cell_type": "markdown",
   "metadata": {},
   "source": [
    "### First : Testing whether there is difference between survey score in general between males and females ( on the MAIN data)"
   ]
  },
  {
   "cell_type": "markdown",
   "metadata": {},
   "source": [
    "#### we run unpaired / independent samples t test"
   ]
  },
  {
   "cell_type": "code",
   "execution_count": null,
   "metadata": {},
   "outputs": [],
   "source": []
  },
  {
   "cell_type": "code",
   "execution_count": 51,
   "metadata": {},
   "outputs": [],
   "source": [
    "general_test =stats.ttest_ind(survey_data_row.loc[survey_data_row.Gender=='Boys', ['Survey Score']], survey_data_row.loc[survey_data_row.Gender=='Girls', ['Survey Score']])"
   ]
  },
  {
   "cell_type": "code",
   "execution_count": 52,
   "metadata": {},
   "outputs": [
    {
     "data": {
      "text/plain": [
       "Ttest_indResult(statistic=array([-20.44470512]), pvalue=array([  1.72578688e-92]))"
      ]
     },
     "execution_count": 52,
     "metadata": {},
     "output_type": "execute_result"
    }
   ],
   "source": [
    "general_test"
   ]
  },
  {
   "cell_type": "code",
   "execution_count": 53,
   "metadata": {},
   "outputs": [
    {
     "data": {
      "text/plain": [
       "Survey Score    0.769637\n",
       "dtype: float64"
      ]
     },
     "execution_count": 53,
     "metadata": {},
     "output_type": "execute_result"
    }
   ],
   "source": [
    "survey_data_row.loc[survey_data_row.Gender=='Boys', ['Survey Score']].mean()"
   ]
  },
  {
   "cell_type": "code",
   "execution_count": 54,
   "metadata": {},
   "outputs": [
    {
     "data": {
      "text/plain": [
       "Survey Score    0.819326\n",
       "dtype: float64"
      ]
     },
     "execution_count": 54,
     "metadata": {},
     "output_type": "execute_result"
    }
   ],
   "source": [
    "survey_data_row.loc[survey_data_row.Gender=='Girls', ['Survey Score']].mean()"
   ]
  },
  {
   "cell_type": "markdown",
   "metadata": {},
   "source": [
    "#### we have p value of  1.72578688e-92 less a lot than alpha = 0.05 , since statistic is negative and average of survey score is larger for girls , we think that with confidence level 95% that in general population girls tend to respond with higher scores to the whole questions set"
   ]
  },
  {
   "cell_type": "markdown",
   "metadata": {},
   "source": [
    "### Second : Testing whether there is difference between average  survey score in  (parental involvement , teacher facility , and ICT skills ) related questions between males and females"
   ]
  },
  {
   "cell_type": "markdown",
   "metadata": {},
   "source": [
    "#### Now we transfer to the performance of boys vs girls regarding average of questions sets related to teachers' performance , parents performance and ict skills\n",
    "\n",
    "#### let' start with difference between boys , girls in parental involvement related questions"
   ]
  },
  {
   "cell_type": "markdown",
   "metadata": {},
   "source": [
    "### we perform independent sample t test between boys and girls regarding each of the questions related to parental involvement"
   ]
  },
  {
   "cell_type": "code",
   "execution_count": 55,
   "metadata": {},
   "outputs": [
    {
     "name": "stdout",
     "output_type": "stream",
     "text": [
      "\n",
      "1\n",
      "independent sample t test measuring whether boys and girls differ regarding Questionnaire score of the question : I want to be praised by parents when I perform well at school                                                     '\n",
      "         \n",
      "Ttest_indResult(statistic=-1.4672002157704185, pvalue=0.14273203881081081)\n",
      "_____________\n",
      "\n",
      "2\n",
      "independent sample t test measuring whether boys and girls differ regarding Questionnaire score of the question : My parents chat with me                                 '\n",
      "         \n",
      "Ttest_indResult(statistic=-6.0609337700383668, pvalue=2.1224161107886853e-09)\n",
      "_____________\n",
      "\n",
      "3\n",
      "independent sample t test measuring whether boys and girls differ regarding Questionnaire score of the question : My parents discuss my school performance with me                                   '\n",
      "         \n",
      "Ttest_indResult(statistic=-6.0937955412486327, pvalue=1.7456541070397788e-09)\n",
      "_____________\n",
      "\n",
      "4\n",
      "independent sample t test measuring whether boys and girls differ regarding Questionnaire score of the question : My parents encourage me to set my learning goal                                     '\n",
      "         \n",
      "Ttest_indResult(statistic=-7.4438940714883257, pvalue=2.6332895873571823e-13)\n",
      "_____________\n",
      "\n",
      "5\n",
      "independent sample t test measuring whether boys and girls differ regarding Questionnaire score of the question : My parents hired a private tutor to help me                                      '\n",
      "         \n",
      "Ttest_indResult(statistic=-0.55729321374262886, pvalue=0.57748991507120762)\n",
      "_____________\n",
      "\n",
      "6\n",
      "independent sample t test measuring whether boys and girls differ regarding Questionnaire score of the question : My parents support me with my homework                                       '\n",
      "         \n",
      "Ttest_indResult(statistic=-6.687029963861252, pvalue=4.3903533227594748e-11)\n",
      "_____________\n",
      "\n",
      "7\n",
      "independent sample t test measuring whether boys and girls differ regarding Questionnaire score of the question : My parents tutor me themselves                            '\n",
      "         \n",
      "Ttest_indResult(statistic=-3.5681116035991316, pvalue=0.00038193788470367046)\n",
      "_____________\n"
     ]
    }
   ],
   "source": [
    "for i in range (6,13):\n",
    "    print('')\n",
    "    print(i-5)\n",
    "    print ('independent sample t test measuring whether boys and girls differ regarding Questionnaire score of the question : ' + data_of_parents_restructured.columns[i] + \"'\" )\n",
    "    print('         ')\n",
    "    print(stats.ttest_ind(data_of_parents_restructured.loc[data_of_parents_restructured.Gender=='Boys', data_of_parents_restructured.columns[i]], data_of_parents_restructured.loc[data_of_parents_restructured.Gender=='Girls', data_of_parents_restructured.columns [i]]))\n",
    "    print('_____________')"
   ]
  },
  {
   "cell_type": "markdown",
   "metadata": {},
   "source": [
    "### from the results above we can state that with confidence level of 95% girls have higher score in survey score in all questions related to parental involvement except question \" My parents hired a private tutor to help me\" since all p values are below 0.05 and test score is negative indicationg that girls have higher average "
   ]
  },
  {
   "cell_type": "markdown",
   "metadata": {},
   "source": [
    "#### then we transfer to average questions related to teachers facility , investigating whether gender makes difference in them\n"
   ]
  },
  {
   "cell_type": "code",
   "execution_count": 56,
   "metadata": {},
   "outputs": [
    {
     "name": "stdout",
     "output_type": "stream",
     "text": [
      "\n",
      "1\n",
      "independent sample t test measuring whether boys and girls differ regarding Questionnaire score of the question : Followed the teachers  instructions in class                             '\n",
      "         \n",
      "Ttest_indResult(statistic=-5.5439398431497953, pvalue=4.0715570230774372e-08)\n",
      "_____________\n",
      "\n",
      "2\n",
      "independent sample t test measuring whether boys and girls differ regarding Questionnaire score of the question : I want to be praised by my teachers when I perform well                                        '\n",
      "         \n",
      "Ttest_indResult(statistic=-1.801483721222082, pvalue=0.072019795063970271)\n",
      "_____________\n",
      "\n",
      "3\n",
      "independent sample t test measuring whether boys and girls differ regarding Questionnaire score of the question : My teachers give students opportunities to express opinions                                             '\n",
      "         \n",
      "Ttest_indResult(statistic=-5.469882456860951, pvalue=6.1012316823295562e-08)\n",
      "_____________\n",
      "\n",
      "4\n",
      "independent sample t test measuring whether boys and girls differ regarding Questionnaire score of the question : My teachers take time to make sure I understand the material                                                   '\n",
      "         \n",
      "Ttest_indResult(statistic=-6.1073908520033848, pvalue=1.6096449857063153e-09)\n",
      "_____________\n",
      "\n",
      "5\n",
      "independent sample t test measuring whether boys and girls differ regarding Questionnaire score of the question : When I feel like giving up on a difficult task  my teachers encourage me to keep trying                                                                                '\n",
      "         \n",
      "Ttest_indResult(statistic=-5.0916748475547911, pvalue=4.4710853832462689e-07)\n",
      "_____________\n"
     ]
    }
   ],
   "source": [
    "for i in range (6,11):\n",
    "    print('')\n",
    "    print(i-5)\n",
    "    print ('independent sample t test measuring whether boys and girls differ regarding Questionnaire score of the question : ' + data_of_teachers_restructured.columns[i] + \"'\" )\n",
    "    print('         ')\n",
    "    print(stats.ttest_ind(data_of_teachers_restructured.loc[data_of_teachers_restructured.Gender=='Boys', data_of_teachers_restructured.columns[i]], data_of_teachers_restructured.loc[data_of_teachers_restructured.Gender=='Girls', data_of_teachers_restructured.columns [i]]))\n",
    "    print('_____________')"
   ]
  },
  {
   "cell_type": "markdown",
   "metadata": {},
   "source": [
    "### from the results above we can state that with confidence level of 95% girls have higher score in survey score in all questions related to teachers facility since all p values are below 0.05 and test score is negative indicationg that girls have higher average "
   ]
  },
  {
   "cell_type": "markdown",
   "metadata": {},
   "source": [
    "#### finally investigating if gender makes difference in performance at ICT skills"
   ]
  },
  {
   "cell_type": "code",
   "execution_count": 57,
   "metadata": {},
   "outputs": [
    {
     "name": "stdout",
     "output_type": "stream",
     "text": [
      "\n",
      "1\n",
      "independent sample t test measuring whether boys and girls differ regarding Questionnaire score of the question : I am comfortable using technology                                      '\n",
      "         \n",
      "Ttest_indResult(statistic=0.84897082156280246, pvalue=0.39616276173693432)\n",
      "_____________\n",
      "\n",
      "2\n",
      "independent sample t test measuring whether boys and girls differ regarding Questionnaire score of the question : I am really excited to explore new technology                                  '\n",
      "         \n",
      "Ttest_indResult(statistic=-1.8877703292366628, pvalue=0.059434542042942698)\n",
      "_____________\n",
      "\n",
      "3\n",
      "independent sample t test measuring whether boys and girls differ regarding Questionnaire score of the question : I do homework on a computer laptop                                                                 '\n",
      "         \n",
      "Ttest_indResult(statistic=-3.9989744484214316, pvalue=6.9778554924203534e-05)\n",
      "_____________\n",
      "\n",
      "4\n",
      "independent sample t test measuring whether boys and girls differ regarding Questionnaire score of the question : I feel confident in my ability to learn new technology                                               '\n",
      "         \n",
      "Ttest_indResult(statistic=-3.06949227590261, pvalue=0.0022198938054991697)\n",
      "_____________\n",
      "\n",
      "5\n",
      "independent sample t test measuring whether boys and girls differ regarding Questionnaire score of the question : I like playing educational games                             '\n",
      "         \n",
      "Ttest_indResult(statistic=-3.1808629010871456, pvalue=0.0015275392607460253)\n",
      "_____________\n",
      "\n",
      "6\n",
      "independent sample t test measuring whether boys and girls differ regarding Questionnaire score of the question : I like reading digitally rather than on paper                                          '\n",
      "         \n",
      "Ttest_indResult(statistic=0.5441727815595071, pvalue=0.58648093832929593)\n",
      "_____________\n",
      "\n",
      "7\n",
      "independent sample t test measuring whether boys and girls differ regarding Questionnaire score of the question : I play educational games                       '\n",
      "         \n",
      "Ttest_indResult(statistic=-2.6799505429134336, pvalue=0.0075214682481112485)\n",
      "_____________\n",
      "\n",
      "8\n",
      "independent sample t test measuring whether boys and girls differ regarding Questionnaire score of the question : Manipulating objects on the screen'\n",
      "         \n",
      "Ttest_indResult(statistic=0.52514491589581624, pvalue=0.59963441474743218)\n",
      "_____________\n",
      "\n",
      "9\n",
      "independent sample t test measuring whether boys and girls differ regarding Questionnaire score of the question : Navigating web pages'\n",
      "         \n",
      "Ttest_indResult(statistic=-2.0944943148412536, pvalue=0.036543969102233557)\n",
      "_____________\n",
      "\n",
      "10\n",
      "independent sample t test measuring whether boys and girls differ regarding Questionnaire score of the question : Reading and comprehending digital texts'\n",
      "         \n",
      "Ttest_indResult(statistic=-0.021642586266954335, pvalue=0.98273869881011822)\n",
      "_____________\n",
      "\n",
      "11\n",
      "independent sample t test measuring whether boys and girls differ regarding Questionnaire score of the question : Selecting texts with a mouse'\n",
      "         \n",
      "Ttest_indResult(statistic=-2.3409858424708934, pvalue=0.01948848695501601)\n",
      "_____________\n",
      "\n",
      "12\n",
      "independent sample t test measuring whether boys and girls differ regarding Questionnaire score of the question : Typing on a keyboard'\n",
      "         \n",
      "Ttest_indResult(statistic=-1.5450714593573642, pvalue=0.12274199360541835)\n",
      "_____________\n",
      "\n",
      "13\n",
      "independent sample t test measuring whether boys and girls differ regarding Questionnaire score of the question : When I come across problems with technology  I am confident that I can resolve them                                                         '\n",
      "         \n",
      "Ttest_indResult(statistic=0.37604397107420745, pvalue=0.70698832945461165)\n",
      "_____________\n"
     ]
    }
   ],
   "source": [
    "for i in range (6,19):\n",
    "    print('')\n",
    "    print(i-5)\n",
    "    print ('independent sample t test measuring whether boys and girls differ regarding Questionnaire score of the question : ' + data_of_ict_skills_restructured.columns[i] + \"'\" )\n",
    "    print('         ')\n",
    "    print(stats.ttest_ind(data_of_ict_skills_restructured.loc[data_of_ict_skills_restructured.Gender=='Boys', data_of_ict_skills_restructured.columns[i]], data_of_ict_skills_restructured.loc[data_of_ict_skills_restructured.Gender=='Girls', data_of_ict_skills_restructured.columns [i]]))\n",
    "    print('_____________')"
   ]
  },
  {
   "cell_type": "markdown",
   "metadata": {},
   "source": [
    "### from the above results we see that regarding  questions \"I am comfortable using technology\" , \"I like reading digitally rather than on paper\" , \"Manipulating objects on the screen\" , \"Reading and comprehending digital texts\",\"Reading and comprehending digital texts\" , \"Typing on a keyboard\",\"When I come across problems with technology  I am confident that I can resolve them\" with confidence level of 95% we have no significant evidence that there is difference between their survey score between boys and girls\n",
    "\n",
    "### Regarding other questions , since p value is less that 0.05 , and test statistic is negative indicating higher average for girls , we are confident with level of 95% that girls have higher score in these questions regarding ICT skills"
   ]
  },
  {
   "cell_type": "markdown",
   "metadata": {},
   "source": [
    "# Q4: What other interesting insights you can find from this data?"
   ]
  },
  {
   "cell_type": "markdown",
   "metadata": {},
   "source": [
    "### 1- some thing of interest i find is that we did not benefit from time spent to respond survey question, we can analyze relationship between evaluation of different prespectives , i.e parents , teachers ICT skills or other question categories .\n",
    "\n",
    "### 2- we could have made some inferrence on school effect , especially if we had more data (not just code) of schools , since  schools of higher quality may be more interested in ICT skills, and having better criteria in choosing teachers.\n",
    "\n",
    "### 3- we have a diversity of questions here like questions talks about using audio and video materials in education process like 'I watch educational videos' and other questions related to attitude of the student him/herself like 'I want top grades in most of my course'"
   ]
  },
  {
   "cell_type": "code",
   "execution_count": null,
   "metadata": {},
   "outputs": [],
   "source": []
  },
  {
   "cell_type": "code",
   "execution_count": null,
   "metadata": {},
   "outputs": [],
   "source": []
  }
 ],
 "metadata": {
  "kernelspec": {
   "display_name": "Python 3",
   "language": "python",
   "name": "python3"
  },
  "language_info": {
   "codemirror_mode": {
    "name": "ipython",
    "version": 3
   },
   "file_extension": ".py",
   "mimetype": "text/x-python",
   "name": "python",
   "nbconvert_exporter": "python",
   "pygments_lexer": "ipython3",
   "version": "3.6.3"
  }
 },
 "nbformat": 4,
 "nbformat_minor": 2
}

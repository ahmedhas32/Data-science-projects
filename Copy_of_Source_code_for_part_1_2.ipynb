{
  "nbformat": 4,
  "nbformat_minor": 0,
  "metadata": {
    "colab": {
      "name": "Copy of Source_code_for_part_1_2.ipynb",
      "provenance": [],
      "collapsed_sections": []
    },
    "kernelspec": {
      "name": "python3",
      "display_name": "Python 3"
    }
  },
  "cells": [
    {
      "cell_type": "markdown",
      "metadata": {
        "id": "uoRKj9wwkyAp",
        "colab_type": "text"
      },
      "source": [
        "### Import necessary libraries"
      ]
    },
    {
      "cell_type": "code",
      "metadata": {
        "id": "g_Ydxvuz-oq2",
        "colab_type": "code",
        "colab": {}
      },
      "source": [
        "import numpy as np\n",
        "import pandas as pd\n",
        "import matplotlib.pyplot as plt\n",
        "import seaborn as sns\n"
      ],
      "execution_count": 0,
      "outputs": []
    },
    {
      "cell_type": "code",
      "metadata": {
        "id": "IcjoPRF25nl0",
        "colab_type": "code",
        "colab": {}
      },
      "source": [
        "import math\n",
        "from scipy import stats"
      ],
      "execution_count": 0,
      "outputs": []
    },
    {
      "cell_type": "markdown",
      "metadata": {
        "id": "HPwpsrAOke_M",
        "colab_type": "text"
      },
      "source": [
        "# Part 1 – Clicked items investigation\n",
        "\n"
      ]
    },
    {
      "cell_type": "code",
      "metadata": {
        "id": "YydDbNt3_yW_",
        "colab_type": "code",
        "colab": {}
      },
      "source": [
        "raw_data_part1 = pd.read_csv('tr_data_analysis_case_study_part1.csv')"
      ],
      "execution_count": 0,
      "outputs": []
    },
    {
      "cell_type": "code",
      "metadata": {
        "id": "8DctuVWjBUkf",
        "colab_type": "code",
        "outputId": "60d6dcf4-f3bc-495e-b342-acc55973930d",
        "colab": {
          "base_uri": "https://localhost:8080/",
          "height": 287
        }
      },
      "source": [
        "raw_data_part1.describe()"
      ],
      "execution_count": 0,
      "outputs": [
        {
          "output_type": "execute_result",
          "data": {
            "text/html": [
              "<div>\n",
              "<style scoped>\n",
              "    .dataframe tbody tr th:only-of-type {\n",
              "        vertical-align: middle;\n",
              "    }\n",
              "\n",
              "    .dataframe tbody tr th {\n",
              "        vertical-align: top;\n",
              "    }\n",
              "\n",
              "    .dataframe thead th {\n",
              "        text-align: right;\n",
              "    }\n",
              "</style>\n",
              "<table border=\"1\" class=\"dataframe\">\n",
              "  <thead>\n",
              "    <tr style=\"text-align: right;\">\n",
              "      <th></th>\n",
              "      <th>item_id</th>\n",
              "      <th>impressions</th>\n",
              "      <th>clicks</th>\n",
              "      <th>avg_impressed_position</th>\n",
              "      <th>num_users</th>\n",
              "      <th>num_sessions</th>\n",
              "    </tr>\n",
              "  </thead>\n",
              "  <tbody>\n",
              "    <tr>\n",
              "      <th>count</th>\n",
              "      <td>1.300560e+05</td>\n",
              "      <td>130056.000000</td>\n",
              "      <td>130056.000000</td>\n",
              "      <td>130056.000000</td>\n",
              "      <td>130056.000000</td>\n",
              "      <td>130056.000000</td>\n",
              "    </tr>\n",
              "    <tr>\n",
              "      <th>mean</th>\n",
              "      <td>1.975953e+06</td>\n",
              "      <td>278.031648</td>\n",
              "      <td>12.897452</td>\n",
              "      <td>11.223035</td>\n",
              "      <td>167.495417</td>\n",
              "      <td>185.832072</td>\n",
              "    </tr>\n",
              "    <tr>\n",
              "      <th>std</th>\n",
              "      <td>1.879174e+06</td>\n",
              "      <td>830.236049</td>\n",
              "      <td>52.592582</td>\n",
              "      <td>4.086324</td>\n",
              "      <td>493.278475</td>\n",
              "      <td>556.626846</td>\n",
              "    </tr>\n",
              "    <tr>\n",
              "      <th>min</th>\n",
              "      <td>5.001000e+03</td>\n",
              "      <td>1.000000</td>\n",
              "      <td>1.000000</td>\n",
              "      <td>0.000000</td>\n",
              "      <td>1.000000</td>\n",
              "      <td>1.000000</td>\n",
              "    </tr>\n",
              "    <tr>\n",
              "      <th>25%</th>\n",
              "      <td>1.501388e+05</td>\n",
              "      <td>15.000000</td>\n",
              "      <td>1.000000</td>\n",
              "      <td>8.860000</td>\n",
              "      <td>8.000000</td>\n",
              "      <td>9.000000</td>\n",
              "    </tr>\n",
              "    <tr>\n",
              "      <th>50%</th>\n",
              "      <td>1.433822e+06</td>\n",
              "      <td>55.000000</td>\n",
              "      <td>2.000000</td>\n",
              "      <td>11.750000</td>\n",
              "      <td>32.000000</td>\n",
              "      <td>35.000000</td>\n",
              "    </tr>\n",
              "    <tr>\n",
              "      <th>75%</th>\n",
              "      <td>3.135273e+06</td>\n",
              "      <td>205.000000</td>\n",
              "      <td>7.000000</td>\n",
              "      <td>14.030000</td>\n",
              "      <td>122.000000</td>\n",
              "      <td>134.000000</td>\n",
              "    </tr>\n",
              "    <tr>\n",
              "      <th>max</th>\n",
              "      <td>7.174984e+06</td>\n",
              "      <td>38569.000000</td>\n",
              "      <td>2865.000000</td>\n",
              "      <td>24.000000</td>\n",
              "      <td>22576.000000</td>\n",
              "      <td>25987.000000</td>\n",
              "    </tr>\n",
              "  </tbody>\n",
              "</table>\n",
              "</div>"
            ],
            "text/plain": [
              "            item_id    impressions  ...      num_users   num_sessions\n",
              "count  1.300560e+05  130056.000000  ...  130056.000000  130056.000000\n",
              "mean   1.975953e+06     278.031648  ...     167.495417     185.832072\n",
              "std    1.879174e+06     830.236049  ...     493.278475     556.626846\n",
              "min    5.001000e+03       1.000000  ...       1.000000       1.000000\n",
              "25%    1.501388e+05      15.000000  ...       8.000000       9.000000\n",
              "50%    1.433822e+06      55.000000  ...      32.000000      35.000000\n",
              "75%    3.135273e+06     205.000000  ...     122.000000     134.000000\n",
              "max    7.174984e+06   38569.000000  ...   22576.000000   25987.000000\n",
              "\n",
              "[8 rows x 6 columns]"
            ]
          },
          "metadata": {
            "tags": []
          },
          "execution_count": 8
        }
      ]
    },
    {
      "cell_type": "code",
      "metadata": {
        "id": "j7RZrlvuBaR_",
        "colab_type": "code",
        "outputId": "8b9ba610-6b9d-4ff9-de0c-c3c6811ea670",
        "colab": {
          "base_uri": "https://localhost:8080/",
          "height": 230
        }
      },
      "source": [
        "raw_data_part1.info()"
      ],
      "execution_count": 0,
      "outputs": [
        {
          "output_type": "stream",
          "text": [
            "<class 'pandas.core.frame.DataFrame'>\n",
            "RangeIndex: 130056 entries, 0 to 130055\n",
            "Data columns (total 7 columns):\n",
            "item_id                        130056 non-null int64\n",
            "impressions                    130056 non-null int64\n",
            "clicks                         130056 non-null int64\n",
            "clicked_displayed_positions    130056 non-null object\n",
            "avg_impressed_position         130056 non-null float64\n",
            "num_users                      130056 non-null int64\n",
            "num_sessions                   130056 non-null int64\n",
            "dtypes: float64(1), int64(5), object(1)\n",
            "memory usage: 6.9+ MB\n"
          ],
          "name": "stdout"
        }
      ]
    },
    {
      "cell_type": "code",
      "metadata": {
        "id": "3H3pUjEjCDJx",
        "colab_type": "code",
        "outputId": "c95949cd-9b15-45f7-fff2-b06cd7a79dfa",
        "colab": {
          "base_uri": "https://localhost:8080/",
          "height": 197
        }
      },
      "source": [
        "raw_data_part1.head()"
      ],
      "execution_count": 0,
      "outputs": [
        {
          "output_type": "execute_result",
          "data": {
            "text/html": [
              "<div>\n",
              "<style scoped>\n",
              "    .dataframe tbody tr th:only-of-type {\n",
              "        vertical-align: middle;\n",
              "    }\n",
              "\n",
              "    .dataframe tbody tr th {\n",
              "        vertical-align: top;\n",
              "    }\n",
              "\n",
              "    .dataframe thead th {\n",
              "        text-align: right;\n",
              "    }\n",
              "</style>\n",
              "<table border=\"1\" class=\"dataframe\">\n",
              "  <thead>\n",
              "    <tr style=\"text-align: right;\">\n",
              "      <th></th>\n",
              "      <th>item_id</th>\n",
              "      <th>impressions</th>\n",
              "      <th>clicks</th>\n",
              "      <th>clicked_displayed_positions</th>\n",
              "      <th>avg_impressed_position</th>\n",
              "      <th>num_users</th>\n",
              "      <th>num_sessions</th>\n",
              "    </tr>\n",
              "  </thead>\n",
              "  <tbody>\n",
              "    <tr>\n",
              "      <th>0</th>\n",
              "      <td>5040</td>\n",
              "      <td>40</td>\n",
              "      <td>5</td>\n",
              "      <td>20;9;12;10;12</td>\n",
              "      <td>11.83</td>\n",
              "      <td>22</td>\n",
              "      <td>23</td>\n",
              "    </tr>\n",
              "    <tr>\n",
              "      <th>1</th>\n",
              "      <td>5053</td>\n",
              "      <td>83</td>\n",
              "      <td>3</td>\n",
              "      <td>2;3;0</td>\n",
              "      <td>7.88</td>\n",
              "      <td>43</td>\n",
              "      <td>52</td>\n",
              "    </tr>\n",
              "    <tr>\n",
              "      <th>2</th>\n",
              "      <td>5094</td>\n",
              "      <td>54</td>\n",
              "      <td>6</td>\n",
              "      <td>0;0;0;2;1;2</td>\n",
              "      <td>4.72</td>\n",
              "      <td>30</td>\n",
              "      <td>36</td>\n",
              "    </tr>\n",
              "    <tr>\n",
              "      <th>3</th>\n",
              "      <td>5101</td>\n",
              "      <td>30</td>\n",
              "      <td>2</td>\n",
              "      <td>5;3</td>\n",
              "      <td>4.97</td>\n",
              "      <td>17</td>\n",
              "      <td>20</td>\n",
              "    </tr>\n",
              "    <tr>\n",
              "      <th>4</th>\n",
              "      <td>5105</td>\n",
              "      <td>24</td>\n",
              "      <td>1</td>\n",
              "      <td>18</td>\n",
              "      <td>9.08</td>\n",
              "      <td>8</td>\n",
              "      <td>11</td>\n",
              "    </tr>\n",
              "  </tbody>\n",
              "</table>\n",
              "</div>"
            ],
            "text/plain": [
              "   item_id  impressions  ...  num_users num_sessions\n",
              "0     5040           40  ...         22           23\n",
              "1     5053           83  ...         43           52\n",
              "2     5094           54  ...         30           36\n",
              "3     5101           30  ...         17           20\n",
              "4     5105           24  ...          8           11\n",
              "\n",
              "[5 rows x 7 columns]"
            ]
          },
          "metadata": {
            "tags": []
          },
          "execution_count": 10
        }
      ]
    },
    {
      "cell_type": "markdown",
      "metadata": {
        "id": "Y_8vd2EUDSW_",
        "colab_type": "text"
      },
      "source": [
        "#### Now we make a copy of raw data to run our manipulations on "
      ]
    },
    {
      "cell_type": "code",
      "metadata": {
        "id": "FiDV6JpaCry7",
        "colab_type": "code",
        "colab": {}
      },
      "source": [
        "raw_data_part1_copy=raw_data_part1.copy()"
      ],
      "execution_count": 0,
      "outputs": []
    },
    {
      "cell_type": "markdown",
      "metadata": {
        "id": "SeV9DpQEH7ji",
        "colab_type": "text"
      },
      "source": [
        "#### making sure that each item is unique"
      ]
    },
    {
      "cell_type": "code",
      "metadata": {
        "id": "ulW0K2GsHxBD",
        "colab_type": "code",
        "outputId": "05b15544-4448-4cab-9fce-65bbba86623d",
        "colab": {
          "base_uri": "https://localhost:8080/",
          "height": 34
        }
      },
      "source": [
        "raw_data_part1_copy['item_id'].drop_duplicates().count()"
      ],
      "execution_count": 0,
      "outputs": [
        {
          "output_type": "execute_result",
          "data": {
            "text/plain": [
              "130056"
            ]
          },
          "metadata": {
            "tags": []
          },
          "execution_count": 12
        }
      ]
    },
    {
      "cell_type": "markdown",
      "metadata": {
        "id": "1vd5GAPuEj7-",
        "colab_type": "text"
      },
      "source": [
        "### first we need to clean data making it tidy (i.e each row is about a case and each column is about a variable  ) which is already achieved \n",
        "\n",
        "### we need to check that each column is stored in the correct data type\n",
        "\n",
        "### then we need to fix errors in the data"
      ]
    },
    {
      "cell_type": "markdown",
      "metadata": {
        "id": "OYG6Z5orFmC_",
        "colab_type": "text"
      },
      "source": [
        "### we have a column of clicked positions for each item (clicked_displayed_positions)\n",
        "\n",
        "### we first split it transferring  it to a list "
      ]
    },
    {
      "cell_type": "code",
      "metadata": {
        "id": "EMy1g2BQGG60",
        "colab_type": "code",
        "colab": {}
      },
      "source": [
        "raw_data_part1_copy['c_positions_list']=raw_data_part1_copy['clicked_displayed_positions'].str.split(';')"
      ],
      "execution_count": 0,
      "outputs": []
    },
    {
      "cell_type": "code",
      "metadata": {
        "id": "mwRvzaH8tcmQ",
        "colab_type": "code",
        "outputId": "338de05e-b1cf-4d67-a0ec-c305b75666de",
        "colab": {
          "base_uri": "https://localhost:8080/",
          "height": 377
        }
      },
      "source": [
        "raw_data_part1_copy.loc[:,['clicks','c_positions_list']].set_index(raw_data_part1_copy['item_id']).head(10)"
      ],
      "execution_count": 0,
      "outputs": [
        {
          "output_type": "execute_result",
          "data": {
            "text/html": [
              "<div>\n",
              "<style scoped>\n",
              "    .dataframe tbody tr th:only-of-type {\n",
              "        vertical-align: middle;\n",
              "    }\n",
              "\n",
              "    .dataframe tbody tr th {\n",
              "        vertical-align: top;\n",
              "    }\n",
              "\n",
              "    .dataframe thead th {\n",
              "        text-align: right;\n",
              "    }\n",
              "</style>\n",
              "<table border=\"1\" class=\"dataframe\">\n",
              "  <thead>\n",
              "    <tr style=\"text-align: right;\">\n",
              "      <th></th>\n",
              "      <th>clicks</th>\n",
              "      <th>c_positions_list</th>\n",
              "    </tr>\n",
              "    <tr>\n",
              "      <th>item_id</th>\n",
              "      <th></th>\n",
              "      <th></th>\n",
              "    </tr>\n",
              "  </thead>\n",
              "  <tbody>\n",
              "    <tr>\n",
              "      <th>5040</th>\n",
              "      <td>5</td>\n",
              "      <td>[20, 9, 12, 10, 12]</td>\n",
              "    </tr>\n",
              "    <tr>\n",
              "      <th>5053</th>\n",
              "      <td>3</td>\n",
              "      <td>[2, 3, 0]</td>\n",
              "    </tr>\n",
              "    <tr>\n",
              "      <th>5094</th>\n",
              "      <td>6</td>\n",
              "      <td>[0, 0, 0, 2, 1, 2]</td>\n",
              "    </tr>\n",
              "    <tr>\n",
              "      <th>5101</th>\n",
              "      <td>2</td>\n",
              "      <td>[5, 3]</td>\n",
              "    </tr>\n",
              "    <tr>\n",
              "      <th>5105</th>\n",
              "      <td>1</td>\n",
              "      <td>[18]</td>\n",
              "    </tr>\n",
              "    <tr>\n",
              "      <th>5115</th>\n",
              "      <td>2</td>\n",
              "      <td>[3, 6]</td>\n",
              "    </tr>\n",
              "    <tr>\n",
              "      <th>5121</th>\n",
              "      <td>7</td>\n",
              "      <td>[3, 1, -11, 8, -11, 8, 0]</td>\n",
              "    </tr>\n",
              "    <tr>\n",
              "      <th>5130</th>\n",
              "      <td>8</td>\n",
              "      <td>[0, 3, 1, 3, 3, 8, 1, 0]</td>\n",
              "    </tr>\n",
              "    <tr>\n",
              "      <th>5147</th>\n",
              "      <td>4</td>\n",
              "      <td>[0, 3, 14, 6]</td>\n",
              "    </tr>\n",
              "    <tr>\n",
              "      <th>5148</th>\n",
              "      <td>1</td>\n",
              "      <td>[10]</td>\n",
              "    </tr>\n",
              "  </tbody>\n",
              "</table>\n",
              "</div>"
            ],
            "text/plain": [
              "         clicks           c_positions_list\n",
              "item_id                                   \n",
              "5040          5        [20, 9, 12, 10, 12]\n",
              "5053          3                  [2, 3, 0]\n",
              "5094          6         [0, 0, 0, 2, 1, 2]\n",
              "5101          2                     [5, 3]\n",
              "5105          1                       [18]\n",
              "5115          2                     [3, 6]\n",
              "5121          7  [3, 1, -11, 8, -11, 8, 0]\n",
              "5130          8   [0, 3, 1, 3, 3, 8, 1, 0]\n",
              "5147          4              [0, 3, 14, 6]\n",
              "5148          1                       [10]"
            ]
          },
          "metadata": {
            "tags": []
          },
          "execution_count": 14
        }
      ]
    },
    {
      "cell_type": "markdown",
      "metadata": {
        "id": "x-B1bjtxFcGl",
        "colab_type": "text"
      },
      "source": [
        "#### Here we notice that positions, despite integers , they are written in data as strings \n",
        "\n",
        "### this needs to be fixed"
      ]
    },
    {
      "cell_type": "markdown",
      "metadata": {
        "id": "Ogxz5k2M4ZR8",
        "colab_type": "text"
      },
      "source": [
        "#### also we notice some negative values for positions , which we can consider as outliers so we need to correct them, we can consider the absolute value as a correction"
      ]
    },
    {
      "cell_type": "markdown",
      "metadata": {
        "id": "iW3J5MqDjJq1",
        "colab_type": "text"
      },
      "source": [
        "#### Another importent issue, we have 0 denotes the first position , 1 denotes the second position and so on, since we will need to calculate average clicked  position, this will lead to mis-calculation"
      ]
    },
    {
      "cell_type": "markdown",
      "metadata": {
        "id": "H9AJUf3aF_a8",
        "colab_type": "text"
      },
      "source": [
        "#### in the following loop we fix these  issues "
      ]
    },
    {
      "cell_type": "code",
      "metadata": {
        "id": "owfSJ1QQ3rXq",
        "colab_type": "code",
        "colab": {}
      },
      "source": [
        "a=[]\n",
        "for b in raw_data_part1_copy['c_positions_list']:\n",
        "  f=[]\n",
        "  for i in b:\n",
        "      j=int(i)\n",
        "      h=abs(j)+1\n",
        "      f.append(h)\n",
        "  a.append(f)\n",
        "\n",
        "  \n"
      ],
      "execution_count": 0,
      "outputs": []
    },
    {
      "cell_type": "code",
      "metadata": {
        "id": "Z9-VH5RQ4A0P",
        "colab_type": "code",
        "outputId": "78d20171-1326-4a77-8f02-557facd73ed8",
        "colab": {
          "base_uri": "https://localhost:8080/",
          "height": 194
        }
      },
      "source": [
        "a[0:10]"
      ],
      "execution_count": 0,
      "outputs": [
        {
          "output_type": "execute_result",
          "data": {
            "text/plain": [
              "[[21, 10, 13, 11, 13],\n",
              " [3, 4, 1],\n",
              " [1, 1, 1, 3, 2, 3],\n",
              " [6, 4],\n",
              " [19],\n",
              " [4, 7],\n",
              " [4, 2, 12, 9, 12, 9, 1],\n",
              " [1, 4, 2, 4, 4, 9, 2, 1],\n",
              " [1, 4, 15, 7],\n",
              " [11]]"
            ]
          },
          "metadata": {
            "tags": []
          },
          "execution_count": 16
        }
      ]
    },
    {
      "cell_type": "markdown",
      "metadata": {
        "id": "6RhpzXCOGYuA",
        "colab_type": "text"
      },
      "source": [
        "#### then we merge the clean 'c_positions_list' column into the data"
      ]
    },
    {
      "cell_type": "code",
      "metadata": {
        "id": "MWeijrZ742Zz",
        "colab_type": "code",
        "colab": {}
      },
      "source": [
        " raw_data_part1_copy['c_positions_list_correct']=a"
      ],
      "execution_count": 0,
      "outputs": []
    },
    {
      "cell_type": "markdown",
      "metadata": {
        "id": "pM5ofnmFGIu_",
        "colab_type": "text"
      },
      "source": [
        "### just we make sure that the new column 'c_positions_list_correct' contains positions correct and on the right format (integers not strings)"
      ]
    },
    {
      "cell_type": "code",
      "metadata": {
        "id": "i_wCMvoS5C-8",
        "colab_type": "code",
        "outputId": "efc6bedd-075a-4bdf-ce70-8b42ec92a341",
        "colab": {
          "base_uri": "https://localhost:8080/",
          "height": 377
        }
      },
      "source": [
        "raw_data_part1_copy.loc[:,['clicks','c_positions_list','c_positions_list_correct']].set_index(raw_data_part1_copy['item_id']).head(10)"
      ],
      "execution_count": 0,
      "outputs": [
        {
          "output_type": "execute_result",
          "data": {
            "text/html": [
              "<div>\n",
              "<style scoped>\n",
              "    .dataframe tbody tr th:only-of-type {\n",
              "        vertical-align: middle;\n",
              "    }\n",
              "\n",
              "    .dataframe tbody tr th {\n",
              "        vertical-align: top;\n",
              "    }\n",
              "\n",
              "    .dataframe thead th {\n",
              "        text-align: right;\n",
              "    }\n",
              "</style>\n",
              "<table border=\"1\" class=\"dataframe\">\n",
              "  <thead>\n",
              "    <tr style=\"text-align: right;\">\n",
              "      <th></th>\n",
              "      <th>clicks</th>\n",
              "      <th>c_positions_list</th>\n",
              "      <th>c_positions_list_correct</th>\n",
              "    </tr>\n",
              "    <tr>\n",
              "      <th>item_id</th>\n",
              "      <th></th>\n",
              "      <th></th>\n",
              "      <th></th>\n",
              "    </tr>\n",
              "  </thead>\n",
              "  <tbody>\n",
              "    <tr>\n",
              "      <th>5040</th>\n",
              "      <td>5</td>\n",
              "      <td>[20, 9, 12, 10, 12]</td>\n",
              "      <td>[21, 10, 13, 11, 13]</td>\n",
              "    </tr>\n",
              "    <tr>\n",
              "      <th>5053</th>\n",
              "      <td>3</td>\n",
              "      <td>[2, 3, 0]</td>\n",
              "      <td>[3, 4, 1]</td>\n",
              "    </tr>\n",
              "    <tr>\n",
              "      <th>5094</th>\n",
              "      <td>6</td>\n",
              "      <td>[0, 0, 0, 2, 1, 2]</td>\n",
              "      <td>[1, 1, 1, 3, 2, 3]</td>\n",
              "    </tr>\n",
              "    <tr>\n",
              "      <th>5101</th>\n",
              "      <td>2</td>\n",
              "      <td>[5, 3]</td>\n",
              "      <td>[6, 4]</td>\n",
              "    </tr>\n",
              "    <tr>\n",
              "      <th>5105</th>\n",
              "      <td>1</td>\n",
              "      <td>[18]</td>\n",
              "      <td>[19]</td>\n",
              "    </tr>\n",
              "    <tr>\n",
              "      <th>5115</th>\n",
              "      <td>2</td>\n",
              "      <td>[3, 6]</td>\n",
              "      <td>[4, 7]</td>\n",
              "    </tr>\n",
              "    <tr>\n",
              "      <th>5121</th>\n",
              "      <td>7</td>\n",
              "      <td>[3, 1, -11, 8, -11, 8, 0]</td>\n",
              "      <td>[4, 2, 12, 9, 12, 9, 1]</td>\n",
              "    </tr>\n",
              "    <tr>\n",
              "      <th>5130</th>\n",
              "      <td>8</td>\n",
              "      <td>[0, 3, 1, 3, 3, 8, 1, 0]</td>\n",
              "      <td>[1, 4, 2, 4, 4, 9, 2, 1]</td>\n",
              "    </tr>\n",
              "    <tr>\n",
              "      <th>5147</th>\n",
              "      <td>4</td>\n",
              "      <td>[0, 3, 14, 6]</td>\n",
              "      <td>[1, 4, 15, 7]</td>\n",
              "    </tr>\n",
              "    <tr>\n",
              "      <th>5148</th>\n",
              "      <td>1</td>\n",
              "      <td>[10]</td>\n",
              "      <td>[11]</td>\n",
              "    </tr>\n",
              "  </tbody>\n",
              "</table>\n",
              "</div>"
            ],
            "text/plain": [
              "         clicks           c_positions_list  c_positions_list_correct\n",
              "item_id                                                             \n",
              "5040          5        [20, 9, 12, 10, 12]      [21, 10, 13, 11, 13]\n",
              "5053          3                  [2, 3, 0]                 [3, 4, 1]\n",
              "5094          6         [0, 0, 0, 2, 1, 2]        [1, 1, 1, 3, 2, 3]\n",
              "5101          2                     [5, 3]                    [6, 4]\n",
              "5105          1                       [18]                      [19]\n",
              "5115          2                     [3, 6]                    [4, 7]\n",
              "5121          7  [3, 1, -11, 8, -11, 8, 0]   [4, 2, 12, 9, 12, 9, 1]\n",
              "5130          8   [0, 3, 1, 3, 3, 8, 1, 0]  [1, 4, 2, 4, 4, 9, 2, 1]\n",
              "5147          4              [0, 3, 14, 6]             [1, 4, 15, 7]\n",
              "5148          1                       [10]                      [11]"
            ]
          },
          "metadata": {
            "tags": []
          },
          "execution_count": 18
        }
      ]
    },
    {
      "cell_type": "markdown",
      "metadata": {
        "id": "T9-rJKc9kPIA",
        "colab_type": "text"
      },
      "source": [
        "#### Dropping 'clicked_displayed_positions' and 'c_positions_list' since they are not needed now, we drop them for better performance"
      ]
    },
    {
      "cell_type": "code",
      "metadata": {
        "colab_type": "code",
        "id": "zNEa6wYbkk3d",
        "colab": {}
      },
      "source": [
        "raw_data_part1_copy=raw_data_part1_copy.drop(columns=['c_positions_list','clicked_displayed_positions'])"
      ],
      "execution_count": 0,
      "outputs": []
    },
    {
      "cell_type": "markdown",
      "metadata": {
        "id": "PbsPq6Yd7xiX",
        "colab_type": "text"
      },
      "source": [
        "#### after cleaning Data , let's Answer the questions"
      ]
    },
    {
      "cell_type": "markdown",
      "metadata": {
        "id": "NiFI43WGDdg5",
        "colab_type": "text"
      },
      "source": [
        "## Q1 : Calculate the CTR of each item. What is the overall avg CTR?"
      ]
    },
    {
      "cell_type": "markdown",
      "metadata": {
        "id": "7YHK7DLoCTnE",
        "colab_type": "text"
      },
      "source": [
        "### Average click through rate can be described as the ratio of ad clicks to impressions"
      ]
    },
    {
      "cell_type": "code",
      "metadata": {
        "id": "EF3tnUTADZ_W",
        "colab_type": "code",
        "colab": {}
      },
      "source": [
        "raw_data_part1_copy['CTR']=np.round((raw_data_part1_copy['clicks']*100/raw_data_part1_copy['impressions']),2)"
      ],
      "execution_count": 0,
      "outputs": []
    },
    {
      "cell_type": "code",
      "metadata": {
        "id": "Agvk4MMWD_45",
        "colab_type": "code",
        "outputId": "88d80ea2-97c8-4100-87de-17e46e77daf2",
        "colab": {
          "base_uri": "https://localhost:8080/",
          "height": 230
        }
      },
      "source": [
        "raw_data_part1_copy.set_index(raw_data_part1_copy['item_id'])['CTR'].head(10)"
      ],
      "execution_count": 0,
      "outputs": [
        {
          "output_type": "execute_result",
          "data": {
            "text/plain": [
              "item_id\n",
              "5040    12.50\n",
              "5053     3.61\n",
              "5094    11.11\n",
              "5101     6.67\n",
              "5105     4.17\n",
              "5115     3.03\n",
              "5121     5.65\n",
              "5130     8.08\n",
              "5147    10.81\n",
              "5148     4.00\n",
              "Name: CTR, dtype: float64"
            ]
          },
          "metadata": {
            "tags": []
          },
          "execution_count": 22
        }
      ]
    },
    {
      "cell_type": "code",
      "metadata": {
        "id": "tWoDBhKrEwEw",
        "colab_type": "code",
        "outputId": "7f207c7c-20e7-4899-cc66-aa0b5a304689",
        "colab": {
          "base_uri": "https://localhost:8080/",
          "height": 34
        }
      },
      "source": [
        "np.round(raw_data_part1_copy['CTR'].mean(),2)"
      ],
      "execution_count": 0,
      "outputs": [
        {
          "output_type": "execute_result",
          "data": {
            "text/plain": [
              "11.46"
            ]
          },
          "metadata": {
            "tags": []
          },
          "execution_count": 23
        }
      ]
    },
    {
      "cell_type": "markdown",
      "metadata": {
        "id": "QpQLzikNFbfu",
        "colab_type": "text"
      },
      "source": [
        "## Q2 :What is the distribution of clicks among the top 25 positions? What is the share of the first positions? On how many positions are approx. Half of the click-outs made?"
      ]
    },
    {
      "cell_type": "markdown",
      "metadata": {
        "id": "GGIZDywxo6Jy",
        "colab_type": "text"
      },
      "source": [
        "### let's explore how to check clicks' distribution between positions for each hotel"
      ]
    },
    {
      "cell_type": "code",
      "metadata": {
        "id": "IyTN6Fw5RDga",
        "colab_type": "code",
        "outputId": "70974d44-639b-426e-b49e-6eb81aeac110",
        "colab": {
          "base_uri": "https://localhost:8080/",
          "height": 227
        }
      },
      "source": [
        "raw_data_part1_copy.loc[:,['clicks','c_positions_list_correct']].set_index(raw_data_part1_copy['item_id']).head()"
      ],
      "execution_count": 0,
      "outputs": [
        {
          "output_type": "execute_result",
          "data": {
            "text/html": [
              "<div>\n",
              "<style scoped>\n",
              "    .dataframe tbody tr th:only-of-type {\n",
              "        vertical-align: middle;\n",
              "    }\n",
              "\n",
              "    .dataframe tbody tr th {\n",
              "        vertical-align: top;\n",
              "    }\n",
              "\n",
              "    .dataframe thead th {\n",
              "        text-align: right;\n",
              "    }\n",
              "</style>\n",
              "<table border=\"1\" class=\"dataframe\">\n",
              "  <thead>\n",
              "    <tr style=\"text-align: right;\">\n",
              "      <th></th>\n",
              "      <th>clicks</th>\n",
              "      <th>c_positions_list_correct</th>\n",
              "    </tr>\n",
              "    <tr>\n",
              "      <th>item_id</th>\n",
              "      <th></th>\n",
              "      <th></th>\n",
              "    </tr>\n",
              "  </thead>\n",
              "  <tbody>\n",
              "    <tr>\n",
              "      <th>5040</th>\n",
              "      <td>5</td>\n",
              "      <td>[21, 10, 13, 11, 13]</td>\n",
              "    </tr>\n",
              "    <tr>\n",
              "      <th>5053</th>\n",
              "      <td>3</td>\n",
              "      <td>[3, 4, 1]</td>\n",
              "    </tr>\n",
              "    <tr>\n",
              "      <th>5094</th>\n",
              "      <td>6</td>\n",
              "      <td>[1, 1, 1, 3, 2, 3]</td>\n",
              "    </tr>\n",
              "    <tr>\n",
              "      <th>5101</th>\n",
              "      <td>2</td>\n",
              "      <td>[6, 4]</td>\n",
              "    </tr>\n",
              "    <tr>\n",
              "      <th>5105</th>\n",
              "      <td>1</td>\n",
              "      <td>[19]</td>\n",
              "    </tr>\n",
              "  </tbody>\n",
              "</table>\n",
              "</div>"
            ],
            "text/plain": [
              "         clicks c_positions_list_correct\n",
              "item_id                                 \n",
              "5040          5     [21, 10, 13, 11, 13]\n",
              "5053          3                [3, 4, 1]\n",
              "5094          6       [1, 1, 1, 3, 2, 3]\n",
              "5101          2                   [6, 4]\n",
              "5105          1                     [19]"
            ]
          },
          "metadata": {
            "tags": []
          },
          "execution_count": 24
        }
      ]
    },
    {
      "cell_type": "markdown",
      "metadata": {
        "id": "H1mLhIp8RT3k",
        "colab_type": "text"
      },
      "source": [
        "### Here we find that the hotel '5040' was clicked five times in the positions [21, 10, 13, 11, 13] and so on for each hotel , thus we need to get the summation of clicks that each hotel was clicked , "
      ]
    },
    {
      "cell_type": "markdown",
      "metadata": {
        "id": "Q7cFD6tskopA",
        "colab_type": "text"
      },
      "source": [
        "### we first check how many clicks happened"
      ]
    },
    {
      "cell_type": "markdown",
      "metadata": {
        "id": "cs4s5Jxvkmot",
        "colab_type": "text"
      },
      "source": [
        "we sum the column 'clicks' for all hotels"
      ]
    },
    {
      "cell_type": "code",
      "metadata": {
        "id": "ydkLsfvhVAGv",
        "colab_type": "code",
        "colab": {}
      },
      "source": [
        "number_of_clicks=raw_data_part1_copy['clicks'].sum()"
      ],
      "execution_count": 0,
      "outputs": []
    },
    {
      "cell_type": "code",
      "metadata": {
        "id": "4hVEkeTzkxQZ",
        "colab_type": "code",
        "outputId": "0cb505f2-903f-489e-f5f1-1ad9d518af6c",
        "colab": {
          "base_uri": "https://localhost:8080/",
          "height": 34
        }
      },
      "source": [
        "number_of_clicks"
      ],
      "execution_count": 0,
      "outputs": [
        {
          "output_type": "execute_result",
          "data": {
            "text/plain": [
              "1677391"
            ]
          },
          "metadata": {
            "tags": []
          },
          "execution_count": 26
        }
      ]
    },
    {
      "cell_type": "markdown",
      "metadata": {
        "id": "MqQAC9VHk7Sg",
        "colab_type": "text"
      },
      "source": [
        "### then we take number of clicks for each of the first 25 positions"
      ]
    },
    {
      "cell_type": "markdown",
      "metadata": {
        "id": "S_BbhQHCthVU",
        "colab_type": "text"
      },
      "source": [
        " let's display the first 5 items clicks and positions they were clicked on , we will need them as a sample to demonstrate how we got number of times each position was clicked"
      ]
    },
    {
      "cell_type": "code",
      "metadata": {
        "id": "ZGOXu3bm8Iy5",
        "colab_type": "code",
        "outputId": "8f62aecf-d48d-45a3-db6c-b90011577580",
        "colab": {
          "base_uri": "https://localhost:8080/",
          "height": 227
        }
      },
      "source": [
        "raw_data_part1_copy.loc[:,['clicks','c_positions_list_correct']].set_index(raw_data_part1_copy['item_id']).head()"
      ],
      "execution_count": 0,
      "outputs": [
        {
          "output_type": "execute_result",
          "data": {
            "text/html": [
              "<div>\n",
              "<style scoped>\n",
              "    .dataframe tbody tr th:only-of-type {\n",
              "        vertical-align: middle;\n",
              "    }\n",
              "\n",
              "    .dataframe tbody tr th {\n",
              "        vertical-align: top;\n",
              "    }\n",
              "\n",
              "    .dataframe thead th {\n",
              "        text-align: right;\n",
              "    }\n",
              "</style>\n",
              "<table border=\"1\" class=\"dataframe\">\n",
              "  <thead>\n",
              "    <tr style=\"text-align: right;\">\n",
              "      <th></th>\n",
              "      <th>clicks</th>\n",
              "      <th>c_positions_list_correct</th>\n",
              "    </tr>\n",
              "    <tr>\n",
              "      <th>item_id</th>\n",
              "      <th></th>\n",
              "      <th></th>\n",
              "    </tr>\n",
              "  </thead>\n",
              "  <tbody>\n",
              "    <tr>\n",
              "      <th>5040</th>\n",
              "      <td>5</td>\n",
              "      <td>[21, 10, 13, 11, 13]</td>\n",
              "    </tr>\n",
              "    <tr>\n",
              "      <th>5053</th>\n",
              "      <td>3</td>\n",
              "      <td>[3, 4, 1]</td>\n",
              "    </tr>\n",
              "    <tr>\n",
              "      <th>5094</th>\n",
              "      <td>6</td>\n",
              "      <td>[1, 1, 1, 3, 2, 3]</td>\n",
              "    </tr>\n",
              "    <tr>\n",
              "      <th>5101</th>\n",
              "      <td>2</td>\n",
              "      <td>[6, 4]</td>\n",
              "    </tr>\n",
              "    <tr>\n",
              "      <th>5105</th>\n",
              "      <td>1</td>\n",
              "      <td>[19]</td>\n",
              "    </tr>\n",
              "  </tbody>\n",
              "</table>\n",
              "</div>"
            ],
            "text/plain": [
              "         clicks c_positions_list_correct\n",
              "item_id                                 \n",
              "5040          5     [21, 10, 13, 11, 13]\n",
              "5053          3                [3, 4, 1]\n",
              "5094          6       [1, 1, 1, 3, 2, 3]\n",
              "5101          2                   [6, 4]\n",
              "5105          1                     [19]"
            ]
          },
          "metadata": {
            "tags": []
          },
          "execution_count": 27
        }
      ]
    },
    {
      "cell_type": "markdown",
      "metadata": {
        "id": "-LmtErG6qMA9",
        "colab_type": "text"
      },
      "source": [
        "#### first , we see the clicked position for each item\n",
        "\n",
        "#### then for each item we get how many times it was clicked when it was in each position.\n",
        "#### for example , from the above 5 cases, we see that the item number'5040' was clicked 2 times at position'12' which is the thirteeth position and one time for each of positions '9' , '10' and '20' , and so on\n",
        "\n",
        "#### then we sum the number of time each position was clicked (i.e item no '5053' was clicked a time on position'0' and item no '5094' was clicked 3 times at position 0 so in these first 5 items position 0 occured for 4 times ) as demonstrated in the below line:\n",
        "\n"
      ]
    },
    {
      "cell_type": "code",
      "metadata": {
        "id": "BLut13f8yIhb",
        "colab_type": "code",
        "outputId": "a94b068d-70b1-40d3-9fe6-197d0c8c5e90",
        "colab": {
          "base_uri": "https://localhost:8080/",
          "height": 34
        }
      },
      "source": [
        "one=[]\n",
        "\n",
        "for i  in raw_data_part1_copy['c_positions_list_correct']:\n",
        "    j=i.count(1)\n",
        "    one.append(j)\n",
        "\n",
        "    \n",
        "one[0:5]\n"
      ],
      "execution_count": 0,
      "outputs": [
        {
          "output_type": "execute_result",
          "data": {
            "text/plain": [
              "[0, 1, 3, 0, 0]"
            ]
          },
          "metadata": {
            "tags": []
          },
          "execution_count": 28
        }
      ]
    },
    {
      "cell_type": "markdown",
      "metadata": {
        "id": "gy9CB1uWyiRy",
        "colab_type": "text"
      },
      "source": [
        "#### we do the same for all 130056 items by the loop below"
      ]
    },
    {
      "cell_type": "code",
      "metadata": {
        "id": "WUr7tVSLWrAs",
        "colab_type": "code",
        "colab": {}
      },
      "source": [
        "\n",
        "d=[]\n",
        "\n",
        "for h in range(1,26):\n",
        "      f=[]\n",
        "      for i  in raw_data_part1_copy['c_positions_list_correct']:\n",
        "          j=i.count(h)\n",
        "          f.append(j)\n",
        "      k=pd.Series(f).sum()\n",
        "      d.append(k)\n",
        "    \n",
        "\n",
        "\n"
      ],
      "execution_count": 0,
      "outputs": []
    },
    {
      "cell_type": "markdown",
      "metadata": {
        "id": "lEjG9uXknaA_",
        "colab_type": "text"
      },
      "source": [
        "### we  display number of clicks per position into a dataframe"
      ]
    },
    {
      "cell_type": "code",
      "metadata": {
        "id": "OJnvgMT7j_O2",
        "colab_type": "code",
        "colab": {}
      },
      "source": [
        "clicks_per_position=pd.DataFrame(d, columns=['number_of_clicks'], index=range(1,26))\n"
      ],
      "execution_count": 0,
      "outputs": []
    },
    {
      "cell_type": "code",
      "metadata": {
        "id": "FYw4rDm0H5-U",
        "colab_type": "code",
        "colab": {}
      },
      "source": [
        "clicks_per_position.index.name = 'position'"
      ],
      "execution_count": 0,
      "outputs": []
    },
    {
      "cell_type": "code",
      "metadata": {
        "id": "w_rLlR_l66LI",
        "colab_type": "code",
        "outputId": "5d878102-1e4a-4ad8-e187-2dbadf287368",
        "colab": {
          "base_uri": "https://localhost:8080/",
          "height": 827
        }
      },
      "source": [
        "clicks_per_position"
      ],
      "execution_count": 0,
      "outputs": [
        {
          "output_type": "execute_result",
          "data": {
            "text/html": [
              "<div>\n",
              "<style scoped>\n",
              "    .dataframe tbody tr th:only-of-type {\n",
              "        vertical-align: middle;\n",
              "    }\n",
              "\n",
              "    .dataframe tbody tr th {\n",
              "        vertical-align: top;\n",
              "    }\n",
              "\n",
              "    .dataframe thead th {\n",
              "        text-align: right;\n",
              "    }\n",
              "</style>\n",
              "<table border=\"1\" class=\"dataframe\">\n",
              "  <thead>\n",
              "    <tr style=\"text-align: right;\">\n",
              "      <th></th>\n",
              "      <th>number_of_clicks</th>\n",
              "    </tr>\n",
              "    <tr>\n",
              "      <th>position</th>\n",
              "      <th></th>\n",
              "    </tr>\n",
              "  </thead>\n",
              "  <tbody>\n",
              "    <tr>\n",
              "      <th>1</th>\n",
              "      <td>480309</td>\n",
              "    </tr>\n",
              "    <tr>\n",
              "      <th>2</th>\n",
              "      <td>189940</td>\n",
              "    </tr>\n",
              "    <tr>\n",
              "      <th>3</th>\n",
              "      <td>126803</td>\n",
              "    </tr>\n",
              "    <tr>\n",
              "      <th>4</th>\n",
              "      <td>97318</td>\n",
              "    </tr>\n",
              "    <tr>\n",
              "      <th>5</th>\n",
              "      <td>78927</td>\n",
              "    </tr>\n",
              "    <tr>\n",
              "      <th>6</th>\n",
              "      <td>66361</td>\n",
              "    </tr>\n",
              "    <tr>\n",
              "      <th>7</th>\n",
              "      <td>57307</td>\n",
              "    </tr>\n",
              "    <tr>\n",
              "      <th>8</th>\n",
              "      <td>49121</td>\n",
              "    </tr>\n",
              "    <tr>\n",
              "      <th>9</th>\n",
              "      <td>43563</td>\n",
              "    </tr>\n",
              "    <tr>\n",
              "      <th>10</th>\n",
              "      <td>39756</td>\n",
              "    </tr>\n",
              "    <tr>\n",
              "      <th>11</th>\n",
              "      <td>35134</td>\n",
              "    </tr>\n",
              "    <tr>\n",
              "      <th>12</th>\n",
              "      <td>165916</td>\n",
              "    </tr>\n",
              "    <tr>\n",
              "      <th>13</th>\n",
              "      <td>29395</td>\n",
              "    </tr>\n",
              "    <tr>\n",
              "      <th>14</th>\n",
              "      <td>25782</td>\n",
              "    </tr>\n",
              "    <tr>\n",
              "      <th>15</th>\n",
              "      <td>23677</td>\n",
              "    </tr>\n",
              "    <tr>\n",
              "      <th>16</th>\n",
              "      <td>22706</td>\n",
              "    </tr>\n",
              "    <tr>\n",
              "      <th>17</th>\n",
              "      <td>20243</td>\n",
              "    </tr>\n",
              "    <tr>\n",
              "      <th>18</th>\n",
              "      <td>19109</td>\n",
              "    </tr>\n",
              "    <tr>\n",
              "      <th>19</th>\n",
              "      <td>17635</td>\n",
              "    </tr>\n",
              "    <tr>\n",
              "      <th>20</th>\n",
              "      <td>16141</td>\n",
              "    </tr>\n",
              "    <tr>\n",
              "      <th>21</th>\n",
              "      <td>15137</td>\n",
              "    </tr>\n",
              "    <tr>\n",
              "      <th>22</th>\n",
              "      <td>14596</td>\n",
              "    </tr>\n",
              "    <tr>\n",
              "      <th>23</th>\n",
              "      <td>13452</td>\n",
              "    </tr>\n",
              "    <tr>\n",
              "      <th>24</th>\n",
              "      <td>13240</td>\n",
              "    </tr>\n",
              "    <tr>\n",
              "      <th>25</th>\n",
              "      <td>15823</td>\n",
              "    </tr>\n",
              "  </tbody>\n",
              "</table>\n",
              "</div>"
            ],
            "text/plain": [
              "          number_of_clicks\n",
              "position                  \n",
              "1                   480309\n",
              "2                   189940\n",
              "3                   126803\n",
              "4                    97318\n",
              "5                    78927\n",
              "6                    66361\n",
              "7                    57307\n",
              "8                    49121\n",
              "9                    43563\n",
              "10                   39756\n",
              "11                   35134\n",
              "12                  165916\n",
              "13                   29395\n",
              "14                   25782\n",
              "15                   23677\n",
              "16                   22706\n",
              "17                   20243\n",
              "18                   19109\n",
              "19                   17635\n",
              "20                   16141\n",
              "21                   15137\n",
              "22                   14596\n",
              "23                   13452\n",
              "24                   13240\n",
              "25                   15823"
            ]
          },
          "metadata": {
            "tags": []
          },
          "execution_count": 32
        }
      ]
    },
    {
      "cell_type": "markdown",
      "metadata": {
        "id": "NkDcQVAdyucI",
        "colab_type": "text"
      },
      "source": [
        "#### then we take percentage of total clicks (that was calculated above) and the cumulative  percentage for each of the first 25 positions"
      ]
    },
    {
      "cell_type": "code",
      "metadata": {
        "id": "AvNQxuYMm5R_",
        "colab_type": "code",
        "colab": {}
      },
      "source": [
        "clicks_per_position['position_pct']=np.round((clicks_per_position['number_of_clicks']*100/number_of_clicks),2)"
      ],
      "execution_count": 0,
      "outputs": []
    },
    {
      "cell_type": "code",
      "metadata": {
        "id": "VgAmiE9LMsUP",
        "colab_type": "code",
        "colab": {}
      },
      "source": [
        "clicks_per_position['cummulitive_pct']=np.round((clicks_per_position['number_of_clicks'].cumsum()*100/number_of_clicks),2)"
      ],
      "execution_count": 0,
      "outputs": []
    },
    {
      "cell_type": "code",
      "metadata": {
        "id": "aWUtvt1Lmxs2",
        "colab_type": "code",
        "outputId": "93e79a89-f872-4b5e-b68a-b835082f2af6",
        "colab": {
          "base_uri": "https://localhost:8080/",
          "height": 827
        }
      },
      "source": [
        "clicks_per_position"
      ],
      "execution_count": 0,
      "outputs": [
        {
          "output_type": "execute_result",
          "data": {
            "text/html": [
              "<div>\n",
              "<style scoped>\n",
              "    .dataframe tbody tr th:only-of-type {\n",
              "        vertical-align: middle;\n",
              "    }\n",
              "\n",
              "    .dataframe tbody tr th {\n",
              "        vertical-align: top;\n",
              "    }\n",
              "\n",
              "    .dataframe thead th {\n",
              "        text-align: right;\n",
              "    }\n",
              "</style>\n",
              "<table border=\"1\" class=\"dataframe\">\n",
              "  <thead>\n",
              "    <tr style=\"text-align: right;\">\n",
              "      <th></th>\n",
              "      <th>number_of_clicks</th>\n",
              "      <th>position_pct</th>\n",
              "      <th>cummulitive_pct</th>\n",
              "    </tr>\n",
              "    <tr>\n",
              "      <th>position</th>\n",
              "      <th></th>\n",
              "      <th></th>\n",
              "      <th></th>\n",
              "    </tr>\n",
              "  </thead>\n",
              "  <tbody>\n",
              "    <tr>\n",
              "      <th>1</th>\n",
              "      <td>480309</td>\n",
              "      <td>28.63</td>\n",
              "      <td>28.63</td>\n",
              "    </tr>\n",
              "    <tr>\n",
              "      <th>2</th>\n",
              "      <td>189940</td>\n",
              "      <td>11.32</td>\n",
              "      <td>39.96</td>\n",
              "    </tr>\n",
              "    <tr>\n",
              "      <th>3</th>\n",
              "      <td>126803</td>\n",
              "      <td>7.56</td>\n",
              "      <td>47.52</td>\n",
              "    </tr>\n",
              "    <tr>\n",
              "      <th>4</th>\n",
              "      <td>97318</td>\n",
              "      <td>5.80</td>\n",
              "      <td>53.32</td>\n",
              "    </tr>\n",
              "    <tr>\n",
              "      <th>5</th>\n",
              "      <td>78927</td>\n",
              "      <td>4.71</td>\n",
              "      <td>58.02</td>\n",
              "    </tr>\n",
              "    <tr>\n",
              "      <th>6</th>\n",
              "      <td>66361</td>\n",
              "      <td>3.96</td>\n",
              "      <td>61.98</td>\n",
              "    </tr>\n",
              "    <tr>\n",
              "      <th>7</th>\n",
              "      <td>57307</td>\n",
              "      <td>3.42</td>\n",
              "      <td>65.40</td>\n",
              "    </tr>\n",
              "    <tr>\n",
              "      <th>8</th>\n",
              "      <td>49121</td>\n",
              "      <td>2.93</td>\n",
              "      <td>68.33</td>\n",
              "    </tr>\n",
              "    <tr>\n",
              "      <th>9</th>\n",
              "      <td>43563</td>\n",
              "      <td>2.60</td>\n",
              "      <td>70.92</td>\n",
              "    </tr>\n",
              "    <tr>\n",
              "      <th>10</th>\n",
              "      <td>39756</td>\n",
              "      <td>2.37</td>\n",
              "      <td>73.29</td>\n",
              "    </tr>\n",
              "    <tr>\n",
              "      <th>11</th>\n",
              "      <td>35134</td>\n",
              "      <td>2.09</td>\n",
              "      <td>75.39</td>\n",
              "    </tr>\n",
              "    <tr>\n",
              "      <th>12</th>\n",
              "      <td>165916</td>\n",
              "      <td>9.89</td>\n",
              "      <td>85.28</td>\n",
              "    </tr>\n",
              "    <tr>\n",
              "      <th>13</th>\n",
              "      <td>29395</td>\n",
              "      <td>1.75</td>\n",
              "      <td>87.03</td>\n",
              "    </tr>\n",
              "    <tr>\n",
              "      <th>14</th>\n",
              "      <td>25782</td>\n",
              "      <td>1.54</td>\n",
              "      <td>88.57</td>\n",
              "    </tr>\n",
              "    <tr>\n",
              "      <th>15</th>\n",
              "      <td>23677</td>\n",
              "      <td>1.41</td>\n",
              "      <td>89.98</td>\n",
              "    </tr>\n",
              "    <tr>\n",
              "      <th>16</th>\n",
              "      <td>22706</td>\n",
              "      <td>1.35</td>\n",
              "      <td>91.33</td>\n",
              "    </tr>\n",
              "    <tr>\n",
              "      <th>17</th>\n",
              "      <td>20243</td>\n",
              "      <td>1.21</td>\n",
              "      <td>92.54</td>\n",
              "    </tr>\n",
              "    <tr>\n",
              "      <th>18</th>\n",
              "      <td>19109</td>\n",
              "      <td>1.14</td>\n",
              "      <td>93.68</td>\n",
              "    </tr>\n",
              "    <tr>\n",
              "      <th>19</th>\n",
              "      <td>17635</td>\n",
              "      <td>1.05</td>\n",
              "      <td>94.73</td>\n",
              "    </tr>\n",
              "    <tr>\n",
              "      <th>20</th>\n",
              "      <td>16141</td>\n",
              "      <td>0.96</td>\n",
              "      <td>95.69</td>\n",
              "    </tr>\n",
              "    <tr>\n",
              "      <th>21</th>\n",
              "      <td>15137</td>\n",
              "      <td>0.90</td>\n",
              "      <td>96.60</td>\n",
              "    </tr>\n",
              "    <tr>\n",
              "      <th>22</th>\n",
              "      <td>14596</td>\n",
              "      <td>0.87</td>\n",
              "      <td>97.47</td>\n",
              "    </tr>\n",
              "    <tr>\n",
              "      <th>23</th>\n",
              "      <td>13452</td>\n",
              "      <td>0.80</td>\n",
              "      <td>98.27</td>\n",
              "    </tr>\n",
              "    <tr>\n",
              "      <th>24</th>\n",
              "      <td>13240</td>\n",
              "      <td>0.79</td>\n",
              "      <td>99.06</td>\n",
              "    </tr>\n",
              "    <tr>\n",
              "      <th>25</th>\n",
              "      <td>15823</td>\n",
              "      <td>0.94</td>\n",
              "      <td>100.00</td>\n",
              "    </tr>\n",
              "  </tbody>\n",
              "</table>\n",
              "</div>"
            ],
            "text/plain": [
              "          number_of_clicks  position_pct  cummulitive_pct\n",
              "position                                                 \n",
              "1                   480309         28.63            28.63\n",
              "2                   189940         11.32            39.96\n",
              "3                   126803          7.56            47.52\n",
              "4                    97318          5.80            53.32\n",
              "5                    78927          4.71            58.02\n",
              "6                    66361          3.96            61.98\n",
              "7                    57307          3.42            65.40\n",
              "8                    49121          2.93            68.33\n",
              "9                    43563          2.60            70.92\n",
              "10                   39756          2.37            73.29\n",
              "11                   35134          2.09            75.39\n",
              "12                  165916          9.89            85.28\n",
              "13                   29395          1.75            87.03\n",
              "14                   25782          1.54            88.57\n",
              "15                   23677          1.41            89.98\n",
              "16                   22706          1.35            91.33\n",
              "17                   20243          1.21            92.54\n",
              "18                   19109          1.14            93.68\n",
              "19                   17635          1.05            94.73\n",
              "20                   16141          0.96            95.69\n",
              "21                   15137          0.90            96.60\n",
              "22                   14596          0.87            97.47\n",
              "23                   13452          0.80            98.27\n",
              "24                   13240          0.79            99.06\n",
              "25                   15823          0.94           100.00"
            ]
          },
          "metadata": {
            "tags": []
          },
          "execution_count": 35
        }
      ]
    },
    {
      "cell_type": "code",
      "metadata": {
        "id": "K6H4HWj_H1bZ",
        "colab_type": "code",
        "colab": {}
      },
      "source": [
        ""
      ],
      "execution_count": 0,
      "outputs": []
    },
    {
      "cell_type": "markdown",
      "metadata": {
        "id": "zFdLAuUhy941",
        "colab_type": "text"
      },
      "source": [
        "### so above we have percentage of clicks for each of the first 25 positions , we see that almost half (53.32%) of clicks happened for the first four positions"
      ]
    },
    {
      "cell_type": "markdown",
      "metadata": {
        "id": "w1XQQAUyzkUQ",
        "colab_type": "text"
      },
      "source": [
        "## Q3 : Describe the relationship between the average displayed position and the clicked displayed position. What are your thoughts about the variance between the two?"
      ]
    },
    {
      "cell_type": "markdown",
      "metadata": {
        "id": "7c4iinwWzrbB",
        "colab_type": "text"
      },
      "source": [
        "#### we can now calculate the average of clicked position for each item"
      ]
    },
    {
      "cell_type": "code",
      "metadata": {
        "id": "99Byy76cCHui",
        "colab_type": "code",
        "colab": {}
      },
      "source": [
        "a=[]\n",
        "for b in raw_data_part1_copy['c_positions_list_correct']:\n",
        "      c=sum(b)\n",
        "      d=len(b)\n",
        "      e=np.round((c/d),2)\n",
        "      a.append(e)\n",
        "  "
      ],
      "execution_count": 0,
      "outputs": []
    },
    {
      "cell_type": "code",
      "metadata": {
        "id": "qh_hXAyr1UZW",
        "colab_type": "code",
        "outputId": "3435405a-63a4-40c1-ed97-e7384e847d48",
        "colab": {
          "base_uri": "https://localhost:8080/",
          "height": 34
        }
      },
      "source": [
        "a[0:5]"
      ],
      "execution_count": 0,
      "outputs": [
        {
          "output_type": "execute_result",
          "data": {
            "text/plain": [
              "[13.6, 2.67, 1.83, 5.0, 19.0]"
            ]
          },
          "metadata": {
            "tags": []
          },
          "execution_count": 37
        }
      ]
    },
    {
      "cell_type": "markdown",
      "metadata": {
        "id": "RNG6Km3sIVPP",
        "colab_type": "text"
      },
      "source": [
        "#### then we merge it to the data as a new column"
      ]
    },
    {
      "cell_type": "code",
      "metadata": {
        "id": "Rys9oAR80pUF",
        "colab_type": "code",
        "colab": {}
      },
      "source": [
        "raw_data_part1_copy['average_clicked_position']=a"
      ],
      "execution_count": 0,
      "outputs": []
    },
    {
      "cell_type": "code",
      "metadata": {
        "colab_type": "code",
        "outputId": "0ab1a13d-ff2f-46b0-abd0-450485dc6287",
        "id": "aV5iHTRp1wEo",
        "colab": {
          "base_uri": "https://localhost:8080/",
          "height": 204
        }
      },
      "source": [
        "raw_data_part1_copy.head()"
      ],
      "execution_count": 0,
      "outputs": [
        {
          "output_type": "execute_result",
          "data": {
            "text/html": [
              "<div>\n",
              "<style scoped>\n",
              "    .dataframe tbody tr th:only-of-type {\n",
              "        vertical-align: middle;\n",
              "    }\n",
              "\n",
              "    .dataframe tbody tr th {\n",
              "        vertical-align: top;\n",
              "    }\n",
              "\n",
              "    .dataframe thead th {\n",
              "        text-align: right;\n",
              "    }\n",
              "</style>\n",
              "<table border=\"1\" class=\"dataframe\">\n",
              "  <thead>\n",
              "    <tr style=\"text-align: right;\">\n",
              "      <th></th>\n",
              "      <th>item_id</th>\n",
              "      <th>impressions</th>\n",
              "      <th>clicks</th>\n",
              "      <th>avg_impressed_position</th>\n",
              "      <th>num_users</th>\n",
              "      <th>num_sessions</th>\n",
              "      <th>c_positions_list_correct</th>\n",
              "      <th>CTR</th>\n",
              "      <th>average_clicked_position</th>\n",
              "    </tr>\n",
              "  </thead>\n",
              "  <tbody>\n",
              "    <tr>\n",
              "      <th>0</th>\n",
              "      <td>5040</td>\n",
              "      <td>40</td>\n",
              "      <td>5</td>\n",
              "      <td>11.83</td>\n",
              "      <td>22</td>\n",
              "      <td>23</td>\n",
              "      <td>[21, 10, 13, 11, 13]</td>\n",
              "      <td>12.50</td>\n",
              "      <td>13.60</td>\n",
              "    </tr>\n",
              "    <tr>\n",
              "      <th>1</th>\n",
              "      <td>5053</td>\n",
              "      <td>83</td>\n",
              "      <td>3</td>\n",
              "      <td>7.88</td>\n",
              "      <td>43</td>\n",
              "      <td>52</td>\n",
              "      <td>[3, 4, 1]</td>\n",
              "      <td>3.61</td>\n",
              "      <td>2.67</td>\n",
              "    </tr>\n",
              "    <tr>\n",
              "      <th>2</th>\n",
              "      <td>5094</td>\n",
              "      <td>54</td>\n",
              "      <td>6</td>\n",
              "      <td>4.72</td>\n",
              "      <td>30</td>\n",
              "      <td>36</td>\n",
              "      <td>[1, 1, 1, 3, 2, 3]</td>\n",
              "      <td>11.11</td>\n",
              "      <td>1.83</td>\n",
              "    </tr>\n",
              "    <tr>\n",
              "      <th>3</th>\n",
              "      <td>5101</td>\n",
              "      <td>30</td>\n",
              "      <td>2</td>\n",
              "      <td>4.97</td>\n",
              "      <td>17</td>\n",
              "      <td>20</td>\n",
              "      <td>[6, 4]</td>\n",
              "      <td>6.67</td>\n",
              "      <td>5.00</td>\n",
              "    </tr>\n",
              "    <tr>\n",
              "      <th>4</th>\n",
              "      <td>5105</td>\n",
              "      <td>24</td>\n",
              "      <td>1</td>\n",
              "      <td>9.08</td>\n",
              "      <td>8</td>\n",
              "      <td>11</td>\n",
              "      <td>[19]</td>\n",
              "      <td>4.17</td>\n",
              "      <td>19.00</td>\n",
              "    </tr>\n",
              "  </tbody>\n",
              "</table>\n",
              "</div>"
            ],
            "text/plain": [
              "   item_id  impressions  ...    CTR  average_clicked_position\n",
              "0     5040           40  ...  12.50                     13.60\n",
              "1     5053           83  ...   3.61                      2.67\n",
              "2     5094           54  ...  11.11                      1.83\n",
              "3     5101           30  ...   6.67                      5.00\n",
              "4     5105           24  ...   4.17                     19.00\n",
              "\n",
              "[5 rows x 9 columns]"
            ]
          },
          "metadata": {
            "tags": []
          },
          "execution_count": 35
        }
      ]
    },
    {
      "cell_type": "markdown",
      "metadata": {
        "id": "YTAerXA8-ggK",
        "colab_type": "text"
      },
      "source": [
        "#### then we perform scatter plot to give a basic index for the relationship between average click displayed position and averege impressed position"
      ]
    },
    {
      "cell_type": "code",
      "metadata": {
        "id": "74ESBwBT_JfG",
        "colab_type": "code",
        "outputId": "18f94373-b285-41f4-fb30-09a099c380d1",
        "colab": {
          "base_uri": "https://localhost:8080/",
          "height": 301
        }
      },
      "source": [
        "raw_data_part1_copy.plot.scatter(x='avg_impressed_position',\n",
        "  y='average_clicked_position')"
      ],
      "execution_count": 0,
      "outputs": [
        {
          "output_type": "execute_result",
          "data": {
            "text/plain": [
              "<matplotlib.axes._subplots.AxesSubplot at 0x7ff9f6de77b8>"
            ]
          },
          "metadata": {
            "tags": []
          },
          "execution_count": 40
        },
        {
          "output_type": "display_data",
          "data": {
            "image/png": "[encoded data removed]",
            "text/plain": [
              "<Figure size 432x288 with 1 Axes>"
            ]
          },
          "metadata": {
            "tags": []
          }
        }
      ]
    },
    {
      "cell_type": "markdown",
      "metadata": {
        "id": "G12h0P6DIrOO",
        "colab_type": "text"
      },
      "source": [
        "#### the plot shows some positive correlation which makes sense , off course items displayed on higher positions are more likely to be clicked than if they displayed on lower positions"
      ]
    },
    {
      "cell_type": "markdown",
      "metadata": {
        "id": "L-TMeoazJGlT",
        "colab_type": "text"
      },
      "source": [
        "#### we support this intuition by providing a 95% confidence interval for the correlation coeffecient between the 2 variables"
      ]
    },
    {
      "cell_type": "markdown",
      "metadata": {
        "id": "RJmAqQRjKMF0",
        "colab_type": "text"
      },
      "source": [
        "#### we define the following function to help us building the confidence interval between the 2 factors\n"
      ]
    },
    {
      "cell_type": "code",
      "metadata": {
        "id": "7sT5S8j3JFI0",
        "colab_type": "code",
        "colab": {}
      },
      "source": [
        "def r_to_z(r):\n",
        "    return math.log((1 + r) / (1 - r)) / 2.0\n",
        "\n",
        "def z_to_r(z):\n",
        "    e = math.exp(2 * z)\n",
        "    return((e - 1) / (e + 1))\n",
        "\n",
        "def r_confidence_interval(r, alpha, n):\n",
        "    z = r_to_z(r)\n",
        "    se = 1.0 / math.sqrt(n-3) \n",
        "    \n",
        "    z_crit = stats.norm.ppf(1 - alpha/2)  # 2-tailed z critical value\n",
        "\n",
        "    lo = z - z_crit * se\n",
        "    hi = z + z_crit * se\n",
        "\n",
        "    # Return a sequence\n",
        "    return  (z_to_r(lo), z_to_r(hi))"
      ],
      "execution_count": 0,
      "outputs": []
    },
    {
      "cell_type": "markdown",
      "metadata": {
        "id": "UsWRkJKaK-zs",
        "colab_type": "text"
      },
      "source": [
        "#### then we compute correlation coeffecient "
      ]
    },
    {
      "cell_type": "code",
      "metadata": {
        "id": "yroBiWxj_sO6",
        "colab_type": "code",
        "outputId": "b05c8c45-7e69-4536-ae3a-a34b74283d3e",
        "colab": {
          "base_uri": "https://localhost:8080/",
          "height": 107
        }
      },
      "source": [
        "raw_data_part1_copy.loc[:,['avg_impressed_position','average_clicked_position']].corr()"
      ],
      "execution_count": 0,
      "outputs": [
        {
          "output_type": "execute_result",
          "data": {
            "text/html": [
              "<div>\n",
              "<style scoped>\n",
              "    .dataframe tbody tr th:only-of-type {\n",
              "        vertical-align: middle;\n",
              "    }\n",
              "\n",
              "    .dataframe tbody tr th {\n",
              "        vertical-align: top;\n",
              "    }\n",
              "\n",
              "    .dataframe thead th {\n",
              "        text-align: right;\n",
              "    }\n",
              "</style>\n",
              "<table border=\"1\" class=\"dataframe\">\n",
              "  <thead>\n",
              "    <tr style=\"text-align: right;\">\n",
              "      <th></th>\n",
              "      <th>avg_impressed_position</th>\n",
              "      <th>average_clicked_position</th>\n",
              "    </tr>\n",
              "  </thead>\n",
              "  <tbody>\n",
              "    <tr>\n",
              "      <th>avg_impressed_position</th>\n",
              "      <td>1.00000</td>\n",
              "      <td>0.53135</td>\n",
              "    </tr>\n",
              "    <tr>\n",
              "      <th>average_clicked_position</th>\n",
              "      <td>0.53135</td>\n",
              "      <td>1.00000</td>\n",
              "    </tr>\n",
              "  </tbody>\n",
              "</table>\n",
              "</div>"
            ],
            "text/plain": [
              "                          avg_impressed_position  average_clicked_position\n",
              "avg_impressed_position                   1.00000                   0.53135\n",
              "average_clicked_position                 0.53135                   1.00000"
            ]
          },
          "metadata": {
            "tags": []
          },
          "execution_count": 42
        }
      ]
    },
    {
      "cell_type": "markdown",
      "metadata": {
        "id": "TbxYYvmiHF5U",
        "colab_type": "text"
      },
      "source": [
        "#### then we run a confidence interval for correlation coeffecient "
      ]
    },
    {
      "cell_type": "code",
      "metadata": {
        "id": "b87hC3GE5Rtf",
        "colab_type": "code",
        "outputId": "0497920f-84cd-4cc6-e9f3-3916ef377951",
        "colab": {
          "base_uri": "https://localhost:8080/",
          "height": 34
        }
      },
      "source": [
        "np.round((r_confidence_interval(0.53135,0.05,130056)),2)"
      ],
      "execution_count": 0,
      "outputs": [
        {
          "output_type": "execute_result",
          "data": {
            "text/plain": [
              "array([0.53, 0.54])"
            ]
          },
          "metadata": {
            "tags": []
          },
          "execution_count": 43
        }
      ]
    },
    {
      "cell_type": "markdown",
      "metadata": {
        "id": "Mc94e6bNZz-W",
        "colab_type": "text"
      },
      "source": [
        "#### so we are 95% confident that correlation coeffecient of avg_impressed_position\tand average_clicked_position ranges between 53% and 54% indicating a positive moderate correlation"
      ]
    },
    {
      "cell_type": "markdown",
      "metadata": {
        "id": "KXWJRECbcHWb",
        "colab_type": "text"
      },
      "source": [
        "#### About the part of variance between them , let's calculate the covariance matrix"
      ]
    },
    {
      "cell_type": "code",
      "metadata": {
        "id": "LUDuoY_f_sNE",
        "colab_type": "code",
        "outputId": "7359a6a1-e209-4f4c-8e17-44aeec0191fc",
        "colab": {
          "base_uri": "https://localhost:8080/",
          "height": 107
        }
      },
      "source": [
        "raw_data_part1_copy.loc[:,['avg_impressed_position','average_clicked_position']].cov()"
      ],
      "execution_count": 0,
      "outputs": [
        {
          "output_type": "execute_result",
          "data": {
            "text/html": [
              "<div>\n",
              "<style scoped>\n",
              "    .dataframe tbody tr th:only-of-type {\n",
              "        vertical-align: middle;\n",
              "    }\n",
              "\n",
              "    .dataframe tbody tr th {\n",
              "        vertical-align: top;\n",
              "    }\n",
              "\n",
              "    .dataframe thead th {\n",
              "        text-align: right;\n",
              "    }\n",
              "</style>\n",
              "<table border=\"1\" class=\"dataframe\">\n",
              "  <thead>\n",
              "    <tr style=\"text-align: right;\">\n",
              "      <th></th>\n",
              "      <th>avg_impressed_position</th>\n",
              "      <th>average_clicked_position</th>\n",
              "    </tr>\n",
              "  </thead>\n",
              "  <tbody>\n",
              "    <tr>\n",
              "      <th>avg_impressed_position</th>\n",
              "      <td>16.698047</td>\n",
              "      <td>11.416289</td>\n",
              "    </tr>\n",
              "    <tr>\n",
              "      <th>average_clicked_position</th>\n",
              "      <td>11.416289</td>\n",
              "      <td>27.645434</td>\n",
              "    </tr>\n",
              "  </tbody>\n",
              "</table>\n",
              "</div>"
            ],
            "text/plain": [
              "                          avg_impressed_position  average_clicked_position\n",
              "avg_impressed_position                 16.698047                 11.416289\n",
              "average_clicked_position               11.416289                 27.645434"
            ]
          },
          "metadata": {
            "tags": []
          },
          "execution_count": 44
        }
      ]
    },
    {
      "cell_type": "markdown",
      "metadata": {
        "id": "vGdpQtvwbz8P",
        "colab_type": "text"
      },
      "source": [
        "#### covariance between them is positive , this indicates that avg_impressed_position\tand average_clicked_position tend to move in the same direction togeather"
      ]
    },
    {
      "cell_type": "markdown",
      "metadata": {
        "id": "uGcS6VJ8d6-n",
        "colab_type": "text"
      },
      "source": [
        "#### if we mean by variance between avg_impressed_position and \taverage_clicked_position the difference of their magnitudes \n",
        "\n",
        "#### we can say that average displayed position is the mean position in which an item is displayed regardless it was clicked or not it measures how an item is displayed to the browser \n",
        "\n",
        "#### About average of clicked positions in which an item is clicked , we can say that it measure the best positions for this item to exist so they are more likely to be clicked , if we have a high CTR the two should be close to each other "
      ]
    },
    {
      "cell_type": "markdown",
      "metadata": {
        "id": "8rxvN0xEh1Ib",
        "colab_type": "text"
      },
      "source": [
        "## Q4 : In the dataset, we provided you with the average displayed position. What can be wrong with using averages?"
      ]
    },
    {
      "cell_type": "markdown",
      "metadata": {
        "id": "YTsO0_ZoiJIE",
        "colab_type": "text"
      },
      "source": [
        "### Averages are generally a good measure if we deal date does not have data does not contain high vatisbility , since it may be affected by outliers, i.e in our example if we have an item impressed for 5 times in the following positions[1,2,3,1,18] the average is 5 that does not reflect the realiity , so in this cases better is to use median which is 2 in this case \n",
        "\n",
        "### generally median is better if we have outliers , it is more robust aganist them"
      ]
    },
    {
      "cell_type": "markdown",
      "metadata": {
        "colab_type": "text",
        "id": "tED1IQPQjxSg"
      },
      "source": [
        "\n",
        "\n",
        "\n",
        "# Part 2 – Session investigation"
      ]
    },
    {
      "cell_type": "markdown",
      "metadata": {
        "id": "Sa5EfQDJlRG4",
        "colab_type": "text"
      },
      "source": [
        "#### Now we import data"
      ]
    },
    {
      "cell_type": "code",
      "metadata": {
        "colab_type": "code",
        "outputId": "dd805f59-1792-4116-e328-05d41e8b0cb9",
        "id": "Jg6MRcvJjxSt",
        "colab": {
          "base_uri": "https://localhost:8080/",
          "height": 52
        }
      },
      "source": [
        "raw_data_part2 = pd.read_csv('tr_data_analysis_case_study_part2.csv')"
      ],
      "execution_count": 0,
      "outputs": [
        {
          "output_type": "stream",
          "text": [
            "/usr/local/lib/python3.6/dist-packages/IPython/core/interactiveshell.py:2718: DtypeWarning: Columns (0) have mixed types. Specify dtype option on import or set low_memory=False.\n",
            "  interactivity=interactivity, compiler=compiler, result=result)\n"
          ],
          "name": "stderr"
        }
      ]
    },
    {
      "cell_type": "markdown",
      "metadata": {
        "colab_type": "text",
        "id": "OXsY84ZBjxSv"
      },
      "source": [
        "### then we make a copy of the data to run our manipulations on"
      ]
    },
    {
      "cell_type": "code",
      "metadata": {
        "colab_type": "code",
        "id": "A_tHg9-hjxSw",
        "colab": {}
      },
      "source": [
        "raw_data_part2_copy=raw_data_part2.copy()"
      ],
      "execution_count": 0,
      "outputs": []
    },
    {
      "cell_type": "markdown",
      "metadata": {
        "colab_type": "text",
        "id": "jBrLxlUKjxSx"
      },
      "source": [
        "## Q1 : Describe the data set that you have received. Calculate the 5 most frequent values per column (with frequency). Can you find any suspicious results? If so, what are they? And how would you fix these for the analysis?"
      ]
    },
    {
      "cell_type": "markdown",
      "metadata": {
        "colab_type": "text",
        "id": "vkAzf93ijxSx"
      },
      "source": [
        "#### then we check  how many NA values for each column"
      ]
    },
    {
      "cell_type": "code",
      "metadata": {
        "colab_type": "code",
        "outputId": "96cdbf0c-f78d-4044-c5a3-319d62692d17",
        "id": "SHGDeF54jxSy",
        "colab": {
          "base_uri": "https://localhost:8080/",
          "height": 247
        }
      },
      "source": [
        "raw_data_part2_copy.isna().sum()"
      ],
      "execution_count": 0,
      "outputs": [
        {
          "output_type": "execute_result",
          "data": {
            "text/plain": [
              "user_id                0\n",
              "session_id             1\n",
              "clicked_item_id        1\n",
              "displayed_position     1\n",
              "page_num               1\n",
              "sort_order             1\n",
              "search_type            1\n",
              "path_id                1\n",
              "arrival_days           1\n",
              "departure_days         1\n",
              "traffic_type           1\n",
              "impressed_item_ids     1\n",
              "dtype: int64"
            ]
          },
          "metadata": {
            "tags": []
          },
          "execution_count": 10
        }
      ]
    },
    {
      "cell_type": "markdown",
      "metadata": {
        "colab_type": "text",
        "id": "Q_HGbrGejxS0"
      },
      "source": [
        "### We have a missing value for each column except user_id"
      ]
    },
    {
      "cell_type": "markdown",
      "metadata": {
        "colab_type": "text",
        "id": "vTs9JZVIjxS1"
      },
      "source": [
        "### we check where are missing values for each column"
      ]
    },
    {
      "cell_type": "code",
      "metadata": {
        "colab_type": "code",
        "outputId": "073e2cb7-44d6-4071-81e5-2db7993dedfb",
        "id": "7b27UxoxjxS1",
        "colab": {
          "base_uri": "https://localhost:8080/",
          "height": 77
        }
      },
      "source": [
        "raw_data_part2_copy.loc[raw_data_part2_copy['clicked_item_id'].isna()]"
      ],
      "execution_count": 0,
      "outputs": [
        {
          "output_type": "execute_result",
          "data": {
            "text/html": [
              "<div>\n",
              "<style scoped>\n",
              "    .dataframe tbody tr th:only-of-type {\n",
              "        vertical-align: middle;\n",
              "    }\n",
              "\n",
              "    .dataframe tbody tr th {\n",
              "        vertical-align: top;\n",
              "    }\n",
              "\n",
              "    .dataframe thead th {\n",
              "        text-align: right;\n",
              "    }\n",
              "</style>\n",
              "<table border=\"1\" class=\"dataframe\">\n",
              "  <thead>\n",
              "    <tr style=\"text-align: right;\">\n",
              "      <th></th>\n",
              "      <th>user_id</th>\n",
              "      <th>session_id</th>\n",
              "      <th>clicked_item_id</th>\n",
              "      <th>displayed_position</th>\n",
              "      <th>page_num</th>\n",
              "      <th>sort_order</th>\n",
              "      <th>search_type</th>\n",
              "      <th>path_id</th>\n",
              "      <th>arrival_days</th>\n",
              "      <th>departure_days</th>\n",
              "      <th>traffic_type</th>\n",
              "      <th>impressed_item_ids</th>\n",
              "    </tr>\n",
              "  </thead>\n",
              "  <tbody>\n",
              "    <tr>\n",
              "      <th>1903795</th>\n",
              "      <td>\u001a</td>\n",
              "      <td>NaN</td>\n",
              "      <td>NaN</td>\n",
              "      <td>NaN</td>\n",
              "      <td>NaN</td>\n",
              "      <td>NaN</td>\n",
              "      <td>NaN</td>\n",
              "      <td>NaN</td>\n",
              "      <td>NaN</td>\n",
              "      <td>NaN</td>\n",
              "      <td>NaN</td>\n",
              "      <td>NaN</td>\n",
              "    </tr>\n",
              "  </tbody>\n",
              "</table>\n",
              "</div>"
            ],
            "text/plain": [
              "        user_id  session_id  ...  traffic_type  impressed_item_ids \n",
              "1903795       \u001a         NaN  ...           NaN                  NaN\n",
              "\n",
              "[1 rows x 12 columns]"
            ]
          },
          "metadata": {
            "tags": []
          },
          "execution_count": 11
        }
      ]
    },
    {
      "cell_type": "markdown",
      "metadata": {
        "colab_type": "text",
        "id": "uxSr3M-RjxS5"
      },
      "source": [
        "#### we see that it is only one row that has missing value for all columns except user_id thus it will not affect results to drop it from the data"
      ]
    },
    {
      "cell_type": "code",
      "metadata": {
        "colab_type": "code",
        "id": "dylW5r5MjxS5",
        "colab": {}
      },
      "source": [
        "raw_data_part2_copy=raw_data_part2_copy.drop(raw_data_part2_copy.loc[raw_data_part2_copy['displayed_position'].isna()].index)"
      ],
      "execution_count": 0,
      "outputs": []
    },
    {
      "cell_type": "code",
      "metadata": {
        "colab_type": "code",
        "outputId": "8ed24f0d-b8f9-402e-efee-d6be762f0ad1",
        "id": "T13ONm6cjxS7",
        "colab": {
          "base_uri": "https://localhost:8080/",
          "height": 34
        }
      },
      "source": [
        "len(raw_data_part2_copy)"
      ],
      "execution_count": 0,
      "outputs": [
        {
          "output_type": "execute_result",
          "data": {
            "text/plain": [
              "1903795"
            ]
          },
          "metadata": {
            "tags": []
          },
          "execution_count": 13
        }
      ]
    },
    {
      "cell_type": "markdown",
      "metadata": {
        "colab_type": "text",
        "id": "B6CW1MgcjxTA"
      },
      "source": [
        "#### then we just have a quick check on columns data types to make sure that each column is stored in an appropriate data type"
      ]
    },
    {
      "cell_type": "code",
      "metadata": {
        "colab_type": "code",
        "outputId": "abdfe9da-b54f-4907-c5db-1ed0b71c6fa5",
        "id": "hVCgIiKojxTA",
        "colab": {
          "base_uri": "https://localhost:8080/",
          "height": 247
        }
      },
      "source": [
        "raw_data_part2_copy.dtypes"
      ],
      "execution_count": 0,
      "outputs": [
        {
          "output_type": "execute_result",
          "data": {
            "text/plain": [
              "user_id                 object\n",
              "session_id             float64\n",
              "clicked_item_id        float64\n",
              "displayed_position     float64\n",
              "page_num               float64\n",
              "sort_order             float64\n",
              "search_type            float64\n",
              "path_id                float64\n",
              "arrival_days           float64\n",
              "departure_days         float64\n",
              "traffic_type           float64\n",
              "impressed_item_ids      object\n",
              "dtype: object"
            ]
          },
          "metadata": {
            "tags": []
          },
          "execution_count": 14
        }
      ]
    },
    {
      "cell_type": "markdown",
      "metadata": {
        "colab_type": "text",
        "id": "WBRaQ_RFjxTD"
      },
      "source": [
        "#### We see that session_id , and clicked_item_id , are stored as float columns despite they should be strings"
      ]
    },
    {
      "cell_type": "code",
      "metadata": {
        "colab_type": "code",
        "id": "nYxd_Q5fjxTE",
        "colab": {}
      },
      "source": [
        "raw_data_part2_copy['clicked_item_id']=raw_data_part2_copy['clicked_item_id'].astype(int)"
      ],
      "execution_count": 0,
      "outputs": []
    },
    {
      "cell_type": "code",
      "metadata": {
        "colab_type": "code",
        "id": "-egKhouQjxTF",
        "colab": {}
      },
      "source": [
        "raw_data_part2_copy['clicked_item_id']=raw_data_part2_copy['clicked_item_id'].astype(str)"
      ],
      "execution_count": 0,
      "outputs": []
    },
    {
      "cell_type": "code",
      "metadata": {
        "colab_type": "code",
        "id": "ucmBPGb8jxTI",
        "colab": {}
      },
      "source": [
        "raw_data_part2_copy['session_id']=raw_data_part2_copy['session_id'].astype(str)"
      ],
      "execution_count": 0,
      "outputs": []
    },
    {
      "cell_type": "markdown",
      "metadata": {
        "colab_type": "text",
        "id": "T3iRILisjxTJ"
      },
      "source": [
        "### Then we trasnfer to checking descriptive statistics for each columns and revise correctness and whether values of each column are logical or not"
      ]
    },
    {
      "cell_type": "markdown",
      "metadata": {
        "colab_type": "text",
        "id": "B0IpNHkJjxTJ"
      },
      "source": [
        "#### before descriptive statistics, , we use the option that displays float with 2 decimal places in pandas for better look for results"
      ]
    },
    {
      "cell_type": "markdown",
      "metadata": {
        "colab_type": "text",
        "id": "ggGEmQR_jxTK"
      },
      "source": [
        "#### first we display the first 5 rows of the data as it is"
      ]
    },
    {
      "cell_type": "code",
      "metadata": {
        "colab_type": "code",
        "id": "odwZsMt5jxTK",
        "colab": {}
      },
      "source": [
        "pd.options.display.float_format = \"{:.2f}\".format"
      ],
      "execution_count": 0,
      "outputs": []
    },
    {
      "cell_type": "code",
      "metadata": {
        "colab_type": "code",
        "outputId": "8517e8a2-8b4c-4c89-8f9c-391f36521d4d",
        "id": "qc1HOw7LjxTM",
        "colab": {
          "base_uri": "https://localhost:8080/",
          "height": 217
        }
      },
      "source": [
        "raw_data_part2_copy.head()"
      ],
      "execution_count": 0,
      "outputs": [
        {
          "output_type": "execute_result",
          "data": {
            "text/html": [
              "<div>\n",
              "<style scoped>\n",
              "    .dataframe tbody tr th:only-of-type {\n",
              "        vertical-align: middle;\n",
              "    }\n",
              "\n",
              "    .dataframe tbody tr th {\n",
              "        vertical-align: top;\n",
              "    }\n",
              "\n",
              "    .dataframe thead th {\n",
              "        text-align: right;\n",
              "    }\n",
              "</style>\n",
              "<table border=\"1\" class=\"dataframe\">\n",
              "  <thead>\n",
              "    <tr style=\"text-align: right;\">\n",
              "      <th></th>\n",
              "      <th>user_id</th>\n",
              "      <th>session_id</th>\n",
              "      <th>clicked_item_id</th>\n",
              "      <th>displayed_position</th>\n",
              "      <th>page_num</th>\n",
              "      <th>sort_order</th>\n",
              "      <th>search_type</th>\n",
              "      <th>path_id</th>\n",
              "      <th>arrival_days</th>\n",
              "      <th>departure_days</th>\n",
              "      <th>traffic_type</th>\n",
              "      <th>impressed_item_ids</th>\n",
              "    </tr>\n",
              "  </thead>\n",
              "  <tbody>\n",
              "    <tr>\n",
              "      <th>0</th>\n",
              "      <td>6216730024127027591</td>\n",
              "      <td>3.7556300552695163e+18</td>\n",
              "      <td>3390592</td>\n",
              "      <td>-11.00</td>\n",
              "      <td>0.00</td>\n",
              "      <td>12.00</td>\n",
              "      <td>2113.00</td>\n",
              "      <td>39693.00</td>\n",
              "      <td>3.00</td>\n",
              "      <td>4.00</td>\n",
              "      <td>2.00</td>\n",
              "      <td>128992;127920;132177;1107164;19389;3217646;123...</td>\n",
              "    </tr>\n",
              "    <tr>\n",
              "      <th>1</th>\n",
              "      <td>3540322805835307689</td>\n",
              "      <td>4.581411196117764e+18</td>\n",
              "      <td>2393900</td>\n",
              "      <td>6.00</td>\n",
              "      <td>0.00</td>\n",
              "      <td>21.00</td>\n",
              "      <td>2113.00</td>\n",
              "      <td>35009.00</td>\n",
              "      <td>21.00</td>\n",
              "      <td>22.00</td>\n",
              "      <td>2.00</td>\n",
              "      <td>5169438;997421;76994;1376364;67654;68977;23939...</td>\n",
              "    </tr>\n",
              "    <tr>\n",
              "      <th>2</th>\n",
              "      <td>5439210126639293380</td>\n",
              "      <td>7.260243962113139e+18</td>\n",
              "      <td>8285</td>\n",
              "      <td>0.00</td>\n",
              "      <td>0.00</td>\n",
              "      <td>12.00</td>\n",
              "      <td>2116.00</td>\n",
              "      <td>34390.00</td>\n",
              "      <td>301.00</td>\n",
              "      <td>302.00</td>\n",
              "      <td>2.00</td>\n",
              "      <td>8285;8284;78562;8243;1288434;61564;60293;15334...</td>\n",
              "    </tr>\n",
              "    <tr>\n",
              "      <th>3</th>\n",
              "      <td>3482625725900275142</td>\n",
              "      <td>3.013037030426146e+18</td>\n",
              "      <td>148308</td>\n",
              "      <td>6.00</td>\n",
              "      <td>0.00</td>\n",
              "      <td>41.00</td>\n",
              "      <td>2113.00</td>\n",
              "      <td>41579.00</td>\n",
              "      <td>39.00</td>\n",
              "      <td>42.00</td>\n",
              "      <td>3.00</td>\n",
              "      <td>2196706;46431;1262783;148312;1478421;6171546;1...</td>\n",
              "    </tr>\n",
              "    <tr>\n",
              "      <th>4</th>\n",
              "      <td>6185636196804664137</td>\n",
              "      <td>1.463578972675331e+18</td>\n",
              "      <td>4527530</td>\n",
              "      <td>0.00</td>\n",
              "      <td>0.00</td>\n",
              "      <td>12.00</td>\n",
              "      <td>2116.00</td>\n",
              "      <td>85724.00</td>\n",
              "      <td>48.00</td>\n",
              "      <td>49.00</td>\n",
              "      <td>2.00</td>\n",
              "      <td>4527530;149339;945921;1236133;1259540;1700445;...</td>\n",
              "    </tr>\n",
              "  </tbody>\n",
              "</table>\n",
              "</div>"
            ],
            "text/plain": [
              "               user_id  ...                                impressed_item_ids \n",
              "0  6216730024127027591  ...  128992;127920;132177;1107164;19389;3217646;123...\n",
              "1  3540322805835307689  ...  5169438;997421;76994;1376364;67654;68977;23939...\n",
              "2  5439210126639293380  ...  8285;8284;78562;8243;1288434;61564;60293;15334...\n",
              "3  3482625725900275142  ...  2196706;46431;1262783;148312;1478421;6171546;1...\n",
              "4  6185636196804664137  ...  4527530;149339;945921;1236133;1259540;1700445;...\n",
              "\n",
              "[5 rows x 12 columns]"
            ]
          },
          "metadata": {
            "tags": []
          },
          "execution_count": 19
        }
      ]
    },
    {
      "cell_type": "markdown",
      "metadata": {
        "colab_type": "text",
        "id": "TOagfURZjxTS"
      },
      "source": [
        "#### here we find something weird , a negative value of for displayed position , let's check if there are negative values "
      ]
    },
    {
      "cell_type": "markdown",
      "metadata": {
        "colab_type": "text",
        "id": "7svWUaJwjxTS"
      },
      "source": [
        "#### let's run describtion (descriptive statistics) for all float columns"
      ]
    },
    {
      "cell_type": "code",
      "metadata": {
        "colab_type": "code",
        "outputId": "e2f7de1b-2388-495b-9c99-a8b126a55885",
        "id": "tOuH6lt8jxTS",
        "colab": {
          "base_uri": "https://localhost:8080/",
          "height": 287
        }
      },
      "source": [
        "raw_data_part2_copy.describe()"
      ],
      "execution_count": 0,
      "outputs": [
        {
          "output_type": "execute_result",
          "data": {
            "text/html": [
              "<div>\n",
              "<style scoped>\n",
              "    .dataframe tbody tr th:only-of-type {\n",
              "        vertical-align: middle;\n",
              "    }\n",
              "\n",
              "    .dataframe tbody tr th {\n",
              "        vertical-align: top;\n",
              "    }\n",
              "\n",
              "    .dataframe thead th {\n",
              "        text-align: right;\n",
              "    }\n",
              "</style>\n",
              "<table border=\"1\" class=\"dataframe\">\n",
              "  <thead>\n",
              "    <tr style=\"text-align: right;\">\n",
              "      <th></th>\n",
              "      <th>displayed_position</th>\n",
              "      <th>page_num</th>\n",
              "      <th>sort_order</th>\n",
              "      <th>search_type</th>\n",
              "      <th>path_id</th>\n",
              "      <th>arrival_days</th>\n",
              "      <th>departure_days</th>\n",
              "      <th>traffic_type</th>\n",
              "    </tr>\n",
              "  </thead>\n",
              "  <tbody>\n",
              "    <tr>\n",
              "      <th>count</th>\n",
              "      <td>1903795.00</td>\n",
              "      <td>1903795.00</td>\n",
              "      <td>1903795.00</td>\n",
              "      <td>1903795.00</td>\n",
              "      <td>1903795.00</td>\n",
              "      <td>1903795.00</td>\n",
              "      <td>1903795.00</td>\n",
              "      <td>1903795.00</td>\n",
              "    </tr>\n",
              "    <tr>\n",
              "      <th>mean</th>\n",
              "      <td>4.26</td>\n",
              "      <td>0.27</td>\n",
              "      <td>103.11</td>\n",
              "      <td>2113.65</td>\n",
              "      <td>82240.41</td>\n",
              "      <td>57.41</td>\n",
              "      <td>-27533.61</td>\n",
              "      <td>2.10</td>\n",
              "    </tr>\n",
              "    <tr>\n",
              "      <th>std</th>\n",
              "      <td>7.72</td>\n",
              "      <td>1.10</td>\n",
              "      <td>134.26</td>\n",
              "      <td>1.53</td>\n",
              "      <td>124143.77</td>\n",
              "      <td>70.35</td>\n",
              "      <td>163811.41</td>\n",
              "      <td>0.45</td>\n",
              "    </tr>\n",
              "    <tr>\n",
              "      <th>min</th>\n",
              "      <td>-11.00</td>\n",
              "      <td>0.00</td>\n",
              "      <td>0.00</td>\n",
              "      <td>2100.00</td>\n",
              "      <td>0.00</td>\n",
              "      <td>-1.00</td>\n",
              "      <td>-1000000.00</td>\n",
              "      <td>1.00</td>\n",
              "    </tr>\n",
              "    <tr>\n",
              "      <th>25%</th>\n",
              "      <td>0.00</td>\n",
              "      <td>0.00</td>\n",
              "      <td>12.00</td>\n",
              "      <td>2113.00</td>\n",
              "      <td>38009.00</td>\n",
              "      <td>9.00</td>\n",
              "      <td>10.00</td>\n",
              "      <td>2.00</td>\n",
              "    </tr>\n",
              "    <tr>\n",
              "      <th>50%</th>\n",
              "      <td>2.00</td>\n",
              "      <td>0.00</td>\n",
              "      <td>12.00</td>\n",
              "      <td>2113.00</td>\n",
              "      <td>40606.00</td>\n",
              "      <td>27.00</td>\n",
              "      <td>27.00</td>\n",
              "      <td>2.00</td>\n",
              "    </tr>\n",
              "    <tr>\n",
              "      <th>75%</th>\n",
              "      <td>8.00</td>\n",
              "      <td>0.00</td>\n",
              "      <td>212.00</td>\n",
              "      <td>2115.00</td>\n",
              "      <td>46814.00</td>\n",
              "      <td>84.00</td>\n",
              "      <td>85.00</td>\n",
              "      <td>2.00</td>\n",
              "    </tr>\n",
              "    <tr>\n",
              "      <th>max</th>\n",
              "      <td>24.00</td>\n",
              "      <td>20.00</td>\n",
              "      <td>421.00</td>\n",
              "      <td>2116.00</td>\n",
              "      <td>680424.00</td>\n",
              "      <td>730.00</td>\n",
              "      <td>742.00</td>\n",
              "      <td>3.00</td>\n",
              "    </tr>\n",
              "  </tbody>\n",
              "</table>\n",
              "</div>"
            ],
            "text/plain": [
              "       displayed_position   page_num  ...  departure_days  traffic_type\n",
              "count          1903795.00 1903795.00  ...      1903795.00    1903795.00\n",
              "mean                 4.26       0.27  ...       -27533.61          2.10\n",
              "std                  7.72       1.10  ...       163811.41          0.45\n",
              "min                -11.00       0.00  ...     -1000000.00          1.00\n",
              "25%                  0.00       0.00  ...           10.00          2.00\n",
              "50%                  2.00       0.00  ...           27.00          2.00\n",
              "75%                  8.00       0.00  ...           85.00          2.00\n",
              "max                 24.00      20.00  ...          742.00          3.00\n",
              "\n",
              "[8 rows x 8 columns]"
            ]
          },
          "metadata": {
            "tags": []
          },
          "execution_count": 20
        }
      ]
    },
    {
      "cell_type": "markdown",
      "metadata": {
        "colab_type": "text",
        "id": "Rg04HgNSjxTV"
      },
      "source": [
        "#### here we notice presence of negative values for 3 columns (displayed position , arrival_days , and departure days) "
      ]
    },
    {
      "cell_type": "markdown",
      "metadata": {
        "id": "khfRLZ4J5YJe",
        "colab_type": "text"
      },
      "source": [
        "#### We see also that we have maximum values for departure days and arrival days of more than 700 days, but this can be logical, a browser may view a hotel, and just think about visiting it after a long period, so this is not a problem."
      ]
    },
    {
      "cell_type": "markdown",
      "metadata": {
        "id": "JnzSd1yR5fqh",
        "colab_type": "text"
      },
      "source": [
        "#### we check the percentage of cases having arrival_days and cases having departure_days  more than 100"
      ]
    },
    {
      "cell_type": "code",
      "metadata": {
        "id": "Ge8WgwOa4s2-",
        "colab_type": "code",
        "outputId": "766a7454-b098-4d5e-b2ec-bc8dc50e543c",
        "colab": {
          "base_uri": "https://localhost:8080/",
          "height": 34
        }
      },
      "source": [
        "np.round((raw_data_part2_copy.loc[raw_data_part2_copy['arrival_days'] > 100]['arrival_days'].count()*100/len(raw_data_part2_copy)),2)"
      ],
      "execution_count": 0,
      "outputs": [
        {
          "output_type": "execute_result",
          "data": {
            "text/plain": [
              "20.57"
            ]
          },
          "metadata": {
            "tags": []
          },
          "execution_count": 123
        }
      ]
    },
    {
      "cell_type": "code",
      "metadata": {
        "colab_type": "code",
        "outputId": "1956890f-c4d5-4724-860d-93c0e31b48d9",
        "id": "AYKi2lIl4g2-",
        "colab": {
          "base_uri": "https://localhost:8080/",
          "height": 34
        }
      },
      "source": [
        "np.round((raw_data_part2_copy.loc[raw_data_part2_copy['departure_days'] > 100]['departure_days'].count()*100/len(raw_data_part2_copy)),2)"
      ],
      "execution_count": 0,
      "outputs": [
        {
          "output_type": "execute_result",
          "data": {
            "text/plain": [
              "21.18"
            ]
          },
          "metadata": {
            "tags": []
          },
          "execution_count": 124
        }
      ]
    },
    {
      "cell_type": "markdown",
      "metadata": {
        "id": "gTjEjIH-5sjJ",
        "colab_type": "text"
      },
      "source": [
        "#### so about 20% of cases are above 100 days regarding arrival_days and departure_days so they can not be considered as wrong cases or outliers"
      ]
    },
    {
      "cell_type": "markdown",
      "metadata": {
        "colab_type": "text",
        "id": "KCenrziIjxTV"
      },
      "source": [
        "#### let's check how many negative values(regardless how many times occured) for each of the 3 columns"
      ]
    },
    {
      "cell_type": "code",
      "metadata": {
        "colab_type": "code",
        "outputId": "811b5b50-4808-411d-e592-de0c063ea75d",
        "id": "83AU-aHAjxTW",
        "colab": {
          "base_uri": "https://localhost:8080/",
          "height": 123
        }
      },
      "source": [
        "raw_data_part2_copy['displayed_position'].drop_duplicates().sort_values(ascending=True).head()"
      ],
      "execution_count": 0,
      "outputs": [
        {
          "output_type": "execute_result",
          "data": {
            "text/plain": [
              "0    -11.00\n",
              "2      0.00\n",
              "19     1.00\n",
              "9      2.00\n",
              "13     3.00\n",
              "Name: displayed_position, dtype: float64"
            ]
          },
          "metadata": {
            "tags": []
          },
          "execution_count": 21
        }
      ]
    },
    {
      "cell_type": "code",
      "metadata": {
        "colab_type": "code",
        "outputId": "89bbe510-169b-453f-f5c3-ffce9648ae64",
        "id": "fJqgvMOgjxTY",
        "colab": {
          "base_uri": "https://localhost:8080/",
          "height": 123
        }
      },
      "source": [
        "raw_data_part2_copy['arrival_days'].drop_duplicates().sort_values(ascending=True).head()"
      ],
      "execution_count": 0,
      "outputs": [
        {
          "output_type": "execute_result",
          "data": {
            "text/plain": [
              "3946   -1.00\n",
              "10      0.00\n",
              "21      1.00\n",
              "13      2.00\n",
              "0       3.00\n",
              "Name: arrival_days, dtype: float64"
            ]
          },
          "metadata": {
            "tags": []
          },
          "execution_count": 22
        }
      ]
    },
    {
      "cell_type": "code",
      "metadata": {
        "colab_type": "code",
        "outputId": "b059133d-30d1-4c69-f2de-c5be073da2b8",
        "id": "DnTCeHh_jxTd",
        "colab": {
          "base_uri": "https://localhost:8080/",
          "height": 123
        }
      },
      "source": [
        "raw_data_part2_copy['departure_days'].drop_duplicates().sort_values(ascending=True).head()"
      ],
      "execution_count": 0,
      "outputs": [
        {
          "output_type": "execute_result",
          "data": {
            "text/plain": [
              "28     -1000000.00\n",
              "3946          0.00\n",
              "10            1.00\n",
              "21            2.00\n",
              "19            3.00\n",
              "Name: departure_days, dtype: float64"
            ]
          },
          "metadata": {
            "tags": []
          },
          "execution_count": 23
        }
      ]
    },
    {
      "cell_type": "markdown",
      "metadata": {
        "colab_type": "text",
        "id": "4mNYcpqZjxTg"
      },
      "source": [
        "#### we notice that we have one negative value in the column 'displayed positions' which is '-11'\n",
        "\n",
        "#### also one negative value for the column 'arrival_days' which is '-1'\n",
        "\n",
        "#### also one negative value for the column 'departure_days' which is'-1000000.00'"
      ]
    },
    {
      "cell_type": "markdown",
      "metadata": {
        "colab_type": "text",
        "id": "zmBgSkTEjxTg"
      },
      "source": [
        ""
      ]
    },
    {
      "cell_type": "code",
      "metadata": {
        "colab_type": "code",
        "id": "QDkBn4hGjxTg",
        "colab": {}
      },
      "source": [
        ""
      ],
      "execution_count": 0,
      "outputs": []
    },
    {
      "cell_type": "markdown",
      "metadata": {
        "colab_type": "text",
        "id": "fOYvTM6vjxTi"
      },
      "source": [
        "#### then we run frequencies for  all columns , displaying the top five  frequent values per column (with frequency)"
      ]
    },
    {
      "cell_type": "code",
      "metadata": {
        "id": "dwz4GOXLTaUD",
        "colab_type": "code",
        "outputId": "b6320f8f-3aba-4f58-9f59-fc76b8d5cee4",
        "colab": {
          "base_uri": "https://localhost:8080/",
          "height": 1000
        }
      },
      "source": [
        "for i in raw_data_part2_copy.columns:\n",
        "  print('top 5 frequent values for :' + i)\n",
        "  print(raw_data_part2_copy[i].value_counts().head())\n",
        "  print('')"
      ],
      "execution_count": 0,
      "outputs": [
        {
          "output_type": "stream",
          "text": [
            "top 5 frequent values for :user_id\n",
            "4509866267912745159    549\n",
            "3212529366726084995    373\n",
            "9051529085815567256    332\n",
            "8844433817516149751    272\n",
            "6297403635493453063    219\n",
            "Name: user_id, dtype: int64\n",
            "\n",
            "top 5 frequent values for :session_id\n",
            "5.009065438025538e+18    337\n",
            "8.5605698441416e+18      148\n",
            "2.839951425820838e+18    109\n",
            "7.154740478512522e+18     92\n",
            "3.191224920191539e+18     88\n",
            "Name: session_id, dtype: int64\n",
            "\n",
            "top 5 frequent values for :clicked_item_id\n",
            "2834772    2869\n",
            "1321090    2828\n",
            "12624      2575\n",
            "32940      2324\n",
            "1455251    2297\n",
            "Name: clicked_item_id, dtype: int64\n",
            "\n",
            "top 5 frequent values for :displayed_position\n",
            "0.00      495014\n",
            "1.00      203090\n",
            "-11.00    152437\n",
            "2.00      138789\n",
            "3.00      108490\n",
            "Name: displayed_position, dtype: int64\n",
            "\n",
            "top 5 frequent values for :page_num\n",
            "0.00    1677391\n",
            "1.00     124109\n",
            "2.00      44578\n",
            "3.00      21226\n",
            "4.00      11857\n",
            "Name: page_num, dtype: int64\n",
            "\n",
            "top 5 frequent values for :sort_order\n",
            "12.00     1162269\n",
            "312.00     283516\n",
            "212.00     229803\n",
            "412.00      94343\n",
            "41.00       54259\n",
            "Name: sort_order, dtype: int64\n",
            "\n",
            "top 5 frequent values for :search_type\n",
            "2113.00    928598\n",
            "2116.00    375583\n",
            "2111.00    230316\n",
            "2115.00    194310\n",
            "2114.00    174986\n",
            "Name: search_type, dtype: int64\n",
            "\n",
            "top 5 frequent values for :path_id\n",
            "38715.00    138706\n",
            "46814.00     41379\n",
            "41579.00     36498\n",
            "38961.00     31634\n",
            "31965.00     30928\n",
            "Name: path_id, dtype: int64\n",
            "\n",
            "top 5 frequent values for :arrival_days\n",
            "0.00    65863\n",
            "3.00    63180\n",
            "1.00    60910\n",
            "4.00    54871\n",
            "5.00    50279\n",
            "Name: arrival_days, dtype: int64\n",
            "\n",
            "top 5 frequent values for :departure_days\n",
            "4.00           59506\n",
            "1.00           52780\n",
            "-1000000.00    52530\n",
            "5.00           51982\n",
            "6.00           48879\n",
            "Name: departure_days, dtype: int64\n",
            "\n",
            "top 5 frequent values for :traffic_type\n",
            "2.00    1496629\n",
            "3.00     301763\n",
            "1.00     105403\n",
            "Name: traffic_type, dtype: int64\n",
            "\n",
            "top 5 frequent values for :impressed_item_ids \n",
            "1455251;40899;4995818;40887;15854;40928;2282460;40923;2805646;40917;15119;1332489;2292434;40921;40894;1234586;40935;40883;2727758;4775026;40880;15122;1105676;15114;40910                    141\n",
            "3439776                                                                                                                                                                                       80\n",
            "2092330;3390442;3439776                                                                                                                                                                       78\n",
            "1455251;40887;4995818;40899;40928;15854;40923;2282460;2805646;40917;40921;15119;40909;1332489;1234586;4775026;40883;40894;40935;2292434;2065710;914555;150636;1833933;2727758                 76\n",
            "1330971;149339;624396;693916;927159;945921;1109455;1247036;1259540;2173240;2588352;3056364;4527530;3812986;909353;97917;900401;97940;153032;2396300;1929999;3492384;920327;1363627;449196     56\n",
            "Name: impressed_item_ids , dtype: int64\n",
            "\n"
          ],
          "name": "stdout"
        }
      ]
    },
    {
      "cell_type": "markdown",
      "metadata": {
        "id": "RDtgp2nRsrYC",
        "colab_type": "text"
      },
      "source": [
        "#### We see that 'impressed_item_ids' not so nicely displayed in frequencies, so ,we store it as a list of impressed items for each click in a new column called 'impressions_per_click'"
      ]
    },
    {
      "cell_type": "code",
      "metadata": {
        "colab_type": "code",
        "id": "6kunnaBUjxTk",
        "colab": {}
      },
      "source": [
        "raw_data_part2_copy['impressions_per_click']  =pd.Series(raw_data_part2_copy.iloc[:,11].str.split(';'))"
      ],
      "execution_count": 0,
      "outputs": []
    },
    {
      "cell_type": "code",
      "metadata": {
        "colab_type": "code",
        "id": "2RjeIK2hjxTl",
        "colab": {}
      },
      "source": [
        "raw_data_part2_copy=raw_data_part2_copy.drop(columns=['impressed_item_ids '])"
      ],
      "execution_count": 0,
      "outputs": []
    },
    {
      "cell_type": "code",
      "metadata": {
        "colab_type": "code",
        "id": "6lTXV70rjxTn",
        "colab": {}
      },
      "source": [
        ""
      ],
      "execution_count": 0,
      "outputs": []
    },
    {
      "cell_type": "markdown",
      "metadata": {
        "colab_type": "text",
        "id": "m0DhXSigjxTo"
      },
      "source": [
        "### From columns description, we know that :\n",
        "### • Arrival_days: number of days from the date of the search and the date of the check- in. \n",
        "### • Departure_days: number of days from the date of the search and the date of the check-out. \n",
        "\n",
        "### Thus, we need to check whether in other cases (clicks) , that both 'arrival_days' and 'departure_days' have positive or zero values, we have always departure_days greater than or equal arrival_days"
      ]
    },
    {
      "cell_type": "code",
      "metadata": {
        "colab_type": "code",
        "id": "jDeTXM_xjxTo",
        "colab": {}
      },
      "source": [
        "spent_days_raw=raw_data_part2_copy.loc[(raw_data_part2_copy['departure_days']>-1000000) & (raw_data_part2_copy['arrival_days']>-1)]['departure_days'] - raw_data_part2_copy.loc[(raw_data_part2_copy['departure_days']>-1000000) & (raw_data_part2_copy['arrival_days']>-1)]['arrival_days']"
      ],
      "execution_count": 0,
      "outputs": []
    },
    {
      "cell_type": "code",
      "metadata": {
        "colab_type": "code",
        "outputId": "7ebe0d9f-4a62-47d6-d9f8-ffa515200422",
        "id": "yBqBN-A_jxTq",
        "colab": {
          "base_uri": "https://localhost:8080/",
          "height": 34
        }
      },
      "source": [
        "spent_days_raw.min()"
      ],
      "execution_count": 0,
      "outputs": [
        {
          "output_type": "execute_result",
          "data": {
            "text/plain": [
              "1.0"
            ]
          },
          "metadata": {
            "tags": []
          },
          "execution_count": 28
        }
      ]
    },
    {
      "cell_type": "markdown",
      "metadata": {
        "colab_type": "text",
        "id": "4b5ZXTafjxTs"
      },
      "source": [
        "#### thus we realize that departure_days greater than or equal arrival_days\n",
        "\n",
        "\n"
      ]
    },
    {
      "cell_type": "markdown",
      "metadata": {
        "colab_type": "text",
        "id": "JKUhldCZjxTw"
      },
      "source": [
        "### From the top 5 frequency we see a very dangerous result, the incorrect value'-11' is the third most frequent value in the column 'displayed_position' the same for the value '-1000000.0' in the column 'departure_days' so these values can affect badly the results"
      ]
    },
    {
      "cell_type": "markdown",
      "metadata": {
        "colab_type": "text",
        "id": "0DaFWhp6jxTw"
      },
      "source": [
        "### in case of column 'displayed_position' it is more likely that the value '-11'  referring to missing or non correct value\n",
        "\n",
        "### thus , to solve this issue , compute positions of eaach clicked items manually\n",
        "### we see the clicked item and its order in ;impressed_item_ids' column , then inplace this order as displayed position of the clicked item"
      ]
    },
    {
      "cell_type": "code",
      "metadata": {
        "colab_type": "code",
        "id": "kMeXRsYtjxTw",
        "colab": {}
      },
      "source": [
        "impressions_per_click=raw_data_part2_copy['impressions_per_click'] "
      ],
      "execution_count": 0,
      "outputs": []
    },
    {
      "cell_type": "code",
      "metadata": {
        "colab_type": "code",
        "id": "uPikD-THjxTy",
        "colab": {}
      },
      "source": [
        "click_item_id=raw_data_part2_copy['clicked_item_id']"
      ],
      "execution_count": 0,
      "outputs": []
    },
    {
      "cell_type": "code",
      "metadata": {
        "colab_type": "code",
        "id": "sk-aHqZfjxTz",
        "colab": {}
      },
      "source": [
        "d=[]\n",
        "for  i in range(len(click_item_id)) :\n",
        "  f=impressions_per_click[i].index(click_item_id[i])\n",
        "  d.append(f)\n",
        "\n",
        "  \n",
        " \n",
        "      "
      ],
      "execution_count": 0,
      "outputs": []
    },
    {
      "cell_type": "code",
      "metadata": {
        "colab_type": "code",
        "outputId": "2ac390e6-76c1-4857-ccf2-cdf0583bfb51",
        "id": "ZijwEIpUjxT0",
        "colab": {
          "base_uri": "https://localhost:8080/",
          "height": 34
        }
      },
      "source": [
        "d[0:6]"
      ],
      "execution_count": 0,
      "outputs": [
        {
          "output_type": "execute_result",
          "data": {
            "text/plain": [
              "[12, 6, 0, 6, 0, 0]"
            ]
          },
          "metadata": {
            "tags": []
          },
          "execution_count": 32
        }
      ]
    },
    {
      "cell_type": "code",
      "metadata": {
        "colab_type": "code",
        "id": "stCmuN8NjxT3",
        "colab": {}
      },
      "source": [
        "raw_data_part2_copy['displayed_position_correct']=d"
      ],
      "execution_count": 0,
      "outputs": []
    },
    {
      "cell_type": "markdown",
      "metadata": {
        "colab_type": "text",
        "id": "w_EPyWJJjxUG"
      },
      "source": [
        "#### then we add 1 to display position to make 1 apply to the first position and so on , to reflect the  real positions in the column"
      ]
    },
    {
      "cell_type": "code",
      "metadata": {
        "colab_type": "code",
        "id": "ooD3n-TPjxUG",
        "colab": {}
      },
      "source": [
        "raw_data_part2_copy['displayed_position_correct']=raw_data_part2_copy['displayed_position_correct']+1"
      ],
      "execution_count": 0,
      "outputs": []
    },
    {
      "cell_type": "code",
      "metadata": {
        "colab_type": "code",
        "outputId": "b34ef07c-d8d4-482e-9507-f9c449febc50",
        "id": "PeHqLN5jjxUH",
        "colab": {
          "base_uri": "https://localhost:8080/",
          "height": 123
        }
      },
      "source": [
        "raw_data_part2_copy['displayed_position_correct'].value_counts().head()"
      ],
      "execution_count": 0,
      "outputs": [
        {
          "output_type": "execute_result",
          "data": {
            "text/plain": [
              "1    538300\n",
              "2    220850\n",
              "3    150997\n",
              "4    117847\n",
              "5     97339\n",
              "Name: displayed_position_correct, dtype: int64"
            ]
          },
          "metadata": {
            "tags": []
          },
          "execution_count": 35
        }
      ]
    },
    {
      "cell_type": "markdown",
      "metadata": {
        "colab_type": "text",
        "id": "uIBr7qM5jxUJ"
      },
      "source": [
        "#### so we remove the errornous column for better performance\n",
        "\n",
        "---\n",
        "\n"
      ]
    },
    {
      "cell_type": "code",
      "metadata": {
        "colab_type": "code",
        "id": "nG3CVDvjjxUN",
        "colab": {}
      },
      "source": [
        "raw_data_part2_copy=raw_data_part2_copy.drop(columns=['displayed_position'])"
      ],
      "execution_count": 0,
      "outputs": []
    },
    {
      "cell_type": "code",
      "metadata": {
        "colab_type": "code",
        "outputId": "be493544-f3bb-4940-983a-c81a714893ab",
        "id": "OCaKrhWYjxUP",
        "colab": {
          "base_uri": "https://localhost:8080/",
          "height": 384
        }
      },
      "source": [
        "raw_data_part2_copy.head()"
      ],
      "execution_count": 0,
      "outputs": [
        {
          "output_type": "execute_result",
          "data": {
            "text/html": [
              "<div>\n",
              "<style scoped>\n",
              "    .dataframe tbody tr th:only-of-type {\n",
              "        vertical-align: middle;\n",
              "    }\n",
              "\n",
              "    .dataframe tbody tr th {\n",
              "        vertical-align: top;\n",
              "    }\n",
              "\n",
              "    .dataframe thead th {\n",
              "        text-align: right;\n",
              "    }\n",
              "</style>\n",
              "<table border=\"1\" class=\"dataframe\">\n",
              "  <thead>\n",
              "    <tr style=\"text-align: right;\">\n",
              "      <th></th>\n",
              "      <th>user_id</th>\n",
              "      <th>session_id</th>\n",
              "      <th>clicked_item_id</th>\n",
              "      <th>page_num</th>\n",
              "      <th>sort_order</th>\n",
              "      <th>search_type</th>\n",
              "      <th>path_id</th>\n",
              "      <th>arrival_days</th>\n",
              "      <th>departure_days</th>\n",
              "      <th>traffic_type</th>\n",
              "      <th>impressions_per_click</th>\n",
              "      <th>displayed_position_correct</th>\n",
              "    </tr>\n",
              "  </thead>\n",
              "  <tbody>\n",
              "    <tr>\n",
              "      <th>0</th>\n",
              "      <td>6216730024127027591</td>\n",
              "      <td>3.7556300552695163e+18</td>\n",
              "      <td>3390592</td>\n",
              "      <td>0.00</td>\n",
              "      <td>12.00</td>\n",
              "      <td>2113.00</td>\n",
              "      <td>39693.00</td>\n",
              "      <td>3.00</td>\n",
              "      <td>4.00</td>\n",
              "      <td>2.00</td>\n",
              "      <td>[128992, 127920, 132177, 1107164, 19389, 32176...</td>\n",
              "      <td>13</td>\n",
              "    </tr>\n",
              "    <tr>\n",
              "      <th>1</th>\n",
              "      <td>3540322805835307689</td>\n",
              "      <td>4.581411196117764e+18</td>\n",
              "      <td>2393900</td>\n",
              "      <td>0.00</td>\n",
              "      <td>21.00</td>\n",
              "      <td>2113.00</td>\n",
              "      <td>35009.00</td>\n",
              "      <td>21.00</td>\n",
              "      <td>22.00</td>\n",
              "      <td>2.00</td>\n",
              "      <td>[5169438, 997421, 76994, 1376364, 67654, 68977...</td>\n",
              "      <td>7</td>\n",
              "    </tr>\n",
              "    <tr>\n",
              "      <th>2</th>\n",
              "      <td>5439210126639293380</td>\n",
              "      <td>7.260243962113139e+18</td>\n",
              "      <td>8285</td>\n",
              "      <td>0.00</td>\n",
              "      <td>12.00</td>\n",
              "      <td>2116.00</td>\n",
              "      <td>34390.00</td>\n",
              "      <td>301.00</td>\n",
              "      <td>302.00</td>\n",
              "      <td>2.00</td>\n",
              "      <td>[8285, 8284, 78562, 8243, 1288434, 61564, 6029...</td>\n",
              "      <td>1</td>\n",
              "    </tr>\n",
              "    <tr>\n",
              "      <th>3</th>\n",
              "      <td>3482625725900275142</td>\n",
              "      <td>3.013037030426146e+18</td>\n",
              "      <td>148308</td>\n",
              "      <td>0.00</td>\n",
              "      <td>41.00</td>\n",
              "      <td>2113.00</td>\n",
              "      <td>41579.00</td>\n",
              "      <td>39.00</td>\n",
              "      <td>42.00</td>\n",
              "      <td>3.00</td>\n",
              "      <td>[2196706, 46431, 1262783, 148312, 1478421, 617...</td>\n",
              "      <td>7</td>\n",
              "    </tr>\n",
              "    <tr>\n",
              "      <th>4</th>\n",
              "      <td>6185636196804664137</td>\n",
              "      <td>1.463578972675331e+18</td>\n",
              "      <td>4527530</td>\n",
              "      <td>0.00</td>\n",
              "      <td>12.00</td>\n",
              "      <td>2116.00</td>\n",
              "      <td>85724.00</td>\n",
              "      <td>48.00</td>\n",
              "      <td>49.00</td>\n",
              "      <td>2.00</td>\n",
              "      <td>[4527530, 149339, 945921, 1236133, 1259540, 17...</td>\n",
              "      <td>1</td>\n",
              "    </tr>\n",
              "  </tbody>\n",
              "</table>\n",
              "</div>"
            ],
            "text/plain": [
              "               user_id  ... displayed_position_correct\n",
              "0  6216730024127027591  ...                         13\n",
              "1  3540322805835307689  ...                          7\n",
              "2  5439210126639293380  ...                          1\n",
              "3  3482625725900275142  ...                          7\n",
              "4  6185636196804664137  ...                          1\n",
              "\n",
              "[5 rows x 12 columns]"
            ]
          },
          "metadata": {
            "tags": []
          },
          "execution_count": 37
        }
      ]
    },
    {
      "cell_type": "markdown",
      "metadata": {
        "colab_type": "text",
        "id": "eLZaT7IfjxUS"
      },
      "source": [
        "### regarding the column 'arrival_days' we think that the value '-1' had to be the value 1 referring that a user took one day after searching to check in\n",
        "\n",
        "#### so we check if we can do the same (i.e take the absolute value for -1 as the correct value)\n",
        "\n",
        "#### we take arrival_days and departure_days for the top 20 cases (clicks)in which arrival days=-1"
      ]
    },
    {
      "cell_type": "code",
      "metadata": {
        "colab_type": "code",
        "outputId": "420a5fe7-95b9-4c86-ee27-aafe07feb2a6",
        "id": "7702pbbJjxUT",
        "colab": {
          "base_uri": "https://localhost:8080/",
          "height": 647
        }
      },
      "source": [
        "raw_data_part2_copy.loc[raw_data_part2_copy['arrival_days']==-1,['arrival_days','departure_days']].head(20)"
      ],
      "execution_count": 0,
      "outputs": [
        {
          "output_type": "execute_result",
          "data": {
            "text/html": [
              "<div>\n",
              "<style scoped>\n",
              "    .dataframe tbody tr th:only-of-type {\n",
              "        vertical-align: middle;\n",
              "    }\n",
              "\n",
              "    .dataframe tbody tr th {\n",
              "        vertical-align: top;\n",
              "    }\n",
              "\n",
              "    .dataframe thead th {\n",
              "        text-align: right;\n",
              "    }\n",
              "</style>\n",
              "<table border=\"1\" class=\"dataframe\">\n",
              "  <thead>\n",
              "    <tr style=\"text-align: right;\">\n",
              "      <th></th>\n",
              "      <th>arrival_days</th>\n",
              "      <th>departure_days</th>\n",
              "    </tr>\n",
              "  </thead>\n",
              "  <tbody>\n",
              "    <tr>\n",
              "      <th>3946</th>\n",
              "      <td>-1.00</td>\n",
              "      <td>0.00</td>\n",
              "    </tr>\n",
              "    <tr>\n",
              "      <th>10395</th>\n",
              "      <td>-1.00</td>\n",
              "      <td>0.00</td>\n",
              "    </tr>\n",
              "    <tr>\n",
              "      <th>14196</th>\n",
              "      <td>-1.00</td>\n",
              "      <td>0.00</td>\n",
              "    </tr>\n",
              "    <tr>\n",
              "      <th>15360</th>\n",
              "      <td>-1.00</td>\n",
              "      <td>0.00</td>\n",
              "    </tr>\n",
              "    <tr>\n",
              "      <th>17950</th>\n",
              "      <td>-1.00</td>\n",
              "      <td>0.00</td>\n",
              "    </tr>\n",
              "    <tr>\n",
              "      <th>24471</th>\n",
              "      <td>-1.00</td>\n",
              "      <td>0.00</td>\n",
              "    </tr>\n",
              "    <tr>\n",
              "      <th>42822</th>\n",
              "      <td>-1.00</td>\n",
              "      <td>1.00</td>\n",
              "    </tr>\n",
              "    <tr>\n",
              "      <th>47009</th>\n",
              "      <td>-1.00</td>\n",
              "      <td>0.00</td>\n",
              "    </tr>\n",
              "    <tr>\n",
              "      <th>47235</th>\n",
              "      <td>-1.00</td>\n",
              "      <td>0.00</td>\n",
              "    </tr>\n",
              "    <tr>\n",
              "      <th>48273</th>\n",
              "      <td>-1.00</td>\n",
              "      <td>0.00</td>\n",
              "    </tr>\n",
              "    <tr>\n",
              "      <th>55608</th>\n",
              "      <td>-1.00</td>\n",
              "      <td>0.00</td>\n",
              "    </tr>\n",
              "    <tr>\n",
              "      <th>58242</th>\n",
              "      <td>-1.00</td>\n",
              "      <td>1.00</td>\n",
              "    </tr>\n",
              "    <tr>\n",
              "      <th>58289</th>\n",
              "      <td>-1.00</td>\n",
              "      <td>0.00</td>\n",
              "    </tr>\n",
              "    <tr>\n",
              "      <th>61178</th>\n",
              "      <td>-1.00</td>\n",
              "      <td>0.00</td>\n",
              "    </tr>\n",
              "    <tr>\n",
              "      <th>65983</th>\n",
              "      <td>-1.00</td>\n",
              "      <td>0.00</td>\n",
              "    </tr>\n",
              "    <tr>\n",
              "      <th>78659</th>\n",
              "      <td>-1.00</td>\n",
              "      <td>0.00</td>\n",
              "    </tr>\n",
              "    <tr>\n",
              "      <th>78999</th>\n",
              "      <td>-1.00</td>\n",
              "      <td>-1000000.00</td>\n",
              "    </tr>\n",
              "    <tr>\n",
              "      <th>87282</th>\n",
              "      <td>-1.00</td>\n",
              "      <td>0.00</td>\n",
              "    </tr>\n",
              "    <tr>\n",
              "      <th>106164</th>\n",
              "      <td>-1.00</td>\n",
              "      <td>0.00</td>\n",
              "    </tr>\n",
              "    <tr>\n",
              "      <th>108347</th>\n",
              "      <td>-1.00</td>\n",
              "      <td>0.00</td>\n",
              "    </tr>\n",
              "  </tbody>\n",
              "</table>\n",
              "</div>"
            ],
            "text/plain": [
              "        arrival_days  departure_days\n",
              "3946           -1.00            0.00\n",
              "10395          -1.00            0.00\n",
              "14196          -1.00            0.00\n",
              "15360          -1.00            0.00\n",
              "17950          -1.00            0.00\n",
              "24471          -1.00            0.00\n",
              "42822          -1.00            1.00\n",
              "47009          -1.00            0.00\n",
              "47235          -1.00            0.00\n",
              "48273          -1.00            0.00\n",
              "55608          -1.00            0.00\n",
              "58242          -1.00            1.00\n",
              "58289          -1.00            0.00\n",
              "61178          -1.00            0.00\n",
              "65983          -1.00            0.00\n",
              "78659          -1.00            0.00\n",
              "78999          -1.00     -1000000.00\n",
              "87282          -1.00            0.00\n",
              "106164         -1.00            0.00\n",
              "108347         -1.00            0.00"
            ]
          },
          "metadata": {
            "tags": []
          },
          "execution_count": 38
        }
      ]
    },
    {
      "cell_type": "markdown",
      "metadata": {
        "colab_type": "text",
        "id": "z1LY95WQjxUY"
      },
      "source": [
        "#### thus we see that if we take positive 1 we will have arrival_days greater than departure_days \n",
        "\n",
        "#### Actually from the above data we can conclude that the most likely that these -1 values had to be recorded as zeros\n",
        "\n",
        "#### in a click like '58242' the user has arrival days of -1 and departure days of 1 this suggests that he arrived in the same day of clicking \n",
        "\n",
        "#### in other cases , we see arrival days of -1 , and departure days of 0 this indicates whether a user arrived and departed in the same day, or did not go \n",
        "\n",
        "#### in both cases , it is better to encode arrival  with zero\n",
        "\n",
        "#### thus we replace -1 values in arrival days  with zeroes"
      ]
    },
    {
      "cell_type": "code",
      "metadata": {
        "colab_type": "code",
        "id": "6r568fMDjxUY",
        "colab": {}
      },
      "source": [
        "raw_data_part2_copy['arrival_days_correct']=np.where(raw_data_part2_copy['arrival_days']>-1, raw_data_part2_copy['arrival_days'], 0)"
      ],
      "execution_count": 0,
      "outputs": []
    },
    {
      "cell_type": "code",
      "metadata": {
        "colab_type": "code",
        "outputId": "44d26fe3-a02d-465b-ba2c-669ca6510b23",
        "id": "oOvI-3f3jxUa",
        "colab": {
          "base_uri": "https://localhost:8080/",
          "height": 123
        }
      },
      "source": [
        "raw_data_part2_copy['arrival_days_correct'].value_counts().head()"
      ],
      "execution_count": 0,
      "outputs": [
        {
          "output_type": "execute_result",
          "data": {
            "text/plain": [
              "0.00    66159\n",
              "3.00    63180\n",
              "1.00    60910\n",
              "4.00    54871\n",
              "5.00    50279\n",
              "Name: arrival_days_correct, dtype: int64"
            ]
          },
          "metadata": {
            "tags": []
          },
          "execution_count": 40
        }
      ]
    },
    {
      "cell_type": "markdown",
      "metadata": {
        "colab_type": "text",
        "id": "zTmDkWtyjxUe"
      },
      "source": [
        "#### so we remove the errornous column for better performance"
      ]
    },
    {
      "cell_type": "code",
      "metadata": {
        "colab_type": "code",
        "id": "M9YbeQwvjxUe",
        "colab": {}
      },
      "source": [
        "raw_data_part2_copy=raw_data_part2_copy.drop(columns=['arrival_days'])"
      ],
      "execution_count": 0,
      "outputs": []
    },
    {
      "cell_type": "code",
      "metadata": {
        "colab_type": "code",
        "outputId": "d9283c1e-804d-470b-b1ce-72081aaa6403",
        "id": "njU5_sdkjxUg",
        "colab": {
          "base_uri": "https://localhost:8080/",
          "height": 384
        }
      },
      "source": [
        "raw_data_part2_copy.head()"
      ],
      "execution_count": 0,
      "outputs": [
        {
          "output_type": "execute_result",
          "data": {
            "text/html": [
              "<div>\n",
              "<style scoped>\n",
              "    .dataframe tbody tr th:only-of-type {\n",
              "        vertical-align: middle;\n",
              "    }\n",
              "\n",
              "    .dataframe tbody tr th {\n",
              "        vertical-align: top;\n",
              "    }\n",
              "\n",
              "    .dataframe thead th {\n",
              "        text-align: right;\n",
              "    }\n",
              "</style>\n",
              "<table border=\"1\" class=\"dataframe\">\n",
              "  <thead>\n",
              "    <tr style=\"text-align: right;\">\n",
              "      <th></th>\n",
              "      <th>user_id</th>\n",
              "      <th>session_id</th>\n",
              "      <th>clicked_item_id</th>\n",
              "      <th>page_num</th>\n",
              "      <th>sort_order</th>\n",
              "      <th>search_type</th>\n",
              "      <th>path_id</th>\n",
              "      <th>departure_days</th>\n",
              "      <th>traffic_type</th>\n",
              "      <th>impressions_per_click</th>\n",
              "      <th>displayed_position_correct</th>\n",
              "      <th>arrival_days_correct</th>\n",
              "    </tr>\n",
              "  </thead>\n",
              "  <tbody>\n",
              "    <tr>\n",
              "      <th>0</th>\n",
              "      <td>6216730024127027591</td>\n",
              "      <td>3.7556300552695163e+18</td>\n",
              "      <td>3390592</td>\n",
              "      <td>0.00</td>\n",
              "      <td>12.00</td>\n",
              "      <td>2113.00</td>\n",
              "      <td>39693.00</td>\n",
              "      <td>4.00</td>\n",
              "      <td>2.00</td>\n",
              "      <td>[128992, 127920, 132177, 1107164, 19389, 32176...</td>\n",
              "      <td>13</td>\n",
              "      <td>3.00</td>\n",
              "    </tr>\n",
              "    <tr>\n",
              "      <th>1</th>\n",
              "      <td>3540322805835307689</td>\n",
              "      <td>4.581411196117764e+18</td>\n",
              "      <td>2393900</td>\n",
              "      <td>0.00</td>\n",
              "      <td>21.00</td>\n",
              "      <td>2113.00</td>\n",
              "      <td>35009.00</td>\n",
              "      <td>22.00</td>\n",
              "      <td>2.00</td>\n",
              "      <td>[5169438, 997421, 76994, 1376364, 67654, 68977...</td>\n",
              "      <td>7</td>\n",
              "      <td>21.00</td>\n",
              "    </tr>\n",
              "    <tr>\n",
              "      <th>2</th>\n",
              "      <td>5439210126639293380</td>\n",
              "      <td>7.260243962113139e+18</td>\n",
              "      <td>8285</td>\n",
              "      <td>0.00</td>\n",
              "      <td>12.00</td>\n",
              "      <td>2116.00</td>\n",
              "      <td>34390.00</td>\n",
              "      <td>302.00</td>\n",
              "      <td>2.00</td>\n",
              "      <td>[8285, 8284, 78562, 8243, 1288434, 61564, 6029...</td>\n",
              "      <td>1</td>\n",
              "      <td>301.00</td>\n",
              "    </tr>\n",
              "    <tr>\n",
              "      <th>3</th>\n",
              "      <td>3482625725900275142</td>\n",
              "      <td>3.013037030426146e+18</td>\n",
              "      <td>148308</td>\n",
              "      <td>0.00</td>\n",
              "      <td>41.00</td>\n",
              "      <td>2113.00</td>\n",
              "      <td>41579.00</td>\n",
              "      <td>42.00</td>\n",
              "      <td>3.00</td>\n",
              "      <td>[2196706, 46431, 1262783, 148312, 1478421, 617...</td>\n",
              "      <td>7</td>\n",
              "      <td>39.00</td>\n",
              "    </tr>\n",
              "    <tr>\n",
              "      <th>4</th>\n",
              "      <td>6185636196804664137</td>\n",
              "      <td>1.463578972675331e+18</td>\n",
              "      <td>4527530</td>\n",
              "      <td>0.00</td>\n",
              "      <td>12.00</td>\n",
              "      <td>2116.00</td>\n",
              "      <td>85724.00</td>\n",
              "      <td>49.00</td>\n",
              "      <td>2.00</td>\n",
              "      <td>[4527530, 149339, 945921, 1236133, 1259540, 17...</td>\n",
              "      <td>1</td>\n",
              "      <td>48.00</td>\n",
              "    </tr>\n",
              "  </tbody>\n",
              "</table>\n",
              "</div>"
            ],
            "text/plain": [
              "               user_id  ... arrival_days_correct\n",
              "0  6216730024127027591  ...                 3.00\n",
              "1  3540322805835307689  ...                21.00\n",
              "2  5439210126639293380  ...               301.00\n",
              "3  3482625725900275142  ...                39.00\n",
              "4  6185636196804664137  ...                48.00\n",
              "\n",
              "[5 rows x 12 columns]"
            ]
          },
          "metadata": {
            "tags": []
          },
          "execution_count": 42
        }
      ]
    },
    {
      "cell_type": "markdown",
      "metadata": {
        "colab_type": "text",
        "id": "i6QsS9MPjxUk"
      },
      "source": [
        "### now, we get to the most difficult, the value '-1000000' for departure days, i thinks this is recorded not to instead of positive values, off course no traveller will spend 1000000 days in a destination\n",
        "\n",
        "### instead we think that when we find this value it indicates that value is missing(i.e number of days from the date of the search and the date of the check-out is not recorded)\n",
        "\n",
        "### we suggest a method to inplace this value\n",
        "\n"
      ]
    },
    {
      "cell_type": "markdown",
      "metadata": {
        "colab_type": "text",
        "id": "G8mfmP2VjxUk"
      },
      "source": [
        "#### First : we calculate number of days spent between check in and check out for users that have correct values for departure days (i.e != -1000000) and compute their average"
      ]
    },
    {
      "cell_type": "code",
      "metadata": {
        "colab_type": "code",
        "id": "KIHjRD05jxUl",
        "colab": {}
      },
      "source": [
        "spent_days=raw_data_part2_copy.loc[(raw_data_part2_copy['departure_days']>-1000000)]['departure_days'] - raw_data_part2_copy.loc[(raw_data_part2_copy['departure_days']>-1000000) ]['arrival_days_correct']"
      ],
      "execution_count": 0,
      "outputs": []
    },
    {
      "cell_type": "markdown",
      "metadata": {
        "colab_type": "text",
        "id": "hVkeSx01jxUo"
      },
      "source": [
        "#### then , we get the average of days spent"
      ]
    },
    {
      "cell_type": "code",
      "metadata": {
        "colab_type": "code",
        "id": "UmBx0t8AjxUo",
        "colab": {}
      },
      "source": [
        "average_spent_days=np.round((spent_days.mean()),0)"
      ],
      "execution_count": 0,
      "outputs": []
    },
    {
      "cell_type": "code",
      "metadata": {
        "colab_type": "code",
        "outputId": "e89af902-47ef-4e9a-b5df-71fd77e06858",
        "id": "fs4buyhBjxUp",
        "colab": {
          "base_uri": "https://localhost:8080/",
          "height": 34
        }
      },
      "source": [
        "print(average_spent_days)"
      ],
      "execution_count": 0,
      "outputs": [
        {
          "output_type": "stream",
          "text": [
            "3.0\n"
          ],
          "name": "stdout"
        }
      ]
    },
    {
      "cell_type": "markdown",
      "metadata": {
        "colab_type": "text",
        "id": "9Zh1-FTJjxUw"
      },
      "source": [
        "#### then we add average of days spent to the column arrival_days_correct to get an acceptable estimate for departure_days for cases (clicks) that have 'departure_days'==-1000000"
      ]
    },
    {
      "cell_type": "code",
      "metadata": {
        "colab_type": "code",
        "id": "O7idB2lEjxUx",
        "colab": {}
      },
      "source": [
        "raw_data_part2_copy['departure_days_correct'] = np.where(raw_data_part2_copy['departure_days']>-1000000, raw_data_part2_copy['departure_days'], raw_data_part2_copy['arrival_days_correct']+3)\n"
      ],
      "execution_count": 0,
      "outputs": []
    },
    {
      "cell_type": "markdown",
      "metadata": {
        "colab_type": "text",
        "id": "xHsdF3NJjxU1"
      },
      "source": [
        "#### just make sure that of the solution's result"
      ]
    },
    {
      "cell_type": "code",
      "metadata": {
        "colab_type": "code",
        "outputId": "ba6585ef-aa60-4699-f98b-fa70105a80fa",
        "id": "37avOnXkjxU2",
        "colab": {
          "base_uri": "https://localhost:8080/",
          "height": 347
        }
      },
      "source": [
        "raw_data_part2_copy.loc[raw_data_part2_copy['departure_days']==-1000000 , ['departure_days','departure_days_correct','arrival_days_correct']].head(10)"
      ],
      "execution_count": 0,
      "outputs": [
        {
          "output_type": "execute_result",
          "data": {
            "text/html": [
              "<div>\n",
              "<style scoped>\n",
              "    .dataframe tbody tr th:only-of-type {\n",
              "        vertical-align: middle;\n",
              "    }\n",
              "\n",
              "    .dataframe tbody tr th {\n",
              "        vertical-align: top;\n",
              "    }\n",
              "\n",
              "    .dataframe thead th {\n",
              "        text-align: right;\n",
              "    }\n",
              "</style>\n",
              "<table border=\"1\" class=\"dataframe\">\n",
              "  <thead>\n",
              "    <tr style=\"text-align: right;\">\n",
              "      <th></th>\n",
              "      <th>departure_days</th>\n",
              "      <th>departure_days_correct</th>\n",
              "      <th>arrival_days_correct</th>\n",
              "    </tr>\n",
              "  </thead>\n",
              "  <tbody>\n",
              "    <tr>\n",
              "      <th>28</th>\n",
              "      <td>-1000000.00</td>\n",
              "      <td>56.00</td>\n",
              "      <td>53.00</td>\n",
              "    </tr>\n",
              "    <tr>\n",
              "      <th>80</th>\n",
              "      <td>-1000000.00</td>\n",
              "      <td>3.00</td>\n",
              "      <td>0.00</td>\n",
              "    </tr>\n",
              "    <tr>\n",
              "      <th>115</th>\n",
              "      <td>-1000000.00</td>\n",
              "      <td>5.00</td>\n",
              "      <td>2.00</td>\n",
              "    </tr>\n",
              "    <tr>\n",
              "      <th>117</th>\n",
              "      <td>-1000000.00</td>\n",
              "      <td>4.00</td>\n",
              "      <td>1.00</td>\n",
              "    </tr>\n",
              "    <tr>\n",
              "      <th>139</th>\n",
              "      <td>-1000000.00</td>\n",
              "      <td>32.00</td>\n",
              "      <td>29.00</td>\n",
              "    </tr>\n",
              "    <tr>\n",
              "      <th>152</th>\n",
              "      <td>-1000000.00</td>\n",
              "      <td>17.00</td>\n",
              "      <td>14.00</td>\n",
              "    </tr>\n",
              "    <tr>\n",
              "      <th>166</th>\n",
              "      <td>-1000000.00</td>\n",
              "      <td>21.00</td>\n",
              "      <td>18.00</td>\n",
              "    </tr>\n",
              "    <tr>\n",
              "      <th>359</th>\n",
              "      <td>-1000000.00</td>\n",
              "      <td>13.00</td>\n",
              "      <td>10.00</td>\n",
              "    </tr>\n",
              "    <tr>\n",
              "      <th>380</th>\n",
              "      <td>-1000000.00</td>\n",
              "      <td>60.00</td>\n",
              "      <td>57.00</td>\n",
              "    </tr>\n",
              "    <tr>\n",
              "      <th>392</th>\n",
              "      <td>-1000000.00</td>\n",
              "      <td>14.00</td>\n",
              "      <td>11.00</td>\n",
              "    </tr>\n",
              "  </tbody>\n",
              "</table>\n",
              "</div>"
            ],
            "text/plain": [
              "     departure_days  departure_days_correct  arrival_days_correct\n",
              "28      -1000000.00                   56.00                 53.00\n",
              "80      -1000000.00                    3.00                  0.00\n",
              "115     -1000000.00                    5.00                  2.00\n",
              "117     -1000000.00                    4.00                  1.00\n",
              "139     -1000000.00                   32.00                 29.00\n",
              "152     -1000000.00                   17.00                 14.00\n",
              "166     -1000000.00                   21.00                 18.00\n",
              "359     -1000000.00                   13.00                 10.00\n",
              "380     -1000000.00                   60.00                 57.00\n",
              "392     -1000000.00                   14.00                 11.00"
            ]
          },
          "metadata": {
            "tags": []
          },
          "execution_count": 47
        }
      ]
    },
    {
      "cell_type": "code",
      "metadata": {
        "colab_type": "code",
        "outputId": "598b3cfa-9fb8-479d-cd7d-f61402096d29",
        "id": "XKF-LxWhjxU4",
        "colab": {
          "base_uri": "https://localhost:8080/",
          "height": 123
        }
      },
      "source": [
        "raw_data_part2_copy['departure_days_correct'].drop_duplicates().sort_values(ascending=True).head()"
      ],
      "execution_count": 0,
      "outputs": [
        {
          "output_type": "execute_result",
          "data": {
            "text/plain": [
              "3946   0.00\n",
              "10     1.00\n",
              "21     2.00\n",
              "19     3.00\n",
              "0      4.00\n",
              "Name: departure_days_correct, dtype: float64"
            ]
          },
          "metadata": {
            "tags": []
          },
          "execution_count": 48
        }
      ]
    },
    {
      "cell_type": "markdown",
      "metadata": {
        "colab_type": "text",
        "id": "zByxHZHOjxU7"
      },
      "source": [
        "#### so, no more '-1000000' in 'departure_days_correct'"
      ]
    },
    {
      "cell_type": "markdown",
      "metadata": {
        "colab_type": "text",
        "id": "hHuyIrvHjxU8"
      },
      "source": [
        "#### now we check the top 5  frequent values in the new column of  'departure_days_correct'"
      ]
    },
    {
      "cell_type": "code",
      "metadata": {
        "colab_type": "code",
        "outputId": "6c914031-4afc-4891-9e27-2447031d500e",
        "id": "i5h0bPKljxU8",
        "colab": {
          "base_uri": "https://localhost:8080/",
          "height": 123
        }
      },
      "source": [
        "raw_data_part2_copy['departure_days_correct'].value_counts().head()"
      ],
      "execution_count": 0,
      "outputs": [
        {
          "output_type": "execute_result",
          "data": {
            "text/plain": [
              "4.00    61214\n",
              "5.00    53267\n",
              "1.00    52780\n",
              "6.00    50661\n",
              "7.00    46318\n",
              "Name: departure_days_correct, dtype: int64"
            ]
          },
          "metadata": {
            "tags": []
          },
          "execution_count": 49
        }
      ]
    },
    {
      "cell_type": "markdown",
      "metadata": {
        "colab_type": "text",
        "id": "FOhm4QHejxU-"
      },
      "source": [
        " #### so we remove the errornous column for better performance"
      ]
    },
    {
      "cell_type": "code",
      "metadata": {
        "colab_type": "code",
        "id": "tuvUO_DGjxU-",
        "colab": {}
      },
      "source": [
        "raw_data_part2_copy=raw_data_part2_copy.drop(columns=['departure_days'])"
      ],
      "execution_count": 0,
      "outputs": []
    },
    {
      "cell_type": "code",
      "metadata": {
        "colab_type": "code",
        "outputId": "a7eaf66e-0085-4dbc-ad61-02dfd5402e7c",
        "id": "pvojcxXujxU_",
        "colab": {
          "base_uri": "https://localhost:8080/",
          "height": 384
        }
      },
      "source": [
        "raw_data_part2_copy.head()"
      ],
      "execution_count": 0,
      "outputs": [
        {
          "output_type": "execute_result",
          "data": {
            "text/html": [
              "<div>\n",
              "<style scoped>\n",
              "    .dataframe tbody tr th:only-of-type {\n",
              "        vertical-align: middle;\n",
              "    }\n",
              "\n",
              "    .dataframe tbody tr th {\n",
              "        vertical-align: top;\n",
              "    }\n",
              "\n",
              "    .dataframe thead th {\n",
              "        text-align: right;\n",
              "    }\n",
              "</style>\n",
              "<table border=\"1\" class=\"dataframe\">\n",
              "  <thead>\n",
              "    <tr style=\"text-align: right;\">\n",
              "      <th></th>\n",
              "      <th>user_id</th>\n",
              "      <th>session_id</th>\n",
              "      <th>clicked_item_id</th>\n",
              "      <th>page_num</th>\n",
              "      <th>sort_order</th>\n",
              "      <th>search_type</th>\n",
              "      <th>path_id</th>\n",
              "      <th>traffic_type</th>\n",
              "      <th>impressions_per_click</th>\n",
              "      <th>displayed_position_correct</th>\n",
              "      <th>arrival_days_correct</th>\n",
              "      <th>departure_days_correct</th>\n",
              "    </tr>\n",
              "  </thead>\n",
              "  <tbody>\n",
              "    <tr>\n",
              "      <th>0</th>\n",
              "      <td>6216730024127027591</td>\n",
              "      <td>3.7556300552695163e+18</td>\n",
              "      <td>3390592</td>\n",
              "      <td>0.00</td>\n",
              "      <td>12.00</td>\n",
              "      <td>2113.00</td>\n",
              "      <td>39693.00</td>\n",
              "      <td>2.00</td>\n",
              "      <td>[128992, 127920, 132177, 1107164, 19389, 32176...</td>\n",
              "      <td>13</td>\n",
              "      <td>3.00</td>\n",
              "      <td>4.00</td>\n",
              "    </tr>\n",
              "    <tr>\n",
              "      <th>1</th>\n",
              "      <td>3540322805835307689</td>\n",
              "      <td>4.581411196117764e+18</td>\n",
              "      <td>2393900</td>\n",
              "      <td>0.00</td>\n",
              "      <td>21.00</td>\n",
              "      <td>2113.00</td>\n",
              "      <td>35009.00</td>\n",
              "      <td>2.00</td>\n",
              "      <td>[5169438, 997421, 76994, 1376364, 67654, 68977...</td>\n",
              "      <td>7</td>\n",
              "      <td>21.00</td>\n",
              "      <td>22.00</td>\n",
              "    </tr>\n",
              "    <tr>\n",
              "      <th>2</th>\n",
              "      <td>5439210126639293380</td>\n",
              "      <td>7.260243962113139e+18</td>\n",
              "      <td>8285</td>\n",
              "      <td>0.00</td>\n",
              "      <td>12.00</td>\n",
              "      <td>2116.00</td>\n",
              "      <td>34390.00</td>\n",
              "      <td>2.00</td>\n",
              "      <td>[8285, 8284, 78562, 8243, 1288434, 61564, 6029...</td>\n",
              "      <td>1</td>\n",
              "      <td>301.00</td>\n",
              "      <td>302.00</td>\n",
              "    </tr>\n",
              "    <tr>\n",
              "      <th>3</th>\n",
              "      <td>3482625725900275142</td>\n",
              "      <td>3.013037030426146e+18</td>\n",
              "      <td>148308</td>\n",
              "      <td>0.00</td>\n",
              "      <td>41.00</td>\n",
              "      <td>2113.00</td>\n",
              "      <td>41579.00</td>\n",
              "      <td>3.00</td>\n",
              "      <td>[2196706, 46431, 1262783, 148312, 1478421, 617...</td>\n",
              "      <td>7</td>\n",
              "      <td>39.00</td>\n",
              "      <td>42.00</td>\n",
              "    </tr>\n",
              "    <tr>\n",
              "      <th>4</th>\n",
              "      <td>6185636196804664137</td>\n",
              "      <td>1.463578972675331e+18</td>\n",
              "      <td>4527530</td>\n",
              "      <td>0.00</td>\n",
              "      <td>12.00</td>\n",
              "      <td>2116.00</td>\n",
              "      <td>85724.00</td>\n",
              "      <td>2.00</td>\n",
              "      <td>[4527530, 149339, 945921, 1236133, 1259540, 17...</td>\n",
              "      <td>1</td>\n",
              "      <td>48.00</td>\n",
              "      <td>49.00</td>\n",
              "    </tr>\n",
              "  </tbody>\n",
              "</table>\n",
              "</div>"
            ],
            "text/plain": [
              "               user_id  ... departure_days_correct\n",
              "0  6216730024127027591  ...                   4.00\n",
              "1  3540322805835307689  ...                  22.00\n",
              "2  5439210126639293380  ...                 302.00\n",
              "3  3482625725900275142  ...                  42.00\n",
              "4  6185636196804664137  ...                  49.00\n",
              "\n",
              "[5 rows x 12 columns]"
            ]
          },
          "metadata": {
            "tags": []
          },
          "execution_count": 51
        }
      ]
    },
    {
      "cell_type": "markdown",
      "metadata": {
        "colab_type": "text",
        "id": "QXbD75WDjxVB"
      },
      "source": [
        "### Another final check, we see from column description that 'departure_days' must be greater than or equal 'arrival_days' thus if arrival days column is greater we have a problem"
      ]
    },
    {
      "cell_type": "code",
      "metadata": {
        "colab_type": "code",
        "outputId": "37b8c855-a5e3-4bb0-eebf-7cc25463a999",
        "id": "Qrj0cUc7jxVB",
        "colab": {
          "base_uri": "https://localhost:8080/",
          "height": 67
        }
      },
      "source": [
        "raw_data_part2_copy.loc[ (raw_data_part2_copy['departure_days_correct'] < raw_data_part2_copy['arrival_days_correct']) ]"
      ],
      "execution_count": 0,
      "outputs": [
        {
          "output_type": "execute_result",
          "data": {
            "text/html": [
              "<div>\n",
              "<style scoped>\n",
              "    .dataframe tbody tr th:only-of-type {\n",
              "        vertical-align: middle;\n",
              "    }\n",
              "\n",
              "    .dataframe tbody tr th {\n",
              "        vertical-align: top;\n",
              "    }\n",
              "\n",
              "    .dataframe thead th {\n",
              "        text-align: right;\n",
              "    }\n",
              "</style>\n",
              "<table border=\"1\" class=\"dataframe\">\n",
              "  <thead>\n",
              "    <tr style=\"text-align: right;\">\n",
              "      <th></th>\n",
              "      <th>user_id</th>\n",
              "      <th>session_id</th>\n",
              "      <th>clicked_item_id</th>\n",
              "      <th>page_num</th>\n",
              "      <th>sort_order</th>\n",
              "      <th>search_type</th>\n",
              "      <th>path_id</th>\n",
              "      <th>traffic_type</th>\n",
              "      <th>impressions_per_click</th>\n",
              "      <th>displayed_position_correct</th>\n",
              "      <th>arrival_days_correct</th>\n",
              "      <th>departure_days_correct</th>\n",
              "    </tr>\n",
              "  </thead>\n",
              "  <tbody>\n",
              "  </tbody>\n",
              "</table>\n",
              "</div>"
            ],
            "text/plain": [
              "Empty DataFrame\n",
              "Columns: [user_id, session_id, clicked_item_id, page_num, sort_order, search_type, path_id, traffic_type, impressions_per_click, displayed_position_correct, arrival_days_correct, departure_days_correct]\n",
              "Index: []"
            ]
          },
          "metadata": {
            "tags": []
          },
          "execution_count": 52
        }
      ]
    },
    {
      "cell_type": "markdown",
      "metadata": {
        "colab_type": "text",
        "id": "GQEUCEInjxVD"
      },
      "source": [
        "#### No cases (clicks) have departure_days_correct less than arrival_days_correct thus we can state that we solved all data cleaning issues"
      ]
    },
    {
      "cell_type": "markdown",
      "metadata": {
        "colab_type": "text",
        "id": "j7ZK2PiqjxVE"
      },
      "source": [
        "### So finally we have our data raw_data_part2_copy cleaned and ready for analysis and answering the other questions"
      ]
    },
    {
      "cell_type": "markdown",
      "metadata": {
        "colab_type": "text",
        "id": "vGs0J_-bjxVE"
      },
      "source": [
        "## Q2 : Which search type has the lowest average displayed position? What is the best sorting order for this search type? Which search type should be excluded for a statistical reason?"
      ]
    },
    {
      "cell_type": "markdown",
      "metadata": {
        "colab_type": "text",
        "id": "8Ca0l_OPjxVE"
      },
      "source": [
        "### we calculate average displayed position per search type"
      ]
    },
    {
      "cell_type": "code",
      "metadata": {
        "colab_type": "code",
        "id": "sKKtso0YjxVF",
        "colab": {}
      },
      "source": [
        "average_displayed_position_per_search_type=raw_data_part2_copy.pivot_table(index='search_type', values='displayed_position_correct' , aggfunc=np.mean )"
      ],
      "execution_count": 0,
      "outputs": []
    },
    {
      "cell_type": "code",
      "metadata": {
        "colab_type": "code",
        "id": "ZI6qJutRjxVG",
        "colab": {}
      },
      "source": [
        "average_displayed_position_per_search_type.columns=['average_displayed_position']"
      ],
      "execution_count": 0,
      "outputs": []
    },
    {
      "cell_type": "code",
      "metadata": {
        "colab_type": "code",
        "outputId": "250449cf-813a-4d86-bc0d-dacabe0362e5",
        "id": "ZAmbZB2sjxVH",
        "colab": {
          "base_uri": "https://localhost:8080/",
          "height": 257
        }
      },
      "source": [
        "average_displayed_position_per_search_type"
      ],
      "execution_count": 0,
      "outputs": [
        {
          "output_type": "execute_result",
          "data": {
            "text/html": [
              "<div>\n",
              "<style scoped>\n",
              "    .dataframe tbody tr th:only-of-type {\n",
              "        vertical-align: middle;\n",
              "    }\n",
              "\n",
              "    .dataframe tbody tr th {\n",
              "        vertical-align: top;\n",
              "    }\n",
              "\n",
              "    .dataframe thead th {\n",
              "        text-align: right;\n",
              "    }\n",
              "</style>\n",
              "<table border=\"1\" class=\"dataframe\">\n",
              "  <thead>\n",
              "    <tr style=\"text-align: right;\">\n",
              "      <th></th>\n",
              "      <th>average_displayed_position</th>\n",
              "    </tr>\n",
              "    <tr>\n",
              "      <th>search_type</th>\n",
              "      <th></th>\n",
              "    </tr>\n",
              "  </thead>\n",
              "  <tbody>\n",
              "    <tr>\n",
              "      <th>2100.00</th>\n",
              "      <td>3.50</td>\n",
              "    </tr>\n",
              "    <tr>\n",
              "      <th>2111.00</th>\n",
              "      <td>8.28</td>\n",
              "    </tr>\n",
              "    <tr>\n",
              "      <th>2113.00</th>\n",
              "      <td>7.27</td>\n",
              "    </tr>\n",
              "    <tr>\n",
              "      <th>2114.00</th>\n",
              "      <td>6.09</td>\n",
              "    </tr>\n",
              "    <tr>\n",
              "      <th>2115.00</th>\n",
              "      <td>7.76</td>\n",
              "    </tr>\n",
              "    <tr>\n",
              "      <th>2116.00</th>\n",
              "      <td>3.45</td>\n",
              "    </tr>\n",
              "  </tbody>\n",
              "</table>\n",
              "</div>"
            ],
            "text/plain": [
              "             average_displayed_position\n",
              "search_type                            \n",
              "2100.00                            3.50\n",
              "2111.00                            8.28\n",
              "2113.00                            7.27\n",
              "2114.00                            6.09\n",
              "2115.00                            7.76\n",
              "2116.00                            3.45"
            ]
          },
          "metadata": {
            "tags": []
          },
          "execution_count": 55
        }
      ]
    },
    {
      "cell_type": "markdown",
      "metadata": {
        "colab_type": "text",
        "id": "OCSVOmJ5jxVJ"
      },
      "source": [
        "#### we find that the search_type that has the label '2100' it has the lowest average displayed position, depending on that criterion , its sorting order should be the last \n",
        "\n",
        "#### but let's check another criterion, which is its frequency od each search type in the data"
      ]
    },
    {
      "cell_type": "code",
      "metadata": {
        "colab_type": "code",
        "outputId": "8ffdfad8-61a5-47a7-f84b-0f82e9174e4b",
        "id": "eyVVTndRjxVK",
        "colab": {
          "base_uri": "https://localhost:8080/",
          "height": 141
        }
      },
      "source": [
        "raw_data_part2_copy['search_type'].value_counts()"
      ],
      "execution_count": 0,
      "outputs": [
        {
          "output_type": "execute_result",
          "data": {
            "text/plain": [
              "2113.00    928598\n",
              "2116.00    375583\n",
              "2111.00    230316\n",
              "2115.00    194310\n",
              "2114.00    174986\n",
              "2100.00         2\n",
              "Name: search_type, dtype: int64"
            ]
          },
          "metadata": {
            "tags": []
          },
          "execution_count": 56
        }
      ]
    },
    {
      "cell_type": "markdown",
      "metadata": {
        "colab_type": "text",
        "id": "K0Gb1zWYjxVL"
      },
      "source": [
        "#### this supports that the best sorting order for the search type labeled by '2100' is the last"
      ]
    },
    {
      "cell_type": "markdown",
      "metadata": {
        "colab_type": "text",
        "id": "i78A-GCBjxVM"
      },
      "source": [
        "### regarding the search type that should be excluded for a statistical reason, it is the same label '2100' since it occured in only 2 cases (clicks)  so such a sample is non representative for properties of this type unlike other search types that are more popular in the data"
      ]
    },
    {
      "cell_type": "markdown",
      "metadata": {
        "colab_type": "text",
        "id": "fOokbAk7jxVM"
      },
      "source": [
        "## Q3 : What are the top 10 “best” and “worst” performing items? Explain what metric you have chosen to evaluate the performance and why. "
      ]
    },
    {
      "cell_type": "markdown",
      "metadata": {
        "colab_type": "text",
        "id": "8_8pRZK2jxVN"
      },
      "source": [
        "### in this case we need to compute some item based statistics like (number of impressions, number of clicks , average impressed position)\n",
        "\n",
        "#### First we calculate number of impressions per item\n"
      ]
    },
    {
      "cell_type": "markdown",
      "metadata": {
        "colab_type": "text",
        "id": "ziJhAjjkjxVN"
      },
      "source": [
        "#### for this purpose  we need to move on the level of items, count how many times it was impressed and in which positions"
      ]
    },
    {
      "cell_type": "markdown",
      "metadata": {
        "colab_type": "text",
        "id": "RsbycEFyjxVN"
      },
      "source": [
        "#### we take the items in the column 'impressed_item_ids' for the whole 1903795 cases (clicks) transferring impressed items each click into a list to ease processing them"
      ]
    },
    {
      "cell_type": "code",
      "metadata": {
        "colab_type": "code",
        "id": "rPmtNM-ujxVO",
        "colab": {}
      },
      "source": [
        "impressions_per_click=impressions_per_click=raw_data_part2_copy['impressions_per_click'] "
      ],
      "execution_count": 0,
      "outputs": []
    },
    {
      "cell_type": "code",
      "metadata": {
        "colab_type": "code",
        "outputId": "96511fba-d749-4eaf-c266-b3c1b7c846b3",
        "id": "TOb8KqwCjxVP",
        "colab": {
          "base_uri": "https://localhost:8080/",
          "height": 123
        }
      },
      "source": [
        "impressions_per_click.head()"
      ],
      "execution_count": 0,
      "outputs": [
        {
          "output_type": "execute_result",
          "data": {
            "text/plain": [
              "0    [128992, 127920, 132177, 1107164, 19389, 32176...\n",
              "1    [5169438, 997421, 76994, 1376364, 67654, 68977...\n",
              "2    [8285, 8284, 78562, 8243, 1288434, 61564, 6029...\n",
              "3    [2196706, 46431, 1262783, 148312, 1478421, 617...\n",
              "4    [4527530, 149339, 945921, 1236133, 1259540, 17...\n",
              "Name: impressions_per_click, dtype: object"
            ]
          },
          "metadata": {
            "tags": []
          },
          "execution_count": 58
        }
      ]
    },
    {
      "cell_type": "code",
      "metadata": {
        "colab_type": "code",
        "outputId": "9fec52ae-0539-4163-9a92-0a43b31ecc04",
        "id": "rZ3gexySjxVR",
        "colab": {
          "base_uri": "https://localhost:8080/",
          "height": 34
        }
      },
      "source": [
        "len (impressions_per_click)"
      ],
      "execution_count": 0,
      "outputs": [
        {
          "output_type": "execute_result",
          "data": {
            "text/plain": [
              "1903795"
            ]
          },
          "metadata": {
            "tags": []
          },
          "execution_count": 59
        }
      ]
    },
    {
      "cell_type": "code",
      "metadata": {
        "colab_type": "code",
        "id": "QEUYDYMzjxVT",
        "colab": {}
      },
      "source": [
        ""
      ],
      "execution_count": 0,
      "outputs": []
    },
    {
      "cell_type": "markdown",
      "metadata": {
        "colab_type": "text",
        "id": "JjhofOUzjxVU"
      },
      "source": [
        "#### then we count how many each item impressed in the 1903795 clicks "
      ]
    },
    {
      "cell_type": "markdown",
      "metadata": {
        "colab_type": "text",
        "id": "_fV2VCofjxVV"
      },
      "source": [
        "#### but , we will need to have average impressed position for each item in the next question, so in the following loop, we will extract each impressed item and its position"
      ]
    },
    {
      "cell_type": "code",
      "metadata": {
        "colab_type": "code",
        "id": "l2Q4nN0sjxVV",
        "colab": {}
      },
      "source": [
        "  d=[]   \n",
        "  for a in impressions_per_click:\n",
        "    \n",
        "\n",
        "    for i,j in enumerate(a):\n",
        "           d.append((j,i))"
      ],
      "execution_count": 0,
      "outputs": []
    },
    {
      "cell_type": "markdown",
      "metadata": {
        "colab_type": "text",
        "id": "6Y30xIQ2jxVW"
      },
      "source": [
        "#### then we merge all items and position in a dataset"
      ]
    },
    {
      "cell_type": "code",
      "metadata": {
        "colab_type": "code",
        "id": "DTx3GWtgjxVX",
        "colab": {}
      },
      "source": [
        " position_for_each_item = pd.DataFrame(d,columns=['item','position'])"
      ],
      "execution_count": 0,
      "outputs": []
    },
    {
      "cell_type": "code",
      "metadata": {
        "colab_type": "code",
        "outputId": "c14f851f-5416-4ddc-e236-e17e78fa7661",
        "id": "-qoKqv-CjxVY",
        "colab": {
          "base_uri": "https://localhost:8080/",
          "height": 197
        }
      },
      "source": [
        "position_for_each_item.head()"
      ],
      "execution_count": 0,
      "outputs": [
        {
          "output_type": "execute_result",
          "data": {
            "text/html": [
              "<div>\n",
              "<style scoped>\n",
              "    .dataframe tbody tr th:only-of-type {\n",
              "        vertical-align: middle;\n",
              "    }\n",
              "\n",
              "    .dataframe tbody tr th {\n",
              "        vertical-align: top;\n",
              "    }\n",
              "\n",
              "    .dataframe thead th {\n",
              "        text-align: right;\n",
              "    }\n",
              "</style>\n",
              "<table border=\"1\" class=\"dataframe\">\n",
              "  <thead>\n",
              "    <tr style=\"text-align: right;\">\n",
              "      <th></th>\n",
              "      <th>item</th>\n",
              "      <th>position</th>\n",
              "    </tr>\n",
              "  </thead>\n",
              "  <tbody>\n",
              "    <tr>\n",
              "      <th>0</th>\n",
              "      <td>128992</td>\n",
              "      <td>0</td>\n",
              "    </tr>\n",
              "    <tr>\n",
              "      <th>1</th>\n",
              "      <td>127920</td>\n",
              "      <td>1</td>\n",
              "    </tr>\n",
              "    <tr>\n",
              "      <th>2</th>\n",
              "      <td>132177</td>\n",
              "      <td>2</td>\n",
              "    </tr>\n",
              "    <tr>\n",
              "      <th>3</th>\n",
              "      <td>1107164</td>\n",
              "      <td>3</td>\n",
              "    </tr>\n",
              "    <tr>\n",
              "      <th>4</th>\n",
              "      <td>19389</td>\n",
              "      <td>4</td>\n",
              "    </tr>\n",
              "  </tbody>\n",
              "</table>\n",
              "</div>"
            ],
            "text/plain": [
              "      item  position\n",
              "0   128992         0\n",
              "1   127920         1\n",
              "2   132177         2\n",
              "3  1107164         3\n",
              "4    19389         4"
            ]
          },
          "metadata": {
            "tags": []
          },
          "execution_count": 62
        }
      ]
    },
    {
      "cell_type": "markdown",
      "metadata": {
        "colab_type": "text",
        "id": "DzvAwrDkjxVa"
      },
      "source": [
        "#### since we know that the first position is denoted as 0 thus we add 1 to position"
      ]
    },
    {
      "cell_type": "code",
      "metadata": {
        "colab_type": "code",
        "id": "gxEAdtiQjxVa",
        "colab": {}
      },
      "source": [
        "position_for_each_item['position']=position_for_each_item['position']+1"
      ],
      "execution_count": 0,
      "outputs": []
    },
    {
      "cell_type": "code",
      "metadata": {
        "colab_type": "code",
        "outputId": "c4fc3ce5-b7ce-4b05-99b6-d6aee02d32dd",
        "id": "94pesYaHjxVb",
        "colab": {
          "base_uri": "https://localhost:8080/",
          "height": 197
        }
      },
      "source": [
        "position_for_each_item.head()"
      ],
      "execution_count": 0,
      "outputs": [
        {
          "output_type": "execute_result",
          "data": {
            "text/html": [
              "<div>\n",
              "<style scoped>\n",
              "    .dataframe tbody tr th:only-of-type {\n",
              "        vertical-align: middle;\n",
              "    }\n",
              "\n",
              "    .dataframe tbody tr th {\n",
              "        vertical-align: top;\n",
              "    }\n",
              "\n",
              "    .dataframe thead th {\n",
              "        text-align: right;\n",
              "    }\n",
              "</style>\n",
              "<table border=\"1\" class=\"dataframe\">\n",
              "  <thead>\n",
              "    <tr style=\"text-align: right;\">\n",
              "      <th></th>\n",
              "      <th>item</th>\n",
              "      <th>position</th>\n",
              "    </tr>\n",
              "  </thead>\n",
              "  <tbody>\n",
              "    <tr>\n",
              "      <th>0</th>\n",
              "      <td>128992</td>\n",
              "      <td>1</td>\n",
              "    </tr>\n",
              "    <tr>\n",
              "      <th>1</th>\n",
              "      <td>127920</td>\n",
              "      <td>2</td>\n",
              "    </tr>\n",
              "    <tr>\n",
              "      <th>2</th>\n",
              "      <td>132177</td>\n",
              "      <td>3</td>\n",
              "    </tr>\n",
              "    <tr>\n",
              "      <th>3</th>\n",
              "      <td>1107164</td>\n",
              "      <td>4</td>\n",
              "    </tr>\n",
              "    <tr>\n",
              "      <th>4</th>\n",
              "      <td>19389</td>\n",
              "      <td>5</td>\n",
              "    </tr>\n",
              "  </tbody>\n",
              "</table>\n",
              "</div>"
            ],
            "text/plain": [
              "      item  position\n",
              "0   128992         1\n",
              "1   127920         2\n",
              "2   132177         3\n",
              "3  1107164         4\n",
              "4    19389         5"
            ]
          },
          "metadata": {
            "tags": []
          },
          "execution_count": 64
        }
      ]
    },
    {
      "cell_type": "markdown",
      "metadata": {
        "colab_type": "text",
        "id": "M2olatW_jxVd"
      },
      "source": [
        "#### then we count how many each item impressed in the 1903795 lists of impressed items into one list"
      ]
    },
    {
      "cell_type": "code",
      "metadata": {
        "colab_type": "code",
        "id": "kGSEoQPsjxVd",
        "colab": {}
      },
      "source": [
        "impressions_per_item = pd.DataFrame(pd.Series(position_for_each_item['item'].value_counts()))"
      ],
      "execution_count": 0,
      "outputs": []
    },
    {
      "cell_type": "code",
      "metadata": {
        "colab_type": "code",
        "id": "FuBMMGKZjxVe",
        "colab": {}
      },
      "source": [
        "impressions_per_item.columns=['impressions']"
      ],
      "execution_count": 0,
      "outputs": []
    },
    {
      "cell_type": "code",
      "metadata": {
        "colab_type": "code",
        "id": "99gDpmmOjxVf",
        "colab": {}
      },
      "source": [
        "impressions_per_item.index.name='item'"
      ],
      "execution_count": 0,
      "outputs": []
    },
    {
      "cell_type": "code",
      "metadata": {
        "colab_type": "code",
        "outputId": "cc0eb72e-10d2-4e93-bec6-ca2bb8ec78da",
        "id": "bGCs0EZYjxVh",
        "colab": {
          "base_uri": "https://localhost:8080/",
          "height": 227
        }
      },
      "source": [
        "impressions_per_item.head()"
      ],
      "execution_count": 0,
      "outputs": [
        {
          "output_type": "execute_result",
          "data": {
            "text/html": [
              "<div>\n",
              "<style scoped>\n",
              "    .dataframe tbody tr th:only-of-type {\n",
              "        vertical-align: middle;\n",
              "    }\n",
              "\n",
              "    .dataframe tbody tr th {\n",
              "        vertical-align: top;\n",
              "    }\n",
              "\n",
              "    .dataframe thead th {\n",
              "        text-align: right;\n",
              "    }\n",
              "</style>\n",
              "<table border=\"1\" class=\"dataframe\">\n",
              "  <thead>\n",
              "    <tr style=\"text-align: right;\">\n",
              "      <th></th>\n",
              "      <th>impressions</th>\n",
              "    </tr>\n",
              "    <tr>\n",
              "      <th>item</th>\n",
              "      <th></th>\n",
              "    </tr>\n",
              "  </thead>\n",
              "  <tbody>\n",
              "    <tr>\n",
              "      <th>1321090</th>\n",
              "      <td>40142</td>\n",
              "    </tr>\n",
              "    <tr>\n",
              "      <th>47121</th>\n",
              "      <td>29460</td>\n",
              "    </tr>\n",
              "    <tr>\n",
              "      <th>12594</th>\n",
              "      <td>21297</td>\n",
              "    </tr>\n",
              "    <tr>\n",
              "      <th>3218556</th>\n",
              "      <td>20701</td>\n",
              "    </tr>\n",
              "    <tr>\n",
              "      <th>880913</th>\n",
              "      <td>20554</td>\n",
              "    </tr>\n",
              "  </tbody>\n",
              "</table>\n",
              "</div>"
            ],
            "text/plain": [
              "         impressions\n",
              "item                \n",
              "1321090        40142\n",
              "47121          29460\n",
              "12594          21297\n",
              "3218556        20701\n",
              "880913         20554"
            ]
          },
          "metadata": {
            "tags": []
          },
          "execution_count": 68
        }
      ]
    },
    {
      "cell_type": "code",
      "metadata": {
        "colab_type": "code",
        "outputId": "a732a0db-aadc-4d15-c100-8e79fd09adb6",
        "id": "2ik8bV96jxVj",
        "colab": {
          "base_uri": "https://localhost:8080/",
          "height": 52
        }
      },
      "source": [
        "impressions_per_item.dtypes"
      ],
      "execution_count": 0,
      "outputs": [
        {
          "output_type": "execute_result",
          "data": {
            "text/plain": [
              "impressions    int64\n",
              "dtype: object"
            ]
          },
          "metadata": {
            "tags": []
          },
          "execution_count": 69
        }
      ]
    },
    {
      "cell_type": "markdown",
      "metadata": {
        "colab_type": "text",
        "id": "9T5ZitenjxVk"
      },
      "source": [
        "#### we run a quick check that we calculated number of impressions per item correctly\n",
        "\n",
        "#### returning to the list that represents the impressed items for each click we calculate the total number of impressions for all clicks"
      ]
    },
    {
      "cell_type": "code",
      "metadata": {
        "colab_type": "code",
        "id": "BWQblqnDjxVl",
        "colab": {}
      },
      "source": [
        "b=[]\n",
        "for i in impressions_per_click:\n",
        "   b.append(len(i))"
      ],
      "execution_count": 0,
      "outputs": []
    },
    {
      "cell_type": "code",
      "metadata": {
        "colab_type": "code",
        "outputId": "ccc231d3-0164-45b6-fdc4-49eed5ce899c",
        "id": "LxSBhOuVjxVm",
        "colab": {
          "base_uri": "https://localhost:8080/",
          "height": 34
        }
      },
      "source": [
        "pd.Series(b).sum()"
      ],
      "execution_count": 0,
      "outputs": [
        {
          "output_type": "execute_result",
          "data": {
            "text/plain": [
              "43783426"
            ]
          },
          "metadata": {
            "tags": []
          },
          "execution_count": 71
        }
      ]
    },
    {
      "cell_type": "markdown",
      "metadata": {
        "colab_type": "text",
        "id": "i0VaMNAxjxVo"
      },
      "source": [
        "#### if we calculated the total number of impressions per item we should get the same number "
      ]
    },
    {
      "cell_type": "code",
      "metadata": {
        "colab_type": "code",
        "outputId": "a65349b0-3663-4c21-ef99-90e63c72f693",
        "id": "_WWDuaqljxVo",
        "colab": {
          "base_uri": "https://localhost:8080/",
          "height": 34
        }
      },
      "source": [
        "impressions_per_item['impressions'].sum()"
      ],
      "execution_count": 0,
      "outputs": [
        {
          "output_type": "execute_result",
          "data": {
            "text/plain": [
              "43783426"
            ]
          },
          "metadata": {
            "tags": []
          },
          "execution_count": 72
        }
      ]
    },
    {
      "cell_type": "markdown",
      "metadata": {
        "colab_type": "text",
        "id": "SiBWaESyjxVq"
      },
      "source": [
        "#### then we  calculate the total clicks per item"
      ]
    },
    {
      "cell_type": "code",
      "metadata": {
        "colab_type": "code",
        "id": "PZLiZCoEjxVq",
        "colab": {}
      },
      "source": [
        "total_clicks_per_item=pd.DataFrame(raw_data_part2_copy['clicked_item_id'].value_counts())"
      ],
      "execution_count": 0,
      "outputs": []
    },
    {
      "cell_type": "code",
      "metadata": {
        "colab_type": "code",
        "id": "ghpkI93sjxVr",
        "colab": {}
      },
      "source": [
        "total_clicks_per_item.columns=['clicks']"
      ],
      "execution_count": 0,
      "outputs": []
    },
    {
      "cell_type": "code",
      "metadata": {
        "colab_type": "code",
        "id": "7RPsPIefjxVt",
        "colab": {}
      },
      "source": [
        "total_clicks_per_item.index.name='item'"
      ],
      "execution_count": 0,
      "outputs": []
    },
    {
      "cell_type": "code",
      "metadata": {
        "colab_type": "code",
        "outputId": "ef28982f-6d4d-4b8f-a476-7e64cb3f82a6",
        "id": "mHhBZe9xjxVu",
        "colab": {
          "base_uri": "https://localhost:8080/",
          "height": 227
        }
      },
      "source": [
        "total_clicks_per_item.head()"
      ],
      "execution_count": 0,
      "outputs": [
        {
          "output_type": "execute_result",
          "data": {
            "text/html": [
              "<div>\n",
              "<style scoped>\n",
              "    .dataframe tbody tr th:only-of-type {\n",
              "        vertical-align: middle;\n",
              "    }\n",
              "\n",
              "    .dataframe tbody tr th {\n",
              "        vertical-align: top;\n",
              "    }\n",
              "\n",
              "    .dataframe thead th {\n",
              "        text-align: right;\n",
              "    }\n",
              "</style>\n",
              "<table border=\"1\" class=\"dataframe\">\n",
              "  <thead>\n",
              "    <tr style=\"text-align: right;\">\n",
              "      <th></th>\n",
              "      <th>clicks</th>\n",
              "    </tr>\n",
              "    <tr>\n",
              "      <th>item</th>\n",
              "      <th></th>\n",
              "    </tr>\n",
              "  </thead>\n",
              "  <tbody>\n",
              "    <tr>\n",
              "      <th>2834772</th>\n",
              "      <td>2869</td>\n",
              "    </tr>\n",
              "    <tr>\n",
              "      <th>1321090</th>\n",
              "      <td>2828</td>\n",
              "    </tr>\n",
              "    <tr>\n",
              "      <th>12624</th>\n",
              "      <td>2575</td>\n",
              "    </tr>\n",
              "    <tr>\n",
              "      <th>32940</th>\n",
              "      <td>2324</td>\n",
              "    </tr>\n",
              "    <tr>\n",
              "      <th>1455251</th>\n",
              "      <td>2297</td>\n",
              "    </tr>\n",
              "  </tbody>\n",
              "</table>\n",
              "</div>"
            ],
            "text/plain": [
              "         clicks\n",
              "item           \n",
              "2834772    2869\n",
              "1321090    2828\n",
              "12624      2575\n",
              "32940      2324\n",
              "1455251    2297"
            ]
          },
          "metadata": {
            "tags": []
          },
          "execution_count": 76
        }
      ]
    },
    {
      "cell_type": "markdown",
      "metadata": {
        "colab_type": "text",
        "id": "4DbAE3qGjxVw"
      },
      "source": [
        "#### let's make a check, if we extracted clicks correctly, the sum of clicks per item should equal the number of sessions"
      ]
    },
    {
      "cell_type": "code",
      "metadata": {
        "colab_type": "code",
        "outputId": "f53d2dc5-70b1-4f38-acaf-537209e451d2",
        "id": "imtnN0-PjxVx",
        "colab": {
          "base_uri": "https://localhost:8080/",
          "height": 34
        }
      },
      "source": [
        "total_clicks_per_item['clicks'].sum()"
      ],
      "execution_count": 0,
      "outputs": [
        {
          "output_type": "execute_result",
          "data": {
            "text/plain": [
              "1903795"
            ]
          },
          "metadata": {
            "tags": []
          },
          "execution_count": 77
        }
      ]
    },
    {
      "cell_type": "markdown",
      "metadata": {
        "colab_type": "text",
        "id": "6ZK7O0aWjxV0"
      },
      "source": [
        "#### thus, we are sure about extracting clicks per item correctly"
      ]
    },
    {
      "cell_type": "markdown",
      "metadata": {
        "colab_type": "text",
        "id": "ntGE3z4UjxV1"
      },
      "source": [
        "#### Then we merge number of clicks per item to number of impressions in one new table"
      ]
    },
    {
      "cell_type": "code",
      "metadata": {
        "colab_type": "code",
        "id": "N4DIYA4PjxV2",
        "colab": {}
      },
      "source": [
        "click_impression_item=impressions_per_item.merge(total_clicks_per_item, left_on='item', right_on='item')"
      ],
      "execution_count": 0,
      "outputs": []
    },
    {
      "cell_type": "code",
      "metadata": {
        "colab_type": "code",
        "outputId": "0af74029-1ed3-4385-a978-a6c64b3b6888",
        "id": "2ZCKkz--jxV4",
        "colab": {
          "base_uri": "https://localhost:8080/",
          "height": 227
        }
      },
      "source": [
        "click_impression_item.head()"
      ],
      "execution_count": 0,
      "outputs": [
        {
          "output_type": "execute_result",
          "data": {
            "text/html": [
              "<div>\n",
              "<style scoped>\n",
              "    .dataframe tbody tr th:only-of-type {\n",
              "        vertical-align: middle;\n",
              "    }\n",
              "\n",
              "    .dataframe tbody tr th {\n",
              "        vertical-align: top;\n",
              "    }\n",
              "\n",
              "    .dataframe thead th {\n",
              "        text-align: right;\n",
              "    }\n",
              "</style>\n",
              "<table border=\"1\" class=\"dataframe\">\n",
              "  <thead>\n",
              "    <tr style=\"text-align: right;\">\n",
              "      <th></th>\n",
              "      <th>impressions</th>\n",
              "      <th>clicks</th>\n",
              "    </tr>\n",
              "    <tr>\n",
              "      <th>item</th>\n",
              "      <th></th>\n",
              "      <th></th>\n",
              "    </tr>\n",
              "  </thead>\n",
              "  <tbody>\n",
              "    <tr>\n",
              "      <th>1321090</th>\n",
              "      <td>40142</td>\n",
              "      <td>2828</td>\n",
              "    </tr>\n",
              "    <tr>\n",
              "      <th>47121</th>\n",
              "      <td>29460</td>\n",
              "      <td>1313</td>\n",
              "    </tr>\n",
              "    <tr>\n",
              "      <th>12594</th>\n",
              "      <td>21297</td>\n",
              "      <td>2244</td>\n",
              "    </tr>\n",
              "    <tr>\n",
              "      <th>3218556</th>\n",
              "      <td>20701</td>\n",
              "      <td>756</td>\n",
              "    </tr>\n",
              "    <tr>\n",
              "      <th>880913</th>\n",
              "      <td>20554</td>\n",
              "      <td>578</td>\n",
              "    </tr>\n",
              "  </tbody>\n",
              "</table>\n",
              "</div>"
            ],
            "text/plain": [
              "         impressions  clicks\n",
              "item                        \n",
              "1321090        40142    2828\n",
              "47121          29460    1313\n",
              "12594          21297    2244\n",
              "3218556        20701     756\n",
              "880913         20554     578"
            ]
          },
          "metadata": {
            "tags": []
          },
          "execution_count": 79
        }
      ]
    },
    {
      "cell_type": "markdown",
      "metadata": {
        "colab_type": "text",
        "id": "NQ_BeERxjxV6"
      },
      "source": [
        "#### the direct choice to compare performance of is clicks , but it may not be fair since an item may be clicked 10 times of 20 impressions and another may be clicked 8 times but of 10 impressed times, so it is much more fair to take the 10 most successful items as per click through rate (CTR) as we may conclude from the following link\n",
        "\n",
        "https://www.en.advertisercommunity.com/t5/Performance-Optimization/Overall-Clicks-VS-CTR/td-p/344706\n",
        "\n",
        "\n",
        "#### click through rate can be described as the ratio of ad clicks to impressions"
      ]
    },
    {
      "cell_type": "markdown",
      "metadata": {
        "colab_type": "text",
        "id": "mC2yNMj-jxV7"
      },
      "source": [
        "#### the most common choice to the criteria to compare between is click through rate , so we calculate it as follows"
      ]
    },
    {
      "cell_type": "code",
      "metadata": {
        "colab_type": "code",
        "id": "y4md3GsLjxV7",
        "colab": {}
      },
      "source": [
        "click_impression_item['CTR']=np.round((click_impression_item['clicks']*100/click_impression_item['impressions']),2)"
      ],
      "execution_count": 0,
      "outputs": []
    },
    {
      "cell_type": "markdown",
      "metadata": {
        "colab_type": "text",
        "id": "Ld1InqjkjxV8"
      },
      "source": [
        "#### thus we take the best 10 items based on (CTR)"
      ]
    },
    {
      "cell_type": "code",
      "metadata": {
        "colab_type": "code",
        "outputId": "34e21367-02e9-4232-d89a-af34becb0a80",
        "id": "MnRt7aEHjxV9",
        "colab": {
          "base_uri": "https://localhost:8080/",
          "height": 377
        }
      },
      "source": [
        "click_impression_item.sort_values(by=['CTR'], ascending=False).head(10)"
      ],
      "execution_count": 0,
      "outputs": [
        {
          "output_type": "execute_result",
          "data": {
            "text/html": [
              "<div>\n",
              "<style scoped>\n",
              "    .dataframe tbody tr th:only-of-type {\n",
              "        vertical-align: middle;\n",
              "    }\n",
              "\n",
              "    .dataframe tbody tr th {\n",
              "        vertical-align: top;\n",
              "    }\n",
              "\n",
              "    .dataframe thead th {\n",
              "        text-align: right;\n",
              "    }\n",
              "</style>\n",
              "<table border=\"1\" class=\"dataframe\">\n",
              "  <thead>\n",
              "    <tr style=\"text-align: right;\">\n",
              "      <th></th>\n",
              "      <th>impressions</th>\n",
              "      <th>clicks</th>\n",
              "      <th>CTR</th>\n",
              "    </tr>\n",
              "    <tr>\n",
              "      <th>item</th>\n",
              "      <th></th>\n",
              "      <th></th>\n",
              "      <th></th>\n",
              "    </tr>\n",
              "  </thead>\n",
              "  <tbody>\n",
              "    <tr>\n",
              "      <th>2180910</th>\n",
              "      <td>1</td>\n",
              "      <td>1</td>\n",
              "      <td>100.00</td>\n",
              "    </tr>\n",
              "    <tr>\n",
              "      <th>502771</th>\n",
              "      <td>1</td>\n",
              "      <td>1</td>\n",
              "      <td>100.00</td>\n",
              "    </tr>\n",
              "    <tr>\n",
              "      <th>77030</th>\n",
              "      <td>1</td>\n",
              "      <td>1</td>\n",
              "      <td>100.00</td>\n",
              "    </tr>\n",
              "    <tr>\n",
              "      <th>1605275</th>\n",
              "      <td>1</td>\n",
              "      <td>1</td>\n",
              "      <td>100.00</td>\n",
              "    </tr>\n",
              "    <tr>\n",
              "      <th>45977</th>\n",
              "      <td>1</td>\n",
              "      <td>1</td>\n",
              "      <td>100.00</td>\n",
              "    </tr>\n",
              "    <tr>\n",
              "      <th>1261953</th>\n",
              "      <td>1</td>\n",
              "      <td>1</td>\n",
              "      <td>100.00</td>\n",
              "    </tr>\n",
              "    <tr>\n",
              "      <th>6469312</th>\n",
              "      <td>1</td>\n",
              "      <td>1</td>\n",
              "      <td>100.00</td>\n",
              "    </tr>\n",
              "    <tr>\n",
              "      <th>2881368</th>\n",
              "      <td>1</td>\n",
              "      <td>1</td>\n",
              "      <td>100.00</td>\n",
              "    </tr>\n",
              "    <tr>\n",
              "      <th>2381994</th>\n",
              "      <td>1</td>\n",
              "      <td>1</td>\n",
              "      <td>100.00</td>\n",
              "    </tr>\n",
              "    <tr>\n",
              "      <th>1016809</th>\n",
              "      <td>1</td>\n",
              "      <td>1</td>\n",
              "      <td>100.00</td>\n",
              "    </tr>\n",
              "  </tbody>\n",
              "</table>\n",
              "</div>"
            ],
            "text/plain": [
              "         impressions  clicks    CTR\n",
              "item                               \n",
              "2180910            1       1 100.00\n",
              "502771             1       1 100.00\n",
              "77030              1       1 100.00\n",
              "1605275            1       1 100.00\n",
              "45977              1       1 100.00\n",
              "1261953            1       1 100.00\n",
              "6469312            1       1 100.00\n",
              "2881368            1       1 100.00\n",
              "2381994            1       1 100.00\n",
              "1016809            1       1 100.00"
            ]
          },
          "metadata": {
            "tags": []
          },
          "execution_count": 81
        }
      ]
    },
    {
      "cell_type": "markdown",
      "metadata": {
        "colab_type": "text",
        "id": "JQAwlO3HjxV_"
      },
      "source": [
        "#### We notice that this is not fair, both of them was impressed for an only one time and was clicked that time "
      ]
    },
    {
      "cell_type": "markdown",
      "metadata": {
        "colab_type": "text",
        "id": "OD-KovUOjxV_"
      },
      "source": [
        "####"
      ]
    },
    {
      "cell_type": "markdown",
      "metadata": {
        "colab_type": "text",
        "id": "eWfXuEpgjxV_"
      },
      "source": [
        "#### we suggest that we take the top 10 items as per CTR of the 1000 most viewed items"
      ]
    },
    {
      "cell_type": "code",
      "metadata": {
        "colab_type": "code",
        "outputId": "eb836b66-bc9f-4a21-8cd9-6e6f10f5f8f7",
        "id": "9wVGbGKdjxWA",
        "colab": {
          "base_uri": "https://localhost:8080/",
          "height": 377
        }
      },
      "source": [
        "click_impression_item.sort_values(by=['impressions'], ascending=False).head(1000).sort_values(by=['CTR'], ascending=False).head(10)"
      ],
      "execution_count": 0,
      "outputs": [
        {
          "output_type": "execute_result",
          "data": {
            "text/html": [
              "<div>\n",
              "<style scoped>\n",
              "    .dataframe tbody tr th:only-of-type {\n",
              "        vertical-align: middle;\n",
              "    }\n",
              "\n",
              "    .dataframe tbody tr th {\n",
              "        vertical-align: top;\n",
              "    }\n",
              "\n",
              "    .dataframe thead th {\n",
              "        text-align: right;\n",
              "    }\n",
              "</style>\n",
              "<table border=\"1\" class=\"dataframe\">\n",
              "  <thead>\n",
              "    <tr style=\"text-align: right;\">\n",
              "      <th></th>\n",
              "      <th>impressions</th>\n",
              "      <th>clicks</th>\n",
              "      <th>CTR</th>\n",
              "    </tr>\n",
              "    <tr>\n",
              "      <th>item</th>\n",
              "      <th></th>\n",
              "      <th></th>\n",
              "      <th></th>\n",
              "    </tr>\n",
              "  </thead>\n",
              "  <tbody>\n",
              "    <tr>\n",
              "      <th>19768</th>\n",
              "      <td>5747</td>\n",
              "      <td>1383</td>\n",
              "      <td>24.06</td>\n",
              "    </tr>\n",
              "    <tr>\n",
              "      <th>19539</th>\n",
              "      <td>5190</td>\n",
              "      <td>1106</td>\n",
              "      <td>21.31</td>\n",
              "    </tr>\n",
              "    <tr>\n",
              "      <th>32940</th>\n",
              "      <td>11883</td>\n",
              "      <td>2324</td>\n",
              "      <td>19.56</td>\n",
              "    </tr>\n",
              "    <tr>\n",
              "      <th>2834772</th>\n",
              "      <td>14885</td>\n",
              "      <td>2869</td>\n",
              "      <td>19.27</td>\n",
              "    </tr>\n",
              "    <tr>\n",
              "      <th>8928</th>\n",
              "      <td>8302</td>\n",
              "      <td>1553</td>\n",
              "      <td>18.71</td>\n",
              "    </tr>\n",
              "    <tr>\n",
              "      <th>672466</th>\n",
              "      <td>9251</td>\n",
              "      <td>1695</td>\n",
              "      <td>18.32</td>\n",
              "    </tr>\n",
              "    <tr>\n",
              "      <th>37165</th>\n",
              "      <td>7676</td>\n",
              "      <td>1382</td>\n",
              "      <td>18.00</td>\n",
              "    </tr>\n",
              "    <tr>\n",
              "      <th>3953294</th>\n",
              "      <td>5945</td>\n",
              "      <td>1041</td>\n",
              "      <td>17.51</td>\n",
              "    </tr>\n",
              "    <tr>\n",
              "      <th>19599</th>\n",
              "      <td>10230</td>\n",
              "      <td>1785</td>\n",
              "      <td>17.45</td>\n",
              "    </tr>\n",
              "    <tr>\n",
              "      <th>1299521</th>\n",
              "      <td>7084</td>\n",
              "      <td>1216</td>\n",
              "      <td>17.17</td>\n",
              "    </tr>\n",
              "  </tbody>\n",
              "</table>\n",
              "</div>"
            ],
            "text/plain": [
              "         impressions  clicks   CTR\n",
              "item                              \n",
              "19768           5747    1383 24.06\n",
              "19539           5190    1106 21.31\n",
              "32940          11883    2324 19.56\n",
              "2834772        14885    2869 19.27\n",
              "8928            8302    1553 18.71\n",
              "672466          9251    1695 18.32\n",
              "37165           7676    1382 18.00\n",
              "3953294         5945    1041 17.51\n",
              "19599          10230    1785 17.45\n",
              "1299521         7084    1216 17.17"
            ]
          },
          "metadata": {
            "tags": []
          },
          "execution_count": 82
        }
      ]
    },
    {
      "cell_type": "markdown",
      "metadata": {
        "colab_type": "text",
        "id": "WmHLruYUjxWC"
      },
      "source": [
        "#### to take the worst 10 items as per CTR "
      ]
    },
    {
      "cell_type": "code",
      "metadata": {
        "colab_type": "code",
        "outputId": "ccaea2a7-fd67-4bd4-fa64-b605a10d6083",
        "id": "XK2uMdqfjxWI",
        "colab": {
          "base_uri": "https://localhost:8080/",
          "height": 377
        }
      },
      "source": [
        "click_impression_item.sort_values(by=['CTR'], ascending=True).head(10)"
      ],
      "execution_count": 0,
      "outputs": [
        {
          "output_type": "execute_result",
          "data": {
            "text/html": [
              "<div>\n",
              "<style scoped>\n",
              "    .dataframe tbody tr th:only-of-type {\n",
              "        vertical-align: middle;\n",
              "    }\n",
              "\n",
              "    .dataframe tbody tr th {\n",
              "        vertical-align: top;\n",
              "    }\n",
              "\n",
              "    .dataframe thead th {\n",
              "        text-align: right;\n",
              "    }\n",
              "</style>\n",
              "<table border=\"1\" class=\"dataframe\">\n",
              "  <thead>\n",
              "    <tr style=\"text-align: right;\">\n",
              "      <th></th>\n",
              "      <th>impressions</th>\n",
              "      <th>clicks</th>\n",
              "      <th>CTR</th>\n",
              "    </tr>\n",
              "    <tr>\n",
              "      <th>item</th>\n",
              "      <th></th>\n",
              "      <th></th>\n",
              "      <th></th>\n",
              "    </tr>\n",
              "  </thead>\n",
              "  <tbody>\n",
              "    <tr>\n",
              "      <th>6338080</th>\n",
              "      <td>907</td>\n",
              "      <td>1</td>\n",
              "      <td>0.11</td>\n",
              "    </tr>\n",
              "    <tr>\n",
              "      <th>920327</th>\n",
              "      <td>914</td>\n",
              "      <td>1</td>\n",
              "      <td>0.11</td>\n",
              "    </tr>\n",
              "    <tr>\n",
              "      <th>634266</th>\n",
              "      <td>903</td>\n",
              "      <td>1</td>\n",
              "      <td>0.11</td>\n",
              "    </tr>\n",
              "    <tr>\n",
              "      <th>3223133</th>\n",
              "      <td>899</td>\n",
              "      <td>1</td>\n",
              "      <td>0.11</td>\n",
              "    </tr>\n",
              "    <tr>\n",
              "      <th>4060868</th>\n",
              "      <td>833</td>\n",
              "      <td>1</td>\n",
              "      <td>0.12</td>\n",
              "    </tr>\n",
              "    <tr>\n",
              "      <th>6361592</th>\n",
              "      <td>842</td>\n",
              "      <td>1</td>\n",
              "      <td>0.12</td>\n",
              "    </tr>\n",
              "    <tr>\n",
              "      <th>967099</th>\n",
              "      <td>845</td>\n",
              "      <td>1</td>\n",
              "      <td>0.12</td>\n",
              "    </tr>\n",
              "    <tr>\n",
              "      <th>1485095</th>\n",
              "      <td>774</td>\n",
              "      <td>1</td>\n",
              "      <td>0.13</td>\n",
              "    </tr>\n",
              "    <tr>\n",
              "      <th>1997203</th>\n",
              "      <td>777</td>\n",
              "      <td>1</td>\n",
              "      <td>0.13</td>\n",
              "    </tr>\n",
              "    <tr>\n",
              "      <th>1110619</th>\n",
              "      <td>766</td>\n",
              "      <td>1</td>\n",
              "      <td>0.13</td>\n",
              "    </tr>\n",
              "  </tbody>\n",
              "</table>\n",
              "</div>"
            ],
            "text/plain": [
              "         impressions  clicks  CTR\n",
              "item                             \n",
              "6338080          907       1 0.11\n",
              "920327           914       1 0.11\n",
              "634266           903       1 0.11\n",
              "3223133          899       1 0.11\n",
              "4060868          833       1 0.12\n",
              "6361592          842       1 0.12\n",
              "967099           845       1 0.12\n",
              "1485095          774       1 0.13\n",
              "1997203          777       1 0.13\n",
              "1110619          766       1 0.13"
            ]
          },
          "metadata": {
            "tags": []
          },
          "execution_count": 83
        }
      ]
    },
    {
      "cell_type": "markdown",
      "metadata": {
        "colab_type": "text",
        "id": "hbINe6pAjxWK"
      },
      "source": [
        "## Q4 : Describe and visualise the relationship between the average displayed position and the CTR among the top 1000 most clicked items."
      ]
    },
    {
      "cell_type": "markdown",
      "metadata": {
        "colab_type": "text",
        "id": "QtCLUQOQjxWL"
      },
      "source": [
        "### We return back to the table 'position_for_each_item' to calculate average impressed position for each item (remember that we added one to each position since , as we know, python codes 0 as first position)"
      ]
    },
    {
      "cell_type": "code",
      "metadata": {
        "colab_type": "code",
        "id": "9AwsFkrmjxWM",
        "colab": {}
      },
      "source": [
        "average_displayed_position_per_item=position_for_each_item.pivot_table(index='item', values='position' , aggfunc=np.mean)"
      ],
      "execution_count": 0,
      "outputs": []
    },
    {
      "cell_type": "code",
      "metadata": {
        "colab_type": "code",
        "id": "5pzBm9iHjxWN",
        "colab": {}
      },
      "source": [
        "average_displayed_position_per_item.index.name='item'"
      ],
      "execution_count": 0,
      "outputs": []
    },
    {
      "cell_type": "code",
      "metadata": {
        "colab_type": "code",
        "id": "WJOZKa1cjxWO",
        "colab": {}
      },
      "source": [
        "average_displayed_position_per_item.columns=['average_impressed_position']"
      ],
      "execution_count": 0,
      "outputs": []
    },
    {
      "cell_type": "markdown",
      "metadata": {
        "colab_type": "text",
        "id": "APGI_vlojxWP"
      },
      "source": [
        "#### Thus we calculated average impressed position per item"
      ]
    },
    {
      "cell_type": "code",
      "metadata": {
        "colab_type": "code",
        "outputId": "01a2cb28-e634-4c73-cd6a-a8477a1670df",
        "id": "N6w_8S0XjxWQ",
        "colab": {
          "base_uri": "https://localhost:8080/",
          "height": 227
        }
      },
      "source": [
        "average_displayed_position_per_item.head()"
      ],
      "execution_count": 0,
      "outputs": [
        {
          "output_type": "execute_result",
          "data": {
            "text/html": [
              "<div>\n",
              "<style scoped>\n",
              "    .dataframe tbody tr th:only-of-type {\n",
              "        vertical-align: middle;\n",
              "    }\n",
              "\n",
              "    .dataframe tbody tr th {\n",
              "        vertical-align: top;\n",
              "    }\n",
              "\n",
              "    .dataframe thead th {\n",
              "        text-align: right;\n",
              "    }\n",
              "</style>\n",
              "<table border=\"1\" class=\"dataframe\">\n",
              "  <thead>\n",
              "    <tr style=\"text-align: right;\">\n",
              "      <th></th>\n",
              "      <th>average_impressed_position</th>\n",
              "    </tr>\n",
              "    <tr>\n",
              "      <th>item</th>\n",
              "      <th></th>\n",
              "    </tr>\n",
              "  </thead>\n",
              "  <tbody>\n",
              "    <tr>\n",
              "      <th>100000</th>\n",
              "      <td>15.76</td>\n",
              "    </tr>\n",
              "    <tr>\n",
              "      <th>1000001</th>\n",
              "      <td>17.24</td>\n",
              "    </tr>\n",
              "    <tr>\n",
              "      <th>1000005</th>\n",
              "      <td>16.43</td>\n",
              "    </tr>\n",
              "    <tr>\n",
              "      <th>1000007</th>\n",
              "      <td>15.00</td>\n",
              "    </tr>\n",
              "    <tr>\n",
              "      <th>100001</th>\n",
              "      <td>11.43</td>\n",
              "    </tr>\n",
              "  </tbody>\n",
              "</table>\n",
              "</div>"
            ],
            "text/plain": [
              "         average_impressed_position\n",
              "item                               \n",
              "100000                        15.76\n",
              "1000001                       17.24\n",
              "1000005                       16.43\n",
              "1000007                       15.00\n",
              "100001                        11.43"
            ]
          },
          "metadata": {
            "tags": []
          },
          "execution_count": 87
        }
      ]
    },
    {
      "cell_type": "markdown",
      "metadata": {
        "colab_type": "text",
        "id": "mMEg6hegjxWS"
      },
      "source": [
        "#### then we merge the calculated average impressed position to the data contain clicks, positions, and CTR of each item to answer this question"
      ]
    },
    {
      "cell_type": "code",
      "metadata": {
        "colab_type": "code",
        "id": "fl76ZlROjxWS",
        "colab": {}
      },
      "source": [
        "click_impression_item_adisplay=click_impression_item.merge(average_displayed_position_per_item, left_on='item', right_on='item')"
      ],
      "execution_count": 0,
      "outputs": []
    },
    {
      "cell_type": "code",
      "metadata": {
        "colab_type": "code",
        "outputId": "f3262059-2af6-4401-b3e1-a49711a20cb0",
        "id": "nvhFSqK0jxWT",
        "colab": {
          "base_uri": "https://localhost:8080/",
          "height": 227
        }
      },
      "source": [
        "click_impression_item_adisplay.head()"
      ],
      "execution_count": 0,
      "outputs": [
        {
          "output_type": "execute_result",
          "data": {
            "text/html": [
              "<div>\n",
              "<style scoped>\n",
              "    .dataframe tbody tr th:only-of-type {\n",
              "        vertical-align: middle;\n",
              "    }\n",
              "\n",
              "    .dataframe tbody tr th {\n",
              "        vertical-align: top;\n",
              "    }\n",
              "\n",
              "    .dataframe thead th {\n",
              "        text-align: right;\n",
              "    }\n",
              "</style>\n",
              "<table border=\"1\" class=\"dataframe\">\n",
              "  <thead>\n",
              "    <tr style=\"text-align: right;\">\n",
              "      <th></th>\n",
              "      <th>impressions</th>\n",
              "      <th>clicks</th>\n",
              "      <th>CTR</th>\n",
              "      <th>average_impressed_position</th>\n",
              "    </tr>\n",
              "    <tr>\n",
              "      <th>item</th>\n",
              "      <th></th>\n",
              "      <th></th>\n",
              "      <th></th>\n",
              "      <th></th>\n",
              "    </tr>\n",
              "  </thead>\n",
              "  <tbody>\n",
              "    <tr>\n",
              "      <th>1321090</th>\n",
              "      <td>40142</td>\n",
              "      <td>2828</td>\n",
              "      <td>7.04</td>\n",
              "      <td>7.91</td>\n",
              "    </tr>\n",
              "    <tr>\n",
              "      <th>47121</th>\n",
              "      <td>29460</td>\n",
              "      <td>1313</td>\n",
              "      <td>4.46</td>\n",
              "      <td>9.91</td>\n",
              "    </tr>\n",
              "    <tr>\n",
              "      <th>12594</th>\n",
              "      <td>21297</td>\n",
              "      <td>2244</td>\n",
              "      <td>10.54</td>\n",
              "      <td>7.26</td>\n",
              "    </tr>\n",
              "    <tr>\n",
              "      <th>3218556</th>\n",
              "      <td>20701</td>\n",
              "      <td>756</td>\n",
              "      <td>3.65</td>\n",
              "      <td>12.83</td>\n",
              "    </tr>\n",
              "    <tr>\n",
              "      <th>880913</th>\n",
              "      <td>20554</td>\n",
              "      <td>578</td>\n",
              "      <td>2.81</td>\n",
              "      <td>11.71</td>\n",
              "    </tr>\n",
              "  </tbody>\n",
              "</table>\n",
              "</div>"
            ],
            "text/plain": [
              "         impressions  clicks   CTR  average_impressed_position\n",
              "item                                                          \n",
              "1321090        40142    2828  7.04                        7.91\n",
              "47121          29460    1313  4.46                        9.91\n",
              "12594          21297    2244 10.54                        7.26\n",
              "3218556        20701     756  3.65                       12.83\n",
              "880913         20554     578  2.81                       11.71"
            ]
          },
          "metadata": {
            "tags": []
          },
          "execution_count": 89
        }
      ]
    },
    {
      "cell_type": "markdown",
      "metadata": {
        "colab_type": "text",
        "id": "Mnv-jbvvjxWW"
      },
      "source": [
        "#### First we perform scatterplot for CTR and average impressed position for the most 1000 impressed items"
      ]
    },
    {
      "cell_type": "code",
      "metadata": {
        "colab_type": "code",
        "outputId": "09bc8281-f3d3-49e0-934b-c63cbb8de9ad",
        "id": "avbo7KZtjxWX",
        "colab": {
          "base_uri": "https://localhost:8080/",
          "height": 300
        }
      },
      "source": [
        "click_impression_item_adisplay.sort_values(by=['impressions'], ascending=False).head(1000).plot.scatter(x='CTR',\n",
        "  y='average_impressed_position')"
      ],
      "execution_count": 0,
      "outputs": [
        {
          "output_type": "execute_result",
          "data": {
            "text/plain": [
              "<matplotlib.axes._subplots.AxesSubplot at 0x7fd372259be0>"
            ]
          },
          "metadata": {
            "tags": []
          },
          "execution_count": 90
        },
        {
          "output_type": "display_data",
          "data": {
            "image/png": "[encoded data removed]",
            "text/plain": [
              "<Figure size 432x288 with 1 Axes>"
            ]
          },
          "metadata": {
            "tags": []
          }
        }
      ]
    },
    {
      "cell_type": "markdown",
      "metadata": {
        "colab_type": "text",
        "id": "vH2syv48jxWZ"
      },
      "source": [
        "#### it is clear that there is a negative relationship between CTR and average impressed position for the 1000 most impressed items, this may make sence because browser does not tend to choose the very first options he seeks the most convenient  option with the least possible price\n",
        "\n",
        "#### to support this intuition numerically, let's build a confidence interval for correlation between the two indicators for the top 1000 impressed items"
      ]
    },
    {
      "cell_type": "code",
      "metadata": {
        "colab_type": "code",
        "id": "6c5O3KAEjxWZ",
        "colab": {}
      },
      "source": [
        "def r_to_z(r):\n",
        "    return math.log((1 + r) / (1 - r)) / 2.0\n",
        "\n",
        "def z_to_r(z):\n",
        "    e = math.exp(2 * z)\n",
        "    return((e - 1) / (e + 1))\n",
        "\n",
        "def r_confidence_interval(r, alpha, n):\n",
        "    z = r_to_z(r)\n",
        "    se = 1.0 / math.sqrt(n-3) \n",
        "    \n",
        "    z_crit = stats.norm.ppf(1 - alpha/2)  # 2-tailed z critical value\n",
        "\n",
        "    lo = z - z_crit * se\n",
        "    hi = z + z_crit * se\n",
        "\n",
        "    # Return a sequence\n",
        "    return  (z_to_r(lo), z_to_r(hi))"
      ],
      "execution_count": 0,
      "outputs": []
    },
    {
      "cell_type": "code",
      "metadata": {
        "colab_type": "code",
        "outputId": "5638b654-8ecd-4dcb-f7f3-e6473329c9b4",
        "id": "39bPJ-3ljxWa",
        "colab": {
          "base_uri": "https://localhost:8080/",
          "height": 107
        }
      },
      "source": [
        "click_impression_item_adisplay.sort_values(by=['impressions'], ascending=False).head(1000).loc[:,['CTR','average_impressed_position']].corr()"
      ],
      "execution_count": 0,
      "outputs": [
        {
          "output_type": "execute_result",
          "data": {
            "text/html": [
              "<div>\n",
              "<style scoped>\n",
              "    .dataframe tbody tr th:only-of-type {\n",
              "        vertical-align: middle;\n",
              "    }\n",
              "\n",
              "    .dataframe tbody tr th {\n",
              "        vertical-align: top;\n",
              "    }\n",
              "\n",
              "    .dataframe thead th {\n",
              "        text-align: right;\n",
              "    }\n",
              "</style>\n",
              "<table border=\"1\" class=\"dataframe\">\n",
              "  <thead>\n",
              "    <tr style=\"text-align: right;\">\n",
              "      <th></th>\n",
              "      <th>CTR</th>\n",
              "      <th>average_impressed_position</th>\n",
              "    </tr>\n",
              "  </thead>\n",
              "  <tbody>\n",
              "    <tr>\n",
              "      <th>CTR</th>\n",
              "      <td>1.00</td>\n",
              "      <td>-0.69</td>\n",
              "    </tr>\n",
              "    <tr>\n",
              "      <th>average_impressed_position</th>\n",
              "      <td>-0.69</td>\n",
              "      <td>1.00</td>\n",
              "    </tr>\n",
              "  </tbody>\n",
              "</table>\n",
              "</div>"
            ],
            "text/plain": [
              "                             CTR  average_impressed_position\n",
              "CTR                         1.00                       -0.69\n",
              "average_impressed_position -0.69                        1.00"
            ]
          },
          "metadata": {
            "tags": []
          },
          "execution_count": 92
        }
      ]
    },
    {
      "cell_type": "code",
      "metadata": {
        "colab_type": "code",
        "outputId": "89623c0d-4513-4994-c3ed-b18245e05e55",
        "id": "Q-cvMSn2jxWd",
        "colab": {
          "base_uri": "https://localhost:8080/",
          "height": 34
        }
      },
      "source": [
        "np.round((r_confidence_interval(-0.69,0.05,1000)),2)"
      ],
      "execution_count": 0,
      "outputs": [
        {
          "output_type": "execute_result",
          "data": {
            "text/plain": [
              "array([-0.72, -0.66])"
            ]
          },
          "metadata": {
            "tags": []
          },
          "execution_count": 93
        }
      ]
    },
    {
      "cell_type": "markdown",
      "metadata": {
        "colab_type": "text",
        "id": "GgfUJ-urjxWf"
      },
      "source": [
        "#### From the above confidence interval, we can state that we are confident by 95% that pearson correlation coeffecient between CTR and average_impressed_position for the most impressed 1000 items ranges between [-0.72, -0.66] indicating that for the  most impressed 1000 items we have strong negative correlation \n",
        "\n",
        "#### this results supports intuition we developed from the plot there is a negative relationship between CTR and average impressed position for these items"
      ]
    }
  ]
}
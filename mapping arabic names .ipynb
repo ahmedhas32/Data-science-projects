{
  "nbformat": 4,
  "nbformat_minor": 0,
  "metadata": {
    "colab": {
      "name": "Untitled19.ipynb",
      "provenance": [],
      "collapsed_sections": [],
      "toc_visible": true,
      "authorship_tag": "ABX9TyOmXj1Mdp6uJXGZLTG8IOjo",
      "include_colab_link": true
    },
    "kernelspec": {
      "display_name": "Python 3",
      "name": "python3"
    }
  },
  "cells": [
    {
      "cell_type": "markdown",
      "metadata": {
        "id": "view-in-github",
        "colab_type": "text"
      },
      "source": [
        "<a href=\"https://colab.research.google.com/github/ahmedhas32/Data-science-projects/blob/master/mapping%20arabic%20names%20.ipynb\" target=\"_parent\"><img src=\"https://colab.research.google.com/assets/colab-badge.svg\" alt=\"Open In Colab\"/></a>"
      ]
    },
    {
      "cell_type": "code",
      "metadata": {
        "id": "UNsGWoc4mVZr"
      },
      "source": [
        ""
      ],
      "execution_count": null,
      "outputs": []
    },
    {
      "cell_type": "code",
      "metadata": {
        "id": "5vbasgQTi_jz"
      },
      "source": [
        "import xgboost\n",
        "import csv as csv\n",
        "from xgboost import plot_importance\n",
        "from matplotlib import pyplot\n",
        "from sklearn.model_selection import cross_val_score,KFold\n",
        "from sklearn.metrics import mean_absolute_error\n",
        "import matplotlib.pyplot as plt\n",
        "from scipy.stats import skew\n",
        "from collections import OrderedDict\n",
        "from sklearn import preprocessing\n",
        "from datetime import datetime\n"
      ],
      "execution_count": null,
      "outputs": []
    },
    {
      "cell_type": "code",
      "metadata": {
        "id": "g_Ydxvuz-oq2"
      },
      "source": [
        "import numpy as np\n",
        "import pandas as pd\n",
        "import matplotlib.pyplot as plt\n",
        "import seaborn as sns\n",
        "import warnings\n",
        "warnings.filterwarnings(\"ignore\")"
      ],
      "execution_count": null,
      "outputs": []
    },
    {
      "cell_type": "code",
      "metadata": {
        "id": "lZjhbh4s-9Hh"
      },
      "source": [
        "from difflib import SequenceMatcher\n",
        "from difflib import get_close_matches \n",
        "\n",
        "\n",
        "def sim_metric(df, col1, col2):\n",
        "           metric=None\n",
        "           try : metric = SequenceMatcher(None, df[col1], df[col2]).ratio()\n",
        "           except TypeError: metric=0 \n",
        "           return metric"
      ],
      "execution_count": null,
      "outputs": []
    },
    {
      "cell_type": "code",
      "metadata": {
        "id": "mznxGZHA1_za"
      },
      "source": [
        "import re\n",
        "def remove_prefix(text, prefix):\n",
        "    return re.sub(r'^{0}'.format(re.escape(prefix)), '', text)"
      ],
      "execution_count": null,
      "outputs": []
    },
    {
      "cell_type": "code",
      "metadata": {
        "id": "vLbFxvvhygTn"
      },
      "source": [
        "!pip install fsspec>=0.3.3"
      ],
      "execution_count": null,
      "outputs": []
    },
    {
      "cell_type": "code",
      "metadata": {
        "id": "OaL7xM_V9zyW"
      },
      "source": [
        "from sklearn.preprocessing import LabelEncoder"
      ],
      "execution_count": null,
      "outputs": []
    },
    {
      "cell_type": "code",
      "metadata": {
        "id": "K_nE5fhzn-8b"
      },
      "source": [
        "dwh_city = pd.read_excel('/content/SAMA_Mapping.xlsx' , sheet_name='DWH_City')"
      ],
      "execution_count": null,
      "outputs": []
    },
    {
      "cell_type": "code",
      "metadata": {
        "id": "QritJMM5ohTf"
      },
      "source": [
        "pos_dest = pd.read_excel('/content/SAMA_Mapping.xlsx' , sheet_name='POS_Dest')"
      ],
      "execution_count": null,
      "outputs": []
    },
    {
      "cell_type": "code",
      "metadata": {
        "id": "I8VGYcvf0Sq6"
      },
      "source": [
        "dwh_city.dropna(subset=['CITY_NAME_EN'] , inplace=True)"
      ],
      "execution_count": null,
      "outputs": []
    },
    {
      "cell_type": "code",
      "metadata": {
        "id": "WiE04sTdKau9"
      },
      "source": [
        "dwh_city['CITY_NAME_EN']=dwh_city['CITY_NAME_EN'].str.lower()"
      ],
      "execution_count": null,
      "outputs": []
    },
    {
      "cell_type": "code",
      "metadata": {
        "id": "fH-lushBpoyH"
      },
      "source": [
        "dwh_city['CITY_NAME_EN'] = dwh_city['CITY_NAME_EN'].replace('al madinah al munawwarah' , 'madina').replace('makkah al mukarramah' , 'makkah')"
      ],
      "execution_count": null,
      "outputs": []
    },
    {
      "cell_type": "code",
      "metadata": {
        "id": "g_avqwv_efte"
      },
      "source": [
        "dwh_city['CITY_NAME_EN'] =dwh_city['CITY_NAME_EN'] .apply(lambda x: remove_prefix(x , r'a[a-z]\\s')).apply(lambda x:remove_prefix(x ,  r'a[a-z][a-z]\\s' )).apply(lambda x: x.strip(\"'\"))"
      ],
      "execution_count": null,
      "outputs": []
    },
    {
      "cell_type": "code",
      "metadata": {
        "id": "VxYscbNaCRLQ"
      },
      "source": [
        "dwh_city['GOVERNORATE_NAME_EN']=dwh_city['GOVERNORATE_NAME_EN'].str.lower()"
      ],
      "execution_count": null,
      "outputs": []
    },
    {
      "cell_type": "code",
      "metadata": {
        "id": "3zgSBHMotxqg"
      },
      "source": [
        "pos_dest['Destination_City']=pos_dest['Destination_City'].str.lower()"
      ],
      "execution_count": null,
      "outputs": []
    },
    {
      "cell_type": "code",
      "metadata": {
        "id": "h5XCg28eyqxO"
      },
      "source": [
        "saudi_cities=dwh_city.loc[dwh_city['Country'] == 'Saudi Arabia' , ['CITY_CD' , 'CITY_NAME_EN' , 'PROVINCE_NAME_EN' , 'GOVERNORATE_NAME_EN']].drop_duplicates()\n",
        "\n",
        "saudi_cities['CITY_NAME_EN']=saudi_cities['CITY_NAME_EN']\n"
      ],
      "execution_count": null,
      "outputs": []
    },
    {
      "cell_type": "code",
      "metadata": {
        "id": "hnODce-Sj2z4"
      },
      "source": [
        "city_names=list(set(saudi_cities['CITY_NAME_EN'].dropna()) )\n",
        "city_names1=list(set(dwh_city['GOVERNORATE_NAME_EN'].dropna()))"
      ],
      "execution_count": null,
      "outputs": []
    },
    {
      "cell_type": "code",
      "metadata": {
        "id": "ZgpUIKegRO2U"
      },
      "source": [
        ""
      ],
      "execution_count": null,
      "outputs": []
    },
    {
      "cell_type": "code",
      "metadata": {
        "colab": {
          "base_uri": "https://localhost:8080/"
        },
        "id": "pxs_ovlleKrR",
        "outputId": "8047845f-4d81-43b1-b1cd-3a0a4c7fde72"
      },
      "source": [
        "pos_dest=pos_dest.loc[pd.isna(pos_dest['Destination_City'])==0, :]\n",
        "pos_dest.info()\n"
      ],
      "execution_count": null,
      "outputs": [
        {
          "output_type": "stream",
          "text": [
            "<class 'pandas.core.frame.DataFrame'>\n",
            "Int64Index: 188 entries, 0 to 187\n",
            "Data columns (total 4 columns):\n",
            " #   Column              Non-Null Count  Dtype  \n",
            "---  ------              --------------  -----  \n",
            " 0   Destination_Region  188 non-null    object \n",
            " 1   Destination_City    188 non-null    object \n",
            " 2   CITY_CD             0 non-null      float64\n",
            " 3   CITY_NAME_EN        0 non-null      float64\n",
            "dtypes: float64(2), object(2)\n",
            "memory usage: 7.3+ KB\n"
          ],
          "name": "stdout"
        }
      ]
    },
    {
      "cell_type": "code",
      "metadata": {
        "id": "bfzLMKoc7P19"
      },
      "source": [
        "pos_dest['Destination_City']=pos_dest['Destination_City'].apply(lambda x: remove_prefix(x , r'a[a-z]\\s')).apply(lambda x:remove_prefix(  x, r'a[a-z][a-z]\\s'))"
      ],
      "execution_count": null,
      "outputs": []
    },
    {
      "cell_type": "code",
      "metadata": {
        "id": "nJOiUIy2RSM5"
      },
      "source": [
        "pos_dest['closest'] = pos_dest['Destination_City'].apply(lambda x : get_close_matches(x,city_names))"
      ],
      "execution_count": null,
      "outputs": []
    },
    {
      "cell_type": "code",
      "metadata": {
        "id": "vlLglGqmGa1O"
      },
      "source": [
        "pos_dest = pos_dest.reset_index().explode(column='closest')\n"
      ],
      "execution_count": null,
      "outputs": []
    },
    {
      "cell_type": "code",
      "metadata": {
        "id": "d1rp1cqVP9AG"
      },
      "source": [
        ""
      ],
      "execution_count": null,
      "outputs": []
    },
    {
      "cell_type": "code",
      "metadata": {
        "id": "NE2xfPyJnSth"
      },
      "source": [
        "pos_dest_done=pos_dest.drop(columns=['CITY_CD' ,'CITY_NAME_EN']).merge(how = 'left' ,\n",
        "    right = saudi_cities , left_on = 'closest' , right_on= 'CITY_NAME_EN') "
      ],
      "execution_count": null,
      "outputs": []
    },
    {
      "cell_type": "markdown",
      "metadata": {
        "id": "EbVgnXtgOluf"
      },
      "source": [
        ""
      ]
    },
    {
      "cell_type": "code",
      "metadata": {
        "id": "S49Qxqj1Vmc8"
      },
      "source": [
        ""
      ],
      "execution_count": null,
      "outputs": []
    },
    {
      "cell_type": "code",
      "metadata": {
        "id": "lwAvCCGxXAJX"
      },
      "source": [
        "pos_dest_done['a_c_comp'] = pos_dest_done.apply(sim_metric,\n",
        "                          args=('Destination_Region', 'PROVINCE_NAME_EN'),\n",
        "                          axis=1) * pos_dest_done.apply(sim_metric,\n",
        "                          args=('Destination_City', 'CITY_NAME_EN'),\n",
        "                          axis=1) \n",
        "\n",
        "\n",
        "\n"
      ],
      "execution_count": null,
      "outputs": []
    },
    {
      "cell_type": "code",
      "metadata": {
        "id": "Vg20FffQxJmH"
      },
      "source": [
        "#pos_dest_done['a_e_comp'] =  pos_dest_done.apply(sim_metric,\n",
        "#                          args=('Destination_Region', 'PROVINCE_NAME_EN'),\n",
        "#                          axis=1) * pos_dest_done.apply(sim_metric,\n",
        "#                          args=('Destination_City', 'CITY_NAME_EN'),\n",
        "#                          axis=1)* pos_dest_done.apply(sim_metric,\n",
        "#                          args=('Destination_City', 'GOVERNORATE_NAME_EN'),\n",
        "#                          axis=1)\n"
      ],
      "execution_count": null,
      "outputs": []
    },
    {
      "cell_type": "code",
      "metadata": {
        "id": "wuR3zIa_osfQ"
      },
      "source": [
        "final_pos=pos_dest_done.loc[(pos_dest_done.groupby('Destination_City')['a_c_comp'].idxmax()) , ['index','Destination_Region','Destination_City','CITY_CD','CITY_NAME_EN','PROVINCE_NAME_EN','a_c_comp']\n",
        "                  ].sort_values(by=['index']).loc[pos_dest_done['a_c_comp'] >= 0.4]\n"
      ],
      "execution_count": null,
      "outputs": []
    },
    {
      "cell_type": "code",
      "metadata": {
        "id": "DT9zb6Y0uX24"
      },
      "source": [
        "final_pos['index'] +=1"
      ],
      "execution_count": null,
      "outputs": []
    },
    {
      "cell_type": "code",
      "metadata": {
        "colab": {
          "base_uri": "https://localhost:8080/",
          "height": 419
        },
        "id": "VysSy6lOAzs1",
        "outputId": "170cc037-4fba-422c-8fb9-876dfc04965c"
      },
      "source": [
        "final_pos"
      ],
      "execution_count": null,
      "outputs": [
        {
          "output_type": "execute_result",
          "data": {
            "text/html": [
              "<div>\n",
              "<style scoped>\n",
              "    .dataframe tbody tr th:only-of-type {\n",
              "        vertical-align: middle;\n",
              "    }\n",
              "\n",
              "    .dataframe tbody tr th {\n",
              "        vertical-align: top;\n",
              "    }\n",
              "\n",
              "    .dataframe thead th {\n",
              "        text-align: right;\n",
              "    }\n",
              "</style>\n",
              "<table border=\"1\" class=\"dataframe\">\n",
              "  <thead>\n",
              "    <tr style=\"text-align: right;\">\n",
              "      <th></th>\n",
              "      <th>index</th>\n",
              "      <th>Destination_Region</th>\n",
              "      <th>Destination_City</th>\n",
              "      <th>CITY_CD</th>\n",
              "      <th>CITY_NAME_EN</th>\n",
              "      <th>PROVINCE_NAME_EN</th>\n",
              "      <th>a_c_comp</th>\n",
              "    </tr>\n",
              "  </thead>\n",
              "  <tbody>\n",
              "    <tr>\n",
              "      <th>2</th>\n",
              "      <td>3</td>\n",
              "      <td>Bahah</td>\n",
              "      <td>mukhwah</td>\n",
              "      <td>3236</td>\n",
              "      <td>al mukhwah</td>\n",
              "      <td>Albaha</td>\n",
              "      <td>0.449198</td>\n",
              "    </tr>\n",
              "    <tr>\n",
              "      <th>6</th>\n",
              "      <td>4</td>\n",
              "      <td>Eastern</td>\n",
              "      <td>jubail</td>\n",
              "      <td>113</td>\n",
              "      <td>al jubail</td>\n",
              "      <td>Eastern</td>\n",
              "      <td>0.800000</td>\n",
              "    </tr>\n",
              "    <tr>\n",
              "      <th>11</th>\n",
              "      <td>5</td>\n",
              "      <td>Ha'il</td>\n",
              "      <td>shamly</td>\n",
              "      <td>2280</td>\n",
              "      <td>sahayy</td>\n",
              "      <td>Hail</td>\n",
              "      <td>0.592593</td>\n",
              "    </tr>\n",
              "    <tr>\n",
              "      <th>12</th>\n",
              "      <td>6</td>\n",
              "      <td>Jizan</td>\n",
              "      <td>jizan</td>\n",
              "      <td>17</td>\n",
              "      <td>jazan</td>\n",
              "      <td>Jazan</td>\n",
              "      <td>0.640000</td>\n",
              "    </tr>\n",
              "    <tr>\n",
              "      <th>15</th>\n",
              "      <td>7</td>\n",
              "      <td>Makkah</td>\n",
              "      <td>jeddah</td>\n",
              "      <td>18</td>\n",
              "      <td>jeddah</td>\n",
              "      <td>Makkah</td>\n",
              "      <td>1.000000</td>\n",
              "    </tr>\n",
              "    <tr>\n",
              "      <th>...</th>\n",
              "      <td>...</td>\n",
              "      <td>...</td>\n",
              "      <td>...</td>\n",
              "      <td>...</td>\n",
              "      <td>...</td>\n",
              "      <td>...</td>\n",
              "      <td>...</td>\n",
              "    </tr>\n",
              "    <tr>\n",
              "      <th>547</th>\n",
              "      <td>181</td>\n",
              "      <td>Asir</td>\n",
              "      <td>shaabain</td>\n",
              "      <td>1278</td>\n",
              "      <td>sa'aban</td>\n",
              "      <td>Aseer</td>\n",
              "      <td>0.533333</td>\n",
              "    </tr>\n",
              "    <tr>\n",
              "      <th>549</th>\n",
              "      <td>182</td>\n",
              "      <td>Eastern</td>\n",
              "      <td>hafr albatin</td>\n",
              "      <td>47</td>\n",
              "      <td>hafar al batin</td>\n",
              "      <td>Eastern</td>\n",
              "      <td>0.923077</td>\n",
              "    </tr>\n",
              "    <tr>\n",
              "      <th>552</th>\n",
              "      <td>183</td>\n",
              "      <td>Jizan</td>\n",
              "      <td>abo araish</td>\n",
              "      <td>3525</td>\n",
              "      <td>abu arish</td>\n",
              "      <td>Jazan</td>\n",
              "      <td>0.673684</td>\n",
              "    </tr>\n",
              "    <tr>\n",
              "      <th>555</th>\n",
              "      <td>184</td>\n",
              "      <td>Makkah</td>\n",
              "      <td>bani saad</td>\n",
              "      <td>2202</td>\n",
              "      <td>bani da'ad</td>\n",
              "      <td>Makkah</td>\n",
              "      <td>0.842105</td>\n",
              "    </tr>\n",
              "    <tr>\n",
              "      <th>563</th>\n",
              "      <td>188</td>\n",
              "      <td>Riyadh</td>\n",
              "      <td>oshaiger</td>\n",
              "      <td>577</td>\n",
              "      <td>ushayqir</td>\n",
              "      <td>Riyadh</td>\n",
              "      <td>0.625000</td>\n",
              "    </tr>\n",
              "  </tbody>\n",
              "</table>\n",
              "<p>136 rows × 7 columns</p>\n",
              "</div>"
            ],
            "text/plain": [
              "     index Destination_Region  ... PROVINCE_NAME_EN  a_c_comp\n",
              "2        3              Bahah  ...           Albaha  0.449198\n",
              "6        4            Eastern  ...          Eastern  0.800000\n",
              "11       5              Ha'il  ...             Hail  0.592593\n",
              "12       6              Jizan  ...            Jazan  0.640000\n",
              "15       7             Makkah  ...           Makkah  1.000000\n",
              "..     ...                ...  ...              ...       ...\n",
              "547    181               Asir  ...            Aseer  0.533333\n",
              "549    182            Eastern  ...          Eastern  0.923077\n",
              "552    183              Jizan  ...            Jazan  0.673684\n",
              "555    184             Makkah  ...           Makkah  0.842105\n",
              "563    188             Riyadh  ...           Riyadh  0.625000\n",
              "\n",
              "[136 rows x 7 columns]"
            ]
          },
          "metadata": {
            "tags": []
          },
          "execution_count": 26
        }
      ]
    },
    {
      "cell_type": "code",
      "metadata": {
        "id": "6pT8Jp8qvGSD"
      },
      "source": [
        "final_pos.to_excel('pos_dest.xlsx')"
      ],
      "execution_count": null,
      "outputs": []
    },
    {
      "cell_type": "code",
      "metadata": {
        "id": "grM2eUoiGWTd"
      },
      "source": [
        "pos_dest1 = pos_dest_done.loc[(pos_dest_done.groupby('Destination_City')['a_c_comp'].idxmax()) , ['index','Destination_Region','Destination_City','CITY_CD','CITY_NAME_EN','PROVINCE_NAME_EN','a_c_comp']\n",
        "                  ].sort_values(by=['index']).loc[pos_dest_done['a_c_comp'] < 0.40, ['index' ,\t'Destination_Region' ,\t'Destination_City']]\n"
      ],
      "execution_count": null,
      "outputs": []
    },
    {
      "cell_type": "code",
      "metadata": {
        "id": "VKpfN8DXySyC"
      },
      "source": [
        ""
      ],
      "execution_count": null,
      "outputs": []
    },
    {
      "cell_type": "code",
      "metadata": {
        "id": "QSnkqXatNwAb"
      },
      "source": [
        "pos_dest1['closest'] = pos_dest1['Destination_City'].apply(lambda x : get_close_matches(x,city_names1))"
      ],
      "execution_count": null,
      "outputs": []
    },
    {
      "cell_type": "code",
      "metadata": {
        "id": "zd-S1v-YObTi"
      },
      "source": [
        "pos_dest_done1=pos_dest1.reset_index().explode(column='closest').merge(how = 'left' ,\n",
        "    right = saudi_cities , left_on = 'closest' , right_on= 'GOVERNORATE_NAME_EN') "
      ],
      "execution_count": null,
      "outputs": []
    },
    {
      "cell_type": "code",
      "metadata": {
        "id": "Ml4x_KckPXsY"
      },
      "source": [
        ""
      ],
      "execution_count": null,
      "outputs": []
    },
    {
      "cell_type": "code",
      "metadata": {
        "id": "4Up0HBskPUre"
      },
      "source": [
        "pos_dest_done1['a_d_comp'] =   pos_dest_done1.apply(sim_metric,\n",
        "                          args=('Destination_Region', 'PROVINCE_NAME_EN'),\n",
        "                          axis=1) * pos_dest_done1.apply(sim_metric,\n",
        "                          args=('Destination_City', 'GOVERNORATE_NAME_EN'),\n",
        "                          axis=1)"
      ],
      "execution_count": null,
      "outputs": []
    },
    {
      "cell_type": "code",
      "metadata": {
        "id": "UWgbmGCTPqTQ"
      },
      "source": [
        "final_pos1=pos_dest_done1.loc[(pos_dest_done1.groupby('Destination_City')['a_d_comp'].idxmax()) , ['index','Destination_Region','Destination_City','CITY_CD','CITY_NAME_EN','PROVINCE_NAME_EN', 'GOVERNORATE_NAME_EN','a_d_comp']\n",
        "                  ].sort_values(by=['index']).loc[pos_dest_done1['a_d_comp'] >= 0.4]"
      ],
      "execution_count": null,
      "outputs": []
    },
    {
      "cell_type": "code",
      "metadata": {
        "colab": {
          "base_uri": "https://localhost:8080/"
        },
        "id": "cSeAK3jRPuwl",
        "outputId": "064cf6c5-e1e1-40c7-a56b-058a5bc6c7c5"
      },
      "source": [
        "final_pos1.shape"
      ],
      "execution_count": null,
      "outputs": [
        {
          "output_type": "execute_result",
          "data": {
            "text/plain": [
              "(11, 8)"
            ]
          },
          "metadata": {
            "tags": []
          },
          "execution_count": 33
        }
      ]
    },
    {
      "cell_type": "code",
      "metadata": {
        "id": "-5N1x1MhQYZw"
      },
      "source": [
        "final_pos1 = final_pos1.loc[ :, ['index' , 'CITY_CD' ,'GOVERNORATE_NAME_EN' , 'PROVINCE_NAME_EN' , 'a_d_comp']]"
      ],
      "execution_count": null,
      "outputs": []
    },
    {
      "cell_type": "code",
      "metadata": {
        "id": "XAAK4URmAgZW"
      },
      "source": [
        "final_pos1['index'] +=1"
      ],
      "execution_count": null,
      "outputs": []
    },
    {
      "cell_type": "code",
      "metadata": {
        "id": "RuBuetKiBBkA"
      },
      "source": [
        "final_pos1.to_excel('pos_dest1.xlsx')"
      ],
      "execution_count": null,
      "outputs": []
    },
    {
      "cell_type": "code",
      "metadata": {
        "id": "-oinB6fJbYr6"
      },
      "source": [
        "#non_match=set (pos_dest['Destination_City']) - set(final_pos1['Destination_City'])-set(final_pos['Destination_City'])"
      ],
      "execution_count": null,
      "outputs": []
    },
    {
      "cell_type": "code",
      "metadata": {
        "id": "tAVUYjSlec1W"
      },
      "source": [
        "#non_match"
      ],
      "execution_count": null,
      "outputs": []
    },
    {
      "cell_type": "markdown",
      "metadata": {
        "id": "vw9I_982sFFp"
      },
      "source": [
        "## Sheet 3"
      ]
    },
    {
      "cell_type": "code",
      "metadata": {
        "id": "2xa3NrK19yw6"
      },
      "source": [
        "pos_dest_final = pd.read_excel('/content/SAMA_Mapping11.xlsx' , sheet_name='POS_Dest')"
      ],
      "execution_count": null,
      "outputs": []
    },
    {
      "cell_type": "code",
      "metadata": {
        "id": "xGFY4cgF-u4T"
      },
      "source": [
        "pos_dest_final.drop(columns = ['Unnamed: 0' , 'Destination_Region' ,'CITY_NAME_EN' ,'Updated'] , inplace=True )"
      ],
      "execution_count": null,
      "outputs": []
    },
    {
      "cell_type": "code",
      "metadata": {
        "id": "76L5SCeZ_J6s"
      },
      "source": [
        "pos_dest_final.drop_duplicates(inplace=True)"
      ],
      "execution_count": null,
      "outputs": []
    },
    {
      "cell_type": "code",
      "metadata": {
        "id": "9nZ-0i6jHRvl"
      },
      "source": [
        "pos_dest_final.columns = ['city' , 'city_id']"
      ],
      "execution_count": null,
      "outputs": []
    },
    {
      "cell_type": "code",
      "metadata": {
        "id": "FM14iP6J_khb"
      },
      "source": [
        "pos_city_country_final = pd.read_excel('/content/SAMA_Mapping11.xlsx' , sheet_name='POS_City and Country')"
      ],
      "execution_count": null,
      "outputs": []
    },
    {
      "cell_type": "code",
      "metadata": {
        "id": "EdRfdYiY_vXk"
      },
      "source": [
        "pos_city_country_final.drop(columns = ['Unnamed: 0','Unnamed: 9' ,'Unnamed: 10' ,'Unnamed: 11' , 'CITY_NAME_EN' ,'Origin_Country','Update' ,'Country_ALPHA3_CD' , 'Country_SHORT_NAME_EN' ,'updated'] , inplace=True )"
      ],
      "execution_count": null,
      "outputs": []
    },
    {
      "cell_type": "code",
      "metadata": {
        "id": "j16DYkWaAQa1"
      },
      "source": [
        "pos_city_country_final.drop_duplicates(inplace=True)"
      ],
      "execution_count": null,
      "outputs": []
    },
    {
      "cell_type": "code",
      "metadata": {
        "id": "oiExRmyIHaA1"
      },
      "source": [
        "pos_city_country_final.columns = ['city' , 'city_id']"
      ],
      "execution_count": null,
      "outputs": []
    },
    {
      "cell_type": "code",
      "metadata": {
        "id": "nGk0VfC_DkYI"
      },
      "source": [
        "saudi_cities=saudi_cities.loc[ : ,['CITY_NAME_EN' ,'CITY_CD' ]]\n"
      ],
      "execution_count": null,
      "outputs": []
    },
    {
      "cell_type": "code",
      "metadata": {
        "id": "2fSpLvaxHcDK"
      },
      "source": [
        "saudi_cities.columns = ['city' , 'city_id']"
      ],
      "execution_count": null,
      "outputs": []
    },
    {
      "cell_type": "code",
      "metadata": {
        "id": "YcP18HlQGU_X"
      },
      "source": [
        "corpus = pd.concat([pos_city_country_final ,pos_dest_final ,saudi_cities])"
      ],
      "execution_count": null,
      "outputs": []
    },
    {
      "cell_type": "code",
      "metadata": {
        "id": "9O8vPApaN3Xw"
      },
      "source": [
        "corpus.dropna(subset = ['city'] , inplace=True)"
      ],
      "execution_count": null,
      "outputs": []
    },
    {
      "cell_type": "code",
      "metadata": {
        "id": "W3FVw8vDHilk"
      },
      "source": [
        "corpus['city'] = corpus['city'].apply(lambda x: x.lower())"
      ],
      "execution_count": null,
      "outputs": []
    },
    {
      "cell_type": "code",
      "metadata": {
        "id": "-LWMQGlwOwwi"
      },
      "source": [
        "corpus['city'] =corpus['city'] .replace('al madinah al munawwarah' , 'madina').replace('makkah al mukarramah' , 'makkah')"
      ],
      "execution_count": null,
      "outputs": []
    },
    {
      "cell_type": "code",
      "metadata": {
        "id": "o-C_4UYNO92Y"
      },
      "source": [
        "corpus['city'] = corpus['city'].apply(lambda x: remove_prefix(x , 'al ')).apply(lambda x:remove_prefix(  x, 'al-'))"
      ],
      "execution_count": null,
      "outputs": []
    },
    {
      "cell_type": "code",
      "metadata": {
        "id": "o0zsfuFfOAGP"
      },
      "source": [
        "corpus_city = list(set(corpus['city']))"
      ],
      "execution_count": null,
      "outputs": []
    },
    {
      "cell_type": "code",
      "metadata": {
        "id": "0-uvtpLcsEbW"
      },
      "source": [
        "sama_city = pd.read_excel('/content/SAMA_Mapping11.xlsx' , sheet_name='SAMA_City')"
      ],
      "execution_count": null,
      "outputs": []
    },
    {
      "cell_type": "code",
      "metadata": {
        "id": "3cpMYq4qydPD"
      },
      "source": [
        "sama_city['Province'] = sama_city['Province'].str.lower()\n",
        "sama_city['City'] = sama_city['City'].str.lower()"
      ],
      "execution_count": null,
      "outputs": []
    },
    {
      "cell_type": "code",
      "metadata": {
        "id": "5fFjSawlXBP7"
      },
      "source": [
        "sama_city.dropna(subset = ['City'] , inplace=True)"
      ],
      "execution_count": null,
      "outputs": []
    },
    {
      "cell_type": "code",
      "metadata": {
        "id": "qc5uhxXz6uqd"
      },
      "source": [
        "sama_city['Province'] = sama_city['Province'].str.replace('region' , '')"
      ],
      "execution_count": null,
      "outputs": []
    },
    {
      "cell_type": "code",
      "metadata": {
        "id": "fn7hOJRv9UZX"
      },
      "source": [
        "sama_city['City'] = sama_city['City'].str.replace('city' , '')\n",
        "sama_city['City'] = sama_city['City'].str.replace('branch' , '')\n",
        "sama_city['City'] = sama_city['City'].str.replace('east' , '')\n",
        "sama_city['City'] = sama_city['City'].str.replace('north' , '')\n",
        "sama_city['City'] = sama_city['City'].str.replace('west' , '')\n",
        "sama_city['City'] = sama_city['City'].str.replace('south' , '')\n",
        "sama_city['City'] = sama_city['City'].str.replace(' - ladies' , '')"
      ],
      "execution_count": null,
      "outputs": []
    },
    {
      "cell_type": "code",
      "metadata": {
        "id": "01ClnfJmmjii"
      },
      "source": [
        "sama_city = sama_city.loc[: , ['Unnamed: 0' , 'OperationId' , 'City' , 'CITY_CD' , 'Checked']]"
      ],
      "execution_count": null,
      "outputs": []
    },
    {
      "cell_type": "code",
      "metadata": {
        "id": "3fcqyvhQm97K"
      },
      "source": [
        "sama_city_checked = sama_city.loc[sama_city['Checked']==1 , ['City' , 'CITY_CD']]"
      ],
      "execution_count": null,
      "outputs": []
    },
    {
      "cell_type": "code",
      "metadata": {
        "colab": {
          "base_uri": "https://localhost:8080/",
          "height": 419
        },
        "id": "YVEanB-tnPyw",
        "outputId": "0bb66fd2-e205-4cca-95d0-3f7d379d9c1c"
      },
      "source": [
        "sama_city_checked"
      ],
      "execution_count": null,
      "outputs": [
        {
          "output_type": "execute_result",
          "data": {
            "text/html": [
              "<div>\n",
              "<style scoped>\n",
              "    .dataframe tbody tr th:only-of-type {\n",
              "        vertical-align: middle;\n",
              "    }\n",
              "\n",
              "    .dataframe tbody tr th {\n",
              "        vertical-align: top;\n",
              "    }\n",
              "\n",
              "    .dataframe thead th {\n",
              "        text-align: right;\n",
              "    }\n",
              "</style>\n",
              "<table border=\"1\" class=\"dataframe\">\n",
              "  <thead>\n",
              "    <tr style=\"text-align: right;\">\n",
              "      <th></th>\n",
              "      <th>City</th>\n",
              "      <th>CITY_CD</th>\n",
              "    </tr>\n",
              "  </thead>\n",
              "  <tbody>\n",
              "    <tr>\n",
              "      <th>2</th>\n",
              "      <td>abgeeg</td>\n",
              "      <td>243</td>\n",
              "    </tr>\n",
              "    <tr>\n",
              "      <th>3</th>\n",
              "      <td>al adhar</td>\n",
              "      <td>1068</td>\n",
              "    </tr>\n",
              "    <tr>\n",
              "      <th>4</th>\n",
              "      <td>al ahsa</td>\n",
              "      <td>3677</td>\n",
              "    </tr>\n",
              "    <tr>\n",
              "      <th>5</th>\n",
              "      <td>al haniyah</td>\n",
              "      <td>2496</td>\n",
              "    </tr>\n",
              "    <tr>\n",
              "      <th>6</th>\n",
              "      <td>al hawra</td>\n",
              "      <td>1218</td>\n",
              "    </tr>\n",
              "    <tr>\n",
              "      <th>...</th>\n",
              "      <td>...</td>\n",
              "      <td>...</td>\n",
              "    </tr>\n",
              "    <tr>\n",
              "      <th>14175</th>\n",
              "      <td>sulayyil</td>\n",
              "      <td>1210</td>\n",
              "    </tr>\n",
              "    <tr>\n",
              "      <th>14176</th>\n",
              "      <td>jeddah</td>\n",
              "      <td>18</td>\n",
              "    </tr>\n",
              "    <tr>\n",
              "      <th>14177</th>\n",
              "      <td>jeddah</td>\n",
              "      <td>18</td>\n",
              "    </tr>\n",
              "    <tr>\n",
              "      <th>14178</th>\n",
              "      <td>jeddah</td>\n",
              "      <td>18</td>\n",
              "    </tr>\n",
              "    <tr>\n",
              "      <th>14179</th>\n",
              "      <td>jiddah</td>\n",
              "      <td>2388</td>\n",
              "    </tr>\n",
              "  </tbody>\n",
              "</table>\n",
              "<p>9916 rows × 2 columns</p>\n",
              "</div>"
            ],
            "text/plain": [
              "             City CITY_CD\n",
              "2          abgeeg     243\n",
              "3        al adhar    1068\n",
              "4         al ahsa    3677\n",
              "5      al haniyah    2496\n",
              "6        al hawra    1218\n",
              "...           ...     ...\n",
              "14175    sulayyil    1210\n",
              "14176      jeddah      18\n",
              "14177      jeddah      18\n",
              "14178     jeddah       18\n",
              "14179      jiddah    2388\n",
              "\n",
              "[9916 rows x 2 columns]"
            ]
          },
          "metadata": {
            "tags": []
          },
          "execution_count": 62
        }
      ]
    },
    {
      "cell_type": "code",
      "metadata": {
        "id": "TuevwkICncjI"
      },
      "source": [
        "sama_city_checked.columns = ['city' , 'city_id']"
      ],
      "execution_count": null,
      "outputs": []
    },
    {
      "cell_type": "code",
      "metadata": {
        "colab": {
          "base_uri": "https://localhost:8080/"
        },
        "id": "uv3fsAoOnh7x",
        "outputId": "da502227-00d6-447a-9523-0899d90ab3ef"
      },
      "source": [
        "corpus.shape"
      ],
      "execution_count": null,
      "outputs": [
        {
          "output_type": "execute_result",
          "data": {
            "text/plain": [
              "(14300, 2)"
            ]
          },
          "metadata": {
            "tags": []
          },
          "execution_count": 94
        }
      ]
    },
    {
      "cell_type": "code",
      "metadata": {
        "id": "ko2G9q5wnu8R"
      },
      "source": [
        "corpus = pd.concat([pos_city_country_final ,pos_dest_final ,saudi_cities , sama_city_checked])"
      ],
      "execution_count": null,
      "outputs": []
    },
    {
      "cell_type": "code",
      "metadata": {
        "id": "8VuRcbCZnu8R"
      },
      "source": [
        "corpus.dropna(subset = ['city'] , inplace=True)"
      ],
      "execution_count": null,
      "outputs": []
    },
    {
      "cell_type": "code",
      "metadata": {
        "id": "9aG-KYoMnu8R"
      },
      "source": [
        "corpus['city'] = corpus['city'].apply(lambda x: x.lower())"
      ],
      "execution_count": null,
      "outputs": []
    },
    {
      "cell_type": "code",
      "metadata": {
        "id": "rybeh41Wnu8R"
      },
      "source": [
        "corpus['city'] =corpus['city'] .replace('al madinah al munawwarah' , 'madina').replace('makkah al mukarramah' , 'makkah')"
      ],
      "execution_count": null,
      "outputs": []
    },
    {
      "cell_type": "code",
      "metadata": {
        "id": "F7xkYuuNnu8R"
      },
      "source": [
        "corpus['city'] = corpus['city'].apply(lambda x: remove_prefix(x , 'al ')).apply(lambda x:remove_prefix(  x, 'al-'))"
      ],
      "execution_count": null,
      "outputs": []
    },
    {
      "cell_type": "code",
      "metadata": {
        "id": "OS-t7Tl7nu8R"
      },
      "source": [
        "corpus_city = list(set(corpus['city']))"
      ],
      "execution_count": null,
      "outputs": []
    },
    {
      "cell_type": "code",
      "metadata": {
        "id": "HM6MqOAbs44y"
      },
      "source": [
        "corpus_city"
      ],
      "execution_count": null,
      "outputs": []
    },
    {
      "cell_type": "code",
      "metadata": {
        "id": "I9wI8KRj-Mz9"
      },
      "source": [
        "#sama_city.drop(columns = ['CITY_CD' ,'CITY_NAME_EN'] , inplace=True)"
      ],
      "execution_count": null,
      "outputs": []
    },
    {
      "cell_type": "code",
      "metadata": {
        "id": "Kv3DlS85nY1D"
      },
      "source": [
        "sama_city = sama_city.loc[sama_city['Checked'] !=1 , ]"
      ],
      "execution_count": null,
      "outputs": []
    },
    {
      "cell_type": "code",
      "metadata": {
        "colab": {
          "base_uri": "https://localhost:8080/"
        },
        "id": "LCjYZXLnTEVq",
        "outputId": "2fadf6c8-041f-4f3c-9429-7037bae7e10e"
      },
      "source": [
        "sama_city['City']"
      ],
      "execution_count": null,
      "outputs": [
        {
          "output_type": "execute_result",
          "data": {
            "text/plain": [
              "0                          \n",
              "1                         -\n",
              "24       jubail industrial \n",
              "40           rahwah al-bare\n",
              "48            mahayel asser\n",
              "                ...        \n",
              "14167        central region\n",
              "14168                others\n",
              "14169             jordanian\n",
              "14170             srilankan\n",
              "14173                rorrma\n",
              "Name: City, Length: 4218, dtype: object"
            ]
          },
          "metadata": {
            "tags": []
          },
          "execution_count": 74
        }
      ]
    },
    {
      "cell_type": "code",
      "metadata": {
        "colab": {
          "base_uri": "https://localhost:8080/"
        },
        "id": "nd1UCV0sspqE",
        "outputId": "6c829716-efcd-422e-a5bb-51696bbf3868"
      },
      "source": [
        "len(corpus_city)"
      ],
      "execution_count": null,
      "outputs": [
        {
          "output_type": "execute_result",
          "data": {
            "text/plain": [
              "4713"
            ]
          },
          "metadata": {
            "tags": []
          },
          "execution_count": 93
        }
      ]
    },
    {
      "cell_type": "code",
      "metadata": {
        "id": "ww1buE0AQMij"
      },
      "source": [
        "sama_city['City'] = sama_city['City'].replace('al madinah al munawwarah' , 'madina').replace('makkah al mukarramah' , 'makkah')"
      ],
      "execution_count": null,
      "outputs": []
    },
    {
      "cell_type": "code",
      "metadata": {
        "colab": {
          "base_uri": "https://localhost:8080/"
        },
        "id": "d_p-U2zXTAFb",
        "outputId": "b5bb9f66-4954-405d-e98a-aeb67197a769"
      },
      "source": [
        "sama_city['City']"
      ],
      "execution_count": null,
      "outputs": [
        {
          "output_type": "execute_result",
          "data": {
            "text/plain": [
              "0                          \n",
              "1                         -\n",
              "24       jubail industrial \n",
              "40           rahwah al-bare\n",
              "48            mahayel asser\n",
              "                ...        \n",
              "14167        central region\n",
              "14168                others\n",
              "14169             jordanian\n",
              "14170             srilankan\n",
              "14173                rorrma\n",
              "Name: City, Length: 4218, dtype: object"
            ]
          },
          "metadata": {
            "tags": []
          },
          "execution_count": 76
        }
      ]
    },
    {
      "cell_type": "code",
      "metadata": {
        "id": "zFAtlBMsQUvo"
      },
      "source": [
        "sama_city['City'] =sama_city['City'].apply(lambda x: remove_prefix(x , 'al ')).apply(lambda x:remove_prefix(  x, 'al-'))"
      ],
      "execution_count": null,
      "outputs": []
    },
    {
      "cell_type": "code",
      "metadata": {
        "id": "3GbQk2LKb2_Y"
      },
      "source": [
        ""
      ],
      "execution_count": null,
      "outputs": []
    },
    {
      "cell_type": "code",
      "metadata": {
        "colab": {
          "base_uri": "https://localhost:8080/",
          "height": 204
        },
        "id": "Sww_pHki9kFK",
        "outputId": "ab9ca275-a96c-4407-99c4-952343f08f02"
      },
      "source": [
        "sama_city.head()"
      ],
      "execution_count": null,
      "outputs": [
        {
          "output_type": "execute_result",
          "data": {
            "text/html": [
              "<div>\n",
              "<style scoped>\n",
              "    .dataframe tbody tr th:only-of-type {\n",
              "        vertical-align: middle;\n",
              "    }\n",
              "\n",
              "    .dataframe tbody tr th {\n",
              "        vertical-align: top;\n",
              "    }\n",
              "\n",
              "    .dataframe thead th {\n",
              "        text-align: right;\n",
              "    }\n",
              "</style>\n",
              "<table border=\"1\" class=\"dataframe\">\n",
              "  <thead>\n",
              "    <tr style=\"text-align: right;\">\n",
              "      <th></th>\n",
              "      <th>Unnamed: 0</th>\n",
              "      <th>OperationId</th>\n",
              "      <th>City</th>\n",
              "      <th>CITY_CD</th>\n",
              "      <th>Checked</th>\n",
              "    </tr>\n",
              "  </thead>\n",
              "  <tbody>\n",
              "    <tr>\n",
              "      <th>0</th>\n",
              "      <td>1</td>\n",
              "      <td>1</td>\n",
              "      <td></td>\n",
              "      <td></td>\n",
              "      <td>NaN</td>\n",
              "    </tr>\n",
              "    <tr>\n",
              "      <th>1</th>\n",
              "      <td>2</td>\n",
              "      <td>1</td>\n",
              "      <td>-</td>\n",
              "      <td></td>\n",
              "      <td>NaN</td>\n",
              "    </tr>\n",
              "    <tr>\n",
              "      <th>24</th>\n",
              "      <td>25</td>\n",
              "      <td>1</td>\n",
              "      <td>jubail industrial</td>\n",
              "      <td></td>\n",
              "      <td>NaN</td>\n",
              "    </tr>\n",
              "    <tr>\n",
              "      <th>40</th>\n",
              "      <td>41</td>\n",
              "      <td>2</td>\n",
              "      <td>rahwah al-bare</td>\n",
              "      <td></td>\n",
              "      <td>NaN</td>\n",
              "    </tr>\n",
              "    <tr>\n",
              "      <th>48</th>\n",
              "      <td>49</td>\n",
              "      <td>2</td>\n",
              "      <td>mahayel asser</td>\n",
              "      <td></td>\n",
              "      <td>NaN</td>\n",
              "    </tr>\n",
              "  </tbody>\n",
              "</table>\n",
              "</div>"
            ],
            "text/plain": [
              "    Unnamed: 0  OperationId                City CITY_CD  Checked\n",
              "0            1            1                                  NaN\n",
              "1            2            1                   -              NaN\n",
              "24          25            1  jubail industrial               NaN\n",
              "40          41            2      rahwah al-bare              NaN\n",
              "48          49            2       mahayel asser              NaN"
            ]
          },
          "metadata": {
            "tags": []
          },
          "execution_count": 78
        }
      ]
    },
    {
      "cell_type": "code",
      "metadata": {
        "colab": {
          "base_uri": "https://localhost:8080/"
        },
        "id": "v7h7BotQ_GuO",
        "outputId": "bddf9d9e-f3af-457e-bf96-77ae31fb478b"
      },
      "source": [
        "sama_city.info()"
      ],
      "execution_count": null,
      "outputs": [
        {
          "output_type": "stream",
          "text": [
            "<class 'pandas.core.frame.DataFrame'>\n",
            "Int64Index: 4218 entries, 0 to 14173\n",
            "Data columns (total 5 columns):\n",
            " #   Column       Non-Null Count  Dtype  \n",
            "---  ------       --------------  -----  \n",
            " 0   Unnamed: 0   4218 non-null   int64  \n",
            " 1   OperationId  4218 non-null   int64  \n",
            " 2   City         4218 non-null   object \n",
            " 3   CITY_CD      4216 non-null   object \n",
            " 4   Checked      0 non-null      float64\n",
            "dtypes: float64(1), int64(2), object(2)\n",
            "memory usage: 197.7+ KB\n"
          ],
          "name": "stdout"
        }
      ]
    },
    {
      "cell_type": "code",
      "metadata": {
        "id": "5cgTfWV8ApNh"
      },
      "source": [
        "sama_city.reset_index( inplace=True)"
      ],
      "execution_count": null,
      "outputs": []
    },
    {
      "cell_type": "code",
      "metadata": {
        "id": "i1NmROUcSB1s"
      },
      "source": [
        "sama_city.dropna(subset=['City'] , inplace=True)"
      ],
      "execution_count": null,
      "outputs": []
    },
    {
      "cell_type": "code",
      "metadata": {
        "id": "ONNAZ3Bg-ugW"
      },
      "source": [
        "sama_city['closest'] = sama_city['City'].apply(lambda x :  get_close_matches(x,corpus_city) )"
      ],
      "execution_count": null,
      "outputs": []
    },
    {
      "cell_type": "code",
      "metadata": {
        "id": "8pJmOKfJMKIZ"
      },
      "source": [
        "sama_city_done = sama_city.explode(column='closest').merge(how = 'left' ,\n",
        "    right = corpus , left_on = 'closest' , right_on= 'city') "
      ],
      "execution_count": null,
      "outputs": []
    },
    {
      "cell_type": "code",
      "metadata": {
        "colab": {
          "base_uri": "https://localhost:8080/",
          "height": 419
        },
        "id": "bg86CB70qIab",
        "outputId": "9901baf6-068a-4411-a3e1-924f7b789728"
      },
      "source": [
        "sama_city_done"
      ],
      "execution_count": null,
      "outputs": [
        {
          "output_type": "execute_result",
          "data": {
            "text/html": [
              "<div>\n",
              "<style scoped>\n",
              "    .dataframe tbody tr th:only-of-type {\n",
              "        vertical-align: middle;\n",
              "    }\n",
              "\n",
              "    .dataframe tbody tr th {\n",
              "        vertical-align: top;\n",
              "    }\n",
              "\n",
              "    .dataframe thead th {\n",
              "        text-align: right;\n",
              "    }\n",
              "</style>\n",
              "<table border=\"1\" class=\"dataframe\">\n",
              "  <thead>\n",
              "    <tr style=\"text-align: right;\">\n",
              "      <th></th>\n",
              "      <th>Unnamed: 0</th>\n",
              "      <th>OperationId</th>\n",
              "      <th>City</th>\n",
              "      <th>CITY_CD</th>\n",
              "      <th>Checked</th>\n",
              "      <th>closest</th>\n",
              "      <th>city</th>\n",
              "      <th>city_id</th>\n",
              "    </tr>\n",
              "  </thead>\n",
              "  <tbody>\n",
              "    <tr>\n",
              "      <th>0</th>\n",
              "      <td>1</td>\n",
              "      <td>1</td>\n",
              "      <td></td>\n",
              "      <td></td>\n",
              "      <td>NaN</td>\n",
              "      <td></td>\n",
              "      <td></td>\n",
              "      <td>999999</td>\n",
              "    </tr>\n",
              "    <tr>\n",
              "      <th>1</th>\n",
              "      <td>1</td>\n",
              "      <td>1</td>\n",
              "      <td></td>\n",
              "      <td></td>\n",
              "      <td>NaN</td>\n",
              "      <td></td>\n",
              "      <td></td>\n",
              "      <td>999999</td>\n",
              "    </tr>\n",
              "    <tr>\n",
              "      <th>2</th>\n",
              "      <td>2</td>\n",
              "      <td>1</td>\n",
              "      <td>-</td>\n",
              "      <td></td>\n",
              "      <td>NaN</td>\n",
              "      <td>NaN</td>\n",
              "      <td>NaN</td>\n",
              "      <td>NaN</td>\n",
              "    </tr>\n",
              "    <tr>\n",
              "      <th>3</th>\n",
              "      <td>25</td>\n",
              "      <td>1</td>\n",
              "      <td>jubail industrial</td>\n",
              "      <td></td>\n",
              "      <td>NaN</td>\n",
              "      <td>NaN</td>\n",
              "      <td>NaN</td>\n",
              "      <td>NaN</td>\n",
              "    </tr>\n",
              "    <tr>\n",
              "      <th>4</th>\n",
              "      <td>41</td>\n",
              "      <td>2</td>\n",
              "      <td>rahwah al-bare</td>\n",
              "      <td></td>\n",
              "      <td>NaN</td>\n",
              "      <td>hafr al-baten</td>\n",
              "      <td>hafr al-baten</td>\n",
              "      <td>47</td>\n",
              "    </tr>\n",
              "    <tr>\n",
              "      <th>...</th>\n",
              "      <td>...</td>\n",
              "      <td>...</td>\n",
              "      <td>...</td>\n",
              "      <td>...</td>\n",
              "      <td>...</td>\n",
              "      <td>...</td>\n",
              "      <td>...</td>\n",
              "      <td>...</td>\n",
              "    </tr>\n",
              "    <tr>\n",
              "      <th>80369</th>\n",
              "      <td>14174</td>\n",
              "      <td>7</td>\n",
              "      <td>rorrma</td>\n",
              "      <td></td>\n",
              "      <td>NaN</td>\n",
              "      <td>sharora</td>\n",
              "      <td>sharora</td>\n",
              "      <td>3347</td>\n",
              "    </tr>\n",
              "    <tr>\n",
              "      <th>80370</th>\n",
              "      <td>14174</td>\n",
              "      <td>7</td>\n",
              "      <td>rorrma</td>\n",
              "      <td></td>\n",
              "      <td>NaN</td>\n",
              "      <td>sharora</td>\n",
              "      <td>sharora</td>\n",
              "      <td>3347</td>\n",
              "    </tr>\n",
              "    <tr>\n",
              "      <th>80371</th>\n",
              "      <td>14174</td>\n",
              "      <td>7</td>\n",
              "      <td>rorrma</td>\n",
              "      <td></td>\n",
              "      <td>NaN</td>\n",
              "      <td>sharora</td>\n",
              "      <td>sharora</td>\n",
              "      <td>3347</td>\n",
              "    </tr>\n",
              "    <tr>\n",
              "      <th>80372</th>\n",
              "      <td>14174</td>\n",
              "      <td>7</td>\n",
              "      <td>rorrma</td>\n",
              "      <td></td>\n",
              "      <td>NaN</td>\n",
              "      <td>sharora</td>\n",
              "      <td>sharora</td>\n",
              "      <td>3347</td>\n",
              "    </tr>\n",
              "    <tr>\n",
              "      <th>80373</th>\n",
              "      <td>14174</td>\n",
              "      <td>7</td>\n",
              "      <td>rorrma</td>\n",
              "      <td></td>\n",
              "      <td>NaN</td>\n",
              "      <td>sharora</td>\n",
              "      <td>sharora</td>\n",
              "      <td>3347</td>\n",
              "    </tr>\n",
              "  </tbody>\n",
              "</table>\n",
              "<p>80374 rows × 8 columns</p>\n",
              "</div>"
            ],
            "text/plain": [
              "       Unnamed: 0  OperationId  ...           city city_id\n",
              "0               1            1  ...                 999999\n",
              "1               1            1  ...                 999999\n",
              "2               2            1  ...            NaN     NaN\n",
              "3              25            1  ...            NaN     NaN\n",
              "4              41            2  ...  hafr al-baten      47\n",
              "...           ...          ...  ...            ...     ...\n",
              "80369       14174            7  ...        sharora    3347\n",
              "80370       14174            7  ...        sharora    3347\n",
              "80371       14174            7  ...        sharora    3347\n",
              "80372       14174            7  ...        sharora    3347\n",
              "80373       14174            7  ...        sharora    3347\n",
              "\n",
              "[80374 rows x 8 columns]"
            ]
          },
          "metadata": {
            "tags": []
          },
          "execution_count": 83
        }
      ]
    },
    {
      "cell_type": "code",
      "metadata": {
        "id": "95xd0sz_Mpjj"
      },
      "source": [
        "sama_city_done['a_d_comp'] =   sama_city_done.apply(sim_metric,\n",
        "                          args=('City', 'city'),\n",
        "                          axis=1) "
      ],
      "execution_count": null,
      "outputs": []
    },
    {
      "cell_type": "code",
      "metadata": {
        "id": "850SWG5iRUlr"
      },
      "source": [
        ""
      ],
      "execution_count": null,
      "outputs": []
    },
    {
      "cell_type": "code",
      "metadata": {
        "id": "eRcrFV_TRUn9"
      },
      "source": [
        ""
      ],
      "execution_count": null,
      "outputs": []
    },
    {
      "cell_type": "code",
      "metadata": {
        "colab": {
          "base_uri": "https://localhost:8080/",
          "height": 419
        },
        "id": "K3ZtheflMjKx",
        "outputId": "451e1bca-055f-4d64-9663-08b5a2ff8c28"
      },
      "source": [
        "sama_city_done.sort_values(by=['a_d_comp'] , ascending= False)"
      ],
      "execution_count": null,
      "outputs": [
        {
          "output_type": "execute_result",
          "data": {
            "text/html": [
              "<div>\n",
              "<style scoped>\n",
              "    .dataframe tbody tr th:only-of-type {\n",
              "        vertical-align: middle;\n",
              "    }\n",
              "\n",
              "    .dataframe tbody tr th {\n",
              "        vertical-align: top;\n",
              "    }\n",
              "\n",
              "    .dataframe thead th {\n",
              "        text-align: right;\n",
              "    }\n",
              "</style>\n",
              "<table border=\"1\" class=\"dataframe\">\n",
              "  <thead>\n",
              "    <tr style=\"text-align: right;\">\n",
              "      <th></th>\n",
              "      <th>Unnamed: 0</th>\n",
              "      <th>OperationId</th>\n",
              "      <th>City</th>\n",
              "      <th>city</th>\n",
              "      <th>city_id</th>\n",
              "      <th>a_d_comp</th>\n",
              "    </tr>\n",
              "  </thead>\n",
              "  <tbody>\n",
              "    <tr>\n",
              "      <th>0</th>\n",
              "      <td>1</td>\n",
              "      <td>1</td>\n",
              "      <td></td>\n",
              "      <td></td>\n",
              "      <td>999999</td>\n",
              "      <td>1.0</td>\n",
              "    </tr>\n",
              "    <tr>\n",
              "      <th>69199</th>\n",
              "      <td>11971</td>\n",
              "      <td>6</td>\n",
              "      <td></td>\n",
              "      <td></td>\n",
              "      <td>999999</td>\n",
              "      <td>1.0</td>\n",
              "    </tr>\n",
              "    <tr>\n",
              "      <th>62355</th>\n",
              "      <td>10952</td>\n",
              "      <td>6</td>\n",
              "      <td></td>\n",
              "      <td></td>\n",
              "      <td>999999</td>\n",
              "      <td>1.0</td>\n",
              "    </tr>\n",
              "    <tr>\n",
              "      <th>4491</th>\n",
              "      <td>820</td>\n",
              "      <td>6</td>\n",
              "      <td></td>\n",
              "      <td></td>\n",
              "      <td>999999</td>\n",
              "      <td>1.0</td>\n",
              "    </tr>\n",
              "    <tr>\n",
              "      <th>37925</th>\n",
              "      <td>6404</td>\n",
              "      <td>4</td>\n",
              "      <td></td>\n",
              "      <td></td>\n",
              "      <td>999999</td>\n",
              "      <td>1.0</td>\n",
              "    </tr>\n",
              "    <tr>\n",
              "      <th>...</th>\n",
              "      <td>...</td>\n",
              "      <td>...</td>\n",
              "      <td>...</td>\n",
              "      <td>...</td>\n",
              "      <td>...</td>\n",
              "      <td>...</td>\n",
              "    </tr>\n",
              "    <tr>\n",
              "      <th>34951</th>\n",
              "      <td>5992</td>\n",
              "      <td>3</td>\n",
              "      <td>ern reg</td>\n",
              "      <td>NaN</td>\n",
              "      <td>NaN</td>\n",
              "      <td>0.0</td>\n",
              "    </tr>\n",
              "    <tr>\n",
              "      <th>75313</th>\n",
              "      <td>13079</td>\n",
              "      <td>3</td>\n",
              "      <td>offside</td>\n",
              "      <td>NaN</td>\n",
              "      <td>NaN</td>\n",
              "      <td>0.0</td>\n",
              "    </tr>\n",
              "    <tr>\n",
              "      <th>12880</th>\n",
              "      <td>2298</td>\n",
              "      <td>3</td>\n",
              "      <td>naseem owfee market</td>\n",
              "      <td>NaN</td>\n",
              "      <td>NaN</td>\n",
              "      <td>0.0</td>\n",
              "    </tr>\n",
              "    <tr>\n",
              "      <th>47308</th>\n",
              "      <td>8507</td>\n",
              "      <td>4</td>\n",
              "      <td>mecca</td>\n",
              "      <td>NaN</td>\n",
              "      <td>NaN</td>\n",
              "      <td>0.0</td>\n",
              "    </tr>\n",
              "    <tr>\n",
              "      <th>69511</th>\n",
              "      <td>12074</td>\n",
              "      <td>3</td>\n",
              "      <td>k k miltry</td>\n",
              "      <td>NaN</td>\n",
              "      <td>NaN</td>\n",
              "      <td>0.0</td>\n",
              "    </tr>\n",
              "  </tbody>\n",
              "</table>\n",
              "<p>4218 rows × 6 columns</p>\n",
              "</div>"
            ],
            "text/plain": [
              "       Unnamed: 0  OperationId                 City city city_id  a_d_comp\n",
              "0               1            1                            999999       1.0\n",
              "69199       11971            6                            999999       1.0\n",
              "62355       10952            6                            999999       1.0\n",
              "4491          820            6                            999999       1.0\n",
              "37925        6404            4                            999999       1.0\n",
              "...           ...          ...                  ...  ...     ...       ...\n",
              "34951        5992            3              ern reg  NaN     NaN       0.0\n",
              "75313       13079            3              offside  NaN     NaN       0.0\n",
              "12880        2298            3  naseem owfee market  NaN     NaN       0.0\n",
              "47308        8507            4                mecca  NaN     NaN       0.0\n",
              "69511       12074            3           k k miltry  NaN     NaN       0.0\n",
              "\n",
              "[4218 rows x 6 columns]"
            ]
          },
          "metadata": {
            "tags": []
          },
          "execution_count": 90
        }
      ]
    },
    {
      "cell_type": "code",
      "metadata": {
        "id": "2Rp4a8beNpQv"
      },
      "source": [
        "sama_city_done=sama_city_done.loc[(sama_city_done.groupby(['Unnamed: 0'])['a_d_comp'].idxmax()) , \n",
        "                           ['Unnamed: 0' , 'OperationId'  ,'City' , 'city' ,'city_id' , 'a_d_comp']]"
      ],
      "execution_count": null,
      "outputs": []
    },
    {
      "cell_type": "code",
      "metadata": {
        "id": "zI6QuFr7avz1"
      },
      "source": [
        ""
      ],
      "execution_count": null,
      "outputs": []
    },
    {
      "cell_type": "code",
      "metadata": {
        "id": "HKGsbhtpDzBF"
      },
      "source": [
        "sama_city_done['index'] +=1"
      ],
      "execution_count": null,
      "outputs": []
    },
    {
      "cell_type": "code",
      "metadata": {
        "id": "dml44YWIPw0f"
      },
      "source": [
        "sama_city_done=sama_city_done.loc[sama_city_done['a_d_comp'] >= 0.8].sort_values(by=['a_d_comp'] , ascending=False)"
      ],
      "execution_count": null,
      "outputs": []
    },
    {
      "cell_type": "code",
      "metadata": {
        "colab": {
          "base_uri": "https://localhost:8080/",
          "height": 419
        },
        "id": "MoT9bZOdUpH1",
        "outputId": "d7453855-42e9-4b0c-a10b-4d9575439bb1"
      },
      "source": [
        "sama_city_done"
      ],
      "execution_count": null,
      "outputs": [
        {
          "output_type": "execute_result",
          "data": {
            "text/html": [
              "<div>\n",
              "<style scoped>\n",
              "    .dataframe tbody tr th:only-of-type {\n",
              "        vertical-align: middle;\n",
              "    }\n",
              "\n",
              "    .dataframe tbody tr th {\n",
              "        vertical-align: top;\n",
              "    }\n",
              "\n",
              "    .dataframe thead th {\n",
              "        text-align: right;\n",
              "    }\n",
              "</style>\n",
              "<table border=\"1\" class=\"dataframe\">\n",
              "  <thead>\n",
              "    <tr style=\"text-align: right;\">\n",
              "      <th></th>\n",
              "      <th>index</th>\n",
              "      <th>OperationId</th>\n",
              "      <th>City</th>\n",
              "      <th>city</th>\n",
              "      <th>city_id</th>\n",
              "      <th>a_d_comp</th>\n",
              "    </tr>\n",
              "  </thead>\n",
              "  <tbody>\n",
              "    <tr>\n",
              "      <th>0</th>\n",
              "      <td>1</td>\n",
              "      <td>1</td>\n",
              "      <td></td>\n",
              "      <td></td>\n",
              "      <td>999999</td>\n",
              "      <td>1.0</td>\n",
              "    </tr>\n",
              "    <tr>\n",
              "      <th>30123</th>\n",
              "      <td>7354</td>\n",
              "      <td>2</td>\n",
              "      <td>riyadh</td>\n",
              "      <td>riyadh</td>\n",
              "      <td>3</td>\n",
              "      <td>1.0</td>\n",
              "    </tr>\n",
              "    <tr>\n",
              "      <th>30186</th>\n",
              "      <td>7368</td>\n",
              "      <td>2</td>\n",
              "      <td>kadarah</td>\n",
              "      <td>kadarah</td>\n",
              "      <td>3399</td>\n",
              "      <td>1.0</td>\n",
              "    </tr>\n",
              "    <tr>\n",
              "      <th>30179</th>\n",
              "      <td>7366</td>\n",
              "      <td>2</td>\n",
              "      <td>hajun</td>\n",
              "      <td>hajun</td>\n",
              "      <td>1505</td>\n",
              "      <td>1.0</td>\n",
              "    </tr>\n",
              "    <tr>\n",
              "      <th>30165</th>\n",
              "      <td>7363</td>\n",
              "      <td>2</td>\n",
              "      <td>khobar</td>\n",
              "      <td>khobar</td>\n",
              "      <td>31</td>\n",
              "      <td>1.0</td>\n",
              "    </tr>\n",
              "    <tr>\n",
              "      <th>...</th>\n",
              "      <td>...</td>\n",
              "      <td>...</td>\n",
              "      <td>...</td>\n",
              "      <td>...</td>\n",
              "      <td>...</td>\n",
              "      <td>...</td>\n",
              "    </tr>\n",
              "    <tr>\n",
              "      <th>10397</th>\n",
              "      <td>2514</td>\n",
              "      <td>6</td>\n",
              "      <td>sabia</td>\n",
              "      <td>sabya</td>\n",
              "      <td>3479</td>\n",
              "      <td>0.8</td>\n",
              "    </tr>\n",
              "    <tr>\n",
              "      <th>30534</th>\n",
              "      <td>7455</td>\n",
              "      <td>3</td>\n",
              "      <td>qaryat alu</td>\n",
              "      <td>qaryat al 'ulya</td>\n",
              "      <td>89</td>\n",
              "      <td>0.8</td>\n",
              "    </tr>\n",
              "    <tr>\n",
              "      <th>51882</th>\n",
              "      <td>12670</td>\n",
              "      <td>3</td>\n",
              "      <td>khamis al</td>\n",
              "      <td>khamis harb</td>\n",
              "      <td>1176</td>\n",
              "      <td>0.8</td>\n",
              "    </tr>\n",
              "    <tr>\n",
              "      <th>30502</th>\n",
              "      <td>7447</td>\n",
              "      <td>3</td>\n",
              "      <td>mahd</td>\n",
              "      <td>mahadi</td>\n",
              "      <td>2977</td>\n",
              "      <td>0.8</td>\n",
              "    </tr>\n",
              "    <tr>\n",
              "      <th>4546</th>\n",
              "      <td>1094</td>\n",
              "      <td>3</td>\n",
              "      <td>meazahmyah</td>\n",
              "      <td>muzahmeyah</td>\n",
              "      <td>990</td>\n",
              "      <td>0.8</td>\n",
              "    </tr>\n",
              "  </tbody>\n",
              "</table>\n",
              "<p>9969 rows × 6 columns</p>\n",
              "</div>"
            ],
            "text/plain": [
              "       index  OperationId        City             city city_id  a_d_comp\n",
              "0          1            1                               999999       1.0\n",
              "30123   7354            2      riyadh           riyadh       3       1.0\n",
              "30186   7368            2     kadarah          kadarah    3399       1.0\n",
              "30179   7366            2       hajun            hajun    1505       1.0\n",
              "30165   7363            2      khobar           khobar      31       1.0\n",
              "...      ...          ...         ...              ...     ...       ...\n",
              "10397   2514            6       sabia            sabya    3479       0.8\n",
              "30534   7455            3  qaryat alu  qaryat al 'ulya      89       0.8\n",
              "51882  12670            3   khamis al      khamis harb    1176       0.8\n",
              "30502   7447            3        mahd           mahadi    2977       0.8\n",
              "4546    1094            3  meazahmyah       muzahmeyah     990       0.8\n",
              "\n",
              "[9969 rows x 6 columns]"
            ]
          },
          "metadata": {
            "tags": []
          },
          "execution_count": 80
        }
      ]
    },
    {
      "cell_type": "code",
      "metadata": {
        "id": "bWtKbTBcD8th"
      },
      "source": [
        "sama_city_done.to_excel('sama_city_done.xlsx')"
      ],
      "execution_count": null,
      "outputs": []
    }
  ]
}
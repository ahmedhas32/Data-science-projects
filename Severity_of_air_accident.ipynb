{
  "nbformat": 4,
  "nbformat_minor": 0,
  "metadata": {
    "colab": {
      "name": "Severity_of_air_accident.ipynb",
      "provenance": [],
      "collapsed_sections": [],
      "authorship_tag": "ABX9TyNzS1NF2Ed3xKsHBcd0jeCS",
      "include_colab_link": true
    },
    "kernelspec": {
      "name": "python3",
      "display_name": "Python 3"
    },
    "accelerator": "GPU"
  },
  "cells": [
    {
      "cell_type": "markdown",
      "metadata": {
        "id": "view-in-github",
        "colab_type": "text"
      },
      "source": [
        "<a href=\"https://colab.research.google.com/github/ahmedhas32/Data-science-projects/blob/master/Severity_of_air_accident.ipynb\" target=\"_parent\"><img src=\"https://colab.research.google.com/assets/colab-badge.svg\" alt=\"Open In Colab\"/></a>"
      ]
    },
    {
      "cell_type": "code",
      "metadata": {
        "id": "5vbasgQTi_jz",
        "colab_type": "code",
        "colab": {}
      },
      "source": [
        "import xgboost\n",
        "import csv as csv\n",
        "from xgboost import plot_importance\n",
        "from matplotlib import pyplot\n",
        "from sklearn.model_selection import cross_val_score,KFold\n",
        "from sklearn.metrics import mean_absolute_error\n",
        "import matplotlib.pyplot as plt\n",
        "from scipy.stats import skew\n",
        "from collections import OrderedDict\n",
        "from sklearn import preprocessing\n"
      ],
      "execution_count": 0,
      "outputs": []
    },
    {
      "cell_type": "code",
      "metadata": {
        "id": "g_Ydxvuz-oq2",
        "colab_type": "code",
        "colab": {}
      },
      "source": [
        "import numpy as np\n",
        "import pandas as pd\n",
        "import matplotlib.pyplot as plt\n",
        "import seaborn as sns\n",
        "import warnings\n",
        "warnings.filterwarnings(\"ignore\")"
      ],
      "execution_count": 0,
      "outputs": []
    },
    {
      "cell_type": "code",
      "metadata": {
        "id": "OaL7xM_V9zyW",
        "colab_type": "code",
        "colab": {}
      },
      "source": [
        "from sklearn.preprocessing import LabelEncoder"
      ],
      "execution_count": 0,
      "outputs": []
    },
    {
      "cell_type": "code",
      "metadata": {
        "id": "P7f7Xg5dO0WO",
        "colab_type": "code",
        "outputId": "338d2e03-4905-4c1d-f2f5-5a9a98e265c2",
        "colab": {
          "base_uri": "https://localhost:8080/",
          "height": 93
        }
      },
      "source": [
        "import keras\n",
        "from keras.wrappers.scikit_learn import KerasRegressor\n",
        "from keras.models import Sequential\n",
        "from keras.layers import Dense , Dropout\n",
        "from keras.wrappers.scikit_learn import KerasClassifier\n",
        "from keras.utils import np_utils\n",
        "from sklearn.model_selection import cross_val_score\n",
        "from sklearn.model_selection import KFold\n",
        "from sklearn.preprocessing import LabelEncoder\n",
        "from sklearn.pipeline import Pipeline\n"
      ],
      "execution_count": 0,
      "outputs": [
        {
          "output_type": "stream",
          "text": [
            "Using TensorFlow backend.\n"
          ],
          "name": "stderr"
        },
        {
          "output_type": "display_data",
          "data": {
            "text/html": [
              "<p style=\"color: red;\">\n",
              "The default version of TensorFlow in Colab will soon switch to TensorFlow 2.x.<br>\n",
              "We recommend you <a href=\"https://www.tensorflow.org/guide/migrate\" target=\"_blank\">upgrade</a> now \n",
              "or ensure your notebook will continue to use TensorFlow 1.x via the <code>%tensorflow_version 1.x</code> magic:\n",
              "<a href=\"https://colab.research.google.com/notebooks/tensorflow_version.ipynb\" target=\"_blank\">more info</a>.</p>\n"
            ],
            "text/plain": [
              "<IPython.core.display.HTML object>"
            ]
          },
          "metadata": {
            "tags": []
          }
        }
      ]
    },
    {
      "cell_type": "code",
      "metadata": {
        "id": "IWoG57qA92sQ",
        "colab_type": "code",
        "colab": {}
      },
      "source": [
        "from sklearn.model_selection import GridSearchCV, train_test_split\n",
        "from xgboost import XGBRegressor\n",
        "\n",
        "from sklearn.metrics import r2_score\n",
        "from sklearn.metrics import mean_squared_error"
      ],
      "execution_count": 0,
      "outputs": []
    },
    {
      "cell_type": "code",
      "metadata": {
        "id": "UqeD0EUZkQ5k",
        "colab_type": "code",
        "colab": {}
      },
      "source": [
        "import tensorflow.keras.layers as Layers\n",
        "import tensorflow.keras.activations as Actications\n",
        "import tensorflow.keras.models as Models\n",
        "import tensorflow.keras.optimizers as Optimizer\n",
        "import tensorflow.keras.metrics as Metrics\n",
        "import tensorflow.keras.utils as Utils\n",
        "from keras.utils.vis_utils import model_to_dot\n",
        "from keras import backend as K\n"
      ],
      "execution_count": 0,
      "outputs": []
    },
    {
      "cell_type": "code",
      "metadata": {
        "id": "AMVrLoaDkmQs",
        "colab_type": "code",
        "outputId": "a8683053-15e5-4e1c-df47-556a7c4bce87",
        "colab": {
          "base_uri": "https://localhost:8080/",
          "height": 53
        }
      },
      "source": [
        "from google.colab import drive\n",
        "drive.mount('/content/drive')"
      ],
      "execution_count": 0,
      "outputs": [
        {
          "output_type": "stream",
          "text": [
            "Drive already mounted at /content/drive; to attempt to forcibly remount, call drive.mount(\"/content/drive\", force_remount=True).\n"
          ],
          "name": "stdout"
        }
      ]
    },
    {
      "cell_type": "code",
      "metadata": {
        "id": "gbM-x_Y1lH2V",
        "colab_type": "code",
        "colab": {}
      },
      "source": [
        "train_data=pd.read_csv('/content/drive/My Drive/3c055e822d5b11ea/train.csv')"
      ],
      "execution_count": 0,
      "outputs": []
    },
    {
      "cell_type": "code",
      "metadata": {
        "id": "6xcrYI_kmpd2",
        "colab_type": "code",
        "colab": {}
      },
      "source": [
        "test_data=pd.read_csv('/content/drive/My Drive/3c055e822d5b11ea/test.csv')"
      ],
      "execution_count": 0,
      "outputs": []
    },
    {
      "cell_type": "code",
      "metadata": {
        "id": "uS5eSufcm1cj",
        "colab_type": "code",
        "outputId": "96868f8d-1167-43ba-f08b-89150a646620",
        "colab": {
          "base_uri": "https://localhost:8080/",
          "height": 293
        }
      },
      "source": [
        "train_data.info()"
      ],
      "execution_count": 0,
      "outputs": [
        {
          "output_type": "stream",
          "text": [
            "<class 'pandas.core.frame.DataFrame'>\n",
            "RangeIndex: 10000 entries, 0 to 9999\n",
            "Data columns (total 12 columns):\n",
            "Severity                   10000 non-null object\n",
            "Safety_Score               10000 non-null float64\n",
            "Days_Since_Inspection      10000 non-null int64\n",
            "Total_Safety_Complaints    10000 non-null int64\n",
            "Control_Metric             10000 non-null float64\n",
            "Turbulence_In_gforces      10000 non-null float64\n",
            "Cabin_Temperature          10000 non-null float64\n",
            "Accident_Type_Code         10000 non-null int64\n",
            "Max_Elevation              10000 non-null float64\n",
            "Violations                 10000 non-null int64\n",
            "Adverse_Weather_Metric     10000 non-null float64\n",
            "Accident_ID                10000 non-null int64\n",
            "dtypes: float64(6), int64(5), object(1)\n",
            "memory usage: 937.6+ KB\n"
          ],
          "name": "stdout"
        }
      ]
    },
    {
      "cell_type": "code",
      "metadata": {
        "id": "FDWOTCuTsy32",
        "colab_type": "code",
        "colab": {}
      },
      "source": [
        "train_data['Accident_ID'] = train_data['Accident_ID'].astype('object')"
      ],
      "execution_count": 0,
      "outputs": []
    },
    {
      "cell_type": "code",
      "metadata": {
        "id": "DSeHGlDrsbNG",
        "colab_type": "code",
        "colab": {}
      },
      "source": [
        "train_data['Accident_Type_Code'] = train_data['Accident_Type_Code'].astype('object')"
      ],
      "execution_count": 0,
      "outputs": []
    },
    {
      "cell_type": "code",
      "metadata": {
        "id": "N7IqVTXem5FE",
        "colab_type": "code",
        "outputId": "58425a0e-3dcb-4412-da23-9662a1403f53",
        "colab": {
          "base_uri": "https://localhost:8080/",
          "height": 211
        }
      },
      "source": [
        "train_data.head()"
      ],
      "execution_count": 0,
      "outputs": [
        {
          "output_type": "execute_result",
          "data": {
            "text/html": [
              "<div>\n",
              "<style scoped>\n",
              "    .dataframe tbody tr th:only-of-type {\n",
              "        vertical-align: middle;\n",
              "    }\n",
              "\n",
              "    .dataframe tbody tr th {\n",
              "        vertical-align: top;\n",
              "    }\n",
              "\n",
              "    .dataframe thead th {\n",
              "        text-align: right;\n",
              "    }\n",
              "</style>\n",
              "<table border=\"1\" class=\"dataframe\">\n",
              "  <thead>\n",
              "    <tr style=\"text-align: right;\">\n",
              "      <th></th>\n",
              "      <th>Severity</th>\n",
              "      <th>Safety_Score</th>\n",
              "      <th>Days_Since_Inspection</th>\n",
              "      <th>Total_Safety_Complaints</th>\n",
              "      <th>Control_Metric</th>\n",
              "      <th>Turbulence_In_gforces</th>\n",
              "      <th>Cabin_Temperature</th>\n",
              "      <th>Accident_Type_Code</th>\n",
              "      <th>Max_Elevation</th>\n",
              "      <th>Violations</th>\n",
              "      <th>Adverse_Weather_Metric</th>\n",
              "      <th>Accident_ID</th>\n",
              "    </tr>\n",
              "  </thead>\n",
              "  <tbody>\n",
              "    <tr>\n",
              "      <th>0</th>\n",
              "      <td>Minor_Damage_And_Injuries</td>\n",
              "      <td>49.223744</td>\n",
              "      <td>14</td>\n",
              "      <td>22</td>\n",
              "      <td>71.285324</td>\n",
              "      <td>0.272118</td>\n",
              "      <td>78.04</td>\n",
              "      <td>2</td>\n",
              "      <td>31335.476824</td>\n",
              "      <td>3</td>\n",
              "      <td>0.424352</td>\n",
              "      <td>7570</td>\n",
              "    </tr>\n",
              "    <tr>\n",
              "      <th>1</th>\n",
              "      <td>Minor_Damage_And_Injuries</td>\n",
              "      <td>62.465753</td>\n",
              "      <td>10</td>\n",
              "      <td>27</td>\n",
              "      <td>72.288058</td>\n",
              "      <td>0.423939</td>\n",
              "      <td>84.54</td>\n",
              "      <td>2</td>\n",
              "      <td>26024.711057</td>\n",
              "      <td>2</td>\n",
              "      <td>0.352350</td>\n",
              "      <td>12128</td>\n",
              "    </tr>\n",
              "    <tr>\n",
              "      <th>2</th>\n",
              "      <td>Significant_Damage_And_Fatalities</td>\n",
              "      <td>63.059361</td>\n",
              "      <td>13</td>\n",
              "      <td>16</td>\n",
              "      <td>66.362808</td>\n",
              "      <td>0.322604</td>\n",
              "      <td>78.86</td>\n",
              "      <td>7</td>\n",
              "      <td>39269.053927</td>\n",
              "      <td>3</td>\n",
              "      <td>0.003364</td>\n",
              "      <td>2181</td>\n",
              "    </tr>\n",
              "    <tr>\n",
              "      <th>3</th>\n",
              "      <td>Significant_Damage_And_Serious_Injuries</td>\n",
              "      <td>48.082192</td>\n",
              "      <td>11</td>\n",
              "      <td>9</td>\n",
              "      <td>74.703737</td>\n",
              "      <td>0.337029</td>\n",
              "      <td>81.79</td>\n",
              "      <td>3</td>\n",
              "      <td>42771.499200</td>\n",
              "      <td>1</td>\n",
              "      <td>0.211728</td>\n",
              "      <td>5946</td>\n",
              "    </tr>\n",
              "    <tr>\n",
              "      <th>4</th>\n",
              "      <td>Significant_Damage_And_Fatalities</td>\n",
              "      <td>26.484018</td>\n",
              "      <td>13</td>\n",
              "      <td>25</td>\n",
              "      <td>47.948952</td>\n",
              "      <td>0.541140</td>\n",
              "      <td>77.16</td>\n",
              "      <td>3</td>\n",
              "      <td>35509.228515</td>\n",
              "      <td>2</td>\n",
              "      <td>0.176883</td>\n",
              "      <td>9054</td>\n",
              "    </tr>\n",
              "  </tbody>\n",
              "</table>\n",
              "</div>"
            ],
            "text/plain": [
              "                                  Severity  ...  Accident_ID\n",
              "0                Minor_Damage_And_Injuries  ...         7570\n",
              "1                Minor_Damage_And_Injuries  ...        12128\n",
              "2        Significant_Damage_And_Fatalities  ...         2181\n",
              "3  Significant_Damage_And_Serious_Injuries  ...         5946\n",
              "4        Significant_Damage_And_Fatalities  ...         9054\n",
              "\n",
              "[5 rows x 12 columns]"
            ]
          },
          "metadata": {
            "tags": []
          },
          "execution_count": 13
        }
      ]
    },
    {
      "cell_type": "code",
      "metadata": {
        "id": "HM5xQnyAnS4E",
        "colab_type": "code",
        "outputId": "b6394927-51a9-4c20-a798-93cbdbc332fb",
        "colab": {
          "base_uri": "https://localhost:8080/",
          "height": 326
        }
      },
      "source": [
        "train_data.describe().T"
      ],
      "execution_count": 0,
      "outputs": [
        {
          "output_type": "execute_result",
          "data": {
            "text/html": [
              "<div>\n",
              "<style scoped>\n",
              "    .dataframe tbody tr th:only-of-type {\n",
              "        vertical-align: middle;\n",
              "    }\n",
              "\n",
              "    .dataframe tbody tr th {\n",
              "        vertical-align: top;\n",
              "    }\n",
              "\n",
              "    .dataframe thead th {\n",
              "        text-align: right;\n",
              "    }\n",
              "</style>\n",
              "<table border=\"1\" class=\"dataframe\">\n",
              "  <thead>\n",
              "    <tr style=\"text-align: right;\">\n",
              "      <th></th>\n",
              "      <th>count</th>\n",
              "      <th>mean</th>\n",
              "      <th>std</th>\n",
              "      <th>min</th>\n",
              "      <th>25%</th>\n",
              "      <th>50%</th>\n",
              "      <th>75%</th>\n",
              "      <th>max</th>\n",
              "    </tr>\n",
              "  </thead>\n",
              "  <tbody>\n",
              "    <tr>\n",
              "      <th>Safety_Score</th>\n",
              "      <td>10000.0</td>\n",
              "      <td>41.876406</td>\n",
              "      <td>16.138072</td>\n",
              "      <td>0.000000</td>\n",
              "      <td>30.593607</td>\n",
              "      <td>41.278539</td>\n",
              "      <td>52.511416</td>\n",
              "      <td>100.000000</td>\n",
              "    </tr>\n",
              "    <tr>\n",
              "      <th>Days_Since_Inspection</th>\n",
              "      <td>10000.0</td>\n",
              "      <td>12.931100</td>\n",
              "      <td>3.539803</td>\n",
              "      <td>1.000000</td>\n",
              "      <td>11.000000</td>\n",
              "      <td>13.000000</td>\n",
              "      <td>15.000000</td>\n",
              "      <td>23.000000</td>\n",
              "    </tr>\n",
              "    <tr>\n",
              "      <th>Total_Safety_Complaints</th>\n",
              "      <td>10000.0</td>\n",
              "      <td>6.564300</td>\n",
              "      <td>6.971982</td>\n",
              "      <td>0.000000</td>\n",
              "      <td>2.000000</td>\n",
              "      <td>4.000000</td>\n",
              "      <td>9.000000</td>\n",
              "      <td>54.000000</td>\n",
              "    </tr>\n",
              "    <tr>\n",
              "      <th>Control_Metric</th>\n",
              "      <td>10000.0</td>\n",
              "      <td>65.145324</td>\n",
              "      <td>11.882934</td>\n",
              "      <td>0.000000</td>\n",
              "      <td>56.927985</td>\n",
              "      <td>65.587967</td>\n",
              "      <td>73.336372</td>\n",
              "      <td>100.000000</td>\n",
              "    </tr>\n",
              "    <tr>\n",
              "      <th>Turbulence_In_gforces</th>\n",
              "      <td>10000.0</td>\n",
              "      <td>0.381495</td>\n",
              "      <td>0.121301</td>\n",
              "      <td>0.134000</td>\n",
              "      <td>0.293665</td>\n",
              "      <td>0.365879</td>\n",
              "      <td>0.451346</td>\n",
              "      <td>0.882648</td>\n",
              "    </tr>\n",
              "    <tr>\n",
              "      <th>Cabin_Temperature</th>\n",
              "      <td>10000.0</td>\n",
              "      <td>79.969331</td>\n",
              "      <td>2.759739</td>\n",
              "      <td>74.740000</td>\n",
              "      <td>77.960000</td>\n",
              "      <td>79.540000</td>\n",
              "      <td>81.560000</td>\n",
              "      <td>97.510000</td>\n",
              "    </tr>\n",
              "    <tr>\n",
              "      <th>Max_Elevation</th>\n",
              "      <td>10000.0</td>\n",
              "      <td>32001.803282</td>\n",
              "      <td>9431.995196</td>\n",
              "      <td>831.695553</td>\n",
              "      <td>25757.636908</td>\n",
              "      <td>32060.336419</td>\n",
              "      <td>38380.641513</td>\n",
              "      <td>64297.651218</td>\n",
              "    </tr>\n",
              "    <tr>\n",
              "      <th>Violations</th>\n",
              "      <td>10000.0</td>\n",
              "      <td>2.012200</td>\n",
              "      <td>1.039980</td>\n",
              "      <td>0.000000</td>\n",
              "      <td>1.000000</td>\n",
              "      <td>2.000000</td>\n",
              "      <td>3.000000</td>\n",
              "      <td>5.000000</td>\n",
              "    </tr>\n",
              "    <tr>\n",
              "      <th>Adverse_Weather_Metric</th>\n",
              "      <td>10000.0</td>\n",
              "      <td>0.255635</td>\n",
              "      <td>0.381128</td>\n",
              "      <td>0.000316</td>\n",
              "      <td>0.012063</td>\n",
              "      <td>0.074467</td>\n",
              "      <td>0.354059</td>\n",
              "      <td>2.365378</td>\n",
              "    </tr>\n",
              "  </tbody>\n",
              "</table>\n",
              "</div>"
            ],
            "text/plain": [
              "                           count          mean  ...           75%           max\n",
              "Safety_Score             10000.0     41.876406  ...     52.511416    100.000000\n",
              "Days_Since_Inspection    10000.0     12.931100  ...     15.000000     23.000000\n",
              "Total_Safety_Complaints  10000.0      6.564300  ...      9.000000     54.000000\n",
              "Control_Metric           10000.0     65.145324  ...     73.336372    100.000000\n",
              "Turbulence_In_gforces    10000.0      0.381495  ...      0.451346      0.882648\n",
              "Cabin_Temperature        10000.0     79.969331  ...     81.560000     97.510000\n",
              "Max_Elevation            10000.0  32001.803282  ...  38380.641513  64297.651218\n",
              "Violations               10000.0      2.012200  ...      3.000000      5.000000\n",
              "Adverse_Weather_Metric   10000.0      0.255635  ...      0.354059      2.365378\n",
              "\n",
              "[9 rows x 8 columns]"
            ]
          },
          "metadata": {
            "tags": []
          },
          "execution_count": 14
        }
      ]
    },
    {
      "cell_type": "code",
      "metadata": {
        "id": "86uBZKs8ndxs",
        "colab_type": "code",
        "outputId": "1b193ee3-e23e-4924-afdf-e6d9e8b80787",
        "colab": {
          "base_uri": "https://localhost:8080/",
          "height": 133
        }
      },
      "source": [
        "train_data.describe(include=['object']).T"
      ],
      "execution_count": 0,
      "outputs": [
        {
          "output_type": "execute_result",
          "data": {
            "text/html": [
              "<div>\n",
              "<style scoped>\n",
              "    .dataframe tbody tr th:only-of-type {\n",
              "        vertical-align: middle;\n",
              "    }\n",
              "\n",
              "    .dataframe tbody tr th {\n",
              "        vertical-align: top;\n",
              "    }\n",
              "\n",
              "    .dataframe thead th {\n",
              "        text-align: right;\n",
              "    }\n",
              "</style>\n",
              "<table border=\"1\" class=\"dataframe\">\n",
              "  <thead>\n",
              "    <tr style=\"text-align: right;\">\n",
              "      <th></th>\n",
              "      <th>count</th>\n",
              "      <th>unique</th>\n",
              "      <th>top</th>\n",
              "      <th>freq</th>\n",
              "    </tr>\n",
              "  </thead>\n",
              "  <tbody>\n",
              "    <tr>\n",
              "      <th>Severity</th>\n",
              "      <td>10000</td>\n",
              "      <td>4</td>\n",
              "      <td>Highly_Fatal_And_Damaging</td>\n",
              "      <td>3049</td>\n",
              "    </tr>\n",
              "    <tr>\n",
              "      <th>Accident_Type_Code</th>\n",
              "      <td>10000</td>\n",
              "      <td>7</td>\n",
              "      <td>4</td>\n",
              "      <td>2057</td>\n",
              "    </tr>\n",
              "    <tr>\n",
              "      <th>Accident_ID</th>\n",
              "      <td>10000</td>\n",
              "      <td>10000</td>\n",
              "      <td>12500</td>\n",
              "      <td>1</td>\n",
              "    </tr>\n",
              "  </tbody>\n",
              "</table>\n",
              "</div>"
            ],
            "text/plain": [
              "                    count unique                        top  freq\n",
              "Severity            10000      4  Highly_Fatal_And_Damaging  3049\n",
              "Accident_Type_Code  10000      7                          4  2057\n",
              "Accident_ID         10000  10000                      12500     1"
            ]
          },
          "metadata": {
            "tags": []
          },
          "execution_count": 15
        }
      ]
    },
    {
      "cell_type": "code",
      "metadata": {
        "id": "WmugQKs-LWHF",
        "colab_type": "code",
        "outputId": "a2536d02-6d68-419a-f156-4f760b6d233e",
        "colab": {
          "base_uri": "https://localhost:8080/",
          "height": 480
        }
      },
      "source": [
        "train_data['Severity'].value_counts(normalize=True).plot(kind='bar')"
      ],
      "execution_count": 0,
      "outputs": [
        {
          "output_type": "execute_result",
          "data": {
            "text/plain": [
              "<matplotlib.axes._subplots.AxesSubplot at 0x7fc42553b550>"
            ]
          },
          "metadata": {
            "tags": []
          },
          "execution_count": 16
        },
        {
          "output_type": "display_data",
          "data": {
            "image/png": "[encoded data removed]",
            "text/plain": [
              "<Figure size 432x288 with 1 Axes>"
            ]
          },
          "metadata": {
            "tags": []
          }
        }
      ]
    },
    {
      "cell_type": "code",
      "metadata": {
        "id": "6xEZ3nvawxbY",
        "colab_type": "code",
        "outputId": "95ada439-2d7d-4e39-c31b-29ee4b32caf1",
        "colab": {
          "base_uri": "https://localhost:8080/",
          "height": 1000
        }
      },
      "source": [
        "for i in train_data.columns :\n",
        "  if train_data.dtypes[i] != 'object' :\n",
        "    sns.distplot(train_data[i])\n",
        "    plt.show()\n",
        "  else : \n",
        "    continue"
      ],
      "execution_count": 0,
      "outputs": [
        {
          "output_type": "display_data",
          "data": {
            "image/png": "[encoded data removed]",
            "text/plain": [
              "<Figure size 432x288 with 1 Axes>"
            ]
          },
          "metadata": {
            "tags": []
          }
        },
        {
          "output_type": "display_data",
          "data": {
            "image/png": "[encoded data removed]",
            "text/plain": [
              "<Figure size 432x288 with 1 Axes>"
            ]
          },
          "metadata": {
            "tags": []
          }
        },
        {
          "output_type": "display_data",
          "data": {
            "image/png": "[encoded data removed]",
            "text/plain": [
              "<Figure size 432x288 with 1 Axes>"
            ]
          },
          "metadata": {
            "tags": []
          }
        },
        {
          "output_type": "display_data",
          "data": {
            "image/png": "[encoded data removed]",
            "text/plain": [
              "<Figure size 432x288 with 1 Axes>"
            ]
          },
          "metadata": {
            "tags": []
          }
        },
        {
          "output_type": "display_data",
          "data": {
            "image/png": "[encoded data removed]",
            "text/plain": [
              "<Figure size 432x288 with 1 Axes>"
            ]
          },
          "metadata": {
            "tags": []
          }
        },
        {
          "output_type": "display_data",
          "data": {
            "image/png": "[encoded data removed]",
            "text/plain": [
              "<Figure size 432x288 with 1 Axes>"
            ]
          },
          "metadata": {
            "tags": []
          }
        },
        {
          "output_type": "display_data",
          "data": {
            "image/png": "[encoded data removed]",
            "text/plain": [
              "<Figure size 432x288 with 1 Axes>"
            ]
          },
          "metadata": {
            "tags": []
          }
        },
        {
          "output_type": "display_data",
          "data": {
            "image/png": "[encoded data removed]",
            "text/plain": [
              "<Figure size 432x288 with 1 Axes>"
            ]
          },
          "metadata": {
            "tags": []
          }
        },
        {
          "output_type": "display_data",
          "data": {
            "image/png": "[encoded data removed]",
            "text/plain": [
              "<Figure size 432x288 with 1 Axes>"
            ]
          },
          "metadata": {
            "tags": []
          }
        }
      ]
    },
    {
      "cell_type": "code",
      "metadata": {
        "id": "eRXHCL0t7x4c",
        "colab_type": "code",
        "outputId": "4eab16fa-0166-4936-d582-f0765f540e55",
        "colab": {
          "base_uri": "https://localhost:8080/",
          "height": 427
        }
      },
      "source": [
        "(train_data.select_dtypes(exclude ='object').apply(lambda x: (x >  plt.boxplot(x)['whiskers'][1].get_ydata()[1] ) | (x <  plt.boxplot(x)['whiskers'][0].get_ydata()[1] ) )).mean()*100"
      ],
      "execution_count": 0,
      "outputs": [
        {
          "output_type": "execute_result",
          "data": {
            "text/plain": [
              "Safety_Score               0.43\n",
              "Days_Since_Inspection      1.40\n",
              "Total_Safety_Complaints    6.02\n",
              "Control_Metric             0.59\n",
              "Turbulence_In_gforces      2.25\n",
              "Cabin_Temperature          2.34\n",
              "Max_Elevation              0.83\n",
              "Violations                 0.00\n",
              "Adverse_Weather_Metric     9.31\n",
              "dtype: float64"
            ]
          },
          "metadata": {
            "tags": []
          },
          "execution_count": 18
        },
        {
          "output_type": "display_data",
          "data": {
            "image/png": "[encoded data removed]",
            "text/plain": [
              "<Figure size 432x288 with 1 Axes>"
            ]
          },
          "metadata": {
            "tags": []
          }
        }
      ]
    },
    {
      "cell_type": "code",
      "metadata": {
        "id": "t8HlEHIiuCe3",
        "colab_type": "code",
        "outputId": "0a713fba-41b4-4f52-c027-6cadc58e3647",
        "colab": {
          "base_uri": "https://localhost:8080/",
          "height": 281
        }
      },
      "source": [
        "train_data['Adverse_Weather_Metric'].apply(lambda x: -np.log(x)).plot(kind='hist')"
      ],
      "execution_count": 0,
      "outputs": [
        {
          "output_type": "execute_result",
          "data": {
            "text/plain": [
              "<matplotlib.axes._subplots.AxesSubplot at 0x7fc423dcc128>"
            ]
          },
          "metadata": {
            "tags": []
          },
          "execution_count": 19
        },
        {
          "output_type": "display_data",
          "data": {
            "image/png": "[encoded data removed]",
            "text/plain": [
              "<Figure size 432x288 with 1 Axes>"
            ]
          },
          "metadata": {
            "tags": []
          }
        }
      ]
    },
    {
      "cell_type": "code",
      "metadata": {
        "id": "Ms9hmkKHv2go",
        "colab_type": "code",
        "colab": {}
      },
      "source": [
        "train_data['Adverse_Weather_Metric'] = train_data['Adverse_Weather_Metric'].apply(lambda x: -np.log(x))"
      ],
      "execution_count": 0,
      "outputs": []
    },
    {
      "cell_type": "code",
      "metadata": {
        "id": "Sou9pdMMJkVe",
        "colab_type": "code",
        "colab": {}
      },
      "source": [
        "##(train_data.select_dtypes(exclude ='object').apply(lambda x: (x >  plt.boxplot(x)['whiskers'][1].get_ydata()[1] ) | (x <  plt.boxplot(x)['whiskers'][0].get_ydata()[1] ) )).mean()*100"
      ],
      "execution_count": 0,
      "outputs": []
    },
    {
      "cell_type": "code",
      "metadata": {
        "id": "fF2cbdc_KBZM",
        "colab_type": "code",
        "outputId": "9a5c25c5-0d68-46a7-c4c3-33e678310485",
        "colab": {
          "base_uri": "https://localhost:8080/",
          "height": 211
        }
      },
      "source": [
        "train_data.head()"
      ],
      "execution_count": 0,
      "outputs": [
        {
          "output_type": "execute_result",
          "data": {
            "text/html": [
              "<div>\n",
              "<style scoped>\n",
              "    .dataframe tbody tr th:only-of-type {\n",
              "        vertical-align: middle;\n",
              "    }\n",
              "\n",
              "    .dataframe tbody tr th {\n",
              "        vertical-align: top;\n",
              "    }\n",
              "\n",
              "    .dataframe thead th {\n",
              "        text-align: right;\n",
              "    }\n",
              "</style>\n",
              "<table border=\"1\" class=\"dataframe\">\n",
              "  <thead>\n",
              "    <tr style=\"text-align: right;\">\n",
              "      <th></th>\n",
              "      <th>Severity</th>\n",
              "      <th>Safety_Score</th>\n",
              "      <th>Days_Since_Inspection</th>\n",
              "      <th>Total_Safety_Complaints</th>\n",
              "      <th>Control_Metric</th>\n",
              "      <th>Turbulence_In_gforces</th>\n",
              "      <th>Cabin_Temperature</th>\n",
              "      <th>Accident_Type_Code</th>\n",
              "      <th>Max_Elevation</th>\n",
              "      <th>Violations</th>\n",
              "      <th>Adverse_Weather_Metric</th>\n",
              "      <th>Accident_ID</th>\n",
              "    </tr>\n",
              "  </thead>\n",
              "  <tbody>\n",
              "    <tr>\n",
              "      <th>0</th>\n",
              "      <td>Minor_Damage_And_Injuries</td>\n",
              "      <td>49.223744</td>\n",
              "      <td>14</td>\n",
              "      <td>22</td>\n",
              "      <td>71.285324</td>\n",
              "      <td>0.272118</td>\n",
              "      <td>78.04</td>\n",
              "      <td>2</td>\n",
              "      <td>31335.476824</td>\n",
              "      <td>3</td>\n",
              "      <td>0.857192</td>\n",
              "      <td>7570</td>\n",
              "    </tr>\n",
              "    <tr>\n",
              "      <th>1</th>\n",
              "      <td>Minor_Damage_And_Injuries</td>\n",
              "      <td>62.465753</td>\n",
              "      <td>10</td>\n",
              "      <td>27</td>\n",
              "      <td>72.288058</td>\n",
              "      <td>0.423939</td>\n",
              "      <td>84.54</td>\n",
              "      <td>2</td>\n",
              "      <td>26024.711057</td>\n",
              "      <td>2</td>\n",
              "      <td>1.043130</td>\n",
              "      <td>12128</td>\n",
              "    </tr>\n",
              "    <tr>\n",
              "      <th>2</th>\n",
              "      <td>Significant_Damage_And_Fatalities</td>\n",
              "      <td>63.059361</td>\n",
              "      <td>13</td>\n",
              "      <td>16</td>\n",
              "      <td>66.362808</td>\n",
              "      <td>0.322604</td>\n",
              "      <td>78.86</td>\n",
              "      <td>7</td>\n",
              "      <td>39269.053927</td>\n",
              "      <td>3</td>\n",
              "      <td>5.694652</td>\n",
              "      <td>2181</td>\n",
              "    </tr>\n",
              "    <tr>\n",
              "      <th>3</th>\n",
              "      <td>Significant_Damage_And_Serious_Injuries</td>\n",
              "      <td>48.082192</td>\n",
              "      <td>11</td>\n",
              "      <td>9</td>\n",
              "      <td>74.703737</td>\n",
              "      <td>0.337029</td>\n",
              "      <td>81.79</td>\n",
              "      <td>3</td>\n",
              "      <td>42771.499200</td>\n",
              "      <td>1</td>\n",
              "      <td>1.552452</td>\n",
              "      <td>5946</td>\n",
              "    </tr>\n",
              "    <tr>\n",
              "      <th>4</th>\n",
              "      <td>Significant_Damage_And_Fatalities</td>\n",
              "      <td>26.484018</td>\n",
              "      <td>13</td>\n",
              "      <td>25</td>\n",
              "      <td>47.948952</td>\n",
              "      <td>0.541140</td>\n",
              "      <td>77.16</td>\n",
              "      <td>3</td>\n",
              "      <td>35509.228515</td>\n",
              "      <td>2</td>\n",
              "      <td>1.732265</td>\n",
              "      <td>9054</td>\n",
              "    </tr>\n",
              "  </tbody>\n",
              "</table>\n",
              "</div>"
            ],
            "text/plain": [
              "                                  Severity  ...  Accident_ID\n",
              "0                Minor_Damage_And_Injuries  ...         7570\n",
              "1                Minor_Damage_And_Injuries  ...        12128\n",
              "2        Significant_Damage_And_Fatalities  ...         2181\n",
              "3  Significant_Damage_And_Serious_Injuries  ...         5946\n",
              "4        Significant_Damage_And_Fatalities  ...         9054\n",
              "\n",
              "[5 rows x 12 columns]"
            ]
          },
          "metadata": {
            "tags": []
          },
          "execution_count": 22
        }
      ]
    },
    {
      "cell_type": "code",
      "metadata": {
        "id": "tgQCGdzWKMRc",
        "colab_type": "code",
        "colab": {}
      },
      "source": [
        "train_data.index= train_data['Accident_ID']"
      ],
      "execution_count": 0,
      "outputs": []
    },
    {
      "cell_type": "code",
      "metadata": {
        "id": "LbjJixFytD-2",
        "colab_type": "code",
        "colab": {}
      },
      "source": [
        "train_data_final=pd.get_dummies(data = train_data,columns=['Accident_Type_Code'])"
      ],
      "execution_count": 0,
      "outputs": []
    },
    {
      "cell_type": "code",
      "metadata": {
        "id": "ZAQ4QJoltlyR",
        "colab_type": "code",
        "outputId": "fba57c91-29b9-4512-906e-e8b72a9e37bc",
        "colab": {
          "base_uri": "https://localhost:8080/",
          "height": 440
        }
      },
      "source": [
        "train_data_final"
      ],
      "execution_count": 0,
      "outputs": [
        {
          "output_type": "execute_result",
          "data": {
            "text/html": [
              "<div>\n",
              "<style scoped>\n",
              "    .dataframe tbody tr th:only-of-type {\n",
              "        vertical-align: middle;\n",
              "    }\n",
              "\n",
              "    .dataframe tbody tr th {\n",
              "        vertical-align: top;\n",
              "    }\n",
              "\n",
              "    .dataframe thead th {\n",
              "        text-align: right;\n",
              "    }\n",
              "</style>\n",
              "<table border=\"1\" class=\"dataframe\">\n",
              "  <thead>\n",
              "    <tr style=\"text-align: right;\">\n",
              "      <th></th>\n",
              "      <th>Severity</th>\n",
              "      <th>Safety_Score</th>\n",
              "      <th>Days_Since_Inspection</th>\n",
              "      <th>Total_Safety_Complaints</th>\n",
              "      <th>Control_Metric</th>\n",
              "      <th>Turbulence_In_gforces</th>\n",
              "      <th>Cabin_Temperature</th>\n",
              "      <th>Max_Elevation</th>\n",
              "      <th>Violations</th>\n",
              "      <th>Adverse_Weather_Metric</th>\n",
              "      <th>Accident_ID</th>\n",
              "      <th>Accident_Type_Code_1</th>\n",
              "      <th>Accident_Type_Code_2</th>\n",
              "      <th>Accident_Type_Code_3</th>\n",
              "      <th>Accident_Type_Code_4</th>\n",
              "      <th>Accident_Type_Code_5</th>\n",
              "      <th>Accident_Type_Code_6</th>\n",
              "      <th>Accident_Type_Code_7</th>\n",
              "    </tr>\n",
              "    <tr>\n",
              "      <th>Accident_ID</th>\n",
              "      <th></th>\n",
              "      <th></th>\n",
              "      <th></th>\n",
              "      <th></th>\n",
              "      <th></th>\n",
              "      <th></th>\n",
              "      <th></th>\n",
              "      <th></th>\n",
              "      <th></th>\n",
              "      <th></th>\n",
              "      <th></th>\n",
              "      <th></th>\n",
              "      <th></th>\n",
              "      <th></th>\n",
              "      <th></th>\n",
              "      <th></th>\n",
              "      <th></th>\n",
              "      <th></th>\n",
              "    </tr>\n",
              "  </thead>\n",
              "  <tbody>\n",
              "    <tr>\n",
              "      <th>7570</th>\n",
              "      <td>Minor_Damage_And_Injuries</td>\n",
              "      <td>49.223744</td>\n",
              "      <td>14</td>\n",
              "      <td>22</td>\n",
              "      <td>71.285324</td>\n",
              "      <td>0.272118</td>\n",
              "      <td>78.04</td>\n",
              "      <td>31335.476824</td>\n",
              "      <td>3</td>\n",
              "      <td>0.857192</td>\n",
              "      <td>7570</td>\n",
              "      <td>0</td>\n",
              "      <td>1</td>\n",
              "      <td>0</td>\n",
              "      <td>0</td>\n",
              "      <td>0</td>\n",
              "      <td>0</td>\n",
              "      <td>0</td>\n",
              "    </tr>\n",
              "    <tr>\n",
              "      <th>12128</th>\n",
              "      <td>Minor_Damage_And_Injuries</td>\n",
              "      <td>62.465753</td>\n",
              "      <td>10</td>\n",
              "      <td>27</td>\n",
              "      <td>72.288058</td>\n",
              "      <td>0.423939</td>\n",
              "      <td>84.54</td>\n",
              "      <td>26024.711057</td>\n",
              "      <td>2</td>\n",
              "      <td>1.043130</td>\n",
              "      <td>12128</td>\n",
              "      <td>0</td>\n",
              "      <td>1</td>\n",
              "      <td>0</td>\n",
              "      <td>0</td>\n",
              "      <td>0</td>\n",
              "      <td>0</td>\n",
              "      <td>0</td>\n",
              "    </tr>\n",
              "    <tr>\n",
              "      <th>2181</th>\n",
              "      <td>Significant_Damage_And_Fatalities</td>\n",
              "      <td>63.059361</td>\n",
              "      <td>13</td>\n",
              "      <td>16</td>\n",
              "      <td>66.362808</td>\n",
              "      <td>0.322604</td>\n",
              "      <td>78.86</td>\n",
              "      <td>39269.053927</td>\n",
              "      <td>3</td>\n",
              "      <td>5.694652</td>\n",
              "      <td>2181</td>\n",
              "      <td>0</td>\n",
              "      <td>0</td>\n",
              "      <td>0</td>\n",
              "      <td>0</td>\n",
              "      <td>0</td>\n",
              "      <td>0</td>\n",
              "      <td>1</td>\n",
              "    </tr>\n",
              "    <tr>\n",
              "      <th>5946</th>\n",
              "      <td>Significant_Damage_And_Serious_Injuries</td>\n",
              "      <td>48.082192</td>\n",
              "      <td>11</td>\n",
              "      <td>9</td>\n",
              "      <td>74.703737</td>\n",
              "      <td>0.337029</td>\n",
              "      <td>81.79</td>\n",
              "      <td>42771.499200</td>\n",
              "      <td>1</td>\n",
              "      <td>1.552452</td>\n",
              "      <td>5946</td>\n",
              "      <td>0</td>\n",
              "      <td>0</td>\n",
              "      <td>1</td>\n",
              "      <td>0</td>\n",
              "      <td>0</td>\n",
              "      <td>0</td>\n",
              "      <td>0</td>\n",
              "    </tr>\n",
              "    <tr>\n",
              "      <th>9054</th>\n",
              "      <td>Significant_Damage_And_Fatalities</td>\n",
              "      <td>26.484018</td>\n",
              "      <td>13</td>\n",
              "      <td>25</td>\n",
              "      <td>47.948952</td>\n",
              "      <td>0.541140</td>\n",
              "      <td>77.16</td>\n",
              "      <td>35509.228515</td>\n",
              "      <td>2</td>\n",
              "      <td>1.732265</td>\n",
              "      <td>9054</td>\n",
              "      <td>0</td>\n",
              "      <td>0</td>\n",
              "      <td>1</td>\n",
              "      <td>0</td>\n",
              "      <td>0</td>\n",
              "      <td>0</td>\n",
              "      <td>0</td>\n",
              "    </tr>\n",
              "    <tr>\n",
              "      <th>...</th>\n",
              "      <td>...</td>\n",
              "      <td>...</td>\n",
              "      <td>...</td>\n",
              "      <td>...</td>\n",
              "      <td>...</td>\n",
              "      <td>...</td>\n",
              "      <td>...</td>\n",
              "      <td>...</td>\n",
              "      <td>...</td>\n",
              "      <td>...</td>\n",
              "      <td>...</td>\n",
              "      <td>...</td>\n",
              "      <td>...</td>\n",
              "      <td>...</td>\n",
              "      <td>...</td>\n",
              "      <td>...</td>\n",
              "      <td>...</td>\n",
              "      <td>...</td>\n",
              "    </tr>\n",
              "    <tr>\n",
              "      <th>11493</th>\n",
              "      <td>Significant_Damage_And_Serious_Injuries</td>\n",
              "      <td>56.118721</td>\n",
              "      <td>8</td>\n",
              "      <td>1</td>\n",
              "      <td>63.445761</td>\n",
              "      <td>0.482359</td>\n",
              "      <td>78.64</td>\n",
              "      <td>38537.363408</td>\n",
              "      <td>2</td>\n",
              "      <td>3.643924</td>\n",
              "      <td>11493</td>\n",
              "      <td>0</td>\n",
              "      <td>0</td>\n",
              "      <td>0</td>\n",
              "      <td>0</td>\n",
              "      <td>1</td>\n",
              "      <td>0</td>\n",
              "      <td>0</td>\n",
              "    </tr>\n",
              "    <tr>\n",
              "      <th>305</th>\n",
              "      <td>Highly_Fatal_And_Damaging</td>\n",
              "      <td>40.365297</td>\n",
              "      <td>10</td>\n",
              "      <td>7</td>\n",
              "      <td>62.169553</td>\n",
              "      <td>0.421775</td>\n",
              "      <td>79.77</td>\n",
              "      <td>40846.916900</td>\n",
              "      <td>2</td>\n",
              "      <td>2.591624</td>\n",
              "      <td>305</td>\n",
              "      <td>0</td>\n",
              "      <td>0</td>\n",
              "      <td>0</td>\n",
              "      <td>1</td>\n",
              "      <td>0</td>\n",
              "      <td>0</td>\n",
              "      <td>0</td>\n",
              "    </tr>\n",
              "    <tr>\n",
              "      <th>612</th>\n",
              "      <td>Significant_Damage_And_Serious_Injuries</td>\n",
              "      <td>27.853881</td>\n",
              "      <td>17</td>\n",
              "      <td>1</td>\n",
              "      <td>69.598906</td>\n",
              "      <td>0.318277</td>\n",
              "      <td>80.37</td>\n",
              "      <td>33771.996300</td>\n",
              "      <td>3</td>\n",
              "      <td>1.782762</td>\n",
              "      <td>612</td>\n",
              "      <td>0</td>\n",
              "      <td>0</td>\n",
              "      <td>1</td>\n",
              "      <td>0</td>\n",
              "      <td>0</td>\n",
              "      <td>0</td>\n",
              "      <td>0</td>\n",
              "    </tr>\n",
              "    <tr>\n",
              "      <th>4963</th>\n",
              "      <td>Minor_Damage_And_Injuries</td>\n",
              "      <td>56.210046</td>\n",
              "      <td>8</td>\n",
              "      <td>0</td>\n",
              "      <td>39.835916</td>\n",
              "      <td>0.598118</td>\n",
              "      <td>76.92</td>\n",
              "      <td>39820.419251</td>\n",
              "      <td>2</td>\n",
              "      <td>3.635114</td>\n",
              "      <td>4963</td>\n",
              "      <td>0</td>\n",
              "      <td>0</td>\n",
              "      <td>0</td>\n",
              "      <td>0</td>\n",
              "      <td>1</td>\n",
              "      <td>0</td>\n",
              "      <td>0</td>\n",
              "    </tr>\n",
              "    <tr>\n",
              "      <th>9387</th>\n",
              "      <td>Highly_Fatal_And_Damaging</td>\n",
              "      <td>50.000000</td>\n",
              "      <td>13</td>\n",
              "      <td>3</td>\n",
              "      <td>45.487694</td>\n",
              "      <td>0.382467</td>\n",
              "      <td>77.46</td>\n",
              "      <td>26005.322987</td>\n",
              "      <td>2</td>\n",
              "      <td>4.072433</td>\n",
              "      <td>9387</td>\n",
              "      <td>0</td>\n",
              "      <td>0</td>\n",
              "      <td>0</td>\n",
              "      <td>0</td>\n",
              "      <td>1</td>\n",
              "      <td>0</td>\n",
              "      <td>0</td>\n",
              "    </tr>\n",
              "  </tbody>\n",
              "</table>\n",
              "<p>10000 rows × 18 columns</p>\n",
              "</div>"
            ],
            "text/plain": [
              "                                            Severity  ...  Accident_Type_Code_7\n",
              "Accident_ID                                           ...                      \n",
              "7570                       Minor_Damage_And_Injuries  ...                     0\n",
              "12128                      Minor_Damage_And_Injuries  ...                     0\n",
              "2181               Significant_Damage_And_Fatalities  ...                     1\n",
              "5946         Significant_Damage_And_Serious_Injuries  ...                     0\n",
              "9054               Significant_Damage_And_Fatalities  ...                     0\n",
              "...                                              ...  ...                   ...\n",
              "11493        Significant_Damage_And_Serious_Injuries  ...                     0\n",
              "305                        Highly_Fatal_And_Damaging  ...                     0\n",
              "612          Significant_Damage_And_Serious_Injuries  ...                     0\n",
              "4963                       Minor_Damage_And_Injuries  ...                     0\n",
              "9387                       Highly_Fatal_And_Damaging  ...                     0\n",
              "\n",
              "[10000 rows x 18 columns]"
            ]
          },
          "metadata": {
            "tags": []
          },
          "execution_count": 25
        }
      ]
    },
    {
      "cell_type": "code",
      "metadata": {
        "id": "fkrTLL_WKlpn",
        "colab_type": "code",
        "colab": {}
      },
      "source": [
        "X_train=train_data_final.drop(columns=['Severity' , 'Accident_ID' , 'Accident_Type_Code_1'])"
      ],
      "execution_count": 0,
      "outputs": []
    },
    {
      "cell_type": "code",
      "metadata": {
        "id": "e7OlQRV2MAbD",
        "colab_type": "code",
        "outputId": "1952afce-0151-47f2-8963-4417d7f2a7db",
        "colab": {
          "base_uri": "https://localhost:8080/",
          "height": 440
        }
      },
      "source": [
        "X_train"
      ],
      "execution_count": 0,
      "outputs": [
        {
          "output_type": "execute_result",
          "data": {
            "text/html": [
              "<div>\n",
              "<style scoped>\n",
              "    .dataframe tbody tr th:only-of-type {\n",
              "        vertical-align: middle;\n",
              "    }\n",
              "\n",
              "    .dataframe tbody tr th {\n",
              "        vertical-align: top;\n",
              "    }\n",
              "\n",
              "    .dataframe thead th {\n",
              "        text-align: right;\n",
              "    }\n",
              "</style>\n",
              "<table border=\"1\" class=\"dataframe\">\n",
              "  <thead>\n",
              "    <tr style=\"text-align: right;\">\n",
              "      <th></th>\n",
              "      <th>Safety_Score</th>\n",
              "      <th>Days_Since_Inspection</th>\n",
              "      <th>Total_Safety_Complaints</th>\n",
              "      <th>Control_Metric</th>\n",
              "      <th>Turbulence_In_gforces</th>\n",
              "      <th>Cabin_Temperature</th>\n",
              "      <th>Max_Elevation</th>\n",
              "      <th>Violations</th>\n",
              "      <th>Adverse_Weather_Metric</th>\n",
              "      <th>Accident_Type_Code_2</th>\n",
              "      <th>Accident_Type_Code_3</th>\n",
              "      <th>Accident_Type_Code_4</th>\n",
              "      <th>Accident_Type_Code_5</th>\n",
              "      <th>Accident_Type_Code_6</th>\n",
              "      <th>Accident_Type_Code_7</th>\n",
              "    </tr>\n",
              "    <tr>\n",
              "      <th>Accident_ID</th>\n",
              "      <th></th>\n",
              "      <th></th>\n",
              "      <th></th>\n",
              "      <th></th>\n",
              "      <th></th>\n",
              "      <th></th>\n",
              "      <th></th>\n",
              "      <th></th>\n",
              "      <th></th>\n",
              "      <th></th>\n",
              "      <th></th>\n",
              "      <th></th>\n",
              "      <th></th>\n",
              "      <th></th>\n",
              "      <th></th>\n",
              "    </tr>\n",
              "  </thead>\n",
              "  <tbody>\n",
              "    <tr>\n",
              "      <th>7570</th>\n",
              "      <td>49.223744</td>\n",
              "      <td>14</td>\n",
              "      <td>22</td>\n",
              "      <td>71.285324</td>\n",
              "      <td>0.272118</td>\n",
              "      <td>78.04</td>\n",
              "      <td>31335.476824</td>\n",
              "      <td>3</td>\n",
              "      <td>0.857192</td>\n",
              "      <td>1</td>\n",
              "      <td>0</td>\n",
              "      <td>0</td>\n",
              "      <td>0</td>\n",
              "      <td>0</td>\n",
              "      <td>0</td>\n",
              "    </tr>\n",
              "    <tr>\n",
              "      <th>12128</th>\n",
              "      <td>62.465753</td>\n",
              "      <td>10</td>\n",
              "      <td>27</td>\n",
              "      <td>72.288058</td>\n",
              "      <td>0.423939</td>\n",
              "      <td>84.54</td>\n",
              "      <td>26024.711057</td>\n",
              "      <td>2</td>\n",
              "      <td>1.043130</td>\n",
              "      <td>1</td>\n",
              "      <td>0</td>\n",
              "      <td>0</td>\n",
              "      <td>0</td>\n",
              "      <td>0</td>\n",
              "      <td>0</td>\n",
              "    </tr>\n",
              "    <tr>\n",
              "      <th>2181</th>\n",
              "      <td>63.059361</td>\n",
              "      <td>13</td>\n",
              "      <td>16</td>\n",
              "      <td>66.362808</td>\n",
              "      <td>0.322604</td>\n",
              "      <td>78.86</td>\n",
              "      <td>39269.053927</td>\n",
              "      <td>3</td>\n",
              "      <td>5.694652</td>\n",
              "      <td>0</td>\n",
              "      <td>0</td>\n",
              "      <td>0</td>\n",
              "      <td>0</td>\n",
              "      <td>0</td>\n",
              "      <td>1</td>\n",
              "    </tr>\n",
              "    <tr>\n",
              "      <th>5946</th>\n",
              "      <td>48.082192</td>\n",
              "      <td>11</td>\n",
              "      <td>9</td>\n",
              "      <td>74.703737</td>\n",
              "      <td>0.337029</td>\n",
              "      <td>81.79</td>\n",
              "      <td>42771.499200</td>\n",
              "      <td>1</td>\n",
              "      <td>1.552452</td>\n",
              "      <td>0</td>\n",
              "      <td>1</td>\n",
              "      <td>0</td>\n",
              "      <td>0</td>\n",
              "      <td>0</td>\n",
              "      <td>0</td>\n",
              "    </tr>\n",
              "    <tr>\n",
              "      <th>9054</th>\n",
              "      <td>26.484018</td>\n",
              "      <td>13</td>\n",
              "      <td>25</td>\n",
              "      <td>47.948952</td>\n",
              "      <td>0.541140</td>\n",
              "      <td>77.16</td>\n",
              "      <td>35509.228515</td>\n",
              "      <td>2</td>\n",
              "      <td>1.732265</td>\n",
              "      <td>0</td>\n",
              "      <td>1</td>\n",
              "      <td>0</td>\n",
              "      <td>0</td>\n",
              "      <td>0</td>\n",
              "      <td>0</td>\n",
              "    </tr>\n",
              "    <tr>\n",
              "      <th>...</th>\n",
              "      <td>...</td>\n",
              "      <td>...</td>\n",
              "      <td>...</td>\n",
              "      <td>...</td>\n",
              "      <td>...</td>\n",
              "      <td>...</td>\n",
              "      <td>...</td>\n",
              "      <td>...</td>\n",
              "      <td>...</td>\n",
              "      <td>...</td>\n",
              "      <td>...</td>\n",
              "      <td>...</td>\n",
              "      <td>...</td>\n",
              "      <td>...</td>\n",
              "      <td>...</td>\n",
              "    </tr>\n",
              "    <tr>\n",
              "      <th>11493</th>\n",
              "      <td>56.118721</td>\n",
              "      <td>8</td>\n",
              "      <td>1</td>\n",
              "      <td>63.445761</td>\n",
              "      <td>0.482359</td>\n",
              "      <td>78.64</td>\n",
              "      <td>38537.363408</td>\n",
              "      <td>2</td>\n",
              "      <td>3.643924</td>\n",
              "      <td>0</td>\n",
              "      <td>0</td>\n",
              "      <td>0</td>\n",
              "      <td>1</td>\n",
              "      <td>0</td>\n",
              "      <td>0</td>\n",
              "    </tr>\n",
              "    <tr>\n",
              "      <th>305</th>\n",
              "      <td>40.365297</td>\n",
              "      <td>10</td>\n",
              "      <td>7</td>\n",
              "      <td>62.169553</td>\n",
              "      <td>0.421775</td>\n",
              "      <td>79.77</td>\n",
              "      <td>40846.916900</td>\n",
              "      <td>2</td>\n",
              "      <td>2.591624</td>\n",
              "      <td>0</td>\n",
              "      <td>0</td>\n",
              "      <td>1</td>\n",
              "      <td>0</td>\n",
              "      <td>0</td>\n",
              "      <td>0</td>\n",
              "    </tr>\n",
              "    <tr>\n",
              "      <th>612</th>\n",
              "      <td>27.853881</td>\n",
              "      <td>17</td>\n",
              "      <td>1</td>\n",
              "      <td>69.598906</td>\n",
              "      <td>0.318277</td>\n",
              "      <td>80.37</td>\n",
              "      <td>33771.996300</td>\n",
              "      <td>3</td>\n",
              "      <td>1.782762</td>\n",
              "      <td>0</td>\n",
              "      <td>1</td>\n",
              "      <td>0</td>\n",
              "      <td>0</td>\n",
              "      <td>0</td>\n",
              "      <td>0</td>\n",
              "    </tr>\n",
              "    <tr>\n",
              "      <th>4963</th>\n",
              "      <td>56.210046</td>\n",
              "      <td>8</td>\n",
              "      <td>0</td>\n",
              "      <td>39.835916</td>\n",
              "      <td>0.598118</td>\n",
              "      <td>76.92</td>\n",
              "      <td>39820.419251</td>\n",
              "      <td>2</td>\n",
              "      <td>3.635114</td>\n",
              "      <td>0</td>\n",
              "      <td>0</td>\n",
              "      <td>0</td>\n",
              "      <td>1</td>\n",
              "      <td>0</td>\n",
              "      <td>0</td>\n",
              "    </tr>\n",
              "    <tr>\n",
              "      <th>9387</th>\n",
              "      <td>50.000000</td>\n",
              "      <td>13</td>\n",
              "      <td>3</td>\n",
              "      <td>45.487694</td>\n",
              "      <td>0.382467</td>\n",
              "      <td>77.46</td>\n",
              "      <td>26005.322987</td>\n",
              "      <td>2</td>\n",
              "      <td>4.072433</td>\n",
              "      <td>0</td>\n",
              "      <td>0</td>\n",
              "      <td>0</td>\n",
              "      <td>1</td>\n",
              "      <td>0</td>\n",
              "      <td>0</td>\n",
              "    </tr>\n",
              "  </tbody>\n",
              "</table>\n",
              "<p>10000 rows × 15 columns</p>\n",
              "</div>"
            ],
            "text/plain": [
              "             Safety_Score  ...  Accident_Type_Code_7\n",
              "Accident_ID                ...                      \n",
              "7570            49.223744  ...                     0\n",
              "12128           62.465753  ...                     0\n",
              "2181            63.059361  ...                     1\n",
              "5946            48.082192  ...                     0\n",
              "9054            26.484018  ...                     0\n",
              "...                   ...  ...                   ...\n",
              "11493           56.118721  ...                     0\n",
              "305             40.365297  ...                     0\n",
              "612             27.853881  ...                     0\n",
              "4963            56.210046  ...                     0\n",
              "9387            50.000000  ...                     0\n",
              "\n",
              "[10000 rows x 15 columns]"
            ]
          },
          "metadata": {
            "tags": []
          },
          "execution_count": 27
        }
      ]
    },
    {
      "cell_type": "code",
      "metadata": {
        "id": "gwexbH25Mtu9",
        "colab_type": "code",
        "colab": {}
      },
      "source": [
        "input_dim=len(X_train.columns)"
      ],
      "execution_count": 0,
      "outputs": []
    },
    {
      "cell_type": "code",
      "metadata": {
        "id": "00omZWXzN0E2",
        "colab_type": "code",
        "outputId": "70c75f11-115e-4350-dea4-82a960390157",
        "colab": {
          "base_uri": "https://localhost:8080/",
          "height": 33
        }
      },
      "source": [
        "encoder = LabelEncoder()\n",
        "encoder.fit( train_data['Severity'])"
      ],
      "execution_count": 0,
      "outputs": [
        {
          "output_type": "execute_result",
          "data": {
            "text/plain": [
              "LabelEncoder()"
            ]
          },
          "metadata": {
            "tags": []
          },
          "execution_count": 29
        }
      ]
    },
    {
      "cell_type": "code",
      "metadata": {
        "id": "hCenvSkdOj0v",
        "colab_type": "code",
        "colab": {}
      },
      "source": [
        "encoded_Y = encoder.transform(train_data['Severity'])\n",
        "# convert integers to dummy variables (i.e. one hot encoded)\n",
        "y_train = np_utils.to_categorical(encoded_Y)"
      ],
      "execution_count": 0,
      "outputs": []
    },
    {
      "cell_type": "code",
      "metadata": {
        "id": "nT9hKlfrLweh",
        "colab_type": "code",
        "outputId": "6cd08aca-6b29-4e24-b19c-a958ab7753b3",
        "colab": {
          "base_uri": "https://localhost:8080/",
          "height": 131
        }
      },
      "source": [
        "y_train"
      ],
      "execution_count": 0,
      "outputs": [
        {
          "output_type": "execute_result",
          "data": {
            "text/plain": [
              "array([[0., 1., 0., 0.],\n",
              "       [0., 1., 0., 0.],\n",
              "       [0., 0., 1., 0.],\n",
              "       ...,\n",
              "       [0., 0., 0., 1.],\n",
              "       [0., 1., 0., 0.],\n",
              "       [1., 0., 0., 0.]], dtype=float32)"
            ]
          },
          "metadata": {
            "tags": []
          },
          "execution_count": 31
        }
      ]
    },
    {
      "cell_type": "code",
      "metadata": {
        "id": "ccdpgK4gNyv-",
        "colab_type": "code",
        "colab": {}
      },
      "source": [
        " X_train=preprocessing.scale(X_train)"
      ],
      "execution_count": 0,
      "outputs": []
    },
    {
      "cell_type": "code",
      "metadata": {
        "id": "P5WZUARBKskN",
        "colab_type": "code",
        "colab": {}
      },
      "source": [
        "#X , X_val , Y , Y_val , train_lab , test_lab = train_test_split ( X_train , y_train , encoded_Y , test_size=0.2)"
      ],
      "execution_count": 0,
      "outputs": []
    },
    {
      "cell_type": "code",
      "metadata": {
        "id": "Pecbo1Mwvms7",
        "colab_type": "code",
        "colab": {}
      },
      "source": [
        "def recall_m(y_true, y_pred):\n",
        "        true_positives = K.sum(K.round(K.clip(y_true * y_pred, 0, 1)))\n",
        "        possible_positives = K.sum(K.round(K.clip(y_true, 0, 1)))\n",
        "        recall = true_positives / (possible_positives + K.epsilon())\n",
        "        return recall\n",
        "\n",
        "def precision_m(y_true, y_pred):\n",
        "        true_positives = K.sum(K.round(K.clip(y_true * y_pred, 0, 1)))\n",
        "        predicted_positives = K.sum(K.round(K.clip(y_pred, 0, 1)))\n",
        "        precision = true_positives / (predicted_positives + K.epsilon())\n",
        "        return precision\n",
        "\n",
        "def f1_m(y_true, y_pred):\n",
        "    precision = precision_m(y_true, y_pred)\n",
        "    recall = recall_m(y_true, y_pred)\n",
        "    return 2*((precision*recall)/(precision+recall+K.epsilon()))\n"
      ],
      "execution_count": 0,
      "outputs": []
    },
    {
      "cell_type": "code",
      "metadata": {
        "id": "b-gHrA0OMsFf",
        "colab_type": "code",
        "outputId": "d50735ba-751c-4798-b654-4ac247852f56",
        "colab": {
          "base_uri": "https://localhost:8080/",
          "height": 377
        }
      },
      "source": [
        "\n",
        "\n",
        "# Model\n",
        "model = Sequential()\n",
        "\n",
        "\n",
        "\n",
        "\n",
        "model.add(Dense(8224, input_dim=input_dim , kernel_initializer='normal', activation='relu'))\n",
        "\n",
        "\n",
        "\n",
        "model.add(Dense(4096, kernel_initializer='normal', activation='relu'))\n",
        "\n",
        "\n",
        "model.add(Dropout(0.25))\n",
        "\n",
        "model.add(Dense(2048, kernel_initializer='normal', activation='relu'))\n",
        "\n",
        "\n",
        "\n",
        "\n",
        "model.add(Dense(1028, kernel_initializer='normal', activation='relu'))\n",
        "\n",
        "model.add(Dropout(0.25))\n",
        "\n",
        "\n",
        "model.add(Dense(512, kernel_initializer='normal', activation='relu'))\n",
        "\n",
        "\n",
        "\n",
        "\n",
        "model.add(Dense(256, kernel_initializer='normal', activation='relu'))\n",
        "\n",
        "\n",
        "model.add(Dense(128, kernel_initializer='normal', activation='relu'))\n",
        "\n",
        "\n",
        "\n",
        "model.add(Dense(64, kernel_initializer='normal', activation='relu'))\n",
        "\n",
        "model.add(Dense(16, kernel_initializer='normal', activation='relu'))\n",
        "\n",
        "\n",
        "\n",
        "model.add(Dense(4, kernel_initializer='normal' ,  activation='softmax'))\n",
        "# Compile model\n",
        "model.compile(loss='categorical_crossentropy', optimizer='adam', metrics=[f1_m])\n",
        "\n",
        "model.fit(X_train ,y_train , epochs=30, validation_split=0.3, batch_size=5)"
      ],
      "execution_count": 0,
      "outputs": [
        {
          "output_type": "stream",
          "text": [
            "Train on 7000 samples, validate on 3000 samples\n",
            "Epoch 1/30\n",
            "1865/7000 [======>.......................] - ETA: 42s - loss: 1.2238 - f1_m: 0.2359"
          ],
          "name": "stdout"
        },
        {
          "output_type": "error",
          "ename": "KeyboardInterrupt",
          "evalue": "ignored",
          "traceback": [
            "\u001b[0;31m---------------------------------------------------------------------------\u001b[0m",
            "\u001b[0;31mKeyboardInterrupt\u001b[0m                         Traceback (most recent call last)",
            "\u001b[0;32m<ipython-input-57-cdee54d5ce76>\u001b[0m in \u001b[0;36m<module>\u001b[0;34m()\u001b[0m\n\u001b[1;32m     45\u001b[0m \u001b[0mmodel\u001b[0m\u001b[0;34m.\u001b[0m\u001b[0mcompile\u001b[0m\u001b[0;34m(\u001b[0m\u001b[0mloss\u001b[0m\u001b[0;34m=\u001b[0m\u001b[0;34m'categorical_crossentropy'\u001b[0m\u001b[0;34m,\u001b[0m \u001b[0moptimizer\u001b[0m\u001b[0;34m=\u001b[0m\u001b[0;34m'adam'\u001b[0m\u001b[0;34m,\u001b[0m \u001b[0mmetrics\u001b[0m\u001b[0;34m=\u001b[0m\u001b[0;34m[\u001b[0m\u001b[0mf1_m\u001b[0m\u001b[0;34m]\u001b[0m\u001b[0;34m)\u001b[0m\u001b[0;34m\u001b[0m\u001b[0;34m\u001b[0m\u001b[0m\n\u001b[1;32m     46\u001b[0m \u001b[0;34m\u001b[0m\u001b[0m\n\u001b[0;32m---> 47\u001b[0;31m \u001b[0mmodel\u001b[0m\u001b[0;34m.\u001b[0m\u001b[0mfit\u001b[0m\u001b[0;34m(\u001b[0m\u001b[0mX_train\u001b[0m \u001b[0;34m,\u001b[0m\u001b[0my_train\u001b[0m \u001b[0;34m,\u001b[0m \u001b[0mepochs\u001b[0m\u001b[0;34m=\u001b[0m\u001b[0;36m30\u001b[0m\u001b[0;34m,\u001b[0m \u001b[0mvalidation_split\u001b[0m\u001b[0;34m=\u001b[0m\u001b[0;36m0.3\u001b[0m\u001b[0;34m,\u001b[0m \u001b[0mbatch_size\u001b[0m\u001b[0;34m=\u001b[0m\u001b[0;36m5\u001b[0m\u001b[0;34m)\u001b[0m\u001b[0;34m\u001b[0m\u001b[0;34m\u001b[0m\u001b[0m\n\u001b[0m",
            "\u001b[0;32m/usr/local/lib/python3.6/dist-packages/keras/engine/training.py\u001b[0m in \u001b[0;36mfit\u001b[0;34m(self, x, y, batch_size, epochs, verbose, callbacks, validation_split, validation_data, shuffle, class_weight, sample_weight, initial_epoch, steps_per_epoch, validation_steps, validation_freq, max_queue_size, workers, use_multiprocessing, **kwargs)\u001b[0m\n\u001b[1;32m   1176\u001b[0m                                         \u001b[0msteps_per_epoch\u001b[0m\u001b[0;34m=\u001b[0m\u001b[0msteps_per_epoch\u001b[0m\u001b[0;34m,\u001b[0m\u001b[0;34m\u001b[0m\u001b[0;34m\u001b[0m\u001b[0m\n\u001b[1;32m   1177\u001b[0m                                         \u001b[0mvalidation_steps\u001b[0m\u001b[0;34m=\u001b[0m\u001b[0mvalidation_steps\u001b[0m\u001b[0;34m,\u001b[0m\u001b[0;34m\u001b[0m\u001b[0;34m\u001b[0m\u001b[0m\n\u001b[0;32m-> 1178\u001b[0;31m                                         validation_freq=validation_freq)\n\u001b[0m\u001b[1;32m   1179\u001b[0m \u001b[0;34m\u001b[0m\u001b[0m\n\u001b[1;32m   1180\u001b[0m     def evaluate(self,\n",
            "\u001b[0;32m/usr/local/lib/python3.6/dist-packages/keras/engine/training_arrays.py\u001b[0m in \u001b[0;36mfit_loop\u001b[0;34m(model, fit_function, fit_inputs, out_labels, batch_size, epochs, verbose, callbacks, val_function, val_inputs, shuffle, callback_metrics, initial_epoch, steps_per_epoch, validation_steps, validation_freq)\u001b[0m\n\u001b[1;32m    202\u001b[0m                     \u001b[0mins_batch\u001b[0m\u001b[0;34m[\u001b[0m\u001b[0mi\u001b[0m\u001b[0;34m]\u001b[0m \u001b[0;34m=\u001b[0m \u001b[0mins_batch\u001b[0m\u001b[0;34m[\u001b[0m\u001b[0mi\u001b[0m\u001b[0;34m]\u001b[0m\u001b[0;34m.\u001b[0m\u001b[0mtoarray\u001b[0m\u001b[0;34m(\u001b[0m\u001b[0;34m)\u001b[0m\u001b[0;34m\u001b[0m\u001b[0;34m\u001b[0m\u001b[0m\n\u001b[1;32m    203\u001b[0m \u001b[0;34m\u001b[0m\u001b[0m\n\u001b[0;32m--> 204\u001b[0;31m                 \u001b[0mouts\u001b[0m \u001b[0;34m=\u001b[0m \u001b[0mfit_function\u001b[0m\u001b[0;34m(\u001b[0m\u001b[0mins_batch\u001b[0m\u001b[0;34m)\u001b[0m\u001b[0;34m\u001b[0m\u001b[0;34m\u001b[0m\u001b[0m\n\u001b[0m\u001b[1;32m    205\u001b[0m                 \u001b[0mouts\u001b[0m \u001b[0;34m=\u001b[0m \u001b[0mto_list\u001b[0m\u001b[0;34m(\u001b[0m\u001b[0mouts\u001b[0m\u001b[0;34m)\u001b[0m\u001b[0;34m\u001b[0m\u001b[0;34m\u001b[0m\u001b[0m\n\u001b[1;32m    206\u001b[0m                 \u001b[0;32mfor\u001b[0m \u001b[0ml\u001b[0m\u001b[0;34m,\u001b[0m \u001b[0mo\u001b[0m \u001b[0;32min\u001b[0m \u001b[0mzip\u001b[0m\u001b[0;34m(\u001b[0m\u001b[0mout_labels\u001b[0m\u001b[0;34m,\u001b[0m \u001b[0mouts\u001b[0m\u001b[0;34m)\u001b[0m\u001b[0;34m:\u001b[0m\u001b[0;34m\u001b[0m\u001b[0;34m\u001b[0m\u001b[0m\n",
            "\u001b[0;32m/usr/local/lib/python3.6/dist-packages/keras/backend/tensorflow_backend.py\u001b[0m in \u001b[0;36m__call__\u001b[0;34m(self, inputs)\u001b[0m\n\u001b[1;32m   2977\u001b[0m                     \u001b[0;32mreturn\u001b[0m \u001b[0mself\u001b[0m\u001b[0;34m.\u001b[0m\u001b[0m_legacy_call\u001b[0m\u001b[0;34m(\u001b[0m\u001b[0minputs\u001b[0m\u001b[0;34m)\u001b[0m\u001b[0;34m\u001b[0m\u001b[0;34m\u001b[0m\u001b[0m\n\u001b[1;32m   2978\u001b[0m \u001b[0;34m\u001b[0m\u001b[0m\n\u001b[0;32m-> 2979\u001b[0;31m             \u001b[0;32mreturn\u001b[0m \u001b[0mself\u001b[0m\u001b[0;34m.\u001b[0m\u001b[0m_call\u001b[0m\u001b[0;34m(\u001b[0m\u001b[0minputs\u001b[0m\u001b[0;34m)\u001b[0m\u001b[0;34m\u001b[0m\u001b[0;34m\u001b[0m\u001b[0m\n\u001b[0m\u001b[1;32m   2980\u001b[0m         \u001b[0;32melse\u001b[0m\u001b[0;34m:\u001b[0m\u001b[0;34m\u001b[0m\u001b[0;34m\u001b[0m\u001b[0m\n\u001b[1;32m   2981\u001b[0m             \u001b[0;32mif\u001b[0m \u001b[0mpy_any\u001b[0m\u001b[0;34m(\u001b[0m\u001b[0mis_tensor\u001b[0m\u001b[0;34m(\u001b[0m\u001b[0mx\u001b[0m\u001b[0;34m)\u001b[0m \u001b[0;32mfor\u001b[0m \u001b[0mx\u001b[0m \u001b[0;32min\u001b[0m \u001b[0minputs\u001b[0m\u001b[0;34m)\u001b[0m\u001b[0;34m:\u001b[0m\u001b[0;34m\u001b[0m\u001b[0;34m\u001b[0m\u001b[0m\n",
            "\u001b[0;32m/usr/local/lib/python3.6/dist-packages/keras/backend/tensorflow_backend.py\u001b[0m in \u001b[0;36m_call\u001b[0;34m(self, inputs)\u001b[0m\n\u001b[1;32m   2935\u001b[0m             \u001b[0mfetched\u001b[0m \u001b[0;34m=\u001b[0m \u001b[0mself\u001b[0m\u001b[0;34m.\u001b[0m\u001b[0m_callable_fn\u001b[0m\u001b[0;34m(\u001b[0m\u001b[0;34m*\u001b[0m\u001b[0marray_vals\u001b[0m\u001b[0;34m,\u001b[0m \u001b[0mrun_metadata\u001b[0m\u001b[0;34m=\u001b[0m\u001b[0mself\u001b[0m\u001b[0;34m.\u001b[0m\u001b[0mrun_metadata\u001b[0m\u001b[0;34m)\u001b[0m\u001b[0;34m\u001b[0m\u001b[0;34m\u001b[0m\u001b[0m\n\u001b[1;32m   2936\u001b[0m         \u001b[0;32melse\u001b[0m\u001b[0;34m:\u001b[0m\u001b[0;34m\u001b[0m\u001b[0;34m\u001b[0m\u001b[0m\n\u001b[0;32m-> 2937\u001b[0;31m             \u001b[0mfetched\u001b[0m \u001b[0;34m=\u001b[0m \u001b[0mself\u001b[0m\u001b[0;34m.\u001b[0m\u001b[0m_callable_fn\u001b[0m\u001b[0;34m(\u001b[0m\u001b[0;34m*\u001b[0m\u001b[0marray_vals\u001b[0m\u001b[0;34m)\u001b[0m\u001b[0;34m\u001b[0m\u001b[0;34m\u001b[0m\u001b[0m\n\u001b[0m\u001b[1;32m   2938\u001b[0m         \u001b[0;32mreturn\u001b[0m \u001b[0mfetched\u001b[0m\u001b[0;34m[\u001b[0m\u001b[0;34m:\u001b[0m\u001b[0mlen\u001b[0m\u001b[0;34m(\u001b[0m\u001b[0mself\u001b[0m\u001b[0;34m.\u001b[0m\u001b[0moutputs\u001b[0m\u001b[0;34m)\u001b[0m\u001b[0;34m]\u001b[0m\u001b[0;34m\u001b[0m\u001b[0;34m\u001b[0m\u001b[0m\n\u001b[1;32m   2939\u001b[0m \u001b[0;34m\u001b[0m\u001b[0m\n",
            "\u001b[0;32m/usr/local/lib/python3.6/dist-packages/tensorflow_core/python/client/session.py\u001b[0m in \u001b[0;36m__call__\u001b[0;34m(self, *args, **kwargs)\u001b[0m\n\u001b[1;32m   1470\u001b[0m         ret = tf_session.TF_SessionRunCallable(self._session._session,\n\u001b[1;32m   1471\u001b[0m                                                \u001b[0mself\u001b[0m\u001b[0;34m.\u001b[0m\u001b[0m_handle\u001b[0m\u001b[0;34m,\u001b[0m \u001b[0margs\u001b[0m\u001b[0;34m,\u001b[0m\u001b[0;34m\u001b[0m\u001b[0;34m\u001b[0m\u001b[0m\n\u001b[0;32m-> 1472\u001b[0;31m                                                run_metadata_ptr)\n\u001b[0m\u001b[1;32m   1473\u001b[0m         \u001b[0;32mif\u001b[0m \u001b[0mrun_metadata\u001b[0m\u001b[0;34m:\u001b[0m\u001b[0;34m\u001b[0m\u001b[0;34m\u001b[0m\u001b[0m\n\u001b[1;32m   1474\u001b[0m           \u001b[0mproto_data\u001b[0m \u001b[0;34m=\u001b[0m \u001b[0mtf_session\u001b[0m\u001b[0;34m.\u001b[0m\u001b[0mTF_GetBuffer\u001b[0m\u001b[0;34m(\u001b[0m\u001b[0mrun_metadata_ptr\u001b[0m\u001b[0;34m)\u001b[0m\u001b[0;34m\u001b[0m\u001b[0;34m\u001b[0m\u001b[0m\n",
            "\u001b[0;31mKeyboardInterrupt\u001b[0m: "
          ]
        }
      ]
    },
    {
      "cell_type": "code",
      "metadata": {
        "id": "_nz3fyvAMy91",
        "colab_type": "code",
        "colab": {}
      },
      "source": [
        ""
      ],
      "execution_count": 0,
      "outputs": []
    },
    {
      "cell_type": "code",
      "metadata": {
        "id": "KDhT_UIcxHQ7",
        "colab_type": "code",
        "colab": {}
      },
      "source": [
        ""
      ],
      "execution_count": 0,
      "outputs": []
    },
    {
      "cell_type": "code",
      "metadata": {
        "id": "53LV06rnU6DS",
        "colab_type": "code",
        "colab": {}
      },
      "source": [
        "#PREDICTED_CLASSES = model.predict_classes(X_val)\n",
        "\n"
      ],
      "execution_count": 0,
      "outputs": []
    },
    {
      "cell_type": "code",
      "metadata": {
        "id": "rBz3Ec0AVR7B",
        "colab_type": "code",
        "colab": {}
      },
      "source": [
        "#PREDICTED_CLASSES"
      ],
      "execution_count": 0,
      "outputs": []
    },
    {
      "cell_type": "code",
      "metadata": {
        "id": "mcFHS2GtVSdL",
        "colab_type": "code",
        "colab": {}
      },
      "source": [
        "#temp = sum(test_lab == PREDICTED_CLASSES)\n",
        "#temp/len(test_lab)"
      ],
      "execution_count": 0,
      "outputs": []
    },
    {
      "cell_type": "code",
      "metadata": {
        "id": "bQZRHqFyYhHq",
        "colab_type": "code",
        "colab": {}
      },
      "source": [
        "#encoder.inverse_transform(PREDICTED_CLASSES)"
      ],
      "execution_count": 0,
      "outputs": []
    },
    {
      "cell_type": "code",
      "metadata": {
        "id": "jGq6W4Wycv1D",
        "colab_type": "code",
        "outputId": "3d912dfc-b055-4bbb-e05a-8693de03edc2",
        "colab": {
          "base_uri": "https://localhost:8080/",
          "height": 211
        }
      },
      "source": [
        "test_data.head()"
      ],
      "execution_count": 0,
      "outputs": [
        {
          "output_type": "execute_result",
          "data": {
            "text/html": [
              "<div>\n",
              "<style scoped>\n",
              "    .dataframe tbody tr th:only-of-type {\n",
              "        vertical-align: middle;\n",
              "    }\n",
              "\n",
              "    .dataframe tbody tr th {\n",
              "        vertical-align: top;\n",
              "    }\n",
              "\n",
              "    .dataframe thead th {\n",
              "        text-align: right;\n",
              "    }\n",
              "</style>\n",
              "<table border=\"1\" class=\"dataframe\">\n",
              "  <thead>\n",
              "    <tr style=\"text-align: right;\">\n",
              "      <th></th>\n",
              "      <th>Safety_Score</th>\n",
              "      <th>Days_Since_Inspection</th>\n",
              "      <th>Total_Safety_Complaints</th>\n",
              "      <th>Control_Metric</th>\n",
              "      <th>Turbulence_In_gforces</th>\n",
              "      <th>Cabin_Temperature</th>\n",
              "      <th>Accident_Type_Code</th>\n",
              "      <th>Max_Elevation</th>\n",
              "      <th>Violations</th>\n",
              "      <th>Adverse_Weather_Metric</th>\n",
              "      <th>Accident_ID</th>\n",
              "    </tr>\n",
              "  </thead>\n",
              "  <tbody>\n",
              "    <tr>\n",
              "      <th>0</th>\n",
              "      <td>19.497717</td>\n",
              "      <td>16</td>\n",
              "      <td>6</td>\n",
              "      <td>72.151322</td>\n",
              "      <td>0.388959</td>\n",
              "      <td>78.32</td>\n",
              "      <td>4</td>\n",
              "      <td>37949.724386</td>\n",
              "      <td>2</td>\n",
              "      <td>0.069692</td>\n",
              "      <td>1</td>\n",
              "    </tr>\n",
              "    <tr>\n",
              "      <th>1</th>\n",
              "      <td>58.173516</td>\n",
              "      <td>15</td>\n",
              "      <td>3</td>\n",
              "      <td>64.585232</td>\n",
              "      <td>0.250841</td>\n",
              "      <td>78.60</td>\n",
              "      <td>7</td>\n",
              "      <td>30194.805567</td>\n",
              "      <td>2</td>\n",
              "      <td>0.002777</td>\n",
              "      <td>10</td>\n",
              "    </tr>\n",
              "    <tr>\n",
              "      <th>2</th>\n",
              "      <td>33.287671</td>\n",
              "      <td>15</td>\n",
              "      <td>3</td>\n",
              "      <td>64.721969</td>\n",
              "      <td>0.336669</td>\n",
              "      <td>86.96</td>\n",
              "      <td>6</td>\n",
              "      <td>17572.925484</td>\n",
              "      <td>1</td>\n",
              "      <td>0.004316</td>\n",
              "      <td>14</td>\n",
              "    </tr>\n",
              "    <tr>\n",
              "      <th>3</th>\n",
              "      <td>3.287671</td>\n",
              "      <td>21</td>\n",
              "      <td>5</td>\n",
              "      <td>66.362808</td>\n",
              "      <td>0.421775</td>\n",
              "      <td>80.86</td>\n",
              "      <td>3</td>\n",
              "      <td>40209.186341</td>\n",
              "      <td>2</td>\n",
              "      <td>0.199990</td>\n",
              "      <td>17</td>\n",
              "    </tr>\n",
              "    <tr>\n",
              "      <th>4</th>\n",
              "      <td>10.867580</td>\n",
              "      <td>18</td>\n",
              "      <td>2</td>\n",
              "      <td>56.107566</td>\n",
              "      <td>0.313228</td>\n",
              "      <td>79.22</td>\n",
              "      <td>2</td>\n",
              "      <td>35495.525408</td>\n",
              "      <td>2</td>\n",
              "      <td>0.483696</td>\n",
              "      <td>21</td>\n",
              "    </tr>\n",
              "  </tbody>\n",
              "</table>\n",
              "</div>"
            ],
            "text/plain": [
              "   Safety_Score  Days_Since_Inspection  ...  Adverse_Weather_Metric  Accident_ID\n",
              "0     19.497717                     16  ...                0.069692            1\n",
              "1     58.173516                     15  ...                0.002777           10\n",
              "2     33.287671                     15  ...                0.004316           14\n",
              "3      3.287671                     21  ...                0.199990           17\n",
              "4     10.867580                     18  ...                0.483696           21\n",
              "\n",
              "[5 rows x 11 columns]"
            ]
          },
          "metadata": {
            "tags": []
          },
          "execution_count": 39
        }
      ]
    },
    {
      "cell_type": "code",
      "metadata": {
        "id": "GqAEovfWc07h",
        "colab_type": "code",
        "colab": {}
      },
      "source": [
        "test_data.index=test_data['Accident_ID']"
      ],
      "execution_count": 0,
      "outputs": []
    },
    {
      "cell_type": "code",
      "metadata": {
        "id": "PogN93YVgUts",
        "colab_type": "code",
        "outputId": "4d1c2d49-335b-4dec-a339-a7899c1c79a7",
        "colab": {
          "base_uri": "https://localhost:8080/",
          "height": 1000
        }
      },
      "source": [
        "for i in test_data.columns :\n",
        "  if test_data.dtypes[i] != 'object' :\n",
        "    sns.distplot(test_data[i])\n",
        "    plt.show()\n",
        "  else : \n",
        "    continue"
      ],
      "execution_count": 0,
      "outputs": [
        {
          "output_type": "display_data",
          "data": {
            "image/png": "[encoded data removed]",
            "text/plain": [
              "<Figure size 432x288 with 1 Axes>"
            ]
          },
          "metadata": {
            "tags": []
          }
        },
        {
          "output_type": "display_data",
          "data": {
            "image/png": "[encoded data removed]",
            "text/plain": [
              "<Figure size 432x288 with 1 Axes>"
            ]
          },
          "metadata": {
            "tags": []
          }
        },
        {
          "output_type": "display_data",
          "data": {
            "image/png": "[encoded data removed]",
            "text/plain": [
              "<Figure size 432x288 with 1 Axes>"
            ]
          },
          "metadata": {
            "tags": []
          }
        },
        {
          "output_type": "display_data",
          "data": {
            "image/png": "[encoded data removed]",
            "text/plain": [
              "<Figure size 432x288 with 1 Axes>"
            ]
          },
          "metadata": {
            "tags": []
          }
        },
        {
          "output_type": "display_data",
          "data": {
            "image/png": "[encoded data removed]",
            "text/plain": [
              "<Figure size 432x288 with 1 Axes>"
            ]
          },
          "metadata": {
            "tags": []
          }
        },
        {
          "output_type": "display_data",
          "data": {
            "image/png": "[encoded data removed]",
            "text/plain": [
              "<Figure size 432x288 with 1 Axes>"
            ]
          },
          "metadata": {
            "tags": []
          }
        },
        {
          "output_type": "display_data",
          "data": {
            "image/png": "[encoded data removed]",
            "text/plain": [
              "<Figure size 432x288 with 1 Axes>"
            ]
          },
          "metadata": {
            "tags": []
          }
        },
        {
          "output_type": "display_data",
          "data": {
            "image/png": "[encoded data removed]",
            "text/plain": [
              "<Figure size 432x288 with 1 Axes>"
            ]
          },
          "metadata": {
            "tags": []
          }
        },
        {
          "output_type": "display_data",
          "data": {
            "image/png": "[encoded data removed]",
            "text/plain": [
              "<Figure size 432x288 with 1 Axes>"
            ]
          },
          "metadata": {
            "tags": []
          }
        },
        {
          "output_type": "display_data",
          "data": {
            "image/png": "[encoded data removed]",
            "text/plain": [
              "<Figure size 432x288 with 1 Axes>"
            ]
          },
          "metadata": {
            "tags": []
          }
        },
        {
          "output_type": "display_data",
          "data": {
            "image/png": "[encoded data removed]",
            "text/plain": [
              "<Figure size 432x288 with 1 Axes>"
            ]
          },
          "metadata": {
            "tags": []
          }
        }
      ]
    },
    {
      "cell_type": "code",
      "metadata": {
        "id": "c3qtlgttz71h",
        "colab_type": "code",
        "colab": {}
      },
      "source": [
        ""
      ],
      "execution_count": 0,
      "outputs": []
    },
    {
      "cell_type": "code",
      "metadata": {
        "colab_type": "code",
        "id": "vrIx47_nz8Dv",
        "colab": {}
      },
      "source": [
        "test_data['Accident_ID'] = test_data['Accident_ID'].astype('object')"
      ],
      "execution_count": 0,
      "outputs": []
    },
    {
      "cell_type": "code",
      "metadata": {
        "colab_type": "code",
        "id": "WqJACnEVz8Dy",
        "colab": {}
      },
      "source": [
        "test_data['Accident_Type_Code'] = test_data['Accident_Type_Code'].astype('object')"
      ],
      "execution_count": 0,
      "outputs": []
    },
    {
      "cell_type": "code",
      "metadata": {
        "id": "3blhzfQrygUj",
        "colab_type": "code",
        "colab": {}
      },
      "source": [
        "test_data['Adverse_Weather_Metric'] = test_data['Adverse_Weather_Metric'].apply(lambda x: -np.log(x))"
      ],
      "execution_count": 0,
      "outputs": []
    },
    {
      "cell_type": "code",
      "metadata": {
        "id": "Y8yT9ZQzLSEq",
        "colab_type": "code",
        "colab": {}
      },
      "source": [
        "test_data_final=pd.get_dummies(data = test_data,columns=['Accident_Type_Code']).drop(columns=['Accident_Type_Code_1'])"
      ],
      "execution_count": 0,
      "outputs": []
    },
    {
      "cell_type": "code",
      "metadata": {
        "id": "LrBY7yS2LsOK",
        "colab_type": "code",
        "outputId": "1a4a524a-b991-4b1d-c3ec-65a2083b84d8",
        "colab": {
          "base_uri": "https://localhost:8080/",
          "height": 440
        }
      },
      "source": [
        "test_data_final"
      ],
      "execution_count": 0,
      "outputs": [
        {
          "output_type": "execute_result",
          "data": {
            "text/html": [
              "<div>\n",
              "<style scoped>\n",
              "    .dataframe tbody tr th:only-of-type {\n",
              "        vertical-align: middle;\n",
              "    }\n",
              "\n",
              "    .dataframe tbody tr th {\n",
              "        vertical-align: top;\n",
              "    }\n",
              "\n",
              "    .dataframe thead th {\n",
              "        text-align: right;\n",
              "    }\n",
              "</style>\n",
              "<table border=\"1\" class=\"dataframe\">\n",
              "  <thead>\n",
              "    <tr style=\"text-align: right;\">\n",
              "      <th></th>\n",
              "      <th>Safety_Score</th>\n",
              "      <th>Days_Since_Inspection</th>\n",
              "      <th>Total_Safety_Complaints</th>\n",
              "      <th>Control_Metric</th>\n",
              "      <th>Turbulence_In_gforces</th>\n",
              "      <th>Cabin_Temperature</th>\n",
              "      <th>Max_Elevation</th>\n",
              "      <th>Violations</th>\n",
              "      <th>Adverse_Weather_Metric</th>\n",
              "      <th>Accident_ID</th>\n",
              "      <th>Accident_Type_Code_2</th>\n",
              "      <th>Accident_Type_Code_3</th>\n",
              "      <th>Accident_Type_Code_4</th>\n",
              "      <th>Accident_Type_Code_5</th>\n",
              "      <th>Accident_Type_Code_6</th>\n",
              "      <th>Accident_Type_Code_7</th>\n",
              "    </tr>\n",
              "    <tr>\n",
              "      <th>Accident_ID</th>\n",
              "      <th></th>\n",
              "      <th></th>\n",
              "      <th></th>\n",
              "      <th></th>\n",
              "      <th></th>\n",
              "      <th></th>\n",
              "      <th></th>\n",
              "      <th></th>\n",
              "      <th></th>\n",
              "      <th></th>\n",
              "      <th></th>\n",
              "      <th></th>\n",
              "      <th></th>\n",
              "      <th></th>\n",
              "      <th></th>\n",
              "      <th></th>\n",
              "    </tr>\n",
              "  </thead>\n",
              "  <tbody>\n",
              "    <tr>\n",
              "      <th>1</th>\n",
              "      <td>19.497717</td>\n",
              "      <td>16</td>\n",
              "      <td>6</td>\n",
              "      <td>72.151322</td>\n",
              "      <td>0.388959</td>\n",
              "      <td>78.32</td>\n",
              "      <td>37949.724386</td>\n",
              "      <td>2</td>\n",
              "      <td>2.663663</td>\n",
              "      <td>1</td>\n",
              "      <td>0</td>\n",
              "      <td>0</td>\n",
              "      <td>1</td>\n",
              "      <td>0</td>\n",
              "      <td>0</td>\n",
              "      <td>0</td>\n",
              "    </tr>\n",
              "    <tr>\n",
              "      <th>10</th>\n",
              "      <td>58.173516</td>\n",
              "      <td>15</td>\n",
              "      <td>3</td>\n",
              "      <td>64.585232</td>\n",
              "      <td>0.250841</td>\n",
              "      <td>78.60</td>\n",
              "      <td>30194.805567</td>\n",
              "      <td>2</td>\n",
              "      <td>5.886240</td>\n",
              "      <td>10</td>\n",
              "      <td>0</td>\n",
              "      <td>0</td>\n",
              "      <td>0</td>\n",
              "      <td>0</td>\n",
              "      <td>0</td>\n",
              "      <td>1</td>\n",
              "    </tr>\n",
              "    <tr>\n",
              "      <th>14</th>\n",
              "      <td>33.287671</td>\n",
              "      <td>15</td>\n",
              "      <td>3</td>\n",
              "      <td>64.721969</td>\n",
              "      <td>0.336669</td>\n",
              "      <td>86.96</td>\n",
              "      <td>17572.925484</td>\n",
              "      <td>1</td>\n",
              "      <td>5.445335</td>\n",
              "      <td>14</td>\n",
              "      <td>0</td>\n",
              "      <td>0</td>\n",
              "      <td>0</td>\n",
              "      <td>0</td>\n",
              "      <td>1</td>\n",
              "      <td>0</td>\n",
              "    </tr>\n",
              "    <tr>\n",
              "      <th>17</th>\n",
              "      <td>3.287671</td>\n",
              "      <td>21</td>\n",
              "      <td>5</td>\n",
              "      <td>66.362808</td>\n",
              "      <td>0.421775</td>\n",
              "      <td>80.86</td>\n",
              "      <td>40209.186341</td>\n",
              "      <td>2</td>\n",
              "      <td>1.609486</td>\n",
              "      <td>17</td>\n",
              "      <td>0</td>\n",
              "      <td>1</td>\n",
              "      <td>0</td>\n",
              "      <td>0</td>\n",
              "      <td>0</td>\n",
              "      <td>0</td>\n",
              "    </tr>\n",
              "    <tr>\n",
              "      <th>21</th>\n",
              "      <td>10.867580</td>\n",
              "      <td>18</td>\n",
              "      <td>2</td>\n",
              "      <td>56.107566</td>\n",
              "      <td>0.313228</td>\n",
              "      <td>79.22</td>\n",
              "      <td>35495.525408</td>\n",
              "      <td>2</td>\n",
              "      <td>0.726299</td>\n",
              "      <td>21</td>\n",
              "      <td>1</td>\n",
              "      <td>0</td>\n",
              "      <td>0</td>\n",
              "      <td>0</td>\n",
              "      <td>0</td>\n",
              "      <td>0</td>\n",
              "    </tr>\n",
              "    <tr>\n",
              "      <th>...</th>\n",
              "      <td>...</td>\n",
              "      <td>...</td>\n",
              "      <td>...</td>\n",
              "      <td>...</td>\n",
              "      <td>...</td>\n",
              "      <td>...</td>\n",
              "      <td>...</td>\n",
              "      <td>...</td>\n",
              "      <td>...</td>\n",
              "      <td>...</td>\n",
              "      <td>...</td>\n",
              "      <td>...</td>\n",
              "      <td>...</td>\n",
              "      <td>...</td>\n",
              "      <td>...</td>\n",
              "      <td>...</td>\n",
              "    </tr>\n",
              "    <tr>\n",
              "      <th>12484</th>\n",
              "      <td>68.127854</td>\n",
              "      <td>8</td>\n",
              "      <td>11</td>\n",
              "      <td>49.680948</td>\n",
              "      <td>0.470819</td>\n",
              "      <td>77.80</td>\n",
              "      <td>48251.586622</td>\n",
              "      <td>2</td>\n",
              "      <td>0.416444</td>\n",
              "      <td>12484</td>\n",
              "      <td>1</td>\n",
              "      <td>0</td>\n",
              "      <td>0</td>\n",
              "      <td>0</td>\n",
              "      <td>0</td>\n",
              "      <td>0</td>\n",
              "    </tr>\n",
              "    <tr>\n",
              "      <th>12487</th>\n",
              "      <td>54.840183</td>\n",
              "      <td>9</td>\n",
              "      <td>9</td>\n",
              "      <td>71.194166</td>\n",
              "      <td>0.417087</td>\n",
              "      <td>79.77</td>\n",
              "      <td>20761.984416</td>\n",
              "      <td>1</td>\n",
              "      <td>5.296360</td>\n",
              "      <td>12487</td>\n",
              "      <td>0</td>\n",
              "      <td>0</td>\n",
              "      <td>0</td>\n",
              "      <td>0</td>\n",
              "      <td>1</td>\n",
              "      <td>0</td>\n",
              "    </tr>\n",
              "    <tr>\n",
              "      <th>12488</th>\n",
              "      <td>36.712329</td>\n",
              "      <td>14</td>\n",
              "      <td>10</td>\n",
              "      <td>91.203282</td>\n",
              "      <td>0.313950</td>\n",
              "      <td>83.96</td>\n",
              "      <td>36676.100601</td>\n",
              "      <td>2</td>\n",
              "      <td>4.752632</td>\n",
              "      <td>12488</td>\n",
              "      <td>0</td>\n",
              "      <td>0</td>\n",
              "      <td>0</td>\n",
              "      <td>0</td>\n",
              "      <td>1</td>\n",
              "      <td>0</td>\n",
              "    </tr>\n",
              "    <tr>\n",
              "      <th>12491</th>\n",
              "      <td>38.721461</td>\n",
              "      <td>13</td>\n",
              "      <td>14</td>\n",
              "      <td>73.154057</td>\n",
              "      <td>0.275003</td>\n",
              "      <td>77.38</td>\n",
              "      <td>24211.359510</td>\n",
              "      <td>1</td>\n",
              "      <td>5.075731</td>\n",
              "      <td>12491</td>\n",
              "      <td>0</td>\n",
              "      <td>0</td>\n",
              "      <td>0</td>\n",
              "      <td>0</td>\n",
              "      <td>1</td>\n",
              "      <td>0</td>\n",
              "    </tr>\n",
              "    <tr>\n",
              "      <th>12493</th>\n",
              "      <td>36.073059</td>\n",
              "      <td>11</td>\n",
              "      <td>1</td>\n",
              "      <td>60.665451</td>\n",
              "      <td>0.256250</td>\n",
              "      <td>84.56</td>\n",
              "      <td>35920.146239</td>\n",
              "      <td>0</td>\n",
              "      <td>3.712801</td>\n",
              "      <td>12493</td>\n",
              "      <td>0</td>\n",
              "      <td>0</td>\n",
              "      <td>0</td>\n",
              "      <td>1</td>\n",
              "      <td>0</td>\n",
              "      <td>0</td>\n",
              "    </tr>\n",
              "  </tbody>\n",
              "</table>\n",
              "<p>2500 rows × 16 columns</p>\n",
              "</div>"
            ],
            "text/plain": [
              "             Safety_Score  ...  Accident_Type_Code_7\n",
              "Accident_ID                ...                      \n",
              "1               19.497717  ...                     0\n",
              "10              58.173516  ...                     1\n",
              "14              33.287671  ...                     0\n",
              "17               3.287671  ...                     0\n",
              "21              10.867580  ...                     0\n",
              "...                   ...  ...                   ...\n",
              "12484           68.127854  ...                     0\n",
              "12487           54.840183  ...                     0\n",
              "12488           36.712329  ...                     0\n",
              "12491           38.721461  ...                     0\n",
              "12493           36.073059  ...                     0\n",
              "\n",
              "[2500 rows x 16 columns]"
            ]
          },
          "metadata": {
            "tags": []
          },
          "execution_count": 46
        }
      ]
    },
    {
      "cell_type": "code",
      "metadata": {
        "id": "_XJyDPi6c_mS",
        "colab_type": "code",
        "colab": {}
      },
      "source": [
        "PREDICTED_CLASSES1 = model.predict_classes(preprocessing.scale(test_data_final.drop(columns=['Accident_ID'])))"
      ],
      "execution_count": 0,
      "outputs": []
    },
    {
      "cell_type": "code",
      "metadata": {
        "id": "MSnomBJVMOkX",
        "colab_type": "code",
        "outputId": "3c223fd6-c17e-440a-9f2f-938d4aed2f63",
        "colab": {
          "base_uri": "https://localhost:8080/",
          "height": 115
        }
      },
      "source": [
        "test_data_final.columns"
      ],
      "execution_count": 0,
      "outputs": [
        {
          "output_type": "execute_result",
          "data": {
            "text/plain": [
              "Index(['Safety_Score', 'Days_Since_Inspection', 'Total_Safety_Complaints',\n",
              "       'Control_Metric', 'Turbulence_In_gforces', 'Cabin_Temperature',\n",
              "       'Max_Elevation', 'Violations', 'Adverse_Weather_Metric', 'Accident_ID',\n",
              "       'Accident_Type_Code_2', 'Accident_Type_Code_3', 'Accident_Type_Code_4',\n",
              "       'Accident_Type_Code_5', 'Accident_Type_Code_6', 'Accident_Type_Code_7'],\n",
              "      dtype='object')"
            ]
          },
          "metadata": {
            "tags": []
          },
          "execution_count": 48
        }
      ]
    },
    {
      "cell_type": "code",
      "metadata": {
        "id": "3HzEtKskMR7I",
        "colab_type": "code",
        "outputId": "3ee3c24a-1b9b-4046-8724-2e43b1da6dfc",
        "colab": {
          "base_uri": "https://localhost:8080/",
          "height": 131
        }
      },
      "source": [
        "train_data_final.columns"
      ],
      "execution_count": 0,
      "outputs": [
        {
          "output_type": "execute_result",
          "data": {
            "text/plain": [
              "Index(['Severity', 'Safety_Score', 'Days_Since_Inspection',\n",
              "       'Total_Safety_Complaints', 'Control_Metric', 'Turbulence_In_gforces',\n",
              "       'Cabin_Temperature', 'Max_Elevation', 'Violations',\n",
              "       'Adverse_Weather_Metric', 'Accident_ID', 'Accident_Type_Code_1',\n",
              "       'Accident_Type_Code_2', 'Accident_Type_Code_3', 'Accident_Type_Code_4',\n",
              "       'Accident_Type_Code_5', 'Accident_Type_Code_6', 'Accident_Type_Code_7'],\n",
              "      dtype='object')"
            ]
          },
          "metadata": {
            "tags": []
          },
          "execution_count": 49
        }
      ]
    },
    {
      "cell_type": "code",
      "metadata": {
        "id": "fOUbBi4NeXft",
        "colab_type": "code",
        "colab": {}
      },
      "source": [
        "p=pd.Series(encoder.inverse_transform(PREDICTED_CLASSES1))"
      ],
      "execution_count": 0,
      "outputs": []
    },
    {
      "cell_type": "code",
      "metadata": {
        "id": "heeiGwCTfMQ0",
        "colab_type": "code",
        "colab": {}
      },
      "source": [
        "p.index=test_data.index"
      ],
      "execution_count": 0,
      "outputs": []
    },
    {
      "cell_type": "code",
      "metadata": {
        "id": "Z_z4AUrlhPm5",
        "colab_type": "code",
        "outputId": "a427cc25-3e72-46aa-cfc9-005394c5314c",
        "colab": {
          "base_uri": "https://localhost:8080/",
          "height": 420
        }
      },
      "source": [
        "pd.DataFrame(p, columns=['Severity'])"
      ],
      "execution_count": 0,
      "outputs": [
        {
          "output_type": "execute_result",
          "data": {
            "text/html": [
              "<div>\n",
              "<style scoped>\n",
              "    .dataframe tbody tr th:only-of-type {\n",
              "        vertical-align: middle;\n",
              "    }\n",
              "\n",
              "    .dataframe tbody tr th {\n",
              "        vertical-align: top;\n",
              "    }\n",
              "\n",
              "    .dataframe thead th {\n",
              "        text-align: right;\n",
              "    }\n",
              "</style>\n",
              "<table border=\"1\" class=\"dataframe\">\n",
              "  <thead>\n",
              "    <tr style=\"text-align: right;\">\n",
              "      <th></th>\n",
              "      <th>Severity</th>\n",
              "    </tr>\n",
              "    <tr>\n",
              "      <th>Accident_ID</th>\n",
              "      <th></th>\n",
              "    </tr>\n",
              "  </thead>\n",
              "  <tbody>\n",
              "    <tr>\n",
              "      <th>1</th>\n",
              "      <td>Highly_Fatal_And_Damaging</td>\n",
              "    </tr>\n",
              "    <tr>\n",
              "      <th>10</th>\n",
              "      <td>Significant_Damage_And_Fatalities</td>\n",
              "    </tr>\n",
              "    <tr>\n",
              "      <th>14</th>\n",
              "      <td>Significant_Damage_And_Serious_Injuries</td>\n",
              "    </tr>\n",
              "    <tr>\n",
              "      <th>17</th>\n",
              "      <td>Highly_Fatal_And_Damaging</td>\n",
              "    </tr>\n",
              "    <tr>\n",
              "      <th>21</th>\n",
              "      <td>Significant_Damage_And_Fatalities</td>\n",
              "    </tr>\n",
              "    <tr>\n",
              "      <th>...</th>\n",
              "      <td>...</td>\n",
              "    </tr>\n",
              "    <tr>\n",
              "      <th>12484</th>\n",
              "      <td>Highly_Fatal_And_Damaging</td>\n",
              "    </tr>\n",
              "    <tr>\n",
              "      <th>12487</th>\n",
              "      <td>Significant_Damage_And_Serious_Injuries</td>\n",
              "    </tr>\n",
              "    <tr>\n",
              "      <th>12488</th>\n",
              "      <td>Significant_Damage_And_Serious_Injuries</td>\n",
              "    </tr>\n",
              "    <tr>\n",
              "      <th>12491</th>\n",
              "      <td>Significant_Damage_And_Serious_Injuries</td>\n",
              "    </tr>\n",
              "    <tr>\n",
              "      <th>12493</th>\n",
              "      <td>Significant_Damage_And_Serious_Injuries</td>\n",
              "    </tr>\n",
              "  </tbody>\n",
              "</table>\n",
              "<p>2500 rows × 1 columns</p>\n",
              "</div>"
            ],
            "text/plain": [
              "                                            Severity\n",
              "Accident_ID                                         \n",
              "1                          Highly_Fatal_And_Damaging\n",
              "10                 Significant_Damage_And_Fatalities\n",
              "14           Significant_Damage_And_Serious_Injuries\n",
              "17                         Highly_Fatal_And_Damaging\n",
              "21                 Significant_Damage_And_Fatalities\n",
              "...                                              ...\n",
              "12484                      Highly_Fatal_And_Damaging\n",
              "12487        Significant_Damage_And_Serious_Injuries\n",
              "12488        Significant_Damage_And_Serious_Injuries\n",
              "12491        Significant_Damage_And_Serious_Injuries\n",
              "12493        Significant_Damage_And_Serious_Injuries\n",
              "\n",
              "[2500 rows x 1 columns]"
            ]
          },
          "metadata": {
            "tags": []
          },
          "execution_count": 52
        }
      ]
    },
    {
      "cell_type": "code",
      "metadata": {
        "id": "GCKVJkZifMXy",
        "colab_type": "code",
        "colab": {}
      },
      "source": [
        "pd.DataFrame(p, columns=['Severity']).to_csv('submission.csv')"
      ],
      "execution_count": 0,
      "outputs": []
    }
  ]
}
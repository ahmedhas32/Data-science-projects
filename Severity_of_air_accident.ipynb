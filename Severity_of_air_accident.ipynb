{
  "nbformat": 4,
  "nbformat_minor": 0,
  "metadata": {
    "colab": {
      "name": "Copy of Severity_of_air_accident.ipynb",
      "provenance": [],
      "collapsed_sections": [],
      "include_colab_link": true
    },
    "kernelspec": {
      "name": "python3",
      "display_name": "Python 3"
    },
    "accelerator": "GPU"
  },
  "cells": [
    {
      "cell_type": "markdown",
      "metadata": {
        "id": "view-in-github",
        "colab_type": "text"
      },
      "source": [
        "<a href=\"https://colab.research.google.com/github/ahmedhas32/Data-science-projects/blob/master/Severity_of_air_accident.ipynb\" target=\"_parent\"><img src=\"https://colab.research.google.com/assets/colab-badge.svg\" alt=\"Open In Colab\"/></a>"
      ]
    },
    {
      "cell_type": "markdown",
      "metadata": {
        "id": "F0H1aul2AGZz",
        "colab_type": "text"
      },
      "source": [
        "## First : We load neccessary libraries"
      ]
    },
    {
      "cell_type": "code",
      "metadata": {
        "id": "5vbasgQTi_jz",
        "colab_type": "code",
        "colab": {}
      },
      "source": [
        "import xgboost\n",
        "import csv as csv\n",
        "from xgboost import plot_importance\n",
        "from matplotlib import pyplot\n",
        "from sklearn.model_selection import cross_val_score,KFold\n",
        "from sklearn.metrics import mean_absolute_error\n",
        "import matplotlib.pyplot as plt\n",
        "from scipy.stats import skew\n",
        "from collections import OrderedDict\n",
        "from sklearn import preprocessing\n"
      ],
      "execution_count": 0,
      "outputs": []
    },
    {
      "cell_type": "code",
      "metadata": {
        "id": "g_Ydxvuz-oq2",
        "colab_type": "code",
        "outputId": "70962bbd-6cda-4be1-8241-d43cea46e551",
        "colab": {
          "base_uri": "https://localhost:8080/",
          "height": 51
        }
      },
      "source": [
        "import numpy as np\n",
        "import pandas as pd\n",
        "import matplotlib.pyplot as plt\n",
        "import seaborn as sns\n",
        "import warnings\n",
        "warnings.filterwarnings(\"ignore\")"
      ],
      "execution_count": 0,
      "outputs": [
        {
          "output_type": "stream",
          "text": [
            "/usr/local/lib/python3.6/dist-packages/statsmodels/tools/_testing.py:19: FutureWarning: pandas.util.testing is deprecated. Use the functions in the public API at pandas.testing instead.\n",
            "  import pandas.util.testing as tm\n"
          ],
          "name": "stderr"
        }
      ]
    },
    {
      "cell_type": "code",
      "metadata": {
        "id": "OaL7xM_V9zyW",
        "colab_type": "code",
        "colab": {}
      },
      "source": [
        "from sklearn.preprocessing import LabelEncoder"
      ],
      "execution_count": 0,
      "outputs": []
    },
    {
      "cell_type": "code",
      "metadata": {
        "id": "P7f7Xg5dO0WO",
        "colab_type": "code",
        "outputId": "17dc35da-37a9-4a46-9d94-1824ffe009bf",
        "colab": {
          "base_uri": "https://localhost:8080/",
          "height": 34
        }
      },
      "source": [
        "import keras\n",
        "from keras.wrappers.scikit_learn import KerasRegressor\n",
        "from keras.models import Sequential\n",
        "from keras.layers import Dense , Dropout\n",
        "from keras.wrappers.scikit_learn import KerasClassifier\n",
        "from keras.utils import np_utils\n",
        "from sklearn.model_selection import cross_val_score\n",
        "from sklearn.model_selection import KFold\n",
        "from sklearn.preprocessing import LabelEncoder\n",
        "from sklearn.pipeline import Pipeline\n"
      ],
      "execution_count": 0,
      "outputs": [
        {
          "output_type": "stream",
          "text": [
            "Using TensorFlow backend.\n"
          ],
          "name": "stderr"
        }
      ]
    },
    {
      "cell_type": "code",
      "metadata": {
        "id": "IWoG57qA92sQ",
        "colab_type": "code",
        "colab": {}
      },
      "source": [
        "from sklearn.model_selection import GridSearchCV, train_test_split\n",
        "from xgboost import XGBRegressor\n",
        "\n",
        "from sklearn.metrics import r2_score\n",
        "from sklearn.metrics import mean_squared_error"
      ],
      "execution_count": 0,
      "outputs": []
    },
    {
      "cell_type": "code",
      "metadata": {
        "id": "UqeD0EUZkQ5k",
        "colab_type": "code",
        "colab": {}
      },
      "source": [
        "import tensorflow.keras.layers as Layers\n",
        "import tensorflow.keras.activations as Actications\n",
        "import tensorflow.keras.models as Models\n",
        "import tensorflow.keras.optimizers as Optimizer\n",
        "import tensorflow.keras.metrics as Metrics\n",
        "import tensorflow.keras.utils as Utils\n",
        "from keras.utils.vis_utils import model_to_dot\n",
        "from keras import backend as K\n"
      ],
      "execution_count": 0,
      "outputs": []
    },
    {
      "cell_type": "markdown",
      "metadata": {
        "id": "6v6j26OLAM70",
        "colab_type": "text"
      },
      "source": [
        "## Second : Loading data"
      ]
    },
    {
      "cell_type": "code",
      "metadata": {
        "id": "AMVrLoaDkmQs",
        "colab_type": "code",
        "outputId": "0fc4ab5f-2d0b-4329-bf16-754ef20c5f60",
        "colab": {
          "base_uri": "https://localhost:8080/",
          "height": 122
        }
      },
      "source": [
        "from google.colab import drive\n",
        "drive.mount('/content/drive')"
      ],
      "execution_count": 0,
      "outputs": [
        {
          "output_type": "stream",
          "text": [
            "Go to this URL in a browser: https://accounts.google.com/o/oauth2/auth?client_id=947318989803-6bn6qk8qdgf4n4g3pfee6491hc0brc4i.apps.googleusercontent.com&redirect_uri=urn%3aietf%3awg%3aoauth%3a2.0%3aoob&response_type=code&scope=email%20https%3a%2f%2fwww.googleapis.com%2fauth%2fdocs.test%20https%3a%2f%2fwww.googleapis.com%2fauth%2fdrive%20https%3a%2f%2fwww.googleapis.com%2fauth%2fdrive.photos.readonly%20https%3a%2f%2fwww.googleapis.com%2fauth%2fpeopleapi.readonly\n",
            "\n",
            "Enter your authorization code:\n",
            "··········\n",
            "Mounted at /content/drive\n"
          ],
          "name": "stdout"
        }
      ]
    },
    {
      "cell_type": "code",
      "metadata": {
        "id": "gbM-x_Y1lH2V",
        "colab_type": "code",
        "colab": {}
      },
      "source": [
        "train_data=pd.read_csv('/content/drive/My Drive/3c055e822d5b11ea/train.csv')"
      ],
      "execution_count": 0,
      "outputs": []
    },
    {
      "cell_type": "code",
      "metadata": {
        "id": "6xcrYI_kmpd2",
        "colab_type": "code",
        "colab": {}
      },
      "source": [
        "test_data=pd.read_csv('/content/drive/My Drive/3c055e822d5b11ea/test.csv')"
      ],
      "execution_count": 0,
      "outputs": []
    },
    {
      "cell_type": "markdown",
      "metadata": {
        "id": "9au3MGMaARTR",
        "colab_type": "text"
      },
      "source": [
        "### Let's have some quick impression about how data is structured."
      ]
    },
    {
      "cell_type": "code",
      "metadata": {
        "id": "uS5eSufcm1cj",
        "colab_type": "code",
        "outputId": "892ac854-148b-452c-b0eb-99efd069a4f1",
        "colab": {
          "base_uri": "https://localhost:8080/",
          "height": 340
        }
      },
      "source": [
        "train_data.info()"
      ],
      "execution_count": 0,
      "outputs": [
        {
          "output_type": "stream",
          "text": [
            "<class 'pandas.core.frame.DataFrame'>\n",
            "RangeIndex: 10000 entries, 0 to 9999\n",
            "Data columns (total 12 columns):\n",
            " #   Column                   Non-Null Count  Dtype  \n",
            "---  ------                   --------------  -----  \n",
            " 0   Severity                 10000 non-null  object \n",
            " 1   Safety_Score             10000 non-null  float64\n",
            " 2   Days_Since_Inspection    10000 non-null  int64  \n",
            " 3   Total_Safety_Complaints  10000 non-null  int64  \n",
            " 4   Control_Metric           10000 non-null  float64\n",
            " 5   Turbulence_In_gforces    10000 non-null  float64\n",
            " 6   Cabin_Temperature        10000 non-null  float64\n",
            " 7   Accident_Type_Code       10000 non-null  int64  \n",
            " 8   Max_Elevation            10000 non-null  float64\n",
            " 9   Violations               10000 non-null  int64  \n",
            " 10  Adverse_Weather_Metric   10000 non-null  float64\n",
            " 11  Accident_ID              10000 non-null  int64  \n",
            "dtypes: float64(6), int64(5), object(1)\n",
            "memory usage: 937.6+ KB\n"
          ],
          "name": "stdout"
        }
      ]
    },
    {
      "cell_type": "markdown",
      "metadata": {
        "id": "fOxaVVMrAaH0",
        "colab_type": "text"
      },
      "source": [
        "We notice that we have some columns  'Accident_ID' , and 'Accident_Type_Code' are stored as numeric , desspite they are unique IDs so they should be of type 'Object' in the dataset"
      ]
    },
    {
      "cell_type": "code",
      "metadata": {
        "id": "FDWOTCuTsy32",
        "colab_type": "code",
        "colab": {}
      },
      "source": [
        "train_data['Accident_ID'] = train_data['Accident_ID'].astype('object')"
      ],
      "execution_count": 0,
      "outputs": []
    },
    {
      "cell_type": "code",
      "metadata": {
        "id": "DSeHGlDrsbNG",
        "colab_type": "code",
        "colab": {}
      },
      "source": [
        "train_data['Accident_Type_Code'] = train_data['Accident_Type_Code'].astype('object')"
      ],
      "execution_count": 0,
      "outputs": []
    },
    {
      "cell_type": "markdown",
      "metadata": {
        "id": "YZLGs1xoBvH0",
        "colab_type": "text"
      },
      "source": [
        "then , let's have quick describtives about the data "
      ]
    },
    {
      "cell_type": "code",
      "metadata": {
        "id": "N7IqVTXem5FE",
        "colab_type": "code",
        "outputId": "8173a686-3fbb-4482-fac8-234ca98ba5cf",
        "colab": {
          "base_uri": "https://localhost:8080/",
          "height": 224
        }
      },
      "source": [
        "train_data.head()"
      ],
      "execution_count": 0,
      "outputs": [
        {
          "output_type": "execute_result",
          "data": {
            "text/html": [
              "<div>\n",
              "<style scoped>\n",
              "    .dataframe tbody tr th:only-of-type {\n",
              "        vertical-align: middle;\n",
              "    }\n",
              "\n",
              "    .dataframe tbody tr th {\n",
              "        vertical-align: top;\n",
              "    }\n",
              "\n",
              "    .dataframe thead th {\n",
              "        text-align: right;\n",
              "    }\n",
              "</style>\n",
              "<table border=\"1\" class=\"dataframe\">\n",
              "  <thead>\n",
              "    <tr style=\"text-align: right;\">\n",
              "      <th></th>\n",
              "      <th>Severity</th>\n",
              "      <th>Safety_Score</th>\n",
              "      <th>Days_Since_Inspection</th>\n",
              "      <th>Total_Safety_Complaints</th>\n",
              "      <th>Control_Metric</th>\n",
              "      <th>Turbulence_In_gforces</th>\n",
              "      <th>Cabin_Temperature</th>\n",
              "      <th>Accident_Type_Code</th>\n",
              "      <th>Max_Elevation</th>\n",
              "      <th>Violations</th>\n",
              "      <th>Adverse_Weather_Metric</th>\n",
              "      <th>Accident_ID</th>\n",
              "    </tr>\n",
              "  </thead>\n",
              "  <tbody>\n",
              "    <tr>\n",
              "      <th>0</th>\n",
              "      <td>Minor_Damage_And_Injuries</td>\n",
              "      <td>49.223744</td>\n",
              "      <td>14</td>\n",
              "      <td>22</td>\n",
              "      <td>71.285324</td>\n",
              "      <td>0.272118</td>\n",
              "      <td>78.04</td>\n",
              "      <td>2</td>\n",
              "      <td>31335.476824</td>\n",
              "      <td>3</td>\n",
              "      <td>0.424352</td>\n",
              "      <td>7570</td>\n",
              "    </tr>\n",
              "    <tr>\n",
              "      <th>1</th>\n",
              "      <td>Minor_Damage_And_Injuries</td>\n",
              "      <td>62.465753</td>\n",
              "      <td>10</td>\n",
              "      <td>27</td>\n",
              "      <td>72.288058</td>\n",
              "      <td>0.423939</td>\n",
              "      <td>84.54</td>\n",
              "      <td>2</td>\n",
              "      <td>26024.711057</td>\n",
              "      <td>2</td>\n",
              "      <td>0.352350</td>\n",
              "      <td>12128</td>\n",
              "    </tr>\n",
              "    <tr>\n",
              "      <th>2</th>\n",
              "      <td>Significant_Damage_And_Fatalities</td>\n",
              "      <td>63.059361</td>\n",
              "      <td>13</td>\n",
              "      <td>16</td>\n",
              "      <td>66.362808</td>\n",
              "      <td>0.322604</td>\n",
              "      <td>78.86</td>\n",
              "      <td>7</td>\n",
              "      <td>39269.053927</td>\n",
              "      <td>3</td>\n",
              "      <td>0.003364</td>\n",
              "      <td>2181</td>\n",
              "    </tr>\n",
              "    <tr>\n",
              "      <th>3</th>\n",
              "      <td>Significant_Damage_And_Serious_Injuries</td>\n",
              "      <td>48.082192</td>\n",
              "      <td>11</td>\n",
              "      <td>9</td>\n",
              "      <td>74.703737</td>\n",
              "      <td>0.337029</td>\n",
              "      <td>81.79</td>\n",
              "      <td>3</td>\n",
              "      <td>42771.499200</td>\n",
              "      <td>1</td>\n",
              "      <td>0.211728</td>\n",
              "      <td>5946</td>\n",
              "    </tr>\n",
              "    <tr>\n",
              "      <th>4</th>\n",
              "      <td>Significant_Damage_And_Fatalities</td>\n",
              "      <td>26.484018</td>\n",
              "      <td>13</td>\n",
              "      <td>25</td>\n",
              "      <td>47.948952</td>\n",
              "      <td>0.541140</td>\n",
              "      <td>77.16</td>\n",
              "      <td>3</td>\n",
              "      <td>35509.228515</td>\n",
              "      <td>2</td>\n",
              "      <td>0.176883</td>\n",
              "      <td>9054</td>\n",
              "    </tr>\n",
              "  </tbody>\n",
              "</table>\n",
              "</div>"
            ],
            "text/plain": [
              "                                  Severity  ...  Accident_ID\n",
              "0                Minor_Damage_And_Injuries  ...         7570\n",
              "1                Minor_Damage_And_Injuries  ...        12128\n",
              "2        Significant_Damage_And_Fatalities  ...         2181\n",
              "3  Significant_Damage_And_Serious_Injuries  ...         5946\n",
              "4        Significant_Damage_And_Fatalities  ...         9054\n",
              "\n",
              "[5 rows x 12 columns]"
            ]
          },
          "metadata": {
            "tags": []
          },
          "execution_count": 13
        }
      ]
    },
    {
      "cell_type": "code",
      "metadata": {
        "id": "HM5xQnyAnS4E",
        "colab_type": "code",
        "outputId": "96895b7c-a1a6-4d4d-f35e-c38cc8998f18",
        "colab": {
          "base_uri": "https://localhost:8080/",
          "height": 328
        }
      },
      "source": [
        "train_data.describe().T"
      ],
      "execution_count": 0,
      "outputs": [
        {
          "output_type": "execute_result",
          "data": {
            "text/html": [
              "<div>\n",
              "<style scoped>\n",
              "    .dataframe tbody tr th:only-of-type {\n",
              "        vertical-align: middle;\n",
              "    }\n",
              "\n",
              "    .dataframe tbody tr th {\n",
              "        vertical-align: top;\n",
              "    }\n",
              "\n",
              "    .dataframe thead th {\n",
              "        text-align: right;\n",
              "    }\n",
              "</style>\n",
              "<table border=\"1\" class=\"dataframe\">\n",
              "  <thead>\n",
              "    <tr style=\"text-align: right;\">\n",
              "      <th></th>\n",
              "      <th>count</th>\n",
              "      <th>mean</th>\n",
              "      <th>std</th>\n",
              "      <th>min</th>\n",
              "      <th>25%</th>\n",
              "      <th>50%</th>\n",
              "      <th>75%</th>\n",
              "      <th>max</th>\n",
              "    </tr>\n",
              "  </thead>\n",
              "  <tbody>\n",
              "    <tr>\n",
              "      <th>Safety_Score</th>\n",
              "      <td>10000.0</td>\n",
              "      <td>41.876406</td>\n",
              "      <td>16.138072</td>\n",
              "      <td>0.000000</td>\n",
              "      <td>30.593607</td>\n",
              "      <td>41.278539</td>\n",
              "      <td>52.511416</td>\n",
              "      <td>100.000000</td>\n",
              "    </tr>\n",
              "    <tr>\n",
              "      <th>Days_Since_Inspection</th>\n",
              "      <td>10000.0</td>\n",
              "      <td>12.931100</td>\n",
              "      <td>3.539803</td>\n",
              "      <td>1.000000</td>\n",
              "      <td>11.000000</td>\n",
              "      <td>13.000000</td>\n",
              "      <td>15.000000</td>\n",
              "      <td>23.000000</td>\n",
              "    </tr>\n",
              "    <tr>\n",
              "      <th>Total_Safety_Complaints</th>\n",
              "      <td>10000.0</td>\n",
              "      <td>6.564300</td>\n",
              "      <td>6.971982</td>\n",
              "      <td>0.000000</td>\n",
              "      <td>2.000000</td>\n",
              "      <td>4.000000</td>\n",
              "      <td>9.000000</td>\n",
              "      <td>54.000000</td>\n",
              "    </tr>\n",
              "    <tr>\n",
              "      <th>Control_Metric</th>\n",
              "      <td>10000.0</td>\n",
              "      <td>65.145324</td>\n",
              "      <td>11.882934</td>\n",
              "      <td>0.000000</td>\n",
              "      <td>56.927985</td>\n",
              "      <td>65.587967</td>\n",
              "      <td>73.336372</td>\n",
              "      <td>100.000000</td>\n",
              "    </tr>\n",
              "    <tr>\n",
              "      <th>Turbulence_In_gforces</th>\n",
              "      <td>10000.0</td>\n",
              "      <td>0.381495</td>\n",
              "      <td>0.121301</td>\n",
              "      <td>0.134000</td>\n",
              "      <td>0.293665</td>\n",
              "      <td>0.365879</td>\n",
              "      <td>0.451346</td>\n",
              "      <td>0.882648</td>\n",
              "    </tr>\n",
              "    <tr>\n",
              "      <th>Cabin_Temperature</th>\n",
              "      <td>10000.0</td>\n",
              "      <td>79.969331</td>\n",
              "      <td>2.759739</td>\n",
              "      <td>74.740000</td>\n",
              "      <td>77.960000</td>\n",
              "      <td>79.540000</td>\n",
              "      <td>81.560000</td>\n",
              "      <td>97.510000</td>\n",
              "    </tr>\n",
              "    <tr>\n",
              "      <th>Max_Elevation</th>\n",
              "      <td>10000.0</td>\n",
              "      <td>32001.803282</td>\n",
              "      <td>9431.995196</td>\n",
              "      <td>831.695553</td>\n",
              "      <td>25757.636908</td>\n",
              "      <td>32060.336419</td>\n",
              "      <td>38380.641513</td>\n",
              "      <td>64297.651218</td>\n",
              "    </tr>\n",
              "    <tr>\n",
              "      <th>Violations</th>\n",
              "      <td>10000.0</td>\n",
              "      <td>2.012200</td>\n",
              "      <td>1.039980</td>\n",
              "      <td>0.000000</td>\n",
              "      <td>1.000000</td>\n",
              "      <td>2.000000</td>\n",
              "      <td>3.000000</td>\n",
              "      <td>5.000000</td>\n",
              "    </tr>\n",
              "    <tr>\n",
              "      <th>Adverse_Weather_Metric</th>\n",
              "      <td>10000.0</td>\n",
              "      <td>0.255635</td>\n",
              "      <td>0.381128</td>\n",
              "      <td>0.000316</td>\n",
              "      <td>0.012063</td>\n",
              "      <td>0.074467</td>\n",
              "      <td>0.354059</td>\n",
              "      <td>2.365378</td>\n",
              "    </tr>\n",
              "  </tbody>\n",
              "</table>\n",
              "</div>"
            ],
            "text/plain": [
              "                           count          mean  ...           75%           max\n",
              "Safety_Score             10000.0     41.876406  ...     52.511416    100.000000\n",
              "Days_Since_Inspection    10000.0     12.931100  ...     15.000000     23.000000\n",
              "Total_Safety_Complaints  10000.0      6.564300  ...      9.000000     54.000000\n",
              "Control_Metric           10000.0     65.145324  ...     73.336372    100.000000\n",
              "Turbulence_In_gforces    10000.0      0.381495  ...      0.451346      0.882648\n",
              "Cabin_Temperature        10000.0     79.969331  ...     81.560000     97.510000\n",
              "Max_Elevation            10000.0  32001.803282  ...  38380.641513  64297.651218\n",
              "Violations               10000.0      2.012200  ...      3.000000      5.000000\n",
              "Adverse_Weather_Metric   10000.0      0.255635  ...      0.354059      2.365378\n",
              "\n",
              "[9 rows x 8 columns]"
            ]
          },
          "metadata": {
            "tags": []
          },
          "execution_count": 14
        }
      ]
    },
    {
      "cell_type": "markdown",
      "metadata": {
        "id": "5rh3l3RACFUQ",
        "colab_type": "text"
      },
      "source": [
        "We notice that generally data has no outliers or sharp skewness that we need to get rid of."
      ]
    },
    {
      "cell_type": "markdown",
      "metadata": {
        "id": "AWwk0i8iCRKV",
        "colab_type": "text"
      },
      "source": [
        "Let's check object fields:"
      ]
    },
    {
      "cell_type": "code",
      "metadata": {
        "id": "86uBZKs8ndxs",
        "colab_type": "code",
        "outputId": "a23581a4-d43a-47be-a2b2-eeb7597fe473",
        "colab": {
          "base_uri": "https://localhost:8080/",
          "height": 142
        }
      },
      "source": [
        "train_data.describe(include=['object']).T"
      ],
      "execution_count": 0,
      "outputs": [
        {
          "output_type": "execute_result",
          "data": {
            "text/html": [
              "<div>\n",
              "<style scoped>\n",
              "    .dataframe tbody tr th:only-of-type {\n",
              "        vertical-align: middle;\n",
              "    }\n",
              "\n",
              "    .dataframe tbody tr th {\n",
              "        vertical-align: top;\n",
              "    }\n",
              "\n",
              "    .dataframe thead th {\n",
              "        text-align: right;\n",
              "    }\n",
              "</style>\n",
              "<table border=\"1\" class=\"dataframe\">\n",
              "  <thead>\n",
              "    <tr style=\"text-align: right;\">\n",
              "      <th></th>\n",
              "      <th>count</th>\n",
              "      <th>unique</th>\n",
              "      <th>top</th>\n",
              "      <th>freq</th>\n",
              "    </tr>\n",
              "  </thead>\n",
              "  <tbody>\n",
              "    <tr>\n",
              "      <th>Severity</th>\n",
              "      <td>10000</td>\n",
              "      <td>4</td>\n",
              "      <td>Highly_Fatal_And_Damaging</td>\n",
              "      <td>3049</td>\n",
              "    </tr>\n",
              "    <tr>\n",
              "      <th>Accident_Type_Code</th>\n",
              "      <td>10000</td>\n",
              "      <td>7</td>\n",
              "      <td>4</td>\n",
              "      <td>2057</td>\n",
              "    </tr>\n",
              "    <tr>\n",
              "      <th>Accident_ID</th>\n",
              "      <td>10000</td>\n",
              "      <td>10000</td>\n",
              "      <td>12500</td>\n",
              "      <td>1</td>\n",
              "    </tr>\n",
              "  </tbody>\n",
              "</table>\n",
              "</div>"
            ],
            "text/plain": [
              "                    count unique                        top  freq\n",
              "Severity            10000      4  Highly_Fatal_And_Damaging  3049\n",
              "Accident_Type_Code  10000      7                          4  2057\n",
              "Accident_ID         10000  10000                      12500     1"
            ]
          },
          "metadata": {
            "tags": []
          },
          "execution_count": 15
        }
      ]
    },
    {
      "cell_type": "markdown",
      "metadata": {
        "id": "AVagK9grCYRp",
        "colab_type": "text"
      },
      "source": [
        "Now we explore more our predicted column \"Severity\" :"
      ]
    },
    {
      "cell_type": "code",
      "metadata": {
        "id": "WmugQKs-LWHF",
        "colab_type": "code",
        "outputId": "9c3063cb-044c-430a-ec58-9eadab50f6da",
        "colab": {
          "base_uri": "https://localhost:8080/",
          "height": 481
        }
      },
      "source": [
        "train_data['Severity'].value_counts(normalize=True).plot(kind='bar')"
      ],
      "execution_count": 0,
      "outputs": [
        {
          "output_type": "execute_result",
          "data": {
            "text/plain": [
              "<matplotlib.axes._subplots.AxesSubplot at 0x7f67ea393e10>"
            ]
          },
          "metadata": {
            "tags": []
          },
          "execution_count": 16
        },
        {
          "output_type": "display_data",
          "data": {
            "image/png": "[encoded data removed]",
            "text/plain": [
              "<Figure size 432x288 with 1 Axes>"
            ]
          },
          "metadata": {
            "tags": [],
            "needs_background": "light"
          }
        }
      ]
    },
    {
      "cell_type": "markdown",
      "metadata": {
        "id": "SQGM-ffmCw5B",
        "colab_type": "text"
      },
      "source": [
        "We notice that it is distributed quite fairly between the 4 categories , despite the highest found category is  \"Highly fatal and damaging\"\n",
        "So the model we will get is expected to perform quite well aganist any other test set"
      ]
    },
    {
      "cell_type": "markdown",
      "metadata": {
        "id": "pxX_skgODI8A",
        "colab_type": "text"
      },
      "source": [
        "then , we explore how other columns (predictors) are disttributed"
      ]
    },
    {
      "cell_type": "code",
      "metadata": {
        "id": "6xEZ3nvawxbY",
        "colab_type": "code",
        "outputId": "684ea86f-fb48-488d-be89-ede0e83074b5",
        "colab": {
          "base_uri": "https://localhost:8080/",
          "height": 1000
        }
      },
      "source": [
        "for i in train_data.columns :\n",
        "  if train_data.dtypes[i] != 'object' :\n",
        "    sns.distplot(train_data[i])\n",
        "    plt.show()\n",
        "  else : \n",
        "    continue"
      ],
      "execution_count": 0,
      "outputs": [
        {
          "output_type": "display_data",
          "data": {
            "image/png": "[encoded data removed]",
            "text/plain": [
              "<Figure size 432x288 with 1 Axes>"
            ]
          },
          "metadata": {
            "tags": [],
            "needs_background": "light"
          }
        },
        {
          "output_type": "display_data",
          "data": {
            "image/png": "[encoded data removed]",
            "text/plain": [
              "<Figure size 432x288 with 1 Axes>"
            ]
          },
          "metadata": {
            "tags": [],
            "needs_background": "light"
          }
        },
        {
          "output_type": "display_data",
          "data": {
            "image/png": "[encoded data removed]",
            "text/plain": [
              "<Figure size 432x288 with 1 Axes>"
            ]
          },
          "metadata": {
            "tags": [],
            "needs_background": "light"
          }
        },
        {
          "output_type": "display_data",
          "data": {
            "image/png": "[encoded data removed]",
            "text/plain": [
              "<Figure size 432x288 with 1 Axes>"
            ]
          },
          "metadata": {
            "tags": [],
            "needs_background": "light"
          }
        },
        {
          "output_type": "display_data",
          "data": {
            "image/png": "[encoded data removed]",
            "text/plain": [
              "<Figure size 432x288 with 1 Axes>"
            ]
          },
          "metadata": {
            "tags": [],
            "needs_background": "light"
          }
        },
        {
          "output_type": "display_data",
          "data": {
            "image/png": "[encoded data removed]",
            "text/plain": [
              "<Figure size 432x288 with 1 Axes>"
            ]
          },
          "metadata": {
            "tags": [],
            "needs_background": "light"
          }
        },
        {
          "output_type": "display_data",
          "data": {
            "image/png": "[encoded data removed]",
            "text/plain": [
              "<Figure size 432x288 with 1 Axes>"
            ]
          },
          "metadata": {
            "tags": [],
            "needs_background": "light"
          }
        },
        {
          "output_type": "display_data",
          "data": {
            "image/png": "[encoded data removed]",
            "text/plain": [
              "<Figure size 432x288 with 1 Axes>"
            ]
          },
          "metadata": {
            "tags": [],
            "needs_background": "light"
          }
        },
        {
          "output_type": "display_data",
          "data": {
            "image/png": "[encoded data removed]",
            "text/plain": [
              "<Figure size 432x288 with 1 Axes>"
            ]
          },
          "metadata": {
            "tags": [],
            "needs_background": "light"
          }
        }
      ]
    },
    {
      "cell_type": "markdown",
      "metadata": {
        "id": "_V-TBYxdDVZw",
        "colab_type": "text"
      },
      "source": [
        "We notice , from the plots , that all variable are close to be symmetrically distributed except 'Total_Safety_Complaints' , and 'Adverse_Weather_Metric ' that are sharply skewed.\n",
        "\n",
        "To make sure of that we check percentage of cases that are outliers (out of the 2 whiskers of the box plot) "
      ]
    },
    {
      "cell_type": "code",
      "metadata": {
        "id": "eRXHCL0t7x4c",
        "colab_type": "code",
        "outputId": "4caeccab-361d-4bfd-9281-14cc768903d5",
        "colab": {
          "base_uri": "https://localhost:8080/",
          "height": 435
        }
      },
      "source": [
        "(train_data.select_dtypes(exclude ='object').apply(lambda x: (x >  plt.boxplot(x)['whiskers'][1].get_ydata()[1] ) | (x <  plt.boxplot(x)['whiskers'][0].get_ydata()[1] ) )).mean()*100"
      ],
      "execution_count": 0,
      "outputs": [
        {
          "output_type": "execute_result",
          "data": {
            "text/plain": [
              "Safety_Score               0.43\n",
              "Days_Since_Inspection      1.40\n",
              "Total_Safety_Complaints    6.02\n",
              "Control_Metric             0.59\n",
              "Turbulence_In_gforces      2.25\n",
              "Cabin_Temperature          2.34\n",
              "Max_Elevation              0.83\n",
              "Violations                 0.00\n",
              "Adverse_Weather_Metric     9.31\n",
              "dtype: float64"
            ]
          },
          "metadata": {
            "tags": []
          },
          "execution_count": 18
        },
        {
          "output_type": "display_data",
          "data": {
            "image/png": "[encoded data removed]",
            "text/plain": [
              "<Figure size 432x288 with 1 Axes>"
            ]
          },
          "metadata": {
            "tags": [],
            "needs_background": "light"
          }
        }
      ]
    },
    {
      "cell_type": "markdown",
      "metadata": {
        "id": "2HmxPluHECrl",
        "colab_type": "text"
      },
      "source": [
        "we notice that the columns that contains highest percentage of cases out of the 2 whiskers are 'Total_Safety_Complaints' , and 'Adverse_Weather_Metric ' with 6.02% and 9.31% respectively.\n",
        "\n",
        "So we need to get rid of skewness especially for 'Adverse_Weather_Metric ' so we get the log transformation."
      ]
    },
    {
      "cell_type": "code",
      "metadata": {
        "id": "XshLd5ejFCvw",
        "colab_type": "code",
        "colab": {}
      },
      "source": [
        ""
      ],
      "execution_count": 0,
      "outputs": []
    },
    {
      "cell_type": "code",
      "metadata": {
        "id": "t8HlEHIiuCe3",
        "colab_type": "code",
        "outputId": "2bbb9aeb-2e0e-46f9-f74f-1373bea50b48",
        "colab": {
          "base_uri": "https://localhost:8080/",
          "height": 282
        }
      },
      "source": [
        "train_data['Adverse_Weather_Metric'].apply(lambda x: -np.log(x)).plot(kind='hist')"
      ],
      "execution_count": 0,
      "outputs": [
        {
          "output_type": "execute_result",
          "data": {
            "text/plain": [
              "<matplotlib.axes._subplots.AxesSubplot at 0x7f67e9a71668>"
            ]
          },
          "metadata": {
            "tags": []
          },
          "execution_count": 19
        },
        {
          "output_type": "display_data",
          "data": {
            "image/png": "[encoded data removed]",
            "text/plain": [
              "<Figure size 432x288 with 1 Axes>"
            ]
          },
          "metadata": {
            "tags": [],
            "needs_background": "light"
          }
        }
      ]
    },
    {
      "cell_type": "markdown",
      "metadata": {
        "id": "uwJPR_w9FRTr",
        "colab_type": "text"
      },
      "source": [
        "Now it is less skewed"
      ]
    },
    {
      "cell_type": "code",
      "metadata": {
        "id": "Ms9hmkKHv2go",
        "colab_type": "code",
        "colab": {}
      },
      "source": [
        "train_data['Adverse_Weather_Metric'] = train_data['Adverse_Weather_Metric'].apply(lambda x: -np.log(x))"
      ],
      "execution_count": 0,
      "outputs": []
    },
    {
      "cell_type": "code",
      "metadata": {
        "id": "Sou9pdMMJkVe",
        "colab_type": "code",
        "colab": {}
      },
      "source": [
        "##(train_data.select_dtypes(exclude ='object').apply(lambda x: (x >  plt.boxplot(x)['whiskers'][1].get_ydata()[1] ) | (x <  plt.boxplot(x)['whiskers'][0].get_ydata()[1] ) )).mean()*100"
      ],
      "execution_count": 0,
      "outputs": []
    },
    {
      "cell_type": "markdown",
      "metadata": {
        "id": "qP0ymk0nFdP7",
        "colab_type": "text"
      },
      "source": [
        "## Now , Let's prepare data for modelling."
      ]
    },
    {
      "cell_type": "code",
      "metadata": {
        "id": "fF2cbdc_KBZM",
        "colab_type": "code",
        "outputId": "f83af71f-dbc3-44af-c6d5-bdb1361e6de7",
        "colab": {
          "base_uri": "https://localhost:8080/",
          "height": 224
        }
      },
      "source": [
        "train_data.head()"
      ],
      "execution_count": 0,
      "outputs": [
        {
          "output_type": "execute_result",
          "data": {
            "text/html": [
              "<div>\n",
              "<style scoped>\n",
              "    .dataframe tbody tr th:only-of-type {\n",
              "        vertical-align: middle;\n",
              "    }\n",
              "\n",
              "    .dataframe tbody tr th {\n",
              "        vertical-align: top;\n",
              "    }\n",
              "\n",
              "    .dataframe thead th {\n",
              "        text-align: right;\n",
              "    }\n",
              "</style>\n",
              "<table border=\"1\" class=\"dataframe\">\n",
              "  <thead>\n",
              "    <tr style=\"text-align: right;\">\n",
              "      <th></th>\n",
              "      <th>Severity</th>\n",
              "      <th>Safety_Score</th>\n",
              "      <th>Days_Since_Inspection</th>\n",
              "      <th>Total_Safety_Complaints</th>\n",
              "      <th>Control_Metric</th>\n",
              "      <th>Turbulence_In_gforces</th>\n",
              "      <th>Cabin_Temperature</th>\n",
              "      <th>Accident_Type_Code</th>\n",
              "      <th>Max_Elevation</th>\n",
              "      <th>Violations</th>\n",
              "      <th>Adverse_Weather_Metric</th>\n",
              "      <th>Accident_ID</th>\n",
              "    </tr>\n",
              "  </thead>\n",
              "  <tbody>\n",
              "    <tr>\n",
              "      <th>0</th>\n",
              "      <td>Minor_Damage_And_Injuries</td>\n",
              "      <td>49.223744</td>\n",
              "      <td>14</td>\n",
              "      <td>22</td>\n",
              "      <td>71.285324</td>\n",
              "      <td>0.272118</td>\n",
              "      <td>78.04</td>\n",
              "      <td>2</td>\n",
              "      <td>31335.476824</td>\n",
              "      <td>3</td>\n",
              "      <td>0.857192</td>\n",
              "      <td>7570</td>\n",
              "    </tr>\n",
              "    <tr>\n",
              "      <th>1</th>\n",
              "      <td>Minor_Damage_And_Injuries</td>\n",
              "      <td>62.465753</td>\n",
              "      <td>10</td>\n",
              "      <td>27</td>\n",
              "      <td>72.288058</td>\n",
              "      <td>0.423939</td>\n",
              "      <td>84.54</td>\n",
              "      <td>2</td>\n",
              "      <td>26024.711057</td>\n",
              "      <td>2</td>\n",
              "      <td>1.043130</td>\n",
              "      <td>12128</td>\n",
              "    </tr>\n",
              "    <tr>\n",
              "      <th>2</th>\n",
              "      <td>Significant_Damage_And_Fatalities</td>\n",
              "      <td>63.059361</td>\n",
              "      <td>13</td>\n",
              "      <td>16</td>\n",
              "      <td>66.362808</td>\n",
              "      <td>0.322604</td>\n",
              "      <td>78.86</td>\n",
              "      <td>7</td>\n",
              "      <td>39269.053927</td>\n",
              "      <td>3</td>\n",
              "      <td>5.694652</td>\n",
              "      <td>2181</td>\n",
              "    </tr>\n",
              "    <tr>\n",
              "      <th>3</th>\n",
              "      <td>Significant_Damage_And_Serious_Injuries</td>\n",
              "      <td>48.082192</td>\n",
              "      <td>11</td>\n",
              "      <td>9</td>\n",
              "      <td>74.703737</td>\n",
              "      <td>0.337029</td>\n",
              "      <td>81.79</td>\n",
              "      <td>3</td>\n",
              "      <td>42771.499200</td>\n",
              "      <td>1</td>\n",
              "      <td>1.552452</td>\n",
              "      <td>5946</td>\n",
              "    </tr>\n",
              "    <tr>\n",
              "      <th>4</th>\n",
              "      <td>Significant_Damage_And_Fatalities</td>\n",
              "      <td>26.484018</td>\n",
              "      <td>13</td>\n",
              "      <td>25</td>\n",
              "      <td>47.948952</td>\n",
              "      <td>0.541140</td>\n",
              "      <td>77.16</td>\n",
              "      <td>3</td>\n",
              "      <td>35509.228515</td>\n",
              "      <td>2</td>\n",
              "      <td>1.732265</td>\n",
              "      <td>9054</td>\n",
              "    </tr>\n",
              "  </tbody>\n",
              "</table>\n",
              "</div>"
            ],
            "text/plain": [
              "                                  Severity  ...  Accident_ID\n",
              "0                Minor_Damage_And_Injuries  ...         7570\n",
              "1                Minor_Damage_And_Injuries  ...        12128\n",
              "2        Significant_Damage_And_Fatalities  ...         2181\n",
              "3  Significant_Damage_And_Serious_Injuries  ...         5946\n",
              "4        Significant_Damage_And_Fatalities  ...         9054\n",
              "\n",
              "[5 rows x 12 columns]"
            ]
          },
          "metadata": {
            "tags": []
          },
          "execution_count": 22
        }
      ]
    },
    {
      "cell_type": "markdown",
      "metadata": {
        "id": "xeFVB1tYFjE4",
        "colab_type": "text"
      },
      "source": [
        "We make Accident_ID as the index of dataset."
      ]
    },
    {
      "cell_type": "code",
      "metadata": {
        "id": "tgQCGdzWKMRc",
        "colab_type": "code",
        "colab": {}
      },
      "source": [
        "train_data.index= train_data['Accident_ID']"
      ],
      "execution_count": 0,
      "outputs": []
    },
    {
      "cell_type": "markdown",
      "metadata": {
        "id": "LoSomDuWF7u5",
        "colab_type": "text"
      },
      "source": [
        "Then , we transfer Accident type code into dummy variables in order to ease prediction"
      ]
    },
    {
      "cell_type": "code",
      "metadata": {
        "id": "LbjJixFytD-2",
        "colab_type": "code",
        "colab": {}
      },
      "source": [
        "train_data_final=pd.get_dummies(data = train_data,columns=['Accident_Type_Code'])"
      ],
      "execution_count": 0,
      "outputs": []
    },
    {
      "cell_type": "code",
      "metadata": {
        "id": "ZAQ4QJoltlyR",
        "colab_type": "code",
        "outputId": "67432f5a-2176-4780-ab74-b81a08745c18",
        "colab": {
          "base_uri": "https://localhost:8080/",
          "height": 470
        }
      },
      "source": [
        "train_data_final"
      ],
      "execution_count": 0,
      "outputs": [
        {
          "output_type": "execute_result",
          "data": {
            "text/html": [
              "<div>\n",
              "<style scoped>\n",
              "    .dataframe tbody tr th:only-of-type {\n",
              "        vertical-align: middle;\n",
              "    }\n",
              "\n",
              "    .dataframe tbody tr th {\n",
              "        vertical-align: top;\n",
              "    }\n",
              "\n",
              "    .dataframe thead th {\n",
              "        text-align: right;\n",
              "    }\n",
              "</style>\n",
              "<table border=\"1\" class=\"dataframe\">\n",
              "  <thead>\n",
              "    <tr style=\"text-align: right;\">\n",
              "      <th></th>\n",
              "      <th>Severity</th>\n",
              "      <th>Safety_Score</th>\n",
              "      <th>Days_Since_Inspection</th>\n",
              "      <th>Total_Safety_Complaints</th>\n",
              "      <th>Control_Metric</th>\n",
              "      <th>Turbulence_In_gforces</th>\n",
              "      <th>Cabin_Temperature</th>\n",
              "      <th>Max_Elevation</th>\n",
              "      <th>Violations</th>\n",
              "      <th>Adverse_Weather_Metric</th>\n",
              "      <th>Accident_ID</th>\n",
              "      <th>Accident_Type_Code_1</th>\n",
              "      <th>Accident_Type_Code_2</th>\n",
              "      <th>Accident_Type_Code_3</th>\n",
              "      <th>Accident_Type_Code_4</th>\n",
              "      <th>Accident_Type_Code_5</th>\n",
              "      <th>Accident_Type_Code_6</th>\n",
              "      <th>Accident_Type_Code_7</th>\n",
              "    </tr>\n",
              "    <tr>\n",
              "      <th>Accident_ID</th>\n",
              "      <th></th>\n",
              "      <th></th>\n",
              "      <th></th>\n",
              "      <th></th>\n",
              "      <th></th>\n",
              "      <th></th>\n",
              "      <th></th>\n",
              "      <th></th>\n",
              "      <th></th>\n",
              "      <th></th>\n",
              "      <th></th>\n",
              "      <th></th>\n",
              "      <th></th>\n",
              "      <th></th>\n",
              "      <th></th>\n",
              "      <th></th>\n",
              "      <th></th>\n",
              "      <th></th>\n",
              "    </tr>\n",
              "  </thead>\n",
              "  <tbody>\n",
              "    <tr>\n",
              "      <th>7570</th>\n",
              "      <td>Minor_Damage_And_Injuries</td>\n",
              "      <td>49.223744</td>\n",
              "      <td>14</td>\n",
              "      <td>22</td>\n",
              "      <td>71.285324</td>\n",
              "      <td>0.272118</td>\n",
              "      <td>78.04</td>\n",
              "      <td>31335.476824</td>\n",
              "      <td>3</td>\n",
              "      <td>0.857192</td>\n",
              "      <td>7570</td>\n",
              "      <td>0</td>\n",
              "      <td>1</td>\n",
              "      <td>0</td>\n",
              "      <td>0</td>\n",
              "      <td>0</td>\n",
              "      <td>0</td>\n",
              "      <td>0</td>\n",
              "    </tr>\n",
              "    <tr>\n",
              "      <th>12128</th>\n",
              "      <td>Minor_Damage_And_Injuries</td>\n",
              "      <td>62.465753</td>\n",
              "      <td>10</td>\n",
              "      <td>27</td>\n",
              "      <td>72.288058</td>\n",
              "      <td>0.423939</td>\n",
              "      <td>84.54</td>\n",
              "      <td>26024.711057</td>\n",
              "      <td>2</td>\n",
              "      <td>1.043130</td>\n",
              "      <td>12128</td>\n",
              "      <td>0</td>\n",
              "      <td>1</td>\n",
              "      <td>0</td>\n",
              "      <td>0</td>\n",
              "      <td>0</td>\n",
              "      <td>0</td>\n",
              "      <td>0</td>\n",
              "    </tr>\n",
              "    <tr>\n",
              "      <th>2181</th>\n",
              "      <td>Significant_Damage_And_Fatalities</td>\n",
              "      <td>63.059361</td>\n",
              "      <td>13</td>\n",
              "      <td>16</td>\n",
              "      <td>66.362808</td>\n",
              "      <td>0.322604</td>\n",
              "      <td>78.86</td>\n",
              "      <td>39269.053927</td>\n",
              "      <td>3</td>\n",
              "      <td>5.694652</td>\n",
              "      <td>2181</td>\n",
              "      <td>0</td>\n",
              "      <td>0</td>\n",
              "      <td>0</td>\n",
              "      <td>0</td>\n",
              "      <td>0</td>\n",
              "      <td>0</td>\n",
              "      <td>1</td>\n",
              "    </tr>\n",
              "    <tr>\n",
              "      <th>5946</th>\n",
              "      <td>Significant_Damage_And_Serious_Injuries</td>\n",
              "      <td>48.082192</td>\n",
              "      <td>11</td>\n",
              "      <td>9</td>\n",
              "      <td>74.703737</td>\n",
              "      <td>0.337029</td>\n",
              "      <td>81.79</td>\n",
              "      <td>42771.499200</td>\n",
              "      <td>1</td>\n",
              "      <td>1.552452</td>\n",
              "      <td>5946</td>\n",
              "      <td>0</td>\n",
              "      <td>0</td>\n",
              "      <td>1</td>\n",
              "      <td>0</td>\n",
              "      <td>0</td>\n",
              "      <td>0</td>\n",
              "      <td>0</td>\n",
              "    </tr>\n",
              "    <tr>\n",
              "      <th>9054</th>\n",
              "      <td>Significant_Damage_And_Fatalities</td>\n",
              "      <td>26.484018</td>\n",
              "      <td>13</td>\n",
              "      <td>25</td>\n",
              "      <td>47.948952</td>\n",
              "      <td>0.541140</td>\n",
              "      <td>77.16</td>\n",
              "      <td>35509.228515</td>\n",
              "      <td>2</td>\n",
              "      <td>1.732265</td>\n",
              "      <td>9054</td>\n",
              "      <td>0</td>\n",
              "      <td>0</td>\n",
              "      <td>1</td>\n",
              "      <td>0</td>\n",
              "      <td>0</td>\n",
              "      <td>0</td>\n",
              "      <td>0</td>\n",
              "    </tr>\n",
              "    <tr>\n",
              "      <th>...</th>\n",
              "      <td>...</td>\n",
              "      <td>...</td>\n",
              "      <td>...</td>\n",
              "      <td>...</td>\n",
              "      <td>...</td>\n",
              "      <td>...</td>\n",
              "      <td>...</td>\n",
              "      <td>...</td>\n",
              "      <td>...</td>\n",
              "      <td>...</td>\n",
              "      <td>...</td>\n",
              "      <td>...</td>\n",
              "      <td>...</td>\n",
              "      <td>...</td>\n",
              "      <td>...</td>\n",
              "      <td>...</td>\n",
              "      <td>...</td>\n",
              "      <td>...</td>\n",
              "    </tr>\n",
              "    <tr>\n",
              "      <th>11493</th>\n",
              "      <td>Significant_Damage_And_Serious_Injuries</td>\n",
              "      <td>56.118721</td>\n",
              "      <td>8</td>\n",
              "      <td>1</td>\n",
              "      <td>63.445761</td>\n",
              "      <td>0.482359</td>\n",
              "      <td>78.64</td>\n",
              "      <td>38537.363408</td>\n",
              "      <td>2</td>\n",
              "      <td>3.643924</td>\n",
              "      <td>11493</td>\n",
              "      <td>0</td>\n",
              "      <td>0</td>\n",
              "      <td>0</td>\n",
              "      <td>0</td>\n",
              "      <td>1</td>\n",
              "      <td>0</td>\n",
              "      <td>0</td>\n",
              "    </tr>\n",
              "    <tr>\n",
              "      <th>305</th>\n",
              "      <td>Highly_Fatal_And_Damaging</td>\n",
              "      <td>40.365297</td>\n",
              "      <td>10</td>\n",
              "      <td>7</td>\n",
              "      <td>62.169553</td>\n",
              "      <td>0.421775</td>\n",
              "      <td>79.77</td>\n",
              "      <td>40846.916900</td>\n",
              "      <td>2</td>\n",
              "      <td>2.591624</td>\n",
              "      <td>305</td>\n",
              "      <td>0</td>\n",
              "      <td>0</td>\n",
              "      <td>0</td>\n",
              "      <td>1</td>\n",
              "      <td>0</td>\n",
              "      <td>0</td>\n",
              "      <td>0</td>\n",
              "    </tr>\n",
              "    <tr>\n",
              "      <th>612</th>\n",
              "      <td>Significant_Damage_And_Serious_Injuries</td>\n",
              "      <td>27.853881</td>\n",
              "      <td>17</td>\n",
              "      <td>1</td>\n",
              "      <td>69.598906</td>\n",
              "      <td>0.318277</td>\n",
              "      <td>80.37</td>\n",
              "      <td>33771.996300</td>\n",
              "      <td>3</td>\n",
              "      <td>1.782762</td>\n",
              "      <td>612</td>\n",
              "      <td>0</td>\n",
              "      <td>0</td>\n",
              "      <td>1</td>\n",
              "      <td>0</td>\n",
              "      <td>0</td>\n",
              "      <td>0</td>\n",
              "      <td>0</td>\n",
              "    </tr>\n",
              "    <tr>\n",
              "      <th>4963</th>\n",
              "      <td>Minor_Damage_And_Injuries</td>\n",
              "      <td>56.210046</td>\n",
              "      <td>8</td>\n",
              "      <td>0</td>\n",
              "      <td>39.835916</td>\n",
              "      <td>0.598118</td>\n",
              "      <td>76.92</td>\n",
              "      <td>39820.419251</td>\n",
              "      <td>2</td>\n",
              "      <td>3.635114</td>\n",
              "      <td>4963</td>\n",
              "      <td>0</td>\n",
              "      <td>0</td>\n",
              "      <td>0</td>\n",
              "      <td>0</td>\n",
              "      <td>1</td>\n",
              "      <td>0</td>\n",
              "      <td>0</td>\n",
              "    </tr>\n",
              "    <tr>\n",
              "      <th>9387</th>\n",
              "      <td>Highly_Fatal_And_Damaging</td>\n",
              "      <td>50.000000</td>\n",
              "      <td>13</td>\n",
              "      <td>3</td>\n",
              "      <td>45.487694</td>\n",
              "      <td>0.382467</td>\n",
              "      <td>77.46</td>\n",
              "      <td>26005.322987</td>\n",
              "      <td>2</td>\n",
              "      <td>4.072433</td>\n",
              "      <td>9387</td>\n",
              "      <td>0</td>\n",
              "      <td>0</td>\n",
              "      <td>0</td>\n",
              "      <td>0</td>\n",
              "      <td>1</td>\n",
              "      <td>0</td>\n",
              "      <td>0</td>\n",
              "    </tr>\n",
              "  </tbody>\n",
              "</table>\n",
              "<p>10000 rows × 18 columns</p>\n",
              "</div>"
            ],
            "text/plain": [
              "                                            Severity  ...  Accident_Type_Code_7\n",
              "Accident_ID                                           ...                      \n",
              "7570                       Minor_Damage_And_Injuries  ...                     0\n",
              "12128                      Minor_Damage_And_Injuries  ...                     0\n",
              "2181               Significant_Damage_And_Fatalities  ...                     1\n",
              "5946         Significant_Damage_And_Serious_Injuries  ...                     0\n",
              "9054               Significant_Damage_And_Fatalities  ...                     0\n",
              "...                                              ...  ...                   ...\n",
              "11493        Significant_Damage_And_Serious_Injuries  ...                     0\n",
              "305                        Highly_Fatal_And_Damaging  ...                     0\n",
              "612          Significant_Damage_And_Serious_Injuries  ...                     0\n",
              "4963                       Minor_Damage_And_Injuries  ...                     0\n",
              "9387                       Highly_Fatal_And_Damaging  ...                     0\n",
              "\n",
              "[10000 rows x 18 columns]"
            ]
          },
          "metadata": {
            "tags": []
          },
          "execution_count": 25
        }
      ]
    },
    {
      "cell_type": "markdown",
      "metadata": {
        "id": "rhR1gpDiGD-Y",
        "colab_type": "text"
      },
      "source": [
        "then , we drop unneccessary columns"
      ]
    },
    {
      "cell_type": "markdown",
      "metadata": {
        "id": "yiNUKWc6GJ_A",
        "colab_type": "text"
      },
      "source": [
        "### Having predictors ser X_train :"
      ]
    },
    {
      "cell_type": "code",
      "metadata": {
        "id": "fkrTLL_WKlpn",
        "colab_type": "code",
        "colab": {}
      },
      "source": [
        "X_train=train_data_final.drop(columns=['Severity' , 'Accident_ID' , 'Accident_Type_Code_1'])"
      ],
      "execution_count": 0,
      "outputs": []
    },
    {
      "cell_type": "code",
      "metadata": {
        "id": "e7OlQRV2MAbD",
        "colab_type": "code",
        "outputId": "35a8b53c-8f19-4c7a-b3a8-d5333a06f54d",
        "colab": {
          "base_uri": "https://localhost:8080/",
          "height": 470
        }
      },
      "source": [
        "X_train"
      ],
      "execution_count": 0,
      "outputs": [
        {
          "output_type": "execute_result",
          "data": {
            "text/html": [
              "<div>\n",
              "<style scoped>\n",
              "    .dataframe tbody tr th:only-of-type {\n",
              "        vertical-align: middle;\n",
              "    }\n",
              "\n",
              "    .dataframe tbody tr th {\n",
              "        vertical-align: top;\n",
              "    }\n",
              "\n",
              "    .dataframe thead th {\n",
              "        text-align: right;\n",
              "    }\n",
              "</style>\n",
              "<table border=\"1\" class=\"dataframe\">\n",
              "  <thead>\n",
              "    <tr style=\"text-align: right;\">\n",
              "      <th></th>\n",
              "      <th>Safety_Score</th>\n",
              "      <th>Days_Since_Inspection</th>\n",
              "      <th>Total_Safety_Complaints</th>\n",
              "      <th>Control_Metric</th>\n",
              "      <th>Turbulence_In_gforces</th>\n",
              "      <th>Cabin_Temperature</th>\n",
              "      <th>Max_Elevation</th>\n",
              "      <th>Violations</th>\n",
              "      <th>Adverse_Weather_Metric</th>\n",
              "      <th>Accident_Type_Code_2</th>\n",
              "      <th>Accident_Type_Code_3</th>\n",
              "      <th>Accident_Type_Code_4</th>\n",
              "      <th>Accident_Type_Code_5</th>\n",
              "      <th>Accident_Type_Code_6</th>\n",
              "      <th>Accident_Type_Code_7</th>\n",
              "    </tr>\n",
              "    <tr>\n",
              "      <th>Accident_ID</th>\n",
              "      <th></th>\n",
              "      <th></th>\n",
              "      <th></th>\n",
              "      <th></th>\n",
              "      <th></th>\n",
              "      <th></th>\n",
              "      <th></th>\n",
              "      <th></th>\n",
              "      <th></th>\n",
              "      <th></th>\n",
              "      <th></th>\n",
              "      <th></th>\n",
              "      <th></th>\n",
              "      <th></th>\n",
              "      <th></th>\n",
              "    </tr>\n",
              "  </thead>\n",
              "  <tbody>\n",
              "    <tr>\n",
              "      <th>7570</th>\n",
              "      <td>49.223744</td>\n",
              "      <td>14</td>\n",
              "      <td>22</td>\n",
              "      <td>71.285324</td>\n",
              "      <td>0.272118</td>\n",
              "      <td>78.04</td>\n",
              "      <td>31335.476824</td>\n",
              "      <td>3</td>\n",
              "      <td>0.857192</td>\n",
              "      <td>1</td>\n",
              "      <td>0</td>\n",
              "      <td>0</td>\n",
              "      <td>0</td>\n",
              "      <td>0</td>\n",
              "      <td>0</td>\n",
              "    </tr>\n",
              "    <tr>\n",
              "      <th>12128</th>\n",
              "      <td>62.465753</td>\n",
              "      <td>10</td>\n",
              "      <td>27</td>\n",
              "      <td>72.288058</td>\n",
              "      <td>0.423939</td>\n",
              "      <td>84.54</td>\n",
              "      <td>26024.711057</td>\n",
              "      <td>2</td>\n",
              "      <td>1.043130</td>\n",
              "      <td>1</td>\n",
              "      <td>0</td>\n",
              "      <td>0</td>\n",
              "      <td>0</td>\n",
              "      <td>0</td>\n",
              "      <td>0</td>\n",
              "    </tr>\n",
              "    <tr>\n",
              "      <th>2181</th>\n",
              "      <td>63.059361</td>\n",
              "      <td>13</td>\n",
              "      <td>16</td>\n",
              "      <td>66.362808</td>\n",
              "      <td>0.322604</td>\n",
              "      <td>78.86</td>\n",
              "      <td>39269.053927</td>\n",
              "      <td>3</td>\n",
              "      <td>5.694652</td>\n",
              "      <td>0</td>\n",
              "      <td>0</td>\n",
              "      <td>0</td>\n",
              "      <td>0</td>\n",
              "      <td>0</td>\n",
              "      <td>1</td>\n",
              "    </tr>\n",
              "    <tr>\n",
              "      <th>5946</th>\n",
              "      <td>48.082192</td>\n",
              "      <td>11</td>\n",
              "      <td>9</td>\n",
              "      <td>74.703737</td>\n",
              "      <td>0.337029</td>\n",
              "      <td>81.79</td>\n",
              "      <td>42771.499200</td>\n",
              "      <td>1</td>\n",
              "      <td>1.552452</td>\n",
              "      <td>0</td>\n",
              "      <td>1</td>\n",
              "      <td>0</td>\n",
              "      <td>0</td>\n",
              "      <td>0</td>\n",
              "      <td>0</td>\n",
              "    </tr>\n",
              "    <tr>\n",
              "      <th>9054</th>\n",
              "      <td>26.484018</td>\n",
              "      <td>13</td>\n",
              "      <td>25</td>\n",
              "      <td>47.948952</td>\n",
              "      <td>0.541140</td>\n",
              "      <td>77.16</td>\n",
              "      <td>35509.228515</td>\n",
              "      <td>2</td>\n",
              "      <td>1.732265</td>\n",
              "      <td>0</td>\n",
              "      <td>1</td>\n",
              "      <td>0</td>\n",
              "      <td>0</td>\n",
              "      <td>0</td>\n",
              "      <td>0</td>\n",
              "    </tr>\n",
              "    <tr>\n",
              "      <th>...</th>\n",
              "      <td>...</td>\n",
              "      <td>...</td>\n",
              "      <td>...</td>\n",
              "      <td>...</td>\n",
              "      <td>...</td>\n",
              "      <td>...</td>\n",
              "      <td>...</td>\n",
              "      <td>...</td>\n",
              "      <td>...</td>\n",
              "      <td>...</td>\n",
              "      <td>...</td>\n",
              "      <td>...</td>\n",
              "      <td>...</td>\n",
              "      <td>...</td>\n",
              "      <td>...</td>\n",
              "    </tr>\n",
              "    <tr>\n",
              "      <th>11493</th>\n",
              "      <td>56.118721</td>\n",
              "      <td>8</td>\n",
              "      <td>1</td>\n",
              "      <td>63.445761</td>\n",
              "      <td>0.482359</td>\n",
              "      <td>78.64</td>\n",
              "      <td>38537.363408</td>\n",
              "      <td>2</td>\n",
              "      <td>3.643924</td>\n",
              "      <td>0</td>\n",
              "      <td>0</td>\n",
              "      <td>0</td>\n",
              "      <td>1</td>\n",
              "      <td>0</td>\n",
              "      <td>0</td>\n",
              "    </tr>\n",
              "    <tr>\n",
              "      <th>305</th>\n",
              "      <td>40.365297</td>\n",
              "      <td>10</td>\n",
              "      <td>7</td>\n",
              "      <td>62.169553</td>\n",
              "      <td>0.421775</td>\n",
              "      <td>79.77</td>\n",
              "      <td>40846.916900</td>\n",
              "      <td>2</td>\n",
              "      <td>2.591624</td>\n",
              "      <td>0</td>\n",
              "      <td>0</td>\n",
              "      <td>1</td>\n",
              "      <td>0</td>\n",
              "      <td>0</td>\n",
              "      <td>0</td>\n",
              "    </tr>\n",
              "    <tr>\n",
              "      <th>612</th>\n",
              "      <td>27.853881</td>\n",
              "      <td>17</td>\n",
              "      <td>1</td>\n",
              "      <td>69.598906</td>\n",
              "      <td>0.318277</td>\n",
              "      <td>80.37</td>\n",
              "      <td>33771.996300</td>\n",
              "      <td>3</td>\n",
              "      <td>1.782762</td>\n",
              "      <td>0</td>\n",
              "      <td>1</td>\n",
              "      <td>0</td>\n",
              "      <td>0</td>\n",
              "      <td>0</td>\n",
              "      <td>0</td>\n",
              "    </tr>\n",
              "    <tr>\n",
              "      <th>4963</th>\n",
              "      <td>56.210046</td>\n",
              "      <td>8</td>\n",
              "      <td>0</td>\n",
              "      <td>39.835916</td>\n",
              "      <td>0.598118</td>\n",
              "      <td>76.92</td>\n",
              "      <td>39820.419251</td>\n",
              "      <td>2</td>\n",
              "      <td>3.635114</td>\n",
              "      <td>0</td>\n",
              "      <td>0</td>\n",
              "      <td>0</td>\n",
              "      <td>1</td>\n",
              "      <td>0</td>\n",
              "      <td>0</td>\n",
              "    </tr>\n",
              "    <tr>\n",
              "      <th>9387</th>\n",
              "      <td>50.000000</td>\n",
              "      <td>13</td>\n",
              "      <td>3</td>\n",
              "      <td>45.487694</td>\n",
              "      <td>0.382467</td>\n",
              "      <td>77.46</td>\n",
              "      <td>26005.322987</td>\n",
              "      <td>2</td>\n",
              "      <td>4.072433</td>\n",
              "      <td>0</td>\n",
              "      <td>0</td>\n",
              "      <td>0</td>\n",
              "      <td>1</td>\n",
              "      <td>0</td>\n",
              "      <td>0</td>\n",
              "    </tr>\n",
              "  </tbody>\n",
              "</table>\n",
              "<p>10000 rows × 15 columns</p>\n",
              "</div>"
            ],
            "text/plain": [
              "             Safety_Score  ...  Accident_Type_Code_7\n",
              "Accident_ID                ...                      \n",
              "7570            49.223744  ...                     0\n",
              "12128           62.465753  ...                     0\n",
              "2181            63.059361  ...                     1\n",
              "5946            48.082192  ...                     0\n",
              "9054            26.484018  ...                     0\n",
              "...                   ...  ...                   ...\n",
              "11493           56.118721  ...                     0\n",
              "305             40.365297  ...                     0\n",
              "612             27.853881  ...                     0\n",
              "4963            56.210046  ...                     0\n",
              "9387            50.000000  ...                     0\n",
              "\n",
              "[10000 rows x 15 columns]"
            ]
          },
          "metadata": {
            "tags": []
          },
          "execution_count": 27
        }
      ]
    },
    {
      "cell_type": "code",
      "metadata": {
        "id": "gwexbH25Mtu9",
        "colab_type": "code",
        "colab": {}
      },
      "source": [
        "input_dim=len(X_train.columns)"
      ],
      "execution_count": 0,
      "outputs": []
    },
    {
      "cell_type": "markdown",
      "metadata": {
        "id": "WU0HEEsWHEzE",
        "colab_type": "text"
      },
      "source": [
        "### Then we scale X_train to have better prediction  (i.e x=(x-x_min)/(x_max-x_min))"
      ]
    },
    {
      "cell_type": "code",
      "metadata": {
        "id": "ccdpgK4gNyv-",
        "colab_type": "code",
        "colab": {}
      },
      "source": [
        " X_train=preprocessing.scale(X_train)"
      ],
      "execution_count": 0,
      "outputs": []
    },
    {
      "cell_type": "markdown",
      "metadata": {
        "id": "NLd08oN0GYzo",
        "colab_type": "text"
      },
      "source": [
        "### Preparing predicted variable for modelling "
      ]
    },
    {
      "cell_type": "markdown",
      "metadata": {
        "id": "xZ3gDUamGgWT",
        "colab_type": "text"
      },
      "source": [
        "First we make it label encoded"
      ]
    },
    {
      "cell_type": "code",
      "metadata": {
        "id": "00omZWXzN0E2",
        "colab_type": "code",
        "outputId": "8461b040-de44-41c0-f4e5-13342865bceb",
        "colab": {
          "base_uri": "https://localhost:8080/",
          "height": 34
        }
      },
      "source": [
        "encoder = LabelEncoder()\n",
        "encoder.fit( train_data['Severity'])"
      ],
      "execution_count": 0,
      "outputs": [
        {
          "output_type": "execute_result",
          "data": {
            "text/plain": [
              "LabelEncoder()"
            ]
          },
          "metadata": {
            "tags": []
          },
          "execution_count": 30
        }
      ]
    },
    {
      "cell_type": "code",
      "metadata": {
        "id": "hCenvSkdOj0v",
        "colab_type": "code",
        "colab": {}
      },
      "source": [
        "encoded_Y = encoder.transform(train_data['Severity'])\n",
        "# convert integers to dummy variables (i.e. one hot encoded)\n",
        "y_train = np_utils.to_categorical(encoded_Y)"
      ],
      "execution_count": 0,
      "outputs": []
    },
    {
      "cell_type": "code",
      "metadata": {
        "id": "AJOaHA3Wb4mB",
        "colab_type": "code",
        "colab": {}
      },
      "source": [
        "from sklearn.model_selection import train_test_split\n",
        "X_train, X_test, y_train, y_test = train_test_split(X_train, y_train, test_size=0.3)"
      ],
      "execution_count": 0,
      "outputs": []
    },
    {
      "cell_type": "markdown",
      "metadata": {
        "id": "xNNiYjPEG9BM",
        "colab_type": "text"
      },
      "source": [
        "then we convert it to dummy variables"
      ]
    },
    {
      "cell_type": "code",
      "metadata": {
        "id": "nT9hKlfrLweh",
        "colab_type": "code",
        "outputId": "1b5b308c-c3f9-4522-decd-2a466a83cc7b",
        "colab": {
          "base_uri": "https://localhost:8080/",
          "height": 136
        }
      },
      "source": [
        "y_train"
      ],
      "execution_count": 0,
      "outputs": [
        {
          "output_type": "execute_result",
          "data": {
            "text/plain": [
              "array([[1., 0., 0., 0.],\n",
              "       [1., 0., 0., 0.],\n",
              "       [0., 0., 1., 0.],\n",
              "       ...,\n",
              "       [0., 1., 0., 0.],\n",
              "       [0., 0., 0., 1.],\n",
              "       [0., 1., 0., 0.]], dtype=float32)"
            ]
          },
          "metadata": {
            "tags": []
          },
          "execution_count": 33
        }
      ]
    },
    {
      "cell_type": "code",
      "metadata": {
        "id": "P5WZUARBKskN",
        "colab_type": "code",
        "colab": {}
      },
      "source": [
        "#X , X_val , Y , Y_val , train_lab , test_lab = train_test_split ( X_train , y_train , encoded_Y , test_size=0.2)"
      ],
      "execution_count": 0,
      "outputs": []
    },
    {
      "cell_type": "markdown",
      "metadata": {
        "id": "W3fE7hENHdku",
        "colab_type": "text"
      },
      "source": [
        "then , we make functions to calculate recall , precision , and f1 measures to help us to find the highest preforming model on train set."
      ]
    },
    {
      "cell_type": "code",
      "metadata": {
        "id": "Pecbo1Mwvms7",
        "colab_type": "code",
        "colab": {}
      },
      "source": [
        "def recall_m(y_true, y_pred):\n",
        "        true_positives = K.sum(K.round(K.clip(y_true * y_pred, 0, 1)))\n",
        "        possible_positives = K.sum(K.round(K.clip(y_true, 0, 1)))\n",
        "        recall = true_positives / (possible_positives + K.epsilon())\n",
        "        return recall\n",
        "\n",
        "def precision_m(y_true, y_pred):\n",
        "        true_positives = K.sum(K.round(K.clip(y_true * y_pred, 0, 1)))\n",
        "        predicted_positives = K.sum(K.round(K.clip(y_pred, 0, 1)))\n",
        "        precision = true_positives / (predicted_positives + K.epsilon())\n",
        "        return precision\n",
        "\n",
        "def f1_m(y_true, y_pred):\n",
        "    precision = precision_m(y_true, y_pred)\n",
        "    recall = recall_m(y_true, y_pred)\n",
        "    return 2*((precision*recall)/(precision+recall+K.epsilon()))\n"
      ],
      "execution_count": 0,
      "outputs": []
    },
    {
      "cell_type": "markdown",
      "metadata": {
        "id": "R4k-O9KgHtMM",
        "colab_type": "text"
      },
      "source": [
        "### Finally , we use keras to get the best model "
      ]
    },
    {
      "cell_type": "code",
      "metadata": {
        "id": "b-gHrA0OMsFf",
        "colab_type": "code",
        "outputId": "afe0b9a8-2b98-460b-d46e-8d1d580f31dc",
        "colab": {
          "base_uri": "https://localhost:8080/",
          "height": 561
        }
      },
      "source": [
        "\n",
        "\n",
        "# Model\n",
        "model = Sequential()\n",
        "\n",
        "\n",
        "\n",
        "\n",
        "model.add(Dense(1028, input_dim=input_dim , kernel_initializer='normal', activation='relu'))\n",
        "\n",
        "\n",
        "\n",
        "\n",
        "\n",
        "model.add(Dense(1028, kernel_initializer='normal', activation='relu'))\n",
        "\n",
        "\n",
        "\n",
        "model.add(Dense(512, kernel_initializer='normal', activation='relu'))\n",
        "\n",
        "\n",
        "\n",
        "\n",
        "model.add(Dense(256, kernel_initializer='normal', activation='relu'))\n",
        "\n",
        "\n",
        "model.add(Dense(128, kernel_initializer='normal', activation='relu'))\n",
        "\n",
        "\n",
        "\n",
        "model.add(Dense(64, kernel_initializer='normal', activation='relu'))\n",
        "\n",
        "model.add(Dense(16, kernel_initializer='normal', activation='relu'))\n",
        "\n",
        "\n",
        "\n",
        "model.add(Dense(4, kernel_initializer='normal' ,  activation='softmax'))\n",
        "# Compile model\n",
        "model.compile(loss='categorical_crossentropy', optimizer='adam', metrics=[f1_m])\n",
        "\n",
        "model.fit(X_train ,y_train , epochs=15, validation_split=0.3, batch_size=5)"
      ],
      "execution_count": 0,
      "outputs": [
        {
          "output_type": "stream",
          "text": [
            "Train on 4900 samples, validate on 2100 samples\n",
            "Epoch 1/15\n",
            "4900/4900 [==============================] - 11s 2ms/step - loss: 0.9162 - f1_m: 0.4913 - val_loss: 0.5575 - val_f1_m: 0.7916\n",
            "Epoch 2/15\n",
            "4900/4900 [==============================] - 11s 2ms/step - loss: 0.4320 - f1_m: 0.8408 - val_loss: 0.5343 - val_f1_m: 0.8626\n",
            "Epoch 3/15\n",
            "4900/4900 [==============================] - 11s 2ms/step - loss: 0.3566 - f1_m: 0.8845 - val_loss: 0.3148 - val_f1_m: 0.8912\n",
            "Epoch 4/15\n",
            "4900/4900 [==============================] - 11s 2ms/step - loss: 0.2879 - f1_m: 0.9035 - val_loss: 0.2983 - val_f1_m: 0.9065\n",
            "Epoch 5/15\n",
            "4900/4900 [==============================] - 10s 2ms/step - loss: 0.2729 - f1_m: 0.9146 - val_loss: 0.2507 - val_f1_m: 0.9299\n",
            "Epoch 6/15\n",
            "4900/4900 [==============================] - 11s 2ms/step - loss: 0.2619 - f1_m: 0.9197 - val_loss: 0.2772 - val_f1_m: 0.9066\n",
            "Epoch 7/15\n",
            "4900/4900 [==============================] - 11s 2ms/step - loss: 0.2348 - f1_m: 0.9227 - val_loss: 0.2715 - val_f1_m: 0.9238\n",
            "Epoch 8/15\n",
            "4900/4900 [==============================] - 11s 2ms/step - loss: 0.2366 - f1_m: 0.9222 - val_loss: 0.3054 - val_f1_m: 0.9128\n",
            "Epoch 9/15\n",
            "4900/4900 [==============================] - 11s 2ms/step - loss: 0.2271 - f1_m: 0.9251 - val_loss: 0.2763 - val_f1_m: 0.9186\n",
            "Epoch 10/15\n",
            "4900/4900 [==============================] - 11s 2ms/step - loss: 0.2288 - f1_m: 0.9213 - val_loss: 0.2487 - val_f1_m: 0.9243\n",
            "Epoch 11/15\n",
            "4900/4900 [==============================] - 11s 2ms/step - loss: 0.2247 - f1_m: 0.9272 - val_loss: 0.2309 - val_f1_m: 0.9276\n",
            "Epoch 12/15\n",
            "4900/4900 [==============================] - 11s 2ms/step - loss: 0.2024 - f1_m: 0.9380 - val_loss: 0.2299 - val_f1_m: 0.9344\n",
            "Epoch 13/15\n",
            "4900/4900 [==============================] - 11s 2ms/step - loss: 0.1924 - f1_m: 0.9392 - val_loss: 0.2630 - val_f1_m: 0.9272\n",
            "Epoch 14/15\n",
            "4900/4900 [==============================] - 11s 2ms/step - loss: 0.1829 - f1_m: 0.9417 - val_loss: 0.2624 - val_f1_m: 0.9198\n",
            "Epoch 15/15\n",
            "4900/4900 [==============================] - 11s 2ms/step - loss: 0.2148 - f1_m: 0.9276 - val_loss: 0.2424 - val_f1_m: 0.9354\n"
          ],
          "name": "stdout"
        },
        {
          "output_type": "execute_result",
          "data": {
            "text/plain": [
              "<keras.callbacks.callbacks.History at 0x7f67e9ce8320>"
            ]
          },
          "metadata": {
            "tags": []
          },
          "execution_count": 38
        }
      ]
    },
    {
      "cell_type": "code",
      "metadata": {
        "id": "_nz3fyvAMy91",
        "colab_type": "code",
        "outputId": "2cbd59eb-0d5c-438a-ff38-7d1c394d11bc",
        "colab": {
          "base_uri": "https://localhost:8080/",
          "height": 51
        }
      },
      "source": [
        "eval_model=model.evaluate(X_train, y_train)\n",
        "eval_model"
      ],
      "execution_count": 0,
      "outputs": [
        {
          "output_type": "stream",
          "text": [
            "7000/7000 [==============================] - 1s 98us/step\n"
          ],
          "name": "stdout"
        },
        {
          "output_type": "execute_result",
          "data": {
            "text/plain": [
              "[0.16657392854775702, 0.9473658800125122]"
            ]
          },
          "metadata": {
            "tags": []
          },
          "execution_count": 40
        }
      ]
    },
    {
      "cell_type": "code",
      "metadata": {
        "id": "KDhT_UIcxHQ7",
        "colab_type": "code",
        "colab": {}
      },
      "source": [
        "PREDICTED_CLASSES0 = model.predict_classes(preprocessing.scale(X_test))"
      ],
      "execution_count": 0,
      "outputs": []
    },
    {
      "cell_type": "code",
      "metadata": {
        "id": "FsBvNt5dc-pH",
        "colab_type": "code",
        "outputId": "bb2795e7-0855-48d4-f9d3-1684facfdc1b",
        "colab": {
          "base_uri": "https://localhost:8080/",
          "height": 51
        }
      },
      "source": [
        "eval_model2=model.evaluate(X_test, y_test)\n",
        "eval_model2"
      ],
      "execution_count": 0,
      "outputs": [
        {
          "output_type": "stream",
          "text": [
            "3000/3000 [==============================] - 0s 95us/step\n"
          ],
          "name": "stdout"
        },
        {
          "output_type": "execute_result",
          "data": {
            "text/plain": [
              "[0.23447683928658564, 0.9294750094413757]"
            ]
          },
          "metadata": {
            "tags": []
          },
          "execution_count": 45
        }
      ]
    },
    {
      "cell_type": "code",
      "metadata": {
        "id": "53LV06rnU6DS",
        "colab_type": "code",
        "colab": {}
      },
      "source": [
        "#PREDICTED_CLASSES = model.predict_classes(X_val)\n",
        "\n"
      ],
      "execution_count": 0,
      "outputs": []
    },
    {
      "cell_type": "markdown",
      "metadata": {
        "id": "DH4sI_ZPAFZh",
        "colab_type": "text"
      },
      "source": [
        ""
      ]
    },
    {
      "cell_type": "code",
      "metadata": {
        "id": "rBz3Ec0AVR7B",
        "colab_type": "code",
        "colab": {}
      },
      "source": [
        "#PREDICTED_CLASSES"
      ],
      "execution_count": 0,
      "outputs": []
    },
    {
      "cell_type": "code",
      "metadata": {
        "id": "mcFHS2GtVSdL",
        "colab_type": "code",
        "colab": {}
      },
      "source": [
        "#temp = sum(test_lab == PREDICTED_CLASSES)\n",
        "#temp/len(test_lab)"
      ],
      "execution_count": 0,
      "outputs": []
    },
    {
      "cell_type": "code",
      "metadata": {
        "id": "bQZRHqFyYhHq",
        "colab_type": "code",
        "colab": {}
      },
      "source": [
        "#encoder.inverse_transform(PREDICTED_CLASSES)"
      ],
      "execution_count": 0,
      "outputs": []
    },
    {
      "cell_type": "code",
      "metadata": {
        "id": "jGq6W4Wycv1D",
        "colab_type": "code",
        "outputId": "0b3820c5-dea5-4300-f9e4-90b1fc1eef56",
        "colab": {
          "base_uri": "https://localhost:8080/",
          "height": 224
        }
      },
      "source": [
        "test_data.head()"
      ],
      "execution_count": 0,
      "outputs": [
        {
          "output_type": "execute_result",
          "data": {
            "text/html": [
              "<div>\n",
              "<style scoped>\n",
              "    .dataframe tbody tr th:only-of-type {\n",
              "        vertical-align: middle;\n",
              "    }\n",
              "\n",
              "    .dataframe tbody tr th {\n",
              "        vertical-align: top;\n",
              "    }\n",
              "\n",
              "    .dataframe thead th {\n",
              "        text-align: right;\n",
              "    }\n",
              "</style>\n",
              "<table border=\"1\" class=\"dataframe\">\n",
              "  <thead>\n",
              "    <tr style=\"text-align: right;\">\n",
              "      <th></th>\n",
              "      <th>Safety_Score</th>\n",
              "      <th>Days_Since_Inspection</th>\n",
              "      <th>Total_Safety_Complaints</th>\n",
              "      <th>Control_Metric</th>\n",
              "      <th>Turbulence_In_gforces</th>\n",
              "      <th>Cabin_Temperature</th>\n",
              "      <th>Accident_Type_Code</th>\n",
              "      <th>Max_Elevation</th>\n",
              "      <th>Violations</th>\n",
              "      <th>Adverse_Weather_Metric</th>\n",
              "      <th>Accident_ID</th>\n",
              "    </tr>\n",
              "  </thead>\n",
              "  <tbody>\n",
              "    <tr>\n",
              "      <th>0</th>\n",
              "      <td>19.497717</td>\n",
              "      <td>16</td>\n",
              "      <td>6</td>\n",
              "      <td>72.151322</td>\n",
              "      <td>0.388959</td>\n",
              "      <td>78.32</td>\n",
              "      <td>4</td>\n",
              "      <td>37949.724386</td>\n",
              "      <td>2</td>\n",
              "      <td>0.069692</td>\n",
              "      <td>1</td>\n",
              "    </tr>\n",
              "    <tr>\n",
              "      <th>1</th>\n",
              "      <td>58.173516</td>\n",
              "      <td>15</td>\n",
              "      <td>3</td>\n",
              "      <td>64.585232</td>\n",
              "      <td>0.250841</td>\n",
              "      <td>78.60</td>\n",
              "      <td>7</td>\n",
              "      <td>30194.805567</td>\n",
              "      <td>2</td>\n",
              "      <td>0.002777</td>\n",
              "      <td>10</td>\n",
              "    </tr>\n",
              "    <tr>\n",
              "      <th>2</th>\n",
              "      <td>33.287671</td>\n",
              "      <td>15</td>\n",
              "      <td>3</td>\n",
              "      <td>64.721969</td>\n",
              "      <td>0.336669</td>\n",
              "      <td>86.96</td>\n",
              "      <td>6</td>\n",
              "      <td>17572.925484</td>\n",
              "      <td>1</td>\n",
              "      <td>0.004316</td>\n",
              "      <td>14</td>\n",
              "    </tr>\n",
              "    <tr>\n",
              "      <th>3</th>\n",
              "      <td>3.287671</td>\n",
              "      <td>21</td>\n",
              "      <td>5</td>\n",
              "      <td>66.362808</td>\n",
              "      <td>0.421775</td>\n",
              "      <td>80.86</td>\n",
              "      <td>3</td>\n",
              "      <td>40209.186341</td>\n",
              "      <td>2</td>\n",
              "      <td>0.199990</td>\n",
              "      <td>17</td>\n",
              "    </tr>\n",
              "    <tr>\n",
              "      <th>4</th>\n",
              "      <td>10.867580</td>\n",
              "      <td>18</td>\n",
              "      <td>2</td>\n",
              "      <td>56.107566</td>\n",
              "      <td>0.313228</td>\n",
              "      <td>79.22</td>\n",
              "      <td>2</td>\n",
              "      <td>35495.525408</td>\n",
              "      <td>2</td>\n",
              "      <td>0.483696</td>\n",
              "      <td>21</td>\n",
              "    </tr>\n",
              "  </tbody>\n",
              "</table>\n",
              "</div>"
            ],
            "text/plain": [
              "   Safety_Score  Days_Since_Inspection  ...  Adverse_Weather_Metric  Accident_ID\n",
              "0     19.497717                     16  ...                0.069692            1\n",
              "1     58.173516                     15  ...                0.002777           10\n",
              "2     33.287671                     15  ...                0.004316           14\n",
              "3      3.287671                     21  ...                0.199990           17\n",
              "4     10.867580                     18  ...                0.483696           21\n",
              "\n",
              "[5 rows x 11 columns]"
            ]
          },
          "metadata": {
            "tags": []
          },
          "execution_count": 46
        }
      ]
    },
    {
      "cell_type": "code",
      "metadata": {
        "id": "GqAEovfWc07h",
        "colab_type": "code",
        "colab": {}
      },
      "source": [
        "test_data.index=test_data['Accident_ID']"
      ],
      "execution_count": 0,
      "outputs": []
    },
    {
      "cell_type": "code",
      "metadata": {
        "id": "c3qtlgttz71h",
        "colab_type": "code",
        "colab": {}
      },
      "source": [
        ""
      ],
      "execution_count": 0,
      "outputs": []
    },
    {
      "cell_type": "code",
      "metadata": {
        "colab_type": "code",
        "id": "vrIx47_nz8Dv",
        "colab": {}
      },
      "source": [
        "test_data['Accident_ID'] = test_data['Accident_ID'].astype('object')"
      ],
      "execution_count": 0,
      "outputs": []
    },
    {
      "cell_type": "code",
      "metadata": {
        "colab_type": "code",
        "id": "WqJACnEVz8Dy",
        "colab": {}
      },
      "source": [
        "test_data['Accident_Type_Code'] = test_data['Accident_Type_Code'].astype('object')"
      ],
      "execution_count": 0,
      "outputs": []
    },
    {
      "cell_type": "code",
      "metadata": {
        "id": "3blhzfQrygUj",
        "colab_type": "code",
        "colab": {}
      },
      "source": [
        "test_data['Adverse_Weather_Metric'] = test_data['Adverse_Weather_Metric'].apply(lambda x: -np.log(x))"
      ],
      "execution_count": 0,
      "outputs": []
    },
    {
      "cell_type": "code",
      "metadata": {
        "id": "Y8yT9ZQzLSEq",
        "colab_type": "code",
        "colab": {}
      },
      "source": [
        "test_data_final=pd.get_dummies(data = test_data,columns=['Accident_Type_Code']).drop(columns=['Accident_Type_Code_1'])"
      ],
      "execution_count": 0,
      "outputs": []
    },
    {
      "cell_type": "code",
      "metadata": {
        "id": "LrBY7yS2LsOK",
        "colab_type": "code",
        "outputId": "9aa80bab-bd10-4b71-b826-df4a798091b4",
        "colab": {
          "base_uri": "https://localhost:8080/",
          "height": 470
        }
      },
      "source": [
        "test_data_final"
      ],
      "execution_count": 0,
      "outputs": [
        {
          "output_type": "execute_result",
          "data": {
            "text/html": [
              "<div>\n",
              "<style scoped>\n",
              "    .dataframe tbody tr th:only-of-type {\n",
              "        vertical-align: middle;\n",
              "    }\n",
              "\n",
              "    .dataframe tbody tr th {\n",
              "        vertical-align: top;\n",
              "    }\n",
              "\n",
              "    .dataframe thead th {\n",
              "        text-align: right;\n",
              "    }\n",
              "</style>\n",
              "<table border=\"1\" class=\"dataframe\">\n",
              "  <thead>\n",
              "    <tr style=\"text-align: right;\">\n",
              "      <th></th>\n",
              "      <th>Safety_Score</th>\n",
              "      <th>Days_Since_Inspection</th>\n",
              "      <th>Total_Safety_Complaints</th>\n",
              "      <th>Control_Metric</th>\n",
              "      <th>Turbulence_In_gforces</th>\n",
              "      <th>Cabin_Temperature</th>\n",
              "      <th>Max_Elevation</th>\n",
              "      <th>Violations</th>\n",
              "      <th>Adverse_Weather_Metric</th>\n",
              "      <th>Accident_ID</th>\n",
              "      <th>Accident_Type_Code_2</th>\n",
              "      <th>Accident_Type_Code_3</th>\n",
              "      <th>Accident_Type_Code_4</th>\n",
              "      <th>Accident_Type_Code_5</th>\n",
              "      <th>Accident_Type_Code_6</th>\n",
              "      <th>Accident_Type_Code_7</th>\n",
              "    </tr>\n",
              "    <tr>\n",
              "      <th>Accident_ID</th>\n",
              "      <th></th>\n",
              "      <th></th>\n",
              "      <th></th>\n",
              "      <th></th>\n",
              "      <th></th>\n",
              "      <th></th>\n",
              "      <th></th>\n",
              "      <th></th>\n",
              "      <th></th>\n",
              "      <th></th>\n",
              "      <th></th>\n",
              "      <th></th>\n",
              "      <th></th>\n",
              "      <th></th>\n",
              "      <th></th>\n",
              "      <th></th>\n",
              "    </tr>\n",
              "  </thead>\n",
              "  <tbody>\n",
              "    <tr>\n",
              "      <th>1</th>\n",
              "      <td>19.497717</td>\n",
              "      <td>16</td>\n",
              "      <td>6</td>\n",
              "      <td>72.151322</td>\n",
              "      <td>0.388959</td>\n",
              "      <td>78.32</td>\n",
              "      <td>37949.724386</td>\n",
              "      <td>2</td>\n",
              "      <td>2.663663</td>\n",
              "      <td>1</td>\n",
              "      <td>0</td>\n",
              "      <td>0</td>\n",
              "      <td>1</td>\n",
              "      <td>0</td>\n",
              "      <td>0</td>\n",
              "      <td>0</td>\n",
              "    </tr>\n",
              "    <tr>\n",
              "      <th>10</th>\n",
              "      <td>58.173516</td>\n",
              "      <td>15</td>\n",
              "      <td>3</td>\n",
              "      <td>64.585232</td>\n",
              "      <td>0.250841</td>\n",
              "      <td>78.60</td>\n",
              "      <td>30194.805567</td>\n",
              "      <td>2</td>\n",
              "      <td>5.886240</td>\n",
              "      <td>10</td>\n",
              "      <td>0</td>\n",
              "      <td>0</td>\n",
              "      <td>0</td>\n",
              "      <td>0</td>\n",
              "      <td>0</td>\n",
              "      <td>1</td>\n",
              "    </tr>\n",
              "    <tr>\n",
              "      <th>14</th>\n",
              "      <td>33.287671</td>\n",
              "      <td>15</td>\n",
              "      <td>3</td>\n",
              "      <td>64.721969</td>\n",
              "      <td>0.336669</td>\n",
              "      <td>86.96</td>\n",
              "      <td>17572.925484</td>\n",
              "      <td>1</td>\n",
              "      <td>5.445335</td>\n",
              "      <td>14</td>\n",
              "      <td>0</td>\n",
              "      <td>0</td>\n",
              "      <td>0</td>\n",
              "      <td>0</td>\n",
              "      <td>1</td>\n",
              "      <td>0</td>\n",
              "    </tr>\n",
              "    <tr>\n",
              "      <th>17</th>\n",
              "      <td>3.287671</td>\n",
              "      <td>21</td>\n",
              "      <td>5</td>\n",
              "      <td>66.362808</td>\n",
              "      <td>0.421775</td>\n",
              "      <td>80.86</td>\n",
              "      <td>40209.186341</td>\n",
              "      <td>2</td>\n",
              "      <td>1.609486</td>\n",
              "      <td>17</td>\n",
              "      <td>0</td>\n",
              "      <td>1</td>\n",
              "      <td>0</td>\n",
              "      <td>0</td>\n",
              "      <td>0</td>\n",
              "      <td>0</td>\n",
              "    </tr>\n",
              "    <tr>\n",
              "      <th>21</th>\n",
              "      <td>10.867580</td>\n",
              "      <td>18</td>\n",
              "      <td>2</td>\n",
              "      <td>56.107566</td>\n",
              "      <td>0.313228</td>\n",
              "      <td>79.22</td>\n",
              "      <td>35495.525408</td>\n",
              "      <td>2</td>\n",
              "      <td>0.726299</td>\n",
              "      <td>21</td>\n",
              "      <td>1</td>\n",
              "      <td>0</td>\n",
              "      <td>0</td>\n",
              "      <td>0</td>\n",
              "      <td>0</td>\n",
              "      <td>0</td>\n",
              "    </tr>\n",
              "    <tr>\n",
              "      <th>...</th>\n",
              "      <td>...</td>\n",
              "      <td>...</td>\n",
              "      <td>...</td>\n",
              "      <td>...</td>\n",
              "      <td>...</td>\n",
              "      <td>...</td>\n",
              "      <td>...</td>\n",
              "      <td>...</td>\n",
              "      <td>...</td>\n",
              "      <td>...</td>\n",
              "      <td>...</td>\n",
              "      <td>...</td>\n",
              "      <td>...</td>\n",
              "      <td>...</td>\n",
              "      <td>...</td>\n",
              "      <td>...</td>\n",
              "    </tr>\n",
              "    <tr>\n",
              "      <th>12484</th>\n",
              "      <td>68.127854</td>\n",
              "      <td>8</td>\n",
              "      <td>11</td>\n",
              "      <td>49.680948</td>\n",
              "      <td>0.470819</td>\n",
              "      <td>77.80</td>\n",
              "      <td>48251.586622</td>\n",
              "      <td>2</td>\n",
              "      <td>0.416444</td>\n",
              "      <td>12484</td>\n",
              "      <td>1</td>\n",
              "      <td>0</td>\n",
              "      <td>0</td>\n",
              "      <td>0</td>\n",
              "      <td>0</td>\n",
              "      <td>0</td>\n",
              "    </tr>\n",
              "    <tr>\n",
              "      <th>12487</th>\n",
              "      <td>54.840183</td>\n",
              "      <td>9</td>\n",
              "      <td>9</td>\n",
              "      <td>71.194166</td>\n",
              "      <td>0.417087</td>\n",
              "      <td>79.77</td>\n",
              "      <td>20761.984416</td>\n",
              "      <td>1</td>\n",
              "      <td>5.296360</td>\n",
              "      <td>12487</td>\n",
              "      <td>0</td>\n",
              "      <td>0</td>\n",
              "      <td>0</td>\n",
              "      <td>0</td>\n",
              "      <td>1</td>\n",
              "      <td>0</td>\n",
              "    </tr>\n",
              "    <tr>\n",
              "      <th>12488</th>\n",
              "      <td>36.712329</td>\n",
              "      <td>14</td>\n",
              "      <td>10</td>\n",
              "      <td>91.203282</td>\n",
              "      <td>0.313950</td>\n",
              "      <td>83.96</td>\n",
              "      <td>36676.100601</td>\n",
              "      <td>2</td>\n",
              "      <td>4.752632</td>\n",
              "      <td>12488</td>\n",
              "      <td>0</td>\n",
              "      <td>0</td>\n",
              "      <td>0</td>\n",
              "      <td>0</td>\n",
              "      <td>1</td>\n",
              "      <td>0</td>\n",
              "    </tr>\n",
              "    <tr>\n",
              "      <th>12491</th>\n",
              "      <td>38.721461</td>\n",
              "      <td>13</td>\n",
              "      <td>14</td>\n",
              "      <td>73.154057</td>\n",
              "      <td>0.275003</td>\n",
              "      <td>77.38</td>\n",
              "      <td>24211.359510</td>\n",
              "      <td>1</td>\n",
              "      <td>5.075731</td>\n",
              "      <td>12491</td>\n",
              "      <td>0</td>\n",
              "      <td>0</td>\n",
              "      <td>0</td>\n",
              "      <td>0</td>\n",
              "      <td>1</td>\n",
              "      <td>0</td>\n",
              "    </tr>\n",
              "    <tr>\n",
              "      <th>12493</th>\n",
              "      <td>36.073059</td>\n",
              "      <td>11</td>\n",
              "      <td>1</td>\n",
              "      <td>60.665451</td>\n",
              "      <td>0.256250</td>\n",
              "      <td>84.56</td>\n",
              "      <td>35920.146239</td>\n",
              "      <td>0</td>\n",
              "      <td>3.712801</td>\n",
              "      <td>12493</td>\n",
              "      <td>0</td>\n",
              "      <td>0</td>\n",
              "      <td>0</td>\n",
              "      <td>1</td>\n",
              "      <td>0</td>\n",
              "      <td>0</td>\n",
              "    </tr>\n",
              "  </tbody>\n",
              "</table>\n",
              "<p>2500 rows × 16 columns</p>\n",
              "</div>"
            ],
            "text/plain": [
              "             Safety_Score  ...  Accident_Type_Code_7\n",
              "Accident_ID                ...                      \n",
              "1               19.497717  ...                     0\n",
              "10              58.173516  ...                     1\n",
              "14              33.287671  ...                     0\n",
              "17               3.287671  ...                     0\n",
              "21              10.867580  ...                     0\n",
              "...                   ...  ...                   ...\n",
              "12484           68.127854  ...                     0\n",
              "12487           54.840183  ...                     0\n",
              "12488           36.712329  ...                     0\n",
              "12491           38.721461  ...                     0\n",
              "12493           36.073059  ...                     0\n",
              "\n",
              "[2500 rows x 16 columns]"
            ]
          },
          "metadata": {
            "tags": []
          },
          "execution_count": 52
        }
      ]
    },
    {
      "cell_type": "code",
      "metadata": {
        "id": "_XJyDPi6c_mS",
        "colab_type": "code",
        "colab": {}
      },
      "source": [
        "PREDICTED_CLASSES1 = model.predict_classes(preprocessing.scale(test_data_final.drop(columns=['Accident_ID'])))"
      ],
      "execution_count": 0,
      "outputs": []
    },
    {
      "cell_type": "code",
      "metadata": {
        "id": "MSnomBJVMOkX",
        "colab_type": "code",
        "outputId": "132f1d54-ca9f-4511-fdf3-25b5238ffebf",
        "colab": {
          "base_uri": "https://localhost:8080/",
          "height": 119
        }
      },
      "source": [
        "test_data_final.columns"
      ],
      "execution_count": 0,
      "outputs": [
        {
          "output_type": "execute_result",
          "data": {
            "text/plain": [
              "Index(['Safety_Score', 'Days_Since_Inspection', 'Total_Safety_Complaints',\n",
              "       'Control_Metric', 'Turbulence_In_gforces', 'Cabin_Temperature',\n",
              "       'Max_Elevation', 'Violations', 'Adverse_Weather_Metric', 'Accident_ID',\n",
              "       'Accident_Type_Code_2', 'Accident_Type_Code_3', 'Accident_Type_Code_4',\n",
              "       'Accident_Type_Code_5', 'Accident_Type_Code_6', 'Accident_Type_Code_7'],\n",
              "      dtype='object')"
            ]
          },
          "metadata": {
            "tags": []
          },
          "execution_count": 55
        }
      ]
    },
    {
      "cell_type": "code",
      "metadata": {
        "id": "3HzEtKskMR7I",
        "colab_type": "code",
        "outputId": "c2a5be31-2253-4a08-e747-34542b42601b",
        "colab": {
          "base_uri": "https://localhost:8080/",
          "height": 136
        }
      },
      "source": [
        "train_data_final.columns"
      ],
      "execution_count": 0,
      "outputs": [
        {
          "output_type": "execute_result",
          "data": {
            "text/plain": [
              "Index(['Severity', 'Safety_Score', 'Days_Since_Inspection',\n",
              "       'Total_Safety_Complaints', 'Control_Metric', 'Turbulence_In_gforces',\n",
              "       'Cabin_Temperature', 'Max_Elevation', 'Violations',\n",
              "       'Adverse_Weather_Metric', 'Accident_ID', 'Accident_Type_Code_1',\n",
              "       'Accident_Type_Code_2', 'Accident_Type_Code_3', 'Accident_Type_Code_4',\n",
              "       'Accident_Type_Code_5', 'Accident_Type_Code_6', 'Accident_Type_Code_7'],\n",
              "      dtype='object')"
            ]
          },
          "metadata": {
            "tags": []
          },
          "execution_count": 54
        }
      ]
    },
    {
      "cell_type": "code",
      "metadata": {
        "id": "fOUbBi4NeXft",
        "colab_type": "code",
        "colab": {}
      },
      "source": [
        "p=pd.Series(encoder.inverse_transform(PREDICTED_CLASSES1))"
      ],
      "execution_count": 0,
      "outputs": []
    },
    {
      "cell_type": "code",
      "metadata": {
        "id": "heeiGwCTfMQ0",
        "colab_type": "code",
        "colab": {}
      },
      "source": [
        "p.index=test_data.index"
      ],
      "execution_count": 0,
      "outputs": []
    },
    {
      "cell_type": "code",
      "metadata": {
        "id": "Z_z4AUrlhPm5",
        "colab_type": "code",
        "outputId": "577a2120-b42a-4b2e-ff18-03340394a595",
        "colab": {
          "base_uri": "https://localhost:8080/",
          "height": 450
        }
      },
      "source": [
        "pd.DataFrame(p, columns=['Severity'])"
      ],
      "execution_count": 0,
      "outputs": [
        {
          "output_type": "execute_result",
          "data": {
            "text/html": [
              "<div>\n",
              "<style scoped>\n",
              "    .dataframe tbody tr th:only-of-type {\n",
              "        vertical-align: middle;\n",
              "    }\n",
              "\n",
              "    .dataframe tbody tr th {\n",
              "        vertical-align: top;\n",
              "    }\n",
              "\n",
              "    .dataframe thead th {\n",
              "        text-align: right;\n",
              "    }\n",
              "</style>\n",
              "<table border=\"1\" class=\"dataframe\">\n",
              "  <thead>\n",
              "    <tr style=\"text-align: right;\">\n",
              "      <th></th>\n",
              "      <th>Severity</th>\n",
              "    </tr>\n",
              "    <tr>\n",
              "      <th>Accident_ID</th>\n",
              "      <th></th>\n",
              "    </tr>\n",
              "  </thead>\n",
              "  <tbody>\n",
              "    <tr>\n",
              "      <th>1</th>\n",
              "      <td>Highly_Fatal_And_Damaging</td>\n",
              "    </tr>\n",
              "    <tr>\n",
              "      <th>10</th>\n",
              "      <td>Significant_Damage_And_Fatalities</td>\n",
              "    </tr>\n",
              "    <tr>\n",
              "      <th>14</th>\n",
              "      <td>Significant_Damage_And_Serious_Injuries</td>\n",
              "    </tr>\n",
              "    <tr>\n",
              "      <th>17</th>\n",
              "      <td>Highly_Fatal_And_Damaging</td>\n",
              "    </tr>\n",
              "    <tr>\n",
              "      <th>21</th>\n",
              "      <td>Significant_Damage_And_Fatalities</td>\n",
              "    </tr>\n",
              "    <tr>\n",
              "      <th>...</th>\n",
              "      <td>...</td>\n",
              "    </tr>\n",
              "    <tr>\n",
              "      <th>12484</th>\n",
              "      <td>Highly_Fatal_And_Damaging</td>\n",
              "    </tr>\n",
              "    <tr>\n",
              "      <th>12487</th>\n",
              "      <td>Significant_Damage_And_Serious_Injuries</td>\n",
              "    </tr>\n",
              "    <tr>\n",
              "      <th>12488</th>\n",
              "      <td>Significant_Damage_And_Serious_Injuries</td>\n",
              "    </tr>\n",
              "    <tr>\n",
              "      <th>12491</th>\n",
              "      <td>Significant_Damage_And_Serious_Injuries</td>\n",
              "    </tr>\n",
              "    <tr>\n",
              "      <th>12493</th>\n",
              "      <td>Highly_Fatal_And_Damaging</td>\n",
              "    </tr>\n",
              "  </tbody>\n",
              "</table>\n",
              "<p>2500 rows × 1 columns</p>\n",
              "</div>"
            ],
            "text/plain": [
              "                                            Severity\n",
              "Accident_ID                                         \n",
              "1                          Highly_Fatal_And_Damaging\n",
              "10                 Significant_Damage_And_Fatalities\n",
              "14           Significant_Damage_And_Serious_Injuries\n",
              "17                         Highly_Fatal_And_Damaging\n",
              "21                 Significant_Damage_And_Fatalities\n",
              "...                                              ...\n",
              "12484                      Highly_Fatal_And_Damaging\n",
              "12487        Significant_Damage_And_Serious_Injuries\n",
              "12488        Significant_Damage_And_Serious_Injuries\n",
              "12491        Significant_Damage_And_Serious_Injuries\n",
              "12493                      Highly_Fatal_And_Damaging\n",
              "\n",
              "[2500 rows x 1 columns]"
            ]
          },
          "metadata": {
            "tags": []
          },
          "execution_count": 58
        }
      ]
    },
    {
      "cell_type": "code",
      "metadata": {
        "id": "GCKVJkZifMXy",
        "colab_type": "code",
        "colab": {}
      },
      "source": [
        "pd.DataFrame(p, columns=['Severity']).to_csv('submission.csv')"
      ],
      "execution_count": 0,
      "outputs": []
    }
  ]
}
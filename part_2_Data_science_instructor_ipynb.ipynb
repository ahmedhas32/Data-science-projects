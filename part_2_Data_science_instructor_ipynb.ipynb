{
  "nbformat": 4,
  "nbformat_minor": 0,
  "metadata": {
    "colab": {
      "name": "part 2 - Data science instructor.ipynb.ipynb",
      "provenance": [],
      "collapsed_sections": []
    },
    "kernelspec": {
      "name": "python3",
      "display_name": "Python 3"
    }
  },
  "cells": [
    {
      "cell_type": "code",
      "metadata": {
        "id": "rBtwHDSpCFHC",
        "colab_type": "code",
        "outputId": "0e4c9d28-273e-4d78-ef16-0adc3400ca5f",
        "colab": {
          "base_uri": "https://localhost:8080/",
          "height": 124
        }
      },
      "source": [
        "from google.colab import drive\n",
        "drive.mount('/content/drive')"
      ],
      "execution_count": 0,
      "outputs": [
        {
          "output_type": "stream",
          "text": [
            "Go to this URL in a browser: https://accounts.google.com/o/oauth2/auth?client_id=947318989803-6bn6qk8qdgf4n4g3pfee6491hc0brc4i.apps.googleusercontent.com&redirect_uri=urn%3aietf%3awg%3aoauth%3a2.0%3aoob&response_type=code&scope=email%20https%3a%2f%2fwww.googleapis.com%2fauth%2fdocs.test%20https%3a%2f%2fwww.googleapis.com%2fauth%2fdrive%20https%3a%2f%2fwww.googleapis.com%2fauth%2fdrive.photos.readonly%20https%3a%2f%2fwww.googleapis.com%2fauth%2fpeopleapi.readonly\n",
            "\n",
            "Enter your authorization code:\n",
            "··········\n",
            "Mounted at /content/drive\n"
          ],
          "name": "stdout"
        }
      ]
    },
    {
      "cell_type": "markdown",
      "metadata": {
        "id": "fMc9HI8nHXzZ",
        "colab_type": "text"
      },
      "source": [
        "## First : student-sample-1.py"
      ]
    },
    {
      "cell_type": "markdown",
      "metadata": {
        "id": "FzlqcP7cHaQb",
        "colab_type": "text"
      },
      "source": [
        "###1- Code\n",
        " "
      ]
    },
    {
      "cell_type": "code",
      "metadata": {
        "id": "VqviHltHHXTD",
        "colab_type": "code",
        "colab": {}
      },
      "source": [
        "import pandas as pd\n",
        "import numpy as np\n",
        "from sklearn import LinearRegression\n",
        "from sklearn.cross_validation import cross_val_score\n",
        "\n",
        "# Load data\n",
        "d = pd.read_csv('../data/train.csv')\n",
        "\n",
        "\n",
        "# Setup data for prediction\n",
        "x1 = data.SalaryNormalized\n",
        "x2 = pd.get_dummies(data.ContractType)\n",
        "\n",
        "# Setup model\n",
        "model = LinearRegression()\n",
        "\n",
        "# Evaluate model\n",
        "from sklearn.cross_validation import cross_val_score\n",
        "from sklearn.cross_validation import train_test_split\n",
        "scores = cross_val_score(model, x2, x1, cv=1, scoring='mean_absolute_error')\n",
        "print(scores.mean())"
      ],
      "execution_count": 0,
      "outputs": []
    },
    {
      "cell_type": "markdown",
      "metadata": {
        "id": "LI3vkcAIHlpA",
        "colab_type": "text"
      },
      "source": [
        "### Correction "
      ]
    },
    {
      "cell_type": "code",
      "metadata": {
        "id": "tIRQZzAmBOUY",
        "colab_type": "code",
        "outputId": "d19b4a8e-78a9-4ec3-b439-fde998488d2a",
        "colab": {
          "base_uri": "https://localhost:8080/",
          "height": 34
        }
      },
      "source": [
        "\n",
        "import pandas as pd\n",
        "import numpy as np\n",
        "from sklearn.linear_model import LinearRegression ### LinearRegression to be imported from sklearn.linear_model not directly from sklearn\n",
        "from sklearn.model_selection import cross_val_score ,train_test_split ### both cross_val_score ,train_test_split to be imported from sklearn.model_selection not sklearn.cross_validation\n",
        "### Note that it is not accurate to import train_test_split since it will not be needed later\n",
        "\n",
        "### it is also better to import all required libraries in the beginning of the code \n",
        "\n",
        "# Load data\n",
        "data = pd.read_csv('/content/drive/My Drive/part-2-data.train.csv') # naming data by 'd' not giving an error , but it is better to name it by a morre relative name to business requirements \n",
        "\n",
        "\n",
        "# Setup data for prediction\n",
        "x1 = data.SalaryNormalized\n",
        "x2 = pd.get_dummies(data.ContractType)\n",
        "\n",
        "# Setup model\n",
        "model = LinearRegression()\n",
        "\n",
        "model.fit(x2, x1)\n",
        "\n",
        "\n",
        "\n",
        "# Evaluate model\n",
        "\n",
        "scores = cross_val_score(model, x2, x1, cv=2, scoring='neg_mean_absolute_error' ) ### scoring option is 'neg_mean_absolute_error'not mean_absolute_error , he can know the correct option using : sklearn.metrics.SCORERS.keys() ,\n",
        "## also cv=1 means that cross validation is useless , since here we need at least a fold of data to train model and another to test , with cv=2 we have that , so we train model at least 2 times each time we train on a class \n",
        "####and test on the other  to  ensure each class is (approximately) equally represented across each test fold (which are of course combined in a complementary way to form training folds).\n",
        "print(scores.mean())"
      ],
      "execution_count": 26,
      "outputs": [
        {
          "output_type": "stream",
          "text": [
            "-11733.827883047157\n"
          ],
          "name": "stdout"
        }
      ]
    },
    {
      "cell_type": "markdown",
      "metadata": {
        "id": "fsAttZqyIqtT",
        "colab_type": "text"
      },
      "source": [
        "###2- Methodology\n",
        "\n"
      ]
    },
    {
      "cell_type": "markdown",
      "metadata": {
        "id": "q-Jsu8-KIxa8",
        "colab_type": "text"
      },
      "source": [
        "####  student should have run some describtive statistics , feature engineering  about variables , to check if all variables are in correct data type , if they include missing values like below : "
      ]
    },
    {
      "cell_type": "code",
      "metadata": {
        "id": "qT055-dcKScR",
        "colab_type": "code",
        "outputId": "81c5b48a-2ced-43fd-e231-5e7e39f5fd4b",
        "colab": {
          "base_uri": "https://localhost:8080/",
          "height": 312
        }
      },
      "source": [
        "d.info()"
      ],
      "execution_count": 0,
      "outputs": [
        {
          "output_type": "stream",
          "text": [
            "<class 'pandas.core.frame.DataFrame'>\n",
            "RangeIndex: 10000 entries, 0 to 9999\n",
            "Data columns (total 12 columns):\n",
            "Id                    10000 non-null int64\n",
            "Title                 9999 non-null object\n",
            "FullDescription       10000 non-null object\n",
            "LocationRaw           10000 non-null object\n",
            "LocationNormalized    10000 non-null object\n",
            "ContractType          3556 non-null object\n",
            "ContractTime          4737 non-null object\n",
            "Company               5951 non-null object\n",
            "Category              10000 non-null object\n",
            "SalaryRaw             10000 non-null object\n",
            "SalaryNormalized      10000 non-null int64\n",
            "SourceName            10000 non-null object\n",
            "dtypes: int64(2), object(10)\n",
            "memory usage: 937.6+ KB\n"
          ],
          "name": "stdout"
        }
      ]
    },
    {
      "cell_type": "code",
      "metadata": {
        "id": "af1coQWyC9q3",
        "colab_type": "code",
        "outputId": "9ac9890b-1128-4d2b-8499-06a2a7711b16",
        "colab": {
          "base_uri": "https://localhost:8080/",
          "height": 393
        }
      },
      "source": [
        "d.head()"
      ],
      "execution_count": 0,
      "outputs": [
        {
          "output_type": "execute_result",
          "data": {
            "text/html": [
              "<div>\n",
              "<style scoped>\n",
              "    .dataframe tbody tr th:only-of-type {\n",
              "        vertical-align: middle;\n",
              "    }\n",
              "\n",
              "    .dataframe tbody tr th {\n",
              "        vertical-align: top;\n",
              "    }\n",
              "\n",
              "    .dataframe thead th {\n",
              "        text-align: right;\n",
              "    }\n",
              "</style>\n",
              "<table border=\"1\" class=\"dataframe\">\n",
              "  <thead>\n",
              "    <tr style=\"text-align: right;\">\n",
              "      <th></th>\n",
              "      <th>Id</th>\n",
              "      <th>Title</th>\n",
              "      <th>FullDescription</th>\n",
              "      <th>LocationRaw</th>\n",
              "      <th>LocationNormalized</th>\n",
              "      <th>ContractType</th>\n",
              "      <th>ContractTime</th>\n",
              "      <th>Company</th>\n",
              "      <th>Category</th>\n",
              "      <th>SalaryRaw</th>\n",
              "      <th>SalaryNormalized</th>\n",
              "      <th>SourceName</th>\n",
              "    </tr>\n",
              "  </thead>\n",
              "  <tbody>\n",
              "    <tr>\n",
              "      <th>0</th>\n",
              "      <td>12612628</td>\n",
              "      <td>Engineering Systems Analyst</td>\n",
              "      <td>Engineering Systems Analyst Dorking Surrey Sal...</td>\n",
              "      <td>Dorking, Surrey, Surrey</td>\n",
              "      <td>Dorking</td>\n",
              "      <td>NaN</td>\n",
              "      <td>permanent</td>\n",
              "      <td>Gregory Martin International</td>\n",
              "      <td>Engineering Jobs</td>\n",
              "      <td>20000 - 30000/annum 20-30K</td>\n",
              "      <td>25000</td>\n",
              "      <td>cv-library.co.uk</td>\n",
              "    </tr>\n",
              "    <tr>\n",
              "      <th>1</th>\n",
              "      <td>12612830</td>\n",
              "      <td>Stress Engineer Glasgow</td>\n",
              "      <td>Stress Engineer Glasgow Salary **** to **** We...</td>\n",
              "      <td>Glasgow, Scotland, Scotland</td>\n",
              "      <td>Glasgow</td>\n",
              "      <td>NaN</td>\n",
              "      <td>permanent</td>\n",
              "      <td>Gregory Martin International</td>\n",
              "      <td>Engineering Jobs</td>\n",
              "      <td>25000 - 35000/annum 25-35K</td>\n",
              "      <td>30000</td>\n",
              "      <td>cv-library.co.uk</td>\n",
              "    </tr>\n",
              "    <tr>\n",
              "      <th>2</th>\n",
              "      <td>12612844</td>\n",
              "      <td>Modelling and simulation analyst</td>\n",
              "      <td>Mathematical Modeller / Simulation Analyst / O...</td>\n",
              "      <td>Hampshire, South East, South East</td>\n",
              "      <td>Hampshire</td>\n",
              "      <td>NaN</td>\n",
              "      <td>permanent</td>\n",
              "      <td>Gregory Martin International</td>\n",
              "      <td>Engineering Jobs</td>\n",
              "      <td>20000 - 40000/annum 20-40K</td>\n",
              "      <td>30000</td>\n",
              "      <td>cv-library.co.uk</td>\n",
              "    </tr>\n",
              "    <tr>\n",
              "      <th>3</th>\n",
              "      <td>12613049</td>\n",
              "      <td>Engineering Systems Analyst / Mathematical Mod...</td>\n",
              "      <td>Engineering Systems Analyst / Mathematical Mod...</td>\n",
              "      <td>Surrey, South East, South East</td>\n",
              "      <td>Surrey</td>\n",
              "      <td>NaN</td>\n",
              "      <td>permanent</td>\n",
              "      <td>Gregory Martin International</td>\n",
              "      <td>Engineering Jobs</td>\n",
              "      <td>25000 - 30000/annum 25K-30K negotiable</td>\n",
              "      <td>27500</td>\n",
              "      <td>cv-library.co.uk</td>\n",
              "    </tr>\n",
              "    <tr>\n",
              "      <th>4</th>\n",
              "      <td>12613647</td>\n",
              "      <td>Pioneer, Miser Engineering Systems Analyst</td>\n",
              "      <td>Pioneer, Miser  Engineering Systems Analyst Do...</td>\n",
              "      <td>Surrey, South East, South East</td>\n",
              "      <td>Surrey</td>\n",
              "      <td>NaN</td>\n",
              "      <td>permanent</td>\n",
              "      <td>Gregory Martin International</td>\n",
              "      <td>Engineering Jobs</td>\n",
              "      <td>20000 - 30000/annum 20-30K</td>\n",
              "      <td>25000</td>\n",
              "      <td>cv-library.co.uk</td>\n",
              "    </tr>\n",
              "  </tbody>\n",
              "</table>\n",
              "</div>"
            ],
            "text/plain": [
              "         Id  ...        SourceName\n",
              "0  12612628  ...  cv-library.co.uk\n",
              "1  12612830  ...  cv-library.co.uk\n",
              "2  12612844  ...  cv-library.co.uk\n",
              "3  12613049  ...  cv-library.co.uk\n",
              "4  12613647  ...  cv-library.co.uk\n",
              "\n",
              "[5 rows x 12 columns]"
            ]
          },
          "metadata": {
            "tags": []
          },
          "execution_count": 8
        }
      ]
    },
    {
      "cell_type": "code",
      "metadata": {
        "id": "OOy2OddkK9zI",
        "colab_type": "code",
        "outputId": "1447dabf-43bc-4ee8-b4f0-fa4747f682bf",
        "colab": {
          "base_uri": "https://localhost:8080/",
          "height": 1000
        }
      },
      "source": [
        " for i in d.columns : \n",
        "    if d.dtypes[i] == 'object' : \n",
        "      print('frequencies of ' + i )\n",
        "      print (d[i].value_counts())\n",
        "      print(' ')"
      ],
      "execution_count": 0,
      "outputs": [
        {
          "output_type": "stream",
          "text": [
            "frequencies of Title\n",
            "Staff Nurse                                                   78\n",
            "Home Manager                                                  61\n",
            "Dental Nurse                                                  39\n",
            "Deputy Manager                                                32\n",
            "Project Manager                                               24\n",
            "                                                              ..\n",
            "Net Developer  London  Asset Management  3 Months              1\n",
            "Perm RMN Clinical LeadNorth Shields****ph FT excellent opp     1\n",
            "Staff Nurse Job Rugby                                          1\n",
            "New Claims Handler                                             1\n",
            "Nursing Home Manager Job Manchester                            1\n",
            "Name: Title, Length: 8273, dtype: int64\n",
            " \n",
            "frequencies of FullDescription\n",
            "Would you like a rewarding career within the healthcare sector? Do you enjoy providing excellent service and caring for customers? Are you an individual who understands and listens to others? Are you complemented on your energy and drive? If this sounds like you, this could be the opportunity you have been waiting for. Saga Healthcare is one of the UK's leading providers of health and social care and right now we are searching for a Branch Manager to continue the excellence within our homecare division, delivering quality care services to the local community If you have the passion to lead an established and professional team then this could be the role for you. Already recognised as a people focused, quality driven manager, you could now become part of the future of home based care. For an initial individual discussion, please call our dedicated team, who are waiting to hear from you. Contact us now on : **** **** or email careersalliedhealthcare.com Saga Healthcare Group is an equal opportunities employer and is regulated by CQC, CSSIW and SCSWIS.We are committed to safeguarding and promoting the welfare of children, adults and young people and expects all staff to share this commitment                                                                                                                                                                                                                                                                                                                                                                                                                                                                                                                                                                                                                                                                                                                                                                                                                                                                                                                                                                                                                                                                                                                                                                                                                                                                                                                                                                                                                                                                                                                                                                                                                                                                                                                                                                                                                                                                5\n",
            "Position: Domestic Energy Assessor Salary: OTE ****k ****k Job Type: Selfemployed full time (nonexclusive) Organisation Description Nationwide Energy Services Ltd was established in 2005, in Swansea, South Wales and rapidly became a UK organisation, employing over **** people. From our offices at Matrix Park, our contact centre helps ****'s of satisfied customers per day; claim the energy efficiency grants they are entitled to. We are currently looking for active and fully accredited Domestic Energy Assessors to carry out Energy Performance Certificates (EPC). Job Description Reporting to the Area Sales Manager you will responsible for assessing the thermal performance of residential properties and generating and generating an EPC ready for lodgement. In addition, you will conduct basic property surveys to establish the requirements and suitability for cavity and loft insulation etc. Main Duties and Responsibilities: Home assessments for EPC generation and lodgement Home assessments for basic energy saving measures Assessing homes for alternative heating (e.g. condensing boilers, solar, heat pumps, etc) and other energy efficient products. Person Specification Knowledge, Skills and Qualifications: Customer focused and good communicator A Level 3 Diploma in Domestic Energy Assessment An understanding of the laws surrounding the role IT skills for using software to produce the EPC The ability to explain the EPC clearly to clients The ability to work well with a wide range of people Good observational skills The ability to take accurate measurements Good timemanagement skills A thorough and consistent approach The ability to keep legible, complete and accurate records Knowledge of construction methods, construction materials and heating systems Please contact in the first instance with an up to date CV Successful applicants will undergo an initial telephone screening process followed by a face to face interview with the Area sales manager. We may ask you to attend one of our assessment centres which are based around the UK. Equal Opportunities Nationwide Energy Services which is part of the Save Britain Money group is committed to a policy of equal opportunities for all work seekers and shall adhere to such a policy at all times and will review on an ongoing basis on all aspects of recruitment to avoid unlawful or undesirable discrimination. We will treat everyone equally irrespective of sex, sexual orientation, gender reassignment, marital or civil partnership status, pregnancy or maternity, age, disability, race, colour, ethnic or national origin, religion and beliefs, political beliefs or membership or nonmembership of a Trade Union and we place an obligation upon all staff to respect and act in accordance with the policy. Nationwide Energy Services will ensure that each candidate is assessed only in accordance with the candidate's merits, qualification and ability to perform the relevant duties required by the particular vacancy.               3\n",
            "Minimum Qualifications: Registered General Nurse Currently registered with NMC Responsible to: Home Manager Aims of post **** To ensure that high standards of resident and family care are maintained at all times, under the direction of the Home Manager. **** To maintain and motivate a professional and efficient staff and exercise leadership as part of the nursing team. **** To maintain a homely atmosphere and create a dignified environment. **** To ensure that all necessary standards are maintained in compliance with health care policy and Health Authority Guidelines. Functions **** Professional **** Administrative/Managerial **** Personnel **** Education and Training **** Professional Supervise the professional work of staff within the nursing home, in cooperation with the Home Manager in accordance with: a) NMC Code of Conduct b) Policy & Procedure Manual of the nursing home c) Employee Handbook d) Company Health & Safety Policy Assess, plan, implement and evaluate individualised care of residents. Ensure treatments are carried out as prescribed. Follow nursing home policy in respect of custody and administration of all drugs. Maintain personal contact with residents, their relatives and visitors to enhance the residents’ quality of life, and the good standing of the business. To continually update knowledge of nursing techniques and procedures and the relevant research that underpins nursing practice. Participate in the evaluation and review of policies and report to the Home Manager matters that effect policy. **** Administrative/Managerial Assist the Home Manager and his/her Deputy in the overall management of the nursing home as required. Assist in planning workloads and nursing resources as effectively as possible. Assist in maintaining stocks/stores at adequate levels, being mindful of the need for economy and good housekeeping. Ensure the safe care and custody of residents’ property in accordance with the nursing home policy. Report any accident/incident, loss or theft to the Home Manager and complete necessary statements promptly. Ensure that accurate nursing records are maintained in accordance with agreed policy. **** Personnel Maintain a working knowledge of: The Health And Safety At Work Act The Operational Policies Manual The Employee Handbook (for conditions of service, disciplinary/grievance procedure). Assist with the orientation of new staff to the nursing home. Assist with supervision and assessment of junior staff. **** Education & Training a) Attend study days and courses as appropriate with regards to PREP. b) Update clinical knowledge and skills in current research and nursing theories. c) Participate in inservice training for more junior members of staff. d) Assist in the orientation programmes of all new care staff and nursing employees. e) Participate in the NVQ programme for Care Assistants. Please call Rachel or Amy on **** **** or email resourcerkareplus.co.uk / perm.managerkareplus.co.uk                            3\n",
            "Minimum Qualifications: Registered General Nurse/Registered Mental Nurse Currently registered with NMC Responsible to: Home Manager Aims of post **** To ensure that high standards of resident and family care are maintained at all times, under the direction of the Home Manager. **** To maintain and motivate a professional and efficient staff and exercise leadership as part of the nursing team. **** To maintain a homely atmosphere and create a dignified environment. **** To ensure that all necessary standards are maintained in compliance with health care policy and Health Authority Guidelines. Functions **** Professional **** Administrative/Managerial **** Personnel **** Education and Training **** Professional Supervise the professional work of staff within the nursing home, in cooperation with the Home Manager in accordance with: a) NMC Code of Conduct b) Policy & Procedure Manual of the nursing home c) Employee Handbook d) Company Health & Safety Policy Assess, plan, implement and evaluate individualised care of residents. Ensure treatments are carried out as prescribed. Follow nursing home policy in respect of custody and administration of all drugs. Maintain personal contact with residents, their relatives and visitors to enhance the residents’ quality of life, and the good standing of the business. To continually update knowledge of nursing techniques and procedures and the relevant research that underpins nursing practice. Participate in the evaluation and review of policies and report to the Home Manager matters that effect policy. **** Administrative/Managerial Assist the Home Manager and his/her Deputy in the overall management of the nursing home as required. Assist in planning workloads and nursing resources as effectively as possible. Assist in maintaining stocks/stores at adequate levels, being mindful of the need for economy and good housekeeping. Ensure the safe care and custody of residents’ property in accordance with the nursing home policy. Report any accident/incident, loss or theft to the Home Manager and complete necessary statements promptly. Ensure that accurate nursing records are maintained in accordance with agreed policy. **** Personnel Maintain a working knowledge of: The Health And Safety At Work Act The Operational Policies Manual The Employee Handbook (for conditions of service, disciplinary/grievance procedure). Assist with the orientation of new staff to the nursing home. Assist with supervision and assessment of junior staff. **** Education & Training a) Attend study days and courses as appropriate with regards to PREP. b) Update clinical knowledge and skills in current research and nursing theories. c) Participate in inservice training for more junior members of staff. d) Assist in the orientation programmes of all new care staff and nursing employees. e) Participate in the NVQ programme for Care Assistants. Please call Rachel or Amy on **** **** or email resourcerkareplus.co.uk / perm.managerkareplus.co.uk    3\n",
            "Membership Advisor ****K plus uncapped OTE Join LA fitness  FIA Operator of the Year We are looking for our current and future heroes. We are looking for candidates for the role of Membership Advisor. Pure and simple you need to be driven, ambitious, tenacious and ready to prove yourself and to be the best at what you do. In return we will give you the opportunity to earn FANTASTIC commission, training, development and a clear and concise path to management. Sound good? LA fitness is a leading health and fitness chain with a portfolio of **** clubs nationwide and over a quarter of a million members. There has never been a more exciting time to join our company as we continue to become the employer of choice in the market place. We continue to invest heavily in both our facilities and our team members and are looking for inspirational and passionate characters for our business to help us achieve our goal. Membership Advisors are hugely important and valued parts of our business and are expected to provide our members with solutions to their fitness needs. They are also brand ambassadors and help promote the business to prospective new members, corporate businesses and friends of our members. Exceptional LA team members also have every chance of developingtheir career towards senior management through our development programmes and nothing gives us more pleasure than seeing our team members move from Membership Advisor to Management. We are looking for highly ambitious and motivated professionals and are keen to talk to passionate people from the hospitality, retail or health and fitness industries. You could also be a graduate and looking to begin your career  what we are looking for is the WILL It is essential that you are passionate about fitness and have fantastic people skills. Also very importantly you must be keen to work in a target driven environment. Benefits include a competitive basic salary, two complimentary memberships, 20 days holiday and a range of benefits If this sounds like the role you have been looking for simply click 'apply now' Due to the huge level of applications we regret that we will only be in contact with those candidates who meet the above criteria                                                                                                                                                                                                                                                                                                                                                                                                                                                                                                                                                                                                                                                                                                                                                                                                               2\n",
            "                                                                                                                                                                                                                                                                                                                                                                                                                                                                                                                                                                                                                                                                                                                                                                                                                                                                                                                                                                                                                                                                                                                                                                                                                                                                                                                                                                                                                                                                                                                                                                                                                                                                                                                                                                                                                                                                                                                                                                                                                                                                                                                                                                                                                                                                                                                                                                                                                                                                                                                                                                                                                                                                                                                                                                                                                                                                                                                                                                                                                                                                                                                      ..\n",
            "ICT Technician required for a well run Secondary School ? Haringey, North London ? Starting ASAP Are you an experienced school ICT Technician that has worked in the education sector and is looking for a well run School to join on a permanent basis? Do you have expert knowledge of school server systems and packages but are friendly and approachable at all times? If so this could be the post you have been looking for ICT Technician ? Large School located in Haringey, North London Permanent post ? 52 weeks contract ? Salary between **** and **** Career development opportunities and professional development Great working environment with lovely students and happy staff At the earliest opportunity this **** form entry primary school located in the Inner London Borough of Haringey is looking to appoint an experienced ICT Technician. The school is very stable with an ambitious Headteacher who has transformed the school into an outstanding place to live and work. The school has grown over the past two years and is now large compared to most Primary schools in the borough but is still oversubscribed on a yearly basis. The school?s senior leadership recognise the effort put in by all staff members and all are offered the opportunity to develop their careers. This role will require someone who has software and hardware knowledge. You will be expected to look after all elements of the schools ICT equipment including servers. You will be expected to do almost everything from installing new software and hardware to setting up classrooms for teachers. You will need an understanding of school software packages including SIMs plus all Microsoft packages. Finally the schools website and its development will also be part of the role. As with all school ICT roles you will need to be a flexible and approachable individual. You will need a can do attitude that is happy to help in anyway possible. You will be the first point of contact for all ICT issues and as such will be happy to deal with the trivial through to the complex. Experience of managing budgets and advising on purchasing is also desirable although not essential. The post is offered on a permanent basis and salary will be between **** and **** dependant on experience. If you think you have the skills and expertise this school is looking for please email your CV to Adrian at Edustaff today                                                                                                                                                                                                                                                                                                                                                                                                                                                                                                                                                                                                                                                     1\n",
            "Job title: Care Support Workers. Pulse Community Healthcare. Salary: **** per hour Location: Bolton. PULSE Community Healthcare are pleased to offer an exciting role as a carer working with a gentleman who has Muscular Dystrophy. You will be required to support the gentleman at Univierity assisting him with Stuides and taking notes. We require university/further education experience  university students in their 2nd year or above would be ideal. You must be flexible and able to assist with emergency cover at short notice. You must have previous experience within the health and social care sector. In return Pulse Community Healthcare offer: excellent rates of pay, ongoing career progression and development, free mandatory training and a dedicated Care Coordinator. If you are interested in this role please click apply today. PULSE Community Healthcare is market leader and is listed within the Sunday Times top 100 companies to work.                                                                                                                                                                                                                                                                                                                                                                                                                                                                                                                                                                                                                                                                                                                                                                                                                                                                                                                                                                                                                                                                                                                                                                                                                                                                                                                                                                                                                                                                                                                                                                                                                                                                                                                                                                                                                                                                                                                                                                                                                                                                                                                                        1\n",
            "Registered Nurse (RGN / RMN) Rate  Upto **** p/h  **** welcome bonus Location; Sunderland, County Durham Compass Associates are working with a leading care provider to appoint a Registered Nurse (RGN / RMN) for a medium sized Nursing Home. To apply, please send a copy of your CV to mjeffreyscompassltd.co.uk or contact Mike Jeffreys direct on **** **** **** for further information.                                                                                                                                                                                                                                                                                                                                                                                                                                                                                                                                                                                                                                                                                                                                                                                                                                                                                                                                                                                                                                                                                                                                                                                                                                                                                                                                                                                                                                                                                                                                                                                                                                                                                                                                                                                                                                                                                                                                                                                                                                                                                                                                                                                                                                                                                                                                                                                                                                                                                                                                                                                                                                                                                                                        1\n",
            "Virgin is well known for doing things better and we are constantly on the lookout for talented, imaginative and smart people to help deliver success. We are working hard to offer a real alternative to banking as usual a bank that aims to make everyone better off; our customers, staff, shareholders, business partners and the communities we serve. The AML Risk Specialist will be responsible for formulating, communicating and negotiating the fraud risk business requirements for the design and development of new Virgin Money s AML decisioning systems. They will be the goto subject matter expert in matters related to AML. Key responsibilities will include:Representing AML Risk in detailed discussion and debate around high level and detailed business requirements for new build risk systems and decisioning assets.Coordinating inputs and views staff from across Risk and the wider business in the engagement process with external suppliers throughout the design, build, testing and implementation lifecycle.Evaluating design and implementation options and make recommendations to the Risk Leadership team and appropriate wider business projects.Responsibility for the implementation, monitoring and reporting of new AML decisioning logic, in line with corporate objectives and regulatory parameters.Reviewing, challenging and implementing an appropriate combination of high quality statistical models, policy rules and system customer/ account origination and ongoing customer monitoring.Develop appropriate amendments to the AML Risk Policy for approval, including confirming, or proposing changes to ensure, it remains appropriate given the product and customer assessment.Placing TCF Principles at the centre of the AML policy development process and thereby provide recommendations for enhancement to AML policy and decisioning infrastructure through application of the AML policy change process to the appropriate governance groups. To be considered you will have previous experience and expertise in AML systems and process design. You will also have experience across the risk lifecycle from originations through to account management. This role requires extensive interaction with senior management, therefore excellent stakeholder management and communication skills are essential.                                                                                                                                                                                                                                                                                                                                                                                                                                                                                                                                                                                                                                                                                                                                 1\n",
            "Registered Nurse RN  Minehead, Somerset  Permanent Full Time **** hours  GBP **** A fantastic opportunity has become available for a Registered Nurse RN to work within the elderly nursing home environment. This is an attractive Converted home, owned by an excellent nursing home provider who are currently going through a period of growth to support elderly residents based in Mindhead, Somerset As part of a team your role will include: **** hours/week Day to day care and administration of medication to patients Plan, implement and supervise the provision of quality care Maintain a safe and secure environment Working Either Days or Nights depending on Preference The Candidate: Must be a qualified RN Registered Nurse^ Complete satisfactory POVA and CRB checks Able to demonstrate a proven track record within a nursing environment Committed and dedicated to their role as a registered nurse Understanding the NMC code of conduct Must be able to work on own initiative. Good communication skills with a caring and professional approach to your work. If you would like to apply for the position please email your CV to samuelwhiterecruitment.com or for more info please call Sam at White Recruitment on **** If your experience matches please forward your CV immediately White Recruitment Ltd is acting as an Employment Agency in relation to this vacancy                                                                                                                                                                                                                                                                                                                                                                                                                                                                                                                                                                                                                                                                                                                                                                                                                                                                                                                                                                                                                                                                                                                                                                                                                                                                                                                                                                                                                                                                                                                                                                                                                                                                                                          1\n",
            "Name: FullDescription, Length: 9940, dtype: int64\n",
            " \n",
            "frequencies of LocationRaw\n",
            "London                                                       637\n",
            "UK                                                           335\n",
            "Belfast                                                      225\n",
            "Leeds                                                        166\n",
            "Manchester                                                   145\n",
            "                                                            ... \n",
            "Bradford, Castleford, Dewsbury, Halifax, Huddersfield, We      1\n",
            "Cwmbran, Torfaen                                               1\n",
            "Saxmundham, Suffolk                                            1\n",
            "Horsham, West Sussex West Sussex South East                    1\n",
            "Bedford Bedfordshire South East                                1\n",
            "Name: LocationRaw, Length: 2399, dtype: int64\n",
            " \n",
            "frequencies of LocationNormalized\n",
            "UK              1337\n",
            "London           893\n",
            "Manchester       281\n",
            "Leeds            238\n",
            "Belfast          227\n",
            "                ... \n",
            "Ifield             1\n",
            "Prenton            1\n",
            "Banwell            1\n",
            "Armagh             1\n",
            "Fradley Park       1\n",
            "Name: LocationNormalized, Length: 899, dtype: int64\n",
            " \n",
            "frequencies of ContractType\n",
            "full_time    2978\n",
            "part_time     578\n",
            "Name: ContractType, dtype: int64\n",
            " \n",
            "frequencies of ContractTime\n",
            "permanent    4132\n",
            "contract      605\n",
            "Name: ContractTime, dtype: int64\n",
            " \n",
            "frequencies of Company\n",
            "JOBG8                        449\n",
            "Fresh Partnership            262\n",
            "ARRAY                        218\n",
            "Clear Selection              127\n",
            "Chef Results                 125\n",
            "                            ... \n",
            "MJ Recruitment Solutions       1\n",
            "ProLinea Ltd                   1\n",
            "Meridian Business Support      1\n",
            "Inspire Resourcing Ltd         1\n",
            "Allied Healthcare Group        1\n",
            "Name: Company, Length: 1197, dtype: int64\n",
            " \n",
            "frequencies of Category\n",
            "Healthcare & Nursing Jobs           3149\n",
            "IT Jobs                             1414\n",
            "Engineering Jobs                    1152\n",
            "Accounting & Finance Jobs            606\n",
            "HR & Recruitment Jobs                578\n",
            "Hospitality & Catering Jobs          525\n",
            "Sales Jobs                           426\n",
            "Teaching Jobs                        342\n",
            "Customer Services Jobs               257\n",
            "Other/General Jobs                   236\n",
            "Admin Jobs                           151\n",
            "Trade & Construction Jobs            148\n",
            "Scientific & QA Jobs                 129\n",
            "Logistics & Warehouse Jobs           110\n",
            "Manufacturing Jobs                   106\n",
            "Travel Jobs                          100\n",
            "Retail Jobs                           93\n",
            "PR, Advertising & Marketing Jobs      88\n",
            "Legal Jobs                            88\n",
            "Consultancy Jobs                      80\n",
            "Social work Jobs                      53\n",
            "Property Jobs                         44\n",
            "Energy, Oil & Gas Jobs                31\n",
            "Charity & Voluntary Jobs              23\n",
            "Creative & Design Jobs                22\n",
            "Maintenance Jobs                      20\n",
            "Graduate Jobs                         19\n",
            "Domestic help & Cleaning Jobs         10\n",
            "Name: Category, dtype: int64\n",
            " \n",
            "frequencies of SalaryRaw\n",
            "32 to 55 per hour                                             51\n",
            "40000 to 45000 per year                                       49\n",
            "10,000 - 20,000                                               43\n",
            "35000 to 40000 per year                                       39\n",
            "15,000 to 22,000 per year                                     31\n",
            "                                                              ..\n",
            "6.20/hr                                                        1\n",
            "30000 - 45000 per annum + Bonus + Pension + Benefits           1\n",
            "30000 - 33000/annum                                            1\n",
            "From 45,000 to 50,000 per annum + car allowance + benefits     1\n",
            "14,000-15,000 p.a.                                             1\n",
            "Name: SalaryRaw, Length: 5780, dtype: int64\n",
            " \n",
            "frequencies of SourceName\n",
            "careworx.co.uk            2946\n",
            "MyUkJobs                  1559\n",
            "cv-library.co.uk           874\n",
            "theitjobboard.co.uk        643\n",
            "fish4.co.uk                441\n",
            "                          ... \n",
            "londonjobs.co.uk             1\n",
            "nurseryworldjobs.co.uk       1\n",
            "rtmjobs.com                  1\n",
            "allhousingjobs.co.uk         1\n",
            "careerstructure.com          1\n",
            "Name: SourceName, Length: 74, dtype: int64\n",
            " \n"
          ],
          "name": "stdout"
        }
      ]
    },
    {
      "cell_type": "markdown",
      "metadata": {
        "id": "Nna1Y_neLHlc",
        "colab_type": "text"
      },
      "source": [
        "#### from the above brief describtion , we have some notes "
      ]
    },
    {
      "cell_type": "markdown",
      "metadata": {
        "id": "GpbfPcv2KWbZ",
        "colab_type": "text"
      },
      "source": [
        "#### 1 - we note that SalaryNormalized (our predicted variable) is  actually derived  from SalaryRaw so it would have made sense to take SalaryRaw as predicted variable and use any classification algorithm.\n",
        "\n",
        "#### 2-here we have ContractType , ContractTime  include missing values that should be handled before modeling or we should exclude them from analysis\n",
        "\n",
        "#### 3-also salary normalized ( our predicted variable) as mentioned in point 1  is actually derived  from SalaryRaw so it does not make sense to include SalaryRaw in analysis\n",
        "\n",
        "#### 4- similarly LocationNormalized is derived from LocationRaw so wes should n't include both in analysis\n",
        "\n",
        "#### 5- company name , and source name not seeming as effecting variable that affect salary , so we should not have included them in analysis"
      ]
    },
    {
      "cell_type": "markdown",
      "metadata": {
        "id": "gkPFygEyT6Yn",
        "colab_type": "text"
      },
      "source": [
        "### Also another extremely dangerous point when we use cv=1 in  means that cross validation is almost useless (so it gives error)  , since here we need at least a fold of data to train model and another to test we do that to guarntee that mean response value is almost equal in all folds , the more sample we have , the more we achieve that , with cv=2 we have that , so we train model at least 2 times each time we train on a class \n",
        "### and test on the other  to  ensure each class is (approximately) equally represented across each test fold (which are of course combined in a complementary way to form training folds)."
      ]
    },
    {
      "cell_type": "markdown",
      "metadata": {
        "id": "lDD1Z-9TNQZP",
        "colab_type": "text"
      },
      "source": [
        "\n",
        "\n",
        "## 3-Conceptual Understanding"
      ]
    },
    {
      "cell_type": "markdown",
      "metadata": {
        "id": "1vl0_YuvO4Ce",
        "colab_type": "text"
      },
      "source": [
        "#### student should have validated  assumptions of linear regression , like normality of the dependent variable , let's check it below : "
      ]
    },
    {
      "cell_type": "code",
      "metadata": {
        "id": "3SqaDlFSOwUm",
        "colab_type": "code",
        "outputId": "7ae29682-5c62-4c2d-a29e-1a542f969183",
        "colab": {
          "base_uri": "https://localhost:8080/",
          "height": 285
        }
      },
      "source": [
        "d['SalaryNormalized'].plot(kind='hist')"
      ],
      "execution_count": 0,
      "outputs": [
        {
          "output_type": "execute_result",
          "data": {
            "text/plain": [
              "<matplotlib.axes._subplots.AxesSubplot at 0x7f5cac89b860>"
            ]
          },
          "metadata": {
            "tags": []
          },
          "execution_count": 21
        },
        {
          "output_type": "display_data",
          "data": {
            "image/png": "[encoded data removed]",
            "text/plain": [
              "<Figure size 432x288 with 1 Axes>"
            ]
          },
          "metadata": {
            "tags": []
          }
        }
      ]
    },
    {
      "cell_type": "markdown",
      "metadata": {
        "id": "X4Po4o7KRqux",
        "colab_type": "text"
      },
      "source": [
        "### Here we have some points about conceptual understanding"
      ]
    },
    {
      "cell_type": "markdown",
      "metadata": {
        "id": "DdU_BWBwP_2X",
        "colab_type": "text"
      },
      "source": [
        "#### 1-so here it has skewness to the right , so we may need a transformation like log transformation for example \n",
        "\n",
        "#### 2-also in this case since all our independent variables are categorical we cans simply use ANOVA\n",
        "\n",
        "#### 3-Here also other models like randomforest regressors are considerable variants \n",
        "\n",
        "#### 4 - it may have been better , since SalaryNormalized (our predicted variable) is  actually derived  from SalaryRaw so it would have made sense to take SalaryRaw as predicted variable and use any classification algorithm.\n",
        "\n",
        "#### 5 - the point \"cv=1\" in cross_val_score reflects unawareness of k-fold cross validation concept\n",
        "\n",
        "\n"
      ]
    },
    {
      "cell_type": "markdown",
      "metadata": {
        "id": "1eSOKDwUWAoz",
        "colab_type": "text"
      },
      "source": [
        "## Second : student-sample-2.py"
      ]
    },
    {
      "cell_type": "markdown",
      "metadata": {
        "id": "Ysq6oa98WjF_",
        "colab_type": "text"
      },
      "source": [
        "###1- Code\n"
      ]
    },
    {
      "cell_type": "code",
      "metadata": {
        "id": "foepTqxTWicb",
        "colab_type": "code",
        "colab": {}
      },
      "source": [
        "#!/usr/bin/env python\n",
        "\n",
        "import pandas as pd\n",
        "import numpy as np\n",
        "from sklearn.linear_model import LinearRegression\n",
        "from sklearn.cross_validation import cross_val_score\n",
        "\n",
        "# Load data\n",
        "data = pd.read_csv('../data/train.csv')\n",
        "\n",
        "\n",
        "# Setup data for prediction\n",
        "y = data.SalaryNormalized\n",
        "X = pd.get_dummies(data.ContractType)\n",
        "\n",
        "# Setup model\n",
        "model = LinearRegression()\n",
        "\n",
        "# Evaluate model\n",
        "scores = cross_val_score(model, X, y, cv=5, scoring='mean_absolute_error')\n",
        "print(scores.mean())"
      ],
      "execution_count": 0,
      "outputs": []
    },
    {
      "cell_type": "markdown",
      "metadata": {
        "id": "BgNEpfVgWvcl",
        "colab_type": "text"
      },
      "source": [
        "### Correction "
      ]
    },
    {
      "cell_type": "code",
      "metadata": {
        "id": "FXc_RWr-W2J9",
        "colab_type": "code",
        "colab": {
          "base_uri": "https://localhost:8080/",
          "height": 34
        },
        "outputId": "f2ab3bf8-4fc5-4798-b0bc-86e60c2496f8"
      },
      "source": [
        "import pandas as pd\n",
        "import numpy as np\n",
        "from sklearn.linear_model import LinearRegression\n",
        "from sklearn.model_selection import cross_val_score # cross_val_score imported from sklearn.model_selection not sklearn.cross_validation\n",
        "\n",
        "# Load data\n",
        "data = pd.read_csv('/content/drive/My Drive/part-2-data.train.csv')\n",
        "\n",
        "\n",
        "# Setup data for prediction\n",
        "y = data.SalaryNormalized\n",
        "X = pd.get_dummies(data.ContractType)\n",
        "\n",
        "# Setup model\n",
        "model = LinearRegression()\n",
        "\n",
        "# Evaluate model\n",
        "scores = cross_val_score(model, X, y, cv=5, scoring='neg_mean_absolute_error') # scoring option is 'neg_mean_absolute_error'not mean_absolute_error , he can know the correct option using : sklearn.metrics.SCORERS.keys() \n",
        "print(scores.mean())"
      ],
      "execution_count": 25,
      "outputs": [
        {
          "output_type": "stream",
          "text": [
            "-11822.140231295069\n"
          ],
          "name": "stdout"
        }
      ]
    },
    {
      "cell_type": "markdown",
      "metadata": {
        "id": "qG7QjfimX5eU",
        "colab_type": "text"
      },
      "source": [
        "###2- Methodology\n"
      ]
    },
    {
      "cell_type": "markdown",
      "metadata": {
        "id": "o-uWjDZAX6ou",
        "colab_type": "text"
      },
      "source": [
        "#### Exactly same as student 1\n",
        "\n",
        "\n",
        "\n",
        " \n",
        "\n",
        "#### Except here student avoided the error of having cv=1 "
      ]
    },
    {
      "cell_type": "markdown",
      "metadata": {
        "id": "V0PapeRDYvXL",
        "colab_type": "text"
      },
      "source": [
        "## 3-Conceptual Understanding"
      ]
    },
    {
      "cell_type": "markdown",
      "metadata": {
        "id": "u1lCjwPPY9HD",
        "colab_type": "text"
      },
      "source": [
        "#### Exactly same as student 1"
      ]
    }
  ]
}
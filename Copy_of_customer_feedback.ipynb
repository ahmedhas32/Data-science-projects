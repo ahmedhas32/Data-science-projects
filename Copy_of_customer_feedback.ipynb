{
  "nbformat": 4,
  "nbformat_minor": 0,
  "metadata": {
    "colab": {
      "name": "Copy of customer feedback ",
      "provenance": [],
      "collapsed_sections": []
    },
    "kernelspec": {
      "name": "python3",
      "display_name": "Python 3"
    }
  },
  "cells": [
    {
      "cell_type": "markdown",
      "metadata": {
        "id": "-1Qz0FPwDNIP",
        "colab_type": "text"
      },
      "source": [
        "## Before all , we import necessary libraries"
      ]
    },
    {
      "cell_type": "code",
      "metadata": {
        "id": "YB8BncVtIP5G",
        "colab_type": "code",
        "colab": {}
      },
      "source": [
        "\n",
        "import numpy as np # linear algebra\n",
        "import pandas as pd # data processing, CSV file I/O (e.g. pd.read_csv)\n",
        "import matplotlib.pyplot as plt\n",
        "import seaborn as sns\n",
        "from sklearn.model_selection import GridSearchCV, train_test_split\n",
        "from xgboost import XGBRegressor\n",
        "import statsmodels.api as sm\n",
        "from pylab import rcParams\n",
        "import warnings\n",
        "import itertools\n",
        "from sklearn.linear_model import LinearRegression\n",
        "\n",
        "\n",
        "from sklearn.metrics import r2_score\n",
        "from sklearn.metrics import mean_squared_error\n",
        "from sklearn.cluster import KMeans\n",
        "# Input data files are available in the \"../input/\" directory.\n",
        "# For example, running this (by clicking run or pressing Shift+Enter) will list all files under the input directory\n",
        "\n"
      ],
      "execution_count": 0,
      "outputs": []
    },
    {
      "cell_type": "markdown",
      "metadata": {
        "id": "UFqcNy1oDTxz",
        "colab_type": "text"
      },
      "source": [
        "#### Ignoring warnings code to have a clean code"
      ]
    },
    {
      "cell_type": "code",
      "metadata": {
        "id": "TT_8qaE__2Jb",
        "colab_type": "code",
        "colab": {}
      },
      "source": [
        "import warnings\n",
        "warnings.simplefilter(action='ignore')"
      ],
      "execution_count": 0,
      "outputs": []
    },
    {
      "cell_type": "markdown",
      "metadata": {
        "id": "nSHBNYbqDYrp",
        "colab_type": "text"
      },
      "source": [
        "#### importing natural language processing libraries"
      ]
    },
    {
      "cell_type": "code",
      "metadata": {
        "id": "aG2QYnVyItVY",
        "colab_type": "code",
        "outputId": "bfbc42ca-35b4-4b6d-fc58-336efa51adcf",
        "colab": {
          "base_uri": "https://localhost:8080/",
          "height": 383
        }
      },
      "source": [
        "##importing package and its required dictionnaries\n",
        "import nltk\n",
        "from nltk.corpus import wordnet \n",
        "from nltk.tree import Tree\n",
        "from nltk.chunk import ne_chunk\n",
        "from nltk import sentiment\n",
        "from nltk.corpus import opinion_lexicon\n",
        "\n",
        "from nltk.corpus import stopwords\n",
        " \n",
        "\n",
        "nltk.download('averaged_perceptron_tagger')\n",
        "nltk.download('punkt')\n",
        "nltk.download('universal_tagset')\n",
        "nltk.download('maxent_ne_chunker')\n",
        "nltk.download('words')\n",
        "nltk.download('opinion_lexicon')\n",
        "nltk.download('wordnet')\n",
        "nltk.download('vader_lexicon')\n",
        "nltk.download('stopwords')\n"
      ],
      "execution_count": 0,
      "outputs": [
        {
          "output_type": "stream",
          "text": [
            "[nltk_data] Downloading package averaged_perceptron_tagger to\n",
            "[nltk_data]     /root/nltk_data...\n",
            "[nltk_data]   Package averaged_perceptron_tagger is already up-to-\n",
            "[nltk_data]       date!\n",
            "[nltk_data] Downloading package punkt to /root/nltk_data...\n",
            "[nltk_data]   Package punkt is already up-to-date!\n",
            "[nltk_data] Downloading package universal_tagset to /root/nltk_data...\n",
            "[nltk_data]   Package universal_tagset is already up-to-date!\n",
            "[nltk_data] Downloading package maxent_ne_chunker to\n",
            "[nltk_data]     /root/nltk_data...\n",
            "[nltk_data]   Package maxent_ne_chunker is already up-to-date!\n",
            "[nltk_data] Downloading package words to /root/nltk_data...\n",
            "[nltk_data]   Package words is already up-to-date!\n",
            "[nltk_data] Downloading package opinion_lexicon to /root/nltk_data...\n",
            "[nltk_data]   Package opinion_lexicon is already up-to-date!\n",
            "[nltk_data] Downloading package wordnet to /root/nltk_data...\n",
            "[nltk_data]   Package wordnet is already up-to-date!\n",
            "[nltk_data] Downloading package vader_lexicon to /root/nltk_data...\n",
            "[nltk_data]   Package vader_lexicon is already up-to-date!\n",
            "[nltk_data] Downloading package stopwords to /root/nltk_data...\n",
            "[nltk_data]   Package stopwords is already up-to-date!\n"
          ],
          "name": "stdout"
        },
        {
          "output_type": "execute_result",
          "data": {
            "text/plain": [
              "True"
            ]
          },
          "metadata": {
            "tags": []
          },
          "execution_count": 3
        }
      ]
    },
    {
      "cell_type": "markdown",
      "metadata": {
        "id": "M_cX7LuSEegS",
        "colab_type": "text"
      },
      "source": [
        "#### helping libraries for learning"
      ]
    },
    {
      "cell_type": "code",
      "metadata": {
        "id": "xwzRs_Chyd3b",
        "colab_type": "code",
        "outputId": "5f50fa93-9e31-4358-9dfb-efc47d7dc639",
        "colab": {
          "base_uri": "https://localhost:8080/",
          "height": 33
        }
      },
      "source": [
        "\n",
        "from sklearn.model_selection import train_test_split\n",
        "from sklearn.ensemble import RandomForestRegressor\n"
      ],
      "execution_count": 0,
      "outputs": [
        {
          "output_type": "stream",
          "text": [
            "Using TensorFlow backend.\n"
          ],
          "name": "stderr"
        }
      ]
    },
    {
      "cell_type": "markdown",
      "metadata": {
        "id": "6hvYZOH1Ei2B",
        "colab_type": "text"
      },
      "source": [
        "#### then we load  the data (using google colab)"
      ]
    },
    {
      "cell_type": "code",
      "metadata": {
        "colab_type": "code",
        "id": "_mSd-mM76Eeg",
        "colab": {}
      },
      "source": [
        "!pip install -U -q PyDrive\n",
        "from pydrive.auth import GoogleAuth\n",
        "from pydrive.drive import GoogleDrive\n",
        "from google.colab import auth\n",
        "from oauth2client.client import GoogleCredentials\n",
        "# Authenticate and create the PyDrive client.\n",
        "auth.authenticate_user()\n",
        "gauth = GoogleAuth()\n",
        "gauth.credentials = GoogleCredentials.get_application_default()\n",
        "drive = GoogleDrive(gauth)\n",
        "link='https://drive.google.com/open?id=1cjV7kCXYjeQ2UXsK9D75VoAxzMR6kTti'\n"
      ],
      "execution_count": 0,
      "outputs": []
    },
    {
      "cell_type": "markdown",
      "metadata": {
        "colab_type": "text",
        "id": "DYyLMYLH6Ees"
      },
      "source": [
        ""
      ]
    },
    {
      "cell_type": "code",
      "metadata": {
        "colab_type": "code",
        "id": "60AfHcQ_6Eeu",
        "colab": {}
      },
      "source": [
        ""
      ],
      "execution_count": 0,
      "outputs": []
    },
    {
      "cell_type": "code",
      "metadata": {
        "colab_type": "code",
        "id": "r984eI1D6Ee2",
        "outputId": "c62c95e7-3061-4d0a-d26e-d8ef0fc831c9",
        "colab": {
          "base_uri": "https://localhost:8080/",
          "height": 33
        }
      },
      "source": [
        "fluff, id = link.split('=')\n",
        "print (id) # Verify that you have everything after '='"
      ],
      "execution_count": 0,
      "outputs": [
        {
          "output_type": "stream",
          "text": [
            "1cjV7kCXYjeQ2UXsK9D75VoAxzMR6kTti\n"
          ],
          "name": "stdout"
        }
      ]
    },
    {
      "cell_type": "code",
      "metadata": {
        "colab_type": "code",
        "id": "-PG5C1an6EfA",
        "colab": {}
      },
      "source": [
        "downloaded = drive.CreateFile({'id':id}) \n",
        "downloaded.GetContentFile('train.csv')  "
      ],
      "execution_count": 0,
      "outputs": []
    },
    {
      "cell_type": "code",
      "metadata": {
        "id": "TNqjhQyH7kvz",
        "colab_type": "code",
        "colab": {}
      },
      "source": [
        "train=pd.read_csv('train.csv')"
      ],
      "execution_count": 0,
      "outputs": []
    },
    {
      "cell_type": "code",
      "metadata": {
        "id": "dSfv26AXJoh_",
        "colab_type": "code",
        "colab": {}
      },
      "source": [
        ""
      ],
      "execution_count": 0,
      "outputs": []
    },
    {
      "cell_type": "code",
      "metadata": {
        "colab_type": "code",
        "id": "hydnrpmmJox7",
        "colab": {}
      },
      "source": [
        "!pip install -U -q PyDrive\n",
        "from pydrive.auth import GoogleAuth\n",
        "from pydrive.drive import GoogleDrive\n",
        "from google.colab import auth\n",
        "from oauth2client.client import GoogleCredentials\n",
        "# Authenticate and create the PyDrive client.\n",
        "auth.authenticate_user()\n",
        "gauth = GoogleAuth()\n",
        "gauth.credentials = GoogleCredentials.get_application_default()\n",
        "drive = GoogleDrive(gauth)\n",
        "link='https://drive.google.com/open?id=1yqTUI8uahkN_GuhUuQRW1xfKa--QImIZ'\n"
      ],
      "execution_count": 0,
      "outputs": []
    },
    {
      "cell_type": "markdown",
      "metadata": {
        "colab_type": "text",
        "id": "8psDka8mJox9"
      },
      "source": [
        ""
      ]
    },
    {
      "cell_type": "code",
      "metadata": {
        "colab_type": "code",
        "id": "R1S2PpDnJox9",
        "colab": {}
      },
      "source": [
        ""
      ],
      "execution_count": 0,
      "outputs": []
    },
    {
      "cell_type": "code",
      "metadata": {
        "colab_type": "code",
        "id": "hwmzjL1jJox_",
        "outputId": "2409bc25-7160-4973-bc10-7ea5c0ebf8a8",
        "colab": {
          "base_uri": "https://localhost:8080/",
          "height": 33
        }
      },
      "source": [
        "fluff, id = link.split('=')\n",
        "print (id) # Verify that you have everything after '='"
      ],
      "execution_count": 0,
      "outputs": [
        {
          "output_type": "stream",
          "text": [
            "1yqTUI8uahkN_GuhUuQRW1xfKa--QImIZ\n"
          ],
          "name": "stdout"
        }
      ]
    },
    {
      "cell_type": "code",
      "metadata": {
        "colab_type": "code",
        "id": "FrhgnoS3JoyB",
        "colab": {}
      },
      "source": [
        "downloaded = drive.CreateFile({'id':id}) \n",
        "downloaded.GetContentFile('test.csv')  "
      ],
      "execution_count": 0,
      "outputs": []
    },
    {
      "cell_type": "code",
      "metadata": {
        "colab_type": "code",
        "id": "RvEdMBeTJoyC",
        "colab": {}
      },
      "source": [
        "test=pd.read_csv('test.csv')"
      ],
      "execution_count": 0,
      "outputs": []
    },
    {
      "cell_type": "code",
      "metadata": {
        "id": "WVvZ-W_YKAhA",
        "colab_type": "code",
        "outputId": "4567f76c-26d9-4540-a4e1-319f84fdda85",
        "colab": {
          "base_uri": "https://localhost:8080/",
          "height": 150
        }
      },
      "source": [
        "train.info()"
      ],
      "execution_count": 0,
      "outputs": [
        {
          "output_type": "stream",
          "text": [
            "<class 'pandas.core.frame.DataFrame'>\n",
            "RangeIndex: 5959 entries, 0 to 5958\n",
            "Data columns (total 3 columns):\n",
            "Review Text     5959 non-null object\n",
            "Review Title    5959 non-null object\n",
            "topic           5959 non-null object\n",
            "dtypes: object(3)\n",
            "memory usage: 139.7+ KB\n"
          ],
          "name": "stdout"
        }
      ]
    },
    {
      "cell_type": "code",
      "metadata": {
        "id": "3Z_sNrLKLp4a",
        "colab_type": "code",
        "outputId": "73eec3ea-3964-49c3-d5f6-2e4257b995b2",
        "colab": {
          "base_uri": "https://localhost:8080/",
          "height": 133
        }
      },
      "source": [
        "test.info()"
      ],
      "execution_count": 0,
      "outputs": [
        {
          "output_type": "stream",
          "text": [
            "<class 'pandas.core.frame.DataFrame'>\n",
            "RangeIndex: 2553 entries, 0 to 2552\n",
            "Data columns (total 2 columns):\n",
            "Review Text     2553 non-null object\n",
            "Review Title    2553 non-null object\n",
            "dtypes: object(2)\n",
            "memory usage: 40.0+ KB\n"
          ],
          "name": "stdout"
        }
      ]
    },
    {
      "cell_type": "code",
      "metadata": {
        "id": "_ODAKbHxMKKg",
        "colab_type": "code",
        "colab": {}
      },
      "source": [
        ""
      ],
      "execution_count": 0,
      "outputs": []
    },
    {
      "cell_type": "code",
      "metadata": {
        "colab_type": "code",
        "id": "BWF-KQfNMKZz",
        "colab": {}
      },
      "source": [
        "!pip install -U -q PyDrive\n",
        "from pydrive.auth import GoogleAuth\n",
        "from pydrive.drive import GoogleDrive\n",
        "from google.colab import auth\n",
        "from oauth2client.client import GoogleCredentials\n",
        "# Authenticate and create the PyDrive client.\n",
        "auth.authenticate_user()\n",
        "gauth = GoogleAuth()\n",
        "gauth.credentials = GoogleCredentials.get_application_default()\n",
        "drive = GoogleDrive(gauth)\n",
        "link='https://drive.google.com/open?id=1L5-7ADVcfmRdmNjNKr2IOIrNAsOJPIbw'\n"
      ],
      "execution_count": 0,
      "outputs": []
    },
    {
      "cell_type": "markdown",
      "metadata": {
        "colab_type": "text",
        "id": "Ni6SkjM1MM0U"
      },
      "source": [
        ""
      ]
    },
    {
      "cell_type": "code",
      "metadata": {
        "colab_type": "code",
        "id": "AEBi3PdYMM0V",
        "colab": {}
      },
      "source": [
        ""
      ],
      "execution_count": 0,
      "outputs": []
    },
    {
      "cell_type": "code",
      "metadata": {
        "colab_type": "code",
        "id": "le1yRpbBMM0W",
        "outputId": "dbc7eb17-ddb8-4bb8-e678-81d69370cfc2",
        "colab": {
          "base_uri": "https://localhost:8080/",
          "height": 33
        }
      },
      "source": [
        "fluff, id = link.split('=')\n",
        "print (id) # Verify that you have everything after '='"
      ],
      "execution_count": 0,
      "outputs": [
        {
          "output_type": "stream",
          "text": [
            "1L5-7ADVcfmRdmNjNKr2IOIrNAsOJPIbw\n"
          ],
          "name": "stdout"
        }
      ]
    },
    {
      "cell_type": "code",
      "metadata": {
        "colab_type": "code",
        "id": "oSYzgqjVMM0Z",
        "colab": {}
      },
      "source": [
        "downloaded = drive.CreateFile({'id':id}) \n",
        "downloaded.GetContentFile('Sample_Submission.csv')  "
      ],
      "execution_count": 0,
      "outputs": []
    },
    {
      "cell_type": "code",
      "metadata": {
        "colab_type": "code",
        "id": "roICm6i0MM0a",
        "colab": {}
      },
      "source": [
        "sample_submission=pd.read_csv('Sample_Submission.csv')"
      ],
      "execution_count": 0,
      "outputs": []
    },
    {
      "cell_type": "markdown",
      "metadata": {
        "colab_type": "text",
        "id": "T4zOe3HYMKZ2"
      },
      "source": [
        ""
      ]
    },
    {
      "cell_type": "code",
      "metadata": {
        "colab_type": "code",
        "id": "Ogf0VoU4MKZ2",
        "outputId": "16e56d02-6128-45e4-8c3d-6c7b6f0cda4d",
        "colab": {
          "base_uri": "https://localhost:8080/",
          "height": 150
        }
      },
      "source": [
        "sample_submission.info()"
      ],
      "execution_count": 0,
      "outputs": [
        {
          "output_type": "stream",
          "text": [
            "<class 'pandas.core.frame.DataFrame'>\n",
            "RangeIndex: 5 entries, 0 to 4\n",
            "Data columns (total 3 columns):\n",
            "Review Text     5 non-null object\n",
            "Review Title    5 non-null object\n",
            "topic           5 non-null object\n",
            "dtypes: object(3)\n",
            "memory usage: 200.0+ bytes\n"
          ],
          "name": "stdout"
        }
      ]
    },
    {
      "cell_type": "markdown",
      "metadata": {
        "id": "DFV2_LE0EvFc",
        "colab_type": "text"
      },
      "source": [
        "### we set the option to make data view all contents of a column"
      ]
    },
    {
      "cell_type": "code",
      "metadata": {
        "id": "8xAxXhVt6t3z",
        "colab_type": "code",
        "colab": {}
      },
      "source": [
        "pd.set_option('display.max_colwidth', -1)"
      ],
      "execution_count": 0,
      "outputs": []
    },
    {
      "cell_type": "markdown",
      "metadata": {
        "id": "9LaV68nsE0jD",
        "colab_type": "text"
      },
      "source": [
        "#### run basic descriptives "
      ]
    },
    {
      "cell_type": "code",
      "metadata": {
        "id": "UaeV6YD0MrSo",
        "colab_type": "code",
        "outputId": "f1ac52cf-a36f-4d00-fe5c-9b25db8a8a5b",
        "colab": {
          "base_uri": "https://localhost:8080/",
          "height": 947
        }
      },
      "source": [
        "train.head(10)"
      ],
      "execution_count": 0,
      "outputs": [
        {
          "output_type": "execute_result",
          "data": {
            "text/html": [
              "<div>\n",
              "<style scoped>\n",
              "    .dataframe tbody tr th:only-of-type {\n",
              "        vertical-align: middle;\n",
              "    }\n",
              "\n",
              "    .dataframe tbody tr th {\n",
              "        vertical-align: top;\n",
              "    }\n",
              "\n",
              "    .dataframe thead th {\n",
              "        text-align: right;\n",
              "    }\n",
              "</style>\n",
              "<table border=\"1\" class=\"dataframe\">\n",
              "  <thead>\n",
              "    <tr style=\"text-align: right;\">\n",
              "      <th></th>\n",
              "      <th>Review Text</th>\n",
              "      <th>Review Title</th>\n",
              "      <th>topic</th>\n",
              "    </tr>\n",
              "  </thead>\n",
              "  <tbody>\n",
              "    <tr>\n",
              "      <th>0</th>\n",
              "      <td>Did nothing for me, didn't help lost even with working out and eating healthy. Didn't curb appetite or anything.</td>\n",
              "      <td>Useless</td>\n",
              "      <td>Shipment and delivery</td>\n",
              "    </tr>\n",
              "    <tr>\n",
              "      <th>1</th>\n",
              "      <td>Did nothing for me, didn't help lost even with working out and eating healthy. Didn't curb appetite or anything.</td>\n",
              "      <td>Useless</td>\n",
              "      <td>Not Effective</td>\n",
              "    </tr>\n",
              "    <tr>\n",
              "      <th>2</th>\n",
              "      <td>I have bought these bags and  immediately open one put in some trash and the bag was split down the side. So I opened another bag to cover the split bag and it also split down the side(x3).Don’t buy these you will end up throwing your box away</td>\n",
              "      <td>TRASH!!! Do not buy these bags it’s a waist of time!!!</td>\n",
              "      <td>Customer Service</td>\n",
              "    </tr>\n",
              "    <tr>\n",
              "      <th>3</th>\n",
              "      <td>Gave me an allergic reaction on my face :(</td>\n",
              "      <td>Do not recommend</td>\n",
              "      <td>Allergic</td>\n",
              "    </tr>\n",
              "    <tr>\n",
              "      <th>4</th>\n",
              "      <td>These don't compare to the name brand wipes. Family of 5 little kids, we use a lot of wipes. These don't cut through sticky messes and they're small and very thin. Might be ok for wiping down less often used places but not good at tackling actual messes. I also didn't care for the lemon scent, felt it was too strong.</td>\n",
              "      <td>Can't tackle big messes</td>\n",
              "      <td>Texture</td>\n",
              "    </tr>\n",
              "    <tr>\n",
              "      <th>5</th>\n",
              "      <td>These don't compare to the name brand wipes. Family of 5 little kids, we use a lot of wipes. These don't cut through sticky messes and they're small and very thin. Might be ok for wiping down less often used places but not good at tackling actual messes. I also didn't care for the lemon scent, felt it was too strong.</td>\n",
              "      <td>Can't tackle big messes</td>\n",
              "      <td>Quality/Contaminated</td>\n",
              "    </tr>\n",
              "    <tr>\n",
              "      <th>6</th>\n",
              "      <td>These don't compare to the name brand wipes. Family of 5 little kids, we use a lot of wipes. These don't cut through sticky messes and they're small and very thin. Might be ok for wiping down less often used places but not good at tackling actual messes. I also didn't care for the lemon scent, felt it was too strong.</td>\n",
              "      <td>Can't tackle big messes</td>\n",
              "      <td>Color and texture</td>\n",
              "    </tr>\n",
              "    <tr>\n",
              "      <th>7</th>\n",
              "      <td>No good</td>\n",
              "      <td>Tastes horrible</td>\n",
              "      <td>Bad Taste/Flavor</td>\n",
              "    </tr>\n",
              "    <tr>\n",
              "      <th>8</th>\n",
              "      <td>These are EXTREMELY hard to swallow. The pills are huge and the sides are sharp. I seriously feel like i can choke on them. I don’t know about their effects and honestly don’t care because it’s not worth the pain and danger.</td>\n",
              "      <td>CHOKING HAZARD</td>\n",
              "      <td>Too big to swallow</td>\n",
              "    </tr>\n",
              "    <tr>\n",
              "      <th>9</th>\n",
              "      <td>First of all the style I am leaving a review for is: Solimo incontinent Maximum Absorbency Long Length individually wrapped.&lt;br /&gt;I had always used a name brand but still had to search for something better.&lt;br /&gt;When I first ordered these, I must say I was very pleasantly surprised.&lt;br /&gt;For my daytime use, these worked great.&lt;br /&gt;They were very soft, long but not to long. Wide enough but not to wide.&lt;br /&gt;And they worked for those gushes. Well for myself, I really liked them.&lt;br /&gt;They stuck well, but not to much.&lt;br /&gt;And then they changed the outside wrapper.&lt;br /&gt;They used to be individually wrapped inwhich you would take off the outside wrap and then peel off the paper strip and then attach.&lt;br /&gt;But now what they have done is they have attached the paper strip to the outer wrap covering. So now when you unwrap it, the paper strip that covers the sticky stuff comes off all at the same time. Bad move!! Picture this, you go into the bathroom to change your pad. You take the new pad and go to take the outside wrap off but now the strip that covers the sticky part comes off as well. Now you have to somehow hold that new pad while taking off the old pad and wanting to use the outside wrap to wrap the old pad up but oops, now the new pad falls to the floor because you now have to hold on to everything at the same time. I used to be able to at least recycle the paper strip but you can't anymore because the outer wrap and the paper strip are attached. Why can't they just leave things the way they were? Now I'm stuck with yet another product that is crappy. I'm just not happy about the \"new\" changes. Please bring back the old style!!!</td>\n",
              "      <td>Bring back the old style!!</td>\n",
              "      <td>Quality/Contaminated</td>\n",
              "    </tr>\n",
              "  </tbody>\n",
              "</table>\n",
              "</div>"
            ],
            "text/plain": [
              "                                                                                                                                                                                                                                                                                                                                                                                                                                                                                                                                                                                                                                                                                                                                                                                                                                                                                                                                                                                                                                                                                                                                                                                                                                                                                                                                                                                                                                                                                                                                                                                                                                                                                                                   Review Text  ...                  topic\n",
              "0  Did nothing for me, didn't help lost even with working out and eating healthy. Didn't curb appetite or anything.                                                                                                                                                                                                                                                                                                                                                                                                                                                                                                                                                                                                                                                                                                                                                                                                                                                                                                                                                                                                                                                                                                                                                                                                                                                                                                                                                                                                                                                                                                                                                                                                             ...  Shipment and delivery\n",
              "1  Did nothing for me, didn't help lost even with working out and eating healthy. Didn't curb appetite or anything.                                                                                                                                                                                                                                                                                                                                                                                                                                                                                                                                                                                                                                                                                                                                                                                                                                                                                                                                                                                                                                                                                                                                                                                                                                                                                                                                                                                                                                                                                                                                                                                                             ...  Not Effective        \n",
              "2  I have bought these bags and  immediately open one put in some trash and the bag was split down the side. So I opened another bag to cover the split bag and it also split down the side(x3).Don’t buy these you will end up throwing your box away                                                                                                                                                                                                                                                                                                                                                                                                                                                                                                                                                                                                                                                                                                                                                                                                                                                                                                                                                                                                                                                                                                                                                                                                                                                                                                                                                                                                                                                                          ...  Customer Service     \n",
              "3  Gave me an allergic reaction on my face :(                                                                                                                                                                                                                                                                                                                                                                                                                                                                                                                                                                                                                                                                                                                                                                                                                                                                                                                                                                                                                                                                                                                                                                                                                                                                                                                                                                                                                                                                                                                                                                                                                                                                                   ...  Allergic             \n",
              "4  These don't compare to the name brand wipes. Family of 5 little kids, we use a lot of wipes. These don't cut through sticky messes and they're small and very thin. Might be ok for wiping down less often used places but not good at tackling actual messes. I also didn't care for the lemon scent, felt it was too strong.                                                                                                                                                                                                                                                                                                                                                                                                                                                                                                                                                                                                                                                                                                                                                                                                                                                                                                                                                                                                                                                                                                                                                                                                                                                                                                                                                                                               ...  Texture              \n",
              "5  These don't compare to the name brand wipes. Family of 5 little kids, we use a lot of wipes. These don't cut through sticky messes and they're small and very thin. Might be ok for wiping down less often used places but not good at tackling actual messes. I also didn't care for the lemon scent, felt it was too strong.                                                                                                                                                                                                                                                                                                                                                                                                                                                                                                                                                                                                                                                                                                                                                                                                                                                                                                                                                                                                                                                                                                                                                                                                                                                                                                                                                                                               ...  Quality/Contaminated \n",
              "6  These don't compare to the name brand wipes. Family of 5 little kids, we use a lot of wipes. These don't cut through sticky messes and they're small and very thin. Might be ok for wiping down less often used places but not good at tackling actual messes. I also didn't care for the lemon scent, felt it was too strong.                                                                                                                                                                                                                                                                                                                                                                                                                                                                                                                                                                                                                                                                                                                                                                                                                                                                                                                                                                                                                                                                                                                                                                                                                                                                                                                                                                                               ...  Color and texture    \n",
              "7  No good                                                                                                                                                                                                                                                                                                                                                                                                                                                                                                                                                                                                                                                                                                                                                                                                                                                                                                                                                                                                                                                                                                                                                                                                                                                                                                                                                                                                                                                                                                                                                                                                                                                                                                                      ...  Bad Taste/Flavor     \n",
              "8  These are EXTREMELY hard to swallow. The pills are huge and the sides are sharp. I seriously feel like i can choke on them. I don’t know about their effects and honestly don’t care because it’s not worth the pain and danger.                                                                                                                                                                                                                                                                                                                                                                                                                                                                                                                                                                                                                                                                                                                                                                                                                                                                                                                                                                                                                                                                                                                                                                                                                                                                                                                                                                                                                                                                                             ...  Too big to swallow   \n",
              "9  First of all the style I am leaving a review for is: Solimo incontinent Maximum Absorbency Long Length individually wrapped.<br />I had always used a name brand but still had to search for something better.<br />When I first ordered these, I must say I was very pleasantly surprised.<br />For my daytime use, these worked great.<br />They were very soft, long but not to long. Wide enough but not to wide.<br />And they worked for those gushes. Well for myself, I really liked them.<br />They stuck well, but not to much.<br />And then they changed the outside wrapper.<br />They used to be individually wrapped inwhich you would take off the outside wrap and then peel off the paper strip and then attach.<br />But now what they have done is they have attached the paper strip to the outer wrap covering. So now when you unwrap it, the paper strip that covers the sticky stuff comes off all at the same time. Bad move!! Picture this, you go into the bathroom to change your pad. You take the new pad and go to take the outside wrap off but now the strip that covers the sticky part comes off as well. Now you have to somehow hold that new pad while taking off the old pad and wanting to use the outside wrap to wrap the old pad up but oops, now the new pad falls to the floor because you now have to hold on to everything at the same time. I used to be able to at least recycle the paper strip but you can't anymore because the outer wrap and the paper strip are attached. Why can't they just leave things the way they were? Now I'm stuck with yet another product that is crappy. I'm just not happy about the \"new\" changes. Please bring back the old style!!!  ...  Quality/Contaminated \n",
              "\n",
              "[10 rows x 3 columns]"
            ]
          },
          "metadata": {
            "tags": []
          },
          "execution_count": 21
        }
      ]
    },
    {
      "cell_type": "markdown",
      "metadata": {
        "id": "eRBugSqtE5TU",
        "colab_type": "text"
      },
      "source": [
        "#### we notice the presence the same feedback for several topics like the first 2 rows , it is the same feedback related to 2 different topics "
      ]
    },
    {
      "cell_type": "markdown",
      "metadata": {
        "id": "c-8k9g6eGGK9",
        "colab_type": "text"
      },
      "source": [
        "#### let's check frequency of topics  :"
      ]
    },
    {
      "cell_type": "code",
      "metadata": {
        "id": "qgceVStjMuxA",
        "colab_type": "code",
        "outputId": "40f4c216-3632-4b92-bb9c-611a3a5b3bd9",
        "colab": {
          "base_uri": "https://localhost:8080/",
          "height": 383
        }
      },
      "source": [
        "train['topic'].value_counts()"
      ],
      "execution_count": 0,
      "outputs": [
        {
          "output_type": "execute_result",
          "data": {
            "text/plain": [
              "Bad Taste/Flavor           1194\n",
              "Quality/Contaminated       715 \n",
              "Not Effective              611 \n",
              "Allergic                   567 \n",
              "Packaging                  467 \n",
              "Texture                    410 \n",
              "Shipment and delivery      390 \n",
              "Customer Service           239 \n",
              "Color and texture          234 \n",
              "Too big to swallow         228 \n",
              "Ingredients                216 \n",
              "Expiry                     136 \n",
              "Smells Bad                 123 \n",
              "Pricing                    107 \n",
              "Wrong Product received     99  \n",
              "Too Sweet                  97  \n",
              "Inferior to competitors    44  \n",
              "False Advertisement        37  \n",
              "Didn't Like                31  \n",
              "Customer Issues            8   \n",
              "Hard to Chew               6   \n",
              "Name: topic, dtype: int64"
            ]
          },
          "metadata": {
            "tags": []
          },
          "execution_count": 22
        }
      ]
    },
    {
      "cell_type": "code",
      "metadata": {
        "id": "jMvpn6ORS3Bh",
        "colab_type": "code",
        "outputId": "44e9556b-fbd4-469a-8d18-ebcbf6a43302",
        "colab": {
          "base_uri": "https://localhost:8080/",
          "height": 116
        }
      },
      "source": [
        "train['Review Title'].value_counts().head()"
      ],
      "execution_count": 0,
      "outputs": [
        {
          "output_type": "execute_result",
          "data": {
            "text/plain": [
              "Gross           19\n",
              "Disappointed    18\n",
              "Bad taste       18\n",
              "Yuck            18\n",
              "Not good        17\n",
              "Name: Review Title, dtype: int64"
            ]
          },
          "metadata": {
            "tags": []
          },
          "execution_count": 23
        }
      ]
    },
    {
      "cell_type": "markdown",
      "metadata": {
        "id": "loieyhlUGNjE",
        "colab_type": "text"
      },
      "source": [
        "##In the next processing steps we need to do it for both train and test data , so we merge them to save time of running"
      ]
    },
    {
      "cell_type": "code",
      "metadata": {
        "id": "uPPmm1ZIaYte",
        "colab_type": "code",
        "colab": {}
      },
      "source": [
        "train['train'] =1"
      ],
      "execution_count": 0,
      "outputs": []
    },
    {
      "cell_type": "code",
      "metadata": {
        "id": "MPG-BA1happN",
        "colab_type": "code",
        "colab": {}
      },
      "source": [
        "test['train']=0"
      ],
      "execution_count": 0,
      "outputs": []
    },
    {
      "cell_type": "code",
      "metadata": {
        "id": "GcfAWX91aspB",
        "colab_type": "code",
        "colab": {}
      },
      "source": [
        "train=pd.concat((train , test) , axis=0)"
      ],
      "execution_count": 0,
      "outputs": []
    },
    {
      "cell_type": "code",
      "metadata": {
        "id": "zkIhbV6oa09-",
        "colab_type": "code",
        "outputId": "a0deb418-9278-42d7-bb99-46fa14660651",
        "colab": {
          "base_uri": "https://localhost:8080/",
          "height": 166
        }
      },
      "source": [
        "train.info()"
      ],
      "execution_count": 0,
      "outputs": [
        {
          "output_type": "stream",
          "text": [
            "<class 'pandas.core.frame.DataFrame'>\n",
            "Int64Index: 8512 entries, 0 to 2552\n",
            "Data columns (total 4 columns):\n",
            "Review Text     8512 non-null object\n",
            "Review Title    8512 non-null object\n",
            "topic           5959 non-null object\n",
            "train           8512 non-null int64\n",
            "dtypes: int64(1), object(3)\n",
            "memory usage: 332.5+ KB\n"
          ],
          "name": "stdout"
        }
      ]
    },
    {
      "cell_type": "markdown",
      "metadata": {
        "id": "jwHWLRABGbEV",
        "colab_type": "text"
      },
      "source": [
        "#### just to confirm that we maintain index of each dataset after merging "
      ]
    },
    {
      "cell_type": "code",
      "metadata": {
        "id": "Mp-d-xoTWPPd",
        "colab_type": "code",
        "outputId": "22dcaeb5-3c2c-46e5-b292-1c34343b8f9e",
        "colab": {
          "base_uri": "https://localhost:8080/",
          "height": 66
        }
      },
      "source": [
        "train['Review Title'][0]"
      ],
      "execution_count": 0,
      "outputs": [
        {
          "output_type": "execute_result",
          "data": {
            "text/plain": [
              "0    Useless \n",
              "0    Bad tast\n",
              "Name: Review Title, dtype: object"
            ]
          },
          "metadata": {
            "tags": []
          },
          "execution_count": 28
        }
      ]
    },
    {
      "cell_type": "markdown",
      "metadata": {
        "id": "5bc5x18MGh2b",
        "colab_type": "text"
      },
      "source": [
        "#### so we have the same [0] case one for train and one for test data"
      ]
    },
    {
      "cell_type": "markdown",
      "metadata": {
        "id": "H3tPepP-HTY3",
        "colab_type": "text"
      },
      "source": [
        "## In next steps we will extract features to classify feedbacks  \n",
        "\n",
        "### our Idea is to consider length of feedbacks , since intuetively feedbacks about product itself should not be so long , customer just expresses his opinion \n",
        "\n",
        "### unlike specific issues like related to customer service or related to experience of a specific customer , this may be longer\n",
        "\n",
        "### so we divide each feedback into words after ommiting characters that are not of interest "
      ]
    },
    {
      "cell_type": "markdown",
      "metadata": {
        "id": "5uUOuqjdHHSb",
        "colab_type": "text"
      },
      "source": [
        "#### to analyze feed back , we need to analyze text and title of each feed back word by word , "
      ]
    },
    {
      "cell_type": "code",
      "metadata": {
        "id": "XBUgS9UroViA",
        "colab_type": "code",
        "colab": {}
      },
      "source": [
        " train['review_text_new']=train['Review Text'].str.lower().str.replace('<br />','').str.replace(r'[^(a-zA-Z)\\s\\']','').str.split()"
      ],
      "execution_count": 0,
      "outputs": []
    },
    {
      "cell_type": "code",
      "metadata": {
        "id": "QPGoYxbsllQ-",
        "colab_type": "code",
        "colab": {}
      },
      "source": [
        " train['review_title_new']=train['Review Title'].str.lower().str.replace('<br />','').str.replace(r'[^(a-zA-Z)\\s\\']','').str.split()"
      ],
      "execution_count": 0,
      "outputs": []
    },
    {
      "cell_type": "code",
      "metadata": {
        "id": "mCPdRFZBof7_",
        "colab_type": "code",
        "outputId": "cde931ae-73da-4de4-c184-08e2b16b9a49",
        "colab": {
          "base_uri": "https://localhost:8080/",
          "height": 136
        }
      },
      "source": [
        " train['review_text_new'].head()"
      ],
      "execution_count": 0,
      "outputs": [
        {
          "output_type": "execute_result",
          "data": {
            "text/plain": [
              "0    [did, nothing, for, me, didn't, help, lost, even, with, working, out, and, eating, healthy, didn't, curb, appetite, or, anything]                                                                                                                                                                                                                                                 \n",
              "1    [did, nothing, for, me, didn't, help, lost, even, with, working, out, and, eating, healthy, didn't, curb, appetite, or, anything]                                                                                                                                                                                                                                                 \n",
              "2    [i, have, bought, these, bags, and, immediately, open, one, put, in, some, trash, and, the, bag, was, split, down, the, side, so, i, opened, another, bag, to, cover, the, split, bag, and, it, also, split, down, the, side(x)dont, buy, these, you, will, end, up, throwing, your, box, away]                                                                                   \n",
              "3    [gave, me, an, allergic, reaction, on, my, face, (]                                                                                                                                                                                                                                                                                                                               \n",
              "4    [these, don't, compare, to, the, name, brand, wipes, family, of, little, kids, we, use, a, lot, of, wipes, these, don't, cut, through, sticky, messes, and, they're, small, and, very, thin, might, be, ok, for, wiping, down, less, often, used, places, but, not, good, at, tackling, actual, messes, i, also, didn't, care, for, the, lemon, scent, felt, it, was, too, strong]\n",
              "Name: review_text_new, dtype: object"
            ]
          },
          "metadata": {
            "tags": []
          },
          "execution_count": 32
        }
      ]
    },
    {
      "cell_type": "markdown",
      "metadata": {
        "id": "6DIOXqcfIh-y",
        "colab_type": "text"
      },
      "source": [
        "#### then get number of words per feedback"
      ]
    },
    {
      "cell_type": "code",
      "metadata": {
        "id": "y8NAAYWmO9zQ",
        "colab_type": "code",
        "colab": {}
      },
      "source": [
        "train['length']=train['review_text_new'].str.len()"
      ],
      "execution_count": 0,
      "outputs": []
    },
    {
      "cell_type": "code",
      "metadata": {
        "id": "y8YHwGutA0UN",
        "colab_type": "code",
        "outputId": "ecf27c8b-f196-4244-fd18-49e51bd28b95",
        "colab": {
          "base_uri": "https://localhost:8080/",
          "height": 631
        }
      },
      "source": [
        "train.head()"
      ],
      "execution_count": 0,
      "outputs": [
        {
          "output_type": "execute_result",
          "data": {
            "text/html": [
              "<div>\n",
              "<style scoped>\n",
              "    .dataframe tbody tr th:only-of-type {\n",
              "        vertical-align: middle;\n",
              "    }\n",
              "\n",
              "    .dataframe tbody tr th {\n",
              "        vertical-align: top;\n",
              "    }\n",
              "\n",
              "    .dataframe thead th {\n",
              "        text-align: right;\n",
              "    }\n",
              "</style>\n",
              "<table border=\"1\" class=\"dataframe\">\n",
              "  <thead>\n",
              "    <tr style=\"text-align: right;\">\n",
              "      <th></th>\n",
              "      <th>Review Text</th>\n",
              "      <th>Review Title</th>\n",
              "      <th>topic</th>\n",
              "      <th>train</th>\n",
              "      <th>review_text_new</th>\n",
              "      <th>review_title_new</th>\n",
              "      <th>length</th>\n",
              "    </tr>\n",
              "  </thead>\n",
              "  <tbody>\n",
              "    <tr>\n",
              "      <th>0</th>\n",
              "      <td>Did nothing for me, didn't help lost even with working out and eating healthy. Didn't curb appetite or anything.</td>\n",
              "      <td>Useless</td>\n",
              "      <td>Shipment and delivery</td>\n",
              "      <td>1</td>\n",
              "      <td>[did, nothing, for, me, didn't, help, lost, even, with, working, out, and, eating, healthy, didn't, curb, appetite, or, anything]</td>\n",
              "      <td>[useless]</td>\n",
              "      <td>19</td>\n",
              "    </tr>\n",
              "    <tr>\n",
              "      <th>1</th>\n",
              "      <td>Did nothing for me, didn't help lost even with working out and eating healthy. Didn't curb appetite or anything.</td>\n",
              "      <td>Useless</td>\n",
              "      <td>Not Effective</td>\n",
              "      <td>1</td>\n",
              "      <td>[did, nothing, for, me, didn't, help, lost, even, with, working, out, and, eating, healthy, didn't, curb, appetite, or, anything]</td>\n",
              "      <td>[useless]</td>\n",
              "      <td>19</td>\n",
              "    </tr>\n",
              "    <tr>\n",
              "      <th>2</th>\n",
              "      <td>I have bought these bags and  immediately open one put in some trash and the bag was split down the side. So I opened another bag to cover the split bag and it also split down the side(x3).Don’t buy these you will end up throwing your box away</td>\n",
              "      <td>TRASH!!! Do not buy these bags it’s a waist of time!!!</td>\n",
              "      <td>Customer Service</td>\n",
              "      <td>1</td>\n",
              "      <td>[i, have, bought, these, bags, and, immediately, open, one, put, in, some, trash, and, the, bag, was, split, down, the, side, so, i, opened, another, bag, to, cover, the, split, bag, and, it, also, split, down, the, side(x)dont, buy, these, you, will, end, up, throwing, your, box, away]</td>\n",
              "      <td>[trash, do, not, buy, these, bags, its, a, waist, of, time]</td>\n",
              "      <td>48</td>\n",
              "    </tr>\n",
              "    <tr>\n",
              "      <th>3</th>\n",
              "      <td>Gave me an allergic reaction on my face :(</td>\n",
              "      <td>Do not recommend</td>\n",
              "      <td>Allergic</td>\n",
              "      <td>1</td>\n",
              "      <td>[gave, me, an, allergic, reaction, on, my, face, (]</td>\n",
              "      <td>[do, not, recommend]</td>\n",
              "      <td>9</td>\n",
              "    </tr>\n",
              "    <tr>\n",
              "      <th>4</th>\n",
              "      <td>These don't compare to the name brand wipes. Family of 5 little kids, we use a lot of wipes. These don't cut through sticky messes and they're small and very thin. Might be ok for wiping down less often used places but not good at tackling actual messes. I also didn't care for the lemon scent, felt it was too strong.</td>\n",
              "      <td>Can't tackle big messes</td>\n",
              "      <td>Texture</td>\n",
              "      <td>1</td>\n",
              "      <td>[these, don't, compare, to, the, name, brand, wipes, family, of, little, kids, we, use, a, lot, of, wipes, these, don't, cut, through, sticky, messes, and, they're, small, and, very, thin, might, be, ok, for, wiping, down, less, often, used, places, but, not, good, at, tackling, actual, messes, i, also, didn't, care, for, the, lemon, scent, felt, it, was, too, strong]</td>\n",
              "      <td>[can't, tackle, big, messes]</td>\n",
              "      <td>60</td>\n",
              "    </tr>\n",
              "  </tbody>\n",
              "</table>\n",
              "</div>"
            ],
            "text/plain": [
              "                                                                                                                                                                                                                                                                                                                      Review Text  ... length\n",
              "0  Did nothing for me, didn't help lost even with working out and eating healthy. Didn't curb appetite or anything.                                                                                                                                                                                                                ...  19   \n",
              "1  Did nothing for me, didn't help lost even with working out and eating healthy. Didn't curb appetite or anything.                                                                                                                                                                                                                ...  19   \n",
              "2  I have bought these bags and  immediately open one put in some trash and the bag was split down the side. So I opened another bag to cover the split bag and it also split down the side(x3).Don’t buy these you will end up throwing your box away                                                                             ...  48   \n",
              "3  Gave me an allergic reaction on my face :(                                                                                                                                                                                                                                                                                      ...  9    \n",
              "4  These don't compare to the name brand wipes. Family of 5 little kids, we use a lot of wipes. These don't cut through sticky messes and they're small and very thin. Might be ok for wiping down less often used places but not good at tackling actual messes. I also didn't care for the lemon scent, felt it was too strong.  ...  60   \n",
              "\n",
              "[5 rows x 7 columns]"
            ]
          },
          "metadata": {
            "tags": []
          },
          "execution_count": 35
        }
      ]
    },
    {
      "cell_type": "code",
      "metadata": {
        "id": "XKC973i9y7Ym",
        "colab_type": "code",
        "colab": {}
      },
      "source": [
        ""
      ],
      "execution_count": 0,
      "outputs": []
    },
    {
      "cell_type": "markdown",
      "metadata": {
        "id": "IH2mEyjoIoiS",
        "colab_type": "text"
      },
      "source": [
        "### as another helping characterestic to classify test , we count number of negative words in rach review text and review title , getting its percentage of the whole number of words in text and title  "
      ]
    },
    {
      "cell_type": "markdown",
      "metadata": {
        "id": "atoXRmEzL3CU",
        "colab_type": "text"
      },
      "source": [
        "#### first : we define dictionnary of negative words"
      ]
    },
    {
      "cell_type": "code",
      "metadata": {
        "id": "vSsTB_NwOWfQ",
        "colab_type": "code",
        "colab": {}
      },
      "source": [
        "neg=list(opinion_lexicon.negative())"
      ],
      "execution_count": 0,
      "outputs": []
    },
    {
      "cell_type": "markdown",
      "metadata": {
        "id": "FQdIH4snMIHj",
        "colab_type": "text"
      },
      "source": [
        "#### then define a function to count negative words in each list of words  "
      ]
    },
    {
      "cell_type": "code",
      "metadata": {
        "id": "xfQm9QwgjRo_",
        "colab_type": "code",
        "colab": {}
      },
      "source": [
        "def negative (sentence):\n",
        "\n",
        "    neg_words = 0\n",
        "    \n",
        "\n",
        "    for word in sentence :\n",
        "\n",
        "        if word in neg :\n",
        "            neg_words += 1\n",
        "        else:\n",
        "           pass\n",
        "\n",
        "    \n",
        "    return(neg_words)\n",
        "    "
      ],
      "execution_count": 0,
      "outputs": []
    },
    {
      "cell_type": "code",
      "metadata": {
        "colab_type": "code",
        "id": "ly5Pcne5Skld",
        "colab": {}
      },
      "source": [
        "import time\n",
        "start_time = time.time()\n"
      ],
      "execution_count": 0,
      "outputs": []
    },
    {
      "cell_type": "markdown",
      "metadata": {
        "id": "R8OFp9DbMRMd",
        "colab_type": "text"
      },
      "source": [
        "#### we aply this function to count negative words in review test and title , store them as columns in the data"
      ]
    },
    {
      "cell_type": "code",
      "metadata": {
        "id": "yMu7604-HtZn",
        "colab_type": "code",
        "colab": {}
      },
      "source": [
        "train['negative'] = train['review_text_new'].apply(negative)"
      ],
      "execution_count": 0,
      "outputs": []
    },
    {
      "cell_type": "code",
      "metadata": {
        "id": "F_VJcvWNRlf3",
        "colab_type": "code",
        "colab": {}
      },
      "source": [
        "train['negative_title']=train['Review Title'].str.lower().str.replace(r'[^(a-zA-Z)\\s\\']','').str.split().apply(negative)"
      ],
      "execution_count": 0,
      "outputs": []
    },
    {
      "cell_type": "code",
      "metadata": {
        "id": "1HDNmXJi6cC1",
        "colab_type": "code",
        "outputId": "fe273674-7a8f-4065-e3eb-68b85b39541b",
        "colab": {
          "base_uri": "https://localhost:8080/",
          "height": 981
        }
      },
      "source": [
        "train.head()"
      ],
      "execution_count": 0,
      "outputs": [
        {
          "output_type": "execute_result",
          "data": {
            "text/html": [
              "<div>\n",
              "<style scoped>\n",
              "    .dataframe tbody tr th:only-of-type {\n",
              "        vertical-align: middle;\n",
              "    }\n",
              "\n",
              "    .dataframe tbody tr th {\n",
              "        vertical-align: top;\n",
              "    }\n",
              "\n",
              "    .dataframe thead th {\n",
              "        text-align: right;\n",
              "    }\n",
              "</style>\n",
              "<table border=\"1\" class=\"dataframe\">\n",
              "  <thead>\n",
              "    <tr style=\"text-align: right;\">\n",
              "      <th></th>\n",
              "      <th>Review Text</th>\n",
              "      <th>Review Title</th>\n",
              "      <th>topic</th>\n",
              "      <th>train</th>\n",
              "      <th>review_text_new</th>\n",
              "      <th>review_title_new</th>\n",
              "      <th>length</th>\n",
              "      <th>negative</th>\n",
              "      <th>negative_title</th>\n",
              "    </tr>\n",
              "  </thead>\n",
              "  <tbody>\n",
              "    <tr>\n",
              "      <th>0</th>\n",
              "      <td>Did nothing for me, didn't help lost even with working out and eating healthy. Didn't curb appetite or anything.</td>\n",
              "      <td>Useless</td>\n",
              "      <td>Shipment and delivery</td>\n",
              "      <td>1</td>\n",
              "      <td>[did, nothing, for, me, didn't, help, lost, even, with, working, out, and, eating, healthy, didn't, curb, appetite, or, anything]</td>\n",
              "      <td>[useless]</td>\n",
              "      <td>19</td>\n",
              "      <td>1</td>\n",
              "      <td>1</td>\n",
              "    </tr>\n",
              "    <tr>\n",
              "      <th>1</th>\n",
              "      <td>Did nothing for me, didn't help lost even with working out and eating healthy. Didn't curb appetite or anything.</td>\n",
              "      <td>Useless</td>\n",
              "      <td>Not Effective</td>\n",
              "      <td>1</td>\n",
              "      <td>[did, nothing, for, me, didn't, help, lost, even, with, working, out, and, eating, healthy, didn't, curb, appetite, or, anything]</td>\n",
              "      <td>[useless]</td>\n",
              "      <td>19</td>\n",
              "      <td>1</td>\n",
              "      <td>1</td>\n",
              "    </tr>\n",
              "    <tr>\n",
              "      <th>2</th>\n",
              "      <td>I have bought these bags and  immediately open one put in some trash and the bag was split down the side. So I opened another bag to cover the split bag and it also split down the side(x3).Don’t buy these you will end up throwing your box away</td>\n",
              "      <td>TRASH!!! Do not buy these bags it’s a waist of time!!!</td>\n",
              "      <td>Customer Service</td>\n",
              "      <td>1</td>\n",
              "      <td>[i, have, bought, these, bags, and, immediately, open, one, put, in, some, trash, and, the, bag, was, split, down, the, side, so, i, opened, another, bag, to, cover, the, split, bag, and, it, also, split, down, the, side(x)dont, buy, these, you, will, end, up, throwing, your, box, away]</td>\n",
              "      <td>[trash, do, not, buy, these, bags, its, a, waist, of, time]</td>\n",
              "      <td>48</td>\n",
              "      <td>4</td>\n",
              "      <td>1</td>\n",
              "    </tr>\n",
              "    <tr>\n",
              "      <th>3</th>\n",
              "      <td>Gave me an allergic reaction on my face :(</td>\n",
              "      <td>Do not recommend</td>\n",
              "      <td>Allergic</td>\n",
              "      <td>1</td>\n",
              "      <td>[gave, me, an, allergic, reaction, on, my, face, (]</td>\n",
              "      <td>[do, not, recommend]</td>\n",
              "      <td>9</td>\n",
              "      <td>1</td>\n",
              "      <td>0</td>\n",
              "    </tr>\n",
              "    <tr>\n",
              "      <th>4</th>\n",
              "      <td>These don't compare to the name brand wipes. Family of 5 little kids, we use a lot of wipes. These don't cut through sticky messes and they're small and very thin. Might be ok for wiping down less often used places but not good at tackling actual messes. I also didn't care for the lemon scent, felt it was too strong.</td>\n",
              "      <td>Can't tackle big messes</td>\n",
              "      <td>Texture</td>\n",
              "      <td>1</td>\n",
              "      <td>[these, don't, compare, to, the, name, brand, wipes, family, of, little, kids, we, use, a, lot, of, wipes, these, don't, cut, through, sticky, messes, and, they're, small, and, very, thin, might, be, ok, for, wiping, down, less, often, used, places, but, not, good, at, tackling, actual, messes, i, also, didn't, care, for, the, lemon, scent, felt, it, was, too, strong]</td>\n",
              "      <td>[can't, tackle, big, messes]</td>\n",
              "      <td>60</td>\n",
              "      <td>4</td>\n",
              "      <td>1</td>\n",
              "    </tr>\n",
              "  </tbody>\n",
              "</table>\n",
              "</div>"
            ],
            "text/plain": [
              "                                                                                                                                                                                                                                                                                                                      Review Text  ... negative_title\n",
              "0  Did nothing for me, didn't help lost even with working out and eating healthy. Didn't curb appetite or anything.                                                                                                                                                                                                                ...  1            \n",
              "1  Did nothing for me, didn't help lost even with working out and eating healthy. Didn't curb appetite or anything.                                                                                                                                                                                                                ...  1            \n",
              "2  I have bought these bags and  immediately open one put in some trash and the bag was split down the side. So I opened another bag to cover the split bag and it also split down the side(x3).Don’t buy these you will end up throwing your box away                                                                             ...  1            \n",
              "3  Gave me an allergic reaction on my face :(                                                                                                                                                                                                                                                                                      ...  0            \n",
              "4  These don't compare to the name brand wipes. Family of 5 little kids, we use a lot of wipes. These don't cut through sticky messes and they're small and very thin. Might be ok for wiping down less often used places but not good at tackling actual messes. I also didn't care for the lemon scent, felt it was too strong.  ...  1            \n",
              "\n",
              "[5 rows x 9 columns]"
            ]
          },
          "metadata": {
            "tags": []
          },
          "execution_count": 44
        }
      ]
    },
    {
      "cell_type": "markdown",
      "metadata": {
        "id": "bMMLTquxMeU6",
        "colab_type": "text"
      },
      "source": [
        "#### then we adjust number of negative words in text and title to be not count of words , but the percentage of words in title or text"
      ]
    },
    {
      "cell_type": "code",
      "metadata": {
        "id": "lW9-pwKPRD0W",
        "colab_type": "code",
        "colab": {}
      },
      "source": [
        "train['negative_adj']=np.where (train['length']>0 ,train['negative']*100/train['length'],0)"
      ],
      "execution_count": 0,
      "outputs": []
    },
    {
      "cell_type": "code",
      "metadata": {
        "id": "ukiKzDFPiepq",
        "colab_type": "code",
        "colab": {}
      },
      "source": [
        "train['negative_title_adj']=np.where (train['review_title_new'].str.len()>0 ,train['negative_title']*100/train['review_title_new'].str.len(),0)"
      ],
      "execution_count": 0,
      "outputs": []
    },
    {
      "cell_type": "markdown",
      "metadata": {
        "id": "tBjymRAAMu1Z",
        "colab_type": "text"
      },
      "source": [
        "#### just as an indicator we get average of length , negative words pct (negative_adj) , and negative words pct of title (negative_title_adj) per topic "
      ]
    },
    {
      "cell_type": "code",
      "metadata": {
        "id": "3CAC2lX9Qv8B",
        "colab_type": "code",
        "outputId": "90895977-fc63-47d8-dc35-5671cdec3077",
        "colab": {
          "base_uri": "https://localhost:8080/",
          "height": 707
        }
      },
      "source": [
        "train.groupby(['topic'])['length' , 'negative_adj' , 'negative_title_adj'].agg({'length':'mean' , 'negative_adj':'mean' ,'negative_title_adj':'mean'})"
      ],
      "execution_count": 0,
      "outputs": [
        {
          "output_type": "execute_result",
          "data": {
            "text/html": [
              "<div>\n",
              "<style scoped>\n",
              "    .dataframe tbody tr th:only-of-type {\n",
              "        vertical-align: middle;\n",
              "    }\n",
              "\n",
              "    .dataframe tbody tr th {\n",
              "        vertical-align: top;\n",
              "    }\n",
              "\n",
              "    .dataframe thead th {\n",
              "        text-align: right;\n",
              "    }\n",
              "</style>\n",
              "<table border=\"1\" class=\"dataframe\">\n",
              "  <thead>\n",
              "    <tr style=\"text-align: right;\">\n",
              "      <th></th>\n",
              "      <th>length</th>\n",
              "      <th>negative_adj</th>\n",
              "      <th>negative_title_adj</th>\n",
              "    </tr>\n",
              "    <tr>\n",
              "      <th>topic</th>\n",
              "      <th></th>\n",
              "      <th></th>\n",
              "      <th></th>\n",
              "    </tr>\n",
              "  </thead>\n",
              "  <tbody>\n",
              "    <tr>\n",
              "      <th>Allergic</th>\n",
              "      <td>63.128748</td>\n",
              "      <td>6.837973</td>\n",
              "      <td>20.421024</td>\n",
              "    </tr>\n",
              "    <tr>\n",
              "      <th>Bad Taste/Flavor</th>\n",
              "      <td>48.953099</td>\n",
              "      <td>6.997524</td>\n",
              "      <td>20.393590</td>\n",
              "    </tr>\n",
              "    <tr>\n",
              "      <th>Color and texture</th>\n",
              "      <td>59.692308</td>\n",
              "      <td>5.870817</td>\n",
              "      <td>17.444716</td>\n",
              "    </tr>\n",
              "    <tr>\n",
              "      <th>Customer Issues</th>\n",
              "      <td>56.750000</td>\n",
              "      <td>3.102103</td>\n",
              "      <td>13.541667</td>\n",
              "    </tr>\n",
              "    <tr>\n",
              "      <th>Customer Service</th>\n",
              "      <td>46.276151</td>\n",
              "      <td>4.688075</td>\n",
              "      <td>15.895193</td>\n",
              "    </tr>\n",
              "    <tr>\n",
              "      <th>Didn't Like</th>\n",
              "      <td>41.935484</td>\n",
              "      <td>3.708540</td>\n",
              "      <td>11.076665</td>\n",
              "    </tr>\n",
              "    <tr>\n",
              "      <th>Expiry</th>\n",
              "      <td>39.625000</td>\n",
              "      <td>5.502984</td>\n",
              "      <td>22.670967</td>\n",
              "    </tr>\n",
              "    <tr>\n",
              "      <th>False Advertisement</th>\n",
              "      <td>66.486486</td>\n",
              "      <td>3.699583</td>\n",
              "      <td>29.357504</td>\n",
              "    </tr>\n",
              "    <tr>\n",
              "      <th>Hard to Chew</th>\n",
              "      <td>34.833333</td>\n",
              "      <td>4.345663</td>\n",
              "      <td>10.185185</td>\n",
              "    </tr>\n",
              "    <tr>\n",
              "      <th>Inferior to competitors</th>\n",
              "      <td>35.227273</td>\n",
              "      <td>2.403475</td>\n",
              "      <td>10.227273</td>\n",
              "    </tr>\n",
              "    <tr>\n",
              "      <th>Ingredients</th>\n",
              "      <td>75.444444</td>\n",
              "      <td>4.501778</td>\n",
              "      <td>13.468231</td>\n",
              "    </tr>\n",
              "    <tr>\n",
              "      <th>Not Effective</th>\n",
              "      <td>44.487725</td>\n",
              "      <td>3.846429</td>\n",
              "      <td>12.824103</td>\n",
              "    </tr>\n",
              "    <tr>\n",
              "      <th>Packaging</th>\n",
              "      <td>48.824411</td>\n",
              "      <td>6.589466</td>\n",
              "      <td>21.467554</td>\n",
              "    </tr>\n",
              "    <tr>\n",
              "      <th>Pricing</th>\n",
              "      <td>51.261682</td>\n",
              "      <td>6.141188</td>\n",
              "      <td>18.206160</td>\n",
              "    </tr>\n",
              "    <tr>\n",
              "      <th>Quality/Contaminated</th>\n",
              "      <td>55.979021</td>\n",
              "      <td>7.200734</td>\n",
              "      <td>22.276517</td>\n",
              "    </tr>\n",
              "    <tr>\n",
              "      <th>Shipment and delivery</th>\n",
              "      <td>32.310256</td>\n",
              "      <td>2.764270</td>\n",
              "      <td>9.648380</td>\n",
              "    </tr>\n",
              "    <tr>\n",
              "      <th>Smells Bad</th>\n",
              "      <td>44.569106</td>\n",
              "      <td>11.394209</td>\n",
              "      <td>32.234425</td>\n",
              "    </tr>\n",
              "    <tr>\n",
              "      <th>Texture</th>\n",
              "      <td>59.673171</td>\n",
              "      <td>6.036526</td>\n",
              "      <td>18.932116</td>\n",
              "    </tr>\n",
              "    <tr>\n",
              "      <th>Too Sweet</th>\n",
              "      <td>53.010309</td>\n",
              "      <td>3.476078</td>\n",
              "      <td>7.494619</td>\n",
              "    </tr>\n",
              "    <tr>\n",
              "      <th>Too big to swallow</th>\n",
              "      <td>57.478070</td>\n",
              "      <td>4.002545</td>\n",
              "      <td>7.641821</td>\n",
              "    </tr>\n",
              "    <tr>\n",
              "      <th>Wrong Product received</th>\n",
              "      <td>33.595960</td>\n",
              "      <td>5.160498</td>\n",
              "      <td>23.783044</td>\n",
              "    </tr>\n",
              "  </tbody>\n",
              "</table>\n",
              "</div>"
            ],
            "text/plain": [
              "                            length  negative_adj  negative_title_adj\n",
              "topic                                                               \n",
              "Allergic                 63.128748  6.837973      20.421024         \n",
              "Bad Taste/Flavor         48.953099  6.997524      20.393590         \n",
              "Color and texture        59.692308  5.870817      17.444716         \n",
              "Customer Issues          56.750000  3.102103      13.541667         \n",
              "Customer Service         46.276151  4.688075      15.895193         \n",
              "Didn't Like              41.935484  3.708540      11.076665         \n",
              "Expiry                   39.625000  5.502984      22.670967         \n",
              "False Advertisement      66.486486  3.699583      29.357504         \n",
              "Hard to Chew             34.833333  4.345663      10.185185         \n",
              "Inferior to competitors  35.227273  2.403475      10.227273         \n",
              "Ingredients              75.444444  4.501778      13.468231         \n",
              "Not Effective            44.487725  3.846429      12.824103         \n",
              "Packaging                48.824411  6.589466      21.467554         \n",
              "Pricing                  51.261682  6.141188      18.206160         \n",
              "Quality/Contaminated     55.979021  7.200734      22.276517         \n",
              "Shipment and delivery    32.310256  2.764270      9.648380          \n",
              "Smells Bad               44.569106  11.394209     32.234425         \n",
              "Texture                  59.673171  6.036526      18.932116         \n",
              "Too Sweet                53.010309  3.476078      7.494619          \n",
              "Too big to swallow       57.478070  4.002545      7.641821          \n",
              "Wrong Product received   33.595960  5.160498      23.783044         "
            ]
          },
          "metadata": {
            "tags": []
          },
          "execution_count": 47
        }
      ]
    },
    {
      "cell_type": "code",
      "metadata": {
        "id": "sf01c-u_NbMt",
        "colab_type": "code",
        "colab": {
          "base_uri": "https://localhost:8080/",
          "height": 735
        },
        "outputId": "237ef20b-a25a-4051-c804-1aa9aff32b43"
      },
      "source": [
        "train.groupby(['topic'])['length' , 'negative_adj' , 'negative_title_adj'].agg({'length':'mean' , 'negative_adj':'mean' ,'negative_title_adj':'mean'}).plot(kind='bar' , figsize=(15,10))"
      ],
      "execution_count": 106,
      "outputs": [
        {
          "output_type": "execute_result",
          "data": {
            "text/plain": [
              "<matplotlib.axes._subplots.AxesSubplot at 0x7f913f7c6b00>"
            ]
          },
          "metadata": {
            "tags": []
          },
          "execution_count": 106
        },
        {
          "output_type": "display_data",
          "data": {
            "image/png": "[encoded data removed]",
            "text/plain": [
              "<Figure size 1080x720 with 1 Axes>"
            ]
          },
          "metadata": {
            "tags": []
          }
        }
      ]
    },
    {
      "cell_type": "markdown",
      "metadata": {
        "id": "gOsUUsvtNjnh",
        "colab_type": "text"
      },
      "source": [
        "### in the above graph , we notice that the 3 factors vary from a topic than another , thus they are valid to be in our model to classify review topic"
      ]
    },
    {
      "cell_type": "markdown",
      "metadata": {
        "id": "KTotIkquSc3c",
        "colab_type": "text"
      },
      "source": [
        "#### we generate column for topic word by word in case if needed later "
      ]
    },
    {
      "cell_type": "code",
      "metadata": {
        "id": "93gxNNRJRWU_",
        "colab_type": "code",
        "colab": {}
      },
      "source": [
        "train['topic_new']=train['topic'].str.lower().str.replace('/',' ').str.replace(r'[^(a-zA-Z)\\s\\']','').str.split()"
      ],
      "execution_count": 0,
      "outputs": []
    },
    {
      "cell_type": "markdown",
      "metadata": {
        "id": "j-V1_pgkOGkj",
        "colab_type": "text"
      },
      "source": [
        "## Another characterestic is the keywords :\n",
        "\n",
        "### we take the most frequent 20 words in review text related to each topic , then we count how many of these key words found in review text \n",
        "\n",
        "### then we do the same with review titles."
      ]
    },
    {
      "cell_type": "markdown",
      "metadata": {
        "id": "2UcuLJ6ySR66",
        "colab_type": "text"
      },
      "source": [
        "#### first we define the function that takes the most frequent words in a column of texts (we design this functions to take only words in review text that only found under a specific topic i.e we exclude texts that are labeled muiltiple times under several topics ) \n",
        "\n",
        "#### of course we exclude stop words like is , the ........ etc"
      ]
    },
    {
      "cell_type": "code",
      "metadata": {
        "id": "_h50O3c0aAKD",
        "colab_type": "code",
        "colab": {}
      },
      "source": [
        "def words (data , topic_column , topic , text , list_text):\n",
        "\n",
        "    def ios(sent  ):\n",
        "        if sent in list(set(data.loc[data[topic_column] == topic , : ][text])-set(data.loc[data[topic_column] != topic , : ][text])):\n",
        "          return(True)\n",
        "        else :\n",
        "          return(False)\n",
        "\n",
        "    \n",
        "    mask=(data[text]).apply(ios)\n",
        "    c=[]\n",
        "    for i in data[mask][list_text]:\n",
        "      for j in i :\n",
        "        if j not in set(stopwords.words('english')) and len(j) > 1 :      \n",
        "           c.append(j)\n",
        "        else :\n",
        "          pass\n",
        "\n",
        "    return (pd.Series(c).value_counts().head(20))\n"
      ],
      "execution_count": 0,
      "outputs": []
    },
    {
      "cell_type": "markdown",
      "metadata": {
        "id": "Vd7BX7ERSuvo",
        "colab_type": "text"
      },
      "source": [
        "#### then we get the most frequent 20 words in review text for each topic "
      ]
    },
    {
      "cell_type": "code",
      "metadata": {
        "id": "Se2oKnq4aenf",
        "colab_type": "code",
        "colab": {}
      },
      "source": [
        "t=[]\n",
        "for i in list(set(train.loc[train['train']==1,'topic'])) :\n",
        "  \n",
        "  a=words(train,'topic' ,i ,'Review Text' ,'review_text_new')\n",
        "  t.append(a)"
      ],
      "execution_count": 0,
      "outputs": []
    },
    {
      "cell_type": "markdown",
      "metadata": {
        "id": "pWPT0rIldoVp",
        "colab_type": "text"
      },
      "source": [
        "#### so now we have the top 20 words , in the review text for reviews under each of the 21 topics "
      ]
    },
    {
      "cell_type": "markdown",
      "metadata": {
        "id": "lWH1cD0QiXSY",
        "colab_type": "text"
      },
      "source": [
        "#### i.e , below we have the top 20 words regarding the topic \"packaging\""
      ]
    },
    {
      "cell_type": "code",
      "metadata": {
        "id": "Qtf8iTXqqg4A",
        "colab_type": "code",
        "colab": {}
      },
      "source": [
        "m1=list(set(train.loc[train['train']==1,'topic']))"
      ],
      "execution_count": 0,
      "outputs": []
    },
    {
      "cell_type": "code",
      "metadata": {
        "id": "DOcSJEyKiUa-",
        "colab_type": "code",
        "colab": {
          "base_uri": "https://localhost:8080/",
          "height": 33
        },
        "outputId": "cb00a25d-2555-49ea-bb50-e1f20095c0f1"
      },
      "source": [
        "m1[0]"
      ],
      "execution_count": 108,
      "outputs": [
        {
          "output_type": "execute_result",
          "data": {
            "text/plain": [
              "'Packaging'"
            ]
          },
          "metadata": {
            "tags": []
          },
          "execution_count": 108
        }
      ]
    },
    {
      "cell_type": "code",
      "metadata": {
        "id": "7JO44Q3-iNKD",
        "colab_type": "code",
        "colab": {
          "base_uri": "https://localhost:8080/",
          "height": 366
        },
        "outputId": "6a1398df-9ce6-4c73-8cdc-5a24a7aa86e0"
      },
      "source": [
        "t[0]"
      ],
      "execution_count": 107,
      "outputs": [
        {
          "output_type": "execute_result",
          "data": {
            "text/plain": [
              "broken      133\n",
              "bottle      120\n",
              "product     107\n",
              "box         99 \n",
              "seal        70 \n",
              "opened      53 \n",
              "one         52 \n",
              "like        49 \n",
              "received    46 \n",
              "arrived     45 \n",
              "open        42 \n",
              "came        42 \n",
              "brand       40 \n",
              "package     37 \n",
              "bottles     37 \n",
              "return      36 \n",
              "get         36 \n",
              "damaged     35 \n",
              "time        34 \n",
              "item        32 \n",
              "dtype: int64"
            ]
          },
          "metadata": {
            "tags": []
          },
          "execution_count": 107
        }
      ]
    },
    {
      "cell_type": "markdown",
      "metadata": {
        "id": "k2IcNrJ9etO-",
        "colab_type": "text"
      },
      "source": [
        "#### to do the same with review titles "
      ]
    },
    {
      "cell_type": "code",
      "metadata": {
        "id": "tVS5S6USNvir",
        "colab_type": "code",
        "colab": {}
      },
      "source": [
        "u=[]\n",
        "for i in list(set(train.loc[train['train']==1,'topic'])) :\n",
        "  \n",
        "  a=words(train,'topic' ,i ,'Review Title' ,'review_title_new')\n",
        "  u.append(a)"
      ],
      "execution_count": 0,
      "outputs": []
    },
    {
      "cell_type": "markdown",
      "metadata": {
        "id": "zrCKgiKEnjXx",
        "colab_type": "text"
      },
      "source": [
        "#### then we attach a column in the dataset includes how many keywords in each review text  that are related to each topic    "
      ]
    },
    {
      "cell_type": "code",
      "metadata": {
        "id": "70gIUxN7w4QO",
        "colab_type": "code",
        "colab": {}
      },
      "source": [
        "m=[]\n",
        "for h in range(len(t)):\n",
        "    v=[]\n",
        "    for i in train['review_text_new']:\n",
        "      \n",
        "      a=[]\n",
        "      for word in i:\n",
        "        if word in list(t[h].index):\n",
        "            a.append(word)\n",
        "        else : \n",
        "          pass\n",
        "      v.append(len(a))\n",
        "    m.append(v)"
      ],
      "execution_count": 0,
      "outputs": []
    },
    {
      "cell_type": "code",
      "metadata": {
        "id": "omQven9U5APv",
        "colab_type": "code",
        "outputId": "766228d3-35ae-46a2-ba4c-340c8453cf70",
        "colab": {
          "base_uri": "https://localhost:8080/",
          "height": 33
        }
      },
      "source": [
        "len(m)"
      ],
      "execution_count": 0,
      "outputs": [
        {
          "output_type": "execute_result",
          "data": {
            "text/plain": [
              "21"
            ]
          },
          "metadata": {
            "tags": []
          },
          "execution_count": 58
        }
      ]
    },
    {
      "cell_type": "code",
      "metadata": {
        "id": "QT7VnYtmp_rd",
        "colab_type": "code",
        "colab": {}
      },
      "source": [
        "for i in range(len(m)):\n",
        "  train[(list(set(train.loc[train['train']==1,'topic'])))[i]+'_words'] = m[i]\n"
      ],
      "execution_count": 0,
      "outputs": []
    },
    {
      "cell_type": "code",
      "metadata": {
        "id": "I9OsTGy7pmhL",
        "colab_type": "code",
        "outputId": "cffd21a5-c4c2-4d6c-ac80-f83e8d9b0cb5",
        "colab": {
          "base_uri": "https://localhost:8080/",
          "height": 33
        }
      },
      "source": [
        "len(u)"
      ],
      "execution_count": 0,
      "outputs": [
        {
          "output_type": "execute_result",
          "data": {
            "text/plain": [
              "21"
            ]
          },
          "metadata": {
            "tags": []
          },
          "execution_count": 60
        }
      ]
    },
    {
      "cell_type": "markdown",
      "metadata": {
        "id": "VZgsxjd8oByz",
        "colab_type": "text"
      },
      "source": [
        "#### then we do the same for review title"
      ]
    },
    {
      "cell_type": "code",
      "metadata": {
        "id": "TuhFzHB7pp-8",
        "colab_type": "code",
        "colab": {}
      },
      "source": [
        "m=[]\n",
        "for h in range(len(u)):\n",
        "    v=[]\n",
        "    for i in train['review_title_new']:\n",
        "      \n",
        "      a=[]\n",
        "      for word in i:\n",
        "        if word in list(u[h].index):\n",
        "            a.append(word)\n",
        "        else : \n",
        "          pass\n",
        "      v.append(len(a))\n",
        "    m.append(v)"
      ],
      "execution_count": 0,
      "outputs": []
    },
    {
      "cell_type": "code",
      "metadata": {
        "id": "YnMW9C-3qMCa",
        "colab_type": "code",
        "colab": {}
      },
      "source": [
        "for i in range(len(m)):\n",
        "  train[(list(set(train.loc[train['train']==1,'topic'])))[i]+'_title'] = m[i]"
      ],
      "execution_count": 0,
      "outputs": []
    },
    {
      "cell_type": "markdown",
      "metadata": {
        "id": "hrTgMZdeoFse",
        "colab_type": "text"
      },
      "source": [
        "#### in the later prediction steps , we would need to code the topics , since it will be difficuklt to predict strings , so we generate a new column includes topics coded "
      ]
    },
    {
      "cell_type": "code",
      "metadata": {
        "colab_type": "code",
        "id": "7ZgcBbS2bSE-",
        "colab": {}
      },
      "source": [
        "r={}\n",
        "for i in range(len(m1)):\n",
        "  r[m1[i]] = i+1"
      ],
      "execution_count": 0,
      "outputs": []
    },
    {
      "cell_type": "code",
      "metadata": {
        "id": "wbLSuUp8NhqE",
        "colab_type": "code",
        "outputId": "a4b3ed5c-52fc-4939-d522-81c8332d6402",
        "colab": {
          "base_uri": "https://localhost:8080/",
          "height": 366
        }
      },
      "source": [
        "r"
      ],
      "execution_count": 0,
      "outputs": [
        {
          "output_type": "execute_result",
          "data": {
            "text/plain": [
              "{'Allergic': 16,\n",
              " 'Bad Taste/Flavor': 17,\n",
              " 'Color and texture': 10,\n",
              " 'Customer Issues': 8,\n",
              " 'Customer Service': 6,\n",
              " \"Didn't Like\": 15,\n",
              " 'Expiry': 5,\n",
              " 'False Advertisement': 7,\n",
              " 'Hard to Chew': 11,\n",
              " 'Inferior to competitors': 12,\n",
              " 'Ingredients': 18,\n",
              " 'Not Effective': 4,\n",
              " 'Packaging': 1,\n",
              " 'Pricing': 21,\n",
              " 'Quality/Contaminated': 14,\n",
              " 'Shipment and delivery': 19,\n",
              " 'Smells Bad': 3,\n",
              " 'Texture': 20,\n",
              " 'Too Sweet': 13,\n",
              " 'Too big to swallow': 9,\n",
              " 'Wrong Product received': 2}"
            ]
          },
          "metadata": {
            "tags": []
          },
          "execution_count": 55
        }
      ]
    },
    {
      "cell_type": "markdown",
      "metadata": {
        "id": "SDtaWIWtpCft",
        "colab_type": "text"
      },
      "source": [
        "#### later , we include these codes in the dataset"
      ]
    },
    {
      "cell_type": "code",
      "metadata": {
        "id": "PninWpsOT74i",
        "colab_type": "code",
        "outputId": "45d946f2-80d3-4096-88aa-74ba034194f0",
        "colab": {
          "base_uri": "https://localhost:8080/",
          "height": 1000
        }
      },
      "source": [
        "train.info()"
      ],
      "execution_count": 0,
      "outputs": [
        {
          "output_type": "stream",
          "text": [
            "<class 'pandas.core.frame.DataFrame'>\n",
            "Int64Index: 8512 entries, 0 to 2552\n",
            "Data columns (total 54 columns):\n",
            "Review Text                      8512 non-null object\n",
            "Review Title                     8512 non-null object\n",
            "topic                            5959 non-null object\n",
            "train                            8512 non-null int64\n",
            "review_text_new                  8512 non-null object\n",
            "review_title_new                 8512 non-null object\n",
            "length                           8512 non-null int64\n",
            "negative                         8512 non-null int64\n",
            "negative_title                   8512 non-null int64\n",
            "negative_adj                     8512 non-null float64\n",
            "negative_title_adj               8512 non-null float64\n",
            "topic_new                        5959 non-null object\n",
            "Packaging_words                  8512 non-null int64\n",
            "Wrong Product received_words     8512 non-null int64\n",
            "Smells Bad_words                 8512 non-null int64\n",
            "Not Effective_words              8512 non-null int64\n",
            "Expiry_words                     8512 non-null int64\n",
            "Customer Service_words           8512 non-null int64\n",
            "False Advertisement_words        8512 non-null int64\n",
            "Customer Issues_words            8512 non-null int64\n",
            "Too big to swallow_words         8512 non-null int64\n",
            "Color and texture_words          8512 non-null int64\n",
            "Hard to Chew_words               8512 non-null int64\n",
            "Inferior to competitors_words    8512 non-null int64\n",
            "Too Sweet_words                  8512 non-null int64\n",
            "Quality/Contaminated_words       8512 non-null int64\n",
            "Didn't Like_words                8512 non-null int64\n",
            "Allergic_words                   8512 non-null int64\n",
            "Bad Taste/Flavor_words           8512 non-null int64\n",
            "Ingredients_words                8512 non-null int64\n",
            "Shipment and delivery_words      8512 non-null int64\n",
            "Texture_words                    8512 non-null int64\n",
            "Pricing_words                    8512 non-null int64\n",
            "Packaging_title                  8512 non-null int64\n",
            "Wrong Product received_title     8512 non-null int64\n",
            "Smells Bad_title                 8512 non-null int64\n",
            "Not Effective_title              8512 non-null int64\n",
            "Expiry_title                     8512 non-null int64\n",
            "Customer Service_title           8512 non-null int64\n",
            "False Advertisement_title        8512 non-null int64\n",
            "Customer Issues_title            8512 non-null int64\n",
            "Too big to swallow_title         8512 non-null int64\n",
            "Color and texture_title          8512 non-null int64\n",
            "Hard to Chew_title               8512 non-null int64\n",
            "Inferior to competitors_title    8512 non-null int64\n",
            "Too Sweet_title                  8512 non-null int64\n",
            "Quality/Contaminated_title       8512 non-null int64\n",
            "Didn't Like_title                8512 non-null int64\n",
            "Allergic_title                   8512 non-null int64\n",
            "Bad Taste/Flavor_title           8512 non-null int64\n",
            "Ingredients_title                8512 non-null int64\n",
            "Shipment and delivery_title      8512 non-null int64\n",
            "Texture_title                    8512 non-null int64\n",
            "Pricing_title                    8512 non-null int64\n",
            "dtypes: float64(2), int64(46), object(6)\n",
            "memory usage: 3.9+ MB\n"
          ],
          "name": "stdout"
        }
      ]
    },
    {
      "cell_type": "markdown",
      "metadata": {
        "id": "jwFf1fkrpHtK",
        "colab_type": "text"
      },
      "source": [
        "#### for better estimation , we transform columns that include number of keywords related to each topic  included in the review text   to be binary (i.e. if the maximum number of the keywords found in the text related to the topic it equals = 1 , else = 0) "
      ]
    },
    {
      "cell_type": "code",
      "metadata": {
        "id": "c7rVbejq3EkA",
        "colab_type": "code",
        "colab": {}
      },
      "source": [
        " train['max']= train.iloc[: , 12:32].max(axis=1)"
      ],
      "execution_count": 0,
      "outputs": []
    },
    {
      "cell_type": "code",
      "metadata": {
        "id": "8E_NQ2DB5h63",
        "colab_type": "code",
        "colab": {}
      },
      "source": [
        "for i in train.columns[12:32]:\n",
        "  train[i] = np.where((train[i]==train['max']) & (train['max'] > 0)  , 1 , 0)"
      ],
      "execution_count": 0,
      "outputs": []
    },
    {
      "cell_type": "markdown",
      "metadata": {
        "id": "aUIbToGEqeHd",
        "colab_type": "text"
      },
      "source": [
        "#### doing the same for review title"
      ]
    },
    {
      "cell_type": "code",
      "metadata": {
        "id": "p-r6XIvVtF1l",
        "colab_type": "code",
        "colab": {}
      },
      "source": [
        " train['max_title']= train.iloc[: , 33:53].max(axis=1)"
      ],
      "execution_count": 0,
      "outputs": []
    },
    {
      "cell_type": "code",
      "metadata": {
        "id": "fUBDcTXls2TD",
        "colab_type": "code",
        "colab": {}
      },
      "source": [
        "for i in train.columns[33:53]:\n",
        "  train[i] = np.where((train[i]==train['max_title']) & (train['max_title'] > 0) , 1 , 0)"
      ],
      "execution_count": 0,
      "outputs": []
    },
    {
      "cell_type": "markdown",
      "metadata": {
        "id": "Rl2dGdqrrFIB",
        "colab_type": "text"
      },
      "source": [
        "#### then check how data looks"
      ]
    },
    {
      "cell_type": "code",
      "metadata": {
        "id": "aUyNvHJK53to",
        "colab_type": "code",
        "outputId": "968171e0-6db2-4b89-a025-2fa20c9e185a",
        "colab": {
          "base_uri": "https://localhost:8080/",
          "height": 1000
        }
      },
      "source": [
        "train.head()"
      ],
      "execution_count": 0,
      "outputs": [
        {
          "output_type": "execute_result",
          "data": {
            "text/html": [
              "<div>\n",
              "<style scoped>\n",
              "    .dataframe tbody tr th:only-of-type {\n",
              "        vertical-align: middle;\n",
              "    }\n",
              "\n",
              "    .dataframe tbody tr th {\n",
              "        vertical-align: top;\n",
              "    }\n",
              "\n",
              "    .dataframe thead th {\n",
              "        text-align: right;\n",
              "    }\n",
              "</style>\n",
              "<table border=\"1\" class=\"dataframe\">\n",
              "  <thead>\n",
              "    <tr style=\"text-align: right;\">\n",
              "      <th></th>\n",
              "      <th>Review Text</th>\n",
              "      <th>Review Title</th>\n",
              "      <th>topic</th>\n",
              "      <th>train</th>\n",
              "      <th>review_text_new</th>\n",
              "      <th>review_title_new</th>\n",
              "      <th>length</th>\n",
              "      <th>negative</th>\n",
              "      <th>negative_title</th>\n",
              "      <th>negative_adj</th>\n",
              "      <th>negative_title_adj</th>\n",
              "      <th>topic_new</th>\n",
              "      <th>Packaging_words</th>\n",
              "      <th>Wrong Product received_words</th>\n",
              "      <th>Smells Bad_words</th>\n",
              "      <th>Not Effective_words</th>\n",
              "      <th>Expiry_words</th>\n",
              "      <th>Customer Service_words</th>\n",
              "      <th>False Advertisement_words</th>\n",
              "      <th>Customer Issues_words</th>\n",
              "      <th>Too big to swallow_words</th>\n",
              "      <th>Color and texture_words</th>\n",
              "      <th>Hard to Chew_words</th>\n",
              "      <th>Inferior to competitors_words</th>\n",
              "      <th>Too Sweet_words</th>\n",
              "      <th>Quality/Contaminated_words</th>\n",
              "      <th>Didn't Like_words</th>\n",
              "      <th>Allergic_words</th>\n",
              "      <th>Bad Taste/Flavor_words</th>\n",
              "      <th>Ingredients_words</th>\n",
              "      <th>Shipment and delivery_words</th>\n",
              "      <th>Texture_words</th>\n",
              "      <th>Pricing_words</th>\n",
              "      <th>Packaging_title</th>\n",
              "      <th>Wrong Product received_title</th>\n",
              "      <th>Smells Bad_title</th>\n",
              "      <th>Not Effective_title</th>\n",
              "      <th>Expiry_title</th>\n",
              "      <th>Customer Service_title</th>\n",
              "      <th>False Advertisement_title</th>\n",
              "      <th>Customer Issues_title</th>\n",
              "      <th>Too big to swallow_title</th>\n",
              "      <th>Color and texture_title</th>\n",
              "      <th>Hard to Chew_title</th>\n",
              "      <th>Inferior to competitors_title</th>\n",
              "      <th>Too Sweet_title</th>\n",
              "      <th>Quality/Contaminated_title</th>\n",
              "      <th>Didn't Like_title</th>\n",
              "      <th>Allergic_title</th>\n",
              "      <th>Bad Taste/Flavor_title</th>\n",
              "      <th>Ingredients_title</th>\n",
              "      <th>Shipment and delivery_title</th>\n",
              "      <th>Texture_title</th>\n",
              "      <th>Pricing_title</th>\n",
              "      <th>max</th>\n",
              "      <th>max_title</th>\n",
              "    </tr>\n",
              "  </thead>\n",
              "  <tbody>\n",
              "    <tr>\n",
              "      <th>0</th>\n",
              "      <td>Did nothing for me, didn't help lost even with working out and eating healthy. Didn't curb appetite or anything.</td>\n",
              "      <td>Useless</td>\n",
              "      <td>Shipment and delivery</td>\n",
              "      <td>1</td>\n",
              "      <td>[did, nothing, for, me, didn't, help, lost, even, with, working, out, and, eating, healthy, didn't, curb, appetite, or, anything]</td>\n",
              "      <td>[useless]</td>\n",
              "      <td>19</td>\n",
              "      <td>1</td>\n",
              "      <td>1</td>\n",
              "      <td>5.263158</td>\n",
              "      <td>100.000000</td>\n",
              "      <td>[shipment, and, delivery]</td>\n",
              "      <td>0</td>\n",
              "      <td>0</td>\n",
              "      <td>0</td>\n",
              "      <td>1</td>\n",
              "      <td>0</td>\n",
              "      <td>0</td>\n",
              "      <td>0</td>\n",
              "      <td>0</td>\n",
              "      <td>0</td>\n",
              "      <td>0</td>\n",
              "      <td>0</td>\n",
              "      <td>0</td>\n",
              "      <td>0</td>\n",
              "      <td>0</td>\n",
              "      <td>0</td>\n",
              "      <td>0</td>\n",
              "      <td>0</td>\n",
              "      <td>0</td>\n",
              "      <td>0</td>\n",
              "      <td>0</td>\n",
              "      <td>0</td>\n",
              "      <td>0</td>\n",
              "      <td>0</td>\n",
              "      <td>0</td>\n",
              "      <td>0</td>\n",
              "      <td>0</td>\n",
              "      <td>0</td>\n",
              "      <td>0</td>\n",
              "      <td>0</td>\n",
              "      <td>0</td>\n",
              "      <td>0</td>\n",
              "      <td>0</td>\n",
              "      <td>0</td>\n",
              "      <td>0</td>\n",
              "      <td>0</td>\n",
              "      <td>0</td>\n",
              "      <td>0</td>\n",
              "      <td>0</td>\n",
              "      <td>0</td>\n",
              "      <td>0</td>\n",
              "      <td>0</td>\n",
              "      <td>0</td>\n",
              "      <td>2</td>\n",
              "      <td>0</td>\n",
              "    </tr>\n",
              "    <tr>\n",
              "      <th>1</th>\n",
              "      <td>Did nothing for me, didn't help lost even with working out and eating healthy. Didn't curb appetite or anything.</td>\n",
              "      <td>Useless</td>\n",
              "      <td>Not Effective</td>\n",
              "      <td>1</td>\n",
              "      <td>[did, nothing, for, me, didn't, help, lost, even, with, working, out, and, eating, healthy, didn't, curb, appetite, or, anything]</td>\n",
              "      <td>[useless]</td>\n",
              "      <td>19</td>\n",
              "      <td>1</td>\n",
              "      <td>1</td>\n",
              "      <td>5.263158</td>\n",
              "      <td>100.000000</td>\n",
              "      <td>[not, effective]</td>\n",
              "      <td>0</td>\n",
              "      <td>0</td>\n",
              "      <td>0</td>\n",
              "      <td>1</td>\n",
              "      <td>0</td>\n",
              "      <td>0</td>\n",
              "      <td>0</td>\n",
              "      <td>0</td>\n",
              "      <td>0</td>\n",
              "      <td>0</td>\n",
              "      <td>0</td>\n",
              "      <td>0</td>\n",
              "      <td>0</td>\n",
              "      <td>0</td>\n",
              "      <td>0</td>\n",
              "      <td>0</td>\n",
              "      <td>0</td>\n",
              "      <td>0</td>\n",
              "      <td>0</td>\n",
              "      <td>0</td>\n",
              "      <td>0</td>\n",
              "      <td>0</td>\n",
              "      <td>0</td>\n",
              "      <td>0</td>\n",
              "      <td>0</td>\n",
              "      <td>0</td>\n",
              "      <td>0</td>\n",
              "      <td>0</td>\n",
              "      <td>0</td>\n",
              "      <td>0</td>\n",
              "      <td>0</td>\n",
              "      <td>0</td>\n",
              "      <td>0</td>\n",
              "      <td>0</td>\n",
              "      <td>0</td>\n",
              "      <td>0</td>\n",
              "      <td>0</td>\n",
              "      <td>0</td>\n",
              "      <td>0</td>\n",
              "      <td>0</td>\n",
              "      <td>0</td>\n",
              "      <td>0</td>\n",
              "      <td>2</td>\n",
              "      <td>0</td>\n",
              "    </tr>\n",
              "    <tr>\n",
              "      <th>2</th>\n",
              "      <td>I have bought these bags and  immediately open one put in some trash and the bag was split down the side. So I opened another bag to cover the split bag and it also split down the side(x3).Don’t buy these you will end up throwing your box away</td>\n",
              "      <td>TRASH!!! Do not buy these bags it’s a waist of time!!!</td>\n",
              "      <td>Customer Service</td>\n",
              "      <td>1</td>\n",
              "      <td>[i, have, bought, these, bags, and, immediately, open, one, put, in, some, trash, and, the, bag, was, split, down, the, side, so, i, opened, another, bag, to, cover, the, split, bag, and, it, also, split, down, the, side(x)dont, buy, these, you, will, end, up, throwing, your, box, away]</td>\n",
              "      <td>[trash, do, not, buy, these, bags, its, a, waist, of, time]</td>\n",
              "      <td>48</td>\n",
              "      <td>4</td>\n",
              "      <td>1</td>\n",
              "      <td>8.333333</td>\n",
              "      <td>9.090909</td>\n",
              "      <td>[customer, service]</td>\n",
              "      <td>0</td>\n",
              "      <td>0</td>\n",
              "      <td>0</td>\n",
              "      <td>0</td>\n",
              "      <td>0</td>\n",
              "      <td>1</td>\n",
              "      <td>0</td>\n",
              "      <td>0</td>\n",
              "      <td>0</td>\n",
              "      <td>0</td>\n",
              "      <td>0</td>\n",
              "      <td>0</td>\n",
              "      <td>0</td>\n",
              "      <td>0</td>\n",
              "      <td>0</td>\n",
              "      <td>0</td>\n",
              "      <td>0</td>\n",
              "      <td>0</td>\n",
              "      <td>0</td>\n",
              "      <td>0</td>\n",
              "      <td>3</td>\n",
              "      <td>0</td>\n",
              "      <td>0</td>\n",
              "      <td>0</td>\n",
              "      <td>0</td>\n",
              "      <td>0</td>\n",
              "      <td>1</td>\n",
              "      <td>0</td>\n",
              "      <td>0</td>\n",
              "      <td>0</td>\n",
              "      <td>0</td>\n",
              "      <td>0</td>\n",
              "      <td>0</td>\n",
              "      <td>0</td>\n",
              "      <td>0</td>\n",
              "      <td>0</td>\n",
              "      <td>0</td>\n",
              "      <td>0</td>\n",
              "      <td>0</td>\n",
              "      <td>0</td>\n",
              "      <td>0</td>\n",
              "      <td>0</td>\n",
              "      <td>6</td>\n",
              "      <td>2</td>\n",
              "    </tr>\n",
              "    <tr>\n",
              "      <th>3</th>\n",
              "      <td>Gave me an allergic reaction on my face :(</td>\n",
              "      <td>Do not recommend</td>\n",
              "      <td>Allergic</td>\n",
              "      <td>1</td>\n",
              "      <td>[gave, me, an, allergic, reaction, on, my, face, (]</td>\n",
              "      <td>[do, not, recommend]</td>\n",
              "      <td>9</td>\n",
              "      <td>1</td>\n",
              "      <td>0</td>\n",
              "      <td>11.111111</td>\n",
              "      <td>0.000000</td>\n",
              "      <td>[allergic]</td>\n",
              "      <td>0</td>\n",
              "      <td>0</td>\n",
              "      <td>0</td>\n",
              "      <td>0</td>\n",
              "      <td>0</td>\n",
              "      <td>0</td>\n",
              "      <td>0</td>\n",
              "      <td>0</td>\n",
              "      <td>0</td>\n",
              "      <td>0</td>\n",
              "      <td>0</td>\n",
              "      <td>0</td>\n",
              "      <td>0</td>\n",
              "      <td>0</td>\n",
              "      <td>0</td>\n",
              "      <td>1</td>\n",
              "      <td>0</td>\n",
              "      <td>0</td>\n",
              "      <td>0</td>\n",
              "      <td>0</td>\n",
              "      <td>0</td>\n",
              "      <td>0</td>\n",
              "      <td>0</td>\n",
              "      <td>0</td>\n",
              "      <td>0</td>\n",
              "      <td>0</td>\n",
              "      <td>0</td>\n",
              "      <td>0</td>\n",
              "      <td>0</td>\n",
              "      <td>0</td>\n",
              "      <td>1</td>\n",
              "      <td>0</td>\n",
              "      <td>0</td>\n",
              "      <td>0</td>\n",
              "      <td>0</td>\n",
              "      <td>0</td>\n",
              "      <td>0</td>\n",
              "      <td>0</td>\n",
              "      <td>0</td>\n",
              "      <td>0</td>\n",
              "      <td>0</td>\n",
              "      <td>0</td>\n",
              "      <td>2</td>\n",
              "      <td>1</td>\n",
              "    </tr>\n",
              "    <tr>\n",
              "      <th>4</th>\n",
              "      <td>These don't compare to the name brand wipes. Family of 5 little kids, we use a lot of wipes. These don't cut through sticky messes and they're small and very thin. Might be ok for wiping down less often used places but not good at tackling actual messes. I also didn't care for the lemon scent, felt it was too strong.</td>\n",
              "      <td>Can't tackle big messes</td>\n",
              "      <td>Texture</td>\n",
              "      <td>1</td>\n",
              "      <td>[these, don't, compare, to, the, name, brand, wipes, family, of, little, kids, we, use, a, lot, of, wipes, these, don't, cut, through, sticky, messes, and, they're, small, and, very, thin, might, be, ok, for, wiping, down, less, often, used, places, but, not, good, at, tackling, actual, messes, i, also, didn't, care, for, the, lemon, scent, felt, it, was, too, strong]</td>\n",
              "      <td>[can't, tackle, big, messes]</td>\n",
              "      <td>60</td>\n",
              "      <td>4</td>\n",
              "      <td>1</td>\n",
              "      <td>6.666667</td>\n",
              "      <td>25.000000</td>\n",
              "      <td>[texture]</td>\n",
              "      <td>0</td>\n",
              "      <td>0</td>\n",
              "      <td>0</td>\n",
              "      <td>0</td>\n",
              "      <td>0</td>\n",
              "      <td>1</td>\n",
              "      <td>0</td>\n",
              "      <td>0</td>\n",
              "      <td>0</td>\n",
              "      <td>0</td>\n",
              "      <td>0</td>\n",
              "      <td>0</td>\n",
              "      <td>0</td>\n",
              "      <td>1</td>\n",
              "      <td>0</td>\n",
              "      <td>0</td>\n",
              "      <td>0</td>\n",
              "      <td>0</td>\n",
              "      <td>0</td>\n",
              "      <td>1</td>\n",
              "      <td>2</td>\n",
              "      <td>0</td>\n",
              "      <td>0</td>\n",
              "      <td>0</td>\n",
              "      <td>0</td>\n",
              "      <td>0</td>\n",
              "      <td>0</td>\n",
              "      <td>0</td>\n",
              "      <td>0</td>\n",
              "      <td>1</td>\n",
              "      <td>0</td>\n",
              "      <td>0</td>\n",
              "      <td>0</td>\n",
              "      <td>0</td>\n",
              "      <td>0</td>\n",
              "      <td>0</td>\n",
              "      <td>0</td>\n",
              "      <td>0</td>\n",
              "      <td>0</td>\n",
              "      <td>0</td>\n",
              "      <td>0</td>\n",
              "      <td>0</td>\n",
              "      <td>3</td>\n",
              "      <td>1</td>\n",
              "    </tr>\n",
              "  </tbody>\n",
              "</table>\n",
              "</div>"
            ],
            "text/plain": [
              "                                                                                                                                                                                                                                                                                                                      Review Text  ... max_title\n",
              "0  Did nothing for me, didn't help lost even with working out and eating healthy. Didn't curb appetite or anything.                                                                                                                                                                                                                ...  0       \n",
              "1  Did nothing for me, didn't help lost even with working out and eating healthy. Didn't curb appetite or anything.                                                                                                                                                                                                                ...  0       \n",
              "2  I have bought these bags and  immediately open one put in some trash and the bag was split down the side. So I opened another bag to cover the split bag and it also split down the side(x3).Don’t buy these you will end up throwing your box away                                                                             ...  2       \n",
              "3  Gave me an allergic reaction on my face :(                                                                                                                                                                                                                                                                                      ...  1       \n",
              "4  These don't compare to the name brand wipes. Family of 5 little kids, we use a lot of wipes. These don't cut through sticky messes and they're small and very thin. Might be ok for wiping down less often used places but not good at tackling actual messes. I also didn't care for the lemon scent, felt it was too strong.  ...  1       \n",
              "\n",
              "[5 rows x 56 columns]"
            ]
          },
          "metadata": {
            "tags": []
          },
          "execution_count": 68
        }
      ]
    },
    {
      "cell_type": "markdown",
      "metadata": {
        "id": "eaFvtkS5qwUG",
        "colab_type": "text"
      },
      "source": [
        "#### finally we merge topics coded to use in estimation"
      ]
    },
    {
      "cell_type": "code",
      "metadata": {
        "id": "jQ_zh91qUJ3W",
        "colab_type": "code",
        "colab": {}
      },
      "source": [
        "train['topic_coded'] = train['topic'].map(r)"
      ],
      "execution_count": 0,
      "outputs": []
    },
    {
      "cell_type": "markdown",
      "metadata": {
        "id": "YK4jD1Epq-na",
        "colab_type": "text"
      },
      "source": [
        "#### remove redundant columns "
      ]
    },
    {
      "cell_type": "code",
      "metadata": {
        "id": "cGX0h6uF6Ly6",
        "colab_type": "code",
        "colab": {}
      },
      "source": [
        "train.drop(columns=['max','max_title'] , inplace=True)"
      ],
      "execution_count": 0,
      "outputs": []
    },
    {
      "cell_type": "code",
      "metadata": {
        "id": "rM-_EYaXrx4M",
        "colab_type": "code",
        "colab": {}
      },
      "source": [
        "train.drop(columns=['negative','negative_title'] , inplace=True)"
      ],
      "execution_count": 0,
      "outputs": []
    },
    {
      "cell_type": "markdown",
      "metadata": {
        "id": "m8vlTbeanAW8",
        "colab_type": "text"
      },
      "source": [
        ""
      ]
    },
    {
      "cell_type": "markdown",
      "metadata": {
        "id": "wOO6O50Or0K7",
        "colab_type": "text"
      },
      "source": [
        "### Then re divide data to train and test sets "
      ]
    },
    {
      "cell_type": "code",
      "metadata": {
        "id": "6DTcjoSexa7_",
        "colab_type": "code",
        "outputId": "45bcec58-282b-41a2-b4ab-577d4fa1738b",
        "colab": {
          "base_uri": "https://localhost:8080/",
          "height": 66
        }
      },
      "source": [
        "train['train'].value_counts()"
      ],
      "execution_count": 0,
      "outputs": [
        {
          "output_type": "execute_result",
          "data": {
            "text/plain": [
              "1    5959\n",
              "0    2553\n",
              "Name: train, dtype: int64"
            ]
          },
          "metadata": {
            "tags": []
          },
          "execution_count": 72
        }
      ]
    },
    {
      "cell_type": "code",
      "metadata": {
        "id": "M_FQJm1FnsnS",
        "colab_type": "code",
        "colab": {}
      },
      "source": [
        "train_final=train.loc[train['train']==1 , :]"
      ],
      "execution_count": 0,
      "outputs": []
    },
    {
      "cell_type": "code",
      "metadata": {
        "id": "GUSnud9vn3Of",
        "colab_type": "code",
        "colab": {}
      },
      "source": [
        "test_final=train.loc[train['train']==0 , :]"
      ],
      "execution_count": 0,
      "outputs": []
    },
    {
      "cell_type": "code",
      "metadata": {
        "id": "z-_LaZzVn8Wr",
        "colab_type": "code",
        "outputId": "17953fc3-d1d0-405a-9941-921bbace790a",
        "colab": {
          "base_uri": "https://localhost:8080/",
          "height": 983
        }
      },
      "source": [
        "train_final.info()"
      ],
      "execution_count": 0,
      "outputs": [
        {
          "output_type": "stream",
          "text": [
            "<class 'pandas.core.frame.DataFrame'>\n",
            "Int64Index: 5959 entries, 0 to 5958\n",
            "Data columns (total 53 columns):\n",
            "Review Text                      5959 non-null object\n",
            "Review Title                     5959 non-null object\n",
            "topic                            5959 non-null object\n",
            "train                            5959 non-null int64\n",
            "review_text_new                  5959 non-null object\n",
            "review_title_new                 5959 non-null object\n",
            "length                           5959 non-null int64\n",
            "negative_adj                     5959 non-null float64\n",
            "negative_title_adj               5959 non-null float64\n",
            "topic_new                        5959 non-null object\n",
            "Packaging_words                  5959 non-null int64\n",
            "Wrong Product received_words     5959 non-null int64\n",
            "Smells Bad_words                 5959 non-null int64\n",
            "Not Effective_words              5959 non-null int64\n",
            "Expiry_words                     5959 non-null int64\n",
            "Customer Service_words           5959 non-null int64\n",
            "False Advertisement_words        5959 non-null int64\n",
            "Customer Issues_words            5959 non-null int64\n",
            "Too big to swallow_words         5959 non-null int64\n",
            "Color and texture_words          5959 non-null int64\n",
            "Hard to Chew_words               5959 non-null int64\n",
            "Inferior to competitors_words    5959 non-null int64\n",
            "Too Sweet_words                  5959 non-null int64\n",
            "Quality/Contaminated_words       5959 non-null int64\n",
            "Didn't Like_words                5959 non-null int64\n",
            "Allergic_words                   5959 non-null int64\n",
            "Bad Taste/Flavor_words           5959 non-null int64\n",
            "Ingredients_words                5959 non-null int64\n",
            "Shipment and delivery_words      5959 non-null int64\n",
            "Texture_words                    5959 non-null int64\n",
            "Pricing_words                    5959 non-null int64\n",
            "Packaging_title                  5959 non-null int64\n",
            "Wrong Product received_title     5959 non-null int64\n",
            "Smells Bad_title                 5959 non-null int64\n",
            "Not Effective_title              5959 non-null int64\n",
            "Expiry_title                     5959 non-null int64\n",
            "Customer Service_title           5959 non-null int64\n",
            "False Advertisement_title        5959 non-null int64\n",
            "Customer Issues_title            5959 non-null int64\n",
            "Too big to swallow_title         5959 non-null int64\n",
            "Color and texture_title          5959 non-null int64\n",
            "Hard to Chew_title               5959 non-null int64\n",
            "Inferior to competitors_title    5959 non-null int64\n",
            "Too Sweet_title                  5959 non-null int64\n",
            "Quality/Contaminated_title       5959 non-null int64\n",
            "Didn't Like_title                5959 non-null int64\n",
            "Allergic_title                   5959 non-null int64\n",
            "Bad Taste/Flavor_title           5959 non-null int64\n",
            "Ingredients_title                5959 non-null int64\n",
            "Shipment and delivery_title      5959 non-null int64\n",
            "Texture_title                    5959 non-null int64\n",
            "Pricing_title                    5959 non-null int64\n",
            "topic_coded                      5959 non-null float64\n",
            "dtypes: float64(3), int64(44), object(6)\n",
            "memory usage: 2.5+ MB\n"
          ],
          "name": "stdout"
        }
      ]
    },
    {
      "cell_type": "code",
      "metadata": {
        "id": "ABbi7LgKp5yg",
        "colab_type": "code",
        "outputId": "331c9d52-b378-4040-8188-f629bf23c2fc",
        "colab": {
          "base_uri": "https://localhost:8080/",
          "height": 983
        }
      },
      "source": [
        "test_final.info()"
      ],
      "execution_count": 0,
      "outputs": [
        {
          "output_type": "stream",
          "text": [
            "<class 'pandas.core.frame.DataFrame'>\n",
            "Int64Index: 2553 entries, 0 to 2552\n",
            "Data columns (total 53 columns):\n",
            "Review Text                      2553 non-null object\n",
            "Review Title                     2553 non-null object\n",
            "topic                            0 non-null object\n",
            "train                            2553 non-null int64\n",
            "review_text_new                  2553 non-null object\n",
            "review_title_new                 2553 non-null object\n",
            "length                           2553 non-null int64\n",
            "negative_adj                     2553 non-null float64\n",
            "negative_title_adj               2553 non-null float64\n",
            "topic_new                        0 non-null object\n",
            "Packaging_words                  2553 non-null int64\n",
            "Wrong Product received_words     2553 non-null int64\n",
            "Smells Bad_words                 2553 non-null int64\n",
            "Not Effective_words              2553 non-null int64\n",
            "Expiry_words                     2553 non-null int64\n",
            "Customer Service_words           2553 non-null int64\n",
            "False Advertisement_words        2553 non-null int64\n",
            "Customer Issues_words            2553 non-null int64\n",
            "Too big to swallow_words         2553 non-null int64\n",
            "Color and texture_words          2553 non-null int64\n",
            "Hard to Chew_words               2553 non-null int64\n",
            "Inferior to competitors_words    2553 non-null int64\n",
            "Too Sweet_words                  2553 non-null int64\n",
            "Quality/Contaminated_words       2553 non-null int64\n",
            "Didn't Like_words                2553 non-null int64\n",
            "Allergic_words                   2553 non-null int64\n",
            "Bad Taste/Flavor_words           2553 non-null int64\n",
            "Ingredients_words                2553 non-null int64\n",
            "Shipment and delivery_words      2553 non-null int64\n",
            "Texture_words                    2553 non-null int64\n",
            "Pricing_words                    2553 non-null int64\n",
            "Packaging_title                  2553 non-null int64\n",
            "Wrong Product received_title     2553 non-null int64\n",
            "Smells Bad_title                 2553 non-null int64\n",
            "Not Effective_title              2553 non-null int64\n",
            "Expiry_title                     2553 non-null int64\n",
            "Customer Service_title           2553 non-null int64\n",
            "False Advertisement_title        2553 non-null int64\n",
            "Customer Issues_title            2553 non-null int64\n",
            "Too big to swallow_title         2553 non-null int64\n",
            "Color and texture_title          2553 non-null int64\n",
            "Hard to Chew_title               2553 non-null int64\n",
            "Inferior to competitors_title    2553 non-null int64\n",
            "Too Sweet_title                  2553 non-null int64\n",
            "Quality/Contaminated_title       2553 non-null int64\n",
            "Didn't Like_title                2553 non-null int64\n",
            "Allergic_title                   2553 non-null int64\n",
            "Bad Taste/Flavor_title           2553 non-null int64\n",
            "Ingredients_title                2553 non-null int64\n",
            "Shipment and delivery_title      2553 non-null int64\n",
            "Texture_title                    2553 non-null int64\n",
            "Pricing_title                    2553 non-null int64\n",
            "topic_coded                      0 non-null float64\n",
            "dtypes: float64(3), int64(44), object(6)\n",
            "memory usage: 1.1+ MB\n"
          ],
          "name": "stdout"
        }
      ]
    },
    {
      "cell_type": "markdown",
      "metadata": {
        "id": "hXBq7Q4Ur-62",
        "colab_type": "text"
      },
      "source": [
        "###Finally : We start Estimation"
      ]
    },
    {
      "cell_type": "markdown",
      "metadata": {
        "id": "jDSkpFl3sDcO",
        "colab_type": "text"
      },
      "source": [
        "#### first we divide data to X and Y t oease processing"
      ]
    },
    {
      "cell_type": "code",
      "metadata": {
        "id": "9eHURJbF0USO",
        "colab_type": "code",
        "colab": {}
      },
      "source": [
        "y_train=train_final.iloc[:, [52]]"
      ],
      "execution_count": 0,
      "outputs": []
    },
    {
      "cell_type": "code",
      "metadata": {
        "id": "74Bp61GIzYQw",
        "colab_type": "code",
        "colab": {}
      },
      "source": [
        "x_train=train_final.iloc[: , 6:51].drop(columns=['topic_new'])"
      ],
      "execution_count": 0,
      "outputs": []
    },
    {
      "cell_type": "code",
      "metadata": {
        "id": "vYmzYIcV0ftT",
        "colab_type": "code",
        "outputId": "f0564256-c8d6-4999-c1e2-4f4651d54223",
        "colab": {
          "base_uri": "https://localhost:8080/",
          "height": 833
        }
      },
      "source": [
        "x_train.info()"
      ],
      "execution_count": 0,
      "outputs": [
        {
          "output_type": "stream",
          "text": [
            "<class 'pandas.core.frame.DataFrame'>\n",
            "Int64Index: 5959 entries, 0 to 5958\n",
            "Data columns (total 44 columns):\n",
            "length                           5959 non-null int64\n",
            "negative_adj                     5959 non-null float64\n",
            "negative_title_adj               5959 non-null float64\n",
            "Packaging_words                  5959 non-null int64\n",
            "Wrong Product received_words     5959 non-null int64\n",
            "Smells Bad_words                 5959 non-null int64\n",
            "Not Effective_words              5959 non-null int64\n",
            "Expiry_words                     5959 non-null int64\n",
            "Customer Service_words           5959 non-null int64\n",
            "False Advertisement_words        5959 non-null int64\n",
            "Customer Issues_words            5959 non-null int64\n",
            "Too big to swallow_words         5959 non-null int64\n",
            "Color and texture_words          5959 non-null int64\n",
            "Hard to Chew_words               5959 non-null int64\n",
            "Inferior to competitors_words    5959 non-null int64\n",
            "Too Sweet_words                  5959 non-null int64\n",
            "Quality/Contaminated_words       5959 non-null int64\n",
            "Didn't Like_words                5959 non-null int64\n",
            "Allergic_words                   5959 non-null int64\n",
            "Bad Taste/Flavor_words           5959 non-null int64\n",
            "Ingredients_words                5959 non-null int64\n",
            "Shipment and delivery_words      5959 non-null int64\n",
            "Texture_words                    5959 non-null int64\n",
            "Pricing_words                    5959 non-null int64\n",
            "Packaging_title                  5959 non-null int64\n",
            "Wrong Product received_title     5959 non-null int64\n",
            "Smells Bad_title                 5959 non-null int64\n",
            "Not Effective_title              5959 non-null int64\n",
            "Expiry_title                     5959 non-null int64\n",
            "Customer Service_title           5959 non-null int64\n",
            "False Advertisement_title        5959 non-null int64\n",
            "Customer Issues_title            5959 non-null int64\n",
            "Too big to swallow_title         5959 non-null int64\n",
            "Color and texture_title          5959 non-null int64\n",
            "Hard to Chew_title               5959 non-null int64\n",
            "Inferior to competitors_title    5959 non-null int64\n",
            "Too Sweet_title                  5959 non-null int64\n",
            "Quality/Contaminated_title       5959 non-null int64\n",
            "Didn't Like_title                5959 non-null int64\n",
            "Allergic_title                   5959 non-null int64\n",
            "Bad Taste/Flavor_title           5959 non-null int64\n",
            "Ingredients_title                5959 non-null int64\n",
            "Shipment and delivery_title      5959 non-null int64\n",
            "Texture_title                    5959 non-null int64\n",
            "dtypes: float64(2), int64(42)\n",
            "memory usage: 2.0 MB\n"
          ],
          "name": "stdout"
        }
      ]
    },
    {
      "cell_type": "code",
      "metadata": {
        "id": "vY7N9hjqgMbI",
        "colab_type": "code",
        "outputId": "27ad14b2-4af3-45f0-e3c5-2202747ec4cd",
        "colab": {
          "base_uri": "https://localhost:8080/",
          "height": 234
        }
      },
      "source": [
        "x_train.head()"
      ],
      "execution_count": 0,
      "outputs": [
        {
          "output_type": "execute_result",
          "data": {
            "text/html": [
              "<div>\n",
              "<style scoped>\n",
              "    .dataframe tbody tr th:only-of-type {\n",
              "        vertical-align: middle;\n",
              "    }\n",
              "\n",
              "    .dataframe tbody tr th {\n",
              "        vertical-align: top;\n",
              "    }\n",
              "\n",
              "    .dataframe thead th {\n",
              "        text-align: right;\n",
              "    }\n",
              "</style>\n",
              "<table border=\"1\" class=\"dataframe\">\n",
              "  <thead>\n",
              "    <tr style=\"text-align: right;\">\n",
              "      <th></th>\n",
              "      <th>length</th>\n",
              "      <th>negative_adj</th>\n",
              "      <th>negative_title_adj</th>\n",
              "      <th>Packaging_words</th>\n",
              "      <th>Wrong Product received_words</th>\n",
              "      <th>Smells Bad_words</th>\n",
              "      <th>Not Effective_words</th>\n",
              "      <th>Expiry_words</th>\n",
              "      <th>Customer Service_words</th>\n",
              "      <th>False Advertisement_words</th>\n",
              "      <th>Customer Issues_words</th>\n",
              "      <th>Too big to swallow_words</th>\n",
              "      <th>Color and texture_words</th>\n",
              "      <th>Hard to Chew_words</th>\n",
              "      <th>Inferior to competitors_words</th>\n",
              "      <th>Too Sweet_words</th>\n",
              "      <th>Quality/Contaminated_words</th>\n",
              "      <th>Didn't Like_words</th>\n",
              "      <th>Allergic_words</th>\n",
              "      <th>Bad Taste/Flavor_words</th>\n",
              "      <th>Ingredients_words</th>\n",
              "      <th>Shipment and delivery_words</th>\n",
              "      <th>Texture_words</th>\n",
              "      <th>Pricing_words</th>\n",
              "      <th>Packaging_title</th>\n",
              "      <th>Wrong Product received_title</th>\n",
              "      <th>Smells Bad_title</th>\n",
              "      <th>Not Effective_title</th>\n",
              "      <th>Expiry_title</th>\n",
              "      <th>Customer Service_title</th>\n",
              "      <th>False Advertisement_title</th>\n",
              "      <th>Customer Issues_title</th>\n",
              "      <th>Too big to swallow_title</th>\n",
              "      <th>Color and texture_title</th>\n",
              "      <th>Hard to Chew_title</th>\n",
              "      <th>Inferior to competitors_title</th>\n",
              "      <th>Too Sweet_title</th>\n",
              "      <th>Quality/Contaminated_title</th>\n",
              "      <th>Didn't Like_title</th>\n",
              "      <th>Allergic_title</th>\n",
              "      <th>Bad Taste/Flavor_title</th>\n",
              "      <th>Ingredients_title</th>\n",
              "      <th>Shipment and delivery_title</th>\n",
              "      <th>Texture_title</th>\n",
              "    </tr>\n",
              "  </thead>\n",
              "  <tbody>\n",
              "    <tr>\n",
              "      <th>0</th>\n",
              "      <td>19</td>\n",
              "      <td>5.263158</td>\n",
              "      <td>100.000000</td>\n",
              "      <td>0</td>\n",
              "      <td>0</td>\n",
              "      <td>0</td>\n",
              "      <td>1</td>\n",
              "      <td>0</td>\n",
              "      <td>0</td>\n",
              "      <td>0</td>\n",
              "      <td>0</td>\n",
              "      <td>0</td>\n",
              "      <td>0</td>\n",
              "      <td>0</td>\n",
              "      <td>0</td>\n",
              "      <td>0</td>\n",
              "      <td>0</td>\n",
              "      <td>0</td>\n",
              "      <td>0</td>\n",
              "      <td>0</td>\n",
              "      <td>0</td>\n",
              "      <td>0</td>\n",
              "      <td>0</td>\n",
              "      <td>0</td>\n",
              "      <td>0</td>\n",
              "      <td>0</td>\n",
              "      <td>0</td>\n",
              "      <td>0</td>\n",
              "      <td>0</td>\n",
              "      <td>0</td>\n",
              "      <td>0</td>\n",
              "      <td>0</td>\n",
              "      <td>0</td>\n",
              "      <td>0</td>\n",
              "      <td>0</td>\n",
              "      <td>0</td>\n",
              "      <td>0</td>\n",
              "      <td>0</td>\n",
              "      <td>0</td>\n",
              "      <td>0</td>\n",
              "      <td>0</td>\n",
              "      <td>0</td>\n",
              "      <td>0</td>\n",
              "      <td>0</td>\n",
              "    </tr>\n",
              "    <tr>\n",
              "      <th>1</th>\n",
              "      <td>19</td>\n",
              "      <td>5.263158</td>\n",
              "      <td>100.000000</td>\n",
              "      <td>0</td>\n",
              "      <td>0</td>\n",
              "      <td>0</td>\n",
              "      <td>1</td>\n",
              "      <td>0</td>\n",
              "      <td>0</td>\n",
              "      <td>0</td>\n",
              "      <td>0</td>\n",
              "      <td>0</td>\n",
              "      <td>0</td>\n",
              "      <td>0</td>\n",
              "      <td>0</td>\n",
              "      <td>0</td>\n",
              "      <td>0</td>\n",
              "      <td>0</td>\n",
              "      <td>0</td>\n",
              "      <td>0</td>\n",
              "      <td>0</td>\n",
              "      <td>0</td>\n",
              "      <td>0</td>\n",
              "      <td>0</td>\n",
              "      <td>0</td>\n",
              "      <td>0</td>\n",
              "      <td>0</td>\n",
              "      <td>0</td>\n",
              "      <td>0</td>\n",
              "      <td>0</td>\n",
              "      <td>0</td>\n",
              "      <td>0</td>\n",
              "      <td>0</td>\n",
              "      <td>0</td>\n",
              "      <td>0</td>\n",
              "      <td>0</td>\n",
              "      <td>0</td>\n",
              "      <td>0</td>\n",
              "      <td>0</td>\n",
              "      <td>0</td>\n",
              "      <td>0</td>\n",
              "      <td>0</td>\n",
              "      <td>0</td>\n",
              "      <td>0</td>\n",
              "    </tr>\n",
              "    <tr>\n",
              "      <th>2</th>\n",
              "      <td>48</td>\n",
              "      <td>8.333333</td>\n",
              "      <td>9.090909</td>\n",
              "      <td>0</td>\n",
              "      <td>0</td>\n",
              "      <td>0</td>\n",
              "      <td>0</td>\n",
              "      <td>0</td>\n",
              "      <td>1</td>\n",
              "      <td>0</td>\n",
              "      <td>0</td>\n",
              "      <td>0</td>\n",
              "      <td>0</td>\n",
              "      <td>0</td>\n",
              "      <td>0</td>\n",
              "      <td>0</td>\n",
              "      <td>0</td>\n",
              "      <td>0</td>\n",
              "      <td>0</td>\n",
              "      <td>0</td>\n",
              "      <td>0</td>\n",
              "      <td>0</td>\n",
              "      <td>0</td>\n",
              "      <td>3</td>\n",
              "      <td>0</td>\n",
              "      <td>0</td>\n",
              "      <td>0</td>\n",
              "      <td>0</td>\n",
              "      <td>0</td>\n",
              "      <td>1</td>\n",
              "      <td>0</td>\n",
              "      <td>0</td>\n",
              "      <td>0</td>\n",
              "      <td>0</td>\n",
              "      <td>0</td>\n",
              "      <td>0</td>\n",
              "      <td>0</td>\n",
              "      <td>0</td>\n",
              "      <td>0</td>\n",
              "      <td>0</td>\n",
              "      <td>0</td>\n",
              "      <td>0</td>\n",
              "      <td>0</td>\n",
              "      <td>0</td>\n",
              "    </tr>\n",
              "    <tr>\n",
              "      <th>3</th>\n",
              "      <td>9</td>\n",
              "      <td>11.111111</td>\n",
              "      <td>0.000000</td>\n",
              "      <td>0</td>\n",
              "      <td>0</td>\n",
              "      <td>0</td>\n",
              "      <td>0</td>\n",
              "      <td>0</td>\n",
              "      <td>0</td>\n",
              "      <td>0</td>\n",
              "      <td>0</td>\n",
              "      <td>0</td>\n",
              "      <td>0</td>\n",
              "      <td>0</td>\n",
              "      <td>0</td>\n",
              "      <td>0</td>\n",
              "      <td>0</td>\n",
              "      <td>0</td>\n",
              "      <td>1</td>\n",
              "      <td>0</td>\n",
              "      <td>0</td>\n",
              "      <td>0</td>\n",
              "      <td>0</td>\n",
              "      <td>0</td>\n",
              "      <td>0</td>\n",
              "      <td>0</td>\n",
              "      <td>0</td>\n",
              "      <td>0</td>\n",
              "      <td>0</td>\n",
              "      <td>0</td>\n",
              "      <td>0</td>\n",
              "      <td>0</td>\n",
              "      <td>0</td>\n",
              "      <td>1</td>\n",
              "      <td>0</td>\n",
              "      <td>0</td>\n",
              "      <td>0</td>\n",
              "      <td>0</td>\n",
              "      <td>0</td>\n",
              "      <td>0</td>\n",
              "      <td>0</td>\n",
              "      <td>0</td>\n",
              "      <td>0</td>\n",
              "      <td>0</td>\n",
              "    </tr>\n",
              "    <tr>\n",
              "      <th>4</th>\n",
              "      <td>60</td>\n",
              "      <td>6.666667</td>\n",
              "      <td>25.000000</td>\n",
              "      <td>0</td>\n",
              "      <td>0</td>\n",
              "      <td>0</td>\n",
              "      <td>0</td>\n",
              "      <td>0</td>\n",
              "      <td>1</td>\n",
              "      <td>0</td>\n",
              "      <td>0</td>\n",
              "      <td>0</td>\n",
              "      <td>0</td>\n",
              "      <td>0</td>\n",
              "      <td>0</td>\n",
              "      <td>0</td>\n",
              "      <td>1</td>\n",
              "      <td>0</td>\n",
              "      <td>0</td>\n",
              "      <td>0</td>\n",
              "      <td>0</td>\n",
              "      <td>0</td>\n",
              "      <td>1</td>\n",
              "      <td>2</td>\n",
              "      <td>0</td>\n",
              "      <td>0</td>\n",
              "      <td>0</td>\n",
              "      <td>0</td>\n",
              "      <td>0</td>\n",
              "      <td>0</td>\n",
              "      <td>0</td>\n",
              "      <td>0</td>\n",
              "      <td>1</td>\n",
              "      <td>0</td>\n",
              "      <td>0</td>\n",
              "      <td>0</td>\n",
              "      <td>0</td>\n",
              "      <td>0</td>\n",
              "      <td>0</td>\n",
              "      <td>0</td>\n",
              "      <td>0</td>\n",
              "      <td>0</td>\n",
              "      <td>0</td>\n",
              "      <td>0</td>\n",
              "    </tr>\n",
              "  </tbody>\n",
              "</table>\n",
              "</div>"
            ],
            "text/plain": [
              "   length  negative_adj  ...  Shipment and delivery_title  Texture_title\n",
              "0  19      5.263158      ...  0                            0            \n",
              "1  19      5.263158      ...  0                            0            \n",
              "2  48      8.333333      ...  0                            0            \n",
              "3  9       11.111111     ...  0                            0            \n",
              "4  60      6.666667      ...  0                            0            \n",
              "\n",
              "[5 rows x 44 columns]"
            ]
          },
          "metadata": {
            "tags": []
          },
          "execution_count": 80
        }
      ]
    },
    {
      "cell_type": "code",
      "metadata": {
        "id": "xaMR0CfS8jGn",
        "colab_type": "code",
        "outputId": "55d4b3da-7af0-4e96-9b99-73c591999eb2",
        "colab": {
          "base_uri": "https://localhost:8080/",
          "height": 116
        }
      },
      "source": [
        "y_train.info()"
      ],
      "execution_count": 0,
      "outputs": [
        {
          "output_type": "stream",
          "text": [
            "<class 'pandas.core.frame.DataFrame'>\n",
            "Int64Index: 5959 entries, 0 to 5958\n",
            "Data columns (total 1 columns):\n",
            "topic_coded    5959 non-null float64\n",
            "dtypes: float64(1)\n",
            "memory usage: 93.1 KB\n"
          ],
          "name": "stdout"
        }
      ]
    },
    {
      "cell_type": "markdown",
      "metadata": {
        "id": "fW0W0M-fsJvd",
        "colab_type": "text"
      },
      "source": [
        "#### then divide train data itself to train and test subsets to test algorithm before applying it to the test data"
      ]
    },
    {
      "cell_type": "code",
      "metadata": {
        "id": "8FUgiSElynsP",
        "colab_type": "code",
        "colab": {}
      },
      "source": [
        "# Organize our data for training\n",
        "X = x_train\n",
        "Y = y_train\n",
        "X, X_Val, Y, Y_Val = train_test_split(X, Y , train_size =0.7 , shuffle=True)"
      ],
      "execution_count": 0,
      "outputs": []
    },
    {
      "cell_type": "markdown",
      "metadata": {
        "id": "uLRbl4tksUJA",
        "colab_type": "text"
      },
      "source": [
        "#### we start by multinomial naive bayesian"
      ]
    },
    {
      "cell_type": "code",
      "metadata": {
        "id": "GxUop0ns2dvL",
        "colab_type": "code",
        "outputId": "a0e5e2b9-da26-4865-c3e6-a0bf712fbf79",
        "colab": {
          "base_uri": "https://localhost:8080/",
          "height": 50
        }
      },
      "source": [
        "# Import the necessary modules\n",
        "from sklearn import metrics\n",
        "from sklearn.naive_bayes import MultinomialNB\n",
        "\n",
        "\n",
        "# Instantiate a Multinomial Naive Bayes classifier: nb_classifier\n",
        "nb_classifier = MultinomialNB()\n",
        "\n",
        "# Fit the classifier to the training data\n",
        "nb_classifier.fit(X, Y)\n",
        "\n",
        "# Create the predicted tags: pred\n",
        "pred = nb_classifier.predict(X_Val)\n",
        "\n",
        "# Calculate the accuracy score: score\n",
        "score = metrics.accuracy_score(Y_Val, pred)\n",
        "print('Accuracy is:',score)\n",
        "f1 = metrics.f1_score(Y_Val, pred , average='weighted')\n",
        "print('F score is:',f1)"
      ],
      "execution_count": 0,
      "outputs": [
        {
          "output_type": "stream",
          "text": [
            "Accuracy is: 0.19966442953020133\n",
            "F score is: 0.21963498803064724\n"
          ],
          "name": "stdout"
        }
      ]
    },
    {
      "cell_type": "markdown",
      "metadata": {
        "id": "wVGEwZ3TsYzx",
        "colab_type": "text"
      },
      "source": [
        "#### as we see performance is week  , try another algorithm "
      ]
    },
    {
      "cell_type": "markdown",
      "metadata": {
        "id": "lEG7vB6lsfhY",
        "colab_type": "text"
      },
      "source": [
        "RAndomforest classifier "
      ]
    },
    {
      "cell_type": "code",
      "metadata": {
        "id": "mz3aBK0YI8Zu",
        "colab_type": "code",
        "colab": {}
      },
      "source": [
        "# Organize our data for training\n",
        "X = x_train\n",
        "Y = y_train\n",
        "X, X_Val, Y, Y_Val = train_test_split(X, Y , train_size =0.7 , shuffle=True)"
      ],
      "execution_count": 0,
      "outputs": []
    },
    {
      "cell_type": "code",
      "metadata": {
        "id": "oGS0JQNq6vl_",
        "colab_type": "code",
        "colab": {}
      },
      "source": [
        "from sklearn.ensemble import RandomForestClassifier\n"
      ],
      "execution_count": 0,
      "outputs": []
    },
    {
      "cell_type": "code",
      "metadata": {
        "id": "KwjIJglx6lB9",
        "colab_type": "code",
        "outputId": "dcbdd77b-a146-4ef5-a020-7698f83228ef",
        "colab": {
          "base_uri": "https://localhost:8080/",
          "height": 50
        }
      },
      "source": [
        "\n",
        "clf = RandomForestClassifier(random_state=51)\n",
        "# Fit the classifier to the training data\n",
        "clf.fit(X,Y)\n",
        "\n",
        "# Create the predicted tags: pred\n",
        "pred = clf.predict(X_Val)\n",
        "\n",
        "# Calculate the accuracy score: score\n",
        "score = metrics.accuracy_score(Y_Val, pred)\n",
        "print('Accuracy is:',score)\n",
        "f1 = metrics.f1_score(Y_Val, pred , average='weighted')\n",
        "print('F score is:',f1)"
      ],
      "execution_count": 0,
      "outputs": [
        {
          "output_type": "stream",
          "text": [
            "Accuracy is: 0.32941834451901564\n",
            "F score is: 0.3215126975544334\n"
          ],
          "name": "stdout"
        }
      ]
    },
    {
      "cell_type": "markdown",
      "metadata": {
        "id": "2rk-PG6Asj_e",
        "colab_type": "text"
      },
      "source": [
        "#### it gives better performance , just we need to perform grid search to reach the parameters that give the best estimation "
      ]
    },
    {
      "cell_type": "code",
      "metadata": {
        "id": "kjdq0zUbI9zi",
        "colab_type": "code",
        "colab": {}
      },
      "source": [
        "# Organize our data for training\n",
        "X = x_train\n",
        "Y = y_train\n",
        "X, X_Val, Y, Y_Val = train_test_split(X, Y , train_size =0.7 , shuffle=True)"
      ],
      "execution_count": 0,
      "outputs": []
    },
    {
      "cell_type": "code",
      "metadata": {
        "id": "zCXsCpH0q7ni",
        "colab_type": "code",
        "colab": {}
      },
      "source": [
        "import warnings\n",
        "warnings.simplefilter(action='ignore')"
      ],
      "execution_count": 0,
      "outputs": []
    },
    {
      "cell_type": "code",
      "metadata": {
        "id": "HiMTSZoZ_xl2",
        "colab_type": "code",
        "outputId": "3e6f9af5-d634-49ee-fa56-d3d54989cfba",
        "colab": {
          "base_uri": "https://localhost:8080/",
          "height": 50
        }
      },
      "source": [
        "from sklearn.model_selection import GridSearchCV\n",
        "\n",
        "clf = RandomForestClassifier()\n",
        "\n",
        "scorer = metrics.make_scorer(metrics.fbeta_score, beta=0.5 , average='weighted')\n",
        "\n",
        "parameters = {'n_estimators': [100], 'max_features': [18,19,20,21], 'max_depth': [40,50,70],\n",
        "              'min_samples_split':[2,3],'min_samples_leaf':[3,5,7]}\n",
        "\n",
        "grid_obj = GridSearchCV(clf, parameters, scoring=scorer)\n",
        "\n",
        "grid_fit = grid_obj.fit(X, Y )\n",
        "\n",
        "# Get the estimator\n",
        "best_clf = grid_fit.best_estimator_\n",
        "\n",
        "best_predictions = best_clf.predict(X_Val)\n",
        "\n",
        "score = metrics.accuracy_score(Y_Val, best_predictions)\n",
        "print('Accuracy is:',score)\n",
        "f1 = metrics.f1_score(Y_Val, best_predictions , average='weighted')\n",
        "print('F score is:',f1)"
      ],
      "execution_count": 0,
      "outputs": [
        {
          "output_type": "stream",
          "text": [
            "Accuracy is: 0.4446308724832215\n",
            "F score is: 0.42156394355088345\n"
          ],
          "name": "stdout"
        }
      ]
    },
    {
      "cell_type": "markdown",
      "metadata": {
        "id": "qe1UvgDcsuC1",
        "colab_type": "text"
      },
      "source": [
        "#### then we apply the best estimate to our test data to get the sample submision"
      ]
    },
    {
      "cell_type": "code",
      "metadata": {
        "id": "7T5qelS4GbWa",
        "colab_type": "code",
        "outputId": "d37d3624-1495-4370-8155-d2e474682d26",
        "colab": {
          "base_uri": "https://localhost:8080/",
          "height": 133
        }
      },
      "source": [
        "best_clf"
      ],
      "execution_count": 0,
      "outputs": [
        {
          "output_type": "execute_result",
          "data": {
            "text/plain": [
              "RandomForestClassifier(bootstrap=True, class_weight=None, criterion='gini',\n",
              "                       max_depth=40, max_features=18, max_leaf_nodes=None,\n",
              "                       min_impurity_decrease=0.0, min_impurity_split=None,\n",
              "                       min_samples_leaf=5, min_samples_split=2,\n",
              "                       min_weight_fraction_leaf=0.0, n_estimators=100,\n",
              "                       n_jobs=None, oob_score=False, random_state=None,\n",
              "                       verbose=0, warm_start=False)"
            ]
          },
          "metadata": {
            "tags": []
          },
          "execution_count": 90
        }
      ]
    },
    {
      "cell_type": "code",
      "metadata": {
        "id": "E__Gf9l0iDAq",
        "colab_type": "code",
        "colab": {}
      },
      "source": [
        "x_test=test_final.iloc[: , 6:51].drop(columns=['topic_new'])"
      ],
      "execution_count": 0,
      "outputs": []
    },
    {
      "cell_type": "code",
      "metadata": {
        "id": "OEh5Jj2Ziq_Z",
        "colab_type": "code",
        "outputId": "0455e352-add7-472c-d2b6-3a8a27a5611d",
        "colab": {
          "base_uri": "https://localhost:8080/",
          "height": 234
        }
      },
      "source": [
        "x_test.head()"
      ],
      "execution_count": 0,
      "outputs": [
        {
          "output_type": "execute_result",
          "data": {
            "text/html": [
              "<div>\n",
              "<style scoped>\n",
              "    .dataframe tbody tr th:only-of-type {\n",
              "        vertical-align: middle;\n",
              "    }\n",
              "\n",
              "    .dataframe tbody tr th {\n",
              "        vertical-align: top;\n",
              "    }\n",
              "\n",
              "    .dataframe thead th {\n",
              "        text-align: right;\n",
              "    }\n",
              "</style>\n",
              "<table border=\"1\" class=\"dataframe\">\n",
              "  <thead>\n",
              "    <tr style=\"text-align: right;\">\n",
              "      <th></th>\n",
              "      <th>length</th>\n",
              "      <th>negative_adj</th>\n",
              "      <th>negative_title_adj</th>\n",
              "      <th>Packaging_words</th>\n",
              "      <th>Wrong Product received_words</th>\n",
              "      <th>Smells Bad_words</th>\n",
              "      <th>Not Effective_words</th>\n",
              "      <th>Expiry_words</th>\n",
              "      <th>Customer Service_words</th>\n",
              "      <th>False Advertisement_words</th>\n",
              "      <th>Customer Issues_words</th>\n",
              "      <th>Too big to swallow_words</th>\n",
              "      <th>Color and texture_words</th>\n",
              "      <th>Hard to Chew_words</th>\n",
              "      <th>Inferior to competitors_words</th>\n",
              "      <th>Too Sweet_words</th>\n",
              "      <th>Quality/Contaminated_words</th>\n",
              "      <th>Didn't Like_words</th>\n",
              "      <th>Allergic_words</th>\n",
              "      <th>Bad Taste/Flavor_words</th>\n",
              "      <th>Ingredients_words</th>\n",
              "      <th>Shipment and delivery_words</th>\n",
              "      <th>Texture_words</th>\n",
              "      <th>Pricing_words</th>\n",
              "      <th>Packaging_title</th>\n",
              "      <th>Wrong Product received_title</th>\n",
              "      <th>Smells Bad_title</th>\n",
              "      <th>Not Effective_title</th>\n",
              "      <th>Expiry_title</th>\n",
              "      <th>Customer Service_title</th>\n",
              "      <th>False Advertisement_title</th>\n",
              "      <th>Customer Issues_title</th>\n",
              "      <th>Too big to swallow_title</th>\n",
              "      <th>Color and texture_title</th>\n",
              "      <th>Hard to Chew_title</th>\n",
              "      <th>Inferior to competitors_title</th>\n",
              "      <th>Too Sweet_title</th>\n",
              "      <th>Quality/Contaminated_title</th>\n",
              "      <th>Didn't Like_title</th>\n",
              "      <th>Allergic_title</th>\n",
              "      <th>Bad Taste/Flavor_title</th>\n",
              "      <th>Ingredients_title</th>\n",
              "      <th>Shipment and delivery_title</th>\n",
              "      <th>Texture_title</th>\n",
              "    </tr>\n",
              "  </thead>\n",
              "  <tbody>\n",
              "    <tr>\n",
              "      <th>0</th>\n",
              "      <td>17</td>\n",
              "      <td>0.000000</td>\n",
              "      <td>50.000000</td>\n",
              "      <td>0</td>\n",
              "      <td>0</td>\n",
              "      <td>0</td>\n",
              "      <td>0</td>\n",
              "      <td>0</td>\n",
              "      <td>0</td>\n",
              "      <td>0</td>\n",
              "      <td>0</td>\n",
              "      <td>0</td>\n",
              "      <td>0</td>\n",
              "      <td>0</td>\n",
              "      <td>0</td>\n",
              "      <td>1</td>\n",
              "      <td>0</td>\n",
              "      <td>0</td>\n",
              "      <td>0</td>\n",
              "      <td>1</td>\n",
              "      <td>0</td>\n",
              "      <td>0</td>\n",
              "      <td>0</td>\n",
              "      <td>1</td>\n",
              "      <td>0</td>\n",
              "      <td>0</td>\n",
              "      <td>0</td>\n",
              "      <td>0</td>\n",
              "      <td>0</td>\n",
              "      <td>0</td>\n",
              "      <td>0</td>\n",
              "      <td>0</td>\n",
              "      <td>0</td>\n",
              "      <td>0</td>\n",
              "      <td>0</td>\n",
              "      <td>0</td>\n",
              "      <td>0</td>\n",
              "      <td>1</td>\n",
              "      <td>0</td>\n",
              "      <td>0</td>\n",
              "      <td>0</td>\n",
              "      <td>0</td>\n",
              "      <td>0</td>\n",
              "      <td>0</td>\n",
              "    </tr>\n",
              "    <tr>\n",
              "      <th>1</th>\n",
              "      <td>17</td>\n",
              "      <td>0.000000</td>\n",
              "      <td>50.000000</td>\n",
              "      <td>0</td>\n",
              "      <td>0</td>\n",
              "      <td>0</td>\n",
              "      <td>0</td>\n",
              "      <td>0</td>\n",
              "      <td>0</td>\n",
              "      <td>0</td>\n",
              "      <td>0</td>\n",
              "      <td>0</td>\n",
              "      <td>0</td>\n",
              "      <td>0</td>\n",
              "      <td>0</td>\n",
              "      <td>1</td>\n",
              "      <td>0</td>\n",
              "      <td>0</td>\n",
              "      <td>0</td>\n",
              "      <td>1</td>\n",
              "      <td>0</td>\n",
              "      <td>0</td>\n",
              "      <td>0</td>\n",
              "      <td>1</td>\n",
              "      <td>0</td>\n",
              "      <td>0</td>\n",
              "      <td>0</td>\n",
              "      <td>0</td>\n",
              "      <td>0</td>\n",
              "      <td>0</td>\n",
              "      <td>0</td>\n",
              "      <td>0</td>\n",
              "      <td>0</td>\n",
              "      <td>0</td>\n",
              "      <td>0</td>\n",
              "      <td>0</td>\n",
              "      <td>0</td>\n",
              "      <td>1</td>\n",
              "      <td>0</td>\n",
              "      <td>0</td>\n",
              "      <td>0</td>\n",
              "      <td>0</td>\n",
              "      <td>0</td>\n",
              "      <td>0</td>\n",
              "    </tr>\n",
              "    <tr>\n",
              "      <th>2</th>\n",
              "      <td>4</td>\n",
              "      <td>25.000000</td>\n",
              "      <td>0.000000</td>\n",
              "      <td>0</td>\n",
              "      <td>0</td>\n",
              "      <td>0</td>\n",
              "      <td>1</td>\n",
              "      <td>0</td>\n",
              "      <td>0</td>\n",
              "      <td>0</td>\n",
              "      <td>0</td>\n",
              "      <td>0</td>\n",
              "      <td>0</td>\n",
              "      <td>0</td>\n",
              "      <td>0</td>\n",
              "      <td>0</td>\n",
              "      <td>0</td>\n",
              "      <td>0</td>\n",
              "      <td>0</td>\n",
              "      <td>0</td>\n",
              "      <td>0</td>\n",
              "      <td>0</td>\n",
              "      <td>0</td>\n",
              "      <td>1</td>\n",
              "      <td>0</td>\n",
              "      <td>0</td>\n",
              "      <td>0</td>\n",
              "      <td>1</td>\n",
              "      <td>0</td>\n",
              "      <td>0</td>\n",
              "      <td>0</td>\n",
              "      <td>0</td>\n",
              "      <td>0</td>\n",
              "      <td>0</td>\n",
              "      <td>0</td>\n",
              "      <td>0</td>\n",
              "      <td>0</td>\n",
              "      <td>0</td>\n",
              "      <td>0</td>\n",
              "      <td>0</td>\n",
              "      <td>0</td>\n",
              "      <td>0</td>\n",
              "      <td>0</td>\n",
              "      <td>0</td>\n",
              "    </tr>\n",
              "    <tr>\n",
              "      <th>3</th>\n",
              "      <td>330</td>\n",
              "      <td>1.515152</td>\n",
              "      <td>14.285714</td>\n",
              "      <td>0</td>\n",
              "      <td>0</td>\n",
              "      <td>0</td>\n",
              "      <td>0</td>\n",
              "      <td>0</td>\n",
              "      <td>0</td>\n",
              "      <td>0</td>\n",
              "      <td>0</td>\n",
              "      <td>0</td>\n",
              "      <td>0</td>\n",
              "      <td>0</td>\n",
              "      <td>0</td>\n",
              "      <td>0</td>\n",
              "      <td>1</td>\n",
              "      <td>0</td>\n",
              "      <td>0</td>\n",
              "      <td>0</td>\n",
              "      <td>0</td>\n",
              "      <td>0</td>\n",
              "      <td>0</td>\n",
              "      <td>8</td>\n",
              "      <td>0</td>\n",
              "      <td>0</td>\n",
              "      <td>0</td>\n",
              "      <td>0</td>\n",
              "      <td>0</td>\n",
              "      <td>0</td>\n",
              "      <td>0</td>\n",
              "      <td>0</td>\n",
              "      <td>0</td>\n",
              "      <td>0</td>\n",
              "      <td>0</td>\n",
              "      <td>0</td>\n",
              "      <td>0</td>\n",
              "      <td>0</td>\n",
              "      <td>0</td>\n",
              "      <td>0</td>\n",
              "      <td>0</td>\n",
              "      <td>1</td>\n",
              "      <td>0</td>\n",
              "      <td>0</td>\n",
              "    </tr>\n",
              "    <tr>\n",
              "      <th>4</th>\n",
              "      <td>330</td>\n",
              "      <td>1.515152</td>\n",
              "      <td>14.285714</td>\n",
              "      <td>0</td>\n",
              "      <td>0</td>\n",
              "      <td>0</td>\n",
              "      <td>0</td>\n",
              "      <td>0</td>\n",
              "      <td>0</td>\n",
              "      <td>0</td>\n",
              "      <td>0</td>\n",
              "      <td>0</td>\n",
              "      <td>0</td>\n",
              "      <td>0</td>\n",
              "      <td>0</td>\n",
              "      <td>0</td>\n",
              "      <td>1</td>\n",
              "      <td>0</td>\n",
              "      <td>0</td>\n",
              "      <td>0</td>\n",
              "      <td>0</td>\n",
              "      <td>0</td>\n",
              "      <td>0</td>\n",
              "      <td>8</td>\n",
              "      <td>0</td>\n",
              "      <td>0</td>\n",
              "      <td>0</td>\n",
              "      <td>0</td>\n",
              "      <td>0</td>\n",
              "      <td>0</td>\n",
              "      <td>0</td>\n",
              "      <td>0</td>\n",
              "      <td>0</td>\n",
              "      <td>0</td>\n",
              "      <td>0</td>\n",
              "      <td>0</td>\n",
              "      <td>0</td>\n",
              "      <td>0</td>\n",
              "      <td>0</td>\n",
              "      <td>0</td>\n",
              "      <td>0</td>\n",
              "      <td>1</td>\n",
              "      <td>0</td>\n",
              "      <td>0</td>\n",
              "    </tr>\n",
              "  </tbody>\n",
              "</table>\n",
              "</div>"
            ],
            "text/plain": [
              "   length  negative_adj  ...  Shipment and delivery_title  Texture_title\n",
              "0  17      0.000000      ...  0                            0            \n",
              "1  17      0.000000      ...  0                            0            \n",
              "2  4       25.000000     ...  0                            0            \n",
              "3  330     1.515152      ...  0                            0            \n",
              "4  330     1.515152      ...  0                            0            \n",
              "\n",
              "[5 rows x 44 columns]"
            ]
          },
          "metadata": {
            "tags": []
          },
          "execution_count": 92
        }
      ]
    },
    {
      "cell_type": "markdown",
      "metadata": {
        "id": "kvKBloo9s6S9",
        "colab_type": "text"
      },
      "source": [
        "#### then we predict "
      ]
    },
    {
      "cell_type": "code",
      "metadata": {
        "id": "GdwuuuT8iTqS",
        "colab_type": "code",
        "colab": {}
      },
      "source": [
        "best_predictions_2 = best_clf.predict(x_test)"
      ],
      "execution_count": 0,
      "outputs": []
    },
    {
      "cell_type": "markdown",
      "metadata": {
        "id": "Tinwlleys_Tc",
        "colab_type": "text"
      },
      "source": [
        "#### recode prediction to the original topic names "
      ]
    },
    {
      "cell_type": "code",
      "metadata": {
        "id": "gZ0CTbG0ksKk",
        "colab_type": "code",
        "colab": {}
      },
      "source": [
        "inv_map = {v: k for k, v in r.items()}\n"
      ],
      "execution_count": 0,
      "outputs": []
    },
    {
      "cell_type": "code",
      "metadata": {
        "id": "CAAx4DORiaNG",
        "colab_type": "code",
        "colab": {}
      },
      "source": [
        "topic_test=pd.Series(best_predictions_2).map(inv_map)"
      ],
      "execution_count": 0,
      "outputs": []
    },
    {
      "cell_type": "markdown",
      "metadata": {
        "id": "cP9-k-7YtDT3",
        "colab_type": "text"
      },
      "source": [
        "#### finally store prediction in a deataset , import it in cv format "
      ]
    },
    {
      "cell_type": "code",
      "metadata": {
        "id": "HtBk2P5Lt5Ib",
        "colab_type": "code",
        "colab": {}
      },
      "source": [
        "final_submission= pd.concat( [test_final.loc[ : ,['Review Text' ,'Review Title']] , topic_test] , axis=1)\n",
        "\n",
        "final_submission.columns=['Review Text' ,'Review Title' ,'topic']\n",
        "\n",
        "\n"
      ],
      "execution_count": 0,
      "outputs": []
    },
    {
      "cell_type": "code",
      "metadata": {
        "id": "v6VBxVkJud1v",
        "colab_type": "code",
        "outputId": "b508d2d4-53d4-44ea-c025-82415e0d29db",
        "colab": {
          "base_uri": "https://localhost:8080/",
          "height": 897
        }
      },
      "source": [
        "final_submission.head()"
      ],
      "execution_count": 0,
      "outputs": [
        {
          "output_type": "execute_result",
          "data": {
            "text/html": [
              "<div>\n",
              "<style scoped>\n",
              "    .dataframe tbody tr th:only-of-type {\n",
              "        vertical-align: middle;\n",
              "    }\n",
              "\n",
              "    .dataframe tbody tr th {\n",
              "        vertical-align: top;\n",
              "    }\n",
              "\n",
              "    .dataframe thead th {\n",
              "        text-align: right;\n",
              "    }\n",
              "</style>\n",
              "<table border=\"1\" class=\"dataframe\">\n",
              "  <thead>\n",
              "    <tr style=\"text-align: right;\">\n",
              "      <th></th>\n",
              "      <th>Review Text</th>\n",
              "      <th>Review Title</th>\n",
              "      <th>topic</th>\n",
              "    </tr>\n",
              "  </thead>\n",
              "  <tbody>\n",
              "    <tr>\n",
              "      <th>0</th>\n",
              "      <td>I use chia seed in my protein shakes. These tasted like they were moldy. Throw them out</td>\n",
              "      <td>Bad tast</td>\n",
              "      <td>Bad Taste/Flavor</td>\n",
              "    </tr>\n",
              "    <tr>\n",
              "      <th>1</th>\n",
              "      <td>I use chia seed in my protein shakes. These tasted like they were moldy. Throw them out</td>\n",
              "      <td>Bad tast</td>\n",
              "      <td>Bad Taste/Flavor</td>\n",
              "    </tr>\n",
              "    <tr>\n",
              "      <th>2</th>\n",
              "      <td>Don’t waste your money.</td>\n",
              "      <td>No change. No results.</td>\n",
              "      <td>Not Effective</td>\n",
              "    </tr>\n",
              "    <tr>\n",
              "      <th>3</th>\n",
              "      <td>I use the book 'Fortify Your Life' by Tieraona Low Dog, MD to help me make more informed decisions regarding supplements.  I went over this supplement from \"X Brand\" elements &amp; found some negatives if you're not Vegan:&lt;br /&gt;&lt;br /&gt;Contains Folate as Folic Acid.  Folic Acid is the synthetic form of Folate.&lt;br /&gt;Vitamin B12 as cyanocobalamin.  Cyanocobalamin is the synthetic form.  this is a supplement that is targeted to Vegans.  So this may not be an issue depending on what you are looking for.  However, the body is better able to absorb Methylcobalamin, it is the form of B12 the body needs.&lt;br /&gt;Vitamin C as ascorbic acid.  Ascorbic Acid is the synthetic form of Vit.C&lt;br /&gt;Vitamin D2 - this is a supplement that is targeted to Vegans.  So this may not be an issue depending on what you are looking for.  However, the body is better able to absorb D3.  D3 is the optimal choice for good health.&lt;br /&gt;Chromium as Chromium Chloride.  Chromium Chloride is the least absorbed form.&lt;br /&gt;Contains Iron.  This may not be an issue depending on what you are looking for.  Teenage boys, adult men, women with very infrequent menstrual cycles, &amp; postmenopausal women should NOT take multivitamins with iron.&lt;br /&gt;The probiotics are a joke.  There is no guarantee that you will get live beneficial bacteria at the time of consumption.  Any good probiotic supplier will guarantee a particular amount of viable probiotic strain/s at the time of consumption (it will say it right on the label).&lt;br /&gt;&lt;br /&gt;Personally, I feel that the Pure Synergy brand is the better choice for supplements.  I tend to use them most of the time.  There is another brand, Mega Food backed by Dr. Low Dog that I haven't used, so I cannot speak on it's quality, but you may wish to check it out if you don't want/like the Synergy brand.&lt;br /&gt;&lt;br /&gt;Overall, this is a reasonable multivitamin for Vegans due to ethical reasons for being Vegan, not for actual good health.  But with that said, it's better than not taking a multivitamin at all.</td>\n",
              "      <td>Good Vegan Choice, Poor Non Vegan Choice</td>\n",
              "      <td>Quality/Contaminated</td>\n",
              "    </tr>\n",
              "    <tr>\n",
              "      <th>4</th>\n",
              "      <td>I use the book 'Fortify Your Life' by Tieraona Low Dog, MD to help me make more informed decisions regarding supplements.  I went over this supplement from \"X Brand\" elements &amp; found some negatives if you're not Vegan:&lt;br /&gt;&lt;br /&gt;Contains Folate as Folic Acid.  Folic Acid is the synthetic form of Folate.&lt;br /&gt;Vitamin B12 as cyanocobalamin.  Cyanocobalamin is the synthetic form.  this is a supplement that is targeted to Vegans.  So this may not be an issue depending on what you are looking for.  However, the body is better able to absorb Methylcobalamin, it is the form of B12 the body needs.&lt;br /&gt;Vitamin C as ascorbic acid.  Ascorbic Acid is the synthetic form of Vit.C&lt;br /&gt;Vitamin D2 - this is a supplement that is targeted to Vegans.  So this may not be an issue depending on what you are looking for.  However, the body is better able to absorb D3.  D3 is the optimal choice for good health.&lt;br /&gt;Chromium as Chromium Chloride.  Chromium Chloride is the least absorbed form.&lt;br /&gt;Contains Iron.  This may not be an issue depending on what you are looking for.  Teenage boys, adult men, women with very infrequent menstrual cycles, &amp; postmenopausal women should NOT take multivitamins with iron.&lt;br /&gt;The probiotics are a joke.  There is no guarantee that you will get live beneficial bacteria at the time of consumption.  Any good probiotic supplier will guarantee a particular amount of viable probiotic strain/s at the time of consumption (it will say it right on the label).&lt;br /&gt;&lt;br /&gt;Personally, I feel that the Pure Synergy brand is the better choice for supplements.  I tend to use them most of the time.  There is another brand, Mega Food backed by Dr. Low Dog that I haven't used, so I cannot speak on it's quality, but you may wish to check it out if you don't want/like the Synergy brand.&lt;br /&gt;&lt;br /&gt;Overall, this is a reasonable multivitamin for Vegans due to ethical reasons for being Vegan, not for actual good health.  But with that said, it's better than not taking a multivitamin at all.</td>\n",
              "      <td>Good Vegan Choice, Poor Non Vegan Choice</td>\n",
              "      <td>Quality/Contaminated</td>\n",
              "    </tr>\n",
              "  </tbody>\n",
              "</table>\n",
              "</div>"
            ],
            "text/plain": [
              "                                                                                                                                                                                                                                                                                                                                                                                                                                                                                                                                                                                                                                                                                                                                                                                                                                                                                                                                                                                                                                                                                                                                                                                                                                                                                                                                                                                                                                                                                                                                                                                                                                                                                                                                                                                                                                                                                                                                                                                                                                                                                       Review Text  ...                 topic\n",
              "0  I use chia seed in my protein shakes. These tasted like they were moldy. Throw them out                                                                                                                                                                                                                                                                                                                                                                                                                                                                                                                                                                                                                                                                                                                                                                                                                                                                                                                                                                                                                                                                                                                                                                                                                                                                                                                                                                                                                                                                                                                                                                                                                                                                                                                                                                                                                                                                                                                                                                                                          ...  Bad Taste/Flavor    \n",
              "1  I use chia seed in my protein shakes. These tasted like they were moldy. Throw them out                                                                                                                                                                                                                                                                                                                                                                                                                                                                                                                                                                                                                                                                                                                                                                                                                                                                                                                                                                                                                                                                                                                                                                                                                                                                                                                                                                                                                                                                                                                                                                                                                                                                                                                                                                                                                                                                                                                                                                                                          ...  Bad Taste/Flavor    \n",
              "2  Don’t waste your money.                                                                                                                                                                                                                                                                                                                                                                                                                                                                                                                                                                                                                                                                                                                                                                                                                                                                                                                                                                                                                                                                                                                                                                                                                                                                                                                                                                                                                                                                                                                                                                                                                                                                                                                                                                                                                                                                                                                                                                                                                                                                          ...  Not Effective       \n",
              "3  I use the book 'Fortify Your Life' by Tieraona Low Dog, MD to help me make more informed decisions regarding supplements.  I went over this supplement from \"X Brand\" elements & found some negatives if you're not Vegan:<br /><br />Contains Folate as Folic Acid.  Folic Acid is the synthetic form of Folate.<br />Vitamin B12 as cyanocobalamin.  Cyanocobalamin is the synthetic form.  this is a supplement that is targeted to Vegans.  So this may not be an issue depending on what you are looking for.  However, the body is better able to absorb Methylcobalamin, it is the form of B12 the body needs.<br />Vitamin C as ascorbic acid.  Ascorbic Acid is the synthetic form of Vit.C<br />Vitamin D2 - this is a supplement that is targeted to Vegans.  So this may not be an issue depending on what you are looking for.  However, the body is better able to absorb D3.  D3 is the optimal choice for good health.<br />Chromium as Chromium Chloride.  Chromium Chloride is the least absorbed form.<br />Contains Iron.  This may not be an issue depending on what you are looking for.  Teenage boys, adult men, women with very infrequent menstrual cycles, & postmenopausal women should NOT take multivitamins with iron.<br />The probiotics are a joke.  There is no guarantee that you will get live beneficial bacteria at the time of consumption.  Any good probiotic supplier will guarantee a particular amount of viable probiotic strain/s at the time of consumption (it will say it right on the label).<br /><br />Personally, I feel that the Pure Synergy brand is the better choice for supplements.  I tend to use them most of the time.  There is another brand, Mega Food backed by Dr. Low Dog that I haven't used, so I cannot speak on it's quality, but you may wish to check it out if you don't want/like the Synergy brand.<br /><br />Overall, this is a reasonable multivitamin for Vegans due to ethical reasons for being Vegan, not for actual good health.  But with that said, it's better than not taking a multivitamin at all.  ...  Quality/Contaminated\n",
              "4  I use the book 'Fortify Your Life' by Tieraona Low Dog, MD to help me make more informed decisions regarding supplements.  I went over this supplement from \"X Brand\" elements & found some negatives if you're not Vegan:<br /><br />Contains Folate as Folic Acid.  Folic Acid is the synthetic form of Folate.<br />Vitamin B12 as cyanocobalamin.  Cyanocobalamin is the synthetic form.  this is a supplement that is targeted to Vegans.  So this may not be an issue depending on what you are looking for.  However, the body is better able to absorb Methylcobalamin, it is the form of B12 the body needs.<br />Vitamin C as ascorbic acid.  Ascorbic Acid is the synthetic form of Vit.C<br />Vitamin D2 - this is a supplement that is targeted to Vegans.  So this may not be an issue depending on what you are looking for.  However, the body is better able to absorb D3.  D3 is the optimal choice for good health.<br />Chromium as Chromium Chloride.  Chromium Chloride is the least absorbed form.<br />Contains Iron.  This may not be an issue depending on what you are looking for.  Teenage boys, adult men, women with very infrequent menstrual cycles, & postmenopausal women should NOT take multivitamins with iron.<br />The probiotics are a joke.  There is no guarantee that you will get live beneficial bacteria at the time of consumption.  Any good probiotic supplier will guarantee a particular amount of viable probiotic strain/s at the time of consumption (it will say it right on the label).<br /><br />Personally, I feel that the Pure Synergy brand is the better choice for supplements.  I tend to use them most of the time.  There is another brand, Mega Food backed by Dr. Low Dog that I haven't used, so I cannot speak on it's quality, but you may wish to check it out if you don't want/like the Synergy brand.<br /><br />Overall, this is a reasonable multivitamin for Vegans due to ethical reasons for being Vegan, not for actual good health.  But with that said, it's better than not taking a multivitamin at all.  ...  Quality/Contaminated\n",
              "\n",
              "[5 rows x 3 columns]"
            ]
          },
          "metadata": {
            "tags": []
          },
          "execution_count": 98
        }
      ]
    },
    {
      "cell_type": "code",
      "metadata": {
        "id": "3oe5LxLnt_GB",
        "colab_type": "code",
        "outputId": "51a52341-dd37-4abd-9a82-3d444ec5d18d",
        "colab": {
          "base_uri": "https://localhost:8080/",
          "height": 150
        }
      },
      "source": [
        "final_submission.info()"
      ],
      "execution_count": 0,
      "outputs": [
        {
          "output_type": "stream",
          "text": [
            "<class 'pandas.core.frame.DataFrame'>\n",
            "Int64Index: 2553 entries, 0 to 2552\n",
            "Data columns (total 3 columns):\n",
            "Review Text     2553 non-null object\n",
            "Review Title    2553 non-null object\n",
            "topic           2553 non-null object\n",
            "dtypes: object(3)\n",
            "memory usage: 79.8+ KB\n"
          ],
          "name": "stdout"
        }
      ]
    },
    {
      "cell_type": "code",
      "metadata": {
        "id": "v_gaK0LMxd3T",
        "colab_type": "code",
        "colab": {}
      },
      "source": [
        "sample_submission=final_submission.to_csv('sample_submission.csv')"
      ],
      "execution_count": 0,
      "outputs": []
    }
  ]
}
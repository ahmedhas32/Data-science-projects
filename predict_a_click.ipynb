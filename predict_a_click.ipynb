{
  "nbformat": 4,
  "nbformat_minor": 0,
  "metadata": {
    "colab": {
      "name": "predict a click.ipynb",
      "version": "0.3.2",
      "provenance": [],
      "collapsed_sections": [],
      "machine_shape": "hm"
    },
    "kernelspec": {
      "name": "python3",
      "display_name": "Python 3"
    }
  },
  "cells": [
    {
      "cell_type": "markdown",
      "metadata": {
        "id": "oYD3ix-IARuT",
        "colab_type": "text"
      },
      "source": [
        "## I tried to make things give better results by trying 4 different algoruthms to get the best possible prediction"
      ]
    },
    {
      "cell_type": "markdown",
      "metadata": {
        "id": "j8CJVpUsXwp_",
        "colab_type": "text"
      },
      "source": [
        "##  Import necessary  libraies\n",
        "#### We import needed packages for data preprocessing and models fitting"
      ]
    },
    {
      "cell_type": "code",
      "metadata": {
        "id": "ArlhE7Lg3uew",
        "colab_type": "code",
        "outputId": "c6a11b1d-9663-4767-8a91-122b5d71c3b0",
        "colab": {
          "base_uri": "https://localhost:8080/",
          "height": 133
        }
      },
      "source": [
        "!pip install pandasql"
      ],
      "execution_count": 1,
      "outputs": [
        {
          "output_type": "stream",
          "text": [
            "Requirement already satisfied: pandasql in /usr/local/lib/python3.6/dist-packages (0.7.3)\n",
            "Requirement already satisfied: sqlalchemy in /usr/local/lib/python3.6/dist-packages (from pandasql) (1.3.8)\n",
            "Requirement already satisfied: numpy in /usr/local/lib/python3.6/dist-packages (from pandasql) (1.16.5)\n",
            "Requirement already satisfied: pandas in /usr/local/lib/python3.6/dist-packages (from pandasql) (0.24.2)\n",
            "Requirement already satisfied: pytz>=2011k in /usr/local/lib/python3.6/dist-packages (from pandas->pandasql) (2018.9)\n",
            "Requirement already satisfied: python-dateutil>=2.5.0 in /usr/local/lib/python3.6/dist-packages (from pandas->pandasql) (2.5.3)\n",
            "Requirement already satisfied: six>=1.5 in /usr/local/lib/python3.6/dist-packages (from python-dateutil>=2.5.0->pandas->pandasql) (1.12.0)\n"
          ],
          "name": "stdout"
        }
      ]
    },
    {
      "cell_type": "code",
      "metadata": {
        "id": "4Gl32WmpCt_R",
        "colab_type": "code",
        "colab": {}
      },
      "source": [
        "import pandasql as ps\n"
      ],
      "execution_count": 0,
      "outputs": []
    },
    {
      "cell_type": "code",
      "metadata": {
        "id": "g_Ydxvuz-oq2",
        "colab_type": "code",
        "colab": {}
      },
      "source": [
        "import numpy as np\n",
        "import pandas as pd\n",
        "import matplotlib.pyplot as plt\n",
        "import seaborn as sns\n"
      ],
      "execution_count": 0,
      "outputs": []
    },
    {
      "cell_type": "markdown",
      "metadata": {
        "id": "BcMREfIX7fFf",
        "colab_type": "text"
      },
      "source": [
        ""
      ]
    },
    {
      "cell_type": "code",
      "metadata": {
        "id": "OaL7xM_V9zyW",
        "colab_type": "code",
        "colab": {}
      },
      "source": [
        "from sklearn.preprocessing import LabelEncoder"
      ],
      "execution_count": 0,
      "outputs": []
    },
    {
      "cell_type": "code",
      "metadata": {
        "id": "IWoG57qA92sQ",
        "colab_type": "code",
        "colab": {}
      },
      "source": [
        "from sklearn.model_selection import GridSearchCV, train_test_split\n",
        "from xgboost import XGBRegressor\n",
        "\n",
        "from sklearn.metrics import r2_score\n",
        "from sklearn.metrics import mean_squared_error\n",
        "from sklearn.cluster import KMeans\n"
      ],
      "execution_count": 0,
      "outputs": []
    },
    {
      "cell_type": "code",
      "metadata": {
        "id": "c2o1XiTZkklp",
        "colab_type": "code",
        "colab": {}
      },
      "source": [
        "import pandas as pd\n",
        "from sklearn.decomposition import PCA\n",
        "from sklearn.preprocessing import StandardScaler\n",
        "import seaborn as sns\n",
        "import matplotlib.pyplot as plt\n",
        "from math import sqrt\n",
        "%matplotlib inline"
      ],
      "execution_count": 0,
      "outputs": []
    },
    {
      "cell_type": "code",
      "metadata": {
        "id": "IcjoPRF25nl0",
        "colab_type": "code",
        "colab": {}
      },
      "source": [
        "import math\n",
        "from scipy import stats"
      ],
      "execution_count": 0,
      "outputs": []
    },
    {
      "cell_type": "code",
      "metadata": {
        "id": "08PtQosDx5C4",
        "colab_type": "code",
        "colab": {}
      },
      "source": [
        "import xgboost\n",
        "import csv as csv\n",
        "from xgboost import plot_importance\n",
        "from matplotlib import pyplot\n",
        "from sklearn.model_selection import cross_val_score,KFold\n",
        "from sklearn.metrics import mean_absolute_error\n",
        "import matplotlib.pyplot as plt\n",
        "from scipy.stats import skew\n",
        "from collections import OrderedDict"
      ],
      "execution_count": 0,
      "outputs": []
    },
    {
      "cell_type": "code",
      "metadata": {
        "colab_type": "code",
        "id": "SzHiW6tzBCaq",
        "colab": {}
      },
      "source": [
        "!pip install -U -q PyDrive\n",
        "from pydrive.auth import GoogleAuth\n",
        "from pydrive.drive import GoogleDrive\n",
        "from google.colab import auth\n",
        "from oauth2client.client import GoogleCredentials\n",
        "# Authenticate and create the PyDrive client.\n",
        "auth.authenticate_user()\n",
        "gauth = GoogleAuth()\n",
        "gauth.credentials = GoogleCredentials.get_application_default()\n",
        "drive = GoogleDrive(gauth)\n",
        "link='https://drive.google.com/open?id=1m2GdiYeJFulUjbOTiciYY3h2Osw5F1mU'\n"
      ],
      "execution_count": 0,
      "outputs": []
    },
    {
      "cell_type": "markdown",
      "metadata": {
        "id": "lqnKRjLf4VOk",
        "colab_type": "text"
      },
      "source": [
        "## Importing data : \n",
        "#### We import data , read it into pandas dataset"
      ]
    },
    {
      "cell_type": "code",
      "metadata": {
        "id": "DrbxTUzF4Vcu",
        "colab_type": "code",
        "colab": {}
      },
      "source": [
        ""
      ],
      "execution_count": 0,
      "outputs": []
    },
    {
      "cell_type": "code",
      "metadata": {
        "colab_type": "code",
        "id": "e5LAwYLFe-uD",
        "outputId": "5b37e129-dd70-4bad-9d37-ed627c9ad6db",
        "colab": {
          "base_uri": "https://localhost:8080/",
          "height": 33
        }
      },
      "source": [
        "fluff, id = link.split('=')\n",
        "print (id) # Verify that you have everything after '='"
      ],
      "execution_count": 10,
      "outputs": [
        {
          "output_type": "stream",
          "text": [
            "1m2GdiYeJFulUjbOTiciYY3h2Osw5F1mU\n"
          ],
          "name": "stdout"
        }
      ]
    },
    {
      "cell_type": "code",
      "metadata": {
        "colab_type": "code",
        "id": "BwrEH9dqe-uE",
        "colab": {}
      },
      "source": [
        "downloaded = drive.CreateFile({'id':id}) \n",
        "downloaded.GetContentFile('test_set.csv')  "
      ],
      "execution_count": 0,
      "outputs": []
    },
    {
      "cell_type": "code",
      "metadata": {
        "id": "FRR-MLDc5vWk",
        "colab_type": "code",
        "colab": {}
      },
      "source": [
        "test=pd.read_csv('test_set.csv')"
      ],
      "execution_count": 0,
      "outputs": []
    },
    {
      "cell_type": "code",
      "metadata": {
        "colab_type": "code",
        "id": "_mSd-mM76Eeg",
        "colab": {}
      },
      "source": [
        "!pip install -U -q PyDrive\n",
        "from pydrive.auth import GoogleAuth\n",
        "from pydrive.drive import GoogleDrive\n",
        "from google.colab import auth\n",
        "from oauth2client.client import GoogleCredentials\n",
        "# Authenticate and create the PyDrive client.\n",
        "auth.authenticate_user()\n",
        "gauth = GoogleAuth()\n",
        "gauth.credentials = GoogleCredentials.get_application_default()\n",
        "drive = GoogleDrive(gauth)\n",
        "link='https://drive.google.com/open?id=1k2lw5exkiOGFBc0JXmApd-MnutcK9KZG'\n"
      ],
      "execution_count": 0,
      "outputs": []
    },
    {
      "cell_type": "markdown",
      "metadata": {
        "colab_type": "text",
        "id": "DYyLMYLH6Ees"
      },
      "source": [
        ""
      ]
    },
    {
      "cell_type": "code",
      "metadata": {
        "colab_type": "code",
        "id": "60AfHcQ_6Eeu",
        "colab": {}
      },
      "source": [
        ""
      ],
      "execution_count": 0,
      "outputs": []
    },
    {
      "cell_type": "code",
      "metadata": {
        "colab_type": "code",
        "outputId": "f33385b8-c8e1-4547-cac5-57142afde0ec",
        "id": "r984eI1D6Ee2",
        "colab": {
          "base_uri": "https://localhost:8080/",
          "height": 33
        }
      },
      "source": [
        "fluff, id = link.split('=')\n",
        "print (id) # Verify that you have everything after '='"
      ],
      "execution_count": 14,
      "outputs": [
        {
          "output_type": "stream",
          "text": [
            "1k2lw5exkiOGFBc0JXmApd-MnutcK9KZG\n"
          ],
          "name": "stdout"
        }
      ]
    },
    {
      "cell_type": "code",
      "metadata": {
        "colab_type": "code",
        "id": "-PG5C1an6EfA",
        "colab": {}
      },
      "source": [
        "downloaded = drive.CreateFile({'id':id}) \n",
        "downloaded.GetContentFile('train_set.csv')  "
      ],
      "execution_count": 0,
      "outputs": []
    },
    {
      "cell_type": "code",
      "metadata": {
        "id": "TNqjhQyH7kvz",
        "colab_type": "code",
        "colab": {}
      },
      "source": [
        "train=pd.read_csv('train_set.csv')"
      ],
      "execution_count": 0,
      "outputs": []
    },
    {
      "cell_type": "markdown",
      "metadata": {
        "id": "ud1ax-DKYOk5",
        "colab_type": "text"
      },
      "source": [
        "### then we do some exploration on data , its characterestics , and needed cleaning and processing"
      ]
    },
    {
      "cell_type": "markdown",
      "metadata": {
        "id": "GE9TM0jJYta0",
        "colab_type": "text"
      },
      "source": [
        "#### First we demonstrate how data is stored"
      ]
    },
    {
      "cell_type": "code",
      "metadata": {
        "id": "HVc0Hiov78x3",
        "colab_type": "code",
        "outputId": "79fafbf6-3491-4368-f7d9-b35bc0540f2a",
        "colab": {
          "base_uri": "https://localhost:8080/",
          "height": 197
        }
      },
      "source": [
        "train.head()"
      ],
      "execution_count": 17,
      "outputs": [
        {
          "output_type": "execute_result",
          "data": {
            "text/html": [
              "<div>\n",
              "<style scoped>\n",
              "    .dataframe tbody tr th:only-of-type {\n",
              "        vertical-align: middle;\n",
              "    }\n",
              "\n",
              "    .dataframe tbody tr th {\n",
              "        vertical-align: top;\n",
              "    }\n",
              "\n",
              "    .dataframe thead th {\n",
              "        text-align: right;\n",
              "    }\n",
              "</style>\n",
              "<table border=\"1\" class=\"dataframe\">\n",
              "  <thead>\n",
              "    <tr style=\"text-align: right;\">\n",
              "      <th></th>\n",
              "      <th>hotel_id</th>\n",
              "      <th>city_id</th>\n",
              "      <th>content_score</th>\n",
              "      <th>n_images</th>\n",
              "      <th>distance_to_center</th>\n",
              "      <th>avg_rating</th>\n",
              "      <th>stars</th>\n",
              "      <th>n_reviews</th>\n",
              "      <th>avg_rank</th>\n",
              "      <th>avg_price</th>\n",
              "      <th>avg_saving_percent</th>\n",
              "      <th>n_clicks</th>\n",
              "    </tr>\n",
              "  </thead>\n",
              "  <tbody>\n",
              "    <tr>\n",
              "      <th>0</th>\n",
              "      <td>9.767406e+10</td>\n",
              "      <td>134520.0</td>\n",
              "      <td>70.0</td>\n",
              "      <td>2.0</td>\n",
              "      <td>1199.0</td>\n",
              "      <td>77.0</td>\n",
              "      <td>4.0</td>\n",
              "      <td>861.0</td>\n",
              "      <td>17.550</td>\n",
              "      <td>81.64</td>\n",
              "      <td>18.0</td>\n",
              "      <td>0</td>\n",
              "    </tr>\n",
              "    <tr>\n",
              "      <th>1</th>\n",
              "      <td>9.768889e+10</td>\n",
              "      <td>133876.0</td>\n",
              "      <td>67.0</td>\n",
              "      <td>3.0</td>\n",
              "      <td>12585.0</td>\n",
              "      <td>90.0</td>\n",
              "      <td>4.0</td>\n",
              "      <td>4371.0</td>\n",
              "      <td>17.383</td>\n",
              "      <td>189.38</td>\n",
              "      <td>28.0</td>\n",
              "      <td>4</td>\n",
              "    </tr>\n",
              "    <tr>\n",
              "      <th>2</th>\n",
              "      <td>9.811544e+10</td>\n",
              "      <td>133732.0</td>\n",
              "      <td>39.0</td>\n",
              "      <td>3.0</td>\n",
              "      <td>23491.0</td>\n",
              "      <td>83.0</td>\n",
              "      <td>3.0</td>\n",
              "      <td>1005.0</td>\n",
              "      <td>16.438</td>\n",
              "      <td>57.63</td>\n",
              "      <td>27.0</td>\n",
              "      <td>44</td>\n",
              "    </tr>\n",
              "    <tr>\n",
              "      <th>3</th>\n",
              "      <td>9.824279e+10</td>\n",
              "      <td>43772.0</td>\n",
              "      <td>59.0</td>\n",
              "      <td>8.0</td>\n",
              "      <td>3291.0</td>\n",
              "      <td>73.0</td>\n",
              "      <td>2.0</td>\n",
              "      <td>3084.0</td>\n",
              "      <td>7.000</td>\n",
              "      <td>72.16</td>\n",
              "      <td>2.0</td>\n",
              "      <td>4</td>\n",
              "    </tr>\n",
              "    <tr>\n",
              "      <th>4</th>\n",
              "      <td>9.833438e+10</td>\n",
              "      <td>50532.0</td>\n",
              "      <td>66.0</td>\n",
              "      <td>1.0</td>\n",
              "      <td>288.0</td>\n",
              "      <td>80.0</td>\n",
              "      <td>0.0</td>\n",
              "      <td>603.0</td>\n",
              "      <td>12.564</td>\n",
              "      <td>173.25</td>\n",
              "      <td>0.0</td>\n",
              "      <td>10</td>\n",
              "    </tr>\n",
              "  </tbody>\n",
              "</table>\n",
              "</div>"
            ],
            "text/plain": [
              "       hotel_id   city_id  ...  avg_saving_percent  n_clicks\n",
              "0  9.767406e+10  134520.0  ...                18.0         0\n",
              "1  9.768889e+10  133876.0  ...                28.0         4\n",
              "2  9.811544e+10  133732.0  ...                27.0        44\n",
              "3  9.824279e+10   43772.0  ...                 2.0         4\n",
              "4  9.833438e+10   50532.0  ...                 0.0        10\n",
              "\n",
              "[5 rows x 12 columns]"
            ]
          },
          "metadata": {
            "tags": []
          },
          "execution_count": 17
        }
      ]
    },
    {
      "cell_type": "code",
      "metadata": {
        "id": "qe86MzjC8BOg",
        "colab_type": "code",
        "outputId": "c6bd8f10-e0ab-4224-d722-4dc8c74360b6",
        "colab": {
          "base_uri": "https://localhost:8080/",
          "height": 197
        }
      },
      "source": [
        "test.head()"
      ],
      "execution_count": 18,
      "outputs": [
        {
          "output_type": "execute_result",
          "data": {
            "text/html": [
              "<div>\n",
              "<style scoped>\n",
              "    .dataframe tbody tr th:only-of-type {\n",
              "        vertical-align: middle;\n",
              "    }\n",
              "\n",
              "    .dataframe tbody tr th {\n",
              "        vertical-align: top;\n",
              "    }\n",
              "\n",
              "    .dataframe thead th {\n",
              "        text-align: right;\n",
              "    }\n",
              "</style>\n",
              "<table border=\"1\" class=\"dataframe\">\n",
              "  <thead>\n",
              "    <tr style=\"text-align: right;\">\n",
              "      <th></th>\n",
              "      <th>hotel_id</th>\n",
              "      <th>city_id</th>\n",
              "      <th>content_score</th>\n",
              "      <th>n_images</th>\n",
              "      <th>distance_to_center</th>\n",
              "      <th>avg_rating</th>\n",
              "      <th>stars</th>\n",
              "      <th>n_reviews</th>\n",
              "      <th>avg_rank</th>\n",
              "      <th>avg_price</th>\n",
              "      <th>avg_saving_percent</th>\n",
              "    </tr>\n",
              "  </thead>\n",
              "  <tbody>\n",
              "    <tr>\n",
              "      <th>0</th>\n",
              "      <td>14942256073</td>\n",
              "      <td>122750.0</td>\n",
              "      <td>58.0</td>\n",
              "      <td>2.0</td>\n",
              "      <td>11503.0</td>\n",
              "      <td>89.0</td>\n",
              "      <td>0.0</td>\n",
              "      <td>168.0</td>\n",
              "      <td>13.500</td>\n",
              "      <td>90.19</td>\n",
              "      <td>32.0</td>\n",
              "    </tr>\n",
              "    <tr>\n",
              "      <th>1</th>\n",
              "      <td>16036037903</td>\n",
              "      <td>28134.0</td>\n",
              "      <td>68.0</td>\n",
              "      <td>4.0</td>\n",
              "      <td>938.0</td>\n",
              "      <td>81.0</td>\n",
              "      <td>5.0</td>\n",
              "      <td>735.0</td>\n",
              "      <td>13.667</td>\n",
              "      <td>98.27</td>\n",
              "      <td>19.0</td>\n",
              "    </tr>\n",
              "    <tr>\n",
              "      <th>2</th>\n",
              "      <td>288585940112</td>\n",
              "      <td>30578.0</td>\n",
              "      <td>19.0</td>\n",
              "      <td>0.0</td>\n",
              "      <td>38982.0</td>\n",
              "      <td>NaN</td>\n",
              "      <td>0.0</td>\n",
              "      <td>0.0</td>\n",
              "      <td>20.462</td>\n",
              "      <td>48.77</td>\n",
              "      <td>0.0</td>\n",
              "    </tr>\n",
              "    <tr>\n",
              "      <th>3</th>\n",
              "      <td>129041645070</td>\n",
              "      <td>54398.0</td>\n",
              "      <td>47.0</td>\n",
              "      <td>0.0</td>\n",
              "      <td>1683.0</td>\n",
              "      <td>80.0</td>\n",
              "      <td>0.0</td>\n",
              "      <td>69.0</td>\n",
              "      <td>15.000</td>\n",
              "      <td>72.32</td>\n",
              "      <td>0.0</td>\n",
              "    </tr>\n",
              "    <tr>\n",
              "      <th>4</th>\n",
              "      <td>12460296563</td>\n",
              "      <td>63890.0</td>\n",
              "      <td>59.0</td>\n",
              "      <td>3.0</td>\n",
              "      <td>1299.0</td>\n",
              "      <td>80.0</td>\n",
              "      <td>3.0</td>\n",
              "      <td>1470.0</td>\n",
              "      <td>10.000</td>\n",
              "      <td>24.54</td>\n",
              "      <td>19.0</td>\n",
              "    </tr>\n",
              "  </tbody>\n",
              "</table>\n",
              "</div>"
            ],
            "text/plain": [
              "       hotel_id   city_id  ...  avg_price  avg_saving_percent\n",
              "0   14942256073  122750.0  ...      90.19                32.0\n",
              "1   16036037903   28134.0  ...      98.27                19.0\n",
              "2  288585940112   30578.0  ...      48.77                 0.0\n",
              "3  129041645070   54398.0  ...      72.32                 0.0\n",
              "4   12460296563   63890.0  ...      24.54                19.0\n",
              "\n",
              "[5 rows x 11 columns]"
            ]
          },
          "metadata": {
            "tags": []
          },
          "execution_count": 18
        }
      ]
    },
    {
      "cell_type": "markdown",
      "metadata": {
        "id": "MuBY3Sqg-7Hv",
        "colab_type": "text"
      },
      "source": [
        "## We know that data manipulation process must be run the same way on train and test datasets , thus we  merge them during data manipulation steps , then we split them before trying prediction algorithms"
      ]
    },
    {
      "cell_type": "code",
      "metadata": {
        "id": "8IYIRaLV7xy8",
        "colab_type": "code",
        "colab": {}
      },
      "source": [
        "train1=train.copy()"
      ],
      "execution_count": 0,
      "outputs": []
    },
    {
      "cell_type": "code",
      "metadata": {
        "id": "MXqEx10l9gYm",
        "colab_type": "code",
        "outputId": "3e530bbe-6b04-4af5-d316-217aac16f1e3",
        "colab": {
          "base_uri": "https://localhost:8080/",
          "height": 300
        }
      },
      "source": [
        "train1.info()"
      ],
      "execution_count": 20,
      "outputs": [
        {
          "output_type": "stream",
          "text": [
            "<class 'pandas.core.frame.DataFrame'>\n",
            "RangeIndex: 396487 entries, 0 to 396486\n",
            "Data columns (total 12 columns):\n",
            "hotel_id              396487 non-null float64\n",
            "city_id               395979 non-null float64\n",
            "content_score         395979 non-null float64\n",
            "n_images              395978 non-null float64\n",
            "distance_to_center    395958 non-null float64\n",
            "avg_rating            286089 non-null float64\n",
            "stars                 395925 non-null float64\n",
            "n_reviews             395958 non-null float64\n",
            "avg_rank              396487 non-null float64\n",
            "avg_price             396317 non-null float64\n",
            "avg_saving_percent    396317 non-null float64\n",
            "n_clicks              396487 non-null int64\n",
            "dtypes: float64(11), int64(1)\n",
            "memory usage: 36.3 MB\n"
          ],
          "name": "stdout"
        }
      ]
    },
    {
      "cell_type": "code",
      "metadata": {
        "id": "XnPYoY5a8Ajf",
        "colab_type": "code",
        "colab": {}
      },
      "source": [
        "train1['train'] = 1"
      ],
      "execution_count": 0,
      "outputs": []
    },
    {
      "cell_type": "code",
      "metadata": {
        "id": "9SgExoXz8Z3M",
        "colab_type": "code",
        "colab": {}
      },
      "source": [
        "test['train'] = 0 "
      ],
      "execution_count": 0,
      "outputs": []
    },
    {
      "cell_type": "code",
      "metadata": {
        "id": "73lGrUJX8dK3",
        "colab_type": "code",
        "colab": {
          "base_uri": "https://localhost:8080/",
          "height": 150
        },
        "outputId": "46bca236-4445-41aa-dc99-d0d3a0cab5e2"
      },
      "source": [
        "train1=pd.concat([train1 , test] , axis=0)"
      ],
      "execution_count": 23,
      "outputs": [
        {
          "output_type": "stream",
          "text": [
            "/usr/local/lib/python3.6/dist-packages/ipykernel_launcher.py:1: FutureWarning: Sorting because non-concatenation axis is not aligned. A future version\n",
            "of pandas will change to not sort by default.\n",
            "\n",
            "To accept the future behavior, pass 'sort=False'.\n",
            "\n",
            "To retain the current behavior and silence the warning, pass 'sort=True'.\n",
            "\n",
            "  \"\"\"Entry point for launching an IPython kernel.\n"
          ],
          "name": "stderr"
        }
      ]
    },
    {
      "cell_type": "markdown",
      "metadata": {
        "id": "csUjLk5xY0Oz",
        "colab_type": "text"
      },
      "source": [
        "#### we notice that the column , Hotel_id and City_id are stored as floats despite they are identifiers so they should be stored as strings, we are to modify that later"
      ]
    },
    {
      "cell_type": "markdown",
      "metadata": {
        "id": "M9dhBhiOZldz",
        "colab_type": "text"
      },
      "source": [
        "### Then we check missing values appearence in data"
      ]
    },
    {
      "cell_type": "code",
      "metadata": {
        "id": "74ZQcz579gxB",
        "colab_type": "code",
        "outputId": "3542745b-9443-42e5-f376-d1f904ef1405",
        "colab": {
          "base_uri": "https://localhost:8080/",
          "height": 233
        }
      },
      "source": [
        "for i in train1.columns :\n",
        "  print(i + \" contains \" , np.isnan(train1[i]).sum() , \"NaN value\")"
      ],
      "execution_count": 24,
      "outputs": [
        {
          "output_type": "stream",
          "text": [
            "avg_price contains  228 NaN value\n",
            "avg_rank contains  0 NaN value\n",
            "avg_rating contains  147028 NaN value\n",
            "avg_saving_percent contains  228 NaN value\n",
            "city_id contains  663 NaN value\n",
            "content_score contains  663 NaN value\n",
            "distance_to_center contains  692 NaN value\n",
            "hotel_id contains  0 NaN value\n",
            "n_clicks contains  132162 NaN value\n",
            "n_images contains  665 NaN value\n",
            "n_reviews contains  692 NaN value\n",
            "stars contains  737 NaN value\n",
            "train contains  0 NaN value\n"
          ],
          "name": "stdout"
        }
      ]
    },
    {
      "cell_type": "markdown",
      "metadata": {
        "id": "JplQj5gRZvNf",
        "colab_type": "text"
      },
      "source": [
        "#### we notice a column like city_id includes 508 missing values , we will need later to wxclude them from the data , especiiallt that it is big enough to not be affected by these cases"
      ]
    },
    {
      "cell_type": "markdown",
      "metadata": {
        "id": "FPEpsq0UaCrP",
        "colab_type": "text"
      },
      "source": [
        "####  then we will need to impute other columns , they are numeric , thus average is the most common option to impute them "
      ]
    },
    {
      "cell_type": "code",
      "metadata": {
        "id": "DJ9-Qmi49hCp",
        "colab_type": "code",
        "outputId": "3cf433f1-43de-4bd9-bcde-ed0ef6719e3a",
        "colab": {
          "base_uri": "https://localhost:8080/",
          "height": 50
        }
      },
      "source": [
        "train1.loc[np.isnan(train1['city_id']) , ['avg_rank']].mean()"
      ],
      "execution_count": 25,
      "outputs": [
        {
          "output_type": "execute_result",
          "data": {
            "text/plain": [
              "avg_rank    14.403128\n",
              "dtype: float64"
            ]
          },
          "metadata": {
            "tags": []
          },
          "execution_count": 25
        }
      ]
    },
    {
      "cell_type": "code",
      "metadata": {
        "id": "0Dvv6Fwk9g_g",
        "colab_type": "code",
        "outputId": "9d022f3d-fef3-4048-8f8d-8b7e2988ab45",
        "colab": {
          "base_uri": "https://localhost:8080/",
          "height": 50
        }
      },
      "source": [
        "train1.loc[np.isnan(train1['city_id']) ==0 , ['avg_rank']].mean()"
      ],
      "execution_count": 26,
      "outputs": [
        {
          "output_type": "execute_result",
          "data": {
            "text/plain": [
              "avg_rank    14.699844\n",
              "dtype: float64"
            ]
          },
          "metadata": {
            "tags": []
          },
          "execution_count": 26
        }
      ]
    },
    {
      "cell_type": "markdown",
      "metadata": {
        "id": "Q7uJSa7jaV35",
        "colab_type": "text"
      },
      "source": [
        "### about city_id , which is a categorical column , we will need to define a binary column for each option , but since data is big , and otions in city_id are a lot and a lot of them were only mentioned one time , we will need to specify columns for only cities that were mentioned more than a specific number"
      ]
    },
    {
      "cell_type": "code",
      "metadata": {
        "id": "IK0gJFUg9g8b",
        "colab_type": "code",
        "outputId": "7b5e5d91-aa09-482f-cb5e-9b52947a79f9",
        "colab": {
          "base_uri": "https://localhost:8080/",
          "height": 200
        }
      },
      "source": [
        "train1['city_id'].value_counts().head(10)"
      ],
      "execution_count": 27,
      "outputs": [
        {
          "output_type": "execute_result",
          "data": {
            "text/plain": [
              "50168.0    3282\n",
              "44470.0    2213\n",
              "34798.0    2089\n",
              "30576.0    1740\n",
              "26874.0    1472\n",
              "46884.0    1308\n",
              "31786.0    1306\n",
              "63440.0    1158\n",
              "53604.0    1144\n",
              "7696.0     1111\n",
              "Name: city_id, dtype: int64"
            ]
          },
          "metadata": {
            "tags": []
          },
          "execution_count": 27
        }
      ]
    },
    {
      "cell_type": "markdown",
      "metadata": {
        "id": "whcpc2O6bYK8",
        "colab_type": "text"
      },
      "source": [
        "#### thus we specify a new column includes cities that were mentioned only more than 1000 times"
      ]
    },
    {
      "cell_type": "code",
      "metadata": {
        "id": "7jOgHTxM9g55",
        "colab_type": "code",
        "colab": {}
      },
      "source": [
        "f=list(train1['city_id'].value_counts()[(train1['city_id'].value_counts() > 1000)].index)\n"
      ],
      "execution_count": 0,
      "outputs": []
    },
    {
      "cell_type": "code",
      "metadata": {
        "id": "0sVn5MQ99g2t",
        "colab_type": "code",
        "colab": {}
      },
      "source": [
        "train1['city_id1'] = 0 "
      ],
      "execution_count": 0,
      "outputs": []
    },
    {
      "cell_type": "code",
      "metadata": {
        "id": "4CDjOi_U9g0i",
        "colab_type": "code",
        "colab": {}
      },
      "source": [
        "train1['city_id1'] = [x if x in f  else 0  for x in train1['city_id']]"
      ],
      "execution_count": 0,
      "outputs": []
    },
    {
      "cell_type": "code",
      "metadata": {
        "id": "EUVBsPsq9gV7",
        "colab_type": "code",
        "outputId": "c9b1d706-d1b5-4a5f-b269-5ba34b6da54a",
        "colab": {
          "base_uri": "https://localhost:8080/",
          "height": 116
        }
      },
      "source": [
        "train1['city_id1'].value_counts().head()"
      ],
      "execution_count": 32,
      "outputs": [
        {
          "output_type": "execute_result",
          "data": {
            "text/plain": [
              "0.0        506665\n",
              "50168.0      3282\n",
              "44470.0      2213\n",
              "34798.0      2089\n",
              "30576.0      1740\n",
              "Name: city_id1, dtype: int64"
            ]
          },
          "metadata": {
            "tags": []
          },
          "execution_count": 32
        }
      ]
    },
    {
      "cell_type": "code",
      "metadata": {
        "id": "WXPUkCSQcaTI",
        "colab_type": "code",
        "colab": {}
      },
      "source": [
        "pd.options.display.float_format = \"{:.2f}\".format"
      ],
      "execution_count": 0,
      "outputs": []
    },
    {
      "cell_type": "markdown",
      "metadata": {
        "id": "mVYJfwJSbfya",
        "colab_type": "text"
      },
      "source": [
        "#### then , let's describr the dataset : "
      ]
    },
    {
      "cell_type": "code",
      "metadata": {
        "id": "x5qUE1d9aJiv",
        "colab_type": "code",
        "outputId": "0c8b3837-8604-4598-8a7b-553bb9746074",
        "colab": {
          "base_uri": "https://localhost:8080/",
          "height": 307
        }
      },
      "source": [
        "train1.describe()"
      ],
      "execution_count": 34,
      "outputs": [
        {
          "output_type": "execute_result",
          "data": {
            "text/html": [
              "<div>\n",
              "<style scoped>\n",
              "    .dataframe tbody tr th:only-of-type {\n",
              "        vertical-align: middle;\n",
              "    }\n",
              "\n",
              "    .dataframe tbody tr th {\n",
              "        vertical-align: top;\n",
              "    }\n",
              "\n",
              "    .dataframe thead th {\n",
              "        text-align: right;\n",
              "    }\n",
              "</style>\n",
              "<table border=\"1\" class=\"dataframe\">\n",
              "  <thead>\n",
              "    <tr style=\"text-align: right;\">\n",
              "      <th></th>\n",
              "      <th>avg_price</th>\n",
              "      <th>avg_rank</th>\n",
              "      <th>avg_rating</th>\n",
              "      <th>avg_saving_percent</th>\n",
              "      <th>city_id</th>\n",
              "      <th>content_score</th>\n",
              "      <th>distance_to_center</th>\n",
              "      <th>hotel_id</th>\n",
              "      <th>n_clicks</th>\n",
              "      <th>n_images</th>\n",
              "      <th>n_reviews</th>\n",
              "      <th>stars</th>\n",
              "      <th>train</th>\n",
              "      <th>city_id1</th>\n",
              "    </tr>\n",
              "  </thead>\n",
              "  <tbody>\n",
              "    <tr>\n",
              "      <th>count</th>\n",
              "      <td>528421.00</td>\n",
              "      <td>528649.00</td>\n",
              "      <td>381621.00</td>\n",
              "      <td>528421.00</td>\n",
              "      <td>527986.00</td>\n",
              "      <td>527986.00</td>\n",
              "      <td>527957.00</td>\n",
              "      <td>528649.00</td>\n",
              "      <td>396487.00</td>\n",
              "      <td>527984.00</td>\n",
              "      <td>527957.00</td>\n",
              "      <td>527912.00</td>\n",
              "      <td>528649.00</td>\n",
              "      <td>528649.00</td>\n",
              "    </tr>\n",
              "    <tr>\n",
              "      <th>mean</th>\n",
              "      <td>109.18</td>\n",
              "      <td>14.70</td>\n",
              "      <td>81.62</td>\n",
              "      <td>7.16</td>\n",
              "      <td>149207.27</td>\n",
              "      <td>50.98</td>\n",
              "      <td>16139.15</td>\n",
              "      <td>132668050617.89</td>\n",
              "      <td>13.78</td>\n",
              "      <td>283.76</td>\n",
              "      <td>910.56</td>\n",
              "      <td>1.16</td>\n",
              "      <td>0.75</td>\n",
              "      <td>2061.07</td>\n",
              "    </tr>\n",
              "    <tr>\n",
              "      <th>std</th>\n",
              "      <td>147.38</td>\n",
              "      <td>5.62</td>\n",
              "      <td>6.02</td>\n",
              "      <td>13.06</td>\n",
              "      <td>219290.12</td>\n",
              "      <td>11.57</td>\n",
              "      <td>269024.54</td>\n",
              "      <td>103420473052.88</td>\n",
              "      <td>123.57</td>\n",
              "      <td>18293.67</td>\n",
              "      <td>2453.64</td>\n",
              "      <td>1.62</td>\n",
              "      <td>0.43</td>\n",
              "      <td>11593.39</td>\n",
              "    </tr>\n",
              "    <tr>\n",
              "      <th>min</th>\n",
              "      <td>4.00</td>\n",
              "      <td>1.00</td>\n",
              "      <td>34.00</td>\n",
              "      <td>0.00</td>\n",
              "      <td>2.00</td>\n",
              "      <td>7.00</td>\n",
              "      <td>0.00</td>\n",
              "      <td>155796153.00</td>\n",
              "      <td>0.00</td>\n",
              "      <td>-1.00</td>\n",
              "      <td>0.00</td>\n",
              "      <td>0.00</td>\n",
              "      <td>0.00</td>\n",
              "      <td>0.00</td>\n",
              "    </tr>\n",
              "    <tr>\n",
              "      <th>25%</th>\n",
              "      <td>51.00</td>\n",
              "      <td>11.08</td>\n",
              "      <td>79.00</td>\n",
              "      <td>0.00</td>\n",
              "      <td>32010.00</td>\n",
              "      <td>45.00</td>\n",
              "      <td>544.00</td>\n",
              "      <td>40701082970.00</td>\n",
              "      <td>0.00</td>\n",
              "      <td>0.00</td>\n",
              "      <td>0.00</td>\n",
              "      <td>0.00</td>\n",
              "      <td>1.00</td>\n",
              "      <td>0.00</td>\n",
              "    </tr>\n",
              "    <tr>\n",
              "      <th>50%</th>\n",
              "      <td>77.60</td>\n",
              "      <td>15.00</td>\n",
              "      <td>83.00</td>\n",
              "      <td>0.00</td>\n",
              "      <td>55122.00</td>\n",
              "      <td>53.00</td>\n",
              "      <td>1515.00</td>\n",
              "      <td>108602473300.00</td>\n",
              "      <td>0.00</td>\n",
              "      <td>1.00</td>\n",
              "      <td>186.00</td>\n",
              "      <td>0.00</td>\n",
              "      <td>1.00</td>\n",
              "      <td>0.00</td>\n",
              "    </tr>\n",
              "    <tr>\n",
              "      <th>75%</th>\n",
              "      <td>120.95</td>\n",
              "      <td>18.39</td>\n",
              "      <td>86.00</td>\n",
              "      <td>10.00</td>\n",
              "      <td>137456.00</td>\n",
              "      <td>59.00</td>\n",
              "      <td>4162.00</td>\n",
              "      <td>228375353198.00</td>\n",
              "      <td>2.00</td>\n",
              "      <td>2.00</td>\n",
              "      <td>774.00</td>\n",
              "      <td>3.00</td>\n",
              "      <td>1.00</td>\n",
              "      <td>0.00</td>\n",
              "    </tr>\n",
              "    <tr>\n",
              "      <th>max</th>\n",
              "      <td>8000.00</td>\n",
              "      <td>100.00</td>\n",
              "      <td>98.00</td>\n",
              "      <td>100.00</td>\n",
              "      <td>878736.00</td>\n",
              "      <td>81.00</td>\n",
              "      <td>18341550.00</td>\n",
              "      <td>323711383754.00</td>\n",
              "      <td>13742.00</td>\n",
              "      <td>2628317.00</td>\n",
              "      <td>283089.00</td>\n",
              "      <td>5.00</td>\n",
              "      <td>1.00</td>\n",
              "      <td>133876.00</td>\n",
              "    </tr>\n",
              "  </tbody>\n",
              "</table>\n",
              "</div>"
            ],
            "text/plain": [
              "       avg_price  avg_rank  avg_rating  ...     stars     train  city_id1\n",
              "count  528421.00 528649.00   381621.00  ... 527912.00 528649.00 528649.00\n",
              "mean      109.18     14.70       81.62  ...      1.16      0.75   2061.07\n",
              "std       147.38      5.62        6.02  ...      1.62      0.43  11593.39\n",
              "min         4.00      1.00       34.00  ...      0.00      0.00      0.00\n",
              "25%        51.00     11.08       79.00  ...      0.00      1.00      0.00\n",
              "50%        77.60     15.00       83.00  ...      0.00      1.00      0.00\n",
              "75%       120.95     18.39       86.00  ...      3.00      1.00      0.00\n",
              "max      8000.00    100.00       98.00  ...      5.00      1.00 133876.00\n",
              "\n",
              "[8 rows x 14 columns]"
            ]
          },
          "metadata": {
            "tags": []
          },
          "execution_count": 34
        }
      ]
    },
    {
      "cell_type": "markdown",
      "metadata": {
        "id": "WZrTPqKIbkue",
        "colab_type": "text"
      },
      "source": [
        "#### we have another problem in the data , the column 'n_images' includes negative values , thus we need to inplace them.\n",
        "\n",
        "#### Since it may indicate negative values , we replace it with the whole population mean"
      ]
    },
    {
      "cell_type": "markdown",
      "metadata": {
        "id": "Yk6U7r4bcD3P",
        "colab_type": "text"
      },
      "source": [
        "### but before that , we define a new dataset includes only cases with valid City_id"
      ]
    },
    {
      "cell_type": "code",
      "metadata": {
        "id": "ufkp4vPbgOhH",
        "colab_type": "code",
        "colab": {}
      },
      "source": [
        "numeric_feats = ['content_score','n_images','distance_to_center' ,'stars','n_reviews','avg_rank','avg_price','avg_saving_percent']"
      ],
      "execution_count": 0,
      "outputs": []
    },
    {
      "cell_type": "code",
      "metadata": {
        "id": "fQCuqZIS9gTH",
        "colab_type": "code",
        "colab": {}
      },
      "source": [
        "train_new=train1.loc[np.isnan(train1['city_id'])==0 , :]\n",
        "\n"
      ],
      "execution_count": 0,
      "outputs": []
    },
    {
      "cell_type": "code",
      "metadata": {
        "id": "puKQa-YJySKk",
        "colab_type": "code",
        "colab": {}
      },
      "source": [
        "avg_n_images = train_new.loc[(train_new['n_images'] == -1)==0 ,: ]['n_images'].mean()"
      ],
      "execution_count": 0,
      "outputs": []
    },
    {
      "cell_type": "code",
      "metadata": {
        "id": "rpv9VRBYzWBv",
        "colab_type": "code",
        "outputId": "accd65ec-043f-4510-a9de-c7259f9e4dec",
        "colab": {
          "base_uri": "https://localhost:8080/",
          "height": 33
        }
      },
      "source": [
        "avg_n_images"
      ],
      "execution_count": 38,
      "outputs": [
        {
          "output_type": "execute_result",
          "data": {
            "text/plain": [
              "286.2016851829212"
            ]
          },
          "metadata": {
            "tags": []
          },
          "execution_count": 38
        }
      ]
    },
    {
      "cell_type": "code",
      "metadata": {
        "id": "Js6g9PVyvp5O",
        "colab_type": "code",
        "outputId": "ca9f881d-e04a-48c8-9c2f-97e0c2ed4678",
        "colab": {
          "base_uri": "https://localhost:8080/",
          "height": 116
        }
      },
      "source": [
        "train_new['n_images']=np.where(train_new['n_images'] ==-1 , avg_n_images , train_new['n_images'])"
      ],
      "execution_count": 39,
      "outputs": [
        {
          "output_type": "stream",
          "text": [
            "/usr/local/lib/python3.6/dist-packages/ipykernel_launcher.py:1: SettingWithCopyWarning: \n",
            "A value is trying to be set on a copy of a slice from a DataFrame.\n",
            "Try using .loc[row_indexer,col_indexer] = value instead\n",
            "\n",
            "See the caveats in the documentation: http://pandas.pydata.org/pandas-docs/stable/indexing.html#indexing-view-versus-copy\n",
            "  \"\"\"Entry point for launching an IPython kernel.\n"
          ],
          "name": "stderr"
        }
      ]
    },
    {
      "cell_type": "markdown",
      "metadata": {
        "id": "55Pcd_MDeIIK",
        "colab_type": "text"
      },
      "source": [
        "### then we demonstrate the distribution of each numeric columns"
      ]
    },
    {
      "cell_type": "code",
      "metadata": {
        "id": "iEauqmm33U43",
        "colab_type": "code",
        "outputId": "96268f7d-a70f-4af3-a5de-bb676f536c1d",
        "colab": {
          "base_uri": "https://localhost:8080/",
          "height": 1000
        }
      },
      "source": [
        " for i in numeric_feats:\n",
        "  print('distribution of ' , i)\n",
        "  sns.distplot(train_new.loc[np.isnan(train_new[i]) == 0 ,:][i])\n",
        "  plt.show()"
      ],
      "execution_count": 41,
      "outputs": [
        {
          "output_type": "stream",
          "text": [
            "distribution of  content_score\n"
          ],
          "name": "stdout"
        },
        {
          "output_type": "display_data",
          "data": {
            "image/png": "[encoded data removed]",
            "text/plain": [
              "<Figure size 432x288 with 1 Axes>"
            ]
          },
          "metadata": {
            "tags": []
          }
        },
        {
          "output_type": "stream",
          "text": [
            "distribution of  n_images\n"
          ],
          "name": "stdout"
        },
        {
          "output_type": "display_data",
          "data": {
            "image/png": "[encoded data removed]",
            "text/plain": [
              "<Figure size 432x288 with 1 Axes>"
            ]
          },
          "metadata": {
            "tags": []
          }
        },
        {
          "output_type": "stream",
          "text": [
            "distribution of  distance_to_center\n"
          ],
          "name": "stdout"
        },
        {
          "output_type": "display_data",
          "data": {
            "image/png": "[encoded data removed]",
            "text/plain": [
              "<Figure size 432x288 with 1 Axes>"
            ]
          },
          "metadata": {
            "tags": []
          }
        },
        {
          "output_type": "stream",
          "text": [
            "distribution of  stars\n"
          ],
          "name": "stdout"
        },
        {
          "output_type": "display_data",
          "data": {
            "image/png": "[encoded data removed]",
            "text/plain": [
              "<Figure size 432x288 with 1 Axes>"
            ]
          },
          "metadata": {
            "tags": []
          }
        },
        {
          "output_type": "stream",
          "text": [
            "distribution of  n_reviews\n"
          ],
          "name": "stdout"
        },
        {
          "output_type": "display_data",
          "data": {
            "image/png": "[encoded data removed]",
            "text/plain": [
              "<Figure size 432x288 with 1 Axes>"
            ]
          },
          "metadata": {
            "tags": []
          }
        },
        {
          "output_type": "stream",
          "text": [
            "distribution of  avg_rank\n"
          ],
          "name": "stdout"
        },
        {
          "output_type": "display_data",
          "data": {
            "image/png": "[encoded data removed]",
            "text/plain": [
              "<Figure size 432x288 with 1 Axes>"
            ]
          },
          "metadata": {
            "tags": []
          }
        },
        {
          "output_type": "stream",
          "text": [
            "distribution of  avg_price\n"
          ],
          "name": "stdout"
        },
        {
          "output_type": "display_data",
          "data": {
            "image/png": "[encoded data removed]",
            "text/plain": [
              "<Figure size 432x288 with 1 Axes>"
            ]
          },
          "metadata": {
            "tags": []
          }
        },
        {
          "output_type": "stream",
          "text": [
            "distribution of  avg_saving_percent\n"
          ],
          "name": "stdout"
        },
        {
          "output_type": "display_data",
          "data": {
            "image/png": "[encoded data removed]",
            "text/plain": [
              "<Figure size 432x288 with 1 Axes>"
            ]
          },
          "metadata": {
            "tags": []
          }
        }
      ]
    },
    {
      "cell_type": "markdown",
      "metadata": {
        "id": "Gb5ah7Bkeonw",
        "colab_type": "text"
      },
      "source": [
        "### we notice that there are outliers in almost all columns , we replace them by bos plot whiskers as limits  "
      ]
    },
    {
      "cell_type": "code",
      "metadata": {
        "id": "v2fIY0Z2l00q",
        "colab_type": "code",
        "outputId": "1521f143-5413-437e-a8b9-4f3d566611f4",
        "colab": {
          "base_uri": "https://localhost:8080/",
          "height": 435
        }
      },
      "source": [
        "numeric_lower=[]\n",
        "numeric_upper=[]\n",
        "for i in numeric_feats:\n",
        "    bp_i = plt.boxplot(train_new.loc[np.isnan(train[i]) == 0 ,:][i])\n",
        "    lower_limit_i , upper_limit_i=[item.get_ydata()[1] for item in bp_i['whiskers']]\n",
        "    numeric_lower.append(lower_limit_i)\n",
        "    numeric_upper.append(upper_limit_i)\n",
        "    "
      ],
      "execution_count": 42,
      "outputs": [
        {
          "output_type": "stream",
          "text": [
            "/usr/local/lib/python3.6/dist-packages/numpy/lib/function_base.py:3826: RuntimeWarning: Invalid value encountered in percentile\n",
            "  interpolation=interpolation)\n",
            "/usr/local/lib/python3.6/dist-packages/matplotlib/cbook/__init__.py:1246: RuntimeWarning: invalid value encountered in less_equal\n",
            "  wiskhi = np.compress(x <= hival, x)\n",
            "/usr/local/lib/python3.6/dist-packages/matplotlib/cbook/__init__.py:1253: RuntimeWarning: invalid value encountered in greater_equal\n",
            "  wisklo = np.compress(x >= loval, x)\n",
            "/usr/local/lib/python3.6/dist-packages/matplotlib/cbook/__init__.py:1261: RuntimeWarning: invalid value encountered in less\n",
            "  np.compress(x < stats['whislo'], x),\n",
            "/usr/local/lib/python3.6/dist-packages/matplotlib/cbook/__init__.py:1262: RuntimeWarning: invalid value encountered in greater\n",
            "  np.compress(x > stats['whishi'], x)\n"
          ],
          "name": "stderr"
        },
        {
          "output_type": "display_data",
          "data": {
            "image/png": "[encoded data removed]",
            "text/plain": [
              "<Figure size 432x288 with 1 Axes>"
            ]
          },
          "metadata": {
            "tags": []
          }
        }
      ]
    },
    {
      "cell_type": "markdown",
      "metadata": {
        "id": "PcwL_a1PeSLs",
        "colab_type": "text"
      },
      "source": [
        "#### then we demonstrate upper and lower limits "
      ]
    },
    {
      "cell_type": "code",
      "metadata": {
        "id": "o16fQwo5tY-V",
        "colab_type": "code",
        "outputId": "57aa77f8-df8b-40e0-91c4-159d6544f274",
        "colab": {
          "base_uri": "https://localhost:8080/",
          "height": 33
        }
      },
      "source": [
        "numeric_lower"
      ],
      "execution_count": 43,
      "outputs": [
        {
          "output_type": "execute_result",
          "data": {
            "text/plain": [
              "[24.0, nan, nan, nan, nan, 1.0, nan, nan]"
            ]
          },
          "metadata": {
            "tags": []
          },
          "execution_count": 43
        }
      ]
    },
    {
      "cell_type": "code",
      "metadata": {
        "id": "Mn5AUBNbqmVX",
        "colab_type": "code",
        "outputId": "5a1fa7d8-5581-4542-bc81-6d894e84ddd2",
        "colab": {
          "base_uri": "https://localhost:8080/",
          "height": 33
        }
      },
      "source": [
        "numeric_upper"
      ],
      "execution_count": 44,
      "outputs": [
        {
          "output_type": "execute_result",
          "data": {
            "text/plain": [
              "[80.0, nan, nan, nan, nan, 29.353, nan, nan]"
            ]
          },
          "metadata": {
            "tags": []
          },
          "execution_count": 44
        }
      ]
    },
    {
      "cell_type": "markdown",
      "metadata": {
        "id": "638bPuyQe200",
        "colab_type": "text"
      },
      "source": [
        "### then we replace outliers by these limits to make data more smooth"
      ]
    },
    {
      "cell_type": "code",
      "metadata": {
        "id": "Z-Upb6Jqzp60",
        "colab_type": "code",
        "outputId": "64ab58fd-e970-45c6-eef2-cf39ae61d59f",
        "colab": {
          "base_uri": "https://localhost:8080/",
          "height": 216
        }
      },
      "source": [
        "j=0\n",
        "for i  in numeric_feats : \n",
        "    train_new[i]=np.where(train_new[i] < numeric_lower[j] , numeric_lower[j] , train_new[i])\n",
        "    train_new[i]=np.where(train_new[i] > numeric_upper[j] , numeric_upper[j] , train_new[i])\n",
        "    j+=1"
      ],
      "execution_count": 45,
      "outputs": [
        {
          "output_type": "stream",
          "text": [
            "/usr/local/lib/python3.6/dist-packages/ipykernel_launcher.py:3: SettingWithCopyWarning: \n",
            "A value is trying to be set on a copy of a slice from a DataFrame.\n",
            "Try using .loc[row_indexer,col_indexer] = value instead\n",
            "\n",
            "See the caveats in the documentation: http://pandas.pydata.org/pandas-docs/stable/indexing.html#indexing-view-versus-copy\n",
            "  This is separate from the ipykernel package so we can avoid doing imports until\n",
            "/usr/local/lib/python3.6/dist-packages/ipykernel_launcher.py:4: SettingWithCopyWarning: \n",
            "A value is trying to be set on a copy of a slice from a DataFrame.\n",
            "Try using .loc[row_indexer,col_indexer] = value instead\n",
            "\n",
            "See the caveats in the documentation: http://pandas.pydata.org/pandas-docs/stable/indexing.html#indexing-view-versus-copy\n",
            "  after removing the cwd from sys.path.\n"
          ],
          "name": "stderr"
        }
      ]
    },
    {
      "cell_type": "markdown",
      "metadata": {
        "id": "nGY9nsVte8tt",
        "colab_type": "text"
      },
      "source": [
        "#### then let's check data distributions :"
      ]
    },
    {
      "cell_type": "code",
      "metadata": {
        "id": "o0M6UssLUVV1",
        "colab_type": "code",
        "outputId": "6ed944cc-0c31-490a-f6f7-036e988662ff",
        "colab": {
          "base_uri": "https://localhost:8080/",
          "height": 1000
        }
      },
      "source": [
        " for i in numeric_feats:\n",
        "  print('distribution of ' , i)\n",
        "  sns.distplot(train_new.loc[np.isnan(train_new[i]) == 0 ,:][i])\n",
        "  plt.show()"
      ],
      "execution_count": 47,
      "outputs": [
        {
          "output_type": "stream",
          "text": [
            "distribution of  content_score\n"
          ],
          "name": "stdout"
        },
        {
          "output_type": "display_data",
          "data": {
            "image/png": "[encoded data removed]",
            "text/plain": [
              "<Figure size 432x288 with 1 Axes>"
            ]
          },
          "metadata": {
            "tags": []
          }
        },
        {
          "output_type": "stream",
          "text": [
            "distribution of  n_images\n"
          ],
          "name": "stdout"
        },
        {
          "output_type": "display_data",
          "data": {
            "image/png": "[encoded data removed]",
            "text/plain": [
              "<Figure size 432x288 with 1 Axes>"
            ]
          },
          "metadata": {
            "tags": []
          }
        },
        {
          "output_type": "stream",
          "text": [
            "distribution of  distance_to_center\n"
          ],
          "name": "stdout"
        },
        {
          "output_type": "display_data",
          "data": {
            "image/png": "[encoded data removed]",
            "text/plain": [
              "<Figure size 432x288 with 1 Axes>"
            ]
          },
          "metadata": {
            "tags": []
          }
        },
        {
          "output_type": "stream",
          "text": [
            "distribution of  stars\n"
          ],
          "name": "stdout"
        },
        {
          "output_type": "display_data",
          "data": {
            "image/png": "[encoded data removed]",
            "text/plain": [
              "<Figure size 432x288 with 1 Axes>"
            ]
          },
          "metadata": {
            "tags": []
          }
        },
        {
          "output_type": "stream",
          "text": [
            "distribution of  n_reviews\n"
          ],
          "name": "stdout"
        },
        {
          "output_type": "display_data",
          "data": {
            "image/png": "[encoded data removed]",
            "text/plain": [
              "<Figure size 432x288 with 1 Axes>"
            ]
          },
          "metadata": {
            "tags": []
          }
        },
        {
          "output_type": "stream",
          "text": [
            "distribution of  avg_rank\n"
          ],
          "name": "stdout"
        },
        {
          "output_type": "display_data",
          "data": {
            "image/png": "[encoded data removed]",
            "text/plain": [
              "<Figure size 432x288 with 1 Axes>"
            ]
          },
          "metadata": {
            "tags": []
          }
        },
        {
          "output_type": "stream",
          "text": [
            "distribution of  avg_price\n"
          ],
          "name": "stdout"
        },
        {
          "output_type": "display_data",
          "data": {
            "image/png": "[encoded data removed]",
            "text/plain": [
              "<Figure size 432x288 with 1 Axes>"
            ]
          },
          "metadata": {
            "tags": []
          }
        },
        {
          "output_type": "stream",
          "text": [
            "distribution of  avg_saving_percent\n"
          ],
          "name": "stdout"
        },
        {
          "output_type": "display_data",
          "data": {
            "image/png": "[encoded data removed]",
            "text/plain": [
              "<Figure size 432x288 with 1 Axes>"
            ]
          },
          "metadata": {
            "tags": []
          }
        }
      ]
    },
    {
      "cell_type": "markdown",
      "metadata": {
        "id": "RwtwY2sJfB0M",
        "colab_type": "text"
      },
      "source": [
        "#### we notice that distributions became much more acceptable especially clear in average price , average rank and  n_reviews"
      ]
    },
    {
      "cell_type": "markdown",
      "metadata": {
        "id": "pwwiZwhzfYO7",
        "colab_type": "text"
      },
      "source": [
        "#### based on the data pure of non logical values and outliers , we can take averages safely to replace outliers"
      ]
    },
    {
      "cell_type": "code",
      "metadata": {
        "id": "DbopXFQE9gQi",
        "colab_type": "code",
        "outputId": "c6d166c3-e0ae-432a-a18f-78131ecc90b7",
        "colab": {
          "base_uri": "https://localhost:8080/",
          "height": 250
        }
      },
      "source": [
        "for i in train_new.columns :\n",
        "   print(i + \" contains \" , np.isnan(train_new[i]).sum() , \"NaN value\")"
      ],
      "execution_count": 48,
      "outputs": [
        {
          "output_type": "stream",
          "text": [
            "avg_price contains  223 NaN value\n",
            "avg_rank contains  0 NaN value\n",
            "avg_rating contains  146365 NaN value\n",
            "avg_saving_percent contains  223 NaN value\n",
            "city_id contains  0 NaN value\n",
            "content_score contains  0 NaN value\n",
            "distance_to_center contains  29 NaN value\n",
            "hotel_id contains  0 NaN value\n",
            "n_clicks contains  132007 NaN value\n",
            "n_images contains  2 NaN value\n",
            "n_reviews contains  29 NaN value\n",
            "stars contains  74 NaN value\n",
            "train contains  0 NaN value\n",
            "city_id1 contains  0 NaN value\n"
          ],
          "name": "stdout"
        }
      ]
    },
    {
      "cell_type": "code",
      "metadata": {
        "id": "sSdJVazQcJIO",
        "colab_type": "code",
        "colab": {}
      },
      "source": [
        "avg_avg_rating=train_new['avg_rating'].mean()"
      ],
      "execution_count": 0,
      "outputs": []
    },
    {
      "cell_type": "code",
      "metadata": {
        "id": "mSDx0OPS5xUB",
        "colab_type": "code",
        "colab": {}
      },
      "source": [
        "avg_n_images=train_new['n_images'].mean()"
      ],
      "execution_count": 0,
      "outputs": []
    },
    {
      "cell_type": "code",
      "metadata": {
        "id": "ff88FmJW8ExW",
        "colab_type": "code",
        "colab": {}
      },
      "source": [
        "avg_distance_to_center=train_new['distance_to_center'].mean()"
      ],
      "execution_count": 0,
      "outputs": []
    },
    {
      "cell_type": "code",
      "metadata": {
        "id": "0G1AlxkG8E0L",
        "colab_type": "code",
        "colab": {}
      },
      "source": [
        "avg_n_reviews=train_new['n_reviews'].mean()"
      ],
      "execution_count": 0,
      "outputs": []
    },
    {
      "cell_type": "code",
      "metadata": {
        "id": "SHMaLV6S8E2h",
        "colab_type": "code",
        "colab": {}
      },
      "source": [
        "avg_avg_price=train_new['avg_price'].mean()"
      ],
      "execution_count": 0,
      "outputs": []
    },
    {
      "cell_type": "code",
      "metadata": {
        "id": "1Oo5TQqF8E5W",
        "colab_type": "code",
        "colab": {}
      },
      "source": [
        "avg_stars=train_new['stars'].mean() "
      ],
      "execution_count": 0,
      "outputs": []
    },
    {
      "cell_type": "code",
      "metadata": {
        "id": "-T1tJFJ78E76",
        "colab_type": "code",
        "colab": {}
      },
      "source": [
        "avg_avg_saving_percent=train_new['avg_saving_percent'].mean()"
      ],
      "execution_count": 0,
      "outputs": []
    },
    {
      "cell_type": "code",
      "metadata": {
        "id": "GUCITLkj9gN9",
        "colab_type": "code",
        "outputId": "cddd7e79-ebba-469b-a981-c0429249956e",
        "colab": {
          "base_uri": "https://localhost:8080/",
          "height": 116
        }
      },
      "source": [
        "train_new['avg_rating']=np.where(np.isnan(train_new['avg_rating']), avg_avg_rating , train_new['avg_rating'] )"
      ],
      "execution_count": 56,
      "outputs": [
        {
          "output_type": "stream",
          "text": [
            "/usr/local/lib/python3.6/dist-packages/ipykernel_launcher.py:1: SettingWithCopyWarning: \n",
            "A value is trying to be set on a copy of a slice from a DataFrame.\n",
            "Try using .loc[row_indexer,col_indexer] = value instead\n",
            "\n",
            "See the caveats in the documentation: http://pandas.pydata.org/pandas-docs/stable/indexing.html#indexing-view-versus-copy\n",
            "  \"\"\"Entry point for launching an IPython kernel.\n"
          ],
          "name": "stderr"
        }
      ]
    },
    {
      "cell_type": "code",
      "metadata": {
        "id": "3IuN1QOCh1mp",
        "colab_type": "code",
        "outputId": "7003e75c-d444-4440-959f-8c36de33976c",
        "colab": {
          "base_uri": "https://localhost:8080/",
          "height": 116
        }
      },
      "source": [
        "train_new['n_images']=np.where(np.isnan(train_new['n_images']), avg_n_images , train_new['n_images'] )"
      ],
      "execution_count": 57,
      "outputs": [
        {
          "output_type": "stream",
          "text": [
            "/usr/local/lib/python3.6/dist-packages/ipykernel_launcher.py:1: SettingWithCopyWarning: \n",
            "A value is trying to be set on a copy of a slice from a DataFrame.\n",
            "Try using .loc[row_indexer,col_indexer] = value instead\n",
            "\n",
            "See the caveats in the documentation: http://pandas.pydata.org/pandas-docs/stable/indexing.html#indexing-view-versus-copy\n",
            "  \"\"\"Entry point for launching an IPython kernel.\n"
          ],
          "name": "stderr"
        }
      ]
    },
    {
      "cell_type": "code",
      "metadata": {
        "id": "2WZh3krPiEtd",
        "colab_type": "code",
        "outputId": "688d6efb-62be-4b90-cb1b-f8ae63362cc5",
        "colab": {
          "base_uri": "https://localhost:8080/",
          "height": 116
        }
      },
      "source": [
        "train_new['distance_to_center']=np.where(np.isnan(train_new['distance_to_center']), avg_distance_to_center , train_new['distance_to_center'] )"
      ],
      "execution_count": 58,
      "outputs": [
        {
          "output_type": "stream",
          "text": [
            "/usr/local/lib/python3.6/dist-packages/ipykernel_launcher.py:1: SettingWithCopyWarning: \n",
            "A value is trying to be set on a copy of a slice from a DataFrame.\n",
            "Try using .loc[row_indexer,col_indexer] = value instead\n",
            "\n",
            "See the caveats in the documentation: http://pandas.pydata.org/pandas-docs/stable/indexing.html#indexing-view-versus-copy\n",
            "  \"\"\"Entry point for launching an IPython kernel.\n"
          ],
          "name": "stderr"
        }
      ]
    },
    {
      "cell_type": "code",
      "metadata": {
        "id": "39UWqmbaiHmV",
        "colab_type": "code",
        "outputId": "57c80ca2-e9aa-4f9a-f42a-9e6ba5357325",
        "colab": {
          "base_uri": "https://localhost:8080/",
          "height": 116
        }
      },
      "source": [
        "train_new['n_reviews']=np.where(np.isnan(train_new['n_reviews']), avg_n_reviews , train_new['n_reviews'] )"
      ],
      "execution_count": 59,
      "outputs": [
        {
          "output_type": "stream",
          "text": [
            "/usr/local/lib/python3.6/dist-packages/ipykernel_launcher.py:1: SettingWithCopyWarning: \n",
            "A value is trying to be set on a copy of a slice from a DataFrame.\n",
            "Try using .loc[row_indexer,col_indexer] = value instead\n",
            "\n",
            "See the caveats in the documentation: http://pandas.pydata.org/pandas-docs/stable/indexing.html#indexing-view-versus-copy\n",
            "  \"\"\"Entry point for launching an IPython kernel.\n"
          ],
          "name": "stderr"
        }
      ]
    },
    {
      "cell_type": "code",
      "metadata": {
        "id": "vYTL7e9ZiMTU",
        "colab_type": "code",
        "outputId": "c6664196-db34-4699-e627-dcf5f031b2ea",
        "colab": {
          "base_uri": "https://localhost:8080/",
          "height": 116
        }
      },
      "source": [
        "train_new['avg_price']=np.where(np.isnan(train_new['avg_price']), avg_avg_price , train_new['avg_price'] )"
      ],
      "execution_count": 60,
      "outputs": [
        {
          "output_type": "stream",
          "text": [
            "/usr/local/lib/python3.6/dist-packages/ipykernel_launcher.py:1: SettingWithCopyWarning: \n",
            "A value is trying to be set on a copy of a slice from a DataFrame.\n",
            "Try using .loc[row_indexer,col_indexer] = value instead\n",
            "\n",
            "See the caveats in the documentation: http://pandas.pydata.org/pandas-docs/stable/indexing.html#indexing-view-versus-copy\n",
            "  \"\"\"Entry point for launching an IPython kernel.\n"
          ],
          "name": "stderr"
        }
      ]
    },
    {
      "cell_type": "code",
      "metadata": {
        "id": "Mt0fjD2ljMFp",
        "colab_type": "code",
        "outputId": "d532b085-c1d6-4d50-aa8e-fa9740f08d9b",
        "colab": {
          "base_uri": "https://localhost:8080/",
          "height": 116
        }
      },
      "source": [
        "train_new['stars']=np.where(np.isnan(train_new['stars']), avg_stars , train_new['stars'] )"
      ],
      "execution_count": 61,
      "outputs": [
        {
          "output_type": "stream",
          "text": [
            "/usr/local/lib/python3.6/dist-packages/ipykernel_launcher.py:1: SettingWithCopyWarning: \n",
            "A value is trying to be set on a copy of a slice from a DataFrame.\n",
            "Try using .loc[row_indexer,col_indexer] = value instead\n",
            "\n",
            "See the caveats in the documentation: http://pandas.pydata.org/pandas-docs/stable/indexing.html#indexing-view-versus-copy\n",
            "  \"\"\"Entry point for launching an IPython kernel.\n"
          ],
          "name": "stderr"
        }
      ]
    },
    {
      "cell_type": "code",
      "metadata": {
        "id": "hvL6a7JTmbrf",
        "colab_type": "code",
        "outputId": "9188ee9a-3bb0-4fa8-dd37-46641243a317",
        "colab": {
          "base_uri": "https://localhost:8080/",
          "height": 116
        }
      },
      "source": [
        "train_new['avg_saving_percent']=np.where(np.isnan(train_new['avg_saving_percent']), avg_avg_saving_percent , train_new['avg_saving_percent'] )"
      ],
      "execution_count": 62,
      "outputs": [
        {
          "output_type": "stream",
          "text": [
            "/usr/local/lib/python3.6/dist-packages/ipykernel_launcher.py:1: SettingWithCopyWarning: \n",
            "A value is trying to be set on a copy of a slice from a DataFrame.\n",
            "Try using .loc[row_indexer,col_indexer] = value instead\n",
            "\n",
            "See the caveats in the documentation: http://pandas.pydata.org/pandas-docs/stable/indexing.html#indexing-view-versus-copy\n",
            "  \"\"\"Entry point for launching an IPython kernel.\n"
          ],
          "name": "stderr"
        }
      ]
    },
    {
      "cell_type": "code",
      "metadata": {
        "id": "WKXiTCOikIMN",
        "colab_type": "code",
        "outputId": "e2570a24-c6ca-411a-e464-3b2efdf92c76",
        "colab": {
          "base_uri": "https://localhost:8080/",
          "height": 250
        }
      },
      "source": [
        "for i in train_new.columns :\n",
        "   print(i + \" contains \" , np.isnan(train_new[i]).sum() , \"NaN value\")"
      ],
      "execution_count": 63,
      "outputs": [
        {
          "output_type": "stream",
          "text": [
            "avg_price contains  0 NaN value\n",
            "avg_rank contains  0 NaN value\n",
            "avg_rating contains  0 NaN value\n",
            "avg_saving_percent contains  0 NaN value\n",
            "city_id contains  0 NaN value\n",
            "content_score contains  0 NaN value\n",
            "distance_to_center contains  0 NaN value\n",
            "hotel_id contains  0 NaN value\n",
            "n_clicks contains  132007 NaN value\n",
            "n_images contains  0 NaN value\n",
            "n_reviews contains  0 NaN value\n",
            "stars contains  0 NaN value\n",
            "train contains  0 NaN value\n",
            "city_id1 contains  0 NaN value\n"
          ],
          "name": "stdout"
        }
      ]
    },
    {
      "cell_type": "markdown",
      "metadata": {
        "id": "UfRwc1vcfmVE",
        "colab_type": "text"
      },
      "source": [
        "### then we modify type of columns , Hotel_id to be the index "
      ]
    },
    {
      "cell_type": "code",
      "metadata": {
        "id": "OCakPNzxyR24",
        "colab_type": "code",
        "colab": {}
      },
      "source": [
        "train_new=train_new.set_index('hotel_id')"
      ],
      "execution_count": 0,
      "outputs": []
    },
    {
      "cell_type": "code",
      "metadata": {
        "id": "2nK-k0s7OsYa",
        "colab_type": "code",
        "outputId": "9794300c-1853-4a7e-888e-2b3c10c2ad3b",
        "colab": {
          "base_uri": "https://localhost:8080/",
          "height": 227
        }
      },
      "source": [
        "train_new.head()"
      ],
      "execution_count": 65,
      "outputs": [
        {
          "output_type": "execute_result",
          "data": {
            "text/html": [
              "<div>\n",
              "<style scoped>\n",
              "    .dataframe tbody tr th:only-of-type {\n",
              "        vertical-align: middle;\n",
              "    }\n",
              "\n",
              "    .dataframe tbody tr th {\n",
              "        vertical-align: top;\n",
              "    }\n",
              "\n",
              "    .dataframe thead th {\n",
              "        text-align: right;\n",
              "    }\n",
              "</style>\n",
              "<table border=\"1\" class=\"dataframe\">\n",
              "  <thead>\n",
              "    <tr style=\"text-align: right;\">\n",
              "      <th></th>\n",
              "      <th>avg_price</th>\n",
              "      <th>avg_rank</th>\n",
              "      <th>avg_rating</th>\n",
              "      <th>avg_saving_percent</th>\n",
              "      <th>city_id</th>\n",
              "      <th>content_score</th>\n",
              "      <th>distance_to_center</th>\n",
              "      <th>n_clicks</th>\n",
              "      <th>n_images</th>\n",
              "      <th>n_reviews</th>\n",
              "      <th>stars</th>\n",
              "      <th>train</th>\n",
              "      <th>city_id1</th>\n",
              "    </tr>\n",
              "    <tr>\n",
              "      <th>hotel_id</th>\n",
              "      <th></th>\n",
              "      <th></th>\n",
              "      <th></th>\n",
              "      <th></th>\n",
              "      <th></th>\n",
              "      <th></th>\n",
              "      <th></th>\n",
              "      <th></th>\n",
              "      <th></th>\n",
              "      <th></th>\n",
              "      <th></th>\n",
              "      <th></th>\n",
              "      <th></th>\n",
              "    </tr>\n",
              "  </thead>\n",
              "  <tbody>\n",
              "    <tr>\n",
              "      <th>97674063206.00</th>\n",
              "      <td>81.64</td>\n",
              "      <td>17.55</td>\n",
              "      <td>77.00</td>\n",
              "      <td>18.00</td>\n",
              "      <td>134520.00</td>\n",
              "      <td>70.00</td>\n",
              "      <td>1199.00</td>\n",
              "      <td>0.00</td>\n",
              "      <td>2.00</td>\n",
              "      <td>861.00</td>\n",
              "      <td>4.00</td>\n",
              "      <td>1</td>\n",
              "      <td>0.00</td>\n",
              "    </tr>\n",
              "    <tr>\n",
              "      <th>97688892034.00</th>\n",
              "      <td>189.38</td>\n",
              "      <td>17.38</td>\n",
              "      <td>90.00</td>\n",
              "      <td>28.00</td>\n",
              "      <td>133876.00</td>\n",
              "      <td>67.00</td>\n",
              "      <td>12585.00</td>\n",
              "      <td>4.00</td>\n",
              "      <td>3.00</td>\n",
              "      <td>4371.00</td>\n",
              "      <td>4.00</td>\n",
              "      <td>1</td>\n",
              "      <td>133876.00</td>\n",
              "    </tr>\n",
              "    <tr>\n",
              "      <th>98115438910.00</th>\n",
              "      <td>57.63</td>\n",
              "      <td>16.44</td>\n",
              "      <td>83.00</td>\n",
              "      <td>27.00</td>\n",
              "      <td>133732.00</td>\n",
              "      <td>39.00</td>\n",
              "      <td>23491.00</td>\n",
              "      <td>44.00</td>\n",
              "      <td>3.00</td>\n",
              "      <td>1005.00</td>\n",
              "      <td>3.00</td>\n",
              "      <td>1</td>\n",
              "      <td>0.00</td>\n",
              "    </tr>\n",
              "    <tr>\n",
              "      <th>98242792374.00</th>\n",
              "      <td>72.16</td>\n",
              "      <td>7.00</td>\n",
              "      <td>73.00</td>\n",
              "      <td>2.00</td>\n",
              "      <td>43772.00</td>\n",
              "      <td>59.00</td>\n",
              "      <td>3291.00</td>\n",
              "      <td>4.00</td>\n",
              "      <td>8.00</td>\n",
              "      <td>3084.00</td>\n",
              "      <td>2.00</td>\n",
              "      <td>1</td>\n",
              "      <td>0.00</td>\n",
              "    </tr>\n",
              "    <tr>\n",
              "      <th>98334382194.00</th>\n",
              "      <td>173.25</td>\n",
              "      <td>12.56</td>\n",
              "      <td>80.00</td>\n",
              "      <td>0.00</td>\n",
              "      <td>50532.00</td>\n",
              "      <td>66.00</td>\n",
              "      <td>288.00</td>\n",
              "      <td>10.00</td>\n",
              "      <td>1.00</td>\n",
              "      <td>603.00</td>\n",
              "      <td>0.00</td>\n",
              "      <td>1</td>\n",
              "      <td>0.00</td>\n",
              "    </tr>\n",
              "  </tbody>\n",
              "</table>\n",
              "</div>"
            ],
            "text/plain": [
              "                avg_price  avg_rank  avg_rating  ...  stars  train  city_id1\n",
              "hotel_id                                         ...                        \n",
              "97674063206.00      81.64     17.55       77.00  ...   4.00      1      0.00\n",
              "97688892034.00     189.38     17.38       90.00  ...   4.00      1 133876.00\n",
              "98115438910.00      57.63     16.44       83.00  ...   3.00      1      0.00\n",
              "98242792374.00      72.16      7.00       73.00  ...   2.00      1      0.00\n",
              "98334382194.00     173.25     12.56       80.00  ...   0.00      1      0.00\n",
              "\n",
              "[5 rows x 13 columns]"
            ]
          },
          "metadata": {
            "tags": []
          },
          "execution_count": 65
        }
      ]
    },
    {
      "cell_type": "code",
      "metadata": {
        "id": "D5IgCFcfOzkP",
        "colab_type": "code",
        "colab": {}
      },
      "source": [
        "numeric_feats = ['content_score','n_images','distance_to_center' ,'stars','n_reviews','avg_rank','avg_price','avg_saving_percent']"
      ],
      "execution_count": 0,
      "outputs": []
    },
    {
      "cell_type": "markdown",
      "metadata": {
        "id": "S9Mpz553ftr3",
        "colab_type": "text"
      },
      "source": [
        "#### also make city_id string (despite we will have to exclude it later)"
      ]
    },
    {
      "cell_type": "code",
      "metadata": {
        "id": "bflwJNc5nKz3",
        "colab_type": "code",
        "colab": {}
      },
      "source": [
        "train_new['city_id']=train_new['city_id'].astype('str')"
      ],
      "execution_count": 0,
      "outputs": []
    },
    {
      "cell_type": "code",
      "metadata": {
        "id": "Uq5JOadbpWV-",
        "colab_type": "code",
        "outputId": "4489029d-66a4-435e-ade3-dd09f6799fee",
        "colab": {
          "base_uri": "https://localhost:8080/",
          "height": 316
        }
      },
      "source": [
        "train_new.info()"
      ],
      "execution_count": 68,
      "outputs": [
        {
          "output_type": "stream",
          "text": [
            "<class 'pandas.core.frame.DataFrame'>\n",
            "Float64Index: 527986 entries, 97674063206.0 to 99788791152.0\n",
            "Data columns (total 13 columns):\n",
            "avg_price             527986 non-null float64\n",
            "avg_rank              527986 non-null float64\n",
            "avg_rating            527986 non-null float64\n",
            "avg_saving_percent    527986 non-null float64\n",
            "city_id               527986 non-null object\n",
            "content_score         527986 non-null float64\n",
            "distance_to_center    527986 non-null float64\n",
            "n_clicks              395979 non-null float64\n",
            "n_images              527986 non-null float64\n",
            "n_reviews             527986 non-null float64\n",
            "stars                 527986 non-null float64\n",
            "train                 527986 non-null int64\n",
            "city_id1              527986 non-null float64\n",
            "dtypes: float64(11), int64(1), object(1)\n",
            "memory usage: 56.4+ MB\n"
          ],
          "name": "stdout"
        }
      ]
    },
    {
      "cell_type": "code",
      "metadata": {
        "id": "QHrFC3qeKFk8",
        "colab_type": "code",
        "outputId": "1f63781c-b511-42df-e085-0a631f6d5bfb",
        "colab": {
          "base_uri": "https://localhost:8080/",
          "height": 227
        }
      },
      "source": [
        "train_new.head()"
      ],
      "execution_count": 69,
      "outputs": [
        {
          "output_type": "execute_result",
          "data": {
            "text/html": [
              "<div>\n",
              "<style scoped>\n",
              "    .dataframe tbody tr th:only-of-type {\n",
              "        vertical-align: middle;\n",
              "    }\n",
              "\n",
              "    .dataframe tbody tr th {\n",
              "        vertical-align: top;\n",
              "    }\n",
              "\n",
              "    .dataframe thead th {\n",
              "        text-align: right;\n",
              "    }\n",
              "</style>\n",
              "<table border=\"1\" class=\"dataframe\">\n",
              "  <thead>\n",
              "    <tr style=\"text-align: right;\">\n",
              "      <th></th>\n",
              "      <th>avg_price</th>\n",
              "      <th>avg_rank</th>\n",
              "      <th>avg_rating</th>\n",
              "      <th>avg_saving_percent</th>\n",
              "      <th>city_id</th>\n",
              "      <th>content_score</th>\n",
              "      <th>distance_to_center</th>\n",
              "      <th>n_clicks</th>\n",
              "      <th>n_images</th>\n",
              "      <th>n_reviews</th>\n",
              "      <th>stars</th>\n",
              "      <th>train</th>\n",
              "      <th>city_id1</th>\n",
              "    </tr>\n",
              "    <tr>\n",
              "      <th>hotel_id</th>\n",
              "      <th></th>\n",
              "      <th></th>\n",
              "      <th></th>\n",
              "      <th></th>\n",
              "      <th></th>\n",
              "      <th></th>\n",
              "      <th></th>\n",
              "      <th></th>\n",
              "      <th></th>\n",
              "      <th></th>\n",
              "      <th></th>\n",
              "      <th></th>\n",
              "      <th></th>\n",
              "    </tr>\n",
              "  </thead>\n",
              "  <tbody>\n",
              "    <tr>\n",
              "      <th>97674063206.00</th>\n",
              "      <td>81.64</td>\n",
              "      <td>17.55</td>\n",
              "      <td>77.00</td>\n",
              "      <td>18.00</td>\n",
              "      <td>134520.0</td>\n",
              "      <td>70.00</td>\n",
              "      <td>1199.00</td>\n",
              "      <td>0.00</td>\n",
              "      <td>2.00</td>\n",
              "      <td>861.00</td>\n",
              "      <td>4.00</td>\n",
              "      <td>1</td>\n",
              "      <td>0.00</td>\n",
              "    </tr>\n",
              "    <tr>\n",
              "      <th>97688892034.00</th>\n",
              "      <td>189.38</td>\n",
              "      <td>17.38</td>\n",
              "      <td>90.00</td>\n",
              "      <td>28.00</td>\n",
              "      <td>133876.0</td>\n",
              "      <td>67.00</td>\n",
              "      <td>12585.00</td>\n",
              "      <td>4.00</td>\n",
              "      <td>3.00</td>\n",
              "      <td>4371.00</td>\n",
              "      <td>4.00</td>\n",
              "      <td>1</td>\n",
              "      <td>133876.00</td>\n",
              "    </tr>\n",
              "    <tr>\n",
              "      <th>98115438910.00</th>\n",
              "      <td>57.63</td>\n",
              "      <td>16.44</td>\n",
              "      <td>83.00</td>\n",
              "      <td>27.00</td>\n",
              "      <td>133732.0</td>\n",
              "      <td>39.00</td>\n",
              "      <td>23491.00</td>\n",
              "      <td>44.00</td>\n",
              "      <td>3.00</td>\n",
              "      <td>1005.00</td>\n",
              "      <td>3.00</td>\n",
              "      <td>1</td>\n",
              "      <td>0.00</td>\n",
              "    </tr>\n",
              "    <tr>\n",
              "      <th>98242792374.00</th>\n",
              "      <td>72.16</td>\n",
              "      <td>7.00</td>\n",
              "      <td>73.00</td>\n",
              "      <td>2.00</td>\n",
              "      <td>43772.0</td>\n",
              "      <td>59.00</td>\n",
              "      <td>3291.00</td>\n",
              "      <td>4.00</td>\n",
              "      <td>8.00</td>\n",
              "      <td>3084.00</td>\n",
              "      <td>2.00</td>\n",
              "      <td>1</td>\n",
              "      <td>0.00</td>\n",
              "    </tr>\n",
              "    <tr>\n",
              "      <th>98334382194.00</th>\n",
              "      <td>173.25</td>\n",
              "      <td>12.56</td>\n",
              "      <td>80.00</td>\n",
              "      <td>0.00</td>\n",
              "      <td>50532.0</td>\n",
              "      <td>66.00</td>\n",
              "      <td>288.00</td>\n",
              "      <td>10.00</td>\n",
              "      <td>1.00</td>\n",
              "      <td>603.00</td>\n",
              "      <td>0.00</td>\n",
              "      <td>1</td>\n",
              "      <td>0.00</td>\n",
              "    </tr>\n",
              "  </tbody>\n",
              "</table>\n",
              "</div>"
            ],
            "text/plain": [
              "                avg_price  avg_rank  avg_rating  ...  stars train  city_id1\n",
              "hotel_id                                         ...                       \n",
              "97674063206.00      81.64     17.55       77.00  ...   4.00     1      0.00\n",
              "97688892034.00     189.38     17.38       90.00  ...   4.00     1 133876.00\n",
              "98115438910.00      57.63     16.44       83.00  ...   3.00     1      0.00\n",
              "98242792374.00      72.16      7.00       73.00  ...   2.00     1      0.00\n",
              "98334382194.00     173.25     12.56       80.00  ...   0.00     1      0.00\n",
              "\n",
              "[5 rows x 13 columns]"
            ]
          },
          "metadata": {
            "tags": []
          },
          "execution_count": 69
        }
      ]
    },
    {
      "cell_type": "markdown",
      "metadata": {
        "id": "VefceuBHf1zp",
        "colab_type": "text"
      },
      "source": [
        "### then define indicator variable for each city had frequency of 1000 or more in the data"
      ]
    },
    {
      "cell_type": "code",
      "metadata": {
        "id": "a_MiIurFpYuz",
        "colab_type": "code",
        "colab": {}
      },
      "source": [
        "train_final=pd.get_dummies(train_new , columns=['city_id1'])"
      ],
      "execution_count": 0,
      "outputs": []
    },
    {
      "cell_type": "markdown",
      "metadata": {
        "id": "7tcFrt2q_PDd",
        "colab_type": "text"
      },
      "source": [
        "## After steps of data manipulation , we again separate datasets , to train and test datasets before trying predictions algorithms to predict n_clicks"
      ]
    },
    {
      "cell_type": "code",
      "metadata": {
        "id": "1a6kn9pG9f-6",
        "colab_type": "code",
        "colab": {}
      },
      "source": [
        "train_final=train_final.loc[train_final['train'] ==1 ,: ]"
      ],
      "execution_count": 0,
      "outputs": []
    },
    {
      "cell_type": "code",
      "metadata": {
        "id": "dvR-q-Fs9p4M",
        "colab_type": "code",
        "colab": {}
      },
      "source": [
        "test_final = train_final.loc[train_final['train'] ==0 ,: ]"
      ],
      "execution_count": 0,
      "outputs": []
    },
    {
      "cell_type": "code",
      "metadata": {
        "id": "q_6to6Q897PZ",
        "colab_type": "code",
        "colab": {}
      },
      "source": [
        "train_final1=train_final.copy()"
      ],
      "execution_count": 0,
      "outputs": []
    },
    {
      "cell_type": "markdown",
      "metadata": {
        "id": "SsYRD57Tf_wN",
        "colab_type": "text"
      },
      "source": [
        "#### then for better estimation we try log transformation to get rid of skewness in the predictors"
      ]
    },
    {
      "cell_type": "code",
      "metadata": {
        "id": "RSYYaMQ4kuo1",
        "colab_type": "code",
        "colab": {}
      },
      "source": [
        "train_final1[numeric_feats] = np.log1p(train_final1[numeric_feats])\n",
        "\n",
        "\n"
      ],
      "execution_count": 0,
      "outputs": []
    },
    {
      "cell_type": "code",
      "metadata": {
        "id": "X1S7Querm9kB",
        "colab_type": "code",
        "outputId": "db62213f-cf47-490f-83cb-73dd5b7e3cae",
        "colab": {
          "base_uri": "https://localhost:8080/",
          "height": 1000
        }
      },
      "source": [
        " for i in numeric_feats:\n",
        "  print('distribution of ' , i)\n",
        "  sns.distplot(train_final1.loc[np.isnan(train_final1[i]) == 0 ,:][i])\n",
        "  plt.show()"
      ],
      "execution_count": 75,
      "outputs": [
        {
          "output_type": "stream",
          "text": [
            "distribution of  content_score\n"
          ],
          "name": "stdout"
        },
        {
          "output_type": "display_data",
          "data": {
            "image/png": "[encoded data removed]",
            "text/plain": [
              "<Figure size 432x288 with 1 Axes>"
            ]
          },
          "metadata": {
            "tags": []
          }
        },
        {
          "output_type": "stream",
          "text": [
            "distribution of  n_images\n"
          ],
          "name": "stdout"
        },
        {
          "output_type": "display_data",
          "data": {
            "image/png": "[encoded data removed]",
            "text/plain": [
              "<Figure size 432x288 with 1 Axes>"
            ]
          },
          "metadata": {
            "tags": []
          }
        },
        {
          "output_type": "stream",
          "text": [
            "distribution of  distance_to_center\n"
          ],
          "name": "stdout"
        },
        {
          "output_type": "display_data",
          "data": {
            "image/png": "[encoded data removed]",
            "text/plain": [
              "<Figure size 432x288 with 1 Axes>"
            ]
          },
          "metadata": {
            "tags": []
          }
        },
        {
          "output_type": "stream",
          "text": [
            "distribution of  stars\n"
          ],
          "name": "stdout"
        },
        {
          "output_type": "display_data",
          "data": {
            "image/png": "[encoded data removed]",
            "text/plain": [
              "<Figure size 432x288 with 1 Axes>"
            ]
          },
          "metadata": {
            "tags": []
          }
        },
        {
          "output_type": "stream",
          "text": [
            "distribution of  n_reviews\n"
          ],
          "name": "stdout"
        },
        {
          "output_type": "display_data",
          "data": {
            "image/png": "[encoded data removed]",
            "text/plain": [
              "<Figure size 432x288 with 1 Axes>"
            ]
          },
          "metadata": {
            "tags": []
          }
        },
        {
          "output_type": "stream",
          "text": [
            "distribution of  avg_rank\n"
          ],
          "name": "stdout"
        },
        {
          "output_type": "display_data",
          "data": {
            "image/png": "[encoded data removed]",
            "text/plain": [
              "<Figure size 432x288 with 1 Axes>"
            ]
          },
          "metadata": {
            "tags": []
          }
        },
        {
          "output_type": "stream",
          "text": [
            "distribution of  avg_price\n"
          ],
          "name": "stdout"
        },
        {
          "output_type": "display_data",
          "data": {
            "image/png": "[encoded data removed]",
            "text/plain": [
              "<Figure size 432x288 with 1 Axes>"
            ]
          },
          "metadata": {
            "tags": []
          }
        },
        {
          "output_type": "stream",
          "text": [
            "distribution of  avg_saving_percent\n"
          ],
          "name": "stdout"
        },
        {
          "output_type": "display_data",
          "data": {
            "image/png": "[encoded data removed]",
            "text/plain": [
              "<Figure size 432x288 with 1 Axes>"
            ]
          },
          "metadata": {
            "tags": []
          }
        }
      ]
    },
    {
      "cell_type": "markdown",
      "metadata": {
        "id": "IQxZjN52gLqA",
        "colab_type": "text"
      },
      "source": [
        ""
      ]
    },
    {
      "cell_type": "code",
      "metadata": {
        "id": "wsdgRlFtvXMS",
        "colab_type": "code",
        "outputId": "465cf12e-c3a1-4937-a032-e3090b139cf8",
        "colab": {
          "base_uri": "https://localhost:8080/",
          "height": 247
        }
      },
      "source": [
        "train_final1.head()"
      ],
      "execution_count": 76,
      "outputs": [
        {
          "output_type": "execute_result",
          "data": {
            "text/html": [
              "<div>\n",
              "<style scoped>\n",
              "    .dataframe tbody tr th:only-of-type {\n",
              "        vertical-align: middle;\n",
              "    }\n",
              "\n",
              "    .dataframe tbody tr th {\n",
              "        vertical-align: top;\n",
              "    }\n",
              "\n",
              "    .dataframe thead th {\n",
              "        text-align: right;\n",
              "    }\n",
              "</style>\n",
              "<table border=\"1\" class=\"dataframe\">\n",
              "  <thead>\n",
              "    <tr style=\"text-align: right;\">\n",
              "      <th></th>\n",
              "      <th>avg_price</th>\n",
              "      <th>avg_rank</th>\n",
              "      <th>avg_rating</th>\n",
              "      <th>avg_saving_percent</th>\n",
              "      <th>city_id</th>\n",
              "      <th>content_score</th>\n",
              "      <th>distance_to_center</th>\n",
              "      <th>n_clicks</th>\n",
              "      <th>n_images</th>\n",
              "      <th>n_reviews</th>\n",
              "      <th>stars</th>\n",
              "      <th>train</th>\n",
              "      <th>city_id1_0.0</th>\n",
              "      <th>city_id1_7696.0</th>\n",
              "      <th>city_id1_26874.0</th>\n",
              "      <th>city_id1_29468.0</th>\n",
              "      <th>city_id1_30576.0</th>\n",
              "      <th>city_id1_31786.0</th>\n",
              "      <th>city_id1_34798.0</th>\n",
              "      <th>city_id1_44470.0</th>\n",
              "      <th>city_id1_46884.0</th>\n",
              "      <th>city_id1_50168.0</th>\n",
              "      <th>city_id1_53222.0</th>\n",
              "      <th>city_id1_53604.0</th>\n",
              "      <th>city_id1_55122.0</th>\n",
              "      <th>city_id1_63440.0</th>\n",
              "      <th>city_id1_133754.0</th>\n",
              "      <th>city_id1_133876.0</th>\n",
              "    </tr>\n",
              "    <tr>\n",
              "      <th>hotel_id</th>\n",
              "      <th></th>\n",
              "      <th></th>\n",
              "      <th></th>\n",
              "      <th></th>\n",
              "      <th></th>\n",
              "      <th></th>\n",
              "      <th></th>\n",
              "      <th></th>\n",
              "      <th></th>\n",
              "      <th></th>\n",
              "      <th></th>\n",
              "      <th></th>\n",
              "      <th></th>\n",
              "      <th></th>\n",
              "      <th></th>\n",
              "      <th></th>\n",
              "      <th></th>\n",
              "      <th></th>\n",
              "      <th></th>\n",
              "      <th></th>\n",
              "      <th></th>\n",
              "      <th></th>\n",
              "      <th></th>\n",
              "      <th></th>\n",
              "      <th></th>\n",
              "      <th></th>\n",
              "      <th></th>\n",
              "      <th></th>\n",
              "    </tr>\n",
              "  </thead>\n",
              "  <tbody>\n",
              "    <tr>\n",
              "      <th>97674063206.00</th>\n",
              "      <td>4.41</td>\n",
              "      <td>2.92</td>\n",
              "      <td>77.00</td>\n",
              "      <td>2.94</td>\n",
              "      <td>134520.0</td>\n",
              "      <td>4.26</td>\n",
              "      <td>7.09</td>\n",
              "      <td>0.00</td>\n",
              "      <td>1.10</td>\n",
              "      <td>6.76</td>\n",
              "      <td>1.61</td>\n",
              "      <td>1</td>\n",
              "      <td>1</td>\n",
              "      <td>0</td>\n",
              "      <td>0</td>\n",
              "      <td>0</td>\n",
              "      <td>0</td>\n",
              "      <td>0</td>\n",
              "      <td>0</td>\n",
              "      <td>0</td>\n",
              "      <td>0</td>\n",
              "      <td>0</td>\n",
              "      <td>0</td>\n",
              "      <td>0</td>\n",
              "      <td>0</td>\n",
              "      <td>0</td>\n",
              "      <td>0</td>\n",
              "      <td>0</td>\n",
              "    </tr>\n",
              "    <tr>\n",
              "      <th>97688892034.00</th>\n",
              "      <td>5.25</td>\n",
              "      <td>2.91</td>\n",
              "      <td>90.00</td>\n",
              "      <td>3.37</td>\n",
              "      <td>133876.0</td>\n",
              "      <td>4.22</td>\n",
              "      <td>9.44</td>\n",
              "      <td>4.00</td>\n",
              "      <td>1.39</td>\n",
              "      <td>8.38</td>\n",
              "      <td>1.61</td>\n",
              "      <td>1</td>\n",
              "      <td>0</td>\n",
              "      <td>0</td>\n",
              "      <td>0</td>\n",
              "      <td>0</td>\n",
              "      <td>0</td>\n",
              "      <td>0</td>\n",
              "      <td>0</td>\n",
              "      <td>0</td>\n",
              "      <td>0</td>\n",
              "      <td>0</td>\n",
              "      <td>0</td>\n",
              "      <td>0</td>\n",
              "      <td>0</td>\n",
              "      <td>0</td>\n",
              "      <td>0</td>\n",
              "      <td>1</td>\n",
              "    </tr>\n",
              "    <tr>\n",
              "      <th>98115438910.00</th>\n",
              "      <td>4.07</td>\n",
              "      <td>2.86</td>\n",
              "      <td>83.00</td>\n",
              "      <td>3.33</td>\n",
              "      <td>133732.0</td>\n",
              "      <td>3.69</td>\n",
              "      <td>10.06</td>\n",
              "      <td>44.00</td>\n",
              "      <td>1.39</td>\n",
              "      <td>6.91</td>\n",
              "      <td>1.39</td>\n",
              "      <td>1</td>\n",
              "      <td>1</td>\n",
              "      <td>0</td>\n",
              "      <td>0</td>\n",
              "      <td>0</td>\n",
              "      <td>0</td>\n",
              "      <td>0</td>\n",
              "      <td>0</td>\n",
              "      <td>0</td>\n",
              "      <td>0</td>\n",
              "      <td>0</td>\n",
              "      <td>0</td>\n",
              "      <td>0</td>\n",
              "      <td>0</td>\n",
              "      <td>0</td>\n",
              "      <td>0</td>\n",
              "      <td>0</td>\n",
              "    </tr>\n",
              "    <tr>\n",
              "      <th>98242792374.00</th>\n",
              "      <td>4.29</td>\n",
              "      <td>2.08</td>\n",
              "      <td>73.00</td>\n",
              "      <td>1.10</td>\n",
              "      <td>43772.0</td>\n",
              "      <td>4.09</td>\n",
              "      <td>8.10</td>\n",
              "      <td>4.00</td>\n",
              "      <td>2.20</td>\n",
              "      <td>8.03</td>\n",
              "      <td>1.10</td>\n",
              "      <td>1</td>\n",
              "      <td>1</td>\n",
              "      <td>0</td>\n",
              "      <td>0</td>\n",
              "      <td>0</td>\n",
              "      <td>0</td>\n",
              "      <td>0</td>\n",
              "      <td>0</td>\n",
              "      <td>0</td>\n",
              "      <td>0</td>\n",
              "      <td>0</td>\n",
              "      <td>0</td>\n",
              "      <td>0</td>\n",
              "      <td>0</td>\n",
              "      <td>0</td>\n",
              "      <td>0</td>\n",
              "      <td>0</td>\n",
              "    </tr>\n",
              "    <tr>\n",
              "      <th>98334382194.00</th>\n",
              "      <td>5.16</td>\n",
              "      <td>2.61</td>\n",
              "      <td>80.00</td>\n",
              "      <td>0.00</td>\n",
              "      <td>50532.0</td>\n",
              "      <td>4.20</td>\n",
              "      <td>5.67</td>\n",
              "      <td>10.00</td>\n",
              "      <td>0.69</td>\n",
              "      <td>6.40</td>\n",
              "      <td>0.00</td>\n",
              "      <td>1</td>\n",
              "      <td>1</td>\n",
              "      <td>0</td>\n",
              "      <td>0</td>\n",
              "      <td>0</td>\n",
              "      <td>0</td>\n",
              "      <td>0</td>\n",
              "      <td>0</td>\n",
              "      <td>0</td>\n",
              "      <td>0</td>\n",
              "      <td>0</td>\n",
              "      <td>0</td>\n",
              "      <td>0</td>\n",
              "      <td>0</td>\n",
              "      <td>0</td>\n",
              "      <td>0</td>\n",
              "      <td>0</td>\n",
              "    </tr>\n",
              "  </tbody>\n",
              "</table>\n",
              "</div>"
            ],
            "text/plain": [
              "                avg_price  avg_rank  ...  city_id1_133754.0  city_id1_133876.0\n",
              "hotel_id                             ...                                      \n",
              "97674063206.00       4.41      2.92  ...                  0                  0\n",
              "97688892034.00       5.25      2.91  ...                  0                  1\n",
              "98115438910.00       4.07      2.86  ...                  0                  0\n",
              "98242792374.00       4.29      2.08  ...                  0                  0\n",
              "98334382194.00       5.16      2.61  ...                  0                  0\n",
              "\n",
              "[5 rows x 28 columns]"
            ]
          },
          "metadata": {
            "tags": []
          },
          "execution_count": 76
        }
      ]
    },
    {
      "cell_type": "code",
      "metadata": {
        "id": "dGrl7t6Evbsz",
        "colab_type": "code",
        "outputId": "189b5baf-89ce-4839-fc66-30e1fbe2c6d2",
        "colab": {
          "base_uri": "https://localhost:8080/",
          "height": 566
        }
      },
      "source": [
        "train_final1.info()"
      ],
      "execution_count": 77,
      "outputs": [
        {
          "output_type": "stream",
          "text": [
            "<class 'pandas.core.frame.DataFrame'>\n",
            "Float64Index: 395979 entries, 97674063206.0 to 229370753854.0\n",
            "Data columns (total 28 columns):\n",
            "avg_price             395979 non-null float64\n",
            "avg_rank              395979 non-null float64\n",
            "avg_rating            395979 non-null float64\n",
            "avg_saving_percent    395979 non-null float64\n",
            "city_id               395979 non-null object\n",
            "content_score         395979 non-null float64\n",
            "distance_to_center    395979 non-null float64\n",
            "n_clicks              395979 non-null float64\n",
            "n_images              395979 non-null float64\n",
            "n_reviews             395979 non-null float64\n",
            "stars                 395979 non-null float64\n",
            "train                 395979 non-null int64\n",
            "city_id1_0.0          395979 non-null uint8\n",
            "city_id1_7696.0       395979 non-null uint8\n",
            "city_id1_26874.0      395979 non-null uint8\n",
            "city_id1_29468.0      395979 non-null uint8\n",
            "city_id1_30576.0      395979 non-null uint8\n",
            "city_id1_31786.0      395979 non-null uint8\n",
            "city_id1_34798.0      395979 non-null uint8\n",
            "city_id1_44470.0      395979 non-null uint8\n",
            "city_id1_46884.0      395979 non-null uint8\n",
            "city_id1_50168.0      395979 non-null uint8\n",
            "city_id1_53222.0      395979 non-null uint8\n",
            "city_id1_53604.0      395979 non-null uint8\n",
            "city_id1_55122.0      395979 non-null uint8\n",
            "city_id1_63440.0      395979 non-null uint8\n",
            "city_id1_133754.0     395979 non-null uint8\n",
            "city_id1_133876.0     395979 non-null uint8\n",
            "dtypes: float64(10), int64(1), object(1), uint8(16)\n",
            "memory usage: 45.3+ MB\n"
          ],
          "name": "stdout"
        }
      ]
    },
    {
      "cell_type": "code",
      "metadata": {
        "id": "fyUwEUUrviKM",
        "colab_type": "code",
        "colab": {}
      },
      "source": [
        "train_final1=train_final1.drop(columns=['city_id1_0.0' , 'city_id'])"
      ],
      "execution_count": 0,
      "outputs": []
    },
    {
      "cell_type": "code",
      "metadata": {
        "id": "KgT2omB1v2HZ",
        "colab_type": "code",
        "outputId": "238024e4-6d04-4a7e-9c15-abf7f0348725",
        "colab": {
          "base_uri": "https://localhost:8080/",
          "height": 533
        }
      },
      "source": [
        "train_final1.info()"
      ],
      "execution_count": 79,
      "outputs": [
        {
          "output_type": "stream",
          "text": [
            "<class 'pandas.core.frame.DataFrame'>\n",
            "Float64Index: 395979 entries, 97674063206.0 to 229370753854.0\n",
            "Data columns (total 26 columns):\n",
            "avg_price             395979 non-null float64\n",
            "avg_rank              395979 non-null float64\n",
            "avg_rating            395979 non-null float64\n",
            "avg_saving_percent    395979 non-null float64\n",
            "content_score         395979 non-null float64\n",
            "distance_to_center    395979 non-null float64\n",
            "n_clicks              395979 non-null float64\n",
            "n_images              395979 non-null float64\n",
            "n_reviews             395979 non-null float64\n",
            "stars                 395979 non-null float64\n",
            "train                 395979 non-null int64\n",
            "city_id1_7696.0       395979 non-null uint8\n",
            "city_id1_26874.0      395979 non-null uint8\n",
            "city_id1_29468.0      395979 non-null uint8\n",
            "city_id1_30576.0      395979 non-null uint8\n",
            "city_id1_31786.0      395979 non-null uint8\n",
            "city_id1_34798.0      395979 non-null uint8\n",
            "city_id1_44470.0      395979 non-null uint8\n",
            "city_id1_46884.0      395979 non-null uint8\n",
            "city_id1_50168.0      395979 non-null uint8\n",
            "city_id1_53222.0      395979 non-null uint8\n",
            "city_id1_53604.0      395979 non-null uint8\n",
            "city_id1_55122.0      395979 non-null uint8\n",
            "city_id1_63440.0      395979 non-null uint8\n",
            "city_id1_133754.0     395979 non-null uint8\n",
            "city_id1_133876.0     395979 non-null uint8\n",
            "dtypes: float64(10), int64(1), uint8(15)\n",
            "memory usage: 41.9 MB\n"
          ],
          "name": "stdout"
        }
      ]
    },
    {
      "cell_type": "code",
      "metadata": {
        "id": "CiqfhDVRyCzE",
        "colab_type": "code",
        "outputId": "31251821-3f02-44d1-ca27-1034b9ad5af5",
        "colab": {
          "base_uri": "https://localhost:8080/",
          "height": 247
        }
      },
      "source": [
        "train_final1.head()"
      ],
      "execution_count": 80,
      "outputs": [
        {
          "output_type": "execute_result",
          "data": {
            "text/html": [
              "<div>\n",
              "<style scoped>\n",
              "    .dataframe tbody tr th:only-of-type {\n",
              "        vertical-align: middle;\n",
              "    }\n",
              "\n",
              "    .dataframe tbody tr th {\n",
              "        vertical-align: top;\n",
              "    }\n",
              "\n",
              "    .dataframe thead th {\n",
              "        text-align: right;\n",
              "    }\n",
              "</style>\n",
              "<table border=\"1\" class=\"dataframe\">\n",
              "  <thead>\n",
              "    <tr style=\"text-align: right;\">\n",
              "      <th></th>\n",
              "      <th>avg_price</th>\n",
              "      <th>avg_rank</th>\n",
              "      <th>avg_rating</th>\n",
              "      <th>avg_saving_percent</th>\n",
              "      <th>content_score</th>\n",
              "      <th>distance_to_center</th>\n",
              "      <th>n_clicks</th>\n",
              "      <th>n_images</th>\n",
              "      <th>n_reviews</th>\n",
              "      <th>stars</th>\n",
              "      <th>train</th>\n",
              "      <th>city_id1_7696.0</th>\n",
              "      <th>city_id1_26874.0</th>\n",
              "      <th>city_id1_29468.0</th>\n",
              "      <th>city_id1_30576.0</th>\n",
              "      <th>city_id1_31786.0</th>\n",
              "      <th>city_id1_34798.0</th>\n",
              "      <th>city_id1_44470.0</th>\n",
              "      <th>city_id1_46884.0</th>\n",
              "      <th>city_id1_50168.0</th>\n",
              "      <th>city_id1_53222.0</th>\n",
              "      <th>city_id1_53604.0</th>\n",
              "      <th>city_id1_55122.0</th>\n",
              "      <th>city_id1_63440.0</th>\n",
              "      <th>city_id1_133754.0</th>\n",
              "      <th>city_id1_133876.0</th>\n",
              "    </tr>\n",
              "    <tr>\n",
              "      <th>hotel_id</th>\n",
              "      <th></th>\n",
              "      <th></th>\n",
              "      <th></th>\n",
              "      <th></th>\n",
              "      <th></th>\n",
              "      <th></th>\n",
              "      <th></th>\n",
              "      <th></th>\n",
              "      <th></th>\n",
              "      <th></th>\n",
              "      <th></th>\n",
              "      <th></th>\n",
              "      <th></th>\n",
              "      <th></th>\n",
              "      <th></th>\n",
              "      <th></th>\n",
              "      <th></th>\n",
              "      <th></th>\n",
              "      <th></th>\n",
              "      <th></th>\n",
              "      <th></th>\n",
              "      <th></th>\n",
              "      <th></th>\n",
              "      <th></th>\n",
              "      <th></th>\n",
              "      <th></th>\n",
              "    </tr>\n",
              "  </thead>\n",
              "  <tbody>\n",
              "    <tr>\n",
              "      <th>97674063206.00</th>\n",
              "      <td>4.41</td>\n",
              "      <td>2.92</td>\n",
              "      <td>77.00</td>\n",
              "      <td>2.94</td>\n",
              "      <td>4.26</td>\n",
              "      <td>7.09</td>\n",
              "      <td>0.00</td>\n",
              "      <td>1.10</td>\n",
              "      <td>6.76</td>\n",
              "      <td>1.61</td>\n",
              "      <td>1</td>\n",
              "      <td>0</td>\n",
              "      <td>0</td>\n",
              "      <td>0</td>\n",
              "      <td>0</td>\n",
              "      <td>0</td>\n",
              "      <td>0</td>\n",
              "      <td>0</td>\n",
              "      <td>0</td>\n",
              "      <td>0</td>\n",
              "      <td>0</td>\n",
              "      <td>0</td>\n",
              "      <td>0</td>\n",
              "      <td>0</td>\n",
              "      <td>0</td>\n",
              "      <td>0</td>\n",
              "    </tr>\n",
              "    <tr>\n",
              "      <th>97688892034.00</th>\n",
              "      <td>5.25</td>\n",
              "      <td>2.91</td>\n",
              "      <td>90.00</td>\n",
              "      <td>3.37</td>\n",
              "      <td>4.22</td>\n",
              "      <td>9.44</td>\n",
              "      <td>4.00</td>\n",
              "      <td>1.39</td>\n",
              "      <td>8.38</td>\n",
              "      <td>1.61</td>\n",
              "      <td>1</td>\n",
              "      <td>0</td>\n",
              "      <td>0</td>\n",
              "      <td>0</td>\n",
              "      <td>0</td>\n",
              "      <td>0</td>\n",
              "      <td>0</td>\n",
              "      <td>0</td>\n",
              "      <td>0</td>\n",
              "      <td>0</td>\n",
              "      <td>0</td>\n",
              "      <td>0</td>\n",
              "      <td>0</td>\n",
              "      <td>0</td>\n",
              "      <td>0</td>\n",
              "      <td>1</td>\n",
              "    </tr>\n",
              "    <tr>\n",
              "      <th>98115438910.00</th>\n",
              "      <td>4.07</td>\n",
              "      <td>2.86</td>\n",
              "      <td>83.00</td>\n",
              "      <td>3.33</td>\n",
              "      <td>3.69</td>\n",
              "      <td>10.06</td>\n",
              "      <td>44.00</td>\n",
              "      <td>1.39</td>\n",
              "      <td>6.91</td>\n",
              "      <td>1.39</td>\n",
              "      <td>1</td>\n",
              "      <td>0</td>\n",
              "      <td>0</td>\n",
              "      <td>0</td>\n",
              "      <td>0</td>\n",
              "      <td>0</td>\n",
              "      <td>0</td>\n",
              "      <td>0</td>\n",
              "      <td>0</td>\n",
              "      <td>0</td>\n",
              "      <td>0</td>\n",
              "      <td>0</td>\n",
              "      <td>0</td>\n",
              "      <td>0</td>\n",
              "      <td>0</td>\n",
              "      <td>0</td>\n",
              "    </tr>\n",
              "    <tr>\n",
              "      <th>98242792374.00</th>\n",
              "      <td>4.29</td>\n",
              "      <td>2.08</td>\n",
              "      <td>73.00</td>\n",
              "      <td>1.10</td>\n",
              "      <td>4.09</td>\n",
              "      <td>8.10</td>\n",
              "      <td>4.00</td>\n",
              "      <td>2.20</td>\n",
              "      <td>8.03</td>\n",
              "      <td>1.10</td>\n",
              "      <td>1</td>\n",
              "      <td>0</td>\n",
              "      <td>0</td>\n",
              "      <td>0</td>\n",
              "      <td>0</td>\n",
              "      <td>0</td>\n",
              "      <td>0</td>\n",
              "      <td>0</td>\n",
              "      <td>0</td>\n",
              "      <td>0</td>\n",
              "      <td>0</td>\n",
              "      <td>0</td>\n",
              "      <td>0</td>\n",
              "      <td>0</td>\n",
              "      <td>0</td>\n",
              "      <td>0</td>\n",
              "    </tr>\n",
              "    <tr>\n",
              "      <th>98334382194.00</th>\n",
              "      <td>5.16</td>\n",
              "      <td>2.61</td>\n",
              "      <td>80.00</td>\n",
              "      <td>0.00</td>\n",
              "      <td>4.20</td>\n",
              "      <td>5.67</td>\n",
              "      <td>10.00</td>\n",
              "      <td>0.69</td>\n",
              "      <td>6.40</td>\n",
              "      <td>0.00</td>\n",
              "      <td>1</td>\n",
              "      <td>0</td>\n",
              "      <td>0</td>\n",
              "      <td>0</td>\n",
              "      <td>0</td>\n",
              "      <td>0</td>\n",
              "      <td>0</td>\n",
              "      <td>0</td>\n",
              "      <td>0</td>\n",
              "      <td>0</td>\n",
              "      <td>0</td>\n",
              "      <td>0</td>\n",
              "      <td>0</td>\n",
              "      <td>0</td>\n",
              "      <td>0</td>\n",
              "      <td>0</td>\n",
              "    </tr>\n",
              "  </tbody>\n",
              "</table>\n",
              "</div>"
            ],
            "text/plain": [
              "                avg_price  avg_rank  ...  city_id1_133754.0  city_id1_133876.0\n",
              "hotel_id                             ...                                      \n",
              "97674063206.00       4.41      2.92  ...                  0                  0\n",
              "97688892034.00       5.25      2.91  ...                  0                  1\n",
              "98115438910.00       4.07      2.86  ...                  0                  0\n",
              "98242792374.00       4.29      2.08  ...                  0                  0\n",
              "98334382194.00       5.16      2.61  ...                  0                  0\n",
              "\n",
              "[5 rows x 26 columns]"
            ]
          },
          "metadata": {
            "tags": []
          },
          "execution_count": 80
        }
      ]
    },
    {
      "cell_type": "markdown",
      "metadata": {
        "id": "XWc7LXGBgO4F",
        "colab_type": "text"
      },
      "source": [
        "### we notice that data is still skewed , since log transformation may need to lower score , especially if used log-log transformation , and also it did not succed in fixing skewness in predictors , we first use data as it is "
      ]
    },
    {
      "cell_type": "code",
      "metadata": {
        "id": "44ZOwOQdjT-c",
        "colab_type": "code",
        "outputId": "b35fc18a-36c8-45e3-cf6b-657f5a7fafaa",
        "colab": {
          "base_uri": "https://localhost:8080/",
          "height": 247
        }
      },
      "source": [
        "train_final.head()"
      ],
      "execution_count": 81,
      "outputs": [
        {
          "output_type": "execute_result",
          "data": {
            "text/html": [
              "<div>\n",
              "<style scoped>\n",
              "    .dataframe tbody tr th:only-of-type {\n",
              "        vertical-align: middle;\n",
              "    }\n",
              "\n",
              "    .dataframe tbody tr th {\n",
              "        vertical-align: top;\n",
              "    }\n",
              "\n",
              "    .dataframe thead th {\n",
              "        text-align: right;\n",
              "    }\n",
              "</style>\n",
              "<table border=\"1\" class=\"dataframe\">\n",
              "  <thead>\n",
              "    <tr style=\"text-align: right;\">\n",
              "      <th></th>\n",
              "      <th>avg_price</th>\n",
              "      <th>avg_rank</th>\n",
              "      <th>avg_rating</th>\n",
              "      <th>avg_saving_percent</th>\n",
              "      <th>city_id</th>\n",
              "      <th>content_score</th>\n",
              "      <th>distance_to_center</th>\n",
              "      <th>n_clicks</th>\n",
              "      <th>n_images</th>\n",
              "      <th>n_reviews</th>\n",
              "      <th>stars</th>\n",
              "      <th>train</th>\n",
              "      <th>city_id1_0.0</th>\n",
              "      <th>city_id1_7696.0</th>\n",
              "      <th>city_id1_26874.0</th>\n",
              "      <th>city_id1_29468.0</th>\n",
              "      <th>city_id1_30576.0</th>\n",
              "      <th>city_id1_31786.0</th>\n",
              "      <th>city_id1_34798.0</th>\n",
              "      <th>city_id1_44470.0</th>\n",
              "      <th>city_id1_46884.0</th>\n",
              "      <th>city_id1_50168.0</th>\n",
              "      <th>city_id1_53222.0</th>\n",
              "      <th>city_id1_53604.0</th>\n",
              "      <th>city_id1_55122.0</th>\n",
              "      <th>city_id1_63440.0</th>\n",
              "      <th>city_id1_133754.0</th>\n",
              "      <th>city_id1_133876.0</th>\n",
              "    </tr>\n",
              "    <tr>\n",
              "      <th>hotel_id</th>\n",
              "      <th></th>\n",
              "      <th></th>\n",
              "      <th></th>\n",
              "      <th></th>\n",
              "      <th></th>\n",
              "      <th></th>\n",
              "      <th></th>\n",
              "      <th></th>\n",
              "      <th></th>\n",
              "      <th></th>\n",
              "      <th></th>\n",
              "      <th></th>\n",
              "      <th></th>\n",
              "      <th></th>\n",
              "      <th></th>\n",
              "      <th></th>\n",
              "      <th></th>\n",
              "      <th></th>\n",
              "      <th></th>\n",
              "      <th></th>\n",
              "      <th></th>\n",
              "      <th></th>\n",
              "      <th></th>\n",
              "      <th></th>\n",
              "      <th></th>\n",
              "      <th></th>\n",
              "      <th></th>\n",
              "      <th></th>\n",
              "    </tr>\n",
              "  </thead>\n",
              "  <tbody>\n",
              "    <tr>\n",
              "      <th>97674063206.00</th>\n",
              "      <td>81.64</td>\n",
              "      <td>17.55</td>\n",
              "      <td>77.00</td>\n",
              "      <td>18.00</td>\n",
              "      <td>134520.0</td>\n",
              "      <td>70.00</td>\n",
              "      <td>1199.00</td>\n",
              "      <td>0.00</td>\n",
              "      <td>2.00</td>\n",
              "      <td>861.00</td>\n",
              "      <td>4.00</td>\n",
              "      <td>1</td>\n",
              "      <td>1</td>\n",
              "      <td>0</td>\n",
              "      <td>0</td>\n",
              "      <td>0</td>\n",
              "      <td>0</td>\n",
              "      <td>0</td>\n",
              "      <td>0</td>\n",
              "      <td>0</td>\n",
              "      <td>0</td>\n",
              "      <td>0</td>\n",
              "      <td>0</td>\n",
              "      <td>0</td>\n",
              "      <td>0</td>\n",
              "      <td>0</td>\n",
              "      <td>0</td>\n",
              "      <td>0</td>\n",
              "    </tr>\n",
              "    <tr>\n",
              "      <th>97688892034.00</th>\n",
              "      <td>189.38</td>\n",
              "      <td>17.38</td>\n",
              "      <td>90.00</td>\n",
              "      <td>28.00</td>\n",
              "      <td>133876.0</td>\n",
              "      <td>67.00</td>\n",
              "      <td>12585.00</td>\n",
              "      <td>4.00</td>\n",
              "      <td>3.00</td>\n",
              "      <td>4371.00</td>\n",
              "      <td>4.00</td>\n",
              "      <td>1</td>\n",
              "      <td>0</td>\n",
              "      <td>0</td>\n",
              "      <td>0</td>\n",
              "      <td>0</td>\n",
              "      <td>0</td>\n",
              "      <td>0</td>\n",
              "      <td>0</td>\n",
              "      <td>0</td>\n",
              "      <td>0</td>\n",
              "      <td>0</td>\n",
              "      <td>0</td>\n",
              "      <td>0</td>\n",
              "      <td>0</td>\n",
              "      <td>0</td>\n",
              "      <td>0</td>\n",
              "      <td>1</td>\n",
              "    </tr>\n",
              "    <tr>\n",
              "      <th>98115438910.00</th>\n",
              "      <td>57.63</td>\n",
              "      <td>16.44</td>\n",
              "      <td>83.00</td>\n",
              "      <td>27.00</td>\n",
              "      <td>133732.0</td>\n",
              "      <td>39.00</td>\n",
              "      <td>23491.00</td>\n",
              "      <td>44.00</td>\n",
              "      <td>3.00</td>\n",
              "      <td>1005.00</td>\n",
              "      <td>3.00</td>\n",
              "      <td>1</td>\n",
              "      <td>1</td>\n",
              "      <td>0</td>\n",
              "      <td>0</td>\n",
              "      <td>0</td>\n",
              "      <td>0</td>\n",
              "      <td>0</td>\n",
              "      <td>0</td>\n",
              "      <td>0</td>\n",
              "      <td>0</td>\n",
              "      <td>0</td>\n",
              "      <td>0</td>\n",
              "      <td>0</td>\n",
              "      <td>0</td>\n",
              "      <td>0</td>\n",
              "      <td>0</td>\n",
              "      <td>0</td>\n",
              "    </tr>\n",
              "    <tr>\n",
              "      <th>98242792374.00</th>\n",
              "      <td>72.16</td>\n",
              "      <td>7.00</td>\n",
              "      <td>73.00</td>\n",
              "      <td>2.00</td>\n",
              "      <td>43772.0</td>\n",
              "      <td>59.00</td>\n",
              "      <td>3291.00</td>\n",
              "      <td>4.00</td>\n",
              "      <td>8.00</td>\n",
              "      <td>3084.00</td>\n",
              "      <td>2.00</td>\n",
              "      <td>1</td>\n",
              "      <td>1</td>\n",
              "      <td>0</td>\n",
              "      <td>0</td>\n",
              "      <td>0</td>\n",
              "      <td>0</td>\n",
              "      <td>0</td>\n",
              "      <td>0</td>\n",
              "      <td>0</td>\n",
              "      <td>0</td>\n",
              "      <td>0</td>\n",
              "      <td>0</td>\n",
              "      <td>0</td>\n",
              "      <td>0</td>\n",
              "      <td>0</td>\n",
              "      <td>0</td>\n",
              "      <td>0</td>\n",
              "    </tr>\n",
              "    <tr>\n",
              "      <th>98334382194.00</th>\n",
              "      <td>173.25</td>\n",
              "      <td>12.56</td>\n",
              "      <td>80.00</td>\n",
              "      <td>0.00</td>\n",
              "      <td>50532.0</td>\n",
              "      <td>66.00</td>\n",
              "      <td>288.00</td>\n",
              "      <td>10.00</td>\n",
              "      <td>1.00</td>\n",
              "      <td>603.00</td>\n",
              "      <td>0.00</td>\n",
              "      <td>1</td>\n",
              "      <td>1</td>\n",
              "      <td>0</td>\n",
              "      <td>0</td>\n",
              "      <td>0</td>\n",
              "      <td>0</td>\n",
              "      <td>0</td>\n",
              "      <td>0</td>\n",
              "      <td>0</td>\n",
              "      <td>0</td>\n",
              "      <td>0</td>\n",
              "      <td>0</td>\n",
              "      <td>0</td>\n",
              "      <td>0</td>\n",
              "      <td>0</td>\n",
              "      <td>0</td>\n",
              "      <td>0</td>\n",
              "    </tr>\n",
              "  </tbody>\n",
              "</table>\n",
              "</div>"
            ],
            "text/plain": [
              "                avg_price  avg_rank  ...  city_id1_133754.0  city_id1_133876.0\n",
              "hotel_id                             ...                                      \n",
              "97674063206.00      81.64     17.55  ...                  0                  0\n",
              "97688892034.00     189.38     17.38  ...                  0                  1\n",
              "98115438910.00      57.63     16.44  ...                  0                  0\n",
              "98242792374.00      72.16      7.00  ...                  0                  0\n",
              "98334382194.00     173.25     12.56  ...                  0                  0\n",
              "\n",
              "[5 rows x 28 columns]"
            ]
          },
          "metadata": {
            "tags": []
          },
          "execution_count": 81
        }
      ]
    },
    {
      "cell_type": "code",
      "metadata": {
        "id": "bf7fchbejn7K",
        "colab_type": "code",
        "colab": {}
      },
      "source": [
        ""
      ],
      "execution_count": 0,
      "outputs": []
    },
    {
      "cell_type": "code",
      "metadata": {
        "id": "47L3ADq6wIkr",
        "colab_type": "code",
        "colab": {}
      },
      "source": [
        "x_train=train_final.drop(columns=['n_clicks' , 'city_id1_0.0' , 'city_id'])"
      ],
      "execution_count": 0,
      "outputs": []
    },
    {
      "cell_type": "code",
      "metadata": {
        "id": "TxwNahn4wVZo",
        "colab_type": "code",
        "colab": {}
      },
      "source": [
        "y_train=train_final['n_clicks']"
      ],
      "execution_count": 0,
      "outputs": []
    },
    {
      "cell_type": "markdown",
      "metadata": {
        "id": "XjeS7gRjghYc",
        "colab_type": "text"
      },
      "source": [
        "#### we divide training data into train - test sets , making train set 70% of data"
      ]
    },
    {
      "cell_type": "code",
      "metadata": {
        "id": "oYvF9O9jxW-k",
        "colab_type": "code",
        "colab": {}
      },
      "source": [
        "# Organize our data for training\n",
        "X = x_train\n",
        "Y = y_train\n",
        "X, X_Val, Y, Y_Val = train_test_split(X, Y , train_size =0.7 , shuffle=True)"
      ],
      "execution_count": 0,
      "outputs": []
    },
    {
      "cell_type": "markdown",
      "metadata": {
        "id": "i6qjgW-50ZBQ",
        "colab_type": "text"
      },
      "source": [
        "### We try basicly the linear regression"
      ]
    },
    {
      "cell_type": "code",
      "metadata": {
        "id": "mm1XBPFRy5SH",
        "colab_type": "code",
        "colab": {}
      },
      "source": [
        "from sklearn.linear_model import LinearRegression\n",
        "\n"
      ],
      "execution_count": 0,
      "outputs": []
    },
    {
      "cell_type": "code",
      "metadata": {
        "id": "B-Gu5QnWzqpN",
        "colab_type": "code",
        "colab": {}
      },
      "source": [
        "reg = LinearRegression().fit(X, Y)\n",
        "pred_0=pd.DataFrame(reg.predict(X_Val)).set_index(Y_Val.index)\n"
      ],
      "execution_count": 0,
      "outputs": []
    },
    {
      "cell_type": "code",
      "metadata": {
        "id": "zSwDgM89zZ5K",
        "colab_type": "code",
        "colab": {}
      },
      "source": [
        "pred_0=pd.DataFrame(reg.predict(X_Val)).set_index(Y_Val.index)"
      ],
      "execution_count": 0,
      "outputs": []
    },
    {
      "cell_type": "code",
      "metadata": {
        "id": "rLiqF4QBzjwB",
        "colab_type": "code",
        "colab": {}
      },
      "source": [
        "pred_0.columns=['pred']"
      ],
      "execution_count": 0,
      "outputs": []
    },
    {
      "cell_type": "code",
      "metadata": {
        "id": "jxPJAx43zpIb",
        "colab_type": "code",
        "colab": {}
      },
      "source": [
        " pred_0['pred']=np.where(pred_0['pred'] <0 , 0 , pred_0['pred'])"
      ],
      "execution_count": 0,
      "outputs": []
    },
    {
      "cell_type": "code",
      "metadata": {
        "id": "pT7LUbmczLRU",
        "colab_type": "code",
        "colab": {
          "base_uri": "https://localhost:8080/",
          "height": 50
        },
        "outputId": "6a78849a-b955-4c53-abf9-7dd17cd721ba"
      },
      "source": [
        "# Print the r2 score\n",
        "print(r2_score(Y_Val, np.round(pred_0['pred'],0)))\n",
        "# Print the mse score\n",
        "print(mean_squared_error(Y_Val,np.round(pred_0['pred'],0)))"
      ],
      "execution_count": 90,
      "outputs": [
        {
          "output_type": "stream",
          "text": [
            "0.05975308726188577\n",
            "14116.052325875044\n"
          ],
          "name": "stdout"
        }
      ]
    },
    {
      "cell_type": "markdown",
      "metadata": {
        "id": "CXwQwOSA2OSk",
        "colab_type": "text"
      },
      "source": [
        "#### we notice that R2 is extremely low and MSE is large , let's try another variant"
      ]
    },
    {
      "cell_type": "markdown",
      "metadata": {
        "id": "g-O1M0bbgo8w",
        "colab_type": "text"
      },
      "source": [
        "### we use XGB regressor as a winning solution in several kaggle competitions , since data is big , we try first to get the best n_estimators and learning_rate as per r2 and MSE (i.e to get the best score in estimating in train set then we can estimate n_clicks better in test set)\n",
        "\n",
        "### so let's start our parameter tuning process"
      ]
    },
    {
      "cell_type": "markdown",
      "metadata": {
        "id": "1onLrz04LtZH",
        "colab_type": "text"
      },
      "source": [
        "#### Here we begin with tuning n_estimators and learnnig_rate with other parameters as default , and when we get the best learning_rate and n_estimators with defaults we begin to tune max_depth and sub_sample , then tune min_child_weight and colsample_bytree \n",
        "\n",
        "#### we will do that 2 times one with data as it is and another taking minmax_transfromation for predictors"
      ]
    },
    {
      "cell_type": "markdown",
      "metadata": {
        "id": "cokY7fan0gut",
        "colab_type": "text"
      },
      "source": [
        ""
      ]
    },
    {
      "cell_type": "code",
      "metadata": {
        "id": "FEMrUwUL0hNq",
        "colab_type": "code",
        "colab": {}
      },
      "source": [
        "# Organize our data for training\n",
        "X = x_train\n",
        "Y = y_train\n",
        "X, X_Val, Y, Y_Val = train_test_split(X, Y , train_size =0.7 , shuffle=True)"
      ],
      "execution_count": 0,
      "outputs": []
    },
    {
      "cell_type": "code",
      "metadata": {
        "id": "ZHp-oSNSxdBE",
        "colab_type": "code",
        "outputId": "39a03c2c-e6fd-41d7-bdb5-b255f35a60f0",
        "colab": {
          "base_uri": "https://localhost:8080/",
          "height": 1000
        }
      },
      "source": [
        "\n",
        "\n",
        "# A parameter grid for XGBoost\n",
        "params = {'learning_rate': [ 0.01, 0.03 , 0.05 ,0.1] , 'n_estimators' :[100,  300 , 500 , 800 , 1000]}\n",
        "\n",
        "# Initialize XGB and GridSearch\n",
        "xgb = XGBRegressor(nthread=-1) \n",
        "\n",
        "grid1 = GridSearchCV(xgb, params)\n",
        "grid1.fit(X, Y)\n",
        "\n",
        "# Print the r2 score\n",
        "print(r2_score(Y_Val, grid1.best_estimator_.predict(X_Val))) \n",
        "# Print the mse score\n",
        "print(mean_squared_error(Y_Val, grid1.best_estimator_.predict(X_Val))) "
      ],
      "execution_count": 94,
      "outputs": [
        {
          "output_type": "stream",
          "text": [
            "/usr/local/lib/python3.6/dist-packages/sklearn/model_selection/_split.py:1978: FutureWarning: The default value of cv will change from 3 to 5 in version 0.22. Specify it explicitly to silence this warning.\n",
            "  warnings.warn(CV_WARNING, FutureWarning)\n",
            "/usr/local/lib/python3.6/dist-packages/xgboost/core.py:587: FutureWarning: Series.base is deprecated and will be removed in a future version\n",
            "  if getattr(data, 'base', None) is not None and \\\n"
          ],
          "name": "stderr"
        },
        {
          "output_type": "stream",
          "text": [
            "[10:28:24] WARNING: /workspace/src/objective/regression_obj.cu:152: reg:linear is now deprecated in favor of reg:squarederror.\n"
          ],
          "name": "stdout"
        },
        {
          "output_type": "stream",
          "text": [
            "/usr/local/lib/python3.6/dist-packages/xgboost/core.py:587: FutureWarning: Series.base is deprecated and will be removed in a future version\n",
            "  if getattr(data, 'base', None) is not None and \\\n"
          ],
          "name": "stderr"
        },
        {
          "output_type": "stream",
          "text": [
            "[10:28:32] WARNING: /workspace/src/objective/regression_obj.cu:152: reg:linear is now deprecated in favor of reg:squarederror.\n"
          ],
          "name": "stdout"
        },
        {
          "output_type": "stream",
          "text": [
            "/usr/local/lib/python3.6/dist-packages/xgboost/core.py:587: FutureWarning: Series.base is deprecated and will be removed in a future version\n",
            "  if getattr(data, 'base', None) is not None and \\\n"
          ],
          "name": "stderr"
        },
        {
          "output_type": "stream",
          "text": [
            "[10:28:41] WARNING: /workspace/src/objective/regression_obj.cu:152: reg:linear is now deprecated in favor of reg:squarederror.\n"
          ],
          "name": "stdout"
        },
        {
          "output_type": "stream",
          "text": [
            "/usr/local/lib/python3.6/dist-packages/xgboost/core.py:587: FutureWarning: Series.base is deprecated and will be removed in a future version\n",
            "  if getattr(data, 'base', None) is not None and \\\n"
          ],
          "name": "stderr"
        },
        {
          "output_type": "stream",
          "text": [
            "[10:28:49] WARNING: /workspace/src/objective/regression_obj.cu:152: reg:linear is now deprecated in favor of reg:squarederror.\n"
          ],
          "name": "stdout"
        },
        {
          "output_type": "stream",
          "text": [
            "/usr/local/lib/python3.6/dist-packages/xgboost/core.py:587: FutureWarning: Series.base is deprecated and will be removed in a future version\n",
            "  if getattr(data, 'base', None) is not None and \\\n"
          ],
          "name": "stderr"
        },
        {
          "output_type": "stream",
          "text": [
            "[10:29:11] WARNING: /workspace/src/objective/regression_obj.cu:152: reg:linear is now deprecated in favor of reg:squarederror.\n"
          ],
          "name": "stdout"
        },
        {
          "output_type": "stream",
          "text": [
            "/usr/local/lib/python3.6/dist-packages/xgboost/core.py:587: FutureWarning: Series.base is deprecated and will be removed in a future version\n",
            "  if getattr(data, 'base', None) is not None and \\\n"
          ],
          "name": "stderr"
        },
        {
          "output_type": "stream",
          "text": [
            "[10:29:33] WARNING: /workspace/src/objective/regression_obj.cu:152: reg:linear is now deprecated in favor of reg:squarederror.\n"
          ],
          "name": "stdout"
        },
        {
          "output_type": "stream",
          "text": [
            "/usr/local/lib/python3.6/dist-packages/xgboost/core.py:587: FutureWarning: Series.base is deprecated and will be removed in a future version\n",
            "  if getattr(data, 'base', None) is not None and \\\n"
          ],
          "name": "stderr"
        },
        {
          "output_type": "stream",
          "text": [
            "[10:29:55] WARNING: /workspace/src/objective/regression_obj.cu:152: reg:linear is now deprecated in favor of reg:squarederror.\n"
          ],
          "name": "stdout"
        },
        {
          "output_type": "stream",
          "text": [
            "/usr/local/lib/python3.6/dist-packages/xgboost/core.py:587: FutureWarning: Series.base is deprecated and will be removed in a future version\n",
            "  if getattr(data, 'base', None) is not None and \\\n"
          ],
          "name": "stderr"
        },
        {
          "output_type": "stream",
          "text": [
            "[10:30:31] WARNING: /workspace/src/objective/regression_obj.cu:152: reg:linear is now deprecated in favor of reg:squarederror.\n"
          ],
          "name": "stdout"
        },
        {
          "output_type": "stream",
          "text": [
            "/usr/local/lib/python3.6/dist-packages/xgboost/core.py:587: FutureWarning: Series.base is deprecated and will be removed in a future version\n",
            "  if getattr(data, 'base', None) is not None and \\\n"
          ],
          "name": "stderr"
        },
        {
          "output_type": "stream",
          "text": [
            "[10:31:07] WARNING: /workspace/src/objective/regression_obj.cu:152: reg:linear is now deprecated in favor of reg:squarederror.\n"
          ],
          "name": "stdout"
        },
        {
          "output_type": "stream",
          "text": [
            "/usr/local/lib/python3.6/dist-packages/xgboost/core.py:587: FutureWarning: Series.base is deprecated and will be removed in a future version\n",
            "  if getattr(data, 'base', None) is not None and \\\n"
          ],
          "name": "stderr"
        },
        {
          "output_type": "stream",
          "text": [
            "[10:31:43] WARNING: /workspace/src/objective/regression_obj.cu:152: reg:linear is now deprecated in favor of reg:squarederror.\n"
          ],
          "name": "stdout"
        },
        {
          "output_type": "stream",
          "text": [
            "/usr/local/lib/python3.6/dist-packages/xgboost/core.py:587: FutureWarning: Series.base is deprecated and will be removed in a future version\n",
            "  if getattr(data, 'base', None) is not None and \\\n"
          ],
          "name": "stderr"
        },
        {
          "output_type": "stream",
          "text": [
            "[10:32:40] WARNING: /workspace/src/objective/regression_obj.cu:152: reg:linear is now deprecated in favor of reg:squarederror.\n"
          ],
          "name": "stdout"
        },
        {
          "output_type": "stream",
          "text": [
            "/usr/local/lib/python3.6/dist-packages/xgboost/core.py:587: FutureWarning: Series.base is deprecated and will be removed in a future version\n",
            "  if getattr(data, 'base', None) is not None and \\\n"
          ],
          "name": "stderr"
        },
        {
          "output_type": "stream",
          "text": [
            "[10:33:36] WARNING: /workspace/src/objective/regression_obj.cu:152: reg:linear is now deprecated in favor of reg:squarederror.\n"
          ],
          "name": "stdout"
        },
        {
          "output_type": "stream",
          "text": [
            "/usr/local/lib/python3.6/dist-packages/xgboost/core.py:587: FutureWarning: Series.base is deprecated and will be removed in a future version\n",
            "  if getattr(data, 'base', None) is not None and \\\n"
          ],
          "name": "stderr"
        },
        {
          "output_type": "stream",
          "text": [
            "[10:34:31] WARNING: /workspace/src/objective/regression_obj.cu:152: reg:linear is now deprecated in favor of reg:squarederror.\n"
          ],
          "name": "stdout"
        },
        {
          "output_type": "stream",
          "text": [
            "/usr/local/lib/python3.6/dist-packages/xgboost/core.py:587: FutureWarning: Series.base is deprecated and will be removed in a future version\n",
            "  if getattr(data, 'base', None) is not None and \\\n"
          ],
          "name": "stderr"
        },
        {
          "output_type": "stream",
          "text": [
            "[10:35:42] WARNING: /workspace/src/objective/regression_obj.cu:152: reg:linear is now deprecated in favor of reg:squarederror.\n"
          ],
          "name": "stdout"
        },
        {
          "output_type": "stream",
          "text": [
            "/usr/local/lib/python3.6/dist-packages/xgboost/core.py:587: FutureWarning: Series.base is deprecated and will be removed in a future version\n",
            "  if getattr(data, 'base', None) is not None and \\\n"
          ],
          "name": "stderr"
        },
        {
          "output_type": "stream",
          "text": [
            "[10:36:52] WARNING: /workspace/src/objective/regression_obj.cu:152: reg:linear is now deprecated in favor of reg:squarederror.\n"
          ],
          "name": "stdout"
        },
        {
          "output_type": "stream",
          "text": [
            "/usr/local/lib/python3.6/dist-packages/xgboost/core.py:587: FutureWarning: Series.base is deprecated and will be removed in a future version\n",
            "  if getattr(data, 'base', None) is not None and \\\n"
          ],
          "name": "stderr"
        },
        {
          "output_type": "stream",
          "text": [
            "[10:38:04] WARNING: /workspace/src/objective/regression_obj.cu:152: reg:linear is now deprecated in favor of reg:squarederror.\n"
          ],
          "name": "stdout"
        },
        {
          "output_type": "stream",
          "text": [
            "/usr/local/lib/python3.6/dist-packages/xgboost/core.py:587: FutureWarning: Series.base is deprecated and will be removed in a future version\n",
            "  if getattr(data, 'base', None) is not None and \\\n"
          ],
          "name": "stderr"
        },
        {
          "output_type": "stream",
          "text": [
            "[10:38:12] WARNING: /workspace/src/objective/regression_obj.cu:152: reg:linear is now deprecated in favor of reg:squarederror.\n"
          ],
          "name": "stdout"
        },
        {
          "output_type": "stream",
          "text": [
            "/usr/local/lib/python3.6/dist-packages/xgboost/core.py:587: FutureWarning: Series.base is deprecated and will be removed in a future version\n",
            "  if getattr(data, 'base', None) is not None and \\\n"
          ],
          "name": "stderr"
        },
        {
          "output_type": "stream",
          "text": [
            "[10:38:19] WARNING: /workspace/src/objective/regression_obj.cu:152: reg:linear is now deprecated in favor of reg:squarederror.\n"
          ],
          "name": "stdout"
        },
        {
          "output_type": "stream",
          "text": [
            "/usr/local/lib/python3.6/dist-packages/xgboost/core.py:587: FutureWarning: Series.base is deprecated and will be removed in a future version\n",
            "  if getattr(data, 'base', None) is not None and \\\n"
          ],
          "name": "stderr"
        },
        {
          "output_type": "stream",
          "text": [
            "[10:38:27] WARNING: /workspace/src/objective/regression_obj.cu:152: reg:linear is now deprecated in favor of reg:squarederror.\n"
          ],
          "name": "stdout"
        },
        {
          "output_type": "stream",
          "text": [
            "/usr/local/lib/python3.6/dist-packages/xgboost/core.py:587: FutureWarning: Series.base is deprecated and will be removed in a future version\n",
            "  if getattr(data, 'base', None) is not None and \\\n"
          ],
          "name": "stderr"
        },
        {
          "output_type": "stream",
          "text": [
            "[10:38:48] WARNING: /workspace/src/objective/regression_obj.cu:152: reg:linear is now deprecated in favor of reg:squarederror.\n"
          ],
          "name": "stdout"
        },
        {
          "output_type": "stream",
          "text": [
            "/usr/local/lib/python3.6/dist-packages/xgboost/core.py:587: FutureWarning: Series.base is deprecated and will be removed in a future version\n",
            "  if getattr(data, 'base', None) is not None and \\\n"
          ],
          "name": "stderr"
        },
        {
          "output_type": "stream",
          "text": [
            "[10:39:09] WARNING: /workspace/src/objective/regression_obj.cu:152: reg:linear is now deprecated in favor of reg:squarederror.\n"
          ],
          "name": "stdout"
        },
        {
          "output_type": "stream",
          "text": [
            "/usr/local/lib/python3.6/dist-packages/xgboost/core.py:587: FutureWarning: Series.base is deprecated and will be removed in a future version\n",
            "  if getattr(data, 'base', None) is not None and \\\n"
          ],
          "name": "stderr"
        },
        {
          "output_type": "stream",
          "text": [
            "[10:39:31] WARNING: /workspace/src/objective/regression_obj.cu:152: reg:linear is now deprecated in favor of reg:squarederror.\n"
          ],
          "name": "stdout"
        },
        {
          "output_type": "stream",
          "text": [
            "/usr/local/lib/python3.6/dist-packages/xgboost/core.py:587: FutureWarning: Series.base is deprecated and will be removed in a future version\n",
            "  if getattr(data, 'base', None) is not None and \\\n"
          ],
          "name": "stderr"
        },
        {
          "output_type": "stream",
          "text": [
            "[10:40:07] WARNING: /workspace/src/objective/regression_obj.cu:152: reg:linear is now deprecated in favor of reg:squarederror.\n"
          ],
          "name": "stdout"
        },
        {
          "output_type": "stream",
          "text": [
            "/usr/local/lib/python3.6/dist-packages/xgboost/core.py:587: FutureWarning: Series.base is deprecated and will be removed in a future version\n",
            "  if getattr(data, 'base', None) is not None and \\\n"
          ],
          "name": "stderr"
        },
        {
          "output_type": "stream",
          "text": [
            "[10:40:43] WARNING: /workspace/src/objective/regression_obj.cu:152: reg:linear is now deprecated in favor of reg:squarederror.\n"
          ],
          "name": "stdout"
        },
        {
          "output_type": "stream",
          "text": [
            "/usr/local/lib/python3.6/dist-packages/xgboost/core.py:587: FutureWarning: Series.base is deprecated and will be removed in a future version\n",
            "  if getattr(data, 'base', None) is not None and \\\n"
          ],
          "name": "stderr"
        },
        {
          "output_type": "stream",
          "text": [
            "[10:41:19] WARNING: /workspace/src/objective/regression_obj.cu:152: reg:linear is now deprecated in favor of reg:squarederror.\n"
          ],
          "name": "stdout"
        },
        {
          "output_type": "stream",
          "text": [
            "/usr/local/lib/python3.6/dist-packages/xgboost/core.py:587: FutureWarning: Series.base is deprecated and will be removed in a future version\n",
            "  if getattr(data, 'base', None) is not None and \\\n"
          ],
          "name": "stderr"
        },
        {
          "output_type": "stream",
          "text": [
            "[10:42:15] WARNING: /workspace/src/objective/regression_obj.cu:152: reg:linear is now deprecated in favor of reg:squarederror.\n"
          ],
          "name": "stdout"
        },
        {
          "output_type": "stream",
          "text": [
            "/usr/local/lib/python3.6/dist-packages/xgboost/core.py:587: FutureWarning: Series.base is deprecated and will be removed in a future version\n",
            "  if getattr(data, 'base', None) is not None and \\\n"
          ],
          "name": "stderr"
        },
        {
          "output_type": "stream",
          "text": [
            "[10:43:13] WARNING: /workspace/src/objective/regression_obj.cu:152: reg:linear is now deprecated in favor of reg:squarederror.\n"
          ],
          "name": "stdout"
        },
        {
          "output_type": "stream",
          "text": [
            "/usr/local/lib/python3.6/dist-packages/xgboost/core.py:587: FutureWarning: Series.base is deprecated and will be removed in a future version\n",
            "  if getattr(data, 'base', None) is not None and \\\n"
          ],
          "name": "stderr"
        },
        {
          "output_type": "stream",
          "text": [
            "[10:44:11] WARNING: /workspace/src/objective/regression_obj.cu:152: reg:linear is now deprecated in favor of reg:squarederror.\n"
          ],
          "name": "stdout"
        },
        {
          "output_type": "stream",
          "text": [
            "/usr/local/lib/python3.6/dist-packages/xgboost/core.py:587: FutureWarning: Series.base is deprecated and will be removed in a future version\n",
            "  if getattr(data, 'base', None) is not None and \\\n"
          ],
          "name": "stderr"
        },
        {
          "output_type": "stream",
          "text": [
            "[10:45:23] WARNING: /workspace/src/objective/regression_obj.cu:152: reg:linear is now deprecated in favor of reg:squarederror.\n"
          ],
          "name": "stdout"
        },
        {
          "output_type": "stream",
          "text": [
            "/usr/local/lib/python3.6/dist-packages/xgboost/core.py:587: FutureWarning: Series.base is deprecated and will be removed in a future version\n",
            "  if getattr(data, 'base', None) is not None and \\\n"
          ],
          "name": "stderr"
        },
        {
          "output_type": "stream",
          "text": [
            "[10:46:37] WARNING: /workspace/src/objective/regression_obj.cu:152: reg:linear is now deprecated in favor of reg:squarederror.\n"
          ],
          "name": "stdout"
        },
        {
          "output_type": "stream",
          "text": [
            "/usr/local/lib/python3.6/dist-packages/xgboost/core.py:587: FutureWarning: Series.base is deprecated and will be removed in a future version\n",
            "  if getattr(data, 'base', None) is not None and \\\n"
          ],
          "name": "stderr"
        },
        {
          "output_type": "stream",
          "text": [
            "[10:47:49] WARNING: /workspace/src/objective/regression_obj.cu:152: reg:linear is now deprecated in favor of reg:squarederror.\n"
          ],
          "name": "stdout"
        },
        {
          "output_type": "stream",
          "text": [
            "/usr/local/lib/python3.6/dist-packages/xgboost/core.py:587: FutureWarning: Series.base is deprecated and will be removed in a future version\n",
            "  if getattr(data, 'base', None) is not None and \\\n"
          ],
          "name": "stderr"
        },
        {
          "output_type": "stream",
          "text": [
            "[10:47:57] WARNING: /workspace/src/objective/regression_obj.cu:152: reg:linear is now deprecated in favor of reg:squarederror.\n"
          ],
          "name": "stdout"
        },
        {
          "output_type": "stream",
          "text": [
            "/usr/local/lib/python3.6/dist-packages/xgboost/core.py:587: FutureWarning: Series.base is deprecated and will be removed in a future version\n",
            "  if getattr(data, 'base', None) is not None and \\\n"
          ],
          "name": "stderr"
        },
        {
          "output_type": "stream",
          "text": [
            "[10:48:04] WARNING: /workspace/src/objective/regression_obj.cu:152: reg:linear is now deprecated in favor of reg:squarederror.\n"
          ],
          "name": "stdout"
        },
        {
          "output_type": "stream",
          "text": [
            "/usr/local/lib/python3.6/dist-packages/xgboost/core.py:587: FutureWarning: Series.base is deprecated and will be removed in a future version\n",
            "  if getattr(data, 'base', None) is not None and \\\n"
          ],
          "name": "stderr"
        },
        {
          "output_type": "stream",
          "text": [
            "[10:48:12] WARNING: /workspace/src/objective/regression_obj.cu:152: reg:linear is now deprecated in favor of reg:squarederror.\n"
          ],
          "name": "stdout"
        },
        {
          "output_type": "stream",
          "text": [
            "/usr/local/lib/python3.6/dist-packages/xgboost/core.py:587: FutureWarning: Series.base is deprecated and will be removed in a future version\n",
            "  if getattr(data, 'base', None) is not None and \\\n"
          ],
          "name": "stderr"
        },
        {
          "output_type": "stream",
          "text": [
            "[10:48:34] WARNING: /workspace/src/objective/regression_obj.cu:152: reg:linear is now deprecated in favor of reg:squarederror.\n"
          ],
          "name": "stdout"
        },
        {
          "output_type": "stream",
          "text": [
            "/usr/local/lib/python3.6/dist-packages/xgboost/core.py:587: FutureWarning: Series.base is deprecated and will be removed in a future version\n",
            "  if getattr(data, 'base', None) is not None and \\\n"
          ],
          "name": "stderr"
        },
        {
          "output_type": "stream",
          "text": [
            "[10:48:56] WARNING: /workspace/src/objective/regression_obj.cu:152: reg:linear is now deprecated in favor of reg:squarederror.\n"
          ],
          "name": "stdout"
        },
        {
          "output_type": "stream",
          "text": [
            "/usr/local/lib/python3.6/dist-packages/xgboost/core.py:587: FutureWarning: Series.base is deprecated and will be removed in a future version\n",
            "  if getattr(data, 'base', None) is not None and \\\n"
          ],
          "name": "stderr"
        },
        {
          "output_type": "stream",
          "text": [
            "[10:49:18] WARNING: /workspace/src/objective/regression_obj.cu:152: reg:linear is now deprecated in favor of reg:squarederror.\n"
          ],
          "name": "stdout"
        },
        {
          "output_type": "stream",
          "text": [
            "/usr/local/lib/python3.6/dist-packages/xgboost/core.py:587: FutureWarning: Series.base is deprecated and will be removed in a future version\n",
            "  if getattr(data, 'base', None) is not None and \\\n"
          ],
          "name": "stderr"
        },
        {
          "output_type": "stream",
          "text": [
            "[10:49:54] WARNING: /workspace/src/objective/regression_obj.cu:152: reg:linear is now deprecated in favor of reg:squarederror.\n"
          ],
          "name": "stdout"
        },
        {
          "output_type": "stream",
          "text": [
            "/usr/local/lib/python3.6/dist-packages/xgboost/core.py:587: FutureWarning: Series.base is deprecated and will be removed in a future version\n",
            "  if getattr(data, 'base', None) is not None and \\\n"
          ],
          "name": "stderr"
        },
        {
          "output_type": "stream",
          "text": [
            "[10:50:31] WARNING: /workspace/src/objective/regression_obj.cu:152: reg:linear is now deprecated in favor of reg:squarederror.\n"
          ],
          "name": "stdout"
        },
        {
          "output_type": "stream",
          "text": [
            "/usr/local/lib/python3.6/dist-packages/xgboost/core.py:587: FutureWarning: Series.base is deprecated and will be removed in a future version\n",
            "  if getattr(data, 'base', None) is not None and \\\n"
          ],
          "name": "stderr"
        },
        {
          "output_type": "stream",
          "text": [
            "[10:51:08] WARNING: /workspace/src/objective/regression_obj.cu:152: reg:linear is now deprecated in favor of reg:squarederror.\n"
          ],
          "name": "stdout"
        },
        {
          "output_type": "stream",
          "text": [
            "/usr/local/lib/python3.6/dist-packages/xgboost/core.py:587: FutureWarning: Series.base is deprecated and will be removed in a future version\n",
            "  if getattr(data, 'base', None) is not None and \\\n"
          ],
          "name": "stderr"
        },
        {
          "output_type": "stream",
          "text": [
            "[10:52:06] WARNING: /workspace/src/objective/regression_obj.cu:152: reg:linear is now deprecated in favor of reg:squarederror.\n"
          ],
          "name": "stdout"
        },
        {
          "output_type": "stream",
          "text": [
            "/usr/local/lib/python3.6/dist-packages/xgboost/core.py:587: FutureWarning: Series.base is deprecated and will be removed in a future version\n",
            "  if getattr(data, 'base', None) is not None and \\\n"
          ],
          "name": "stderr"
        },
        {
          "output_type": "stream",
          "text": [
            "[10:53:03] WARNING: /workspace/src/objective/regression_obj.cu:152: reg:linear is now deprecated in favor of reg:squarederror.\n"
          ],
          "name": "stdout"
        },
        {
          "output_type": "stream",
          "text": [
            "/usr/local/lib/python3.6/dist-packages/xgboost/core.py:587: FutureWarning: Series.base is deprecated and will be removed in a future version\n",
            "  if getattr(data, 'base', None) is not None and \\\n"
          ],
          "name": "stderr"
        },
        {
          "output_type": "stream",
          "text": [
            "[10:54:02] WARNING: /workspace/src/objective/regression_obj.cu:152: reg:linear is now deprecated in favor of reg:squarederror.\n"
          ],
          "name": "stdout"
        },
        {
          "output_type": "stream",
          "text": [
            "/usr/local/lib/python3.6/dist-packages/xgboost/core.py:587: FutureWarning: Series.base is deprecated and will be removed in a future version\n",
            "  if getattr(data, 'base', None) is not None and \\\n"
          ],
          "name": "stderr"
        },
        {
          "output_type": "stream",
          "text": [
            "[10:55:17] WARNING: /workspace/src/objective/regression_obj.cu:152: reg:linear is now deprecated in favor of reg:squarederror.\n"
          ],
          "name": "stdout"
        },
        {
          "output_type": "stream",
          "text": [
            "/usr/local/lib/python3.6/dist-packages/xgboost/core.py:587: FutureWarning: Series.base is deprecated and will be removed in a future version\n",
            "  if getattr(data, 'base', None) is not None and \\\n"
          ],
          "name": "stderr"
        },
        {
          "output_type": "stream",
          "text": [
            "[10:56:32] WARNING: /workspace/src/objective/regression_obj.cu:152: reg:linear is now deprecated in favor of reg:squarederror.\n"
          ],
          "name": "stdout"
        },
        {
          "output_type": "stream",
          "text": [
            "/usr/local/lib/python3.6/dist-packages/xgboost/core.py:587: FutureWarning: Series.base is deprecated and will be removed in a future version\n",
            "  if getattr(data, 'base', None) is not None and \\\n"
          ],
          "name": "stderr"
        },
        {
          "output_type": "stream",
          "text": [
            "[10:57:46] WARNING: /workspace/src/objective/regression_obj.cu:152: reg:linear is now deprecated in favor of reg:squarederror.\n"
          ],
          "name": "stdout"
        },
        {
          "output_type": "stream",
          "text": [
            "/usr/local/lib/python3.6/dist-packages/xgboost/core.py:587: FutureWarning: Series.base is deprecated and will be removed in a future version\n",
            "  if getattr(data, 'base', None) is not None and \\\n"
          ],
          "name": "stderr"
        },
        {
          "output_type": "stream",
          "text": [
            "[10:57:54] WARNING: /workspace/src/objective/regression_obj.cu:152: reg:linear is now deprecated in favor of reg:squarederror.\n"
          ],
          "name": "stdout"
        },
        {
          "output_type": "stream",
          "text": [
            "/usr/local/lib/python3.6/dist-packages/xgboost/core.py:587: FutureWarning: Series.base is deprecated and will be removed in a future version\n",
            "  if getattr(data, 'base', None) is not None and \\\n"
          ],
          "name": "stderr"
        },
        {
          "output_type": "stream",
          "text": [
            "[10:58:01] WARNING: /workspace/src/objective/regression_obj.cu:152: reg:linear is now deprecated in favor of reg:squarederror.\n"
          ],
          "name": "stdout"
        },
        {
          "output_type": "stream",
          "text": [
            "/usr/local/lib/python3.6/dist-packages/xgboost/core.py:587: FutureWarning: Series.base is deprecated and will be removed in a future version\n",
            "  if getattr(data, 'base', None) is not None and \\\n"
          ],
          "name": "stderr"
        },
        {
          "output_type": "stream",
          "text": [
            "[10:58:09] WARNING: /workspace/src/objective/regression_obj.cu:152: reg:linear is now deprecated in favor of reg:squarederror.\n"
          ],
          "name": "stdout"
        },
        {
          "output_type": "stream",
          "text": [
            "/usr/local/lib/python3.6/dist-packages/xgboost/core.py:587: FutureWarning: Series.base is deprecated and will be removed in a future version\n",
            "  if getattr(data, 'base', None) is not None and \\\n"
          ],
          "name": "stderr"
        },
        {
          "output_type": "stream",
          "text": [
            "[10:58:31] WARNING: /workspace/src/objective/regression_obj.cu:152: reg:linear is now deprecated in favor of reg:squarederror.\n"
          ],
          "name": "stdout"
        },
        {
          "output_type": "stream",
          "text": [
            "/usr/local/lib/python3.6/dist-packages/xgboost/core.py:587: FutureWarning: Series.base is deprecated and will be removed in a future version\n",
            "  if getattr(data, 'base', None) is not None and \\\n"
          ],
          "name": "stderr"
        },
        {
          "output_type": "stream",
          "text": [
            "[10:58:53] WARNING: /workspace/src/objective/regression_obj.cu:152: reg:linear is now deprecated in favor of reg:squarederror.\n"
          ],
          "name": "stdout"
        },
        {
          "output_type": "stream",
          "text": [
            "/usr/local/lib/python3.6/dist-packages/xgboost/core.py:587: FutureWarning: Series.base is deprecated and will be removed in a future version\n",
            "  if getattr(data, 'base', None) is not None and \\\n"
          ],
          "name": "stderr"
        },
        {
          "output_type": "stream",
          "text": [
            "[10:59:15] WARNING: /workspace/src/objective/regression_obj.cu:152: reg:linear is now deprecated in favor of reg:squarederror.\n"
          ],
          "name": "stdout"
        },
        {
          "output_type": "stream",
          "text": [
            "/usr/local/lib/python3.6/dist-packages/xgboost/core.py:587: FutureWarning: Series.base is deprecated and will be removed in a future version\n",
            "  if getattr(data, 'base', None) is not None and \\\n"
          ],
          "name": "stderr"
        },
        {
          "output_type": "stream",
          "text": [
            "[10:59:52] WARNING: /workspace/src/objective/regression_obj.cu:152: reg:linear is now deprecated in favor of reg:squarederror.\n"
          ],
          "name": "stdout"
        },
        {
          "output_type": "stream",
          "text": [
            "/usr/local/lib/python3.6/dist-packages/xgboost/core.py:587: FutureWarning: Series.base is deprecated and will be removed in a future version\n",
            "  if getattr(data, 'base', None) is not None and \\\n"
          ],
          "name": "stderr"
        },
        {
          "output_type": "stream",
          "text": [
            "[11:00:30] WARNING: /workspace/src/objective/regression_obj.cu:152: reg:linear is now deprecated in favor of reg:squarederror.\n"
          ],
          "name": "stdout"
        },
        {
          "output_type": "stream",
          "text": [
            "/usr/local/lib/python3.6/dist-packages/xgboost/core.py:587: FutureWarning: Series.base is deprecated and will be removed in a future version\n",
            "  if getattr(data, 'base', None) is not None and \\\n"
          ],
          "name": "stderr"
        },
        {
          "output_type": "stream",
          "text": [
            "[11:01:08] WARNING: /workspace/src/objective/regression_obj.cu:152: reg:linear is now deprecated in favor of reg:squarederror.\n"
          ],
          "name": "stdout"
        },
        {
          "output_type": "stream",
          "text": [
            "/usr/local/lib/python3.6/dist-packages/xgboost/core.py:587: FutureWarning: Series.base is deprecated and will be removed in a future version\n",
            "  if getattr(data, 'base', None) is not None and \\\n"
          ],
          "name": "stderr"
        },
        {
          "output_type": "stream",
          "text": [
            "[11:02:08] WARNING: /workspace/src/objective/regression_obj.cu:152: reg:linear is now deprecated in favor of reg:squarederror.\n"
          ],
          "name": "stdout"
        },
        {
          "output_type": "stream",
          "text": [
            "/usr/local/lib/python3.6/dist-packages/xgboost/core.py:587: FutureWarning: Series.base is deprecated and will be removed in a future version\n",
            "  if getattr(data, 'base', None) is not None and \\\n"
          ],
          "name": "stderr"
        },
        {
          "output_type": "stream",
          "text": [
            "[11:03:06] WARNING: /workspace/src/objective/regression_obj.cu:152: reg:linear is now deprecated in favor of reg:squarederror.\n"
          ],
          "name": "stdout"
        },
        {
          "output_type": "stream",
          "text": [
            "/usr/local/lib/python3.6/dist-packages/xgboost/core.py:587: FutureWarning: Series.base is deprecated and will be removed in a future version\n",
            "  if getattr(data, 'base', None) is not None and \\\n"
          ],
          "name": "stderr"
        },
        {
          "output_type": "stream",
          "text": [
            "[11:04:05] WARNING: /workspace/src/objective/regression_obj.cu:152: reg:linear is now deprecated in favor of reg:squarederror.\n"
          ],
          "name": "stdout"
        },
        {
          "output_type": "stream",
          "text": [
            "/usr/local/lib/python3.6/dist-packages/xgboost/core.py:587: FutureWarning: Series.base is deprecated and will be removed in a future version\n",
            "  if getattr(data, 'base', None) is not None and \\\n"
          ],
          "name": "stderr"
        },
        {
          "output_type": "stream",
          "text": [
            "[11:05:17] WARNING: /workspace/src/objective/regression_obj.cu:152: reg:linear is now deprecated in favor of reg:squarederror.\n"
          ],
          "name": "stdout"
        },
        {
          "output_type": "stream",
          "text": [
            "/usr/local/lib/python3.6/dist-packages/xgboost/core.py:587: FutureWarning: Series.base is deprecated and will be removed in a future version\n",
            "  if getattr(data, 'base', None) is not None and \\\n"
          ],
          "name": "stderr"
        },
        {
          "output_type": "stream",
          "text": [
            "[11:06:30] WARNING: /workspace/src/objective/regression_obj.cu:152: reg:linear is now deprecated in favor of reg:squarederror.\n"
          ],
          "name": "stdout"
        },
        {
          "output_type": "stream",
          "text": [
            "/usr/local/lib/python3.6/dist-packages/xgboost/core.py:587: FutureWarning: Series.base is deprecated and will be removed in a future version\n",
            "  if getattr(data, 'base', None) is not None and \\\n"
          ],
          "name": "stderr"
        },
        {
          "output_type": "stream",
          "text": [
            "[11:07:43] WARNING: /workspace/src/objective/regression_obj.cu:152: reg:linear is now deprecated in favor of reg:squarederror.\n",
            "0.1431251622768035\n",
            "15407.613826995259\n"
          ],
          "name": "stdout"
        }
      ]
    },
    {
      "cell_type": "code",
      "metadata": {
        "id": "2cR9I6oKYRGa",
        "colab_type": "code",
        "outputId": "726b6f8a-342d-41ac-974a-875e377bee45",
        "colab": {
          "base_uri": "https://localhost:8080/",
          "height": 133
        }
      },
      "source": [
        "grid1.best_estimator_"
      ],
      "execution_count": 95,
      "outputs": [
        {
          "output_type": "execute_result",
          "data": {
            "text/plain": [
              "XGBRegressor(base_score=0.5, booster='gbtree', colsample_bylevel=1,\n",
              "             colsample_bynode=1, colsample_bytree=1, gamma=0,\n",
              "             importance_type='gain', learning_rate=0.05, max_delta_step=0,\n",
              "             max_depth=3, min_child_weight=1, missing=None, n_estimators=500,\n",
              "             n_jobs=1, nthread=-1, objective='reg:linear', random_state=0,\n",
              "             reg_alpha=0, reg_lambda=1, scale_pos_weight=1, seed=None,\n",
              "             silent=None, subsample=1, verbosity=1)"
            ]
          },
          "metadata": {
            "tags": []
          },
          "execution_count": 95
        }
      ]
    },
    {
      "cell_type": "code",
      "metadata": {
        "id": "Tw9vkPMBdrE9",
        "colab_type": "code",
        "colab": {}
      },
      "source": [
        ""
      ],
      "execution_count": 0,
      "outputs": []
    },
    {
      "cell_type": "code",
      "metadata": {
        "id": "GkOdMXVtdsVg",
        "colab_type": "code",
        "colab": {}
      },
      "source": [
        ""
      ],
      "execution_count": 0,
      "outputs": []
    },
    {
      "cell_type": "markdown",
      "metadata": {
        "id": "hUcxDWJdg7h6",
        "colab_type": "text"
      },
      "source": [
        "#### then based on them we get the best max_depth and subsample portion that gives best estimates for n_clicks"
      ]
    },
    {
      "cell_type": "code",
      "metadata": {
        "id": "FgJsPU1_4uTb",
        "colab_type": "code",
        "outputId": "9cd1e170-c053-40f3-e34e-f09104c398aa",
        "colab": {
          "base_uri": "https://localhost:8080/",
          "height": 1000
        }
      },
      "source": [
        "\n",
        "\n",
        "# A parameter grid for XGBoost\n",
        "params = {'learning_rate': [0.05] ,  'n_estimators':[500]  , 'max_depth' : [i for i in range(3,8)], 'subsample' : [i/10.0 for i in range(3,8)] }\n",
        "\n",
        "# Initialize XGB and GridSearch\n",
        "xgb = XGBRegressor(nthread=-1) \n",
        "\n",
        "grid2 = GridSearchCV(xgb, params)\n",
        "grid2.fit(X, Y)\n",
        "\n",
        "# Print the r2 score\n",
        "print(r2_score(Y_Val, grid2.best_estimator_.predict(X_Val))) \n",
        "# Print the mse score\n",
        "print(mean_squared_error(Y_Val, grid2.best_estimator_.predict(X_Val))) "
      ],
      "execution_count": 96,
      "outputs": [
        {
          "output_type": "stream",
          "text": [
            "/usr/local/lib/python3.6/dist-packages/sklearn/model_selection/_split.py:1978: FutureWarning: The default value of cv will change from 3 to 5 in version 0.22. Specify it explicitly to silence this warning.\n",
            "  warnings.warn(CV_WARNING, FutureWarning)\n",
            "/usr/local/lib/python3.6/dist-packages/xgboost/core.py:587: FutureWarning: Series.base is deprecated and will be removed in a future version\n",
            "  if getattr(data, 'base', None) is not None and \\\n"
          ],
          "name": "stderr"
        },
        {
          "output_type": "stream",
          "text": [
            "[11:09:22] WARNING: /workspace/src/objective/regression_obj.cu:152: reg:linear is now deprecated in favor of reg:squarederror.\n"
          ],
          "name": "stdout"
        },
        {
          "output_type": "stream",
          "text": [
            "/usr/local/lib/python3.6/dist-packages/xgboost/core.py:587: FutureWarning: Series.base is deprecated and will be removed in a future version\n",
            "  if getattr(data, 'base', None) is not None and \\\n"
          ],
          "name": "stderr"
        },
        {
          "output_type": "stream",
          "text": [
            "[11:10:03] WARNING: /workspace/src/objective/regression_obj.cu:152: reg:linear is now deprecated in favor of reg:squarederror.\n"
          ],
          "name": "stdout"
        },
        {
          "output_type": "stream",
          "text": [
            "/usr/local/lib/python3.6/dist-packages/xgboost/core.py:587: FutureWarning: Series.base is deprecated and will be removed in a future version\n",
            "  if getattr(data, 'base', None) is not None and \\\n"
          ],
          "name": "stderr"
        },
        {
          "output_type": "stream",
          "text": [
            "[11:10:43] WARNING: /workspace/src/objective/regression_obj.cu:152: reg:linear is now deprecated in favor of reg:squarederror.\n"
          ],
          "name": "stdout"
        },
        {
          "output_type": "stream",
          "text": [
            "/usr/local/lib/python3.6/dist-packages/xgboost/core.py:587: FutureWarning: Series.base is deprecated and will be removed in a future version\n",
            "  if getattr(data, 'base', None) is not None and \\\n"
          ],
          "name": "stderr"
        },
        {
          "output_type": "stream",
          "text": [
            "[11:11:24] WARNING: /workspace/src/objective/regression_obj.cu:152: reg:linear is now deprecated in favor of reg:squarederror.\n"
          ],
          "name": "stdout"
        },
        {
          "output_type": "stream",
          "text": [
            "/usr/local/lib/python3.6/dist-packages/xgboost/core.py:587: FutureWarning: Series.base is deprecated and will be removed in a future version\n",
            "  if getattr(data, 'base', None) is not None and \\\n"
          ],
          "name": "stderr"
        },
        {
          "output_type": "stream",
          "text": [
            "[11:12:07] WARNING: /workspace/src/objective/regression_obj.cu:152: reg:linear is now deprecated in favor of reg:squarederror.\n"
          ],
          "name": "stdout"
        },
        {
          "output_type": "stream",
          "text": [
            "/usr/local/lib/python3.6/dist-packages/xgboost/core.py:587: FutureWarning: Series.base is deprecated and will be removed in a future version\n",
            "  if getattr(data, 'base', None) is not None and \\\n"
          ],
          "name": "stderr"
        },
        {
          "output_type": "stream",
          "text": [
            "[11:12:50] WARNING: /workspace/src/objective/regression_obj.cu:152: reg:linear is now deprecated in favor of reg:squarederror.\n"
          ],
          "name": "stdout"
        },
        {
          "output_type": "stream",
          "text": [
            "/usr/local/lib/python3.6/dist-packages/xgboost/core.py:587: FutureWarning: Series.base is deprecated and will be removed in a future version\n",
            "  if getattr(data, 'base', None) is not None and \\\n"
          ],
          "name": "stderr"
        },
        {
          "output_type": "stream",
          "text": [
            "[11:13:33] WARNING: /workspace/src/objective/regression_obj.cu:152: reg:linear is now deprecated in favor of reg:squarederror.\n"
          ],
          "name": "stdout"
        },
        {
          "output_type": "stream",
          "text": [
            "/usr/local/lib/python3.6/dist-packages/xgboost/core.py:587: FutureWarning: Series.base is deprecated and will be removed in a future version\n",
            "  if getattr(data, 'base', None) is not None and \\\n"
          ],
          "name": "stderr"
        },
        {
          "output_type": "stream",
          "text": [
            "[11:14:18] WARNING: /workspace/src/objective/regression_obj.cu:152: reg:linear is now deprecated in favor of reg:squarederror.\n"
          ],
          "name": "stdout"
        },
        {
          "output_type": "stream",
          "text": [
            "/usr/local/lib/python3.6/dist-packages/xgboost/core.py:587: FutureWarning: Series.base is deprecated and will be removed in a future version\n",
            "  if getattr(data, 'base', None) is not None and \\\n"
          ],
          "name": "stderr"
        },
        {
          "output_type": "stream",
          "text": [
            "[11:15:04] WARNING: /workspace/src/objective/regression_obj.cu:152: reg:linear is now deprecated in favor of reg:squarederror.\n"
          ],
          "name": "stdout"
        },
        {
          "output_type": "stream",
          "text": [
            "/usr/local/lib/python3.6/dist-packages/xgboost/core.py:587: FutureWarning: Series.base is deprecated and will be removed in a future version\n",
            "  if getattr(data, 'base', None) is not None and \\\n"
          ],
          "name": "stderr"
        },
        {
          "output_type": "stream",
          "text": [
            "[11:15:51] WARNING: /workspace/src/objective/regression_obj.cu:152: reg:linear is now deprecated in favor of reg:squarederror.\n"
          ],
          "name": "stdout"
        },
        {
          "output_type": "stream",
          "text": [
            "/usr/local/lib/python3.6/dist-packages/xgboost/core.py:587: FutureWarning: Series.base is deprecated and will be removed in a future version\n",
            "  if getattr(data, 'base', None) is not None and \\\n"
          ],
          "name": "stderr"
        },
        {
          "output_type": "stream",
          "text": [
            "[11:16:37] WARNING: /workspace/src/objective/regression_obj.cu:152: reg:linear is now deprecated in favor of reg:squarederror.\n"
          ],
          "name": "stdout"
        },
        {
          "output_type": "stream",
          "text": [
            "/usr/local/lib/python3.6/dist-packages/xgboost/core.py:587: FutureWarning: Series.base is deprecated and will be removed in a future version\n",
            "  if getattr(data, 'base', None) is not None and \\\n"
          ],
          "name": "stderr"
        },
        {
          "output_type": "stream",
          "text": [
            "[11:17:22] WARNING: /workspace/src/objective/regression_obj.cu:152: reg:linear is now deprecated in favor of reg:squarederror.\n"
          ],
          "name": "stdout"
        },
        {
          "output_type": "stream",
          "text": [
            "/usr/local/lib/python3.6/dist-packages/xgboost/core.py:587: FutureWarning: Series.base is deprecated and will be removed in a future version\n",
            "  if getattr(data, 'base', None) is not None and \\\n"
          ],
          "name": "stderr"
        },
        {
          "output_type": "stream",
          "text": [
            "[11:18:02] WARNING: /workspace/src/objective/regression_obj.cu:152: reg:linear is now deprecated in favor of reg:squarederror.\n"
          ],
          "name": "stdout"
        },
        {
          "output_type": "stream",
          "text": [
            "/usr/local/lib/python3.6/dist-packages/xgboost/core.py:587: FutureWarning: Series.base is deprecated and will be removed in a future version\n",
            "  if getattr(data, 'base', None) is not None and \\\n"
          ],
          "name": "stderr"
        },
        {
          "output_type": "stream",
          "text": [
            "[11:18:40] WARNING: /workspace/src/objective/regression_obj.cu:152: reg:linear is now deprecated in favor of reg:squarederror.\n"
          ],
          "name": "stdout"
        },
        {
          "output_type": "stream",
          "text": [
            "/usr/local/lib/python3.6/dist-packages/xgboost/core.py:587: FutureWarning: Series.base is deprecated and will be removed in a future version\n",
            "  if getattr(data, 'base', None) is not None and \\\n"
          ],
          "name": "stderr"
        },
        {
          "output_type": "stream",
          "text": [
            "[11:19:19] WARNING: /workspace/src/objective/regression_obj.cu:152: reg:linear is now deprecated in favor of reg:squarederror.\n"
          ],
          "name": "stdout"
        },
        {
          "output_type": "stream",
          "text": [
            "/usr/local/lib/python3.6/dist-packages/xgboost/core.py:587: FutureWarning: Series.base is deprecated and will be removed in a future version\n",
            "  if getattr(data, 'base', None) is not None and \\\n"
          ],
          "name": "stderr"
        },
        {
          "output_type": "stream",
          "text": [
            "[11:19:57] WARNING: /workspace/src/objective/regression_obj.cu:152: reg:linear is now deprecated in favor of reg:squarederror.\n"
          ],
          "name": "stdout"
        },
        {
          "output_type": "stream",
          "text": [
            "/usr/local/lib/python3.6/dist-packages/xgboost/core.py:587: FutureWarning: Series.base is deprecated and will be removed in a future version\n",
            "  if getattr(data, 'base', None) is not None and \\\n"
          ],
          "name": "stderr"
        },
        {
          "output_type": "stream",
          "text": [
            "[11:20:42] WARNING: /workspace/src/objective/regression_obj.cu:152: reg:linear is now deprecated in favor of reg:squarederror.\n"
          ],
          "name": "stdout"
        },
        {
          "output_type": "stream",
          "text": [
            "/usr/local/lib/python3.6/dist-packages/xgboost/core.py:587: FutureWarning: Series.base is deprecated and will be removed in a future version\n",
            "  if getattr(data, 'base', None) is not None and \\\n"
          ],
          "name": "stderr"
        },
        {
          "output_type": "stream",
          "text": [
            "[11:21:26] WARNING: /workspace/src/objective/regression_obj.cu:152: reg:linear is now deprecated in favor of reg:squarederror.\n"
          ],
          "name": "stdout"
        },
        {
          "output_type": "stream",
          "text": [
            "/usr/local/lib/python3.6/dist-packages/xgboost/core.py:587: FutureWarning: Series.base is deprecated and will be removed in a future version\n",
            "  if getattr(data, 'base', None) is not None and \\\n"
          ],
          "name": "stderr"
        },
        {
          "output_type": "stream",
          "text": [
            "[11:22:11] WARNING: /workspace/src/objective/regression_obj.cu:152: reg:linear is now deprecated in favor of reg:squarederror.\n"
          ],
          "name": "stdout"
        },
        {
          "output_type": "stream",
          "text": [
            "/usr/local/lib/python3.6/dist-packages/xgboost/core.py:587: FutureWarning: Series.base is deprecated and will be removed in a future version\n",
            "  if getattr(data, 'base', None) is not None and \\\n"
          ],
          "name": "stderr"
        },
        {
          "output_type": "stream",
          "text": [
            "[11:23:00] WARNING: /workspace/src/objective/regression_obj.cu:152: reg:linear is now deprecated in favor of reg:squarederror.\n"
          ],
          "name": "stdout"
        },
        {
          "output_type": "stream",
          "text": [
            "/usr/local/lib/python3.6/dist-packages/xgboost/core.py:587: FutureWarning: Series.base is deprecated and will be removed in a future version\n",
            "  if getattr(data, 'base', None) is not None and \\\n"
          ],
          "name": "stderr"
        },
        {
          "output_type": "stream",
          "text": [
            "[11:23:48] WARNING: /workspace/src/objective/regression_obj.cu:152: reg:linear is now deprecated in favor of reg:squarederror.\n"
          ],
          "name": "stdout"
        },
        {
          "output_type": "stream",
          "text": [
            "/usr/local/lib/python3.6/dist-packages/xgboost/core.py:587: FutureWarning: Series.base is deprecated and will be removed in a future version\n",
            "  if getattr(data, 'base', None) is not None and \\\n"
          ],
          "name": "stderr"
        },
        {
          "output_type": "stream",
          "text": [
            "[11:24:37] WARNING: /workspace/src/objective/regression_obj.cu:152: reg:linear is now deprecated in favor of reg:squarederror.\n"
          ],
          "name": "stdout"
        },
        {
          "output_type": "stream",
          "text": [
            "/usr/local/lib/python3.6/dist-packages/xgboost/core.py:587: FutureWarning: Series.base is deprecated and will be removed in a future version\n",
            "  if getattr(data, 'base', None) is not None and \\\n"
          ],
          "name": "stderr"
        },
        {
          "output_type": "stream",
          "text": [
            "[11:25:29] WARNING: /workspace/src/objective/regression_obj.cu:152: reg:linear is now deprecated in favor of reg:squarederror.\n"
          ],
          "name": "stdout"
        },
        {
          "output_type": "stream",
          "text": [
            "/usr/local/lib/python3.6/dist-packages/xgboost/core.py:587: FutureWarning: Series.base is deprecated and will be removed in a future version\n",
            "  if getattr(data, 'base', None) is not None and \\\n"
          ],
          "name": "stderr"
        },
        {
          "output_type": "stream",
          "text": [
            "[11:26:20] WARNING: /workspace/src/objective/regression_obj.cu:152: reg:linear is now deprecated in favor of reg:squarederror.\n"
          ],
          "name": "stdout"
        },
        {
          "output_type": "stream",
          "text": [
            "/usr/local/lib/python3.6/dist-packages/xgboost/core.py:587: FutureWarning: Series.base is deprecated and will be removed in a future version\n",
            "  if getattr(data, 'base', None) is not None and \\\n"
          ],
          "name": "stderr"
        },
        {
          "output_type": "stream",
          "text": [
            "[11:27:12] WARNING: /workspace/src/objective/regression_obj.cu:152: reg:linear is now deprecated in favor of reg:squarederror.\n"
          ],
          "name": "stdout"
        },
        {
          "output_type": "stream",
          "text": [
            "/usr/local/lib/python3.6/dist-packages/xgboost/core.py:587: FutureWarning: Series.base is deprecated and will be removed in a future version\n",
            "  if getattr(data, 'base', None) is not None and \\\n"
          ],
          "name": "stderr"
        },
        {
          "output_type": "stream",
          "text": [
            "[11:28:03] WARNING: /workspace/src/objective/regression_obj.cu:152: reg:linear is now deprecated in favor of reg:squarederror.\n"
          ],
          "name": "stdout"
        },
        {
          "output_type": "stream",
          "text": [
            "/usr/local/lib/python3.6/dist-packages/xgboost/core.py:587: FutureWarning: Series.base is deprecated and will be removed in a future version\n",
            "  if getattr(data, 'base', None) is not None and \\\n"
          ],
          "name": "stderr"
        },
        {
          "output_type": "stream",
          "text": [
            "[11:28:53] WARNING: /workspace/src/objective/regression_obj.cu:152: reg:linear is now deprecated in favor of reg:squarederror.\n"
          ],
          "name": "stdout"
        },
        {
          "output_type": "stream",
          "text": [
            "/usr/local/lib/python3.6/dist-packages/xgboost/core.py:587: FutureWarning: Series.base is deprecated and will be removed in a future version\n",
            "  if getattr(data, 'base', None) is not None and \\\n"
          ],
          "name": "stderr"
        },
        {
          "output_type": "stream",
          "text": [
            "[11:29:44] WARNING: /workspace/src/objective/regression_obj.cu:152: reg:linear is now deprecated in favor of reg:squarederror.\n"
          ],
          "name": "stdout"
        },
        {
          "output_type": "stream",
          "text": [
            "/usr/local/lib/python3.6/dist-packages/xgboost/core.py:587: FutureWarning: Series.base is deprecated and will be removed in a future version\n",
            "  if getattr(data, 'base', None) is not None and \\\n"
          ],
          "name": "stderr"
        },
        {
          "output_type": "stream",
          "text": [
            "[11:30:34] WARNING: /workspace/src/objective/regression_obj.cu:152: reg:linear is now deprecated in favor of reg:squarederror.\n"
          ],
          "name": "stdout"
        },
        {
          "output_type": "stream",
          "text": [
            "/usr/local/lib/python3.6/dist-packages/xgboost/core.py:587: FutureWarning: Series.base is deprecated and will be removed in a future version\n",
            "  if getattr(data, 'base', None) is not None and \\\n"
          ],
          "name": "stderr"
        },
        {
          "output_type": "stream",
          "text": [
            "[11:31:23] WARNING: /workspace/src/objective/regression_obj.cu:152: reg:linear is now deprecated in favor of reg:squarederror.\n"
          ],
          "name": "stdout"
        },
        {
          "output_type": "stream",
          "text": [
            "/usr/local/lib/python3.6/dist-packages/xgboost/core.py:587: FutureWarning: Series.base is deprecated and will be removed in a future version\n",
            "  if getattr(data, 'base', None) is not None and \\\n"
          ],
          "name": "stderr"
        },
        {
          "output_type": "stream",
          "text": [
            "[11:32:13] WARNING: /workspace/src/objective/regression_obj.cu:152: reg:linear is now deprecated in favor of reg:squarederror.\n"
          ],
          "name": "stdout"
        },
        {
          "output_type": "stream",
          "text": [
            "/usr/local/lib/python3.6/dist-packages/xgboost/core.py:587: FutureWarning: Series.base is deprecated and will be removed in a future version\n",
            "  if getattr(data, 'base', None) is not None and \\\n"
          ],
          "name": "stderr"
        },
        {
          "output_type": "stream",
          "text": [
            "[11:33:08] WARNING: /workspace/src/objective/regression_obj.cu:152: reg:linear is now deprecated in favor of reg:squarederror.\n"
          ],
          "name": "stdout"
        },
        {
          "output_type": "stream",
          "text": [
            "/usr/local/lib/python3.6/dist-packages/xgboost/core.py:587: FutureWarning: Series.base is deprecated and will be removed in a future version\n",
            "  if getattr(data, 'base', None) is not None and \\\n"
          ],
          "name": "stderr"
        },
        {
          "output_type": "stream",
          "text": [
            "[11:34:04] WARNING: /workspace/src/objective/regression_obj.cu:152: reg:linear is now deprecated in favor of reg:squarederror.\n"
          ],
          "name": "stdout"
        },
        {
          "output_type": "stream",
          "text": [
            "/usr/local/lib/python3.6/dist-packages/xgboost/core.py:587: FutureWarning: Series.base is deprecated and will be removed in a future version\n",
            "  if getattr(data, 'base', None) is not None and \\\n"
          ],
          "name": "stderr"
        },
        {
          "output_type": "stream",
          "text": [
            "[11:34:58] WARNING: /workspace/src/objective/regression_obj.cu:152: reg:linear is now deprecated in favor of reg:squarederror.\n"
          ],
          "name": "stdout"
        },
        {
          "output_type": "stream",
          "text": [
            "/usr/local/lib/python3.6/dist-packages/xgboost/core.py:587: FutureWarning: Series.base is deprecated and will be removed in a future version\n",
            "  if getattr(data, 'base', None) is not None and \\\n"
          ],
          "name": "stderr"
        },
        {
          "output_type": "stream",
          "text": [
            "[11:35:58] WARNING: /workspace/src/objective/regression_obj.cu:152: reg:linear is now deprecated in favor of reg:squarederror.\n"
          ],
          "name": "stdout"
        },
        {
          "output_type": "stream",
          "text": [
            "/usr/local/lib/python3.6/dist-packages/xgboost/core.py:587: FutureWarning: Series.base is deprecated and will be removed in a future version\n",
            "  if getattr(data, 'base', None) is not None and \\\n"
          ],
          "name": "stderr"
        },
        {
          "output_type": "stream",
          "text": [
            "[11:36:58] WARNING: /workspace/src/objective/regression_obj.cu:152: reg:linear is now deprecated in favor of reg:squarederror.\n"
          ],
          "name": "stdout"
        },
        {
          "output_type": "stream",
          "text": [
            "/usr/local/lib/python3.6/dist-packages/xgboost/core.py:587: FutureWarning: Series.base is deprecated and will be removed in a future version\n",
            "  if getattr(data, 'base', None) is not None and \\\n"
          ],
          "name": "stderr"
        },
        {
          "output_type": "stream",
          "text": [
            "[11:37:58] WARNING: /workspace/src/objective/regression_obj.cu:152: reg:linear is now deprecated in favor of reg:squarederror.\n"
          ],
          "name": "stdout"
        },
        {
          "output_type": "stream",
          "text": [
            "/usr/local/lib/python3.6/dist-packages/xgboost/core.py:587: FutureWarning: Series.base is deprecated and will be removed in a future version\n",
            "  if getattr(data, 'base', None) is not None and \\\n"
          ],
          "name": "stderr"
        },
        {
          "output_type": "stream",
          "text": [
            "[11:39:03] WARNING: /workspace/src/objective/regression_obj.cu:152: reg:linear is now deprecated in favor of reg:squarederror.\n"
          ],
          "name": "stdout"
        },
        {
          "output_type": "stream",
          "text": [
            "/usr/local/lib/python3.6/dist-packages/xgboost/core.py:587: FutureWarning: Series.base is deprecated and will be removed in a future version\n",
            "  if getattr(data, 'base', None) is not None and \\\n"
          ],
          "name": "stderr"
        },
        {
          "output_type": "stream",
          "text": [
            "[11:40:07] WARNING: /workspace/src/objective/regression_obj.cu:152: reg:linear is now deprecated in favor of reg:squarederror.\n"
          ],
          "name": "stdout"
        },
        {
          "output_type": "stream",
          "text": [
            "/usr/local/lib/python3.6/dist-packages/xgboost/core.py:587: FutureWarning: Series.base is deprecated and will be removed in a future version\n",
            "  if getattr(data, 'base', None) is not None and \\\n"
          ],
          "name": "stderr"
        },
        {
          "output_type": "stream",
          "text": [
            "[11:41:10] WARNING: /workspace/src/objective/regression_obj.cu:152: reg:linear is now deprecated in favor of reg:squarederror.\n"
          ],
          "name": "stdout"
        },
        {
          "output_type": "stream",
          "text": [
            "/usr/local/lib/python3.6/dist-packages/xgboost/core.py:587: FutureWarning: Series.base is deprecated and will be removed in a future version\n",
            "  if getattr(data, 'base', None) is not None and \\\n"
          ],
          "name": "stderr"
        },
        {
          "output_type": "stream",
          "text": [
            "[11:42:14] WARNING: /workspace/src/objective/regression_obj.cu:152: reg:linear is now deprecated in favor of reg:squarederror.\n"
          ],
          "name": "stdout"
        },
        {
          "output_type": "stream",
          "text": [
            "/usr/local/lib/python3.6/dist-packages/xgboost/core.py:587: FutureWarning: Series.base is deprecated and will be removed in a future version\n",
            "  if getattr(data, 'base', None) is not None and \\\n"
          ],
          "name": "stderr"
        },
        {
          "output_type": "stream",
          "text": [
            "[11:43:17] WARNING: /workspace/src/objective/regression_obj.cu:152: reg:linear is now deprecated in favor of reg:squarederror.\n"
          ],
          "name": "stdout"
        },
        {
          "output_type": "stream",
          "text": [
            "/usr/local/lib/python3.6/dist-packages/xgboost/core.py:587: FutureWarning: Series.base is deprecated and will be removed in a future version\n",
            "  if getattr(data, 'base', None) is not None and \\\n"
          ],
          "name": "stderr"
        },
        {
          "output_type": "stream",
          "text": [
            "[11:44:21] WARNING: /workspace/src/objective/regression_obj.cu:152: reg:linear is now deprecated in favor of reg:squarederror.\n"
          ],
          "name": "stdout"
        },
        {
          "output_type": "stream",
          "text": [
            "/usr/local/lib/python3.6/dist-packages/xgboost/core.py:587: FutureWarning: Series.base is deprecated and will be removed in a future version\n",
            "  if getattr(data, 'base', None) is not None and \\\n"
          ],
          "name": "stderr"
        },
        {
          "output_type": "stream",
          "text": [
            "[11:45:22] WARNING: /workspace/src/objective/regression_obj.cu:152: reg:linear is now deprecated in favor of reg:squarederror.\n"
          ],
          "name": "stdout"
        },
        {
          "output_type": "stream",
          "text": [
            "/usr/local/lib/python3.6/dist-packages/xgboost/core.py:587: FutureWarning: Series.base is deprecated and will be removed in a future version\n",
            "  if getattr(data, 'base', None) is not None and \\\n"
          ],
          "name": "stderr"
        },
        {
          "output_type": "stream",
          "text": [
            "[11:46:24] WARNING: /workspace/src/objective/regression_obj.cu:152: reg:linear is now deprecated in favor of reg:squarederror.\n"
          ],
          "name": "stdout"
        },
        {
          "output_type": "stream",
          "text": [
            "/usr/local/lib/python3.6/dist-packages/xgboost/core.py:587: FutureWarning: Series.base is deprecated and will be removed in a future version\n",
            "  if getattr(data, 'base', None) is not None and \\\n"
          ],
          "name": "stderr"
        },
        {
          "output_type": "stream",
          "text": [
            "[11:47:25] WARNING: /workspace/src/objective/regression_obj.cu:152: reg:linear is now deprecated in favor of reg:squarederror.\n"
          ],
          "name": "stdout"
        },
        {
          "output_type": "stream",
          "text": [
            "/usr/local/lib/python3.6/dist-packages/xgboost/core.py:587: FutureWarning: Series.base is deprecated and will be removed in a future version\n",
            "  if getattr(data, 'base', None) is not None and \\\n"
          ],
          "name": "stderr"
        },
        {
          "output_type": "stream",
          "text": [
            "[11:48:31] WARNING: /workspace/src/objective/regression_obj.cu:152: reg:linear is now deprecated in favor of reg:squarederror.\n"
          ],
          "name": "stdout"
        },
        {
          "output_type": "stream",
          "text": [
            "/usr/local/lib/python3.6/dist-packages/xgboost/core.py:587: FutureWarning: Series.base is deprecated and will be removed in a future version\n",
            "  if getattr(data, 'base', None) is not None and \\\n"
          ],
          "name": "stderr"
        },
        {
          "output_type": "stream",
          "text": [
            "[11:49:38] WARNING: /workspace/src/objective/regression_obj.cu:152: reg:linear is now deprecated in favor of reg:squarederror.\n"
          ],
          "name": "stdout"
        },
        {
          "output_type": "error",
          "ename": "KeyboardInterrupt",
          "evalue": "ignored",
          "traceback": [
            "\u001b[0;31m---------------------------------------------------------------------------\u001b[0m",
            "\u001b[0;31mKeyboardInterrupt\u001b[0m                         Traceback (most recent call last)",
            "\u001b[0;32m<ipython-input-96-7fd769553888>\u001b[0m in \u001b[0;36m<module>\u001b[0;34m()\u001b[0m\n\u001b[1;32m      5\u001b[0m \u001b[0;34m\u001b[0m\u001b[0m\n\u001b[1;32m      6\u001b[0m \u001b[0mgrid2\u001b[0m \u001b[0;34m=\u001b[0m \u001b[0mGridSearchCV\u001b[0m\u001b[0;34m(\u001b[0m\u001b[0mxgb\u001b[0m\u001b[0;34m,\u001b[0m \u001b[0mparams\u001b[0m\u001b[0;34m)\u001b[0m\u001b[0;34m\u001b[0m\u001b[0;34m\u001b[0m\u001b[0m\n\u001b[0;32m----> 7\u001b[0;31m \u001b[0mgrid2\u001b[0m\u001b[0;34m.\u001b[0m\u001b[0mfit\u001b[0m\u001b[0;34m(\u001b[0m\u001b[0mX\u001b[0m\u001b[0;34m,\u001b[0m \u001b[0mY\u001b[0m\u001b[0;34m)\u001b[0m\u001b[0;34m\u001b[0m\u001b[0;34m\u001b[0m\u001b[0m\n\u001b[0m\u001b[1;32m      8\u001b[0m \u001b[0;34m\u001b[0m\u001b[0m\n\u001b[1;32m      9\u001b[0m \u001b[0;31m# Print the r2 score\u001b[0m\u001b[0;34m\u001b[0m\u001b[0;34m\u001b[0m\u001b[0;34m\u001b[0m\u001b[0m\n",
            "\u001b[0;32m/usr/local/lib/python3.6/dist-packages/sklearn/model_selection/_search.py\u001b[0m in \u001b[0;36mfit\u001b[0;34m(self, X, y, groups, **fit_params)\u001b[0m\n\u001b[1;32m    686\u001b[0m                 \u001b[0;32mreturn\u001b[0m \u001b[0mresults\u001b[0m\u001b[0;34m\u001b[0m\u001b[0;34m\u001b[0m\u001b[0m\n\u001b[1;32m    687\u001b[0m \u001b[0;34m\u001b[0m\u001b[0m\n\u001b[0;32m--> 688\u001b[0;31m             \u001b[0mself\u001b[0m\u001b[0;34m.\u001b[0m\u001b[0m_run_search\u001b[0m\u001b[0;34m(\u001b[0m\u001b[0mevaluate_candidates\u001b[0m\u001b[0;34m)\u001b[0m\u001b[0;34m\u001b[0m\u001b[0;34m\u001b[0m\u001b[0m\n\u001b[0m\u001b[1;32m    689\u001b[0m \u001b[0;34m\u001b[0m\u001b[0m\n\u001b[1;32m    690\u001b[0m         \u001b[0;31m# For multi-metric evaluation, store the best_index_, best_params_ and\u001b[0m\u001b[0;34m\u001b[0m\u001b[0;34m\u001b[0m\u001b[0;34m\u001b[0m\u001b[0m\n",
            "\u001b[0;32m/usr/local/lib/python3.6/dist-packages/sklearn/model_selection/_search.py\u001b[0m in \u001b[0;36m_run_search\u001b[0;34m(self, evaluate_candidates)\u001b[0m\n\u001b[1;32m   1147\u001b[0m     \u001b[0;32mdef\u001b[0m \u001b[0m_run_search\u001b[0m\u001b[0;34m(\u001b[0m\u001b[0mself\u001b[0m\u001b[0;34m,\u001b[0m \u001b[0mevaluate_candidates\u001b[0m\u001b[0;34m)\u001b[0m\u001b[0;34m:\u001b[0m\u001b[0;34m\u001b[0m\u001b[0;34m\u001b[0m\u001b[0m\n\u001b[1;32m   1148\u001b[0m         \u001b[0;34m\"\"\"Search all candidates in param_grid\"\"\"\u001b[0m\u001b[0;34m\u001b[0m\u001b[0;34m\u001b[0m\u001b[0m\n\u001b[0;32m-> 1149\u001b[0;31m         \u001b[0mevaluate_candidates\u001b[0m\u001b[0;34m(\u001b[0m\u001b[0mParameterGrid\u001b[0m\u001b[0;34m(\u001b[0m\u001b[0mself\u001b[0m\u001b[0;34m.\u001b[0m\u001b[0mparam_grid\u001b[0m\u001b[0;34m)\u001b[0m\u001b[0;34m)\u001b[0m\u001b[0;34m\u001b[0m\u001b[0;34m\u001b[0m\u001b[0m\n\u001b[0m\u001b[1;32m   1150\u001b[0m \u001b[0;34m\u001b[0m\u001b[0m\n\u001b[1;32m   1151\u001b[0m \u001b[0;34m\u001b[0m\u001b[0m\n",
            "\u001b[0;32m/usr/local/lib/python3.6/dist-packages/sklearn/model_selection/_search.py\u001b[0m in \u001b[0;36mevaluate_candidates\u001b[0;34m(candidate_params)\u001b[0m\n\u001b[1;32m    665\u001b[0m                                \u001b[0;32mfor\u001b[0m \u001b[0mparameters\u001b[0m\u001b[0;34m,\u001b[0m \u001b[0;34m(\u001b[0m\u001b[0mtrain\u001b[0m\u001b[0;34m,\u001b[0m \u001b[0mtest\u001b[0m\u001b[0;34m)\u001b[0m\u001b[0;34m\u001b[0m\u001b[0;34m\u001b[0m\u001b[0m\n\u001b[1;32m    666\u001b[0m                                in product(candidate_params,\n\u001b[0;32m--> 667\u001b[0;31m                                           cv.split(X, y, groups)))\n\u001b[0m\u001b[1;32m    668\u001b[0m \u001b[0;34m\u001b[0m\u001b[0m\n\u001b[1;32m    669\u001b[0m                 \u001b[0;32mif\u001b[0m \u001b[0mlen\u001b[0m\u001b[0;34m(\u001b[0m\u001b[0mout\u001b[0m\u001b[0;34m)\u001b[0m \u001b[0;34m<\u001b[0m \u001b[0;36m1\u001b[0m\u001b[0;34m:\u001b[0m\u001b[0;34m\u001b[0m\u001b[0;34m\u001b[0m\u001b[0m\n",
            "\u001b[0;32m/usr/local/lib/python3.6/dist-packages/joblib/parallel.py\u001b[0m in \u001b[0;36m__call__\u001b[0;34m(self, iterable)\u001b[0m\n\u001b[1;32m    922\u001b[0m                 \u001b[0mself\u001b[0m\u001b[0;34m.\u001b[0m\u001b[0m_iterating\u001b[0m \u001b[0;34m=\u001b[0m \u001b[0mself\u001b[0m\u001b[0;34m.\u001b[0m\u001b[0m_original_iterator\u001b[0m \u001b[0;32mis\u001b[0m \u001b[0;32mnot\u001b[0m \u001b[0;32mNone\u001b[0m\u001b[0;34m\u001b[0m\u001b[0;34m\u001b[0m\u001b[0m\n\u001b[1;32m    923\u001b[0m \u001b[0;34m\u001b[0m\u001b[0m\n\u001b[0;32m--> 924\u001b[0;31m             \u001b[0;32mwhile\u001b[0m \u001b[0mself\u001b[0m\u001b[0;34m.\u001b[0m\u001b[0mdispatch_one_batch\u001b[0m\u001b[0;34m(\u001b[0m\u001b[0miterator\u001b[0m\u001b[0;34m)\u001b[0m\u001b[0;34m:\u001b[0m\u001b[0;34m\u001b[0m\u001b[0;34m\u001b[0m\u001b[0m\n\u001b[0m\u001b[1;32m    925\u001b[0m                 \u001b[0;32mpass\u001b[0m\u001b[0;34m\u001b[0m\u001b[0;34m\u001b[0m\u001b[0m\n\u001b[1;32m    926\u001b[0m \u001b[0;34m\u001b[0m\u001b[0m\n",
            "\u001b[0;32m/usr/local/lib/python3.6/dist-packages/joblib/parallel.py\u001b[0m in \u001b[0;36mdispatch_one_batch\u001b[0;34m(self, iterator)\u001b[0m\n\u001b[1;32m    757\u001b[0m                 \u001b[0;32mreturn\u001b[0m \u001b[0;32mFalse\u001b[0m\u001b[0;34m\u001b[0m\u001b[0;34m\u001b[0m\u001b[0m\n\u001b[1;32m    758\u001b[0m             \u001b[0;32melse\u001b[0m\u001b[0;34m:\u001b[0m\u001b[0;34m\u001b[0m\u001b[0;34m\u001b[0m\u001b[0m\n\u001b[0;32m--> 759\u001b[0;31m                 \u001b[0mself\u001b[0m\u001b[0;34m.\u001b[0m\u001b[0m_dispatch\u001b[0m\u001b[0;34m(\u001b[0m\u001b[0mtasks\u001b[0m\u001b[0;34m)\u001b[0m\u001b[0;34m\u001b[0m\u001b[0;34m\u001b[0m\u001b[0m\n\u001b[0m\u001b[1;32m    760\u001b[0m                 \u001b[0;32mreturn\u001b[0m \u001b[0;32mTrue\u001b[0m\u001b[0;34m\u001b[0m\u001b[0;34m\u001b[0m\u001b[0m\n\u001b[1;32m    761\u001b[0m \u001b[0;34m\u001b[0m\u001b[0m\n",
            "\u001b[0;32m/usr/local/lib/python3.6/dist-packages/joblib/parallel.py\u001b[0m in \u001b[0;36m_dispatch\u001b[0;34m(self, batch)\u001b[0m\n\u001b[1;32m    714\u001b[0m         \u001b[0;32mwith\u001b[0m \u001b[0mself\u001b[0m\u001b[0;34m.\u001b[0m\u001b[0m_lock\u001b[0m\u001b[0;34m:\u001b[0m\u001b[0;34m\u001b[0m\u001b[0;34m\u001b[0m\u001b[0m\n\u001b[1;32m    715\u001b[0m             \u001b[0mjob_idx\u001b[0m \u001b[0;34m=\u001b[0m \u001b[0mlen\u001b[0m\u001b[0;34m(\u001b[0m\u001b[0mself\u001b[0m\u001b[0;34m.\u001b[0m\u001b[0m_jobs\u001b[0m\u001b[0;34m)\u001b[0m\u001b[0;34m\u001b[0m\u001b[0;34m\u001b[0m\u001b[0m\n\u001b[0;32m--> 716\u001b[0;31m             \u001b[0mjob\u001b[0m \u001b[0;34m=\u001b[0m \u001b[0mself\u001b[0m\u001b[0;34m.\u001b[0m\u001b[0m_backend\u001b[0m\u001b[0;34m.\u001b[0m\u001b[0mapply_async\u001b[0m\u001b[0;34m(\u001b[0m\u001b[0mbatch\u001b[0m\u001b[0;34m,\u001b[0m \u001b[0mcallback\u001b[0m\u001b[0;34m=\u001b[0m\u001b[0mcb\u001b[0m\u001b[0;34m)\u001b[0m\u001b[0;34m\u001b[0m\u001b[0;34m\u001b[0m\u001b[0m\n\u001b[0m\u001b[1;32m    717\u001b[0m             \u001b[0;31m# A job can complete so quickly than its callback is\u001b[0m\u001b[0;34m\u001b[0m\u001b[0;34m\u001b[0m\u001b[0;34m\u001b[0m\u001b[0m\n\u001b[1;32m    718\u001b[0m             \u001b[0;31m# called before we get here, causing self._jobs to\u001b[0m\u001b[0;34m\u001b[0m\u001b[0;34m\u001b[0m\u001b[0;34m\u001b[0m\u001b[0m\n",
            "\u001b[0;32m/usr/local/lib/python3.6/dist-packages/joblib/_parallel_backends.py\u001b[0m in \u001b[0;36mapply_async\u001b[0;34m(self, func, callback)\u001b[0m\n\u001b[1;32m    180\u001b[0m     \u001b[0;32mdef\u001b[0m \u001b[0mapply_async\u001b[0m\u001b[0;34m(\u001b[0m\u001b[0mself\u001b[0m\u001b[0;34m,\u001b[0m \u001b[0mfunc\u001b[0m\u001b[0;34m,\u001b[0m \u001b[0mcallback\u001b[0m\u001b[0;34m=\u001b[0m\u001b[0;32mNone\u001b[0m\u001b[0;34m)\u001b[0m\u001b[0;34m:\u001b[0m\u001b[0;34m\u001b[0m\u001b[0;34m\u001b[0m\u001b[0m\n\u001b[1;32m    181\u001b[0m         \u001b[0;34m\"\"\"Schedule a func to be run\"\"\"\u001b[0m\u001b[0;34m\u001b[0m\u001b[0;34m\u001b[0m\u001b[0m\n\u001b[0;32m--> 182\u001b[0;31m         \u001b[0mresult\u001b[0m \u001b[0;34m=\u001b[0m \u001b[0mImmediateResult\u001b[0m\u001b[0;34m(\u001b[0m\u001b[0mfunc\u001b[0m\u001b[0;34m)\u001b[0m\u001b[0;34m\u001b[0m\u001b[0;34m\u001b[0m\u001b[0m\n\u001b[0m\u001b[1;32m    183\u001b[0m         \u001b[0;32mif\u001b[0m \u001b[0mcallback\u001b[0m\u001b[0;34m:\u001b[0m\u001b[0;34m\u001b[0m\u001b[0;34m\u001b[0m\u001b[0m\n\u001b[1;32m    184\u001b[0m             \u001b[0mcallback\u001b[0m\u001b[0;34m(\u001b[0m\u001b[0mresult\u001b[0m\u001b[0;34m)\u001b[0m\u001b[0;34m\u001b[0m\u001b[0;34m\u001b[0m\u001b[0m\n",
            "\u001b[0;32m/usr/local/lib/python3.6/dist-packages/joblib/_parallel_backends.py\u001b[0m in \u001b[0;36m__init__\u001b[0;34m(self, batch)\u001b[0m\n\u001b[1;32m    547\u001b[0m         \u001b[0;31m# Don't delay the application, to avoid keeping the input\u001b[0m\u001b[0;34m\u001b[0m\u001b[0;34m\u001b[0m\u001b[0;34m\u001b[0m\u001b[0m\n\u001b[1;32m    548\u001b[0m         \u001b[0;31m# arguments in memory\u001b[0m\u001b[0;34m\u001b[0m\u001b[0;34m\u001b[0m\u001b[0;34m\u001b[0m\u001b[0m\n\u001b[0;32m--> 549\u001b[0;31m         \u001b[0mself\u001b[0m\u001b[0;34m.\u001b[0m\u001b[0mresults\u001b[0m \u001b[0;34m=\u001b[0m \u001b[0mbatch\u001b[0m\u001b[0;34m(\u001b[0m\u001b[0;34m)\u001b[0m\u001b[0;34m\u001b[0m\u001b[0;34m\u001b[0m\u001b[0m\n\u001b[0m\u001b[1;32m    550\u001b[0m \u001b[0;34m\u001b[0m\u001b[0m\n\u001b[1;32m    551\u001b[0m     \u001b[0;32mdef\u001b[0m \u001b[0mget\u001b[0m\u001b[0;34m(\u001b[0m\u001b[0mself\u001b[0m\u001b[0;34m)\u001b[0m\u001b[0;34m:\u001b[0m\u001b[0;34m\u001b[0m\u001b[0;34m\u001b[0m\u001b[0m\n",
            "\u001b[0;32m/usr/local/lib/python3.6/dist-packages/joblib/parallel.py\u001b[0m in \u001b[0;36m__call__\u001b[0;34m(self)\u001b[0m\n\u001b[1;32m    223\u001b[0m         \u001b[0;32mwith\u001b[0m \u001b[0mparallel_backend\u001b[0m\u001b[0;34m(\u001b[0m\u001b[0mself\u001b[0m\u001b[0;34m.\u001b[0m\u001b[0m_backend\u001b[0m\u001b[0;34m,\u001b[0m \u001b[0mn_jobs\u001b[0m\u001b[0;34m=\u001b[0m\u001b[0mself\u001b[0m\u001b[0;34m.\u001b[0m\u001b[0m_n_jobs\u001b[0m\u001b[0;34m)\u001b[0m\u001b[0;34m:\u001b[0m\u001b[0;34m\u001b[0m\u001b[0;34m\u001b[0m\u001b[0m\n\u001b[1;32m    224\u001b[0m             return [func(*args, **kwargs)\n\u001b[0;32m--> 225\u001b[0;31m                     for func, args, kwargs in self.items]\n\u001b[0m\u001b[1;32m    226\u001b[0m \u001b[0;34m\u001b[0m\u001b[0m\n\u001b[1;32m    227\u001b[0m     \u001b[0;32mdef\u001b[0m \u001b[0m__len__\u001b[0m\u001b[0;34m(\u001b[0m\u001b[0mself\u001b[0m\u001b[0;34m)\u001b[0m\u001b[0;34m:\u001b[0m\u001b[0;34m\u001b[0m\u001b[0;34m\u001b[0m\u001b[0m\n",
            "\u001b[0;32m/usr/local/lib/python3.6/dist-packages/joblib/parallel.py\u001b[0m in \u001b[0;36m<listcomp>\u001b[0;34m(.0)\u001b[0m\n\u001b[1;32m    223\u001b[0m         \u001b[0;32mwith\u001b[0m \u001b[0mparallel_backend\u001b[0m\u001b[0;34m(\u001b[0m\u001b[0mself\u001b[0m\u001b[0;34m.\u001b[0m\u001b[0m_backend\u001b[0m\u001b[0;34m,\u001b[0m \u001b[0mn_jobs\u001b[0m\u001b[0;34m=\u001b[0m\u001b[0mself\u001b[0m\u001b[0;34m.\u001b[0m\u001b[0m_n_jobs\u001b[0m\u001b[0;34m)\u001b[0m\u001b[0;34m:\u001b[0m\u001b[0;34m\u001b[0m\u001b[0;34m\u001b[0m\u001b[0m\n\u001b[1;32m    224\u001b[0m             return [func(*args, **kwargs)\n\u001b[0;32m--> 225\u001b[0;31m                     for func, args, kwargs in self.items]\n\u001b[0m\u001b[1;32m    226\u001b[0m \u001b[0;34m\u001b[0m\u001b[0m\n\u001b[1;32m    227\u001b[0m     \u001b[0;32mdef\u001b[0m \u001b[0m__len__\u001b[0m\u001b[0;34m(\u001b[0m\u001b[0mself\u001b[0m\u001b[0;34m)\u001b[0m\u001b[0;34m:\u001b[0m\u001b[0;34m\u001b[0m\u001b[0;34m\u001b[0m\u001b[0m\n",
            "\u001b[0;32m/usr/local/lib/python3.6/dist-packages/sklearn/model_selection/_validation.py\u001b[0m in \u001b[0;36m_fit_and_score\u001b[0;34m(estimator, X, y, scorer, train, test, verbose, parameters, fit_params, return_train_score, return_parameters, return_n_test_samples, return_times, return_estimator, error_score)\u001b[0m\n\u001b[1;32m    514\u001b[0m             \u001b[0mestimator\u001b[0m\u001b[0;34m.\u001b[0m\u001b[0mfit\u001b[0m\u001b[0;34m(\u001b[0m\u001b[0mX_train\u001b[0m\u001b[0;34m,\u001b[0m \u001b[0;34m**\u001b[0m\u001b[0mfit_params\u001b[0m\u001b[0;34m)\u001b[0m\u001b[0;34m\u001b[0m\u001b[0;34m\u001b[0m\u001b[0m\n\u001b[1;32m    515\u001b[0m         \u001b[0;32melse\u001b[0m\u001b[0;34m:\u001b[0m\u001b[0;34m\u001b[0m\u001b[0;34m\u001b[0m\u001b[0m\n\u001b[0;32m--> 516\u001b[0;31m             \u001b[0mestimator\u001b[0m\u001b[0;34m.\u001b[0m\u001b[0mfit\u001b[0m\u001b[0;34m(\u001b[0m\u001b[0mX_train\u001b[0m\u001b[0;34m,\u001b[0m \u001b[0my_train\u001b[0m\u001b[0;34m,\u001b[0m \u001b[0;34m**\u001b[0m\u001b[0mfit_params\u001b[0m\u001b[0;34m)\u001b[0m\u001b[0;34m\u001b[0m\u001b[0;34m\u001b[0m\u001b[0m\n\u001b[0m\u001b[1;32m    517\u001b[0m \u001b[0;34m\u001b[0m\u001b[0m\n\u001b[1;32m    518\u001b[0m     \u001b[0;32mexcept\u001b[0m \u001b[0mException\u001b[0m \u001b[0;32mas\u001b[0m \u001b[0me\u001b[0m\u001b[0;34m:\u001b[0m\u001b[0;34m\u001b[0m\u001b[0;34m\u001b[0m\u001b[0m\n",
            "\u001b[0;32m/usr/local/lib/python3.6/dist-packages/xgboost/sklearn.py\u001b[0m in \u001b[0;36mfit\u001b[0;34m(self, X, y, sample_weight, eval_set, eval_metric, early_stopping_rounds, verbose, xgb_model, sample_weight_eval_set, callbacks)\u001b[0m\n\u001b[1;32m    394\u001b[0m                               \u001b[0mevals_result\u001b[0m\u001b[0;34m=\u001b[0m\u001b[0mevals_result\u001b[0m\u001b[0;34m,\u001b[0m \u001b[0mobj\u001b[0m\u001b[0;34m=\u001b[0m\u001b[0mobj\u001b[0m\u001b[0;34m,\u001b[0m \u001b[0mfeval\u001b[0m\u001b[0;34m=\u001b[0m\u001b[0mfeval\u001b[0m\u001b[0;34m,\u001b[0m\u001b[0;34m\u001b[0m\u001b[0;34m\u001b[0m\u001b[0m\n\u001b[1;32m    395\u001b[0m                               \u001b[0mverbose_eval\u001b[0m\u001b[0;34m=\u001b[0m\u001b[0mverbose\u001b[0m\u001b[0;34m,\u001b[0m \u001b[0mxgb_model\u001b[0m\u001b[0;34m=\u001b[0m\u001b[0mxgb_model\u001b[0m\u001b[0;34m,\u001b[0m\u001b[0;34m\u001b[0m\u001b[0;34m\u001b[0m\u001b[0m\n\u001b[0;32m--> 396\u001b[0;31m                               callbacks=callbacks)\n\u001b[0m\u001b[1;32m    397\u001b[0m \u001b[0;34m\u001b[0m\u001b[0m\n\u001b[1;32m    398\u001b[0m         \u001b[0;32mif\u001b[0m \u001b[0mevals_result\u001b[0m\u001b[0;34m:\u001b[0m\u001b[0;34m\u001b[0m\u001b[0;34m\u001b[0m\u001b[0m\n",
            "\u001b[0;32m/usr/local/lib/python3.6/dist-packages/xgboost/training.py\u001b[0m in \u001b[0;36mtrain\u001b[0;34m(params, dtrain, num_boost_round, evals, obj, feval, maximize, early_stopping_rounds, evals_result, verbose_eval, xgb_model, callbacks, learning_rates)\u001b[0m\n\u001b[1;32m    214\u001b[0m                            \u001b[0mevals\u001b[0m\u001b[0;34m=\u001b[0m\u001b[0mevals\u001b[0m\u001b[0;34m,\u001b[0m\u001b[0;34m\u001b[0m\u001b[0;34m\u001b[0m\u001b[0m\n\u001b[1;32m    215\u001b[0m                            \u001b[0mobj\u001b[0m\u001b[0;34m=\u001b[0m\u001b[0mobj\u001b[0m\u001b[0;34m,\u001b[0m \u001b[0mfeval\u001b[0m\u001b[0;34m=\u001b[0m\u001b[0mfeval\u001b[0m\u001b[0;34m,\u001b[0m\u001b[0;34m\u001b[0m\u001b[0;34m\u001b[0m\u001b[0m\n\u001b[0;32m--> 216\u001b[0;31m                            xgb_model=xgb_model, callbacks=callbacks)\n\u001b[0m\u001b[1;32m    217\u001b[0m \u001b[0;34m\u001b[0m\u001b[0m\n\u001b[1;32m    218\u001b[0m \u001b[0;34m\u001b[0m\u001b[0m\n",
            "\u001b[0;32m/usr/local/lib/python3.6/dist-packages/xgboost/training.py\u001b[0m in \u001b[0;36m_train_internal\u001b[0;34m(params, dtrain, num_boost_round, evals, obj, feval, xgb_model, callbacks)\u001b[0m\n\u001b[1;32m     72\u001b[0m         \u001b[0;31m# Skip the first update if it is a recovery step.\u001b[0m\u001b[0;34m\u001b[0m\u001b[0;34m\u001b[0m\u001b[0;34m\u001b[0m\u001b[0m\n\u001b[1;32m     73\u001b[0m         \u001b[0;32mif\u001b[0m \u001b[0mversion\u001b[0m \u001b[0;34m%\u001b[0m \u001b[0;36m2\u001b[0m \u001b[0;34m==\u001b[0m \u001b[0;36m0\u001b[0m\u001b[0;34m:\u001b[0m\u001b[0;34m\u001b[0m\u001b[0;34m\u001b[0m\u001b[0m\n\u001b[0;32m---> 74\u001b[0;31m             \u001b[0mbst\u001b[0m\u001b[0;34m.\u001b[0m\u001b[0mupdate\u001b[0m\u001b[0;34m(\u001b[0m\u001b[0mdtrain\u001b[0m\u001b[0;34m,\u001b[0m \u001b[0mi\u001b[0m\u001b[0;34m,\u001b[0m \u001b[0mobj\u001b[0m\u001b[0;34m)\u001b[0m\u001b[0;34m\u001b[0m\u001b[0;34m\u001b[0m\u001b[0m\n\u001b[0m\u001b[1;32m     75\u001b[0m             \u001b[0mbst\u001b[0m\u001b[0;34m.\u001b[0m\u001b[0msave_rabit_checkpoint\u001b[0m\u001b[0;34m(\u001b[0m\u001b[0;34m)\u001b[0m\u001b[0;34m\u001b[0m\u001b[0;34m\u001b[0m\u001b[0m\n\u001b[1;32m     76\u001b[0m             \u001b[0mversion\u001b[0m \u001b[0;34m+=\u001b[0m \u001b[0;36m1\u001b[0m\u001b[0;34m\u001b[0m\u001b[0;34m\u001b[0m\u001b[0m\n",
            "\u001b[0;32m/usr/local/lib/python3.6/dist-packages/xgboost/core.py\u001b[0m in \u001b[0;36mupdate\u001b[0;34m(self, dtrain, iteration, fobj)\u001b[0m\n\u001b[1;32m   1107\u001b[0m         \u001b[0;32mif\u001b[0m \u001b[0mfobj\u001b[0m \u001b[0;32mis\u001b[0m \u001b[0;32mNone\u001b[0m\u001b[0;34m:\u001b[0m\u001b[0;34m\u001b[0m\u001b[0;34m\u001b[0m\u001b[0m\n\u001b[1;32m   1108\u001b[0m             _check_call(_LIB.XGBoosterUpdateOneIter(self.handle, ctypes.c_int(iteration),\n\u001b[0;32m-> 1109\u001b[0;31m                                                     dtrain.handle))\n\u001b[0m\u001b[1;32m   1110\u001b[0m         \u001b[0;32melse\u001b[0m\u001b[0;34m:\u001b[0m\u001b[0;34m\u001b[0m\u001b[0;34m\u001b[0m\u001b[0m\n\u001b[1;32m   1111\u001b[0m             \u001b[0mpred\u001b[0m \u001b[0;34m=\u001b[0m \u001b[0mself\u001b[0m\u001b[0;34m.\u001b[0m\u001b[0mpredict\u001b[0m\u001b[0;34m(\u001b[0m\u001b[0mdtrain\u001b[0m\u001b[0;34m)\u001b[0m\u001b[0;34m\u001b[0m\u001b[0;34m\u001b[0m\u001b[0m\n",
            "\u001b[0;31mKeyboardInterrupt\u001b[0m: "
          ]
        }
      ]
    },
    {
      "cell_type": "code",
      "metadata": {
        "id": "tMFb1sQkyK_o",
        "colab_type": "code",
        "colab": {}
      },
      "source": [
        "grid2.best_estimator_"
      ],
      "execution_count": 0,
      "outputs": []
    },
    {
      "cell_type": "code",
      "metadata": {
        "id": "waEFiHkD4g8K",
        "colab_type": "code",
        "colab": {}
      },
      "source": [
        "model=XGBRegressor(base_score=0.5, booster='gbtree', colsample_bylevel=1,\n",
        "             colsample_bynode=1, colsample_bytree=1, gamma=0,\n",
        "             importance_type='gain', learning_rate=0.03, max_delta_step=0,\n",
        "             max_depth=4, min_child_weight=1, missing=None, n_estimators=300,\n",
        "             n_jobs=1, nthread=-1, objective='reg:linear', random_state=0,\n",
        "             reg_alpha=0, reg_lambda=1, scale_pos_weight=1, seed=None,\n",
        "             silent=None, subsample=0.7, verbosity=1)"
      ],
      "execution_count": 0,
      "outputs": []
    },
    {
      "cell_type": "markdown",
      "metadata": {
        "id": "T9rxCjz0hD79",
        "colab_type": "text"
      },
      "source": [
        "### and so on for min_child_weight and colsample_bytree"
      ]
    },
    {
      "cell_type": "code",
      "metadata": {
        "id": "rX_urEMvjtmc",
        "colab_type": "code",
        "colab": {}
      },
      "source": [
        "\n",
        "\n",
        "# A parameter grid for XGBoost\n",
        "params = {'learning_rate': [0.05] ,  'n_estimators':[300]  , 'max_depth' : [5], 'subsample' : [0.7] , \n",
        "         'min_child_weight' :[0.5 , 1 , 1.5 , 2] , 'colsample_bytree' : [i / 10.0 for i in range(1,7)]\n",
        "       }\n",
        "\n",
        "# Initialize XGB and GridSearch\n",
        "xgb = XGBRegressor(nthread=-1) \n",
        "\n",
        "grid3 = GridSearchCV(xgb, params)\n",
        "grid3.fit(X, Y)\n",
        "\n",
        "# Print the r2 score\n",
        "print(r2_score(Y_Val, grid3.best_estimator_.predict(X_Val))) \n",
        "# Print the mse score\n",
        "print(mean_squared_error(Y_Val, grid3.best_estimator_.predict(X_Val))) "
      ],
      "execution_count": 0,
      "outputs": []
    },
    {
      "cell_type": "code",
      "metadata": {
        "id": "2TQqzcS0ra1i",
        "colab_type": "code",
        "colab": {}
      },
      "source": [
        "grid3.best_estimator_"
      ],
      "execution_count": 0,
      "outputs": []
    },
    {
      "cell_type": "code",
      "metadata": {
        "id": "E0OXf-XNr_H-",
        "colab_type": "code",
        "colab": {}
      },
      "source": [
        "model=XGBRegressor(base_score=0.5, booster='gbtree', colsample_bylevel=1,\n",
        "             colsample_bynode=1, colsample_bytree=0.5, gamma=0,\n",
        "             importance_type='gain', learning_rate=0.05, max_delta_step=0,\n",
        "             max_depth=4, min_child_weight=1.5, missing=None, n_estimators=800,\n",
        "             n_jobs=1, nthread=-1, objective='reg:linear', random_state=0,\n",
        "             reg_alpha=0, reg_lambda=1, scale_pos_weight=1, seed=None,\n",
        "             silent=None, subsample=0.7, verbosity=1)"
      ],
      "execution_count": 0,
      "outputs": []
    },
    {
      "cell_type": "code",
      "metadata": {
        "id": "KXgPk55esK_4",
        "colab_type": "code",
        "colab": {}
      },
      "source": [
        "model.fit(X, Y)\n",
        "\n"
      ],
      "execution_count": 0,
      "outputs": []
    },
    {
      "cell_type": "code",
      "metadata": {
        "id": "ONl-qYSrtreh",
        "colab_type": "code",
        "colab": {}
      },
      "source": [
        "# Print the r2 score\n",
        "print(r2_score(Y_Val, np.round((grid3.best_estimator_.predict(X_Val)),0)))\n",
        "# Print the mse score\n",
        "print(mean_squared_error(Y_Val, np.round((grid3.best_estimator_.predict(X_Val)),0)))"
      ],
      "execution_count": 0,
      "outputs": []
    },
    {
      "cell_type": "code",
      "metadata": {
        "id": "qrIGdRwWFhli",
        "colab_type": "code",
        "colab": {}
      },
      "source": [
        "\n",
        "pred_1 = pd.DataFrame(grid3.best_estimator_.predict(X_Val)).set_index(Y_Val.index)"
      ],
      "execution_count": 0,
      "outputs": []
    },
    {
      "cell_type": "code",
      "metadata": {
        "id": "ZeDvbtmLO0RA",
        "colab_type": "code",
        "colab": {}
      },
      "source": [
        ""
      ],
      "execution_count": 0,
      "outputs": []
    },
    {
      "cell_type": "code",
      "metadata": {
        "colab_type": "code",
        "id": "6fRaH8VX8e8u",
        "colab": {}
      },
      "source": [
        "pred_1.columns=['pred']"
      ],
      "execution_count": 0,
      "outputs": []
    },
    {
      "cell_type": "code",
      "metadata": {
        "colab_type": "code",
        "id": "wVha6YXd8e8y",
        "colab": {}
      },
      "source": [
        " pred_1['pred']=np.where(pred_1['pred'] <0 , 0 , pred_1['pred'])"
      ],
      "execution_count": 0,
      "outputs": []
    },
    {
      "cell_type": "markdown",
      "metadata": {
        "id": "MpVOXQOjkPaG",
        "colab_type": "text"
      },
      "source": [
        "#### since predictions may include negative values , we replace them by zero , then calculate MSE and R2"
      ]
    },
    {
      "cell_type": "code",
      "metadata": {
        "id": "LExpZO1Q9GyJ",
        "colab_type": "code",
        "colab": {}
      },
      "source": [
        "# Print the r2 score\n",
        "print(r2_score(Y_Val, np.round(pred_1['pred'],0)))\n",
        "# Print the mse score\n",
        "print(mean_squared_error(Y_Val, np.round(pred_1['pred'],0)))"
      ],
      "execution_count": 0,
      "outputs": []
    },
    {
      "cell_type": "markdown",
      "metadata": {
        "id": "Rso-zAahhlZ0",
        "colab_type": "text"
      },
      "source": [
        "## before , we tried fitting model with data pure without any transformation"
      ]
    },
    {
      "cell_type": "markdown",
      "metadata": {
        "id": "jabfBsTuhlXU",
        "colab_type": "text"
      },
      "source": [
        "### below we try min-max transformation on predictors "
      ]
    },
    {
      "cell_type": "code",
      "metadata": {
        "colab_type": "code",
        "id": "fgJhIVQxO2SY",
        "colab": {}
      },
      "source": [
        "numeric_feats = ['content_score','n_images','distance_to_center' ,'stars','n_reviews','avg_rank','avg_price','avg_saving_percent']"
      ],
      "execution_count": 0,
      "outputs": []
    },
    {
      "cell_type": "code",
      "metadata": {
        "colab_type": "code",
        "id": "MeYcp7u0O2Sc",
        "colab": {}
      },
      "source": [
        "scaler = StandardScaler()"
      ],
      "execution_count": 0,
      "outputs": []
    },
    {
      "cell_type": "code",
      "metadata": {
        "id": "IufgspDj0mDU",
        "colab_type": "code",
        "colab": {}
      },
      "source": [
        "from sklearn.preprocessing import MinMaxScaler\n"
      ],
      "execution_count": 0,
      "outputs": []
    },
    {
      "cell_type": "code",
      "metadata": {
        "id": "OumVpeiYygRk",
        "colab_type": "code",
        "colab": {}
      },
      "source": [
        "cs = MinMaxScaler()\n"
      ],
      "execution_count": 0,
      "outputs": []
    },
    {
      "cell_type": "code",
      "metadata": {
        "id": "3EQe9KUbBNRS",
        "colab_type": "code",
        "colab": {}
      },
      "source": [
        "train_final2=train_final.copy()"
      ],
      "execution_count": 0,
      "outputs": []
    },
    {
      "cell_type": "code",
      "metadata": {
        "id": "iermqRUJPxvL",
        "colab_type": "code",
        "colab": {}
      },
      "source": [
        "train_final2=train_final2.drop(columns=['city_id1_0.0' , 'city_id'])"
      ],
      "execution_count": 0,
      "outputs": []
    },
    {
      "cell_type": "code",
      "metadata": {
        "id": "U0SMSaL4yopA",
        "colab_type": "code",
        "colab": {}
      },
      "source": [
        "train_final2[numeric_feats] = cs.fit_transform(train_final2[numeric_feats])\n"
      ],
      "execution_count": 0,
      "outputs": []
    },
    {
      "cell_type": "code",
      "metadata": {
        "id": "4YPieW477tDy",
        "colab_type": "code",
        "colab": {}
      },
      "source": [
        "x_train=train_final2.drop(columns=['n_clicks' ])"
      ],
      "execution_count": 0,
      "outputs": []
    },
    {
      "cell_type": "code",
      "metadata": {
        "id": "AN9rwfRT8E2F",
        "colab_type": "code",
        "colab": {}
      },
      "source": [
        "y_train=train_final2['n_clicks']"
      ],
      "execution_count": 0,
      "outputs": []
    },
    {
      "cell_type": "code",
      "metadata": {
        "colab_type": "code",
        "id": "0M7fqo-5PNNe",
        "colab": {}
      },
      "source": [
        "# Organize our data for training\n",
        "X = x_train\n",
        "Y = y_train\n",
        "X, X_Val, Y, Y_Val = train_test_split(X, Y , train_size =0.7 , shuffle=True)"
      ],
      "execution_count": 0,
      "outputs": []
    },
    {
      "cell_type": "markdown",
      "metadata": {
        "id": "zJcradTNlEJq",
        "colab_type": "text"
      },
      "source": [
        "#### for better accuracy , we make dependent variable range between 0 and 1 as below :"
      ]
    },
    {
      "cell_type": "code",
      "metadata": {
        "id": "POsg5EAoKSwC",
        "colab_type": "code",
        "colab": {}
      },
      "source": [
        "max_clicks =y_train.max()\n",
        "Y=Y/max_clicks\n",
        "Y_Val =  Y_Val/max_clicks\n"
      ],
      "execution_count": 0,
      "outputs": []
    },
    {
      "cell_type": "markdown",
      "metadata": {
        "id": "uuDOwCMulWB5",
        "colab_type": "text"
      },
      "source": [
        "### then we try first to get the best n_estimators and learning_rate as per r2 and MSE (i.e to get the best score in estimating in train set then we can estimate n_clicks better in test set)\n",
        "\n",
        "### so let's start our parameter tuning process"
      ]
    },
    {
      "cell_type": "markdown",
      "metadata": {
        "id": "toVyC0RslaAS",
        "colab_type": "text"
      },
      "source": [
        ""
      ]
    },
    {
      "cell_type": "code",
      "metadata": {
        "colab_type": "code",
        "id": "mxdulSmePNNg",
        "colab": {}
      },
      "source": [
        "\n",
        "\n",
        "# A parameter grid for XGBoost\n",
        "params = {'learning_rate': [ 0.01, 0.03 , 0.05 ,0.1] , 'n_estimators' :[100,  300 , 500 , 800 , 1000]}\n",
        "\n",
        "# Initialize XGB and GridSearch\n",
        "xgb = XGBRegressor(nthread=-1) \n",
        "\n",
        "grid4 = GridSearchCV(xgb, params)\n",
        "grid4.fit(X, Y)\n",
        "\n",
        "# Print the r2 score\n",
        "print(r2_score(Y_Val, grid4.best_estimator_.predict(X_Val))) \n",
        "# Print the mse score\n",
        "print(mean_squared_error(Y_Val, grid4.best_estimator_.predict(X_Val))) "
      ],
      "execution_count": 0,
      "outputs": []
    },
    {
      "cell_type": "code",
      "metadata": {
        "id": "PCzOKovCxmAq",
        "colab_type": "code",
        "colab": {}
      },
      "source": [
        ""
      ],
      "execution_count": 0,
      "outputs": []
    },
    {
      "cell_type": "code",
      "metadata": {
        "id": "HJdn2lgGNbcm",
        "colab_type": "code",
        "colab": {}
      },
      "source": [
        "grid4.best_estimator_"
      ],
      "execution_count": 0,
      "outputs": []
    },
    {
      "cell_type": "markdown",
      "metadata": {
        "id": "qR-H-mmMldVD",
        "colab_type": "text"
      },
      "source": [
        "### and so on with the rest of parameters"
      ]
    },
    {
      "cell_type": "code",
      "metadata": {
        "id": "e5hB96kbaK0j",
        "colab_type": "code",
        "colab": {}
      },
      "source": [
        "# A parameter grid for XGBoost\n",
        "params = {'learning_rate': [0.03] ,  'n_estimators':[300]  , 'max_depth' : [i for i in range(3,8)], 'subsample' : [i/10.0 for i in range(3,8)] }\n",
        "\n",
        "# Initialize XGB and GridSearch\n",
        "xgb = XGBRegressor(nthread=-1) \n",
        "\n",
        "grid5 = GridSearchCV(xgb, params)\n",
        "grid5.fit(X, Y)\n",
        "\n",
        "# Print the r2 score\n",
        "print(r2_score(Y_Val, grid5.best_estimator_.predict(X_Val))) \n",
        "# Print the mse score\n",
        "print(mean_squared_error(Y_Val, grid5.best_estimator_.predict(X_Val))) "
      ],
      "execution_count": 0,
      "outputs": []
    },
    {
      "cell_type": "code",
      "metadata": {
        "id": "nxiGBuwkaK3V",
        "colab_type": "code",
        "colab": {}
      },
      "source": [
        "grid5.best_estimator_"
      ],
      "execution_count": 0,
      "outputs": []
    },
    {
      "cell_type": "code",
      "metadata": {
        "id": "0RuoexS5aK6D",
        "colab_type": "code",
        "colab": {}
      },
      "source": [
        "\n",
        "\n",
        "# A parameter grid for XGBoost\n",
        "params = {'learning_rate': [0.03] ,  'n_estimators':[300]  , 'max_depth' : [4], 'subsample' : [0.7] , \n",
        "         'min_child_weight' :[0.5 , 1 , 1.5 , 2] , 'colsample_bytree' : [i / 10.0 for i in range(1,7)]\n",
        "       }\n",
        "\n",
        "# Initialize XGB and GridSearch\n",
        "xgb = XGBRegressor(nthread=-1) \n",
        "\n",
        "grid6 = GridSearchCV(xgb, params)\n",
        "grid6.fit(X, Y)\n",
        "\n",
        "# Print the r2 score\n",
        "print(r2_score(Y_Val, grid6.best_estimator_.predict(X_Val))) \n",
        "# Print the mse score\n",
        "print(mean_squared_error(Y_Val, grid6.best_estimator_.predict(X_Val))) "
      ],
      "execution_count": 0,
      "outputs": []
    },
    {
      "cell_type": "code",
      "metadata": {
        "id": "BpJDohIzaK8s",
        "colab_type": "code",
        "colab": {}
      },
      "source": [
        "grid6.best_estimator_"
      ],
      "execution_count": 0,
      "outputs": []
    },
    {
      "cell_type": "code",
      "metadata": {
        "id": "6vxirhtPaK_s",
        "colab_type": "code",
        "colab": {}
      },
      "source": [
        "Y_Val = Y_Val * max_clicks\n",
        "Y_pred = (grid6.best_estimator_.predict(X_Val)) * max_clicks"
      ],
      "execution_count": 0,
      "outputs": []
    },
    {
      "cell_type": "code",
      "metadata": {
        "id": "7JU6A7OXaLCT",
        "colab_type": "code",
        "colab": {}
      },
      "source": [
        "# Print the r2 score\n",
        "print(r2_score(Y_Val, Y_pred)) \n",
        "# Print the mse score\n",
        "print(mean_squared_error(Y_Val,Y_pred)) "
      ],
      "execution_count": 0,
      "outputs": []
    },
    {
      "cell_type": "code",
      "metadata": {
        "id": "EwU-pCJ4aLFP",
        "colab_type": "code",
        "colab": {}
      },
      "source": [
        ""
      ],
      "execution_count": 0,
      "outputs": []
    },
    {
      "cell_type": "code",
      "metadata": {
        "id": "w7elkF1jG553",
        "colab_type": "code",
        "colab": {}
      },
      "source": [
        "pred_2=pd.DataFrame(Y_pred ).set_index(Y_Val.index)"
      ],
      "execution_count": 0,
      "outputs": []
    },
    {
      "cell_type": "code",
      "metadata": {
        "id": "DTWJoWJGG52o",
        "colab_type": "code",
        "colab": {}
      },
      "source": [
        "pred_2.columns=['pred']"
      ],
      "execution_count": 0,
      "outputs": []
    },
    {
      "cell_type": "code",
      "metadata": {
        "id": "mqfWqBFq4nna",
        "colab_type": "code",
        "colab": {}
      },
      "source": [
        "pred_2 = pred_2['pred']=np.where(pred_2['pred'] <0 , 0 , pred_2['pred'])"
      ],
      "execution_count": 0,
      "outputs": []
    },
    {
      "cell_type": "markdown",
      "metadata": {
        "id": "xKWvLPCxGIMJ",
        "colab_type": "text"
      },
      "source": [
        ""
      ]
    },
    {
      "cell_type": "code",
      "metadata": {
        "id": "eqRhtSpTxoK-",
        "colab_type": "code",
        "colab": {}
      },
      "source": [
        "# Print the r2 score\n",
        "print(r2_score(Y_Val, pred_2)) \n",
        "# Print the mse score\n",
        "print(mean_squared_error(Y_Val,pred_2)) "
      ],
      "execution_count": 0,
      "outputs": []
    },
    {
      "cell_type": "code",
      "metadata": {
        "id": "gFcT4SumjgVM",
        "colab_type": "code",
        "colab": {}
      },
      "source": [
        "\n"
      ],
      "execution_count": 0,
      "outputs": []
    },
    {
      "cell_type": "markdown",
      "metadata": {
        "id": "QC-fv-i3lmcJ",
        "colab_type": "text"
      },
      "source": [
        "### we third try deep learning in regression , making the same transformation of minmax , and make Y range between 0 , 1"
      ]
    },
    {
      "cell_type": "code",
      "metadata": {
        "colab_type": "code",
        "id": "5ib_862hf2af",
        "colab": {}
      },
      "source": [
        "# Organize our data for training\n",
        "X = x_train\n",
        "Y = y_train\n",
        "X, X_Val, Y, Y_Val = train_test_split(X, Y , train_size =0.7 , shuffle=True)"
      ],
      "execution_count": 0,
      "outputs": []
    },
    {
      "cell_type": "code",
      "metadata": {
        "colab_type": "code",
        "id": "S-2QVF43f2a3",
        "colab": {}
      },
      "source": [
        "max_clicks =y_train.max()\n",
        "Y=Y/max_clicks\n",
        "Y_Val =  Y_Val/max_clicks\n"
      ],
      "execution_count": 0,
      "outputs": []
    },
    {
      "cell_type": "code",
      "metadata": {
        "id": "IssgYkcXqxsS",
        "colab_type": "code",
        "colab": {}
      },
      "source": [
        "X=np.matrix(X)\n",
        "X_Val = np.matrix(X_Val)\n",
        "Y=np.array(Y)\n",
        "Y_Val=np.array(Y_Val)"
      ],
      "execution_count": 0,
      "outputs": []
    },
    {
      "cell_type": "code",
      "metadata": {
        "id": "jBScfBvLrJAO",
        "colab_type": "code",
        "colab": {}
      },
      "source": [
        "!pip install keras"
      ],
      "execution_count": 0,
      "outputs": []
    },
    {
      "cell_type": "code",
      "metadata": {
        "id": "1ErSnToPdJH9",
        "colab_type": "code",
        "colab": {}
      },
      "source": [
        "import keras\n",
        "import numpy as np\n",
        "from keras.models import Sequential\n",
        "from keras.layers import Dense\n",
        "from keras.wrappers.scikit_learn import KerasRegressor\n",
        "\n",
        "seed = 7\n",
        "np.random.seed(seed)\n",
        "\n",
        "# Model\n",
        "model = Sequential()\n",
        "model.add(Dense(200, input_dim=14, kernel_initializer='normal', activation='relu'))\n",
        "model.add(Dense(100, kernel_initializer='normal', activation='relu'))\n",
        "model.add(Dense(50, kernel_initializer='normal', activation='relu'))\n",
        "model.add(Dense(25, kernel_initializer='normal', activation='relu'))\n",
        "model.add(Dense(1, kernel_initializer='normal'))\n",
        "# Compile model\n",
        "model.compile(loss='mean_squared_error', optimizer=keras.optimizers.Adadelta())\n",
        "\n",
        "\n",
        "model.fit(np.array(X), np.array(Y), epochs=100, batch_size=10)"
      ],
      "execution_count": 0,
      "outputs": []
    },
    {
      "cell_type": "code",
      "metadata": {
        "id": "0rwu7wtfzW1b",
        "colab_type": "code",
        "colab": {}
      },
      "source": [
        "pred_3 = model.predict(np.array(X_Val))\n"
      ],
      "execution_count": 0,
      "outputs": []
    },
    {
      "cell_type": "code",
      "metadata": {
        "id": "svNgLEUozWoV",
        "colab_type": "code",
        "colab": {}
      },
      "source": [
        "pred_3"
      ],
      "execution_count": 0,
      "outputs": []
    },
    {
      "cell_type": "code",
      "metadata": {
        "id": "dFTVYeAGz6dk",
        "colab_type": "code",
        "colab": {}
      },
      "source": [
        "pred_3=pd.DataFrame(pred*max_clicks).set_index(Y_original.index)"
      ],
      "execution_count": 0,
      "outputs": []
    },
    {
      "cell_type": "code",
      "metadata": {
        "id": "-fBNLIHg14zS",
        "colab_type": "code",
        "colab": {}
      },
      "source": [
        "pred_3.columns=['pred']"
      ],
      "execution_count": 0,
      "outputs": []
    },
    {
      "cell_type": "code",
      "metadata": {
        "id": "5iJJEHXB0fNR",
        "colab_type": "code",
        "colab": {}
      },
      "source": [
        "pred_3.head()"
      ],
      "execution_count": 0,
      "outputs": []
    },
    {
      "cell_type": "code",
      "metadata": {
        "id": "Xi-IuASu0am7",
        "colab_type": "code",
        "colab": {}
      },
      "source": [
        "pred['pred']=np.where(pred['pred'] <0 , 0 , pred['pred'])"
      ],
      "execution_count": 0,
      "outputs": []
    },
    {
      "cell_type": "code",
      "metadata": {
        "id": "vDfXxOhh2PvF",
        "colab_type": "code",
        "colab": {}
      },
      "source": [
        ""
      ],
      "execution_count": 0,
      "outputs": []
    },
    {
      "cell_type": "code",
      "metadata": {
        "id": "xtBwU6Fz0PMx",
        "colab_type": "code",
        "colab": {}
      },
      "source": [
        "Y_Val=pd.DataFrame(Y_Val*max_clicks)"
      ],
      "execution_count": 0,
      "outputs": []
    },
    {
      "cell_type": "code",
      "metadata": {
        "id": "i0m-zmu10Ica",
        "colab_type": "code",
        "colab": {}
      },
      "source": [
        "# Print the r2 score\n",
        "print(r2_score(Y_Val, pred)) \n",
        "# Print the mse score\n",
        "print(mean_squared_error(Y_Val,pred)) "
      ],
      "execution_count": 0,
      "outputs": []
    },
    {
      "cell_type": "code",
      "metadata": {
        "id": "Xd0fxEHC69Q1",
        "colab_type": "code",
        "colab": {}
      },
      "source": [
        ""
      ],
      "execution_count": 0,
      "outputs": []
    },
    {
      "cell_type": "markdown",
      "metadata": {
        "id": "yF2nAW-rpwxM",
        "colab_type": "text"
      },
      "source": [
        "1. Can you describe in your own words what the purpose of the evaluation\n",
        "metric above is? What alternative metrics would make sense in this context?\n",
        "it is the mean squared arror it measures the mean of errors (difference between predicted and actual values) we get the squared alue since , as known , errors may be negative or positive so if we take mean without squaring we may get lower value than actual , the measures other than that that make sence calculated with this formula\n",
        "as clear it , reverse from MSE m it measures goodness of fit , or which percentage of variability in the dependent variable our model could explain.\n",
        "\n",
        "\n",
        "2. We mention the click prediction as one component of our Exposure Algorithms. What other components would you include to determine what\n",
        "advertiser or hotel to show to our users?\n",
        "\n",
        "number of clickouts , total booking value , number of bookings , especially the last 2 are thr most important to the advertiser \n",
        "\n",
        "3. Which of the input variables have a high predictive power? What additional\n",
        "variables would you include to reduce the error further?\n",
        "\n",
        "\n",
        "\n",
        "4. In addition to the model you used to calculate your results what are alternative models could you use for the prediction problem? What are trade-offs\n",
        "between the model you used and the alternatives?"
      ]
    }
  ]
}
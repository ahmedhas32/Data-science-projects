{
  "nbformat": 4,
  "nbformat_minor": 0,
  "metadata": {
    "colab": {
      "name": "predicting hits.ipynb",
      "provenance": [],
      "collapsed_sections": [],
      "toc_visible": true,
      "machine_shape": "hm",
      "include_colab_link": true
    },
    "kernelspec": {
      "display_name": "Python 3",
      "name": "python3"
    }
  },
  "cells": [
    {
      "cell_type": "markdown",
      "metadata": {
        "id": "view-in-github",
        "colab_type": "text"
      },
      "source": [
        "<a href=\"https://colab.research.google.com/github/ahmedhas32/Data-science-projects/blob/master/predicting_hits.ipynb\" target=\"_parent\"><img src=\"https://colab.research.google.com/assets/colab-badge.svg\" alt=\"Open In Colab\"/></a>"
      ]
    },
    {
      "cell_type": "code",
      "metadata": {
        "id": "g_Ydxvuz-oq2"
      },
      "source": [
        "import numpy as np\n",
        "import pandas as pd\n",
        "import matplotlib.pyplot as plt\n",
        "import seaborn as sns\n",
        "import warnings\n",
        "warnings.filterwarnings(\"ignore\")"
      ],
      "execution_count": null,
      "outputs": []
    },
    {
      "cell_type": "code",
      "metadata": {
        "id": "OaL7xM_V9zyW"
      },
      "source": [
        "from sklearn.preprocessing import LabelEncoder"
      ],
      "execution_count": null,
      "outputs": []
    },
    {
      "cell_type": "code",
      "metadata": {
        "id": "IWoG57qA92sQ"
      },
      "source": [
        "from sklearn.model_selection import GridSearchCV, train_test_split\n",
        "from xgboost import XGBRegressor\n",
        "\n",
        "from sklearn.metrics import r2_score\n",
        "from sklearn.metrics import mean_squared_error"
      ],
      "execution_count": null,
      "outputs": []
    },
    {
      "cell_type": "code",
      "metadata": {
        "id": "IcjoPRF25nl0"
      },
      "source": [
        "import math\n",
        "from scipy import stats"
      ],
      "execution_count": null,
      "outputs": []
    },
    {
      "cell_type": "code",
      "metadata": {
        "id": "SzHiW6tzBCaq"
      },
      "source": [
        "!pip install -U -q PyDrive\n",
        "from pydrive.auth import GoogleAuth\n",
        "from pydrive.drive import GoogleDrive\n",
        "from google.colab import auth\n",
        "from oauth2client.client import GoogleCredentials\n",
        "# Authenticate and create the PyDrive client.\n",
        "auth.authenticate_user()\n",
        "gauth = GoogleAuth()\n",
        "gauth.credentials = GoogleCredentials.get_application_default()\n",
        "drive = GoogleDrive(gauth)\n",
        "link='https://drive.google.com/open?id=1pjUCoAixcdmnuLcSEscEgUHV7KGGiTU-'\n"
      ],
      "execution_count": null,
      "outputs": []
    },
    {
      "cell_type": "code",
      "metadata": {
        "colab": {
          "base_uri": "https://localhost:8080/"
        },
        "id": "e5LAwYLFe-uD",
        "outputId": "a7129f26-247e-4a41-f3ed-c195633c3bca"
      },
      "source": [
        "fluff, id = link.split('=')\n",
        "print (id) # Verify that you have everything after '='"
      ],
      "execution_count": null,
      "outputs": [
        {
          "output_type": "stream",
          "text": [
            "1pjUCoAixcdmnuLcSEscEgUHV7KGGiTU-\n"
          ],
          "name": "stdout"
        }
      ]
    },
    {
      "cell_type": "code",
      "metadata": {
        "id": "BwrEH9dqe-uE"
      },
      "source": [
        "downloaded = drive.CreateFile({'id':id}) \n",
        "downloaded.GetContentFile('ML Data Scientist Case Study Data.csv')  "
      ],
      "execution_count": null,
      "outputs": []
    },
    {
      "cell_type": "markdown",
      "metadata": {
        "id": "Ye8XC3Yw3sQD"
      },
      "source": [
        "### First : we import the data"
      ]
    },
    {
      "cell_type": "code",
      "metadata": {
        "id": "t3NAYEnke-uG"
      },
      "source": [
        "data_raw=pd.read_csv('ML Data Scientist Case Study Data.csv' , delimiter=';')"
      ],
      "execution_count": null,
      "outputs": []
    },
    {
      "cell_type": "markdown",
      "metadata": {
        "id": "TNvaVn8J3yaY"
      },
      "source": [
        "### We run some describtives , we check the structure of data , missing or null values , and how data is stored in each column "
      ]
    },
    {
      "cell_type": "code",
      "metadata": {
        "colab": {
          "base_uri": "https://localhost:8080/",
          "height": 206
        },
        "id": "MfAJ3R7Ef1hP",
        "outputId": "a69e3aa1-4496-4b77-b031-e59ed837185d"
      },
      "source": [
        "data_raw.head()"
      ],
      "execution_count": null,
      "outputs": [
        {
          "output_type": "execute_result",
          "data": {
            "text/html": [
              "<div>\n",
              "<style scoped>\n",
              "    .dataframe tbody tr th:only-of-type {\n",
              "        vertical-align: middle;\n",
              "    }\n",
              "\n",
              "    .dataframe tbody tr th {\n",
              "        vertical-align: top;\n",
              "    }\n",
              "\n",
              "    .dataframe thead th {\n",
              "        text-align: right;\n",
              "    }\n",
              "</style>\n",
              "<table border=\"1\" class=\"dataframe\">\n",
              "  <thead>\n",
              "    <tr style=\"text-align: right;\">\n",
              "      <th></th>\n",
              "      <th>row_num</th>\n",
              "      <th>locale</th>\n",
              "      <th>day_of_week</th>\n",
              "      <th>hour_of_day</th>\n",
              "      <th>agent_id</th>\n",
              "      <th>entry_page</th>\n",
              "      <th>path_id_set</th>\n",
              "      <th>traffic_type</th>\n",
              "      <th>session_durantion</th>\n",
              "      <th>hits</th>\n",
              "    </tr>\n",
              "  </thead>\n",
              "  <tbody>\n",
              "    <tr>\n",
              "      <th>0</th>\n",
              "      <td>988681</td>\n",
              "      <td>L6</td>\n",
              "      <td>Monday</td>\n",
              "      <td>17</td>\n",
              "      <td>1</td>\n",
              "      <td>2111</td>\n",
              "      <td>31672;0</td>\n",
              "      <td>6</td>\n",
              "      <td>7037</td>\n",
              "      <td>\\N</td>\n",
              "    </tr>\n",
              "    <tr>\n",
              "      <th>1</th>\n",
              "      <td>988680</td>\n",
              "      <td>L2</td>\n",
              "      <td>Thursday</td>\n",
              "      <td>22</td>\n",
              "      <td>10</td>\n",
              "      <td>2113</td>\n",
              "      <td>31965;0</td>\n",
              "      <td>2</td>\n",
              "      <td>49</td>\n",
              "      <td>14</td>\n",
              "    </tr>\n",
              "    <tr>\n",
              "      <th>2</th>\n",
              "      <td>988679</td>\n",
              "      <td>L4</td>\n",
              "      <td>Saturday</td>\n",
              "      <td>21</td>\n",
              "      <td>2</td>\n",
              "      <td>2100</td>\n",
              "      <td>0;78464</td>\n",
              "      <td>1</td>\n",
              "      <td>1892</td>\n",
              "      <td>14</td>\n",
              "    </tr>\n",
              "    <tr>\n",
              "      <th>3</th>\n",
              "      <td>988678</td>\n",
              "      <td>L3</td>\n",
              "      <td>Saturday</td>\n",
              "      <td>19</td>\n",
              "      <td>8</td>\n",
              "      <td>2113</td>\n",
              "      <td>51462</td>\n",
              "      <td>6</td>\n",
              "      <td>0</td>\n",
              "      <td>1</td>\n",
              "    </tr>\n",
              "    <tr>\n",
              "      <th>4</th>\n",
              "      <td>988677</td>\n",
              "      <td>L2</td>\n",
              "      <td>Tuesday</td>\n",
              "      <td>6</td>\n",
              "      <td>10</td>\n",
              "      <td>2116</td>\n",
              "      <td>31931;0</td>\n",
              "      <td>1</td>\n",
              "      <td>2</td>\n",
              "      <td>3</td>\n",
              "    </tr>\n",
              "  </tbody>\n",
              "</table>\n",
              "</div>"
            ],
            "text/plain": [
              "   row_num locale day_of_week  ...  traffic_type  session_durantion  hits\n",
              "0   988681     L6      Monday  ...             6               7037    \\N\n",
              "1   988680     L2    Thursday  ...             2                 49    14\n",
              "2   988679     L4    Saturday  ...             1               1892    14\n",
              "3   988678     L3    Saturday  ...             6                  0     1\n",
              "4   988677     L2     Tuesday  ...             1                  2     3\n",
              "\n",
              "[5 rows x 10 columns]"
            ]
          },
          "metadata": {
            "tags": []
          },
          "execution_count": 53
        }
      ]
    },
    {
      "cell_type": "markdown",
      "metadata": {
        "id": "Mk72E3u74UEp"
      },
      "source": [
        "#### we notice that hits column has some missing values coded as '\\N' so we can deal with it as target of our prediction"
      ]
    },
    {
      "cell_type": "code",
      "metadata": {
        "colab": {
          "base_uri": "https://localhost:8080/"
        },
        "id": "qbQm7oLygPJL",
        "outputId": "21bf010b-fb55-430d-9bd3-d195f84ef426"
      },
      "source": [
        "data_raw.info()"
      ],
      "execution_count": null,
      "outputs": [
        {
          "output_type": "stream",
          "text": [
            "<class 'pandas.core.frame.DataFrame'>\n",
            "RangeIndex: 988681 entries, 0 to 988680\n",
            "Data columns (total 10 columns):\n",
            " #   Column             Non-Null Count   Dtype \n",
            "---  ------             --------------   ----- \n",
            " 0   row_num            988681 non-null  int64 \n",
            " 1   locale             988681 non-null  object\n",
            " 2   day_of_week        988681 non-null  object\n",
            " 3   hour_of_day        988681 non-null  int64 \n",
            " 4   agent_id           988681 non-null  int64 \n",
            " 5   entry_page         988681 non-null  int64 \n",
            " 6   path_id_set        983792 non-null  object\n",
            " 7   traffic_type       988681 non-null  int64 \n",
            " 8   session_durantion  988681 non-null  object\n",
            " 9   hits               988681 non-null  object\n",
            "dtypes: int64(5), object(5)\n",
            "memory usage: 75.4+ MB\n"
          ],
          "name": "stdout"
        }
      ]
    },
    {
      "cell_type": "markdown",
      "metadata": {
        "id": "kR16q9aL4iaj"
      },
      "source": [
        "#### Let's check percentage of 'hits' values needed to be predicted "
      ]
    },
    {
      "cell_type": "code",
      "metadata": {
        "colab": {
          "base_uri": "https://localhost:8080/"
        },
        "id": "k6zLCe5jiUN7",
        "outputId": "43401835-0194-4d41-fce5-1c18d740da47"
      },
      "source": [
        "np.round(len(data_raw.loc[data_raw['hits'] =='\\\\N'])*100/len(data_raw),2)"
      ],
      "execution_count": null,
      "outputs": [
        {
          "output_type": "execute_result",
          "data": {
            "text/plain": [
              "37.37"
            ]
          },
          "metadata": {
            "tags": []
          },
          "execution_count": 55
        }
      ]
    },
    {
      "cell_type": "markdown",
      "metadata": {
        "id": "DHb4ODsl482M"
      },
      "source": [
        "#### we make an indicator to use later in splitting data to dataset to use in building the model and dataset to predict missing hits"
      ]
    },
    {
      "cell_type": "code",
      "metadata": {
        "id": "BrgMK-uikv3D"
      },
      "source": [
        "data_raw['predicting']=(data_raw['hits'] !='\\\\N')*1"
      ],
      "execution_count": null,
      "outputs": []
    },
    {
      "cell_type": "code",
      "metadata": {
        "id": "6KooaiTbPSL5"
      },
      "source": [
        ""
      ],
      "execution_count": null,
      "outputs": []
    },
    {
      "cell_type": "code",
      "metadata": {
        "colab": {
          "base_uri": "https://localhost:8080/",
          "height": 226
        },
        "id": "mgX4gaJ3klC9",
        "outputId": "ed140cd4-9dad-499a-f338-20786f8b2969"
      },
      "source": [
        "data_raw.head()"
      ],
      "execution_count": null,
      "outputs": [
        {
          "output_type": "execute_result",
          "data": {
            "text/html": [
              "<div>\n",
              "<style scoped>\n",
              "    .dataframe tbody tr th:only-of-type {\n",
              "        vertical-align: middle;\n",
              "    }\n",
              "\n",
              "    .dataframe tbody tr th {\n",
              "        vertical-align: top;\n",
              "    }\n",
              "\n",
              "    .dataframe thead th {\n",
              "        text-align: right;\n",
              "    }\n",
              "</style>\n",
              "<table border=\"1\" class=\"dataframe\">\n",
              "  <thead>\n",
              "    <tr style=\"text-align: right;\">\n",
              "      <th></th>\n",
              "      <th>row_num</th>\n",
              "      <th>locale</th>\n",
              "      <th>day_of_week</th>\n",
              "      <th>hour_of_day</th>\n",
              "      <th>agent_id</th>\n",
              "      <th>entry_page</th>\n",
              "      <th>path_id_set</th>\n",
              "      <th>traffic_type</th>\n",
              "      <th>session_durantion</th>\n",
              "      <th>hits</th>\n",
              "      <th>predicting</th>\n",
              "    </tr>\n",
              "  </thead>\n",
              "  <tbody>\n",
              "    <tr>\n",
              "      <th>0</th>\n",
              "      <td>988681</td>\n",
              "      <td>L6</td>\n",
              "      <td>Monday</td>\n",
              "      <td>17</td>\n",
              "      <td>1</td>\n",
              "      <td>2111</td>\n",
              "      <td>31672;0</td>\n",
              "      <td>6</td>\n",
              "      <td>7037</td>\n",
              "      <td>\\N</td>\n",
              "      <td>0</td>\n",
              "    </tr>\n",
              "    <tr>\n",
              "      <th>1</th>\n",
              "      <td>988680</td>\n",
              "      <td>L2</td>\n",
              "      <td>Thursday</td>\n",
              "      <td>22</td>\n",
              "      <td>10</td>\n",
              "      <td>2113</td>\n",
              "      <td>31965;0</td>\n",
              "      <td>2</td>\n",
              "      <td>49</td>\n",
              "      <td>14</td>\n",
              "      <td>1</td>\n",
              "    </tr>\n",
              "    <tr>\n",
              "      <th>2</th>\n",
              "      <td>988679</td>\n",
              "      <td>L4</td>\n",
              "      <td>Saturday</td>\n",
              "      <td>21</td>\n",
              "      <td>2</td>\n",
              "      <td>2100</td>\n",
              "      <td>0;78464</td>\n",
              "      <td>1</td>\n",
              "      <td>1892</td>\n",
              "      <td>14</td>\n",
              "      <td>1</td>\n",
              "    </tr>\n",
              "    <tr>\n",
              "      <th>3</th>\n",
              "      <td>988678</td>\n",
              "      <td>L3</td>\n",
              "      <td>Saturday</td>\n",
              "      <td>19</td>\n",
              "      <td>8</td>\n",
              "      <td>2113</td>\n",
              "      <td>51462</td>\n",
              "      <td>6</td>\n",
              "      <td>0</td>\n",
              "      <td>1</td>\n",
              "      <td>1</td>\n",
              "    </tr>\n",
              "    <tr>\n",
              "      <th>4</th>\n",
              "      <td>988677</td>\n",
              "      <td>L2</td>\n",
              "      <td>Tuesday</td>\n",
              "      <td>6</td>\n",
              "      <td>10</td>\n",
              "      <td>2116</td>\n",
              "      <td>31931;0</td>\n",
              "      <td>1</td>\n",
              "      <td>2</td>\n",
              "      <td>3</td>\n",
              "      <td>1</td>\n",
              "    </tr>\n",
              "  </tbody>\n",
              "</table>\n",
              "</div>"
            ],
            "text/plain": [
              "   row_num locale day_of_week  ...  session_durantion  hits  predicting\n",
              "0   988681     L6      Monday  ...               7037    \\N           0\n",
              "1   988680     L2    Thursday  ...                 49    14           1\n",
              "2   988679     L4    Saturday  ...               1892    14           1\n",
              "3   988678     L3    Saturday  ...                  0     1           1\n",
              "4   988677     L2     Tuesday  ...                  2     3           1\n",
              "\n",
              "[5 rows x 11 columns]"
            ]
          },
          "metadata": {
            "tags": []
          },
          "execution_count": 57
        }
      ]
    },
    {
      "cell_type": "markdown",
      "metadata": {
        "id": "9Q3sFj2K5NLp"
      },
      "source": [
        "#### for better processing for the data, we transfer path_id_set into a list"
      ]
    },
    {
      "cell_type": "code",
      "metadata": {
        "id": "XMvig8XClKY7"
      },
      "source": [
        "data_raw['path_id_set_new']=data_raw['path_id_set'].astype('str').str.split(';')"
      ],
      "execution_count": null,
      "outputs": []
    },
    {
      "cell_type": "code",
      "metadata": {
        "colab": {
          "base_uri": "https://localhost:8080/",
          "height": 383
        },
        "id": "B-TkSr91mZZC",
        "outputId": "ef91b399-45ce-49f8-be77-ff794d4072f4"
      },
      "source": [
        "data_raw.head(10)"
      ],
      "execution_count": null,
      "outputs": [
        {
          "output_type": "execute_result",
          "data": {
            "text/html": [
              "<div>\n",
              "<style scoped>\n",
              "    .dataframe tbody tr th:only-of-type {\n",
              "        vertical-align: middle;\n",
              "    }\n",
              "\n",
              "    .dataframe tbody tr th {\n",
              "        vertical-align: top;\n",
              "    }\n",
              "\n",
              "    .dataframe thead th {\n",
              "        text-align: right;\n",
              "    }\n",
              "</style>\n",
              "<table border=\"1\" class=\"dataframe\">\n",
              "  <thead>\n",
              "    <tr style=\"text-align: right;\">\n",
              "      <th></th>\n",
              "      <th>row_num</th>\n",
              "      <th>locale</th>\n",
              "      <th>day_of_week</th>\n",
              "      <th>hour_of_day</th>\n",
              "      <th>agent_id</th>\n",
              "      <th>entry_page</th>\n",
              "      <th>path_id_set</th>\n",
              "      <th>traffic_type</th>\n",
              "      <th>session_durantion</th>\n",
              "      <th>hits</th>\n",
              "      <th>predicting</th>\n",
              "      <th>path_id_set_new</th>\n",
              "    </tr>\n",
              "  </thead>\n",
              "  <tbody>\n",
              "    <tr>\n",
              "      <th>0</th>\n",
              "      <td>988681</td>\n",
              "      <td>L6</td>\n",
              "      <td>Monday</td>\n",
              "      <td>17</td>\n",
              "      <td>1</td>\n",
              "      <td>2111</td>\n",
              "      <td>31672;0</td>\n",
              "      <td>6</td>\n",
              "      <td>7037</td>\n",
              "      <td>\\N</td>\n",
              "      <td>0</td>\n",
              "      <td>[31672, 0]</td>\n",
              "    </tr>\n",
              "    <tr>\n",
              "      <th>1</th>\n",
              "      <td>988680</td>\n",
              "      <td>L2</td>\n",
              "      <td>Thursday</td>\n",
              "      <td>22</td>\n",
              "      <td>10</td>\n",
              "      <td>2113</td>\n",
              "      <td>31965;0</td>\n",
              "      <td>2</td>\n",
              "      <td>49</td>\n",
              "      <td>14</td>\n",
              "      <td>1</td>\n",
              "      <td>[31965, 0]</td>\n",
              "    </tr>\n",
              "    <tr>\n",
              "      <th>2</th>\n",
              "      <td>988679</td>\n",
              "      <td>L4</td>\n",
              "      <td>Saturday</td>\n",
              "      <td>21</td>\n",
              "      <td>2</td>\n",
              "      <td>2100</td>\n",
              "      <td>0;78464</td>\n",
              "      <td>1</td>\n",
              "      <td>1892</td>\n",
              "      <td>14</td>\n",
              "      <td>1</td>\n",
              "      <td>[0, 78464]</td>\n",
              "    </tr>\n",
              "    <tr>\n",
              "      <th>3</th>\n",
              "      <td>988678</td>\n",
              "      <td>L3</td>\n",
              "      <td>Saturday</td>\n",
              "      <td>19</td>\n",
              "      <td>8</td>\n",
              "      <td>2113</td>\n",
              "      <td>51462</td>\n",
              "      <td>6</td>\n",
              "      <td>0</td>\n",
              "      <td>1</td>\n",
              "      <td>1</td>\n",
              "      <td>[51462]</td>\n",
              "    </tr>\n",
              "    <tr>\n",
              "      <th>4</th>\n",
              "      <td>988677</td>\n",
              "      <td>L2</td>\n",
              "      <td>Tuesday</td>\n",
              "      <td>6</td>\n",
              "      <td>10</td>\n",
              "      <td>2116</td>\n",
              "      <td>31931;0</td>\n",
              "      <td>1</td>\n",
              "      <td>2</td>\n",
              "      <td>3</td>\n",
              "      <td>1</td>\n",
              "      <td>[31931, 0]</td>\n",
              "    </tr>\n",
              "    <tr>\n",
              "      <th>5</th>\n",
              "      <td>988676</td>\n",
              "      <td>L3</td>\n",
              "      <td>Monday</td>\n",
              "      <td>1</td>\n",
              "      <td>8</td>\n",
              "      <td>2100</td>\n",
              "      <td>0</td>\n",
              "      <td>1</td>\n",
              "      <td>0</td>\n",
              "      <td>2</td>\n",
              "      <td>1</td>\n",
              "      <td>[0]</td>\n",
              "    </tr>\n",
              "    <tr>\n",
              "      <th>6</th>\n",
              "      <td>988675</td>\n",
              "      <td>L2</td>\n",
              "      <td>Friday</td>\n",
              "      <td>20</td>\n",
              "      <td>10</td>\n",
              "      <td>2166</td>\n",
              "      <td>0</td>\n",
              "      <td>1</td>\n",
              "      <td>0</td>\n",
              "      <td>2</td>\n",
              "      <td>1</td>\n",
              "      <td>[0]</td>\n",
              "    </tr>\n",
              "    <tr>\n",
              "      <th>7</th>\n",
              "      <td>988674</td>\n",
              "      <td>L3</td>\n",
              "      <td>Sunday</td>\n",
              "      <td>3</td>\n",
              "      <td>1</td>\n",
              "      <td>2113</td>\n",
              "      <td>34302;0</td>\n",
              "      <td>6</td>\n",
              "      <td>2</td>\n",
              "      <td>3</td>\n",
              "      <td>1</td>\n",
              "      <td>[34302, 0]</td>\n",
              "    </tr>\n",
              "    <tr>\n",
              "      <th>8</th>\n",
              "      <td>988673</td>\n",
              "      <td>L3</td>\n",
              "      <td>Sunday</td>\n",
              "      <td>1</td>\n",
              "      <td>10</td>\n",
              "      <td>2111</td>\n",
              "      <td>34227;0</td>\n",
              "      <td>6</td>\n",
              "      <td>4</td>\n",
              "      <td>3</td>\n",
              "      <td>1</td>\n",
              "      <td>[34227, 0]</td>\n",
              "    </tr>\n",
              "    <tr>\n",
              "      <th>9</th>\n",
              "      <td>988672</td>\n",
              "      <td>L6</td>\n",
              "      <td>Sunday</td>\n",
              "      <td>5</td>\n",
              "      <td>9</td>\n",
              "      <td>2113</td>\n",
              "      <td>42172;0;38715</td>\n",
              "      <td>2</td>\n",
              "      <td>724</td>\n",
              "      <td>45</td>\n",
              "      <td>1</td>\n",
              "      <td>[42172, 0, 38715]</td>\n",
              "    </tr>\n",
              "  </tbody>\n",
              "</table>\n",
              "</div>"
            ],
            "text/plain": [
              "   row_num locale day_of_week  ...  hits  predicting    path_id_set_new\n",
              "0   988681     L6      Monday  ...    \\N           0         [31672, 0]\n",
              "1   988680     L2    Thursday  ...    14           1         [31965, 0]\n",
              "2   988679     L4    Saturday  ...    14           1         [0, 78464]\n",
              "3   988678     L3    Saturday  ...     1           1            [51462]\n",
              "4   988677     L2     Tuesday  ...     3           1         [31931, 0]\n",
              "5   988676     L3      Monday  ...     2           1                [0]\n",
              "6   988675     L2      Friday  ...     2           1                [0]\n",
              "7   988674     L3      Sunday  ...     3           1         [34302, 0]\n",
              "8   988673     L3      Sunday  ...     3           1         [34227, 0]\n",
              "9   988672     L6      Sunday  ...    45           1  [42172, 0, 38715]\n",
              "\n",
              "[10 rows x 12 columns]"
            ]
          },
          "metadata": {
            "tags": []
          },
          "execution_count": 59
        }
      ]
    },
    {
      "cell_type": "markdown",
      "metadata": {
        "id": "joe428Kl6Y6S"
      },
      "source": [
        "#### We then take the frequencies for several variables that may need to use to predict missing hits\n",
        "\n"
      ]
    },
    {
      "cell_type": "code",
      "metadata": {
        "colab": {
          "base_uri": "https://localhost:8080/"
        },
        "id": "See5iMR5mpKE",
        "outputId": "3b33a297-89e4-4d00-b67c-865fdcce0cf0"
      },
      "source": [
        "f=['locale'\t,'day_of_week','hour_of_day','agent_id','entry_page','traffic_type','session_durantion']\n",
        "for i in f :\n",
        "  print(i)\n",
        "  print(data_raw[i].value_counts())\n",
        "  print('  ')\n",
        "  print('__________________')\n",
        "  \n"
      ],
      "execution_count": null,
      "outputs": [
        {
          "output_type": "stream",
          "text": [
            "locale\n",
            "L3    352454\n",
            "L6    178430\n",
            "L2    172904\n",
            "L4    131271\n",
            "L5    112054\n",
            "L1     41568\n",
            "Name: locale, dtype: int64\n",
            "  \n",
            "__________________\n",
            "day_of_week\n",
            "Monday       158685\n",
            "Tuesday      155001\n",
            "Wednesday    147099\n",
            "Sunday       144330\n",
            "Thursday     136476\n",
            "Friday       127740\n",
            "Saturday     119350\n",
            "Name: day_of_week, dtype: int64\n",
            "  \n",
            "__________________\n",
            "hour_of_day\n",
            "19    64558\n",
            "20    62676\n",
            "18    61810\n",
            "17    55743\n",
            "21    55437\n",
            "16    54602\n",
            "15    54139\n",
            "14    51718\n",
            "13    47960\n",
            "22    44303\n",
            "12    44062\n",
            "0     41263\n",
            "11    39462\n",
            "23    38038\n",
            "1     36206\n",
            "10    34768\n",
            "2     31961\n",
            "9     31115\n",
            "8     27907\n",
            "3     25421\n",
            "7     24394\n",
            "6     21235\n",
            "4     20638\n",
            "5     19265\n",
            "Name: hour_of_day, dtype: int64\n",
            "  \n",
            "__________________\n",
            "agent_id\n",
            "10    287869\n",
            "9     194367\n",
            "1     184228\n",
            "8      94680\n",
            "6      59907\n",
            "2      57077\n",
            "13     48169\n",
            "7      26000\n",
            "14     24743\n",
            "0       5359\n",
            "12      3694\n",
            "11      1986\n",
            "4        222\n",
            "5        159\n",
            "3        121\n",
            "15       100\n",
            "Name: agent_id, dtype: int64\n",
            "  \n",
            "__________________\n",
            "entry_page\n",
            "2113    333163\n",
            "2116    195904\n",
            "2100    178912\n",
            "2111     83687\n",
            "2114     74050\n",
            "         ...  \n",
            "2848         1\n",
            "2172         1\n",
            "2892         1\n",
            "2726         1\n",
            "2380         1\n",
            "Name: entry_page, Length: 147, dtype: int64\n",
            "  \n",
            "__________________\n",
            "traffic_type\n",
            "2     315363\n",
            "1     307786\n",
            "6     162080\n",
            "4     136246\n",
            "3      53812\n",
            "10     10400\n",
            "7       2994\n",
            "Name: traffic_type, dtype: int64\n",
            "  \n",
            "__________________\n",
            "session_durantion\n",
            "0        115579\n",
            "2         43906\n",
            "3         40324\n",
            "4         33648\n",
            "5         26183\n",
            "          ...  \n",
            "18311         1\n",
            "5422          1\n",
            "21429         1\n",
            "38765         1\n",
            "7847          1\n",
            "Name: session_durantion, Length: 11130, dtype: int64\n",
            "  \n",
            "__________________\n"
          ],
          "name": "stdout"
        }
      ]
    },
    {
      "cell_type": "markdown",
      "metadata": {
        "id": "I8uKYWjp6sIA"
      },
      "source": [
        "#### we notice that all categorical variables have limited values to take , or 'like : entry page ' we find that the first 10 or 15 values have the most frequencies "
      ]
    },
    {
      "cell_type": "markdown",
      "metadata": {
        "id": "34gbs9CJL5T3"
      },
      "source": [
        "#### then we make sure that each column is stored in the proper data type"
      ]
    },
    {
      "cell_type": "code",
      "metadata": {
        "colab": {
          "base_uri": "https://localhost:8080/"
        },
        "id": "3bo5UWi0sDvf",
        "outputId": "c5d6e4b1-d893-47b7-dba8-b52419d19db9"
      },
      "source": [
        "data_raw.info()"
      ],
      "execution_count": null,
      "outputs": [
        {
          "output_type": "stream",
          "text": [
            "<class 'pandas.core.frame.DataFrame'>\n",
            "RangeIndex: 988681 entries, 0 to 988680\n",
            "Data columns (total 12 columns):\n",
            " #   Column             Non-Null Count   Dtype \n",
            "---  ------             --------------   ----- \n",
            " 0   row_num            988681 non-null  int64 \n",
            " 1   locale             988681 non-null  object\n",
            " 2   day_of_week        988681 non-null  object\n",
            " 3   hour_of_day        988681 non-null  int64 \n",
            " 4   agent_id           988681 non-null  int64 \n",
            " 5   entry_page         988681 non-null  int64 \n",
            " 6   path_id_set        983792 non-null  object\n",
            " 7   traffic_type       988681 non-null  int64 \n",
            " 8   session_durantion  988681 non-null  object\n",
            " 9   hits               988681 non-null  object\n",
            " 10  predicting         988681 non-null  int64 \n",
            " 11  path_id_set_new    988681 non-null  object\n",
            "dtypes: int64(6), object(6)\n",
            "memory usage: 90.5+ MB\n"
          ],
          "name": "stdout"
        }
      ]
    },
    {
      "cell_type": "markdown",
      "metadata": {
        "id": "9QjcNJDq7Djb"
      },
      "source": [
        "\n",
        "\n",
        "#### we notice that session duration is a numeric column despite it is stored as object \n",
        "\n",
        "#### to be able to store it properly, we remove the symbol that replaces missing values'/N' with zero , since this is the most logical value for missing session duration , also it is the mode as clear from frequencies table above "
      ]
    },
    {
      "cell_type": "code",
      "metadata": {
        "id": "rQlpuCljsQy1"
      },
      "source": [
        "data_raw['session_durantion']=data_raw['session_durantion'].str.replace('N','0')\n",
        "\n",
        "data_raw['session_durantion']=data_raw['session_durantion'].str.replace('\\\\','0')\n"
      ],
      "execution_count": null,
      "outputs": []
    },
    {
      "cell_type": "code",
      "metadata": {
        "id": "s44R8HY8tFPM"
      },
      "source": [
        "data_raw['session_durantion']=data_raw['session_durantion'].astype('int')"
      ],
      "execution_count": null,
      "outputs": []
    },
    {
      "cell_type": "markdown",
      "metadata": {
        "id": "6QShqUj3PVgI"
      },
      "source": [
        "#### doing the similar with hits , anyway our target from the whole case study is ti replace the'\\N' then we for now replace missing values in it with zeros to be able to trasfer it into integers till we predict them in the following steps"
      ]
    },
    {
      "cell_type": "code",
      "metadata": {
        "id": "Pa9rBVI2Tdye"
      },
      "source": [
        "data_raw['hits']=data_raw['hits'].str.replace('N','0')\n",
        "\n",
        "data_raw['hits']=data_raw['hits'].str.replace('\\\\','0')\n"
      ],
      "execution_count": null,
      "outputs": []
    },
    {
      "cell_type": "code",
      "metadata": {
        "id": "DhxHvLnqv852"
      },
      "source": [
        "data_raw['hits']=data_raw['hits'].astype('int')"
      ],
      "execution_count": null,
      "outputs": []
    },
    {
      "cell_type": "markdown",
      "metadata": {
        "id": "jTklQCkeRaON"
      },
      "source": [
        "#### on the other hand, 'hour_of_the_day' , 'agent_id','entry_page', and 'traffic_type' despite represented as numeric but their magnitude is string , categorical values , so we represent them as categorical variables."
      ]
    },
    {
      "cell_type": "code",
      "metadata": {
        "id": "una_fCunwQhO"
      },
      "source": [
        "data_raw['hour_of_day']=data_raw['hour_of_day'].astype('str')"
      ],
      "execution_count": null,
      "outputs": []
    },
    {
      "cell_type": "markdown",
      "metadata": {
        "id": "QlGMZqngFr6h"
      },
      "source": [
        ""
      ]
    },
    {
      "cell_type": "code",
      "metadata": {
        "id": "7LfqfEvVwVM2"
      },
      "source": [
        "data_raw['agent_id']=data_raw['agent_id'].astype('str')"
      ],
      "execution_count": null,
      "outputs": []
    },
    {
      "cell_type": "code",
      "metadata": {
        "id": "7soUKlPQwVU9"
      },
      "source": [
        "data_raw['entry_page']=data_raw['entry_page'].astype('str')"
      ],
      "execution_count": null,
      "outputs": []
    },
    {
      "cell_type": "code",
      "metadata": {
        "id": "MAF33bGowVcV"
      },
      "source": [
        "data_raw['traffic_type']=data_raw['traffic_type'].astype('str')"
      ],
      "execution_count": null,
      "outputs": []
    },
    {
      "cell_type": "markdown",
      "metadata": {
        "id": "lEDT3r8bR5jN"
      },
      "source": [
        "#### one of the characteristics in the data that may help to detect effective factors that affect number of hits visited pages , we take the top 4 visited pages , then make an indicator for each\n",
        "\n",
        "#### first we detect the top 4 visited pages "
      ]
    },
    {
      "cell_type": "code",
      "metadata": {
        "id": "8_TNT7UsGJjR"
      },
      "source": [
        "f=[]\n",
        "x=data_raw['path_id_set'].astype('str').str.split(';')\n",
        "for i in x :\n",
        "    for j in i :\n",
        "      f.append(j)\n",
        "    \n"
      ],
      "execution_count": null,
      "outputs": []
    },
    {
      "cell_type": "code",
      "metadata": {
        "id": "bEKkEuXROFN9"
      },
      "source": [
        "x=pd.DataFrame(pd.Series(f).value_counts(), columns=['freq'] )\n"
      ],
      "execution_count": null,
      "outputs": []
    },
    {
      "cell_type": "code",
      "metadata": {
        "colab": {
          "base_uri": "https://localhost:8080/",
          "height": 206
        },
        "id": "fdmQYu54jpe6",
        "outputId": "6bc0e440-7e1f-4c1d-e410-b5a11c5d6b51"
      },
      "source": [
        "x.head()"
      ],
      "execution_count": null,
      "outputs": [
        {
          "output_type": "execute_result",
          "data": {
            "text/html": [
              "<div>\n",
              "<style scoped>\n",
              "    .dataframe tbody tr th:only-of-type {\n",
              "        vertical-align: middle;\n",
              "    }\n",
              "\n",
              "    .dataframe tbody tr th {\n",
              "        vertical-align: top;\n",
              "    }\n",
              "\n",
              "    .dataframe thead th {\n",
              "        text-align: right;\n",
              "    }\n",
              "</style>\n",
              "<table border=\"1\" class=\"dataframe\">\n",
              "  <thead>\n",
              "    <tr style=\"text-align: right;\">\n",
              "      <th></th>\n",
              "      <th>freq</th>\n",
              "    </tr>\n",
              "  </thead>\n",
              "  <tbody>\n",
              "    <tr>\n",
              "      <th>0</th>\n",
              "      <td>898419</td>\n",
              "    </tr>\n",
              "    <tr>\n",
              "      <th>38715</th>\n",
              "      <td>21011</td>\n",
              "    </tr>\n",
              "    <tr>\n",
              "      <th>34741</th>\n",
              "      <td>16019</td>\n",
              "    </tr>\n",
              "    <tr>\n",
              "      <th>34812</th>\n",
              "      <td>14971</td>\n",
              "    </tr>\n",
              "    <tr>\n",
              "      <th>34390</th>\n",
              "      <td>9277</td>\n",
              "    </tr>\n",
              "  </tbody>\n",
              "</table>\n",
              "</div>"
            ],
            "text/plain": [
              "         freq\n",
              "0      898419\n",
              "38715   21011\n",
              "34741   16019\n",
              "34812   14971\n",
              "34390    9277"
            ]
          },
          "metadata": {
            "tags": []
          },
          "execution_count": 72
        }
      ]
    },
    {
      "cell_type": "code",
      "metadata": {
        "id": "ErOcRwnMZobI"
      },
      "source": [
        "x=x.loc[x['freq']>= 1000].head(4)\n",
        "x.index.name='path_id'"
      ],
      "execution_count": null,
      "outputs": []
    },
    {
      "cell_type": "code",
      "metadata": {
        "id": "OclQRZShfOTh"
      },
      "source": [
        "f=x.loc[x['freq']>= 1000]"
      ],
      "execution_count": null,
      "outputs": []
    },
    {
      "cell_type": "code",
      "metadata": {
        "colab": {
          "base_uri": "https://localhost:8080/"
        },
        "id": "7gipM-wRoHI6",
        "outputId": "6f7ec00a-0e68-4c57-bc1d-a79fb291fbe3"
      },
      "source": [
        "f.index"
      ],
      "execution_count": null,
      "outputs": [
        {
          "output_type": "execute_result",
          "data": {
            "text/plain": [
              "Index(['0', '38715', '34741', '34812'], dtype='object', name='path_id')"
            ]
          },
          "metadata": {
            "tags": []
          },
          "execution_count": 75
        }
      ]
    },
    {
      "cell_type": "markdown",
      "metadata": {
        "id": "RuM6uSahTmZT"
      },
      "source": [
        "#### then we compute number of visited pages per session"
      ]
    },
    {
      "cell_type": "code",
      "metadata": {
        "id": "8CHypnY9G1hd"
      },
      "source": [
        "data_raw['number_of_pages']=len(data_raw['path_id_set_new'])"
      ],
      "execution_count": null,
      "outputs": []
    },
    {
      "cell_type": "code",
      "metadata": {
        "id": "D6gE5ZUMHPxs"
      },
      "source": [
        "v=[]\n",
        "for i in data_raw['path_id_set_new'].index:\n",
        "    j=len(data_raw['path_id_set_new'][i])\n",
        "    v.append(j)"
      ],
      "execution_count": null,
      "outputs": []
    },
    {
      "cell_type": "code",
      "metadata": {
        "id": "oTo1W1PII3pj"
      },
      "source": [
        "data_raw['number_of_visited_pages'] = v"
      ],
      "execution_count": null,
      "outputs": []
    },
    {
      "cell_type": "markdown",
      "metadata": {
        "id": "FDvF-_SrT5r9"
      },
      "source": [
        "#### we compute correlation coeffecient to make sure that numeric variables can help to predict number of hits "
      ]
    },
    {
      "cell_type": "code",
      "metadata": {
        "colab": {
          "base_uri": "https://localhost:8080/"
        },
        "id": "7v1R8PcqJmob",
        "outputId": "6f03663c-4a5c-4212-ff77-7e50bd7bf5bc"
      },
      "source": [
        "data_raw.loc[data_raw['predicting']==1,['hits','number_of_visited_pages' ,'session_durantion']].corr()['hits']"
      ],
      "execution_count": null,
      "outputs": [
        {
          "output_type": "execute_result",
          "data": {
            "text/plain": [
              "hits                       1.000000\n",
              "number_of_visited_pages    0.403462\n",
              "session_durantion          0.245583\n",
              "Name: hits, dtype: float64"
            ]
          },
          "metadata": {
            "tags": []
          },
          "execution_count": 79
        }
      ]
    },
    {
      "cell_type": "markdown",
      "metadata": {
        "id": "aMLp1fI4UWrD"
      },
      "source": [
        "#### we notice that 'number_of_visited_pages' has moderate positive correlation with hits , and session_durantion has a weak correlation "
      ]
    },
    {
      "cell_type": "markdown",
      "metadata": {
        "id": "Pe1TXKCYU2Up"
      },
      "source": [
        "#### then in the following loop , we make a binary column for each of the top 4 visited pages to help to predict hits"
      ]
    },
    {
      "cell_type": "markdown",
      "metadata": {
        "id": "bOq4J2-XytIr"
      },
      "source": [
        ""
      ]
    },
    {
      "cell_type": "code",
      "metadata": {
        "colab": {
          "base_uri": "https://localhost:8080/",
          "height": 461
        },
        "id": "vlJVbaXnyhdX",
        "outputId": "15995a45-93e8-433f-f8be-e02d84b3ca16"
      },
      "source": [
        "data_raw"
      ],
      "execution_count": null,
      "outputs": [
        {
          "output_type": "execute_result",
          "data": {
            "text/html": [
              "<div>\n",
              "<style scoped>\n",
              "    .dataframe tbody tr th:only-of-type {\n",
              "        vertical-align: middle;\n",
              "    }\n",
              "\n",
              "    .dataframe tbody tr th {\n",
              "        vertical-align: top;\n",
              "    }\n",
              "\n",
              "    .dataframe thead th {\n",
              "        text-align: right;\n",
              "    }\n",
              "</style>\n",
              "<table border=\"1\" class=\"dataframe\">\n",
              "  <thead>\n",
              "    <tr style=\"text-align: right;\">\n",
              "      <th></th>\n",
              "      <th>row_num</th>\n",
              "      <th>locale</th>\n",
              "      <th>day_of_week</th>\n",
              "      <th>hour_of_day</th>\n",
              "      <th>agent_id</th>\n",
              "      <th>entry_page</th>\n",
              "      <th>path_id_set</th>\n",
              "      <th>traffic_type</th>\n",
              "      <th>session_durantion</th>\n",
              "      <th>hits</th>\n",
              "      <th>predicting</th>\n",
              "      <th>path_id_set_new</th>\n",
              "      <th>number_of_pages</th>\n",
              "      <th>number_of_visited_pages</th>\n",
              "    </tr>\n",
              "  </thead>\n",
              "  <tbody>\n",
              "    <tr>\n",
              "      <th>0</th>\n",
              "      <td>988681</td>\n",
              "      <td>L6</td>\n",
              "      <td>Monday</td>\n",
              "      <td>17</td>\n",
              "      <td>1</td>\n",
              "      <td>2111</td>\n",
              "      <td>31672;0</td>\n",
              "      <td>6</td>\n",
              "      <td>7037</td>\n",
              "      <td>0</td>\n",
              "      <td>0</td>\n",
              "      <td>[31672, 0]</td>\n",
              "      <td>988681</td>\n",
              "      <td>2</td>\n",
              "    </tr>\n",
              "    <tr>\n",
              "      <th>1</th>\n",
              "      <td>988680</td>\n",
              "      <td>L2</td>\n",
              "      <td>Thursday</td>\n",
              "      <td>22</td>\n",
              "      <td>10</td>\n",
              "      <td>2113</td>\n",
              "      <td>31965;0</td>\n",
              "      <td>2</td>\n",
              "      <td>49</td>\n",
              "      <td>14</td>\n",
              "      <td>1</td>\n",
              "      <td>[31965, 0]</td>\n",
              "      <td>988681</td>\n",
              "      <td>2</td>\n",
              "    </tr>\n",
              "    <tr>\n",
              "      <th>2</th>\n",
              "      <td>988679</td>\n",
              "      <td>L4</td>\n",
              "      <td>Saturday</td>\n",
              "      <td>21</td>\n",
              "      <td>2</td>\n",
              "      <td>2100</td>\n",
              "      <td>0;78464</td>\n",
              "      <td>1</td>\n",
              "      <td>1892</td>\n",
              "      <td>14</td>\n",
              "      <td>1</td>\n",
              "      <td>[0, 78464]</td>\n",
              "      <td>988681</td>\n",
              "      <td>2</td>\n",
              "    </tr>\n",
              "    <tr>\n",
              "      <th>3</th>\n",
              "      <td>988678</td>\n",
              "      <td>L3</td>\n",
              "      <td>Saturday</td>\n",
              "      <td>19</td>\n",
              "      <td>8</td>\n",
              "      <td>2113</td>\n",
              "      <td>51462</td>\n",
              "      <td>6</td>\n",
              "      <td>0</td>\n",
              "      <td>1</td>\n",
              "      <td>1</td>\n",
              "      <td>[51462]</td>\n",
              "      <td>988681</td>\n",
              "      <td>1</td>\n",
              "    </tr>\n",
              "    <tr>\n",
              "      <th>4</th>\n",
              "      <td>988677</td>\n",
              "      <td>L2</td>\n",
              "      <td>Tuesday</td>\n",
              "      <td>6</td>\n",
              "      <td>10</td>\n",
              "      <td>2116</td>\n",
              "      <td>31931;0</td>\n",
              "      <td>1</td>\n",
              "      <td>2</td>\n",
              "      <td>3</td>\n",
              "      <td>1</td>\n",
              "      <td>[31931, 0]</td>\n",
              "      <td>988681</td>\n",
              "      <td>2</td>\n",
              "    </tr>\n",
              "    <tr>\n",
              "      <th>...</th>\n",
              "      <td>...</td>\n",
              "      <td>...</td>\n",
              "      <td>...</td>\n",
              "      <td>...</td>\n",
              "      <td>...</td>\n",
              "      <td>...</td>\n",
              "      <td>...</td>\n",
              "      <td>...</td>\n",
              "      <td>...</td>\n",
              "      <td>...</td>\n",
              "      <td>...</td>\n",
              "      <td>...</td>\n",
              "      <td>...</td>\n",
              "      <td>...</td>\n",
              "    </tr>\n",
              "    <tr>\n",
              "      <th>988676</th>\n",
              "      <td>5</td>\n",
              "      <td>L2</td>\n",
              "      <td>Tuesday</td>\n",
              "      <td>18</td>\n",
              "      <td>2</td>\n",
              "      <td>2113</td>\n",
              "      <td>44232;0</td>\n",
              "      <td>2</td>\n",
              "      <td>5</td>\n",
              "      <td>0</td>\n",
              "      <td>0</td>\n",
              "      <td>[44232, 0]</td>\n",
              "      <td>988681</td>\n",
              "      <td>2</td>\n",
              "    </tr>\n",
              "    <tr>\n",
              "      <th>988677</th>\n",
              "      <td>4</td>\n",
              "      <td>L6</td>\n",
              "      <td>Tuesday</td>\n",
              "      <td>9</td>\n",
              "      <td>6</td>\n",
              "      <td>2113</td>\n",
              "      <td>38715;0;40057;31657</td>\n",
              "      <td>2</td>\n",
              "      <td>35</td>\n",
              "      <td>0</td>\n",
              "      <td>0</td>\n",
              "      <td>[38715, 0, 40057, 31657]</td>\n",
              "      <td>988681</td>\n",
              "      <td>4</td>\n",
              "    </tr>\n",
              "    <tr>\n",
              "      <th>988678</th>\n",
              "      <td>3</td>\n",
              "      <td>L2</td>\n",
              "      <td>Sunday</td>\n",
              "      <td>17</td>\n",
              "      <td>8</td>\n",
              "      <td>2114</td>\n",
              "      <td>15466;0</td>\n",
              "      <td>6</td>\n",
              "      <td>1011</td>\n",
              "      <td>0</td>\n",
              "      <td>0</td>\n",
              "      <td>[15466, 0]</td>\n",
              "      <td>988681</td>\n",
              "      <td>2</td>\n",
              "    </tr>\n",
              "    <tr>\n",
              "      <th>988679</th>\n",
              "      <td>2</td>\n",
              "      <td>L3</td>\n",
              "      <td>Monday</td>\n",
              "      <td>17</td>\n",
              "      <td>13</td>\n",
              "      <td>2113</td>\n",
              "      <td>531228;0</td>\n",
              "      <td>2</td>\n",
              "      <td>132</td>\n",
              "      <td>0</td>\n",
              "      <td>0</td>\n",
              "      <td>[531228, 0]</td>\n",
              "      <td>988681</td>\n",
              "      <td>2</td>\n",
              "    </tr>\n",
              "    <tr>\n",
              "      <th>988680</th>\n",
              "      <td>1</td>\n",
              "      <td>L4</td>\n",
              "      <td>Thursday</td>\n",
              "      <td>15</td>\n",
              "      <td>1</td>\n",
              "      <td>2116</td>\n",
              "      <td>76673;0</td>\n",
              "      <td>2</td>\n",
              "      <td>4544</td>\n",
              "      <td>18</td>\n",
              "      <td>1</td>\n",
              "      <td>[76673, 0]</td>\n",
              "      <td>988681</td>\n",
              "      <td>2</td>\n",
              "    </tr>\n",
              "  </tbody>\n",
              "</table>\n",
              "<p>988681 rows × 14 columns</p>\n",
              "</div>"
            ],
            "text/plain": [
              "        row_num locale  ... number_of_pages number_of_visited_pages\n",
              "0        988681     L6  ...          988681                       2\n",
              "1        988680     L2  ...          988681                       2\n",
              "2        988679     L4  ...          988681                       2\n",
              "3        988678     L3  ...          988681                       1\n",
              "4        988677     L2  ...          988681                       2\n",
              "...         ...    ...  ...             ...                     ...\n",
              "988676        5     L2  ...          988681                       2\n",
              "988677        4     L6  ...          988681                       4\n",
              "988678        3     L2  ...          988681                       2\n",
              "988679        2     L3  ...          988681                       2\n",
              "988680        1     L4  ...          988681                       2\n",
              "\n",
              "[988681 rows x 14 columns]"
            ]
          },
          "metadata": {
            "tags": []
          },
          "execution_count": 80
        }
      ]
    },
    {
      "cell_type": "code",
      "metadata": {
        "colab": {
          "base_uri": "https://localhost:8080/",
          "height": 112
        },
        "id": "t9RrdYQWy9jC",
        "outputId": "f4349cc6-aeaf-40e9-88e0-25ab697e1072"
      },
      "source": [
        "\n",
        "# get ANOVA table as R like output\n",
        "import statsmodels.api as sm\n",
        "from statsmodels.formula.api import ols\n",
        "\n",
        "# Ordinary Least Squares (OLS) model\n",
        "model = ols('hits ~ C(agent_id)', data=data_raw).fit()\n",
        "anova_table = sm.stats.anova_lm(model, typ=1)\n",
        "anova_table"
      ],
      "execution_count": null,
      "outputs": [
        {
          "output_type": "execute_result",
          "data": {
            "text/html": [
              "<div>\n",
              "<style scoped>\n",
              "    .dataframe tbody tr th:only-of-type {\n",
              "        vertical-align: middle;\n",
              "    }\n",
              "\n",
              "    .dataframe tbody tr th {\n",
              "        vertical-align: top;\n",
              "    }\n",
              "\n",
              "    .dataframe thead th {\n",
              "        text-align: right;\n",
              "    }\n",
              "</style>\n",
              "<table border=\"1\" class=\"dataframe\">\n",
              "  <thead>\n",
              "    <tr style=\"text-align: right;\">\n",
              "      <th></th>\n",
              "      <th>df</th>\n",
              "      <th>sum_sq</th>\n",
              "      <th>mean_sq</th>\n",
              "      <th>F</th>\n",
              "      <th>PR(&gt;F)</th>\n",
              "    </tr>\n",
              "  </thead>\n",
              "  <tbody>\n",
              "    <tr>\n",
              "      <th>C(agent_id)</th>\n",
              "      <td>15.0</td>\n",
              "      <td>9.419820e+06</td>\n",
              "      <td>627987.979284</td>\n",
              "      <td>612.304636</td>\n",
              "      <td>0.0</td>\n",
              "    </tr>\n",
              "    <tr>\n",
              "      <th>Residual</th>\n",
              "      <td>988665.0</td>\n",
              "      <td>1.013988e+09</td>\n",
              "      <td>1025.613628</td>\n",
              "      <td>NaN</td>\n",
              "      <td>NaN</td>\n",
              "    </tr>\n",
              "  </tbody>\n",
              "</table>\n",
              "</div>"
            ],
            "text/plain": [
              "                   df        sum_sq        mean_sq           F  PR(>F)\n",
              "C(agent_id)      15.0  9.419820e+06  627987.979284  612.304636     0.0\n",
              "Residual     988665.0  1.013988e+09    1025.613628         NaN     NaN"
            ]
          },
          "metadata": {
            "tags": []
          },
          "execution_count": 81
        }
      ]
    },
    {
      "cell_type": "code",
      "metadata": {
        "id": "xSjcMleMznwo"
      },
      "source": [
        ""
      ],
      "execution_count": null,
      "outputs": []
    },
    {
      "cell_type": "code",
      "metadata": {
        "id": "kKcB-ChpsMBN"
      },
      "source": [
        "list=x.index.to_list()"
      ],
      "execution_count": null,
      "outputs": []
    },
    {
      "cell_type": "code",
      "metadata": {
        "id": "zJKkbWkyW3uG"
      },
      "source": [
        "for x1 in x.index :\n",
        "  innerlist = []\n",
        "  for i in data_raw['path_id_set_new'].index:\n",
        "    j1=pd.Series(data_raw['path_id_set_new'][i]).isin([x1]).sum() > 0\n",
        "    innerlist.append(j1)\n",
        "  data_raw[x1]=innerlist\n",
        "\n",
        "\n",
        "\n"
      ],
      "execution_count": null,
      "outputs": []
    },
    {
      "cell_type": "code",
      "metadata": {
        "colab": {
          "base_uri": "https://localhost:8080/",
          "height": 226
        },
        "id": "jkEPFviBxi6G",
        "outputId": "cf907559-c76c-4d68-807b-201bcd27558c"
      },
      "source": [
        "data_raw.head()"
      ],
      "execution_count": null,
      "outputs": [
        {
          "output_type": "execute_result",
          "data": {
            "text/html": [
              "<div>\n",
              "<style scoped>\n",
              "    .dataframe tbody tr th:only-of-type {\n",
              "        vertical-align: middle;\n",
              "    }\n",
              "\n",
              "    .dataframe tbody tr th {\n",
              "        vertical-align: top;\n",
              "    }\n",
              "\n",
              "    .dataframe thead th {\n",
              "        text-align: right;\n",
              "    }\n",
              "</style>\n",
              "<table border=\"1\" class=\"dataframe\">\n",
              "  <thead>\n",
              "    <tr style=\"text-align: right;\">\n",
              "      <th></th>\n",
              "      <th>row_num</th>\n",
              "      <th>locale</th>\n",
              "      <th>day_of_week</th>\n",
              "      <th>hour_of_day</th>\n",
              "      <th>agent_id</th>\n",
              "      <th>entry_page</th>\n",
              "      <th>path_id_set</th>\n",
              "      <th>traffic_type</th>\n",
              "      <th>session_durantion</th>\n",
              "      <th>hits</th>\n",
              "      <th>predicting</th>\n",
              "      <th>path_id_set_new</th>\n",
              "      <th>number_of_pages</th>\n",
              "      <th>number_of_visited_pages</th>\n",
              "      <th>0</th>\n",
              "      <th>38715</th>\n",
              "      <th>34741</th>\n",
              "      <th>34812</th>\n",
              "    </tr>\n",
              "  </thead>\n",
              "  <tbody>\n",
              "    <tr>\n",
              "      <th>0</th>\n",
              "      <td>988681</td>\n",
              "      <td>L6</td>\n",
              "      <td>Monday</td>\n",
              "      <td>17</td>\n",
              "      <td>1</td>\n",
              "      <td>2111</td>\n",
              "      <td>31672;0</td>\n",
              "      <td>6</td>\n",
              "      <td>7037</td>\n",
              "      <td>0</td>\n",
              "      <td>0</td>\n",
              "      <td>[31672, 0]</td>\n",
              "      <td>988681</td>\n",
              "      <td>2</td>\n",
              "      <td>True</td>\n",
              "      <td>False</td>\n",
              "      <td>False</td>\n",
              "      <td>False</td>\n",
              "    </tr>\n",
              "    <tr>\n",
              "      <th>1</th>\n",
              "      <td>988680</td>\n",
              "      <td>L2</td>\n",
              "      <td>Thursday</td>\n",
              "      <td>22</td>\n",
              "      <td>10</td>\n",
              "      <td>2113</td>\n",
              "      <td>31965;0</td>\n",
              "      <td>2</td>\n",
              "      <td>49</td>\n",
              "      <td>14</td>\n",
              "      <td>1</td>\n",
              "      <td>[31965, 0]</td>\n",
              "      <td>988681</td>\n",
              "      <td>2</td>\n",
              "      <td>True</td>\n",
              "      <td>False</td>\n",
              "      <td>False</td>\n",
              "      <td>False</td>\n",
              "    </tr>\n",
              "    <tr>\n",
              "      <th>2</th>\n",
              "      <td>988679</td>\n",
              "      <td>L4</td>\n",
              "      <td>Saturday</td>\n",
              "      <td>21</td>\n",
              "      <td>2</td>\n",
              "      <td>2100</td>\n",
              "      <td>0;78464</td>\n",
              "      <td>1</td>\n",
              "      <td>1892</td>\n",
              "      <td>14</td>\n",
              "      <td>1</td>\n",
              "      <td>[0, 78464]</td>\n",
              "      <td>988681</td>\n",
              "      <td>2</td>\n",
              "      <td>True</td>\n",
              "      <td>False</td>\n",
              "      <td>False</td>\n",
              "      <td>False</td>\n",
              "    </tr>\n",
              "    <tr>\n",
              "      <th>3</th>\n",
              "      <td>988678</td>\n",
              "      <td>L3</td>\n",
              "      <td>Saturday</td>\n",
              "      <td>19</td>\n",
              "      <td>8</td>\n",
              "      <td>2113</td>\n",
              "      <td>51462</td>\n",
              "      <td>6</td>\n",
              "      <td>0</td>\n",
              "      <td>1</td>\n",
              "      <td>1</td>\n",
              "      <td>[51462]</td>\n",
              "      <td>988681</td>\n",
              "      <td>1</td>\n",
              "      <td>False</td>\n",
              "      <td>False</td>\n",
              "      <td>False</td>\n",
              "      <td>False</td>\n",
              "    </tr>\n",
              "    <tr>\n",
              "      <th>4</th>\n",
              "      <td>988677</td>\n",
              "      <td>L2</td>\n",
              "      <td>Tuesday</td>\n",
              "      <td>6</td>\n",
              "      <td>10</td>\n",
              "      <td>2116</td>\n",
              "      <td>31931;0</td>\n",
              "      <td>1</td>\n",
              "      <td>2</td>\n",
              "      <td>3</td>\n",
              "      <td>1</td>\n",
              "      <td>[31931, 0]</td>\n",
              "      <td>988681</td>\n",
              "      <td>2</td>\n",
              "      <td>True</td>\n",
              "      <td>False</td>\n",
              "      <td>False</td>\n",
              "      <td>False</td>\n",
              "    </tr>\n",
              "  </tbody>\n",
              "</table>\n",
              "</div>"
            ],
            "text/plain": [
              "   row_num locale day_of_week hour_of_day  ...      0  38715  34741  34812\n",
              "0   988681     L6      Monday          17  ...   True  False  False  False\n",
              "1   988680     L2    Thursday          22  ...   True  False  False  False\n",
              "2   988679     L4    Saturday          21  ...   True  False  False  False\n",
              "3   988678     L3    Saturday          19  ...  False  False  False  False\n",
              "4   988677     L2     Tuesday           6  ...   True  False  False  False\n",
              "\n",
              "[5 rows x 18 columns]"
            ]
          },
          "metadata": {
            "tags": []
          },
          "execution_count": 38
        }
      ]
    },
    {
      "cell_type": "code",
      "metadata": {
        "id": "iQoKKR5SPRgN"
      },
      "source": [
        ""
      ],
      "execution_count": null,
      "outputs": []
    },
    {
      "cell_type": "markdown",
      "metadata": {
        "id": "ZSzZesqpWLnb"
      },
      "source": [
        "#### then we also we need to make indicator columns for entry pages since they may help in predicting hits , but since we have many pages , we only make an indicator for pages that were entry pages for more than 1000 sessions "
      ]
    },
    {
      "cell_type": "markdown",
      "metadata": {
        "id": "XKWRNdSLYKSU"
      },
      "source": [
        "#### First we define a new column that takes 0 if the entry page not one of the pages chosen above "
      ]
    },
    {
      "cell_type": "code",
      "metadata": {
        "id": "LdfVg86r450s"
      },
      "source": [
        "data_raw['entry_page1'] = 0 "
      ],
      "execution_count": null,
      "outputs": []
    },
    {
      "cell_type": "code",
      "metadata": {
        "colab": {
          "base_uri": "https://localhost:8080/"
        },
        "id": "kGsXRQ5rbkPk",
        "outputId": "180e8d68-dfcc-4dba-a0e0-55301a9c0961"
      },
      "source": [
        "data_raw['entry_page']"
      ],
      "execution_count": null,
      "outputs": [
        {
          "output_type": "execute_result",
          "data": {
            "text/plain": [
              "0         2111\n",
              "1         2113\n",
              "2         2100\n",
              "3         2113\n",
              "4         2116\n",
              "          ... \n",
              "988676    2113\n",
              "988677    2113\n",
              "988678    2114\n",
              "988679    2113\n",
              "988680    2116\n",
              "Name: entry_page, Length: 988681, dtype: object"
            ]
          },
          "metadata": {
            "tags": []
          },
          "execution_count": 40
        }
      ]
    },
    {
      "cell_type": "code",
      "metadata": {
        "colab": {
          "base_uri": "https://localhost:8080/"
        },
        "id": "epqVJqottNfQ",
        "outputId": "ff9b3e4a-939f-452d-e965-8fefa0b6e68b"
      },
      "source": [
        "f.to_list()"
      ],
      "execution_count": null,
      "outputs": [
        {
          "output_type": "execute_result",
          "data": {
            "text/plain": [
              "['0', '38715', '34741', '34812']"
            ]
          },
          "metadata": {
            "tags": []
          },
          "execution_count": 63
        }
      ]
    },
    {
      "cell_type": "code",
      "metadata": {
        "id": "JmEpP8RQtspS"
      },
      "source": [
        "f=data_raw['entry_page'].value_counts().head(5).index"
      ],
      "execution_count": null,
      "outputs": []
    },
    {
      "cell_type": "code",
      "metadata": {
        "id": "oOZomS8BFMcm"
      },
      "source": [
        "data_raw['entry_page1'] = data_raw['entry_page'].apply(lambda x : x if x in f.to_list() else \" \")"
      ],
      "execution_count": null,
      "outputs": []
    },
    {
      "cell_type": "code",
      "metadata": {
        "colab": {
          "base_uri": "https://localhost:8080/"
        },
        "id": "nLdloUTdEKzf",
        "outputId": "85f5948b-b0ee-4593-e81f-2372c6099da8"
      },
      "source": [
        "  data_raw['entry_page1'].value_counts()"
      ],
      "execution_count": null,
      "outputs": [
        {
          "output_type": "execute_result",
          "data": {
            "text/plain": [
              "2113    333163\n",
              "2116    195904\n",
              "2100    178912\n",
              "        122965\n",
              "2111     83687\n",
              "2114     74050\n",
              "Name: entry_page1, dtype: int64"
            ]
          },
          "metadata": {
            "tags": []
          },
          "execution_count": 68
        }
      ]
    },
    {
      "cell_type": "markdown",
      "metadata": {
        "id": "f4Ur91p2YbNN"
      },
      "source": [
        "#### then we make dummy variable for each of the columns , entry_page (after modification) , traffic_type , locale , and day of week "
      ]
    },
    {
      "cell_type": "code",
      "metadata": {
        "id": "IyTJDO1c5jWx"
      },
      "source": [
        "all_data=pd.get_dummies(data_raw.loc[:,['locale','day_of_week','traffic_type','entry_page1']])"
      ],
      "execution_count": null,
      "outputs": []
    },
    {
      "cell_type": "code",
      "metadata": {
        "colab": {
          "base_uri": "https://localhost:8080/",
          "height": 226
        },
        "id": "nnHHRq1w_oVu",
        "outputId": "60be9806-ee75-40f4-d300-91b3b4294a46"
      },
      "source": [
        "all_data.head()"
      ],
      "execution_count": null,
      "outputs": [
        {
          "output_type": "execute_result",
          "data": {
            "text/html": [
              "<div>\n",
              "<style scoped>\n",
              "    .dataframe tbody tr th:only-of-type {\n",
              "        vertical-align: middle;\n",
              "    }\n",
              "\n",
              "    .dataframe tbody tr th {\n",
              "        vertical-align: top;\n",
              "    }\n",
              "\n",
              "    .dataframe thead th {\n",
              "        text-align: right;\n",
              "    }\n",
              "</style>\n",
              "<table border=\"1\" class=\"dataframe\">\n",
              "  <thead>\n",
              "    <tr style=\"text-align: right;\">\n",
              "      <th></th>\n",
              "      <th>locale_L1</th>\n",
              "      <th>locale_L2</th>\n",
              "      <th>locale_L3</th>\n",
              "      <th>locale_L4</th>\n",
              "      <th>locale_L5</th>\n",
              "      <th>locale_L6</th>\n",
              "      <th>day_of_week_Friday</th>\n",
              "      <th>day_of_week_Monday</th>\n",
              "      <th>day_of_week_Saturday</th>\n",
              "      <th>day_of_week_Sunday</th>\n",
              "      <th>day_of_week_Thursday</th>\n",
              "      <th>day_of_week_Tuesday</th>\n",
              "      <th>day_of_week_Wednesday</th>\n",
              "      <th>traffic_type_1</th>\n",
              "      <th>traffic_type_10</th>\n",
              "      <th>traffic_type_2</th>\n",
              "      <th>traffic_type_3</th>\n",
              "      <th>traffic_type_4</th>\n",
              "      <th>traffic_type_6</th>\n",
              "      <th>traffic_type_7</th>\n",
              "      <th>entry_page1_</th>\n",
              "      <th>entry_page1_2100</th>\n",
              "      <th>entry_page1_2111</th>\n",
              "      <th>entry_page1_2113</th>\n",
              "      <th>entry_page1_2114</th>\n",
              "      <th>entry_page1_2116</th>\n",
              "    </tr>\n",
              "  </thead>\n",
              "  <tbody>\n",
              "    <tr>\n",
              "      <th>0</th>\n",
              "      <td>0</td>\n",
              "      <td>0</td>\n",
              "      <td>0</td>\n",
              "      <td>0</td>\n",
              "      <td>0</td>\n",
              "      <td>1</td>\n",
              "      <td>0</td>\n",
              "      <td>1</td>\n",
              "      <td>0</td>\n",
              "      <td>0</td>\n",
              "      <td>0</td>\n",
              "      <td>0</td>\n",
              "      <td>0</td>\n",
              "      <td>0</td>\n",
              "      <td>0</td>\n",
              "      <td>0</td>\n",
              "      <td>0</td>\n",
              "      <td>0</td>\n",
              "      <td>1</td>\n",
              "      <td>0</td>\n",
              "      <td>0</td>\n",
              "      <td>0</td>\n",
              "      <td>1</td>\n",
              "      <td>0</td>\n",
              "      <td>0</td>\n",
              "      <td>0</td>\n",
              "    </tr>\n",
              "    <tr>\n",
              "      <th>1</th>\n",
              "      <td>0</td>\n",
              "      <td>1</td>\n",
              "      <td>0</td>\n",
              "      <td>0</td>\n",
              "      <td>0</td>\n",
              "      <td>0</td>\n",
              "      <td>0</td>\n",
              "      <td>0</td>\n",
              "      <td>0</td>\n",
              "      <td>0</td>\n",
              "      <td>1</td>\n",
              "      <td>0</td>\n",
              "      <td>0</td>\n",
              "      <td>0</td>\n",
              "      <td>0</td>\n",
              "      <td>1</td>\n",
              "      <td>0</td>\n",
              "      <td>0</td>\n",
              "      <td>0</td>\n",
              "      <td>0</td>\n",
              "      <td>0</td>\n",
              "      <td>0</td>\n",
              "      <td>0</td>\n",
              "      <td>1</td>\n",
              "      <td>0</td>\n",
              "      <td>0</td>\n",
              "    </tr>\n",
              "    <tr>\n",
              "      <th>2</th>\n",
              "      <td>0</td>\n",
              "      <td>0</td>\n",
              "      <td>0</td>\n",
              "      <td>1</td>\n",
              "      <td>0</td>\n",
              "      <td>0</td>\n",
              "      <td>0</td>\n",
              "      <td>0</td>\n",
              "      <td>1</td>\n",
              "      <td>0</td>\n",
              "      <td>0</td>\n",
              "      <td>0</td>\n",
              "      <td>0</td>\n",
              "      <td>1</td>\n",
              "      <td>0</td>\n",
              "      <td>0</td>\n",
              "      <td>0</td>\n",
              "      <td>0</td>\n",
              "      <td>0</td>\n",
              "      <td>0</td>\n",
              "      <td>0</td>\n",
              "      <td>1</td>\n",
              "      <td>0</td>\n",
              "      <td>0</td>\n",
              "      <td>0</td>\n",
              "      <td>0</td>\n",
              "    </tr>\n",
              "    <tr>\n",
              "      <th>3</th>\n",
              "      <td>0</td>\n",
              "      <td>0</td>\n",
              "      <td>1</td>\n",
              "      <td>0</td>\n",
              "      <td>0</td>\n",
              "      <td>0</td>\n",
              "      <td>0</td>\n",
              "      <td>0</td>\n",
              "      <td>1</td>\n",
              "      <td>0</td>\n",
              "      <td>0</td>\n",
              "      <td>0</td>\n",
              "      <td>0</td>\n",
              "      <td>0</td>\n",
              "      <td>0</td>\n",
              "      <td>0</td>\n",
              "      <td>0</td>\n",
              "      <td>0</td>\n",
              "      <td>1</td>\n",
              "      <td>0</td>\n",
              "      <td>0</td>\n",
              "      <td>0</td>\n",
              "      <td>0</td>\n",
              "      <td>1</td>\n",
              "      <td>0</td>\n",
              "      <td>0</td>\n",
              "    </tr>\n",
              "    <tr>\n",
              "      <th>4</th>\n",
              "      <td>0</td>\n",
              "      <td>1</td>\n",
              "      <td>0</td>\n",
              "      <td>0</td>\n",
              "      <td>0</td>\n",
              "      <td>0</td>\n",
              "      <td>0</td>\n",
              "      <td>0</td>\n",
              "      <td>0</td>\n",
              "      <td>0</td>\n",
              "      <td>0</td>\n",
              "      <td>1</td>\n",
              "      <td>0</td>\n",
              "      <td>1</td>\n",
              "      <td>0</td>\n",
              "      <td>0</td>\n",
              "      <td>0</td>\n",
              "      <td>0</td>\n",
              "      <td>0</td>\n",
              "      <td>0</td>\n",
              "      <td>0</td>\n",
              "      <td>0</td>\n",
              "      <td>0</td>\n",
              "      <td>0</td>\n",
              "      <td>0</td>\n",
              "      <td>1</td>\n",
              "    </tr>\n",
              "  </tbody>\n",
              "</table>\n",
              "</div>"
            ],
            "text/plain": [
              "   locale_L1  locale_L2  ...  entry_page1_2114  entry_page1_2116\n",
              "0          0          0  ...                 0                 0\n",
              "1          0          1  ...                 0                 0\n",
              "2          0          0  ...                 0                 0\n",
              "3          0          0  ...                 0                 0\n",
              "4          0          1  ...                 0                 1\n",
              "\n",
              "[5 rows x 26 columns]"
            ]
          },
          "metadata": {
            "tags": []
          },
          "execution_count": 70
        }
      ]
    },
    {
      "cell_type": "code",
      "metadata": {
        "colab": {
          "base_uri": "https://localhost:8080/",
          "height": 172
        },
        "id": "iFVm1_uZQI-t",
        "outputId": "c4eeec56-27ee-4d26-a232-177c2efb88d5"
      },
      "source": [
        ""
      ],
      "execution_count": null,
      "outputs": [
        {
          "output_type": "error",
          "ename": "NameError",
          "evalue": "ignored",
          "traceback": [
            "\u001b[0;31m---------------------------------------------------------------------------\u001b[0m",
            "\u001b[0;31mNameError\u001b[0m                                 Traceback (most recent call last)",
            "\u001b[0;32m<ipython-input-7-20849fa47c6f>\u001b[0m in \u001b[0;36m<module>\u001b[0;34m()\u001b[0m\n\u001b[0;32m----> 1\u001b[0;31m \u001b[0msns\u001b[0m\u001b[0;34m.\u001b[0m\u001b[0mheatmap\u001b[0m\u001b[0;34m(\u001b[0m\u001b[0mall_data\u001b[0m\u001b[0;34m.\u001b[0m\u001b[0mcorr\u001b[0m\u001b[0;34m(\u001b[0m\u001b[0;34m)\u001b[0m\u001b[0;34m)\u001b[0m\u001b[0;34m\u001b[0m\u001b[0;34m\u001b[0m\u001b[0m\n\u001b[0m",
            "\u001b[0;31mNameError\u001b[0m: name 'all_data' is not defined"
          ]
        }
      ]
    },
    {
      "cell_type": "code",
      "metadata": {
        "colab": {
          "base_uri": "https://localhost:8080/"
        },
        "id": "giz3sRZauvzZ",
        "outputId": "b5882512-805f-4ce6-81a3-66fa05b7206f"
      },
      "source": [
        "all_data.count()"
      ],
      "execution_count": null,
      "outputs": [
        {
          "output_type": "execute_result",
          "data": {
            "text/plain": [
              "locale_L1                988681\n",
              "locale_L2                988681\n",
              "locale_L3                988681\n",
              "locale_L4                988681\n",
              "locale_L5                988681\n",
              "locale_L6                988681\n",
              "day_of_week_Friday       988681\n",
              "day_of_week_Monday       988681\n",
              "day_of_week_Saturday     988681\n",
              "day_of_week_Sunday       988681\n",
              "day_of_week_Thursday     988681\n",
              "day_of_week_Tuesday      988681\n",
              "day_of_week_Wednesday    988681\n",
              "traffic_type_1           988681\n",
              "traffic_type_10          988681\n",
              "traffic_type_2           988681\n",
              "traffic_type_3           988681\n",
              "traffic_type_4           988681\n",
              "traffic_type_6           988681\n",
              "traffic_type_7           988681\n",
              "entry_page1_             988681\n",
              "entry_page1_2100         988681\n",
              "entry_page1_2111         988681\n",
              "entry_page1_2113         988681\n",
              "entry_page1_2114         988681\n",
              "entry_page1_2116         988681\n",
              "dtype: int64"
            ]
          },
          "metadata": {
            "tags": []
          },
          "execution_count": 72
        }
      ]
    },
    {
      "cell_type": "code",
      "metadata": {
        "colab": {
          "base_uri": "https://localhost:8080/"
        },
        "id": "devfIJexOUF6",
        "outputId": "259351b5-09f4-4d9c-ccca-d5a2b6316847"
      },
      "source": [
        "data_raw.count()"
      ],
      "execution_count": null,
      "outputs": [
        {
          "output_type": "execute_result",
          "data": {
            "text/plain": [
              "row_num                    988681\n",
              "locale                     988681\n",
              "day_of_week                988681\n",
              "hour_of_day                988681\n",
              "agent_id                   988681\n",
              "entry_page                 988681\n",
              "path_id_set                983792\n",
              "traffic_type               988681\n",
              "session_durantion          988681\n",
              "hits                       988681\n",
              "predicting                 988681\n",
              "path_id_set_new            988681\n",
              "number_of_pages            988681\n",
              "number_of_visited_pages    988681\n",
              "0                          988681\n",
              "38715                      988681\n",
              "34741                      988681\n",
              "34812                      988681\n",
              "entry_page1                988681\n",
              "dtype: int64"
            ]
          },
          "metadata": {
            "tags": []
          },
          "execution_count": 71
        }
      ]
    },
    {
      "cell_type": "markdown",
      "metadata": {
        "id": "YrJ7itdyZxkc"
      },
      "source": [
        "#### then we merge the newly generated columns to the data "
      ]
    },
    {
      "cell_type": "code",
      "metadata": {
        "id": "A1TIb8QDZFD4"
      },
      "source": [
        "all_data_1=pd.concat([data_raw,all_data],axis=1)"
      ],
      "execution_count": null,
      "outputs": []
    },
    {
      "cell_type": "code",
      "metadata": {
        "colab": {
          "base_uri": "https://localhost:8080/",
          "height": 226
        },
        "id": "mT6-ADKyZPxM",
        "outputId": "8fd45a4c-4541-48b0-d7db-916e7032f73b"
      },
      "source": [
        "all_data_1.head()"
      ],
      "execution_count": null,
      "outputs": [
        {
          "output_type": "execute_result",
          "data": {
            "text/html": [
              "<div>\n",
              "<style scoped>\n",
              "    .dataframe tbody tr th:only-of-type {\n",
              "        vertical-align: middle;\n",
              "    }\n",
              "\n",
              "    .dataframe tbody tr th {\n",
              "        vertical-align: top;\n",
              "    }\n",
              "\n",
              "    .dataframe thead th {\n",
              "        text-align: right;\n",
              "    }\n",
              "</style>\n",
              "<table border=\"1\" class=\"dataframe\">\n",
              "  <thead>\n",
              "    <tr style=\"text-align: right;\">\n",
              "      <th></th>\n",
              "      <th>row_num</th>\n",
              "      <th>locale</th>\n",
              "      <th>day_of_week</th>\n",
              "      <th>hour_of_day</th>\n",
              "      <th>agent_id</th>\n",
              "      <th>entry_page</th>\n",
              "      <th>path_id_set</th>\n",
              "      <th>traffic_type</th>\n",
              "      <th>session_durantion</th>\n",
              "      <th>hits</th>\n",
              "      <th>predicting</th>\n",
              "      <th>path_id_set_new</th>\n",
              "      <th>number_of_pages</th>\n",
              "      <th>number_of_visited_pages</th>\n",
              "      <th>0</th>\n",
              "      <th>38715</th>\n",
              "      <th>34741</th>\n",
              "      <th>34812</th>\n",
              "      <th>entry_page1</th>\n",
              "      <th>locale_L1</th>\n",
              "      <th>locale_L2</th>\n",
              "      <th>locale_L3</th>\n",
              "      <th>locale_L4</th>\n",
              "      <th>locale_L5</th>\n",
              "      <th>locale_L6</th>\n",
              "      <th>day_of_week_Friday</th>\n",
              "      <th>day_of_week_Monday</th>\n",
              "      <th>day_of_week_Saturday</th>\n",
              "      <th>day_of_week_Sunday</th>\n",
              "      <th>day_of_week_Thursday</th>\n",
              "      <th>day_of_week_Tuesday</th>\n",
              "      <th>day_of_week_Wednesday</th>\n",
              "      <th>traffic_type_1</th>\n",
              "      <th>traffic_type_10</th>\n",
              "      <th>traffic_type_2</th>\n",
              "      <th>traffic_type_3</th>\n",
              "      <th>traffic_type_4</th>\n",
              "      <th>traffic_type_6</th>\n",
              "      <th>traffic_type_7</th>\n",
              "      <th>entry_page1_</th>\n",
              "      <th>entry_page1_2100</th>\n",
              "      <th>entry_page1_2111</th>\n",
              "      <th>entry_page1_2113</th>\n",
              "      <th>entry_page1_2114</th>\n",
              "      <th>entry_page1_2116</th>\n",
              "    </tr>\n",
              "  </thead>\n",
              "  <tbody>\n",
              "    <tr>\n",
              "      <th>0</th>\n",
              "      <td>988681</td>\n",
              "      <td>L6</td>\n",
              "      <td>Monday</td>\n",
              "      <td>17</td>\n",
              "      <td>1</td>\n",
              "      <td>2111</td>\n",
              "      <td>31672;0</td>\n",
              "      <td>6</td>\n",
              "      <td>7037</td>\n",
              "      <td>0</td>\n",
              "      <td>0</td>\n",
              "      <td>[31672, 0]</td>\n",
              "      <td>988681</td>\n",
              "      <td>2</td>\n",
              "      <td>True</td>\n",
              "      <td>False</td>\n",
              "      <td>False</td>\n",
              "      <td>False</td>\n",
              "      <td>2111</td>\n",
              "      <td>0</td>\n",
              "      <td>0</td>\n",
              "      <td>0</td>\n",
              "      <td>0</td>\n",
              "      <td>0</td>\n",
              "      <td>1</td>\n",
              "      <td>0</td>\n",
              "      <td>1</td>\n",
              "      <td>0</td>\n",
              "      <td>0</td>\n",
              "      <td>0</td>\n",
              "      <td>0</td>\n",
              "      <td>0</td>\n",
              "      <td>0</td>\n",
              "      <td>0</td>\n",
              "      <td>0</td>\n",
              "      <td>0</td>\n",
              "      <td>0</td>\n",
              "      <td>1</td>\n",
              "      <td>0</td>\n",
              "      <td>0</td>\n",
              "      <td>0</td>\n",
              "      <td>1</td>\n",
              "      <td>0</td>\n",
              "      <td>0</td>\n",
              "      <td>0</td>\n",
              "    </tr>\n",
              "    <tr>\n",
              "      <th>1</th>\n",
              "      <td>988680</td>\n",
              "      <td>L2</td>\n",
              "      <td>Thursday</td>\n",
              "      <td>22</td>\n",
              "      <td>10</td>\n",
              "      <td>2113</td>\n",
              "      <td>31965;0</td>\n",
              "      <td>2</td>\n",
              "      <td>49</td>\n",
              "      <td>14</td>\n",
              "      <td>1</td>\n",
              "      <td>[31965, 0]</td>\n",
              "      <td>988681</td>\n",
              "      <td>2</td>\n",
              "      <td>True</td>\n",
              "      <td>False</td>\n",
              "      <td>False</td>\n",
              "      <td>False</td>\n",
              "      <td>2113</td>\n",
              "      <td>0</td>\n",
              "      <td>1</td>\n",
              "      <td>0</td>\n",
              "      <td>0</td>\n",
              "      <td>0</td>\n",
              "      <td>0</td>\n",
              "      <td>0</td>\n",
              "      <td>0</td>\n",
              "      <td>0</td>\n",
              "      <td>0</td>\n",
              "      <td>1</td>\n",
              "      <td>0</td>\n",
              "      <td>0</td>\n",
              "      <td>0</td>\n",
              "      <td>0</td>\n",
              "      <td>1</td>\n",
              "      <td>0</td>\n",
              "      <td>0</td>\n",
              "      <td>0</td>\n",
              "      <td>0</td>\n",
              "      <td>0</td>\n",
              "      <td>0</td>\n",
              "      <td>0</td>\n",
              "      <td>1</td>\n",
              "      <td>0</td>\n",
              "      <td>0</td>\n",
              "    </tr>\n",
              "    <tr>\n",
              "      <th>2</th>\n",
              "      <td>988679</td>\n",
              "      <td>L4</td>\n",
              "      <td>Saturday</td>\n",
              "      <td>21</td>\n",
              "      <td>2</td>\n",
              "      <td>2100</td>\n",
              "      <td>0;78464</td>\n",
              "      <td>1</td>\n",
              "      <td>1892</td>\n",
              "      <td>14</td>\n",
              "      <td>1</td>\n",
              "      <td>[0, 78464]</td>\n",
              "      <td>988681</td>\n",
              "      <td>2</td>\n",
              "      <td>True</td>\n",
              "      <td>False</td>\n",
              "      <td>False</td>\n",
              "      <td>False</td>\n",
              "      <td>2100</td>\n",
              "      <td>0</td>\n",
              "      <td>0</td>\n",
              "      <td>0</td>\n",
              "      <td>1</td>\n",
              "      <td>0</td>\n",
              "      <td>0</td>\n",
              "      <td>0</td>\n",
              "      <td>0</td>\n",
              "      <td>1</td>\n",
              "      <td>0</td>\n",
              "      <td>0</td>\n",
              "      <td>0</td>\n",
              "      <td>0</td>\n",
              "      <td>1</td>\n",
              "      <td>0</td>\n",
              "      <td>0</td>\n",
              "      <td>0</td>\n",
              "      <td>0</td>\n",
              "      <td>0</td>\n",
              "      <td>0</td>\n",
              "      <td>0</td>\n",
              "      <td>1</td>\n",
              "      <td>0</td>\n",
              "      <td>0</td>\n",
              "      <td>0</td>\n",
              "      <td>0</td>\n",
              "    </tr>\n",
              "    <tr>\n",
              "      <th>3</th>\n",
              "      <td>988678</td>\n",
              "      <td>L3</td>\n",
              "      <td>Saturday</td>\n",
              "      <td>19</td>\n",
              "      <td>8</td>\n",
              "      <td>2113</td>\n",
              "      <td>51462</td>\n",
              "      <td>6</td>\n",
              "      <td>0</td>\n",
              "      <td>1</td>\n",
              "      <td>1</td>\n",
              "      <td>[51462]</td>\n",
              "      <td>988681</td>\n",
              "      <td>1</td>\n",
              "      <td>False</td>\n",
              "      <td>False</td>\n",
              "      <td>False</td>\n",
              "      <td>False</td>\n",
              "      <td>2113</td>\n",
              "      <td>0</td>\n",
              "      <td>0</td>\n",
              "      <td>1</td>\n",
              "      <td>0</td>\n",
              "      <td>0</td>\n",
              "      <td>0</td>\n",
              "      <td>0</td>\n",
              "      <td>0</td>\n",
              "      <td>1</td>\n",
              "      <td>0</td>\n",
              "      <td>0</td>\n",
              "      <td>0</td>\n",
              "      <td>0</td>\n",
              "      <td>0</td>\n",
              "      <td>0</td>\n",
              "      <td>0</td>\n",
              "      <td>0</td>\n",
              "      <td>0</td>\n",
              "      <td>1</td>\n",
              "      <td>0</td>\n",
              "      <td>0</td>\n",
              "      <td>0</td>\n",
              "      <td>0</td>\n",
              "      <td>1</td>\n",
              "      <td>0</td>\n",
              "      <td>0</td>\n",
              "    </tr>\n",
              "    <tr>\n",
              "      <th>4</th>\n",
              "      <td>988677</td>\n",
              "      <td>L2</td>\n",
              "      <td>Tuesday</td>\n",
              "      <td>6</td>\n",
              "      <td>10</td>\n",
              "      <td>2116</td>\n",
              "      <td>31931;0</td>\n",
              "      <td>1</td>\n",
              "      <td>2</td>\n",
              "      <td>3</td>\n",
              "      <td>1</td>\n",
              "      <td>[31931, 0]</td>\n",
              "      <td>988681</td>\n",
              "      <td>2</td>\n",
              "      <td>True</td>\n",
              "      <td>False</td>\n",
              "      <td>False</td>\n",
              "      <td>False</td>\n",
              "      <td>2116</td>\n",
              "      <td>0</td>\n",
              "      <td>1</td>\n",
              "      <td>0</td>\n",
              "      <td>0</td>\n",
              "      <td>0</td>\n",
              "      <td>0</td>\n",
              "      <td>0</td>\n",
              "      <td>0</td>\n",
              "      <td>0</td>\n",
              "      <td>0</td>\n",
              "      <td>0</td>\n",
              "      <td>1</td>\n",
              "      <td>0</td>\n",
              "      <td>1</td>\n",
              "      <td>0</td>\n",
              "      <td>0</td>\n",
              "      <td>0</td>\n",
              "      <td>0</td>\n",
              "      <td>0</td>\n",
              "      <td>0</td>\n",
              "      <td>0</td>\n",
              "      <td>0</td>\n",
              "      <td>0</td>\n",
              "      <td>0</td>\n",
              "      <td>0</td>\n",
              "      <td>1</td>\n",
              "    </tr>\n",
              "  </tbody>\n",
              "</table>\n",
              "</div>"
            ],
            "text/plain": [
              "   row_num locale  ... entry_page1_2114 entry_page1_2116\n",
              "0   988681     L6  ...                0                0\n",
              "1   988680     L2  ...                0                0\n",
              "2   988679     L4  ...                0                0\n",
              "3   988678     L3  ...                0                0\n",
              "4   988677     L2  ...                0                1\n",
              "\n",
              "[5 rows x 45 columns]"
            ]
          },
          "metadata": {
            "tags": []
          },
          "execution_count": 74
        }
      ]
    },
    {
      "cell_type": "code",
      "metadata": {
        "colab": {
          "base_uri": "https://localhost:8080/"
        },
        "id": "NPNQlNANu7X-",
        "outputId": "c8e760af-cf72-48f6-defc-1e923f302f0f"
      },
      "source": [
        "from google.colab import drive\n",
        "drive.mount('/content/drive')"
      ],
      "execution_count": null,
      "outputs": [
        {
          "output_type": "stream",
          "text": [
            "Mounted at /content/drive\n"
          ],
          "name": "stdout"
        }
      ]
    },
    {
      "cell_type": "code",
      "metadata": {
        "id": "vbCBBEj3RORZ"
      },
      "source": [
        "all_data_1 = pd.read_csv('/content/drive/MyDrive/all_data_1.csv')"
      ],
      "execution_count": null,
      "outputs": []
    },
    {
      "cell_type": "code",
      "metadata": {
        "id": "5-CcYZzX22Iy"
      },
      "source": [
        "all_data_1=pd.get_dummies(all_data_1 , columns = ['hour_of_day' , 'agent_id'])"
      ],
      "execution_count": null,
      "outputs": []
    },
    {
      "cell_type": "markdown",
      "metadata": {
        "id": "xnU0obXPZ4QO"
      },
      "source": [
        "#### then we drop columns that were transferred to binary columns and columns that were stored in another type (i.e path_id_set)"
      ]
    },
    {
      "cell_type": "markdown",
      "metadata": {
        "id": "Cpu_JqQfay-D"
      },
      "source": [
        "#### then we divide the data to training data (the data in which hits is not missing) , and test data (in which hits is missing) also we have an important notice\n",
        "\n",
        "#### we have columns like day_of_the_week  , locale and traffic_type , if we take all binary variables in analysis we may have collinearity so we exclude the binary column of l'locale_L1','traffic_type_1','entry_page1_0'"
      ]
    },
    {
      "cell_type": "code",
      "metadata": {
        "id": "CfyegfCVZUPP"
      },
      "source": [
        "all_data_1=all_data_1.drop(columns=['path_id_set','number_of_pages','locale','day_of_week','traffic_type','entry_page','entry_page1','day_of_week_Friday','locale_L1','traffic_type_1'])"
      ],
      "execution_count": null,
      "outputs": []
    },
    {
      "cell_type": "code",
      "metadata": {
        "colab": {
          "base_uri": "https://localhost:8080/",
          "height": 839
        },
        "id": "VBAZttfQW9Xq",
        "outputId": "74ee9fb0-526e-4a79-fc97-804f71e9eb5a"
      },
      "source": [
        "plt.figure(figsize=(12,12))\n",
        "\n",
        "sns.heatmap(all_data_1.corr() , center=0 , cmap=\"Spectral\" )"
      ],
      "execution_count": null,
      "outputs": [
        {
          "output_type": "execute_result",
          "data": {
            "text/plain": [
              "<matplotlib.axes._subplots.AxesSubplot at 0x7fdcbb278bd0>"
            ]
          },
          "metadata": {
            "tags": []
          },
          "execution_count": 10
        },
        {
          "output_type": "display_data",
          "data": {
            "image/png": "[encoded data removed]",
            "text/plain": [
              "<Figure size 864x864 with 2 Axes>"
            ]
          },
          "metadata": {
            "tags": []
          }
        }
      ]
    },
    {
      "cell_type": "code",
      "metadata": {
        "colab": {
          "base_uri": "https://localhost:8080/"
        },
        "id": "_vFwvRT-hbXG",
        "outputId": "224b9bf9-217c-4eff-ebce-bbc94fafc690"
      },
      "source": [
        "abs(all_data_1.corr()['hits']).sort_values(ascending=False).head(15).index[1:]"
      ],
      "execution_count": null,
      "outputs": [
        {
          "output_type": "execute_result",
          "data": {
            "text/plain": [
              "Index(['number_of_visited_pages', 'predicting', 'session_durantion',\n",
              "       'traffic_type_6', 'entry_page1_2100', 'agent_id_6', '0',\n",
              "       'traffic_type_4', 'entry_page1_2113', 'entry_page1_2116',\n",
              "       'entry_page1_ ', 'entry_page1_2114', 'traffic_type_10', 'locale_L5'],\n",
              "      dtype='object')"
            ]
          },
          "metadata": {
            "tags": []
          },
          "execution_count": 11
        }
      ]
    },
    {
      "cell_type": "code",
      "metadata": {
        "colab": {
          "base_uri": "https://localhost:8080/",
          "height": 244
        },
        "id": "hn8e900QZwJU",
        "outputId": "5ee4cb73-c34b-4f68-db64-6508f487708b"
      },
      "source": [
        "all_data_1.head()"
      ],
      "execution_count": null,
      "outputs": [
        {
          "output_type": "execute_result",
          "data": {
            "text/html": [
              "<div>\n",
              "<style scoped>\n",
              "    .dataframe tbody tr th:only-of-type {\n",
              "        vertical-align: middle;\n",
              "    }\n",
              "\n",
              "    .dataframe tbody tr th {\n",
              "        vertical-align: top;\n",
              "    }\n",
              "\n",
              "    .dataframe thead th {\n",
              "        text-align: right;\n",
              "    }\n",
              "</style>\n",
              "<table border=\"1\" class=\"dataframe\">\n",
              "  <thead>\n",
              "    <tr style=\"text-align: right;\">\n",
              "      <th></th>\n",
              "      <th>Unnamed: 0</th>\n",
              "      <th>row_num</th>\n",
              "      <th>session_durantion</th>\n",
              "      <th>hits</th>\n",
              "      <th>predicting</th>\n",
              "      <th>path_id_set_new</th>\n",
              "      <th>number_of_visited_pages</th>\n",
              "      <th>0</th>\n",
              "      <th>38715</th>\n",
              "      <th>34741</th>\n",
              "      <th>34812</th>\n",
              "      <th>locale_L2</th>\n",
              "      <th>locale_L3</th>\n",
              "      <th>locale_L4</th>\n",
              "      <th>locale_L5</th>\n",
              "      <th>locale_L6</th>\n",
              "      <th>day_of_week_Monday</th>\n",
              "      <th>day_of_week_Saturday</th>\n",
              "      <th>day_of_week_Sunday</th>\n",
              "      <th>day_of_week_Thursday</th>\n",
              "      <th>day_of_week_Tuesday</th>\n",
              "      <th>day_of_week_Wednesday</th>\n",
              "      <th>traffic_type_10</th>\n",
              "      <th>traffic_type_2</th>\n",
              "      <th>traffic_type_3</th>\n",
              "      <th>traffic_type_4</th>\n",
              "      <th>traffic_type_6</th>\n",
              "      <th>traffic_type_7</th>\n",
              "      <th>entry_page1_</th>\n",
              "      <th>entry_page1_2100</th>\n",
              "      <th>entry_page1_2111</th>\n",
              "      <th>entry_page1_2113</th>\n",
              "      <th>entry_page1_2114</th>\n",
              "      <th>entry_page1_2116</th>\n",
              "      <th>hour_of_day_0</th>\n",
              "      <th>hour_of_day_1</th>\n",
              "      <th>hour_of_day_2</th>\n",
              "      <th>hour_of_day_3</th>\n",
              "      <th>hour_of_day_4</th>\n",
              "      <th>hour_of_day_5</th>\n",
              "      <th>hour_of_day_6</th>\n",
              "      <th>hour_of_day_7</th>\n",
              "      <th>hour_of_day_8</th>\n",
              "      <th>hour_of_day_9</th>\n",
              "      <th>hour_of_day_10</th>\n",
              "      <th>hour_of_day_11</th>\n",
              "      <th>hour_of_day_12</th>\n",
              "      <th>hour_of_day_13</th>\n",
              "      <th>hour_of_day_14</th>\n",
              "      <th>hour_of_day_15</th>\n",
              "      <th>hour_of_day_16</th>\n",
              "      <th>hour_of_day_17</th>\n",
              "      <th>hour_of_day_18</th>\n",
              "      <th>hour_of_day_19</th>\n",
              "      <th>hour_of_day_20</th>\n",
              "      <th>hour_of_day_21</th>\n",
              "      <th>hour_of_day_22</th>\n",
              "      <th>hour_of_day_23</th>\n",
              "      <th>agent_id_0</th>\n",
              "      <th>agent_id_1</th>\n",
              "      <th>agent_id_2</th>\n",
              "      <th>agent_id_3</th>\n",
              "      <th>agent_id_4</th>\n",
              "      <th>agent_id_5</th>\n",
              "      <th>agent_id_6</th>\n",
              "      <th>agent_id_7</th>\n",
              "      <th>agent_id_8</th>\n",
              "      <th>agent_id_9</th>\n",
              "      <th>agent_id_10</th>\n",
              "      <th>agent_id_11</th>\n",
              "      <th>agent_id_12</th>\n",
              "      <th>agent_id_13</th>\n",
              "      <th>agent_id_14</th>\n",
              "      <th>agent_id_15</th>\n",
              "    </tr>\n",
              "  </thead>\n",
              "  <tbody>\n",
              "    <tr>\n",
              "      <th>0</th>\n",
              "      <td>0</td>\n",
              "      <td>988681</td>\n",
              "      <td>7037</td>\n",
              "      <td>0</td>\n",
              "      <td>0</td>\n",
              "      <td>['31672', '0']</td>\n",
              "      <td>2</td>\n",
              "      <td>True</td>\n",
              "      <td>False</td>\n",
              "      <td>False</td>\n",
              "      <td>False</td>\n",
              "      <td>0</td>\n",
              "      <td>0</td>\n",
              "      <td>0</td>\n",
              "      <td>0</td>\n",
              "      <td>1</td>\n",
              "      <td>1</td>\n",
              "      <td>0</td>\n",
              "      <td>0</td>\n",
              "      <td>0</td>\n",
              "      <td>0</td>\n",
              "      <td>0</td>\n",
              "      <td>0</td>\n",
              "      <td>0</td>\n",
              "      <td>0</td>\n",
              "      <td>0</td>\n",
              "      <td>1</td>\n",
              "      <td>0</td>\n",
              "      <td>0</td>\n",
              "      <td>0</td>\n",
              "      <td>1</td>\n",
              "      <td>0</td>\n",
              "      <td>0</td>\n",
              "      <td>0</td>\n",
              "      <td>0</td>\n",
              "      <td>0</td>\n",
              "      <td>0</td>\n",
              "      <td>0</td>\n",
              "      <td>0</td>\n",
              "      <td>0</td>\n",
              "      <td>0</td>\n",
              "      <td>0</td>\n",
              "      <td>0</td>\n",
              "      <td>0</td>\n",
              "      <td>0</td>\n",
              "      <td>0</td>\n",
              "      <td>0</td>\n",
              "      <td>0</td>\n",
              "      <td>0</td>\n",
              "      <td>0</td>\n",
              "      <td>0</td>\n",
              "      <td>1</td>\n",
              "      <td>0</td>\n",
              "      <td>0</td>\n",
              "      <td>0</td>\n",
              "      <td>0</td>\n",
              "      <td>0</td>\n",
              "      <td>0</td>\n",
              "      <td>0</td>\n",
              "      <td>1</td>\n",
              "      <td>0</td>\n",
              "      <td>0</td>\n",
              "      <td>0</td>\n",
              "      <td>0</td>\n",
              "      <td>0</td>\n",
              "      <td>0</td>\n",
              "      <td>0</td>\n",
              "      <td>0</td>\n",
              "      <td>0</td>\n",
              "      <td>0</td>\n",
              "      <td>0</td>\n",
              "      <td>0</td>\n",
              "      <td>0</td>\n",
              "      <td>0</td>\n",
              "    </tr>\n",
              "    <tr>\n",
              "      <th>1</th>\n",
              "      <td>1</td>\n",
              "      <td>988680</td>\n",
              "      <td>49</td>\n",
              "      <td>14</td>\n",
              "      <td>1</td>\n",
              "      <td>['31965', '0']</td>\n",
              "      <td>2</td>\n",
              "      <td>True</td>\n",
              "      <td>False</td>\n",
              "      <td>False</td>\n",
              "      <td>False</td>\n",
              "      <td>1</td>\n",
              "      <td>0</td>\n",
              "      <td>0</td>\n",
              "      <td>0</td>\n",
              "      <td>0</td>\n",
              "      <td>0</td>\n",
              "      <td>0</td>\n",
              "      <td>0</td>\n",
              "      <td>1</td>\n",
              "      <td>0</td>\n",
              "      <td>0</td>\n",
              "      <td>0</td>\n",
              "      <td>1</td>\n",
              "      <td>0</td>\n",
              "      <td>0</td>\n",
              "      <td>0</td>\n",
              "      <td>0</td>\n",
              "      <td>0</td>\n",
              "      <td>0</td>\n",
              "      <td>0</td>\n",
              "      <td>1</td>\n",
              "      <td>0</td>\n",
              "      <td>0</td>\n",
              "      <td>0</td>\n",
              "      <td>0</td>\n",
              "      <td>0</td>\n",
              "      <td>0</td>\n",
              "      <td>0</td>\n",
              "      <td>0</td>\n",
              "      <td>0</td>\n",
              "      <td>0</td>\n",
              "      <td>0</td>\n",
              "      <td>0</td>\n",
              "      <td>0</td>\n",
              "      <td>0</td>\n",
              "      <td>0</td>\n",
              "      <td>0</td>\n",
              "      <td>0</td>\n",
              "      <td>0</td>\n",
              "      <td>0</td>\n",
              "      <td>0</td>\n",
              "      <td>0</td>\n",
              "      <td>0</td>\n",
              "      <td>0</td>\n",
              "      <td>0</td>\n",
              "      <td>1</td>\n",
              "      <td>0</td>\n",
              "      <td>0</td>\n",
              "      <td>0</td>\n",
              "      <td>0</td>\n",
              "      <td>0</td>\n",
              "      <td>0</td>\n",
              "      <td>0</td>\n",
              "      <td>0</td>\n",
              "      <td>0</td>\n",
              "      <td>0</td>\n",
              "      <td>0</td>\n",
              "      <td>1</td>\n",
              "      <td>0</td>\n",
              "      <td>0</td>\n",
              "      <td>0</td>\n",
              "      <td>0</td>\n",
              "      <td>0</td>\n",
              "    </tr>\n",
              "    <tr>\n",
              "      <th>2</th>\n",
              "      <td>2</td>\n",
              "      <td>988679</td>\n",
              "      <td>1892</td>\n",
              "      <td>14</td>\n",
              "      <td>1</td>\n",
              "      <td>['0', '78464']</td>\n",
              "      <td>2</td>\n",
              "      <td>True</td>\n",
              "      <td>False</td>\n",
              "      <td>False</td>\n",
              "      <td>False</td>\n",
              "      <td>0</td>\n",
              "      <td>0</td>\n",
              "      <td>1</td>\n",
              "      <td>0</td>\n",
              "      <td>0</td>\n",
              "      <td>0</td>\n",
              "      <td>1</td>\n",
              "      <td>0</td>\n",
              "      <td>0</td>\n",
              "      <td>0</td>\n",
              "      <td>0</td>\n",
              "      <td>0</td>\n",
              "      <td>0</td>\n",
              "      <td>0</td>\n",
              "      <td>0</td>\n",
              "      <td>0</td>\n",
              "      <td>0</td>\n",
              "      <td>0</td>\n",
              "      <td>1</td>\n",
              "      <td>0</td>\n",
              "      <td>0</td>\n",
              "      <td>0</td>\n",
              "      <td>0</td>\n",
              "      <td>0</td>\n",
              "      <td>0</td>\n",
              "      <td>0</td>\n",
              "      <td>0</td>\n",
              "      <td>0</td>\n",
              "      <td>0</td>\n",
              "      <td>0</td>\n",
              "      <td>0</td>\n",
              "      <td>0</td>\n",
              "      <td>0</td>\n",
              "      <td>0</td>\n",
              "      <td>0</td>\n",
              "      <td>0</td>\n",
              "      <td>0</td>\n",
              "      <td>0</td>\n",
              "      <td>0</td>\n",
              "      <td>0</td>\n",
              "      <td>0</td>\n",
              "      <td>0</td>\n",
              "      <td>0</td>\n",
              "      <td>0</td>\n",
              "      <td>1</td>\n",
              "      <td>0</td>\n",
              "      <td>0</td>\n",
              "      <td>0</td>\n",
              "      <td>0</td>\n",
              "      <td>1</td>\n",
              "      <td>0</td>\n",
              "      <td>0</td>\n",
              "      <td>0</td>\n",
              "      <td>0</td>\n",
              "      <td>0</td>\n",
              "      <td>0</td>\n",
              "      <td>0</td>\n",
              "      <td>0</td>\n",
              "      <td>0</td>\n",
              "      <td>0</td>\n",
              "      <td>0</td>\n",
              "      <td>0</td>\n",
              "      <td>0</td>\n",
              "    </tr>\n",
              "    <tr>\n",
              "      <th>3</th>\n",
              "      <td>3</td>\n",
              "      <td>988678</td>\n",
              "      <td>0</td>\n",
              "      <td>1</td>\n",
              "      <td>1</td>\n",
              "      <td>['51462']</td>\n",
              "      <td>1</td>\n",
              "      <td>False</td>\n",
              "      <td>False</td>\n",
              "      <td>False</td>\n",
              "      <td>False</td>\n",
              "      <td>0</td>\n",
              "      <td>1</td>\n",
              "      <td>0</td>\n",
              "      <td>0</td>\n",
              "      <td>0</td>\n",
              "      <td>0</td>\n",
              "      <td>1</td>\n",
              "      <td>0</td>\n",
              "      <td>0</td>\n",
              "      <td>0</td>\n",
              "      <td>0</td>\n",
              "      <td>0</td>\n",
              "      <td>0</td>\n",
              "      <td>0</td>\n",
              "      <td>0</td>\n",
              "      <td>1</td>\n",
              "      <td>0</td>\n",
              "      <td>0</td>\n",
              "      <td>0</td>\n",
              "      <td>0</td>\n",
              "      <td>1</td>\n",
              "      <td>0</td>\n",
              "      <td>0</td>\n",
              "      <td>0</td>\n",
              "      <td>0</td>\n",
              "      <td>0</td>\n",
              "      <td>0</td>\n",
              "      <td>0</td>\n",
              "      <td>0</td>\n",
              "      <td>0</td>\n",
              "      <td>0</td>\n",
              "      <td>0</td>\n",
              "      <td>0</td>\n",
              "      <td>0</td>\n",
              "      <td>0</td>\n",
              "      <td>0</td>\n",
              "      <td>0</td>\n",
              "      <td>0</td>\n",
              "      <td>0</td>\n",
              "      <td>0</td>\n",
              "      <td>0</td>\n",
              "      <td>0</td>\n",
              "      <td>1</td>\n",
              "      <td>0</td>\n",
              "      <td>0</td>\n",
              "      <td>0</td>\n",
              "      <td>0</td>\n",
              "      <td>0</td>\n",
              "      <td>0</td>\n",
              "      <td>0</td>\n",
              "      <td>0</td>\n",
              "      <td>0</td>\n",
              "      <td>0</td>\n",
              "      <td>0</td>\n",
              "      <td>0</td>\n",
              "      <td>1</td>\n",
              "      <td>0</td>\n",
              "      <td>0</td>\n",
              "      <td>0</td>\n",
              "      <td>0</td>\n",
              "      <td>0</td>\n",
              "      <td>0</td>\n",
              "      <td>0</td>\n",
              "    </tr>\n",
              "    <tr>\n",
              "      <th>4</th>\n",
              "      <td>4</td>\n",
              "      <td>988677</td>\n",
              "      <td>2</td>\n",
              "      <td>3</td>\n",
              "      <td>1</td>\n",
              "      <td>['31931', '0']</td>\n",
              "      <td>2</td>\n",
              "      <td>True</td>\n",
              "      <td>False</td>\n",
              "      <td>False</td>\n",
              "      <td>False</td>\n",
              "      <td>1</td>\n",
              "      <td>0</td>\n",
              "      <td>0</td>\n",
              "      <td>0</td>\n",
              "      <td>0</td>\n",
              "      <td>0</td>\n",
              "      <td>0</td>\n",
              "      <td>0</td>\n",
              "      <td>0</td>\n",
              "      <td>1</td>\n",
              "      <td>0</td>\n",
              "      <td>0</td>\n",
              "      <td>0</td>\n",
              "      <td>0</td>\n",
              "      <td>0</td>\n",
              "      <td>0</td>\n",
              "      <td>0</td>\n",
              "      <td>0</td>\n",
              "      <td>0</td>\n",
              "      <td>0</td>\n",
              "      <td>0</td>\n",
              "      <td>0</td>\n",
              "      <td>1</td>\n",
              "      <td>0</td>\n",
              "      <td>0</td>\n",
              "      <td>0</td>\n",
              "      <td>0</td>\n",
              "      <td>0</td>\n",
              "      <td>0</td>\n",
              "      <td>1</td>\n",
              "      <td>0</td>\n",
              "      <td>0</td>\n",
              "      <td>0</td>\n",
              "      <td>0</td>\n",
              "      <td>0</td>\n",
              "      <td>0</td>\n",
              "      <td>0</td>\n",
              "      <td>0</td>\n",
              "      <td>0</td>\n",
              "      <td>0</td>\n",
              "      <td>0</td>\n",
              "      <td>0</td>\n",
              "      <td>0</td>\n",
              "      <td>0</td>\n",
              "      <td>0</td>\n",
              "      <td>0</td>\n",
              "      <td>0</td>\n",
              "      <td>0</td>\n",
              "      <td>0</td>\n",
              "      <td>0</td>\n",
              "      <td>0</td>\n",
              "      <td>0</td>\n",
              "      <td>0</td>\n",
              "      <td>0</td>\n",
              "      <td>0</td>\n",
              "      <td>0</td>\n",
              "      <td>0</td>\n",
              "      <td>1</td>\n",
              "      <td>0</td>\n",
              "      <td>0</td>\n",
              "      <td>0</td>\n",
              "      <td>0</td>\n",
              "      <td>0</td>\n",
              "    </tr>\n",
              "  </tbody>\n",
              "</table>\n",
              "</div>"
            ],
            "text/plain": [
              "   Unnamed: 0  row_num  ...  agent_id_14  agent_id_15\n",
              "0           0   988681  ...            0            0\n",
              "1           1   988680  ...            0            0\n",
              "2           2   988679  ...            0            0\n",
              "3           3   988678  ...            0            0\n",
              "4           4   988677  ...            0            0\n",
              "\n",
              "[5 rows x 74 columns]"
            ]
          },
          "metadata": {
            "tags": []
          },
          "execution_count": 12
        }
      ]
    },
    {
      "cell_type": "code",
      "metadata": {
        "id": "Pj-pX__54CXv"
      },
      "source": [
        ""
      ],
      "execution_count": null,
      "outputs": []
    },
    {
      "cell_type": "code",
      "metadata": {
        "id": "taQ_2hnpPXCT"
      },
      "source": [
        "#predictors = ['session_durantion' , 'number_of_visited_pages' ,'0' ,'38715' ,\t'traffic_type_6',\t'entry_page1_2100' , 'locale_L5' , 'day_of_week_Sunday' , 'hour_of_day_11' ,'agent_id_12']\n",
        "predictors = abs(all_data_1.corr()['hits']).sort_values(ascending=False).head(15).index[1:]"
      ],
      "execution_count": null,
      "outputs": []
    },
    {
      "cell_type": "code",
      "metadata": {
        "id": "zmlHw28J5vq5"
      },
      "source": [
        "train = all_data_1.loc[all_data_1['predicting'] == 1, predictors]"
      ],
      "execution_count": null,
      "outputs": []
    },
    {
      "cell_type": "code",
      "metadata": {
        "id": "Tf3uwkRZ4BB_"
      },
      "source": [
        ""
      ],
      "execution_count": null,
      "outputs": []
    },
    {
      "cell_type": "code",
      "metadata": {
        "id": "XkGyL1aNSh28"
      },
      "source": [
        "train=train*1"
      ],
      "execution_count": null,
      "outputs": []
    },
    {
      "cell_type": "markdown",
      "metadata": {
        "id": "oxejpF4wcq35"
      },
      "source": [
        "#### also y_train is available hits , and x test is columns of final data where hits is missing\n",
        "\n",
        "#### in x test we add row_num to make it the label for the predicted values as demanded in the case study "
      ]
    },
    {
      "cell_type": "code",
      "metadata": {
        "id": "2QSV_ZmL6sJi"
      },
      "source": [
        "y_train = all_data_1.loc[all_data_1['predicting'] == 1,['hits']]"
      ],
      "execution_count": null,
      "outputs": []
    },
    {
      "cell_type": "code",
      "metadata": {
        "id": "yJwnxwK9dayo"
      },
      "source": [
        "x_test = all_data_1.loc[all_data_1['predicting'] == 0,predictors]"
      ],
      "execution_count": null,
      "outputs": []
    },
    {
      "cell_type": "code",
      "metadata": {
        "id": "EcRdiuadSrOk"
      },
      "source": [
        "x_test = x_test*1"
      ],
      "execution_count": null,
      "outputs": []
    },
    {
      "cell_type": "code",
      "metadata": {
        "id": "xRxvapI0EvTs"
      },
      "source": [
        "from sklearn import preprocessing\n",
        "\n",
        "scaler = preprocessing.MinMaxScaler()\n",
        "train=scaler.fit_transform(train)\n",
        "x_test=scaler.fit_transform(x_test)\n",
        "y_train=scaler.fit_transform(y_train)\n",
        "                                                   \n",
        "                                               \n"
      ],
      "execution_count": null,
      "outputs": []
    },
    {
      "cell_type": "markdown",
      "metadata": {
        "id": "-Kc9MN-uc9Hi"
      },
      "source": [
        "### Then we transfer to modelling"
      ]
    },
    {
      "cell_type": "markdown",
      "metadata": {
        "id": "9zh908XbdAWb"
      },
      "source": [
        "#### we use XGB regressor which proved successful and many of winning solutions in kaggle competitions depended on it \n",
        "\n",
        "#### we use train test split , meaning that the train set we use also to be divided to train and test datasets , we use the default of 0.75 for training data\n",
        "\n",
        "#### to have the most satisfactory solution \n",
        "\n",
        "#### we got we use cross validation , and grid search to guarntee that the chosen parameters give the best result  "
      ]
    },
    {
      "cell_type": "code",
      "metadata": {
        "id": "MG76iUWTnCVt"
      },
      "source": [
        "# Organize our data for training\n",
        "X = train\n",
        "Y = y_train\n",
        "X, X_Val, Y, Y_Val = train_test_split(X, Y )"
      ],
      "execution_count": null,
      "outputs": []
    },
    {
      "cell_type": "code",
      "metadata": {
        "colab": {
          "base_uri": "https://localhost:8080/"
        },
        "id": "LXyfbCRD8sxC",
        "outputId": "a36d9fb0-630d-460f-c48f-e1ddcc8acad9"
      },
      "source": [
        "Y"
      ],
      "execution_count": null,
      "outputs": [
        {
          "output_type": "execute_result",
          "data": {
            "text/plain": [
              "array([[0.01174215],\n",
              "       [0.00766834],\n",
              "       [0.00071891],\n",
              "       ...,\n",
              "       [0.03187156],\n",
              "       [0.00455308],\n",
              "       [0.00023964]])"
            ]
          },
          "metadata": {
            "tags": []
          },
          "execution_count": 21
        }
      ]
    },
    {
      "cell_type": "code",
      "metadata": {
        "colab": {
          "base_uri": "https://localhost:8080/"
        },
        "id": "za0u9D4T8xOG",
        "outputId": "edb5708e-e00f-4582-d420-08ac9ff43bd9"
      },
      "source": [
        "\n",
        "\n",
        "from sklearn.ensemble import RandomForestClassifier\n",
        "from sklearn.ensemble import RandomForestRegressor\n",
        "\n",
        "\n",
        "rf = RandomForestRegressor(n_estimators=100 )\n",
        "rf.fit(X, Y)\n",
        "\n",
        "print('Training Accuracy: {:.2f} '.format(rf.score(X, Y)*100))\n",
        "print('Test Accuracy: {:.2f} '.format(rf.score(X_Val, Y_Val)*100))\n",
        "\n",
        "\n"
      ],
      "execution_count": null,
      "outputs": [
        {
          "output_type": "stream",
          "text": [
            "Training Accuracy: 72.21 \n",
            "Test Accuracy: 16.91 \n"
          ],
          "name": "stdout"
        }
      ]
    },
    {
      "cell_type": "code",
      "metadata": {
        "id": "jg-vYczbAw0A"
      },
      "source": [
        "features = predictors\n",
        "importances = rf.feature_importances_\n",
        "indices = np.argsort(importances)"
      ],
      "execution_count": null,
      "outputs": []
    },
    {
      "cell_type": "code",
      "metadata": {
        "colab": {
          "base_uri": "https://localhost:8080/",
          "height": 851
        },
        "id": "qFB8lwz6AyNn",
        "outputId": "4fa237ce-141e-443b-9556-d03ae4e3bdbb"
      },
      "source": [
        "plt.figure(figsize=(15,15))\n",
        "plt.title('Feature Importances')\n",
        "plt.barh(range(len(indices[-5:])), importances[indices][-5:]*100, color='b', align='center')\n",
        "plt.yticks(range(len(indices[-5:])), [features[i] for i in indices[-5:]])\n",
        "plt.xlabel('Relative Importance')\n",
        "plt.show()"
      ],
      "execution_count": null,
      "outputs": [
        {
          "output_type": "display_data",
          "data": {
            "image/png": "[encoded data removed]",
            "text/plain": [
              "<Figure size 1080x1080 with 1 Axes>"
            ]
          },
          "metadata": {
            "tags": []
          }
        }
      ]
    },
    {
      "cell_type": "code",
      "metadata": {
        "id": "S25J1qO9IcTP"
      },
      "source": [
        ""
      ],
      "execution_count": null,
      "outputs": []
    },
    {
      "cell_type": "code",
      "metadata": {
        "id": "iE8lhhy-IcWr"
      },
      "source": [
        ""
      ],
      "execution_count": null,
      "outputs": []
    },
    {
      "cell_type": "code",
      "metadata": {
        "colab": {
          "background_save": true
        },
        "id": "5pptXNE5ECoX",
        "outputId": "e09a2064-8daa-4a3f-b77f-805960525ce8"
      },
      "source": [
        "# A parameter grid for XGBoost\n",
        "params = {'min_child_weight':[5], 'gamma':[i/10.0 for i in [1]],  'subsample':[i/10.0 for i in [8]],\n",
        "'colsample_bytree':[i/10.0 for i in [4]] , 'n_estimators' : [500] , 'max_depth' : [10]}\n",
        "\n",
        "# Initialize XGB and GridSearch\n",
        "xgb = XGBRegressor(nthread=-1 , objective ='reg:squarederror') \n",
        "\n",
        "grid = GridSearchCV(xgb, params)\n",
        "grid.fit(X, Y)\n",
        "\n",
        "# Print the r2 score\n",
        "print(r2_score(Y_Val, grid.best_estimator_.predict(X_Val))) \n",
        "# Print the r2 score\n",
        "print(mean_squared_error(Y_Val, grid.best_estimator_.predict(X_Val))) \n",
        "\n"
      ],
      "execution_count": null,
      "outputs": [
        {
          "output_type": "stream",
          "text": [
            "0.29750071425913605\n",
            "6.518640834366767e-05\n"
          ],
          "name": "stdout"
        }
      ]
    },
    {
      "cell_type": "code",
      "metadata": {
        "id": "VcOLQ0JZOJYW"
      },
      "source": [
        ""
      ],
      "execution_count": null,
      "outputs": []
    },
    {
      "cell_type": "code",
      "metadata": {
        "id": "1TEq9PrnKkC-"
      },
      "source": [
        ""
      ],
      "execution_count": null,
      "outputs": []
    },
    {
      "cell_type": "code",
      "metadata": {
        "colab": {
          "base_uri": "https://localhost:8080/"
        },
        "id": "mnrU9Lk7AEoi",
        "outputId": "49161f93-40e0-4040-df75-123200852436"
      },
      "source": [
        "grid.best_estimator_"
      ],
      "execution_count": null,
      "outputs": [
        {
          "output_type": "execute_result",
          "data": {
            "text/plain": [
              "XGBRegressor(base_score=0.5, booster='gbtree', colsample_bylevel=1,\n",
              "             colsample_bynode=1, colsample_bytree=0.4, gamma=0.1,\n",
              "             importance_type='gain', learning_rate=0.1, max_delta_step=0,\n",
              "             max_depth=3, min_child_weight=5, missing=None, n_estimators=500,\n",
              "             n_jobs=1, nthread=-1, objective='reg:squarederror', random_state=0,\n",
              "             reg_alpha=0, reg_lambda=1, scale_pos_weight=1, seed=None,\n",
              "             silent=None, subsample=0.8, verbosity=1)"
            ]
          },
          "metadata": {
            "tags": []
          },
          "execution_count": 26
        }
      ]
    },
    {
      "cell_type": "code",
      "metadata": {
        "id": "qnV1LVkz7PpQ"
      },
      "source": [
        "# Organize our data for training\n",
        "X = train\n",
        "Y = y_train\n",
        "X, X_Val, Y, Y_Val = train_test_split(X, Y)"
      ],
      "execution_count": null,
      "outputs": []
    },
    {
      "cell_type": "code",
      "metadata": {
        "colab": {
          "base_uri": "https://localhost:8080/"
        },
        "id": "PZ8b0wY33xh7",
        "outputId": "9f700a94-425c-4d13-b89e-72167a3f9b71"
      },
      "source": [
        "X"
      ],
      "execution_count": null,
      "outputs": [
        {
          "output_type": "execute_result",
          "data": {
            "text/plain": [
              "array([[7.57575758e-03, 0.00000000e+00, 4.52336492e-04, ...,\n",
              "        0.00000000e+00, 0.00000000e+00, 0.00000000e+00],\n",
              "       [7.57575758e-03, 0.00000000e+00, 3.15127756e-02, ...,\n",
              "        0.00000000e+00, 0.00000000e+00, 0.00000000e+00],\n",
              "       [7.57575758e-03, 0.00000000e+00, 1.03689442e-02, ...,\n",
              "        0.00000000e+00, 0.00000000e+00, 0.00000000e+00],\n",
              "       ...,\n",
              "       [0.00000000e+00, 0.00000000e+00, 4.17958919e-01, ...,\n",
              "        0.00000000e+00, 0.00000000e+00, 0.00000000e+00],\n",
              "       [7.57575758e-03, 0.00000000e+00, 1.17143553e-03, ...,\n",
              "        0.00000000e+00, 0.00000000e+00, 0.00000000e+00],\n",
              "       [7.57575758e-03, 0.00000000e+00, 2.31967432e-05, ...,\n",
              "        1.00000000e+00, 0.00000000e+00, 0.00000000e+00]])"
            ]
          },
          "metadata": {
            "tags": []
          },
          "execution_count": 28
        }
      ]
    },
    {
      "cell_type": "code",
      "metadata": {
        "colab": {
          "base_uri": "https://localhost:8080/"
        },
        "id": "Lenqr5LV7PJV",
        "outputId": "0c0ab6f6-acc8-4573-f43b-c87faaa1b8b4"
      },
      "source": [
        "\n",
        "\n",
        "# A parameter grid for XGBoost\n",
        "params = {'min_child_weight':[4], 'gamma':[i/10.0 for i in [3]],  'subsample':[i/10.0 for i in range(6)],\n",
        "'colsample_bytree':[i/10.0 for i in [5]], 'max_depth': [5] ,'learning_rate': [0.0001, 0.001, 0.01, 0.1, 0.2, 0.3]}\n",
        "\n",
        "# Initialize XGB and GridSearch\n",
        "xgb = XGBRegressor(nthread=-1 ,objective ='reg:squarederror') \n",
        "\n",
        "grid1 = GridSearchCV(xgb, params)\n",
        "grid1.fit(X, Y)\n",
        "\n",
        "# Print the r2 score\n",
        "print(r2_score(Y_Val, grid1.best_estimator_.predict(X_Val))) \n",
        "# Print the mse score\n",
        "print(mean_squared_error(Y_Val, grid1.best_estimator_.predict(X_Val))) "
      ],
      "execution_count": null,
      "outputs": [
        {
          "output_type": "stream",
          "text": [
            "0.2589075617207869\n",
            "6.876754935220428e-05\n"
          ],
          "name": "stdout"
        }
      ]
    },
    {
      "cell_type": "markdown",
      "metadata": {
        "id": "TMcQAJFdkOzd"
      },
      "source": [
        "#### below the parameters of the best model"
      ]
    },
    {
      "cell_type": "code",
      "metadata": {
        "colab": {
          "base_uri": "https://localhost:8080/"
        },
        "id": "sypcI6BrWLVS",
        "outputId": "f79e3c5e-a724-41db-fad3-842140fd46f9"
      },
      "source": [
        "grid1.best_estimator_"
      ],
      "execution_count": null,
      "outputs": [
        {
          "output_type": "execute_result",
          "data": {
            "text/plain": [
              "XGBRegressor(base_score=0.5, booster='gbtree', colsample_bylevel=1,\n",
              "             colsample_bynode=1, colsample_bytree=0.5, gamma=0.3,\n",
              "             importance_type='gain', learning_rate=0.3, max_delta_step=0,\n",
              "             max_depth=5, min_child_weight=4, missing=None, n_estimators=100,\n",
              "             n_jobs=1, nthread=-1, objective='reg:squarederror', random_state=0,\n",
              "             reg_alpha=0, reg_lambda=1, scale_pos_weight=1, seed=None,\n",
              "             silent=None, subsample=0.5, verbosity=1)"
            ]
          },
          "metadata": {
            "tags": []
          },
          "execution_count": 31
        }
      ]
    },
    {
      "cell_type": "markdown",
      "metadata": {
        "id": "Wy_RFJOwl3k-"
      },
      "source": [
        "#### then we apply the best model to the test data(data in which hits is missing) indicating results with row number"
      ]
    },
    {
      "cell_type": "code",
      "metadata": {
        "id": "Gpf7lAxX7PUr"
      },
      "source": [
        "grid2.best_estimator_"
      ],
      "execution_count": null,
      "outputs": []
    },
    {
      "cell_type": "markdown",
      "metadata": {
        "id": "bHOfzXov_oIx"
      },
      "source": [
        "### , this seems as clear from E and R2 not so satisfactory result\n",
        "### But we may have needed more parameter tuning but this is what I could do with computational power of my computer. \n"
      ]
    },
    {
      "cell_type": "code",
      "metadata": {
        "id": "dRFGR6JU7PgL"
      },
      "source": [
        ""
      ],
      "execution_count": null,
      "outputs": []
    },
    {
      "cell_type": "code",
      "metadata": {
        "id": "AIvTKcbLhjn1"
      },
      "source": [
        "# Save the file\n",
        "y_test = np.round(scaler.inverse_transform(grid.best_estimator_.predict(x_test.iloc[:,1:])),0)\n",
        "results_df = pd.DataFrame(data={'y':y_test} , index=x_test['row_num']) "
      ],
      "execution_count": null,
      "outputs": []
    },
    {
      "cell_type": "code",
      "metadata": {
        "id": "eBMVRn2v7MOp"
      },
      "source": [
        "results_df.head()"
      ],
      "execution_count": null,
      "outputs": []
    },
    {
      "cell_type": "markdown",
      "metadata": {
        "id": "Q3sgkdSSmFF4"
      },
      "source": [
        "#### we make row number in a separate column "
      ]
    },
    {
      "cell_type": "code",
      "metadata": {
        "id": "PnwVrGTQJ-HI"
      },
      "source": [
        "results_df1=pd.DataFrame(results_df.reset_index())"
      ],
      "execution_count": null,
      "outputs": []
    },
    {
      "cell_type": "code",
      "metadata": {
        "id": "s06U6cbFKDtJ"
      },
      "source": [
        "results_df1.head()"
      ],
      "execution_count": null,
      "outputs": []
    },
    {
      "cell_type": "code",
      "metadata": {
        "id": "y5yFWvU1EJkg"
      },
      "source": [
        "results_df1.to_csv(\"hits_predicted.csv\", index=False)\n"
      ],
      "execution_count": null,
      "outputs": []
    }
  ]
}
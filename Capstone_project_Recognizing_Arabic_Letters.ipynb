{
  "nbformat": 4,
  "nbformat_minor": 0,
  "metadata": {
    "colab": {
      "name": "Capstone project - Recognizing Arabic Letters.ipynb",
      "provenance": [],
      "include_colab_link": true
    },
    "language_info": {
      "codemirror_mode": {
        "name": "ipython",
        "version": 3
      },
      "file_extension": ".py",
      "mimetype": "text/x-python",
      "name": "python",
      "nbconvert_exporter": "python",
      "pygments_lexer": "ipython3",
      "version": "3.6.3"
    },
    "kernelspec": {
      "display_name": "Python 3",
      "language": "python",
      "name": "python3"
    }
  },
  "cells": [
    {
      "cell_type": "markdown",
      "metadata": {
        "id": "view-in-github",
        "colab_type": "text"
      },
      "source": [
        "<a href=\"https://colab.research.google.com/github/ahmedhas32/Data-science-projects/blob/master/Capstone_project_Recognizing_Arabic_Letters.ipynb\" target=\"_parent\"><img src=\"https://colab.research.google.com/assets/colab-badge.svg\" alt=\"Open In Colab\"/></a>"
      ]
    },
    {
      "cell_type": "code",
      "metadata": {
        "id": "IRA_zMWbCzH5",
        "colab_type": "code",
        "outputId": "9d23d133-f039-482f-ef06-26041f1cb825",
        "colab": {
          "base_uri": "https://localhost:8080/",
          "height": 34
        }
      },
      "source": [
        "import numpy as np\n",
        "import pandas as pd\n",
        "import matplotlib.pyplot as plt\n",
        "from scipy import stats\n",
        "import seaborn as sns\n",
        "from sklearn.preprocessing import LabelEncoder\n",
        "from keras.models import Sequential\n",
        "from keras.layers import Dense, Dropout, Flatten, Conv2D, MaxPool2D\n",
        "from keras.optimizers import RMSprop\n",
        "from keras.preprocessing.image import ImageDataGenerator\n",
        "from sklearn.metrics import confusion_matrix\n",
        "import keras"
      ],
      "execution_count": 0,
      "outputs": [
        {
          "output_type": "stream",
          "text": [
            "Using TensorFlow backend.\n"
          ],
          "name": "stderr"
        }
      ]
    },
    {
      "cell_type": "code",
      "metadata": {
        "id": "DllFtDLJC5On",
        "colab_type": "code",
        "outputId": "1dc2c93a-0f7d-439e-c4af-2f0c975db7dd",
        "colab": {
          "resources": {
            "http://localhost:8080/nbextensions/google.colab/files.js": {
              "data": "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",
              "ok": true,
              "headers": [
                [
                  "content-type",
                  "application/javascript"
                ]
              ],
              "status": 200,
              "status_text": ""
            }
          },
          "base_uri": "https://localhost:8080/",
          "height": 176
        }
      },
      "source": [
        "from google.colab import files\n",
        "uploaded = files.upload()"
      ],
      "execution_count": 0,
      "outputs": [
        {
          "output_type": "display_data",
          "data": {
            "text/html": [
              "\n",
              "     <input type=\"file\" id=\"files-e9b2e997-7e19-456b-acf8-d3702558d40a\" name=\"files[]\" multiple disabled />\n",
              "     <output id=\"result-e9b2e997-7e19-456b-acf8-d3702558d40a\">\n",
              "      Upload widget is only available when the cell has been executed in the\n",
              "      current browser session. Please rerun this cell to enable.\n",
              "      </output>\n",
              "      <script src=\"/nbextensions/google.colab/files.js\"></script> "
            ],
            "text/plain": [
              "<IPython.core.display.HTML object>"
            ]
          },
          "metadata": {
            "tags": []
          }
        },
        {
          "output_type": "stream",
          "text": [
            "Saving csvTestImages 3360x1024.csv to csvTestImages 3360x1024.csv\n",
            "Saving csvTestLabel 3360x1.csv to csvTestLabel 3360x1.csv\n",
            "Saving csvTrainImages 13440x1024.csv to csvTrainImages 13440x1024.csv\n",
            "Saving csvTrainLabel 13440x1.csv to csvTrainLabel 13440x1.csv\n"
          ],
          "name": "stdout"
        }
      ]
    },
    {
      "cell_type": "code",
      "metadata": {
        "id": "yS_jSyxRCzH-",
        "colab_type": "code",
        "colab": {}
      },
      "source": [
        "train_data = pd.read_csv('csvTrainImages 13440x1024.csv', header = None)\n",
        "train_label = pd.read_csv('csvTrainLabel 13440x1.csv', header = None)\n",
        "test_data = pd.read_csv('csvTestImages 3360x1024.csv', header = None)\n",
        "test_label = pd.read_csv('csvTestLabel 3360x1.csv', header = None)"
      ],
      "execution_count": 0,
      "outputs": []
    },
    {
      "cell_type": "code",
      "metadata": {
        "id": "PXeZhYGeCzIA",
        "colab_type": "code",
        "colab": {}
      },
      "source": [
        "train_data = train_data.iloc[:,:].values.astype('float32')\n",
        "train_label = train_label.iloc[:,:].values.astype('int32')-1\n",
        "test_data = test_data.iloc[:,:].values.astype('float32')\n",
        "test_label = test_label.iloc[:,:].values.astype('int32')-1"
      ],
      "execution_count": 0,
      "outputs": []
    },
    {
      "cell_type": "code",
      "metadata": {
        "scrolled": true,
        "id": "4Ihynqt-CzIB",
        "colab_type": "code",
        "outputId": "8837bed4-d1d7-4109-b0b7-b82770b5bc91",
        "colab": {
          "base_uri": "https://localhost:8080/",
          "height": 204
        }
      },
      "source": [
        "pd.DataFrame(train_label).head()"
      ],
      "execution_count": 0,
      "outputs": [
        {
          "output_type": "execute_result",
          "data": {
            "text/html": [
              "<div>\n",
              "<style scoped>\n",
              "    .dataframe tbody tr th:only-of-type {\n",
              "        vertical-align: middle;\n",
              "    }\n",
              "\n",
              "    .dataframe tbody tr th {\n",
              "        vertical-align: top;\n",
              "    }\n",
              "\n",
              "    .dataframe thead th {\n",
              "        text-align: right;\n",
              "    }\n",
              "</style>\n",
              "<table border=\"1\" class=\"dataframe\">\n",
              "  <thead>\n",
              "    <tr style=\"text-align: right;\">\n",
              "      <th></th>\n",
              "      <th>0</th>\n",
              "    </tr>\n",
              "  </thead>\n",
              "  <tbody>\n",
              "    <tr>\n",
              "      <th>0</th>\n",
              "      <td>0</td>\n",
              "    </tr>\n",
              "    <tr>\n",
              "      <th>1</th>\n",
              "      <td>0</td>\n",
              "    </tr>\n",
              "    <tr>\n",
              "      <th>2</th>\n",
              "      <td>0</td>\n",
              "    </tr>\n",
              "    <tr>\n",
              "      <th>3</th>\n",
              "      <td>0</td>\n",
              "    </tr>\n",
              "    <tr>\n",
              "      <th>4</th>\n",
              "      <td>0</td>\n",
              "    </tr>\n",
              "  </tbody>\n",
              "</table>\n",
              "</div>"
            ],
            "text/plain": [
              "   0\n",
              "0  0\n",
              "1  0\n",
              "2  0\n",
              "3  0\n",
              "4  0"
            ]
          },
          "metadata": {
            "tags": []
          },
          "execution_count": 5
        }
      ]
    },
    {
      "cell_type": "code",
      "metadata": {
        "id": "NJzUIZJtCzIE",
        "colab_type": "code",
        "outputId": "5bae208a-f7fa-473d-a1e5-a3c7ea27a244",
        "colab": {}
      },
      "source": [
        "pd.DataFrame(train_label).info()"
      ],
      "execution_count": 0,
      "outputs": [
        {
          "output_type": "stream",
          "text": [
            "<class 'pandas.core.frame.DataFrame'>\n",
            "RangeIndex: 13440 entries, 0 to 13439\n",
            "Data columns (total 1 columns):\n",
            "0    13440 non-null int32\n",
            "dtypes: int32(1)\n",
            "memory usage: 52.6 KB\n"
          ],
          "name": "stdout"
        }
      ]
    },
    {
      "cell_type": "code",
      "metadata": {
        "id": "PdpjpFb_CzIG",
        "colab_type": "code",
        "colab": {}
      },
      "source": [
        "def row_calculator(number_of_images, number_of_columns):\n",
        "    if number_of_images % number_of_columns != 0:\n",
        "        return (number_of_images / number_of_columns)+1\n",
        "    else:\n",
        "        return (number_of_images / number_of_columns)"
      ],
      "execution_count": 0,
      "outputs": []
    },
    {
      "cell_type": "code",
      "metadata": {
        "id": "RXGgMMbICzII",
        "colab_type": "code",
        "colab": {}
      },
      "source": [
        ""
      ],
      "execution_count": 0,
      "outputs": []
    },
    {
      "cell_type": "code",
      "metadata": {
        "id": "mvJYxbR1CzIK",
        "colab_type": "code",
        "colab": {}
      },
      "source": [
        "def display_image(x, img_size, number_of_images):\n",
        "    plt.figure(figsize = (8, 7))\n",
        "    if x.shape[0] > 0:\n",
        "        n_samples = int(x.shape[0]/4)\n",
        "        x = x.reshape(n_samples, img_size, img_size)\n",
        "        number_of_rows = row_calculator(number_of_images, 4)\n",
        "        for i in range(number_of_images):\n",
        "            plt.subplot(number_of_rows, 4, i+1)\n",
        "            plt.imshow(x[i])"
      ],
      "execution_count": 0,
      "outputs": []
    },
    {
      "cell_type": "code",
      "metadata": {
        "id": "zMsnV4kGCzIL",
        "colab_type": "code",
        "outputId": "0ac7aacd-10c5-43bc-f38f-f89a624ffb9e",
        "colab": {}
      },
      "source": [
        "display_image(train_data, 64,16)\n",
        "plt.show()"
      ],
      "execution_count": 0,
      "outputs": [
        {
          "output_type": "display_data",
          "data": {
            "image/png": "[encoded data removed]",
            "text/plain": [
              "<matplotlib.figure.Figure at 0x7fcc82137be0>"
            ]
          },
          "metadata": {
            "tags": [],
            "needs_background": "light"
          }
        }
      ]
    },
    {
      "cell_type": "code",
      "metadata": {
        "id": "Z0COgPW3CzIO",
        "colab_type": "code",
        "colab": {}
      },
      "source": [
        ""
      ],
      "execution_count": 0,
      "outputs": []
    },
    {
      "cell_type": "code",
      "metadata": {
        "id": "dsYl8DS4CzIP",
        "colab_type": "code",
        "outputId": "ab3c532f-335c-4ed8-d409-047ed689bc5f",
        "colab": {}
      },
      "source": [
        "labelencoder_X = LabelEncoder()\n",
        "train_label = labelencoder_X.fit_transform(train_label)"
      ],
      "execution_count": 0,
      "outputs": [
        {
          "output_type": "stream",
          "text": [
            "/opt/conda/lib/python3.6/site-packages/sklearn/preprocessing/label.py:111: DataConversionWarning: A column-vector y was passed when a 1d array was expected. Please change the shape of y to (n_samples, ), for example using ravel().\n",
            "  y = column_or_1d(y, warn=True)\n"
          ],
          "name": "stderr"
        }
      ]
    },
    {
      "cell_type": "code",
      "metadata": {
        "id": "9-CCHDNOCzIS",
        "colab_type": "code",
        "colab": {}
      },
      "source": [
        ""
      ],
      "execution_count": 0,
      "outputs": []
    },
    {
      "cell_type": "code",
      "metadata": {
        "id": "OHufu4F2CzIT",
        "colab_type": "code",
        "colab": {}
      },
      "source": [
        ""
      ],
      "execution_count": 0,
      "outputs": []
    },
    {
      "cell_type": "code",
      "metadata": {
        "id": "3N6jNyavCzIV",
        "colab_type": "code",
        "outputId": "1e83aebb-1e16-4f89-8ff4-bea15c30af99",
        "colab": {}
      },
      "source": [
        "train_data.shape"
      ],
      "execution_count": 0,
      "outputs": [
        {
          "output_type": "execute_result",
          "data": {
            "text/plain": [
              "(13440, 1024)"
            ]
          },
          "metadata": {
            "tags": []
          },
          "execution_count": 10
        }
      ]
    },
    {
      "cell_type": "code",
      "metadata": {
        "id": "eC9_XDh2CzIX",
        "colab_type": "code",
        "colab": {}
      },
      "source": [
        ""
      ],
      "execution_count": 0,
      "outputs": []
    },
    {
      "cell_type": "code",
      "metadata": {
        "id": "RJw1xvWFCzIZ",
        "colab_type": "code",
        "colab": {}
      },
      "source": [
        ""
      ],
      "execution_count": 0,
      "outputs": []
    },
    {
      "cell_type": "code",
      "metadata": {
        "id": "s6CNakKNCzIb",
        "colab_type": "code",
        "colab": {}
      },
      "source": [
        "train_data = train_data.reshape([-1, 32, 32, 1])\n",
        "test_data = test_data.reshape([-1, 32, 32, 1])"
      ],
      "execution_count": 0,
      "outputs": []
    },
    {
      "cell_type": "code",
      "metadata": {
        "id": "KqtxLWMBCzIe",
        "colab_type": "code",
        "colab": {}
      },
      "source": [
        ""
      ],
      "execution_count": 0,
      "outputs": []
    },
    {
      "cell_type": "code",
      "metadata": {
        "id": "NToF-hoZCzIf",
        "colab_type": "code",
        "colab": {}
      },
      "source": [
        "train_label =keras.utils.np_utils.to_categorical(train_label,28)"
      ],
      "execution_count": 0,
      "outputs": []
    },
    {
      "cell_type": "code",
      "metadata": {
        "id": "LLaeEmhLCzIj",
        "colab_type": "code",
        "colab": {}
      },
      "source": [
        "test_label =keras.utils.np_utils.to_categorical(test_label,28)"
      ],
      "execution_count": 0,
      "outputs": []
    },
    {
      "cell_type": "code",
      "metadata": {
        "id": "4AjdHijKCzIl",
        "colab_type": "code",
        "colab": {}
      },
      "source": [
        "train_label_data = pd.DataFrame(train_label)"
      ],
      "execution_count": 0,
      "outputs": []
    },
    {
      "cell_type": "code",
      "metadata": {
        "id": "jq2owpzxCzIo",
        "colab_type": "code",
        "outputId": "4d33e820-95f3-4ba8-b909-a19662fd4e5e",
        "colab": {}
      },
      "source": [
        "train_label_data.head()"
      ],
      "execution_count": 0,
      "outputs": [
        {
          "output_type": "execute_result",
          "data": {
            "text/html": [
              "<div>\n",
              "<style scoped>\n",
              "    .dataframe tbody tr th:only-of-type {\n",
              "        vertical-align: middle;\n",
              "    }\n",
              "\n",
              "    .dataframe tbody tr th {\n",
              "        vertical-align: top;\n",
              "    }\n",
              "\n",
              "    .dataframe thead th {\n",
              "        text-align: right;\n",
              "    }\n",
              "</style>\n",
              "<table border=\"1\" class=\"dataframe\">\n",
              "  <thead>\n",
              "    <tr style=\"text-align: right;\">\n",
              "      <th></th>\n",
              "      <th>0</th>\n",
              "      <th>1</th>\n",
              "      <th>2</th>\n",
              "      <th>3</th>\n",
              "      <th>4</th>\n",
              "      <th>5</th>\n",
              "      <th>6</th>\n",
              "      <th>7</th>\n",
              "      <th>8</th>\n",
              "      <th>9</th>\n",
              "      <th>...</th>\n",
              "      <th>18</th>\n",
              "      <th>19</th>\n",
              "      <th>20</th>\n",
              "      <th>21</th>\n",
              "      <th>22</th>\n",
              "      <th>23</th>\n",
              "      <th>24</th>\n",
              "      <th>25</th>\n",
              "      <th>26</th>\n",
              "      <th>27</th>\n",
              "    </tr>\n",
              "  </thead>\n",
              "  <tbody>\n",
              "    <tr>\n",
              "      <th>0</th>\n",
              "      <td>1.0</td>\n",
              "      <td>0.0</td>\n",
              "      <td>0.0</td>\n",
              "      <td>0.0</td>\n",
              "      <td>0.0</td>\n",
              "      <td>0.0</td>\n",
              "      <td>0.0</td>\n",
              "      <td>0.0</td>\n",
              "      <td>0.0</td>\n",
              "      <td>0.0</td>\n",
              "      <td>...</td>\n",
              "      <td>0.0</td>\n",
              "      <td>0.0</td>\n",
              "      <td>0.0</td>\n",
              "      <td>0.0</td>\n",
              "      <td>0.0</td>\n",
              "      <td>0.0</td>\n",
              "      <td>0.0</td>\n",
              "      <td>0.0</td>\n",
              "      <td>0.0</td>\n",
              "      <td>0.0</td>\n",
              "    </tr>\n",
              "    <tr>\n",
              "      <th>1</th>\n",
              "      <td>1.0</td>\n",
              "      <td>0.0</td>\n",
              "      <td>0.0</td>\n",
              "      <td>0.0</td>\n",
              "      <td>0.0</td>\n",
              "      <td>0.0</td>\n",
              "      <td>0.0</td>\n",
              "      <td>0.0</td>\n",
              "      <td>0.0</td>\n",
              "      <td>0.0</td>\n",
              "      <td>...</td>\n",
              "      <td>0.0</td>\n",
              "      <td>0.0</td>\n",
              "      <td>0.0</td>\n",
              "      <td>0.0</td>\n",
              "      <td>0.0</td>\n",
              "      <td>0.0</td>\n",
              "      <td>0.0</td>\n",
              "      <td>0.0</td>\n",
              "      <td>0.0</td>\n",
              "      <td>0.0</td>\n",
              "    </tr>\n",
              "    <tr>\n",
              "      <th>2</th>\n",
              "      <td>1.0</td>\n",
              "      <td>0.0</td>\n",
              "      <td>0.0</td>\n",
              "      <td>0.0</td>\n",
              "      <td>0.0</td>\n",
              "      <td>0.0</td>\n",
              "      <td>0.0</td>\n",
              "      <td>0.0</td>\n",
              "      <td>0.0</td>\n",
              "      <td>0.0</td>\n",
              "      <td>...</td>\n",
              "      <td>0.0</td>\n",
              "      <td>0.0</td>\n",
              "      <td>0.0</td>\n",
              "      <td>0.0</td>\n",
              "      <td>0.0</td>\n",
              "      <td>0.0</td>\n",
              "      <td>0.0</td>\n",
              "      <td>0.0</td>\n",
              "      <td>0.0</td>\n",
              "      <td>0.0</td>\n",
              "    </tr>\n",
              "    <tr>\n",
              "      <th>3</th>\n",
              "      <td>1.0</td>\n",
              "      <td>0.0</td>\n",
              "      <td>0.0</td>\n",
              "      <td>0.0</td>\n",
              "      <td>0.0</td>\n",
              "      <td>0.0</td>\n",
              "      <td>0.0</td>\n",
              "      <td>0.0</td>\n",
              "      <td>0.0</td>\n",
              "      <td>0.0</td>\n",
              "      <td>...</td>\n",
              "      <td>0.0</td>\n",
              "      <td>0.0</td>\n",
              "      <td>0.0</td>\n",
              "      <td>0.0</td>\n",
              "      <td>0.0</td>\n",
              "      <td>0.0</td>\n",
              "      <td>0.0</td>\n",
              "      <td>0.0</td>\n",
              "      <td>0.0</td>\n",
              "      <td>0.0</td>\n",
              "    </tr>\n",
              "    <tr>\n",
              "      <th>4</th>\n",
              "      <td>1.0</td>\n",
              "      <td>0.0</td>\n",
              "      <td>0.0</td>\n",
              "      <td>0.0</td>\n",
              "      <td>0.0</td>\n",
              "      <td>0.0</td>\n",
              "      <td>0.0</td>\n",
              "      <td>0.0</td>\n",
              "      <td>0.0</td>\n",
              "      <td>0.0</td>\n",
              "      <td>...</td>\n",
              "      <td>0.0</td>\n",
              "      <td>0.0</td>\n",
              "      <td>0.0</td>\n",
              "      <td>0.0</td>\n",
              "      <td>0.0</td>\n",
              "      <td>0.0</td>\n",
              "      <td>0.0</td>\n",
              "      <td>0.0</td>\n",
              "      <td>0.0</td>\n",
              "      <td>0.0</td>\n",
              "    </tr>\n",
              "  </tbody>\n",
              "</table>\n",
              "<p>5 rows × 28 columns</p>\n",
              "</div>"
            ],
            "text/plain": [
              "    0    1    2    3    4    5    6    7    8    9  ...    18   19   20   21  \\\n",
              "0  1.0  0.0  0.0  0.0  0.0  0.0  0.0  0.0  0.0  0.0 ...   0.0  0.0  0.0  0.0   \n",
              "1  1.0  0.0  0.0  0.0  0.0  0.0  0.0  0.0  0.0  0.0 ...   0.0  0.0  0.0  0.0   \n",
              "2  1.0  0.0  0.0  0.0  0.0  0.0  0.0  0.0  0.0  0.0 ...   0.0  0.0  0.0  0.0   \n",
              "3  1.0  0.0  0.0  0.0  0.0  0.0  0.0  0.0  0.0  0.0 ...   0.0  0.0  0.0  0.0   \n",
              "4  1.0  0.0  0.0  0.0  0.0  0.0  0.0  0.0  0.0  0.0 ...   0.0  0.0  0.0  0.0   \n",
              "\n",
              "    22   23   24   25   26   27  \n",
              "0  0.0  0.0  0.0  0.0  0.0  0.0  \n",
              "1  0.0  0.0  0.0  0.0  0.0  0.0  \n",
              "2  0.0  0.0  0.0  0.0  0.0  0.0  \n",
              "3  0.0  0.0  0.0  0.0  0.0  0.0  \n",
              "4  0.0  0.0  0.0  0.0  0.0  0.0  \n",
              "\n",
              "[5 rows x 28 columns]"
            ]
          },
          "metadata": {
            "tags": []
          },
          "execution_count": 15
        }
      ]
    },
    {
      "cell_type": "code",
      "metadata": {
        "id": "QPtnrq2wCzIr",
        "colab_type": "code",
        "outputId": "53833893-5234-43db-e34f-e208842871f2",
        "colab": {}
      },
      "source": [
        "for i in train_label_data.columns :\n",
        "    print(train_label_data[train_label_data[i]==1].count())\n",
        "    \n"
      ],
      "execution_count": 0,
      "outputs": [
        {
          "output_type": "stream",
          "text": [
            "0     480\n",
            "1     480\n",
            "2     480\n",
            "3     480\n",
            "4     480\n",
            "5     480\n",
            "6     480\n",
            "7     480\n",
            "8     480\n",
            "9     480\n",
            "10    480\n",
            "11    480\n",
            "12    480\n",
            "13    480\n",
            "14    480\n",
            "15    480\n",
            "16    480\n",
            "17    480\n",
            "18    480\n",
            "19    480\n",
            "20    480\n",
            "21    480\n",
            "22    480\n",
            "23    480\n",
            "24    480\n",
            "25    480\n",
            "26    480\n",
            "27    480\n",
            "dtype: int64\n",
            "0     480\n",
            "1     480\n",
            "2     480\n",
            "3     480\n",
            "4     480\n",
            "5     480\n",
            "6     480\n",
            "7     480\n",
            "8     480\n",
            "9     480\n",
            "10    480\n",
            "11    480\n",
            "12    480\n",
            "13    480\n",
            "14    480\n",
            "15    480\n",
            "16    480\n",
            "17    480\n",
            "18    480\n",
            "19    480\n",
            "20    480\n",
            "21    480\n",
            "22    480\n",
            "23    480\n",
            "24    480\n",
            "25    480\n",
            "26    480\n",
            "27    480\n",
            "dtype: int64\n",
            "0     480\n",
            "1     480\n",
            "2     480\n",
            "3     480\n",
            "4     480\n",
            "5     480\n",
            "6     480\n",
            "7     480\n",
            "8     480\n",
            "9     480\n",
            "10    480\n",
            "11    480\n",
            "12    480\n",
            "13    480\n",
            "14    480\n",
            "15    480\n",
            "16    480\n",
            "17    480\n",
            "18    480\n",
            "19    480\n",
            "20    480\n",
            "21    480\n",
            "22    480\n",
            "23    480\n",
            "24    480\n",
            "25    480\n",
            "26    480\n",
            "27    480\n",
            "dtype: int64\n",
            "0     480\n",
            "1     480\n",
            "2     480\n",
            "3     480\n",
            "4     480\n",
            "5     480\n",
            "6     480\n",
            "7     480\n",
            "8     480\n",
            "9     480\n",
            "10    480\n",
            "11    480\n",
            "12    480\n",
            "13    480\n",
            "14    480\n",
            "15    480\n",
            "16    480\n",
            "17    480\n",
            "18    480\n",
            "19    480\n",
            "20    480\n",
            "21    480\n",
            "22    480\n",
            "23    480\n",
            "24    480\n",
            "25    480\n",
            "26    480\n",
            "27    480\n",
            "dtype: int64\n",
            "0     480\n",
            "1     480\n",
            "2     480\n",
            "3     480\n",
            "4     480\n",
            "5     480\n",
            "6     480\n",
            "7     480\n",
            "8     480\n",
            "9     480\n",
            "10    480\n",
            "11    480\n",
            "12    480\n",
            "13    480\n",
            "14    480\n",
            "15    480\n",
            "16    480\n",
            "17    480\n",
            "18    480\n",
            "19    480\n",
            "20    480\n",
            "21    480\n",
            "22    480\n",
            "23    480\n",
            "24    480\n",
            "25    480\n",
            "26    480\n",
            "27    480\n",
            "dtype: int64\n",
            "0     480\n",
            "1     480\n",
            "2     480\n",
            "3     480\n",
            "4     480\n",
            "5     480\n",
            "6     480\n",
            "7     480\n",
            "8     480\n",
            "9     480\n",
            "10    480\n",
            "11    480\n",
            "12    480\n",
            "13    480\n",
            "14    480\n",
            "15    480\n",
            "16    480\n",
            "17    480\n",
            "18    480\n",
            "19    480\n",
            "20    480\n",
            "21    480\n",
            "22    480\n",
            "23    480\n",
            "24    480\n",
            "25    480\n",
            "26    480\n",
            "27    480\n",
            "dtype: int64\n",
            "0     480\n",
            "1     480\n",
            "2     480\n",
            "3     480\n",
            "4     480\n",
            "5     480\n",
            "6     480\n",
            "7     480\n",
            "8     480\n",
            "9     480\n",
            "10    480\n",
            "11    480\n",
            "12    480\n",
            "13    480\n",
            "14    480\n",
            "15    480\n",
            "16    480\n",
            "17    480\n",
            "18    480\n",
            "19    480\n",
            "20    480\n",
            "21    480\n",
            "22    480\n",
            "23    480\n",
            "24    480\n",
            "25    480\n",
            "26    480\n",
            "27    480\n",
            "dtype: int64\n",
            "0     480\n",
            "1     480\n",
            "2     480\n",
            "3     480\n",
            "4     480\n",
            "5     480\n",
            "6     480\n",
            "7     480\n",
            "8     480\n",
            "9     480\n",
            "10    480\n",
            "11    480\n",
            "12    480\n",
            "13    480\n",
            "14    480\n",
            "15    480\n",
            "16    480\n",
            "17    480\n",
            "18    480\n",
            "19    480\n",
            "20    480\n",
            "21    480\n",
            "22    480\n",
            "23    480\n",
            "24    480\n",
            "25    480\n",
            "26    480\n",
            "27    480\n",
            "dtype: int64\n",
            "0     480\n",
            "1     480\n",
            "2     480\n",
            "3     480\n",
            "4     480\n",
            "5     480\n",
            "6     480\n",
            "7     480\n",
            "8     480\n",
            "9     480\n",
            "10    480\n",
            "11    480\n",
            "12    480\n",
            "13    480\n",
            "14    480\n",
            "15    480\n",
            "16    480\n",
            "17    480\n",
            "18    480\n",
            "19    480\n",
            "20    480\n",
            "21    480\n",
            "22    480\n",
            "23    480\n",
            "24    480\n",
            "25    480\n",
            "26    480\n",
            "27    480\n",
            "dtype: int64\n",
            "0     480\n",
            "1     480\n",
            "2     480\n",
            "3     480\n",
            "4     480\n",
            "5     480\n",
            "6     480\n",
            "7     480\n",
            "8     480\n",
            "9     480\n",
            "10    480\n",
            "11    480\n",
            "12    480\n",
            "13    480\n",
            "14    480\n",
            "15    480\n",
            "16    480\n",
            "17    480\n",
            "18    480\n",
            "19    480\n",
            "20    480\n",
            "21    480\n",
            "22    480\n",
            "23    480\n",
            "24    480\n",
            "25    480\n",
            "26    480\n",
            "27    480\n",
            "dtype: int64\n",
            "0     480\n",
            "1     480\n",
            "2     480\n",
            "3     480\n",
            "4     480\n",
            "5     480\n",
            "6     480\n",
            "7     480\n",
            "8     480\n",
            "9     480\n",
            "10    480\n",
            "11    480\n",
            "12    480\n",
            "13    480\n",
            "14    480\n",
            "15    480\n",
            "16    480\n",
            "17    480\n",
            "18    480\n",
            "19    480\n",
            "20    480\n",
            "21    480\n",
            "22    480\n",
            "23    480\n",
            "24    480\n",
            "25    480\n",
            "26    480\n",
            "27    480\n",
            "dtype: int64\n",
            "0     480\n",
            "1     480\n",
            "2     480\n",
            "3     480\n",
            "4     480\n",
            "5     480\n",
            "6     480\n",
            "7     480\n",
            "8     480\n",
            "9     480\n",
            "10    480\n",
            "11    480\n",
            "12    480\n",
            "13    480\n",
            "14    480\n",
            "15    480\n",
            "16    480\n",
            "17    480\n",
            "18    480\n",
            "19    480\n",
            "20    480\n",
            "21    480\n",
            "22    480\n",
            "23    480\n",
            "24    480\n",
            "25    480\n",
            "26    480\n",
            "27    480\n",
            "dtype: int64\n",
            "0     480\n",
            "1     480\n",
            "2     480\n",
            "3     480\n",
            "4     480\n",
            "5     480\n",
            "6     480\n",
            "7     480\n",
            "8     480\n",
            "9     480\n",
            "10    480\n",
            "11    480\n",
            "12    480\n",
            "13    480\n",
            "14    480\n",
            "15    480\n",
            "16    480\n",
            "17    480\n",
            "18    480\n",
            "19    480\n",
            "20    480\n",
            "21    480\n",
            "22    480\n",
            "23    480\n",
            "24    480\n",
            "25    480\n",
            "26    480\n",
            "27    480\n",
            "dtype: int64\n",
            "0     480\n",
            "1     480\n",
            "2     480\n",
            "3     480\n",
            "4     480\n",
            "5     480\n",
            "6     480\n",
            "7     480\n",
            "8     480\n",
            "9     480\n",
            "10    480\n",
            "11    480\n",
            "12    480\n",
            "13    480\n",
            "14    480\n",
            "15    480\n",
            "16    480\n",
            "17    480\n",
            "18    480\n",
            "19    480\n",
            "20    480\n",
            "21    480\n",
            "22    480\n",
            "23    480\n",
            "24    480\n",
            "25    480\n",
            "26    480\n",
            "27    480\n",
            "dtype: int64\n",
            "0     480\n",
            "1     480\n",
            "2     480\n",
            "3     480\n",
            "4     480\n",
            "5     480\n",
            "6     480\n",
            "7     480\n",
            "8     480\n",
            "9     480\n",
            "10    480\n",
            "11    480\n",
            "12    480\n",
            "13    480\n",
            "14    480\n",
            "15    480\n",
            "16    480\n",
            "17    480\n",
            "18    480\n",
            "19    480\n",
            "20    480\n",
            "21    480\n",
            "22    480\n",
            "23    480\n",
            "24    480\n",
            "25    480\n",
            "26    480\n",
            "27    480\n",
            "dtype: int64\n",
            "0     480\n",
            "1     480\n",
            "2     480\n",
            "3     480\n",
            "4     480\n",
            "5     480\n",
            "6     480\n",
            "7     480\n",
            "8     480\n",
            "9     480\n",
            "10    480\n",
            "11    480\n",
            "12    480\n",
            "13    480\n",
            "14    480\n",
            "15    480\n",
            "16    480\n",
            "17    480\n",
            "18    480\n",
            "19    480\n",
            "20    480\n",
            "21    480\n",
            "22    480\n",
            "23    480\n",
            "24    480\n",
            "25    480\n",
            "26    480\n",
            "27    480\n",
            "dtype: int64\n",
            "0     480\n",
            "1     480\n",
            "2     480\n",
            "3     480\n",
            "4     480\n",
            "5     480\n",
            "6     480\n",
            "7     480\n",
            "8     480\n",
            "9     480\n",
            "10    480\n",
            "11    480\n",
            "12    480\n",
            "13    480\n",
            "14    480\n",
            "15    480\n",
            "16    480\n",
            "17    480\n",
            "18    480\n",
            "19    480\n",
            "20    480\n",
            "21    480\n",
            "22    480\n",
            "23    480\n",
            "24    480\n",
            "25    480\n",
            "26    480\n",
            "27    480\n",
            "dtype: int64\n",
            "0     480\n",
            "1     480\n",
            "2     480\n",
            "3     480\n",
            "4     480\n",
            "5     480\n",
            "6     480\n",
            "7     480\n",
            "8     480\n",
            "9     480\n",
            "10    480\n",
            "11    480\n",
            "12    480\n",
            "13    480\n",
            "14    480\n",
            "15    480\n",
            "16    480\n",
            "17    480\n",
            "18    480\n",
            "19    480\n",
            "20    480\n",
            "21    480\n",
            "22    480\n",
            "23    480\n",
            "24    480\n",
            "25    480\n",
            "26    480\n",
            "27    480\n",
            "dtype: int64\n",
            "0     480\n",
            "1     480\n",
            "2     480\n",
            "3     480\n",
            "4     480\n",
            "5     480\n",
            "6     480\n",
            "7     480\n",
            "8     480\n",
            "9     480\n",
            "10    480\n",
            "11    480\n",
            "12    480\n",
            "13    480\n",
            "14    480\n",
            "15    480\n",
            "16    480\n",
            "17    480\n",
            "18    480\n",
            "19    480\n",
            "20    480\n",
            "21    480\n",
            "22    480\n",
            "23    480\n",
            "24    480\n",
            "25    480\n",
            "26    480\n",
            "27    480\n",
            "dtype: int64\n",
            "0     480\n",
            "1     480\n",
            "2     480\n",
            "3     480\n",
            "4     480\n",
            "5     480\n",
            "6     480\n",
            "7     480\n",
            "8     480\n",
            "9     480\n",
            "10    480\n",
            "11    480\n",
            "12    480\n",
            "13    480\n",
            "14    480\n",
            "15    480\n",
            "16    480\n",
            "17    480\n",
            "18    480\n",
            "19    480\n",
            "20    480\n",
            "21    480\n",
            "22    480\n",
            "23    480\n",
            "24    480\n",
            "25    480\n",
            "26    480\n",
            "27    480\n",
            "dtype: int64\n",
            "0     480\n",
            "1     480\n",
            "2     480\n",
            "3     480\n",
            "4     480\n",
            "5     480\n",
            "6     480\n",
            "7     480\n",
            "8     480\n",
            "9     480\n",
            "10    480\n",
            "11    480\n",
            "12    480\n",
            "13    480\n",
            "14    480\n",
            "15    480\n",
            "16    480\n",
            "17    480\n",
            "18    480\n",
            "19    480\n",
            "20    480\n",
            "21    480\n",
            "22    480\n",
            "23    480\n",
            "24    480\n",
            "25    480\n",
            "26    480\n",
            "27    480\n",
            "dtype: int64\n",
            "0     480\n",
            "1     480\n",
            "2     480\n",
            "3     480\n",
            "4     480\n",
            "5     480\n",
            "6     480\n",
            "7     480\n",
            "8     480\n",
            "9     480\n",
            "10    480\n",
            "11    480\n",
            "12    480\n",
            "13    480\n",
            "14    480\n",
            "15    480\n",
            "16    480\n",
            "17    480\n",
            "18    480\n",
            "19    480\n",
            "20    480\n",
            "21    480\n",
            "22    480\n",
            "23    480\n",
            "24    480\n",
            "25    480\n",
            "26    480\n",
            "27    480\n",
            "dtype: int64\n",
            "0     480\n",
            "1     480\n",
            "2     480\n",
            "3     480\n",
            "4     480\n",
            "5     480\n",
            "6     480\n",
            "7     480\n",
            "8     480\n",
            "9     480\n",
            "10    480\n",
            "11    480\n",
            "12    480\n",
            "13    480\n",
            "14    480\n",
            "15    480\n",
            "16    480\n",
            "17    480\n",
            "18    480\n",
            "19    480\n",
            "20    480\n",
            "21    480\n",
            "22    480\n",
            "23    480\n",
            "24    480\n",
            "25    480\n",
            "26    480\n",
            "27    480\n",
            "dtype: int64\n",
            "0     480\n",
            "1     480\n",
            "2     480\n",
            "3     480\n",
            "4     480\n",
            "5     480\n",
            "6     480\n",
            "7     480\n",
            "8     480\n",
            "9     480\n",
            "10    480\n",
            "11    480\n",
            "12    480\n",
            "13    480\n",
            "14    480\n",
            "15    480\n",
            "16    480\n",
            "17    480\n",
            "18    480\n",
            "19    480\n",
            "20    480\n",
            "21    480\n",
            "22    480\n",
            "23    480\n",
            "24    480\n",
            "25    480\n",
            "26    480\n",
            "27    480\n",
            "dtype: int64\n",
            "0     480\n",
            "1     480\n",
            "2     480\n",
            "3     480\n",
            "4     480\n",
            "5     480\n",
            "6     480\n",
            "7     480\n",
            "8     480\n",
            "9     480\n",
            "10    480\n",
            "11    480\n",
            "12    480\n",
            "13    480\n",
            "14    480\n",
            "15    480\n",
            "16    480\n",
            "17    480\n",
            "18    480\n",
            "19    480\n",
            "20    480\n",
            "21    480\n",
            "22    480\n",
            "23    480\n",
            "24    480\n",
            "25    480\n",
            "26    480\n",
            "27    480\n",
            "dtype: int64\n",
            "0     480\n",
            "1     480\n",
            "2     480\n",
            "3     480\n",
            "4     480\n",
            "5     480\n",
            "6     480\n",
            "7     480\n",
            "8     480\n",
            "9     480\n",
            "10    480\n",
            "11    480\n",
            "12    480\n",
            "13    480\n",
            "14    480\n",
            "15    480\n",
            "16    480\n",
            "17    480\n",
            "18    480\n",
            "19    480\n",
            "20    480\n",
            "21    480\n",
            "22    480\n",
            "23    480\n",
            "24    480\n",
            "25    480\n",
            "26    480\n",
            "27    480\n",
            "dtype: int64\n",
            "0     480\n",
            "1     480\n",
            "2     480\n",
            "3     480\n",
            "4     480\n",
            "5     480\n",
            "6     480\n",
            "7     480\n",
            "8     480\n",
            "9     480\n",
            "10    480\n",
            "11    480\n",
            "12    480\n",
            "13    480\n",
            "14    480\n",
            "15    480\n",
            "16    480\n",
            "17    480\n",
            "18    480\n",
            "19    480\n",
            "20    480\n",
            "21    480\n",
            "22    480\n",
            "23    480\n",
            "24    480\n",
            "25    480\n",
            "26    480\n",
            "27    480\n",
            "dtype: int64\n",
            "0     480\n",
            "1     480\n",
            "2     480\n",
            "3     480\n",
            "4     480\n",
            "5     480\n",
            "6     480\n",
            "7     480\n",
            "8     480\n",
            "9     480\n",
            "10    480\n",
            "11    480\n",
            "12    480\n",
            "13    480\n",
            "14    480\n",
            "15    480\n",
            "16    480\n",
            "17    480\n",
            "18    480\n",
            "19    480\n",
            "20    480\n",
            "21    480\n",
            "22    480\n",
            "23    480\n",
            "24    480\n",
            "25    480\n",
            "26    480\n",
            "27    480\n",
            "dtype: int64\n"
          ],
          "name": "stdout"
        }
      ]
    },
    {
      "cell_type": "code",
      "metadata": {
        "id": "XjmGL-aQCzIu",
        "colab_type": "code",
        "colab": {}
      },
      "source": [
        ""
      ],
      "execution_count": 0,
      "outputs": []
    },
    {
      "cell_type": "code",
      "metadata": {
        "id": "r8nckptzCzIw",
        "colab_type": "code",
        "colab": {}
      },
      "source": [
        "datagen = ImageDataGenerator(rescale=1.0/255.0,\n",
        "        featurewise_center=False, \n",
        "        samplewise_center=False,  \n",
        "        featurewise_std_normalization=False,\n",
        "        samplewise_std_normalization=False,\n",
        "        zca_whitening=False,\n",
        "        rotation_range=10,\n",
        "        zoom_range = 0.1,  \n",
        "        width_shift_range=0.1, \n",
        "        height_shift_range=0.1,\n",
        "        horizontal_flip=False,\n",
        "        vertical_flip=False)"
      ],
      "execution_count": 0,
      "outputs": []
    },
    {
      "cell_type": "code",
      "metadata": {
        "id": "juciyUe6CzIx",
        "colab_type": "code",
        "colab": {}
      },
      "source": [
        "datagen.fit(train_data)\n"
      ],
      "execution_count": 0,
      "outputs": []
    },
    {
      "cell_type": "code",
      "metadata": {
        "id": "k3IpF6IwCzIy",
        "colab_type": "code",
        "outputId": "efb68efc-fcf6-4f0f-f9b7-da988aa572af",
        "colab": {}
      },
      "source": [
        "# prepare an iterators to scale images\n",
        "train_iterator = datagen.flow(train_data, train_label, batch_size=64)\n",
        "test_iterator = datagen.flow(test_data, test_label, batch_size=64)\n",
        "print('Batches train=%d, test=%d' % (len(train_iterator), len(test_iterator)))\n",
        "# confirm the scaling works\n",
        "batchX, batchy = train_iterator.next()\n",
        "print('Batch shape=%s, min=%.3f, max=%.3f' % (batchX.shape, batchX.min(), batchX.max()))\n",
        "# define mode"
      ],
      "execution_count": 0,
      "outputs": [
        {
          "output_type": "stream",
          "text": [
            "Batches train=210, test=53\n",
            "Batch shape=(64, 32, 32, 1), min=0.000, max=1.000\n"
          ],
          "name": "stdout"
        }
      ]
    },
    {
      "cell_type": "code",
      "metadata": {
        "id": "gUwD6R7RCzI0",
        "colab_type": "code",
        "colab": {}
      },
      "source": [
        "recognizer = Sequential()\n",
        "\n",
        "recognizer.add(Conv2D(filters = 32, kernel_size = (5,5),padding = 'Same', \n",
        "                 activation ='relu', input_shape = (32,32,1)))\n",
        "recognizer.add(Conv2D(filters = 32, kernel_size = (5,5),padding = 'Same', \n",
        "                 activation ='relu'))\n",
        "recognizer.add(MaxPool2D(pool_size=(2,2)))\n",
        "recognizer.add(Dropout(0.5))\n",
        "\n",
        "\n",
        "recognizer.add(Conv2D(filters = 64, kernel_size = (3,3),padding = 'Same', \n",
        "                 activation ='relu'))\n",
        "recognizer.add(Conv2D(filters = 64, kernel_size = (3,3),padding = 'Same', \n",
        "                 activation ='relu'))\n",
        "recognizer.add(MaxPool2D(pool_size=(2,2), strides=(2,2)))\n",
        "recognizer.add(Dropout(0.5))\n",
        "\n",
        "\n",
        "recognizer.add(Flatten())\n",
        "recognizer.add(Dense(units = 256, input_dim = 1024, activation = 'relu'))\n",
        "recognizer.add(Dense(units = 256, activation = \"relu\"))\n",
        "recognizer.add(Dropout(0.5))\n",
        "recognizer.add(Dense(28, activation = \"softmax\"))"
      ],
      "execution_count": 0,
      "outputs": []
    },
    {
      "cell_type": "code",
      "metadata": {
        "id": "tcPNrqGBCzI1",
        "colab_type": "code",
        "colab": {}
      },
      "source": [
        ""
      ],
      "execution_count": 0,
      "outputs": []
    },
    {
      "cell_type": "code",
      "metadata": {
        "id": "sKaChR4HCzI3",
        "colab_type": "code",
        "outputId": "053ca80c-27c7-4b55-ca94-f96f875b0ce5",
        "colab": {}
      },
      "source": [
        "recognizer.summary()\n"
      ],
      "execution_count": 0,
      "outputs": [
        {
          "output_type": "stream",
          "text": [
            "_________________________________________________________________\n",
            "Layer (type)                 Output Shape              Param #   \n",
            "=================================================================\n",
            "conv2d_1 (Conv2D)            (None, 32, 32, 32)        832       \n",
            "_________________________________________________________________\n",
            "conv2d_2 (Conv2D)            (None, 32, 32, 32)        25632     \n",
            "_________________________________________________________________\n",
            "max_pooling2d_1 (MaxPooling2 (None, 16, 16, 32)        0         \n",
            "_________________________________________________________________\n",
            "dropout_1 (Dropout)          (None, 16, 16, 32)        0         \n",
            "_________________________________________________________________\n",
            "conv2d_3 (Conv2D)            (None, 16, 16, 64)        18496     \n",
            "_________________________________________________________________\n",
            "conv2d_4 (Conv2D)            (None, 16, 16, 64)        36928     \n",
            "_________________________________________________________________\n",
            "max_pooling2d_2 (MaxPooling2 (None, 8, 8, 64)          0         \n",
            "_________________________________________________________________\n",
            "dropout_2 (Dropout)          (None, 8, 8, 64)          0         \n",
            "_________________________________________________________________\n",
            "flatten_1 (Flatten)          (None, 4096)              0         \n",
            "_________________________________________________________________\n",
            "dense_1 (Dense)              (None, 256)               1048832   \n",
            "_________________________________________________________________\n",
            "dense_2 (Dense)              (None, 256)               65792     \n",
            "_________________________________________________________________\n",
            "dropout_3 (Dropout)          (None, 256)               0         \n",
            "_________________________________________________________________\n",
            "dense_3 (Dense)              (None, 28)                7196      \n",
            "=================================================================\n",
            "Total params: 1,203,708\n",
            "Trainable params: 1,203,708\n",
            "Non-trainable params: 0\n",
            "_________________________________________________________________\n"
          ],
          "name": "stdout"
        }
      ]
    },
    {
      "cell_type": "code",
      "metadata": {
        "id": "FPUWpmM9CzI5",
        "colab_type": "code",
        "colab": {}
      },
      "source": [
        "optimizer = RMSprop(lr=0.001, rho=0.9, epsilon=1e-08, decay=0.0)\n"
      ],
      "execution_count": 0,
      "outputs": []
    },
    {
      "cell_type": "code",
      "metadata": {
        "id": "Ul1HWrqLCzI7",
        "colab_type": "code",
        "colab": {}
      },
      "source": [
        "recognizer.compile(optimizer = optimizer , loss = \"categorical_crossentropy\", metrics=[\"accuracy\"])"
      ],
      "execution_count": 0,
      "outputs": []
    },
    {
      "cell_type": "code",
      "metadata": {
        "id": "B379RNVpCzI8",
        "colab_type": "code",
        "outputId": "c16181d4-8687-47e0-e2a0-ee7270bd3a00",
        "colab": {}
      },
      "source": [
        "\n",
        "\n",
        "recognizer.fit_generator(train_iterator,epochs = 30, verbose = 2, steps_per_epoch=train_data.shape[0] // 100)"
      ],
      "execution_count": 0,
      "outputs": [
        {
          "output_type": "stream",
          "text": [
            "Epoch 1/30\n",
            " - 5s - loss: 2.8541 - acc: 0.1542\n",
            "Epoch 2/30\n",
            " - 3s - loss: 1.9528 - acc: 0.3619\n",
            "Epoch 3/30\n",
            " - 3s - loss: 1.4805 - acc: 0.5027\n",
            "Epoch 4/30\n",
            " - 3s - loss: 1.1742 - acc: 0.5947\n",
            "Epoch 5/30\n",
            " - 3s - loss: 0.9771 - acc: 0.6587\n",
            "Epoch 6/30\n",
            " - 3s - loss: 0.8484 - acc: 0.7099\n",
            "Epoch 7/30\n",
            " - 3s - loss: 0.7424 - acc: 0.7423\n",
            "Epoch 8/30\n",
            " - 3s - loss: 0.6644 - acc: 0.7755\n",
            "Epoch 9/30\n",
            " - 3s - loss: 0.6340 - acc: 0.7905\n",
            "Epoch 10/30\n",
            " - 3s - loss: 0.5845 - acc: 0.8117\n",
            "Epoch 11/30\n",
            " - 3s - loss: 0.5375 - acc: 0.8306\n",
            "Epoch 12/30\n",
            " - 3s - loss: 0.4808 - acc: 0.8420\n",
            "Epoch 13/30\n",
            " - 3s - loss: 0.4685 - acc: 0.8458\n",
            "Epoch 14/30\n",
            " - 3s - loss: 0.4502 - acc: 0.8537\n",
            "Epoch 15/30\n",
            " - 3s - loss: 0.4195 - acc: 0.8653\n",
            "Epoch 16/30\n",
            " - 3s - loss: 0.3787 - acc: 0.8777\n",
            "Epoch 17/30\n",
            " - 3s - loss: 0.3826 - acc: 0.8825\n",
            "Epoch 18/30\n",
            " - 3s - loss: 0.3766 - acc: 0.8774\n",
            "Epoch 19/30\n",
            " - 3s - loss: 0.3690 - acc: 0.8813\n",
            "Epoch 20/30\n",
            " - 3s - loss: 0.3493 - acc: 0.8895\n",
            "Epoch 21/30\n",
            " - 3s - loss: 0.3246 - acc: 0.8967\n",
            "Epoch 22/30\n",
            " - 3s - loss: 0.3485 - acc: 0.8909\n",
            "Epoch 23/30\n",
            " - 3s - loss: 0.3317 - acc: 0.8955\n",
            "Epoch 24/30\n",
            " - 3s - loss: 0.3217 - acc: 0.9039\n",
            "Epoch 25/30\n",
            " - 3s - loss: 0.3090 - acc: 0.9062\n",
            "Epoch 26/30\n",
            " - 3s - loss: 0.3000 - acc: 0.9081\n",
            "Epoch 27/30\n",
            " - 3s - loss: 0.3174 - acc: 0.9030\n",
            "Epoch 28/30\n",
            " - 3s - loss: 0.2948 - acc: 0.9072\n",
            "Epoch 29/30\n",
            " - 3s - loss: 0.2950 - acc: 0.9116\n",
            "Epoch 30/30\n",
            " - 3s - loss: 0.2905 - acc: 0.9076\n"
          ],
          "name": "stdout"
        },
        {
          "output_type": "execute_result",
          "data": {
            "text/plain": [
              "<keras.callbacks.History at 0x7fcc81bf4390>"
            ]
          },
          "metadata": {
            "tags": []
          },
          "execution_count": 25
        }
      ]
    },
    {
      "cell_type": "code",
      "metadata": {
        "id": "PCWgc7_VCzI-",
        "colab_type": "code",
        "colab": {}
      },
      "source": [
        "test_acc1=[]"
      ],
      "execution_count": 0,
      "outputs": []
    },
    {
      "cell_type": "code",
      "metadata": {
        "id": "23HIKTScCzI_",
        "colab_type": "code",
        "outputId": "3c10f8a1-f7c6-41a4-f1fe-75a428cc736c",
        "colab": {}
      },
      "source": [
        "for i in range(10):\n",
        "    _, acc = recognizer.evaluate_generator(test_iterator, steps=len(test_iterator))\n",
        "    print('Test Accuracy {0}: {1}' .format(i+1 , np.round((acc * 100),2)))\n",
        "    test_acc1.append(acc * 100)\n",
        "    "
      ],
      "execution_count": 0,
      "outputs": [
        {
          "output_type": "stream",
          "text": [
            "Test Accuracy 1: 94.23\n",
            "Test Accuracy 2: 93.63\n",
            "Test Accuracy 3: 94.38\n",
            "Test Accuracy 4: 94.97\n",
            "Test Accuracy 5: 94.38\n",
            "Test Accuracy 6: 94.08\n",
            "Test Accuracy 7: 94.64\n",
            "Test Accuracy 8: 94.55\n",
            "Test Accuracy 9: 93.93\n",
            "Test Accuracy 10: 94.35\n"
          ],
          "name": "stdout"
        }
      ]
    },
    {
      "cell_type": "code",
      "metadata": {
        "id": "a3w3UmlXCzJC",
        "colab_type": "code",
        "colab": {}
      },
      "source": [
        "basic_code_results = pd.Series(test_acc1)"
      ],
      "execution_count": 0,
      "outputs": []
    },
    {
      "cell_type": "code",
      "metadata": {
        "id": "mUcoAJTcCzJD",
        "colab_type": "code",
        "outputId": "2fcdfb86-4059-4005-e815-72ff80dfd823",
        "colab": {}
      },
      "source": [
        "basic_code_results.mean()"
      ],
      "execution_count": 0,
      "outputs": [
        {
          "output_type": "execute_result",
          "data": {
            "text/plain": [
              "94.3125"
            ]
          },
          "metadata": {
            "tags": []
          },
          "execution_count": 48
        }
      ]
    },
    {
      "cell_type": "code",
      "metadata": {
        "id": "Z5gxLPZ_CzJF",
        "colab_type": "code",
        "colab": {}
      },
      "source": [
        "recognizer2 = Sequential()\n",
        "\n",
        "recognizer2.add(Conv2D(filters = 32, kernel_size = (5,5),padding = 'Same', \n",
        "                 activation ='relu', input_shape = (32,32,1)))\n",
        "recognizer2.add(Conv2D(filters = 32, kernel_size = (5,5),padding = 'Same', \n",
        "                 activation ='relu'))\n",
        "recognizer2.add(MaxPool2D(pool_size=(2,2)))\n",
        "recognizer2.add(Dropout(0.2))\n",
        "\n",
        "\n",
        "recognizer2.add(Conv2D(filters = 64, kernel_size = (3,3),padding = 'Same', \n",
        "                 activation ='relu'))\n",
        "recognizer2.add(Conv2D(filters = 64, kernel_size = (3,3),padding = 'Same', \n",
        "                 activation ='relu'))\n",
        "recognizer2.add(MaxPool2D(pool_size=(2,2), strides=(2,2)))\n",
        "recognizer2.add(Dropout(0.2))\n",
        "\n",
        "\n",
        "recognizer2.add(Flatten())\n",
        "recognizer2.add(Dense(units = 256, input_dim = 1024, activation = 'relu'))\n",
        "recognizer2.add(Dense(units = 256, activation = \"relu\"))\n",
        "recognizer2.add(Dropout(0.5))\n",
        "recognizer2.add(Dense(28, activation = \"softmax\"))"
      ],
      "execution_count": 0,
      "outputs": []
    },
    {
      "cell_type": "code",
      "metadata": {
        "id": "6SfujslxCzJG",
        "colab_type": "code",
        "colab": {}
      },
      "source": [
        "recognizer2.compile(optimizer = optimizer , loss = \"categorical_crossentropy\", metrics=[\"accuracy\"])"
      ],
      "execution_count": 0,
      "outputs": []
    },
    {
      "cell_type": "code",
      "metadata": {
        "id": "8J5S2keTCzJI",
        "colab_type": "code",
        "outputId": "38107d22-efe4-40d0-c90a-6eeb2f6aabbf",
        "colab": {}
      },
      "source": [
        "recognizer2.fit_generator(train_iterator,epochs = 30, verbose = 2, steps_per_epoch=train_data.shape[0] // 100)"
      ],
      "execution_count": 0,
      "outputs": [
        {
          "output_type": "stream",
          "text": [
            "Epoch 1/30\n",
            " - 4s - loss: 2.6932 - acc: 0.1919\n",
            "Epoch 2/30\n",
            " - 3s - loss: 1.6615 - acc: 0.4440\n",
            "Epoch 3/30\n",
            " - 3s - loss: 1.1549 - acc: 0.6084\n",
            "Epoch 4/30\n",
            " - 3s - loss: 0.9111 - acc: 0.6903\n",
            "Epoch 5/30\n",
            " - 3s - loss: 0.7382 - acc: 0.7515\n",
            "Epoch 6/30\n",
            " - 3s - loss: 0.6045 - acc: 0.8036\n",
            "Epoch 7/30\n",
            " - 3s - loss: 0.5373 - acc: 0.8202\n",
            "Epoch 8/30\n",
            " - 3s - loss: 0.4528 - acc: 0.8498\n",
            "Epoch 9/30\n",
            " - 3s - loss: 0.4293 - acc: 0.8572\n",
            "Epoch 10/30\n",
            " - 3s - loss: 0.3966 - acc: 0.8721\n",
            "Epoch 11/30\n",
            " - 3s - loss: 0.3609 - acc: 0.8858\n",
            "Epoch 12/30\n",
            " - 4s - loss: 0.3320 - acc: 0.8932\n",
            "Epoch 13/30\n",
            " - 4s - loss: 0.3108 - acc: 0.9015\n",
            "Epoch 14/30\n",
            " - 3s - loss: 0.2933 - acc: 0.9090\n",
            "Epoch 15/30\n",
            " - 3s - loss: 0.2811 - acc: 0.9110\n",
            "Epoch 16/30\n",
            " - 3s - loss: 0.2678 - acc: 0.9148\n",
            "Epoch 17/30\n",
            " - 3s - loss: 0.2576 - acc: 0.9179\n",
            "Epoch 18/30\n",
            " - 3s - loss: 0.2456 - acc: 0.9221\n",
            "Epoch 19/30\n",
            " - 3s - loss: 0.2333 - acc: 0.9274\n",
            "Epoch 20/30\n",
            " - 3s - loss: 0.2460 - acc: 0.9230\n",
            "Epoch 21/30\n",
            " - 3s - loss: 0.2124 - acc: 0.9317\n",
            "Epoch 22/30\n",
            " - 3s - loss: 0.2142 - acc: 0.9353\n",
            "Epoch 23/30\n",
            " - 3s - loss: 0.2174 - acc: 0.9347\n",
            "Epoch 24/30\n",
            " - 3s - loss: 0.2089 - acc: 0.9376\n",
            "Epoch 25/30\n",
            " - 4s - loss: 0.2146 - acc: 0.9355\n",
            "Epoch 26/30\n",
            " - 4s - loss: 0.1929 - acc: 0.9403\n",
            "Epoch 27/30\n",
            " - 3s - loss: 0.2000 - acc: 0.9405\n",
            "Epoch 28/30\n",
            " - 3s - loss: 0.2005 - acc: 0.9398\n",
            "Epoch 29/30\n",
            " - 3s - loss: 0.2025 - acc: 0.9410\n",
            "Epoch 30/30\n",
            " - 3s - loss: 0.1917 - acc: 0.9410\n"
          ],
          "name": "stdout"
        },
        {
          "output_type": "execute_result",
          "data": {
            "text/plain": [
              "<keras.callbacks.History at 0x7fcc82081550>"
            ]
          },
          "metadata": {
            "tags": []
          },
          "execution_count": 31
        }
      ]
    },
    {
      "cell_type": "code",
      "metadata": {
        "id": "qORzAgf9CzJJ",
        "colab_type": "code",
        "colab": {}
      },
      "source": [
        "test_acc2 = []"
      ],
      "execution_count": 0,
      "outputs": []
    },
    {
      "cell_type": "code",
      "metadata": {
        "id": "iAzJUE2lCzJM",
        "colab_type": "code",
        "outputId": "8875ad5e-d32b-4e76-cca6-9a501d17cca9",
        "colab": {}
      },
      "source": [
        "for i in range(10):\n",
        "    _, acc = recognizer2.evaluate_generator(test_iterator, steps=len(test_iterator))\n",
        "    print('Test Accuracy {0}: {1}' .format(i+1 , np.round((acc * 100),2)))\n",
        "    test_acc2.append(np.round((acc * 100),2))\n",
        "    "
      ],
      "execution_count": 0,
      "outputs": [
        {
          "output_type": "stream",
          "text": [
            "Test Accuracy 1: 95.3\n",
            "Test Accuracy 2: 95.24\n",
            "Test Accuracy 3: 95.71\n",
            "Test Accuracy 4: 95.74\n",
            "Test Accuracy 5: 95.65\n",
            "Test Accuracy 6: 95.54\n",
            "Test Accuracy 7: 95.57\n",
            "Test Accuracy 8: 95.27\n",
            "Test Accuracy 9: 95.39\n",
            "Test Accuracy 10: 95.6\n"
          ],
          "name": "stdout"
        }
      ]
    },
    {
      "cell_type": "code",
      "metadata": {
        "id": "VlLAfo3_CzJQ",
        "colab_type": "code",
        "colab": {}
      },
      "source": [
        "final_code_results=pd.Series(test_acc2)"
      ],
      "execution_count": 0,
      "outputs": []
    },
    {
      "cell_type": "code",
      "metadata": {
        "id": "gaI3sxINCzJV",
        "colab_type": "code",
        "outputId": "9c619f15-f25b-4fa2-c702-37e801b27762",
        "colab": {}
      },
      "source": [
        "np.round((final_code_results.mean()),2)"
      ],
      "execution_count": 0,
      "outputs": [
        {
          "output_type": "execute_result",
          "data": {
            "text/plain": [
              "95.5"
            ]
          },
          "metadata": {
            "tags": []
          },
          "execution_count": 50
        }
      ]
    },
    {
      "cell_type": "code",
      "metadata": {
        "id": "PGRT3ULtCzJY",
        "colab_type": "code",
        "outputId": "509ddf42-467a-4a8b-8942-bad7761319ac",
        "colab": {}
      },
      "source": [
        "stats.ttest_ind(basic_code_results, final_code_results)"
      ],
      "execution_count": 0,
      "outputs": [
        {
          "output_type": "execute_result",
          "data": {
            "text/plain": [
              "Ttest_indResult(statistic=-8.9230024692117098, pvalue=5.0043411901139085e-08)"
            ]
          },
          "metadata": {
            "tags": []
          },
          "execution_count": 35
        }
      ]
    },
    {
      "cell_type": "code",
      "metadata": {
        "id": "NbtXbSv1CzJd",
        "colab_type": "code",
        "outputId": "9fa4b6c0-0f9e-4013-8273-bc9ec1e3d48f",
        "colab": {}
      },
      "source": [
        "np.round((final_code_results.mean()),2)"
      ],
      "execution_count": 0,
      "outputs": [
        {
          "output_type": "execute_result",
          "data": {
            "text/plain": [
              "95.5"
            ]
          },
          "metadata": {
            "tags": []
          },
          "execution_count": 36
        }
      ]
    },
    {
      "cell_type": "code",
      "metadata": {
        "id": "l5l6eg08CzJf",
        "colab_type": "code",
        "colab": {}
      },
      "source": [
        "test_predictions = recognizer2.predict(test_data)\n",
        "test_predictions = np.round(test_predictions)"
      ],
      "execution_count": 0,
      "outputs": []
    },
    {
      "cell_type": "code",
      "metadata": {
        "id": "hsUHW8x7CzJg",
        "colab_type": "code",
        "colab": {}
      },
      "source": [
        "test_predictions1=pd.DataFrame(test_predictions)"
      ],
      "execution_count": 0,
      "outputs": []
    },
    {
      "cell_type": "code",
      "metadata": {
        "id": "TKea7wgECzJh",
        "colab_type": "code",
        "colab": {}
      },
      "source": [
        "test_label1=pd.DataFrame(test_label)"
      ],
      "execution_count": 0,
      "outputs": []
    },
    {
      "cell_type": "code",
      "metadata": {
        "id": "NAU5m8yjCzJi",
        "colab_type": "code",
        "colab": {}
      },
      "source": [
        "incorrect_label_indices= (test_predictions1.idxmax(axis=1) != test_label1.idxmax(axis=1))"
      ],
      "execution_count": 0,
      "outputs": []
    },
    {
      "cell_type": "code",
      "metadata": {
        "id": "Dn_vsG6_CzJj",
        "colab_type": "code",
        "colab": {}
      },
      "source": [
        "misclassified_data=test_data[incorrect_label_indices]\n",
        "new_labels = test_label1[incorrect_label_indices]\n",
        "incorrect_prediction = test_predictions1[incorrect_label_indices]"
      ],
      "execution_count": 0,
      "outputs": []
    },
    {
      "cell_type": "code",
      "metadata": {
        "id": "uvgflq4RCzJk",
        "colab_type": "code",
        "outputId": "87f8c507-979d-42cf-dbb3-58a48f9cc172",
        "colab": {}
      },
      "source": [
        "misclassified_data.shape"
      ],
      "execution_count": 0,
      "outputs": [
        {
          "output_type": "execute_result",
          "data": {
            "text/plain": [
              "(486, 32, 32, 1)"
            ]
          },
          "metadata": {
            "tags": []
          },
          "execution_count": 45
        }
      ]
    },
    {
      "cell_type": "code",
      "metadata": {
        "id": "Qx906GdeCzJm",
        "colab_type": "code",
        "outputId": "699d3cbf-9298-4d85-dc76-838df10d377f",
        "colab": {}
      },
      "source": [
        "plt.imshow(misclassified_data[0].squeeze().T)\n"
      ],
      "execution_count": 0,
      "outputs": [
        {
          "output_type": "execute_result",
          "data": {
            "text/plain": [
              "<matplotlib.image.AxesImage at 0x7fcc8203eef0>"
            ]
          },
          "metadata": {
            "tags": []
          },
          "execution_count": 46
        },
        {
          "output_type": "display_data",
          "data": {
            "image/png": "[encoded data removed]",
            "text/plain": [
              "<matplotlib.figure.Figure at 0x7fcc42ea84e0>"
            ]
          },
          "metadata": {
            "tags": [],
            "needs_background": "light"
          }
        }
      ]
    },
    {
      "cell_type": "code",
      "metadata": {
        "id": "44NXfQXGCzJn",
        "colab_type": "code",
        "outputId": "22607461-4acd-4af8-a2d9-bc4d02606690",
        "colab": {}
      },
      "source": [
        "pd.Series(incorrect_prediction.idxmax(axis=1)).reset_index()[0][0]"
      ],
      "execution_count": 0,
      "outputs": [
        {
          "output_type": "execute_result",
          "data": {
            "text/plain": [
              "4"
            ]
          },
          "metadata": {
            "tags": []
          },
          "execution_count": 66
        }
      ]
    },
    {
      "cell_type": "code",
      "metadata": {
        "id": "XLQj5FSOCzJo",
        "colab_type": "code",
        "outputId": "7bdf0d47-8894-409f-a7ab-4a1bc7297d80",
        "colab": {}
      },
      "source": [
        "plt.imshow(misclassified_data[1].squeeze().T)"
      ],
      "execution_count": 0,
      "outputs": [
        {
          "output_type": "execute_result",
          "data": {
            "text/plain": [
              "<matplotlib.image.AxesImage at 0x7fcc42d98c18>"
            ]
          },
          "metadata": {
            "tags": []
          },
          "execution_count": 51
        },
        {
          "output_type": "display_data",
          "data": {
            "image/png": "[encoded data removed]",
            "text/plain": [
              "<matplotlib.figure.Figure at 0x7fcc8203eac8>"
            ]
          },
          "metadata": {
            "tags": [],
            "needs_background": "light"
          }
        }
      ]
    },
    {
      "cell_type": "code",
      "metadata": {
        "id": "FvJ12TSeCzJq",
        "colab_type": "code",
        "outputId": "82a79b29-4937-4cc6-b651-6814ac01520b",
        "colab": {}
      },
      "source": [
        "pd.Series(incorrect_prediction.idxmax(axis=1)).reset_index()[0][1]"
      ],
      "execution_count": 0,
      "outputs": [
        {
          "output_type": "execute_result",
          "data": {
            "text/plain": [
              "7"
            ]
          },
          "metadata": {
            "tags": []
          },
          "execution_count": 67
        }
      ]
    },
    {
      "cell_type": "code",
      "metadata": {
        "id": "FIAk1fkqCzJs",
        "colab_type": "code",
        "colab": {}
      },
      "source": [
        ""
      ],
      "execution_count": 0,
      "outputs": []
    },
    {
      "cell_type": "code",
      "metadata": {
        "id": "baTfgdvnCzJt",
        "colab_type": "code",
        "colab": {}
      },
      "source": [
        ""
      ],
      "execution_count": 0,
      "outputs": []
    }
  ]
}
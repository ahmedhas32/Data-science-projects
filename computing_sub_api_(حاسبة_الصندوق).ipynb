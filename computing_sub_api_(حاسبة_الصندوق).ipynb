{
  "nbformat": 4,
  "nbformat_minor": 0,
  "metadata": {
    "colab": {
      "name": "computing  sub_api (حاسبة الصندوق).ipynb",
      "provenance": [],
      "collapsed_sections": [],
      "include_colab_link": true
    },
    "kernelspec": {
      "display_name": "Python 3",
      "language": "python",
      "name": "python3"
    },
    "language_info": {
      "codemirror_mode": {
        "name": "ipython",
        "version": 3
      },
      "file_extension": ".py",
      "mimetype": "text/x-python",
      "name": "python",
      "nbconvert_exporter": "python",
      "pygments_lexer": "ipython3",
      "version": "3.8.5"
    }
  },
  "cells": [
    {
      "cell_type": "markdown",
      "metadata": {
        "id": "view-in-github",
        "colab_type": "text"
      },
      "source": [
        "<a href=\"https://colab.research.google.com/github/ahmedhas32/Data-science-projects/blob/master/computing_sub_api_(%D8%AD%D8%A7%D8%B3%D8%A8%D8%A9_%D8%A7%D9%84%D8%B5%D9%86%D8%AF%D9%88%D9%82).ipynb\" target=\"_parent\"><img src=\"https://colab.research.google.com/assets/colab-badge.svg\" alt=\"Open In Colab\"/></a>"
      ]
    },
    {
      "cell_type": "code",
      "metadata": {
        "id": "uT1aVyxGJNZ6",
        "outputId": "60e7d087-49cf-478b-c8b4-94d59379901e",
        "colab": {
          "base_uri": "https://localhost:8080/",
          "height": 200
        }
      },
      "source": [
        "!pip install arabic_reshaper\n",
        "\n",
        "import arabic_reshaper\n"
      ],
      "execution_count": null,
      "outputs": [
        {
          "output_type": "stream",
          "text": [
            "Collecting arabic_reshaper\n",
            "  Downloading https://files.pythonhosted.org/packages/41/55/e905af99b0172b5550c5e22d76b7737004495354b5f1094adf7cb2a41659/arabic_reshaper-2.1.0.tar.gz\n",
            "Requirement already satisfied: future in /usr/local/lib/python3.6/dist-packages (from arabic_reshaper) (0.16.0)\n",
            "Requirement already satisfied: setuptools in /usr/local/lib/python3.6/dist-packages (from arabic_reshaper) (50.3.0)\n",
            "Building wheels for collected packages: arabic-reshaper\n",
            "  Building wheel for arabic-reshaper (setup.py) ... \u001b[?25l\u001b[?25hdone\n",
            "  Created wheel for arabic-reshaper: filename=arabic_reshaper-2.1.0-cp36-none-any.whl size=16502 sha256=da972c2067e8e040bed12e09db7e0faaa624e95536386e4f98d6d76b43f21209\n",
            "  Stored in directory: /root/.cache/pip/wheels/a9/e6/ec/2ba48138d4447d40442dd6ba3bf6b92d9c6afd74e9c720c6fe\n",
            "Successfully built arabic-reshaper\n",
            "Installing collected packages: arabic-reshaper\n",
            "Successfully installed arabic-reshaper-2.1.0\n"
          ],
          "name": "stdout"
        }
      ]
    },
    {
      "cell_type": "code",
      "metadata": {
        "id": "iNjmke3aS4g9"
      },
      "source": [
        "# chi-squared test with similar proportions\n",
        "from scipy.stats import chi2_contingency\n",
        "from scipy.stats import chi2"
      ],
      "execution_count": null,
      "outputs": []
    },
    {
      "cell_type": "code",
      "metadata": {
        "id": "tk6VO6j_Jggs",
        "outputId": "8e910983-a504-4621-e03a-10b4c2b955a7",
        "colab": {
          "base_uri": "https://localhost:8080/",
          "height": 100
        }
      },
      "source": [
        "#features=list(features)\n",
        "!pip install python-bidi\n",
        "from bidi.algorithm import get_display"
      ],
      "execution_count": null,
      "outputs": [
        {
          "output_type": "stream",
          "text": [
            "Collecting python-bidi\n",
            "  Downloading https://files.pythonhosted.org/packages/33/b0/f942d146a2f457233baaafd6bdf624eba8e0f665045b4abd69d1b62d097d/python_bidi-0.4.2-py2.py3-none-any.whl\n",
            "Requirement already satisfied: six in /usr/local/lib/python3.6/dist-packages (from python-bidi) (1.15.0)\n",
            "Installing collected packages: python-bidi\n",
            "Successfully installed python-bidi-0.4.2\n"
          ],
          "name": "stdout"
        }
      ]
    },
    {
      "cell_type": "code",
      "metadata": {
        "id": "5vbasgQTi_jz"
      },
      "source": [
        "import csv as csv\n",
        "from matplotlib import pyplot\n",
        "from sklearn.model_selection import cross_val_score,KFold\n",
        "from sklearn.metrics import mean_absolute_error\n",
        "import matplotlib.pyplot as plt\n",
        "from scipy.stats import skew\n",
        "from collections import OrderedDict\n",
        "from sklearn import preprocessing\n",
        "from datetime import datetime\n"
      ],
      "execution_count": null,
      "outputs": []
    },
    {
      "cell_type": "code",
      "metadata": {
        "id": "Unhl9QkuvZxQ"
      },
      "source": [
        "\n",
        "import keras\n",
        "from keras.wrappers.scikit_learn import KerasRegressor\n",
        "from keras.models import Sequential\n",
        "from keras.layers import Dense , Dropout\n",
        "from keras.wrappers.scikit_learn import KerasClassifier\n",
        "from keras.utils import np_utils\n",
        "from sklearn.model_selection import cross_val_score\n",
        "from sklearn.model_selection import KFold\n",
        "from sklearn.preprocessing import LabelEncoder\n",
        "from sklearn.pipeline import Pipeline\n",
        "\n",
        "from sklearn.model_selection import GridSearchCV, train_test_split\n",
        "\n",
        "from sklearn.metrics import r2_score\n",
        "from sklearn.metrics import mean_squared_error\n",
        "\n",
        "import tensorflow.keras.layers as Layers\n",
        "import tensorflow.keras.activations as Actications\n",
        "import tensorflow.keras.models as Models\n",
        "import tensorflow.keras.optimizers as Optimizer\n",
        "import tensorflow.keras.metrics as Metrics\n",
        "import tensorflow.keras.utils as Utils\n",
        "from keras.utils.vis_utils import model_to_dot\n",
        "from keras import backend as K\n"
      ],
      "execution_count": null,
      "outputs": []
    },
    {
      "cell_type": "code",
      "metadata": {
        "id": "vbmZwexCj5zz",
        "outputId": "9d6f1244-93bc-4f3a-8e24-ea48fbfa65ae",
        "colab": {
          "base_uri": "https://localhost:8080/",
          "height": 50
        }
      },
      "source": [
        "import statsmodels.api as sm\n",
        "from statsmodels.formula.api import ols"
      ],
      "execution_count": null,
      "outputs": [
        {
          "output_type": "stream",
          "text": [
            "/usr/local/lib/python3.6/dist-packages/statsmodels/tools/_testing.py:19: FutureWarning: pandas.util.testing is deprecated. Use the functions in the public API at pandas.testing instead.\n",
            "  import pandas.util.testing as tm\n"
          ],
          "name": "stderr"
        }
      ]
    },
    {
      "cell_type": "code",
      "metadata": {
        "id": "ha07guXVvgSL",
        "outputId": "48e19448-b1b7-4175-b4d0-8be520569a9e",
        "colab": {
          "base_uri": "https://localhost:8080/",
          "height": 33
        }
      },
      "source": [
        "from google.colab import drive\n",
        "drive.mount('/content/drive')"
      ],
      "execution_count": null,
      "outputs": [
        {
          "output_type": "stream",
          "text": [
            "Mounted at /content/drive\n"
          ],
          "name": "stdout"
        }
      ]
    },
    {
      "cell_type": "code",
      "metadata": {
        "id": "g_Ydxvuz-oq2"
      },
      "source": [
        "import numpy as np\n",
        "import pandas as pd\n",
        "import matplotlib.pyplot as plt\n",
        "import seaborn as sns\n",
        "import warnings\n",
        "import xlrd\n",
        "warnings.filterwarnings(\"ignore\")"
      ],
      "execution_count": null,
      "outputs": []
    },
    {
      "cell_type": "code",
      "metadata": {
        "id": "vLbFxvvhygTn"
      },
      "source": [
        "data = pd.read_csv('/content/drive/My Drive/data-1596715036934.csv')"
      ],
      "execution_count": null,
      "outputs": []
    },
    {
      "cell_type": "code",
      "metadata": {
        "id": "9q0ieVWOvUfu",
        "outputId": "70bfb8fd-3bff-497b-ceb0-3ad8f1a884c8",
        "colab": {
          "base_uri": "https://localhost:8080/",
          "height": 347
        }
      },
      "source": [
        "data.head(10)"
      ],
      "execution_count": null,
      "outputs": [
        {
          "output_type": "execute_result",
          "data": {
            "text/html": [
              "<div>\n",
              "<style scoped>\n",
              "    .dataframe tbody tr th:only-of-type {\n",
              "        vertical-align: middle;\n",
              "    }\n",
              "\n",
              "    .dataframe tbody tr th {\n",
              "        vertical-align: top;\n",
              "    }\n",
              "\n",
              "    .dataframe thead th {\n",
              "        text-align: right;\n",
              "    }\n",
              "</style>\n",
              "<table border=\"1\" class=\"dataframe\">\n",
              "  <thead>\n",
              "    <tr style=\"text-align: right;\">\n",
              "      <th></th>\n",
              "      <th>registration_date</th>\n",
              "      <th>eligible_status</th>\n",
              "      <th>national_id_map</th>\n",
              "      <th>status_booking</th>\n",
              "      <th>unit_price</th>\n",
              "      <th>unit_location</th>\n",
              "      <th>product_type</th>\n",
              "      <th>building_type</th>\n",
              "      <th>sub_con_num</th>\n",
              "      <th>status_sub</th>\n",
              "      <th>signing_lender_contract_date</th>\n",
              "    </tr>\n",
              "  </thead>\n",
              "  <tbody>\n",
              "    <tr>\n",
              "      <th>0</th>\n",
              "      <td>2019-11-20</td>\n",
              "      <td>1.0</td>\n",
              "      <td>1035776580</td>\n",
              "      <td>NaN</td>\n",
              "      <td>946500.00</td>\n",
              "      <td>الرياض</td>\n",
              "      <td>3</td>\n",
              "      <td>1</td>\n",
              "      <td>385435</td>\n",
              "      <td>2</td>\n",
              "      <td>2020-03-24</td>\n",
              "    </tr>\n",
              "    <tr>\n",
              "      <th>1</th>\n",
              "      <td>2019-06-09</td>\n",
              "      <td>1.0</td>\n",
              "      <td>1083588200</td>\n",
              "      <td>NaN</td>\n",
              "      <td>650000.00</td>\n",
              "      <td>حفر الباطن</td>\n",
              "      <td>3</td>\n",
              "      <td>1</td>\n",
              "      <td>161306</td>\n",
              "      <td>2</td>\n",
              "      <td>2019-07-10</td>\n",
              "    </tr>\n",
              "    <tr>\n",
              "      <th>2</th>\n",
              "      <td>2020-05-12</td>\n",
              "      <td>0.0</td>\n",
              "      <td>1049659681</td>\n",
              "      <td>NaN</td>\n",
              "      <td>175300.00</td>\n",
              "      <td>الخرج</td>\n",
              "      <td>4</td>\n",
              "      <td>1</td>\n",
              "      <td>294022</td>\n",
              "      <td>2</td>\n",
              "      <td>2019-12-25</td>\n",
              "    </tr>\n",
              "    <tr>\n",
              "      <th>3</th>\n",
              "      <td>2020-02-02</td>\n",
              "      <td>1.0</td>\n",
              "      <td>1042613503</td>\n",
              "      <td>NaN</td>\n",
              "      <td>1169126.14</td>\n",
              "      <td>ابوعريش</td>\n",
              "      <td>5</td>\n",
              "      <td>1</td>\n",
              "      <td>438500</td>\n",
              "      <td>2</td>\n",
              "      <td>2019-01-29</td>\n",
              "    </tr>\n",
              "    <tr>\n",
              "      <th>4</th>\n",
              "      <td>2020-06-16</td>\n",
              "      <td>1.0</td>\n",
              "      <td>1008039750</td>\n",
              "      <td>NaN</td>\n",
              "      <td>500000.00</td>\n",
              "      <td>الدمام</td>\n",
              "      <td>3</td>\n",
              "      <td>1</td>\n",
              "      <td>483830</td>\n",
              "      <td>2</td>\n",
              "      <td>2020-08-05</td>\n",
              "    </tr>\n",
              "    <tr>\n",
              "      <th>5</th>\n",
              "      <td>2019-12-06</td>\n",
              "      <td>1.0</td>\n",
              "      <td>1072264268</td>\n",
              "      <td>6.0</td>\n",
              "      <td>656796.00</td>\n",
              "      <td>جازان</td>\n",
              "      <td>1</td>\n",
              "      <td>1</td>\n",
              "      <td>176971</td>\n",
              "      <td>2</td>\n",
              "      <td>2019-08-05</td>\n",
              "    </tr>\n",
              "    <tr>\n",
              "      <th>6</th>\n",
              "      <td>2020-05-12</td>\n",
              "      <td>1.0</td>\n",
              "      <td>1047463607</td>\n",
              "      <td>NaN</td>\n",
              "      <td>998602.51</td>\n",
              "      <td>الدمام</td>\n",
              "      <td>4</td>\n",
              "      <td>1</td>\n",
              "      <td>433588</td>\n",
              "      <td>2</td>\n",
              "      <td>2020-06-10</td>\n",
              "    </tr>\n",
              "    <tr>\n",
              "      <th>7</th>\n",
              "      <td>2020-05-09</td>\n",
              "      <td>1.0</td>\n",
              "      <td>1009173152</td>\n",
              "      <td>NaN</td>\n",
              "      <td>1800000.00</td>\n",
              "      <td>الرياض</td>\n",
              "      <td>3</td>\n",
              "      <td>1</td>\n",
              "      <td>445990</td>\n",
              "      <td>2</td>\n",
              "      <td>2020-06-26</td>\n",
              "    </tr>\n",
              "    <tr>\n",
              "      <th>8</th>\n",
              "      <td>2014-01-31</td>\n",
              "      <td>1.0</td>\n",
              "      <td>1026432839</td>\n",
              "      <td>NaN</td>\n",
              "      <td>875000.00</td>\n",
              "      <td>جازان</td>\n",
              "      <td>4</td>\n",
              "      <td>1</td>\n",
              "      <td>437563</td>\n",
              "      <td>2</td>\n",
              "      <td>2020-06-15</td>\n",
              "    </tr>\n",
              "    <tr>\n",
              "      <th>9</th>\n",
              "      <td>2020-05-12</td>\n",
              "      <td>0.0</td>\n",
              "      <td>1028477782</td>\n",
              "      <td>NaN</td>\n",
              "      <td>950000.00</td>\n",
              "      <td>الرياض</td>\n",
              "      <td>3</td>\n",
              "      <td>1</td>\n",
              "      <td>310698</td>\n",
              "      <td>2</td>\n",
              "      <td>2020-01-07</td>\n",
              "    </tr>\n",
              "  </tbody>\n",
              "</table>\n",
              "</div>"
            ],
            "text/plain": [
              "  registration_date  eligible_status  ...  status_sub  signing_lender_contract_date\n",
              "0        2019-11-20              1.0  ...           2                    2020-03-24\n",
              "1        2019-06-09              1.0  ...           2                    2019-07-10\n",
              "2        2020-05-12              0.0  ...           2                    2019-12-25\n",
              "3        2020-02-02              1.0  ...           2                    2019-01-29\n",
              "4        2020-06-16              1.0  ...           2                    2020-08-05\n",
              "5        2019-12-06              1.0  ...           2                    2019-08-05\n",
              "6        2020-05-12              1.0  ...           2                    2020-06-10\n",
              "7        2020-05-09              1.0  ...           2                    2020-06-26\n",
              "8        2014-01-31              1.0  ...           2                    2020-06-15\n",
              "9        2020-05-12              0.0  ...           2                    2020-01-07\n",
              "\n",
              "[10 rows x 11 columns]"
            ]
          },
          "metadata": {
            "tags": []
          },
          "execution_count": 11
        }
      ]
    },
    {
      "cell_type": "code",
      "metadata": {
        "id": "83eo0qwOvUfz"
      },
      "source": [
        ""
      ],
      "execution_count": null,
      "outputs": []
    },
    {
      "cell_type": "code",
      "metadata": {
        "id": "OaL7xM_V9zyW"
      },
      "source": [
        "from sklearn.preprocessing import LabelEncoder"
      ],
      "execution_count": null,
      "outputs": []
    },
    {
      "cell_type": "code",
      "metadata": {
        "id": "t94Yx_hRFafX"
      },
      "source": [
        ""
      ],
      "execution_count": null,
      "outputs": []
    },
    {
      "cell_type": "code",
      "metadata": {
        "id": "NS9MpY4m__4X"
      },
      "source": [
        "\n",
        "#estimator = KerasClassifier(build_fn=baseline_model, epochs=200, batch_size=5, verbose=0)\n",
        "#kfold = KFold(n_splits=3, shuffle=True)\n",
        "#results = cross_val_score(estimator, X_train, y_train, cv=kfold)\n",
        "#print(\"Baseline: %.2f%% (%.2f%%)\" % (results.mean()*100, results.std()*100))"
      ],
      "execution_count": null,
      "outputs": []
    },
    {
      "cell_type": "code",
      "metadata": {
        "id": "55yLV0aRvUk_"
      },
      "source": [
        "financial = pd.read_excel('/content/drive/My Drive/Fin_Adv_Updated (1).xlsx' , sheet_name='Sheet2')"
      ],
      "execution_count": null,
      "outputs": []
    },
    {
      "cell_type": "code",
      "metadata": {
        "id": "0ODjZf1SH3Ee"
      },
      "source": [
        "financial2 = pd.read_csv('/content/drive/My Drive/Fin_Adv_Updated Data.csv' )"
      ],
      "execution_count": null,
      "outputs": []
    },
    {
      "cell_type": "code",
      "metadata": {
        "id": "LN2JvLu2vUlD",
        "outputId": "07672c2b-de5d-47dd-842e-d9f2d83d0014",
        "colab": {
          "base_uri": "https://localhost:8080/",
          "height": 351
        }
      },
      "source": [
        "financial.head()"
      ],
      "execution_count": null,
      "outputs": [
        {
          "output_type": "execute_result",
          "data": {
            "text/html": [
              "<div>\n",
              "<style scoped>\n",
              "    .dataframe tbody tr th:only-of-type {\n",
              "        vertical-align: middle;\n",
              "    }\n",
              "\n",
              "    .dataframe tbody tr th {\n",
              "        vertical-align: top;\n",
              "    }\n",
              "\n",
              "    .dataframe thead th {\n",
              "        text-align: right;\n",
              "    }\n",
              "</style>\n",
              "<table border=\"1\" class=\"dataframe\">\n",
              "  <thead>\n",
              "    <tr style=\"text-align: right;\">\n",
              "      <th></th>\n",
              "      <th>registration_date</th>\n",
              "      <th>national_id_map</th>\n",
              "      <th>family_size</th>\n",
              "      <th>eligible_status</th>\n",
              "      <th>indigent_value</th>\n",
              "      <th>monthly_salary</th>\n",
              "      <th>home_allowance</th>\n",
              "      <th>manual_monthly_salary</th>\n",
              "      <th>manual_home_allowance</th>\n",
              "      <th>financial_adv_salary</th>\n",
              "      <th>financial_adv_home_allowance</th>\n",
              "      <th>applicant_bank</th>\n",
              "      <th>type_of_work</th>\n",
              "      <th>booking_status</th>\n",
              "      <th>booking_date</th>\n",
              "      <th>financial_institution_name</th>\n",
              "      <th>financial_institution_number</th>\n",
              "      <th>profit_rate_in_contract</th>\n",
              "      <th>unit_location</th>\n",
              "      <th>max_loan_amount</th>\n",
              "      <th>lender_name</th>\n",
              "      <th>recommendation_created_at</th>\n",
              "      <th>project_region</th>\n",
              "      <th>project_city</th>\n",
              "      <th>project_name</th>\n",
              "      <th>contract_status</th>\n",
              "      <th>fin_institution_num</th>\n",
              "      <th>signing_lender_contract_date</th>\n",
              "      <th>booking_unit_type</th>\n",
              "      <th>unit_size</th>\n",
              "      <th>unit_price</th>\n",
              "      <th>has_recommendation</th>\n",
              "      <th>age</th>\n",
              "    </tr>\n",
              "  </thead>\n",
              "  <tbody>\n",
              "    <tr>\n",
              "      <th>0</th>\n",
              "      <td>2019-11-24</td>\n",
              "      <td>1039067093</td>\n",
              "      <td>5.0</td>\n",
              "      <td>1</td>\n",
              "      <td>NaN</td>\n",
              "      <td>NaN</td>\n",
              "      <td>NaN</td>\n",
              "      <td>11582.0</td>\n",
              "      <td>0.0</td>\n",
              "      <td>5500.0</td>\n",
              "      <td>0.0</td>\n",
              "      <td>البنك الأهلي التجاري</td>\n",
              "      <td>3.0</td>\n",
              "      <td>confirmed</td>\n",
              "      <td>2019-11-12 18:03:10.785</td>\n",
              "      <td>الأهلي</td>\n",
              "      <td>4030001588</td>\n",
              "      <td>8.10</td>\n",
              "      <td>ينبع</td>\n",
              "      <td>NaN</td>\n",
              "      <td>NaN</td>\n",
              "      <td>NaN</td>\n",
              "      <td>madinah</td>\n",
              "      <td>yanbu</td>\n",
              "      <td>ينبع - الديار العربية - لؤلؤة الديار</td>\n",
              "      <td>2</td>\n",
              "      <td>4030001588</td>\n",
              "      <td>2019-11-26</td>\n",
              "      <td>townhouse</td>\n",
              "      <td>250.0000</td>\n",
              "      <td>655222.0</td>\n",
              "      <td>No Recommendations</td>\n",
              "      <td>40</td>\n",
              "    </tr>\n",
              "    <tr>\n",
              "      <th>1</th>\n",
              "      <td>2019-04-28</td>\n",
              "      <td>1098496886</td>\n",
              "      <td>2.0</td>\n",
              "      <td>1</td>\n",
              "      <td>NaN</td>\n",
              "      <td>5406.936</td>\n",
              "      <td>1351.734</td>\n",
              "      <td>NaN</td>\n",
              "      <td>NaN</td>\n",
              "      <td>NaN</td>\n",
              "      <td>NaN</td>\n",
              "      <td>Unknown</td>\n",
              "      <td>2.0</td>\n",
              "      <td>confirmed</td>\n",
              "      <td>2019-11-07 16:49:10.406</td>\n",
              "      <td>الراجحي</td>\n",
              "      <td>1010000096</td>\n",
              "      <td>4.50</td>\n",
              "      <td>الرياض</td>\n",
              "      <td>NaN</td>\n",
              "      <td>NaN</td>\n",
              "      <td>NaN</td>\n",
              "      <td>riyadh</td>\n",
              "      <td>ar_riyadh</td>\n",
              "      <td>الرياض - الشركة الوطنية للإسكان - مرسية</td>\n",
              "      <td>2</td>\n",
              "      <td>1010000096</td>\n",
              "      <td>2019-12-16</td>\n",
              "      <td>townhouse</td>\n",
              "      <td>190.0000</td>\n",
              "      <td>539900.0</td>\n",
              "      <td>No Recommendations</td>\n",
              "      <td>25</td>\n",
              "    </tr>\n",
              "    <tr>\n",
              "      <th>2</th>\n",
              "      <td>2019-09-27</td>\n",
              "      <td>1051128393</td>\n",
              "      <td>4.0</td>\n",
              "      <td>1</td>\n",
              "      <td>NaN</td>\n",
              "      <td>NaN</td>\n",
              "      <td>NaN</td>\n",
              "      <td>7000.0</td>\n",
              "      <td>0.0</td>\n",
              "      <td>7000.0</td>\n",
              "      <td>0.0</td>\n",
              "      <td>مصرف الراجحي</td>\n",
              "      <td>3.0</td>\n",
              "      <td>confirmed</td>\n",
              "      <td>2020-04-26 20:06:31.084</td>\n",
              "      <td>الراجحي</td>\n",
              "      <td>1010000096</td>\n",
              "      <td>4.00</td>\n",
              "      <td>خميس  مشيط</td>\n",
              "      <td>412633.0</td>\n",
              "      <td>أملاك</td>\n",
              "      <td>2020-04-15 15:53:23.826829</td>\n",
              "      <td>asir</td>\n",
              "      <td>khamis_mushayt</td>\n",
              "      <td>خميس مشيط - عبدالرحمن الراشد - واحة الخميس</td>\n",
              "      <td>2</td>\n",
              "      <td>1010000096</td>\n",
              "      <td>2020-06-01</td>\n",
              "      <td>villa</td>\n",
              "      <td>438.1349</td>\n",
              "      <td>786562.0</td>\n",
              "      <td>Has Recommendations</td>\n",
              "      <td>33</td>\n",
              "    </tr>\n",
              "    <tr>\n",
              "      <th>3</th>\n",
              "      <td>2019-05-23</td>\n",
              "      <td>1049616970</td>\n",
              "      <td>3.0</td>\n",
              "      <td>1</td>\n",
              "      <td>NaN</td>\n",
              "      <td>NaN</td>\n",
              "      <td>NaN</td>\n",
              "      <td>10838.0</td>\n",
              "      <td>0.0</td>\n",
              "      <td>10838.0</td>\n",
              "      <td>0.0</td>\n",
              "      <td>بنك الرياض</td>\n",
              "      <td>3.0</td>\n",
              "      <td>confirmed</td>\n",
              "      <td>2020-05-17 09:09:57.241</td>\n",
              "      <td>الرياض</td>\n",
              "      <td>1010001054</td>\n",
              "      <td>6.00</td>\n",
              "      <td>جده</td>\n",
              "      <td>268767.0</td>\n",
              "      <td>البنك الفرنسي</td>\n",
              "      <td>2020-03-27 09:27:59.046466</td>\n",
              "      <td>makkah</td>\n",
              "      <td>jeddah</td>\n",
              "      <td>جده - لدن للأستثمار- فينان</td>\n",
              "      <td>2</td>\n",
              "      <td>1010001054</td>\n",
              "      <td>2020-05-18</td>\n",
              "      <td>apartment</td>\n",
              "      <td>199.5500</td>\n",
              "      <td>527649.0</td>\n",
              "      <td>Has Recommendations</td>\n",
              "      <td>35</td>\n",
              "    </tr>\n",
              "    <tr>\n",
              "      <th>4</th>\n",
              "      <td>2019-09-23</td>\n",
              "      <td>1063317067</td>\n",
              "      <td>2.0</td>\n",
              "      <td>1</td>\n",
              "      <td>NaN</td>\n",
              "      <td>7250.000</td>\n",
              "      <td>NaN</td>\n",
              "      <td>10590.0</td>\n",
              "      <td>0.0</td>\n",
              "      <td>10590.0</td>\n",
              "      <td>0.0</td>\n",
              "      <td>مصرف الراجحي</td>\n",
              "      <td>1.0</td>\n",
              "      <td>confirmed</td>\n",
              "      <td>2020-06-30 13:42:55.488</td>\n",
              "      <td>الراجحي</td>\n",
              "      <td>1010000096</td>\n",
              "      <td>3.12</td>\n",
              "      <td>المدينة المنورة</td>\n",
              "      <td>NaN</td>\n",
              "      <td>NaN</td>\n",
              "      <td>NaN</td>\n",
              "      <td>madinah</td>\n",
              "      <td>al_madinah_al_munawwarah</td>\n",
              "      <td>المدينة المنورة - عبر المملكة العقارية - جوار</td>\n",
              "      <td>2</td>\n",
              "      <td>1010000096</td>\n",
              "      <td>2020-07-26</td>\n",
              "      <td>apartment</td>\n",
              "      <td>224.0000</td>\n",
              "      <td>537600.0</td>\n",
              "      <td>No Recommendations</td>\n",
              "      <td>41</td>\n",
              "    </tr>\n",
              "  </tbody>\n",
              "</table>\n",
              "</div>"
            ],
            "text/plain": [
              "  registration_date  national_id_map  ...   has_recommendation  age\n",
              "0        2019-11-24       1039067093  ...   No Recommendations   40\n",
              "1        2019-04-28       1098496886  ...   No Recommendations   25\n",
              "2        2019-09-27       1051128393  ...  Has Recommendations   33\n",
              "3        2019-05-23       1049616970  ...  Has Recommendations   35\n",
              "4        2019-09-23       1063317067  ...   No Recommendations   41\n",
              "\n",
              "[5 rows x 33 columns]"
            ]
          },
          "metadata": {
            "tags": []
          },
          "execution_count": 16
        }
      ]
    },
    {
      "cell_type": "code",
      "metadata": {
        "id": "DydlqX7b8Xkf",
        "outputId": "8374d5b6-3b44-4ebe-ff50-44e2e6d2a953",
        "colab": {
          "base_uri": "https://localhost:8080/",
          "height": 34
        }
      },
      "source": [
        "financial2['signing_lender_contract_date'][0]"
      ],
      "execution_count": null,
      "outputs": [
        {
          "output_type": "execute_result",
          "data": {
            "application/vnd.google.colaboratory.intrinsic+json": {
              "type": "string"
            },
            "text/plain": [
              "'2020-02-11'"
            ]
          },
          "metadata": {
            "tags": []
          },
          "execution_count": 17
        }
      ]
    },
    {
      "cell_type": "code",
      "metadata": {
        "id": "uEu5q4D1u-hg"
      },
      "source": [
        "financial2['year'] = financial2['signing_lender_contract_date'].replace(np.nan,\"1111-11-11\").apply(lambda x: datetime.strptime(str(x), '%Y-%m-%d').strftime('%Y'))\n"
      ],
      "execution_count": null,
      "outputs": []
    },
    {
      "cell_type": "code",
      "metadata": {
        "id": "hCAevxYzCCeT",
        "outputId": "9cefee8a-23de-425b-c18c-8160aaaac11e",
        "colab": {
          "base_uri": "https://localhost:8080/",
          "height": 100
        }
      },
      "source": [
        "financial2['year'].value_counts()"
      ],
      "execution_count": null,
      "outputs": [
        {
          "output_type": "execute_result",
          "data": {
            "text/plain": [
              "2020    59431\n",
              "2019    11438\n",
              "2018      448\n",
              "1111       41\n",
              "Name: year, dtype: int64"
            ]
          },
          "metadata": {
            "tags": []
          },
          "execution_count": 19
        }
      ]
    },
    {
      "cell_type": "code",
      "metadata": {
        "id": "0cJXSTrNGrsZ"
      },
      "source": [
        "financial2=financial2.loc[financial2['year'] == '2020' , :]"
      ],
      "execution_count": null,
      "outputs": []
    },
    {
      "cell_type": "code",
      "metadata": {
        "id": "mYGcz31UHTp4",
        "outputId": "62071b7d-6c56-4456-8db4-be28c54870e0",
        "colab": {
          "base_uri": "https://localhost:8080/",
          "height": 351
        }
      },
      "source": [
        "financial2.head()"
      ],
      "execution_count": null,
      "outputs": [
        {
          "output_type": "execute_result",
          "data": {
            "text/html": [
              "<div>\n",
              "<style scoped>\n",
              "    .dataframe tbody tr th:only-of-type {\n",
              "        vertical-align: middle;\n",
              "    }\n",
              "\n",
              "    .dataframe tbody tr th {\n",
              "        vertical-align: top;\n",
              "    }\n",
              "\n",
              "    .dataframe thead th {\n",
              "        text-align: right;\n",
              "    }\n",
              "</style>\n",
              "<table border=\"1\" class=\"dataframe\">\n",
              "  <thead>\n",
              "    <tr style=\"text-align: right;\">\n",
              "      <th></th>\n",
              "      <th>registration_date</th>\n",
              "      <th>national_id_map</th>\n",
              "      <th>family_size</th>\n",
              "      <th>eligible_status</th>\n",
              "      <th>indigent_value</th>\n",
              "      <th>monthly_salary</th>\n",
              "      <th>home_allowance</th>\n",
              "      <th>manual_monthly_salary</th>\n",
              "      <th>manual_home_allowance</th>\n",
              "      <th>financial_adv_salary</th>\n",
              "      <th>financial_adv_home_allowance</th>\n",
              "      <th>loan_period_in_month</th>\n",
              "      <th>applicant_bank</th>\n",
              "      <th>type_of_work</th>\n",
              "      <th>booking_status</th>\n",
              "      <th>booking_date</th>\n",
              "      <th>financial_institution_name</th>\n",
              "      <th>financial_institution_number</th>\n",
              "      <th>profit_rate_in_contract</th>\n",
              "      <th>unit_location</th>\n",
              "      <th>max_loan_amount</th>\n",
              "      <th>lender_name</th>\n",
              "      <th>recommendation_created_at</th>\n",
              "      <th>project_region</th>\n",
              "      <th>project_city</th>\n",
              "      <th>project_name</th>\n",
              "      <th>contract_status</th>\n",
              "      <th>fin_institution_num</th>\n",
              "      <th>signing_lender_contract_date</th>\n",
              "      <th>booking_unit_type</th>\n",
              "      <th>unit_size</th>\n",
              "      <th>unit_price</th>\n",
              "      <th>moh_price</th>\n",
              "      <th>has_recommendation</th>\n",
              "      <th>age</th>\n",
              "      <th>year</th>\n",
              "    </tr>\n",
              "  </thead>\n",
              "  <tbody>\n",
              "    <tr>\n",
              "      <th>0</th>\n",
              "      <td>2019-11-06</td>\n",
              "      <td>1026579472</td>\n",
              "      <td>10.0</td>\n",
              "      <td>1</td>\n",
              "      <td>NaN</td>\n",
              "      <td>6503.620</td>\n",
              "      <td>NaN</td>\n",
              "      <td>6503.00</td>\n",
              "      <td>1.00</td>\n",
              "      <td>6503.00</td>\n",
              "      <td>1.00</td>\n",
              "      <td>181.0</td>\n",
              "      <td>مصرف الراجحي</td>\n",
              "      <td>5.0</td>\n",
              "      <td>confirmed</td>\n",
              "      <td>2020-01-22 17:01:41</td>\n",
              "      <td>الراجحي</td>\n",
              "      <td>1010000096</td>\n",
              "      <td>4.25</td>\n",
              "      <td>المدينة المنورة</td>\n",
              "      <td>488905.0</td>\n",
              "      <td>مصرف الإنماء</td>\n",
              "      <td>2020-01-23 14:18:49</td>\n",
              "      <td>madinah</td>\n",
              "      <td>al_madinah_al_munawwarah</td>\n",
              "      <td>المدينة المنورة - منازل العصرية  - درة المدينة 1</td>\n",
              "      <td>2</td>\n",
              "      <td>1010000096</td>\n",
              "      <td>2020-02-11</td>\n",
              "      <td>apartment</td>\n",
              "      <td>225.000000</td>\n",
              "      <td>492750.0</td>\n",
              "      <td>492750.0</td>\n",
              "      <td>Has Recommendations</td>\n",
              "      <td>54</td>\n",
              "      <td>2020</td>\n",
              "    </tr>\n",
              "    <tr>\n",
              "      <th>1</th>\n",
              "      <td>2020-04-28</td>\n",
              "      <td>1060165170</td>\n",
              "      <td>4.0</td>\n",
              "      <td>1</td>\n",
              "      <td>NaN</td>\n",
              "      <td>9709.808</td>\n",
              "      <td>2427.452</td>\n",
              "      <td>10909.93</td>\n",
              "      <td>2727.49</td>\n",
              "      <td>10909.93</td>\n",
              "      <td>2727.49</td>\n",
              "      <td>250.0</td>\n",
              "      <td>البنك الأهلي التجاري</td>\n",
              "      <td>2.0</td>\n",
              "      <td>confirmed</td>\n",
              "      <td>2020-08-09 11:03:53</td>\n",
              "      <td>الأهلي</td>\n",
              "      <td>4030001588</td>\n",
              "      <td>5.41</td>\n",
              "      <td>مكه المكرمه</td>\n",
              "      <td>1063317.0</td>\n",
              "      <td>مصرف الراجحي</td>\n",
              "      <td>2020-06-04 08:39:28</td>\n",
              "      <td>makkah</td>\n",
              "      <td>makkah_al_mukarramah</td>\n",
              "      <td>مكة المكرمة - لدن للإستثمار - الرصيفة</td>\n",
              "      <td>2</td>\n",
              "      <td>4030001588</td>\n",
              "      <td>2020-08-10</td>\n",
              "      <td>apartment</td>\n",
              "      <td>214.700000</td>\n",
              "      <td>501539.0</td>\n",
              "      <td>501539.0</td>\n",
              "      <td>Has Recommendations</td>\n",
              "      <td>44</td>\n",
              "      <td>2020</td>\n",
              "    </tr>\n",
              "    <tr>\n",
              "      <th>2</th>\n",
              "      <td>2019-03-05</td>\n",
              "      <td>1005122906</td>\n",
              "      <td>3.0</td>\n",
              "      <td>1</td>\n",
              "      <td>NaN</td>\n",
              "      <td>NaN</td>\n",
              "      <td>NaN</td>\n",
              "      <td>7200.00</td>\n",
              "      <td>0.00</td>\n",
              "      <td>7500.00</td>\n",
              "      <td>0.00</td>\n",
              "      <td>240.0</td>\n",
              "      <td>البنك السعودي البريطاني</td>\n",
              "      <td>NaN</td>\n",
              "      <td>confirmed</td>\n",
              "      <td>2020-07-09 10:17:56</td>\n",
              "      <td>ساب</td>\n",
              "      <td>1010025779</td>\n",
              "      <td>6.56</td>\n",
              "      <td>الرياض</td>\n",
              "      <td>644761.0</td>\n",
              "      <td>بنك البلاد</td>\n",
              "      <td>2020-04-08 08:03:58</td>\n",
              "      <td>riyadh</td>\n",
              "      <td>ar_riyadh</td>\n",
              "      <td>الرياض – التحالف العقارية – إشراق ليفنج</td>\n",
              "      <td>2</td>\n",
              "      <td>1010025779</td>\n",
              "      <td>2020-07-19</td>\n",
              "      <td>townhouse</td>\n",
              "      <td>275.153748</td>\n",
              "      <td>742029.0</td>\n",
              "      <td>742029.0</td>\n",
              "      <td>Has Recommendations</td>\n",
              "      <td>37</td>\n",
              "      <td>2020</td>\n",
              "    </tr>\n",
              "    <tr>\n",
              "      <th>3</th>\n",
              "      <td>2019-12-02</td>\n",
              "      <td>1087537732</td>\n",
              "      <td>3.0</td>\n",
              "      <td>1</td>\n",
              "      <td>NaN</td>\n",
              "      <td>11479.008</td>\n",
              "      <td>2869.752</td>\n",
              "      <td>8900.00</td>\n",
              "      <td>2225.00</td>\n",
              "      <td>10438.84</td>\n",
              "      <td>2609.71</td>\n",
              "      <td>300.0</td>\n",
              "      <td>البنك الأهلي التجاري</td>\n",
              "      <td>2.0</td>\n",
              "      <td>confirmed</td>\n",
              "      <td>2020-07-11 17:14:46</td>\n",
              "      <td>الأهلي</td>\n",
              "      <td>4030001588</td>\n",
              "      <td>5.12</td>\n",
              "      <td>جده</td>\n",
              "      <td>941974.0</td>\n",
              "      <td>بنك البلاد</td>\n",
              "      <td>2019-12-02 14:54:11</td>\n",
              "      <td>makkah</td>\n",
              "      <td>jeddah</td>\n",
              "      <td>جدة - الديار العربية للتطوير العقاري - بوفاردي...</td>\n",
              "      <td>2</td>\n",
              "      <td>4030001588</td>\n",
              "      <td>2020-07-15</td>\n",
              "      <td>apartment</td>\n",
              "      <td>243.820000</td>\n",
              "      <td>636018.0</td>\n",
              "      <td>636018.0</td>\n",
              "      <td>Has Recommendations</td>\n",
              "      <td>26</td>\n",
              "      <td>2020</td>\n",
              "    </tr>\n",
              "    <tr>\n",
              "      <th>4</th>\n",
              "      <td>2020-04-04</td>\n",
              "      <td>1014312639</td>\n",
              "      <td>4.0</td>\n",
              "      <td>1</td>\n",
              "      <td>NaN</td>\n",
              "      <td>19366.400</td>\n",
              "      <td>4841.600</td>\n",
              "      <td>19800.00</td>\n",
              "      <td>600.00</td>\n",
              "      <td>19800.00</td>\n",
              "      <td>600.00</td>\n",
              "      <td>180.0</td>\n",
              "      <td>مصرف الراجحي</td>\n",
              "      <td>2.0</td>\n",
              "      <td>confirmed</td>\n",
              "      <td>2020-04-11 18:29:40</td>\n",
              "      <td>الراجحي</td>\n",
              "      <td>1010000096</td>\n",
              "      <td>3.75</td>\n",
              "      <td>أبها</td>\n",
              "      <td>1521909.0</td>\n",
              "      <td>بنك سامبا</td>\n",
              "      <td>2020-04-10 12:00:34</td>\n",
              "      <td>asir</td>\n",
              "      <td>abha</td>\n",
              "      <td>أبها - علي شار - تلال أبها</td>\n",
              "      <td>2</td>\n",
              "      <td>1010000096</td>\n",
              "      <td>2020-04-29</td>\n",
              "      <td>villa</td>\n",
              "      <td>500.000000</td>\n",
              "      <td>721527.0</td>\n",
              "      <td>721527.0</td>\n",
              "      <td>Has Recommendations</td>\n",
              "      <td>39</td>\n",
              "      <td>2020</td>\n",
              "    </tr>\n",
              "  </tbody>\n",
              "</table>\n",
              "</div>"
            ],
            "text/plain": [
              "  registration_date  national_id_map  ...  age  year\n",
              "0        2019-11-06       1026579472  ...   54  2020\n",
              "1        2020-04-28       1060165170  ...   44  2020\n",
              "2        2019-03-05       1005122906  ...   37  2020\n",
              "3        2019-12-02       1087537732  ...   26  2020\n",
              "4        2020-04-04       1014312639  ...   39  2020\n",
              "\n",
              "[5 rows x 36 columns]"
            ]
          },
          "metadata": {
            "tags": []
          },
          "execution_count": 21
        }
      ]
    },
    {
      "cell_type": "code",
      "metadata": {
        "id": "CoihpGyvtDyF"
      },
      "source": [
        "financial2 = financial2.loc[financial2['monthly_salary'].notna() * financial2['home_allowance'].notna() * financial2['financial_adv_salary'].notna() * financial2['financial_adv_home_allowance'].notna()]\n"
      ],
      "execution_count": null,
      "outputs": []
    },
    {
      "cell_type": "code",
      "metadata": {
        "id": "rCmlBnkhu-ko"
      },
      "source": [
        "calc = pd.read_excel('/content/drive/My Drive/حاسبة الصندوق (1).xlsx' , sheet_name='Tapering-Thresholds' , header=5 ).iloc[:, 4:]"
      ],
      "execution_count": null,
      "outputs": []
    },
    {
      "cell_type": "code",
      "metadata": {
        "id": "cyJvNIodMjMw"
      },
      "source": [
        "calc['Max_Subsidy_pct'] = 1"
      ],
      "execution_count": null,
      "outputs": []
    },
    {
      "cell_type": "code",
      "metadata": {
        "id": "gKqS9I_BMjJz"
      },
      "source": [
        "calc['Min_Subsidy_pct'] = 0.35"
      ],
      "execution_count": null,
      "outputs": []
    },
    {
      "cell_type": "code",
      "metadata": {
        "id": "yrPd1UE7rNhd"
      },
      "source": [
        "calc['average_rate'] = 0.057867/12"
      ],
      "execution_count": null,
      "outputs": []
    },
    {
      "cell_type": "code",
      "metadata": {
        "id": "USn26OWnr02z"
      },
      "source": [
        ""
      ],
      "execution_count": null,
      "outputs": []
    },
    {
      "cell_type": "code",
      "metadata": {
        "id": "lZ9VEDr0klJt"
      },
      "source": [
        "calc.drop(columns=['Quantile 1','Quantile 2','Quantile 3','Quantile 4','Quantile 5'],inplace=True)"
      ],
      "execution_count": null,
      "outputs": []
    },
    {
      "cell_type": "code",
      "metadata": {
        "id": "JTwF6LPZlF1G"
      },
      "source": [
        "financial2['family_size']=financial2['family_size'].replace(np.nan,0).astype('int')"
      ],
      "execution_count": null,
      "outputs": []
    },
    {
      "cell_type": "code",
      "metadata": {
        "id": "wlb9vEUYmd9v"
      },
      "source": [
        "financial2 ['API_salary'] = financial2 ['monthly_salary'] +financial2 ['home_allowance']"
      ],
      "execution_count": null,
      "outputs": []
    },
    {
      "cell_type": "code",
      "metadata": {
        "id": "NC1ZwmfRnsOx"
      },
      "source": [
        "financial2 ['fin_adv_salary'] = financial2 ['financial_adv_salary']+financial2 ['financial_adv_home_allowance']\n"
      ],
      "execution_count": null,
      "outputs": []
    },
    {
      "cell_type": "code",
      "metadata": {
        "id": "L2ar5TMStmPp"
      },
      "source": [
        "financial_main = financial2.loc[: ,['registration_date' , 'national_id_map' ,'family_size' , 'loan_period_in_month' , 'moh_price' ,'API_salary' , 'fin_adv_salary']]"
      ],
      "execution_count": null,
      "outputs": []
    },
    {
      "cell_type": "code",
      "metadata": {
        "id": "bB_IsvjWxrNp"
      },
      "source": [
        "financial_main['moh_price']  = np.where (financial_main['moh_price'] > 500000, 500000,financial_main['moh_price'])"
      ],
      "execution_count": null,
      "outputs": []
    },
    {
      "cell_type": "code",
      "metadata": {
        "id": "jArpYBnrleFO"
      },
      "source": [
        "financial_main = financial_main.merge(calc, how='left',right_on='HH Size' , left_on='family_size')"
      ],
      "execution_count": null,
      "outputs": []
    },
    {
      "cell_type": "code",
      "metadata": {
        "id": "VWB0qAz4oH2d",
        "outputId": "48b14b82-2c90-4c18-9a9d-c2341a60adf6",
        "colab": {
          "base_uri": "https://localhost:8080/",
          "height": 197
        }
      },
      "source": [
        "financial_main.head()"
      ],
      "execution_count": null,
      "outputs": [
        {
          "output_type": "execute_result",
          "data": {
            "text/html": [
              "<div>\n",
              "<style scoped>\n",
              "    .dataframe tbody tr th:only-of-type {\n",
              "        vertical-align: middle;\n",
              "    }\n",
              "\n",
              "    .dataframe tbody tr th {\n",
              "        vertical-align: top;\n",
              "    }\n",
              "\n",
              "    .dataframe thead th {\n",
              "        text-align: right;\n",
              "    }\n",
              "</style>\n",
              "<table border=\"1\" class=\"dataframe\">\n",
              "  <thead>\n",
              "    <tr style=\"text-align: right;\">\n",
              "      <th></th>\n",
              "      <th>registration_date</th>\n",
              "      <th>national_id_map</th>\n",
              "      <th>family_size</th>\n",
              "      <th>loan_period_in_month</th>\n",
              "      <th>moh_price</th>\n",
              "      <th>API_salary</th>\n",
              "      <th>fin_adv_salary</th>\n",
              "      <th>HH Size</th>\n",
              "      <th>Tapering Start</th>\n",
              "      <th>Tapering End</th>\n",
              "      <th>Max_Subsidy_pct</th>\n",
              "      <th>Min_Subsidy_pct</th>\n",
              "      <th>average_rate</th>\n",
              "    </tr>\n",
              "  </thead>\n",
              "  <tbody>\n",
              "    <tr>\n",
              "      <th>0</th>\n",
              "      <td>2020-04-28</td>\n",
              "      <td>1060165170</td>\n",
              "      <td>4</td>\n",
              "      <td>250.0</td>\n",
              "      <td>500000.0</td>\n",
              "      <td>12137.26</td>\n",
              "      <td>13637.42</td>\n",
              "      <td>4</td>\n",
              "      <td>14000.0</td>\n",
              "      <td>14880.225743</td>\n",
              "      <td>1</td>\n",
              "      <td>0.35</td>\n",
              "      <td>0.004822</td>\n",
              "    </tr>\n",
              "    <tr>\n",
              "      <th>1</th>\n",
              "      <td>2019-12-02</td>\n",
              "      <td>1087537732</td>\n",
              "      <td>3</td>\n",
              "      <td>300.0</td>\n",
              "      <td>500000.0</td>\n",
              "      <td>14348.76</td>\n",
              "      <td>13048.55</td>\n",
              "      <td>3</td>\n",
              "      <td>14000.0</td>\n",
              "      <td>14001.000000</td>\n",
              "      <td>1</td>\n",
              "      <td>0.35</td>\n",
              "      <td>0.004822</td>\n",
              "    </tr>\n",
              "    <tr>\n",
              "      <th>2</th>\n",
              "      <td>2020-04-04</td>\n",
              "      <td>1014312639</td>\n",
              "      <td>4</td>\n",
              "      <td>180.0</td>\n",
              "      <td>500000.0</td>\n",
              "      <td>24208.00</td>\n",
              "      <td>20400.00</td>\n",
              "      <td>4</td>\n",
              "      <td>14000.0</td>\n",
              "      <td>14880.225743</td>\n",
              "      <td>1</td>\n",
              "      <td>0.35</td>\n",
              "      <td>0.004822</td>\n",
              "    </tr>\n",
              "    <tr>\n",
              "      <th>3</th>\n",
              "      <td>2020-04-10</td>\n",
              "      <td>1012461453</td>\n",
              "      <td>7</td>\n",
              "      <td>300.0</td>\n",
              "      <td>500000.0</td>\n",
              "      <td>16185.19</td>\n",
              "      <td>17100.00</td>\n",
              "      <td>7</td>\n",
              "      <td>14000.0</td>\n",
              "      <td>21928.753726</td>\n",
              "      <td>1</td>\n",
              "      <td>0.35</td>\n",
              "      <td>0.004822</td>\n",
              "    </tr>\n",
              "    <tr>\n",
              "      <th>4</th>\n",
              "      <td>2019-11-08</td>\n",
              "      <td>1043366101</td>\n",
              "      <td>6</td>\n",
              "      <td>239.0</td>\n",
              "      <td>500000.0</td>\n",
              "      <td>8171.33</td>\n",
              "      <td>8200.00</td>\n",
              "      <td>6</td>\n",
              "      <td>14000.0</td>\n",
              "      <td>19579.244398</td>\n",
              "      <td>1</td>\n",
              "      <td>0.35</td>\n",
              "      <td>0.004822</td>\n",
              "    </tr>\n",
              "  </tbody>\n",
              "</table>\n",
              "</div>"
            ],
            "text/plain": [
              "  registration_date  national_id_map  ...  Min_Subsidy_pct  average_rate\n",
              "0        2020-04-28       1060165170  ...             0.35      0.004822\n",
              "1        2019-12-02       1087537732  ...             0.35      0.004822\n",
              "2        2020-04-04       1014312639  ...             0.35      0.004822\n",
              "3        2020-04-10       1012461453  ...             0.35      0.004822\n",
              "4        2019-11-08       1043366101  ...             0.35      0.004822\n",
              "\n",
              "[5 rows x 13 columns]"
            ]
          },
          "metadata": {
            "tags": []
          },
          "execution_count": 34
        }
      ]
    },
    {
      "cell_type": "code",
      "metadata": {
        "id": "NaQ4Wi54v75Z"
      },
      "source": [
        "financial_main['Monthly_Installment_before_Subsidy'] = -np.pmt(financial_main['average_rate'],financial_main['loan_period_in_month']\t,financial_main['moh_price'],)"
      ],
      "execution_count": null,
      "outputs": []
    },
    {
      "cell_type": "code",
      "metadata": {
        "id": "yPjPtv6OxO0Z",
        "outputId": "24508771-0660-4b7e-9656-1656dc40d749",
        "colab": {
          "base_uri": "https://localhost:8080/",
          "height": 443
        }
      },
      "source": [
        "financial_main"
      ],
      "execution_count": null,
      "outputs": [
        {
          "output_type": "execute_result",
          "data": {
            "text/html": [
              "<div>\n",
              "<style scoped>\n",
              "    .dataframe tbody tr th:only-of-type {\n",
              "        vertical-align: middle;\n",
              "    }\n",
              "\n",
              "    .dataframe tbody tr th {\n",
              "        vertical-align: top;\n",
              "    }\n",
              "\n",
              "    .dataframe thead th {\n",
              "        text-align: right;\n",
              "    }\n",
              "</style>\n",
              "<table border=\"1\" class=\"dataframe\">\n",
              "  <thead>\n",
              "    <tr style=\"text-align: right;\">\n",
              "      <th></th>\n",
              "      <th>registration_date</th>\n",
              "      <th>national_id_map</th>\n",
              "      <th>family_size</th>\n",
              "      <th>loan_period_in_month</th>\n",
              "      <th>moh_price</th>\n",
              "      <th>API_salary</th>\n",
              "      <th>fin_adv_salary</th>\n",
              "      <th>HH Size</th>\n",
              "      <th>Tapering Start</th>\n",
              "      <th>Tapering End</th>\n",
              "      <th>Max_Subsidy_pct</th>\n",
              "      <th>Min_Subsidy_pct</th>\n",
              "      <th>average_rate</th>\n",
              "      <th>Monthly_Installment_before_Subsidy</th>\n",
              "    </tr>\n",
              "  </thead>\n",
              "  <tbody>\n",
              "    <tr>\n",
              "      <th>0</th>\n",
              "      <td>2020-04-28</td>\n",
              "      <td>1060165170</td>\n",
              "      <td>4</td>\n",
              "      <td>250.0</td>\n",
              "      <td>500000.0</td>\n",
              "      <td>12137.26</td>\n",
              "      <td>13637.42</td>\n",
              "      <td>4</td>\n",
              "      <td>14000.0</td>\n",
              "      <td>14880.225743</td>\n",
              "      <td>1</td>\n",
              "      <td>0.35</td>\n",
              "      <td>0.004822</td>\n",
              "      <td>3446.397139</td>\n",
              "    </tr>\n",
              "    <tr>\n",
              "      <th>1</th>\n",
              "      <td>2019-12-02</td>\n",
              "      <td>1087537732</td>\n",
              "      <td>3</td>\n",
              "      <td>300.0</td>\n",
              "      <td>500000.0</td>\n",
              "      <td>14348.76</td>\n",
              "      <td>13048.55</td>\n",
              "      <td>3</td>\n",
              "      <td>14000.0</td>\n",
              "      <td>14001.000000</td>\n",
              "      <td>1</td>\n",
              "      <td>0.35</td>\n",
              "      <td>0.004822</td>\n",
              "      <td>3156.630373</td>\n",
              "    </tr>\n",
              "    <tr>\n",
              "      <th>2</th>\n",
              "      <td>2020-04-04</td>\n",
              "      <td>1014312639</td>\n",
              "      <td>4</td>\n",
              "      <td>180.0</td>\n",
              "      <td>500000.0</td>\n",
              "      <td>24208.00</td>\n",
              "      <td>20400.00</td>\n",
              "      <td>4</td>\n",
              "      <td>14000.0</td>\n",
              "      <td>14880.225743</td>\n",
              "      <td>1</td>\n",
              "      <td>0.35</td>\n",
              "      <td>0.004822</td>\n",
              "      <td>4161.882830</td>\n",
              "    </tr>\n",
              "    <tr>\n",
              "      <th>3</th>\n",
              "      <td>2020-04-10</td>\n",
              "      <td>1012461453</td>\n",
              "      <td>7</td>\n",
              "      <td>300.0</td>\n",
              "      <td>500000.0</td>\n",
              "      <td>16185.19</td>\n",
              "      <td>17100.00</td>\n",
              "      <td>7</td>\n",
              "      <td>14000.0</td>\n",
              "      <td>21928.753726</td>\n",
              "      <td>1</td>\n",
              "      <td>0.35</td>\n",
              "      <td>0.004822</td>\n",
              "      <td>3156.630373</td>\n",
              "    </tr>\n",
              "    <tr>\n",
              "      <th>4</th>\n",
              "      <td>2019-11-08</td>\n",
              "      <td>1043366101</td>\n",
              "      <td>6</td>\n",
              "      <td>239.0</td>\n",
              "      <td>500000.0</td>\n",
              "      <td>8171.33</td>\n",
              "      <td>8200.00</td>\n",
              "      <td>6</td>\n",
              "      <td>14000.0</td>\n",
              "      <td>19579.244398</td>\n",
              "      <td>1</td>\n",
              "      <td>0.35</td>\n",
              "      <td>0.004822</td>\n",
              "      <td>3528.733669</td>\n",
              "    </tr>\n",
              "    <tr>\n",
              "      <th>...</th>\n",
              "      <td>...</td>\n",
              "      <td>...</td>\n",
              "      <td>...</td>\n",
              "      <td>...</td>\n",
              "      <td>...</td>\n",
              "      <td>...</td>\n",
              "      <td>...</td>\n",
              "      <td>...</td>\n",
              "      <td>...</td>\n",
              "      <td>...</td>\n",
              "      <td>...</td>\n",
              "      <td>...</td>\n",
              "      <td>...</td>\n",
              "      <td>...</td>\n",
              "    </tr>\n",
              "    <tr>\n",
              "      <th>18445</th>\n",
              "      <td>2020-05-08</td>\n",
              "      <td>1022835985</td>\n",
              "      <td>5</td>\n",
              "      <td>64.0</td>\n",
              "      <td>355500.0</td>\n",
              "      <td>18632.14</td>\n",
              "      <td>16506.00</td>\n",
              "      <td>5</td>\n",
              "      <td>14000.0</td>\n",
              "      <td>17229.735070</td>\n",
              "      <td>1</td>\n",
              "      <td>0.35</td>\n",
              "      <td>0.004822</td>\n",
              "      <td>6469.139212</td>\n",
              "    </tr>\n",
              "    <tr>\n",
              "      <th>18446</th>\n",
              "      <td>2019-12-02</td>\n",
              "      <td>1087537732</td>\n",
              "      <td>3</td>\n",
              "      <td>300.0</td>\n",
              "      <td>500000.0</td>\n",
              "      <td>14348.76</td>\n",
              "      <td>13048.55</td>\n",
              "      <td>3</td>\n",
              "      <td>14000.0</td>\n",
              "      <td>14001.000000</td>\n",
              "      <td>1</td>\n",
              "      <td>0.35</td>\n",
              "      <td>0.004822</td>\n",
              "      <td>3156.630373</td>\n",
              "    </tr>\n",
              "    <tr>\n",
              "      <th>18447</th>\n",
              "      <td>2019-07-22</td>\n",
              "      <td>1071755381</td>\n",
              "      <td>2</td>\n",
              "      <td>228.0</td>\n",
              "      <td>500000.0</td>\n",
              "      <td>20250.00</td>\n",
              "      <td>25000.00</td>\n",
              "      <td>2</td>\n",
              "      <td>14000.0</td>\n",
              "      <td>14001.000000</td>\n",
              "      <td>1</td>\n",
              "      <td>0.35</td>\n",
              "      <td>0.004822</td>\n",
              "      <td>3619.915292</td>\n",
              "    </tr>\n",
              "    <tr>\n",
              "      <th>18448</th>\n",
              "      <td>2020-02-27</td>\n",
              "      <td>1007272055</td>\n",
              "      <td>4</td>\n",
              "      <td>240.0</td>\n",
              "      <td>500000.0</td>\n",
              "      <td>25490.00</td>\n",
              "      <td>26510.00</td>\n",
              "      <td>4</td>\n",
              "      <td>14000.0</td>\n",
              "      <td>14880.225743</td>\n",
              "      <td>1</td>\n",
              "      <td>0.35</td>\n",
              "      <td>0.004822</td>\n",
              "      <td>3520.901458</td>\n",
              "    </tr>\n",
              "    <tr>\n",
              "      <th>18449</th>\n",
              "      <td>2019-08-27</td>\n",
              "      <td>1031714007</td>\n",
              "      <td>1</td>\n",
              "      <td>300.0</td>\n",
              "      <td>500000.0</td>\n",
              "      <td>14985.00</td>\n",
              "      <td>13900.00</td>\n",
              "      <td>1</td>\n",
              "      <td>14000.0</td>\n",
              "      <td>14001.000000</td>\n",
              "      <td>1</td>\n",
              "      <td>0.35</td>\n",
              "      <td>0.004822</td>\n",
              "      <td>3156.630373</td>\n",
              "    </tr>\n",
              "  </tbody>\n",
              "</table>\n",
              "<p>18450 rows × 14 columns</p>\n",
              "</div>"
            ],
            "text/plain": [
              "      registration_date  ...  Monthly_Installment_before_Subsidy\n",
              "0            2020-04-28  ...                         3446.397139\n",
              "1            2019-12-02  ...                         3156.630373\n",
              "2            2020-04-04  ...                         4161.882830\n",
              "3            2020-04-10  ...                         3156.630373\n",
              "4            2019-11-08  ...                         3528.733669\n",
              "...                 ...  ...                                 ...\n",
              "18445        2020-05-08  ...                         6469.139212\n",
              "18446        2019-12-02  ...                         3156.630373\n",
              "18447        2019-07-22  ...                         3619.915292\n",
              "18448        2020-02-27  ...                         3520.901458\n",
              "18449        2019-08-27  ...                         3156.630373\n",
              "\n",
              "[18450 rows x 14 columns]"
            ]
          },
          "metadata": {
            "tags": []
          },
          "execution_count": 36
        }
      ]
    },
    {
      "cell_type": "code",
      "metadata": {
        "id": "SrKEVBfHxXqi"
      },
      "source": [
        "financial_main['loan+profit'] = financial_main['Monthly_Installment_before_Subsidy']*financial_main['loan_period_in_month']"
      ],
      "execution_count": null,
      "outputs": []
    },
    {
      "cell_type": "code",
      "metadata": {
        "id": "IoL9_YuZxkrM"
      },
      "source": [
        "financial_main['tot_profit'] = financial_main['loan+profit'] - financial_main['moh_price']  "
      ],
      "execution_count": null,
      "outputs": []
    },
    {
      "cell_type": "code",
      "metadata": {
        "id": "V_DTaSwnx6rA"
      },
      "source": [
        "pd.set_option('display.float_format', lambda x: '%.5f' % x)\n",
        "\n"
      ],
      "execution_count": null,
      "outputs": []
    },
    {
      "cell_type": "code",
      "metadata": {
        "id": "QTeHYl-0zCSb",
        "outputId": "7f77f727-d68c-4f05-9031-f75a50b735cc",
        "colab": {
          "base_uri": "https://localhost:8080/",
          "height": 234
        }
      },
      "source": [
        "financial_main.head()"
      ],
      "execution_count": null,
      "outputs": [
        {
          "output_type": "execute_result",
          "data": {
            "text/html": [
              "<div>\n",
              "<style scoped>\n",
              "    .dataframe tbody tr th:only-of-type {\n",
              "        vertical-align: middle;\n",
              "    }\n",
              "\n",
              "    .dataframe tbody tr th {\n",
              "        vertical-align: top;\n",
              "    }\n",
              "\n",
              "    .dataframe thead th {\n",
              "        text-align: right;\n",
              "    }\n",
              "</style>\n",
              "<table border=\"1\" class=\"dataframe\">\n",
              "  <thead>\n",
              "    <tr style=\"text-align: right;\">\n",
              "      <th></th>\n",
              "      <th>registration_date</th>\n",
              "      <th>national_id_map</th>\n",
              "      <th>family_size</th>\n",
              "      <th>loan_period_in_month</th>\n",
              "      <th>moh_price</th>\n",
              "      <th>API_salary</th>\n",
              "      <th>fin_adv_salary</th>\n",
              "      <th>HH Size</th>\n",
              "      <th>Tapering Start</th>\n",
              "      <th>Tapering End</th>\n",
              "      <th>Max_Subsidy_pct</th>\n",
              "      <th>Min_Subsidy_pct</th>\n",
              "      <th>average_rate</th>\n",
              "      <th>Monthly_Installment_before_Subsidy</th>\n",
              "      <th>loan+profit</th>\n",
              "      <th>tot_profit</th>\n",
              "    </tr>\n",
              "  </thead>\n",
              "  <tbody>\n",
              "    <tr>\n",
              "      <th>0</th>\n",
              "      <td>2020-04-28</td>\n",
              "      <td>1060165170</td>\n",
              "      <td>4</td>\n",
              "      <td>250.00000</td>\n",
              "      <td>500000.00000</td>\n",
              "      <td>12137.26000</td>\n",
              "      <td>13637.42000</td>\n",
              "      <td>4</td>\n",
              "      <td>14000.00000</td>\n",
              "      <td>14880.22574</td>\n",
              "      <td>1</td>\n",
              "      <td>0.35000</td>\n",
              "      <td>0.00482</td>\n",
              "      <td>3446.39714</td>\n",
              "      <td>861599.28484</td>\n",
              "      <td>361599.28484</td>\n",
              "    </tr>\n",
              "    <tr>\n",
              "      <th>1</th>\n",
              "      <td>2019-12-02</td>\n",
              "      <td>1087537732</td>\n",
              "      <td>3</td>\n",
              "      <td>300.00000</td>\n",
              "      <td>500000.00000</td>\n",
              "      <td>14348.76000</td>\n",
              "      <td>13048.55000</td>\n",
              "      <td>3</td>\n",
              "      <td>14000.00000</td>\n",
              "      <td>14001.00000</td>\n",
              "      <td>1</td>\n",
              "      <td>0.35000</td>\n",
              "      <td>0.00482</td>\n",
              "      <td>3156.63037</td>\n",
              "      <td>946989.11176</td>\n",
              "      <td>446989.11176</td>\n",
              "    </tr>\n",
              "    <tr>\n",
              "      <th>2</th>\n",
              "      <td>2020-04-04</td>\n",
              "      <td>1014312639</td>\n",
              "      <td>4</td>\n",
              "      <td>180.00000</td>\n",
              "      <td>500000.00000</td>\n",
              "      <td>24208.00000</td>\n",
              "      <td>20400.00000</td>\n",
              "      <td>4</td>\n",
              "      <td>14000.00000</td>\n",
              "      <td>14880.22574</td>\n",
              "      <td>1</td>\n",
              "      <td>0.35000</td>\n",
              "      <td>0.00482</td>\n",
              "      <td>4161.88283</td>\n",
              "      <td>749138.90935</td>\n",
              "      <td>249138.90935</td>\n",
              "    </tr>\n",
              "    <tr>\n",
              "      <th>3</th>\n",
              "      <td>2020-04-10</td>\n",
              "      <td>1012461453</td>\n",
              "      <td>7</td>\n",
              "      <td>300.00000</td>\n",
              "      <td>500000.00000</td>\n",
              "      <td>16185.19000</td>\n",
              "      <td>17100.00000</td>\n",
              "      <td>7</td>\n",
              "      <td>14000.00000</td>\n",
              "      <td>21928.75373</td>\n",
              "      <td>1</td>\n",
              "      <td>0.35000</td>\n",
              "      <td>0.00482</td>\n",
              "      <td>3156.63037</td>\n",
              "      <td>946989.11176</td>\n",
              "      <td>446989.11176</td>\n",
              "    </tr>\n",
              "    <tr>\n",
              "      <th>4</th>\n",
              "      <td>2019-11-08</td>\n",
              "      <td>1043366101</td>\n",
              "      <td>6</td>\n",
              "      <td>239.00000</td>\n",
              "      <td>500000.00000</td>\n",
              "      <td>8171.33000</td>\n",
              "      <td>8200.00000</td>\n",
              "      <td>6</td>\n",
              "      <td>14000.00000</td>\n",
              "      <td>19579.24440</td>\n",
              "      <td>1</td>\n",
              "      <td>0.35000</td>\n",
              "      <td>0.00482</td>\n",
              "      <td>3528.73367</td>\n",
              "      <td>843367.34682</td>\n",
              "      <td>343367.34682</td>\n",
              "    </tr>\n",
              "  </tbody>\n",
              "</table>\n",
              "</div>"
            ],
            "text/plain": [
              "  registration_date  national_id_map  ...  loan+profit   tot_profit\n",
              "0        2020-04-28       1060165170  ... 861599.28484 361599.28484\n",
              "1        2019-12-02       1087537732  ... 946989.11176 446989.11176\n",
              "2        2020-04-04       1014312639  ... 749138.90935 249138.90935\n",
              "3        2020-04-10       1012461453  ... 946989.11176 446989.11176\n",
              "4        2019-11-08       1043366101  ... 843367.34682 343367.34682\n",
              "\n",
              "[5 rows x 16 columns]"
            ]
          },
          "metadata": {
            "tags": []
          },
          "execution_count": 40
        }
      ]
    },
    {
      "cell_type": "code",
      "metadata": {
        "id": "HubgO9A4IrE4"
      },
      "source": [
        ""
      ],
      "execution_count": null,
      "outputs": []
    },
    {
      "cell_type": "code",
      "metadata": {
        "id": "sI7u_luuzPvk"
      },
      "source": [
        "financial_main['max_subsidy'] = financial_main['tot_profit']*1\n",
        "financial_main['min_subsidy'] = financial_main['tot_profit']*0.35\n"
      ],
      "execution_count": null,
      "outputs": []
    },
    {
      "cell_type": "code",
      "metadata": {
        "id": "t3lO9Bw1zY0q",
        "outputId": "a79f6edf-b1b2-4678-f0ea-fc0a712b3dfb",
        "colab": {
          "base_uri": "https://localhost:8080/",
          "height": 33
        }
      },
      "source": [
        "financial_main.shape\n"
      ],
      "execution_count": null,
      "outputs": [
        {
          "output_type": "execute_result",
          "data": {
            "text/plain": [
              "(18450, 18)"
            ]
          },
          "metadata": {
            "tags": []
          },
          "execution_count": 42
        }
      ]
    },
    {
      "cell_type": "code",
      "metadata": {
        "id": "0vBLkfgDzczF"
      },
      "source": [
        "financial_main.drop_duplicates(inplace=True)"
      ],
      "execution_count": null,
      "outputs": []
    },
    {
      "cell_type": "code",
      "metadata": {
        "id": "6MuthBO5Isj2"
      },
      "source": [
        "#financial_main = financial_main.loc[(financial_main['API_salary'] > 0)  , :]"
      ],
      "execution_count": null,
      "outputs": []
    },
    {
      "cell_type": "code",
      "metadata": {
        "id": "KnXtGwJUA58R",
        "outputId": "40d68e8f-05b3-4f71-d2f5-e47380b47d31",
        "colab": {
          "base_uri": "https://localhost:8080/",
          "height": 33
        }
      },
      "source": [
        "len(set(financial_main['national_id_map']))"
      ],
      "execution_count": null,
      "outputs": [
        {
          "output_type": "execute_result",
          "data": {
            "text/plain": [
              "1935"
            ]
          },
          "metadata": {
            "tags": []
          },
          "execution_count": 45
        }
      ]
    },
    {
      "cell_type": "code",
      "metadata": {
        "id": "eYzLZOJFzpSu",
        "outputId": "27045279-621c-4f62-eb8b-706f2845b28c",
        "colab": {
          "base_uri": "https://localhost:8080/",
          "height": 33
        }
      },
      "source": [
        "pd.isna(financial_main['API_salary']).sum()"
      ],
      "execution_count": null,
      "outputs": [
        {
          "output_type": "execute_result",
          "data": {
            "text/plain": [
              "0"
            ]
          },
          "metadata": {
            "tags": []
          },
          "execution_count": 46
        }
      ]
    },
    {
      "cell_type": "code",
      "metadata": {
        "id": "LBc24-YlRABu"
      },
      "source": [
        ""
      ],
      "execution_count": null,
      "outputs": []
    },
    {
      "cell_type": "code",
      "metadata": {
        "id": "tNyGJG-I2Udo"
      },
      "source": [
        "financial_main['mid_api'] = (financial_main['API_salary'] - financial_main['Tapering Start'])*((financial_main['max_subsidy'] - financial_main['min_subsidy']) / (financial_main['Tapering End'] - financial_main['Tapering Start']))"
      ],
      "execution_count": null,
      "outputs": []
    },
    {
      "cell_type": "code",
      "metadata": {
        "id": "noH2dwfpf_DP"
      },
      "source": [
        "financial_main['mid_adv'] = (financial_main['fin_adv_salary'] - financial_main['Tapering Start'])*((financial_main['max_subsidy'] - financial_main['min_subsidy']) / (financial_main['Tapering End'] - financial_main['Tapering Start']))"
      ],
      "execution_count": null,
      "outputs": []
    },
    {
      "cell_type": "code",
      "metadata": {
        "id": "2P4ySbZA0AxF"
      },
      "source": [
        "financial_main['less_sub_adv'] = np.where (financial_main['fin_adv_salary'] <= financial_main['Tapering Start'] , financial_main['max_subsidy'],0)"
      ],
      "execution_count": null,
      "outputs": []
    },
    {
      "cell_type": "code",
      "metadata": {
        "id": "K_Ne3W8E2Myp"
      },
      "source": [
        "financial_main['more_sub_adv'] = np.where (financial_main['fin_adv_salary'] > financial_main['Tapering Start'] , financial_main['max_subsidy'] - financial_main['mid_adv'] ,0)"
      ],
      "execution_count": null,
      "outputs": []
    },
    {
      "cell_type": "code",
      "metadata": {
        "id": "KB8HoI6S3Tsm"
      },
      "source": [
        "financial_main['total_sub_adv'] =financial_main[[\"less_sub_adv\", \"more_sub_adv\" , \"min_subsidy\"]].max(axis=1)"
      ],
      "execution_count": null,
      "outputs": []
    },
    {
      "cell_type": "code",
      "metadata": {
        "id": "0LhJnSC63jQI",
        "outputId": "166363fb-3973-404f-ca0a-50923df59e2b",
        "colab": {
          "base_uri": "https://localhost:8080/",
          "height": 234
        }
      },
      "source": [
        "financial_main.head()"
      ],
      "execution_count": null,
      "outputs": [
        {
          "output_type": "execute_result",
          "data": {
            "text/html": [
              "<div>\n",
              "<style scoped>\n",
              "    .dataframe tbody tr th:only-of-type {\n",
              "        vertical-align: middle;\n",
              "    }\n",
              "\n",
              "    .dataframe tbody tr th {\n",
              "        vertical-align: top;\n",
              "    }\n",
              "\n",
              "    .dataframe thead th {\n",
              "        text-align: right;\n",
              "    }\n",
              "</style>\n",
              "<table border=\"1\" class=\"dataframe\">\n",
              "  <thead>\n",
              "    <tr style=\"text-align: right;\">\n",
              "      <th></th>\n",
              "      <th>registration_date</th>\n",
              "      <th>national_id_map</th>\n",
              "      <th>family_size</th>\n",
              "      <th>loan_period_in_month</th>\n",
              "      <th>moh_price</th>\n",
              "      <th>API_salary</th>\n",
              "      <th>fin_adv_salary</th>\n",
              "      <th>HH Size</th>\n",
              "      <th>Tapering Start</th>\n",
              "      <th>Tapering End</th>\n",
              "      <th>Max_Subsidy_pct</th>\n",
              "      <th>Min_Subsidy_pct</th>\n",
              "      <th>average_rate</th>\n",
              "      <th>Monthly_Installment_before_Subsidy</th>\n",
              "      <th>loan+profit</th>\n",
              "      <th>tot_profit</th>\n",
              "      <th>max_subsidy</th>\n",
              "      <th>min_subsidy</th>\n",
              "      <th>mid_api</th>\n",
              "      <th>mid_adv</th>\n",
              "      <th>less_sub_adv</th>\n",
              "      <th>more_sub_adv</th>\n",
              "      <th>total_sub_adv</th>\n",
              "    </tr>\n",
              "  </thead>\n",
              "  <tbody>\n",
              "    <tr>\n",
              "      <th>0</th>\n",
              "      <td>2020-04-28</td>\n",
              "      <td>1060165170</td>\n",
              "      <td>4</td>\n",
              "      <td>250.00000</td>\n",
              "      <td>500000.00000</td>\n",
              "      <td>12137.26000</td>\n",
              "      <td>13637.42000</td>\n",
              "      <td>4</td>\n",
              "      <td>14000.00000</td>\n",
              "      <td>14880.22574</td>\n",
              "      <td>1</td>\n",
              "      <td>0.35000</td>\n",
              "      <td>0.00482</td>\n",
              "      <td>3446.39714</td>\n",
              "      <td>861599.28484</td>\n",
              "      <td>361599.28484</td>\n",
              "      <td>361599.28484</td>\n",
              "      <td>126559.74969</td>\n",
              "      <td>-497392.34206</td>\n",
              "      <td>-96816.79428</td>\n",
              "      <td>361599.28484</td>\n",
              "      <td>0.00000</td>\n",
              "      <td>361599.28484</td>\n",
              "    </tr>\n",
              "    <tr>\n",
              "      <th>1</th>\n",
              "      <td>2019-12-02</td>\n",
              "      <td>1087537732</td>\n",
              "      <td>3</td>\n",
              "      <td>300.00000</td>\n",
              "      <td>500000.00000</td>\n",
              "      <td>14348.76000</td>\n",
              "      <td>13048.55000</td>\n",
              "      <td>3</td>\n",
              "      <td>14000.00000</td>\n",
              "      <td>14001.00000</td>\n",
              "      <td>1</td>\n",
              "      <td>0.35000</td>\n",
              "      <td>0.00482</td>\n",
              "      <td>3156.63037</td>\n",
              "      <td>946989.11176</td>\n",
              "      <td>446989.11176</td>\n",
              "      <td>446989.11176</td>\n",
              "      <td>156446.18911</td>\n",
              "      <td>101329749.70067</td>\n",
              "      <td>-276437063.74785</td>\n",
              "      <td>446989.11176</td>\n",
              "      <td>0.00000</td>\n",
              "      <td>446989.11176</td>\n",
              "    </tr>\n",
              "    <tr>\n",
              "      <th>2</th>\n",
              "      <td>2020-04-04</td>\n",
              "      <td>1014312639</td>\n",
              "      <td>4</td>\n",
              "      <td>180.00000</td>\n",
              "      <td>500000.00000</td>\n",
              "      <td>24208.00000</td>\n",
              "      <td>20400.00000</td>\n",
              "      <td>4</td>\n",
              "      <td>14000.00000</td>\n",
              "      <td>14880.22574</td>\n",
              "      <td>1</td>\n",
              "      <td>0.35000</td>\n",
              "      <td>0.00482</td>\n",
              "      <td>4161.88283</td>\n",
              "      <td>749138.90935</td>\n",
              "      <td>249138.90935</td>\n",
              "      <td>249138.90935</td>\n",
              "      <td>87198.61827</td>\n",
              "      <td>1878025.61450</td>\n",
              "      <td>1177445.52633</td>\n",
              "      <td>0.00000</td>\n",
              "      <td>-928306.61698</td>\n",
              "      <td>87198.61827</td>\n",
              "    </tr>\n",
              "    <tr>\n",
              "      <th>3</th>\n",
              "      <td>2020-04-10</td>\n",
              "      <td>1012461453</td>\n",
              "      <td>7</td>\n",
              "      <td>300.00000</td>\n",
              "      <td>500000.00000</td>\n",
              "      <td>16185.19000</td>\n",
              "      <td>17100.00000</td>\n",
              "      <td>7</td>\n",
              "      <td>14000.00000</td>\n",
              "      <td>21928.75373</td>\n",
              "      <td>1</td>\n",
              "      <td>0.35000</td>\n",
              "      <td>0.00482</td>\n",
              "      <td>3156.63037</td>\n",
              "      <td>946989.11176</td>\n",
              "      <td>446989.11176</td>\n",
              "      <td>446989.11176</td>\n",
              "      <td>156446.18911</td>\n",
              "      <td>80074.56292</td>\n",
              "      <td>113597.05337</td>\n",
              "      <td>0.00000</td>\n",
              "      <td>333392.05839</td>\n",
              "      <td>333392.05839</td>\n",
              "    </tr>\n",
              "    <tr>\n",
              "      <th>4</th>\n",
              "      <td>2019-11-08</td>\n",
              "      <td>1043366101</td>\n",
              "      <td>6</td>\n",
              "      <td>239.00000</td>\n",
              "      <td>500000.00000</td>\n",
              "      <td>8171.33000</td>\n",
              "      <td>8200.00000</td>\n",
              "      <td>6</td>\n",
              "      <td>14000.00000</td>\n",
              "      <td>19579.24440</td>\n",
              "      <td>1</td>\n",
              "      <td>0.35000</td>\n",
              "      <td>0.00482</td>\n",
              "      <td>3528.73367</td>\n",
              "      <td>843367.34682</td>\n",
              "      <td>343367.34682</td>\n",
              "      <td>343367.34682</td>\n",
              "      <td>120178.57139</td>\n",
              "      <td>-233166.64889</td>\n",
              "      <td>-232019.75126</td>\n",
              "      <td>343367.34682</td>\n",
              "      <td>0.00000</td>\n",
              "      <td>343367.34682</td>\n",
              "    </tr>\n",
              "  </tbody>\n",
              "</table>\n",
              "</div>"
            ],
            "text/plain": [
              "  registration_date  national_id_map  ...  more_sub_adv  total_sub_adv\n",
              "0        2020-04-28       1060165170  ...       0.00000   361599.28484\n",
              "1        2019-12-02       1087537732  ...       0.00000   446989.11176\n",
              "2        2020-04-04       1014312639  ... -928306.61698    87198.61827\n",
              "3        2020-04-10       1012461453  ...  333392.05839   333392.05839\n",
              "4        2019-11-08       1043366101  ...       0.00000   343367.34682\n",
              "\n",
              "[5 rows x 23 columns]"
            ]
          },
          "metadata": {
            "tags": []
          },
          "execution_count": 52
        }
      ]
    },
    {
      "cell_type": "code",
      "metadata": {
        "id": "T0FQ7oGJQehU",
        "outputId": "985de91c-311a-4df3-8dcc-d5fbe0d0c11f",
        "colab": {
          "base_uri": "https://localhost:8080/",
          "height": 216
        }
      },
      "source": [
        "financial_main['moh_price'].value_counts()"
      ],
      "execution_count": null,
      "outputs": [
        {
          "output_type": "execute_result",
          "data": {
            "text/plain": [
              "500000.00000    1715\n",
              "499867.00000      20\n",
              "499900.00000      18\n",
              "494613.00000      16\n",
              "496000.00000      14\n",
              "                ... \n",
              "390128.00000       1\n",
              "492261.76074       1\n",
              "490027.00000       1\n",
              "305696.00000       1\n",
              "490102.70354       1\n",
              "Name: moh_price, Length: 74, dtype: int64"
            ]
          },
          "metadata": {
            "tags": []
          },
          "execution_count": 53
        }
      ]
    },
    {
      "cell_type": "code",
      "metadata": {
        "id": "BnssnTaFBTUb"
      },
      "source": [
        ""
      ],
      "execution_count": null,
      "outputs": []
    },
    {
      "cell_type": "code",
      "metadata": {
        "id": "GXz2yv6EBTj4"
      },
      "source": [
        "financial_main['less_sub_api'] = np.where (financial_main['API_salary'] <= financial_main['Tapering Start'] , financial_main['max_subsidy'],0)"
      ],
      "execution_count": null,
      "outputs": []
    },
    {
      "cell_type": "code",
      "metadata": {
        "id": "EAfUSvNdBTj6"
      },
      "source": [
        "financial_main['more_sub_api'] = np.where (financial_main['API_salary'] > financial_main['Tapering Start'] , financial_main['max_subsidy'] - financial_main['mid_api'] ,0)"
      ],
      "execution_count": null,
      "outputs": []
    },
    {
      "cell_type": "code",
      "metadata": {
        "id": "8P4CNZy9BTj7"
      },
      "source": [
        "financial_main['total_sub_api'] =financial_main[[\"more_sub_api\", \"less_sub_api\" , \"min_subsidy\"]].max(axis=1)"
      ],
      "execution_count": null,
      "outputs": []
    },
    {
      "cell_type": "code",
      "metadata": {
        "id": "bbh6MDJ0Av2r",
        "outputId": "f313d213-85bf-43f1-d893-057a9d2f1f97",
        "colab": {
          "base_uri": "https://localhost:8080/",
          "height": 443
        }
      },
      "source": [
        "financial_main"
      ],
      "execution_count": null,
      "outputs": [
        {
          "output_type": "execute_result",
          "data": {
            "text/html": [
              "<div>\n",
              "<style scoped>\n",
              "    .dataframe tbody tr th:only-of-type {\n",
              "        vertical-align: middle;\n",
              "    }\n",
              "\n",
              "    .dataframe tbody tr th {\n",
              "        vertical-align: top;\n",
              "    }\n",
              "\n",
              "    .dataframe thead th {\n",
              "        text-align: right;\n",
              "    }\n",
              "</style>\n",
              "<table border=\"1\" class=\"dataframe\">\n",
              "  <thead>\n",
              "    <tr style=\"text-align: right;\">\n",
              "      <th></th>\n",
              "      <th>registration_date</th>\n",
              "      <th>national_id_map</th>\n",
              "      <th>family_size</th>\n",
              "      <th>loan_period_in_month</th>\n",
              "      <th>moh_price</th>\n",
              "      <th>API_salary</th>\n",
              "      <th>fin_adv_salary</th>\n",
              "      <th>HH Size</th>\n",
              "      <th>Tapering Start</th>\n",
              "      <th>Tapering End</th>\n",
              "      <th>Max_Subsidy_pct</th>\n",
              "      <th>Min_Subsidy_pct</th>\n",
              "      <th>average_rate</th>\n",
              "      <th>Monthly_Installment_before_Subsidy</th>\n",
              "      <th>loan+profit</th>\n",
              "      <th>tot_profit</th>\n",
              "      <th>max_subsidy</th>\n",
              "      <th>min_subsidy</th>\n",
              "      <th>mid_api</th>\n",
              "      <th>mid_adv</th>\n",
              "      <th>less_sub_adv</th>\n",
              "      <th>more_sub_adv</th>\n",
              "      <th>total_sub_adv</th>\n",
              "      <th>less_sub_api</th>\n",
              "      <th>more_sub_api</th>\n",
              "      <th>total_sub_api</th>\n",
              "    </tr>\n",
              "  </thead>\n",
              "  <tbody>\n",
              "    <tr>\n",
              "      <th>0</th>\n",
              "      <td>2020-04-28</td>\n",
              "      <td>1060165170</td>\n",
              "      <td>4</td>\n",
              "      <td>250.00000</td>\n",
              "      <td>500000.00000</td>\n",
              "      <td>12137.26000</td>\n",
              "      <td>13637.42000</td>\n",
              "      <td>4</td>\n",
              "      <td>14000.00000</td>\n",
              "      <td>14880.22574</td>\n",
              "      <td>1</td>\n",
              "      <td>0.35000</td>\n",
              "      <td>0.00482</td>\n",
              "      <td>3446.39714</td>\n",
              "      <td>861599.28484</td>\n",
              "      <td>361599.28484</td>\n",
              "      <td>361599.28484</td>\n",
              "      <td>126559.74969</td>\n",
              "      <td>-497392.34206</td>\n",
              "      <td>-96816.79428</td>\n",
              "      <td>361599.28484</td>\n",
              "      <td>0.00000</td>\n",
              "      <td>361599.28484</td>\n",
              "      <td>361599.28484</td>\n",
              "      <td>0.00000</td>\n",
              "      <td>361599.28484</td>\n",
              "    </tr>\n",
              "    <tr>\n",
              "      <th>1</th>\n",
              "      <td>2019-12-02</td>\n",
              "      <td>1087537732</td>\n",
              "      <td>3</td>\n",
              "      <td>300.00000</td>\n",
              "      <td>500000.00000</td>\n",
              "      <td>14348.76000</td>\n",
              "      <td>13048.55000</td>\n",
              "      <td>3</td>\n",
              "      <td>14000.00000</td>\n",
              "      <td>14001.00000</td>\n",
              "      <td>1</td>\n",
              "      <td>0.35000</td>\n",
              "      <td>0.00482</td>\n",
              "      <td>3156.63037</td>\n",
              "      <td>946989.11176</td>\n",
              "      <td>446989.11176</td>\n",
              "      <td>446989.11176</td>\n",
              "      <td>156446.18911</td>\n",
              "      <td>101329749.70067</td>\n",
              "      <td>-276437063.74785</td>\n",
              "      <td>446989.11176</td>\n",
              "      <td>0.00000</td>\n",
              "      <td>446989.11176</td>\n",
              "      <td>0.00000</td>\n",
              "      <td>-100882760.58891</td>\n",
              "      <td>156446.18911</td>\n",
              "    </tr>\n",
              "    <tr>\n",
              "      <th>2</th>\n",
              "      <td>2020-04-04</td>\n",
              "      <td>1014312639</td>\n",
              "      <td>4</td>\n",
              "      <td>180.00000</td>\n",
              "      <td>500000.00000</td>\n",
              "      <td>24208.00000</td>\n",
              "      <td>20400.00000</td>\n",
              "      <td>4</td>\n",
              "      <td>14000.00000</td>\n",
              "      <td>14880.22574</td>\n",
              "      <td>1</td>\n",
              "      <td>0.35000</td>\n",
              "      <td>0.00482</td>\n",
              "      <td>4161.88283</td>\n",
              "      <td>749138.90935</td>\n",
              "      <td>249138.90935</td>\n",
              "      <td>249138.90935</td>\n",
              "      <td>87198.61827</td>\n",
              "      <td>1878025.61450</td>\n",
              "      <td>1177445.52633</td>\n",
              "      <td>0.00000</td>\n",
              "      <td>-928306.61698</td>\n",
              "      <td>87198.61827</td>\n",
              "      <td>0.00000</td>\n",
              "      <td>-1628886.70515</td>\n",
              "      <td>87198.61827</td>\n",
              "    </tr>\n",
              "    <tr>\n",
              "      <th>3</th>\n",
              "      <td>2020-04-10</td>\n",
              "      <td>1012461453</td>\n",
              "      <td>7</td>\n",
              "      <td>300.00000</td>\n",
              "      <td>500000.00000</td>\n",
              "      <td>16185.19000</td>\n",
              "      <td>17100.00000</td>\n",
              "      <td>7</td>\n",
              "      <td>14000.00000</td>\n",
              "      <td>21928.75373</td>\n",
              "      <td>1</td>\n",
              "      <td>0.35000</td>\n",
              "      <td>0.00482</td>\n",
              "      <td>3156.63037</td>\n",
              "      <td>946989.11176</td>\n",
              "      <td>446989.11176</td>\n",
              "      <td>446989.11176</td>\n",
              "      <td>156446.18911</td>\n",
              "      <td>80074.56292</td>\n",
              "      <td>113597.05337</td>\n",
              "      <td>0.00000</td>\n",
              "      <td>333392.05839</td>\n",
              "      <td>333392.05839</td>\n",
              "      <td>0.00000</td>\n",
              "      <td>366914.54884</td>\n",
              "      <td>366914.54884</td>\n",
              "    </tr>\n",
              "    <tr>\n",
              "      <th>4</th>\n",
              "      <td>2019-11-08</td>\n",
              "      <td>1043366101</td>\n",
              "      <td>6</td>\n",
              "      <td>239.00000</td>\n",
              "      <td>500000.00000</td>\n",
              "      <td>8171.33000</td>\n",
              "      <td>8200.00000</td>\n",
              "      <td>6</td>\n",
              "      <td>14000.00000</td>\n",
              "      <td>19579.24440</td>\n",
              "      <td>1</td>\n",
              "      <td>0.35000</td>\n",
              "      <td>0.00482</td>\n",
              "      <td>3528.73367</td>\n",
              "      <td>843367.34682</td>\n",
              "      <td>343367.34682</td>\n",
              "      <td>343367.34682</td>\n",
              "      <td>120178.57139</td>\n",
              "      <td>-233166.64889</td>\n",
              "      <td>-232019.75126</td>\n",
              "      <td>343367.34682</td>\n",
              "      <td>0.00000</td>\n",
              "      <td>343367.34682</td>\n",
              "      <td>343367.34682</td>\n",
              "      <td>0.00000</td>\n",
              "      <td>343367.34682</td>\n",
              "    </tr>\n",
              "    <tr>\n",
              "      <th>...</th>\n",
              "      <td>...</td>\n",
              "      <td>...</td>\n",
              "      <td>...</td>\n",
              "      <td>...</td>\n",
              "      <td>...</td>\n",
              "      <td>...</td>\n",
              "      <td>...</td>\n",
              "      <td>...</td>\n",
              "      <td>...</td>\n",
              "      <td>...</td>\n",
              "      <td>...</td>\n",
              "      <td>...</td>\n",
              "      <td>...</td>\n",
              "      <td>...</td>\n",
              "      <td>...</td>\n",
              "      <td>...</td>\n",
              "      <td>...</td>\n",
              "      <td>...</td>\n",
              "      <td>...</td>\n",
              "      <td>...</td>\n",
              "      <td>...</td>\n",
              "      <td>...</td>\n",
              "      <td>...</td>\n",
              "      <td>...</td>\n",
              "      <td>...</td>\n",
              "      <td>...</td>\n",
              "    </tr>\n",
              "    <tr>\n",
              "      <th>18352</th>\n",
              "      <td>2019-09-14</td>\n",
              "      <td>1038983340</td>\n",
              "      <td>3</td>\n",
              "      <td>300.00000</td>\n",
              "      <td>500000.00000</td>\n",
              "      <td>8643.75000</td>\n",
              "      <td>8975.00000</td>\n",
              "      <td>3</td>\n",
              "      <td>14000.00000</td>\n",
              "      <td>14001.00000</td>\n",
              "      <td>1</td>\n",
              "      <td>0.35000</td>\n",
              "      <td>0.00482</td>\n",
              "      <td>3156.63037</td>\n",
              "      <td>946989.11176</td>\n",
              "      <td>446989.11176</td>\n",
              "      <td>446989.11176</td>\n",
              "      <td>156446.18911</td>\n",
              "      <td>-1556220529.40187</td>\n",
              "      <td>-1459978186.27667</td>\n",
              "      <td>446989.11176</td>\n",
              "      <td>0.00000</td>\n",
              "      <td>446989.11176</td>\n",
              "      <td>446989.11176</td>\n",
              "      <td>0.00000</td>\n",
              "      <td>446989.11176</td>\n",
              "    </tr>\n",
              "    <tr>\n",
              "      <th>18371</th>\n",
              "      <td>2019-09-28</td>\n",
              "      <td>1015549502</td>\n",
              "      <td>6</td>\n",
              "      <td>300.00000</td>\n",
              "      <td>500000.00000</td>\n",
              "      <td>6683.00000</td>\n",
              "      <td>6188.00000</td>\n",
              "      <td>6</td>\n",
              "      <td>14000.00000</td>\n",
              "      <td>19579.24440</td>\n",
              "      <td>1</td>\n",
              "      <td>0.35000</td>\n",
              "      <td>0.00482</td>\n",
              "      <td>3156.63037</td>\n",
              "      <td>946989.11176</td>\n",
              "      <td>446989.11176</td>\n",
              "      <td>446989.11176</td>\n",
              "      <td>156446.18911</td>\n",
              "      <td>-381037.72002</td>\n",
              "      <td>-406815.17956</td>\n",
              "      <td>446989.11176</td>\n",
              "      <td>0.00000</td>\n",
              "      <td>446989.11176</td>\n",
              "      <td>446989.11176</td>\n",
              "      <td>0.00000</td>\n",
              "      <td>446989.11176</td>\n",
              "    </tr>\n",
              "    <tr>\n",
              "      <th>18397</th>\n",
              "      <td>2019-10-18</td>\n",
              "      <td>1006211047</td>\n",
              "      <td>2</td>\n",
              "      <td>300.00000</td>\n",
              "      <td>500000.00000</td>\n",
              "      <td>19663.00000</td>\n",
              "      <td>21000.00000</td>\n",
              "      <td>2</td>\n",
              "      <td>14000.00000</td>\n",
              "      <td>14001.00000</td>\n",
              "      <td>1</td>\n",
              "      <td>0.35000</td>\n",
              "      <td>0.00482</td>\n",
              "      <td>3156.63037</td>\n",
              "      <td>946989.11176</td>\n",
              "      <td>446989.11176</td>\n",
              "      <td>446989.11176</td>\n",
              "      <td>156446.18911</td>\n",
              "      <td>1645344570.92234</td>\n",
              "      <td>2033800458.49486</td>\n",
              "      <td>0.00000</td>\n",
              "      <td>-2033353469.38310</td>\n",
              "      <td>156446.18911</td>\n",
              "      <td>0.00000</td>\n",
              "      <td>-1644897581.81058</td>\n",
              "      <td>156446.18911</td>\n",
              "    </tr>\n",
              "    <tr>\n",
              "      <th>18414</th>\n",
              "      <td>2020-03-10</td>\n",
              "      <td>1049787177</td>\n",
              "      <td>3</td>\n",
              "      <td>240.00000</td>\n",
              "      <td>500000.00000</td>\n",
              "      <td>8260.00000</td>\n",
              "      <td>8260.00000</td>\n",
              "      <td>3</td>\n",
              "      <td>14000.00000</td>\n",
              "      <td>14001.00000</td>\n",
              "      <td>1</td>\n",
              "      <td>0.35000</td>\n",
              "      <td>0.00482</td>\n",
              "      <td>3520.90146</td>\n",
              "      <td>845016.34982</td>\n",
              "      <td>345016.34982</td>\n",
              "      <td>345016.34982</td>\n",
              "      <td>120755.72244</td>\n",
              "      <td>-1287256001.19665</td>\n",
              "      <td>-1287256001.19665</td>\n",
              "      <td>345016.34982</td>\n",
              "      <td>0.00000</td>\n",
              "      <td>345016.34982</td>\n",
              "      <td>345016.34982</td>\n",
              "      <td>0.00000</td>\n",
              "      <td>345016.34982</td>\n",
              "    </tr>\n",
              "    <tr>\n",
              "      <th>18449</th>\n",
              "      <td>2019-08-27</td>\n",
              "      <td>1031714007</td>\n",
              "      <td>1</td>\n",
              "      <td>300.00000</td>\n",
              "      <td>500000.00000</td>\n",
              "      <td>14985.00000</td>\n",
              "      <td>13900.00000</td>\n",
              "      <td>1</td>\n",
              "      <td>14000.00000</td>\n",
              "      <td>14001.00000</td>\n",
              "      <td>1</td>\n",
              "      <td>0.35000</td>\n",
              "      <td>0.00482</td>\n",
              "      <td>3156.63037</td>\n",
              "      <td>946989.11176</td>\n",
              "      <td>446989.11176</td>\n",
              "      <td>446989.11176</td>\n",
              "      <td>156446.18911</td>\n",
              "      <td>286184778.80249</td>\n",
              "      <td>-29054292.26421</td>\n",
              "      <td>446989.11176</td>\n",
              "      <td>0.00000</td>\n",
              "      <td>446989.11176</td>\n",
              "      <td>0.00000</td>\n",
              "      <td>-285737789.69073</td>\n",
              "      <td>156446.18911</td>\n",
              "    </tr>\n",
              "  </tbody>\n",
              "</table>\n",
              "<p>1935 rows × 26 columns</p>\n",
              "</div>"
            ],
            "text/plain": [
              "      registration_date  national_id_map  ...      more_sub_api  total_sub_api\n",
              "0            2020-04-28       1060165170  ...           0.00000   361599.28484\n",
              "1            2019-12-02       1087537732  ...  -100882760.58891   156446.18911\n",
              "2            2020-04-04       1014312639  ...    -1628886.70515    87198.61827\n",
              "3            2020-04-10       1012461453  ...      366914.54884   366914.54884\n",
              "4            2019-11-08       1043366101  ...           0.00000   343367.34682\n",
              "...                 ...              ...  ...               ...            ...\n",
              "18352        2019-09-14       1038983340  ...           0.00000   446989.11176\n",
              "18371        2019-09-28       1015549502  ...           0.00000   446989.11176\n",
              "18397        2019-10-18       1006211047  ... -1644897581.81058   156446.18911\n",
              "18414        2020-03-10       1049787177  ...           0.00000   345016.34982\n",
              "18449        2019-08-27       1031714007  ...  -285737789.69073   156446.18911\n",
              "\n",
              "[1935 rows x 26 columns]"
            ]
          },
          "metadata": {
            "tags": []
          },
          "execution_count": 57
        }
      ]
    },
    {
      "cell_type": "markdown",
      "metadata": {
        "id": "Zu78eV9hZCFG"
      },
      "source": [
        ""
      ]
    },
    {
      "cell_type": "code",
      "metadata": {
        "id": "Xh93mHbYDr9n"
      },
      "source": [
        "financial_main['sub_pct_api'] = financial_main['total_sub_api'] / financial_main['tot_profit']\n",
        "financial_main['sub_pct_adv'] = financial_main['total_sub_adv'] / financial_main['tot_profit']"
      ],
      "execution_count": null,
      "outputs": []
    },
    {
      "cell_type": "code",
      "metadata": {
        "id": "okYbuA3jD9RM",
        "outputId": "5a0494f3-600e-4c67-89a4-a7db5ba6d547",
        "colab": {
          "base_uri": "https://localhost:8080/",
          "height": 33
        }
      },
      "source": [
        "(financial_main['sub_pct_api']).min()"
      ],
      "execution_count": null,
      "outputs": [
        {
          "output_type": "execute_result",
          "data": {
            "text/plain": [
              "0.3499999999999999"
            ]
          },
          "metadata": {
            "tags": []
          },
          "execution_count": 59
        }
      ]
    },
    {
      "cell_type": "code",
      "metadata": {
        "id": "E-iaznpvimwB"
      },
      "source": [
        ""
      ],
      "execution_count": null,
      "outputs": []
    },
    {
      "cell_type": "code",
      "metadata": {
        "id": "ITDWaez_EIDl",
        "outputId": "aa26371b-88f7-43e1-a9fe-56ad1c9a4ba7",
        "colab": {
          "base_uri": "https://localhost:8080/",
          "height": 281
        }
      },
      "source": [
        "pd.cut((financial_main['sub_pct_api']*100) , bins=[0,1,35,50,75,100]).value_counts().plot(kind='barh')"
      ],
      "execution_count": null,
      "outputs": [
        {
          "output_type": "execute_result",
          "data": {
            "text/plain": [
              "<matplotlib.axes._subplots.AxesSubplot at 0x7fe455edf4e0>"
            ]
          },
          "metadata": {
            "tags": []
          },
          "execution_count": 60
        },
        {
          "output_type": "display_data",
          "data": {
            "image/png": "[encoded data removed]",
            "text/plain": [
              "<Figure size 432x288 with 1 Axes>"
            ]
          },
          "metadata": {
            "tags": [],
            "needs_background": "light"
          }
        }
      ]
    },
    {
      "cell_type": "code",
      "metadata": {
        "id": "sLrgPpTjG4-Q",
        "outputId": "9198f654-6644-4bbf-cf50-12f1d3ec0dfe",
        "colab": {
          "base_uri": "https://localhost:8080/",
          "height": 116
        }
      },
      "source": [
        "pd.cut((financial_main['sub_pct_api']*100) , bins=[0,1,35,50,75,100]).value_counts()"
      ],
      "execution_count": null,
      "outputs": [
        {
          "output_type": "execute_result",
          "data": {
            "text/plain": [
              "(75, 100]    1361\n",
              "(1, 35]       515\n",
              "(50, 75]       41\n",
              "(35, 50]       18\n",
              "(0, 1]          0\n",
              "Name: sub_pct_api, dtype: int64"
            ]
          },
          "metadata": {
            "tags": []
          },
          "execution_count": 61
        }
      ]
    },
    {
      "cell_type": "code",
      "metadata": {
        "id": "dbbQ8xtxH45M"
      },
      "source": [
        ""
      ],
      "execution_count": null,
      "outputs": []
    },
    {
      "cell_type": "code",
      "metadata": {
        "id": "iBaho7ZPH474"
      },
      "source": [
        ""
      ],
      "execution_count": null,
      "outputs": []
    },
    {
      "cell_type": "code",
      "metadata": {
        "id": "C3vXEsWjH5PB",
        "outputId": "04209d44-d334-4ddd-c861-5b2d4c650e08",
        "colab": {
          "base_uri": "https://localhost:8080/",
          "height": 281
        }
      },
      "source": [
        "pd.cut((financial_main.loc[financial_main['fin_adv_salary'] > 0 , : ]['sub_pct_adv']*100) , bins=[0,35,45,55,65,75,85,95,100]).value_counts().plot(kind='barh')"
      ],
      "execution_count": null,
      "outputs": [
        {
          "output_type": "execute_result",
          "data": {
            "text/plain": [
              "<matplotlib.axes._subplots.AxesSubplot at 0x7fe455edf710>"
            ]
          },
          "metadata": {
            "tags": []
          },
          "execution_count": 62
        },
        {
          "output_type": "display_data",
          "data": {
            "image/png": "[encoded data removed]",
            "text/plain": [
              "<Figure size 432x288 with 1 Axes>"
            ]
          },
          "metadata": {
            "tags": [],
            "needs_background": "light"
          }
        }
      ]
    },
    {
      "cell_type": "code",
      "metadata": {
        "id": "rOunGRSuH5PD"
      },
      "source": [
        "pd.cut((financial_main.loc[financial_main['fin_adv_salary'] > 0 , : ]['sub_pct_adv']*100) , bins=[0,35,45,55,65,75,85,95,100]).value_counts().to_excel('adv.xlsx')"
      ],
      "execution_count": null,
      "outputs": []
    },
    {
      "cell_type": "code",
      "metadata": {
        "id": "un3Rrl2QRv45"
      },
      "source": [
        ""
      ],
      "execution_count": null,
      "outputs": []
    },
    {
      "cell_type": "code",
      "metadata": {
        "id": "PpFycnL8Rv_X"
      },
      "source": [
        ""
      ],
      "execution_count": null,
      "outputs": []
    },
    {
      "cell_type": "code",
      "metadata": {
        "id": "gC0CMhnkRwNa",
        "outputId": "d3198354-04f8-415e-f505-3a18f3e6929a",
        "colab": {
          "base_uri": "https://localhost:8080/",
          "height": 281
        }
      },
      "source": [
        "pd.cut((financial_main.loc[financial_main['API_salary'] > 0 , : ]['sub_pct_api']*100) , bins=[0,35,45,55,65,75,85,95,100]).value_counts().plot(kind='barh')"
      ],
      "execution_count": null,
      "outputs": [
        {
          "output_type": "execute_result",
          "data": {
            "text/plain": [
              "<matplotlib.axes._subplots.AxesSubplot at 0x7fe45335f6a0>"
            ]
          },
          "metadata": {
            "tags": []
          },
          "execution_count": 71
        },
        {
          "output_type": "display_data",
          "data": {
            "image/png": "[encoded data removed]",
            "text/plain": [
              "<Figure size 432x288 with 1 Axes>"
            ]
          },
          "metadata": {
            "tags": [],
            "needs_background": "light"
          }
        }
      ]
    },
    {
      "cell_type": "code",
      "metadata": {
        "id": "B_pCenuDRwNe"
      },
      "source": [
        "pd.cut((financial_main.loc[financial_main['API_salary'] > 0 , : ]['sub_pct_api']*100) , bins=[0,35,45,55,65,75,85,95,100]).value_counts().to_excel('api.xlsx')"
      ],
      "execution_count": null,
      "outputs": []
    },
    {
      "cell_type": "code",
      "metadata": {
        "id": "pRCcJwaRvhFk",
        "outputId": "3b3a7cf7-1b87-4995-af0b-b8e22a333c66",
        "colab": {
          "base_uri": "https://localhost:8080/",
          "height": 334
        }
      },
      "source": [
        "financial2.head()"
      ],
      "execution_count": null,
      "outputs": [
        {
          "output_type": "execute_result",
          "data": {
            "text/html": [
              "<div>\n",
              "<style scoped>\n",
              "    .dataframe tbody tr th:only-of-type {\n",
              "        vertical-align: middle;\n",
              "    }\n",
              "\n",
              "    .dataframe tbody tr th {\n",
              "        vertical-align: top;\n",
              "    }\n",
              "\n",
              "    .dataframe thead th {\n",
              "        text-align: right;\n",
              "    }\n",
              "</style>\n",
              "<table border=\"1\" class=\"dataframe\">\n",
              "  <thead>\n",
              "    <tr style=\"text-align: right;\">\n",
              "      <th></th>\n",
              "      <th>registration_date</th>\n",
              "      <th>national_id_map</th>\n",
              "      <th>family_size</th>\n",
              "      <th>eligible_status</th>\n",
              "      <th>indigent_value</th>\n",
              "      <th>monthly_salary</th>\n",
              "      <th>home_allowance</th>\n",
              "      <th>manual_monthly_salary</th>\n",
              "      <th>manual_home_allowance</th>\n",
              "      <th>financial_adv_salary</th>\n",
              "      <th>financial_adv_home_allowance</th>\n",
              "      <th>loan_period_in_month</th>\n",
              "      <th>applicant_bank</th>\n",
              "      <th>type_of_work</th>\n",
              "      <th>booking_status</th>\n",
              "      <th>booking_date</th>\n",
              "      <th>financial_institution_name</th>\n",
              "      <th>financial_institution_number</th>\n",
              "      <th>profit_rate_in_contract</th>\n",
              "      <th>unit_location</th>\n",
              "      <th>max_loan_amount</th>\n",
              "      <th>lender_name</th>\n",
              "      <th>recommendation_created_at</th>\n",
              "      <th>project_region</th>\n",
              "      <th>project_city</th>\n",
              "      <th>project_name</th>\n",
              "      <th>contract_status</th>\n",
              "      <th>fin_institution_num</th>\n",
              "      <th>signing_lender_contract_date</th>\n",
              "      <th>booking_unit_type</th>\n",
              "      <th>unit_size</th>\n",
              "      <th>unit_price</th>\n",
              "      <th>moh_price</th>\n",
              "      <th>has_recommendation</th>\n",
              "      <th>age</th>\n",
              "      <th>year</th>\n",
              "      <th>API_salary</th>\n",
              "      <th>fin_adv_salary</th>\n",
              "    </tr>\n",
              "  </thead>\n",
              "  <tbody>\n",
              "    <tr>\n",
              "      <th>1</th>\n",
              "      <td>2020-04-28</td>\n",
              "      <td>1060165170</td>\n",
              "      <td>4</td>\n",
              "      <td>1</td>\n",
              "      <td>nan</td>\n",
              "      <td>9709.80800</td>\n",
              "      <td>2427.45200</td>\n",
              "      <td>10909.93000</td>\n",
              "      <td>2727.49000</td>\n",
              "      <td>10909.93000</td>\n",
              "      <td>2727.49000</td>\n",
              "      <td>250.00000</td>\n",
              "      <td>البنك الأهلي التجاري</td>\n",
              "      <td>2.00000</td>\n",
              "      <td>confirmed</td>\n",
              "      <td>2020-08-09 11:03:53</td>\n",
              "      <td>الأهلي</td>\n",
              "      <td>4030001588</td>\n",
              "      <td>5.41000</td>\n",
              "      <td>مكه المكرمه</td>\n",
              "      <td>1063317.00000</td>\n",
              "      <td>مصرف الراجحي</td>\n",
              "      <td>2020-06-04 08:39:28</td>\n",
              "      <td>makkah</td>\n",
              "      <td>makkah_al_mukarramah</td>\n",
              "      <td>مكة المكرمة - لدن للإستثمار - الرصيفة</td>\n",
              "      <td>2</td>\n",
              "      <td>4030001588</td>\n",
              "      <td>2020-08-10</td>\n",
              "      <td>apartment</td>\n",
              "      <td>214.70000</td>\n",
              "      <td>501539.00000</td>\n",
              "      <td>501539.00000</td>\n",
              "      <td>Has Recommendations</td>\n",
              "      <td>44</td>\n",
              "      <td>2020</td>\n",
              "      <td>12137.26000</td>\n",
              "      <td>13637.42000</td>\n",
              "    </tr>\n",
              "    <tr>\n",
              "      <th>3</th>\n",
              "      <td>2019-12-02</td>\n",
              "      <td>1087537732</td>\n",
              "      <td>3</td>\n",
              "      <td>1</td>\n",
              "      <td>nan</td>\n",
              "      <td>11479.00800</td>\n",
              "      <td>2869.75200</td>\n",
              "      <td>8900.00000</td>\n",
              "      <td>2225.00000</td>\n",
              "      <td>10438.84000</td>\n",
              "      <td>2609.71000</td>\n",
              "      <td>300.00000</td>\n",
              "      <td>البنك الأهلي التجاري</td>\n",
              "      <td>2.00000</td>\n",
              "      <td>confirmed</td>\n",
              "      <td>2020-07-11 17:14:46</td>\n",
              "      <td>الأهلي</td>\n",
              "      <td>4030001588</td>\n",
              "      <td>5.12000</td>\n",
              "      <td>جده</td>\n",
              "      <td>941974.00000</td>\n",
              "      <td>بنك البلاد</td>\n",
              "      <td>2019-12-02 14:54:11</td>\n",
              "      <td>makkah</td>\n",
              "      <td>jeddah</td>\n",
              "      <td>جدة - الديار العربية للتطوير العقاري - بوفاردي...</td>\n",
              "      <td>2</td>\n",
              "      <td>4030001588</td>\n",
              "      <td>2020-07-15</td>\n",
              "      <td>apartment</td>\n",
              "      <td>243.82000</td>\n",
              "      <td>636018.00000</td>\n",
              "      <td>636018.00000</td>\n",
              "      <td>Has Recommendations</td>\n",
              "      <td>26</td>\n",
              "      <td>2020</td>\n",
              "      <td>14348.76000</td>\n",
              "      <td>13048.55000</td>\n",
              "    </tr>\n",
              "    <tr>\n",
              "      <th>4</th>\n",
              "      <td>2020-04-04</td>\n",
              "      <td>1014312639</td>\n",
              "      <td>4</td>\n",
              "      <td>1</td>\n",
              "      <td>nan</td>\n",
              "      <td>19366.40000</td>\n",
              "      <td>4841.60000</td>\n",
              "      <td>19800.00000</td>\n",
              "      <td>600.00000</td>\n",
              "      <td>19800.00000</td>\n",
              "      <td>600.00000</td>\n",
              "      <td>180.00000</td>\n",
              "      <td>مصرف الراجحي</td>\n",
              "      <td>2.00000</td>\n",
              "      <td>confirmed</td>\n",
              "      <td>2020-04-11 18:29:40</td>\n",
              "      <td>الراجحي</td>\n",
              "      <td>1010000096</td>\n",
              "      <td>3.75000</td>\n",
              "      <td>أبها</td>\n",
              "      <td>1521909.00000</td>\n",
              "      <td>بنك سامبا</td>\n",
              "      <td>2020-04-10 12:00:34</td>\n",
              "      <td>asir</td>\n",
              "      <td>abha</td>\n",
              "      <td>أبها - علي شار - تلال أبها</td>\n",
              "      <td>2</td>\n",
              "      <td>1010000096</td>\n",
              "      <td>2020-04-29</td>\n",
              "      <td>villa</td>\n",
              "      <td>500.00000</td>\n",
              "      <td>721527.00000</td>\n",
              "      <td>721527.00000</td>\n",
              "      <td>Has Recommendations</td>\n",
              "      <td>39</td>\n",
              "      <td>2020</td>\n",
              "      <td>24208.00000</td>\n",
              "      <td>20400.00000</td>\n",
              "    </tr>\n",
              "    <tr>\n",
              "      <th>5</th>\n",
              "      <td>2020-04-10</td>\n",
              "      <td>1012461453</td>\n",
              "      <td>7</td>\n",
              "      <td>1</td>\n",
              "      <td>nan</td>\n",
              "      <td>12948.15200</td>\n",
              "      <td>3237.03800</td>\n",
              "      <td>13725.04000</td>\n",
              "      <td>3431.26000</td>\n",
              "      <td>13700.00000</td>\n",
              "      <td>3400.00000</td>\n",
              "      <td>300.00000</td>\n",
              "      <td>البنك السعودي للاستثمار</td>\n",
              "      <td>2.00000</td>\n",
              "      <td>confirmed</td>\n",
              "      <td>2020-05-27 10:34:37</td>\n",
              "      <td>الأهلي</td>\n",
              "      <td>4030001588</td>\n",
              "      <td>5.47000</td>\n",
              "      <td>الدمام</td>\n",
              "      <td>1181790.00000</td>\n",
              "      <td>البنك الفرنسي</td>\n",
              "      <td>2020-04-11 23:33:52</td>\n",
              "      <td>eastern_province</td>\n",
              "      <td>NaN</td>\n",
              "      <td>الدمام - رتال - نساج تاون 2</td>\n",
              "      <td>2</td>\n",
              "      <td>4030001588</td>\n",
              "      <td>2020-06-03</td>\n",
              "      <td>villa</td>\n",
              "      <td>392.00000</td>\n",
              "      <td>769480.00000</td>\n",
              "      <td>769480.00000</td>\n",
              "      <td>Has Recommendations</td>\n",
              "      <td>40</td>\n",
              "      <td>2020</td>\n",
              "      <td>16185.19000</td>\n",
              "      <td>17100.00000</td>\n",
              "    </tr>\n",
              "    <tr>\n",
              "      <th>6</th>\n",
              "      <td>2019-11-08</td>\n",
              "      <td>1043366101</td>\n",
              "      <td>6</td>\n",
              "      <td>1</td>\n",
              "      <td>nan</td>\n",
              "      <td>6537.06400</td>\n",
              "      <td>1634.26600</td>\n",
              "      <td>7000.00000</td>\n",
              "      <td>1200.00000</td>\n",
              "      <td>7000.00000</td>\n",
              "      <td>1200.00000</td>\n",
              "      <td>239.00000</td>\n",
              "      <td>البنك العربي الوطني</td>\n",
              "      <td>2.00000</td>\n",
              "      <td>confirmed</td>\n",
              "      <td>2019-12-20 07:16:51</td>\n",
              "      <td>العربي</td>\n",
              "      <td>1010027912</td>\n",
              "      <td>7.52000</td>\n",
              "      <td>القطيف</td>\n",
              "      <td>454433.00000</td>\n",
              "      <td>دار التمليك</td>\n",
              "      <td>2019-11-11 21:18:52</td>\n",
              "      <td>eastern_province</td>\n",
              "      <td>al_qatif</td>\n",
              "      <td>القطيف - مجموعة التميمي - منازل القطيف</td>\n",
              "      <td>2</td>\n",
              "      <td>1010027912</td>\n",
              "      <td>2020-01-26</td>\n",
              "      <td>townhouse</td>\n",
              "      <td>187.50000</td>\n",
              "      <td>252427.00000</td>\n",
              "      <td>560948.00000</td>\n",
              "      <td>Has Recommendations</td>\n",
              "      <td>49</td>\n",
              "      <td>2020</td>\n",
              "      <td>8171.33000</td>\n",
              "      <td>8200.00000</td>\n",
              "    </tr>\n",
              "  </tbody>\n",
              "</table>\n",
              "</div>"
            ],
            "text/plain": [
              "  registration_date  national_id_map  ...  API_salary  fin_adv_salary\n",
              "1        2020-04-28       1060165170  ... 12137.26000     13637.42000\n",
              "3        2019-12-02       1087537732  ... 14348.76000     13048.55000\n",
              "4        2020-04-04       1014312639  ... 24208.00000     20400.00000\n",
              "5        2020-04-10       1012461453  ... 16185.19000     17100.00000\n",
              "6        2019-11-08       1043366101  ...  8171.33000      8200.00000\n",
              "\n",
              "[5 rows x 38 columns]"
            ]
          },
          "metadata": {
            "tags": []
          },
          "execution_count": 65
        }
      ]
    },
    {
      "cell_type": "code",
      "metadata": {
        "id": "QG-3KNzcZ0ZS",
        "outputId": "44c7a3a2-4c5f-4190-b769-7360b8662222",
        "colab": {
          "base_uri": "https://localhost:8080/",
          "height": 216
        }
      },
      "source": [
        "(financial_main.loc[financial_main['API_salary'] > 0 , : ]['sub_pct_api']*100).value_counts()"
      ],
      "execution_count": null,
      "outputs": [
        {
          "output_type": "execute_result",
          "data": {
            "text/plain": [
              "100.00000    1319\n",
              "35.00000      509\n",
              "35.00000        6\n",
              "67.92500        2\n",
              "60.75530        2\n",
              "             ... \n",
              "43.25302        1\n",
              "41.35432        1\n",
              "36.49356        1\n",
              "36.35049        1\n",
              "93.47431        1\n",
              "Name: sub_pct_api, Length: 102, dtype: int64"
            ]
          },
          "metadata": {
            "tags": []
          },
          "execution_count": 66
        }
      ]
    },
    {
      "cell_type": "code",
      "metadata": {
        "id": "-olbwPe-Z-6W"
      },
      "source": [
        "financial_main.sort_values(by=['API_salary'], ascending=False).head(20).to_excel('top api.xlsx')"
      ],
      "execution_count": null,
      "outputs": []
    },
    {
      "cell_type": "code",
      "metadata": {
        "id": "gwUgu8i-aAKL"
      },
      "source": [
        "financial_main.sort_values(by=['API_salary'], ascending=True).head(20).to_excel('bottom api.xlsx')"
      ],
      "execution_count": null,
      "outputs": []
    },
    {
      "cell_type": "code",
      "metadata": {
        "id": "KDniPhYUuzoW"
      },
      "source": [
        "from random import sample \n",
        "\n",
        "sample=sample(list(financial_main.index) , 30)"
      ],
      "execution_count": null,
      "outputs": []
    },
    {
      "cell_type": "code",
      "metadata": {
        "id": "GvA-jdFmvcMQ"
      },
      "source": [
        "financial_main.sample(n=30).to_excel('rand.xlsx')"
      ],
      "execution_count": null,
      "outputs": []
    }
  ]
}
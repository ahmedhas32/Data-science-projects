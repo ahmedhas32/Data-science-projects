{
  "nbformat": 4,
  "nbformat_minor": 0,
  "metadata": {
    "colab": {
      "name": "Case Study - SEM data analyst.ipynb",
      "provenance": [],
      "collapsed_sections": [],
      "toc_visible": true,
      "authorship_tag": "ABX9TyPrdJb+PsWQlbxgHGsVBr+0",
      "include_colab_link": true
    },
    "kernelspec": {
      "name": "python3",
      "display_name": "Python 3"
    },
    "accelerator": "GPU"
  },
  "cells": [
    {
      "cell_type": "markdown",
      "metadata": {
        "id": "view-in-github",
        "colab_type": "text"
      },
      "source": [
        "<a href=\"https://colab.research.google.com/github/ahmedhas32/Data-science-projects/blob/master/Case_Study_SEM_data_analyst.ipynb\" target=\"_parent\"><img src=\"https://colab.research.google.com/assets/colab-badge.svg\" alt=\"Open In Colab\"/></a>"
      ]
    },
    {
      "cell_type": "code",
      "metadata": {
        "id": "jUCZmbadngy8",
        "colab_type": "code",
        "outputId": "e53cc0f3-df37-4948-9427-ba2f60ab9c13",
        "colab": {
          "base_uri": "https://localhost:8080/",
          "height": 138
        }
      },
      "source": [
        "!pip install pandasql"
      ],
      "execution_count": 1,
      "outputs": [
        {
          "output_type": "stream",
          "text": [
            "Requirement already satisfied: pandasql in /usr/local/lib/python3.6/dist-packages (0.7.3)\n",
            "Requirement already satisfied: sqlalchemy in /usr/local/lib/python3.6/dist-packages (from pandasql) (1.3.12)\n",
            "Requirement already satisfied: numpy in /usr/local/lib/python3.6/dist-packages (from pandasql) (1.17.5)\n",
            "Requirement already satisfied: pandas in /usr/local/lib/python3.6/dist-packages (from pandasql) (0.25.3)\n",
            "Requirement already satisfied: pytz>=2017.2 in /usr/local/lib/python3.6/dist-packages (from pandas->pandasql) (2018.9)\n",
            "Requirement already satisfied: python-dateutil>=2.6.1 in /usr/local/lib/python3.6/dist-packages (from pandas->pandasql) (2.6.1)\n",
            "Requirement already satisfied: six>=1.5 in /usr/local/lib/python3.6/dist-packages (from python-dateutil>=2.6.1->pandas->pandasql) (1.12.0)\n"
          ],
          "name": "stdout"
        }
      ]
    },
    {
      "cell_type": "code",
      "metadata": {
        "id": "g_Ydxvuz-oq2",
        "colab_type": "code",
        "colab": {}
      },
      "source": [
        "import numpy as np\n",
        "import pandas as pd\n",
        "import matplotlib.pyplot as plt\n",
        "import seaborn as sns\n",
        "import pandasql as ps\n",
        "import statsmodels.api as sm\n",
        "from scipy.stats import skew\n",
        "import csv as csv\n",
        "from sklearn.preprocessing import StandardScaler\n",
        "from scipy.stats import ks_2samp\n",
        "\n",
        "\n",
        "import warnings\n",
        "warnings.filterwarnings(\"ignore\")"
      ],
      "execution_count": 0,
      "outputs": []
    },
    {
      "cell_type": "code",
      "metadata": {
        "id": "FdpDJtoeGbY1",
        "colab_type": "code",
        "colab": {}
      },
      "source": [
        "import scipy.stats as stats\n",
        "import statsmodels.api as sm\n",
        "from sklearn.decomposition import FactorAnalysis , PCA"
      ],
      "execution_count": 0,
      "outputs": []
    },
    {
      "cell_type": "code",
      "metadata": {
        "id": "poFMGhA9AXbd",
        "colab_type": "code",
        "colab": {}
      },
      "source": [
        "from sklearn.model_selection import train_test_split"
      ],
      "execution_count": 0,
      "outputs": []
    },
    {
      "cell_type": "code",
      "metadata": {
        "id": "OaL7xM_V9zyW",
        "colab_type": "code",
        "colab": {}
      },
      "source": [
        "from sklearn.preprocessing import LabelEncoder"
      ],
      "execution_count": 0,
      "outputs": []
    },
    {
      "cell_type": "code",
      "metadata": {
        "id": "AMVrLoaDkmQs",
        "colab_type": "code",
        "outputId": "7a6daaab-bef2-4ef3-fe4c-b81cd0ef1337",
        "colab": {
          "base_uri": "https://localhost:8080/",
          "height": 34
        }
      },
      "source": [
        "from google.colab import drive\n",
        "drive.mount('/content/drive')"
      ],
      "execution_count": 6,
      "outputs": [
        {
          "output_type": "stream",
          "text": [
            "Drive already mounted at /content/drive; to attempt to forcibly remount, call drive.mount(\"/content/drive\", force_remount=True).\n"
          ],
          "name": "stdout"
        }
      ]
    },
    {
      "cell_type": "code",
      "metadata": {
        "id": "OWLwru54Qb5h",
        "colab_type": "code",
        "colab": {}
      },
      "source": [
        "part_1_data = pd.read_excel(\"/content/drive/My Drive/Data set for Part One - Business Metrics.xlsx\")"
      ],
      "execution_count": 0,
      "outputs": []
    },
    {
      "cell_type": "code",
      "metadata": {
        "id": "MhwbNzg_QcBV",
        "colab_type": "code",
        "colab": {}
      },
      "source": [
        "part_2_data = pd.read_excel(\"/content/drive/My Drive/Data set for Part Two - A B Testing.xlsx\")"
      ],
      "execution_count": 0,
      "outputs": []
    },
    {
      "cell_type": "markdown",
      "metadata": {
        "id": "s-2a_oZ_WVnx",
        "colab_type": "text"
      },
      "source": [
        "## 2. Business Metrics"
      ]
    },
    {
      "cell_type": "markdown",
      "metadata": {
        "id": "M_gF3gxsY1sq",
        "colab_type": "text"
      },
      "source": [
        "Let's first have a brief about datatypes , and presence of NaN values"
      ]
    },
    {
      "cell_type": "code",
      "metadata": {
        "id": "C7EjAt-eQcD_",
        "colab_type": "code",
        "outputId": "bc629aa6-b1a1-48e4-8bc5-1910bab16013",
        "colab": {
          "base_uri": "https://localhost:8080/",
          "height": 346
        }
      },
      "source": [
        "part_1_data.info()"
      ],
      "execution_count": 9,
      "outputs": [
        {
          "output_type": "stream",
          "text": [
            "<class 'pandas.core.frame.DataFrame'>\n",
            "RangeIndex: 478 entries, 0 to 477\n",
            "Data columns (total 14 columns):\n",
            "Keyword ID           478 non-null int64\n",
            "Keyword Category     478 non-null object\n",
            "Country              478 non-null object\n",
            "Device               478 non-null object\n",
            "Cost                 478 non-null float64\n",
            "Clicks               478 non-null int64\n",
            "Revenue              478 non-null float64\n",
            "RPC                  0 non-null float64\n",
            "CPC                  478 non-null float64\n",
            "ROAS                 478 non-null float64\n",
            "Total Clickouts      478 non-null int64\n",
            "Tracked Clickouts    478 non-null int64\n",
            "Tracking Coverage    478 non-null float64\n",
            "Booking Value        478 non-null int64\n",
            "dtypes: float64(6), int64(5), object(3)\n",
            "memory usage: 52.4+ KB\n"
          ],
          "name": "stdout"
        }
      ]
    },
    {
      "cell_type": "markdown",
      "metadata": {
        "id": "QQJw3hpNW4vy",
        "colab_type": "text"
      },
      "source": [
        "#### Since we find columns names that include spaces , it is better to rename columns"
      ]
    },
    {
      "cell_type": "code",
      "metadata": {
        "id": "W-zfgdKoME7c",
        "colab_type": "code",
        "colab": {}
      },
      "source": [
        "part_1_data.columns=['keyword_id' ,'keyword_category' ,'country' , 'device' ,'cost' ,'clicks' , 'revenue' ,'RPC' ,'CPC' , 'ROAS' ,'total_clickouts' ,'tracked_clickouts' ,'tracking_coverage' ,'booking_value']"
      ],
      "execution_count": 0,
      "outputs": []
    },
    {
      "cell_type": "markdown",
      "metadata": {
        "id": "BXWVsIySZfmx",
        "colab_type": "text"
      },
      "source": [
        "Here, we find that all variables are in the proper data types , except keyword_id which is an ID variable so it is better to be converted to object data type"
      ]
    },
    {
      "cell_type": "code",
      "metadata": {
        "id": "0RCRbmuQaFIy",
        "colab_type": "code",
        "colab": {}
      },
      "source": [
        "part_1_data['keyword_id'] = part_1_data['keyword_id'].astype('object')"
      ],
      "execution_count": 0,
      "outputs": []
    },
    {
      "cell_type": "markdown",
      "metadata": {
        "id": "t5e1BGeuaPbK",
        "colab_type": "text"
      },
      "source": [
        "Also we find that 'RPC' is all NaN values , and this is logical , since calculating it is the first question :):):)"
      ]
    },
    {
      "cell_type": "code",
      "metadata": {
        "id": "TkqWJHUcyne-",
        "colab_type": "code",
        "colab": {}
      },
      "source": [
        "part_1_data.drop(columns=['RPC'] , inplace=True)"
      ],
      "execution_count": 0,
      "outputs": []
    },
    {
      "cell_type": "markdown",
      "metadata": {
        "id": "AwXtixBla0lz",
        "colab_type": "text"
      },
      "source": [
        "Well, let's have a brief about numeric columns"
      ]
    },
    {
      "cell_type": "code",
      "metadata": {
        "id": "C0qC0G3uQcMO",
        "colab_type": "code",
        "outputId": "9bfd85ed-67ac-4aef-c43f-af47e685c8ff",
        "colab": {
          "base_uri": "https://localhost:8080/",
          "height": 325
        }
      },
      "source": [
        "part_1_data.describe(include=['int' , 'float']).T"
      ],
      "execution_count": 13,
      "outputs": [
        {
          "output_type": "execute_result",
          "data": {
            "text/html": [
              "<div>\n",
              "<style scoped>\n",
              "    .dataframe tbody tr th:only-of-type {\n",
              "        vertical-align: middle;\n",
              "    }\n",
              "\n",
              "    .dataframe tbody tr th {\n",
              "        vertical-align: top;\n",
              "    }\n",
              "\n",
              "    .dataframe thead th {\n",
              "        text-align: right;\n",
              "    }\n",
              "</style>\n",
              "<table border=\"1\" class=\"dataframe\">\n",
              "  <thead>\n",
              "    <tr style=\"text-align: right;\">\n",
              "      <th></th>\n",
              "      <th>count</th>\n",
              "      <th>mean</th>\n",
              "      <th>std</th>\n",
              "      <th>min</th>\n",
              "      <th>25%</th>\n",
              "      <th>50%</th>\n",
              "      <th>75%</th>\n",
              "      <th>max</th>\n",
              "    </tr>\n",
              "  </thead>\n",
              "  <tbody>\n",
              "    <tr>\n",
              "      <th>cost</th>\n",
              "      <td>478.0</td>\n",
              "      <td>409.357552</td>\n",
              "      <td>510.001194</td>\n",
              "      <td>161.150000</td>\n",
              "      <td>192.580000</td>\n",
              "      <td>254.925000</td>\n",
              "      <td>402.797500</td>\n",
              "      <td>5714.330000</td>\n",
              "    </tr>\n",
              "    <tr>\n",
              "      <th>clicks</th>\n",
              "      <td>478.0</td>\n",
              "      <td>432.062762</td>\n",
              "      <td>940.962438</td>\n",
              "      <td>32.000000</td>\n",
              "      <td>126.000000</td>\n",
              "      <td>248.000000</td>\n",
              "      <td>472.250000</td>\n",
              "      <td>17306.000000</td>\n",
              "    </tr>\n",
              "    <tr>\n",
              "      <th>revenue</th>\n",
              "      <td>478.0</td>\n",
              "      <td>373.196025</td>\n",
              "      <td>584.998029</td>\n",
              "      <td>33.880000</td>\n",
              "      <td>132.397500</td>\n",
              "      <td>234.190000</td>\n",
              "      <td>430.400000</td>\n",
              "      <td>9912.340000</td>\n",
              "    </tr>\n",
              "    <tr>\n",
              "      <th>CPC</th>\n",
              "      <td>478.0</td>\n",
              "      <td>1.583785</td>\n",
              "      <td>1.114576</td>\n",
              "      <td>0.157548</td>\n",
              "      <td>0.728995</td>\n",
              "      <td>1.310063</td>\n",
              "      <td>2.090618</td>\n",
              "      <td>5.852424</td>\n",
              "    </tr>\n",
              "    <tr>\n",
              "      <th>ROAS</th>\n",
              "      <td>478.0</td>\n",
              "      <td>0.944025</td>\n",
              "      <td>0.588439</td>\n",
              "      <td>0.164187</td>\n",
              "      <td>0.517123</td>\n",
              "      <td>0.776681</td>\n",
              "      <td>1.170279</td>\n",
              "      <td>4.101981</td>\n",
              "    </tr>\n",
              "    <tr>\n",
              "      <th>total_clickouts</th>\n",
              "      <td>478.0</td>\n",
              "      <td>303.778243</td>\n",
              "      <td>722.754712</td>\n",
              "      <td>16.000000</td>\n",
              "      <td>90.000000</td>\n",
              "      <td>167.500000</td>\n",
              "      <td>309.250000</td>\n",
              "      <td>13989.000000</td>\n",
              "    </tr>\n",
              "    <tr>\n",
              "      <th>tracked_clickouts</th>\n",
              "      <td>478.0</td>\n",
              "      <td>177.163180</td>\n",
              "      <td>531.318926</td>\n",
              "      <td>3.000000</td>\n",
              "      <td>41.250000</td>\n",
              "      <td>76.000000</td>\n",
              "      <td>169.750000</td>\n",
              "      <td>10587.000000</td>\n",
              "    </tr>\n",
              "    <tr>\n",
              "      <th>tracking_coverage</th>\n",
              "      <td>478.0</td>\n",
              "      <td>0.520281</td>\n",
              "      <td>0.149161</td>\n",
              "      <td>0.052632</td>\n",
              "      <td>0.414789</td>\n",
              "      <td>0.533124</td>\n",
              "      <td>0.631627</td>\n",
              "      <td>0.942308</td>\n",
              "    </tr>\n",
              "    <tr>\n",
              "      <th>booking_value</th>\n",
              "      <td>478.0</td>\n",
              "      <td>807.102510</td>\n",
              "      <td>1161.066144</td>\n",
              "      <td>0.000000</td>\n",
              "      <td>0.000000</td>\n",
              "      <td>388.500000</td>\n",
              "      <td>1077.250000</td>\n",
              "      <td>9748.000000</td>\n",
              "    </tr>\n",
              "  </tbody>\n",
              "</table>\n",
              "</div>"
            ],
            "text/plain": [
              "                   count        mean  ...          75%           max\n",
              "cost               478.0  409.357552  ...   402.797500   5714.330000\n",
              "clicks             478.0  432.062762  ...   472.250000  17306.000000\n",
              "revenue            478.0  373.196025  ...   430.400000   9912.340000\n",
              "CPC                478.0    1.583785  ...     2.090618      5.852424\n",
              "ROAS               478.0    0.944025  ...     1.170279      4.101981\n",
              "total_clickouts    478.0  303.778243  ...   309.250000  13989.000000\n",
              "tracked_clickouts  478.0  177.163180  ...   169.750000  10587.000000\n",
              "tracking_coverage  478.0    0.520281  ...     0.631627      0.942308\n",
              "booking_value      478.0  807.102510  ...  1077.250000   9748.000000\n",
              "\n",
              "[9 rows x 8 columns]"
            ]
          },
          "metadata": {
            "tags": []
          },
          "execution_count": 13
        }
      ]
    },
    {
      "cell_type": "code",
      "metadata": {
        "id": "P9j0o53uQcO9",
        "colab_type": "code",
        "outputId": "85e0aab4-4e0a-449a-c6d9-d7572397b547",
        "colab": {
          "base_uri": "https://localhost:8080/",
          "height": 172
        }
      },
      "source": [
        "part_1_data.describe(include='object')"
      ],
      "execution_count": 14,
      "outputs": [
        {
          "output_type": "execute_result",
          "data": {
            "text/html": [
              "<div>\n",
              "<style scoped>\n",
              "    .dataframe tbody tr th:only-of-type {\n",
              "        vertical-align: middle;\n",
              "    }\n",
              "\n",
              "    .dataframe tbody tr th {\n",
              "        vertical-align: top;\n",
              "    }\n",
              "\n",
              "    .dataframe thead th {\n",
              "        text-align: right;\n",
              "    }\n",
              "</style>\n",
              "<table border=\"1\" class=\"dataframe\">\n",
              "  <thead>\n",
              "    <tr style=\"text-align: right;\">\n",
              "      <th></th>\n",
              "      <th>keyword_id</th>\n",
              "      <th>keyword_category</th>\n",
              "      <th>country</th>\n",
              "      <th>device</th>\n",
              "    </tr>\n",
              "  </thead>\n",
              "  <tbody>\n",
              "    <tr>\n",
              "      <th>count</th>\n",
              "      <td>478</td>\n",
              "      <td>478</td>\n",
              "      <td>478</td>\n",
              "      <td>478</td>\n",
              "    </tr>\n",
              "    <tr>\n",
              "      <th>unique</th>\n",
              "      <td>367</td>\n",
              "      <td>4</td>\n",
              "      <td>4</td>\n",
              "      <td>2</td>\n",
              "    </tr>\n",
              "    <tr>\n",
              "      <th>top</th>\n",
              "      <td>15043640</td>\n",
              "      <td>A</td>\n",
              "      <td>US</td>\n",
              "      <td>phone</td>\n",
              "    </tr>\n",
              "    <tr>\n",
              "      <th>freq</th>\n",
              "      <td>6</td>\n",
              "      <td>460</td>\n",
              "      <td>254</td>\n",
              "      <td>285</td>\n",
              "    </tr>\n",
              "  </tbody>\n",
              "</table>\n",
              "</div>"
            ],
            "text/plain": [
              "        keyword_id keyword_category country device\n",
              "count          478              478     478    478\n",
              "unique         367                4       4      2\n",
              "top       15043640                A      US  phone\n",
              "freq             6              460     254    285"
            ]
          },
          "metadata": {
            "tags": []
          },
          "execution_count": 14
        }
      ]
    },
    {
      "cell_type": "code",
      "metadata": {
        "id": "3AXd2nSZQcGu",
        "colab_type": "code",
        "outputId": "696c8df2-2518-4fc6-d324-8aa8149f5bc7",
        "colab": {
          "base_uri": "https://localhost:8080/",
          "height": 202
        }
      },
      "source": [
        "part_1_data.head()"
      ],
      "execution_count": 15,
      "outputs": [
        {
          "output_type": "execute_result",
          "data": {
            "text/html": [
              "<div>\n",
              "<style scoped>\n",
              "    .dataframe tbody tr th:only-of-type {\n",
              "        vertical-align: middle;\n",
              "    }\n",
              "\n",
              "    .dataframe tbody tr th {\n",
              "        vertical-align: top;\n",
              "    }\n",
              "\n",
              "    .dataframe thead th {\n",
              "        text-align: right;\n",
              "    }\n",
              "</style>\n",
              "<table border=\"1\" class=\"dataframe\">\n",
              "  <thead>\n",
              "    <tr style=\"text-align: right;\">\n",
              "      <th></th>\n",
              "      <th>keyword_id</th>\n",
              "      <th>keyword_category</th>\n",
              "      <th>country</th>\n",
              "      <th>device</th>\n",
              "      <th>cost</th>\n",
              "      <th>clicks</th>\n",
              "      <th>revenue</th>\n",
              "      <th>CPC</th>\n",
              "      <th>ROAS</th>\n",
              "      <th>total_clickouts</th>\n",
              "      <th>tracked_clickouts</th>\n",
              "      <th>tracking_coverage</th>\n",
              "      <th>booking_value</th>\n",
              "    </tr>\n",
              "  </thead>\n",
              "  <tbody>\n",
              "    <tr>\n",
              "      <th>0</th>\n",
              "      <td>12136471</td>\n",
              "      <td>A</td>\n",
              "      <td>US</td>\n",
              "      <td>desktop</td>\n",
              "      <td>5714.33</td>\n",
              "      <td>1172</td>\n",
              "      <td>2013.58</td>\n",
              "      <td>4.875708</td>\n",
              "      <td>0.352374</td>\n",
              "      <td>926</td>\n",
              "      <td>515</td>\n",
              "      <td>0.556156</td>\n",
              "      <td>9748</td>\n",
              "    </tr>\n",
              "    <tr>\n",
              "      <th>1</th>\n",
              "      <td>91730045</td>\n",
              "      <td>A</td>\n",
              "      <td>Spain</td>\n",
              "      <td>phone</td>\n",
              "      <td>4691.94</td>\n",
              "      <td>17306</td>\n",
              "      <td>9912.34</td>\n",
              "      <td>0.271116</td>\n",
              "      <td>2.112631</td>\n",
              "      <td>13989</td>\n",
              "      <td>10587</td>\n",
              "      <td>0.756809</td>\n",
              "      <td>8313</td>\n",
              "    </tr>\n",
              "    <tr>\n",
              "      <th>2</th>\n",
              "      <td>119124300</td>\n",
              "      <td>A</td>\n",
              "      <td>US</td>\n",
              "      <td>phone</td>\n",
              "      <td>4671.65</td>\n",
              "      <td>2700</td>\n",
              "      <td>3924.61</td>\n",
              "      <td>1.730241</td>\n",
              "      <td>0.840091</td>\n",
              "      <td>1717</td>\n",
              "      <td>554</td>\n",
              "      <td>0.322656</td>\n",
              "      <td>4901</td>\n",
              "    </tr>\n",
              "    <tr>\n",
              "      <th>3</th>\n",
              "      <td>101751504</td>\n",
              "      <td>A</td>\n",
              "      <td>US</td>\n",
              "      <td>phone</td>\n",
              "      <td>2771.68</td>\n",
              "      <td>1947</td>\n",
              "      <td>2789.86</td>\n",
              "      <td>1.423564</td>\n",
              "      <td>1.006559</td>\n",
              "      <td>1247</td>\n",
              "      <td>432</td>\n",
              "      <td>0.346431</td>\n",
              "      <td>1778</td>\n",
              "    </tr>\n",
              "    <tr>\n",
              "      <th>4</th>\n",
              "      <td>12136471</td>\n",
              "      <td>A</td>\n",
              "      <td>US</td>\n",
              "      <td>phone</td>\n",
              "      <td>2743.42</td>\n",
              "      <td>1507</td>\n",
              "      <td>1999.14</td>\n",
              "      <td>1.820451</td>\n",
              "      <td>0.728704</td>\n",
              "      <td>869</td>\n",
              "      <td>441</td>\n",
              "      <td>0.507480</td>\n",
              "      <td>5658</td>\n",
              "    </tr>\n",
              "  </tbody>\n",
              "</table>\n",
              "</div>"
            ],
            "text/plain": [
              "  keyword_id keyword_category  ... tracking_coverage booking_value\n",
              "0   12136471                A  ...          0.556156          9748\n",
              "1   91730045                A  ...          0.756809          8313\n",
              "2  119124300                A  ...          0.322656          4901\n",
              "3  101751504                A  ...          0.346431          1778\n",
              "4   12136471                A  ...          0.507480          5658\n",
              "\n",
              "[5 rows x 13 columns]"
            ]
          },
          "metadata": {
            "tags": []
          },
          "execution_count": 15
        }
      ]
    },
    {
      "cell_type": "markdown",
      "metadata": {
        "id": "qRkkueMuWaXB",
        "colab_type": "text"
      },
      "source": [
        "###  1. Calculate the Revenue per Click (RPC) for every keyword. \n",
        "\n",
        "### What are the top performing keywords?"
      ]
    },
    {
      "cell_type": "code",
      "metadata": {
        "id": "d2gFC_J7syGX",
        "colab_type": "code",
        "colab": {}
      },
      "source": [
        "total_clicks_Revenue = part_1_data.groupby(['keyword_id'])['revenue' , 'clicks'].agg(sum)"
      ],
      "execution_count": 0,
      "outputs": []
    },
    {
      "cell_type": "code",
      "metadata": {
        "id": "CCjfwXXdwlUJ",
        "colab_type": "code",
        "colab": {}
      },
      "source": [
        "total_clicks_Revenue.columns=['revenue_per_keyword','clicks_per_keyword']"
      ],
      "execution_count": 0,
      "outputs": []
    },
    {
      "cell_type": "code",
      "metadata": {
        "id": "y2FcR8QPxsPv",
        "colab_type": "code",
        "colab": {}
      },
      "source": [
        "total_clicks_Revenue['RPC'] = total_clicks_Revenue['revenue_per_keyword']/total_clicks_Revenue['clicks_per_keyword']"
      ],
      "execution_count": 0,
      "outputs": []
    },
    {
      "cell_type": "code",
      "metadata": {
        "id": "jd3f110uplK3",
        "colab_type": "code",
        "colab": {}
      },
      "source": [
        ""
      ],
      "execution_count": 0,
      "outputs": []
    },
    {
      "cell_type": "code",
      "metadata": {
        "id": "gtcTS9b8xvwm",
        "colab_type": "code",
        "outputId": "69138c2f-2310-4060-9bb4-93c3095da77c",
        "colab": {
          "base_uri": "https://localhost:8080/",
          "height": 225
        }
      },
      "source": [
        "np.round(total_clicks_Revenue.sort_values(by=['RPC'] , ascending=False).head(10),2)['RPC']"
      ],
      "execution_count": 19,
      "outputs": [
        {
          "output_type": "execute_result",
          "data": {
            "text/plain": [
              "keyword_id\n",
              "297709444307    3.51\n",
              "294306019       3.44\n",
              "296475442491    3.00\n",
              "14360282        2.59\n",
              "14359712        2.58\n",
              "26694563        2.42\n",
              "363636445566    2.27\n",
              "116345240       2.22\n",
              "12317520        2.20\n",
              "18368960        2.06\n",
              "Name: RPC, dtype: float64"
            ]
          },
          "metadata": {
            "tags": []
          },
          "execution_count": 19
        }
      ]
    },
    {
      "cell_type": "code",
      "metadata": {
        "id": "o-bVlN8SHpgK",
        "colab_type": "code",
        "colab": {}
      },
      "source": [
        ""
      ],
      "execution_count": 0,
      "outputs": []
    },
    {
      "cell_type": "markdown",
      "metadata": {
        "id": "QRpzASb83pd4",
        "colab_type": "text"
      },
      "source": [
        "### 2. Let's define ROAS=Revenue/Cost and suppose we want to have target ROAS=100% everywhere.\n",
        "\n",
        "### Calculate the overall ROAS. Are we achieving it?\n",
        "\n",
        "### How could we improve the way we hire our target? Do you expect a change in the traffic distribution?"
      ]
    },
    {
      "cell_type": "code",
      "metadata": {
        "id": "oPW6aR1fjagb",
        "colab_type": "code",
        "colab": {}
      },
      "source": [
        "ROAS=np.round((part_1_data['revenue'].sum()*100/part_1_data['cost'].sum()),2)"
      ],
      "execution_count": 0,
      "outputs": []
    },
    {
      "cell_type": "code",
      "metadata": {
        "id": "4WljZtwxkyxz",
        "colab_type": "code",
        "outputId": "e176826b-9fc9-446b-99ee-a59c335ee03b",
        "colab": {
          "base_uri": "https://localhost:8080/",
          "height": 34
        }
      },
      "source": [
        "ROAS"
      ],
      "execution_count": 21,
      "outputs": [
        {
          "output_type": "execute_result",
          "data": {
            "text/plain": [
              "91.17"
            ]
          },
          "metadata": {
            "tags": []
          },
          "execution_count": 21
        }
      ]
    },
    {
      "cell_type": "markdown",
      "metadata": {
        "id": "OC0F0MkfxOC0",
        "colab_type": "text"
      },
      "source": [
        "Here it is clear that the total ROAS is less than 100% so we are losing. "
      ]
    },
    {
      "cell_type": "markdown",
      "metadata": {
        "id": "p37Mku7OxYMQ",
        "colab_type": "text"
      },
      "source": [
        "To improve the way we hire our target, we try to see how ROAS varies between different categories ,\n",
        "We start with Device"
      ]
    },
    {
      "cell_type": "code",
      "metadata": {
        "id": "XFbDlbpFQcgW",
        "colab_type": "code",
        "outputId": "33c1bef0-bbb7-4321-9058-36a65ca405c4",
        "colab": {
          "base_uri": "https://localhost:8080/",
          "height": 265
        }
      },
      "source": [
        "(part_1_data['device'].value_counts(normalize=True)*100).plot(kind='pie' , autopct='%1.0f%%' )"
      ],
      "execution_count": 22,
      "outputs": [
        {
          "output_type": "execute_result",
          "data": {
            "text/plain": [
              "<matplotlib.axes._subplots.AxesSubplot at 0x7fbfafc38ba8>"
            ]
          },
          "metadata": {
            "tags": []
          },
          "execution_count": 22
        },
        {
          "output_type": "display_data",
          "data": {
            "image/png": "[encoded data removed]",
            "text/plain": [
              "<Figure size 432x288 with 1 Axes>"
            ]
          },
          "metadata": {
            "tags": []
          }
        }
      ]
    },
    {
      "cell_type": "markdown",
      "metadata": {
        "id": "7Kh47suix1-M",
        "colab_type": "text"
      },
      "source": [
        "Here we find that we have 60% of keywords are for phone users and 40% for desktop users"
      ]
    },
    {
      "cell_type": "markdown",
      "metadata": {
        "id": "02o7R2tNyEOI",
        "colab_type": "text"
      },
      "source": [
        "So let's see how ROAS varies across device category"
      ]
    },
    {
      "cell_type": "code",
      "metadata": {
        "id": "EmqMCD1289sy",
        "colab_type": "code",
        "colab": {}
      },
      "source": [
        "ROAS_per_Device=part_1_data.groupby(['device'])['revenue','cost'].sum().reset_index()"
      ],
      "execution_count": 0,
      "outputs": []
    },
    {
      "cell_type": "code",
      "metadata": {
        "id": "pMPnunu_9Qsh",
        "colab_type": "code",
        "colab": {}
      },
      "source": [
        "ROAS_per_Device['ROAS']=ROAS_per_Device['revenue']/ROAS_per_Device['cost']"
      ],
      "execution_count": 0,
      "outputs": []
    },
    {
      "cell_type": "code",
      "metadata": {
        "id": "8zaLEE-R9bJg",
        "colab_type": "code",
        "outputId": "2ea5eb1e-d77d-4bd5-e590-9a48b144f041",
        "colab": {
          "base_uri": "https://localhost:8080/",
          "height": 110
        }
      },
      "source": [
        "ROAS_per_Device"
      ],
      "execution_count": 25,
      "outputs": [
        {
          "output_type": "execute_result",
          "data": {
            "text/html": [
              "<div>\n",
              "<style scoped>\n",
              "    .dataframe tbody tr th:only-of-type {\n",
              "        vertical-align: middle;\n",
              "    }\n",
              "\n",
              "    .dataframe tbody tr th {\n",
              "        vertical-align: top;\n",
              "    }\n",
              "\n",
              "    .dataframe thead th {\n",
              "        text-align: right;\n",
              "    }\n",
              "</style>\n",
              "<table border=\"1\" class=\"dataframe\">\n",
              "  <thead>\n",
              "    <tr style=\"text-align: right;\">\n",
              "      <th></th>\n",
              "      <th>device</th>\n",
              "      <th>revenue</th>\n",
              "      <th>cost</th>\n",
              "      <th>ROAS</th>\n",
              "    </tr>\n",
              "  </thead>\n",
              "  <tbody>\n",
              "    <tr>\n",
              "      <th>0</th>\n",
              "      <td>desktop</td>\n",
              "      <td>40511.0</td>\n",
              "      <td>76541.26</td>\n",
              "      <td>0.529270</td>\n",
              "    </tr>\n",
              "    <tr>\n",
              "      <th>1</th>\n",
              "      <td>phone</td>\n",
              "      <td>137876.7</td>\n",
              "      <td>119131.65</td>\n",
              "      <td>1.157347</td>\n",
              "    </tr>\n",
              "  </tbody>\n",
              "</table>\n",
              "</div>"
            ],
            "text/plain": [
              "    device   revenue       cost      ROAS\n",
              "0  desktop   40511.0   76541.26  0.529270\n",
              "1    phone  137876.7  119131.65  1.157347"
            ]
          },
          "metadata": {
            "tags": []
          },
          "execution_count": 25
        }
      ]
    },
    {
      "cell_type": "markdown",
      "metadata": {
        "id": "Yv1nzJwtywr9",
        "colab_type": "text"
      },
      "source": [
        "We see that ROAS seems higher for phone users, but let's check this statistically :\n",
        "\n",
        "We need here to apply significance test for difference in average between ROAS among hone and desktop users.\n",
        "\n",
        "First we check normality of distribution of ROAS so we can apply t - test\n",
        "\n",
        "We use distribution plot to visualize distribution of ROAS , and shapiro test for normality"
      ]
    },
    {
      "cell_type": "code",
      "metadata": {
        "id": "trM_NASh_RLm",
        "colab_type": "code",
        "outputId": "3162751f-4323-419f-c379-963ae5581cc8",
        "colab": {
          "base_uri": "https://localhost:8080/",
          "height": 296
        }
      },
      "source": [
        "sns.distplot(part_1_data['ROAS'])"
      ],
      "execution_count": 26,
      "outputs": [
        {
          "output_type": "execute_result",
          "data": {
            "text/plain": [
              "<matplotlib.axes._subplots.AxesSubplot at 0x7fbfae96b278>"
            ]
          },
          "metadata": {
            "tags": []
          },
          "execution_count": 26
        },
        {
          "output_type": "display_data",
          "data": {
            "image/png": "[encoded data removed]",
            "text/plain": [
              "<Figure size 432x288 with 1 Axes>"
            ]
          },
          "metadata": {
            "tags": []
          }
        }
      ]
    },
    {
      "cell_type": "markdown",
      "metadata": {
        "id": "xG4LJykuzpwk",
        "colab_type": "text"
      },
      "source": [
        "checking normality of ROAS generally"
      ]
    },
    {
      "cell_type": "code",
      "metadata": {
        "id": "ApBnmtC4a1cL",
        "colab_type": "code",
        "outputId": "4d24f7f0-0971-4da0-ac16-910f1500025e",
        "colab": {
          "base_uri": "https://localhost:8080/",
          "height": 34
        }
      },
      "source": [
        "stats.shapiro(np.log(part_1_data['ROAS']))"
      ],
      "execution_count": 27,
      "outputs": [
        {
          "output_type": "execute_result",
          "data": {
            "text/plain": [
              "(0.993861973285675, 0.05028387904167175)"
            ]
          },
          "metadata": {
            "tags": []
          },
          "execution_count": 27
        }
      ]
    },
    {
      "cell_type": "markdown",
      "metadata": {
        "id": "aQ5WSpEqz8pA",
        "colab_type": "text"
      },
      "source": [
        "checking normality of ROAS among desktop users"
      ]
    },
    {
      "cell_type": "code",
      "metadata": {
        "id": "zufT-Y7Xa1Zj",
        "colab_type": "code",
        "outputId": "755260e9-e1d1-4938-b279-7154823f78fc",
        "colab": {
          "base_uri": "https://localhost:8080/",
          "height": 34
        }
      },
      "source": [
        "stats.shapiro(part_1_data.loc[part_1_data['device']=='desktop' , ['ROAS']])"
      ],
      "execution_count": 28,
      "outputs": [
        {
          "output_type": "execute_result",
          "data": {
            "text/plain": [
              "(0.968809962272644, 0.000269997282885015)"
            ]
          },
          "metadata": {
            "tags": []
          },
          "execution_count": 28
        }
      ]
    },
    {
      "cell_type": "markdown",
      "metadata": {
        "id": "hoenSfOSz_yB",
        "colab_type": "text"
      },
      "source": [
        "checking normality of ROAS among phone users"
      ]
    },
    {
      "cell_type": "code",
      "metadata": {
        "id": "s8OP93u5m9jV",
        "colab_type": "code",
        "outputId": "23de993f-0686-4a85-f6cb-5de55e0c4b86",
        "colab": {
          "base_uri": "https://localhost:8080/",
          "height": 34
        }
      },
      "source": [
        "stats.shapiro(part_1_data.loc[part_1_data['device']=='phone' , ['ROAS']])"
      ],
      "execution_count": 29,
      "outputs": [
        {
          "output_type": "execute_result",
          "data": {
            "text/plain": [
              "(0.9024972915649414, 1.307144171548702e-12)"
            ]
          },
          "metadata": {
            "tags": []
          },
          "execution_count": 29
        }
      ]
    },
    {
      "cell_type": "markdown",
      "metadata": {
        "id": "7U67-nclziBG",
        "colab_type": "text"
      },
      "source": [
        "we see that p - value for all is less than 0.1 , also distribution of ROAS seems highly skewed to the right , so  to test if the mean of ROAS varies significantly between devices we need log transformation."
      ]
    },
    {
      "cell_type": "markdown",
      "metadata": {
        "id": "RpECiVHk0n_8",
        "colab_type": "text"
      },
      "source": [
        "#### Now we test whether ROAS is normal for both device categories "
      ]
    },
    {
      "cell_type": "code",
      "metadata": {
        "id": "I9Z1kEU3GgTu",
        "colab_type": "code",
        "outputId": "4149f69c-42db-4de4-ccd0-8e6e4a5bfe09",
        "colab": {
          "base_uri": "https://localhost:8080/",
          "height": 34
        }
      },
      "source": [
        "stats.shapiro(np.log(part_1_data.loc[part_1_data['device']=='phone' , ['ROAS']]))"
      ],
      "execution_count": 30,
      "outputs": [
        {
          "output_type": "execute_result",
          "data": {
            "text/plain": [
              "(0.9966021776199341, 0.8059044480323792)"
            ]
          },
          "metadata": {
            "tags": []
          },
          "execution_count": 30
        }
      ]
    },
    {
      "cell_type": "code",
      "metadata": {
        "id": "VebGGgPGYW8I",
        "colab_type": "code",
        "outputId": "12b788c8-c3a5-4747-d5ae-39b794d2e644",
        "colab": {
          "base_uri": "https://localhost:8080/",
          "height": 34
        }
      },
      "source": [
        "stats.shapiro(np.log(part_1_data.loc[part_1_data['device']=='desktop' , ['ROAS']]))"
      ],
      "execution_count": 31,
      "outputs": [
        {
          "output_type": "execute_result",
          "data": {
            "text/plain": [
              "(0.9884333610534668, 0.11863773316144943)"
            ]
          },
          "metadata": {
            "tags": []
          },
          "execution_count": 31
        }
      ]
    },
    {
      "cell_type": "markdown",
      "metadata": {
        "id": "AtxYh96N09I_",
        "colab_type": "text"
      },
      "source": [
        "So p - value is less than 0.1 , so we can not reject that ROAS isnormal for both device categories after taking log transformation."
      ]
    },
    {
      "cell_type": "markdown",
      "metadata": {
        "id": "Uk4B3Vzq1KsF",
        "colab_type": "text"
      },
      "source": [
        "Now we run the test"
      ]
    },
    {
      "cell_type": "code",
      "metadata": {
        "id": "Zh3siyCq_RIz",
        "colab_type": "code",
        "outputId": "5f7e772d-7699-49dc-ae30-92c8c49d2402",
        "colab": {
          "base_uri": "https://localhost:8080/",
          "height": 34
        }
      },
      "source": [
        "stats.ttest_ind(np.log(part_1_data.loc[part_1_data['device']=='phone' , ['ROAS']]),np.log(part_1_data.loc[part_1_data['device']=='desktop' , ['ROAS']]))"
      ],
      "execution_count": 32,
      "outputs": [
        {
          "output_type": "execute_result",
          "data": {
            "text/plain": [
              "Ttest_indResult(statistic=array([17.59386619]), pvalue=array([9.62945169e-54]))"
            ]
          },
          "metadata": {
            "tags": []
          },
          "execution_count": 32
        }
      ]
    },
    {
      "cell_type": "markdown",
      "metadata": {
        "id": "axWrRiBh1MtI",
        "colab_type": "text"
      },
      "source": [
        "So we find that average of ROAS is higher in case of Device is phone than in case of desktop devices , \n",
        "\n",
        "#### So, we can try to improve ROAS rate , if we make traffic depends more on phone devices users."
      ]
    },
    {
      "cell_type": "markdown",
      "metadata": {
        "id": "00b71lIkfcKj",
        "colab_type": "text"
      },
      "source": [
        "#### Then let's check by country"
      ]
    },
    {
      "cell_type": "markdown",
      "metadata": {
        "id": "inE0i82j4aRj",
        "colab_type": "text"
      },
      "source": [
        "so we check first which country hs the largest portion of traffic."
      ]
    },
    {
      "cell_type": "code",
      "metadata": {
        "id": "G_sIbtLpfhkB",
        "colab_type": "code",
        "outputId": "dc5ecc4f-b476-41a4-ef18-f5dc56453f4a",
        "colab": {
          "base_uri": "https://localhost:8080/",
          "height": 104
        }
      },
      "source": [
        "np.round(part_1_data['country'].value_counts(normalize=True)*100,2)\n"
      ],
      "execution_count": 33,
      "outputs": [
        {
          "output_type": "execute_result",
          "data": {
            "text/plain": [
              "US         53.14\n",
              "Germany    23.43\n",
              "Spain      12.34\n",
              "France     11.09\n",
              "Name: country, dtype: float64"
            ]
          },
          "metadata": {
            "tags": []
          },
          "execution_count": 33
        }
      ]
    },
    {
      "cell_type": "markdown",
      "metadata": {
        "id": "53FcAFth4hKy",
        "colab_type": "text"
      },
      "source": [
        "we see that US has the largest portion with more than 50% of traffic.\n",
        "\n",
        "Then we see how countries vary as per average of ROAS."
      ]
    },
    {
      "cell_type": "code",
      "metadata": {
        "id": "CJQeMR_XbGNp",
        "colab_type": "code",
        "outputId": "641288ed-0d8e-4bea-e934-678fb8c01c7e",
        "colab": {
          "base_uri": "https://localhost:8080/",
          "height": 332
        }
      },
      "source": [
        "part_1_data.groupby(['country'])['ROAS'].mean().plot(kind='bar')"
      ],
      "execution_count": 34,
      "outputs": [
        {
          "output_type": "execute_result",
          "data": {
            "text/plain": [
              "<matplotlib.axes._subplots.AxesSubplot at 0x7fbfae46a5c0>"
            ]
          },
          "metadata": {
            "tags": []
          },
          "execution_count": 34
        },
        {
          "output_type": "display_data",
          "data": {
            "image/png": "[encoded data removed]",
            "text/plain": [
              "<Figure size 432x288 with 1 Axes>"
            ]
          },
          "metadata": {
            "tags": []
          }
        }
      ]
    },
    {
      "cell_type": "markdown",
      "metadata": {
        "id": "JXEsqenv5Wjl",
        "colab_type": "text"
      },
      "source": [
        "Here we notice that differences between countries are slight.\n",
        "\n",
        "Let's verify that statistically, we use one way anova to see if any of the 4 country categories has a different mean than others as per LOG of ROAS ( we take log transformationto validate normality assumption)"
      ]
    },
    {
      "cell_type": "code",
      "metadata": {
        "id": "Ny2QWGH0bGTa",
        "colab_type": "code",
        "outputId": "782ffe39-d763-422d-f0f6-8b35d6e422fb",
        "colab": {
          "base_uri": "https://localhost:8080/",
          "height": 34
        }
      },
      "source": [
        "stats.f_oneway(np.log(part_1_data.loc[part_1_data['country'] == 'France' ,['ROAS']]), \n",
        "             np.log(part_1_data.loc[part_1_data['country'] == 'US' ,['ROAS']]),\n",
        "             np.log(part_1_data.loc[part_1_data['country'] == 'Spain' ,['ROAS']]),\n",
        "             np.log(part_1_data.loc[part_1_data['country'] == 'Germany' ,['ROAS']]))"
      ],
      "execution_count": 35,
      "outputs": [
        {
          "output_type": "execute_result",
          "data": {
            "text/plain": [
              "F_onewayResult(statistic=array([1.84964999]), pvalue=array([0.13729727]))"
            ]
          },
          "metadata": {
            "tags": []
          },
          "execution_count": 35
        }
      ]
    },
    {
      "cell_type": "markdown",
      "metadata": {
        "id": "UgkBTt7u6KSB",
        "colab_type": "text"
      },
      "source": [
        "Since p - value is larger than 0.1 , we can not reject that ROAS mean is equal for all countries.\n",
        "\n",
        "### So here to improve ROAS to reach our target we need to have more traffic from phone devices and that's how our traffic will change.\n",
        "\n",
        "#### we can increase mobile friendliness of the site , this is expected to make more traffic from mobile device users , also we can refine keywords targeting to attract our direct target customers, this will get higher clicks from specific keywords than others\n",
        "\n",
        "#### for more ways to improve ROAS check that article: https://www.visiture.com/blog/a-tactical-cheat-sheet-to-improving-your-ppc-roas/"
      ]
    },
    {
      "cell_type": "markdown",
      "metadata": {
        "id": "Lnqik6zN6tot",
        "colab_type": "text"
      },
      "source": [
        "### C) Tracked click-outs are a subset of click-outs for which we know what happens afterward\n",
        "###with the booking on the hotel booking site that the user is redirected to.\n",
        "###• Why do you think the tracking coverage is below 100%?\n",
        "###• Why do you think the tracking coverage varies with every keyword?"
      ]
    },
    {
      "cell_type": "markdown",
      "metadata": {
        "id": "E2Rl98NN6yz0",
        "colab_type": "text"
      },
      "source": [
        "first we have a quick brief about the variability in tracking coverage "
      ]
    },
    {
      "cell_type": "code",
      "metadata": {
        "id": "gg-BNWn6hvWw",
        "colab_type": "code",
        "outputId": "30310481-a866-4262-9678-0a98090b8166",
        "colab": {
          "base_uri": "https://localhost:8080/",
          "height": 282
        }
      },
      "source": [
        "part_1_data['tracking_coverage'].plot(kind='hist')"
      ],
      "execution_count": 36,
      "outputs": [
        {
          "output_type": "execute_result",
          "data": {
            "text/plain": [
              "<matplotlib.axes._subplots.AxesSubplot at 0x7fbfae3ce940>"
            ]
          },
          "metadata": {
            "tags": []
          },
          "execution_count": 36
        },
        {
          "output_type": "display_data",
          "data": {
            "image/png": "[encoded data removed]",
            "text/plain": [
              "<Figure size 432x288 with 1 Axes>"
            ]
          },
          "metadata": {
            "tags": []
          }
        }
      ]
    },
    {
      "cell_type": "markdown",
      "metadata": {
        "id": "Skru951i7XDi",
        "colab_type": "text"
      },
      "source": [
        "### • we see that it is less than 1 , this is because of bounce rate , not all clickouts are tracked , since a lot of users click on the link that drives to advertiser website , then closes without any activity to track "
      ]
    },
    {
      "cell_type": "markdown",
      "metadata": {
        "id": "KLAw4egUK-6K",
        "colab_type": "text"
      },
      "source": [
        "#### • The tracked clickout percent is not the same for all keywords, since some keywords are directly about what a customer needs like \"Hotels in Egypt\".\n",
        "#### these  are expected to have a higher tracked clickouts percentage  . since once a user searches this keyword , clicks on trivago , he finds ads about hotels in Egypt , he goes to advertiser site , browse prices and do some activity to track.\n",
        "#### unlikely, some other keywords are more general like like \"Life in Egypt\" which is not direct enough , and it is not guarnteed that the browser who searches this keyword is really a visitor who plans to visit Egypt, so if he clicks a link to the advertiser website , he may close it without any activity\n",
        "### For the above reasons  not all keywords have the same tracking coverage"
      ]
    },
    {
      "cell_type": "markdown",
      "metadata": {
        "id": "X0seoi9iOK9h",
        "colab_type": "text"
      },
      "source": [
        "### D) Would you trust the booking value per tracked click-out (BVPtCO) from every keyword the same?"
      ]
    },
    {
      "cell_type": "markdown",
      "metadata": {
        "id": "H4cQSiVJziV3",
        "colab_type": "text"
      },
      "source": [
        "since we will work on keyword as our unit  , we will group our data by keyword , recalculate averages for keyword as a unit."
      ]
    },
    {
      "cell_type": "code",
      "metadata": {
        "id": "GZYGz9FDfU8I",
        "colab_type": "code",
        "colab": {}
      },
      "source": [
        "part_1_data_k = part_1_data.merge(total_clicks_Revenue , on=['keyword_id']).groupby(['keyword_id','device']).sum()"
      ],
      "execution_count": 0,
      "outputs": []
    },
    {
      "cell_type": "code",
      "metadata": {
        "id": "qN7lmGcifmAh",
        "colab_type": "code",
        "colab": {}
      },
      "source": [
        "part_1_data_k['tracking_coverage'] = part_1_data_k['tracked_clickouts'] / part_1_data_k['total_clickouts']\n",
        "part_1_data_k['CPC'] = part_1_data_k['cost'] / part_1_data_k['clicks']\n",
        "part_1_data_k['ROAS'] = part_1_data_k['revenue'] / part_1_data_k['tracked_clickouts']\n",
        "\n"
      ],
      "execution_count": 0,
      "outputs": []
    },
    {
      "cell_type": "markdown",
      "metadata": {
        "id": "pWQ_joclbumb",
        "colab_type": "text"
      },
      "source": [
        "then we calculate , booking value per tracked click-out (BVPtCO) as booking_value / tracked_clickouts"
      ]
    },
    {
      "cell_type": "code",
      "metadata": {
        "id": "b6e9bMFZQcmG",
        "colab_type": "code",
        "colab": {}
      },
      "source": [
        "part_1_data_k['BVPtCO'] = part_1_data_k['booking_value'] / part_1_data_k['tracked_clickouts']"
      ],
      "execution_count": 0,
      "outputs": []
    },
    {
      "cell_type": "markdown",
      "metadata": {
        "id": "1cv-N0JqQcj3",
        "colab_type": "text"
      },
      "source": [
        "then we have a quick impression about its distribution, "
      ]
    },
    {
      "cell_type": "code",
      "metadata": {
        "id": "kJdco8chQdKO",
        "colab_type": "code",
        "outputId": "e9f3b360-ef22-437e-8db3-9f2e1d2e654e",
        "colab": {
          "base_uri": "https://localhost:8080/",
          "height": 282
        }
      },
      "source": [
        "sns.distplot(part_1_data_k.loc[part_1_data_k['tracked_clickouts'] > 0,['BVPtCO']])"
      ],
      "execution_count": 40,
      "outputs": [
        {
          "output_type": "execute_result",
          "data": {
            "text/plain": [
              "<matplotlib.axes._subplots.AxesSubplot at 0x7fbfae3692e8>"
            ]
          },
          "metadata": {
            "tags": []
          },
          "execution_count": 40
        },
        {
          "output_type": "display_data",
          "data": {
            "image/png": "[encoded data removed]",
            "text/plain": [
              "<Figure size 432x288 with 1 Axes>"
            ]
          },
          "metadata": {
            "tags": []
          }
        }
      ]
    },
    {
      "cell_type": "markdown",
      "metadata": {
        "id": "SwwBp3oteFTt",
        "colab_type": "text"
      },
      "source": [
        "as we find , it is highly skewed to the right, indicating presense of outliers.\n",
        "\n",
        "We needto judge what affects (BVPtCO) so we can not trust it equally for all keywords as an indicator for quality for all keywords"
      ]
    },
    {
      "cell_type": "code",
      "metadata": {
        "id": "kXNevL3ZbGcT",
        "colab_type": "code",
        "outputId": "d0109e68-b913-4ce9-c07d-522bd1631f51",
        "colab": {
          "base_uri": "https://localhost:8080/",
          "height": 260
        }
      },
      "source": [
        "part_1_data_k.loc[part_1_data_k['tracked_clickouts'] > 0].corr()['BVPtCO']"
      ],
      "execution_count": 41,
      "outputs": [
        {
          "output_type": "execute_result",
          "data": {
            "text/plain": [
              "cost                  -0.011144\n",
              "clicks                -0.127875\n",
              "revenue               -0.109219\n",
              "CPC                    0.511224\n",
              "ROAS                   0.187999\n",
              "total_clickouts       -0.117063\n",
              "tracked_clickouts     -0.105362\n",
              "tracking_coverage     -0.093520\n",
              "booking_value          0.301714\n",
              "revenue_per_keyword   -0.037006\n",
              "clicks_per_keyword    -0.075806\n",
              "RPC                    0.294295\n",
              "BVPtCO                 1.000000\n",
              "Name: BVPtCO, dtype: float64"
            ]
          },
          "metadata": {
            "tags": []
          },
          "execution_count": 41
        }
      ]
    },
    {
      "cell_type": "markdown",
      "metadata": {
        "id": "Tx2hfdOU1o8X",
        "colab_type": "text"
      },
      "source": [
        "#### Here we find that the most correlated feature with (BVPtCO) is CPC cost per click , so (BVPtCO) doesn't reflect quality of keyword , so the more Trivago spends on keyword to be more viewed ,  (BVPtCO) gets better. As clear from the scatter plot below.\n",
        "\n"
      ]
    },
    {
      "cell_type": "code",
      "metadata": {
        "id": "hxbFOE_hiAGW",
        "colab_type": "code",
        "outputId": "b1774d2e-583d-4e23-9af0-ce31add73fe8",
        "colab": {
          "base_uri": "https://localhost:8080/",
          "height": 300
        }
      },
      "source": [
        "part_1_data_k.loc[part_1_data_k['tracked_clickouts'] > 0].plot(kind='scatter' , y=['BVPtCO'] , x=['CPC'])"
      ],
      "execution_count": 42,
      "outputs": [
        {
          "output_type": "execute_result",
          "data": {
            "text/plain": [
              "<matplotlib.axes._subplots.AxesSubplot at 0x7fbfae247a90>"
            ]
          },
          "metadata": {
            "tags": []
          },
          "execution_count": 42
        },
        {
          "output_type": "display_data",
          "data": {
            "image/png": "[encoded data removed]",
            "text/plain": [
              "<Figure size 432x288 with 1 Axes>"
            ]
          },
          "metadata": {
            "tags": []
          }
        }
      ]
    },
    {
      "cell_type": "markdown",
      "metadata": {
        "id": "4ObtsKPD06w4",
        "colab_type": "text"
      },
      "source": [
        "#### Also, tracking coverage makes meaningfulness of  (BVPtCO) differs per keyword. the more the clickouts of the keyword are tracked , the more (BVPtCO) gets really meaningful and not biased.\n",
        "\n",
        "#### Consider that the correlation between (BVPtCO) and tracking coverage is negative , despite it is a weak correlation ( -0.093520) but this gives an intuition that it we may have a keyword with only a one tracked keyword , but it may by chance have a large booking value.\n",
        "\n"
      ]
    },
    {
      "cell_type": "code",
      "metadata": {
        "colab_type": "code",
        "outputId": "044b2af8-3eea-4290-b126-ef1e7c2b64e6",
        "id": "K2lGEl8rhSXp",
        "colab": {
          "base_uri": "https://localhost:8080/",
          "height": 253
        }
      },
      "source": [
        "part_1_data_k.sort_values(['tracking_coverage'] , ascending=True).head()"
      ],
      "execution_count": 43,
      "outputs": [
        {
          "output_type": "execute_result",
          "data": {
            "text/html": [
              "<div>\n",
              "<style scoped>\n",
              "    .dataframe tbody tr th:only-of-type {\n",
              "        vertical-align: middle;\n",
              "    }\n",
              "\n",
              "    .dataframe tbody tr th {\n",
              "        vertical-align: top;\n",
              "    }\n",
              "\n",
              "    .dataframe thead th {\n",
              "        text-align: right;\n",
              "    }\n",
              "</style>\n",
              "<table border=\"1\" class=\"dataframe\">\n",
              "  <thead>\n",
              "    <tr style=\"text-align: right;\">\n",
              "      <th></th>\n",
              "      <th></th>\n",
              "      <th>cost</th>\n",
              "      <th>clicks</th>\n",
              "      <th>revenue</th>\n",
              "      <th>CPC</th>\n",
              "      <th>ROAS</th>\n",
              "      <th>total_clickouts</th>\n",
              "      <th>tracked_clickouts</th>\n",
              "      <th>tracking_coverage</th>\n",
              "      <th>booking_value</th>\n",
              "      <th>revenue_per_keyword</th>\n",
              "      <th>clicks_per_keyword</th>\n",
              "      <th>RPC</th>\n",
              "      <th>BVPtCO</th>\n",
              "    </tr>\n",
              "    <tr>\n",
              "      <th>keyword_id</th>\n",
              "      <th>device</th>\n",
              "      <th></th>\n",
              "      <th></th>\n",
              "      <th></th>\n",
              "      <th></th>\n",
              "      <th></th>\n",
              "      <th></th>\n",
              "      <th></th>\n",
              "      <th></th>\n",
              "      <th></th>\n",
              "      <th></th>\n",
              "      <th></th>\n",
              "      <th></th>\n",
              "      <th></th>\n",
              "    </tr>\n",
              "  </thead>\n",
              "  <tbody>\n",
              "    <tr>\n",
              "      <th>1546094461</th>\n",
              "      <th>desktop</th>\n",
              "      <td>210.51</td>\n",
              "      <td>111</td>\n",
              "      <td>58.92</td>\n",
              "      <td>1.896486</td>\n",
              "      <td>19.640000</td>\n",
              "      <td>57</td>\n",
              "      <td>3</td>\n",
              "      <td>0.052632</td>\n",
              "      <td>0</td>\n",
              "      <td>58.92</td>\n",
              "      <td>111</td>\n",
              "      <td>0.530811</td>\n",
              "      <td>0.000000</td>\n",
              "    </tr>\n",
              "    <tr>\n",
              "      <th>297138567070</th>\n",
              "      <th>desktop</th>\n",
              "      <td>245.63</td>\n",
              "      <td>63</td>\n",
              "      <td>76.89</td>\n",
              "      <td>3.898889</td>\n",
              "      <td>19.222500</td>\n",
              "      <td>35</td>\n",
              "      <td>4</td>\n",
              "      <td>0.114286</td>\n",
              "      <td>0</td>\n",
              "      <td>351.98</td>\n",
              "      <td>255</td>\n",
              "      <td>1.380314</td>\n",
              "      <td>0.000000</td>\n",
              "    </tr>\n",
              "    <tr>\n",
              "      <th>438534601</th>\n",
              "      <th>phone</th>\n",
              "      <td>528.60</td>\n",
              "      <td>514</td>\n",
              "      <td>556.44</td>\n",
              "      <td>1.028405</td>\n",
              "      <td>12.646364</td>\n",
              "      <td>247</td>\n",
              "      <td>44</td>\n",
              "      <td>0.178138</td>\n",
              "      <td>90</td>\n",
              "      <td>556.44</td>\n",
              "      <td>514</td>\n",
              "      <td>1.082568</td>\n",
              "      <td>2.045455</td>\n",
              "    </tr>\n",
              "    <tr>\n",
              "      <th rowspan=\"2\" valign=\"top\">403090956</th>\n",
              "      <th>phone</th>\n",
              "      <td>202.38</td>\n",
              "      <td>247</td>\n",
              "      <td>316.29</td>\n",
              "      <td>0.819352</td>\n",
              "      <td>13.178750</td>\n",
              "      <td>128</td>\n",
              "      <td>24</td>\n",
              "      <td>0.187500</td>\n",
              "      <td>0</td>\n",
              "      <td>467.69</td>\n",
              "      <td>358</td>\n",
              "      <td>1.306397</td>\n",
              "      <td>0.000000</td>\n",
              "    </tr>\n",
              "    <tr>\n",
              "      <th>desktop</th>\n",
              "      <td>273.88</td>\n",
              "      <td>111</td>\n",
              "      <td>151.40</td>\n",
              "      <td>2.467387</td>\n",
              "      <td>12.616667</td>\n",
              "      <td>62</td>\n",
              "      <td>12</td>\n",
              "      <td>0.193548</td>\n",
              "      <td>1040</td>\n",
              "      <td>467.69</td>\n",
              "      <td>358</td>\n",
              "      <td>1.306397</td>\n",
              "      <td>86.666667</td>\n",
              "    </tr>\n",
              "  </tbody>\n",
              "</table>\n",
              "</div>"
            ],
            "text/plain": [
              "                        cost  clicks  ...       RPC     BVPtCO\n",
              "keyword_id   device                   ...                     \n",
              "1546094461   desktop  210.51     111  ...  0.530811   0.000000\n",
              "297138567070 desktop  245.63      63  ...  1.380314   0.000000\n",
              "438534601    phone    528.60     514  ...  1.082568   2.045455\n",
              "403090956    phone    202.38     247  ...  1.306397   0.000000\n",
              "             desktop  273.88     111  ...  1.306397  86.666667\n",
              "\n",
              "[5 rows x 13 columns]"
            ]
          },
          "metadata": {
            "tags": []
          },
          "execution_count": 43
        }
      ]
    },
    {
      "cell_type": "markdown",
      "metadata": {
        "id": "z9InMcIu_Y7S",
        "colab_type": "text"
      },
      "source": [
        "#### Here , the keyword '403090956' with desktop device despite the low (tracking_coverage) 0.19 but we have a high (BVPtCO) is high 86.666\n",
        "\n",
        "#### So we can state that meaningfulness of (BVPtCO) differs per keyword. the more the clickouts of the keyword are tracked , the more (BVPtCO) gets really meaningful and not biased."
      ]
    },
    {
      "cell_type": "markdown",
      "metadata": {
        "id": "L5YueARq81px",
        "colab_type": "text"
      },
      "source": [
        "### For the above reasons , we can not trust (BVPtCO) from every keyword the same.\n",
        "\n"
      ]
    },
    {
      "cell_type": "markdown",
      "metadata": {
        "id": "-xbwDA7bAJMG",
        "colab_type": "text"
      },
      "source": [
        "### e) Google provides performance reporting segmented by device. Device is either desktop or\n",
        "###phone.\n",
        "###• Create a short report of your key observations about the performance of these different devices.\n",
        "###• Do they perform as you would expect?\n",
        "###• Assume you are able to apply device bid modifiers. How would you calculate the modifiers and what do you expect to happen after applying them?"
      ]
    },
    {
      "cell_type": "markdown",
      "metadata": {
        "id": "1ibxd5_6HtxI",
        "colab_type": "text"
      },
      "source": [
        ""
      ]
    },
    {
      "cell_type": "code",
      "metadata": {
        "id": "jmnjtUhzHt6e",
        "colab_type": "code",
        "colab": {}
      },
      "source": [
        "part_1_data= part_1_data.merge(total_clicks_Revenue , on=['keyword_id'])"
      ],
      "execution_count": 0,
      "outputs": []
    },
    {
      "cell_type": "markdown",
      "metadata": {
        "id": "GhcS5mFXc3i4",
        "colab_type": "text"
      },
      "source": [
        ""
      ]
    },
    {
      "cell_type": "code",
      "metadata": {
        "id": "zfiAvIORc3rG",
        "colab_type": "code",
        "colab": {}
      },
      "source": [
        "part_1_data['BVPtCO'] = part_1_data['booking_value'] / part_1_data['tracked_clickouts']\n"
      ],
      "execution_count": 0,
      "outputs": []
    },
    {
      "cell_type": "markdown",
      "metadata": {
        "id": "mVPpGUnYABvS",
        "colab_type": "text"
      },
      "source": [
        "we first see how kewwords are distributed among devices"
      ]
    },
    {
      "cell_type": "code",
      "metadata": {
        "id": "4FQ0lk5KwuIE",
        "colab_type": "code",
        "colab": {}
      },
      "source": [
        "part_1_data_k.reset_index(level=['device'] , inplace=True)"
      ],
      "execution_count": 0,
      "outputs": []
    },
    {
      "cell_type": "code",
      "metadata": {
        "colab_type": "code",
        "outputId": "483acfcc-0e79-42e2-e18d-a27d323cb291",
        "id": "3k11DOzLxJJt",
        "colab": {
          "base_uri": "https://localhost:8080/",
          "height": 265
        }
      },
      "source": [
        "(part_1_data_k['device'].value_counts(normalize=True)*100).plot(kind='pie' , autopct='%1.0f%%' )"
      ],
      "execution_count": 47,
      "outputs": [
        {
          "output_type": "execute_result",
          "data": {
            "text/plain": [
              "<matplotlib.axes._subplots.AxesSubplot at 0x7fbfae2359e8>"
            ]
          },
          "metadata": {
            "tags": []
          },
          "execution_count": 47
        },
        {
          "output_type": "display_data",
          "data": {
            "image/png": "[encoded data removed]",
            "text/plain": [
              "<Figure size 432x288 with 1 Axes>"
            ]
          },
          "metadata": {
            "tags": []
          }
        }
      ]
    },
    {
      "cell_type": "markdown",
      "metadata": {
        "id": "p8N1gQeNB2RR",
        "colab_type": "text"
      },
      "source": [
        "As we see , 60% of keywords are for phone devices and 40% are for desktop."
      ]
    },
    {
      "cell_type": "markdown",
      "metadata": {
        "id": "tFDBOugDFc0J",
        "colab_type": "text"
      },
      "source": [
        "Below we will see how the main indicators differ across device categories \n",
        "\n",
        "We have the indicators ('tracking_coverage' ,'ROAS','clicks' ,'booking_value' , 'RPC', 'CPC' , 'BVPtCO')\n",
        "\n",
        "We will have bar chart for mean of each indicator, followed by independent sample t - test for the mean of the indicator across device categories after taking log transformation.\n",
        "\n",
        "We already had discussed ROAS and we proved that there is  difference in favour of phone devices , and to increase ROAS generally we need to make more traffic from phone devices.\n"
      ]
    },
    {
      "cell_type": "code",
      "metadata": {
        "id": "OGnI2CvlOGS_",
        "colab_type": "code",
        "outputId": "9937ac58-c9a4-4917-bcef-f885c33a41cd",
        "colab": {
          "base_uri": "https://localhost:8080/",
          "height": 1000
        }
      },
      "source": [
        " \n",
        "for  i in ['tracking_coverage' ,'clicks' ,'booking_value' , 'RPC', 'CPC' , 'BVPtCO'] : \n",
        "     print(' ')\n",
        "     print(\"average \" + i + \" per device type\")\n",
        "     ax = np.round((part_1_data.groupby(['device'])[i].agg('mean')),2).plot(kind='bar')\n",
        "     for p in ax.patches:\n",
        "        ax.annotate(str(p.get_height()), (p.get_x() * 1.0, p.get_height() * 1.0))\n",
        "     plt.show()\n",
        "     if (stats.ttest_ind(np.log(part_1_data.loc[part_1_data['device']== 'phone' ,i]) , np.log(part_1_data.loc[part_1_data['device']== 'desktop' ,i] ) )[1]) > 0.1 :\n",
        "        print ( \"average \" + i + \" is not different significantly per device type\" )\n",
        "     else : \n",
        "      print ( \"average \" + i + \" is different significantly per device type\" )\n",
        "     print(' ')\n",
        "\n",
        "     print('_____________________')\n",
        "\n",
        "                                                                                             \n",
        "     \n",
        "  \n"
      ],
      "execution_count": 48,
      "outputs": [
        {
          "output_type": "stream",
          "text": [
            " \n",
            "average tracking_coverage per device type\n"
          ],
          "name": "stdout"
        },
        {
          "output_type": "display_data",
          "data": {
            "image/png": "[encoded data removed]",
            "text/plain": [
              "<Figure size 432x288 with 1 Axes>"
            ]
          },
          "metadata": {
            "tags": []
          }
        },
        {
          "output_type": "stream",
          "text": [
            "average tracking_coverage is not different significantly per device type\n",
            " \n",
            "_____________________\n",
            " \n",
            "average clicks per device type\n"
          ],
          "name": "stdout"
        },
        {
          "output_type": "display_data",
          "data": {
            "image/png": "[encoded data removed]",
            "text/plain": [
              "<Figure size 432x288 with 1 Axes>"
            ]
          },
          "metadata": {
            "tags": []
          }
        },
        {
          "output_type": "stream",
          "text": [
            "average clicks is different significantly per device type\n",
            " \n",
            "_____________________\n",
            " \n",
            "average booking_value per device type\n"
          ],
          "name": "stdout"
        },
        {
          "output_type": "display_data",
          "data": {
            "image/png": "[encoded data removed]",
            "text/plain": [
              "<Figure size 432x288 with 1 Axes>"
            ]
          },
          "metadata": {
            "tags": []
          }
        },
        {
          "output_type": "stream",
          "text": [
            "average booking_value is different significantly per device type\n",
            " \n",
            "_____________________\n",
            " \n",
            "average RPC per device type\n"
          ],
          "name": "stdout"
        },
        {
          "output_type": "display_data",
          "data": {
            "image/png": "[encoded data removed]",
            "text/plain": [
              "<Figure size 432x288 with 1 Axes>"
            ]
          },
          "metadata": {
            "tags": []
          }
        },
        {
          "output_type": "stream",
          "text": [
            "average RPC is different significantly per device type\n",
            " \n",
            "_____________________\n",
            " \n",
            "average CPC per device type\n"
          ],
          "name": "stdout"
        },
        {
          "output_type": "display_data",
          "data": {
            "image/png": "[encoded data removed]",
            "text/plain": [
              "<Figure size 432x288 with 1 Axes>"
            ]
          },
          "metadata": {
            "tags": []
          }
        },
        {
          "output_type": "stream",
          "text": [
            "average CPC is different significantly per device type\n",
            " \n",
            "_____________________\n",
            " \n",
            "average BVPtCO per device type\n"
          ],
          "name": "stdout"
        },
        {
          "output_type": "display_data",
          "data": {
            "image/png": "[encoded data removed]",
            "text/plain": [
              "<Figure size 432x288 with 1 Axes>"
            ]
          },
          "metadata": {
            "tags": []
          }
        },
        {
          "output_type": "stream",
          "text": [
            "average BVPtCO is different significantly per device type\n",
            " \n",
            "_____________________\n"
          ],
          "name": "stdout"
        }
      ]
    },
    {
      "cell_type": "markdown",
      "metadata": {
        "id": "P7ldpzz-dESc",
        "colab_type": "text"
      },
      "source": [
        "Now we see that : \n",
        "\n",
        "1- Average tracking coverage is not significantly different between the 2 device types.\n",
        "\n",
        "2 - We notice that regarding average number of Clicks phone is significantly higher.\n",
        "\n",
        "3 - We notice that , desktop is significantly higher regarding average booking value , revenue per click , cost per click (but higher in cose more than in revenue , so ROAS is higher for phone devices) , and finally BVPtCO .\n",
        "\n",
        "### From the above result we see that phone devices bring more clicks with higher revenue than average (so it has higher ROAS) but regarding bookings , conversion (which is the thing we care about and the reason that makes advertiser pay trivago) we notice that desktop devices perform better.\n",
        "\n",
        "### So , unexpectedly , phone devices don't perform so far away better than desktop devices. Despite it may appear that we lose regarding (ROAS)."
      ]
    },
    {
      "cell_type": "markdown",
      "metadata": {
        "id": "zgvAFNsegFx5",
        "colab_type": "text"
      },
      "source": [
        "### Write a SQL query to give the target hitting accuracy per market per device the target ROAS is provided in Sheet 2)."
      ]
    },
    {
      "cell_type": "code",
      "metadata": {
        "id": "TDyDTtTqs2To",
        "colab_type": "code",
        "colab": {}
      },
      "source": [
        "q2 = \"\"\"SELECT  country , device,  ROUND((sum(revenue)*100/sum(cost)),2) as ROAC FROM part_1_data group by country , device\"\"\"\n",
        "\n",
        "target=pd.DataFrame(ps.sqldf(q2, locals()))"
      ],
      "execution_count": 0,
      "outputs": []
    },
    {
      "cell_type": "code",
      "metadata": {
        "id": "fvOsm9rVs2MU",
        "colab_type": "code",
        "outputId": "d16b267d-7007-42d3-c1a5-517ca7773f5d",
        "colab": {
          "base_uri": "https://localhost:8080/",
          "height": 294
        }
      },
      "source": [
        "target"
      ],
      "execution_count": 50,
      "outputs": [
        {
          "output_type": "execute_result",
          "data": {
            "text/html": [
              "<div>\n",
              "<style scoped>\n",
              "    .dataframe tbody tr th:only-of-type {\n",
              "        vertical-align: middle;\n",
              "    }\n",
              "\n",
              "    .dataframe tbody tr th {\n",
              "        vertical-align: top;\n",
              "    }\n",
              "\n",
              "    .dataframe thead th {\n",
              "        text-align: right;\n",
              "    }\n",
              "</style>\n",
              "<table border=\"1\" class=\"dataframe\">\n",
              "  <thead>\n",
              "    <tr style=\"text-align: right;\">\n",
              "      <th></th>\n",
              "      <th>country</th>\n",
              "      <th>device</th>\n",
              "      <th>ROAC</th>\n",
              "    </tr>\n",
              "  </thead>\n",
              "  <tbody>\n",
              "    <tr>\n",
              "      <th>0</th>\n",
              "      <td>France</td>\n",
              "      <td>desktop</td>\n",
              "      <td>57.26</td>\n",
              "    </tr>\n",
              "    <tr>\n",
              "      <th>1</th>\n",
              "      <td>France</td>\n",
              "      <td>phone</td>\n",
              "      <td>107.32</td>\n",
              "    </tr>\n",
              "    <tr>\n",
              "      <th>2</th>\n",
              "      <td>Germany</td>\n",
              "      <td>desktop</td>\n",
              "      <td>61.52</td>\n",
              "    </tr>\n",
              "    <tr>\n",
              "      <th>3</th>\n",
              "      <td>Germany</td>\n",
              "      <td>phone</td>\n",
              "      <td>126.70</td>\n",
              "    </tr>\n",
              "    <tr>\n",
              "      <th>4</th>\n",
              "      <td>Spain</td>\n",
              "      <td>desktop</td>\n",
              "      <td>51.85</td>\n",
              "    </tr>\n",
              "    <tr>\n",
              "      <th>5</th>\n",
              "      <td>Spain</td>\n",
              "      <td>phone</td>\n",
              "      <td>145.49</td>\n",
              "    </tr>\n",
              "    <tr>\n",
              "      <th>6</th>\n",
              "      <td>US</td>\n",
              "      <td>desktop</td>\n",
              "      <td>47.78</td>\n",
              "    </tr>\n",
              "    <tr>\n",
              "      <th>7</th>\n",
              "      <td>US</td>\n",
              "      <td>phone</td>\n",
              "      <td>104.98</td>\n",
              "    </tr>\n",
              "  </tbody>\n",
              "</table>\n",
              "</div>"
            ],
            "text/plain": [
              "   country   device    ROAC\n",
              "0   France  desktop   57.26\n",
              "1   France    phone  107.32\n",
              "2  Germany  desktop   61.52\n",
              "3  Germany    phone  126.70\n",
              "4    Spain  desktop   51.85\n",
              "5    Spain    phone  145.49\n",
              "6       US  desktop   47.78\n",
              "7       US    phone  104.98"
            ]
          },
          "metadata": {
            "tags": []
          },
          "execution_count": 50
        }
      ]
    },
    {
      "cell_type": "code",
      "metadata": {
        "id": "D4L8fzWQfoVF",
        "colab_type": "code",
        "colab": {}
      },
      "source": [
        ""
      ],
      "execution_count": 0,
      "outputs": []
    },
    {
      "cell_type": "markdown",
      "metadata": {
        "id": "cgLJq0eigIVx",
        "colab_type": "text"
      },
      "source": [
        "## Part 2 : A/B Testing"
      ]
    },
    {
      "cell_type": "markdown",
      "metadata": {
        "id": "E0FNtPi-gIi_",
        "colab_type": "text"
      },
      "source": [
        "### Task 1 ) This time the bidding team came up with an algorithm based on a strategy to drive more traffic to the website through the Search Engine Marketing (SEM) ads. You will find a list of keyword IDs with some of the metrics per keyword. Come up with a test-control split that the team can go ahead with to launch the live test. You are free to make assumptions to guide your decisions."
      ]
    },
    {
      "cell_type": "markdown",
      "metadata": {
        "id": "g2oeBh0-gSVf",
        "colab_type": "text"
      },
      "source": [
        "we first have a quick brief about how data is structured."
      ]
    },
    {
      "cell_type": "code",
      "metadata": {
        "id": "Y5FyzoiyQcpH",
        "colab_type": "code",
        "outputId": "1971d349-bc69-4f9b-9451-8a269bc49082",
        "colab": {
          "base_uri": "https://localhost:8080/",
          "height": 260
        }
      },
      "source": [
        "part_2_data.info()"
      ],
      "execution_count": 51,
      "outputs": [
        {
          "output_type": "stream",
          "text": [
            "<class 'pandas.core.frame.DataFrame'>\n",
            "RangeIndex: 896 entries, 0 to 895\n",
            "Data columns (total 9 columns):\n",
            "Market Code           896 non-null object\n",
            "City criteria name    896 non-null object\n",
            "Keyword ID            896 non-null int64\n",
            "Clicks                896 non-null int64\n",
            "Cost                  896 non-null float64\n",
            "Revenue               896 non-null float64\n",
            "Clickouts             896 non-null int64\n",
            "Bookings              896 non-null float64\n",
            "Booking Value         896 non-null float64\n",
            "dtypes: float64(4), int64(3), object(2)\n",
            "memory usage: 63.1+ KB\n"
          ],
          "name": "stdout"
        }
      ]
    },
    {
      "cell_type": "markdown",
      "metadata": {
        "id": "ycPXamXliXz8",
        "colab_type": "text"
      },
      "source": [
        "every single columns not containing missing values  , but we need to change columns names to be more compatible with python "
      ]
    },
    {
      "cell_type": "code",
      "metadata": {
        "id": "86d9fcCszJoR",
        "colab_type": "code",
        "colab": {}
      },
      "source": [
        "part_2_data.columns = ['market_code' , 'city_criteria_name' ,'keyword_id' , 'clicks' , 'cost' ,'revenue' , 'clickouts' , 'bookings' ,'booking_value']"
      ],
      "execution_count": 0,
      "outputs": []
    },
    {
      "cell_type": "markdown",
      "metadata": {
        "id": "FpK1EWJ2jqIw",
        "colab_type": "text"
      },
      "source": [
        "then we save keyword_ID as string since it is a unique identifier not a scale variable"
      ]
    },
    {
      "cell_type": "code",
      "metadata": {
        "id": "XfQROSaijk0x",
        "colab_type": "code",
        "colab": {}
      },
      "source": [
        "part_2_data['keyword_id'] = part_2_data['keyword_id'].astype('str')"
      ],
      "execution_count": 0,
      "outputs": []
    },
    {
      "cell_type": "markdown",
      "metadata": {
        "id": "qAtRYMZXjjVw",
        "colab_type": "text"
      },
      "source": [
        "then we have  a quick view on data"
      ]
    },
    {
      "cell_type": "code",
      "metadata": {
        "id": "jMj8Q34CzNlQ",
        "colab_type": "code",
        "outputId": "f13bb568-6230-451d-98d6-9c5a6d0b68d6",
        "colab": {
          "base_uri": "https://localhost:8080/",
          "height": 202
        }
      },
      "source": [
        "part_2_data.head()"
      ],
      "execution_count": 54,
      "outputs": [
        {
          "output_type": "execute_result",
          "data": {
            "text/html": [
              "<div>\n",
              "<style scoped>\n",
              "    .dataframe tbody tr th:only-of-type {\n",
              "        vertical-align: middle;\n",
              "    }\n",
              "\n",
              "    .dataframe tbody tr th {\n",
              "        vertical-align: top;\n",
              "    }\n",
              "\n",
              "    .dataframe thead th {\n",
              "        text-align: right;\n",
              "    }\n",
              "</style>\n",
              "<table border=\"1\" class=\"dataframe\">\n",
              "  <thead>\n",
              "    <tr style=\"text-align: right;\">\n",
              "      <th></th>\n",
              "      <th>market_code</th>\n",
              "      <th>city_criteria_name</th>\n",
              "      <th>keyword_id</th>\n",
              "      <th>clicks</th>\n",
              "      <th>cost</th>\n",
              "      <th>revenue</th>\n",
              "      <th>clickouts</th>\n",
              "      <th>bookings</th>\n",
              "      <th>booking_value</th>\n",
              "    </tr>\n",
              "  </thead>\n",
              "  <tbody>\n",
              "    <tr>\n",
              "      <th>0</th>\n",
              "      <td>UK</td>\n",
              "      <td>unmatched</td>\n",
              "      <td>10001</td>\n",
              "      <td>1439145</td>\n",
              "      <td>900982.47</td>\n",
              "      <td>910388.87</td>\n",
              "      <td>808801</td>\n",
              "      <td>16647.400950</td>\n",
              "      <td>5.004265e+06</td>\n",
              "    </tr>\n",
              "    <tr>\n",
              "      <th>1</th>\n",
              "      <td>UK</td>\n",
              "      <td>London</td>\n",
              "      <td>10002</td>\n",
              "      <td>368019</td>\n",
              "      <td>267249.99</td>\n",
              "      <td>246334.50</td>\n",
              "      <td>210164</td>\n",
              "      <td>4514.063348</td>\n",
              "      <td>1.565522e+06</td>\n",
              "    </tr>\n",
              "    <tr>\n",
              "      <th>2</th>\n",
              "      <td>UK</td>\n",
              "      <td>Birmingham</td>\n",
              "      <td>10003</td>\n",
              "      <td>75253</td>\n",
              "      <td>47124.14</td>\n",
              "      <td>48313.32</td>\n",
              "      <td>43642</td>\n",
              "      <td>840.912914</td>\n",
              "      <td>1.755663e+05</td>\n",
              "    </tr>\n",
              "    <tr>\n",
              "      <th>3</th>\n",
              "      <td>UK</td>\n",
              "      <td>Glasgow</td>\n",
              "      <td>10004</td>\n",
              "      <td>58068</td>\n",
              "      <td>35655.06</td>\n",
              "      <td>36295.92</td>\n",
              "      <td>32571</td>\n",
              "      <td>531.473714</td>\n",
              "      <td>1.575939e+05</td>\n",
              "    </tr>\n",
              "    <tr>\n",
              "      <th>4</th>\n",
              "      <td>UK</td>\n",
              "      <td>Liverpool</td>\n",
              "      <td>10005</td>\n",
              "      <td>53332</td>\n",
              "      <td>32190.95</td>\n",
              "      <td>32944.39</td>\n",
              "      <td>29847</td>\n",
              "      <td>447.501815</td>\n",
              "      <td>1.238864e+05</td>\n",
              "    </tr>\n",
              "  </tbody>\n",
              "</table>\n",
              "</div>"
            ],
            "text/plain": [
              "  market_code city_criteria_name  ...      bookings  booking_value\n",
              "0          UK          unmatched  ...  16647.400950   5.004265e+06\n",
              "1          UK             London  ...   4514.063348   1.565522e+06\n",
              "2          UK         Birmingham  ...    840.912914   1.755663e+05\n",
              "3          UK            Glasgow  ...    531.473714   1.575939e+05\n",
              "4          UK          Liverpool  ...    447.501815   1.238864e+05\n",
              "\n",
              "[5 rows x 9 columns]"
            ]
          },
          "metadata": {
            "tags": []
          },
          "execution_count": 54
        }
      ]
    },
    {
      "cell_type": "markdown",
      "metadata": {
        "id": "glzxutRJj2Fg",
        "colab_type": "text"
      },
      "source": [
        "For A/B test we need to divide key words into 2 equal sets that in which the distribution of main variable is not different.\n",
        "\n",
        "We assume that the distribtion of main variables is the normal distribution , especially that we have a large enough sample.\n",
        "\n",
        "we use train_test_split method from sklearn package to divide keywords into test set and control set"
      ]
    },
    {
      "cell_type": "code",
      "metadata": {
        "id": "XErZ4QMtzNqT",
        "colab_type": "code",
        "colab": {}
      },
      "source": [
        "test_data2 , control_data2 = train_test_split(part_2_data ,test_size=0.5,  shuffle=True)"
      ],
      "execution_count": 0,
      "outputs": []
    },
    {
      "cell_type": "code",
      "metadata": {
        "id": "zEOhO4sbzNsq",
        "colab_type": "code",
        "outputId": "37931059-28b8-4bef-f3bf-cc1bb5603cae",
        "colab": {
          "base_uri": "https://localhost:8080/",
          "height": 294
        }
      },
      "source": [
        "test_data2.describe()"
      ],
      "execution_count": 56,
      "outputs": [
        {
          "output_type": "execute_result",
          "data": {
            "text/html": [
              "<div>\n",
              "<style scoped>\n",
              "    .dataframe tbody tr th:only-of-type {\n",
              "        vertical-align: middle;\n",
              "    }\n",
              "\n",
              "    .dataframe tbody tr th {\n",
              "        vertical-align: top;\n",
              "    }\n",
              "\n",
              "    .dataframe thead th {\n",
              "        text-align: right;\n",
              "    }\n",
              "</style>\n",
              "<table border=\"1\" class=\"dataframe\">\n",
              "  <thead>\n",
              "    <tr style=\"text-align: right;\">\n",
              "      <th></th>\n",
              "      <th>clicks</th>\n",
              "      <th>cost</th>\n",
              "      <th>revenue</th>\n",
              "      <th>clickouts</th>\n",
              "      <th>bookings</th>\n",
              "      <th>booking_value</th>\n",
              "    </tr>\n",
              "  </thead>\n",
              "  <tbody>\n",
              "    <tr>\n",
              "      <th>count</th>\n",
              "      <td>448.000000</td>\n",
              "      <td>448.000000</td>\n",
              "      <td>448.000000</td>\n",
              "      <td>448.000000</td>\n",
              "      <td>448.000000</td>\n",
              "      <td>448.000000</td>\n",
              "    </tr>\n",
              "    <tr>\n",
              "      <th>mean</th>\n",
              "      <td>2778.330357</td>\n",
              "      <td>1746.738973</td>\n",
              "      <td>1756.706786</td>\n",
              "      <td>1572.345982</td>\n",
              "      <td>31.553362</td>\n",
              "      <td>9064.522766</td>\n",
              "    </tr>\n",
              "    <tr>\n",
              "      <th>std</th>\n",
              "      <td>5486.753781</td>\n",
              "      <td>3454.183716</td>\n",
              "      <td>3469.341036</td>\n",
              "      <td>3142.482676</td>\n",
              "      <td>64.132908</td>\n",
              "      <td>16605.042376</td>\n",
              "    </tr>\n",
              "    <tr>\n",
              "      <th>min</th>\n",
              "      <td>0.000000</td>\n",
              "      <td>0.000000</td>\n",
              "      <td>0.000000</td>\n",
              "      <td>0.000000</td>\n",
              "      <td>0.000000</td>\n",
              "      <td>0.000000</td>\n",
              "    </tr>\n",
              "    <tr>\n",
              "      <th>25%</th>\n",
              "      <td>411.750000</td>\n",
              "      <td>270.030000</td>\n",
              "      <td>260.515000</td>\n",
              "      <td>232.000000</td>\n",
              "      <td>4.618435</td>\n",
              "      <td>779.915866</td>\n",
              "    </tr>\n",
              "    <tr>\n",
              "      <th>50%</th>\n",
              "      <td>1223.000000</td>\n",
              "      <td>769.555000</td>\n",
              "      <td>775.135000</td>\n",
              "      <td>688.500000</td>\n",
              "      <td>14.225866</td>\n",
              "      <td>3879.184910</td>\n",
              "    </tr>\n",
              "    <tr>\n",
              "      <th>75%</th>\n",
              "      <td>2911.250000</td>\n",
              "      <td>1840.310000</td>\n",
              "      <td>1792.770000</td>\n",
              "      <td>1611.750000</td>\n",
              "      <td>34.114777</td>\n",
              "      <td>10927.222180</td>\n",
              "    </tr>\n",
              "    <tr>\n",
              "      <th>max</th>\n",
              "      <td>75253.000000</td>\n",
              "      <td>47124.140000</td>\n",
              "      <td>48313.320000</td>\n",
              "      <td>43642.000000</td>\n",
              "      <td>840.912914</td>\n",
              "      <td>175566.265255</td>\n",
              "    </tr>\n",
              "  </tbody>\n",
              "</table>\n",
              "</div>"
            ],
            "text/plain": [
              "             clicks          cost  ...    bookings  booking_value\n",
              "count    448.000000    448.000000  ...  448.000000     448.000000\n",
              "mean    2778.330357   1746.738973  ...   31.553362    9064.522766\n",
              "std     5486.753781   3454.183716  ...   64.132908   16605.042376\n",
              "min        0.000000      0.000000  ...    0.000000       0.000000\n",
              "25%      411.750000    270.030000  ...    4.618435     779.915866\n",
              "50%     1223.000000    769.555000  ...   14.225866    3879.184910\n",
              "75%     2911.250000   1840.310000  ...   34.114777   10927.222180\n",
              "max    75253.000000  47124.140000  ...  840.912914  175566.265255\n",
              "\n",
              "[8 rows x 6 columns]"
            ]
          },
          "metadata": {
            "tags": []
          },
          "execution_count": 56
        }
      ]
    },
    {
      "cell_type": "markdown",
      "metadata": {
        "id": "wF9upOjGnIvM",
        "colab_type": "text"
      },
      "source": [
        "in the following lines we wil check that for the same \n",
        "\n",
        "we will have distribution plot for each variable in the train and test sets \n",
        "\n",
        "followed by Kolmogrov amirnov test result for the similarity of distribution \n",
        "\n",
        "we can compare distribution of the two columns using two-sample Kolmogorov-Smirnov test, it is included in the scipy.stats: https://docs.scipy.org/doc/scipy/reference/generated/scipy.stats.ks_2samp.html\n",
        "\n",
        "\n",
        "\n"
      ]
    },
    {
      "cell_type": "code",
      "metadata": {
        "id": "e-arObTszN0R",
        "colab_type": "code",
        "outputId": "fa18d70f-0688-4262-87bf-23988888eeb7",
        "colab": {
          "base_uri": "https://localhost:8080/",
          "height": 1000
        }
      },
      "source": [
        "for i in ['clicks' , 'cost' ,'revenue' , 'clickouts' , 'bookings' ,'booking_value'] : \n",
        "  print('    ')\n",
        "  print ('distribution of ' + i + ' in test set')\n",
        "  sns.distplot(test_data2.loc[test_data2[i]> 0 , i])\n",
        "  plt.show()\n",
        " \n",
        "  print ('distribution of ' + i + ' in control set')\n",
        "  sns.distplot(control_data2.loc[control_data2[i]>0 ,i])\n",
        "  plt.show()\n",
        "  \n",
        "  print ('Kolmogrov smirnov test for distribution of ' + i + ' between control and test set')\n",
        "  print(ks_2samp(control_data2.loc[control_data2[i]>0 ,i], test_data2.loc[test_data2[i]> 0 , i]))\n",
        "\n",
        "  print('-----------------')\n",
        "\n",
        "\n"
      ],
      "execution_count": 57,
      "outputs": [
        {
          "output_type": "stream",
          "text": [
            "    \n",
            "distribution of clicks in test set\n"
          ],
          "name": "stdout"
        },
        {
          "output_type": "display_data",
          "data": {
            "image/png": "[encoded data removed]",
            "text/plain": [
              "<Figure size 432x288 with 1 Axes>"
            ]
          },
          "metadata": {
            "tags": []
          }
        },
        {
          "output_type": "stream",
          "text": [
            "distribution of clicks in control set\n"
          ],
          "name": "stdout"
        },
        {
          "output_type": "display_data",
          "data": {
            "image/png": "[encoded data removed]",
            "text/plain": [
              "<Figure size 432x288 with 1 Axes>"
            ]
          },
          "metadata": {
            "tags": []
          }
        },
        {
          "output_type": "stream",
          "text": [
            "Kolmogrov smirnov test for distribution of clicks between control and test set\n",
            "Ks_2sampResult(statistic=0.09344989167128533, pvalue=0.036248898808518226)\n",
            "-----------------\n",
            "    \n",
            "distribution of cost in test set\n"
          ],
          "name": "stdout"
        },
        {
          "output_type": "display_data",
          "data": {
            "image/png": "[encoded data removed]",
            "text/plain": [
              "<Figure size 432x288 with 1 Axes>"
            ]
          },
          "metadata": {
            "tags": []
          }
        },
        {
          "output_type": "stream",
          "text": [
            "distribution of cost in control set\n"
          ],
          "name": "stdout"
        },
        {
          "output_type": "display_data",
          "data": {
            "image/png": "[encoded data removed]",
            "text/plain": [
              "<Figure size 432x288 with 1 Axes>"
            ]
          },
          "metadata": {
            "tags": []
          }
        },
        {
          "output_type": "stream",
          "text": [
            "Kolmogrov smirnov test for distribution of cost between control and test set\n",
            "Ks_2sampResult(statistic=0.08215347407668665, pvalue=0.089920901842377)\n",
            "-----------------\n",
            "    \n",
            "distribution of revenue in test set\n"
          ],
          "name": "stdout"
        },
        {
          "output_type": "display_data",
          "data": {
            "image/png": "[encoded data removed]",
            "text/plain": [
              "<Figure size 432x288 with 1 Axes>"
            ]
          },
          "metadata": {
            "tags": []
          }
        },
        {
          "output_type": "stream",
          "text": [
            "distribution of revenue in control set\n"
          ],
          "name": "stdout"
        },
        {
          "output_type": "display_data",
          "data": {
            "image/png": "[encoded data removed]",
            "text/plain": [
              "<Figure size 432x288 with 1 Axes>"
            ]
          },
          "metadata": {
            "tags": []
          }
        },
        {
          "output_type": "stream",
          "text": [
            "Kolmogrov smirnov test for distribution of revenue between control and test set\n",
            "Ks_2sampResult(statistic=0.08495193649022244, pvalue=0.07467187709621737)\n",
            "-----------------\n",
            "    \n",
            "distribution of clickouts in test set\n"
          ],
          "name": "stdout"
        },
        {
          "output_type": "display_data",
          "data": {
            "image/png": "[encoded data removed]",
            "text/plain": [
              "<Figure size 432x288 with 1 Axes>"
            ]
          },
          "metadata": {
            "tags": []
          }
        },
        {
          "output_type": "stream",
          "text": [
            "distribution of clickouts in control set\n"
          ],
          "name": "stdout"
        },
        {
          "output_type": "display_data",
          "data": {
            "image/png": "[encoded data removed]",
            "text/plain": [
              "<Figure size 432x288 with 1 Axes>"
            ]
          },
          "metadata": {
            "tags": []
          }
        },
        {
          "output_type": "stream",
          "text": [
            "Kolmogrov smirnov test for distribution of clickouts between control and test set\n",
            "Ks_2sampResult(statistic=0.08957820782712354, pvalue=0.05203768964429156)\n",
            "-----------------\n",
            "    \n",
            "distribution of bookings in test set\n"
          ],
          "name": "stdout"
        },
        {
          "output_type": "display_data",
          "data": {
            "image/png": "[encoded data removed]",
            "text/plain": [
              "<Figure size 432x288 with 1 Axes>"
            ]
          },
          "metadata": {
            "tags": []
          }
        },
        {
          "output_type": "stream",
          "text": [
            "distribution of bookings in control set\n"
          ],
          "name": "stdout"
        },
        {
          "output_type": "display_data",
          "data": {
            "image/png": "[encoded data removed]",
            "text/plain": [
              "<Figure size 432x288 with 1 Axes>"
            ]
          },
          "metadata": {
            "tags": []
          }
        },
        {
          "output_type": "stream",
          "text": [
            "Kolmogrov smirnov test for distribution of bookings between control and test set\n",
            "Ks_2sampResult(statistic=0.04768362598657994, pvalue=0.7349226201587926)\n",
            "-----------------\n",
            "    \n",
            "distribution of booking_value in test set\n"
          ],
          "name": "stdout"
        },
        {
          "output_type": "display_data",
          "data": {
            "image/png": "[encoded data removed]",
            "text/plain": [
              "<Figure size 432x288 with 1 Axes>"
            ]
          },
          "metadata": {
            "tags": []
          }
        },
        {
          "output_type": "stream",
          "text": [
            "distribution of booking_value in control set\n"
          ],
          "name": "stdout"
        },
        {
          "output_type": "display_data",
          "data": {
            "image/png": "[encoded data removed]",
            "text/plain": [
              "<Figure size 432x288 with 1 Axes>"
            ]
          },
          "metadata": {
            "tags": []
          }
        },
        {
          "output_type": "stream",
          "text": [
            "Kolmogrov smirnov test for distribution of booking_value between control and test set\n",
            "Ks_2sampResult(statistic=0.05956757590559683, pvalue=0.46125110968127503)\n",
            "-----------------\n"
          ],
          "name": "stdout"
        }
      ]
    },
    {
      "cell_type": "markdown",
      "metadata": {
        "id": "_2hLAer3r-Ul",
        "colab_type": "text"
      },
      "source": [
        "From above we see that distribution plot of each variable is not different between control and test set , since for all variable p-value for kolmogrov - smirnov test is more than  0.1\n",
        "\n",
        "\n",
        "### So we managed to divide keywords to 2 equal sets with distribution of main characteristics the same"
      ]
    },
    {
      "cell_type": "code",
      "metadata": {
        "id": "UJicA-mFh4RK",
        "colab_type": "code",
        "colab": {}
      },
      "source": [
        ""
      ],
      "execution_count": 0,
      "outputs": []
    },
    {
      "cell_type": "code",
      "metadata": {
        "id": "I0fDlO9kf3Dh",
        "colab_type": "code",
        "colab": {}
      },
      "source": [
        ""
      ],
      "execution_count": 0,
      "outputs": []
    },
    {
      "cell_type": "markdown",
      "metadata": {
        "id": "qFZXNmaZsf7q",
        "colab_type": "text"
      },
      "source": [
        ""
      ]
    },
    {
      "cell_type": "markdown",
      "metadata": {
        "id": "ola2AQdmsYWJ",
        "colab_type": "text"
      },
      "source": [
        "### Task 2 ) a. We want to improve the quality of traffic trivago sends to the advertisers. Define the business metrics that we should look at to qualify our algorithm changes (please refer to the terminology below)."
      ]
    },
    {
      "cell_type": "code",
      "metadata": {
        "id": "SHmFmgvFzN3C",
        "colab_type": "code",
        "outputId": "b2cfba9a-80a4-4671-ddd0-9e4dd1e5b727",
        "colab": {
          "base_uri": "https://localhost:8080/",
          "height": 294
        }
      },
      "source": [
        "part_2_data.describe()"
      ],
      "execution_count": 58,
      "outputs": [
        {
          "output_type": "execute_result",
          "data": {
            "text/html": [
              "<div>\n",
              "<style scoped>\n",
              "    .dataframe tbody tr th:only-of-type {\n",
              "        vertical-align: middle;\n",
              "    }\n",
              "\n",
              "    .dataframe tbody tr th {\n",
              "        vertical-align: top;\n",
              "    }\n",
              "\n",
              "    .dataframe thead th {\n",
              "        text-align: right;\n",
              "    }\n",
              "</style>\n",
              "<table border=\"1\" class=\"dataframe\">\n",
              "  <thead>\n",
              "    <tr style=\"text-align: right;\">\n",
              "      <th></th>\n",
              "      <th>clicks</th>\n",
              "      <th>cost</th>\n",
              "      <th>revenue</th>\n",
              "      <th>clickouts</th>\n",
              "      <th>bookings</th>\n",
              "      <th>booking_value</th>\n",
              "    </tr>\n",
              "  </thead>\n",
              "  <tbody>\n",
              "    <tr>\n",
              "      <th>count</th>\n",
              "      <td>8.960000e+02</td>\n",
              "      <td>896.000000</td>\n",
              "      <td>896.000000</td>\n",
              "      <td>896.000000</td>\n",
              "      <td>896.000000</td>\n",
              "      <td>8.960000e+02</td>\n",
              "    </tr>\n",
              "    <tr>\n",
              "      <th>mean</th>\n",
              "      <td>4.946628e+03</td>\n",
              "      <td>3143.455413</td>\n",
              "      <td>3145.570335</td>\n",
              "      <td>2797.819196</td>\n",
              "      <td>55.886927</td>\n",
              "      <td>1.684649e+04</td>\n",
              "    </tr>\n",
              "    <tr>\n",
              "      <th>std</th>\n",
              "      <td>4.980906e+04</td>\n",
              "      <td>31505.885218</td>\n",
              "      <td>31621.473980</td>\n",
              "      <td>28025.787542</td>\n",
              "      <td>578.106884</td>\n",
              "      <td>1.755830e+05</td>\n",
              "    </tr>\n",
              "    <tr>\n",
              "      <th>min</th>\n",
              "      <td>0.000000e+00</td>\n",
              "      <td>0.000000</td>\n",
              "      <td>0.000000</td>\n",
              "      <td>0.000000</td>\n",
              "      <td>0.000000</td>\n",
              "      <td>0.000000e+00</td>\n",
              "    </tr>\n",
              "    <tr>\n",
              "      <th>25%</th>\n",
              "      <td>4.577500e+02</td>\n",
              "      <td>297.650000</td>\n",
              "      <td>298.307500</td>\n",
              "      <td>259.000000</td>\n",
              "      <td>4.920492</td>\n",
              "      <td>9.818032e+02</td>\n",
              "    </tr>\n",
              "    <tr>\n",
              "      <th>50%</th>\n",
              "      <td>1.371000e+03</td>\n",
              "      <td>865.260000</td>\n",
              "      <td>853.070000</td>\n",
              "      <td>764.500000</td>\n",
              "      <td>15.031417</td>\n",
              "      <td>3.963855e+03</td>\n",
              "    </tr>\n",
              "    <tr>\n",
              "      <th>75%</th>\n",
              "      <td>3.131750e+03</td>\n",
              "      <td>1939.887500</td>\n",
              "      <td>1964.347500</td>\n",
              "      <td>1729.250000</td>\n",
              "      <td>34.492830</td>\n",
              "      <td>1.112593e+04</td>\n",
              "    </tr>\n",
              "    <tr>\n",
              "      <th>max</th>\n",
              "      <td>1.439145e+06</td>\n",
              "      <td>900982.470000</td>\n",
              "      <td>910388.870000</td>\n",
              "      <td>808801.000000</td>\n",
              "      <td>16647.400950</td>\n",
              "      <td>5.004265e+06</td>\n",
              "    </tr>\n",
              "  </tbody>\n",
              "</table>\n",
              "</div>"
            ],
            "text/plain": [
              "             clicks           cost  ...      bookings  booking_value\n",
              "count  8.960000e+02     896.000000  ...    896.000000   8.960000e+02\n",
              "mean   4.946628e+03    3143.455413  ...     55.886927   1.684649e+04\n",
              "std    4.980906e+04   31505.885218  ...    578.106884   1.755830e+05\n",
              "min    0.000000e+00       0.000000  ...      0.000000   0.000000e+00\n",
              "25%    4.577500e+02     297.650000  ...      4.920492   9.818032e+02\n",
              "50%    1.371000e+03     865.260000  ...     15.031417   3.963855e+03\n",
              "75%    3.131750e+03    1939.887500  ...     34.492830   1.112593e+04\n",
              "max    1.439145e+06  900982.470000  ...  16647.400950   5.004265e+06\n",
              "\n",
              "[8 rows x 6 columns]"
            ]
          },
          "metadata": {
            "tags": []
          },
          "execution_count": 58
        }
      ]
    },
    {
      "cell_type": "code",
      "metadata": {
        "id": "foM1ugLszN5r",
        "colab_type": "code",
        "outputId": "e32d80c6-392a-40e2-e88f-9e7715456f06",
        "colab": {
          "base_uri": "https://localhost:8080/",
          "height": 202
        }
      },
      "source": [
        "part_2_data.head()"
      ],
      "execution_count": 59,
      "outputs": [
        {
          "output_type": "execute_result",
          "data": {
            "text/html": [
              "<div>\n",
              "<style scoped>\n",
              "    .dataframe tbody tr th:only-of-type {\n",
              "        vertical-align: middle;\n",
              "    }\n",
              "\n",
              "    .dataframe tbody tr th {\n",
              "        vertical-align: top;\n",
              "    }\n",
              "\n",
              "    .dataframe thead th {\n",
              "        text-align: right;\n",
              "    }\n",
              "</style>\n",
              "<table border=\"1\" class=\"dataframe\">\n",
              "  <thead>\n",
              "    <tr style=\"text-align: right;\">\n",
              "      <th></th>\n",
              "      <th>market_code</th>\n",
              "      <th>city_criteria_name</th>\n",
              "      <th>keyword_id</th>\n",
              "      <th>clicks</th>\n",
              "      <th>cost</th>\n",
              "      <th>revenue</th>\n",
              "      <th>clickouts</th>\n",
              "      <th>bookings</th>\n",
              "      <th>booking_value</th>\n",
              "    </tr>\n",
              "  </thead>\n",
              "  <tbody>\n",
              "    <tr>\n",
              "      <th>0</th>\n",
              "      <td>UK</td>\n",
              "      <td>unmatched</td>\n",
              "      <td>10001</td>\n",
              "      <td>1439145</td>\n",
              "      <td>900982.47</td>\n",
              "      <td>910388.87</td>\n",
              "      <td>808801</td>\n",
              "      <td>16647.400950</td>\n",
              "      <td>5.004265e+06</td>\n",
              "    </tr>\n",
              "    <tr>\n",
              "      <th>1</th>\n",
              "      <td>UK</td>\n",
              "      <td>London</td>\n",
              "      <td>10002</td>\n",
              "      <td>368019</td>\n",
              "      <td>267249.99</td>\n",
              "      <td>246334.50</td>\n",
              "      <td>210164</td>\n",
              "      <td>4514.063348</td>\n",
              "      <td>1.565522e+06</td>\n",
              "    </tr>\n",
              "    <tr>\n",
              "      <th>2</th>\n",
              "      <td>UK</td>\n",
              "      <td>Birmingham</td>\n",
              "      <td>10003</td>\n",
              "      <td>75253</td>\n",
              "      <td>47124.14</td>\n",
              "      <td>48313.32</td>\n",
              "      <td>43642</td>\n",
              "      <td>840.912914</td>\n",
              "      <td>1.755663e+05</td>\n",
              "    </tr>\n",
              "    <tr>\n",
              "      <th>3</th>\n",
              "      <td>UK</td>\n",
              "      <td>Glasgow</td>\n",
              "      <td>10004</td>\n",
              "      <td>58068</td>\n",
              "      <td>35655.06</td>\n",
              "      <td>36295.92</td>\n",
              "      <td>32571</td>\n",
              "      <td>531.473714</td>\n",
              "      <td>1.575939e+05</td>\n",
              "    </tr>\n",
              "    <tr>\n",
              "      <th>4</th>\n",
              "      <td>UK</td>\n",
              "      <td>Liverpool</td>\n",
              "      <td>10005</td>\n",
              "      <td>53332</td>\n",
              "      <td>32190.95</td>\n",
              "      <td>32944.39</td>\n",
              "      <td>29847</td>\n",
              "      <td>447.501815</td>\n",
              "      <td>1.238864e+05</td>\n",
              "    </tr>\n",
              "  </tbody>\n",
              "</table>\n",
              "</div>"
            ],
            "text/plain": [
              "  market_code city_criteria_name  ...      bookings  booking_value\n",
              "0          UK          unmatched  ...  16647.400950   5.004265e+06\n",
              "1          UK             London  ...   4514.063348   1.565522e+06\n",
              "2          UK         Birmingham  ...    840.912914   1.755663e+05\n",
              "3          UK            Glasgow  ...    531.473714   1.575939e+05\n",
              "4          UK          Liverpool  ...    447.501815   1.238864e+05\n",
              "\n",
              "[5 rows x 9 columns]"
            ]
          },
          "metadata": {
            "tags": []
          },
          "execution_count": 59
        }
      ]
    },
    {
      "cell_type": "code",
      "metadata": {
        "id": "i23CbEaOEEEG",
        "colab_type": "code",
        "outputId": "b8515bf0-92f9-472b-cc94-50478f4345c4",
        "colab": {
          "base_uri": "https://localhost:8080/",
          "height": 260
        }
      },
      "source": [
        "part_2_data.info()"
      ],
      "execution_count": 60,
      "outputs": [
        {
          "output_type": "stream",
          "text": [
            "<class 'pandas.core.frame.DataFrame'>\n",
            "RangeIndex: 896 entries, 0 to 895\n",
            "Data columns (total 9 columns):\n",
            "market_code           896 non-null object\n",
            "city_criteria_name    896 non-null object\n",
            "keyword_id            896 non-null object\n",
            "clicks                896 non-null int64\n",
            "cost                  896 non-null float64\n",
            "revenue               896 non-null float64\n",
            "clickouts             896 non-null int64\n",
            "bookings              896 non-null float64\n",
            "booking_value         896 non-null float64\n",
            "dtypes: float64(4), int64(2), object(3)\n",
            "memory usage: 63.1+ KB\n"
          ],
          "name": "stdout"
        }
      ]
    },
    {
      "cell_type": "markdown",
      "metadata": {
        "id": "VR9H0JBRvfSU",
        "colab_type": "text"
      },
      "source": [
        ""
      ]
    },
    {
      "cell_type": "code",
      "metadata": {
        "id": "ulnGus9wEr7F",
        "colab_type": "code",
        "outputId": "c9bda06a-4218-4d5f-fdcb-86ded0122dc9",
        "colab": {
          "base_uri": "https://localhost:8080/",
          "height": 233
        }
      },
      "source": [
        "part_2_data.corr()"
      ],
      "execution_count": 61,
      "outputs": [
        {
          "output_type": "execute_result",
          "data": {
            "text/html": [
              "<div>\n",
              "<style scoped>\n",
              "    .dataframe tbody tr th:only-of-type {\n",
              "        vertical-align: middle;\n",
              "    }\n",
              "\n",
              "    .dataframe tbody tr th {\n",
              "        vertical-align: top;\n",
              "    }\n",
              "\n",
              "    .dataframe thead th {\n",
              "        text-align: right;\n",
              "    }\n",
              "</style>\n",
              "<table border=\"1\" class=\"dataframe\">\n",
              "  <thead>\n",
              "    <tr style=\"text-align: right;\">\n",
              "      <th></th>\n",
              "      <th>clicks</th>\n",
              "      <th>cost</th>\n",
              "      <th>revenue</th>\n",
              "      <th>clickouts</th>\n",
              "      <th>bookings</th>\n",
              "      <th>booking_value</th>\n",
              "    </tr>\n",
              "  </thead>\n",
              "  <tbody>\n",
              "    <tr>\n",
              "      <th>clicks</th>\n",
              "      <td>1.000000</td>\n",
              "      <td>0.999265</td>\n",
              "      <td>0.999890</td>\n",
              "      <td>0.999986</td>\n",
              "      <td>0.999555</td>\n",
              "      <td>0.997841</td>\n",
              "    </tr>\n",
              "    <tr>\n",
              "      <th>cost</th>\n",
              "      <td>0.999265</td>\n",
              "      <td>1.000000</td>\n",
              "      <td>0.999700</td>\n",
              "      <td>0.999399</td>\n",
              "      <td>0.999460</td>\n",
              "      <td>0.999224</td>\n",
              "    </tr>\n",
              "    <tr>\n",
              "      <th>revenue</th>\n",
              "      <td>0.999890</td>\n",
              "      <td>0.999700</td>\n",
              "      <td>1.000000</td>\n",
              "      <td>0.999938</td>\n",
              "      <td>0.999698</td>\n",
              "      <td>0.998539</td>\n",
              "    </tr>\n",
              "    <tr>\n",
              "      <th>clickouts</th>\n",
              "      <td>0.999986</td>\n",
              "      <td>0.999399</td>\n",
              "      <td>0.999938</td>\n",
              "      <td>1.000000</td>\n",
              "      <td>0.999601</td>\n",
              "      <td>0.998001</td>\n",
              "    </tr>\n",
              "    <tr>\n",
              "      <th>bookings</th>\n",
              "      <td>0.999555</td>\n",
              "      <td>0.999460</td>\n",
              "      <td>0.999698</td>\n",
              "      <td>0.999601</td>\n",
              "      <td>1.000000</td>\n",
              "      <td>0.998821</td>\n",
              "    </tr>\n",
              "    <tr>\n",
              "      <th>booking_value</th>\n",
              "      <td>0.997841</td>\n",
              "      <td>0.999224</td>\n",
              "      <td>0.998539</td>\n",
              "      <td>0.998001</td>\n",
              "      <td>0.998821</td>\n",
              "      <td>1.000000</td>\n",
              "    </tr>\n",
              "  </tbody>\n",
              "</table>\n",
              "</div>"
            ],
            "text/plain": [
              "                 clicks      cost   revenue  clickouts  bookings  booking_value\n",
              "clicks         1.000000  0.999265  0.999890   0.999986  0.999555       0.997841\n",
              "cost           0.999265  1.000000  0.999700   0.999399  0.999460       0.999224\n",
              "revenue        0.999890  0.999700  1.000000   0.999938  0.999698       0.998539\n",
              "clickouts      0.999986  0.999399  0.999938   1.000000  0.999601       0.998001\n",
              "bookings       0.999555  0.999460  0.999698   0.999601  1.000000       0.998821\n",
              "booking_value  0.997841  0.999224  0.998539   0.998001  0.998821       1.000000"
            ]
          },
          "metadata": {
            "tags": []
          },
          "execution_count": 61
        }
      ]
    },
    {
      "cell_type": "markdown",
      "metadata": {
        "id": "GoLkA4k6vhuj",
        "colab_type": "text"
      },
      "source": [
        "Due to high collinearity here , we can find that all features are importent to be included to qualify our algorithm changes.\n",
        "\n",
        "let's try to calculate and addother features that were in the first part'sdata"
      ]
    },
    {
      "cell_type": "code",
      "metadata": {
        "id": "1EbU1vWuFTsc",
        "colab_type": "code",
        "colab": {}
      },
      "source": [
        "part_2_data['ROAS'] = part_2_data['revenue']/part_2_data['clicks']"
      ],
      "execution_count": 0,
      "outputs": []
    },
    {
      "cell_type": "code",
      "metadata": {
        "id": "bAUWRNWWFTvv",
        "colab_type": "code",
        "colab": {}
      },
      "source": [
        "part_2_data['BApCO'] = part_2_data['booking_value']/part_2_data['clickouts']"
      ],
      "execution_count": 0,
      "outputs": []
    },
    {
      "cell_type": "code",
      "metadata": {
        "id": "f4FouxQIFTyi",
        "colab_type": "code",
        "colab": {}
      },
      "source": [
        "part_2_data['CPC'] = part_2_data['cost']/part_2_data['clicks']"
      ],
      "execution_count": 0,
      "outputs": []
    },
    {
      "cell_type": "code",
      "metadata": {
        "id": "nTUKOxOQFT5d",
        "colab_type": "code",
        "colab": {}
      },
      "source": [
        "part_2_data['clickout_rate'] = part_2_data['clickouts']/part_2_data['clicks']"
      ],
      "execution_count": 0,
      "outputs": []
    },
    {
      "cell_type": "code",
      "metadata": {
        "id": "1JS7FLARFT8Y",
        "colab_type": "code",
        "colab": {}
      },
      "source": [
        "part_2_data['average_booking_value'] = part_2_data['booking_value']/part_2_data['bookings']"
      ],
      "execution_count": 0,
      "outputs": []
    },
    {
      "cell_type": "markdown",
      "metadata": {
        "id": "cNGzEBoGSrYR",
        "colab_type": "text"
      },
      "source": [
        "then we use principal component analysis to find the most importent features to focus on."
      ]
    },
    {
      "cell_type": "code",
      "metadata": {
        "id": "nD74rutKEVX2",
        "colab_type": "code",
        "colab": {}
      },
      "source": [
        "predictors = part_2_data.select_dtypes(include=['int','float']).dropna()"
      ],
      "execution_count": 0,
      "outputs": []
    },
    {
      "cell_type": "code",
      "metadata": {
        "id": "WruSw7eDAtlU",
        "colab_type": "code",
        "colab": {}
      },
      "source": [
        "index = part_2_data.select_dtypes(include=['int','float']).columns"
      ],
      "execution_count": 0,
      "outputs": []
    },
    {
      "cell_type": "code",
      "metadata": {
        "id": "PoL4qRbFFT_1",
        "colab_type": "code",
        "colab": {}
      },
      "source": [
        "transformer = PCA(n_components=3 ,random_state=0)"
      ],
      "execution_count": 0,
      "outputs": []
    },
    {
      "cell_type": "code",
      "metadata": {
        "id": "xSwaFK1DFUCw",
        "colab_type": "code",
        "colab": {}
      },
      "source": [
        "fit=transformer.fit(predictors)"
      ],
      "execution_count": 0,
      "outputs": []
    },
    {
      "cell_type": "code",
      "metadata": {
        "id": "s4lQzTyRzSxJ",
        "colab_type": "code",
        "outputId": "c51f9cb2-a220-4776-fad9-5c96ebe030ef",
        "colab": {
          "base_uri": "https://localhost:8080/",
          "height": 34
        }
      },
      "source": [
        "np.round(fit.explained_variance_ratio_*100,2)"
      ],
      "execution_count": 71,
      "outputs": [
        {
          "output_type": "execute_result",
          "data": {
            "text/plain": [
              "array([9.996e+01, 4.000e-02, 0.000e+00])"
            ]
          },
          "metadata": {
            "tags": []
          },
          "execution_count": 71
        }
      ]
    },
    {
      "cell_type": "code",
      "metadata": {
        "id": "vLio_JWUzyup",
        "colab_type": "code",
        "outputId": "1f17d12b-2fd9-4ae1-b311-284974d34481",
        "colab": {
          "base_uri": "https://localhost:8080/",
          "height": 390
        }
      },
      "source": [
        "pd.Series ((fit.components_)[0] , index=index).plot(kind='bar')\n"
      ],
      "execution_count": 72,
      "outputs": [
        {
          "output_type": "execute_result",
          "data": {
            "text/plain": [
              "<matplotlib.axes._subplots.AxesSubplot at 0x7fbfaaf8a668>"
            ]
          },
          "metadata": {
            "tags": []
          },
          "execution_count": 72
        },
        {
          "output_type": "display_data",
          "data": {
            "image/png": "[encoded data removed]",
            "text/plain": [
              "<Figure size 432x288 with 1 Axes>"
            ]
          },
          "metadata": {
            "tags": []
          }
        }
      ]
    },
    {
      "cell_type": "markdown",
      "metadata": {
        "id": "iMD_-wrbvTrF",
        "colab_type": "text"
      },
      "source": [
        "###So here , due to high collinearity the most importent feature to focus on is booking_value"
      ]
    },
    {
      "cell_type": "markdown",
      "metadata": {
        "id": "tIeUOzDEX0vZ",
        "colab_type": "text"
      },
      "source": [
        "### Task 2) b. Now the team launched a new test to improve the traffic quality trivago sends to the advertisers. In the resources, you will find test statistics. With the metrics defined above, how would you go about evaluating this test. What would your proposal be for the next steps?"
      ]
    },
    {
      "cell_type": "markdown",
      "metadata": {
        "id": "zb0jN91iX8Ba",
        "colab_type": "text"
      },
      "source": [
        "We see that recults regarding Conversion Rate ,Bounce Rate , and BApCO have p - valueof 0.2 or more. so we find them nonsignificant.\n",
        "\n",
        "On the other hand , clickouts  decreased by 5.4% and revenue per visits by 1.2% with p - values of 0.01 and 0.04 respecrively , indicating that this decrease is significant.\n",
        "\n",
        "### So we see that 2 of the key features had decreased after launching the new test. so we see that the current version (control version) is OK andthe new test version gives significantly lesser results in 2 key features."
      ]
    },
    {
      "cell_type": "markdown",
      "metadata": {
        "id": "ZhwgwZXMlcMy",
        "colab_type": "text"
      },
      "source": [
        ""
      ]
    },
    {
      "cell_type": "markdown",
      "metadata": {
        "id": "Z8rN-RuQixaH",
        "colab_type": "text"
      },
      "source": [
        "###Finally we export required results to excel sheets"
      ]
    },
    {
      "cell_type": "code",
      "metadata": {
        "id": "81rugQl1kY_L",
        "colab_type": "code",
        "colab": {}
      },
      "source": [
        "with pd.ExcelWriter('submission.xlsx') as writer:  \n",
        "   np.round(total_clicks_Revenue.sort_values(by=['RPC'] , ascending=False).head(10),2)['RPC'].to_excel(writer , sheet_name = 'business_metrics_a')\n",
        "   target.to_excel(writer ,sheet_name = 'business_metrics_e')\n",
        "   control_data2.to_excel(writer , sheet_name = 'A_B testing_task_1_control_data')\n",
        "   test_data2.to_excel(writer ,   sheet_name = 'A_B testing_task_1_test_data')"
      ],
      "execution_count": 0,
      "outputs": []
    },
    {
      "cell_type": "code",
      "metadata": {
        "id": "oDhTFg-ekZl1",
        "colab_type": "code",
        "colab": {}
      },
      "source": [
        ""
      ],
      "execution_count": 0,
      "outputs": []
    },
    {
      "cell_type": "code",
      "metadata": {
        "id": "UZka9fawlbj6",
        "colab_type": "code",
        "colab": {}
      },
      "source": [
        ""
      ],
      "execution_count": 0,
      "outputs": []
    }
  ]
}
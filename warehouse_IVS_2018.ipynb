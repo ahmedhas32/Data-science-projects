{
  "nbformat": 4,
  "nbformat_minor": 0,
  "metadata": {
    "colab": {
      "name": "warehouse IVS 2018",
      "provenance": [],
      "collapsed_sections": [],
      "mount_file_id": "179VK-InC0tcubJ6Qk9oF_8KaNvZrUFg6",
      "authorship_tag": "ABX9TyMepPqtW+HP8Mb4BzkEpGUi",
      "include_colab_link": true
    },
    "kernelspec": {
      "name": "python3",
      "display_name": "Python 3"
    }
  },
  "cells": [
    {
      "cell_type": "markdown",
      "metadata": {
        "id": "view-in-github",
        "colab_type": "text"
      },
      "source": [
        "<a href=\"https://colab.research.google.com/github/ahmedhas32/Data-science-projects/blob/master/warehouse_IVS_2018.ipynb\" target=\"_parent\"><img src=\"https://colab.research.google.com/assets/colab-badge.svg\" alt=\"Open In Colab\"/></a>"
      ]
    },
    {
      "cell_type": "code",
      "metadata": {
        "id": "WiBWqVrWcya3",
        "outputId": "c6f51941-aea4-4b1a-d643-95e1742373cb",
        "colab": {
          "base_uri": "https://localhost:8080/"
        }
      },
      "source": [
        "!pip install pyreadstat"
      ],
      "execution_count": null,
      "outputs": [
        {
          "output_type": "stream",
          "text": [
            "Requirement already satisfied: pyreadstat in /usr/local/lib/python3.6/dist-packages (1.0.2)\n",
            "Requirement already satisfied: pandas>0.24.0 in /usr/local/lib/python3.6/dist-packages (from pyreadstat) (1.1.3)\n",
            "Requirement already satisfied: python-dateutil>=2.7.3 in /usr/local/lib/python3.6/dist-packages (from pandas>0.24.0->pyreadstat) (2.8.1)\n",
            "Requirement already satisfied: pytz>=2017.2 in /usr/local/lib/python3.6/dist-packages (from pandas>0.24.0->pyreadstat) (2018.9)\n",
            "Requirement already satisfied: numpy>=1.15.4 in /usr/local/lib/python3.6/dist-packages (from pandas>0.24.0->pyreadstat) (1.18.5)\n",
            "Requirement already satisfied: six>=1.5 in /usr/local/lib/python3.6/dist-packages (from python-dateutil>=2.7.3->pandas>0.24.0->pyreadstat) (1.15.0)\n"
          ],
          "name": "stdout"
        }
      ]
    },
    {
      "cell_type": "code",
      "metadata": {
        "id": "5vbasgQTi_jz"
      },
      "source": [
        "import xgboost\n",
        "import csv as csv\n",
        "from xgboost import plot_importance\n",
        "from matplotlib import pyplot\n",
        "from sklearn.model_selection import cross_val_score,KFold\n",
        "from sklearn.metrics import mean_absolute_error\n",
        "import matplotlib.pyplot as plt\n",
        "from scipy.stats import skew\n",
        "from collections import OrderedDict\n",
        "from sklearn import preprocessing\n",
        "from datetime import datetime\n"
      ],
      "execution_count": null,
      "outputs": []
    },
    {
      "cell_type": "code",
      "metadata": {
        "id": "g_Ydxvuz-oq2"
      },
      "source": [
        "import numpy as np\n",
        "import pandas as pd\n",
        "import matplotlib.pyplot as plt\n",
        "import seaborn as sns\n",
        "import warnings\n",
        "warnings.filterwarnings(\"ignore\")"
      ],
      "execution_count": null,
      "outputs": []
    },
    {
      "cell_type": "code",
      "metadata": {
        "id": "vLbFxvvhygTn"
      },
      "source": [
        "!pip install fsspec>=0.3.3"
      ],
      "execution_count": null,
      "outputs": []
    },
    {
      "cell_type": "code",
      "metadata": {
        "id": "OaL7xM_V9zyW"
      },
      "source": [
        "from sklearn.preprocessing import LabelEncoder"
      ],
      "execution_count": null,
      "outputs": []
    },
    {
      "cell_type": "code",
      "metadata": {
        "id": "BunVO_jGcNOK"
      },
      "source": [
        "data = pd.read_excel('/content/Outbound_alltrips_2018+2019_aggr3.xlsx')"
      ],
      "execution_count": null,
      "outputs": []
    },
    {
      "cell_type": "code",
      "metadata": {
        "id": "ZBkjeWJEKFQY"
      },
      "source": [
        ""
      ],
      "execution_count": null,
      "outputs": []
    },
    {
      "cell_type": "code",
      "metadata": {
        "id": "eDIHP36CcNWS"
      },
      "source": [
        "age= [ 'from_0_to_15_sum',\t'from_16_to_25_sum',\t'from_26_to_45_sum',\t'from_46_to_60_sum',\t'more_than_60_sum']"
      ],
      "execution_count": null,
      "outputs": []
    },
    {
      "cell_type": "code",
      "metadata": {
        "id": "lOMKr7LHQcmG"
      },
      "source": [
        "id_vars = [item for item in list(data.columns)  if item not in age]"
      ],
      "execution_count": null,
      "outputs": []
    },
    {
      "cell_type": "code",
      "metadata": {
        "id": "ECk7Y05XcNbi"
      },
      "source": [
        "data1 = data.melt( id_vars = id_vars ,value_vars =age ,\n",
        "        value_name = 'age_groups' , var_name = 'age')"
      ],
      "execution_count": null,
      "outputs": []
    },
    {
      "cell_type": "code",
      "metadata": {
        "id": "4XFDWD5AcNd_"
      },
      "source": [
        "data1['age_pct'] = data1['age_groups'] / data1['new_wt_sum']"
      ],
      "execution_count": null,
      "outputs": []
    },
    {
      "cell_type": "code",
      "metadata": {
        "id": "mNMYqKYhcNg0"
      },
      "source": [
        "idx = data1.loc[data1['age_groups'] != 0].index"
      ],
      "execution_count": null,
      "outputs": []
    },
    {
      "cell_type": "code",
      "metadata": {
        "id": "2O0UgwYXcNjL"
      },
      "source": [
        "data1 = data1.iloc[idx , :]"
      ],
      "execution_count": null,
      "outputs": []
    },
    {
      "cell_type": "code",
      "metadata": {
        "id": "9XO4fa4mcNlq"
      },
      "source": [
        "gender= ['male_tot_sum' , 'female_tot_sum']"
      ],
      "execution_count": null,
      "outputs": []
    },
    {
      "cell_type": "code",
      "metadata": {
        "id": "_r9FwONAP_p_"
      },
      "source": [
        "id_vars = [item for item in list(data1.columns)  if item not in gender]"
      ],
      "execution_count": null,
      "outputs": []
    },
    {
      "cell_type": "code",
      "metadata": {
        "id": "o6jk-9DFcNoS"
      },
      "source": [
        "data2= data1.melt( id_vars = id_vars ,value_vars =gender ,\n",
        "        value_name = 'gender_groups' , var_name = 'gender' )"
      ],
      "execution_count": null,
      "outputs": []
    },
    {
      "cell_type": "code",
      "metadata": {
        "id": "fWj_TXonQie_",
        "outputId": "feebae12-edca-4b37-895f-4189fb07d2ef",
        "colab": {
          "base_uri": "https://localhost:8080/"
        }
      },
      "source": [
        "data2['gender_groups'].sum()"
      ],
      "execution_count": null,
      "outputs": [
        {
          "output_type": "execute_result",
          "data": {
            "text/plain": [
              "165039519.83879384"
            ]
          },
          "metadata": {
            "tags": []
          },
          "execution_count": 195
        }
      ]
    },
    {
      "cell_type": "code",
      "metadata": {
        "id": "wBt3SutDQ7wE"
      },
      "source": [
        "data2['gen_pct'] = data2['gender_groups'] / data2['new_wt_sum']"
      ],
      "execution_count": null,
      "outputs": []
    },
    {
      "cell_type": "code",
      "metadata": {
        "id": "KI15v59EOOAC"
      },
      "source": [
        "idx = data2.loc[data2['gender_groups'] != 0].index"
      ],
      "execution_count": null,
      "outputs": []
    },
    {
      "cell_type": "code",
      "metadata": {
        "id": "EAbrWGMsREhf"
      },
      "source": [
        "data2 = data2.iloc[idx , :]"
      ],
      "execution_count": null,
      "outputs": []
    },
    {
      "cell_type": "code",
      "metadata": {
        "id": "sP5NpGppReI1"
      },
      "source": [
        "data2['new_trips'] = data2['gen_pct'] * data2['age_pct']   * data2['new_wt_sum']"
      ],
      "execution_count": null,
      "outputs": []
    },
    {
      "cell_type": "code",
      "metadata": {
        "id": "nRMYZtwISV1l"
      },
      "source": [
        "data2['new_nights'] = data2['gen_pct'] * data2['age_pct'] * data2['night_wt_sum']"
      ],
      "execution_count": null,
      "outputs": []
    },
    {
      "cell_type": "code",
      "metadata": {
        "id": "Su7YlhWGSERQ"
      },
      "source": [
        "data2['new_spend'] = data2['gen_pct'] * data2['age_pct']  * data2['exp_wt_sum']"
      ],
      "execution_count": null,
      "outputs": []
    },
    {
      "cell_type": "code",
      "metadata": {
        "id": "myeqMlT2Stm_",
        "outputId": "220aaf18-10ba-483c-a12c-8d014ae5ec98",
        "colab": {
          "base_uri": "https://localhost:8080/"
        }
      },
      "source": [
        "data2['new_trips'].sum()"
      ],
      "execution_count": null,
      "outputs": [
        {
          "output_type": "execute_result",
          "data": {
            "text/plain": [
              "54620912.95207851"
            ]
          },
          "metadata": {
            "tags": []
          },
          "execution_count": 202
        }
      ]
    },
    {
      "cell_type": "code",
      "metadata": {
        "id": "DV9e9ACc_A78",
        "outputId": "eeb2a118-4ff7-490c-bb97-6df4e6f9c43f",
        "colab": {
          "base_uri": "https://localhost:8080/",
          "height": 643
        }
      },
      "source": [
        "data2"
      ],
      "execution_count": null,
      "outputs": [
        {
          "output_type": "execute_result",
          "data": {
            "text/html": [
              "<div>\n",
              "<style scoped>\n",
              "    .dataframe tbody tr th:only-of-type {\n",
              "        vertical-align: middle;\n",
              "    }\n",
              "\n",
              "    .dataframe tbody tr th {\n",
              "        vertical-align: top;\n",
              "    }\n",
              "\n",
              "    .dataframe thead th {\n",
              "        text-align: right;\n",
              "    }\n",
              "</style>\n",
              "<table border=\"1\" class=\"dataframe\">\n",
              "  <thead>\n",
              "    <tr style=\"text-align: right;\">\n",
              "      <th></th>\n",
              "      <th>Year</th>\n",
              "      <th>Q_479N</th>\n",
              "      <th>GRP</th>\n",
              "      <th>Country</th>\n",
              "      <th>Q_12N</th>\n",
              "      <th>Trip_Type</th>\n",
              "      <th>Q_476_O1N</th>\n",
              "      <th>new_pov</th>\n",
              "      <th>Q_652</th>\n",
              "      <th>new_wt_sum</th>\n",
              "      <th>night_wt_sum</th>\n",
              "      <th>exp_wt_sum</th>\n",
              "      <th>age</th>\n",
              "      <th>age_groups</th>\n",
              "      <th>age_pct</th>\n",
              "      <th>gender</th>\n",
              "      <th>gender_groups</th>\n",
              "      <th>gen_pct</th>\n",
              "      <th>new_trips</th>\n",
              "      <th>new_nights</th>\n",
              "      <th>new_spend</th>\n",
              "    </tr>\n",
              "  </thead>\n",
              "  <tbody>\n",
              "    <tr>\n",
              "      <th>0</th>\n",
              "      <td>2019</td>\n",
              "      <td>1</td>\n",
              "      <td>GCC</td>\n",
              "      <td>Bahrain</td>\n",
              "      <td>Saudi</td>\n",
              "      <td>Day trip</td>\n",
              "      <td>NaN</td>\n",
              "      <td>leisure</td>\n",
              "      <td>Married</td>\n",
              "      <td>421250.521643</td>\n",
              "      <td>0.000000</td>\n",
              "      <td>2.542603e+08</td>\n",
              "      <td>from_0_to_15_sum</td>\n",
              "      <td>149091.689034</td>\n",
              "      <td>0.353926</td>\n",
              "      <td>male_tot_sum</td>\n",
              "      <td>312345.902777</td>\n",
              "      <td>0.741473</td>\n",
              "      <td>110547.467161</td>\n",
              "      <td>0.000000</td>\n",
              "      <td>6.672475e+07</td>\n",
              "    </tr>\n",
              "    <tr>\n",
              "      <th>1</th>\n",
              "      <td>2019</td>\n",
              "      <td>1</td>\n",
              "      <td>GCC</td>\n",
              "      <td>Bahrain</td>\n",
              "      <td>Saudi</td>\n",
              "      <td>tourist trip</td>\n",
              "      <td>Hotel/ Resorts</td>\n",
              "      <td>leisure</td>\n",
              "      <td>Married</td>\n",
              "      <td>128151.514114</td>\n",
              "      <td>304518.449381</td>\n",
              "      <td>1.680703e+08</td>\n",
              "      <td>from_0_to_15_sum</td>\n",
              "      <td>40697.621933</td>\n",
              "      <td>0.317574</td>\n",
              "      <td>male_tot_sum</td>\n",
              "      <td>90474.908544</td>\n",
              "      <td>0.706000</td>\n",
              "      <td>28732.501897</td>\n",
              "      <td>68275.252032</td>\n",
              "      <td>3.768259e+07</td>\n",
              "    </tr>\n",
              "    <tr>\n",
              "      <th>2</th>\n",
              "      <td>2019</td>\n",
              "      <td>1</td>\n",
              "      <td>GCC</td>\n",
              "      <td>Bahrain</td>\n",
              "      <td>Saudi</td>\n",
              "      <td>tourist trip</td>\n",
              "      <td>Furnished Apartment</td>\n",
              "      <td>leisure</td>\n",
              "      <td>Married</td>\n",
              "      <td>31720.671810</td>\n",
              "      <td>58366.036131</td>\n",
              "      <td>4.756713e+07</td>\n",
              "      <td>from_0_to_15_sum</td>\n",
              "      <td>8410.509554</td>\n",
              "      <td>0.265143</td>\n",
              "      <td>male_tot_sum</td>\n",
              "      <td>26427.851143</td>\n",
              "      <td>0.833143</td>\n",
              "      <td>7007.155960</td>\n",
              "      <td>12893.166967</td>\n",
              "      <td>1.050767e+07</td>\n",
              "    </tr>\n",
              "    <tr>\n",
              "      <th>3</th>\n",
              "      <td>2019</td>\n",
              "      <td>1</td>\n",
              "      <td>GCC</td>\n",
              "      <td>Bahrain</td>\n",
              "      <td>Saudi</td>\n",
              "      <td>tourist trip</td>\n",
              "      <td>With Friends/ Relatives</td>\n",
              "      <td>VFR</td>\n",
              "      <td>Married</td>\n",
              "      <td>6344.134362</td>\n",
              "      <td>29183.018066</td>\n",
              "      <td>7.409949e+06</td>\n",
              "      <td>from_0_to_15_sum</td>\n",
              "      <td>2030.122996</td>\n",
              "      <td>0.320000</td>\n",
              "      <td>male_tot_sum</td>\n",
              "      <td>5329.072864</td>\n",
              "      <td>0.840000</td>\n",
              "      <td>1705.303317</td>\n",
              "      <td>7844.395256</td>\n",
              "      <td>1.991794e+06</td>\n",
              "    </tr>\n",
              "    <tr>\n",
              "      <th>4</th>\n",
              "      <td>2019</td>\n",
              "      <td>1</td>\n",
              "      <td>GCC</td>\n",
              "      <td>Bahrain</td>\n",
              "      <td>Non-Saudi</td>\n",
              "      <td>Day trip</td>\n",
              "      <td>NaN</td>\n",
              "      <td>VFR</td>\n",
              "      <td>Married</td>\n",
              "      <td>39672.000000</td>\n",
              "      <td>0.000000</td>\n",
              "      <td>2.346208e+07</td>\n",
              "      <td>from_0_to_15_sum</td>\n",
              "      <td>9918.000000</td>\n",
              "      <td>0.250000</td>\n",
              "      <td>male_tot_sum</td>\n",
              "      <td>29754.000000</td>\n",
              "      <td>0.750000</td>\n",
              "      <td>7438.500000</td>\n",
              "      <td>0.000000</td>\n",
              "      <td>4.399139e+06</td>\n",
              "    </tr>\n",
              "    <tr>\n",
              "      <th>...</th>\n",
              "      <td>...</td>\n",
              "      <td>...</td>\n",
              "      <td>...</td>\n",
              "      <td>...</td>\n",
              "      <td>...</td>\n",
              "      <td>...</td>\n",
              "      <td>...</td>\n",
              "      <td>...</td>\n",
              "      <td>...</td>\n",
              "      <td>...</td>\n",
              "      <td>...</td>\n",
              "      <td>...</td>\n",
              "      <td>...</td>\n",
              "      <td>...</td>\n",
              "      <td>...</td>\n",
              "      <td>...</td>\n",
              "      <td>...</td>\n",
              "      <td>...</td>\n",
              "      <td>...</td>\n",
              "      <td>...</td>\n",
              "      <td>...</td>\n",
              "    </tr>\n",
              "    <tr>\n",
              "      <th>24756</th>\n",
              "      <td>2018</td>\n",
              "      <td>9</td>\n",
              "      <td>SOUTH EUROPE</td>\n",
              "      <td>Spain</td>\n",
              "      <td>Saudi</td>\n",
              "      <td>tourist trip</td>\n",
              "      <td>Hotel/ Resorts</td>\n",
              "      <td>leisure</td>\n",
              "      <td>Married</td>\n",
              "      <td>561.512232</td>\n",
              "      <td>4772.853972</td>\n",
              "      <td>1.495432e+06</td>\n",
              "      <td>more_than_60_sum</td>\n",
              "      <td>40.108017</td>\n",
              "      <td>0.071429</td>\n",
              "      <td>female_tot_sum</td>\n",
              "      <td>140.378058</td>\n",
              "      <td>0.250000</td>\n",
              "      <td>10.027004</td>\n",
              "      <td>85.229535</td>\n",
              "      <td>2.670414e+04</td>\n",
              "    </tr>\n",
              "    <tr>\n",
              "      <th>24758</th>\n",
              "      <td>2018</td>\n",
              "      <td>9</td>\n",
              "      <td>EAST MEDITRANNE EUROPE</td>\n",
              "      <td>Turkey</td>\n",
              "      <td>Saudi</td>\n",
              "      <td>tourist trip</td>\n",
              "      <td>Hotel/ Resorts</td>\n",
              "      <td>leisure</td>\n",
              "      <td>Married</td>\n",
              "      <td>31696.620865</td>\n",
              "      <td>357307.362480</td>\n",
              "      <td>1.459545e+08</td>\n",
              "      <td>more_than_60_sum</td>\n",
              "      <td>419.128871</td>\n",
              "      <td>0.013223</td>\n",
              "      <td>female_tot_sum</td>\n",
              "      <td>9799.632173</td>\n",
              "      <td>0.309170</td>\n",
              "      <td>129.581913</td>\n",
              "      <td>1460.741565</td>\n",
              "      <td>5.966901e+05</td>\n",
              "    </tr>\n",
              "    <tr>\n",
              "      <th>24760</th>\n",
              "      <td>2018</td>\n",
              "      <td>11</td>\n",
              "      <td>MIDDLE EAST</td>\n",
              "      <td>Egypt</td>\n",
              "      <td>Saudi</td>\n",
              "      <td>tourist trip</td>\n",
              "      <td>Hotel/ Resorts</td>\n",
              "      <td>others</td>\n",
              "      <td>Married</td>\n",
              "      <td>3243.508033</td>\n",
              "      <td>9730.524100</td>\n",
              "      <td>8.143053e+06</td>\n",
              "      <td>more_than_60_sum</td>\n",
              "      <td>648.701607</td>\n",
              "      <td>0.200000</td>\n",
              "      <td>female_tot_sum</td>\n",
              "      <td>1946.104820</td>\n",
              "      <td>0.600000</td>\n",
              "      <td>389.220964</td>\n",
              "      <td>1167.662892</td>\n",
              "      <td>9.771664e+05</td>\n",
              "    </tr>\n",
              "    <tr>\n",
              "      <th>24761</th>\n",
              "      <td>2018</td>\n",
              "      <td>11</td>\n",
              "      <td>MIDDLE EAST</td>\n",
              "      <td>Jordan</td>\n",
              "      <td>Non-Saudi</td>\n",
              "      <td>tourist trip</td>\n",
              "      <td>With Friends/ Relatives</td>\n",
              "      <td>VFR</td>\n",
              "      <td>Married</td>\n",
              "      <td>28396.316667</td>\n",
              "      <td>785245.083334</td>\n",
              "      <td>7.851910e+07</td>\n",
              "      <td>more_than_60_sum</td>\n",
              "      <td>386.344444</td>\n",
              "      <td>0.013605</td>\n",
              "      <td>female_tot_sum</td>\n",
              "      <td>8093.916111</td>\n",
              "      <td>0.285034</td>\n",
              "      <td>110.121308</td>\n",
              "      <td>3045.191262</td>\n",
              "      <td>3.044982e+05</td>\n",
              "    </tr>\n",
              "    <tr>\n",
              "      <th>24763</th>\n",
              "      <td>2018</td>\n",
              "      <td>12</td>\n",
              "      <td>WESTERN EUROPE</td>\n",
              "      <td>Germany</td>\n",
              "      <td>Non-Saudi</td>\n",
              "      <td>tourist trip</td>\n",
              "      <td>Hotel/ Resorts</td>\n",
              "      <td>leisure</td>\n",
              "      <td>Married</td>\n",
              "      <td>2491.200000</td>\n",
              "      <td>37368.000000</td>\n",
              "      <td>2.410014e+07</td>\n",
              "      <td>more_than_60_sum</td>\n",
              "      <td>1494.720000</td>\n",
              "      <td>0.600000</td>\n",
              "      <td>female_tot_sum</td>\n",
              "      <td>498.240000</td>\n",
              "      <td>0.200000</td>\n",
              "      <td>298.944000</td>\n",
              "      <td>4484.160000</td>\n",
              "      <td>2.892016e+06</td>\n",
              "    </tr>\n",
              "  </tbody>\n",
              "</table>\n",
              "<p>19856 rows × 21 columns</p>\n",
              "</div>"
            ],
            "text/plain": [
              "       Year  Q_479N  ...    new_nights     new_spend\n",
              "0      2019       1  ...      0.000000  6.672475e+07\n",
              "1      2019       1  ...  68275.252032  3.768259e+07\n",
              "2      2019       1  ...  12893.166967  1.050767e+07\n",
              "3      2019       1  ...   7844.395256  1.991794e+06\n",
              "4      2019       1  ...      0.000000  4.399139e+06\n",
              "...     ...     ...  ...           ...           ...\n",
              "24756  2018       9  ...     85.229535  2.670414e+04\n",
              "24758  2018       9  ...   1460.741565  5.966901e+05\n",
              "24760  2018      11  ...   1167.662892  9.771664e+05\n",
              "24761  2018      11  ...   3045.191262  3.044982e+05\n",
              "24763  2018      12  ...   4484.160000  2.892016e+06\n",
              "\n",
              "[19856 rows x 21 columns]"
            ]
          },
          "metadata": {
            "tags": []
          },
          "execution_count": 203
        }
      ]
    },
    {
      "cell_type": "code",
      "metadata": {
        "id": "7Vllzf_FSwQW",
        "outputId": "6adbdff4-fc7a-4570-9d97-4bb04ad60338",
        "colab": {
          "base_uri": "https://localhost:8080/"
        }
      },
      "source": [
        "data['new_wt_sum'].sum()"
      ],
      "execution_count": null,
      "outputs": [
        {
          "output_type": "execute_result",
          "data": {
            "text/plain": [
              "54620912.952078514"
            ]
          },
          "metadata": {
            "tags": []
          },
          "execution_count": 204
        }
      ]
    },
    {
      "cell_type": "code",
      "metadata": {
        "id": "XjMHI0L0PORl",
        "outputId": "9b608a8a-7e38-45ea-cf75-7e7976843db4",
        "colab": {
          "base_uri": "https://localhost:8080/",
          "height": 643
        }
      },
      "source": [
        "data2"
      ],
      "execution_count": null,
      "outputs": [
        {
          "output_type": "execute_result",
          "data": {
            "text/html": [
              "<div>\n",
              "<style scoped>\n",
              "    .dataframe tbody tr th:only-of-type {\n",
              "        vertical-align: middle;\n",
              "    }\n",
              "\n",
              "    .dataframe tbody tr th {\n",
              "        vertical-align: top;\n",
              "    }\n",
              "\n",
              "    .dataframe thead th {\n",
              "        text-align: right;\n",
              "    }\n",
              "</style>\n",
              "<table border=\"1\" class=\"dataframe\">\n",
              "  <thead>\n",
              "    <tr style=\"text-align: right;\">\n",
              "      <th></th>\n",
              "      <th>Year</th>\n",
              "      <th>Q_479N</th>\n",
              "      <th>GRP</th>\n",
              "      <th>Country</th>\n",
              "      <th>Q_12N</th>\n",
              "      <th>Trip_Type</th>\n",
              "      <th>Q_476_O1N</th>\n",
              "      <th>new_pov</th>\n",
              "      <th>Q_652</th>\n",
              "      <th>new_wt_sum</th>\n",
              "      <th>night_wt_sum</th>\n",
              "      <th>exp_wt_sum</th>\n",
              "      <th>age</th>\n",
              "      <th>age_groups</th>\n",
              "      <th>age_pct</th>\n",
              "      <th>gender</th>\n",
              "      <th>gender_groups</th>\n",
              "      <th>gen_pct</th>\n",
              "      <th>new_trips</th>\n",
              "      <th>new_nights</th>\n",
              "      <th>new_spend</th>\n",
              "    </tr>\n",
              "  </thead>\n",
              "  <tbody>\n",
              "    <tr>\n",
              "      <th>0</th>\n",
              "      <td>2019</td>\n",
              "      <td>1</td>\n",
              "      <td>GCC</td>\n",
              "      <td>Bahrain</td>\n",
              "      <td>Saudi</td>\n",
              "      <td>Day trip</td>\n",
              "      <td>NaN</td>\n",
              "      <td>leisure</td>\n",
              "      <td>Married</td>\n",
              "      <td>421250.521643</td>\n",
              "      <td>0.000000</td>\n",
              "      <td>2.542603e+08</td>\n",
              "      <td>from_0_to_15_sum</td>\n",
              "      <td>149091.689034</td>\n",
              "      <td>0.353926</td>\n",
              "      <td>male_tot_sum</td>\n",
              "      <td>312345.902777</td>\n",
              "      <td>0.741473</td>\n",
              "      <td>110547.467161</td>\n",
              "      <td>0.000000</td>\n",
              "      <td>6.672475e+07</td>\n",
              "    </tr>\n",
              "    <tr>\n",
              "      <th>1</th>\n",
              "      <td>2019</td>\n",
              "      <td>1</td>\n",
              "      <td>GCC</td>\n",
              "      <td>Bahrain</td>\n",
              "      <td>Saudi</td>\n",
              "      <td>tourist trip</td>\n",
              "      <td>Hotel/ Resorts</td>\n",
              "      <td>leisure</td>\n",
              "      <td>Married</td>\n",
              "      <td>128151.514114</td>\n",
              "      <td>304518.449381</td>\n",
              "      <td>1.680703e+08</td>\n",
              "      <td>from_0_to_15_sum</td>\n",
              "      <td>40697.621933</td>\n",
              "      <td>0.317574</td>\n",
              "      <td>male_tot_sum</td>\n",
              "      <td>90474.908544</td>\n",
              "      <td>0.706000</td>\n",
              "      <td>28732.501897</td>\n",
              "      <td>68275.252032</td>\n",
              "      <td>3.768259e+07</td>\n",
              "    </tr>\n",
              "    <tr>\n",
              "      <th>2</th>\n",
              "      <td>2019</td>\n",
              "      <td>1</td>\n",
              "      <td>GCC</td>\n",
              "      <td>Bahrain</td>\n",
              "      <td>Saudi</td>\n",
              "      <td>tourist trip</td>\n",
              "      <td>Furnished Apartment</td>\n",
              "      <td>leisure</td>\n",
              "      <td>Married</td>\n",
              "      <td>31720.671810</td>\n",
              "      <td>58366.036131</td>\n",
              "      <td>4.756713e+07</td>\n",
              "      <td>from_0_to_15_sum</td>\n",
              "      <td>8410.509554</td>\n",
              "      <td>0.265143</td>\n",
              "      <td>male_tot_sum</td>\n",
              "      <td>26427.851143</td>\n",
              "      <td>0.833143</td>\n",
              "      <td>7007.155960</td>\n",
              "      <td>12893.166967</td>\n",
              "      <td>1.050767e+07</td>\n",
              "    </tr>\n",
              "    <tr>\n",
              "      <th>3</th>\n",
              "      <td>2019</td>\n",
              "      <td>1</td>\n",
              "      <td>GCC</td>\n",
              "      <td>Bahrain</td>\n",
              "      <td>Saudi</td>\n",
              "      <td>tourist trip</td>\n",
              "      <td>With Friends/ Relatives</td>\n",
              "      <td>VFR</td>\n",
              "      <td>Married</td>\n",
              "      <td>6344.134362</td>\n",
              "      <td>29183.018066</td>\n",
              "      <td>7.409949e+06</td>\n",
              "      <td>from_0_to_15_sum</td>\n",
              "      <td>2030.122996</td>\n",
              "      <td>0.320000</td>\n",
              "      <td>male_tot_sum</td>\n",
              "      <td>5329.072864</td>\n",
              "      <td>0.840000</td>\n",
              "      <td>1705.303317</td>\n",
              "      <td>7844.395256</td>\n",
              "      <td>1.991794e+06</td>\n",
              "    </tr>\n",
              "    <tr>\n",
              "      <th>4</th>\n",
              "      <td>2019</td>\n",
              "      <td>1</td>\n",
              "      <td>GCC</td>\n",
              "      <td>Bahrain</td>\n",
              "      <td>Non-Saudi</td>\n",
              "      <td>Day trip</td>\n",
              "      <td>NaN</td>\n",
              "      <td>VFR</td>\n",
              "      <td>Married</td>\n",
              "      <td>39672.000000</td>\n",
              "      <td>0.000000</td>\n",
              "      <td>2.346208e+07</td>\n",
              "      <td>from_0_to_15_sum</td>\n",
              "      <td>9918.000000</td>\n",
              "      <td>0.250000</td>\n",
              "      <td>male_tot_sum</td>\n",
              "      <td>29754.000000</td>\n",
              "      <td>0.750000</td>\n",
              "      <td>7438.500000</td>\n",
              "      <td>0.000000</td>\n",
              "      <td>4.399139e+06</td>\n",
              "    </tr>\n",
              "    <tr>\n",
              "      <th>...</th>\n",
              "      <td>...</td>\n",
              "      <td>...</td>\n",
              "      <td>...</td>\n",
              "      <td>...</td>\n",
              "      <td>...</td>\n",
              "      <td>...</td>\n",
              "      <td>...</td>\n",
              "      <td>...</td>\n",
              "      <td>...</td>\n",
              "      <td>...</td>\n",
              "      <td>...</td>\n",
              "      <td>...</td>\n",
              "      <td>...</td>\n",
              "      <td>...</td>\n",
              "      <td>...</td>\n",
              "      <td>...</td>\n",
              "      <td>...</td>\n",
              "      <td>...</td>\n",
              "      <td>...</td>\n",
              "      <td>...</td>\n",
              "      <td>...</td>\n",
              "    </tr>\n",
              "    <tr>\n",
              "      <th>24756</th>\n",
              "      <td>2018</td>\n",
              "      <td>9</td>\n",
              "      <td>SOUTH EUROPE</td>\n",
              "      <td>Spain</td>\n",
              "      <td>Saudi</td>\n",
              "      <td>tourist trip</td>\n",
              "      <td>Hotel/ Resorts</td>\n",
              "      <td>leisure</td>\n",
              "      <td>Married</td>\n",
              "      <td>561.512232</td>\n",
              "      <td>4772.853972</td>\n",
              "      <td>1.495432e+06</td>\n",
              "      <td>more_than_60_sum</td>\n",
              "      <td>40.108017</td>\n",
              "      <td>0.071429</td>\n",
              "      <td>female_tot_sum</td>\n",
              "      <td>140.378058</td>\n",
              "      <td>0.250000</td>\n",
              "      <td>10.027004</td>\n",
              "      <td>85.229535</td>\n",
              "      <td>2.670414e+04</td>\n",
              "    </tr>\n",
              "    <tr>\n",
              "      <th>24758</th>\n",
              "      <td>2018</td>\n",
              "      <td>9</td>\n",
              "      <td>EAST MEDITRANNE EUROPE</td>\n",
              "      <td>Turkey</td>\n",
              "      <td>Saudi</td>\n",
              "      <td>tourist trip</td>\n",
              "      <td>Hotel/ Resorts</td>\n",
              "      <td>leisure</td>\n",
              "      <td>Married</td>\n",
              "      <td>31696.620865</td>\n",
              "      <td>357307.362480</td>\n",
              "      <td>1.459545e+08</td>\n",
              "      <td>more_than_60_sum</td>\n",
              "      <td>419.128871</td>\n",
              "      <td>0.013223</td>\n",
              "      <td>female_tot_sum</td>\n",
              "      <td>9799.632173</td>\n",
              "      <td>0.309170</td>\n",
              "      <td>129.581913</td>\n",
              "      <td>1460.741565</td>\n",
              "      <td>5.966901e+05</td>\n",
              "    </tr>\n",
              "    <tr>\n",
              "      <th>24760</th>\n",
              "      <td>2018</td>\n",
              "      <td>11</td>\n",
              "      <td>MIDDLE EAST</td>\n",
              "      <td>Egypt</td>\n",
              "      <td>Saudi</td>\n",
              "      <td>tourist trip</td>\n",
              "      <td>Hotel/ Resorts</td>\n",
              "      <td>others</td>\n",
              "      <td>Married</td>\n",
              "      <td>3243.508033</td>\n",
              "      <td>9730.524100</td>\n",
              "      <td>8.143053e+06</td>\n",
              "      <td>more_than_60_sum</td>\n",
              "      <td>648.701607</td>\n",
              "      <td>0.200000</td>\n",
              "      <td>female_tot_sum</td>\n",
              "      <td>1946.104820</td>\n",
              "      <td>0.600000</td>\n",
              "      <td>389.220964</td>\n",
              "      <td>1167.662892</td>\n",
              "      <td>9.771664e+05</td>\n",
              "    </tr>\n",
              "    <tr>\n",
              "      <th>24761</th>\n",
              "      <td>2018</td>\n",
              "      <td>11</td>\n",
              "      <td>MIDDLE EAST</td>\n",
              "      <td>Jordan</td>\n",
              "      <td>Non-Saudi</td>\n",
              "      <td>tourist trip</td>\n",
              "      <td>With Friends/ Relatives</td>\n",
              "      <td>VFR</td>\n",
              "      <td>Married</td>\n",
              "      <td>28396.316667</td>\n",
              "      <td>785245.083334</td>\n",
              "      <td>7.851910e+07</td>\n",
              "      <td>more_than_60_sum</td>\n",
              "      <td>386.344444</td>\n",
              "      <td>0.013605</td>\n",
              "      <td>female_tot_sum</td>\n",
              "      <td>8093.916111</td>\n",
              "      <td>0.285034</td>\n",
              "      <td>110.121308</td>\n",
              "      <td>3045.191262</td>\n",
              "      <td>3.044982e+05</td>\n",
              "    </tr>\n",
              "    <tr>\n",
              "      <th>24763</th>\n",
              "      <td>2018</td>\n",
              "      <td>12</td>\n",
              "      <td>WESTERN EUROPE</td>\n",
              "      <td>Germany</td>\n",
              "      <td>Non-Saudi</td>\n",
              "      <td>tourist trip</td>\n",
              "      <td>Hotel/ Resorts</td>\n",
              "      <td>leisure</td>\n",
              "      <td>Married</td>\n",
              "      <td>2491.200000</td>\n",
              "      <td>37368.000000</td>\n",
              "      <td>2.410014e+07</td>\n",
              "      <td>more_than_60_sum</td>\n",
              "      <td>1494.720000</td>\n",
              "      <td>0.600000</td>\n",
              "      <td>female_tot_sum</td>\n",
              "      <td>498.240000</td>\n",
              "      <td>0.200000</td>\n",
              "      <td>298.944000</td>\n",
              "      <td>4484.160000</td>\n",
              "      <td>2.892016e+06</td>\n",
              "    </tr>\n",
              "  </tbody>\n",
              "</table>\n",
              "<p>19856 rows × 21 columns</p>\n",
              "</div>"
            ],
            "text/plain": [
              "       Year  Q_479N  ...    new_nights     new_spend\n",
              "0      2019       1  ...      0.000000  6.672475e+07\n",
              "1      2019       1  ...  68275.252032  3.768259e+07\n",
              "2      2019       1  ...  12893.166967  1.050767e+07\n",
              "3      2019       1  ...   7844.395256  1.991794e+06\n",
              "4      2019       1  ...      0.000000  4.399139e+06\n",
              "...     ...     ...  ...           ...           ...\n",
              "24756  2018       9  ...     85.229535  2.670414e+04\n",
              "24758  2018       9  ...   1460.741565  5.966901e+05\n",
              "24760  2018      11  ...   1167.662892  9.771664e+05\n",
              "24761  2018      11  ...   3045.191262  3.044982e+05\n",
              "24763  2018      12  ...   4484.160000  2.892016e+06\n",
              "\n",
              "[19856 rows x 21 columns]"
            ]
          },
          "metadata": {
            "tags": []
          },
          "execution_count": 205
        }
      ]
    },
    {
      "cell_type": "code",
      "metadata": {
        "id": "BlDjYvPYRocm",
        "outputId": "9023e1d0-088a-4054-a9ba-a54984c3c17f",
        "colab": {
          "base_uri": "https://localhost:8080/"
        }
      },
      "source": [
        "data2['new_spend'].sum()"
      ],
      "execution_count": null,
      "outputs": [
        {
          "output_type": "execute_result",
          "data": {
            "text/plain": [
              "145531871591.51495"
            ]
          },
          "metadata": {
            "tags": []
          },
          "execution_count": 206
        }
      ]
    },
    {
      "cell_type": "code",
      "metadata": {
        "id": "P8XB0yzbRq8k",
        "outputId": "f19ccc79-6e50-486f-df57-89d5949973bd",
        "colab": {
          "base_uri": "https://localhost:8080/"
        }
      },
      "source": [
        "data['exp_wt_sum'].sum()"
      ],
      "execution_count": null,
      "outputs": [
        {
          "output_type": "execute_result",
          "data": {
            "text/plain": [
              "145531871591.51498"
            ]
          },
          "metadata": {
            "tags": []
          },
          "execution_count": 207
        }
      ]
    },
    {
      "cell_type": "code",
      "metadata": {
        "id": "Jql-0kQnVT6c",
        "outputId": "b3386c27-2345-41a8-cd85-5eb05c49a130",
        "colab": {
          "base_uri": "https://localhost:8080/",
          "height": 562
        }
      },
      "source": [
        "data2['Q_42'] = data2['Q_42'].apply(lambda x: x[:-5])"
      ],
      "execution_count": null,
      "outputs": [
        {
          "output_type": "error",
          "ename": "KeyError",
          "evalue": "ignored",
          "traceback": [
            "\u001b[0;31m---------------------------------------------------------------------------\u001b[0m",
            "\u001b[0;31mKeyError\u001b[0m                                  Traceback (most recent call last)",
            "\u001b[0;32m/usr/local/lib/python3.6/dist-packages/pandas/core/indexes/base.py\u001b[0m in \u001b[0;36mget_loc\u001b[0;34m(self, key, method, tolerance)\u001b[0m\n\u001b[1;32m   2894\u001b[0m             \u001b[0;32mtry\u001b[0m\u001b[0;34m:\u001b[0m\u001b[0;34m\u001b[0m\u001b[0;34m\u001b[0m\u001b[0m\n\u001b[0;32m-> 2895\u001b[0;31m                 \u001b[0;32mreturn\u001b[0m \u001b[0mself\u001b[0m\u001b[0;34m.\u001b[0m\u001b[0m_engine\u001b[0m\u001b[0;34m.\u001b[0m\u001b[0mget_loc\u001b[0m\u001b[0;34m(\u001b[0m\u001b[0mcasted_key\u001b[0m\u001b[0;34m)\u001b[0m\u001b[0;34m\u001b[0m\u001b[0;34m\u001b[0m\u001b[0m\n\u001b[0m\u001b[1;32m   2896\u001b[0m             \u001b[0;32mexcept\u001b[0m \u001b[0mKeyError\u001b[0m \u001b[0;32mas\u001b[0m \u001b[0merr\u001b[0m\u001b[0;34m:\u001b[0m\u001b[0;34m\u001b[0m\u001b[0;34m\u001b[0m\u001b[0m\n",
            "\u001b[0;32mpandas/_libs/index.pyx\u001b[0m in \u001b[0;36mpandas._libs.index.IndexEngine.get_loc\u001b[0;34m()\u001b[0m\n",
            "\u001b[0;32mpandas/_libs/index.pyx\u001b[0m in \u001b[0;36mpandas._libs.index.IndexEngine.get_loc\u001b[0;34m()\u001b[0m\n",
            "\u001b[0;32mpandas/_libs/hashtable_class_helper.pxi\u001b[0m in \u001b[0;36mpandas._libs.hashtable.PyObjectHashTable.get_item\u001b[0;34m()\u001b[0m\n",
            "\u001b[0;32mpandas/_libs/hashtable_class_helper.pxi\u001b[0m in \u001b[0;36mpandas._libs.hashtable.PyObjectHashTable.get_item\u001b[0;34m()\u001b[0m\n",
            "\u001b[0;31mKeyError\u001b[0m: 'Q_42'",
            "\nThe above exception was the direct cause of the following exception:\n",
            "\u001b[0;31mKeyError\u001b[0m                                  Traceback (most recent call last)",
            "\u001b[0;32m<ipython-input-172-eac7503df86b>\u001b[0m in \u001b[0;36m<module>\u001b[0;34m()\u001b[0m\n\u001b[0;32m----> 1\u001b[0;31m \u001b[0mdata2\u001b[0m\u001b[0;34m[\u001b[0m\u001b[0;34m'Q_42'\u001b[0m\u001b[0;34m]\u001b[0m \u001b[0;34m=\u001b[0m \u001b[0mdata2\u001b[0m\u001b[0;34m[\u001b[0m\u001b[0;34m'Q_42'\u001b[0m\u001b[0;34m]\u001b[0m\u001b[0;34m.\u001b[0m\u001b[0mapply\u001b[0m\u001b[0;34m(\u001b[0m\u001b[0;32mlambda\u001b[0m \u001b[0mx\u001b[0m\u001b[0;34m:\u001b[0m \u001b[0mx\u001b[0m\u001b[0;34m[\u001b[0m\u001b[0;34m:\u001b[0m\u001b[0;34m-\u001b[0m\u001b[0;36m5\u001b[0m\u001b[0;34m]\u001b[0m\u001b[0;34m)\u001b[0m\u001b[0;34m\u001b[0m\u001b[0;34m\u001b[0m\u001b[0m\n\u001b[0m",
            "\u001b[0;32m/usr/local/lib/python3.6/dist-packages/pandas/core/frame.py\u001b[0m in \u001b[0;36m__getitem__\u001b[0;34m(self, key)\u001b[0m\n\u001b[1;32m   2900\u001b[0m             \u001b[0;32mif\u001b[0m \u001b[0mself\u001b[0m\u001b[0;34m.\u001b[0m\u001b[0mcolumns\u001b[0m\u001b[0;34m.\u001b[0m\u001b[0mnlevels\u001b[0m \u001b[0;34m>\u001b[0m \u001b[0;36m1\u001b[0m\u001b[0;34m:\u001b[0m\u001b[0;34m\u001b[0m\u001b[0;34m\u001b[0m\u001b[0m\n\u001b[1;32m   2901\u001b[0m                 \u001b[0;32mreturn\u001b[0m \u001b[0mself\u001b[0m\u001b[0;34m.\u001b[0m\u001b[0m_getitem_multilevel\u001b[0m\u001b[0;34m(\u001b[0m\u001b[0mkey\u001b[0m\u001b[0;34m)\u001b[0m\u001b[0;34m\u001b[0m\u001b[0;34m\u001b[0m\u001b[0m\n\u001b[0;32m-> 2902\u001b[0;31m             \u001b[0mindexer\u001b[0m \u001b[0;34m=\u001b[0m \u001b[0mself\u001b[0m\u001b[0;34m.\u001b[0m\u001b[0mcolumns\u001b[0m\u001b[0;34m.\u001b[0m\u001b[0mget_loc\u001b[0m\u001b[0;34m(\u001b[0m\u001b[0mkey\u001b[0m\u001b[0;34m)\u001b[0m\u001b[0;34m\u001b[0m\u001b[0;34m\u001b[0m\u001b[0m\n\u001b[0m\u001b[1;32m   2903\u001b[0m             \u001b[0;32mif\u001b[0m \u001b[0mis_integer\u001b[0m\u001b[0;34m(\u001b[0m\u001b[0mindexer\u001b[0m\u001b[0;34m)\u001b[0m\u001b[0;34m:\u001b[0m\u001b[0;34m\u001b[0m\u001b[0;34m\u001b[0m\u001b[0m\n\u001b[1;32m   2904\u001b[0m                 \u001b[0mindexer\u001b[0m \u001b[0;34m=\u001b[0m \u001b[0;34m[\u001b[0m\u001b[0mindexer\u001b[0m\u001b[0;34m]\u001b[0m\u001b[0;34m\u001b[0m\u001b[0;34m\u001b[0m\u001b[0m\n",
            "\u001b[0;32m/usr/local/lib/python3.6/dist-packages/pandas/core/indexes/base.py\u001b[0m in \u001b[0;36mget_loc\u001b[0;34m(self, key, method, tolerance)\u001b[0m\n\u001b[1;32m   2895\u001b[0m                 \u001b[0;32mreturn\u001b[0m \u001b[0mself\u001b[0m\u001b[0;34m.\u001b[0m\u001b[0m_engine\u001b[0m\u001b[0;34m.\u001b[0m\u001b[0mget_loc\u001b[0m\u001b[0;34m(\u001b[0m\u001b[0mcasted_key\u001b[0m\u001b[0;34m)\u001b[0m\u001b[0;34m\u001b[0m\u001b[0;34m\u001b[0m\u001b[0m\n\u001b[1;32m   2896\u001b[0m             \u001b[0;32mexcept\u001b[0m \u001b[0mKeyError\u001b[0m \u001b[0;32mas\u001b[0m \u001b[0merr\u001b[0m\u001b[0;34m:\u001b[0m\u001b[0;34m\u001b[0m\u001b[0;34m\u001b[0m\u001b[0m\n\u001b[0;32m-> 2897\u001b[0;31m                 \u001b[0;32mraise\u001b[0m \u001b[0mKeyError\u001b[0m\u001b[0;34m(\u001b[0m\u001b[0mkey\u001b[0m\u001b[0;34m)\u001b[0m \u001b[0;32mfrom\u001b[0m \u001b[0merr\u001b[0m\u001b[0;34m\u001b[0m\u001b[0;34m\u001b[0m\u001b[0m\n\u001b[0m\u001b[1;32m   2898\u001b[0m \u001b[0;34m\u001b[0m\u001b[0m\n\u001b[1;32m   2899\u001b[0m         \u001b[0;32mif\u001b[0m \u001b[0mtolerance\u001b[0m \u001b[0;32mis\u001b[0m \u001b[0;32mnot\u001b[0m \u001b[0;32mNone\u001b[0m\u001b[0;34m:\u001b[0m\u001b[0;34m\u001b[0m\u001b[0;34m\u001b[0m\u001b[0m\n",
            "\u001b[0;31mKeyError\u001b[0m: 'Q_42'"
          ]
        }
      ]
    },
    {
      "cell_type": "code",
      "metadata": {
        "id": "APRwPRA3VT84"
      },
      "source": [
        "data2.drop (columns = ['new_wt_sum' ,'exp_wt_sum' , 'night_wt_sum' ,'gender_groups' ,'gen_pct'] , inplace=True)"
      ],
      "execution_count": null,
      "outputs": []
    },
    {
      "cell_type": "code",
      "metadata": {
        "id": "AgMAOYZZVT_l"
      },
      "source": [
        ""
      ],
      "execution_count": null,
      "outputs": []
    },
    {
      "cell_type": "code",
      "metadata": {
        "id": "TIhHXkbQVUCL"
      },
      "source": [
        ""
      ],
      "execution_count": null,
      "outputs": []
    },
    {
      "cell_type": "code",
      "metadata": {
        "id": "7CmwYMtOTwt3"
      },
      "source": [
        "spend = ['accomodation_spend', 'food_spend',\n",
        "       'local_transport_spend', 'entertainment_spend', 'shop_spend',\n",
        "       'medical_spend', 'edu_spend', 'other_spend']"
      ],
      "execution_count": null,
      "outputs": []
    },
    {
      "cell_type": "code",
      "metadata": {
        "id": "jsAuc5zCUQyI"
      },
      "source": [
        "for i  in spend: \n",
        "  data2[i] = data2[i] * data2['per']\n"
      ],
      "execution_count": null,
      "outputs": []
    },
    {
      "cell_type": "code",
      "metadata": {
        "id": "AVzGe9ASVUKH"
      },
      "source": [
        "data2['Total Trips'] = data2['new_trips']"
      ],
      "execution_count": null,
      "outputs": []
    },
    {
      "cell_type": "code",
      "metadata": {
        "id": "j5Eg6XJ-VZX-"
      },
      "source": [
        "data2['Total Nights'] = data2['new_nights']"
      ],
      "execution_count": null,
      "outputs": []
    },
    {
      "cell_type": "code",
      "metadata": {
        "id": "NR62LwFZs9-C"
      },
      "source": [
        "data2['Total Spend'] = data2['new_spend']"
      ],
      "execution_count": null,
      "outputs": []
    },
    {
      "cell_type": "code",
      "metadata": {
        "id": "FxB2OTfpUy5v"
      },
      "source": [
        "data2.drop(columns =['new_trips' , 'new_nights' , 'new_spend' ,'age_groups' , 'age_pct'] , inplace=True)"
      ],
      "execution_count": null,
      "outputs": []
    },
    {
      "cell_type": "code",
      "metadata": {
        "id": "KviamIhLTAZ-",
        "outputId": "20ead399-044c-4bd6-e912-42913241be97",
        "colab": {
          "base_uri": "https://localhost:8080/",
          "height": 272
        }
      },
      "source": [
        "data2.head()"
      ],
      "execution_count": null,
      "outputs": [
        {
          "output_type": "execute_result",
          "data": {
            "text/html": [
              "<div>\n",
              "<style scoped>\n",
              "    .dataframe tbody tr th:only-of-type {\n",
              "        vertical-align: middle;\n",
              "    }\n",
              "\n",
              "    .dataframe tbody tr th {\n",
              "        vertical-align: top;\n",
              "    }\n",
              "\n",
              "    .dataframe thead th {\n",
              "        text-align: right;\n",
              "    }\n",
              "</style>\n",
              "<table border=\"1\" class=\"dataframe\">\n",
              "  <thead>\n",
              "    <tr style=\"text-align: right;\">\n",
              "      <th></th>\n",
              "      <th>Year</th>\n",
              "      <th>Q_479N</th>\n",
              "      <th>GRP</th>\n",
              "      <th>Country</th>\n",
              "      <th>Q_12N</th>\n",
              "      <th>Trip_Type</th>\n",
              "      <th>Q_476_O1N</th>\n",
              "      <th>new_pov</th>\n",
              "      <th>Q_652</th>\n",
              "      <th>age</th>\n",
              "      <th>gender</th>\n",
              "      <th>Total Trips</th>\n",
              "      <th>Total Nights</th>\n",
              "      <th>Total Spend</th>\n",
              "    </tr>\n",
              "  </thead>\n",
              "  <tbody>\n",
              "    <tr>\n",
              "      <th>0</th>\n",
              "      <td>2019</td>\n",
              "      <td>1</td>\n",
              "      <td>GCC</td>\n",
              "      <td>Bahrain</td>\n",
              "      <td>Saudi</td>\n",
              "      <td>Day trip</td>\n",
              "      <td>NaN</td>\n",
              "      <td>leisure</td>\n",
              "      <td>Married</td>\n",
              "      <td>from_0_to_15_sum</td>\n",
              "      <td>male_tot_sum</td>\n",
              "      <td>110547.467161</td>\n",
              "      <td>0.000000</td>\n",
              "      <td>6.672475e+07</td>\n",
              "    </tr>\n",
              "    <tr>\n",
              "      <th>1</th>\n",
              "      <td>2019</td>\n",
              "      <td>1</td>\n",
              "      <td>GCC</td>\n",
              "      <td>Bahrain</td>\n",
              "      <td>Saudi</td>\n",
              "      <td>tourist trip</td>\n",
              "      <td>Hotel/ Resorts</td>\n",
              "      <td>leisure</td>\n",
              "      <td>Married</td>\n",
              "      <td>from_0_to_15_sum</td>\n",
              "      <td>male_tot_sum</td>\n",
              "      <td>28732.501897</td>\n",
              "      <td>68275.252032</td>\n",
              "      <td>3.768259e+07</td>\n",
              "    </tr>\n",
              "    <tr>\n",
              "      <th>2</th>\n",
              "      <td>2019</td>\n",
              "      <td>1</td>\n",
              "      <td>GCC</td>\n",
              "      <td>Bahrain</td>\n",
              "      <td>Saudi</td>\n",
              "      <td>tourist trip</td>\n",
              "      <td>Furnished Apartment</td>\n",
              "      <td>leisure</td>\n",
              "      <td>Married</td>\n",
              "      <td>from_0_to_15_sum</td>\n",
              "      <td>male_tot_sum</td>\n",
              "      <td>7007.155960</td>\n",
              "      <td>12893.166967</td>\n",
              "      <td>1.050767e+07</td>\n",
              "    </tr>\n",
              "    <tr>\n",
              "      <th>3</th>\n",
              "      <td>2019</td>\n",
              "      <td>1</td>\n",
              "      <td>GCC</td>\n",
              "      <td>Bahrain</td>\n",
              "      <td>Saudi</td>\n",
              "      <td>tourist trip</td>\n",
              "      <td>With Friends/ Relatives</td>\n",
              "      <td>VFR</td>\n",
              "      <td>Married</td>\n",
              "      <td>from_0_to_15_sum</td>\n",
              "      <td>male_tot_sum</td>\n",
              "      <td>1705.303317</td>\n",
              "      <td>7844.395256</td>\n",
              "      <td>1.991794e+06</td>\n",
              "    </tr>\n",
              "    <tr>\n",
              "      <th>4</th>\n",
              "      <td>2019</td>\n",
              "      <td>1</td>\n",
              "      <td>GCC</td>\n",
              "      <td>Bahrain</td>\n",
              "      <td>Non-Saudi</td>\n",
              "      <td>Day trip</td>\n",
              "      <td>NaN</td>\n",
              "      <td>VFR</td>\n",
              "      <td>Married</td>\n",
              "      <td>from_0_to_15_sum</td>\n",
              "      <td>male_tot_sum</td>\n",
              "      <td>7438.500000</td>\n",
              "      <td>0.000000</td>\n",
              "      <td>4.399139e+06</td>\n",
              "    </tr>\n",
              "  </tbody>\n",
              "</table>\n",
              "</div>"
            ],
            "text/plain": [
              "   Year  Q_479N  GRP  ...    Total Trips  Total Nights   Total Spend\n",
              "0  2019       1  GCC  ...  110547.467161      0.000000  6.672475e+07\n",
              "1  2019       1  GCC  ...   28732.501897  68275.252032  3.768259e+07\n",
              "2  2019       1  GCC  ...    7007.155960  12893.166967  1.050767e+07\n",
              "3  2019       1  GCC  ...    1705.303317   7844.395256  1.991794e+06\n",
              "4  2019       1  GCC  ...    7438.500000      0.000000  4.399139e+06\n",
              "\n",
              "[5 rows x 14 columns]"
            ]
          },
          "metadata": {
            "tags": []
          },
          "execution_count": 213
        }
      ]
    },
    {
      "cell_type": "markdown",
      "metadata": {
        "id": "K95BNg1c0FdU"
      },
      "source": [
        ""
      ]
    },
    {
      "cell_type": "code",
      "metadata": {
        "id": "gFTkthTURwBU"
      },
      "source": [
        "data2.to_excel('out_2018_2019.xlsx')"
      ],
      "execution_count": null,
      "outputs": []
    },
    {
      "cell_type": "code",
      "metadata": {
        "id": "yuwKoL7jOOFK"
      },
      "source": [
        "#data = pd.read_spss('/content/drive/My Drive/IVS_alltrips_2018_warehouse.sav')"
      ],
      "execution_count": null,
      "outputs": []
    },
    {
      "cell_type": "code",
      "metadata": {
        "id": "kwEu5_Klexj1"
      },
      "source": [
        "#data.head()"
      ],
      "execution_count": null,
      "outputs": []
    },
    {
      "cell_type": "code",
      "metadata": {
        "id": "qiL2GJUuide2"
      },
      "source": [
        "#data1=pd.get_dummies(data , columns=['Q_74','Q_75', 'AGE_NEW' , 'EDU_NEW' ])"
      ],
      "execution_count": null,
      "outputs": []
    },
    {
      "cell_type": "code",
      "metadata": {
        "id": "0FyBg2tijAtW"
      },
      "source": [
        "#for i in col : \n",
        " # data1[i] = data1[i]*data1['new_wt']"
      ],
      "execution_count": null,
      "outputs": []
    },
    {
      "cell_type": "code",
      "metadata": {
        "id": "jvf11gdUnHPh"
      },
      "source": [
        "#col1 = [\"return_visit_Don't Know / Can't Say\",\n",
        "     #  'return_visit_Likely to visit in the next 1 to 3 months',\n",
        "      # 'return_visit_Likely to visit in the next 1 year',\n",
        "      # 'return_visit_Likely to visit in the next 3 to 5 years',\n",
        "      # 'return_visit_Likely to visit in the next 6 months', 'return_visit_Not likely at all',\n",
        "      # 'satisfied_Extremely dissatisfied', 'satisfied_Extremely satisfied',\n",
        "      # 'satisfied_Niether satisfied nor dissatisfied', 'satisfied_Somewhat dissatisfied',\n",
        "      # 'satisfied_Somewhat satisfied', 'AGE_NEW_18-21', 'AGE_NEW_30-34',\n",
        "      # 'AGE_NEW_40-44', 'AGE_NEW_45-55', 'AGE_NEW_55+',\n",
        "      # 'EDU_NEW_Post Graduate', 'EDU_NEW_University',\n",
        "      # 'EDU_NEW_Upto High School']\n",
        "\n"
      ],
      "execution_count": null,
      "outputs": []
    },
    {
      "cell_type": "code",
      "metadata": {
        "id": "bEQA-jKpndUu"
      },
      "source": [
        "# using naive method \n",
        "# to convert lists to dictionary \n",
        "#res = {} \n",
        "#for key in col: \n",
        "#    for value in col1: \n",
        "#        res[key] = value \n",
        "#        col1.remove(value) \n",
        "#        break  \n",
        "  "
      ],
      "execution_count": null,
      "outputs": []
    },
    {
      "cell_type": "code",
      "metadata": {
        "id": "gGWSPgpNnQ2G"
      },
      "source": [
        "#data1.rename(columns=res , inplace=True)"
      ],
      "execution_count": null,
      "outputs": []
    },
    {
      "cell_type": "code",
      "metadata": {
        "id": "tSQi8PHYvTW6"
      },
      "source": [
        "#df = data[data.Q_13_O1 == 'Bahrain']"
      ],
      "execution_count": null,
      "outputs": []
    },
    {
      "cell_type": "code",
      "metadata": {
        "id": "mrX-4g2x1klT"
      },
      "source": [
        "#df.head()"
      ],
      "execution_count": null,
      "outputs": []
    },
    {
      "cell_type": "code",
      "metadata": {
        "id": "W8zDUEvXKQCY"
      },
      "source": [
        "#df.shape"
      ],
      "execution_count": null,
      "outputs": []
    },
    {
      "cell_type": "code",
      "metadata": {
        "id": "65SOUXPChZtP"
      },
      "source": [
        "#df = df.drop(columns=['male_tot' , 'female_tot' , 'from_0_15_pct_new',\t'from_16_25_pct_new',\t'from_26_45_pct_new',\t'from_46_60_pct_new',\t'from_60_pct_new']).groupby(['Trip_Type' , 'Q_20' , 'Q_24N' , 'Q_42' , 'Q_39N' ,'Q_89N1' , 'Q_86' , 'Q_75' , 'AGE_NEW' , 'EDU_NEW'] ).sum().reset_index()"
      ],
      "execution_count": null,
      "outputs": []
    },
    {
      "cell_type": "code",
      "metadata": {
        "id": "xjMAWjqSL5PR"
      },
      "source": [
        "#df.to_excel('bahrain.xlsx')"
      ],
      "execution_count": null,
      "outputs": []
    },
    {
      "cell_type": "code",
      "metadata": {
        "id": "tr7npSskL5SW"
      },
      "source": [
        "#df"
      ],
      "execution_count": null,
      "outputs": []
    },
    {
      "cell_type": "code",
      "metadata": {
        "id": "SwrI0qVrhmSt"
      },
      "source": [
        "#df = df[df.new_wt.notnull()]"
      ],
      "execution_count": null,
      "outputs": []
    },
    {
      "cell_type": "code",
      "metadata": {
        "id": "ZrfXmbv3Ks87"
      },
      "source": [
        ""
      ],
      "execution_count": null,
      "outputs": []
    },
    {
      "cell_type": "code",
      "metadata": {
        "id": "S7XUu6mDKexG"
      },
      "source": [
        "#df"
      ],
      "execution_count": null,
      "outputs": []
    },
    {
      "cell_type": "code",
      "metadata": {
        "id": "zGqApUu18Huz"
      },
      "source": [
        "#df.head()"
      ],
      "execution_count": null,
      "outputs": []
    },
    {
      "cell_type": "code",
      "metadata": {
        "id": "VtjsPkDEyG16"
      },
      "source": [
        "#df.index"
      ],
      "execution_count": null,
      "outputs": []
    },
    {
      "cell_type": "code",
      "metadata": {
        "id": "4H9TugAx95G_"
      },
      "source": [
        ""
      ],
      "execution_count": null,
      "outputs": []
    },
    {
      "cell_type": "code",
      "metadata": {
        "id": "R6MJjjwcz3fz"
      },
      "source": [
        "#df1['variable'].value_counts()"
      ],
      "execution_count": null,
      "outputs": []
    },
    {
      "cell_type": "code",
      "metadata": {
        "id": "BTWbN9vO0AZB"
      },
      "source": [
        "#df"
      ],
      "execution_count": null,
      "outputs": []
    },
    {
      "cell_type": "code",
      "metadata": {
        "id": "CrBpTF28cNGj"
      },
      "source": [
        "#df.to_csv('data.csv')"
      ],
      "execution_count": null,
      "outputs": []
    },
    {
      "cell_type": "code",
      "metadata": {
        "id": "-VmIMfjicNJK"
      },
      "source": [
        "#data.melt( id_vars=['Trip_Type', 'Q_20', 'Q_24N', 'Q_42','new_wt' ,'night_wt', 'accom_spend_ind', 'food_spend_ind',\n",
        "#       'trans_spend_ind', 'enter_spend_ind', 'shop_spend_ind', 'med_spend_ind',\n",
        "#       'edu_spend_ind', 'other_spend_ind' ] ,value_vars = [ 'from_0_15_pct_new',\t'from_16_25_pct_new',\t'from_26_45_pct_new',\t'from_46_60_pct_new',\t'from_60_pct_new'] ,\n",
        "#        value_name = 'age_groups' , var_name = 'age' )"
      ],
      "execution_count": null,
      "outputs": []
    },
    {
      "cell_type": "code",
      "metadata": {
        "id": "8sRgfjZdcNLy"
      },
      "source": [
        ""
      ],
      "execution_count": null,
      "outputs": []
    }
  ]
}
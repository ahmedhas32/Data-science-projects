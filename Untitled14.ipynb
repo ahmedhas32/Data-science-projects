{
  "nbformat": 4,
  "nbformat_minor": 0,
  "metadata": {
    "colab": {
      "name": "Untitled14.ipynb",
      "provenance": [],
      "collapsed_sections": [],
      "authorship_tag": "ABX9TyN+rxhsTIThZF15ONPSeZXg",
      "include_colab_link": true
    },
    "kernelspec": {
      "name": "python3",
      "display_name": "Python 3"
    }
  },
  "cells": [
    {
      "cell_type": "markdown",
      "metadata": {
        "id": "view-in-github",
        "colab_type": "text"
      },
      "source": [
        "<a href=\"https://colab.research.google.com/github/ahmedhas32/Data-science-projects/blob/master/Untitled14.ipynb\" target=\"_parent\"><img src=\"https://colab.research.google.com/assets/colab-badge.svg\" alt=\"Open In Colab\"/></a>"
      ]
    },
    {
      "cell_type": "code",
      "metadata": {
        "id": "5vbasgQTi_jz",
        "colab_type": "code",
        "colab": {}
      },
      "source": [
        "import xgboost\n",
        "import csv as csv\n",
        "from xgboost import plot_importance\n",
        "from matplotlib import pyplot\n",
        "from sklearn.model_selection import cross_val_score,KFold\n",
        "from sklearn.metrics import mean_absolute_error\n",
        "import matplotlib.pyplot as plt\n",
        "from scipy.stats import skew\n",
        "from collections import OrderedDict\n",
        "from sklearn import preprocessing\n"
      ],
      "execution_count": 0,
      "outputs": []
    },
    {
      "cell_type": "code",
      "metadata": {
        "id": "g_Ydxvuz-oq2",
        "colab_type": "code",
        "colab": {}
      },
      "source": [
        "import numpy as np\n",
        "import pandas as pd\n",
        "import matplotlib.pyplot as plt\n",
        "import seaborn as sns\n",
        "import warnings\n",
        "warnings.filterwarnings(\"ignore\")"
      ],
      "execution_count": 0,
      "outputs": []
    },
    {
      "cell_type": "code",
      "metadata": {
        "id": "OaL7xM_V9zyW",
        "colab_type": "code",
        "colab": {}
      },
      "source": [
        "from sklearn.preprocessing import LabelEncoder"
      ],
      "execution_count": 0,
      "outputs": []
    },
    {
      "cell_type": "code",
      "metadata": {
        "id": "P7f7Xg5dO0WO",
        "colab_type": "code",
        "outputId": "3fc260a4-a46f-42de-a468-abe90a626c20",
        "colab": {
          "base_uri": "https://localhost:8080/",
          "height": 81
        }
      },
      "source": [
        "import keras\n",
        "from keras.wrappers.scikit_learn import KerasRegressor\n",
        "from keras.models import Sequential\n",
        "from keras.layers import Dense , Dropout\n",
        "from keras.wrappers.scikit_learn import KerasClassifier\n",
        "from keras.utils import np_utils\n",
        "from sklearn.model_selection import cross_val_score\n",
        "from sklearn.model_selection import KFold\n",
        "from sklearn.preprocessing import LabelEncoder\n",
        "from sklearn.pipeline import Pipeline\n"
      ],
      "execution_count": 4,
      "outputs": [
        {
          "output_type": "stream",
          "text": [
            "Using TensorFlow backend.\n"
          ],
          "name": "stderr"
        },
        {
          "output_type": "display_data",
          "data": {
            "text/html": [
              "<p style=\"color: red;\">\n",
              "The default version of TensorFlow in Colab will soon switch to TensorFlow 2.x.<br>\n",
              "We recommend you <a href=\"https://www.tensorflow.org/guide/migrate\" target=\"_blank\">upgrade</a> now \n",
              "or ensure your notebook will continue to use TensorFlow 1.x via the <code>%tensorflow_version 1.x</code> magic:\n",
              "<a href=\"https://colab.research.google.com/notebooks/tensorflow_version.ipynb\" target=\"_blank\">more info</a>.</p>\n"
            ],
            "text/plain": [
              "<IPython.core.display.HTML object>"
            ]
          },
          "metadata": {
            "tags": []
          }
        }
      ]
    },
    {
      "cell_type": "code",
      "metadata": {
        "id": "IWoG57qA92sQ",
        "colab_type": "code",
        "colab": {}
      },
      "source": [
        "from sklearn.model_selection import GridSearchCV, train_test_split\n",
        "from xgboost import XGBRegressor\n",
        "\n",
        "from sklearn.metrics import r2_score\n",
        "from sklearn.metrics import mean_squared_error"
      ],
      "execution_count": 0,
      "outputs": []
    },
    {
      "cell_type": "code",
      "metadata": {
        "id": "UqeD0EUZkQ5k",
        "colab_type": "code",
        "colab": {}
      },
      "source": [
        "import tensorflow.keras.layers as Layers\n",
        "import tensorflow.keras.activations as Actications\n",
        "import tensorflow.keras.models as Models\n",
        "import tensorflow.keras.optimizers as Optimizer\n",
        "import tensorflow.keras.metrics as Metrics\n",
        "import tensorflow.keras.utils as Utils\n",
        "from keras.utils.vis_utils import model_to_dot"
      ],
      "execution_count": 0,
      "outputs": []
    },
    {
      "cell_type": "code",
      "metadata": {
        "id": "AMVrLoaDkmQs",
        "colab_type": "code",
        "outputId": "c769955d-bacd-4069-bfc7-b5b8fba0fc26",
        "colab": {
          "base_uri": "https://localhost:8080/",
          "height": 34
        }
      },
      "source": [
        "from google.colab import drive\n",
        "drive.mount('/content/drive')"
      ],
      "execution_count": 7,
      "outputs": [
        {
          "output_type": "stream",
          "text": [
            "Drive already mounted at /content/drive; to attempt to forcibly remount, call drive.mount(\"/content/drive\", force_remount=True).\n"
          ],
          "name": "stdout"
        }
      ]
    },
    {
      "cell_type": "code",
      "metadata": {
        "id": "gbM-x_Y1lH2V",
        "colab_type": "code",
        "colab": {}
      },
      "source": [
        "train_data=pd.read_csv('/content/drive/My Drive/3c055e822d5b11ea/train.csv')"
      ],
      "execution_count": 0,
      "outputs": []
    },
    {
      "cell_type": "code",
      "metadata": {
        "id": "6xcrYI_kmpd2",
        "colab_type": "code",
        "colab": {}
      },
      "source": [
        "test_data=pd.read_csv('/content/drive/My Drive/3c055e822d5b11ea/test.csv')"
      ],
      "execution_count": 0,
      "outputs": []
    },
    {
      "cell_type": "code",
      "metadata": {
        "id": "uS5eSufcm1cj",
        "colab_type": "code",
        "outputId": "2520afc1-98c8-480c-e096-e5b7312e2919",
        "colab": {
          "base_uri": "https://localhost:8080/",
          "height": 312
        }
      },
      "source": [
        "train_data.info()"
      ],
      "execution_count": 10,
      "outputs": [
        {
          "output_type": "stream",
          "text": [
            "<class 'pandas.core.frame.DataFrame'>\n",
            "RangeIndex: 10000 entries, 0 to 9999\n",
            "Data columns (total 12 columns):\n",
            "Severity                   10000 non-null object\n",
            "Safety_Score               10000 non-null float64\n",
            "Days_Since_Inspection      10000 non-null int64\n",
            "Total_Safety_Complaints    10000 non-null int64\n",
            "Control_Metric             10000 non-null float64\n",
            "Turbulence_In_gforces      10000 non-null float64\n",
            "Cabin_Temperature          10000 non-null float64\n",
            "Accident_Type_Code         10000 non-null int64\n",
            "Max_Elevation              10000 non-null float64\n",
            "Violations                 10000 non-null int64\n",
            "Adverse_Weather_Metric     10000 non-null float64\n",
            "Accident_ID                10000 non-null int64\n",
            "dtypes: float64(6), int64(5), object(1)\n",
            "memory usage: 937.6+ KB\n"
          ],
          "name": "stdout"
        }
      ]
    },
    {
      "cell_type": "code",
      "metadata": {
        "id": "N7IqVTXem5FE",
        "colab_type": "code",
        "outputId": "0dc204b1-331f-4ced-e11c-8850af67cf1e",
        "colab": {
          "base_uri": "https://localhost:8080/",
          "height": 222
        }
      },
      "source": [
        "train_data.head()"
      ],
      "execution_count": 11,
      "outputs": [
        {
          "output_type": "execute_result",
          "data": {
            "text/html": [
              "<div>\n",
              "<style scoped>\n",
              "    .dataframe tbody tr th:only-of-type {\n",
              "        vertical-align: middle;\n",
              "    }\n",
              "\n",
              "    .dataframe tbody tr th {\n",
              "        vertical-align: top;\n",
              "    }\n",
              "\n",
              "    .dataframe thead th {\n",
              "        text-align: right;\n",
              "    }\n",
              "</style>\n",
              "<table border=\"1\" class=\"dataframe\">\n",
              "  <thead>\n",
              "    <tr style=\"text-align: right;\">\n",
              "      <th></th>\n",
              "      <th>Severity</th>\n",
              "      <th>Safety_Score</th>\n",
              "      <th>Days_Since_Inspection</th>\n",
              "      <th>Total_Safety_Complaints</th>\n",
              "      <th>Control_Metric</th>\n",
              "      <th>Turbulence_In_gforces</th>\n",
              "      <th>Cabin_Temperature</th>\n",
              "      <th>Accident_Type_Code</th>\n",
              "      <th>Max_Elevation</th>\n",
              "      <th>Violations</th>\n",
              "      <th>Adverse_Weather_Metric</th>\n",
              "      <th>Accident_ID</th>\n",
              "    </tr>\n",
              "  </thead>\n",
              "  <tbody>\n",
              "    <tr>\n",
              "      <th>0</th>\n",
              "      <td>Minor_Damage_And_Injuries</td>\n",
              "      <td>49.223744</td>\n",
              "      <td>14</td>\n",
              "      <td>22</td>\n",
              "      <td>71.285324</td>\n",
              "      <td>0.272118</td>\n",
              "      <td>78.04</td>\n",
              "      <td>2</td>\n",
              "      <td>31335.476824</td>\n",
              "      <td>3</td>\n",
              "      <td>0.424352</td>\n",
              "      <td>7570</td>\n",
              "    </tr>\n",
              "    <tr>\n",
              "      <th>1</th>\n",
              "      <td>Minor_Damage_And_Injuries</td>\n",
              "      <td>62.465753</td>\n",
              "      <td>10</td>\n",
              "      <td>27</td>\n",
              "      <td>72.288058</td>\n",
              "      <td>0.423939</td>\n",
              "      <td>84.54</td>\n",
              "      <td>2</td>\n",
              "      <td>26024.711057</td>\n",
              "      <td>2</td>\n",
              "      <td>0.352350</td>\n",
              "      <td>12128</td>\n",
              "    </tr>\n",
              "    <tr>\n",
              "      <th>2</th>\n",
              "      <td>Significant_Damage_And_Fatalities</td>\n",
              "      <td>63.059361</td>\n",
              "      <td>13</td>\n",
              "      <td>16</td>\n",
              "      <td>66.362808</td>\n",
              "      <td>0.322604</td>\n",
              "      <td>78.86</td>\n",
              "      <td>7</td>\n",
              "      <td>39269.053927</td>\n",
              "      <td>3</td>\n",
              "      <td>0.003364</td>\n",
              "      <td>2181</td>\n",
              "    </tr>\n",
              "    <tr>\n",
              "      <th>3</th>\n",
              "      <td>Significant_Damage_And_Serious_Injuries</td>\n",
              "      <td>48.082192</td>\n",
              "      <td>11</td>\n",
              "      <td>9</td>\n",
              "      <td>74.703737</td>\n",
              "      <td>0.337029</td>\n",
              "      <td>81.79</td>\n",
              "      <td>3</td>\n",
              "      <td>42771.499200</td>\n",
              "      <td>1</td>\n",
              "      <td>0.211728</td>\n",
              "      <td>5946</td>\n",
              "    </tr>\n",
              "    <tr>\n",
              "      <th>4</th>\n",
              "      <td>Significant_Damage_And_Fatalities</td>\n",
              "      <td>26.484018</td>\n",
              "      <td>13</td>\n",
              "      <td>25</td>\n",
              "      <td>47.948952</td>\n",
              "      <td>0.541140</td>\n",
              "      <td>77.16</td>\n",
              "      <td>3</td>\n",
              "      <td>35509.228515</td>\n",
              "      <td>2</td>\n",
              "      <td>0.176883</td>\n",
              "      <td>9054</td>\n",
              "    </tr>\n",
              "  </tbody>\n",
              "</table>\n",
              "</div>"
            ],
            "text/plain": [
              "                                  Severity  ...  Accident_ID\n",
              "0                Minor_Damage_And_Injuries  ...         7570\n",
              "1                Minor_Damage_And_Injuries  ...        12128\n",
              "2        Significant_Damage_And_Fatalities  ...         2181\n",
              "3  Significant_Damage_And_Serious_Injuries  ...         5946\n",
              "4        Significant_Damage_And_Fatalities  ...         9054\n",
              "\n",
              "[5 rows x 12 columns]"
            ]
          },
          "metadata": {
            "tags": []
          },
          "execution_count": 11
        }
      ]
    },
    {
      "cell_type": "code",
      "metadata": {
        "id": "HM5xQnyAnS4E",
        "colab_type": "code",
        "outputId": "be72425d-9f0d-473c-8b56-9cb8e6375d16",
        "colab": {
          "base_uri": "https://localhost:8080/",
          "height": 386
        }
      },
      "source": [
        "train_data.describe().T"
      ],
      "execution_count": 12,
      "outputs": [
        {
          "output_type": "execute_result",
          "data": {
            "text/html": [
              "<div>\n",
              "<style scoped>\n",
              "    .dataframe tbody tr th:only-of-type {\n",
              "        vertical-align: middle;\n",
              "    }\n",
              "\n",
              "    .dataframe tbody tr th {\n",
              "        vertical-align: top;\n",
              "    }\n",
              "\n",
              "    .dataframe thead th {\n",
              "        text-align: right;\n",
              "    }\n",
              "</style>\n",
              "<table border=\"1\" class=\"dataframe\">\n",
              "  <thead>\n",
              "    <tr style=\"text-align: right;\">\n",
              "      <th></th>\n",
              "      <th>count</th>\n",
              "      <th>mean</th>\n",
              "      <th>std</th>\n",
              "      <th>min</th>\n",
              "      <th>25%</th>\n",
              "      <th>50%</th>\n",
              "      <th>75%</th>\n",
              "      <th>max</th>\n",
              "    </tr>\n",
              "  </thead>\n",
              "  <tbody>\n",
              "    <tr>\n",
              "      <th>Safety_Score</th>\n",
              "      <td>10000.0</td>\n",
              "      <td>41.876406</td>\n",
              "      <td>16.138072</td>\n",
              "      <td>0.000000</td>\n",
              "      <td>30.593607</td>\n",
              "      <td>41.278539</td>\n",
              "      <td>52.511416</td>\n",
              "      <td>100.000000</td>\n",
              "    </tr>\n",
              "    <tr>\n",
              "      <th>Days_Since_Inspection</th>\n",
              "      <td>10000.0</td>\n",
              "      <td>12.931100</td>\n",
              "      <td>3.539803</td>\n",
              "      <td>1.000000</td>\n",
              "      <td>11.000000</td>\n",
              "      <td>13.000000</td>\n",
              "      <td>15.000000</td>\n",
              "      <td>23.000000</td>\n",
              "    </tr>\n",
              "    <tr>\n",
              "      <th>Total_Safety_Complaints</th>\n",
              "      <td>10000.0</td>\n",
              "      <td>6.564300</td>\n",
              "      <td>6.971982</td>\n",
              "      <td>0.000000</td>\n",
              "      <td>2.000000</td>\n",
              "      <td>4.000000</td>\n",
              "      <td>9.000000</td>\n",
              "      <td>54.000000</td>\n",
              "    </tr>\n",
              "    <tr>\n",
              "      <th>Control_Metric</th>\n",
              "      <td>10000.0</td>\n",
              "      <td>65.145324</td>\n",
              "      <td>11.882934</td>\n",
              "      <td>0.000000</td>\n",
              "      <td>56.927985</td>\n",
              "      <td>65.587967</td>\n",
              "      <td>73.336372</td>\n",
              "      <td>100.000000</td>\n",
              "    </tr>\n",
              "    <tr>\n",
              "      <th>Turbulence_In_gforces</th>\n",
              "      <td>10000.0</td>\n",
              "      <td>0.381495</td>\n",
              "      <td>0.121301</td>\n",
              "      <td>0.134000</td>\n",
              "      <td>0.293665</td>\n",
              "      <td>0.365879</td>\n",
              "      <td>0.451346</td>\n",
              "      <td>0.882648</td>\n",
              "    </tr>\n",
              "    <tr>\n",
              "      <th>Cabin_Temperature</th>\n",
              "      <td>10000.0</td>\n",
              "      <td>79.969331</td>\n",
              "      <td>2.759739</td>\n",
              "      <td>74.740000</td>\n",
              "      <td>77.960000</td>\n",
              "      <td>79.540000</td>\n",
              "      <td>81.560000</td>\n",
              "      <td>97.510000</td>\n",
              "    </tr>\n",
              "    <tr>\n",
              "      <th>Accident_Type_Code</th>\n",
              "      <td>10000.0</td>\n",
              "      <td>3.814900</td>\n",
              "      <td>1.902577</td>\n",
              "      <td>1.000000</td>\n",
              "      <td>2.000000</td>\n",
              "      <td>4.000000</td>\n",
              "      <td>5.000000</td>\n",
              "      <td>7.000000</td>\n",
              "    </tr>\n",
              "    <tr>\n",
              "      <th>Max_Elevation</th>\n",
              "      <td>10000.0</td>\n",
              "      <td>32001.803282</td>\n",
              "      <td>9431.995196</td>\n",
              "      <td>831.695553</td>\n",
              "      <td>25757.636908</td>\n",
              "      <td>32060.336419</td>\n",
              "      <td>38380.641513</td>\n",
              "      <td>64297.651218</td>\n",
              "    </tr>\n",
              "    <tr>\n",
              "      <th>Violations</th>\n",
              "      <td>10000.0</td>\n",
              "      <td>2.012200</td>\n",
              "      <td>1.039980</td>\n",
              "      <td>0.000000</td>\n",
              "      <td>1.000000</td>\n",
              "      <td>2.000000</td>\n",
              "      <td>3.000000</td>\n",
              "      <td>5.000000</td>\n",
              "    </tr>\n",
              "    <tr>\n",
              "      <th>Adverse_Weather_Metric</th>\n",
              "      <td>10000.0</td>\n",
              "      <td>0.255635</td>\n",
              "      <td>0.381128</td>\n",
              "      <td>0.000316</td>\n",
              "      <td>0.012063</td>\n",
              "      <td>0.074467</td>\n",
              "      <td>0.354059</td>\n",
              "      <td>2.365378</td>\n",
              "    </tr>\n",
              "    <tr>\n",
              "      <th>Accident_ID</th>\n",
              "      <td>10000.0</td>\n",
              "      <td>6266.554200</td>\n",
              "      <td>3610.170288</td>\n",
              "      <td>2.000000</td>\n",
              "      <td>3139.750000</td>\n",
              "      <td>6280.500000</td>\n",
              "      <td>9391.500000</td>\n",
              "      <td>12500.000000</td>\n",
              "    </tr>\n",
              "  </tbody>\n",
              "</table>\n",
              "</div>"
            ],
            "text/plain": [
              "                           count          mean  ...           75%           max\n",
              "Safety_Score             10000.0     41.876406  ...     52.511416    100.000000\n",
              "Days_Since_Inspection    10000.0     12.931100  ...     15.000000     23.000000\n",
              "Total_Safety_Complaints  10000.0      6.564300  ...      9.000000     54.000000\n",
              "Control_Metric           10000.0     65.145324  ...     73.336372    100.000000\n",
              "Turbulence_In_gforces    10000.0      0.381495  ...      0.451346      0.882648\n",
              "Cabin_Temperature        10000.0     79.969331  ...     81.560000     97.510000\n",
              "Accident_Type_Code       10000.0      3.814900  ...      5.000000      7.000000\n",
              "Max_Elevation            10000.0  32001.803282  ...  38380.641513  64297.651218\n",
              "Violations               10000.0      2.012200  ...      3.000000      5.000000\n",
              "Adverse_Weather_Metric   10000.0      0.255635  ...      0.354059      2.365378\n",
              "Accident_ID              10000.0   6266.554200  ...   9391.500000  12500.000000\n",
              "\n",
              "[11 rows x 8 columns]"
            ]
          },
          "metadata": {
            "tags": []
          },
          "execution_count": 12
        }
      ]
    },
    {
      "cell_type": "code",
      "metadata": {
        "id": "86uBZKs8ndxs",
        "colab_type": "code",
        "outputId": "3ea427da-f6ac-4ab5-9b8b-8c30ded18687",
        "colab": {
          "base_uri": "https://localhost:8080/",
          "height": 80
        }
      },
      "source": [
        "train_data.describe(include=['object']).T"
      ],
      "execution_count": 13,
      "outputs": [
        {
          "output_type": "execute_result",
          "data": {
            "text/html": [
              "<div>\n",
              "<style scoped>\n",
              "    .dataframe tbody tr th:only-of-type {\n",
              "        vertical-align: middle;\n",
              "    }\n",
              "\n",
              "    .dataframe tbody tr th {\n",
              "        vertical-align: top;\n",
              "    }\n",
              "\n",
              "    .dataframe thead th {\n",
              "        text-align: right;\n",
              "    }\n",
              "</style>\n",
              "<table border=\"1\" class=\"dataframe\">\n",
              "  <thead>\n",
              "    <tr style=\"text-align: right;\">\n",
              "      <th></th>\n",
              "      <th>count</th>\n",
              "      <th>unique</th>\n",
              "      <th>top</th>\n",
              "      <th>freq</th>\n",
              "    </tr>\n",
              "  </thead>\n",
              "  <tbody>\n",
              "    <tr>\n",
              "      <th>Severity</th>\n",
              "      <td>10000</td>\n",
              "      <td>4</td>\n",
              "      <td>Highly_Fatal_And_Damaging</td>\n",
              "      <td>3049</td>\n",
              "    </tr>\n",
              "  </tbody>\n",
              "</table>\n",
              "</div>"
            ],
            "text/plain": [
              "          count unique                        top  freq\n",
              "Severity  10000      4  Highly_Fatal_And_Damaging  3049"
            ]
          },
          "metadata": {
            "tags": []
          },
          "execution_count": 13
        }
      ]
    },
    {
      "cell_type": "code",
      "metadata": {
        "id": "WmugQKs-LWHF",
        "colab_type": "code",
        "outputId": "0c5e6423-6876-41cc-8c36-2bab1c39f392",
        "colab": {
          "base_uri": "https://localhost:8080/",
          "height": 481
        }
      },
      "source": [
        "train_data['Severity'].value_counts(normalize=True).plot(kind='bar')"
      ],
      "execution_count": 14,
      "outputs": [
        {
          "output_type": "execute_result",
          "data": {
            "text/plain": [
              "<matplotlib.axes._subplots.AxesSubplot at 0x7f84b254f710>"
            ]
          },
          "metadata": {
            "tags": []
          },
          "execution_count": 14
        },
        {
          "output_type": "display_data",
          "data": {
            "image/png": "[encoded data removed]",
            "text/plain": [
              "<Figure size 432x288 with 1 Axes>"
            ]
          },
          "metadata": {
            "tags": []
          }
        }
      ]
    },
    {
      "cell_type": "code",
      "metadata": {
        "id": "6xEZ3nvawxbY",
        "colab_type": "code",
        "outputId": "72070d95-a0f5-482a-93ea-0c835dd4fc34",
        "colab": {
          "base_uri": "https://localhost:8080/",
          "height": 1000
        }
      },
      "source": [
        "for i in train_data.columns :\n",
        "  if train_data.dtypes[i] != 'object' :\n",
        "    sns.distplot(train_data[i])\n",
        "    plt.show()\n",
        "  else : \n",
        "    continue"
      ],
      "execution_count": 15,
      "outputs": [
        {
          "output_type": "display_data",
          "data": {
            "image/png": "[encoded data removed]",
            "text/plain": [
              "<Figure size 432x288 with 1 Axes>"
            ]
          },
          "metadata": {
            "tags": []
          }
        },
        {
          "output_type": "display_data",
          "data": {
            "image/png": "[encoded data removed]",
            "text/plain": [
              "<Figure size 432x288 with 1 Axes>"
            ]
          },
          "metadata": {
            "tags": []
          }
        },
        {
          "output_type": "display_data",
          "data": {
            "image/png": "[encoded data removed]",
            "text/plain": [
              "<Figure size 432x288 with 1 Axes>"
            ]
          },
          "metadata": {
            "tags": []
          }
        },
        {
          "output_type": "display_data",
          "data": {
            "image/png": "[encoded data removed]",
            "text/plain": [
              "<Figure size 432x288 with 1 Axes>"
            ]
          },
          "metadata": {
            "tags": []
          }
        },
        {
          "output_type": "display_data",
          "data": {
            "image/png": "[encoded data removed]",
            "text/plain": [
              "<Figure size 432x288 with 1 Axes>"
            ]
          },
          "metadata": {
            "tags": []
          }
        },
        {
          "output_type": "display_data",
          "data": {
            "image/png": "[encoded data removed]",
            "text/plain": [
              "<Figure size 432x288 with 1 Axes>"
            ]
          },
          "metadata": {
            "tags": []
          }
        },
        {
          "output_type": "display_data",
          "data": {
            "image/png": "[encoded data removed]",
            "text/plain": [
              "<Figure size 432x288 with 1 Axes>"
            ]
          },
          "metadata": {
            "tags": []
          }
        },
        {
          "output_type": "display_data",
          "data": {
            "image/png": "[encoded data removed]",
            "text/plain": [
              "<Figure size 432x288 with 1 Axes>"
            ]
          },
          "metadata": {
            "tags": []
          }
        },
        {
          "output_type": "display_data",
          "data": {
            "image/png": "[encoded data removed]",
            "text/plain": [
              "<Figure size 432x288 with 1 Axes>"
            ]
          },
          "metadata": {
            "tags": []
          }
        },
        {
          "output_type": "display_data",
          "data": {
            "image/png": "[encoded data removed]",
            "text/plain": [
              "<Figure size 432x288 with 1 Axes>"
            ]
          },
          "metadata": {
            "tags": []
          }
        },
        {
          "output_type": "display_data",
          "data": {
            "image/png": "[encoded data removed]",
            "text/plain": [
              "<Figure size 432x288 with 1 Axes>"
            ]
          },
          "metadata": {
            "tags": []
          }
        }
      ]
    },
    {
      "cell_type": "code",
      "metadata": {
        "id": "eRXHCL0t7x4c",
        "colab_type": "code",
        "outputId": "f01cb787-543e-48c1-e461-5aeb7c36a69c",
        "colab": {
          "base_uri": "https://localhost:8080/",
          "height": 473
        }
      },
      "source": [
        "(train_data.select_dtypes(exclude ='object').apply(lambda x: (x >  plt.boxplot(x)['whiskers'][1].get_ydata()[1] ) | (x <  plt.boxplot(x)['whiskers'][0].get_ydata()[1] ) )).mean()*100"
      ],
      "execution_count": 16,
      "outputs": [
        {
          "output_type": "execute_result",
          "data": {
            "text/plain": [
              "Safety_Score               0.43\n",
              "Days_Since_Inspection      1.40\n",
              "Total_Safety_Complaints    6.02\n",
              "Control_Metric             0.59\n",
              "Turbulence_In_gforces      2.25\n",
              "Cabin_Temperature          2.34\n",
              "Accident_Type_Code         0.00\n",
              "Max_Elevation              0.83\n",
              "Violations                 0.00\n",
              "Adverse_Weather_Metric     9.31\n",
              "Accident_ID                0.00\n",
              "dtype: float64"
            ]
          },
          "metadata": {
            "tags": []
          },
          "execution_count": 16
        },
        {
          "output_type": "display_data",
          "data": {
            "image/png": "[encoded data removed]",
            "text/plain": [
              "<Figure size 432x288 with 1 Axes>"
            ]
          },
          "metadata": {
            "tags": []
          }
        }
      ]
    },
    {
      "cell_type": "code",
      "metadata": {
        "id": "o-6I_f7HAieN",
        "colab_type": "code",
        "outputId": "f941065b-071e-41fe-baa3-baf941db9f7d",
        "colab": {
          "base_uri": "https://localhost:8080/",
          "height": 265
        }
      },
      "source": [
        "train_data.loc[ : , train_data.select_dtypes(exclude ='object').columns] = train_data.select_dtypes(exclude ='object').apply(lambda x: np.where ( (x >  plt.boxplot(x)['whiskers'][1].get_ydata()[1]) ,  plt.boxplot(x)['whiskers'][1].get_ydata()[1] , x  ))"
      ],
      "execution_count": 17,
      "outputs": [
        {
          "output_type": "display_data",
          "data": {
            "image/png": "[encoded data removed]",
            "text/plain": [
              "<Figure size 432x288 with 1 Axes>"
            ]
          },
          "metadata": {
            "tags": []
          }
        }
      ]
    },
    {
      "cell_type": "code",
      "metadata": {
        "id": "Sou9pdMMJkVe",
        "colab_type": "code",
        "colab": {
          "base_uri": "https://localhost:8080/",
          "height": 473
        },
        "outputId": "85876db9-ccf0-4238-e3c2-2e981d88f642"
      },
      "source": [
        "(train_data.select_dtypes(exclude ='object').apply(lambda x: (x >  plt.boxplot(x)['whiskers'][1].get_ydata()[1] ) | (x <  plt.boxplot(x)['whiskers'][0].get_ydata()[1] ) )).mean()*100"
      ],
      "execution_count": 18,
      "outputs": [
        {
          "output_type": "execute_result",
          "data": {
            "text/plain": [
              "Safety_Score               0.00\n",
              "Days_Since_Inspection      1.00\n",
              "Total_Safety_Complaints    0.00\n",
              "Control_Metric             0.38\n",
              "Turbulence_In_gforces      0.00\n",
              "Cabin_Temperature          0.00\n",
              "Accident_Type_Code         0.00\n",
              "Max_Elevation              0.46\n",
              "Violations                 0.00\n",
              "Adverse_Weather_Metric     0.00\n",
              "Accident_ID                0.00\n",
              "dtype: float64"
            ]
          },
          "metadata": {
            "tags": []
          },
          "execution_count": 18
        },
        {
          "output_type": "display_data",
          "data": {
            "image/png": "[encoded data removed]",
            "text/plain": [
              "<Figure size 432x288 with 1 Axes>"
            ]
          },
          "metadata": {
            "tags": []
          }
        }
      ]
    },
    {
      "cell_type": "code",
      "metadata": {
        "id": "fF2cbdc_KBZM",
        "colab_type": "code",
        "outputId": "262d2d5c-19f6-4fa1-ca18-efc600a7b4bd",
        "colab": {
          "base_uri": "https://localhost:8080/",
          "height": 222
        }
      },
      "source": [
        "train_data.head()"
      ],
      "execution_count": 19,
      "outputs": [
        {
          "output_type": "execute_result",
          "data": {
            "text/html": [
              "<div>\n",
              "<style scoped>\n",
              "    .dataframe tbody tr th:only-of-type {\n",
              "        vertical-align: middle;\n",
              "    }\n",
              "\n",
              "    .dataframe tbody tr th {\n",
              "        vertical-align: top;\n",
              "    }\n",
              "\n",
              "    .dataframe thead th {\n",
              "        text-align: right;\n",
              "    }\n",
              "</style>\n",
              "<table border=\"1\" class=\"dataframe\">\n",
              "  <thead>\n",
              "    <tr style=\"text-align: right;\">\n",
              "      <th></th>\n",
              "      <th>Severity</th>\n",
              "      <th>Safety_Score</th>\n",
              "      <th>Days_Since_Inspection</th>\n",
              "      <th>Total_Safety_Complaints</th>\n",
              "      <th>Control_Metric</th>\n",
              "      <th>Turbulence_In_gforces</th>\n",
              "      <th>Cabin_Temperature</th>\n",
              "      <th>Accident_Type_Code</th>\n",
              "      <th>Max_Elevation</th>\n",
              "      <th>Violations</th>\n",
              "      <th>Adverse_Weather_Metric</th>\n",
              "      <th>Accident_ID</th>\n",
              "    </tr>\n",
              "  </thead>\n",
              "  <tbody>\n",
              "    <tr>\n",
              "      <th>0</th>\n",
              "      <td>Minor_Damage_And_Injuries</td>\n",
              "      <td>49.223744</td>\n",
              "      <td>14.0</td>\n",
              "      <td>19.0</td>\n",
              "      <td>71.285324</td>\n",
              "      <td>0.272118</td>\n",
              "      <td>78.04</td>\n",
              "      <td>2.0</td>\n",
              "      <td>31335.476824</td>\n",
              "      <td>3.0</td>\n",
              "      <td>0.424352</td>\n",
              "      <td>7570.0</td>\n",
              "    </tr>\n",
              "    <tr>\n",
              "      <th>1</th>\n",
              "      <td>Minor_Damage_And_Injuries</td>\n",
              "      <td>62.465753</td>\n",
              "      <td>10.0</td>\n",
              "      <td>19.0</td>\n",
              "      <td>72.288058</td>\n",
              "      <td>0.423939</td>\n",
              "      <td>84.54</td>\n",
              "      <td>2.0</td>\n",
              "      <td>26024.711057</td>\n",
              "      <td>2.0</td>\n",
              "      <td>0.352350</td>\n",
              "      <td>12128.0</td>\n",
              "    </tr>\n",
              "    <tr>\n",
              "      <th>2</th>\n",
              "      <td>Significant_Damage_And_Fatalities</td>\n",
              "      <td>63.059361</td>\n",
              "      <td>13.0</td>\n",
              "      <td>16.0</td>\n",
              "      <td>66.362808</td>\n",
              "      <td>0.322604</td>\n",
              "      <td>78.86</td>\n",
              "      <td>7.0</td>\n",
              "      <td>39269.053927</td>\n",
              "      <td>3.0</td>\n",
              "      <td>0.003364</td>\n",
              "      <td>2181.0</td>\n",
              "    </tr>\n",
              "    <tr>\n",
              "      <th>3</th>\n",
              "      <td>Significant_Damage_And_Serious_Injuries</td>\n",
              "      <td>48.082192</td>\n",
              "      <td>11.0</td>\n",
              "      <td>9.0</td>\n",
              "      <td>74.703737</td>\n",
              "      <td>0.337029</td>\n",
              "      <td>81.79</td>\n",
              "      <td>3.0</td>\n",
              "      <td>42771.499200</td>\n",
              "      <td>1.0</td>\n",
              "      <td>0.211728</td>\n",
              "      <td>5946.0</td>\n",
              "    </tr>\n",
              "    <tr>\n",
              "      <th>4</th>\n",
              "      <td>Significant_Damage_And_Fatalities</td>\n",
              "      <td>26.484018</td>\n",
              "      <td>13.0</td>\n",
              "      <td>19.0</td>\n",
              "      <td>47.948952</td>\n",
              "      <td>0.541140</td>\n",
              "      <td>77.16</td>\n",
              "      <td>3.0</td>\n",
              "      <td>35509.228515</td>\n",
              "      <td>2.0</td>\n",
              "      <td>0.176883</td>\n",
              "      <td>9054.0</td>\n",
              "    </tr>\n",
              "  </tbody>\n",
              "</table>\n",
              "</div>"
            ],
            "text/plain": [
              "                                  Severity  ...  Accident_ID\n",
              "0                Minor_Damage_And_Injuries  ...       7570.0\n",
              "1                Minor_Damage_And_Injuries  ...      12128.0\n",
              "2        Significant_Damage_And_Fatalities  ...       2181.0\n",
              "3  Significant_Damage_And_Serious_Injuries  ...       5946.0\n",
              "4        Significant_Damage_And_Fatalities  ...       9054.0\n",
              "\n",
              "[5 rows x 12 columns]"
            ]
          },
          "metadata": {
            "tags": []
          },
          "execution_count": 19
        }
      ]
    },
    {
      "cell_type": "code",
      "metadata": {
        "id": "tgQCGdzWKMRc",
        "colab_type": "code",
        "colab": {}
      },
      "source": [
        "train_data.index= train_data['Accident_ID']"
      ],
      "execution_count": 0,
      "outputs": []
    },
    {
      "cell_type": "code",
      "metadata": {
        "id": "fkrTLL_WKlpn",
        "colab_type": "code",
        "colab": {}
      },
      "source": [
        "X_train=train_data.drop(columns=['Severity'])"
      ],
      "execution_count": 0,
      "outputs": []
    },
    {
      "cell_type": "code",
      "metadata": {
        "id": "gwexbH25Mtu9",
        "colab_type": "code",
        "outputId": "965cafb7-4b61-49c7-f29e-23d8f5d096c0",
        "colab": {
          "base_uri": "https://localhost:8080/",
          "height": 34
        }
      },
      "source": [
        "len(X_train.columns)"
      ],
      "execution_count": 22,
      "outputs": [
        {
          "output_type": "execute_result",
          "data": {
            "text/plain": [
              "11"
            ]
          },
          "metadata": {
            "tags": []
          },
          "execution_count": 22
        }
      ]
    },
    {
      "cell_type": "code",
      "metadata": {
        "id": "00omZWXzN0E2",
        "colab_type": "code",
        "outputId": "1935867e-5084-4e14-cd63-04d58562c13f",
        "colab": {
          "base_uri": "https://localhost:8080/",
          "height": 34
        }
      },
      "source": [
        "encoder = LabelEncoder()\n",
        "encoder.fit( train_data['Severity'])"
      ],
      "execution_count": 23,
      "outputs": [
        {
          "output_type": "execute_result",
          "data": {
            "text/plain": [
              "LabelEncoder()"
            ]
          },
          "metadata": {
            "tags": []
          },
          "execution_count": 23
        }
      ]
    },
    {
      "cell_type": "code",
      "metadata": {
        "id": "hCenvSkdOj0v",
        "colab_type": "code",
        "colab": {}
      },
      "source": [
        "encoded_Y = encoder.transform(train_data['Severity'])\n",
        "# convert integers to dummy variables (i.e. one hot encoded)\n",
        "y_train = np_utils.to_categorical(encoded_Y)"
      ],
      "execution_count": 0,
      "outputs": []
    },
    {
      "cell_type": "code",
      "metadata": {
        "id": "nT9hKlfrLweh",
        "colab_type": "code",
        "outputId": "c6b661aa-aab7-4d26-c516-f5759b048f53",
        "colab": {
          "base_uri": "https://localhost:8080/",
          "height": 138
        }
      },
      "source": [
        "y_train"
      ],
      "execution_count": 25,
      "outputs": [
        {
          "output_type": "execute_result",
          "data": {
            "text/plain": [
              "array([[0., 1., 0., 0.],\n",
              "       [0., 1., 0., 0.],\n",
              "       [0., 0., 1., 0.],\n",
              "       ...,\n",
              "       [0., 0., 0., 1.],\n",
              "       [0., 1., 0., 0.],\n",
              "       [1., 0., 0., 0.]], dtype=float32)"
            ]
          },
          "metadata": {
            "tags": []
          },
          "execution_count": 25
        }
      ]
    },
    {
      "cell_type": "code",
      "metadata": {
        "id": "ccdpgK4gNyv-",
        "colab_type": "code",
        "colab": {}
      },
      "source": [
        " X_train=preprocessing.scale(X_train)"
      ],
      "execution_count": 0,
      "outputs": []
    },
    {
      "cell_type": "code",
      "metadata": {
        "id": "P5WZUARBKskN",
        "colab_type": "code",
        "colab": {}
      },
      "source": [
        "X , X_val , Y , Y_val , train_lab , test_lab = train_test_split ( X_train , y_train , encoder.transform(train_data['Severity']) , test_size=0.2)"
      ],
      "execution_count": 0,
      "outputs": []
    },
    {
      "cell_type": "code",
      "metadata": {
        "id": "b-gHrA0OMsFf",
        "colab_type": "code",
        "outputId": "31b3174b-1fec-4e19-af10-493541bfa52a",
        "colab": {
          "base_uri": "https://localhost:8080/",
          "height": 1000
        }
      },
      "source": [
        "\n",
        "\n",
        "# Model\n",
        "model = Sequential()\n",
        "\n",
        "\n",
        "\n",
        "\n",
        "model.add(Dense(2048, input_dim=11, kernel_initializer='normal', activation='relu'))\n",
        "\n",
        "model.add(Dense(1024, kernel_initializer='normal', activation='relu'))\n",
        "\n",
        "model.add(Dense(512, kernel_initializer='normal', activation='relu'))\n",
        "model.add(Dropout(0.25))\n",
        "\n",
        "model.add(Dense(256, kernel_initializer='normal', activation='relu'))\n",
        "model.add(Dense(128, kernel_initializer='normal', activation='relu'))\n",
        "model.add(Dropout(0.1))\n",
        "\n",
        "\n",
        "model.add(Dense(64, kernel_initializer='normal', activation='relu'))\n",
        "model.add(Dense(16, kernel_initializer='normal', activation='relu'))\n",
        "\n",
        "\n",
        "model.add(Dense(4, kernel_initializer='normal' ,  activation='softmax'))\n",
        "# Compile model\n",
        "model.compile(loss='categorical_crossentropy', optimizer='adam', metrics=['accuracy'])\n",
        "\n",
        "model.fit(X ,Y , epochs=300, batch_size=64)"
      ],
      "execution_count": 28,
      "outputs": [
        {
          "output_type": "stream",
          "text": [
            "WARNING:tensorflow:From /usr/local/lib/python3.6/dist-packages/keras/backend/tensorflow_backend.py:66: The name tf.get_default_graph is deprecated. Please use tf.compat.v1.get_default_graph instead.\n",
            "\n",
            "WARNING:tensorflow:From /usr/local/lib/python3.6/dist-packages/keras/backend/tensorflow_backend.py:541: The name tf.placeholder is deprecated. Please use tf.compat.v1.placeholder instead.\n",
            "\n",
            "WARNING:tensorflow:From /usr/local/lib/python3.6/dist-packages/keras/backend/tensorflow_backend.py:4409: The name tf.random_normal is deprecated. Please use tf.random.normal instead.\n",
            "\n",
            "WARNING:tensorflow:From /usr/local/lib/python3.6/dist-packages/keras/backend/tensorflow_backend.py:148: The name tf.placeholder_with_default is deprecated. Please use tf.compat.v1.placeholder_with_default instead.\n",
            "\n",
            "WARNING:tensorflow:From /usr/local/lib/python3.6/dist-packages/keras/backend/tensorflow_backend.py:3733: calling dropout (from tensorflow.python.ops.nn_ops) with keep_prob is deprecated and will be removed in a future version.\n",
            "Instructions for updating:\n",
            "Please use `rate` instead of `keep_prob`. Rate should be set to `rate = 1 - keep_prob`.\n",
            "WARNING:tensorflow:From /usr/local/lib/python3.6/dist-packages/keras/optimizers.py:793: The name tf.train.Optimizer is deprecated. Please use tf.compat.v1.train.Optimizer instead.\n",
            "\n",
            "WARNING:tensorflow:From /usr/local/lib/python3.6/dist-packages/keras/backend/tensorflow_backend.py:3576: The name tf.log is deprecated. Please use tf.math.log instead.\n",
            "\n",
            "WARNING:tensorflow:From /usr/local/lib/python3.6/dist-packages/tensorflow_core/python/ops/math_grad.py:1424: where (from tensorflow.python.ops.array_ops) is deprecated and will be removed in a future version.\n",
            "Instructions for updating:\n",
            "Use tf.where in 2.0, which has the same broadcast rule as np.where\n",
            "WARNING:tensorflow:From /usr/local/lib/python3.6/dist-packages/keras/backend/tensorflow_backend.py:1033: The name tf.assign_add is deprecated. Please use tf.compat.v1.assign_add instead.\n",
            "\n",
            "WARNING:tensorflow:From /usr/local/lib/python3.6/dist-packages/keras/backend/tensorflow_backend.py:1020: The name tf.assign is deprecated. Please use tf.compat.v1.assign instead.\n",
            "\n",
            "WARNING:tensorflow:From /usr/local/lib/python3.6/dist-packages/keras/backend/tensorflow_backend.py:3005: The name tf.Session is deprecated. Please use tf.compat.v1.Session instead.\n",
            "\n",
            "Epoch 1/300\n",
            "WARNING:tensorflow:From /usr/local/lib/python3.6/dist-packages/keras/backend/tensorflow_backend.py:190: The name tf.get_default_session is deprecated. Please use tf.compat.v1.get_default_session instead.\n",
            "\n",
            "WARNING:tensorflow:From /usr/local/lib/python3.6/dist-packages/keras/backend/tensorflow_backend.py:197: The name tf.ConfigProto is deprecated. Please use tf.compat.v1.ConfigProto instead.\n",
            "\n",
            "WARNING:tensorflow:From /usr/local/lib/python3.6/dist-packages/keras/backend/tensorflow_backend.py:207: The name tf.global_variables is deprecated. Please use tf.compat.v1.global_variables instead.\n",
            "\n",
            "WARNING:tensorflow:From /usr/local/lib/python3.6/dist-packages/keras/backend/tensorflow_backend.py:216: The name tf.is_variable_initialized is deprecated. Please use tf.compat.v1.is_variable_initialized instead.\n",
            "\n",
            "WARNING:tensorflow:From /usr/local/lib/python3.6/dist-packages/keras/backend/tensorflow_backend.py:223: The name tf.variables_initializer is deprecated. Please use tf.compat.v1.variables_initializer instead.\n",
            "\n",
            "8000/8000 [==============================] - 9s 1ms/step - loss: 0.8593 - acc: 0.6128\n",
            "Epoch 2/300\n",
            "8000/8000 [==============================] - 9s 1ms/step - loss: 0.4053 - acc: 0.8546\n",
            "Epoch 3/300\n",
            "8000/8000 [==============================] - 9s 1ms/step - loss: 0.2675 - acc: 0.9136\n",
            "Epoch 4/300\n",
            "8000/8000 [==============================] - 9s 1ms/step - loss: 0.2413 - acc: 0.9219\n",
            "Epoch 5/300\n",
            "8000/8000 [==============================] - 9s 1ms/step - loss: 0.2201 - acc: 0.9291\n",
            "Epoch 6/300\n",
            "8000/8000 [==============================] - 9s 1ms/step - loss: 0.2125 - acc: 0.9313\n",
            "Epoch 7/300\n",
            "8000/8000 [==============================] - 9s 1ms/step - loss: 0.1957 - acc: 0.9377\n",
            "Epoch 8/300\n",
            "8000/8000 [==============================] - 9s 1ms/step - loss: 0.1898 - acc: 0.9380\n",
            "Epoch 9/300\n",
            "8000/8000 [==============================] - 9s 1ms/step - loss: 0.1957 - acc: 0.9346\n",
            "Epoch 10/300\n",
            "8000/8000 [==============================] - 9s 1ms/step - loss: 0.1883 - acc: 0.9384\n",
            "Epoch 11/300\n",
            "8000/8000 [==============================] - 9s 1ms/step - loss: 0.1828 - acc: 0.9414\n",
            "Epoch 12/300\n",
            "8000/8000 [==============================] - 9s 1ms/step - loss: 0.1814 - acc: 0.9382\n",
            "Epoch 13/300\n",
            "8000/8000 [==============================] - 9s 1ms/step - loss: 0.1757 - acc: 0.9404\n",
            "Epoch 14/300\n",
            "8000/8000 [==============================] - 9s 1ms/step - loss: 0.1627 - acc: 0.9455\n",
            "Epoch 15/300\n",
            "8000/8000 [==============================] - 9s 1ms/step - loss: 0.1561 - acc: 0.9475\n",
            "Epoch 16/300\n",
            "8000/8000 [==============================] - 9s 1ms/step - loss: 0.1489 - acc: 0.9506\n",
            "Epoch 17/300\n",
            "8000/8000 [==============================] - 9s 1ms/step - loss: 0.1558 - acc: 0.9469\n",
            "Epoch 18/300\n",
            "8000/8000 [==============================] - 9s 1ms/step - loss: 0.1514 - acc: 0.9484\n",
            "Epoch 19/300\n",
            "8000/8000 [==============================] - 9s 1ms/step - loss: 0.1490 - acc: 0.9485\n",
            "Epoch 20/300\n",
            "8000/8000 [==============================] - 9s 1ms/step - loss: 0.1452 - acc: 0.9479\n",
            "Epoch 21/300\n",
            "8000/8000 [==============================] - 9s 1ms/step - loss: 0.1441 - acc: 0.9500\n",
            "Epoch 22/300\n",
            "8000/8000 [==============================] - 9s 1ms/step - loss: 0.1394 - acc: 0.9517\n",
            "Epoch 23/300\n",
            "8000/8000 [==============================] - 9s 1ms/step - loss: 0.1441 - acc: 0.9511\n",
            "Epoch 24/300\n",
            "8000/8000 [==============================] - 9s 1ms/step - loss: 0.1396 - acc: 0.9521\n",
            "Epoch 25/300\n",
            "8000/8000 [==============================] - 9s 1ms/step - loss: 0.1240 - acc: 0.9562\n",
            "Epoch 26/300\n",
            "8000/8000 [==============================] - 9s 1ms/step - loss: 0.1219 - acc: 0.9592\n",
            "Epoch 27/300\n",
            "8000/8000 [==============================] - 9s 1ms/step - loss: 0.1161 - acc: 0.9596\n",
            "Epoch 28/300\n",
            "8000/8000 [==============================] - 9s 1ms/step - loss: 0.1177 - acc: 0.9599\n",
            "Epoch 29/300\n",
            "8000/8000 [==============================] - 9s 1ms/step - loss: 0.1241 - acc: 0.9551\n",
            "Epoch 30/300\n",
            "8000/8000 [==============================] - 9s 1ms/step - loss: 0.1155 - acc: 0.9594\n",
            "Epoch 31/300\n",
            "8000/8000 [==============================] - 9s 1ms/step - loss: 0.1057 - acc: 0.9630\n",
            "Epoch 32/300\n",
            "8000/8000 [==============================] - 9s 1ms/step - loss: 0.1069 - acc: 0.9617\n",
            "Epoch 33/300\n",
            "8000/8000 [==============================] - 9s 1ms/step - loss: 0.0956 - acc: 0.9670\n",
            "Epoch 34/300\n",
            "8000/8000 [==============================] - 9s 1ms/step - loss: 0.0939 - acc: 0.9663\n",
            "Epoch 35/300\n",
            "8000/8000 [==============================] - 9s 1ms/step - loss: 0.0831 - acc: 0.9682\n",
            "Epoch 36/300\n",
            "8000/8000 [==============================] - 9s 1ms/step - loss: 0.1067 - acc: 0.9622\n",
            "Epoch 37/300\n",
            "8000/8000 [==============================] - 9s 1ms/step - loss: 0.0990 - acc: 0.9645\n",
            "Epoch 38/300\n",
            "8000/8000 [==============================] - 9s 1ms/step - loss: 0.0945 - acc: 0.9649\n",
            "Epoch 39/300\n",
            "8000/8000 [==============================] - 9s 1ms/step - loss: 0.0880 - acc: 0.9667\n",
            "Epoch 40/300\n",
            "8000/8000 [==============================] - 9s 1ms/step - loss: 0.0784 - acc: 0.9728\n",
            "Epoch 41/300\n",
            "8000/8000 [==============================] - 9s 1ms/step - loss: 0.1029 - acc: 0.9634\n",
            "Epoch 42/300\n",
            "8000/8000 [==============================] - 9s 1ms/step - loss: 0.0820 - acc: 0.9694\n",
            "Epoch 43/300\n",
            "8000/8000 [==============================] - 9s 1ms/step - loss: 0.0778 - acc: 0.9701\n",
            "Epoch 44/300\n",
            "8000/8000 [==============================] - 9s 1ms/step - loss: 0.0612 - acc: 0.9781\n",
            "Epoch 45/300\n",
            "8000/8000 [==============================] - 9s 1ms/step - loss: 0.0686 - acc: 0.9735\n",
            "Epoch 46/300\n",
            "8000/8000 [==============================] - 9s 1ms/step - loss: 0.0784 - acc: 0.9710\n",
            "Epoch 47/300\n",
            "8000/8000 [==============================] - 9s 1ms/step - loss: 0.0658 - acc: 0.9769\n",
            "Epoch 48/300\n",
            "8000/8000 [==============================] - 9s 1ms/step - loss: 0.0680 - acc: 0.9766\n",
            "Epoch 49/300\n",
            "8000/8000 [==============================] - 9s 1ms/step - loss: 0.0578 - acc: 0.9789\n",
            "Epoch 50/300\n",
            "8000/8000 [==============================] - 9s 1ms/step - loss: 0.0611 - acc: 0.9796\n",
            "Epoch 51/300\n",
            "8000/8000 [==============================] - 9s 1ms/step - loss: 0.0671 - acc: 0.9755\n",
            "Epoch 52/300\n",
            "8000/8000 [==============================] - 9s 1ms/step - loss: 0.0636 - acc: 0.9768\n",
            "Epoch 53/300\n",
            "8000/8000 [==============================] - 9s 1ms/step - loss: 0.0517 - acc: 0.9818\n",
            "Epoch 54/300\n",
            "8000/8000 [==============================] - 9s 1ms/step - loss: 0.0667 - acc: 0.9794\n",
            "Epoch 55/300\n",
            "8000/8000 [==============================] - 9s 1ms/step - loss: 0.0550 - acc: 0.9800\n",
            "Epoch 56/300\n",
            "8000/8000 [==============================] - 9s 1ms/step - loss: 0.0569 - acc: 0.9802\n",
            "Epoch 57/300\n",
            "8000/8000 [==============================] - 9s 1ms/step - loss: 0.0532 - acc: 0.9805\n",
            "Epoch 58/300\n",
            "8000/8000 [==============================] - 9s 1ms/step - loss: 0.0425 - acc: 0.9869\n",
            "Epoch 59/300\n",
            "8000/8000 [==============================] - 9s 1ms/step - loss: 0.0420 - acc: 0.9839\n",
            "Epoch 60/300\n",
            "8000/8000 [==============================] - 9s 1ms/step - loss: 0.0472 - acc: 0.9832\n",
            "Epoch 61/300\n",
            "8000/8000 [==============================] - 9s 1ms/step - loss: 0.0398 - acc: 0.9862\n",
            "Epoch 62/300\n",
            "8000/8000 [==============================] - 9s 1ms/step - loss: 0.0512 - acc: 0.9851\n",
            "Epoch 63/300\n",
            "8000/8000 [==============================] - 9s 1ms/step - loss: 0.0341 - acc: 0.9894\n",
            "Epoch 64/300\n",
            "8000/8000 [==============================] - 9s 1ms/step - loss: 0.0254 - acc: 0.9914\n",
            "Epoch 65/300\n",
            "8000/8000 [==============================] - 9s 1ms/step - loss: 0.0484 - acc: 0.9839\n",
            "Epoch 66/300\n",
            "8000/8000 [==============================] - 9s 1ms/step - loss: 0.0490 - acc: 0.9832\n",
            "Epoch 67/300\n",
            "8000/8000 [==============================] - 9s 1ms/step - loss: 0.0293 - acc: 0.9906\n",
            "Epoch 68/300\n",
            "8000/8000 [==============================] - 9s 1ms/step - loss: 0.0339 - acc: 0.9878\n",
            "Epoch 69/300\n",
            "8000/8000 [==============================] - 9s 1ms/step - loss: 0.0197 - acc: 0.9942\n",
            "Epoch 70/300\n",
            "8000/8000 [==============================] - 9s 1ms/step - loss: 0.0453 - acc: 0.9856\n",
            "Epoch 71/300\n",
            "8000/8000 [==============================] - 9s 1ms/step - loss: 0.0579 - acc: 0.9840\n",
            "Epoch 72/300\n",
            "8000/8000 [==============================] - 9s 1ms/step - loss: 0.0476 - acc: 0.9839\n",
            "Epoch 73/300\n",
            "8000/8000 [==============================] - 9s 1ms/step - loss: 0.0301 - acc: 0.9892\n",
            "Epoch 74/300\n",
            "8000/8000 [==============================] - 9s 1ms/step - loss: 0.0172 - acc: 0.9948\n",
            "Epoch 75/300\n",
            "8000/8000 [==============================] - 9s 1ms/step - loss: 0.0302 - acc: 0.9895\n",
            "Epoch 76/300\n",
            "8000/8000 [==============================] - 9s 1ms/step - loss: 0.0331 - acc: 0.9878\n",
            "Epoch 77/300\n",
            "8000/8000 [==============================] - 9s 1ms/step - loss: 0.0177 - acc: 0.9940\n",
            "Epoch 78/300\n",
            "8000/8000 [==============================] - 9s 1ms/step - loss: 0.0156 - acc: 0.9941\n",
            "Epoch 79/300\n",
            "8000/8000 [==============================] - 9s 1ms/step - loss: 0.0280 - acc: 0.9914\n",
            "Epoch 80/300\n",
            "8000/8000 [==============================] - 9s 1ms/step - loss: 0.0260 - acc: 0.9919\n",
            "Epoch 81/300\n",
            "8000/8000 [==============================] - 9s 1ms/step - loss: 0.0252 - acc: 0.9920\n",
            "Epoch 82/300\n",
            "8000/8000 [==============================] - 9s 1ms/step - loss: 0.0368 - acc: 0.9899\n",
            "Epoch 83/300\n",
            "8000/8000 [==============================] - 9s 1ms/step - loss: 0.0250 - acc: 0.9920\n",
            "Epoch 84/300\n",
            "8000/8000 [==============================] - 9s 1ms/step - loss: 0.0244 - acc: 0.9925\n",
            "Epoch 85/300\n",
            "8000/8000 [==============================] - 9s 1ms/step - loss: 0.0361 - acc: 0.9896\n",
            "Epoch 86/300\n",
            "8000/8000 [==============================] - 9s 1ms/step - loss: 0.0214 - acc: 0.9926\n",
            "Epoch 87/300\n",
            "8000/8000 [==============================] - 9s 1ms/step - loss: 0.0239 - acc: 0.9924\n",
            "Epoch 88/300\n",
            "8000/8000 [==============================] - 9s 1ms/step - loss: 0.0166 - acc: 0.9942\n",
            "Epoch 89/300\n",
            "8000/8000 [==============================] - 9s 1ms/step - loss: 0.0348 - acc: 0.9905\n",
            "Epoch 90/300\n",
            "8000/8000 [==============================] - 9s 1ms/step - loss: 0.0303 - acc: 0.9912\n",
            "Epoch 91/300\n",
            "8000/8000 [==============================] - 9s 1ms/step - loss: 0.0339 - acc: 0.9919\n",
            "Epoch 92/300\n",
            "8000/8000 [==============================] - 9s 1ms/step - loss: 0.0379 - acc: 0.9890\n",
            "Epoch 93/300\n",
            "8000/8000 [==============================] - 9s 1ms/step - loss: 0.0445 - acc: 0.9890\n",
            "Epoch 94/300\n",
            "8000/8000 [==============================] - 9s 1ms/step - loss: 0.0313 - acc: 0.9924\n",
            "Epoch 95/300\n",
            "8000/8000 [==============================] - 9s 1ms/step - loss: 0.0261 - acc: 0.9920\n",
            "Epoch 96/300\n",
            "8000/8000 [==============================] - 9s 1ms/step - loss: 0.0176 - acc: 0.9948\n",
            "Epoch 97/300\n",
            "8000/8000 [==============================] - 9s 1ms/step - loss: 0.0161 - acc: 0.9946\n",
            "Epoch 98/300\n",
            "8000/8000 [==============================] - 9s 1ms/step - loss: 0.0363 - acc: 0.9896\n",
            "Epoch 99/300\n",
            "8000/8000 [==============================] - 9s 1ms/step - loss: 0.0242 - acc: 0.9940\n",
            "Epoch 100/300\n",
            "8000/8000 [==============================] - 9s 1ms/step - loss: 0.0098 - acc: 0.9971\n",
            "Epoch 101/300\n",
            "8000/8000 [==============================] - 9s 1ms/step - loss: 0.0171 - acc: 0.9951\n",
            "Epoch 102/300\n",
            "8000/8000 [==============================] - 9s 1ms/step - loss: 0.0119 - acc: 0.9963\n",
            "Epoch 103/300\n",
            "8000/8000 [==============================] - 9s 1ms/step - loss: 0.0186 - acc: 0.9946\n",
            "Epoch 104/300\n",
            "8000/8000 [==============================] - 9s 1ms/step - loss: 0.0256 - acc: 0.9945\n",
            "Epoch 105/300\n",
            "8000/8000 [==============================] - 9s 1ms/step - loss: 0.0278 - acc: 0.9928\n",
            "Epoch 106/300\n",
            "8000/8000 [==============================] - 9s 1ms/step - loss: 0.0218 - acc: 0.9922\n",
            "Epoch 107/300\n",
            "8000/8000 [==============================] - 9s 1ms/step - loss: 0.0205 - acc: 0.9924\n",
            "Epoch 108/300\n",
            "8000/8000 [==============================] - 9s 1ms/step - loss: 0.0280 - acc: 0.9915\n",
            "Epoch 109/300\n",
            "8000/8000 [==============================] - 9s 1ms/step - loss: 0.0225 - acc: 0.9944\n",
            "Epoch 110/300\n",
            "8000/8000 [==============================] - 9s 1ms/step - loss: 0.0217 - acc: 0.9931\n",
            "Epoch 111/300\n",
            "8000/8000 [==============================] - 9s 1ms/step - loss: 0.0217 - acc: 0.9938\n",
            "Epoch 112/300\n",
            "8000/8000 [==============================] - 9s 1ms/step - loss: 0.0383 - acc: 0.9894\n",
            "Epoch 113/300\n",
            "8000/8000 [==============================] - 9s 1ms/step - loss: 0.0132 - acc: 0.9963\n",
            "Epoch 114/300\n",
            "8000/8000 [==============================] - 9s 1ms/step - loss: 0.0186 - acc: 0.9954\n",
            "Epoch 115/300\n",
            "8000/8000 [==============================] - 9s 1ms/step - loss: 0.0213 - acc: 0.9945\n",
            "Epoch 116/300\n",
            "8000/8000 [==============================] - 9s 1ms/step - loss: 0.0143 - acc: 0.9959\n",
            "Epoch 117/300\n",
            "8000/8000 [==============================] - 9s 1ms/step - loss: 0.0133 - acc: 0.9963\n",
            "Epoch 118/300\n",
            "8000/8000 [==============================] - 9s 1ms/step - loss: 0.0340 - acc: 0.9901\n",
            "Epoch 119/300\n",
            "8000/8000 [==============================] - 9s 1ms/step - loss: 0.0167 - acc: 0.9941\n",
            "Epoch 120/300\n",
            "8000/8000 [==============================] - 9s 1ms/step - loss: 0.0297 - acc: 0.9930\n",
            "Epoch 121/300\n",
            "8000/8000 [==============================] - 9s 1ms/step - loss: 0.0155 - acc: 0.9954\n",
            "Epoch 122/300\n",
            "8000/8000 [==============================] - 9s 1ms/step - loss: 0.0118 - acc: 0.9975\n",
            "Epoch 123/300\n",
            "8000/8000 [==============================] - 9s 1ms/step - loss: 0.0076 - acc: 0.9982\n",
            "Epoch 124/300\n",
            "8000/8000 [==============================] - 9s 1ms/step - loss: 0.0051 - acc: 0.9985\n",
            "Epoch 125/300\n",
            "8000/8000 [==============================] - 9s 1ms/step - loss: 0.0104 - acc: 0.9971\n",
            "Epoch 126/300\n",
            "8000/8000 [==============================] - 9s 1ms/step - loss: 0.0259 - acc: 0.9928\n",
            "Epoch 127/300\n",
            "8000/8000 [==============================] - 9s 1ms/step - loss: 0.0312 - acc: 0.9914\n",
            "Epoch 128/300\n",
            "8000/8000 [==============================] - 9s 1ms/step - loss: 0.0309 - acc: 0.9911\n",
            "Epoch 129/300\n",
            "8000/8000 [==============================] - 9s 1ms/step - loss: 0.0274 - acc: 0.9924\n",
            "Epoch 130/300\n",
            "8000/8000 [==============================] - 9s 1ms/step - loss: 0.0164 - acc: 0.9950\n",
            "Epoch 131/300\n",
            "8000/8000 [==============================] - 9s 1ms/step - loss: 0.0101 - acc: 0.9978\n",
            "Epoch 132/300\n",
            "8000/8000 [==============================] - 9s 1ms/step - loss: 0.0175 - acc: 0.9954\n",
            "Epoch 133/300\n",
            "8000/8000 [==============================] - 9s 1ms/step - loss: 0.0144 - acc: 0.9969\n",
            "Epoch 134/300\n",
            "8000/8000 [==============================] - 9s 1ms/step - loss: 0.0193 - acc: 0.9954\n",
            "Epoch 135/300\n",
            "8000/8000 [==============================] - 9s 1ms/step - loss: 0.0350 - acc: 0.9925\n",
            "Epoch 136/300\n",
            "8000/8000 [==============================] - 9s 1ms/step - loss: 0.0278 - acc: 0.9926\n",
            "Epoch 137/300\n",
            "8000/8000 [==============================] - 9s 1ms/step - loss: 0.0247 - acc: 0.9926\n",
            "Epoch 138/300\n",
            "8000/8000 [==============================] - 9s 1ms/step - loss: 0.0128 - acc: 0.9970\n",
            "Epoch 139/300\n",
            "8000/8000 [==============================] - 9s 1ms/step - loss: 0.0086 - acc: 0.9975\n",
            "Epoch 140/300\n",
            "8000/8000 [==============================] - 9s 1ms/step - loss: 0.0265 - acc: 0.9920\n",
            "Epoch 141/300\n",
            "8000/8000 [==============================] - 9s 1ms/step - loss: 0.0158 - acc: 0.9958\n",
            "Epoch 142/300\n",
            "8000/8000 [==============================] - 9s 1ms/step - loss: 0.0217 - acc: 0.9964\n",
            "Epoch 143/300\n",
            "8000/8000 [==============================] - 9s 1ms/step - loss: 0.0093 - acc: 0.9970\n",
            "Epoch 144/300\n",
            "8000/8000 [==============================] - 9s 1ms/step - loss: 0.0089 - acc: 0.9972\n",
            "Epoch 145/300\n",
            "8000/8000 [==============================] - 9s 1ms/step - loss: 0.0115 - acc: 0.9971\n",
            "Epoch 146/300\n",
            "8000/8000 [==============================] - 9s 1ms/step - loss: 0.0049 - acc: 0.9989\n",
            "Epoch 147/300\n",
            "8000/8000 [==============================] - 9s 1ms/step - loss: 0.0014 - acc: 0.9995\n",
            "Epoch 148/300\n",
            "8000/8000 [==============================] - 9s 1ms/step - loss: 0.0023 - acc: 0.9996\n",
            "Epoch 149/300\n",
            "8000/8000 [==============================] - 9s 1ms/step - loss: 5.7040e-04 - acc: 0.9999\n",
            "Epoch 150/300\n",
            "8000/8000 [==============================] - 9s 1ms/step - loss: 6.2123e-04 - acc: 0.9999\n",
            "Epoch 151/300\n",
            "8000/8000 [==============================] - 9s 1ms/step - loss: 1.1930e-04 - acc: 1.0000\n",
            "Epoch 152/300\n",
            "8000/8000 [==============================] - 9s 1ms/step - loss: 5.9632e-05 - acc: 1.0000\n",
            "Epoch 153/300\n",
            "8000/8000 [==============================] - 9s 1ms/step - loss: 1.6321e-05 - acc: 1.0000\n",
            "Epoch 154/300\n",
            "8000/8000 [==============================] - 9s 1ms/step - loss: 0.0020 - acc: 0.9993\n",
            "Epoch 155/300\n",
            "8000/8000 [==============================] - 9s 1ms/step - loss: 0.0751 - acc: 0.9809\n",
            "Epoch 156/300\n",
            "8000/8000 [==============================] - 9s 1ms/step - loss: 0.0585 - acc: 0.9844\n",
            "Epoch 157/300\n",
            "8000/8000 [==============================] - 9s 1ms/step - loss: 0.0195 - acc: 0.9950\n",
            "Epoch 158/300\n",
            "8000/8000 [==============================] - 9s 1ms/step - loss: 0.0082 - acc: 0.9979\n",
            "Epoch 159/300\n",
            "8000/8000 [==============================] - 9s 1ms/step - loss: 0.0609 - acc: 0.9861\n",
            "Epoch 160/300\n",
            "8000/8000 [==============================] - 9s 1ms/step - loss: 0.0217 - acc: 0.9950\n",
            "Epoch 161/300\n",
            "8000/8000 [==============================] - 9s 1ms/step - loss: 0.0083 - acc: 0.9980\n",
            "Epoch 162/300\n",
            "8000/8000 [==============================] - 9s 1ms/step - loss: 0.0096 - acc: 0.9969\n",
            "Epoch 163/300\n",
            "8000/8000 [==============================] - 9s 1ms/step - loss: 0.0126 - acc: 0.9964\n",
            "Epoch 164/300\n",
            "8000/8000 [==============================] - 9s 1ms/step - loss: 0.0139 - acc: 0.9968\n",
            "Epoch 165/300\n",
            "8000/8000 [==============================] - 9s 1ms/step - loss: 0.0067 - acc: 0.9980\n",
            "Epoch 166/300\n",
            "8000/8000 [==============================] - 9s 1ms/step - loss: 0.0124 - acc: 0.9963\n",
            "Epoch 167/300\n",
            "8000/8000 [==============================] - 9s 1ms/step - loss: 0.0149 - acc: 0.9971\n",
            "Epoch 168/300\n",
            "8000/8000 [==============================] - 9s 1ms/step - loss: 0.0128 - acc: 0.9971\n",
            "Epoch 169/300\n",
            "8000/8000 [==============================] - 9s 1ms/step - loss: 0.0161 - acc: 0.9946\n",
            "Epoch 170/300\n",
            "8000/8000 [==============================] - 9s 1ms/step - loss: 0.0160 - acc: 0.9963\n",
            "Epoch 171/300\n",
            "8000/8000 [==============================] - 9s 1ms/step - loss: 0.0251 - acc: 0.9942\n",
            "Epoch 172/300\n",
            "8000/8000 [==============================] - 9s 1ms/step - loss: 0.0106 - acc: 0.9969\n",
            "Epoch 173/300\n",
            "8000/8000 [==============================] - 9s 1ms/step - loss: 0.0065 - acc: 0.9978\n",
            "Epoch 174/300\n",
            "8000/8000 [==============================] - 9s 1ms/step - loss: 0.0072 - acc: 0.9984\n",
            "Epoch 175/300\n",
            "8000/8000 [==============================] - 9s 1ms/step - loss: 0.0048 - acc: 0.9985\n",
            "Epoch 176/300\n",
            "8000/8000 [==============================] - 9s 1ms/step - loss: 0.0130 - acc: 0.9970\n",
            "Epoch 177/300\n",
            "8000/8000 [==============================] - 9s 1ms/step - loss: 0.0049 - acc: 0.9982\n",
            "Epoch 178/300\n",
            "8000/8000 [==============================] - 9s 1ms/step - loss: 0.0134 - acc: 0.9972\n",
            "Epoch 179/300\n",
            "8000/8000 [==============================] - 9s 1ms/step - loss: 0.0103 - acc: 0.9976\n",
            "Epoch 180/300\n",
            "8000/8000 [==============================] - 9s 1ms/step - loss: 0.0122 - acc: 0.9980\n",
            "Epoch 181/300\n",
            "8000/8000 [==============================] - 9s 1ms/step - loss: 0.0183 - acc: 0.9960\n",
            "Epoch 182/300\n",
            "8000/8000 [==============================] - 9s 1ms/step - loss: 0.0218 - acc: 0.9929\n",
            "Epoch 183/300\n",
            "8000/8000 [==============================] - 9s 1ms/step - loss: 0.0179 - acc: 0.9951\n",
            "Epoch 184/300\n",
            "8000/8000 [==============================] - 9s 1ms/step - loss: 0.0176 - acc: 0.9955\n",
            "Epoch 185/300\n",
            "8000/8000 [==============================] - 9s 1ms/step - loss: 0.0146 - acc: 0.9965\n",
            "Epoch 186/300\n",
            "8000/8000 [==============================] - 9s 1ms/step - loss: 0.0249 - acc: 0.9944\n",
            "Epoch 187/300\n",
            "8000/8000 [==============================] - 9s 1ms/step - loss: 0.0241 - acc: 0.9934\n",
            "Epoch 188/300\n",
            "8000/8000 [==============================] - 9s 1ms/step - loss: 0.0061 - acc: 0.9986\n",
            "Epoch 189/300\n",
            "8000/8000 [==============================] - 9s 1ms/step - loss: 0.0010 - acc: 0.9995\n",
            "Epoch 190/300\n",
            "8000/8000 [==============================] - 9s 1ms/step - loss: 0.0067 - acc: 0.9984\n",
            "Epoch 191/300\n",
            "8000/8000 [==============================] - 9s 1ms/step - loss: 0.0030 - acc: 0.9994\n",
            "Epoch 192/300\n",
            "8000/8000 [==============================] - 9s 1ms/step - loss: 0.0194 - acc: 0.9951\n",
            "Epoch 193/300\n",
            "8000/8000 [==============================] - 9s 1ms/step - loss: 0.0168 - acc: 0.9954\n",
            "Epoch 194/300\n",
            "8000/8000 [==============================] - 9s 1ms/step - loss: 0.0086 - acc: 0.9985\n",
            "Epoch 195/300\n",
            "8000/8000 [==============================] - 9s 1ms/step - loss: 0.0025 - acc: 0.9994\n",
            "Epoch 196/300\n",
            "8000/8000 [==============================] - 9s 1ms/step - loss: 0.0013 - acc: 0.9998\n",
            "Epoch 197/300\n",
            "8000/8000 [==============================] - 9s 1ms/step - loss: 0.0113 - acc: 0.9978\n",
            "Epoch 198/300\n",
            "8000/8000 [==============================] - 9s 1ms/step - loss: 0.0165 - acc: 0.9971\n",
            "Epoch 199/300\n",
            "8000/8000 [==============================] - 9s 1ms/step - loss: 0.0561 - acc: 0.9884\n",
            "Epoch 200/300\n",
            "8000/8000 [==============================] - 9s 1ms/step - loss: 0.0126 - acc: 0.9965\n",
            "Epoch 201/300\n",
            "8000/8000 [==============================] - 9s 1ms/step - loss: 0.0107 - acc: 0.9970\n",
            "Epoch 202/300\n",
            "8000/8000 [==============================] - 9s 1ms/step - loss: 0.0099 - acc: 0.9980\n",
            "Epoch 203/300\n",
            "8000/8000 [==============================] - 9s 1ms/step - loss: 0.0087 - acc: 0.9976\n",
            "Epoch 204/300\n",
            "8000/8000 [==============================] - 9s 1ms/step - loss: 0.0117 - acc: 0.9969\n",
            "Epoch 205/300\n",
            "8000/8000 [==============================] - 9s 1ms/step - loss: 0.0077 - acc: 0.9980\n",
            "Epoch 206/300\n",
            "8000/8000 [==============================] - 9s 1ms/step - loss: 0.0235 - acc: 0.9961\n",
            "Epoch 207/300\n",
            "8000/8000 [==============================] - 9s 1ms/step - loss: 0.0422 - acc: 0.9895\n",
            "Epoch 208/300\n",
            "8000/8000 [==============================] - 9s 1ms/step - loss: 0.0180 - acc: 0.9950\n",
            "Epoch 209/300\n",
            "8000/8000 [==============================] - 9s 1ms/step - loss: 0.0185 - acc: 0.9966\n",
            "Epoch 210/300\n",
            "8000/8000 [==============================] - 9s 1ms/step - loss: 0.0076 - acc: 0.9984\n",
            "Epoch 211/300\n",
            "8000/8000 [==============================] - 9s 1ms/step - loss: 0.0112 - acc: 0.9985\n",
            "Epoch 212/300\n",
            "8000/8000 [==============================] - 9s 1ms/step - loss: 0.0041 - acc: 0.9990\n",
            "Epoch 213/300\n",
            "8000/8000 [==============================] - 9s 1ms/step - loss: 0.0091 - acc: 0.9981\n",
            "Epoch 214/300\n",
            "8000/8000 [==============================] - 9s 1ms/step - loss: 0.0085 - acc: 0.9981\n",
            "Epoch 215/300\n",
            "8000/8000 [==============================] - 9s 1ms/step - loss: 0.0013 - acc: 0.9995\n",
            "Epoch 216/300\n",
            "8000/8000 [==============================] - 9s 1ms/step - loss: 4.7384e-04 - acc: 0.9999\n",
            "Epoch 217/300\n",
            "8000/8000 [==============================] - 9s 1ms/step - loss: 0.0192 - acc: 0.9975\n",
            "Epoch 218/300\n",
            "8000/8000 [==============================] - 9s 1ms/step - loss: 0.0167 - acc: 0.9950\n",
            "Epoch 219/300\n",
            "8000/8000 [==============================] - 9s 1ms/step - loss: 0.0198 - acc: 0.9954\n",
            "Epoch 220/300\n",
            "8000/8000 [==============================] - 9s 1ms/step - loss: 0.0237 - acc: 0.9930\n",
            "Epoch 221/300\n",
            "8000/8000 [==============================] - 9s 1ms/step - loss: 0.0176 - acc: 0.9963\n",
            "Epoch 222/300\n",
            "8000/8000 [==============================] - 9s 1ms/step - loss: 0.0061 - acc: 0.9975\n",
            "Epoch 223/300\n",
            "8000/8000 [==============================] - 9s 1ms/step - loss: 0.0139 - acc: 0.9970\n",
            "Epoch 224/300\n",
            "8000/8000 [==============================] - 9s 1ms/step - loss: 0.0136 - acc: 0.9958\n",
            "Epoch 225/300\n",
            "8000/8000 [==============================] - 9s 1ms/step - loss: 0.0082 - acc: 0.9976\n",
            "Epoch 226/300\n",
            "8000/8000 [==============================] - 9s 1ms/step - loss: 0.0104 - acc: 0.9968\n",
            "Epoch 227/300\n",
            "8000/8000 [==============================] - 9s 1ms/step - loss: 0.0266 - acc: 0.9955\n",
            "Epoch 228/300\n",
            "8000/8000 [==============================] - 9s 1ms/step - loss: 0.0101 - acc: 0.9971\n",
            "Epoch 229/300\n",
            "8000/8000 [==============================] - 9s 1ms/step - loss: 0.0183 - acc: 0.9959\n",
            "Epoch 230/300\n",
            "8000/8000 [==============================] - 9s 1ms/step - loss: 0.0046 - acc: 0.9990\n",
            "Epoch 231/300\n",
            "8000/8000 [==============================] - 9s 1ms/step - loss: 0.0050 - acc: 0.9993\n",
            "Epoch 232/300\n",
            "8000/8000 [==============================] - 9s 1ms/step - loss: 0.0169 - acc: 0.9963\n",
            "Epoch 233/300\n",
            "8000/8000 [==============================] - 9s 1ms/step - loss: 0.0138 - acc: 0.9970\n",
            "Epoch 234/300\n",
            "8000/8000 [==============================] - 9s 1ms/step - loss: 0.0217 - acc: 0.9951\n",
            "Epoch 235/300\n",
            "8000/8000 [==============================] - 9s 1ms/step - loss: 0.0168 - acc: 0.9960\n",
            "Epoch 236/300\n",
            "8000/8000 [==============================] - 9s 1ms/step - loss: 0.0187 - acc: 0.9955\n",
            "Epoch 237/300\n",
            "8000/8000 [==============================] - 9s 1ms/step - loss: 0.0120 - acc: 0.9959\n",
            "Epoch 238/300\n",
            "8000/8000 [==============================] - 9s 1ms/step - loss: 0.0073 - acc: 0.9978\n",
            "Epoch 239/300\n",
            "8000/8000 [==============================] - 9s 1ms/step - loss: 0.0027 - acc: 0.9990\n",
            "Epoch 240/300\n",
            "8000/8000 [==============================] - 9s 1ms/step - loss: 5.0002e-04 - acc: 0.9998\n",
            "Epoch 241/300\n",
            "8000/8000 [==============================] - 9s 1ms/step - loss: 0.0028 - acc: 0.9995\n",
            "Epoch 242/300\n",
            "8000/8000 [==============================] - 9s 1ms/step - loss: 5.2031e-04 - acc: 0.9999\n",
            "Epoch 243/300\n",
            "8000/8000 [==============================] - 9s 1ms/step - loss: 0.0012 - acc: 0.9999\n",
            "Epoch 244/300\n",
            "8000/8000 [==============================] - 9s 1ms/step - loss: 0.0359 - acc: 0.9945\n",
            "Epoch 245/300\n",
            "8000/8000 [==============================] - 9s 1ms/step - loss: 0.0226 - acc: 0.9939\n",
            "Epoch 246/300\n",
            "8000/8000 [==============================] - 9s 1ms/step - loss: 0.0101 - acc: 0.9965\n",
            "Epoch 247/300\n",
            "8000/8000 [==============================] - 9s 1ms/step - loss: 0.0045 - acc: 0.9988\n",
            "Epoch 248/300\n",
            "8000/8000 [==============================] - 9s 1ms/step - loss: 0.0103 - acc: 0.9985\n",
            "Epoch 249/300\n",
            "8000/8000 [==============================] - 9s 1ms/step - loss: 0.0081 - acc: 0.9979\n",
            "Epoch 250/300\n",
            "8000/8000 [==============================] - 9s 1ms/step - loss: 0.0209 - acc: 0.9963\n",
            "Epoch 251/300\n",
            "8000/8000 [==============================] - 9s 1ms/step - loss: 0.0059 - acc: 0.9986\n",
            "Epoch 252/300\n",
            "8000/8000 [==============================] - 9s 1ms/step - loss: 0.0183 - acc: 0.9966\n",
            "Epoch 253/300\n",
            "8000/8000 [==============================] - 9s 1ms/step - loss: 0.0679 - acc: 0.9855\n",
            "Epoch 254/300\n",
            "8000/8000 [==============================] - 9s 1ms/step - loss: 0.0311 - acc: 0.9940\n",
            "Epoch 255/300\n",
            "8000/8000 [==============================] - 9s 1ms/step - loss: 0.0442 - acc: 0.9908\n",
            "Epoch 256/300\n",
            "8000/8000 [==============================] - 9s 1ms/step - loss: 0.0089 - acc: 0.9972\n",
            "Epoch 257/300\n",
            "8000/8000 [==============================] - 9s 1ms/step - loss: 0.0036 - acc: 0.9986\n",
            "Epoch 258/300\n",
            "8000/8000 [==============================] - 9s 1ms/step - loss: 0.0016 - acc: 0.9996\n",
            "Epoch 259/300\n",
            "8000/8000 [==============================] - 9s 1ms/step - loss: 8.5768e-04 - acc: 0.9998\n",
            "Epoch 260/300\n",
            "8000/8000 [==============================] - 9s 1ms/step - loss: 0.0012 - acc: 0.9995\n",
            "Epoch 261/300\n",
            "8000/8000 [==============================] - 9s 1ms/step - loss: 0.0077 - acc: 0.9988\n",
            "Epoch 262/300\n",
            "8000/8000 [==============================] - 9s 1ms/step - loss: 0.0148 - acc: 0.9976\n",
            "Epoch 263/300\n",
            "8000/8000 [==============================] - 9s 1ms/step - loss: 0.0257 - acc: 0.9942\n",
            "Epoch 264/300\n",
            "8000/8000 [==============================] - 9s 1ms/step - loss: 0.0041 - acc: 0.9988\n",
            "Epoch 265/300\n",
            "8000/8000 [==============================] - 9s 1ms/step - loss: 0.0054 - acc: 0.9986\n",
            "Epoch 266/300\n",
            "8000/8000 [==============================] - 9s 1ms/step - loss: 0.0479 - acc: 0.9910\n",
            "Epoch 267/300\n",
            "8000/8000 [==============================] - 9s 1ms/step - loss: 0.0153 - acc: 0.9954\n",
            "Epoch 268/300\n",
            "8000/8000 [==============================] - 9s 1ms/step - loss: 0.0026 - acc: 0.9994\n",
            "Epoch 269/300\n",
            "8000/8000 [==============================] - 9s 1ms/step - loss: 1.8373e-04 - acc: 1.0000\n",
            "Epoch 270/300\n",
            "8000/8000 [==============================] - 9s 1ms/step - loss: 1.2747e-04 - acc: 1.0000\n",
            "Epoch 271/300\n",
            "8000/8000 [==============================] - 9s 1ms/step - loss: 0.0028 - acc: 0.9998\n",
            "Epoch 272/300\n",
            "8000/8000 [==============================] - 9s 1ms/step - loss: 0.0276 - acc: 0.9939\n",
            "Epoch 273/300\n",
            "8000/8000 [==============================] - 9s 1ms/step - loss: 0.0204 - acc: 0.9955\n",
            "Epoch 274/300\n",
            "8000/8000 [==============================] - 9s 1ms/step - loss: 0.0552 - acc: 0.9899\n",
            "Epoch 275/300\n",
            "8000/8000 [==============================] - 9s 1ms/step - loss: 0.0270 - acc: 0.9939\n",
            "Epoch 276/300\n",
            "8000/8000 [==============================] - 9s 1ms/step - loss: 0.0208 - acc: 0.9945\n",
            "Epoch 277/300\n",
            "8000/8000 [==============================] - 9s 1ms/step - loss: 0.0106 - acc: 0.9976\n",
            "Epoch 278/300\n",
            "8000/8000 [==============================] - 9s 1ms/step - loss: 0.0058 - acc: 0.9986\n",
            "Epoch 279/300\n",
            "8000/8000 [==============================] - 9s 1ms/step - loss: 6.2293e-04 - acc: 0.9999\n",
            "Epoch 280/300\n",
            "8000/8000 [==============================] - 9s 1ms/step - loss: 0.0044 - acc: 0.9989\n",
            "Epoch 281/300\n",
            "8000/8000 [==============================] - 9s 1ms/step - loss: 0.0059 - acc: 0.9981\n",
            "Epoch 282/300\n",
            "8000/8000 [==============================] - 9s 1ms/step - loss: 0.0012 - acc: 0.9995\n",
            "Epoch 283/300\n",
            "8000/8000 [==============================] - 9s 1ms/step - loss: 0.0017 - acc: 0.9995\n",
            "Epoch 284/300\n",
            "8000/8000 [==============================] - 9s 1ms/step - loss: 0.0019 - acc: 0.9999\n",
            "Epoch 285/300\n",
            "8000/8000 [==============================] - 9s 1ms/step - loss: 8.0544e-05 - acc: 1.0000\n",
            "Epoch 286/300\n",
            "8000/8000 [==============================] - 9s 1ms/step - loss: 1.5925e-04 - acc: 1.0000\n",
            "Epoch 287/300\n",
            "8000/8000 [==============================] - 9s 1ms/step - loss: 6.2361e-05 - acc: 1.0000\n",
            "Epoch 288/300\n",
            "8000/8000 [==============================] - 9s 1ms/step - loss: 0.0049 - acc: 0.9994\n",
            "Epoch 289/300\n",
            "8000/8000 [==============================] - 9s 1ms/step - loss: 0.0197 - acc: 0.9976\n",
            "Epoch 290/300\n",
            "8000/8000 [==============================] - 9s 1ms/step - loss: 0.0352 - acc: 0.9952\n",
            "Epoch 291/300\n",
            "8000/8000 [==============================] - 9s 1ms/step - loss: 0.0330 - acc: 0.9936\n",
            "Epoch 292/300\n",
            "8000/8000 [==============================] - 9s 1ms/step - loss: 0.0155 - acc: 0.9972\n",
            "Epoch 293/300\n",
            "8000/8000 [==============================] - 9s 1ms/step - loss: 0.0075 - acc: 0.9980\n",
            "Epoch 294/300\n",
            "8000/8000 [==============================] - 9s 1ms/step - loss: 0.0169 - acc: 0.9966\n",
            "Epoch 295/300\n",
            "8000/8000 [==============================] - 9s 1ms/step - loss: 0.0131 - acc: 0.9961\n",
            "Epoch 296/300\n",
            "8000/8000 [==============================] - 9s 1ms/step - loss: 0.0116 - acc: 0.9968\n",
            "Epoch 297/300\n",
            "8000/8000 [==============================] - 9s 1ms/step - loss: 0.0138 - acc: 0.9958\n",
            "Epoch 298/300\n",
            "8000/8000 [==============================] - 9s 1ms/step - loss: 0.0063 - acc: 0.9985\n",
            "Epoch 299/300\n",
            "8000/8000 [==============================] - 9s 1ms/step - loss: 0.0062 - acc: 0.9990\n",
            "Epoch 300/300\n",
            "8000/8000 [==============================] - 9s 1ms/step - loss: 0.0123 - acc: 0.9981\n"
          ],
          "name": "stdout"
        },
        {
          "output_type": "execute_result",
          "data": {
            "text/plain": [
              "<keras.callbacks.History at 0x7f84afc4c710>"
            ]
          },
          "metadata": {
            "tags": []
          },
          "execution_count": 28
        }
      ]
    },
    {
      "cell_type": "code",
      "metadata": {
        "id": "53LV06rnU6DS",
        "colab_type": "code",
        "colab": {}
      },
      "source": [
        "PREDICTED_CLASSES = model.predict_classes(X_val)\n",
        "\n"
      ],
      "execution_count": 0,
      "outputs": []
    },
    {
      "cell_type": "code",
      "metadata": {
        "id": "rBz3Ec0AVR7B",
        "colab_type": "code",
        "outputId": "387324db-34de-42a0-d310-5f1d803308a7",
        "colab": {
          "base_uri": "https://localhost:8080/",
          "height": 34
        }
      },
      "source": [
        "PREDICTED_CLASSES"
      ],
      "execution_count": 30,
      "outputs": [
        {
          "output_type": "execute_result",
          "data": {
            "text/plain": [
              "array([3, 2, 1, ..., 1, 2, 1])"
            ]
          },
          "metadata": {
            "tags": []
          },
          "execution_count": 30
        }
      ]
    },
    {
      "cell_type": "code",
      "metadata": {
        "id": "mcFHS2GtVSdL",
        "colab_type": "code",
        "outputId": "4fb92161-3b7f-4f3a-b431-9bd93058428a",
        "colab": {
          "base_uri": "https://localhost:8080/",
          "height": 34
        }
      },
      "source": [
        "temp = sum(test_lab == PREDICTED_CLASSES)\n",
        "temp/len(test_lab)"
      ],
      "execution_count": 31,
      "outputs": [
        {
          "output_type": "execute_result",
          "data": {
            "text/plain": [
              "0.9285"
            ]
          },
          "metadata": {
            "tags": []
          },
          "execution_count": 31
        }
      ]
    },
    {
      "cell_type": "code",
      "metadata": {
        "id": "bQZRHqFyYhHq",
        "colab_type": "code",
        "colab": {
          "base_uri": "https://localhost:8080/",
          "height": 104
        },
        "outputId": "b2267891-b040-4608-91f6-72339ceedf8b"
      },
      "source": [
        "encoder.inverse_transform(PREDICTED_CLASSES)"
      ],
      "execution_count": 32,
      "outputs": [
        {
          "output_type": "execute_result",
          "data": {
            "text/plain": [
              "array(['Significant_Damage_And_Serious_Injuries',\n",
              "       'Significant_Damage_And_Fatalities', 'Minor_Damage_And_Injuries',\n",
              "       ..., 'Minor_Damage_And_Injuries',\n",
              "       'Significant_Damage_And_Fatalities', 'Minor_Damage_And_Injuries'],\n",
              "      dtype=object)"
            ]
          },
          "metadata": {
            "tags": []
          },
          "execution_count": 32
        }
      ]
    },
    {
      "cell_type": "code",
      "metadata": {
        "id": "jGq6W4Wycv1D",
        "colab_type": "code",
        "colab": {
          "base_uri": "https://localhost:8080/",
          "height": 222
        },
        "outputId": "ca1cab4b-3f75-4501-c64e-c70e2863c5f0"
      },
      "source": [
        "test_data.head()"
      ],
      "execution_count": 33,
      "outputs": [
        {
          "output_type": "execute_result",
          "data": {
            "text/html": [
              "<div>\n",
              "<style scoped>\n",
              "    .dataframe tbody tr th:only-of-type {\n",
              "        vertical-align: middle;\n",
              "    }\n",
              "\n",
              "    .dataframe tbody tr th {\n",
              "        vertical-align: top;\n",
              "    }\n",
              "\n",
              "    .dataframe thead th {\n",
              "        text-align: right;\n",
              "    }\n",
              "</style>\n",
              "<table border=\"1\" class=\"dataframe\">\n",
              "  <thead>\n",
              "    <tr style=\"text-align: right;\">\n",
              "      <th></th>\n",
              "      <th>Safety_Score</th>\n",
              "      <th>Days_Since_Inspection</th>\n",
              "      <th>Total_Safety_Complaints</th>\n",
              "      <th>Control_Metric</th>\n",
              "      <th>Turbulence_In_gforces</th>\n",
              "      <th>Cabin_Temperature</th>\n",
              "      <th>Accident_Type_Code</th>\n",
              "      <th>Max_Elevation</th>\n",
              "      <th>Violations</th>\n",
              "      <th>Adverse_Weather_Metric</th>\n",
              "      <th>Accident_ID</th>\n",
              "    </tr>\n",
              "  </thead>\n",
              "  <tbody>\n",
              "    <tr>\n",
              "      <th>0</th>\n",
              "      <td>19.497717</td>\n",
              "      <td>16</td>\n",
              "      <td>6</td>\n",
              "      <td>72.151322</td>\n",
              "      <td>0.388959</td>\n",
              "      <td>78.32</td>\n",
              "      <td>4</td>\n",
              "      <td>37949.724386</td>\n",
              "      <td>2</td>\n",
              "      <td>0.069692</td>\n",
              "      <td>1</td>\n",
              "    </tr>\n",
              "    <tr>\n",
              "      <th>1</th>\n",
              "      <td>58.173516</td>\n",
              "      <td>15</td>\n",
              "      <td>3</td>\n",
              "      <td>64.585232</td>\n",
              "      <td>0.250841</td>\n",
              "      <td>78.60</td>\n",
              "      <td>7</td>\n",
              "      <td>30194.805567</td>\n",
              "      <td>2</td>\n",
              "      <td>0.002777</td>\n",
              "      <td>10</td>\n",
              "    </tr>\n",
              "    <tr>\n",
              "      <th>2</th>\n",
              "      <td>33.287671</td>\n",
              "      <td>15</td>\n",
              "      <td>3</td>\n",
              "      <td>64.721969</td>\n",
              "      <td>0.336669</td>\n",
              "      <td>86.96</td>\n",
              "      <td>6</td>\n",
              "      <td>17572.925484</td>\n",
              "      <td>1</td>\n",
              "      <td>0.004316</td>\n",
              "      <td>14</td>\n",
              "    </tr>\n",
              "    <tr>\n",
              "      <th>3</th>\n",
              "      <td>3.287671</td>\n",
              "      <td>21</td>\n",
              "      <td>5</td>\n",
              "      <td>66.362808</td>\n",
              "      <td>0.421775</td>\n",
              "      <td>80.86</td>\n",
              "      <td>3</td>\n",
              "      <td>40209.186341</td>\n",
              "      <td>2</td>\n",
              "      <td>0.199990</td>\n",
              "      <td>17</td>\n",
              "    </tr>\n",
              "    <tr>\n",
              "      <th>4</th>\n",
              "      <td>10.867580</td>\n",
              "      <td>18</td>\n",
              "      <td>2</td>\n",
              "      <td>56.107566</td>\n",
              "      <td>0.313228</td>\n",
              "      <td>79.22</td>\n",
              "      <td>2</td>\n",
              "      <td>35495.525408</td>\n",
              "      <td>2</td>\n",
              "      <td>0.483696</td>\n",
              "      <td>21</td>\n",
              "    </tr>\n",
              "  </tbody>\n",
              "</table>\n",
              "</div>"
            ],
            "text/plain": [
              "   Safety_Score  Days_Since_Inspection  ...  Adverse_Weather_Metric  Accident_ID\n",
              "0     19.497717                     16  ...                0.069692            1\n",
              "1     58.173516                     15  ...                0.002777           10\n",
              "2     33.287671                     15  ...                0.004316           14\n",
              "3      3.287671                     21  ...                0.199990           17\n",
              "4     10.867580                     18  ...                0.483696           21\n",
              "\n",
              "[5 rows x 11 columns]"
            ]
          },
          "metadata": {
            "tags": []
          },
          "execution_count": 33
        }
      ]
    },
    {
      "cell_type": "code",
      "metadata": {
        "id": "GqAEovfWc07h",
        "colab_type": "code",
        "colab": {}
      },
      "source": [
        "test_data.index=test_data['Accident_ID']"
      ],
      "execution_count": 0,
      "outputs": []
    },
    {
      "cell_type": "code",
      "metadata": {
        "id": "PogN93YVgUts",
        "colab_type": "code",
        "colab": {}
      },
      "source": [
        ""
      ],
      "execution_count": 0,
      "outputs": []
    },
    {
      "cell_type": "code",
      "metadata": {
        "id": "_XJyDPi6c_mS",
        "colab_type": "code",
        "colab": {}
      },
      "source": [
        "PREDICTED_CLASSES1 = model.predict_classes(preprocessing.scale(test_data))"
      ],
      "execution_count": 0,
      "outputs": []
    },
    {
      "cell_type": "code",
      "metadata": {
        "id": "fOUbBi4NeXft",
        "colab_type": "code",
        "colab": {}
      },
      "source": [
        "p=pd.Series(encoder.inverse_transform(PREDICTED_CLASSES1))"
      ],
      "execution_count": 0,
      "outputs": []
    },
    {
      "cell_type": "code",
      "metadata": {
        "id": "heeiGwCTfMQ0",
        "colab_type": "code",
        "colab": {}
      },
      "source": [
        "p.index=test_data.index"
      ],
      "execution_count": 0,
      "outputs": []
    },
    {
      "cell_type": "code",
      "metadata": {
        "id": "Z_z4AUrlhPm5",
        "colab_type": "code",
        "colab": {
          "base_uri": "https://localhost:8080/",
          "height": 446
        },
        "outputId": "25e3d775-a04f-4345-d3de-14133e948707"
      },
      "source": [
        "pd.DataFrame(p, columns=['Severity'])"
      ],
      "execution_count": 38,
      "outputs": [
        {
          "output_type": "execute_result",
          "data": {
            "text/html": [
              "<div>\n",
              "<style scoped>\n",
              "    .dataframe tbody tr th:only-of-type {\n",
              "        vertical-align: middle;\n",
              "    }\n",
              "\n",
              "    .dataframe tbody tr th {\n",
              "        vertical-align: top;\n",
              "    }\n",
              "\n",
              "    .dataframe thead th {\n",
              "        text-align: right;\n",
              "    }\n",
              "</style>\n",
              "<table border=\"1\" class=\"dataframe\">\n",
              "  <thead>\n",
              "    <tr style=\"text-align: right;\">\n",
              "      <th></th>\n",
              "      <th>Severity</th>\n",
              "    </tr>\n",
              "    <tr>\n",
              "      <th>Accident_ID</th>\n",
              "      <th></th>\n",
              "    </tr>\n",
              "  </thead>\n",
              "  <tbody>\n",
              "    <tr>\n",
              "      <th>1</th>\n",
              "      <td>Highly_Fatal_And_Damaging</td>\n",
              "    </tr>\n",
              "    <tr>\n",
              "      <th>10</th>\n",
              "      <td>Significant_Damage_And_Fatalities</td>\n",
              "    </tr>\n",
              "    <tr>\n",
              "      <th>14</th>\n",
              "      <td>Significant_Damage_And_Serious_Injuries</td>\n",
              "    </tr>\n",
              "    <tr>\n",
              "      <th>17</th>\n",
              "      <td>Highly_Fatal_And_Damaging</td>\n",
              "    </tr>\n",
              "    <tr>\n",
              "      <th>21</th>\n",
              "      <td>Significant_Damage_And_Fatalities</td>\n",
              "    </tr>\n",
              "    <tr>\n",
              "      <th>...</th>\n",
              "      <td>...</td>\n",
              "    </tr>\n",
              "    <tr>\n",
              "      <th>12484</th>\n",
              "      <td>Highly_Fatal_And_Damaging</td>\n",
              "    </tr>\n",
              "    <tr>\n",
              "      <th>12487</th>\n",
              "      <td>Significant_Damage_And_Serious_Injuries</td>\n",
              "    </tr>\n",
              "    <tr>\n",
              "      <th>12488</th>\n",
              "      <td>Significant_Damage_And_Serious_Injuries</td>\n",
              "    </tr>\n",
              "    <tr>\n",
              "      <th>12491</th>\n",
              "      <td>Significant_Damage_And_Serious_Injuries</td>\n",
              "    </tr>\n",
              "    <tr>\n",
              "      <th>12493</th>\n",
              "      <td>Highly_Fatal_And_Damaging</td>\n",
              "    </tr>\n",
              "  </tbody>\n",
              "</table>\n",
              "<p>2500 rows × 1 columns</p>\n",
              "</div>"
            ],
            "text/plain": [
              "                                            Severity\n",
              "Accident_ID                                         \n",
              "1                          Highly_Fatal_And_Damaging\n",
              "10                 Significant_Damage_And_Fatalities\n",
              "14           Significant_Damage_And_Serious_Injuries\n",
              "17                         Highly_Fatal_And_Damaging\n",
              "21                 Significant_Damage_And_Fatalities\n",
              "...                                              ...\n",
              "12484                      Highly_Fatal_And_Damaging\n",
              "12487        Significant_Damage_And_Serious_Injuries\n",
              "12488        Significant_Damage_And_Serious_Injuries\n",
              "12491        Significant_Damage_And_Serious_Injuries\n",
              "12493                      Highly_Fatal_And_Damaging\n",
              "\n",
              "[2500 rows x 1 columns]"
            ]
          },
          "metadata": {
            "tags": []
          },
          "execution_count": 38
        }
      ]
    },
    {
      "cell_type": "code",
      "metadata": {
        "id": "GCKVJkZifMXy",
        "colab_type": "code",
        "colab": {}
      },
      "source": [
        "pd.DataFrame(p, columns=['Severity']).to_csv('submission.csv')"
      ],
      "execution_count": 0,
      "outputs": []
    }
  ]
}
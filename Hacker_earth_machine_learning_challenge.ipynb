{
  "nbformat": 4,
  "nbformat_minor": 0,
  "metadata": {
    "colab": {
      "name": "Hacker earth - machine learning challenge",
      "provenance": [],
      "collapsed_sections": []
    },
    "kernelspec": {
      "name": "python3",
      "display_name": "Python 3"
    }
  },
  "cells": [
    {
      "cell_type": "code",
      "metadata": {
        "id": "O10lprUGmWid",
        "colab_type": "code",
        "outputId": "52628bbb-356e-4a2d-b9e3-cbd38fe42040",
        "colab": {
          "base_uri": "https://localhost:8080/",
          "height": 33
        }
      },
      "source": [
        "from google.colab import drive\n",
        "drive.mount('/content/drive')"
      ],
      "execution_count": 0,
      "outputs": [
        {
          "output_type": "stream",
          "text": [
            "Drive already mounted at /content/drive; to attempt to forcibly remount, call drive.mount(\"/content/drive\", force_remount=True).\n"
          ],
          "name": "stdout"
        }
      ]
    },
    {
      "cell_type": "code",
      "metadata": {
        "id": "qjd4fhzYndwr",
        "colab_type": "code",
        "outputId": "f0cc1b34-a438-4a3d-91ae-f085cc9e8b4a",
        "colab": {
          "base_uri": "https://localhost:8080/",
          "height": 131
        }
      },
      "source": [
        "!pip install pandasql"
      ],
      "execution_count": 0,
      "outputs": [
        {
          "output_type": "stream",
          "text": [
            "Requirement already satisfied: pandasql in /usr/local/lib/python3.6/dist-packages (0.7.3)\n",
            "Requirement already satisfied: pandas in /usr/local/lib/python3.6/dist-packages (from pandasql) (0.25.3)\n",
            "Requirement already satisfied: sqlalchemy in /usr/local/lib/python3.6/dist-packages (from pandasql) (1.3.12)\n",
            "Requirement already satisfied: numpy in /usr/local/lib/python3.6/dist-packages (from pandasql) (1.17.4)\n",
            "Requirement already satisfied: pytz>=2017.2 in /usr/local/lib/python3.6/dist-packages (from pandas->pandasql) (2018.9)\n",
            "Requirement already satisfied: python-dateutil>=2.6.1 in /usr/local/lib/python3.6/dist-packages (from pandas->pandasql) (2.6.1)\n",
            "Requirement already satisfied: six>=1.5 in /usr/local/lib/python3.6/dist-packages (from python-dateutil>=2.6.1->pandas->pandasql) (1.12.0)\n"
          ],
          "name": "stdout"
        }
      ]
    },
    {
      "cell_type": "code",
      "metadata": {
        "id": "S6aAMzAMClxC",
        "colab_type": "code",
        "colab": {}
      },
      "source": [
        "%load_ext sql\n",
        "%config SqlMagic.autocommit=False # for engines that do not support autommit"
      ],
      "execution_count": 0,
      "outputs": []
    },
    {
      "cell_type": "code",
      "metadata": {
        "id": "Ji0vd_-lCpei",
        "colab_type": "code",
        "colab": {}
      },
      "source": [
        "import sqlite3"
      ],
      "execution_count": 0,
      "outputs": []
    },
    {
      "cell_type": "code",
      "metadata": {
        "id": "4Gl32WmpCt_R",
        "colab_type": "code",
        "colab": {}
      },
      "source": [
        "import pandasql as ps\n"
      ],
      "execution_count": 0,
      "outputs": []
    },
    {
      "cell_type": "code",
      "metadata": {
        "id": "z2rj_QyowuBL",
        "colab_type": "code",
        "colab": {}
      },
      "source": [
        "import descartes\n",
        "import geopandas as gpd\n",
        "from shapely.geometry import point , polygon"
      ],
      "execution_count": 0,
      "outputs": []
    },
    {
      "cell_type": "code",
      "metadata": {
        "id": "g_Ydxvuz-oq2",
        "colab_type": "code",
        "colab": {}
      },
      "source": [
        "import numpy as np\n",
        "import pandas as pd\n",
        "import matplotlib.pyplot as plt\n",
        "import seaborn as sns\n"
      ],
      "execution_count": 0,
      "outputs": []
    },
    {
      "cell_type": "markdown",
      "metadata": {
        "id": "BcMREfIX7fFf",
        "colab_type": "text"
      },
      "source": [
        ""
      ]
    },
    {
      "cell_type": "code",
      "metadata": {
        "id": "C0V51Zr-G8nE",
        "colab_type": "code",
        "colab": {}
      },
      "source": [
        "from sklearn.model_selection import GridSearchCV, train_test_split\n",
        "from xgboost import XGBRegressor\n",
        "\n",
        "from sklearn.metrics import r2_score\n",
        "from sklearn.metrics import mean_squared_error\n",
        "\n",
        "from sklearn.metrics import accuracy_score\n"
      ],
      "execution_count": 0,
      "outputs": []
    },
    {
      "cell_type": "code",
      "metadata": {
        "id": "ctaqM7khHNd0",
        "colab_type": "code",
        "colab": {}
      },
      "source": [
        "import xgboost\n",
        "import csv as csv\n",
        "from xgboost import plot_importance\n",
        "from matplotlib import pyplot\n",
        "from sklearn.model_selection import cross_val_score,KFold\n",
        "from sklearn.metrics import mean_absolute_error\n",
        "import matplotlib.pyplot as plt\n",
        "from scipy.stats import skew\n",
        "from collections import OrderedDict"
      ],
      "execution_count": 0,
      "outputs": []
    },
    {
      "cell_type": "code",
      "metadata": {
        "id": "h-2jOrmhHVQS",
        "colab_type": "code",
        "outputId": "21d6948d-6266-40c7-991f-8c729f20bd8a",
        "colab": {
          "base_uri": "https://localhost:8080/",
          "height": 77
        }
      },
      "source": [
        "import keras\n",
        "import numpy as np\n",
        "from keras.models import Sequential\n",
        "from keras.layers import Dense\n",
        "from keras.wrappers.scikit_learn import KerasRegressor"
      ],
      "execution_count": 0,
      "outputs": [
        {
          "output_type": "stream",
          "text": [
            "Using TensorFlow backend.\n"
          ],
          "name": "stderr"
        },
        {
          "output_type": "display_data",
          "data": {
            "text/html": [
              "<p style=\"color: red;\">\n",
              "The default version of TensorFlow in Colab will soon switch to TensorFlow 2.x.<br>\n",
              "We recommend you <a href=\"https://www.tensorflow.org/guide/migrate\" target=\"_blank\">upgrade</a> now \n",
              "or ensure your notebook will continue to use TensorFlow 1.x via the <code>%tensorflow_version 1.x</code> magic:\n",
              "<a href=\"https://colab.research.google.com/notebooks/tensorflow_version.ipynb\" target=\"_blank\">more info</a>.</p>\n"
            ],
            "text/plain": [
              "<IPython.core.display.HTML object>"
            ]
          },
          "metadata": {
            "tags": []
          }
        }
      ]
    },
    {
      "cell_type": "code",
      "metadata": {
        "id": "OaL7xM_V9zyW",
        "colab_type": "code",
        "colab": {}
      },
      "source": [
        "from sklearn.preprocessing import LabelEncoder"
      ],
      "execution_count": 0,
      "outputs": []
    },
    {
      "cell_type": "code",
      "metadata": {
        "id": "IWoG57qA92sQ",
        "colab_type": "code",
        "colab": {}
      },
      "source": [
        "from sklearn.model_selection import GridSearchCV, train_test_split\n",
        "from xgboost import XGBRegressor\n",
        "\n",
        "from sklearn.metrics import r2_score\n",
        "from sklearn.metrics import mean_squared_error\n",
        "from sklearn.cluster import KMeans\n"
      ],
      "execution_count": 0,
      "outputs": []
    },
    {
      "cell_type": "code",
      "metadata": {
        "id": "c2o1XiTZkklp",
        "colab_type": "code",
        "colab": {}
      },
      "source": [
        "import pandas as pd\n",
        "from sklearn.decomposition import PCA\n",
        "from sklearn.preprocessing import StandardScaler\n",
        "import seaborn as sns\n",
        "import matplotlib.pyplot as plt\n",
        "from math import sqrt\n",
        "%matplotlib inline"
      ],
      "execution_count": 0,
      "outputs": []
    },
    {
      "cell_type": "code",
      "metadata": {
        "id": "IcjoPRF25nl0",
        "colab_type": "code",
        "colab": {}
      },
      "source": [
        "import math\n",
        "from scipy import stats"
      ],
      "execution_count": 0,
      "outputs": []
    },
    {
      "cell_type": "code",
      "metadata": {
        "id": "vaNFOUW_xdCR",
        "colab_type": "code",
        "colab": {}
      },
      "source": [
        "train = pd.read_csv('/content/drive/My Drive/Dataset (1)/Train.csv')"
      ],
      "execution_count": 0,
      "outputs": []
    },
    {
      "cell_type": "code",
      "metadata": {
        "id": "GUVz_I9e0hVr",
        "colab_type": "code",
        "colab": {}
      },
      "source": [
        "test = pd.read_csv('/content/drive/My Drive/Dataset (1)/Test.csv')"
      ],
      "execution_count": 0,
      "outputs": []
    },
    {
      "cell_type": "code",
      "metadata": {
        "id": "VHVuWiV80wta",
        "colab_type": "code",
        "outputId": "7ae92e4b-5dca-41c1-c7ec-05ade13847e4",
        "colab": {
          "base_uri": "https://localhost:8080/",
          "height": 191
        }
      },
      "source": [
        "train.head()"
      ],
      "execution_count": 0,
      "outputs": [
        {
          "output_type": "execute_result",
          "data": {
            "text/html": [
              "<div>\n",
              "<style scoped>\n",
              "    .dataframe tbody tr th:only-of-type {\n",
              "        vertical-align: middle;\n",
              "    }\n",
              "\n",
              "    .dataframe tbody tr th {\n",
              "        vertical-align: top;\n",
              "    }\n",
              "\n",
              "    .dataframe thead th {\n",
              "        text-align: right;\n",
              "    }\n",
              "</style>\n",
              "<table border=\"1\" class=\"dataframe\">\n",
              "  <thead>\n",
              "    <tr style=\"text-align: right;\">\n",
              "      <th></th>\n",
              "      <th>id</th>\n",
              "      <th>realtionship_status</th>\n",
              "      <th>industry</th>\n",
              "      <th>genre</th>\n",
              "      <th>targeted_sex</th>\n",
              "      <th>average_runtime(minutes_per_week)</th>\n",
              "      <th>airtime</th>\n",
              "      <th>airlocation</th>\n",
              "      <th>ratings</th>\n",
              "      <th>expensive</th>\n",
              "      <th>money_back_guarantee</th>\n",
              "      <th>netgain</th>\n",
              "    </tr>\n",
              "  </thead>\n",
              "  <tbody>\n",
              "    <tr>\n",
              "      <th>0</th>\n",
              "      <td>19717</td>\n",
              "      <td>Married-spouse-absent</td>\n",
              "      <td>Auto</td>\n",
              "      <td>Comedy</td>\n",
              "      <td>Male</td>\n",
              "      <td>45</td>\n",
              "      <td>Primetime</td>\n",
              "      <td>United-States</td>\n",
              "      <td>0.027465</td>\n",
              "      <td>High</td>\n",
              "      <td>No</td>\n",
              "      <td>False</td>\n",
              "    </tr>\n",
              "    <tr>\n",
              "      <th>1</th>\n",
              "      <td>31593</td>\n",
              "      <td>Married-civ-spouse</td>\n",
              "      <td>Pharma</td>\n",
              "      <td>Comedy</td>\n",
              "      <td>Male</td>\n",
              "      <td>45</td>\n",
              "      <td>Primetime</td>\n",
              "      <td>United-States</td>\n",
              "      <td>0.027465</td>\n",
              "      <td>Low</td>\n",
              "      <td>No</td>\n",
              "      <td>False</td>\n",
              "    </tr>\n",
              "    <tr>\n",
              "      <th>2</th>\n",
              "      <td>5681</td>\n",
              "      <td>Divorced</td>\n",
              "      <td>Entertainment</td>\n",
              "      <td>Comedy</td>\n",
              "      <td>Female</td>\n",
              "      <td>45</td>\n",
              "      <td>Primetime</td>\n",
              "      <td>United-States</td>\n",
              "      <td>0.027465</td>\n",
              "      <td>High</td>\n",
              "      <td>Yes</td>\n",
              "      <td>False</td>\n",
              "    </tr>\n",
              "    <tr>\n",
              "      <th>3</th>\n",
              "      <td>15491</td>\n",
              "      <td>Separated</td>\n",
              "      <td>Political</td>\n",
              "      <td>Infomercial</td>\n",
              "      <td>Female</td>\n",
              "      <td>40</td>\n",
              "      <td>Primetime</td>\n",
              "      <td>United-States</td>\n",
              "      <td>0.027465</td>\n",
              "      <td>Low</td>\n",
              "      <td>No</td>\n",
              "      <td>False</td>\n",
              "    </tr>\n",
              "    <tr>\n",
              "      <th>4</th>\n",
              "      <td>23587</td>\n",
              "      <td>Married-civ-spouse</td>\n",
              "      <td>Pharma</td>\n",
              "      <td>Comedy</td>\n",
              "      <td>Male</td>\n",
              "      <td>48</td>\n",
              "      <td>Primetime</td>\n",
              "      <td>United-States</td>\n",
              "      <td>0.027465</td>\n",
              "      <td>High</td>\n",
              "      <td>No</td>\n",
              "      <td>True</td>\n",
              "    </tr>\n",
              "  </tbody>\n",
              "</table>\n",
              "</div>"
            ],
            "text/plain": [
              "      id    realtionship_status  ... money_back_guarantee netgain\n",
              "0  19717  Married-spouse-absent  ...                   No   False\n",
              "1  31593     Married-civ-spouse  ...                   No   False\n",
              "2   5681               Divorced  ...                  Yes   False\n",
              "3  15491              Separated  ...                   No   False\n",
              "4  23587     Married-civ-spouse  ...                   No    True\n",
              "\n",
              "[5 rows x 12 columns]"
            ]
          },
          "metadata": {
            "tags": []
          },
          "execution_count": 17
        }
      ]
    },
    {
      "cell_type": "code",
      "metadata": {
        "id": "xhlldfhn04sZ",
        "colab_type": "code",
        "outputId": "25fcbfc4-fe09-4bd3-f687-3b4fea25dc40",
        "colab": {
          "base_uri": "https://localhost:8080/",
          "height": 191
        }
      },
      "source": [
        "test.head()"
      ],
      "execution_count": 0,
      "outputs": [
        {
          "output_type": "execute_result",
          "data": {
            "text/html": [
              "<div>\n",
              "<style scoped>\n",
              "    .dataframe tbody tr th:only-of-type {\n",
              "        vertical-align: middle;\n",
              "    }\n",
              "\n",
              "    .dataframe tbody tr th {\n",
              "        vertical-align: top;\n",
              "    }\n",
              "\n",
              "    .dataframe thead th {\n",
              "        text-align: right;\n",
              "    }\n",
              "</style>\n",
              "<table border=\"1\" class=\"dataframe\">\n",
              "  <thead>\n",
              "    <tr style=\"text-align: right;\">\n",
              "      <th></th>\n",
              "      <th>id</th>\n",
              "      <th>realtionship_status</th>\n",
              "      <th>industry</th>\n",
              "      <th>genre</th>\n",
              "      <th>targeted_sex</th>\n",
              "      <th>average_runtime(minutes_per_week)</th>\n",
              "      <th>airtime</th>\n",
              "      <th>airlocation</th>\n",
              "      <th>ratings</th>\n",
              "      <th>expensive</th>\n",
              "      <th>money_back_guarantee</th>\n",
              "    </tr>\n",
              "  </thead>\n",
              "  <tbody>\n",
              "    <tr>\n",
              "      <th>0</th>\n",
              "      <td>1</td>\n",
              "      <td>Widowed</td>\n",
              "      <td>Auto</td>\n",
              "      <td>Comedy</td>\n",
              "      <td>Female</td>\n",
              "      <td>10</td>\n",
              "      <td>Daytime</td>\n",
              "      <td>United-States</td>\n",
              "      <td>0.027465</td>\n",
              "      <td>Low</td>\n",
              "      <td>No</td>\n",
              "    </tr>\n",
              "    <tr>\n",
              "      <th>1</th>\n",
              "      <td>4</td>\n",
              "      <td>Married-civ-spouse</td>\n",
              "      <td>Pharma</td>\n",
              "      <td>Comedy</td>\n",
              "      <td>Male</td>\n",
              "      <td>40</td>\n",
              "      <td>Morning</td>\n",
              "      <td>United-States</td>\n",
              "      <td>0.056262</td>\n",
              "      <td>High</td>\n",
              "      <td>Yes</td>\n",
              "    </tr>\n",
              "    <tr>\n",
              "      <th>2</th>\n",
              "      <td>5</td>\n",
              "      <td>Divorced</td>\n",
              "      <td>Entertainment</td>\n",
              "      <td>Comedy</td>\n",
              "      <td>Female</td>\n",
              "      <td>50</td>\n",
              "      <td>Morning</td>\n",
              "      <td>United-States</td>\n",
              "      <td>0.027465</td>\n",
              "      <td>Low</td>\n",
              "      <td>No</td>\n",
              "    </tr>\n",
              "    <tr>\n",
              "      <th>3</th>\n",
              "      <td>9</td>\n",
              "      <td>Married-civ-spouse</td>\n",
              "      <td>Pharma</td>\n",
              "      <td>Infomercial</td>\n",
              "      <td>Male</td>\n",
              "      <td>40</td>\n",
              "      <td>Primetime</td>\n",
              "      <td>United-States</td>\n",
              "      <td>0.027465</td>\n",
              "      <td>Low</td>\n",
              "      <td>No</td>\n",
              "    </tr>\n",
              "    <tr>\n",
              "      <th>4</th>\n",
              "      <td>10</td>\n",
              "      <td>Married-civ-spouse</td>\n",
              "      <td>Pharma</td>\n",
              "      <td>Comedy</td>\n",
              "      <td>Male</td>\n",
              "      <td>40</td>\n",
              "      <td>Primetime</td>\n",
              "      <td>United-States</td>\n",
              "      <td>0.027465</td>\n",
              "      <td>Low</td>\n",
              "      <td>Yes</td>\n",
              "    </tr>\n",
              "  </tbody>\n",
              "</table>\n",
              "</div>"
            ],
            "text/plain": [
              "   id realtionship_status  ... expensive money_back_guarantee\n",
              "0   1             Widowed  ...       Low                   No\n",
              "1   4  Married-civ-spouse  ...      High                  Yes\n",
              "2   5            Divorced  ...       Low                   No\n",
              "3   9  Married-civ-spouse  ...       Low                   No\n",
              "4  10  Married-civ-spouse  ...       Low                  Yes\n",
              "\n",
              "[5 rows x 11 columns]"
            ]
          },
          "metadata": {
            "tags": []
          },
          "execution_count": 18
        }
      ]
    },
    {
      "cell_type": "code",
      "metadata": {
        "id": "oykdj4qb1bst",
        "colab_type": "code",
        "outputId": "8bd44c42-2a72-45ed-8db1-f65fac38cd96",
        "colab": {
          "base_uri": "https://localhost:8080/",
          "height": 131
        }
      },
      "source": [
        "train['industry'].value_counts()"
      ],
      "execution_count": 0,
      "outputs": [
        {
          "output_type": "execute_result",
          "data": {
            "text/plain": [
              "Pharma           10339\n",
              "Auto              6801\n",
              "Political         4014\n",
              "Entertainment     2765\n",
              "Other             1333\n",
              "ClassAction        796\n",
              "Name: industry, dtype: int64"
            ]
          },
          "metadata": {
            "tags": []
          },
          "execution_count": 19
        }
      ]
    },
    {
      "cell_type": "code",
      "metadata": {
        "id": "o8nlmptv1nOL",
        "colab_type": "code",
        "outputId": "03971800-9d60-4263-86c7-041c40d5debf",
        "colab": {
          "base_uri": "https://localhost:8080/",
          "height": 1000
        }
      },
      "source": [
        "for i in list(set(train.columns) - set(['id','ratings','average_runtime(minutes_per_week)'])) :\n",
        "  print (i) \n",
        "  print(np.round(train[i].value_counts() /train[i].count() ,2))\n",
        "  print('----------------------------')"
      ],
      "execution_count": 0,
      "outputs": [
        {
          "output_type": "stream",
          "text": [
            "money_back_guarantee\n",
            "Yes    0.5\n",
            "No     0.5\n",
            "Name: money_back_guarantee, dtype: float64\n",
            "----------------------------\n",
            "airtime\n",
            "Primetime    0.60\n",
            "Morning      0.33\n",
            "Daytime      0.07\n",
            "Name: airtime, dtype: float64\n",
            "----------------------------\n",
            "realtionship_status\n",
            "Married-civ-spouse       0.45\n",
            "Never-married            0.33\n",
            "Divorced                 0.14\n",
            "Widowed                  0.03\n",
            "Separated                0.03\n",
            "Married-spouse-absent    0.01\n",
            "Married-AF-spouse        0.00\n",
            "Name: realtionship_status, dtype: float64\n",
            "----------------------------\n",
            "genre\n",
            "Comedy         0.85\n",
            "Infomercial    0.10\n",
            "Drama          0.03\n",
            "Direct         0.01\n",
            "Other          0.01\n",
            "Name: genre, dtype: float64\n",
            "----------------------------\n",
            "airlocation\n",
            "United-States                 0.89\n",
            "Mexico                        0.02\n",
            "International                 0.02\n",
            "Philippines                   0.01\n",
            "Germany                       0.00\n",
            "Canada                        0.00\n",
            "Cuba                          0.00\n",
            "Puerto-Rico                   0.00\n",
            "El-Salvador                   0.00\n",
            "India                         0.00\n",
            "England                       0.00\n",
            "Italy                         0.00\n",
            "South                         0.00\n",
            "Poland                        0.00\n",
            "Jamaica                       0.00\n",
            "Dominican-Republic            0.00\n",
            "Guatemala                     0.00\n",
            "Vietnam                       0.00\n",
            "Columbia                      0.00\n",
            "Japan                         0.00\n",
            "China                         0.00\n",
            "Taiwan                        0.00\n",
            "Iran                          0.00\n",
            "Haiti                         0.00\n",
            "Ecuador                       0.00\n",
            "Portugal                      0.00\n",
            "Nicaragua                     0.00\n",
            "Peru                          0.00\n",
            "France                        0.00\n",
            "Yugoslavia                    0.00\n",
            "Ireland                       0.00\n",
            "Laos                          0.00\n",
            "Trinadad&Tobago               0.00\n",
            "Cambodia                      0.00\n",
            "Greece                        0.00\n",
            "Honduras                      0.00\n",
            "Hong                          0.00\n",
            "Thailand                      0.00\n",
            "Scotland                      0.00\n",
            "Outlying-US(Guam-USVI-etc)    0.00\n",
            "Hungary                       0.00\n",
            "Holand-Netherlands            0.00\n",
            "Name: airlocation, dtype: float64\n",
            "----------------------------\n",
            "industry\n",
            "Pharma           0.40\n",
            "Auto             0.26\n",
            "Political        0.15\n",
            "Entertainment    0.11\n",
            "Other            0.05\n",
            "ClassAction      0.03\n",
            "Name: industry, dtype: float64\n",
            "----------------------------\n",
            "expensive\n",
            "Low       0.60\n",
            "High      0.28\n",
            "Medium    0.12\n",
            "Name: expensive, dtype: float64\n",
            "----------------------------\n",
            "targeted_sex\n",
            "Male      0.66\n",
            "Female    0.34\n",
            "Name: targeted_sex, dtype: float64\n",
            "----------------------------\n",
            "netgain\n",
            "False    0.76\n",
            "True     0.24\n",
            "Name: netgain, dtype: float64\n",
            "----------------------------\n"
          ],
          "name": "stdout"
        }
      ]
    },
    {
      "cell_type": "code",
      "metadata": {
        "id": "D3Az0sXA7-fs",
        "colab_type": "code",
        "outputId": "ec295baa-2dd2-4226-9fce-915650b4b8eb",
        "colab": {
          "base_uri": "https://localhost:8080/",
          "height": 277
        }
      },
      "source": [
        "train.loc[:,['average_runtime(minutes_per_week)','ratings']].describe()"
      ],
      "execution_count": 0,
      "outputs": [
        {
          "output_type": "execute_result",
          "data": {
            "text/html": [
              "<div>\n",
              "<style scoped>\n",
              "    .dataframe tbody tr th:only-of-type {\n",
              "        vertical-align: middle;\n",
              "    }\n",
              "\n",
              "    .dataframe tbody tr th {\n",
              "        vertical-align: top;\n",
              "    }\n",
              "\n",
              "    .dataframe thead th {\n",
              "        text-align: right;\n",
              "    }\n",
              "</style>\n",
              "<table border=\"1\" class=\"dataframe\">\n",
              "  <thead>\n",
              "    <tr style=\"text-align: right;\">\n",
              "      <th></th>\n",
              "      <th>average_runtime(minutes_per_week)</th>\n",
              "      <th>ratings</th>\n",
              "    </tr>\n",
              "  </thead>\n",
              "  <tbody>\n",
              "    <tr>\n",
              "      <th>count</th>\n",
              "      <td>26048.000000</td>\n",
              "      <td>26048.000000</td>\n",
              "    </tr>\n",
              "    <tr>\n",
              "      <th>mean</th>\n",
              "      <td>40.294111</td>\n",
              "      <td>0.038716</td>\n",
              "    </tr>\n",
              "    <tr>\n",
              "      <th>std</th>\n",
              "      <td>12.479457</td>\n",
              "      <td>0.075852</td>\n",
              "    </tr>\n",
              "    <tr>\n",
              "      <th>min</th>\n",
              "      <td>1.000000</td>\n",
              "      <td>0.000000</td>\n",
              "    </tr>\n",
              "    <tr>\n",
              "      <th>25%</th>\n",
              "      <td>40.000000</td>\n",
              "      <td>0.027465</td>\n",
              "    </tr>\n",
              "    <tr>\n",
              "      <th>50%</th>\n",
              "      <td>40.000000</td>\n",
              "      <td>0.027465</td>\n",
              "    </tr>\n",
              "    <tr>\n",
              "      <th>75%</th>\n",
              "      <td>45.000000</td>\n",
              "      <td>0.027465</td>\n",
              "    </tr>\n",
              "    <tr>\n",
              "      <th>max</th>\n",
              "      <td>99.000000</td>\n",
              "      <td>1.000000</td>\n",
              "    </tr>\n",
              "  </tbody>\n",
              "</table>\n",
              "</div>"
            ],
            "text/plain": [
              "       average_runtime(minutes_per_week)       ratings\n",
              "count                       26048.000000  26048.000000\n",
              "mean                           40.294111      0.038716\n",
              "std                            12.479457      0.075852\n",
              "min                             1.000000      0.000000\n",
              "25%                            40.000000      0.027465\n",
              "50%                            40.000000      0.027465\n",
              "75%                            45.000000      0.027465\n",
              "max                            99.000000      1.000000"
            ]
          },
          "metadata": {
            "tags": []
          },
          "execution_count": 21
        }
      ]
    },
    {
      "cell_type": "code",
      "metadata": {
        "id": "1sGKIAt6865J",
        "colab_type": "code",
        "outputId": "5d094b41-294a-4740-b1b0-8a15c6cc8a74",
        "colab": {
          "base_uri": "https://localhost:8080/",
          "height": 293
        }
      },
      "source": [
        "train.info()"
      ],
      "execution_count": 0,
      "outputs": [
        {
          "output_type": "stream",
          "text": [
            "<class 'pandas.core.frame.DataFrame'>\n",
            "RangeIndex: 26048 entries, 0 to 26047\n",
            "Data columns (total 12 columns):\n",
            "id                                   26048 non-null int64\n",
            "realtionship_status                  26048 non-null object\n",
            "industry                             26048 non-null object\n",
            "genre                                26048 non-null object\n",
            "targeted_sex                         26048 non-null object\n",
            "average_runtime(minutes_per_week)    26048 non-null int64\n",
            "airtime                              26048 non-null object\n",
            "airlocation                          26048 non-null object\n",
            "ratings                              26048 non-null float64\n",
            "expensive                            26048 non-null object\n",
            "money_back_guarantee                 26048 non-null object\n",
            "netgain                              26048 non-null bool\n",
            "dtypes: bool(1), float64(1), int64(2), object(8)\n",
            "memory usage: 2.2+ MB\n"
          ],
          "name": "stdout"
        }
      ]
    },
    {
      "cell_type": "code",
      "metadata": {
        "id": "RbZJq1BJ87bP",
        "colab_type": "code",
        "colab": {}
      },
      "source": [
        "train_1=pd.get_dummies(train , columns=['realtionship_status','industry','genre','targeted_sex','airtime','expensive','money_back_guarantee'])"
      ],
      "execution_count": 0,
      "outputs": []
    },
    {
      "cell_type": "code",
      "metadata": {
        "id": "VhDVr0fo87h_",
        "colab_type": "code",
        "colab": {}
      },
      "source": [
        "train_1['loc_us']=np.where(train_1['airlocation']=='United-States',1,0)"
      ],
      "execution_count": 0,
      "outputs": []
    },
    {
      "cell_type": "code",
      "metadata": {
        "id": "qyw6DrFb87m4",
        "colab_type": "code",
        "outputId": "1ab891f2-ceb9-45ae-b1f2-440348e67d13",
        "colab": {
          "base_uri": "https://localhost:8080/",
          "height": 227
        }
      },
      "source": [
        "train_1.head()"
      ],
      "execution_count": 0,
      "outputs": [
        {
          "output_type": "execute_result",
          "data": {
            "text/html": [
              "<div>\n",
              "<style scoped>\n",
              "    .dataframe tbody tr th:only-of-type {\n",
              "        vertical-align: middle;\n",
              "    }\n",
              "\n",
              "    .dataframe tbody tr th {\n",
              "        vertical-align: top;\n",
              "    }\n",
              "\n",
              "    .dataframe thead th {\n",
              "        text-align: right;\n",
              "    }\n",
              "</style>\n",
              "<table border=\"1\" class=\"dataframe\">\n",
              "  <thead>\n",
              "    <tr style=\"text-align: right;\">\n",
              "      <th></th>\n",
              "      <th>id</th>\n",
              "      <th>average_runtime(minutes_per_week)</th>\n",
              "      <th>airlocation</th>\n",
              "      <th>ratings</th>\n",
              "      <th>netgain</th>\n",
              "      <th>realtionship_status_Divorced</th>\n",
              "      <th>realtionship_status_Married-AF-spouse</th>\n",
              "      <th>realtionship_status_Married-civ-spouse</th>\n",
              "      <th>realtionship_status_Married-spouse-absent</th>\n",
              "      <th>realtionship_status_Never-married</th>\n",
              "      <th>realtionship_status_Separated</th>\n",
              "      <th>realtionship_status_Widowed</th>\n",
              "      <th>industry_Auto</th>\n",
              "      <th>industry_ClassAction</th>\n",
              "      <th>industry_Entertainment</th>\n",
              "      <th>industry_Other</th>\n",
              "      <th>industry_Pharma</th>\n",
              "      <th>industry_Political</th>\n",
              "      <th>genre_Comedy</th>\n",
              "      <th>genre_Direct</th>\n",
              "      <th>genre_Drama</th>\n",
              "      <th>genre_Infomercial</th>\n",
              "      <th>genre_Other</th>\n",
              "      <th>targeted_sex_Female</th>\n",
              "      <th>targeted_sex_Male</th>\n",
              "      <th>airtime_Daytime</th>\n",
              "      <th>airtime_Morning</th>\n",
              "      <th>airtime_Primetime</th>\n",
              "      <th>expensive_High</th>\n",
              "      <th>expensive_Low</th>\n",
              "      <th>expensive_Medium</th>\n",
              "      <th>money_back_guarantee_No</th>\n",
              "      <th>money_back_guarantee_Yes</th>\n",
              "      <th>loc_us</th>\n",
              "    </tr>\n",
              "  </thead>\n",
              "  <tbody>\n",
              "    <tr>\n",
              "      <th>0</th>\n",
              "      <td>19717</td>\n",
              "      <td>45</td>\n",
              "      <td>United-States</td>\n",
              "      <td>0.027465</td>\n",
              "      <td>False</td>\n",
              "      <td>0</td>\n",
              "      <td>0</td>\n",
              "      <td>0</td>\n",
              "      <td>1</td>\n",
              "      <td>0</td>\n",
              "      <td>0</td>\n",
              "      <td>0</td>\n",
              "      <td>1</td>\n",
              "      <td>0</td>\n",
              "      <td>0</td>\n",
              "      <td>0</td>\n",
              "      <td>0</td>\n",
              "      <td>0</td>\n",
              "      <td>1</td>\n",
              "      <td>0</td>\n",
              "      <td>0</td>\n",
              "      <td>0</td>\n",
              "      <td>0</td>\n",
              "      <td>0</td>\n",
              "      <td>1</td>\n",
              "      <td>0</td>\n",
              "      <td>0</td>\n",
              "      <td>1</td>\n",
              "      <td>1</td>\n",
              "      <td>0</td>\n",
              "      <td>0</td>\n",
              "      <td>1</td>\n",
              "      <td>0</td>\n",
              "      <td>1</td>\n",
              "    </tr>\n",
              "    <tr>\n",
              "      <th>1</th>\n",
              "      <td>31593</td>\n",
              "      <td>45</td>\n",
              "      <td>United-States</td>\n",
              "      <td>0.027465</td>\n",
              "      <td>False</td>\n",
              "      <td>0</td>\n",
              "      <td>0</td>\n",
              "      <td>1</td>\n",
              "      <td>0</td>\n",
              "      <td>0</td>\n",
              "      <td>0</td>\n",
              "      <td>0</td>\n",
              "      <td>0</td>\n",
              "      <td>0</td>\n",
              "      <td>0</td>\n",
              "      <td>0</td>\n",
              "      <td>1</td>\n",
              "      <td>0</td>\n",
              "      <td>1</td>\n",
              "      <td>0</td>\n",
              "      <td>0</td>\n",
              "      <td>0</td>\n",
              "      <td>0</td>\n",
              "      <td>0</td>\n",
              "      <td>1</td>\n",
              "      <td>0</td>\n",
              "      <td>0</td>\n",
              "      <td>1</td>\n",
              "      <td>0</td>\n",
              "      <td>1</td>\n",
              "      <td>0</td>\n",
              "      <td>1</td>\n",
              "      <td>0</td>\n",
              "      <td>1</td>\n",
              "    </tr>\n",
              "    <tr>\n",
              "      <th>2</th>\n",
              "      <td>5681</td>\n",
              "      <td>45</td>\n",
              "      <td>United-States</td>\n",
              "      <td>0.027465</td>\n",
              "      <td>False</td>\n",
              "      <td>1</td>\n",
              "      <td>0</td>\n",
              "      <td>0</td>\n",
              "      <td>0</td>\n",
              "      <td>0</td>\n",
              "      <td>0</td>\n",
              "      <td>0</td>\n",
              "      <td>0</td>\n",
              "      <td>0</td>\n",
              "      <td>1</td>\n",
              "      <td>0</td>\n",
              "      <td>0</td>\n",
              "      <td>0</td>\n",
              "      <td>1</td>\n",
              "      <td>0</td>\n",
              "      <td>0</td>\n",
              "      <td>0</td>\n",
              "      <td>0</td>\n",
              "      <td>1</td>\n",
              "      <td>0</td>\n",
              "      <td>0</td>\n",
              "      <td>0</td>\n",
              "      <td>1</td>\n",
              "      <td>1</td>\n",
              "      <td>0</td>\n",
              "      <td>0</td>\n",
              "      <td>0</td>\n",
              "      <td>1</td>\n",
              "      <td>1</td>\n",
              "    </tr>\n",
              "    <tr>\n",
              "      <th>3</th>\n",
              "      <td>15491</td>\n",
              "      <td>40</td>\n",
              "      <td>United-States</td>\n",
              "      <td>0.027465</td>\n",
              "      <td>False</td>\n",
              "      <td>0</td>\n",
              "      <td>0</td>\n",
              "      <td>0</td>\n",
              "      <td>0</td>\n",
              "      <td>0</td>\n",
              "      <td>1</td>\n",
              "      <td>0</td>\n",
              "      <td>0</td>\n",
              "      <td>0</td>\n",
              "      <td>0</td>\n",
              "      <td>0</td>\n",
              "      <td>0</td>\n",
              "      <td>1</td>\n",
              "      <td>0</td>\n",
              "      <td>0</td>\n",
              "      <td>0</td>\n",
              "      <td>1</td>\n",
              "      <td>0</td>\n",
              "      <td>1</td>\n",
              "      <td>0</td>\n",
              "      <td>0</td>\n",
              "      <td>0</td>\n",
              "      <td>1</td>\n",
              "      <td>0</td>\n",
              "      <td>1</td>\n",
              "      <td>0</td>\n",
              "      <td>1</td>\n",
              "      <td>0</td>\n",
              "      <td>1</td>\n",
              "    </tr>\n",
              "    <tr>\n",
              "      <th>4</th>\n",
              "      <td>23587</td>\n",
              "      <td>48</td>\n",
              "      <td>United-States</td>\n",
              "      <td>0.027465</td>\n",
              "      <td>True</td>\n",
              "      <td>0</td>\n",
              "      <td>0</td>\n",
              "      <td>1</td>\n",
              "      <td>0</td>\n",
              "      <td>0</td>\n",
              "      <td>0</td>\n",
              "      <td>0</td>\n",
              "      <td>0</td>\n",
              "      <td>0</td>\n",
              "      <td>0</td>\n",
              "      <td>0</td>\n",
              "      <td>1</td>\n",
              "      <td>0</td>\n",
              "      <td>1</td>\n",
              "      <td>0</td>\n",
              "      <td>0</td>\n",
              "      <td>0</td>\n",
              "      <td>0</td>\n",
              "      <td>0</td>\n",
              "      <td>1</td>\n",
              "      <td>0</td>\n",
              "      <td>0</td>\n",
              "      <td>1</td>\n",
              "      <td>1</td>\n",
              "      <td>0</td>\n",
              "      <td>0</td>\n",
              "      <td>1</td>\n",
              "      <td>0</td>\n",
              "      <td>1</td>\n",
              "    </tr>\n",
              "  </tbody>\n",
              "</table>\n",
              "</div>"
            ],
            "text/plain": [
              "      id  average_runtime(minutes_per_week)  ... money_back_guarantee_Yes  loc_us\n",
              "0  19717                                 45  ...                        0       1\n",
              "1  31593                                 45  ...                        0       1\n",
              "2   5681                                 45  ...                        1       1\n",
              "3  15491                                 40  ...                        0       1\n",
              "4  23587                                 48  ...                        0       1\n",
              "\n",
              "[5 rows x 34 columns]"
            ]
          },
          "metadata": {
            "tags": []
          },
          "execution_count": 25
        }
      ]
    },
    {
      "cell_type": "code",
      "metadata": {
        "id": "Lw3_9Kwf87qv",
        "colab_type": "code",
        "outputId": "3b94a2f8-2cb7-44b0-fa94-a1f4c6bd6d7a",
        "colab": {
          "base_uri": "https://localhost:8080/",
          "height": 651
        }
      },
      "source": [
        "train_1.info()"
      ],
      "execution_count": 0,
      "outputs": [
        {
          "output_type": "stream",
          "text": [
            "<class 'pandas.core.frame.DataFrame'>\n",
            "RangeIndex: 26048 entries, 0 to 26047\n",
            "Data columns (total 34 columns):\n",
            "id                                           26048 non-null int64\n",
            "average_runtime(minutes_per_week)            26048 non-null int64\n",
            "airlocation                                  26048 non-null object\n",
            "ratings                                      26048 non-null float64\n",
            "netgain                                      26048 non-null bool\n",
            "realtionship_status_Divorced                 26048 non-null uint8\n",
            "realtionship_status_Married-AF-spouse        26048 non-null uint8\n",
            "realtionship_status_Married-civ-spouse       26048 non-null uint8\n",
            "realtionship_status_Married-spouse-absent    26048 non-null uint8\n",
            "realtionship_status_Never-married            26048 non-null uint8\n",
            "realtionship_status_Separated                26048 non-null uint8\n",
            "realtionship_status_Widowed                  26048 non-null uint8\n",
            "industry_Auto                                26048 non-null uint8\n",
            "industry_ClassAction                         26048 non-null uint8\n",
            "industry_Entertainment                       26048 non-null uint8\n",
            "industry_Other                               26048 non-null uint8\n",
            "industry_Pharma                              26048 non-null uint8\n",
            "industry_Political                           26048 non-null uint8\n",
            "genre_Comedy                                 26048 non-null uint8\n",
            "genre_Direct                                 26048 non-null uint8\n",
            "genre_Drama                                  26048 non-null uint8\n",
            "genre_Infomercial                            26048 non-null uint8\n",
            "genre_Other                                  26048 non-null uint8\n",
            "targeted_sex_Female                          26048 non-null uint8\n",
            "targeted_sex_Male                            26048 non-null uint8\n",
            "airtime_Daytime                              26048 non-null uint8\n",
            "airtime_Morning                              26048 non-null uint8\n",
            "airtime_Primetime                            26048 non-null uint8\n",
            "expensive_High                               26048 non-null uint8\n",
            "expensive_Low                                26048 non-null uint8\n",
            "expensive_Medium                             26048 non-null uint8\n",
            "money_back_guarantee_No                      26048 non-null uint8\n",
            "money_back_guarantee_Yes                     26048 non-null uint8\n",
            "loc_us                                       26048 non-null int64\n",
            "dtypes: bool(1), float64(1), int64(3), object(1), uint8(28)\n",
            "memory usage: 1.7+ MB\n"
          ],
          "name": "stdout"
        }
      ]
    },
    {
      "cell_type": "code",
      "metadata": {
        "id": "E8c5xsg887un",
        "colab_type": "code",
        "colab": {}
      },
      "source": [
        "train_1.drop(columns=['airlocation'],inplace=True)"
      ],
      "execution_count": 0,
      "outputs": []
    },
    {
      "cell_type": "code",
      "metadata": {
        "id": "2Bu7qLox87yH",
        "colab_type": "code",
        "colab": {}
      },
      "source": [
        "x_train=train_1.drop(columns=['netgain'])"
      ],
      "execution_count": 0,
      "outputs": []
    },
    {
      "cell_type": "code",
      "metadata": {
        "id": "u6ePjDVbLyPM",
        "colab_type": "code",
        "colab": {}
      },
      "source": [
        "y_train=np.where(train_1['netgain']==True , 1 ,0)"
      ],
      "execution_count": 0,
      "outputs": []
    },
    {
      "cell_type": "code",
      "metadata": {
        "id": "RsT-bAz3Pg7m",
        "colab_type": "code",
        "outputId": "e352b21c-47f6-47a8-cd5f-2e718d8a71d0",
        "colab": {
          "base_uri": "https://localhost:8080/",
          "height": 66
        }
      },
      "source": [
        "pd.Series(y_train).value_counts()"
      ],
      "execution_count": 0,
      "outputs": [
        {
          "output_type": "execute_result",
          "data": {
            "text/plain": [
              "0    19853\n",
              "1     6195\n",
              "dtype: int64"
            ]
          },
          "metadata": {
            "tags": []
          },
          "execution_count": 30
        }
      ]
    },
    {
      "cell_type": "code",
      "metadata": {
        "id": "1wtXXuE3MQ5d",
        "colab_type": "code",
        "colab": {}
      },
      "source": [
        "# Organize our data for training\n",
        "X = x_train\n",
        "Y = y_train\n",
        "X, X_Val, Y, Y_Val = train_test_split(X, Y , train_size =0.7 , shuffle=True)"
      ],
      "execution_count": 0,
      "outputs": []
    },
    {
      "cell_type": "code",
      "metadata": {
        "id": "mh3mDVYpMbBb",
        "colab_type": "code",
        "outputId": "5c592d23-433e-4f96-b3f7-ccc026125361",
        "colab": {
          "base_uri": "https://localhost:8080/",
          "height": 830
        }
      },
      "source": [
        "import keras\n",
        "import numpy as np\n",
        "from keras.models import Sequential\n",
        "from keras.layers import Dense\n",
        "from keras.layers import Dropout\n",
        "\n",
        "from keras.wrappers.scikit_learn import KerasRegressor\n",
        "\n",
        "\n",
        "\n",
        "# Model\n",
        "model = Sequential()\n",
        "model.add(Dense(512, input_dim=32, activation='relu'))\n",
        "model.add(Dense(256, activation='relu'))\n",
        "model.add(Dense(128,  activation='relu'))\n",
        "model.add(Dense(64,  activation='relu'))\n",
        "model.add(Dense(16,  activation='relu'))\n",
        "model.add(Dense(1,  activation='sigmoid'))\n",
        "# Compile model\n",
        "model.compile(loss='binary_crossentropy', optimizer='adam' , metrics=['accuracy'])\n",
        "\n",
        "\n",
        "model.fit(np.array(X), np.array(Y), epochs=10, batch_size=10)"
      ],
      "execution_count": 0,
      "outputs": [
        {
          "output_type": "stream",
          "text": [
            "WARNING:tensorflow:From /usr/local/lib/python3.6/dist-packages/keras/backend/tensorflow_backend.py:66: The name tf.get_default_graph is deprecated. Please use tf.compat.v1.get_default_graph instead.\n",
            "\n",
            "WARNING:tensorflow:From /usr/local/lib/python3.6/dist-packages/keras/backend/tensorflow_backend.py:541: The name tf.placeholder is deprecated. Please use tf.compat.v1.placeholder instead.\n",
            "\n",
            "WARNING:tensorflow:From /usr/local/lib/python3.6/dist-packages/keras/backend/tensorflow_backend.py:4432: The name tf.random_uniform is deprecated. Please use tf.random.uniform instead.\n",
            "\n",
            "WARNING:tensorflow:From /usr/local/lib/python3.6/dist-packages/keras/optimizers.py:793: The name tf.train.Optimizer is deprecated. Please use tf.compat.v1.train.Optimizer instead.\n",
            "\n",
            "WARNING:tensorflow:From /usr/local/lib/python3.6/dist-packages/keras/backend/tensorflow_backend.py:3657: The name tf.log is deprecated. Please use tf.math.log instead.\n",
            "\n",
            "WARNING:tensorflow:From /usr/local/lib/python3.6/dist-packages/tensorflow_core/python/ops/nn_impl.py:183: where (from tensorflow.python.ops.array_ops) is deprecated and will be removed in a future version.\n",
            "Instructions for updating:\n",
            "Use tf.where in 2.0, which has the same broadcast rule as np.where\n",
            "WARNING:tensorflow:From /usr/local/lib/python3.6/dist-packages/keras/backend/tensorflow_backend.py:1033: The name tf.assign_add is deprecated. Please use tf.compat.v1.assign_add instead.\n",
            "\n",
            "WARNING:tensorflow:From /usr/local/lib/python3.6/dist-packages/keras/backend/tensorflow_backend.py:1020: The name tf.assign is deprecated. Please use tf.compat.v1.assign instead.\n",
            "\n",
            "WARNING:tensorflow:From /usr/local/lib/python3.6/dist-packages/keras/backend/tensorflow_backend.py:3005: The name tf.Session is deprecated. Please use tf.compat.v1.Session instead.\n",
            "\n",
            "Epoch 1/10\n",
            "WARNING:tensorflow:From /usr/local/lib/python3.6/dist-packages/keras/backend/tensorflow_backend.py:190: The name tf.get_default_session is deprecated. Please use tf.compat.v1.get_default_session instead.\n",
            "\n",
            "WARNING:tensorflow:From /usr/local/lib/python3.6/dist-packages/keras/backend/tensorflow_backend.py:197: The name tf.ConfigProto is deprecated. Please use tf.compat.v1.ConfigProto instead.\n",
            "\n",
            "WARNING:tensorflow:From /usr/local/lib/python3.6/dist-packages/keras/backend/tensorflow_backend.py:207: The name tf.global_variables is deprecated. Please use tf.compat.v1.global_variables instead.\n",
            "\n",
            "WARNING:tensorflow:From /usr/local/lib/python3.6/dist-packages/keras/backend/tensorflow_backend.py:216: The name tf.is_variable_initialized is deprecated. Please use tf.compat.v1.is_variable_initialized instead.\n",
            "\n",
            "WARNING:tensorflow:From /usr/local/lib/python3.6/dist-packages/keras/backend/tensorflow_backend.py:223: The name tf.variables_initializer is deprecated. Please use tf.compat.v1.variables_initializer instead.\n",
            "\n",
            "18233/18233 [==============================] - 10s 523us/step - loss: 4.1642 - acc: 0.7412\n",
            "Epoch 2/10\n",
            "18233/18233 [==============================] - 9s 478us/step - loss: 4.9075 - acc: 0.6943\n",
            "Epoch 3/10\n",
            "18233/18233 [==============================] - 9s 481us/step - loss: 3.8498 - acc: 0.7611\n",
            "Epoch 4/10\n",
            "18233/18233 [==============================] - 9s 490us/step - loss: 3.8498 - acc: 0.7611\n",
            "Epoch 5/10\n",
            "18233/18233 [==============================] - 9s 491us/step - loss: 3.8498 - acc: 0.7611\n",
            "Epoch 6/10\n",
            "18233/18233 [==============================] - 9s 486us/step - loss: 3.8498 - acc: 0.7611\n",
            "Epoch 7/10\n",
            "18233/18233 [==============================] - 9s 477us/step - loss: 3.8498 - acc: 0.7611\n",
            "Epoch 8/10\n",
            "18233/18233 [==============================] - 9s 497us/step - loss: 3.8498 - acc: 0.7611\n",
            "Epoch 9/10\n",
            "18233/18233 [==============================] - 9s 482us/step - loss: 3.8498 - acc: 0.7611\n",
            "Epoch 10/10\n",
            "18233/18233 [==============================] - 9s 487us/step - loss: 3.8498 - acc: 0.7611\n"
          ],
          "name": "stdout"
        },
        {
          "output_type": "execute_result",
          "data": {
            "text/plain": [
              "<keras.callbacks.History at 0x7f2663f73b00>"
            ]
          },
          "metadata": {
            "tags": []
          },
          "execution_count": 32
        }
      ]
    },
    {
      "cell_type": "code",
      "metadata": {
        "id": "Gl7vhE1HOSTU",
        "colab_type": "code",
        "outputId": "f2c4b6af-43a5-4272-e006-51d7210164e2",
        "colab": {
          "base_uri": "https://localhost:8080/",
          "height": 33
        }
      },
      "source": [
        "Y_Val"
      ],
      "execution_count": 0,
      "outputs": [
        {
          "output_type": "execute_result",
          "data": {
            "text/plain": [
              "array([1, 1, 1, ..., 0, 0, 0])"
            ]
          },
          "metadata": {
            "tags": []
          },
          "execution_count": 33
        }
      ]
    },
    {
      "cell_type": "code",
      "metadata": {
        "id": "0rwu7wtfzW1b",
        "colab_type": "code",
        "colab": {}
      },
      "source": [
        "pred_3 = model.predict(np.array(X_Val))\n"
      ],
      "execution_count": 0,
      "outputs": []
    },
    {
      "cell_type": "code",
      "metadata": {
        "id": "0gTK9daUVPtI",
        "colab_type": "code",
        "colab": {}
      },
      "source": [
        "pred_3= pred_3.reshape(-1)"
      ],
      "execution_count": 0,
      "outputs": []
    },
    {
      "cell_type": "code",
      "metadata": {
        "id": "5AuyZksGYqxp",
        "colab_type": "code",
        "outputId": "b30363bf-3289-466a-9cf1-b9b22058afa5",
        "colab": {
          "base_uri": "https://localhost:8080/",
          "height": 82
        }
      },
      "source": [
        "pd.Series(pred_3).value_counts()"
      ],
      "execution_count": 0,
      "outputs": [
        {
          "output_type": "execute_result",
          "data": {
            "text/plain": [
              "0.000000    7813\n",
              "0.000064       1\n",
              "0.000404       1\n",
              "dtype: int64"
            ]
          },
          "metadata": {
            "tags": []
          },
          "execution_count": 36
        }
      ]
    },
    {
      "cell_type": "code",
      "metadata": {
        "id": "QoF4bbCmbA-h",
        "colab_type": "code",
        "colab": {}
      },
      "source": [
        "pred_3=np.where(pred_3>0,1,0)"
      ],
      "execution_count": 0,
      "outputs": []
    },
    {
      "cell_type": "code",
      "metadata": {
        "id": "XRMyPXqKbNKB",
        "colab_type": "code",
        "outputId": "9d919811-16a1-49ec-9884-ba2744db8935",
        "colab": {
          "base_uri": "https://localhost:8080/",
          "height": 66
        }
      },
      "source": [
        "pd.Series(pred_3).value_counts()"
      ],
      "execution_count": 0,
      "outputs": [
        {
          "output_type": "execute_result",
          "data": {
            "text/plain": [
              "0    7813\n",
              "1       2\n",
              "dtype: int64"
            ]
          },
          "metadata": {
            "tags": []
          },
          "execution_count": 38
        }
      ]
    },
    {
      "cell_type": "code",
      "metadata": {
        "id": "2jSyRUDlX20B",
        "colab_type": "code",
        "outputId": "14d9dfc7-91af-4d1d-9a94-839469ce5e62",
        "colab": {
          "base_uri": "https://localhost:8080/",
          "height": 33
        }
      },
      "source": [
        "pred_3"
      ],
      "execution_count": 0,
      "outputs": [
        {
          "output_type": "execute_result",
          "data": {
            "text/plain": [
              "array([0, 0, 0, ..., 0, 0, 0])"
            ]
          },
          "metadata": {
            "tags": []
          },
          "execution_count": 39
        }
      ]
    },
    {
      "cell_type": "code",
      "metadata": {
        "id": "xe71o3jzN62v",
        "colab_type": "code",
        "outputId": "ab9ac014-1289-4d5b-b879-cd9dc3f281ae",
        "colab": {
          "base_uri": "https://localhost:8080/",
          "height": 66
        }
      },
      "source": [
        "pd.Series(Y).value_counts()"
      ],
      "execution_count": 0,
      "outputs": [
        {
          "output_type": "execute_result",
          "data": {
            "text/plain": [
              "0    13878\n",
              "1     4355\n",
              "dtype: int64"
            ]
          },
          "metadata": {
            "tags": []
          },
          "execution_count": 40
        }
      ]
    },
    {
      "cell_type": "code",
      "metadata": {
        "id": "vDfXxOhh2PvF",
        "colab_type": "code",
        "colab": {}
      },
      "source": [
        ""
      ],
      "execution_count": 0,
      "outputs": []
    },
    {
      "cell_type": "code",
      "metadata": {
        "id": "i0m-zmu10Ica",
        "colab_type": "code",
        "outputId": "938392c9-6986-4feb-ab4b-65cbcea12fff",
        "colab": {
          "base_uri": "https://localhost:8080/",
          "height": 33
        }
      },
      "source": [
        "\n",
        "# Print the mse score\n",
        "print(accuracy_score(Y_Val,pred_3)) "
      ],
      "execution_count": 0,
      "outputs": [
        {
          "output_type": "stream",
          "text": [
            "0.7645553422904671\n"
          ],
          "name": "stdout"
        }
      ]
    },
    {
      "cell_type": "code",
      "metadata": {
        "id": "SXNMkEA1U-D_",
        "colab_type": "code",
        "outputId": "7502019b-6388-4bcd-97e5-c6a64dc0653c",
        "colab": {
          "base_uri": "https://localhost:8080/",
          "height": 66
        }
      },
      "source": [
        "pd.Series(Y_Val).value_counts()"
      ],
      "execution_count": 0,
      "outputs": [
        {
          "output_type": "execute_result",
          "data": {
            "text/plain": [
              "0    5975\n",
              "1    1840\n",
              "dtype: int64"
            ]
          },
          "metadata": {
            "tags": []
          },
          "execution_count": 42
        }
      ]
    },
    {
      "cell_type": "code",
      "metadata": {
        "id": "cs_P-C4PT1YQ",
        "colab_type": "code",
        "outputId": "e96adecb-d46c-4439-cd71-e526eeec758f",
        "colab": {
          "base_uri": "https://localhost:8080/",
          "height": 66
        }
      },
      "source": [
        "pd.Series(pred_3.reshape(-1)).value_counts()"
      ],
      "execution_count": 0,
      "outputs": [
        {
          "output_type": "execute_result",
          "data": {
            "text/plain": [
              "0    7813\n",
              "1       2\n",
              "dtype: int64"
            ]
          },
          "metadata": {
            "tags": []
          },
          "execution_count": 43
        }
      ]
    },
    {
      "cell_type": "code",
      "metadata": {
        "id": "ovV_DBrqUtJ_",
        "colab_type": "code",
        "outputId": "0534ab2c-15a3-4d99-ebc5-304a2b402d64",
        "colab": {
          "base_uri": "https://localhost:8080/",
          "height": 66
        }
      },
      "source": [
        "pd.Series(Y).value_counts()"
      ],
      "execution_count": 0,
      "outputs": [
        {
          "output_type": "execute_result",
          "data": {
            "text/plain": [
              "0    13878\n",
              "1     4355\n",
              "dtype: int64"
            ]
          },
          "metadata": {
            "tags": []
          },
          "execution_count": 44
        }
      ]
    },
    {
      "cell_type": "code",
      "metadata": {
        "id": "bLkmBfeoeCyL",
        "colab_type": "code",
        "colab": {}
      },
      "source": [
        ""
      ],
      "execution_count": 0,
      "outputs": []
    },
    {
      "cell_type": "code",
      "metadata": {
        "colab_type": "code",
        "id": "g8zpRyoleC_5",
        "colab": {}
      },
      "source": [
        "test_1=pd.get_dummies(test , columns=['realtionship_status','industry','genre','targeted_sex','airtime','expensive','money_back_guarantee'])"
      ],
      "execution_count": 0,
      "outputs": []
    },
    {
      "cell_type": "code",
      "metadata": {
        "colab_type": "code",
        "id": "bWQtjFv6eC_8",
        "colab": {}
      },
      "source": [
        "test_1['loc_us']=np.where(test_1['airlocation']=='United-States',1,0)"
      ],
      "execution_count": 0,
      "outputs": []
    },
    {
      "cell_type": "code",
      "metadata": {
        "colab_type": "code",
        "id": "NNc-i_P-eC_-",
        "outputId": "a0e487b5-7cc3-4451-b137-85517a2c49eb",
        "colab": {
          "base_uri": "https://localhost:8080/",
          "height": 227
        }
      },
      "source": [
        "test_1.head()"
      ],
      "execution_count": 0,
      "outputs": [
        {
          "output_type": "execute_result",
          "data": {
            "text/html": [
              "<div>\n",
              "<style scoped>\n",
              "    .dataframe tbody tr th:only-of-type {\n",
              "        vertical-align: middle;\n",
              "    }\n",
              "\n",
              "    .dataframe tbody tr th {\n",
              "        vertical-align: top;\n",
              "    }\n",
              "\n",
              "    .dataframe thead th {\n",
              "        text-align: right;\n",
              "    }\n",
              "</style>\n",
              "<table border=\"1\" class=\"dataframe\">\n",
              "  <thead>\n",
              "    <tr style=\"text-align: right;\">\n",
              "      <th></th>\n",
              "      <th>id</th>\n",
              "      <th>average_runtime(minutes_per_week)</th>\n",
              "      <th>airlocation</th>\n",
              "      <th>ratings</th>\n",
              "      <th>realtionship_status_Divorced</th>\n",
              "      <th>realtionship_status_Married-AF-spouse</th>\n",
              "      <th>realtionship_status_Married-civ-spouse</th>\n",
              "      <th>realtionship_status_Married-spouse-absent</th>\n",
              "      <th>realtionship_status_Never-married</th>\n",
              "      <th>realtionship_status_Separated</th>\n",
              "      <th>realtionship_status_Widowed</th>\n",
              "      <th>industry_Auto</th>\n",
              "      <th>industry_ClassAction</th>\n",
              "      <th>industry_Entertainment</th>\n",
              "      <th>industry_Other</th>\n",
              "      <th>industry_Pharma</th>\n",
              "      <th>industry_Political</th>\n",
              "      <th>genre_Comedy</th>\n",
              "      <th>genre_Direct</th>\n",
              "      <th>genre_Drama</th>\n",
              "      <th>genre_Infomercial</th>\n",
              "      <th>genre_Other</th>\n",
              "      <th>targeted_sex_Female</th>\n",
              "      <th>targeted_sex_Male</th>\n",
              "      <th>airtime_Daytime</th>\n",
              "      <th>airtime_Morning</th>\n",
              "      <th>airtime_Primetime</th>\n",
              "      <th>expensive_High</th>\n",
              "      <th>expensive_Low</th>\n",
              "      <th>expensive_Medium</th>\n",
              "      <th>money_back_guarantee_No</th>\n",
              "      <th>money_back_guarantee_Yes</th>\n",
              "      <th>loc_us</th>\n",
              "    </tr>\n",
              "  </thead>\n",
              "  <tbody>\n",
              "    <tr>\n",
              "      <th>0</th>\n",
              "      <td>1</td>\n",
              "      <td>10</td>\n",
              "      <td>United-States</td>\n",
              "      <td>0.027465</td>\n",
              "      <td>0</td>\n",
              "      <td>0</td>\n",
              "      <td>0</td>\n",
              "      <td>0</td>\n",
              "      <td>0</td>\n",
              "      <td>0</td>\n",
              "      <td>1</td>\n",
              "      <td>1</td>\n",
              "      <td>0</td>\n",
              "      <td>0</td>\n",
              "      <td>0</td>\n",
              "      <td>0</td>\n",
              "      <td>0</td>\n",
              "      <td>1</td>\n",
              "      <td>0</td>\n",
              "      <td>0</td>\n",
              "      <td>0</td>\n",
              "      <td>0</td>\n",
              "      <td>1</td>\n",
              "      <td>0</td>\n",
              "      <td>1</td>\n",
              "      <td>0</td>\n",
              "      <td>0</td>\n",
              "      <td>0</td>\n",
              "      <td>1</td>\n",
              "      <td>0</td>\n",
              "      <td>1</td>\n",
              "      <td>0</td>\n",
              "      <td>1</td>\n",
              "    </tr>\n",
              "    <tr>\n",
              "      <th>1</th>\n",
              "      <td>4</td>\n",
              "      <td>40</td>\n",
              "      <td>United-States</td>\n",
              "      <td>0.056262</td>\n",
              "      <td>0</td>\n",
              "      <td>0</td>\n",
              "      <td>1</td>\n",
              "      <td>0</td>\n",
              "      <td>0</td>\n",
              "      <td>0</td>\n",
              "      <td>0</td>\n",
              "      <td>0</td>\n",
              "      <td>0</td>\n",
              "      <td>0</td>\n",
              "      <td>0</td>\n",
              "      <td>1</td>\n",
              "      <td>0</td>\n",
              "      <td>1</td>\n",
              "      <td>0</td>\n",
              "      <td>0</td>\n",
              "      <td>0</td>\n",
              "      <td>0</td>\n",
              "      <td>0</td>\n",
              "      <td>1</td>\n",
              "      <td>0</td>\n",
              "      <td>1</td>\n",
              "      <td>0</td>\n",
              "      <td>1</td>\n",
              "      <td>0</td>\n",
              "      <td>0</td>\n",
              "      <td>0</td>\n",
              "      <td>1</td>\n",
              "      <td>1</td>\n",
              "    </tr>\n",
              "    <tr>\n",
              "      <th>2</th>\n",
              "      <td>5</td>\n",
              "      <td>50</td>\n",
              "      <td>United-States</td>\n",
              "      <td>0.027465</td>\n",
              "      <td>1</td>\n",
              "      <td>0</td>\n",
              "      <td>0</td>\n",
              "      <td>0</td>\n",
              "      <td>0</td>\n",
              "      <td>0</td>\n",
              "      <td>0</td>\n",
              "      <td>0</td>\n",
              "      <td>0</td>\n",
              "      <td>1</td>\n",
              "      <td>0</td>\n",
              "      <td>0</td>\n",
              "      <td>0</td>\n",
              "      <td>1</td>\n",
              "      <td>0</td>\n",
              "      <td>0</td>\n",
              "      <td>0</td>\n",
              "      <td>0</td>\n",
              "      <td>1</td>\n",
              "      <td>0</td>\n",
              "      <td>0</td>\n",
              "      <td>1</td>\n",
              "      <td>0</td>\n",
              "      <td>0</td>\n",
              "      <td>1</td>\n",
              "      <td>0</td>\n",
              "      <td>1</td>\n",
              "      <td>0</td>\n",
              "      <td>1</td>\n",
              "    </tr>\n",
              "    <tr>\n",
              "      <th>3</th>\n",
              "      <td>9</td>\n",
              "      <td>40</td>\n",
              "      <td>United-States</td>\n",
              "      <td>0.027465</td>\n",
              "      <td>0</td>\n",
              "      <td>0</td>\n",
              "      <td>1</td>\n",
              "      <td>0</td>\n",
              "      <td>0</td>\n",
              "      <td>0</td>\n",
              "      <td>0</td>\n",
              "      <td>0</td>\n",
              "      <td>0</td>\n",
              "      <td>0</td>\n",
              "      <td>0</td>\n",
              "      <td>1</td>\n",
              "      <td>0</td>\n",
              "      <td>0</td>\n",
              "      <td>0</td>\n",
              "      <td>0</td>\n",
              "      <td>1</td>\n",
              "      <td>0</td>\n",
              "      <td>0</td>\n",
              "      <td>1</td>\n",
              "      <td>0</td>\n",
              "      <td>0</td>\n",
              "      <td>1</td>\n",
              "      <td>0</td>\n",
              "      <td>1</td>\n",
              "      <td>0</td>\n",
              "      <td>1</td>\n",
              "      <td>0</td>\n",
              "      <td>1</td>\n",
              "    </tr>\n",
              "    <tr>\n",
              "      <th>4</th>\n",
              "      <td>10</td>\n",
              "      <td>40</td>\n",
              "      <td>United-States</td>\n",
              "      <td>0.027465</td>\n",
              "      <td>0</td>\n",
              "      <td>0</td>\n",
              "      <td>1</td>\n",
              "      <td>0</td>\n",
              "      <td>0</td>\n",
              "      <td>0</td>\n",
              "      <td>0</td>\n",
              "      <td>0</td>\n",
              "      <td>0</td>\n",
              "      <td>0</td>\n",
              "      <td>0</td>\n",
              "      <td>1</td>\n",
              "      <td>0</td>\n",
              "      <td>1</td>\n",
              "      <td>0</td>\n",
              "      <td>0</td>\n",
              "      <td>0</td>\n",
              "      <td>0</td>\n",
              "      <td>0</td>\n",
              "      <td>1</td>\n",
              "      <td>0</td>\n",
              "      <td>0</td>\n",
              "      <td>1</td>\n",
              "      <td>0</td>\n",
              "      <td>1</td>\n",
              "      <td>0</td>\n",
              "      <td>0</td>\n",
              "      <td>1</td>\n",
              "      <td>1</td>\n",
              "    </tr>\n",
              "  </tbody>\n",
              "</table>\n",
              "</div>"
            ],
            "text/plain": [
              "   id  average_runtime(minutes_per_week)  ... money_back_guarantee_Yes  loc_us\n",
              "0   1                                 10  ...                        0       1\n",
              "1   4                                 40  ...                        1       1\n",
              "2   5                                 50  ...                        0       1\n",
              "3   9                                 40  ...                        0       1\n",
              "4  10                                 40  ...                        1       1\n",
              "\n",
              "[5 rows x 33 columns]"
            ]
          },
          "metadata": {
            "tags": []
          },
          "execution_count": 47
        }
      ]
    },
    {
      "cell_type": "code",
      "metadata": {
        "colab_type": "code",
        "id": "41aJ6uxAeDAB",
        "outputId": "f4a58193-ed69-45bb-f7cc-ee0eb93ff206",
        "colab": {
          "base_uri": "https://localhost:8080/",
          "height": 635
        }
      },
      "source": [
        "test_1.info()"
      ],
      "execution_count": 0,
      "outputs": [
        {
          "output_type": "stream",
          "text": [
            "<class 'pandas.core.frame.DataFrame'>\n",
            "RangeIndex: 6513 entries, 0 to 6512\n",
            "Data columns (total 33 columns):\n",
            "id                                           6513 non-null int64\n",
            "average_runtime(minutes_per_week)            6513 non-null int64\n",
            "airlocation                                  6513 non-null object\n",
            "ratings                                      6513 non-null float64\n",
            "realtionship_status_Divorced                 6513 non-null uint8\n",
            "realtionship_status_Married-AF-spouse        6513 non-null uint8\n",
            "realtionship_status_Married-civ-spouse       6513 non-null uint8\n",
            "realtionship_status_Married-spouse-absent    6513 non-null uint8\n",
            "realtionship_status_Never-married            6513 non-null uint8\n",
            "realtionship_status_Separated                6513 non-null uint8\n",
            "realtionship_status_Widowed                  6513 non-null uint8\n",
            "industry_Auto                                6513 non-null uint8\n",
            "industry_ClassAction                         6513 non-null uint8\n",
            "industry_Entertainment                       6513 non-null uint8\n",
            "industry_Other                               6513 non-null uint8\n",
            "industry_Pharma                              6513 non-null uint8\n",
            "industry_Political                           6513 non-null uint8\n",
            "genre_Comedy                                 6513 non-null uint8\n",
            "genre_Direct                                 6513 non-null uint8\n",
            "genre_Drama                                  6513 non-null uint8\n",
            "genre_Infomercial                            6513 non-null uint8\n",
            "genre_Other                                  6513 non-null uint8\n",
            "targeted_sex_Female                          6513 non-null uint8\n",
            "targeted_sex_Male                            6513 non-null uint8\n",
            "airtime_Daytime                              6513 non-null uint8\n",
            "airtime_Morning                              6513 non-null uint8\n",
            "airtime_Primetime                            6513 non-null uint8\n",
            "expensive_High                               6513 non-null uint8\n",
            "expensive_Low                                6513 non-null uint8\n",
            "expensive_Medium                             6513 non-null uint8\n",
            "money_back_guarantee_No                      6513 non-null uint8\n",
            "money_back_guarantee_Yes                     6513 non-null uint8\n",
            "loc_us                                       6513 non-null int64\n",
            "dtypes: float64(1), int64(3), object(1), uint8(28)\n",
            "memory usage: 432.6+ KB\n"
          ],
          "name": "stdout"
        }
      ]
    },
    {
      "cell_type": "code",
      "metadata": {
        "colab_type": "code",
        "id": "b8W6dAezeDAC",
        "colab": {}
      },
      "source": [
        "test_1.drop(columns=['airlocation'],inplace=True)"
      ],
      "execution_count": 0,
      "outputs": []
    },
    {
      "cell_type": "code",
      "metadata": {
        "id": "U9FWgjk2eTvx",
        "colab_type": "code",
        "colab": {}
      },
      "source": [
        "x_test=test_1"
      ],
      "execution_count": 0,
      "outputs": []
    },
    {
      "cell_type": "code",
      "metadata": {
        "id": "AR1rLxOGebkZ",
        "colab_type": "code",
        "colab": {}
      },
      "source": [
        "pred_4 = model.predict(np.array(x_test))\n"
      ],
      "execution_count": 0,
      "outputs": []
    },
    {
      "cell_type": "code",
      "metadata": {
        "id": "YW6tlG9lfT-c",
        "colab_type": "code",
        "colab": {}
      },
      "source": [
        "pred_4=np.where(pred_4>0,1,0)"
      ],
      "execution_count": 0,
      "outputs": []
    },
    {
      "cell_type": "code",
      "metadata": {
        "id": "GWzN4RbIfZ0g",
        "colab_type": "code",
        "outputId": "1ad6fecc-0b7e-4959-ff1c-a86f1f697137",
        "colab": {
          "base_uri": "https://localhost:8080/",
          "height": 131
        }
      },
      "source": [
        "pred_4"
      ],
      "execution_count": 0,
      "outputs": [
        {
          "output_type": "execute_result",
          "data": {
            "text/plain": [
              "array([[1],\n",
              "       [0],\n",
              "       [0],\n",
              "       ...,\n",
              "       [0],\n",
              "       [0],\n",
              "       [0]])"
            ]
          },
          "metadata": {
            "tags": []
          },
          "execution_count": 53
        }
      ]
    },
    {
      "cell_type": "code",
      "metadata": {
        "id": "JAm9csfdfgMx",
        "colab_type": "code",
        "colab": {}
      },
      "source": [
        "pred_4=pred_4.reshape(-1)"
      ],
      "execution_count": 0,
      "outputs": []
    },
    {
      "cell_type": "code",
      "metadata": {
        "id": "DghJuNAzfmlx",
        "colab_type": "code",
        "outputId": "3271a438-6174-40e0-81eb-4ce608dbf02e",
        "colab": {
          "base_uri": "https://localhost:8080/",
          "height": 66
        }
      },
      "source": [
        "pd.Series(pred_4).value_counts()"
      ],
      "execution_count": 0,
      "outputs": [
        {
          "output_type": "execute_result",
          "data": {
            "text/plain": [
              "0    6511\n",
              "1       2\n",
              "dtype: int64"
            ]
          },
          "metadata": {
            "tags": []
          },
          "execution_count": 55
        }
      ]
    },
    {
      "cell_type": "code",
      "metadata": {
        "id": "PVS3ASGSf756",
        "colab_type": "code",
        "colab": {}
      },
      "source": [
        "pred_4 = np.where(pred_4 ==1 , True , False)"
      ],
      "execution_count": 0,
      "outputs": []
    },
    {
      "cell_type": "code",
      "metadata": {
        "id": "L-J1-v1nhK17",
        "colab_type": "code",
        "colab": {}
      },
      "source": [
        "pd.DataFrame(pred_4 , index=test_1['id'],columns=['netgain']).to_csv('submission.csv')"
      ],
      "execution_count": 0,
      "outputs": []
    },
    {
      "cell_type": "code",
      "metadata": {
        "id": "c692oJNbhI5T",
        "colab_type": "code",
        "colab": {}
      },
      "source": [
        ""
      ],
      "execution_count": 0,
      "outputs": []
    }
  ]
}
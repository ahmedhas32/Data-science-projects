{
  "nbformat": 4,
  "nbformat_minor": 0,
  "metadata": {
    "colab": {
      "name": "copy 1 .ipynb",
      "provenance": [],
      "collapsed_sections": [],
      "include_colab_link": true
    },
    "kernelspec": {
      "display_name": "Python 3",
      "language": "python",
      "name": "python3"
    },
    "language_info": {
      "codemirror_mode": {
        "name": "ipython",
        "version": 3
      },
      "file_extension": ".py",
      "mimetype": "text/x-python",
      "name": "python",
      "nbconvert_exporter": "python",
      "pygments_lexer": "ipython3",
      "version": "3.8.5"
    }
  },
  "cells": [
    {
      "cell_type": "markdown",
      "metadata": {
        "id": "view-in-github",
        "colab_type": "text"
      },
      "source": [
        "<a href=\"https://colab.research.google.com/github/ahmedhas32/Data-science-projects/blob/master/financial%20advisory%20data.ipynb\" target=\"_parent\"><img src=\"https://colab.research.google.com/assets/colab-badge.svg\" alt=\"Open In Colab\"/></a>"
      ]
    },
    {
      "cell_type": "code",
      "metadata": {
        "id": "uT1aVyxGJNZ6",
        "outputId": "7d665596-72d5-47d9-9ecd-e534d98dabbc",
        "colab": {
          "base_uri": "https://localhost:8080/",
          "height": 66
        }
      },
      "source": [
        "!pip install arabic_reshaper\n",
        "\n",
        "import arabic_reshaper\n"
      ],
      "execution_count": null,
      "outputs": [
        {
          "output_type": "stream",
          "text": [
            "Requirement already satisfied: arabic_reshaper in /usr/local/lib/python3.6/dist-packages (2.1.0)\n",
            "Requirement already satisfied: future in /usr/local/lib/python3.6/dist-packages (from arabic_reshaper) (0.16.0)\n",
            "Requirement already satisfied: setuptools in /usr/local/lib/python3.6/dist-packages (from arabic_reshaper) (50.3.0)\n"
          ],
          "name": "stdout"
        }
      ]
    },
    {
      "cell_type": "code",
      "metadata": {
        "id": "iNjmke3aS4g9"
      },
      "source": [
        "# chi-squared test with similar proportions\n",
        "from scipy.stats import chi2_contingency\n",
        "from scipy.stats import chi2"
      ],
      "execution_count": null,
      "outputs": []
    },
    {
      "cell_type": "code",
      "metadata": {
        "id": "tk6VO6j_Jggs",
        "outputId": "d4ef10e1-8aa8-4248-d7b1-cb3b7e9acbee",
        "colab": {
          "base_uri": "https://localhost:8080/",
          "height": 50
        }
      },
      "source": [
        "#features=list(features)\n",
        "!pip install python-bidi\n",
        "from bidi.algorithm import get_display"
      ],
      "execution_count": null,
      "outputs": [
        {
          "output_type": "stream",
          "text": [
            "Requirement already satisfied: python-bidi in /usr/local/lib/python3.6/dist-packages (0.4.2)\n",
            "Requirement already satisfied: six in /usr/local/lib/python3.6/dist-packages (from python-bidi) (1.15.0)\n"
          ],
          "name": "stdout"
        }
      ]
    },
    {
      "cell_type": "code",
      "metadata": {
        "id": "5vbasgQTi_jz"
      },
      "source": [
        "import csv as csv\n",
        "from matplotlib import pyplot\n",
        "from sklearn.model_selection import cross_val_score,KFold\n",
        "from sklearn.metrics import mean_absolute_error\n",
        "import matplotlib.pyplot as plt\n",
        "from scipy.stats import skew\n",
        "from collections import OrderedDict\n",
        "from sklearn import preprocessing\n",
        "from datetime import datetime\n"
      ],
      "execution_count": null,
      "outputs": []
    },
    {
      "cell_type": "code",
      "metadata": {
        "id": "Unhl9QkuvZxQ"
      },
      "source": [
        "\n",
        "import keras\n",
        "from keras.wrappers.scikit_learn import KerasRegressor\n",
        "from keras.models import Sequential\n",
        "from keras.layers import Dense , Dropout\n",
        "from keras.wrappers.scikit_learn import KerasClassifier\n",
        "from keras.utils import np_utils\n",
        "from sklearn.model_selection import cross_val_score\n",
        "from sklearn.model_selection import KFold\n",
        "from sklearn.preprocessing import LabelEncoder\n",
        "from sklearn.pipeline import Pipeline\n",
        "\n",
        "from sklearn.model_selection import GridSearchCV, train_test_split\n",
        "\n",
        "from sklearn.metrics import r2_score\n",
        "from sklearn.metrics import mean_squared_error\n",
        "\n",
        "import tensorflow.keras.layers as Layers\n",
        "import tensorflow.keras.activations as Actications\n",
        "import tensorflow.keras.models as Models\n",
        "import tensorflow.keras.optimizers as Optimizer\n",
        "import tensorflow.keras.metrics as Metrics\n",
        "import tensorflow.keras.utils as Utils\n",
        "from keras.utils.vis_utils import model_to_dot\n",
        "from keras import backend as K\n"
      ],
      "execution_count": null,
      "outputs": []
    },
    {
      "cell_type": "code",
      "metadata": {
        "id": "nD3a_w-kAVgr"
      },
      "source": [
        "from tensorflow import convert_to_tensor"
      ],
      "execution_count": null,
      "outputs": []
    },
    {
      "cell_type": "code",
      "metadata": {
        "id": "vbmZwexCj5zz",
        "outputId": "fc91377b-bdc3-44f8-8708-2a5418c85923",
        "colab": {
          "base_uri": "https://localhost:8080/",
          "height": 50
        }
      },
      "source": [
        "import statsmodels.api as sm\n",
        "from statsmodels.formula.api import ols"
      ],
      "execution_count": null,
      "outputs": [
        {
          "output_type": "stream",
          "text": [
            "/usr/local/lib/python3.6/dist-packages/statsmodels/tools/_testing.py:19: FutureWarning: pandas.util.testing is deprecated. Use the functions in the public API at pandas.testing instead.\n",
            "  import pandas.util.testing as tm\n"
          ],
          "name": "stderr"
        }
      ]
    },
    {
      "cell_type": "code",
      "metadata": {
        "id": "ha07guXVvgSL",
        "outputId": "91f40268-e21e-492e-dd32-9e01a0fc9eda",
        "colab": {
          "base_uri": "https://localhost:8080/",
          "height": 33
        }
      },
      "source": [
        "from google.colab import drive\n",
        "drive.mount('/content/drive')"
      ],
      "execution_count": null,
      "outputs": [
        {
          "output_type": "stream",
          "text": [
            "Drive already mounted at /content/drive; to attempt to forcibly remount, call drive.mount(\"/content/drive\", force_remount=True).\n"
          ],
          "name": "stdout"
        }
      ]
    },
    {
      "cell_type": "code",
      "metadata": {
        "id": "g_Ydxvuz-oq2"
      },
      "source": [
        "import numpy as np\n",
        "import pandas as pd\n",
        "import matplotlib.pyplot as plt\n",
        "import seaborn as sns\n",
        "import warnings\n",
        "import xlrd\n",
        "warnings.filterwarnings(\"ignore\")"
      ],
      "execution_count": null,
      "outputs": []
    },
    {
      "cell_type": "code",
      "metadata": {
        "id": "vLbFxvvhygTn"
      },
      "source": [
        "data = pd.read_csv('/content/drive/My Drive/data-1596715036934.csv')"
      ],
      "execution_count": null,
      "outputs": []
    },
    {
      "cell_type": "code",
      "metadata": {
        "id": "9q0ieVWOvUfu",
        "outputId": "9870c978-ddcc-4a8b-9bd4-3aa19e6a3614",
        "colab": {
          "base_uri": "https://localhost:8080/",
          "height": 347
        }
      },
      "source": [
        "data.head(10)"
      ],
      "execution_count": null,
      "outputs": [
        {
          "output_type": "execute_result",
          "data": {
            "text/html": [
              "<div>\n",
              "<style scoped>\n",
              "    .dataframe tbody tr th:only-of-type {\n",
              "        vertical-align: middle;\n",
              "    }\n",
              "\n",
              "    .dataframe tbody tr th {\n",
              "        vertical-align: top;\n",
              "    }\n",
              "\n",
              "    .dataframe thead th {\n",
              "        text-align: right;\n",
              "    }\n",
              "</style>\n",
              "<table border=\"1\" class=\"dataframe\">\n",
              "  <thead>\n",
              "    <tr style=\"text-align: right;\">\n",
              "      <th></th>\n",
              "      <th>registration_date</th>\n",
              "      <th>eligible_status</th>\n",
              "      <th>national_id_map</th>\n",
              "      <th>status_booking</th>\n",
              "      <th>unit_price</th>\n",
              "      <th>unit_location</th>\n",
              "      <th>product_type</th>\n",
              "      <th>building_type</th>\n",
              "      <th>sub_con_num</th>\n",
              "      <th>status_sub</th>\n",
              "      <th>signing_lender_contract_date</th>\n",
              "    </tr>\n",
              "  </thead>\n",
              "  <tbody>\n",
              "    <tr>\n",
              "      <th>0</th>\n",
              "      <td>2019-11-20</td>\n",
              "      <td>1.0</td>\n",
              "      <td>1035776580</td>\n",
              "      <td>NaN</td>\n",
              "      <td>946500.00</td>\n",
              "      <td>الرياض</td>\n",
              "      <td>3</td>\n",
              "      <td>1</td>\n",
              "      <td>385435</td>\n",
              "      <td>2</td>\n",
              "      <td>2020-03-24</td>\n",
              "    </tr>\n",
              "    <tr>\n",
              "      <th>1</th>\n",
              "      <td>2019-06-09</td>\n",
              "      <td>1.0</td>\n",
              "      <td>1083588200</td>\n",
              "      <td>NaN</td>\n",
              "      <td>650000.00</td>\n",
              "      <td>حفر الباطن</td>\n",
              "      <td>3</td>\n",
              "      <td>1</td>\n",
              "      <td>161306</td>\n",
              "      <td>2</td>\n",
              "      <td>2019-07-10</td>\n",
              "    </tr>\n",
              "    <tr>\n",
              "      <th>2</th>\n",
              "      <td>2020-05-12</td>\n",
              "      <td>0.0</td>\n",
              "      <td>1049659681</td>\n",
              "      <td>NaN</td>\n",
              "      <td>175300.00</td>\n",
              "      <td>الخرج</td>\n",
              "      <td>4</td>\n",
              "      <td>1</td>\n",
              "      <td>294022</td>\n",
              "      <td>2</td>\n",
              "      <td>2019-12-25</td>\n",
              "    </tr>\n",
              "    <tr>\n",
              "      <th>3</th>\n",
              "      <td>2020-02-02</td>\n",
              "      <td>1.0</td>\n",
              "      <td>1042613503</td>\n",
              "      <td>NaN</td>\n",
              "      <td>1169126.14</td>\n",
              "      <td>ابوعريش</td>\n",
              "      <td>5</td>\n",
              "      <td>1</td>\n",
              "      <td>438500</td>\n",
              "      <td>2</td>\n",
              "      <td>2019-01-29</td>\n",
              "    </tr>\n",
              "    <tr>\n",
              "      <th>4</th>\n",
              "      <td>2020-06-16</td>\n",
              "      <td>1.0</td>\n",
              "      <td>1008039750</td>\n",
              "      <td>NaN</td>\n",
              "      <td>500000.00</td>\n",
              "      <td>الدمام</td>\n",
              "      <td>3</td>\n",
              "      <td>1</td>\n",
              "      <td>483830</td>\n",
              "      <td>2</td>\n",
              "      <td>2020-08-05</td>\n",
              "    </tr>\n",
              "    <tr>\n",
              "      <th>5</th>\n",
              "      <td>2019-12-06</td>\n",
              "      <td>1.0</td>\n",
              "      <td>1072264268</td>\n",
              "      <td>6.0</td>\n",
              "      <td>656796.00</td>\n",
              "      <td>جازان</td>\n",
              "      <td>1</td>\n",
              "      <td>1</td>\n",
              "      <td>176971</td>\n",
              "      <td>2</td>\n",
              "      <td>2019-08-05</td>\n",
              "    </tr>\n",
              "    <tr>\n",
              "      <th>6</th>\n",
              "      <td>2020-05-12</td>\n",
              "      <td>1.0</td>\n",
              "      <td>1047463607</td>\n",
              "      <td>NaN</td>\n",
              "      <td>998602.51</td>\n",
              "      <td>الدمام</td>\n",
              "      <td>4</td>\n",
              "      <td>1</td>\n",
              "      <td>433588</td>\n",
              "      <td>2</td>\n",
              "      <td>2020-06-10</td>\n",
              "    </tr>\n",
              "    <tr>\n",
              "      <th>7</th>\n",
              "      <td>2020-05-09</td>\n",
              "      <td>1.0</td>\n",
              "      <td>1009173152</td>\n",
              "      <td>NaN</td>\n",
              "      <td>1800000.00</td>\n",
              "      <td>الرياض</td>\n",
              "      <td>3</td>\n",
              "      <td>1</td>\n",
              "      <td>445990</td>\n",
              "      <td>2</td>\n",
              "      <td>2020-06-26</td>\n",
              "    </tr>\n",
              "    <tr>\n",
              "      <th>8</th>\n",
              "      <td>2014-01-31</td>\n",
              "      <td>1.0</td>\n",
              "      <td>1026432839</td>\n",
              "      <td>NaN</td>\n",
              "      <td>875000.00</td>\n",
              "      <td>جازان</td>\n",
              "      <td>4</td>\n",
              "      <td>1</td>\n",
              "      <td>437563</td>\n",
              "      <td>2</td>\n",
              "      <td>2020-06-15</td>\n",
              "    </tr>\n",
              "    <tr>\n",
              "      <th>9</th>\n",
              "      <td>2020-05-12</td>\n",
              "      <td>0.0</td>\n",
              "      <td>1028477782</td>\n",
              "      <td>NaN</td>\n",
              "      <td>950000.00</td>\n",
              "      <td>الرياض</td>\n",
              "      <td>3</td>\n",
              "      <td>1</td>\n",
              "      <td>310698</td>\n",
              "      <td>2</td>\n",
              "      <td>2020-01-07</td>\n",
              "    </tr>\n",
              "  </tbody>\n",
              "</table>\n",
              "</div>"
            ],
            "text/plain": [
              "  registration_date  eligible_status  ...  status_sub  signing_lender_contract_date\n",
              "0        2019-11-20              1.0  ...           2                    2020-03-24\n",
              "1        2019-06-09              1.0  ...           2                    2019-07-10\n",
              "2        2020-05-12              0.0  ...           2                    2019-12-25\n",
              "3        2020-02-02              1.0  ...           2                    2019-01-29\n",
              "4        2020-06-16              1.0  ...           2                    2020-08-05\n",
              "5        2019-12-06              1.0  ...           2                    2019-08-05\n",
              "6        2020-05-12              1.0  ...           2                    2020-06-10\n",
              "7        2020-05-09              1.0  ...           2                    2020-06-26\n",
              "8        2014-01-31              1.0  ...           2                    2020-06-15\n",
              "9        2020-05-12              0.0  ...           2                    2020-01-07\n",
              "\n",
              "[10 rows x 11 columns]"
            ]
          },
          "metadata": {
            "tags": []
          },
          "execution_count": 11
        }
      ]
    },
    {
      "cell_type": "code",
      "metadata": {
        "id": "83eo0qwOvUfz"
      },
      "source": [
        ""
      ],
      "execution_count": null,
      "outputs": []
    },
    {
      "cell_type": "code",
      "metadata": {
        "id": "OaL7xM_V9zyW"
      },
      "source": [
        "from sklearn.preprocessing import LabelEncoder"
      ],
      "execution_count": null,
      "outputs": []
    },
    {
      "cell_type": "code",
      "metadata": {
        "id": "t94Yx_hRFafX"
      },
      "source": [
        ""
      ],
      "execution_count": null,
      "outputs": []
    },
    {
      "cell_type": "code",
      "metadata": {
        "id": "NS9MpY4m__4X"
      },
      "source": [
        "\n",
        "#estimator = KerasClassifier(build_fn=baseline_model, epochs=200, batch_size=5, verbose=0)\n",
        "#kfold = KFold(n_splits=3, shuffle=True)\n",
        "#results = cross_val_score(estimator, X_train, y_train, cv=kfold)\n",
        "#print(\"Baseline: %.2f%% (%.2f%%)\" % (results.mean()*100, results.std()*100))"
      ],
      "execution_count": null,
      "outputs": []
    },
    {
      "cell_type": "code",
      "metadata": {
        "id": "55yLV0aRvUk_"
      },
      "source": [
        "financial = pd.read_csv('/content/drive/My Drive/Raw_Data FinAdv Sakani Products.csv')"
      ],
      "execution_count": null,
      "outputs": []
    },
    {
      "cell_type": "code",
      "metadata": {
        "id": "LN2JvLu2vUlD",
        "outputId": "a1887272-2237-409b-89ca-9e8abb693d61",
        "colab": {
          "base_uri": "https://localhost:8080/",
          "height": 301
        }
      },
      "source": [
        "financial.head()"
      ],
      "execution_count": null,
      "outputs": [
        {
          "output_type": "execute_result",
          "data": {
            "text/html": [
              "<div>\n",
              "<style scoped>\n",
              "    .dataframe tbody tr th:only-of-type {\n",
              "        vertical-align: middle;\n",
              "    }\n",
              "\n",
              "    .dataframe tbody tr th {\n",
              "        vertical-align: top;\n",
              "    }\n",
              "\n",
              "    .dataframe thead th {\n",
              "        text-align: right;\n",
              "    }\n",
              "</style>\n",
              "<table border=\"1\" class=\"dataframe\">\n",
              "  <thead>\n",
              "    <tr style=\"text-align: right;\">\n",
              "      <th></th>\n",
              "      <th>registration_date</th>\n",
              "      <th>national_id_map</th>\n",
              "      <th>family_size</th>\n",
              "      <th>eligible_status</th>\n",
              "      <th>indigent_value</th>\n",
              "      <th>monthly_salary</th>\n",
              "      <th>home_allowance</th>\n",
              "      <th>manual_monthly_salary</th>\n",
              "      <th>manual_home_allowance</th>\n",
              "      <th>financial_adv_salary</th>\n",
              "      <th>financial_adv_home_allowance</th>\n",
              "      <th>loan_period_in_month</th>\n",
              "      <th>applicant_bank</th>\n",
              "      <th>type_of_work</th>\n",
              "      <th>booking_status</th>\n",
              "      <th>booking_date</th>\n",
              "      <th>financial_institution_number</th>\n",
              "      <th>financial_institution_name</th>\n",
              "      <th>profit_rate_in_contract</th>\n",
              "      <th>unit_location</th>\n",
              "      <th>max_loan_amount</th>\n",
              "      <th>lender_name</th>\n",
              "      <th>recommendation_created_at</th>\n",
              "      <th>project_region</th>\n",
              "      <th>project_city</th>\n",
              "      <th>project_name</th>\n",
              "      <th>contract_status</th>\n",
              "      <th>fin_institution_num</th>\n",
              "      <th>signing_lender_contract_date</th>\n",
              "      <th>booking_unit_type</th>\n",
              "      <th>Building_Type</th>\n",
              "      <th>unit_size</th>\n",
              "      <th>unit_price</th>\n",
              "      <th>moh_price</th>\n",
              "      <th>age</th>\n",
              "      <th>Products</th>\n",
              "      <th>has_recommendation</th>\n",
              "    </tr>\n",
              "  </thead>\n",
              "  <tbody>\n",
              "    <tr>\n",
              "      <th>0</th>\n",
              "      <td>2014-03-12</td>\n",
              "      <td>1035967031</td>\n",
              "      <td>6.0</td>\n",
              "      <td>1</td>\n",
              "      <td>NaN</td>\n",
              "      <td>NaN</td>\n",
              "      <td>NaN</td>\n",
              "      <td>11104.0</td>\n",
              "      <td>0.00</td>\n",
              "      <td>11104.0</td>\n",
              "      <td>0.00</td>\n",
              "      <td>294.0</td>\n",
              "      <td>البنك الأهلي التجاري</td>\n",
              "      <td>3.0</td>\n",
              "      <td>NaN</td>\n",
              "      <td>NaN</td>\n",
              "      <td>4030001588</td>\n",
              "      <td>البنك الأهلي التجاري</td>\n",
              "      <td>8.43</td>\n",
              "      <td>الخبراء</td>\n",
              "      <td>287513.0</td>\n",
              "      <td>بنك الإستثمار</td>\n",
              "      <td>2020-05-18 07:22:28</td>\n",
              "      <td>NaN</td>\n",
              "      <td>NaN</td>\n",
              "      <td>NaN</td>\n",
              "      <td>2</td>\n",
              "      <td>4030001588</td>\n",
              "      <td>2020-01-27</td>\n",
              "      <td>NaN</td>\n",
              "      <td>فيلا</td>\n",
              "      <td>NaN</td>\n",
              "      <td>569300.0</td>\n",
              "      <td>NaN</td>\n",
              "      <td>46</td>\n",
              "      <td>البناء الذاتي</td>\n",
              "      <td>Has Recommendations</td>\n",
              "    </tr>\n",
              "    <tr>\n",
              "      <th>1</th>\n",
              "      <td>2019-11-05</td>\n",
              "      <td>1006374621</td>\n",
              "      <td>5.0</td>\n",
              "      <td>1</td>\n",
              "      <td>NaN</td>\n",
              "      <td>7040.0</td>\n",
              "      <td>NaN</td>\n",
              "      <td>15130.0</td>\n",
              "      <td>3783.75</td>\n",
              "      <td>15130.0</td>\n",
              "      <td>3783.75</td>\n",
              "      <td>152.0</td>\n",
              "      <td>أملاك العالمية</td>\n",
              "      <td>1.0</td>\n",
              "      <td>NaN</td>\n",
              "      <td>NaN</td>\n",
              "      <td>1010234356</td>\n",
              "      <td>أملاك العالمية</td>\n",
              "      <td>4.84</td>\n",
              "      <td>جدة</td>\n",
              "      <td>588654.0</td>\n",
              "      <td>أملاك</td>\n",
              "      <td>2020-05-18 07:05:57</td>\n",
              "      <td>NaN</td>\n",
              "      <td>NaN</td>\n",
              "      <td>NaN</td>\n",
              "      <td>2</td>\n",
              "      <td>1010234356</td>\n",
              "      <td>2019-12-23</td>\n",
              "      <td>NaN</td>\n",
              "      <td>فيلا</td>\n",
              "      <td>NaN</td>\n",
              "      <td>1265000.0</td>\n",
              "      <td>NaN</td>\n",
              "      <td>58</td>\n",
              "      <td>الوحدات الجاهزة</td>\n",
              "      <td>Has Recommendations</td>\n",
              "    </tr>\n",
              "    <tr>\n",
              "      <th>2</th>\n",
              "      <td>2020-05-03</td>\n",
              "      <td>1105491367</td>\n",
              "      <td>2.0</td>\n",
              "      <td>1</td>\n",
              "      <td>NaN</td>\n",
              "      <td>3530.0</td>\n",
              "      <td>NaN</td>\n",
              "      <td>4325.0</td>\n",
              "      <td>0.00</td>\n",
              "      <td>4325.0</td>\n",
              "      <td>0.00</td>\n",
              "      <td>230.0</td>\n",
              "      <td>بداية لتمويل المنازل</td>\n",
              "      <td>1.0</td>\n",
              "      <td>NaN</td>\n",
              "      <td>NaN</td>\n",
              "      <td>1010241934</td>\n",
              "      <td>الشركة السعودية لتمويل المساكن</td>\n",
              "      <td>7.14</td>\n",
              "      <td>الرياض</td>\n",
              "      <td>460534.0</td>\n",
              "      <td>البنك الأهلي</td>\n",
              "      <td>2020-06-08 17:32:34</td>\n",
              "      <td>NaN</td>\n",
              "      <td>NaN</td>\n",
              "      <td>NaN</td>\n",
              "      <td>2</td>\n",
              "      <td>1010241934</td>\n",
              "      <td>2020-06-17</td>\n",
              "      <td>NaN</td>\n",
              "      <td>شقة</td>\n",
              "      <td>NaN</td>\n",
              "      <td>437000.0</td>\n",
              "      <td>NaN</td>\n",
              "      <td>41</td>\n",
              "      <td>الوحدات الجاهزة</td>\n",
              "      <td>Has Recommendations</td>\n",
              "    </tr>\n",
              "    <tr>\n",
              "      <th>3</th>\n",
              "      <td>2020-03-30</td>\n",
              "      <td>1031211103</td>\n",
              "      <td>4.0</td>\n",
              "      <td>1</td>\n",
              "      <td>NaN</td>\n",
              "      <td>6065.0</td>\n",
              "      <td>NaN</td>\n",
              "      <td>6980.0</td>\n",
              "      <td>1213.00</td>\n",
              "      <td>6980.0</td>\n",
              "      <td>1213.00</td>\n",
              "      <td>300.0</td>\n",
              "      <td>بنك البلاد</td>\n",
              "      <td>1.0</td>\n",
              "      <td>NaN</td>\n",
              "      <td>NaN</td>\n",
              "      <td>1010208295</td>\n",
              "      <td>بنك البلاد</td>\n",
              "      <td>6.00</td>\n",
              "      <td>القريات</td>\n",
              "      <td>339461.0</td>\n",
              "      <td>مصرف الإنماء</td>\n",
              "      <td>2020-05-18 07:19:58</td>\n",
              "      <td>NaN</td>\n",
              "      <td>NaN</td>\n",
              "      <td>NaN</td>\n",
              "      <td>2</td>\n",
              "      <td>1010208295</td>\n",
              "      <td>2020-06-25</td>\n",
              "      <td>NaN</td>\n",
              "      <td>فيلا</td>\n",
              "      <td>NaN</td>\n",
              "      <td>400000.0</td>\n",
              "      <td>NaN</td>\n",
              "      <td>36</td>\n",
              "      <td>البناء الذاتي</td>\n",
              "      <td>Has Recommendations</td>\n",
              "    </tr>\n",
              "    <tr>\n",
              "      <th>4</th>\n",
              "      <td>2020-06-02</td>\n",
              "      <td>1003954318</td>\n",
              "      <td>4.0</td>\n",
              "      <td>1</td>\n",
              "      <td>NaN</td>\n",
              "      <td>9019.6</td>\n",
              "      <td>2254.9</td>\n",
              "      <td>8469.0</td>\n",
              "      <td>2117.00</td>\n",
              "      <td>8000.0</td>\n",
              "      <td>2000.00</td>\n",
              "      <td>300.0</td>\n",
              "      <td>بنك البلاد</td>\n",
              "      <td>2.0</td>\n",
              "      <td>NaN</td>\n",
              "      <td>NaN</td>\n",
              "      <td>1010208295</td>\n",
              "      <td>بنك البلاد</td>\n",
              "      <td>6.00</td>\n",
              "      <td>الرياض</td>\n",
              "      <td>788909.0</td>\n",
              "      <td>مصرف الراجحي</td>\n",
              "      <td>2020-06-21 14:48:11</td>\n",
              "      <td>NaN</td>\n",
              "      <td>NaN</td>\n",
              "      <td>NaN</td>\n",
              "      <td>2</td>\n",
              "      <td>1010208295</td>\n",
              "      <td>2020-06-17</td>\n",
              "      <td>NaN</td>\n",
              "      <td>فيلا</td>\n",
              "      <td>NaN</td>\n",
              "      <td>1430000.0</td>\n",
              "      <td>NaN</td>\n",
              "      <td>35</td>\n",
              "      <td>الوحدات الجاهزة</td>\n",
              "      <td>Has Recommendations</td>\n",
              "    </tr>\n",
              "  </tbody>\n",
              "</table>\n",
              "</div>"
            ],
            "text/plain": [
              "  registration_date  national_id_map  ...         Products   has_recommendation\n",
              "0        2014-03-12       1035967031  ...    البناء الذاتي  Has Recommendations\n",
              "1        2019-11-05       1006374621  ...  الوحدات الجاهزة  Has Recommendations\n",
              "2        2020-05-03       1105491367  ...  الوحدات الجاهزة  Has Recommendations\n",
              "3        2020-03-30       1031211103  ...    البناء الذاتي  Has Recommendations\n",
              "4        2020-06-02       1003954318  ...  الوحدات الجاهزة  Has Recommendations\n",
              "\n",
              "[5 rows x 37 columns]"
            ]
          },
          "metadata": {
            "tags": []
          },
          "execution_count": 15
        }
      ]
    },
    {
      "cell_type": "code",
      "metadata": {
        "id": "RIvCuI-UvUlK",
        "outputId": "3e518f52-fc66-4926-c925-210123589fb8",
        "colab": {
          "base_uri": "https://localhost:8080/",
          "height": 750
        }
      },
      "source": [
        "financial.info()"
      ],
      "execution_count": null,
      "outputs": [
        {
          "output_type": "stream",
          "text": [
            "<class 'pandas.core.frame.DataFrame'>\n",
            "RangeIndex: 529236 entries, 0 to 529235\n",
            "Data columns (total 37 columns):\n",
            " #   Column                        Non-Null Count   Dtype  \n",
            "---  ------                        --------------   -----  \n",
            " 0   registration_date             529236 non-null  object \n",
            " 1   national_id_map               529236 non-null  int64  \n",
            " 2   family_size                   527038 non-null  float64\n",
            " 3   eligible_status               529236 non-null  int64  \n",
            " 4   indigent_value                2650 non-null    float64\n",
            " 5   monthly_salary                309944 non-null  float64\n",
            " 6   home_allowance                92299 non-null   float64\n",
            " 7   manual_monthly_salary         517437 non-null  float64\n",
            " 8   manual_home_allowance         517224 non-null  float64\n",
            " 9   financial_adv_salary          529236 non-null  float64\n",
            " 10  financial_adv_home_allowance  529236 non-null  float64\n",
            " 11  loan_period_in_month          529217 non-null  float64\n",
            " 12  applicant_bank                529236 non-null  object \n",
            " 13  type_of_work                  525734 non-null  float64\n",
            " 14  booking_status                183538 non-null  object \n",
            " 15  booking_date                  183538 non-null  object \n",
            " 16  financial_institution_number  529236 non-null  int64  \n",
            " 17  financial_institution_name    529236 non-null  object \n",
            " 18  profit_rate_in_contract       529217 non-null  float64\n",
            " 19  unit_location                 529217 non-null  object \n",
            " 20  max_loan_amount               482269 non-null  float64\n",
            " 21  lender_name                   482269 non-null  object \n",
            " 22  recommendation_created_at     482269 non-null  object \n",
            " 23  project_region                183538 non-null  object \n",
            " 24  project_city                  167035 non-null  object \n",
            " 25  project_name                  183538 non-null  object \n",
            " 26  contract_status               529236 non-null  int64  \n",
            " 27  fin_institution_num           529236 non-null  int64  \n",
            " 28  signing_lender_contract_date  529207 non-null  object \n",
            " 29  booking_unit_type             183538 non-null  object \n",
            " 30  Building_Type                 529236 non-null  object \n",
            " 31  unit_size                     183538 non-null  float64\n",
            " 32  unit_price                    529217 non-null  float64\n",
            " 33  moh_price                     183538 non-null  float64\n",
            " 34  age                           529236 non-null  int64  \n",
            " 35  Products                      529236 non-null  object \n",
            " 36  has_recommendation            529236 non-null  object \n",
            "dtypes: float64(15), int64(6), object(16)\n",
            "memory usage: 149.4+ MB\n"
          ],
          "name": "stdout"
        }
      ]
    },
    {
      "cell_type": "code",
      "metadata": {
        "id": "cT74xZBPXK_Y"
      },
      "source": [
        "#financial.replace(np.nan , '0' , inplace=True)"
      ],
      "execution_count": null,
      "outputs": []
    },
    {
      "cell_type": "code",
      "metadata": {
        "id": "RX-fEN6v7bSQ"
      },
      "source": [
        "financial['type_of_work'] = financial['type_of_work'].astype('object')\n",
        "financial['booking_status'] = financial['booking_status'].astype('object')\n",
        "financial['contract_status'] = financial['contract_status'].astype('object')\n"
      ],
      "execution_count": null,
      "outputs": []
    },
    {
      "cell_type": "code",
      "metadata": {
        "id": "aQAb8ltJngUe"
      },
      "source": [
        "dict= { 'أملاك العالمية' : 'أملاك' , 'البنك الأهلي التجاري' : 'الأهلي' , 'مصرف الإنماء' : 'الإنماء' ,'بنك البلاد' : 'البلاد' , 'بنك الجزيرة\t' : 'الجزيرة' ,'مصرف الراجحي' : 'الراجحي' ,'بنك الرياض' : 'الرياض' ,'البنك السعودي للاستثمار' : 'السعودي للإستثمار'\n",
        ",'الشركة السعودية لتمويل المساكن' : 'الشركة السعودية لتمويل المساكن' , 'البنك العربي الوطني' : 'العربي' ,'البنك السعودي الفرنسي' : 'الفرنسي' , 'بداية لتمويل المنازل' : 'بدايه' ,'دار التمليك':'دار التمليك' ,'البنك السعودي البريطاني' : 'ساب'}"
      ],
      "execution_count": null,
      "outputs": []
    },
    {
      "cell_type": "code",
      "metadata": {
        "id": "yuwKoL7jOOFK"
      },
      "source": [
        "financial['banks']=financial['applicant_bank'].map(dict)"
      ],
      "execution_count": null,
      "outputs": []
    },
    {
      "cell_type": "code",
      "metadata": {
        "id": "WJrGoGC3lkPu",
        "outputId": "75c4dced-33dc-4d81-fcf8-a84d936a3f9a",
        "colab": {
          "base_uri": "https://localhost:8080/",
          "height": 333
        }
      },
      "source": [
        "financial['lender_name'].value_counts()"
      ],
      "execution_count": null,
      "outputs": [
        {
          "output_type": "execute_result",
          "data": {
            "text/plain": [
              "مصرف الإنماء     48618\n",
              "بنك البلاد       44775\n",
              "مصرف الراجحي     42562\n",
              "البنك الفرنسي    41114\n",
              "بنك الرياض       40471\n",
              "بنك سامبا        39806\n",
              "بنك الجزيرة      36112\n",
              "البنك العربي     35074\n",
              "البنك الأهلي     34671\n",
              "بنك الإستثمار    31876\n",
              "دويتشه           20847\n",
              "بداية            16640\n",
              "دار التمليك      14407\n",
              "أملاك            10816\n",
              "بنك ساب          10205\n",
              "سهل               9885\n",
              "DirectLending     3288\n",
              "PLUS              1102\n",
              "Name: lender_name, dtype: int64"
            ]
          },
          "metadata": {
            "tags": []
          },
          "execution_count": 21
        }
      ]
    },
    {
      "cell_type": "code",
      "metadata": {
        "id": "B50lObzuj3MP"
      },
      "source": [
        "dict1= { 'أملاك' : 'أملاك' , 'البنك الأهلي' : 'الأهلي' , 'مصرف الإنماء' : 'الإنماء' ,'بنك البلاد' : 'البلاد' , 'بنك الجزيرة\t' : 'الجزيرة' ,'مصرف الراجحي' : 'الراجحي' ,'بنك الرياض' : 'الرياض' ,'بنك الاستثمار' : 'السعودي للإستثمار'\n",
        ",'DirectLending' : 'DirectLending' , 'البنك العربي' : 'العربي' ,'البنك الفرنسي' : 'الفرنسي' , 'بداية' : 'بدايه' ,'دار التمليك':'دار التمليك' ,'بنك ساب' : 'ساب'  , 'PLUS':'PLUS' , 'سهل' : 'سهل' , 'دويتشه': 'دويتشة الخليج للتمويل'}"
      ],
      "execution_count": null,
      "outputs": []
    },
    {
      "cell_type": "code",
      "metadata": {
        "id": "KDVPePrapbvW"
      },
      "source": [
        "financial['lender_name']=financial['lender_name'].map(dict1)"
      ],
      "execution_count": null,
      "outputs": []
    },
    {
      "cell_type": "code",
      "metadata": {
        "id": "ljXDR_AEq0fW",
        "outputId": "f122554a-13a2-46c5-eeb0-9811ea291865",
        "colab": {
          "base_uri": "https://localhost:8080/",
          "height": 283
        }
      },
      "source": [
        "financial['lender_name'].value_counts()"
      ],
      "execution_count": null,
      "outputs": [
        {
          "output_type": "execute_result",
          "data": {
            "text/plain": [
              "الإنماء                  48618\n",
              "البلاد                   44775\n",
              "الراجحي                  42562\n",
              "الفرنسي                  41114\n",
              "الرياض                   40471\n",
              "العربي                   35074\n",
              "الأهلي                   34671\n",
              "دويتشة الخليج للتمويل    20847\n",
              "بدايه                    16640\n",
              "دار التمليك              14407\n",
              "أملاك                    10816\n",
              "ساب                      10205\n",
              "سهل                       9885\n",
              "DirectLending             3288\n",
              "PLUS                      1102\n",
              "Name: lender_name, dtype: int64"
            ]
          },
          "metadata": {
            "tags": []
          },
          "execution_count": 24
        }
      ]
    },
    {
      "cell_type": "code",
      "metadata": {
        "id": "WzjYJ5QAW9px"
      },
      "source": [
        "financial['signing_lender_contract_date'] = financial['signing_lender_contract_date'].replace(np.nan , '2000-02-02').apply(lambda x: datetime.strptime(x ,'%Y-%m-%d'))"
      ],
      "execution_count": null,
      "outputs": []
    },
    {
      "cell_type": "code",
      "metadata": {
        "id": "cwmmY35-X_oE"
      },
      "source": [
        "financial['booking_date'] = financial['booking_date'].replace(np.nan , '2000-02-02 11:09:00').apply(lambda x: datetime.strptime(x ,'%Y-%m-%d %H:%M:%S'))"
      ],
      "execution_count": null,
      "outputs": []
    },
    {
      "cell_type": "code",
      "metadata": {
        "id": "k_6ZjHhw0ERO"
      },
      "source": [
        "financial['obligatory_consuler'] = (financial['signing_lender_contract_date'] >= datetime.strptime('2020-03-24' ,'%Y-%m-%d'))"
      ],
      "execution_count": null,
      "outputs": []
    },
    {
      "cell_type": "code",
      "metadata": {
        "id": "d8DHo4F8a4TM",
        "outputId": "339e6fa0-1ce6-418d-c943-fd35898177c6",
        "colab": {
          "base_uri": "https://localhost:8080/",
          "height": 33
        }
      },
      "source": [
        "import sys\n",
        "sys.maxsize"
      ],
      "execution_count": null,
      "outputs": [
        {
          "output_type": "execute_result",
          "data": {
            "text/plain": [
              "9223372036854775807"
            ]
          },
          "metadata": {
            "tags": []
          },
          "execution_count": 28
        }
      ]
    },
    {
      "cell_type": "code",
      "metadata": {
        "id": "m3fD52Xm0ATQ"
      },
      "source": [
        "financial['date_to_book'] = financial['booking_date'].apply(lambda x :x.date())"
      ],
      "execution_count": null,
      "outputs": []
    },
    {
      "cell_type": "code",
      "metadata": {
        "id": "d4moTin-hPiO"
      },
      "source": [
        "#financial.drop_duplicates().info()"
      ],
      "execution_count": null,
      "outputs": []
    },
    {
      "cell_type": "code",
      "metadata": {
        "id": "0EozvLcCZRSa"
      },
      "source": [
        "financial['home_allowance'] = np.where( financial['home_allowance'] > 0 , financial['home_allowance'] ,financial['monthly_salary']/6 )"
      ],
      "execution_count": null,
      "outputs": []
    },
    {
      "cell_type": "code",
      "metadata": {
        "id": "XHwjVp9cZrYw"
      },
      "source": [
        "financial['manual_home_allowance'] = np.where( financial['manual_home_allowance'] > 0 , financial['manual_home_allowance'] ,financial['manual_monthly_salary']/6 )"
      ],
      "execution_count": null,
      "outputs": []
    },
    {
      "cell_type": "code",
      "metadata": {
        "id": "Z5z2nGcsZrmJ"
      },
      "source": [
        "financial['financial_adv_home_allowance'] = np.where( financial['financial_adv_home_allowance'] > 0 , financial['financial_adv_home_allowance'] ,financial['financial_adv_salary']/6 )"
      ],
      "execution_count": null,
      "outputs": []
    },
    {
      "cell_type": "code",
      "metadata": {
        "id": "xvWLZlgXZrTf"
      },
      "source": [
        ""
      ],
      "execution_count": null,
      "outputs": []
    },
    {
      "cell_type": "code",
      "metadata": {
        "id": "UFfraGouvUlL"
      },
      "source": [
        "fin_jun = financial.loc[(financial['manual_monthly_salary'] > 0) & (financial['financial_adv_salary'] > 0 ) , :]"
      ],
      "execution_count": null,
      "outputs": []
    },
    {
      "cell_type": "code",
      "metadata": {
        "id": "oYDIyaP80m-M"
      },
      "source": [
        "fin_jun.drop(columns=['max_loan_amount','lender_name' ,'recommendation_created_at'],inplace=True)"
      ],
      "execution_count": null,
      "outputs": []
    },
    {
      "cell_type": "code",
      "metadata": {
        "id": "6-laXPeOYQOO",
        "outputId": "5cc05a00-6c33-487e-a100-c7d9e2cbe750",
        "colab": {
          "base_uri": "https://localhost:8080/",
          "height": 197
        }
      },
      "source": [
        "fin_jun.loc[:,['monthly_salary','home_allowance','financial_adv_salary','financial_adv_home_allowance' ,'manual_monthly_salary']].corr()"
      ],
      "execution_count": null,
      "outputs": [
        {
          "output_type": "execute_result",
          "data": {
            "text/html": [
              "<div>\n",
              "<style scoped>\n",
              "    .dataframe tbody tr th:only-of-type {\n",
              "        vertical-align: middle;\n",
              "    }\n",
              "\n",
              "    .dataframe tbody tr th {\n",
              "        vertical-align: top;\n",
              "    }\n",
              "\n",
              "    .dataframe thead th {\n",
              "        text-align: right;\n",
              "    }\n",
              "</style>\n",
              "<table border=\"1\" class=\"dataframe\">\n",
              "  <thead>\n",
              "    <tr style=\"text-align: right;\">\n",
              "      <th></th>\n",
              "      <th>monthly_salary</th>\n",
              "      <th>home_allowance</th>\n",
              "      <th>financial_adv_salary</th>\n",
              "      <th>financial_adv_home_allowance</th>\n",
              "      <th>manual_monthly_salary</th>\n",
              "    </tr>\n",
              "  </thead>\n",
              "  <tbody>\n",
              "    <tr>\n",
              "      <th>monthly_salary</th>\n",
              "      <td>1.000000</td>\n",
              "      <td>0.922838</td>\n",
              "      <td>0.262897</td>\n",
              "      <td>0.551999</td>\n",
              "      <td>0.829954</td>\n",
              "    </tr>\n",
              "    <tr>\n",
              "      <th>home_allowance</th>\n",
              "      <td>0.922838</td>\n",
              "      <td>1.000000</td>\n",
              "      <td>0.237808</td>\n",
              "      <td>0.600457</td>\n",
              "      <td>0.751258</td>\n",
              "    </tr>\n",
              "    <tr>\n",
              "      <th>financial_adv_salary</th>\n",
              "      <td>0.262897</td>\n",
              "      <td>0.237808</td>\n",
              "      <td>1.000000</td>\n",
              "      <td>0.294953</td>\n",
              "      <td>0.352267</td>\n",
              "    </tr>\n",
              "    <tr>\n",
              "      <th>financial_adv_home_allowance</th>\n",
              "      <td>0.551999</td>\n",
              "      <td>0.600457</td>\n",
              "      <td>0.294953</td>\n",
              "      <td>1.000000</td>\n",
              "      <td>0.525856</td>\n",
              "    </tr>\n",
              "    <tr>\n",
              "      <th>manual_monthly_salary</th>\n",
              "      <td>0.829954</td>\n",
              "      <td>0.751258</td>\n",
              "      <td>0.352267</td>\n",
              "      <td>0.525856</td>\n",
              "      <td>1.000000</td>\n",
              "    </tr>\n",
              "  </tbody>\n",
              "</table>\n",
              "</div>"
            ],
            "text/plain": [
              "                              monthly_salary  ...  manual_monthly_salary\n",
              "monthly_salary                      1.000000  ...               0.829954\n",
              "home_allowance                      0.922838  ...               0.751258\n",
              "financial_adv_salary                0.262897  ...               0.352267\n",
              "financial_adv_home_allowance        0.551999  ...               0.525856\n",
              "manual_monthly_salary               0.829954  ...               1.000000\n",
              "\n",
              "[5 rows x 5 columns]"
            ]
          },
          "metadata": {
            "tags": []
          },
          "execution_count": 36
        }
      ]
    },
    {
      "cell_type": "code",
      "metadata": {
        "id": "PbSlwp9VOOo5"
      },
      "source": [
        "from sklearn.ensemble import RandomForestRegressor\n",
        "\n",
        "rf=RandomForestRegressor()\n"
      ],
      "execution_count": null,
      "outputs": []
    },
    {
      "cell_type": "code",
      "metadata": {
        "id": "qT26CoNybq95"
      },
      "source": [
        "fin_jun['salary_diff'] = fin_jun['manual_monthly_salary']-fin_jun['financial_adv_salary']\n"
      ],
      "execution_count": null,
      "outputs": []
    },
    {
      "cell_type": "code",
      "metadata": {
        "id": "OcO-qUV0h-fn"
      },
      "source": [
        "#fin_jun=fin_jun.drop_duplicates()"
      ],
      "execution_count": null,
      "outputs": []
    },
    {
      "cell_type": "code",
      "metadata": {
        "id": "zYmo7CaIqP9w",
        "outputId": "a3c60d42-812e-4039-cfa5-85d5b5ab058f",
        "colab": {
          "base_uri": "https://localhost:8080/",
          "height": 166
        }
      },
      "source": [
        "fin_jun['salary_diff'].describe()"
      ],
      "execution_count": null,
      "outputs": [
        {
          "output_type": "execute_result",
          "data": {
            "text/plain": [
              "count    5.117010e+05\n",
              "mean    -2.138304e+01\n",
              "std      1.171628e+04\n",
              "min     -7.991700e+06\n",
              "25%      0.000000e+00\n",
              "50%      0.000000e+00\n",
              "75%      0.000000e+00\n",
              "max      4.809930e+05\n",
              "Name: salary_diff, dtype: float64"
            ]
          },
          "metadata": {
            "tags": []
          },
          "execution_count": 40
        }
      ]
    },
    {
      "cell_type": "code",
      "metadata": {
        "id": "2xItWZyPfBTR",
        "outputId": "94da35a9-2768-49a8-b75f-0cee7fdb2fbb",
        "colab": {
          "base_uri": "https://localhost:8080/",
          "height": 114
        }
      },
      "source": [
        "fin_jun.loc[fin_jun['salary_diff']==fin_jun['salary_diff'].min()]"
      ],
      "execution_count": null,
      "outputs": [
        {
          "output_type": "execute_result",
          "data": {
            "text/html": [
              "<div>\n",
              "<style scoped>\n",
              "    .dataframe tbody tr th:only-of-type {\n",
              "        vertical-align: middle;\n",
              "    }\n",
              "\n",
              "    .dataframe tbody tr th {\n",
              "        vertical-align: top;\n",
              "    }\n",
              "\n",
              "    .dataframe thead th {\n",
              "        text-align: right;\n",
              "    }\n",
              "</style>\n",
              "<table border=\"1\" class=\"dataframe\">\n",
              "  <thead>\n",
              "    <tr style=\"text-align: right;\">\n",
              "      <th></th>\n",
              "      <th>registration_date</th>\n",
              "      <th>national_id_map</th>\n",
              "      <th>family_size</th>\n",
              "      <th>eligible_status</th>\n",
              "      <th>indigent_value</th>\n",
              "      <th>monthly_salary</th>\n",
              "      <th>home_allowance</th>\n",
              "      <th>manual_monthly_salary</th>\n",
              "      <th>manual_home_allowance</th>\n",
              "      <th>financial_adv_salary</th>\n",
              "      <th>financial_adv_home_allowance</th>\n",
              "      <th>loan_period_in_month</th>\n",
              "      <th>applicant_bank</th>\n",
              "      <th>type_of_work</th>\n",
              "      <th>booking_status</th>\n",
              "      <th>booking_date</th>\n",
              "      <th>financial_institution_number</th>\n",
              "      <th>financial_institution_name</th>\n",
              "      <th>profit_rate_in_contract</th>\n",
              "      <th>unit_location</th>\n",
              "      <th>project_region</th>\n",
              "      <th>project_city</th>\n",
              "      <th>project_name</th>\n",
              "      <th>contract_status</th>\n",
              "      <th>fin_institution_num</th>\n",
              "      <th>signing_lender_contract_date</th>\n",
              "      <th>booking_unit_type</th>\n",
              "      <th>Building_Type</th>\n",
              "      <th>unit_size</th>\n",
              "      <th>unit_price</th>\n",
              "      <th>moh_price</th>\n",
              "      <th>age</th>\n",
              "      <th>Products</th>\n",
              "      <th>has_recommendation</th>\n",
              "      <th>banks</th>\n",
              "      <th>obligatory_consuler</th>\n",
              "      <th>date_to_book</th>\n",
              "      <th>salary_diff</th>\n",
              "    </tr>\n",
              "  </thead>\n",
              "  <tbody>\n",
              "    <tr>\n",
              "      <th>515042</th>\n",
              "      <td>2019-06-08</td>\n",
              "      <td>1026601037</td>\n",
              "      <td>4.0</td>\n",
              "      <td>1</td>\n",
              "      <td>NaN</td>\n",
              "      <td>6675.0</td>\n",
              "      <td>1112.5</td>\n",
              "      <td>8600.0</td>\n",
              "      <td>1000.0</td>\n",
              "      <td>8000300.0</td>\n",
              "      <td>600.0</td>\n",
              "      <td>149.0</td>\n",
              "      <td>مصرف الراجحي</td>\n",
              "      <td>1</td>\n",
              "      <td>NaN</td>\n",
              "      <td>2000-02-02 11:09:00</td>\n",
              "      <td>1010234356</td>\n",
              "      <td>أملاك العالمية</td>\n",
              "      <td>4.7</td>\n",
              "      <td>الرياض</td>\n",
              "      <td>NaN</td>\n",
              "      <td>NaN</td>\n",
              "      <td>NaN</td>\n",
              "      <td>2</td>\n",
              "      <td>1010234356</td>\n",
              "      <td>2020-08-24 00:00:00</td>\n",
              "      <td>NaN</td>\n",
              "      <td>فيلا</td>\n",
              "      <td>NaN</td>\n",
              "      <td>785000.0</td>\n",
              "      <td>NaN</td>\n",
              "      <td>46</td>\n",
              "      <td>الوحدات الجاهزة</td>\n",
              "      <td>No Recommendations</td>\n",
              "      <td>الراجحي</td>\n",
              "      <td>True</td>\n",
              "      <td>2000-02-02</td>\n",
              "      <td>-7991700.0</td>\n",
              "    </tr>\n",
              "  </tbody>\n",
              "</table>\n",
              "</div>"
            ],
            "text/plain": [
              "       registration_date  national_id_map  ...  date_to_book  salary_diff\n",
              "515042        2019-06-08       1026601037  ...    2000-02-02   -7991700.0\n",
              "\n",
              "[1 rows x 38 columns]"
            ]
          },
          "metadata": {
            "tags": []
          },
          "execution_count": 41
        }
      ]
    },
    {
      "cell_type": "code",
      "metadata": {
        "id": "L0k-_i58GaJb"
      },
      "source": [
        ""
      ],
      "execution_count": null,
      "outputs": []
    },
    {
      "cell_type": "code",
      "metadata": {
        "id": "lpQli9LQhWIq"
      },
      "source": [
        "#fin_jun['salary_diff']/12"
      ],
      "execution_count": null,
      "outputs": []
    },
    {
      "cell_type": "code",
      "metadata": {
        "id": "ZBQYXnyIOOmq",
        "outputId": "136c345c-f8ad-43c2-b729-d21159b65a15",
        "colab": {
          "base_uri": "https://localhost:8080/",
          "height": 114
        }
      },
      "source": [
        "fin_jun.loc[fin_jun['salary_diff']==fin_jun['salary_diff'].max()].drop_duplicates()\n"
      ],
      "execution_count": null,
      "outputs": [
        {
          "output_type": "execute_result",
          "data": {
            "text/html": [
              "<div>\n",
              "<style scoped>\n",
              "    .dataframe tbody tr th:only-of-type {\n",
              "        vertical-align: middle;\n",
              "    }\n",
              "\n",
              "    .dataframe tbody tr th {\n",
              "        vertical-align: top;\n",
              "    }\n",
              "\n",
              "    .dataframe thead th {\n",
              "        text-align: right;\n",
              "    }\n",
              "</style>\n",
              "<table border=\"1\" class=\"dataframe\">\n",
              "  <thead>\n",
              "    <tr style=\"text-align: right;\">\n",
              "      <th></th>\n",
              "      <th>registration_date</th>\n",
              "      <th>national_id_map</th>\n",
              "      <th>family_size</th>\n",
              "      <th>eligible_status</th>\n",
              "      <th>indigent_value</th>\n",
              "      <th>monthly_salary</th>\n",
              "      <th>home_allowance</th>\n",
              "      <th>manual_monthly_salary</th>\n",
              "      <th>manual_home_allowance</th>\n",
              "      <th>financial_adv_salary</th>\n",
              "      <th>financial_adv_home_allowance</th>\n",
              "      <th>loan_period_in_month</th>\n",
              "      <th>applicant_bank</th>\n",
              "      <th>type_of_work</th>\n",
              "      <th>booking_status</th>\n",
              "      <th>booking_date</th>\n",
              "      <th>financial_institution_number</th>\n",
              "      <th>financial_institution_name</th>\n",
              "      <th>profit_rate_in_contract</th>\n",
              "      <th>unit_location</th>\n",
              "      <th>project_region</th>\n",
              "      <th>project_city</th>\n",
              "      <th>project_name</th>\n",
              "      <th>contract_status</th>\n",
              "      <th>fin_institution_num</th>\n",
              "      <th>signing_lender_contract_date</th>\n",
              "      <th>booking_unit_type</th>\n",
              "      <th>Building_Type</th>\n",
              "      <th>unit_size</th>\n",
              "      <th>unit_price</th>\n",
              "      <th>moh_price</th>\n",
              "      <th>age</th>\n",
              "      <th>Products</th>\n",
              "      <th>has_recommendation</th>\n",
              "      <th>banks</th>\n",
              "      <th>obligatory_consuler</th>\n",
              "      <th>date_to_book</th>\n",
              "      <th>salary_diff</th>\n",
              "    </tr>\n",
              "  </thead>\n",
              "  <tbody>\n",
              "    <tr>\n",
              "      <th>7581</th>\n",
              "      <td>2019-07-15</td>\n",
              "      <td>1049107467</td>\n",
              "      <td>3.0</td>\n",
              "      <td>1</td>\n",
              "      <td>NaN</td>\n",
              "      <td>5207.4</td>\n",
              "      <td>1301.85</td>\n",
              "      <td>485851.0</td>\n",
              "      <td>1215.0</td>\n",
              "      <td>4858.0</td>\n",
              "      <td>1215.0</td>\n",
              "      <td>240.0</td>\n",
              "      <td>بنك الرياض</td>\n",
              "      <td>2</td>\n",
              "      <td>NaN</td>\n",
              "      <td>2000-02-02 11:09:00</td>\n",
              "      <td>1010001054</td>\n",
              "      <td>بنك الرياض</td>\n",
              "      <td>2.9</td>\n",
              "      <td>ينبع</td>\n",
              "      <td>NaN</td>\n",
              "      <td>NaN</td>\n",
              "      <td>NaN</td>\n",
              "      <td>2</td>\n",
              "      <td>1010001054</td>\n",
              "      <td>2019-11-24 00:00:00</td>\n",
              "      <td>NaN</td>\n",
              "      <td>فيلا</td>\n",
              "      <td>NaN</td>\n",
              "      <td>710300.0</td>\n",
              "      <td>NaN</td>\n",
              "      <td>35</td>\n",
              "      <td>القرض القائم</td>\n",
              "      <td>No Recommendations</td>\n",
              "      <td>الرياض</td>\n",
              "      <td>False</td>\n",
              "      <td>2000-02-02</td>\n",
              "      <td>480993.0</td>\n",
              "    </tr>\n",
              "  </tbody>\n",
              "</table>\n",
              "</div>"
            ],
            "text/plain": [
              "     registration_date  national_id_map  ...  date_to_book  salary_diff\n",
              "7581        2019-07-15       1049107467  ...    2000-02-02     480993.0\n",
              "\n",
              "[1 rows x 38 columns]"
            ]
          },
          "metadata": {
            "tags": []
          },
          "execution_count": 43
        }
      ]
    },
    {
      "cell_type": "code",
      "metadata": {
        "id": "FpSs6nfn2o5-"
      },
      "source": [
        "fin_jun.drop_duplicates(inplace=True)"
      ],
      "execution_count": null,
      "outputs": []
    },
    {
      "cell_type": "code",
      "metadata": {
        "id": "QlUtxlwbz7rd"
      },
      "source": [
        "y = []\n",
        "for x in fin_jun['salary_diff']:\n",
        "   if x == 0 : a='manual = fin_adv'\n",
        "   elif  -10000 < x <= -1000: a = 'from 1000 to 10000 fin_adv '\n",
        "   elif  -1000 < x <=-500: a = 'from 500 to 1000 fin_adv'\n",
        "   elif  -500 < x <0: a = 'from 0 to 500 fin_adv'\n",
        "   elif   500 >= x >0: a = 'from 0 to 500 manual'\n",
        "   elif  x > 500 :  a = ' larger than 500 manual'\n",
        "   y.append(a)"
      ],
      "execution_count": null,
      "outputs": []
    },
    {
      "cell_type": "code",
      "metadata": {
        "id": "ZoZgKYXc2fxR",
        "outputId": "20abb138-10ef-4d4a-c8e5-25d1dbeff2ef",
        "colab": {
          "base_uri": "https://localhost:8080/",
          "height": 413
        }
      },
      "source": [
        "pd.Series(y).value_counts(normalize=True).plot(kind='bar')"
      ],
      "execution_count": null,
      "outputs": [
        {
          "output_type": "execute_result",
          "data": {
            "text/plain": [
              "<matplotlib.axes._subplots.AxesSubplot at 0x7fd6d6547fd0>"
            ]
          },
          "metadata": {
            "tags": []
          },
          "execution_count": 46
        },
        {
          "output_type": "display_data",
          "data": {
            "image/png": "[encoded data removed]",
            "text/plain": [
              "<Figure size 432x288 with 1 Axes>"
            ]
          },
          "metadata": {
            "tags": [],
            "needs_background": "light"
          }
        }
      ]
    },
    {
      "cell_type": "code",
      "metadata": {
        "id": "N6CBsbvOhM6s"
      },
      "source": [
        "pd.Series(y).value_counts(normalize=True).to_excel('df1.xlsx')"
      ],
      "execution_count": null,
      "outputs": []
    },
    {
      "cell_type": "code",
      "metadata": {
        "id": "qF5pEATzOOTV",
        "outputId": "67e539b5-f136-4586-e49d-49b9c7f8db67",
        "colab": {
          "base_uri": "https://localhost:8080/",
          "height": 294
        }
      },
      "source": [
        "fin_jun.loc[fin_jun['salary_diff']<-50000 , ['salary_diff']].plot(kind='hist')"
      ],
      "execution_count": null,
      "outputs": [
        {
          "output_type": "execute_result",
          "data": {
            "text/plain": [
              "<matplotlib.axes._subplots.AxesSubplot at 0x7fd6d51974e0>"
            ]
          },
          "metadata": {
            "tags": []
          },
          "execution_count": 48
        },
        {
          "output_type": "display_data",
          "data": {
            "image/png": "[encoded data removed]",
            "text/plain": [
              "<Figure size 432x288 with 1 Axes>"
            ]
          },
          "metadata": {
            "tags": [],
            "needs_background": "light"
          }
        }
      ]
    },
    {
      "cell_type": "markdown",
      "metadata": {
        "id": "6Q5ysqjWiGnM"
      },
      "source": [
        ""
      ]
    },
    {
      "cell_type": "code",
      "metadata": {
        "id": "9urLnUWfiHCX",
        "outputId": "6a189e20-35ac-44a5-99aa-477d8c098415",
        "colab": {
          "base_uri": "https://localhost:8080/",
          "height": 766
        }
      },
      "source": [
        "fin_jun.info()"
      ],
      "execution_count": null,
      "outputs": [
        {
          "output_type": "stream",
          "text": [
            "<class 'pandas.core.frame.DataFrame'>\n",
            "Int64Index: 64051 entries, 0 to 529209\n",
            "Data columns (total 38 columns):\n",
            " #   Column                        Non-Null Count  Dtype  \n",
            "---  ------                        --------------  -----  \n",
            " 0   registration_date             64051 non-null  object \n",
            " 1   national_id_map               64051 non-null  int64  \n",
            " 2   family_size                   63781 non-null  float64\n",
            " 3   eligible_status               64051 non-null  int64  \n",
            " 4   indigent_value                357 non-null    float64\n",
            " 5   monthly_salary                31703 non-null  float64\n",
            " 6   home_allowance                31703 non-null  float64\n",
            " 7   manual_monthly_salary         64051 non-null  float64\n",
            " 8   manual_home_allowance         64051 non-null  float64\n",
            " 9   financial_adv_salary          64051 non-null  float64\n",
            " 10  financial_adv_home_allowance  64051 non-null  float64\n",
            " 11  loan_period_in_month          64045 non-null  float64\n",
            " 12  applicant_bank                64051 non-null  object \n",
            " 13  type_of_work                  63760 non-null  object \n",
            " 14  booking_status                19344 non-null  object \n",
            " 15  booking_date                  64051 non-null  object \n",
            " 16  financial_institution_number  64051 non-null  int64  \n",
            " 17  financial_institution_name    64051 non-null  object \n",
            " 18  profit_rate_in_contract       64045 non-null  float64\n",
            " 19  unit_location                 64045 non-null  object \n",
            " 20  project_region                19344 non-null  object \n",
            " 21  project_city                  18329 non-null  object \n",
            " 22  project_name                  19344 non-null  object \n",
            " 23  contract_status               64051 non-null  object \n",
            " 24  fin_institution_num           64051 non-null  int64  \n",
            " 25  signing_lender_contract_date  64051 non-null  object \n",
            " 26  booking_unit_type             19344 non-null  object \n",
            " 27  Building_Type                 64051 non-null  object \n",
            " 28  unit_size                     19344 non-null  float64\n",
            " 29  unit_price                    64045 non-null  float64\n",
            " 30  moh_price                     19344 non-null  float64\n",
            " 31  age                           64051 non-null  int64  \n",
            " 32  Products                      64051 non-null  object \n",
            " 33  has_recommendation            64051 non-null  object \n",
            " 34  banks                         60496 non-null  object \n",
            " 35  obligatory_consuler           64051 non-null  bool   \n",
            " 36  date_to_book                  64051 non-null  object \n",
            " 37  salary_diff                   64051 non-null  float64\n",
            "dtypes: bool(1), float64(14), int64(5), object(18)\n",
            "memory usage: 18.6+ MB\n"
          ],
          "name": "stdout"
        }
      ]
    },
    {
      "cell_type": "code",
      "metadata": {
        "id": "nJssoprYjeJJ"
      },
      "source": [
        "columns = ['unit_size','moh_price','booking_status','booking_unit_type','booking_date', 'date_to_book','project_city','project_name', 'loan_period_in_month'\n",
        ",'financial_institution_number', 'financial_adv_salary' ,'financial_institution_name','signing_lender_contract_date' ,'profit_rate_in_contract'\n",
        ",'manual_home_allowance','home_allowance','financial_adv_home_allowance','monthly_salary' , 'indigent_value' , 'banks']"
      ],
      "execution_count": null,
      "outputs": []
    },
    {
      "cell_type": "code",
      "metadata": {
        "id": "w9_tz_ZLZYnd"
      },
      "source": [
        "fin_jun.drop(columns = columns , inplace=True)"
      ],
      "execution_count": null,
      "outputs": []
    },
    {
      "cell_type": "code",
      "metadata": {
        "id": "1i91tAE2B52T",
        "outputId": "4b1307eb-36d9-4bed-dbd4-93fb1669e73c",
        "colab": {
          "base_uri": "https://localhost:8080/",
          "height": 543
        }
      },
      "source": [
        "fin_jun"
      ],
      "execution_count": null,
      "outputs": [
        {
          "output_type": "execute_result",
          "data": {
            "text/html": [
              "<div>\n",
              "<style scoped>\n",
              "    .dataframe tbody tr th:only-of-type {\n",
              "        vertical-align: middle;\n",
              "    }\n",
              "\n",
              "    .dataframe tbody tr th {\n",
              "        vertical-align: top;\n",
              "    }\n",
              "\n",
              "    .dataframe thead th {\n",
              "        text-align: right;\n",
              "    }\n",
              "</style>\n",
              "<table border=\"1\" class=\"dataframe\">\n",
              "  <thead>\n",
              "    <tr style=\"text-align: right;\">\n",
              "      <th></th>\n",
              "      <th>registration_date</th>\n",
              "      <th>national_id_map</th>\n",
              "      <th>family_size</th>\n",
              "      <th>eligible_status</th>\n",
              "      <th>manual_monthly_salary</th>\n",
              "      <th>applicant_bank</th>\n",
              "      <th>type_of_work</th>\n",
              "      <th>unit_location</th>\n",
              "      <th>project_region</th>\n",
              "      <th>contract_status</th>\n",
              "      <th>fin_institution_num</th>\n",
              "      <th>Building_Type</th>\n",
              "      <th>unit_price</th>\n",
              "      <th>age</th>\n",
              "      <th>Products</th>\n",
              "      <th>has_recommendation</th>\n",
              "      <th>obligatory_consuler</th>\n",
              "      <th>salary_diff</th>\n",
              "    </tr>\n",
              "  </thead>\n",
              "  <tbody>\n",
              "    <tr>\n",
              "      <th>0</th>\n",
              "      <td>2014-03-12</td>\n",
              "      <td>1035967031</td>\n",
              "      <td>6.0</td>\n",
              "      <td>1</td>\n",
              "      <td>11104.0</td>\n",
              "      <td>البنك الأهلي التجاري</td>\n",
              "      <td>3</td>\n",
              "      <td>الخبراء</td>\n",
              "      <td>NaN</td>\n",
              "      <td>2</td>\n",
              "      <td>4030001588</td>\n",
              "      <td>فيلا</td>\n",
              "      <td>569300.0</td>\n",
              "      <td>46</td>\n",
              "      <td>البناء الذاتي</td>\n",
              "      <td>Has Recommendations</td>\n",
              "      <td>False</td>\n",
              "      <td>0.0</td>\n",
              "    </tr>\n",
              "    <tr>\n",
              "      <th>1</th>\n",
              "      <td>2019-11-05</td>\n",
              "      <td>1006374621</td>\n",
              "      <td>5.0</td>\n",
              "      <td>1</td>\n",
              "      <td>15130.0</td>\n",
              "      <td>أملاك العالمية</td>\n",
              "      <td>1</td>\n",
              "      <td>جدة</td>\n",
              "      <td>NaN</td>\n",
              "      <td>2</td>\n",
              "      <td>1010234356</td>\n",
              "      <td>فيلا</td>\n",
              "      <td>1265000.0</td>\n",
              "      <td>58</td>\n",
              "      <td>الوحدات الجاهزة</td>\n",
              "      <td>Has Recommendations</td>\n",
              "      <td>False</td>\n",
              "      <td>0.0</td>\n",
              "    </tr>\n",
              "    <tr>\n",
              "      <th>2</th>\n",
              "      <td>2020-05-03</td>\n",
              "      <td>1105491367</td>\n",
              "      <td>2.0</td>\n",
              "      <td>1</td>\n",
              "      <td>4325.0</td>\n",
              "      <td>بداية لتمويل المنازل</td>\n",
              "      <td>1</td>\n",
              "      <td>الرياض</td>\n",
              "      <td>NaN</td>\n",
              "      <td>2</td>\n",
              "      <td>1010241934</td>\n",
              "      <td>شقة</td>\n",
              "      <td>437000.0</td>\n",
              "      <td>41</td>\n",
              "      <td>الوحدات الجاهزة</td>\n",
              "      <td>Has Recommendations</td>\n",
              "      <td>True</td>\n",
              "      <td>0.0</td>\n",
              "    </tr>\n",
              "    <tr>\n",
              "      <th>3</th>\n",
              "      <td>2020-03-30</td>\n",
              "      <td>1031211103</td>\n",
              "      <td>4.0</td>\n",
              "      <td>1</td>\n",
              "      <td>6980.0</td>\n",
              "      <td>بنك البلاد</td>\n",
              "      <td>1</td>\n",
              "      <td>القريات</td>\n",
              "      <td>NaN</td>\n",
              "      <td>2</td>\n",
              "      <td>1010208295</td>\n",
              "      <td>فيلا</td>\n",
              "      <td>400000.0</td>\n",
              "      <td>36</td>\n",
              "      <td>البناء الذاتي</td>\n",
              "      <td>Has Recommendations</td>\n",
              "      <td>True</td>\n",
              "      <td>0.0</td>\n",
              "    </tr>\n",
              "    <tr>\n",
              "      <th>4</th>\n",
              "      <td>2020-06-02</td>\n",
              "      <td>1003954318</td>\n",
              "      <td>4.0</td>\n",
              "      <td>1</td>\n",
              "      <td>8469.0</td>\n",
              "      <td>بنك البلاد</td>\n",
              "      <td>2</td>\n",
              "      <td>الرياض</td>\n",
              "      <td>NaN</td>\n",
              "      <td>2</td>\n",
              "      <td>1010208295</td>\n",
              "      <td>فيلا</td>\n",
              "      <td>1430000.0</td>\n",
              "      <td>35</td>\n",
              "      <td>الوحدات الجاهزة</td>\n",
              "      <td>Has Recommendations</td>\n",
              "      <td>True</td>\n",
              "      <td>469.0</td>\n",
              "    </tr>\n",
              "    <tr>\n",
              "      <th>...</th>\n",
              "      <td>...</td>\n",
              "      <td>...</td>\n",
              "      <td>...</td>\n",
              "      <td>...</td>\n",
              "      <td>...</td>\n",
              "      <td>...</td>\n",
              "      <td>...</td>\n",
              "      <td>...</td>\n",
              "      <td>...</td>\n",
              "      <td>...</td>\n",
              "      <td>...</td>\n",
              "      <td>...</td>\n",
              "      <td>...</td>\n",
              "      <td>...</td>\n",
              "      <td>...</td>\n",
              "      <td>...</td>\n",
              "      <td>...</td>\n",
              "      <td>...</td>\n",
              "    </tr>\n",
              "    <tr>\n",
              "      <th>529130</th>\n",
              "      <td>2020-04-30</td>\n",
              "      <td>1061016083</td>\n",
              "      <td>8.0</td>\n",
              "      <td>1</td>\n",
              "      <td>7890.0</td>\n",
              "      <td>مصرف الراجحي</td>\n",
              "      <td>1</td>\n",
              "      <td>ابو طلح</td>\n",
              "      <td>NaN</td>\n",
              "      <td>2</td>\n",
              "      <td>1010000096</td>\n",
              "      <td>فيلا</td>\n",
              "      <td>907500.0</td>\n",
              "      <td>45</td>\n",
              "      <td>الوحدات الجاهزة</td>\n",
              "      <td>No Recommendations</td>\n",
              "      <td>True</td>\n",
              "      <td>711.0</td>\n",
              "    </tr>\n",
              "    <tr>\n",
              "      <th>529153</th>\n",
              "      <td>2019-06-20</td>\n",
              "      <td>1081469239</td>\n",
              "      <td>2.0</td>\n",
              "      <td>1</td>\n",
              "      <td>3970.0</td>\n",
              "      <td>البنك الأهلي التجاري</td>\n",
              "      <td>NaN</td>\n",
              "      <td>الدمام</td>\n",
              "      <td>eastern_province</td>\n",
              "      <td>2</td>\n",
              "      <td>4030001588</td>\n",
              "      <td>فيلا</td>\n",
              "      <td>680839.0</td>\n",
              "      <td>32</td>\n",
              "      <td>البيع على الخارطة</td>\n",
              "      <td>No Recommendations</td>\n",
              "      <td>False</td>\n",
              "      <td>0.0</td>\n",
              "    </tr>\n",
              "    <tr>\n",
              "      <th>529158</th>\n",
              "      <td>2019-11-20</td>\n",
              "      <td>1006392367</td>\n",
              "      <td>4.0</td>\n",
              "      <td>1</td>\n",
              "      <td>14045.0</td>\n",
              "      <td>البنك الأهلي التجاري</td>\n",
              "      <td>3</td>\n",
              "      <td>جدة</td>\n",
              "      <td>NaN</td>\n",
              "      <td>2</td>\n",
              "      <td>4030001588</td>\n",
              "      <td>فيلا</td>\n",
              "      <td>900000.0</td>\n",
              "      <td>35</td>\n",
              "      <td>القرض القائم</td>\n",
              "      <td>No Recommendations</td>\n",
              "      <td>False</td>\n",
              "      <td>0.0</td>\n",
              "    </tr>\n",
              "    <tr>\n",
              "      <th>529165</th>\n",
              "      <td>2019-08-28</td>\n",
              "      <td>1002907234</td>\n",
              "      <td>5.0</td>\n",
              "      <td>1</td>\n",
              "      <td>6830.0</td>\n",
              "      <td>البنك الأول</td>\n",
              "      <td>1</td>\n",
              "      <td>الرياض</td>\n",
              "      <td>NaN</td>\n",
              "      <td>2</td>\n",
              "      <td>1010064925</td>\n",
              "      <td>فيلا</td>\n",
              "      <td>699319.0</td>\n",
              "      <td>38</td>\n",
              "      <td>القرض القائم</td>\n",
              "      <td>No Recommendations</td>\n",
              "      <td>False</td>\n",
              "      <td>0.0</td>\n",
              "    </tr>\n",
              "    <tr>\n",
              "      <th>529209</th>\n",
              "      <td>2019-09-30</td>\n",
              "      <td>1083782407</td>\n",
              "      <td>2.0</td>\n",
              "      <td>1</td>\n",
              "      <td>3830.0</td>\n",
              "      <td>مصرف الراجحي</td>\n",
              "      <td>3</td>\n",
              "      <td>الهقيله</td>\n",
              "      <td>NaN</td>\n",
              "      <td>2</td>\n",
              "      <td>1010000096</td>\n",
              "      <td>فيلا</td>\n",
              "      <td>392600.0</td>\n",
              "      <td>27</td>\n",
              "      <td>البناء الذاتي</td>\n",
              "      <td>No Recommendations</td>\n",
              "      <td>False</td>\n",
              "      <td>0.0</td>\n",
              "    </tr>\n",
              "  </tbody>\n",
              "</table>\n",
              "<p>64051 rows × 18 columns</p>\n",
              "</div>"
            ],
            "text/plain": [
              "       registration_date  national_id_map  ...  obligatory_consuler  salary_diff\n",
              "0             2014-03-12       1035967031  ...                False          0.0\n",
              "1             2019-11-05       1006374621  ...                False          0.0\n",
              "2             2020-05-03       1105491367  ...                 True          0.0\n",
              "3             2020-03-30       1031211103  ...                 True          0.0\n",
              "4             2020-06-02       1003954318  ...                 True        469.0\n",
              "...                  ...              ...  ...                  ...          ...\n",
              "529130        2020-04-30       1061016083  ...                 True        711.0\n",
              "529153        2019-06-20       1081469239  ...                False          0.0\n",
              "529158        2019-11-20       1006392367  ...                False          0.0\n",
              "529165        2019-08-28       1002907234  ...                False          0.0\n",
              "529209        2019-09-30       1083782407  ...                False          0.0\n",
              "\n",
              "[64051 rows x 18 columns]"
            ]
          },
          "metadata": {
            "tags": []
          },
          "execution_count": 52
        }
      ]
    },
    {
      "cell_type": "code",
      "metadata": {
        "id": "uqiwRen-VELY",
        "outputId": "02cb389d-cf22-4cef-8fd3-d5d67e948d85",
        "colab": {
          "base_uri": "https://localhost:8080/",
          "height": 433
        }
      },
      "source": [
        "fin_jun.info()"
      ],
      "execution_count": null,
      "outputs": [
        {
          "output_type": "stream",
          "text": [
            "<class 'pandas.core.frame.DataFrame'>\n",
            "Int64Index: 64051 entries, 0 to 529209\n",
            "Data columns (total 18 columns):\n",
            " #   Column                 Non-Null Count  Dtype  \n",
            "---  ------                 --------------  -----  \n",
            " 0   registration_date      64051 non-null  object \n",
            " 1   national_id_map        64051 non-null  int64  \n",
            " 2   family_size            63781 non-null  float64\n",
            " 3   eligible_status        64051 non-null  int64  \n",
            " 4   manual_monthly_salary  64051 non-null  float64\n",
            " 5   applicant_bank         64051 non-null  object \n",
            " 6   type_of_work           63760 non-null  object \n",
            " 7   unit_location          64045 non-null  object \n",
            " 8   project_region         19344 non-null  object \n",
            " 9   contract_status        64051 non-null  object \n",
            " 10  fin_institution_num    64051 non-null  int64  \n",
            " 11  Building_Type          64051 non-null  object \n",
            " 12  unit_price             64045 non-null  float64\n",
            " 13  age                    64051 non-null  int64  \n",
            " 14  Products               64051 non-null  object \n",
            " 15  has_recommendation     64051 non-null  object \n",
            " 16  obligatory_consuler    64051 non-null  bool   \n",
            " 17  salary_diff            64051 non-null  float64\n",
            "dtypes: bool(1), float64(4), int64(4), object(9)\n",
            "memory usage: 8.9+ MB\n"
          ],
          "name": "stdout"
        }
      ]
    },
    {
      "cell_type": "code",
      "metadata": {
        "id": "4d5uyk_kknDK"
      },
      "source": [
        "fin_jun.drop_duplicates(subset='national_id_map',inplace=True)"
      ],
      "execution_count": null,
      "outputs": []
    },
    {
      "cell_type": "code",
      "metadata": {
        "id": "dpTzv1xcmZUH"
      },
      "source": [
        "fin_jun.dropna(inplace=True)"
      ],
      "execution_count": null,
      "outputs": []
    },
    {
      "cell_type": "code",
      "metadata": {
        "id": "5gQFHhOwFm62"
      },
      "source": [
        ""
      ],
      "execution_count": null,
      "outputs": []
    },
    {
      "cell_type": "code",
      "metadata": {
        "id": "H9f4EDYd9ddH"
      },
      "source": [
        "fin_jun.index=(fin_jun['national_id_map'])"
      ],
      "execution_count": null,
      "outputs": []
    },
    {
      "cell_type": "code",
      "metadata": {
        "id": "ak7qokg09m4t"
      },
      "source": [
        "fin_jun.drop(columns=['national_id_map'] , inplace=True)"
      ],
      "execution_count": null,
      "outputs": []
    },
    {
      "cell_type": "code",
      "metadata": {
        "id": "S1do04Fzd0eE",
        "outputId": "c352f5a6-6ad6-4cf7-e99e-14f24b27b076",
        "colab": {
          "base_uri": "https://localhost:8080/",
          "height": 50
        }
      },
      "source": [
        "\n",
        "fin_jun['contract_status'].value_counts()"
      ],
      "execution_count": null,
      "outputs": [
        {
          "output_type": "execute_result",
          "data": {
            "text/plain": [
              "2    18523\n",
              "Name: contract_status, dtype: int64"
            ]
          },
          "metadata": {
            "tags": []
          },
          "execution_count": 58
        }
      ]
    },
    {
      "cell_type": "code",
      "metadata": {
        "id": "y5o1yu1-FrRj"
      },
      "source": [
        "fin_jun.dropna(inplace=True)"
      ],
      "execution_count": null,
      "outputs": []
    },
    {
      "cell_type": "code",
      "metadata": {
        "id": "Cla_CFaC7DUH"
      },
      "source": [
        "Y = fin_jun.loc[(fin_jun['salary_diff'] > 0),:][['salary_diff']]"
      ],
      "execution_count": null,
      "outputs": []
    },
    {
      "cell_type": "code",
      "metadata": {
        "id": "qxK9EfSv93UU"
      },
      "source": [
        "X= fin_jun.loc[(fin_jun['salary_diff'] > 0) ,:].drop(columns=['contract_status' , 'salary_diff' , 'registration_date'  ,'unit_location', 'fin_institution_num' ] )"
      ],
      "execution_count": null,
      "outputs": []
    },
    {
      "cell_type": "code",
      "metadata": {
        "id": "G3pDthgtCVmF",
        "outputId": "62eeec9b-293c-4e01-e29b-2495e47e34e0",
        "colab": {
          "base_uri": "https://localhost:8080/",
          "height": 436
        }
      },
      "source": [
        "X"
      ],
      "execution_count": null,
      "outputs": [
        {
          "output_type": "execute_result",
          "data": {
            "text/html": [
              "<div>\n",
              "<style scoped>\n",
              "    .dataframe tbody tr th:only-of-type {\n",
              "        vertical-align: middle;\n",
              "    }\n",
              "\n",
              "    .dataframe tbody tr th {\n",
              "        vertical-align: top;\n",
              "    }\n",
              "\n",
              "    .dataframe thead th {\n",
              "        text-align: right;\n",
              "    }\n",
              "</style>\n",
              "<table border=\"1\" class=\"dataframe\">\n",
              "  <thead>\n",
              "    <tr style=\"text-align: right;\">\n",
              "      <th></th>\n",
              "      <th>family_size</th>\n",
              "      <th>eligible_status</th>\n",
              "      <th>manual_monthly_salary</th>\n",
              "      <th>applicant_bank</th>\n",
              "      <th>type_of_work</th>\n",
              "      <th>project_region</th>\n",
              "      <th>Building_Type</th>\n",
              "      <th>unit_price</th>\n",
              "      <th>age</th>\n",
              "      <th>Products</th>\n",
              "      <th>has_recommendation</th>\n",
              "      <th>obligatory_consuler</th>\n",
              "    </tr>\n",
              "    <tr>\n",
              "      <th>national_id_map</th>\n",
              "      <th></th>\n",
              "      <th></th>\n",
              "      <th></th>\n",
              "      <th></th>\n",
              "      <th></th>\n",
              "      <th></th>\n",
              "      <th></th>\n",
              "      <th></th>\n",
              "      <th></th>\n",
              "      <th></th>\n",
              "      <th></th>\n",
              "      <th></th>\n",
              "    </tr>\n",
              "  </thead>\n",
              "  <tbody>\n",
              "    <tr>\n",
              "      <th>1099554964</th>\n",
              "      <td>2.0</td>\n",
              "      <td>1</td>\n",
              "      <td>4530.0</td>\n",
              "      <td>بنك البلاد</td>\n",
              "      <td>1</td>\n",
              "      <td>eastern_province</td>\n",
              "      <td>تاون هاوس</td>\n",
              "      <td>564939.00</td>\n",
              "      <td>22</td>\n",
              "      <td>البيع على الخارطة</td>\n",
              "      <td>Has Recommendations</td>\n",
              "      <td>True</td>\n",
              "    </tr>\n",
              "    <tr>\n",
              "      <th>1023660309</th>\n",
              "      <td>3.0</td>\n",
              "      <td>1</td>\n",
              "      <td>5500.0</td>\n",
              "      <td>البنك الأهلي التجاري</td>\n",
              "      <td>1</td>\n",
              "      <td>eastern_province</td>\n",
              "      <td>تاون هاوس</td>\n",
              "      <td>516954.00</td>\n",
              "      <td>34</td>\n",
              "      <td>البيع على الخارطة</td>\n",
              "      <td>Has Recommendations</td>\n",
              "      <td>True</td>\n",
              "    </tr>\n",
              "    <tr>\n",
              "      <th>1014298192</th>\n",
              "      <td>4.0</td>\n",
              "      <td>1</td>\n",
              "      <td>17500.0</td>\n",
              "      <td>البنك الأهلي التجاري</td>\n",
              "      <td>3</td>\n",
              "      <td>eastern_province</td>\n",
              "      <td>فيلا</td>\n",
              "      <td>765344.00</td>\n",
              "      <td>46</td>\n",
              "      <td>البيع على الخارطة</td>\n",
              "      <td>Has Recommendations</td>\n",
              "      <td>True</td>\n",
              "    </tr>\n",
              "    <tr>\n",
              "      <th>1078105044</th>\n",
              "      <td>2.0</td>\n",
              "      <td>1</td>\n",
              "      <td>4290.0</td>\n",
              "      <td>البنك السعودي للاستثمار</td>\n",
              "      <td>3</td>\n",
              "      <td>makkah</td>\n",
              "      <td>فيلا</td>\n",
              "      <td>954000.00</td>\n",
              "      <td>29</td>\n",
              "      <td>البناء الذاتي</td>\n",
              "      <td>No Recommendations</td>\n",
              "      <td>True</td>\n",
              "    </tr>\n",
              "    <tr>\n",
              "      <th>1001015336</th>\n",
              "      <td>4.0</td>\n",
              "      <td>1</td>\n",
              "      <td>15123.5</td>\n",
              "      <td>البنك الأهلي التجاري</td>\n",
              "      <td>1</td>\n",
              "      <td>makkah</td>\n",
              "      <td>شقة</td>\n",
              "      <td>436365.00</td>\n",
              "      <td>42</td>\n",
              "      <td>البيع على الخارطة</td>\n",
              "      <td>Has Recommendations</td>\n",
              "      <td>True</td>\n",
              "    </tr>\n",
              "    <tr>\n",
              "      <th>...</th>\n",
              "      <td>...</td>\n",
              "      <td>...</td>\n",
              "      <td>...</td>\n",
              "      <td>...</td>\n",
              "      <td>...</td>\n",
              "      <td>...</td>\n",
              "      <td>...</td>\n",
              "      <td>...</td>\n",
              "      <td>...</td>\n",
              "      <td>...</td>\n",
              "      <td>...</td>\n",
              "      <td>...</td>\n",
              "    </tr>\n",
              "    <tr>\n",
              "      <th>1064401878</th>\n",
              "      <td>2.0</td>\n",
              "      <td>1</td>\n",
              "      <td>4290.0</td>\n",
              "      <td>مصرف الراجحي</td>\n",
              "      <td>3</td>\n",
              "      <td>makkah</td>\n",
              "      <td>فيلا</td>\n",
              "      <td>738449.00</td>\n",
              "      <td>32</td>\n",
              "      <td>البيع على الخارطة</td>\n",
              "      <td>No Recommendations</td>\n",
              "      <td>False</td>\n",
              "    </tr>\n",
              "    <tr>\n",
              "      <th>1060834247</th>\n",
              "      <td>3.0</td>\n",
              "      <td>1</td>\n",
              "      <td>11790.0</td>\n",
              "      <td>البنك الأهلي التجاري</td>\n",
              "      <td>1</td>\n",
              "      <td>eastern_province</td>\n",
              "      <td>فيلا</td>\n",
              "      <td>653894.00</td>\n",
              "      <td>31</td>\n",
              "      <td>البيع على الخارطة</td>\n",
              "      <td>No Recommendations</td>\n",
              "      <td>True</td>\n",
              "    </tr>\n",
              "    <tr>\n",
              "      <th>1017586411</th>\n",
              "      <td>10.0</td>\n",
              "      <td>1</td>\n",
              "      <td>8880.0</td>\n",
              "      <td>البنك الأهلي التجاري</td>\n",
              "      <td>3</td>\n",
              "      <td>asir</td>\n",
              "      <td>فيلا</td>\n",
              "      <td>683000.00</td>\n",
              "      <td>46</td>\n",
              "      <td>البيع على الخارطة</td>\n",
              "      <td>No Recommendations</td>\n",
              "      <td>False</td>\n",
              "    </tr>\n",
              "    <tr>\n",
              "      <th>1010487708</th>\n",
              "      <td>2.0</td>\n",
              "      <td>1</td>\n",
              "      <td>6765.0</td>\n",
              "      <td>البنك العربي الوطني</td>\n",
              "      <td>3</td>\n",
              "      <td>makkah</td>\n",
              "      <td>فيلا</td>\n",
              "      <td>595882.75</td>\n",
              "      <td>44</td>\n",
              "      <td>البيع على الخارطة</td>\n",
              "      <td>No Recommendations</td>\n",
              "      <td>True</td>\n",
              "    </tr>\n",
              "    <tr>\n",
              "      <th>1104695794</th>\n",
              "      <td>3.0</td>\n",
              "      <td>1</td>\n",
              "      <td>5000.0</td>\n",
              "      <td>البنك الأهلي التجاري</td>\n",
              "      <td>3</td>\n",
              "      <td>makkah</td>\n",
              "      <td>فيلا</td>\n",
              "      <td>970000.00</td>\n",
              "      <td>30</td>\n",
              "      <td>البناء الذاتي</td>\n",
              "      <td>No Recommendations</td>\n",
              "      <td>True</td>\n",
              "    </tr>\n",
              "  </tbody>\n",
              "</table>\n",
              "<p>3706 rows × 12 columns</p>\n",
              "</div>"
            ],
            "text/plain": [
              "                 family_size  ...  obligatory_consuler\n",
              "national_id_map               ...                     \n",
              "1099554964               2.0  ...                 True\n",
              "1023660309               3.0  ...                 True\n",
              "1014298192               4.0  ...                 True\n",
              "1078105044               2.0  ...                 True\n",
              "1001015336               4.0  ...                 True\n",
              "...                      ...  ...                  ...\n",
              "1064401878               2.0  ...                False\n",
              "1060834247               3.0  ...                 True\n",
              "1017586411              10.0  ...                False\n",
              "1010487708               2.0  ...                 True\n",
              "1104695794               3.0  ...                 True\n",
              "\n",
              "[3706 rows x 12 columns]"
            ]
          },
          "metadata": {
            "tags": []
          },
          "execution_count": 62
        }
      ]
    },
    {
      "cell_type": "code",
      "metadata": {
        "id": "VvrZofNECas6",
        "outputId": "3df08495-2c05-4e89-810d-c604742e4ce0",
        "colab": {
          "base_uri": "https://localhost:8080/",
          "height": 33
        }
      },
      "source": [
        "len((X.index))"
      ],
      "execution_count": null,
      "outputs": [
        {
          "output_type": "execute_result",
          "data": {
            "text/plain": [
              "3706"
            ]
          },
          "metadata": {
            "tags": []
          },
          "execution_count": 63
        }
      ]
    },
    {
      "cell_type": "code",
      "metadata": {
        "id": "yBbjs_jmaEwZ"
      },
      "source": [
        "from keras.utils.np_utils import to_categorical\n",
        "from scipy import stats"
      ],
      "execution_count": null,
      "outputs": []
    },
    {
      "cell_type": "code",
      "metadata": {
        "id": "UPKy5Fi7Ds9_",
        "outputId": "6b49d5fc-7809-4218-ce81-288a29ffcd06",
        "colab": {
          "base_uri": "https://localhost:8080/",
          "height": 33
        }
      },
      "source": [
        "Y.shape"
      ],
      "execution_count": null,
      "outputs": [
        {
          "output_type": "execute_result",
          "data": {
            "text/plain": [
              "(3706, 1)"
            ]
          },
          "metadata": {
            "tags": []
          },
          "execution_count": 65
        }
      ]
    },
    {
      "cell_type": "code",
      "metadata": {
        "id": "IoWRcifFE9nb",
        "outputId": "8f24dff6-e56a-4d87-cb35-bdfa7e42696b",
        "colab": {
          "base_uri": "https://localhost:8080/",
          "height": 133
        }
      },
      "source": [
        "preprocessing.MinMaxScaler().fit_transform(Y)"
      ],
      "execution_count": null,
      "outputs": [
        {
          "output_type": "execute_result",
          "data": {
            "text/plain": [
              "array([[0.05517328],\n",
              "       [0.01040843],\n",
              "       [0.22021866],\n",
              "       ...,\n",
              "       [0.00480281],\n",
              "       [0.01060863],\n",
              "       [0.01601405]])"
            ]
          },
          "metadata": {
            "tags": []
          },
          "execution_count": 66
        }
      ]
    },
    {
      "cell_type": "code",
      "metadata": {
        "id": "IQi1QXdeGPOe"
      },
      "source": [
        ""
      ],
      "execution_count": null,
      "outputs": []
    },
    {
      "cell_type": "code",
      "metadata": {
        "id": "DmPwGD-ZEqll",
        "outputId": "159012be-d264-4f41-841f-3158236740a8",
        "colab": {
          "base_uri": "https://localhost:8080/",
          "height": 281
        }
      },
      "source": [
        "Y.plot(kind='hist')"
      ],
      "execution_count": null,
      "outputs": [
        {
          "output_type": "execute_result",
          "data": {
            "text/plain": [
              "<matplotlib.axes._subplots.AxesSubplot at 0x7fd6d511bf28>"
            ]
          },
          "metadata": {
            "tags": []
          },
          "execution_count": 67
        },
        {
          "output_type": "display_data",
          "data": {
            "image/png": "[encoded data removed]",
            "text/plain": [
              "<Figure size 432x288 with 1 Axes>"
            ]
          },
          "metadata": {
            "tags": [],
            "needs_background": "light"
          }
        }
      ]
    },
    {
      "cell_type": "code",
      "metadata": {
        "id": "vmknPuuhaEw2"
      },
      "source": [
        "normalizer = preprocessing.MinMaxScaler()\n",
        "#y_train1=normalizer.fit_transform(Y)\n",
        "#y_train1 = preprocessing.MinMaxScaler().fit_transform(Y)\n",
        "y_train1 =preprocessing.power_transform(Y , method='yeo-johnson')\n",
        "#y_train1=Y"
      ],
      "execution_count": null,
      "outputs": []
    },
    {
      "cell_type": "code",
      "metadata": {
        "id": "Jp5cp-FDqoea"
      },
      "source": [
        ""
      ],
      "execution_count": null,
      "outputs": []
    },
    {
      "cell_type": "code",
      "metadata": {
        "id": "6CY_55ZhNJHw"
      },
      "source": [
        ""
      ],
      "execution_count": null,
      "outputs": []
    },
    {
      "cell_type": "code",
      "metadata": {
        "id": "Fi-z2gG9-KkS"
      },
      "source": [
        "X = pd.get_dummies(X , columns=['project_region','type_of_work' , 'eligible_status',  'Building_Type' ,'has_recommendation' , 'Products'  , 'applicant_bank' ] , drop_first=True)"
      ],
      "execution_count": null,
      "outputs": []
    },
    {
      "cell_type": "code",
      "metadata": {
        "id": "_JyZAzRD-Kkg"
      },
      "source": [
        "#X_train=preprocessing.MinMaxScaler().fit_transform(X)\n",
        "X.iloc[: , :5]  =  preprocessing.power_transform(X.iloc[: , :5] , method='yeo-johnson')"
      ],
      "execution_count": null,
      "outputs": []
    },
    {
      "cell_type": "code",
      "metadata": {
        "id": "jeOF3bK1AuMO",
        "outputId": "c2cad6f4-0686-4720-febc-a4fe77f3c1f9",
        "colab": {
          "base_uri": "https://localhost:8080/",
          "height": 473
        }
      },
      "source": [
        "X"
      ],
      "execution_count": null,
      "outputs": [
        {
          "output_type": "execute_result",
          "data": {
            "text/html": [
              "<div>\n",
              "<style scoped>\n",
              "    .dataframe tbody tr th:only-of-type {\n",
              "        vertical-align: middle;\n",
              "    }\n",
              "\n",
              "    .dataframe tbody tr th {\n",
              "        vertical-align: top;\n",
              "    }\n",
              "\n",
              "    .dataframe thead th {\n",
              "        text-align: right;\n",
              "    }\n",
              "</style>\n",
              "<table border=\"1\" class=\"dataframe\">\n",
              "  <thead>\n",
              "    <tr style=\"text-align: right;\">\n",
              "      <th></th>\n",
              "      <th>family_size</th>\n",
              "      <th>manual_monthly_salary</th>\n",
              "      <th>unit_price</th>\n",
              "      <th>age</th>\n",
              "      <th>obligatory_consuler</th>\n",
              "      <th>project_region_bahah</th>\n",
              "      <th>project_region_eastern_province</th>\n",
              "      <th>project_region_hail</th>\n",
              "      <th>project_region_jawf</th>\n",
              "      <th>project_region_jizan</th>\n",
              "      <th>project_region_madinah</th>\n",
              "      <th>project_region_makkah</th>\n",
              "      <th>project_region_najran</th>\n",
              "      <th>project_region_northern_borders</th>\n",
              "      <th>project_region_qassim</th>\n",
              "      <th>project_region_riyadh</th>\n",
              "      <th>project_region_tabuk</th>\n",
              "      <th>type_of_work_2.0</th>\n",
              "      <th>type_of_work_3.0</th>\n",
              "      <th>type_of_work_4.0</th>\n",
              "      <th>type_of_work_5.0</th>\n",
              "      <th>type_of_work_6.0</th>\n",
              "      <th>eligible_status_1</th>\n",
              "      <th>Building_Type_شقة</th>\n",
              "      <th>Building_Type_فيلا</th>\n",
              "      <th>has_recommendation_No Recommendations</th>\n",
              "      <th>Products_البيع على الخارطة</th>\n",
              "      <th>Products_القرض القائم</th>\n",
              "      <th>Products_الوحدات الجاهزة</th>\n",
              "      <th>Products_فلل الوزارة</th>\n",
              "      <th>applicant_bank_البنك الأهلي التجاري</th>\n",
              "      <th>applicant_bank_البنك الأول</th>\n",
              "      <th>applicant_bank_البنك السعودي البريطاني</th>\n",
              "      <th>applicant_bank_البنك السعودي الفرنسي</th>\n",
              "      <th>applicant_bank_البنك السعودي للاستثمار</th>\n",
              "      <th>applicant_bank_البنك العربي الوطني</th>\n",
              "      <th>applicant_bank_بنك البلاد</th>\n",
              "      <th>applicant_bank_بنك الجزيرة</th>\n",
              "      <th>applicant_bank_بنك الرياض</th>\n",
              "      <th>applicant_bank_دار التمليك</th>\n",
              "      <th>applicant_bank_سامبا</th>\n",
              "      <th>applicant_bank_مصرف الإنماء</th>\n",
              "      <th>applicant_bank_مصرف الراجحي</th>\n",
              "    </tr>\n",
              "    <tr>\n",
              "      <th>national_id_map</th>\n",
              "      <th></th>\n",
              "      <th></th>\n",
              "      <th></th>\n",
              "      <th></th>\n",
              "      <th></th>\n",
              "      <th></th>\n",
              "      <th></th>\n",
              "      <th></th>\n",
              "      <th></th>\n",
              "      <th></th>\n",
              "      <th></th>\n",
              "      <th></th>\n",
              "      <th></th>\n",
              "      <th></th>\n",
              "      <th></th>\n",
              "      <th></th>\n",
              "      <th></th>\n",
              "      <th></th>\n",
              "      <th></th>\n",
              "      <th></th>\n",
              "      <th></th>\n",
              "      <th></th>\n",
              "      <th></th>\n",
              "      <th></th>\n",
              "      <th></th>\n",
              "      <th></th>\n",
              "      <th></th>\n",
              "      <th></th>\n",
              "      <th></th>\n",
              "      <th></th>\n",
              "      <th></th>\n",
              "      <th></th>\n",
              "      <th></th>\n",
              "      <th></th>\n",
              "      <th></th>\n",
              "      <th></th>\n",
              "      <th></th>\n",
              "      <th></th>\n",
              "      <th></th>\n",
              "      <th></th>\n",
              "      <th></th>\n",
              "      <th></th>\n",
              "      <th></th>\n",
              "    </tr>\n",
              "  </thead>\n",
              "  <tbody>\n",
              "    <tr>\n",
              "      <th>1099554964</th>\n",
              "      <td>-1.291074</td>\n",
              "      <td>-1.703781</td>\n",
              "      <td>-0.073572</td>\n",
              "      <td>-2.629934</td>\n",
              "      <td>0.922076</td>\n",
              "      <td>0</td>\n",
              "      <td>1</td>\n",
              "      <td>0</td>\n",
              "      <td>0</td>\n",
              "      <td>0</td>\n",
              "      <td>0</td>\n",
              "      <td>0</td>\n",
              "      <td>0</td>\n",
              "      <td>0</td>\n",
              "      <td>0</td>\n",
              "      <td>0</td>\n",
              "      <td>0</td>\n",
              "      <td>0</td>\n",
              "      <td>0</td>\n",
              "      <td>0</td>\n",
              "      <td>0</td>\n",
              "      <td>0</td>\n",
              "      <td>1</td>\n",
              "      <td>0</td>\n",
              "      <td>0</td>\n",
              "      <td>0</td>\n",
              "      <td>1</td>\n",
              "      <td>0</td>\n",
              "      <td>0</td>\n",
              "      <td>0</td>\n",
              "      <td>0</td>\n",
              "      <td>0</td>\n",
              "      <td>0</td>\n",
              "      <td>0</td>\n",
              "      <td>0</td>\n",
              "      <td>0</td>\n",
              "      <td>1</td>\n",
              "      <td>0</td>\n",
              "      <td>0</td>\n",
              "      <td>0</td>\n",
              "      <td>0</td>\n",
              "      <td>0</td>\n",
              "      <td>0</td>\n",
              "    </tr>\n",
              "    <tr>\n",
              "      <th>1023660309</th>\n",
              "      <td>-0.477593</td>\n",
              "      <td>-1.263834</td>\n",
              "      <td>-0.294374</td>\n",
              "      <td>-0.390508</td>\n",
              "      <td>0.922076</td>\n",
              "      <td>0</td>\n",
              "      <td>1</td>\n",
              "      <td>0</td>\n",
              "      <td>0</td>\n",
              "      <td>0</td>\n",
              "      <td>0</td>\n",
              "      <td>0</td>\n",
              "      <td>0</td>\n",
              "      <td>0</td>\n",
              "      <td>0</td>\n",
              "      <td>0</td>\n",
              "      <td>0</td>\n",
              "      <td>0</td>\n",
              "      <td>0</td>\n",
              "      <td>0</td>\n",
              "      <td>0</td>\n",
              "      <td>0</td>\n",
              "      <td>1</td>\n",
              "      <td>0</td>\n",
              "      <td>0</td>\n",
              "      <td>0</td>\n",
              "      <td>1</td>\n",
              "      <td>0</td>\n",
              "      <td>0</td>\n",
              "      <td>0</td>\n",
              "      <td>1</td>\n",
              "      <td>0</td>\n",
              "      <td>0</td>\n",
              "      <td>0</td>\n",
              "      <td>0</td>\n",
              "      <td>0</td>\n",
              "      <td>0</td>\n",
              "      <td>0</td>\n",
              "      <td>0</td>\n",
              "      <td>0</td>\n",
              "      <td>0</td>\n",
              "      <td>0</td>\n",
              "      <td>0</td>\n",
              "    </tr>\n",
              "    <tr>\n",
              "      <th>1014298192</th>\n",
              "      <td>0.156495</td>\n",
              "      <td>1.521645</td>\n",
              "      <td>0.848291</td>\n",
              "      <td>1.366341</td>\n",
              "      <td>0.922076</td>\n",
              "      <td>0</td>\n",
              "      <td>1</td>\n",
              "      <td>0</td>\n",
              "      <td>0</td>\n",
              "      <td>0</td>\n",
              "      <td>0</td>\n",
              "      <td>0</td>\n",
              "      <td>0</td>\n",
              "      <td>0</td>\n",
              "      <td>0</td>\n",
              "      <td>0</td>\n",
              "      <td>0</td>\n",
              "      <td>0</td>\n",
              "      <td>1</td>\n",
              "      <td>0</td>\n",
              "      <td>0</td>\n",
              "      <td>0</td>\n",
              "      <td>1</td>\n",
              "      <td>0</td>\n",
              "      <td>1</td>\n",
              "      <td>0</td>\n",
              "      <td>1</td>\n",
              "      <td>0</td>\n",
              "      <td>0</td>\n",
              "      <td>0</td>\n",
              "      <td>1</td>\n",
              "      <td>0</td>\n",
              "      <td>0</td>\n",
              "      <td>0</td>\n",
              "      <td>0</td>\n",
              "      <td>0</td>\n",
              "      <td>0</td>\n",
              "      <td>0</td>\n",
              "      <td>0</td>\n",
              "      <td>0</td>\n",
              "      <td>0</td>\n",
              "      <td>0</td>\n",
              "      <td>0</td>\n",
              "    </tr>\n",
              "    <tr>\n",
              "      <th>1078105044</th>\n",
              "      <td>-1.291074</td>\n",
              "      <td>-1.825874</td>\n",
              "      <td>1.715753</td>\n",
              "      <td>-1.246922</td>\n",
              "      <td>0.922076</td>\n",
              "      <td>0</td>\n",
              "      <td>0</td>\n",
              "      <td>0</td>\n",
              "      <td>0</td>\n",
              "      <td>0</td>\n",
              "      <td>0</td>\n",
              "      <td>1</td>\n",
              "      <td>0</td>\n",
              "      <td>0</td>\n",
              "      <td>0</td>\n",
              "      <td>0</td>\n",
              "      <td>0</td>\n",
              "      <td>0</td>\n",
              "      <td>1</td>\n",
              "      <td>0</td>\n",
              "      <td>0</td>\n",
              "      <td>0</td>\n",
              "      <td>1</td>\n",
              "      <td>0</td>\n",
              "      <td>1</td>\n",
              "      <td>1</td>\n",
              "      <td>0</td>\n",
              "      <td>0</td>\n",
              "      <td>0</td>\n",
              "      <td>0</td>\n",
              "      <td>0</td>\n",
              "      <td>0</td>\n",
              "      <td>0</td>\n",
              "      <td>0</td>\n",
              "      <td>1</td>\n",
              "      <td>0</td>\n",
              "      <td>0</td>\n",
              "      <td>0</td>\n",
              "      <td>0</td>\n",
              "      <td>0</td>\n",
              "      <td>0</td>\n",
              "      <td>0</td>\n",
              "      <td>0</td>\n",
              "    </tr>\n",
              "    <tr>\n",
              "      <th>1001015336</th>\n",
              "      <td>0.156495</td>\n",
              "      <td>1.154676</td>\n",
              "      <td>-0.665277</td>\n",
              "      <td>0.819171</td>\n",
              "      <td>0.922076</td>\n",
              "      <td>0</td>\n",
              "      <td>0</td>\n",
              "      <td>0</td>\n",
              "      <td>0</td>\n",
              "      <td>0</td>\n",
              "      <td>0</td>\n",
              "      <td>1</td>\n",
              "      <td>0</td>\n",
              "      <td>0</td>\n",
              "      <td>0</td>\n",
              "      <td>0</td>\n",
              "      <td>0</td>\n",
              "      <td>0</td>\n",
              "      <td>0</td>\n",
              "      <td>0</td>\n",
              "      <td>0</td>\n",
              "      <td>0</td>\n",
              "      <td>1</td>\n",
              "      <td>1</td>\n",
              "      <td>0</td>\n",
              "      <td>0</td>\n",
              "      <td>1</td>\n",
              "      <td>0</td>\n",
              "      <td>0</td>\n",
              "      <td>0</td>\n",
              "      <td>1</td>\n",
              "      <td>0</td>\n",
              "      <td>0</td>\n",
              "      <td>0</td>\n",
              "      <td>0</td>\n",
              "      <td>0</td>\n",
              "      <td>0</td>\n",
              "      <td>0</td>\n",
              "      <td>0</td>\n",
              "      <td>0</td>\n",
              "      <td>0</td>\n",
              "      <td>0</td>\n",
              "      <td>0</td>\n",
              "    </tr>\n",
              "    <tr>\n",
              "      <th>...</th>\n",
              "      <td>...</td>\n",
              "      <td>...</td>\n",
              "      <td>...</td>\n",
              "      <td>...</td>\n",
              "      <td>...</td>\n",
              "      <td>...</td>\n",
              "      <td>...</td>\n",
              "      <td>...</td>\n",
              "      <td>...</td>\n",
              "      <td>...</td>\n",
              "      <td>...</td>\n",
              "      <td>...</td>\n",
              "      <td>...</td>\n",
              "      <td>...</td>\n",
              "      <td>...</td>\n",
              "      <td>...</td>\n",
              "      <td>...</td>\n",
              "      <td>...</td>\n",
              "      <td>...</td>\n",
              "      <td>...</td>\n",
              "      <td>...</td>\n",
              "      <td>...</td>\n",
              "      <td>...</td>\n",
              "      <td>...</td>\n",
              "      <td>...</td>\n",
              "      <td>...</td>\n",
              "      <td>...</td>\n",
              "      <td>...</td>\n",
              "      <td>...</td>\n",
              "      <td>...</td>\n",
              "      <td>...</td>\n",
              "      <td>...</td>\n",
              "      <td>...</td>\n",
              "      <td>...</td>\n",
              "      <td>...</td>\n",
              "      <td>...</td>\n",
              "      <td>...</td>\n",
              "      <td>...</td>\n",
              "      <td>...</td>\n",
              "      <td>...</td>\n",
              "      <td>...</td>\n",
              "      <td>...</td>\n",
              "      <td>...</td>\n",
              "    </tr>\n",
              "    <tr>\n",
              "      <th>1064401878</th>\n",
              "      <td>-1.291074</td>\n",
              "      <td>-1.825874</td>\n",
              "      <td>0.724599</td>\n",
              "      <td>-0.722268</td>\n",
              "      <td>-1.084509</td>\n",
              "      <td>0</td>\n",
              "      <td>0</td>\n",
              "      <td>0</td>\n",
              "      <td>0</td>\n",
              "      <td>0</td>\n",
              "      <td>0</td>\n",
              "      <td>1</td>\n",
              "      <td>0</td>\n",
              "      <td>0</td>\n",
              "      <td>0</td>\n",
              "      <td>0</td>\n",
              "      <td>0</td>\n",
              "      <td>0</td>\n",
              "      <td>1</td>\n",
              "      <td>0</td>\n",
              "      <td>0</td>\n",
              "      <td>0</td>\n",
              "      <td>1</td>\n",
              "      <td>0</td>\n",
              "      <td>1</td>\n",
              "      <td>1</td>\n",
              "      <td>1</td>\n",
              "      <td>0</td>\n",
              "      <td>0</td>\n",
              "      <td>0</td>\n",
              "      <td>0</td>\n",
              "      <td>0</td>\n",
              "      <td>0</td>\n",
              "      <td>0</td>\n",
              "      <td>0</td>\n",
              "      <td>0</td>\n",
              "      <td>0</td>\n",
              "      <td>0</td>\n",
              "      <td>0</td>\n",
              "      <td>0</td>\n",
              "      <td>0</td>\n",
              "      <td>0</td>\n",
              "      <td>1</td>\n",
              "    </tr>\n",
              "    <tr>\n",
              "      <th>1060834247</th>\n",
              "      <td>-0.477593</td>\n",
              "      <td>0.539321</td>\n",
              "      <td>0.335676</td>\n",
              "      <td>-0.893362</td>\n",
              "      <td>0.922076</td>\n",
              "      <td>0</td>\n",
              "      <td>1</td>\n",
              "      <td>0</td>\n",
              "      <td>0</td>\n",
              "      <td>0</td>\n",
              "      <td>0</td>\n",
              "      <td>0</td>\n",
              "      <td>0</td>\n",
              "      <td>0</td>\n",
              "      <td>0</td>\n",
              "      <td>0</td>\n",
              "      <td>0</td>\n",
              "      <td>0</td>\n",
              "      <td>0</td>\n",
              "      <td>0</td>\n",
              "      <td>0</td>\n",
              "      <td>0</td>\n",
              "      <td>1</td>\n",
              "      <td>0</td>\n",
              "      <td>1</td>\n",
              "      <td>1</td>\n",
              "      <td>1</td>\n",
              "      <td>0</td>\n",
              "      <td>0</td>\n",
              "      <td>0</td>\n",
              "      <td>1</td>\n",
              "      <td>0</td>\n",
              "      <td>0</td>\n",
              "      <td>0</td>\n",
              "      <td>0</td>\n",
              "      <td>0</td>\n",
              "      <td>0</td>\n",
              "      <td>0</td>\n",
              "      <td>0</td>\n",
              "      <td>0</td>\n",
              "      <td>0</td>\n",
              "      <td>0</td>\n",
              "      <td>0</td>\n",
              "    </tr>\n",
              "    <tr>\n",
              "      <th>1017586411</th>\n",
              "      <td>2.418891</td>\n",
              "      <td>-0.145061</td>\n",
              "      <td>0.469562</td>\n",
              "      <td>1.366341</td>\n",
              "      <td>-1.084509</td>\n",
              "      <td>0</td>\n",
              "      <td>0</td>\n",
              "      <td>0</td>\n",
              "      <td>0</td>\n",
              "      <td>0</td>\n",
              "      <td>0</td>\n",
              "      <td>0</td>\n",
              "      <td>0</td>\n",
              "      <td>0</td>\n",
              "      <td>0</td>\n",
              "      <td>0</td>\n",
              "      <td>0</td>\n",
              "      <td>0</td>\n",
              "      <td>1</td>\n",
              "      <td>0</td>\n",
              "      <td>0</td>\n",
              "      <td>0</td>\n",
              "      <td>1</td>\n",
              "      <td>0</td>\n",
              "      <td>1</td>\n",
              "      <td>1</td>\n",
              "      <td>1</td>\n",
              "      <td>0</td>\n",
              "      <td>0</td>\n",
              "      <td>0</td>\n",
              "      <td>1</td>\n",
              "      <td>0</td>\n",
              "      <td>0</td>\n",
              "      <td>0</td>\n",
              "      <td>0</td>\n",
              "      <td>0</td>\n",
              "      <td>0</td>\n",
              "      <td>0</td>\n",
              "      <td>0</td>\n",
              "      <td>0</td>\n",
              "      <td>0</td>\n",
              "      <td>0</td>\n",
              "      <td>0</td>\n",
              "    </tr>\n",
              "    <tr>\n",
              "      <th>1010487708</th>\n",
              "      <td>-1.291074</td>\n",
              "      <td>-0.786125</td>\n",
              "      <td>0.068800</td>\n",
              "      <td>1.096944</td>\n",
              "      <td>0.922076</td>\n",
              "      <td>0</td>\n",
              "      <td>0</td>\n",
              "      <td>0</td>\n",
              "      <td>0</td>\n",
              "      <td>0</td>\n",
              "      <td>0</td>\n",
              "      <td>1</td>\n",
              "      <td>0</td>\n",
              "      <td>0</td>\n",
              "      <td>0</td>\n",
              "      <td>0</td>\n",
              "      <td>0</td>\n",
              "      <td>0</td>\n",
              "      <td>1</td>\n",
              "      <td>0</td>\n",
              "      <td>0</td>\n",
              "      <td>0</td>\n",
              "      <td>1</td>\n",
              "      <td>0</td>\n",
              "      <td>1</td>\n",
              "      <td>1</td>\n",
              "      <td>1</td>\n",
              "      <td>0</td>\n",
              "      <td>0</td>\n",
              "      <td>0</td>\n",
              "      <td>0</td>\n",
              "      <td>0</td>\n",
              "      <td>0</td>\n",
              "      <td>0</td>\n",
              "      <td>0</td>\n",
              "      <td>1</td>\n",
              "      <td>0</td>\n",
              "      <td>0</td>\n",
              "      <td>0</td>\n",
              "      <td>0</td>\n",
              "      <td>0</td>\n",
              "      <td>0</td>\n",
              "      <td>0</td>\n",
              "    </tr>\n",
              "    <tr>\n",
              "      <th>1104695794</th>\n",
              "      <td>-0.477593</td>\n",
              "      <td>-1.480880</td>\n",
              "      <td>1.789310</td>\n",
              "      <td>-1.068178</td>\n",
              "      <td>0.922076</td>\n",
              "      <td>0</td>\n",
              "      <td>0</td>\n",
              "      <td>0</td>\n",
              "      <td>0</td>\n",
              "      <td>0</td>\n",
              "      <td>0</td>\n",
              "      <td>1</td>\n",
              "      <td>0</td>\n",
              "      <td>0</td>\n",
              "      <td>0</td>\n",
              "      <td>0</td>\n",
              "      <td>0</td>\n",
              "      <td>0</td>\n",
              "      <td>1</td>\n",
              "      <td>0</td>\n",
              "      <td>0</td>\n",
              "      <td>0</td>\n",
              "      <td>1</td>\n",
              "      <td>0</td>\n",
              "      <td>1</td>\n",
              "      <td>1</td>\n",
              "      <td>0</td>\n",
              "      <td>0</td>\n",
              "      <td>0</td>\n",
              "      <td>0</td>\n",
              "      <td>1</td>\n",
              "      <td>0</td>\n",
              "      <td>0</td>\n",
              "      <td>0</td>\n",
              "      <td>0</td>\n",
              "      <td>0</td>\n",
              "      <td>0</td>\n",
              "      <td>0</td>\n",
              "      <td>0</td>\n",
              "      <td>0</td>\n",
              "      <td>0</td>\n",
              "      <td>0</td>\n",
              "      <td>0</td>\n",
              "    </tr>\n",
              "  </tbody>\n",
              "</table>\n",
              "<p>3706 rows × 43 columns</p>\n",
              "</div>"
            ],
            "text/plain": [
              "                 family_size  ...  applicant_bank_مصرف الراجحي\n",
              "national_id_map               ...                             \n",
              "1099554964         -1.291074  ...                            0\n",
              "1023660309         -0.477593  ...                            0\n",
              "1014298192          0.156495  ...                            0\n",
              "1078105044         -1.291074  ...                            0\n",
              "1001015336          0.156495  ...                            0\n",
              "...                      ...  ...                          ...\n",
              "1064401878         -1.291074  ...                            1\n",
              "1060834247         -0.477593  ...                            0\n",
              "1017586411          2.418891  ...                            0\n",
              "1010487708         -1.291074  ...                            0\n",
              "1104695794         -0.477593  ...                            0\n",
              "\n",
              "[3706 rows x 43 columns]"
            ]
          },
          "metadata": {
            "tags": []
          },
          "execution_count": 71
        }
      ]
    },
    {
      "cell_type": "code",
      "metadata": {
        "id": "5zQv-9X8lDAL"
      },
      "source": [
        "X_train=X"
      ],
      "execution_count": null,
      "outputs": []
    },
    {
      "cell_type": "code",
      "metadata": {
        "id": "-u6RQIFUfWe6",
        "outputId": "219a9dff-a7d4-4cf2-ae7d-27abbfb2355b",
        "colab": {
          "base_uri": "https://localhost:8080/",
          "height": 436
        }
      },
      "source": [
        "Y"
      ],
      "execution_count": null,
      "outputs": [
        {
          "output_type": "execute_result",
          "data": {
            "text/html": [
              "<div>\n",
              "<style scoped>\n",
              "    .dataframe tbody tr th:only-of-type {\n",
              "        vertical-align: middle;\n",
              "    }\n",
              "\n",
              "    .dataframe tbody tr th {\n",
              "        vertical-align: top;\n",
              "    }\n",
              "\n",
              "    .dataframe thead th {\n",
              "        text-align: right;\n",
              "    }\n",
              "</style>\n",
              "<table border=\"1\" class=\"dataframe\">\n",
              "  <thead>\n",
              "    <tr style=\"text-align: right;\">\n",
              "      <th></th>\n",
              "      <th>salary_diff</th>\n",
              "    </tr>\n",
              "    <tr>\n",
              "      <th>national_id_map</th>\n",
              "      <th></th>\n",
              "    </tr>\n",
              "  </thead>\n",
              "  <tbody>\n",
              "    <tr>\n",
              "      <th>1099554964</th>\n",
              "      <td>1378.0</td>\n",
              "    </tr>\n",
              "    <tr>\n",
              "      <th>1023660309</th>\n",
              "      <td>260.0</td>\n",
              "    </tr>\n",
              "    <tr>\n",
              "      <th>1014298192</th>\n",
              "      <td>5500.0</td>\n",
              "    </tr>\n",
              "    <tr>\n",
              "      <th>1078105044</th>\n",
              "      <td>175.0</td>\n",
              "    </tr>\n",
              "    <tr>\n",
              "      <th>1001015336</th>\n",
              "      <td>1273.5</td>\n",
              "    </tr>\n",
              "    <tr>\n",
              "      <th>...</th>\n",
              "      <td>...</td>\n",
              "    </tr>\n",
              "    <tr>\n",
              "      <th>1064401878</th>\n",
              "      <td>175.0</td>\n",
              "    </tr>\n",
              "    <tr>\n",
              "      <th>1060834247</th>\n",
              "      <td>2621.0</td>\n",
              "    </tr>\n",
              "    <tr>\n",
              "      <th>1017586411</th>\n",
              "      <td>120.0</td>\n",
              "    </tr>\n",
              "    <tr>\n",
              "      <th>1010487708</th>\n",
              "      <td>265.0</td>\n",
              "    </tr>\n",
              "    <tr>\n",
              "      <th>1104695794</th>\n",
              "      <td>400.0</td>\n",
              "    </tr>\n",
              "  </tbody>\n",
              "</table>\n",
              "<p>3706 rows × 1 columns</p>\n",
              "</div>"
            ],
            "text/plain": [
              "                 salary_diff\n",
              "national_id_map             \n",
              "1099554964            1378.0\n",
              "1023660309             260.0\n",
              "1014298192            5500.0\n",
              "1078105044             175.0\n",
              "1001015336            1273.5\n",
              "...                      ...\n",
              "1064401878             175.0\n",
              "1060834247            2621.0\n",
              "1017586411             120.0\n",
              "1010487708             265.0\n",
              "1104695794             400.0\n",
              "\n",
              "[3706 rows x 1 columns]"
            ]
          },
          "metadata": {
            "tags": []
          },
          "execution_count": 73
        }
      ]
    },
    {
      "cell_type": "code",
      "metadata": {
        "id": "y2LCYX5ZpeZ1",
        "outputId": "bb0c4063-6e1f-4421-87c1-ec03b777711f",
        "colab": {
          "base_uri": "https://localhost:8080/",
          "height": 281
        }
      },
      "source": [
        "pd.Series(np.squeeze(preprocessing.power_transform(Y , method='box-cox')).tolist()).plot(kind='hist')"
      ],
      "execution_count": null,
      "outputs": [
        {
          "output_type": "execute_result",
          "data": {
            "text/plain": [
              "<matplotlib.axes._subplots.AxesSubplot at 0x7fd6d4fe5978>"
            ]
          },
          "metadata": {
            "tags": []
          },
          "execution_count": 74
        },
        {
          "output_type": "display_data",
          "data": {
            "image/png": "[encoded data removed]",
            "text/plain": [
              "<Figure size 432x288 with 1 Axes>"
            ]
          },
          "metadata": {
            "tags": [],
            "needs_background": "light"
          }
        }
      ]
    },
    {
      "cell_type": "code",
      "metadata": {
        "id": "minF2mFsEHTJ",
        "outputId": "6a0aa53c-962f-4fb5-ac73-552fda10c3c7",
        "colab": {
          "base_uri": "https://localhost:8080/",
          "height": 33
        }
      },
      "source": [
        "X_train.shape"
      ],
      "execution_count": null,
      "outputs": [
        {
          "output_type": "execute_result",
          "data": {
            "text/plain": [
              "(3706, 43)"
            ]
          },
          "metadata": {
            "tags": []
          },
          "execution_count": 75
        }
      ]
    },
    {
      "cell_type": "code",
      "metadata": {
        "id": "61xbKa58KgHT"
      },
      "source": [
        "input_dim = X_train.shape[1]"
      ],
      "execution_count": null,
      "outputs": []
    },
    {
      "cell_type": "code",
      "metadata": {
        "id": "C2Z01038P0Ye"
      },
      "source": [
        "from sklearn.metrics import r2_score"
      ],
      "execution_count": null,
      "outputs": []
    },
    {
      "cell_type": "code",
      "metadata": {
        "id": "icqU6kfqLQG9"
      },
      "source": [
        "from keras import backend as K\n",
        "\n",
        "def coeff_determination(y_true, y_pred):\n",
        "    from keras import backend as K\n",
        "    SS_res =  K.sum(K.square( y_true-y_pred ))\n",
        "    SS_tot = K.sum(K.square( y_true - K.mean(y_true) ) )\n",
        "    return ( 1 - SS_res/(SS_tot + K.epsilon()) )"
      ],
      "execution_count": null,
      "outputs": []
    },
    {
      "cell_type": "code",
      "metadata": {
        "id": "3kUVdibbJRAN"
      },
      "source": [
        "#model = Sequential()\n",
        "#model.add(Dense(16, input_dim=input_dim, activation='relu'))\n",
        "\n",
        "\n",
        "\n",
        "#model.add(Dense(8, activation='relu'))\n",
        "\n",
        "\n",
        "\n",
        "\n",
        "#model.add(Dense(4, activation='relu'))\n",
        "\n",
        "\n",
        "\n",
        "#IMPORTANT PART\n",
        "#model.add(Dense(1, activation='relu'))\n",
        "\n",
        "\n",
        "\n",
        "   # Compile model\n",
        "#model.compile(loss='mse', optimizer='adam' , metrics= coeff_determination)\n",
        "\n",
        "#model.fit(X_tr ,y_tr , epochs=100, validation_split=0.3, batch_size=5 ,verbose=0)"
      ],
      "execution_count": null,
      "outputs": []
    },
    {
      "cell_type": "code",
      "metadata": {
        "id": "F6qMX05sKu0X"
      },
      "source": [
        ""
      ],
      "execution_count": null,
      "outputs": []
    },
    {
      "cell_type": "code",
      "metadata": {
        "id": "qZ6g3-YvVavz"
      },
      "source": [
        "\n",
        "#eval_model=model.evaluate(X_tr, y_tr)\n",
        "#eval_model"
      ],
      "execution_count": null,
      "outputs": []
    },
    {
      "cell_type": "code",
      "metadata": {
        "id": "PCtPzQrGVa8u"
      },
      "source": [
        "#eval_model2=model.evaluate(X_te, y_te)\n",
        "#eval_model2"
      ],
      "execution_count": null,
      "outputs": []
    },
    {
      "cell_type": "code",
      "metadata": {
        "id": "-8vGijboSQfV"
      },
      "source": [
        "#test_pred= model.predict(X_te)\n"
      ],
      "execution_count": null,
      "outputs": []
    },
    {
      "cell_type": "code",
      "metadata": {
        "id": "I-xg4hDKTXSD"
      },
      "source": [
        ""
      ],
      "execution_count": null,
      "outputs": []
    },
    {
      "cell_type": "code",
      "metadata": {
        "id": "Ero_HaLsOUv2"
      },
      "source": [
        "from sklearn.metrics import mean_squared_error , r2_score\n",
        "\n",
        "#r2_score(normalizer.inverse_transform(y_te), normalizer.inverse_transform(test_pred))"
      ],
      "execution_count": null,
      "outputs": []
    },
    {
      "cell_type": "code",
      "metadata": {
        "id": "Xhp1jXccJGPP"
      },
      "source": [
        "from sklearn.model_selection import train_test_split\n",
        "X_tr, X_te, y_tr, y_te = train_test_split(X_train, y_train1, test_size=0.3)"
      ],
      "execution_count": null,
      "outputs": []
    },
    {
      "cell_type": "code",
      "metadata": {
        "id": "1VagQSEE9QG_",
        "outputId": "716e7a44-526b-4861-fbeb-54f3b638e6a8",
        "colab": {
          "base_uri": "https://localhost:8080/",
          "height": 133
        }
      },
      "source": [
        "from sklearn.ensemble import RandomForestClassifier\n",
        "from sklearn.ensemble import RandomForestRegressor\n",
        "from xgboost import XGBRegressor\n",
        "\n",
        "\n",
        "rf = XGBRegressor(n_estimators = 10000 , max_depth= 6  , learning_rate=0.001 , subsample=0.9, colsample_bytree=0.9 , objective='reg:squarederror' ,  gamma=0.3\n",
        "                  ,random_state=42 , n_jobs=-1  , max_delta_step=5)\n",
        "rf.fit(X_tr, y_tr)\n",
        "\n",
        "\n"
      ],
      "execution_count": null,
      "outputs": [
        {
          "output_type": "execute_result",
          "data": {
            "text/plain": [
              "XGBRegressor(base_score=0.5, booster='gbtree', colsample_bylevel=1,\n",
              "             colsample_bynode=1, colsample_bytree=0.9, gamma=0.3,\n",
              "             importance_type='gain', learning_rate=0.001, max_delta_step=5,\n",
              "             max_depth=6, min_child_weight=1, missing=None, n_estimators=10000,\n",
              "             n_jobs=-1, nthread=None, objective='reg:squarederror',\n",
              "             random_state=42, reg_alpha=0, reg_lambda=1, scale_pos_weight=1,\n",
              "             seed=None, silent=None, subsample=0.9, verbosity=1)"
            ]
          },
          "metadata": {
            "tags": []
          },
          "execution_count": 85
        }
      ]
    },
    {
      "cell_type": "code",
      "metadata": {
        "id": "tGTVtkmpsjCV",
        "outputId": "3de42486-ae8b-497e-d52f-f0ed87b47cb6",
        "colab": {
          "base_uri": "https://localhost:8080/",
          "height": 33
        }
      },
      "source": [
        "print('Training Accuracy: {:.2f} '.format(rf.score(X_tr, y_tr)*100))\n",
        "\n",
        "\n"
      ],
      "execution_count": null,
      "outputs": [
        {
          "output_type": "stream",
          "text": [
            "Training Accuracy: 73.76 \n"
          ],
          "name": "stdout"
        }
      ]
    },
    {
      "cell_type": "code",
      "metadata": {
        "id": "ANDrJ_t2jb4e",
        "outputId": "125b7725-1443-4162-afc1-b07962eb7de6",
        "colab": {
          "base_uri": "https://localhost:8080/",
          "height": 33
        }
      },
      "source": [
        "print('Test Accuracy: {:.2f} '.format(rf.score(X_te, y_te)*100))"
      ],
      "execution_count": null,
      "outputs": [
        {
          "output_type": "stream",
          "text": [
            "Test Accuracy: 33.18 \n"
          ],
          "name": "stdout"
        }
      ]
    },
    {
      "cell_type": "code",
      "metadata": {
        "id": "zA2K8m7AIml0",
        "outputId": "29c0d10c-6033-4454-82a1-27365e64fcd1",
        "colab": {
          "base_uri": "https://localhost:8080/",
          "height": 33
        }
      },
      "source": [
        "from sklearn.metrics import mean_squared_error\n",
        "test_pred = rf.predict(X_te)\n",
        "\n",
        "mean_squared_error(y_te, test_pred)"
      ],
      "execution_count": null,
      "outputs": [
        {
          "output_type": "execute_result",
          "data": {
            "text/plain": [
              "0.6362258578635447"
            ]
          },
          "metadata": {
            "tags": []
          },
          "execution_count": 88
        }
      ]
    },
    {
      "cell_type": "code",
      "metadata": {
        "id": "Fnl_Iqzc-hET"
      },
      "source": [
        "features = X.columns"
      ],
      "execution_count": null,
      "outputs": []
    },
    {
      "cell_type": "code",
      "metadata": {
        "id": "k1WCwDWa-hEj"
      },
      "source": [
        "importances = rf.feature_importances_\n",
        "indices = np.argsort(importances)"
      ],
      "execution_count": null,
      "outputs": []
    },
    {
      "cell_type": "code",
      "metadata": {
        "id": "9hhCR173u5fI"
      },
      "source": [
        "# booking - sign "
      ],
      "execution_count": null,
      "outputs": []
    },
    {
      "cell_type": "code",
      "metadata": {
        "id": "hNlCxalk-hEu",
        "outputId": "f6deeecd-8239-4739-d107-774c47dc0ca6",
        "colab": {
          "base_uri": "https://localhost:8080/",
          "height": 294
        }
      },
      "source": [
        "plt.title('Feature Importances')\n",
        "plt.barh(range(len(indices[-15:])), importances[indices][-15:]*100, color='b', align='center')\n",
        "plt.yticks(range(len(indices[-15:])), [get_display(arabic_reshaper.reshape(features[i])) for i in indices[-15:]])\n",
        "plt.xlabel('Relative Importance')\n",
        "plt.show()"
      ],
      "execution_count": null,
      "outputs": [
        {
          "output_type": "display_data",
          "data": {
            "image/png": "[encoded data removed]",
            "text/plain": [
              "<Figure size 432x288 with 1 Axes>"
            ]
          },
          "metadata": {
            "tags": [],
            "needs_background": "light"
          }
        }
      ]
    },
    {
      "cell_type": "code",
      "metadata": {
        "id": "krp9Ve5s0j42"
      },
      "source": [
        "pd.DataFrame (features[indices][-15 : ] , importances[indices][-15 : ] ).to_excel('xawy.xlsx')"
      ],
      "execution_count": null,
      "outputs": []
    },
    {
      "cell_type": "code",
      "metadata": {
        "id": "GgZqDfSJeQ8j",
        "outputId": "e97d5a54-6ce4-4852-cdb9-944bf7d63e06",
        "colab": {
          "base_uri": "https://localhost:8080/",
          "height": 295
        }
      },
      "source": [
        "testing_data = fin_jun.loc[(fin_jun['salary_diff']!=0) & (fin_jun['salary_diff']> -1000) & (fin_jun['salary_diff'] < 2000) , :]\n",
        "Y=  testing_data['salary_diff']\n",
        "X = testing_data['manual_monthly_salary']\n",
        "results = sm.OLS(Y,sm.add_constant(X)).fit()\n",
        "\n",
        "plt.scatter(X,Y)\n",
        "\n",
        "\n",
        "\n",
        "plt.plot(np.unique(X), np.poly1d(np.polyfit(X, Y, 1))(np.unique(X)))\n",
        "plt.xlabel('monthly salary')\n",
        "plt.ylabel('salary difference')\n"
      ],
      "execution_count": null,
      "outputs": [
        {
          "output_type": "execute_result",
          "data": {
            "text/plain": [
              "Text(0, 0.5, 'salary difference')"
            ]
          },
          "metadata": {
            "tags": []
          },
          "execution_count": 94
        },
        {
          "output_type": "display_data",
          "data": {
            "image/png": "[encoded data removed]",
            "text/plain": [
              "<Figure size 432x288 with 1 Axes>"
            ]
          },
          "metadata": {
            "tags": [],
            "needs_background": "light"
          }
        }
      ]
    },
    {
      "cell_type": "code",
      "metadata": {
        "id": "75kh32rWEyW4",
        "outputId": "67eabb75-e144-4bd1-95cb-aa76bbd9c0f8",
        "colab": {
          "base_uri": "https://localhost:8080/",
          "height": 107
        }
      },
      "source": [
        "fin_jun.loc[fin_jun['salary_diff']>0 , ['manual_monthly_salary' , 'salary_diff']].corr()"
      ],
      "execution_count": null,
      "outputs": [
        {
          "output_type": "execute_result",
          "data": {
            "text/html": [
              "<div>\n",
              "<style scoped>\n",
              "    .dataframe tbody tr th:only-of-type {\n",
              "        vertical-align: middle;\n",
              "    }\n",
              "\n",
              "    .dataframe tbody tr th {\n",
              "        vertical-align: top;\n",
              "    }\n",
              "\n",
              "    .dataframe thead th {\n",
              "        text-align: right;\n",
              "    }\n",
              "</style>\n",
              "<table border=\"1\" class=\"dataframe\">\n",
              "  <thead>\n",
              "    <tr style=\"text-align: right;\">\n",
              "      <th></th>\n",
              "      <th>manual_monthly_salary</th>\n",
              "      <th>salary_diff</th>\n",
              "    </tr>\n",
              "  </thead>\n",
              "  <tbody>\n",
              "    <tr>\n",
              "      <th>manual_monthly_salary</th>\n",
              "      <td>1.000000</td>\n",
              "      <td>0.415894</td>\n",
              "    </tr>\n",
              "    <tr>\n",
              "      <th>salary_diff</th>\n",
              "      <td>0.415894</td>\n",
              "      <td>1.000000</td>\n",
              "    </tr>\n",
              "  </tbody>\n",
              "</table>\n",
              "</div>"
            ],
            "text/plain": [
              "                       manual_monthly_salary  salary_diff\n",
              "manual_monthly_salary               1.000000     0.415894\n",
              "salary_diff                         0.415894     1.000000"
            ]
          },
          "metadata": {
            "tags": []
          },
          "execution_count": 95
        }
      ]
    },
    {
      "cell_type": "code",
      "metadata": {
        "id": "eRxodDp8aExH",
        "outputId": "f0e6bcce-f0e1-473c-ce9e-696e98b4dc58",
        "colab": {
          "base_uri": "https://localhost:8080/",
          "height": 296
        }
      },
      "source": [
        "Y=  testing_data['salary_diff']\n",
        "X = testing_data['unit_price']\n",
        "results = sm.OLS(Y,sm.add_constant(X)).fit()\n",
        "\n",
        "\n",
        "\n",
        "plt.scatter(X,Y)\n",
        "plt.plot(X, np.poly1d(np.polyfit(X, Y, 1))(X))\n",
        "plt.xlabel('unit_price')\n",
        "plt.ylabel('salary difference')\n"
      ],
      "execution_count": null,
      "outputs": [
        {
          "output_type": "execute_result",
          "data": {
            "text/plain": [
              "Text(0, 0.5, 'salary difference')"
            ]
          },
          "metadata": {
            "tags": []
          },
          "execution_count": 96
        },
        {
          "output_type": "display_data",
          "data": {
            "image/png": "[encoded data removed]",
            "text/plain": [
              "<Figure size 432x288 with 1 Axes>"
            ]
          },
          "metadata": {
            "tags": [],
            "needs_background": "light"
          }
        }
      ]
    },
    {
      "cell_type": "code",
      "metadata": {
        "id": "c6l3fwBaZYjz",
        "outputId": "9bffde02-6715-41b3-8a77-44f204e70a1a",
        "colab": {
          "base_uri": "https://localhost:8080/",
          "height": 107
        }
      },
      "source": [
        "fin_jun.loc[(fin_jun['salary_diff']!=0) & (fin_jun['salary_diff']> -1000) & (fin_jun['salary_diff'] < 5000), ['salary_diff' , 'unit_price']].corr()"
      ],
      "execution_count": null,
      "outputs": [
        {
          "output_type": "execute_result",
          "data": {
            "text/html": [
              "<div>\n",
              "<style scoped>\n",
              "    .dataframe tbody tr th:only-of-type {\n",
              "        vertical-align: middle;\n",
              "    }\n",
              "\n",
              "    .dataframe tbody tr th {\n",
              "        vertical-align: top;\n",
              "    }\n",
              "\n",
              "    .dataframe thead th {\n",
              "        text-align: right;\n",
              "    }\n",
              "</style>\n",
              "<table border=\"1\" class=\"dataframe\">\n",
              "  <thead>\n",
              "    <tr style=\"text-align: right;\">\n",
              "      <th></th>\n",
              "      <th>salary_diff</th>\n",
              "      <th>unit_price</th>\n",
              "    </tr>\n",
              "  </thead>\n",
              "  <tbody>\n",
              "    <tr>\n",
              "      <th>salary_diff</th>\n",
              "      <td>1.000000</td>\n",
              "      <td>-0.002763</td>\n",
              "    </tr>\n",
              "    <tr>\n",
              "      <th>unit_price</th>\n",
              "      <td>-0.002763</td>\n",
              "      <td>1.000000</td>\n",
              "    </tr>\n",
              "  </tbody>\n",
              "</table>\n",
              "</div>"
            ],
            "text/plain": [
              "             salary_diff  unit_price\n",
              "salary_diff     1.000000   -0.002763\n",
              "unit_price     -0.002763    1.000000"
            ]
          },
          "metadata": {
            "tags": []
          },
          "execution_count": 97
        }
      ]
    },
    {
      "cell_type": "code",
      "metadata": {
        "id": "X9ixR8yyVCPs"
      },
      "source": [
        ""
      ],
      "execution_count": null,
      "outputs": []
    },
    {
      "cell_type": "code",
      "metadata": {
        "id": "kI10m-nAVCg4",
        "outputId": "8811f65a-a197-416f-8a96-c3c4b4b087ca",
        "colab": {
          "base_uri": "https://localhost:8080/",
          "height": 295
        }
      },
      "source": [
        "testing_data = fin_jun.loc[(fin_jun['salary_diff']!=0) & (fin_jun['salary_diff']> -1000) & (fin_jun['salary_diff'] < 2000) , :]\n",
        "Y=  testing_data['salary_diff']\n",
        "X = testing_data['age']\n",
        "results = sm.OLS(Y,sm.add_constant(X)).fit()\n",
        "\n",
        "\n",
        "\n",
        "plt.scatter(X,Y)\n",
        "plt.plot(X, np.poly1d(np.polyfit(X, Y, 1))(X))\n",
        "plt.xlabel('age')\n",
        "plt.ylabel('salary difference')\n"
      ],
      "execution_count": null,
      "outputs": [
        {
          "output_type": "execute_result",
          "data": {
            "text/plain": [
              "Text(0, 0.5, 'salary difference')"
            ]
          },
          "metadata": {
            "tags": []
          },
          "execution_count": 98
        },
        {
          "output_type": "display_data",
          "data": {
            "image/png": "[encoded data removed]",
            "text/plain": [
              "<Figure size 432x288 with 1 Axes>"
            ]
          },
          "metadata": {
            "tags": [],
            "needs_background": "light"
          }
        }
      ]
    },
    {
      "cell_type": "code",
      "metadata": {
        "id": "O8-k4tlYv2aH"
      },
      "source": [
        ""
      ],
      "execution_count": null,
      "outputs": []
    },
    {
      "cell_type": "code",
      "metadata": {
        "id": "1k7GuMxuv2dM"
      },
      "source": [
        ""
      ],
      "execution_count": null,
      "outputs": []
    },
    {
      "cell_type": "code",
      "metadata": {
        "id": "1t_jG6XEv2mO"
      },
      "source": [
        ""
      ],
      "execution_count": null,
      "outputs": []
    },
    {
      "cell_type": "code",
      "metadata": {
        "id": "iLvZ6uJcv2W-"
      },
      "source": [
        ""
      ],
      "execution_count": null,
      "outputs": []
    },
    {
      "cell_type": "code",
      "metadata": {
        "id": "MrBNtfcNv3Ko"
      },
      "source": [
        "fin_jun = financial.loc[(financial['manual_monthly_salary'] > 0) & (financial['financial_adv_salary'] > 0 ) , :]"
      ],
      "execution_count": null,
      "outputs": []
    },
    {
      "cell_type": "code",
      "metadata": {
        "id": "T_CutIZvv3Kr"
      },
      "source": [
        "fin_jun.drop(columns=['max_loan_amount','lender_name' ,'recommendation_created_at'],inplace=True)"
      ],
      "execution_count": null,
      "outputs": []
    },
    {
      "cell_type": "code",
      "metadata": {
        "id": "oNsIMhl3v3Kt",
        "outputId": "63a577a1-3fd4-44f9-89bb-6dbba7632a71",
        "colab": {
          "base_uri": "https://localhost:8080/",
          "height": 197
        }
      },
      "source": [
        "fin_jun.loc[:,['monthly_salary','home_allowance','financial_adv_salary','financial_adv_home_allowance' ,'manual_monthly_salary']].corr()"
      ],
      "execution_count": null,
      "outputs": [
        {
          "output_type": "execute_result",
          "data": {
            "text/html": [
              "<div>\n",
              "<style scoped>\n",
              "    .dataframe tbody tr th:only-of-type {\n",
              "        vertical-align: middle;\n",
              "    }\n",
              "\n",
              "    .dataframe tbody tr th {\n",
              "        vertical-align: top;\n",
              "    }\n",
              "\n",
              "    .dataframe thead th {\n",
              "        text-align: right;\n",
              "    }\n",
              "</style>\n",
              "<table border=\"1\" class=\"dataframe\">\n",
              "  <thead>\n",
              "    <tr style=\"text-align: right;\">\n",
              "      <th></th>\n",
              "      <th>monthly_salary</th>\n",
              "      <th>home_allowance</th>\n",
              "      <th>financial_adv_salary</th>\n",
              "      <th>financial_adv_home_allowance</th>\n",
              "      <th>manual_monthly_salary</th>\n",
              "    </tr>\n",
              "  </thead>\n",
              "  <tbody>\n",
              "    <tr>\n",
              "      <th>monthly_salary</th>\n",
              "      <td>1.000000</td>\n",
              "      <td>0.922838</td>\n",
              "      <td>0.262897</td>\n",
              "      <td>0.551999</td>\n",
              "      <td>0.829954</td>\n",
              "    </tr>\n",
              "    <tr>\n",
              "      <th>home_allowance</th>\n",
              "      <td>0.922838</td>\n",
              "      <td>1.000000</td>\n",
              "      <td>0.237808</td>\n",
              "      <td>0.600457</td>\n",
              "      <td>0.751258</td>\n",
              "    </tr>\n",
              "    <tr>\n",
              "      <th>financial_adv_salary</th>\n",
              "      <td>0.262897</td>\n",
              "      <td>0.237808</td>\n",
              "      <td>1.000000</td>\n",
              "      <td>0.294953</td>\n",
              "      <td>0.352267</td>\n",
              "    </tr>\n",
              "    <tr>\n",
              "      <th>financial_adv_home_allowance</th>\n",
              "      <td>0.551999</td>\n",
              "      <td>0.600457</td>\n",
              "      <td>0.294953</td>\n",
              "      <td>1.000000</td>\n",
              "      <td>0.525856</td>\n",
              "    </tr>\n",
              "    <tr>\n",
              "      <th>manual_monthly_salary</th>\n",
              "      <td>0.829954</td>\n",
              "      <td>0.751258</td>\n",
              "      <td>0.352267</td>\n",
              "      <td>0.525856</td>\n",
              "      <td>1.000000</td>\n",
              "    </tr>\n",
              "  </tbody>\n",
              "</table>\n",
              "</div>"
            ],
            "text/plain": [
              "                              monthly_salary  ...  manual_monthly_salary\n",
              "monthly_salary                      1.000000  ...               0.829954\n",
              "home_allowance                      0.922838  ...               0.751258\n",
              "financial_adv_salary                0.262897  ...               0.352267\n",
              "financial_adv_home_allowance        0.551999  ...               0.525856\n",
              "manual_monthly_salary               0.829954  ...               1.000000\n",
              "\n",
              "[5 rows x 5 columns]"
            ]
          },
          "metadata": {
            "tags": []
          },
          "execution_count": 101
        }
      ]
    },
    {
      "cell_type": "code",
      "metadata": {
        "id": "yrLUSWuPv3Kv"
      },
      "source": [
        "from sklearn.ensemble import RandomForestRegressor\n",
        "\n",
        "rf=RandomForestRegressor()\n"
      ],
      "execution_count": null,
      "outputs": []
    },
    {
      "cell_type": "code",
      "metadata": {
        "id": "xRM6IrTKv3Kw"
      },
      "source": [
        "fin_jun['salary_diff1'] = fin_jun['monthly_salary']-fin_jun['financial_adv_salary']\n"
      ],
      "execution_count": null,
      "outputs": []
    },
    {
      "cell_type": "code",
      "metadata": {
        "id": "ft1AxNfxv3Kx"
      },
      "source": [
        "fin_jun=fin_jun.dropna(subset=['monthly_salary'])"
      ],
      "execution_count": null,
      "outputs": []
    },
    {
      "cell_type": "code",
      "metadata": {
        "id": "40hRX3WKv3K0",
        "outputId": "0ba53c29-313d-40aa-bcee-1b0de7aa37c9",
        "colab": {
          "base_uri": "https://localhost:8080/",
          "height": 166
        }
      },
      "source": [
        "fin_jun['salary_diff1'].describe()"
      ],
      "execution_count": null,
      "outputs": [
        {
          "output_type": "execute_result",
          "data": {
            "text/plain": [
              "count    3.062890e+05\n",
              "mean    -1.006711e+03\n",
              "std      1.492215e+04\n",
              "min     -7.993625e+06\n",
              "25%     -1.365000e+03\n",
              "50%     -4.100000e+02\n",
              "75%      8.600000e-01\n",
              "max      5.278480e+04\n",
              "Name: salary_diff1, dtype: float64"
            ]
          },
          "metadata": {
            "tags": []
          },
          "execution_count": 105
        }
      ]
    },
    {
      "cell_type": "code",
      "metadata": {
        "id": "KgdO3LP4v3K2",
        "outputId": "cfea006f-a706-4d2a-ec51-7537f1c58146",
        "colab": {
          "base_uri": "https://localhost:8080/",
          "height": 114
        }
      },
      "source": [
        "fin_jun.loc[fin_jun['salary_diff1']==fin_jun['salary_diff1'].min()]"
      ],
      "execution_count": null,
      "outputs": [
        {
          "output_type": "execute_result",
          "data": {
            "text/html": [
              "<div>\n",
              "<style scoped>\n",
              "    .dataframe tbody tr th:only-of-type {\n",
              "        vertical-align: middle;\n",
              "    }\n",
              "\n",
              "    .dataframe tbody tr th {\n",
              "        vertical-align: top;\n",
              "    }\n",
              "\n",
              "    .dataframe thead th {\n",
              "        text-align: right;\n",
              "    }\n",
              "</style>\n",
              "<table border=\"1\" class=\"dataframe\">\n",
              "  <thead>\n",
              "    <tr style=\"text-align: right;\">\n",
              "      <th></th>\n",
              "      <th>registration_date</th>\n",
              "      <th>national_id_map</th>\n",
              "      <th>family_size</th>\n",
              "      <th>eligible_status</th>\n",
              "      <th>indigent_value</th>\n",
              "      <th>monthly_salary</th>\n",
              "      <th>home_allowance</th>\n",
              "      <th>manual_monthly_salary</th>\n",
              "      <th>manual_home_allowance</th>\n",
              "      <th>financial_adv_salary</th>\n",
              "      <th>financial_adv_home_allowance</th>\n",
              "      <th>loan_period_in_month</th>\n",
              "      <th>applicant_bank</th>\n",
              "      <th>type_of_work</th>\n",
              "      <th>booking_status</th>\n",
              "      <th>booking_date</th>\n",
              "      <th>financial_institution_number</th>\n",
              "      <th>financial_institution_name</th>\n",
              "      <th>profit_rate_in_contract</th>\n",
              "      <th>unit_location</th>\n",
              "      <th>project_region</th>\n",
              "      <th>project_city</th>\n",
              "      <th>project_name</th>\n",
              "      <th>contract_status</th>\n",
              "      <th>fin_institution_num</th>\n",
              "      <th>signing_lender_contract_date</th>\n",
              "      <th>booking_unit_type</th>\n",
              "      <th>Building_Type</th>\n",
              "      <th>unit_size</th>\n",
              "      <th>unit_price</th>\n",
              "      <th>moh_price</th>\n",
              "      <th>age</th>\n",
              "      <th>Products</th>\n",
              "      <th>has_recommendation</th>\n",
              "      <th>banks</th>\n",
              "      <th>obligatory_consuler</th>\n",
              "      <th>date_to_book</th>\n",
              "      <th>salary_diff1</th>\n",
              "    </tr>\n",
              "  </thead>\n",
              "  <tbody>\n",
              "    <tr>\n",
              "      <th>515042</th>\n",
              "      <td>2019-06-08</td>\n",
              "      <td>1026601037</td>\n",
              "      <td>4.0</td>\n",
              "      <td>1</td>\n",
              "      <td>NaN</td>\n",
              "      <td>6675.0</td>\n",
              "      <td>1112.5</td>\n",
              "      <td>8600.0</td>\n",
              "      <td>1000.0</td>\n",
              "      <td>8000300.0</td>\n",
              "      <td>600.0</td>\n",
              "      <td>149.0</td>\n",
              "      <td>مصرف الراجحي</td>\n",
              "      <td>1</td>\n",
              "      <td>NaN</td>\n",
              "      <td>2000-02-02 11:09:00</td>\n",
              "      <td>1010234356</td>\n",
              "      <td>أملاك العالمية</td>\n",
              "      <td>4.7</td>\n",
              "      <td>الرياض</td>\n",
              "      <td>NaN</td>\n",
              "      <td>NaN</td>\n",
              "      <td>NaN</td>\n",
              "      <td>2</td>\n",
              "      <td>1010234356</td>\n",
              "      <td>2020-08-24 00:00:00</td>\n",
              "      <td>NaN</td>\n",
              "      <td>فيلا</td>\n",
              "      <td>NaN</td>\n",
              "      <td>785000.0</td>\n",
              "      <td>NaN</td>\n",
              "      <td>46</td>\n",
              "      <td>الوحدات الجاهزة</td>\n",
              "      <td>No Recommendations</td>\n",
              "      <td>الراجحي</td>\n",
              "      <td>True</td>\n",
              "      <td>2000-02-02</td>\n",
              "      <td>-7993625.0</td>\n",
              "    </tr>\n",
              "  </tbody>\n",
              "</table>\n",
              "</div>"
            ],
            "text/plain": [
              "       registration_date  national_id_map  ...  date_to_book  salary_diff1\n",
              "515042        2019-06-08       1026601037  ...    2000-02-02    -7993625.0\n",
              "\n",
              "[1 rows x 38 columns]"
            ]
          },
          "metadata": {
            "tags": []
          },
          "execution_count": 106
        }
      ]
    },
    {
      "cell_type": "code",
      "metadata": {
        "id": "T5PsGzkdv3K4"
      },
      "source": [
        "#fin_jun['salary_diff']/12"
      ],
      "execution_count": null,
      "outputs": []
    },
    {
      "cell_type": "code",
      "metadata": {
        "id": "q12BrHf1v3K6",
        "outputId": "02ba2534-4086-415b-e169-a30f6b9f3497",
        "colab": {
          "base_uri": "https://localhost:8080/",
          "height": 114
        }
      },
      "source": [
        "fin_jun.loc[fin_jun['salary_diff1']==fin_jun['salary_diff1'].max()].drop_duplicates()\n"
      ],
      "execution_count": null,
      "outputs": [
        {
          "output_type": "execute_result",
          "data": {
            "text/html": [
              "<div>\n",
              "<style scoped>\n",
              "    .dataframe tbody tr th:only-of-type {\n",
              "        vertical-align: middle;\n",
              "    }\n",
              "\n",
              "    .dataframe tbody tr th {\n",
              "        vertical-align: top;\n",
              "    }\n",
              "\n",
              "    .dataframe thead th {\n",
              "        text-align: right;\n",
              "    }\n",
              "</style>\n",
              "<table border=\"1\" class=\"dataframe\">\n",
              "  <thead>\n",
              "    <tr style=\"text-align: right;\">\n",
              "      <th></th>\n",
              "      <th>registration_date</th>\n",
              "      <th>national_id_map</th>\n",
              "      <th>family_size</th>\n",
              "      <th>eligible_status</th>\n",
              "      <th>indigent_value</th>\n",
              "      <th>monthly_salary</th>\n",
              "      <th>home_allowance</th>\n",
              "      <th>manual_monthly_salary</th>\n",
              "      <th>manual_home_allowance</th>\n",
              "      <th>financial_adv_salary</th>\n",
              "      <th>financial_adv_home_allowance</th>\n",
              "      <th>loan_period_in_month</th>\n",
              "      <th>applicant_bank</th>\n",
              "      <th>type_of_work</th>\n",
              "      <th>booking_status</th>\n",
              "      <th>booking_date</th>\n",
              "      <th>financial_institution_number</th>\n",
              "      <th>financial_institution_name</th>\n",
              "      <th>profit_rate_in_contract</th>\n",
              "      <th>unit_location</th>\n",
              "      <th>project_region</th>\n",
              "      <th>project_city</th>\n",
              "      <th>project_name</th>\n",
              "      <th>contract_status</th>\n",
              "      <th>fin_institution_num</th>\n",
              "      <th>signing_lender_contract_date</th>\n",
              "      <th>booking_unit_type</th>\n",
              "      <th>Building_Type</th>\n",
              "      <th>unit_size</th>\n",
              "      <th>unit_price</th>\n",
              "      <th>moh_price</th>\n",
              "      <th>age</th>\n",
              "      <th>Products</th>\n",
              "      <th>has_recommendation</th>\n",
              "      <th>banks</th>\n",
              "      <th>obligatory_consuler</th>\n",
              "      <th>date_to_book</th>\n",
              "      <th>salary_diff1</th>\n",
              "    </tr>\n",
              "  </thead>\n",
              "  <tbody>\n",
              "    <tr>\n",
              "      <th>24193</th>\n",
              "      <td>2019-12-09</td>\n",
              "      <td>1042462315</td>\n",
              "      <td>5.0</td>\n",
              "      <td>1</td>\n",
              "      <td>NaN</td>\n",
              "      <td>69784.8</td>\n",
              "      <td>17446.2</td>\n",
              "      <td>17000.0</td>\n",
              "      <td>3700.0</td>\n",
              "      <td>17000.0</td>\n",
              "      <td>3700.0</td>\n",
              "      <td>268.0</td>\n",
              "      <td>البنك السعودي للاستثمار</td>\n",
              "      <td>2</td>\n",
              "      <td>NaN</td>\n",
              "      <td>2000-02-02 11:09:00</td>\n",
              "      <td>1010250808</td>\n",
              "      <td>مصرف الإنماء</td>\n",
              "      <td>6.55</td>\n",
              "      <td>الرياض</td>\n",
              "      <td>NaN</td>\n",
              "      <td>NaN</td>\n",
              "      <td>NaN</td>\n",
              "      <td>2</td>\n",
              "      <td>1010250808</td>\n",
              "      <td>2020-02-16 00:00:00</td>\n",
              "      <td>NaN</td>\n",
              "      <td>فيلا</td>\n",
              "      <td>NaN</td>\n",
              "      <td>999535.89</td>\n",
              "      <td>NaN</td>\n",
              "      <td>37</td>\n",
              "      <td>الوحدات الجاهزة</td>\n",
              "      <td>Has Recommendations</td>\n",
              "      <td>السعودي للإستثمار</td>\n",
              "      <td>False</td>\n",
              "      <td>2000-02-02</td>\n",
              "      <td>52784.8</td>\n",
              "    </tr>\n",
              "  </tbody>\n",
              "</table>\n",
              "</div>"
            ],
            "text/plain": [
              "      registration_date  national_id_map  ...  date_to_book  salary_diff1\n",
              "24193        2019-12-09       1042462315  ...    2000-02-02       52784.8\n",
              "\n",
              "[1 rows x 38 columns]"
            ]
          },
          "metadata": {
            "tags": []
          },
          "execution_count": 108
        }
      ]
    },
    {
      "cell_type": "code",
      "metadata": {
        "id": "EKGS-f5Fv3K7"
      },
      "source": [
        "fin_jun.drop_duplicates(inplace=True)"
      ],
      "execution_count": null,
      "outputs": []
    },
    {
      "cell_type": "code",
      "metadata": {
        "id": "GTzSkXr_v3K8"
      },
      "source": [
        "y = []\n",
        "for x in fin_jun['salary_diff1']:\n",
        "   if x == 0 : a='API = fin_adv'\n",
        "   elif  -10000 < x <= -1000: a = 'from 1000 to 10000 fin_adv '\n",
        "   elif  -1000 < x <=-500: a = 'from 500 to 1000 fin_adv'\n",
        "   elif  -500 < x <0: a = 'from 0 to 500 fin_adv'\n",
        "   elif   500 >= x >0: a = 'from 0 to 500 API'\n",
        "   elif  x > 500 :  a = ' larger than 500 API'\n",
        "   y.append(a)"
      ],
      "execution_count": null,
      "outputs": []
    },
    {
      "cell_type": "code",
      "metadata": {
        "id": "UYKeNBcUv3K-",
        "outputId": "5e5b1bdb-a115-4c80-d29d-f780c97b39b3",
        "colab": {
          "base_uri": "https://localhost:8080/",
          "height": 413
        }
      },
      "source": [
        "pd.Series(y).value_counts(normalize=True).plot(kind='bar')"
      ],
      "execution_count": null,
      "outputs": [
        {
          "output_type": "execute_result",
          "data": {
            "text/plain": [
              "<matplotlib.axes._subplots.AxesSubplot at 0x7f49a896b748>"
            ]
          },
          "metadata": {
            "tags": []
          },
          "execution_count": 111
        },
        {
          "output_type": "display_data",
          "data": {
            "image/png": "[encoded data removed]",
            "text/plain": [
              "<Figure size 432x288 with 1 Axes>"
            ]
          },
          "metadata": {
            "tags": [],
            "needs_background": "light"
          }
        }
      ]
    },
    {
      "cell_type": "code",
      "metadata": {
        "id": "LQe0nfMHv3K_"
      },
      "source": [
        "pd.Series(y).value_counts(normalize=True).to_excel('df.xlsx')"
      ],
      "execution_count": null,
      "outputs": []
    },
    {
      "cell_type": "code",
      "metadata": {
        "id": "zVr_1fOoiMjQ"
      },
      "source": [
        "salaries=fin_jun.loc[fin_jun['salary_diff1'] > 0 , ['monthly_salary' , 'salary_diff1']]"
      ],
      "execution_count": null,
      "outputs": []
    },
    {
      "cell_type": "code",
      "metadata": {
        "id": "RD9r3isJibnd",
        "outputId": "9be7e829-e102-435d-941e-d9bbceca5e39",
        "colab": {
          "base_uri": "https://localhost:8080/",
          "height": 216
        }
      },
      "source": [
        "salaries['monthly_salary']"
      ],
      "execution_count": null,
      "outputs": [
        {
          "output_type": "execute_result",
          "data": {
            "text/plain": [
              "4          9019.60\n",
              "9          9454.00\n",
              "25        12826.40\n",
              "28        15730.00\n",
              "33        19805.00\n",
              "            ...   \n",
              "528564    12160.00\n",
              "528599    25175.20\n",
              "528842     7895.00\n",
              "529006     4641.08\n",
              "529130     7890.00\n",
              "Name: monthly_salary, Length: 10584, dtype: float64"
            ]
          },
          "metadata": {
            "tags": []
          },
          "execution_count": 114
        }
      ]
    },
    {
      "cell_type": "code",
      "metadata": {
        "id": "x_pVeB5Erkct"
      },
      "source": [
        "salaries['api_cat_1'] = pd.cut(salaries['monthly_salary'], bins=[0,7000,8000,9000,10000,11000,12000,13000,14000,15000,1000000])"
      ],
      "execution_count": null,
      "outputs": []
    },
    {
      "cell_type": "code",
      "metadata": {
        "id": "Y5c3Sx9arsXf"
      },
      "source": [
        "salaries['api_cat_2'] = pd.cut(salaries['monthly_salary'], bins=[0,10000,11000,12000,13000,14000,15000,16000,17000,18000,19000,20000,1000000])"
      ],
      "execution_count": null,
      "outputs": []
    },
    {
      "cell_type": "code",
      "metadata": {
        "id": "9JC48OTqg_OP"
      },
      "source": [
        "salaries['api_cat_1'].value_counts(normalize=True).to_excel('xvid1.xlsx')"
      ],
      "execution_count": null,
      "outputs": []
    },
    {
      "cell_type": "code",
      "metadata": {
        "id": "sZTaMo5WrW5C"
      },
      "source": [
        "salaries['api_cat_2'].value_counts(normalize=True).to_excel('xvid2.xlsx')"
      ],
      "execution_count": null,
      "outputs": []
    },
    {
      "cell_type": "code",
      "metadata": {
        "id": "zNgI3FrIvYai"
      },
      "source": [
        ""
      ],
      "execution_count": null,
      "outputs": []
    },
    {
      "cell_type": "code",
      "metadata": {
        "id": "dzPQjmSFvZeq"
      },
      "source": [
        "salaries['api_cat_1'].value_counts().to_excel('xvid1.xlsx')"
      ],
      "execution_count": null,
      "outputs": []
    },
    {
      "cell_type": "code",
      "metadata": {
        "id": "PDdwgvBhvZet"
      },
      "source": [
        "salaries['api_cat_2'].value_counts().to_excel('xvid2.xlsx')"
      ],
      "execution_count": null,
      "outputs": []
    },
    {
      "cell_type": "code",
      "metadata": {
        "id": "z5JJVgYQvYXC"
      },
      "source": [
        ""
      ],
      "execution_count": null,
      "outputs": []
    },
    {
      "cell_type": "code",
      "metadata": {
        "id": "OMG-oyw0sTHv"
      },
      "source": [
        "salaries.groupby('api_cat_1')['salary_diff1'].mean().to_excel('xvid3.xlsx')"
      ],
      "execution_count": null,
      "outputs": []
    },
    {
      "cell_type": "code",
      "metadata": {
        "id": "15orY_ICg_Ls"
      },
      "source": [
        "salaries.groupby('api_cat_2')['salary_diff1'].mean().to_excel('xvid4.xlsx')"
      ],
      "execution_count": null,
      "outputs": []
    },
    {
      "cell_type": "code",
      "metadata": {
        "id": "VVBmkKDHg_JB"
      },
      "source": [
        ""
      ],
      "execution_count": null,
      "outputs": []
    },
    {
      "cell_type": "code",
      "metadata": {
        "id": "3AgB5j36g_F3"
      },
      "source": [
        ""
      ],
      "execution_count": null,
      "outputs": []
    },
    {
      "cell_type": "code",
      "metadata": {
        "id": "bIi5aiyFv3LA",
        "outputId": "89123549-4716-433d-dbb6-2ac1f5a86c79",
        "colab": {
          "base_uri": "https://localhost:8080/",
          "height": 294
        }
      },
      "source": [
        "fin_jun.loc[fin_jun['salary_diff1']<-50000 , ['salary_diff1']].plot(kind='hist')"
      ],
      "execution_count": null,
      "outputs": [
        {
          "output_type": "execute_result",
          "data": {
            "text/plain": [
              "<matplotlib.axes._subplots.AxesSubplot at 0x7f49a8890ef0>"
            ]
          },
          "metadata": {
            "tags": []
          },
          "execution_count": 123
        },
        {
          "output_type": "display_data",
          "data": {
            "image/png": "[encoded data removed]",
            "text/plain": [
              "<Figure size 432x288 with 1 Axes>"
            ]
          },
          "metadata": {
            "tags": [],
            "needs_background": "light"
          }
        }
      ]
    },
    {
      "cell_type": "code",
      "metadata": {
        "id": "_jHF5Cgtv3LB"
      },
      "source": [
        "fin_jun.drop(columns=['booking_date', 'date_to_book','project_city','project_name','financial_institution_number','signing_lender_contract_date','unit_location','indigent_value','fin_institution_num','applicant_bank','indigent_value','manual_home_allowance','home_allowance','financial_adv_home_allowance'],inplace=True)"
      ],
      "execution_count": null,
      "outputs": []
    },
    {
      "cell_type": "code",
      "metadata": {
        "id": "UNdUyJ3Bv3LD"
      },
      "source": [
        ""
      ],
      "execution_count": null,
      "outputs": []
    },
    {
      "cell_type": "code",
      "metadata": {
        "id": "P3vfghPIv3LE",
        "outputId": "069de758-abae-418c-e089-1878698ad22e",
        "colab": {
          "base_uri": "https://localhost:8080/",
          "height": 550
        }
      },
      "source": [
        "fin_jun.info()"
      ],
      "execution_count": null,
      "outputs": [
        {
          "output_type": "stream",
          "text": [
            "<class 'pandas.core.frame.DataFrame'>\n",
            "Int64Index: 31703 entries, 1 to 529165\n",
            "Data columns (total 25 columns):\n",
            " #   Column                      Non-Null Count  Dtype  \n",
            "---  ------                      --------------  -----  \n",
            " 0   registration_date           31703 non-null  object \n",
            " 1   national_id_map             31703 non-null  int64  \n",
            " 2   family_size                 31554 non-null  float64\n",
            " 3   eligible_status             31703 non-null  int64  \n",
            " 4   monthly_salary              31703 non-null  float64\n",
            " 5   manual_monthly_salary       31703 non-null  float64\n",
            " 6   financial_adv_salary        31703 non-null  float64\n",
            " 7   loan_period_in_month        31699 non-null  float64\n",
            " 8   type_of_work                31686 non-null  object \n",
            " 9   booking_status              10600 non-null  object \n",
            " 10  financial_institution_name  31703 non-null  object \n",
            " 11  profit_rate_in_contract     31699 non-null  float64\n",
            " 12  project_region              10600 non-null  object \n",
            " 13  contract_status             31703 non-null  object \n",
            " 14  booking_unit_type           10600 non-null  object \n",
            " 15  Building_Type               31703 non-null  object \n",
            " 16  unit_size                   10600 non-null  float64\n",
            " 17  unit_price                  31699 non-null  float64\n",
            " 18  moh_price                   10600 non-null  float64\n",
            " 19  age                         31703 non-null  int64  \n",
            " 20  Products                    31703 non-null  object \n",
            " 21  has_recommendation          31703 non-null  object \n",
            " 22  banks                       29104 non-null  object \n",
            " 23  obligatory_consuler         31703 non-null  bool   \n",
            " 24  salary_diff1                31703 non-null  float64\n",
            "dtypes: bool(1), float64(10), int64(3), object(11)\n",
            "memory usage: 6.1+ MB\n"
          ],
          "name": "stdout"
        }
      ]
    },
    {
      "cell_type": "code",
      "metadata": {
        "id": "7QbQBKjpv3LG"
      },
      "source": [
        "fin_jun.index=(fin_jun['national_id_map'])"
      ],
      "execution_count": null,
      "outputs": []
    },
    {
      "cell_type": "code",
      "metadata": {
        "id": "4vzjpOsOv3LH"
      },
      "source": [
        "fin_jun.drop(columns=['national_id_map'] , inplace=True)"
      ],
      "execution_count": null,
      "outputs": []
    },
    {
      "cell_type": "code",
      "metadata": {
        "id": "EgAFaEaiv3LI"
      },
      "source": [
        "fin_jun.dropna(inplace=True)"
      ],
      "execution_count": null,
      "outputs": []
    },
    {
      "cell_type": "code",
      "metadata": {
        "id": "FBDEtXT6v3LJ"
      },
      "source": [
        "Y = fin_jun.loc[fin_jun['salary_diff1'] != 0 ,:][['salary_diff1']]"
      ],
      "execution_count": null,
      "outputs": []
    },
    {
      "cell_type": "code",
      "metadata": {
        "id": "Y4oAP2HCv3LL"
      },
      "source": [
        "X= fin_jun.loc[fin_jun['salary_diff1'] != 0 ,:].drop(columns=['salary_diff1' , 'contract_status' ,'registration_date' , 'financial_adv_salary' ,'manual_monthly_salary'] ).replace(np.nan,0)"
      ],
      "execution_count": null,
      "outputs": []
    },
    {
      "cell_type": "code",
      "metadata": {
        "id": "dP6kcrBpv3LM"
      },
      "source": [
        "from keras.utils.np_utils import to_categorical"
      ],
      "execution_count": null,
      "outputs": []
    },
    {
      "cell_type": "code",
      "metadata": {
        "id": "xJxQfuhDv3LO"
      },
      "source": [
        "y_train1=preprocessing.MinMaxScaler().fit_transform(Y)\n"
      ],
      "execution_count": null,
      "outputs": []
    },
    {
      "cell_type": "code",
      "metadata": {
        "id": "KTseWNHdv3LP"
      },
      "source": [
        "X = pd.get_dummies(X)"
      ],
      "execution_count": null,
      "outputs": []
    },
    {
      "cell_type": "code",
      "metadata": {
        "id": "vUWIBpa4v3LR"
      },
      "source": [
        "X_train=preprocessing.MinMaxScaler().fit_transform(X)\n"
      ],
      "execution_count": null,
      "outputs": []
    },
    {
      "cell_type": "code",
      "metadata": {
        "id": "PsI2YCL8v3LT",
        "outputId": "af78cef8-6cd1-4389-8ac2-6262f426e44d",
        "colab": {
          "base_uri": "https://localhost:8080/",
          "height": 33
        }
      },
      "source": [
        "X_train.shape"
      ],
      "execution_count": null,
      "outputs": [
        {
          "output_type": "execute_result",
          "data": {
            "text/plain": [
              "(8886, 75)"
            ]
          },
          "metadata": {
            "tags": []
          },
          "execution_count": 135
        }
      ]
    },
    {
      "cell_type": "code",
      "metadata": {
        "id": "0V5eta3av3LV"
      },
      "source": [
        ""
      ],
      "execution_count": null,
      "outputs": []
    },
    {
      "cell_type": "code",
      "metadata": {
        "id": "Rzm0-Dawv3LX",
        "outputId": "978e2ebf-d118-486b-bdf9-82674f809c68",
        "colab": {
          "base_uri": "https://localhost:8080/",
          "height": 33
        }
      },
      "source": [
        "from sklearn.ensemble import RandomForestClassifier\n",
        "from sklearn.ensemble import RandomForestRegressor\n",
        "\n",
        "\n",
        "rf = RandomForestRegressor()\n",
        "rf.fit(X_train, y_train1)\n",
        "\n",
        "print('Training Accuracy: {:.2f} '.format(rf.score(X_train, y_train1)*100))\n"
      ],
      "execution_count": null,
      "outputs": [
        {
          "output_type": "stream",
          "text": [
            "Training Accuracy: 82.94 \n"
          ],
          "name": "stdout"
        }
      ]
    },
    {
      "cell_type": "code",
      "metadata": {
        "id": "5hnQjQG9v3LY"
      },
      "source": [
        "features = X.columns"
      ],
      "execution_count": null,
      "outputs": []
    },
    {
      "cell_type": "code",
      "metadata": {
        "id": "X2Ike-cqv3La"
      },
      "source": [
        "importances = rf.feature_importances_\n",
        "indices = np.argsort(importances)"
      ],
      "execution_count": null,
      "outputs": []
    },
    {
      "cell_type": "code",
      "metadata": {
        "id": "gvVx__alv3Lc"
      },
      "source": [
        "# booking - sign "
      ],
      "execution_count": null,
      "outputs": []
    },
    {
      "cell_type": "code",
      "metadata": {
        "id": "jnziaqq6v3Ld",
        "outputId": "f19eb9a1-df3b-4d4d-8736-c54615de8166",
        "colab": {
          "base_uri": "https://localhost:8080/",
          "height": 294
        }
      },
      "source": [
        "plt.title('Feature Importances')\n",
        "plt.barh(range(len(indices[-15:])), importances[indices][-15:]*100, color='b', align='center')\n",
        "plt.yticks(range(len(indices[-15:])), [get_display(arabic_reshaper.reshape(features[i])) for i in indices[-15:]])\n",
        "plt.xlabel('Relative Importance')\n",
        "plt.show()"
      ],
      "execution_count": null,
      "outputs": [
        {
          "output_type": "display_data",
          "data": {
            "image/png": "[encoded data removed]",
            "text/plain": [
              "<Figure size 432x288 with 1 Axes>"
            ]
          },
          "metadata": {
            "tags": [],
            "needs_background": "light"
          }
        }
      ]
    },
    {
      "cell_type": "code",
      "metadata": {
        "id": "NXN3oVyOv3Lg"
      },
      "source": [
        "pd.DataFrame (features[indices][-15 : ] , importances[indices][-15 : ] ).to_excel('x.xlsx')"
      ],
      "execution_count": null,
      "outputs": []
    },
    {
      "cell_type": "code",
      "metadata": {
        "id": "fwuv0X4Kv3Lh",
        "outputId": "8eeceb83-5dfe-4f02-8252-9fc75d38875e",
        "colab": {
          "base_uri": "https://localhost:8080/",
          "height": 296
        }
      },
      "source": [
        "testing_data = fin_jun.loc[(fin_jun['salary_diff1']!=0) & (fin_jun['salary_diff1']> -500) & (fin_jun['salary_diff1'] < 500) & (fin_jun['monthly_salary'] > 0) , :]\n",
        "Y=  testing_data['salary_diff1']\n",
        "X = testing_data['monthly_salary']\n",
        "results = sm.OLS(Y,sm.add_constant(X)).fit()\n",
        "\n",
        "plt.scatter(X,Y)\n",
        "\n",
        "\n",
        "\n",
        "plt.plot(np.unique(X), np.poly1d(np.polyfit(X, Y, 1))(np.unique(X)))\n",
        "plt.xlabel('monthly_salary')\n",
        "plt.ylabel('salary difference')\n"
      ],
      "execution_count": null,
      "outputs": [
        {
          "output_type": "execute_result",
          "data": {
            "text/plain": [
              "Text(0, 0.5, 'salary difference')"
            ]
          },
          "metadata": {
            "tags": []
          },
          "execution_count": 142
        },
        {
          "output_type": "display_data",
          "data": {
            "image/png": "[encoded data removed]",
            "text/plain": [
              "<Figure size 432x288 with 1 Axes>"
            ]
          },
          "metadata": {
            "tags": [],
            "needs_background": "light"
          }
        }
      ]
    },
    {
      "cell_type": "code",
      "metadata": {
        "id": "sLzmzZBXv3Li",
        "outputId": "414b92be-73b0-4132-af0e-912f0b78d2df",
        "colab": {
          "base_uri": "https://localhost:8080/",
          "height": 107
        }
      },
      "source": [
        "testing_data.loc[: , ['monthly_salary' , 'salary_diff1']].corr()"
      ],
      "execution_count": null,
      "outputs": [
        {
          "output_type": "execute_result",
          "data": {
            "text/html": [
              "<div>\n",
              "<style scoped>\n",
              "    .dataframe tbody tr th:only-of-type {\n",
              "        vertical-align: middle;\n",
              "    }\n",
              "\n",
              "    .dataframe tbody tr th {\n",
              "        vertical-align: top;\n",
              "    }\n",
              "\n",
              "    .dataframe thead th {\n",
              "        text-align: right;\n",
              "    }\n",
              "</style>\n",
              "<table border=\"1\" class=\"dataframe\">\n",
              "  <thead>\n",
              "    <tr style=\"text-align: right;\">\n",
              "      <th></th>\n",
              "      <th>monthly_salary</th>\n",
              "      <th>salary_diff1</th>\n",
              "    </tr>\n",
              "  </thead>\n",
              "  <tbody>\n",
              "    <tr>\n",
              "      <th>monthly_salary</th>\n",
              "      <td>1.000000</td>\n",
              "      <td>0.098985</td>\n",
              "    </tr>\n",
              "    <tr>\n",
              "      <th>salary_diff1</th>\n",
              "      <td>0.098985</td>\n",
              "      <td>1.000000</td>\n",
              "    </tr>\n",
              "  </tbody>\n",
              "</table>\n",
              "</div>"
            ],
            "text/plain": [
              "                monthly_salary  salary_diff1\n",
              "monthly_salary        1.000000      0.098985\n",
              "salary_diff1          0.098985      1.000000"
            ]
          },
          "metadata": {
            "tags": []
          },
          "execution_count": 143
        }
      ]
    },
    {
      "cell_type": "code",
      "metadata": {
        "id": "Q5mS21G-v3Lk"
      },
      "source": [
        "fin_jun.replace(np.nan , 0 , inplace=True)"
      ],
      "execution_count": null,
      "outputs": []
    },
    {
      "cell_type": "code",
      "metadata": {
        "id": "Xq8SAcT6v3Ll",
        "outputId": "5f0a7825-e34c-438d-b5b6-be8da5f26b43",
        "colab": {
          "base_uri": "https://localhost:8080/",
          "height": 295
        }
      },
      "source": [
        "Y=  testing_data['salary_diff1']\n",
        "X = testing_data['unit_price']\n",
        "results = sm.OLS(Y,sm.add_constant(X)).fit()\n",
        "\n",
        "\n",
        "\n",
        "plt.scatter(X,Y)\n",
        "plt.plot(X, np.poly1d(np.polyfit(X, Y, 1))(X))\n",
        "plt.xlabel('unit price')\n",
        "plt.ylabel('salary difference')\n"
      ],
      "execution_count": null,
      "outputs": [
        {
          "output_type": "execute_result",
          "data": {
            "text/plain": [
              "Text(0, 0.5, 'salary difference')"
            ]
          },
          "metadata": {
            "tags": []
          },
          "execution_count": 145
        },
        {
          "output_type": "display_data",
          "data": {
            "image/png": "[encoded data removed]",
            "text/plain": [
              "<Figure size 432x288 with 1 Axes>"
            ]
          },
          "metadata": {
            "tags": [],
            "needs_background": "light"
          }
        }
      ]
    },
    {
      "cell_type": "code",
      "metadata": {
        "id": "3rJgAKjRv3Lm",
        "outputId": "74a81ab6-67af-46bc-b3b1-a64f3ffd3962",
        "colab": {
          "base_uri": "https://localhost:8080/",
          "height": 107
        }
      },
      "source": [
        "testing_data.loc[:, ['salary_diff1' , 'monthly_salary']].corr()"
      ],
      "execution_count": null,
      "outputs": [
        {
          "output_type": "execute_result",
          "data": {
            "text/html": [
              "<div>\n",
              "<style scoped>\n",
              "    .dataframe tbody tr th:only-of-type {\n",
              "        vertical-align: middle;\n",
              "    }\n",
              "\n",
              "    .dataframe tbody tr th {\n",
              "        vertical-align: top;\n",
              "    }\n",
              "\n",
              "    .dataframe thead th {\n",
              "        text-align: right;\n",
              "    }\n",
              "</style>\n",
              "<table border=\"1\" class=\"dataframe\">\n",
              "  <thead>\n",
              "    <tr style=\"text-align: right;\">\n",
              "      <th></th>\n",
              "      <th>salary_diff1</th>\n",
              "      <th>monthly_salary</th>\n",
              "    </tr>\n",
              "  </thead>\n",
              "  <tbody>\n",
              "    <tr>\n",
              "      <th>salary_diff1</th>\n",
              "      <td>1.000000</td>\n",
              "      <td>0.098985</td>\n",
              "    </tr>\n",
              "    <tr>\n",
              "      <th>monthly_salary</th>\n",
              "      <td>0.098985</td>\n",
              "      <td>1.000000</td>\n",
              "    </tr>\n",
              "  </tbody>\n",
              "</table>\n",
              "</div>"
            ],
            "text/plain": [
              "                salary_diff1  monthly_salary\n",
              "salary_diff1        1.000000        0.098985\n",
              "monthly_salary      0.098985        1.000000"
            ]
          },
          "metadata": {
            "tags": []
          },
          "execution_count": 146
        }
      ]
    },
    {
      "cell_type": "code",
      "metadata": {
        "id": "OtuAfyye_rdj"
      },
      "source": [
        ""
      ],
      "execution_count": null,
      "outputs": []
    },
    {
      "cell_type": "code",
      "metadata": {
        "id": "f-gqguE7v3Lo"
      },
      "source": [
        ""
      ],
      "execution_count": null,
      "outputs": []
    },
    {
      "cell_type": "markdown",
      "metadata": {
        "id": "OaeiPoOqJhbf"
      },
      "source": [
        ""
      ]
    },
    {
      "cell_type": "code",
      "metadata": {
        "id": "w9ci2xTfv3Lp",
        "outputId": "90485fce-996c-426c-b0ff-b4945f625ec4",
        "colab": {
          "base_uri": "https://localhost:8080/",
          "height": 296
        }
      },
      "source": [
        "Y=  testing_data.loc[(testing_data['salary_diff1'] > -2000) & (testing_data['salary_diff1'] < 2000), : ]['salary_diff1']\n",
        "X = testing_data.loc[(testing_data['salary_diff1'] > -2000) & (testing_data['salary_diff1'] < 2000), : ]['family_size']\n",
        "results = sm.OLS(Y,sm.add_constant(X)).fit()\n",
        "\n",
        "\n",
        "\n",
        "plt.scatter(X,Y)\n",
        "plt.plot(X, np.poly1d(np.polyfit(X, Y, 1))(X))\n",
        "plt.xlabel('family_size')\n",
        "plt.ylabel('salary difference')\n"
      ],
      "execution_count": null,
      "outputs": [
        {
          "output_type": "execute_result",
          "data": {
            "text/plain": [
              "Text(0, 0.5, 'salary difference')"
            ]
          },
          "metadata": {
            "tags": []
          },
          "execution_count": 147
        },
        {
          "output_type": "display_data",
          "data": {
            "image/png": "[encoded data removed]",
            "text/plain": [
              "<Figure size 432x288 with 1 Axes>"
            ]
          },
          "metadata": {
            "tags": [],
            "needs_background": "light"
          }
        }
      ]
    },
    {
      "cell_type": "code",
      "metadata": {
        "id": "-oSccWlvv3Lq",
        "outputId": "4163e446-6ae0-45f2-d17b-5bc858aa175f",
        "colab": {
          "base_uri": "https://localhost:8080/",
          "height": 107
        }
      },
      "source": [
        "fin_jun.loc[:, ['salary_diff1' , 'family_size']].corr()"
      ],
      "execution_count": null,
      "outputs": [
        {
          "output_type": "execute_result",
          "data": {
            "text/html": [
              "<div>\n",
              "<style scoped>\n",
              "    .dataframe tbody tr th:only-of-type {\n",
              "        vertical-align: middle;\n",
              "    }\n",
              "\n",
              "    .dataframe tbody tr th {\n",
              "        vertical-align: top;\n",
              "    }\n",
              "\n",
              "    .dataframe thead th {\n",
              "        text-align: right;\n",
              "    }\n",
              "</style>\n",
              "<table border=\"1\" class=\"dataframe\">\n",
              "  <thead>\n",
              "    <tr style=\"text-align: right;\">\n",
              "      <th></th>\n",
              "      <th>salary_diff1</th>\n",
              "      <th>family_size</th>\n",
              "    </tr>\n",
              "  </thead>\n",
              "  <tbody>\n",
              "    <tr>\n",
              "      <th>salary_diff1</th>\n",
              "      <td>1.00000</td>\n",
              "      <td>-0.03079</td>\n",
              "    </tr>\n",
              "    <tr>\n",
              "      <th>family_size</th>\n",
              "      <td>-0.03079</td>\n",
              "      <td>1.00000</td>\n",
              "    </tr>\n",
              "  </tbody>\n",
              "</table>\n",
              "</div>"
            ],
            "text/plain": [
              "              salary_diff1  family_size\n",
              "salary_diff1       1.00000     -0.03079\n",
              "family_size       -0.03079      1.00000"
            ]
          },
          "metadata": {
            "tags": []
          },
          "execution_count": 148
        }
      ]
    },
    {
      "cell_type": "code",
      "metadata": {
        "id": "uExJKx6dv2Uk"
      },
      "source": [
        ""
      ],
      "execution_count": null,
      "outputs": []
    },
    {
      "cell_type": "code",
      "metadata": {
        "id": "zakDJTGiFHFt"
      },
      "source": [
        " financial['price_range']=pd.cut(financial['unit_price'],bins=[0,250000,500000,750000,1000000,10000000] )"
      ],
      "execution_count": null,
      "outputs": []
    },
    {
      "cell_type": "code",
      "metadata": {
        "id": "J-GhyfImFHFv"
      },
      "source": [
        " financial['salary_range']=pd.cut(financial['financial_adv_salary'],bins=[-120,3000,5000,9000,12000,15000,1000000 ], include_lowest=True)"
      ],
      "execution_count": null,
      "outputs": []
    },
    {
      "cell_type": "code",
      "metadata": {
        "id": "aotrv7Hkv2R8"
      },
      "source": [
        ""
      ],
      "execution_count": null,
      "outputs": []
    },
    {
      "cell_type": "code",
      "metadata": {
        "id": "B4CEX6tqZYgT"
      },
      "source": [
        "financial_backup=financial"
      ],
      "execution_count": null,
      "outputs": []
    },
    {
      "cell_type": "code",
      "metadata": {
        "id": "sRzkwwEcv2PS"
      },
      "source": [
        "financial_backup=financial_backup.merge(pd.DataFrame(financial_backup.groupby(['lender_name' , 'price_range','salary_range'])['profit_rate_in_contract'].mean()) , on =['lender_name' , 'price_range','salary_range'] )"
      ],
      "execution_count": null,
      "outputs": []
    },
    {
      "cell_type": "code",
      "metadata": {
        "id": "hl7RS9SBH8Su",
        "outputId": "75542333-16a2-4b35-e9c7-d7051ca9c2c1",
        "colab": {
          "base_uri": "https://localhost:8080/",
          "height": 850
        }
      },
      "source": [
        "financial_backup.info()"
      ],
      "execution_count": null,
      "outputs": [
        {
          "output_type": "stream",
          "text": [
            "<class 'pandas.core.frame.DataFrame'>\n",
            "Int64Index: 374468 entries, 0 to 374467\n",
            "Data columns (total 43 columns):\n",
            " #   Column                        Non-Null Count   Dtype   \n",
            "---  ------                        --------------   -----   \n",
            " 0   registration_date             374468 non-null  object  \n",
            " 1   national_id_map               374468 non-null  int64   \n",
            " 2   family_size                   372921 non-null  float64 \n",
            " 3   eligible_status               374468 non-null  int64   \n",
            " 4   indigent_value                1798 non-null    float64 \n",
            " 5   monthly_salary                227144 non-null  float64 \n",
            " 6   home_allowance                227144 non-null  float64 \n",
            " 7   manual_monthly_salary         370865 non-null  float64 \n",
            " 8   manual_home_allowance         370865 non-null  float64 \n",
            " 9   financial_adv_salary          374468 non-null  float64 \n",
            " 10  financial_adv_home_allowance  374468 non-null  float64 \n",
            " 11  loan_period_in_month          374468 non-null  float64 \n",
            " 12  applicant_bank                374468 non-null  object  \n",
            " 13  type_of_work                  373115 non-null  object  \n",
            " 14  booking_status                132698 non-null  object  \n",
            " 15  booking_date                  374468 non-null  object  \n",
            " 16  financial_institution_number  374468 non-null  int64   \n",
            " 17  financial_institution_name    374468 non-null  object  \n",
            " 18  profit_rate_in_contract_x     374468 non-null  float64 \n",
            " 19  unit_location                 374468 non-null  object  \n",
            " 20  max_loan_amount               374468 non-null  float64 \n",
            " 21  lender_name                   374468 non-null  object  \n",
            " 22  recommendation_created_at     374468 non-null  object  \n",
            " 23  project_region                132698 non-null  object  \n",
            " 24  project_city                  119904 non-null  object  \n",
            " 25  project_name                  132698 non-null  object  \n",
            " 26  contract_status               374468 non-null  object  \n",
            " 27  fin_institution_num           374468 non-null  int64   \n",
            " 28  signing_lender_contract_date  374468 non-null  object  \n",
            " 29  booking_unit_type             132698 non-null  object  \n",
            " 30  Building_Type                 374468 non-null  object  \n",
            " 31  unit_size                     132698 non-null  float64 \n",
            " 32  unit_price                    374468 non-null  float64 \n",
            " 33  moh_price                     132698 non-null  float64 \n",
            " 34  age                           374468 non-null  int64   \n",
            " 35  Products                      374468 non-null  object  \n",
            " 36  has_recommendation            374468 non-null  object  \n",
            " 37  banks                         351761 non-null  object  \n",
            " 38  obligatory_consuler           374468 non-null  bool    \n",
            " 39  date_to_book                  374468 non-null  object  \n",
            " 40  price_range                   374468 non-null  category\n",
            " 41  salary_range                  374468 non-null  category\n",
            " 42  profit_rate_in_contract_y     374468 non-null  float64 \n",
            "dtypes: bool(1), category(2), float64(15), int64(5), object(20)\n",
            "memory usage: 118.2+ MB\n"
          ],
          "name": "stdout"
        }
      ]
    },
    {
      "cell_type": "code",
      "metadata": {
        "id": "IjFFf-awZYRu"
      },
      "source": [
        ""
      ],
      "execution_count": null,
      "outputs": []
    },
    {
      "cell_type": "code",
      "metadata": {
        "id": "5YXhFA3HZYNP"
      },
      "source": [
        ""
      ],
      "execution_count": null,
      "outputs": []
    },
    {
      "cell_type": "code",
      "metadata": {
        "id": "D14as8MAZYJu"
      },
      "source": [
        ""
      ],
      "execution_count": null,
      "outputs": []
    },
    {
      "cell_type": "code",
      "metadata": {
        "id": "UGOLBaNdZYGO"
      },
      "source": [
        ""
      ],
      "execution_count": null,
      "outputs": []
    },
    {
      "cell_type": "code",
      "metadata": {
        "id": "FEnZ2EnruSNg"
      },
      "source": [
        "idx1 = financial_backup.groupby(['national_id_map' , 'registration_date'])['profit_rate_in_contract_y'].transform(min) == financial_backup['profit_rate_in_contract_y']"
      ],
      "execution_count": null,
      "outputs": []
    },
    {
      "cell_type": "code",
      "metadata": {
        "id": "q94hKDdxZYCr"
      },
      "source": [
        "financial_backup=financial_backup[idx1]"
      ],
      "execution_count": null,
      "outputs": []
    },
    {
      "cell_type": "code",
      "metadata": {
        "id": "-ZmDw61XZX_K"
      },
      "source": [
        ""
      ],
      "execution_count": null,
      "outputs": []
    },
    {
      "cell_type": "code",
      "metadata": {
        "id": "whcvH3-Fz94S"
      },
      "source": [
        "table = pd.crosstab(financial_backup['financial_institution_name'] ,financial_backup['lender_name']  )\n",
        "stat, p, dof, expected = chi2_contingency(table)"
      ],
      "execution_count": null,
      "outputs": []
    },
    {
      "cell_type": "code",
      "metadata": {
        "id": "W1GikoOWz94e"
      },
      "source": [
        "table.index = pd.Series(table.index).apply(lambda x: get_display(arabic_reshaper.reshape(x)))"
      ],
      "execution_count": null,
      "outputs": []
    },
    {
      "cell_type": "code",
      "metadata": {
        "id": "PfiHj4O9z94g"
      },
      "source": [
        "table.columns = pd.Series(table.columns).apply(lambda x: get_display(arabic_reshaper.reshape(x)))"
      ],
      "execution_count": null,
      "outputs": []
    },
    {
      "cell_type": "code",
      "metadata": {
        "id": "KKEcZ44Sz94h"
      },
      "source": [
        "(table.apply(lambda r: r/r.sum(), axis=1)*100).to_excel('table.xlsx') "
      ],
      "execution_count": null,
      "outputs": []
    },
    {
      "cell_type": "code",
      "metadata": {
        "id": "hbxKpW1bz94i",
        "outputId": "4b3d0dc5-bf4d-4ba4-a03e-9bde273f0cae",
        "colab": {
          "base_uri": "https://localhost:8080/",
          "height": 981
        }
      },
      "source": [
        "plt.figure(figsize=(15,15))\n",
        "sns.heatmap(np.round(table.apply(lambda r: r/r.sum(), axis=1)*100,0) , cmap=\"YlGnBu\" ,annot=True  ,fmt='g')"
      ],
      "execution_count": null,
      "outputs": [
        {
          "output_type": "execute_result",
          "data": {
            "text/plain": [
              "<matplotlib.axes._subplots.AxesSubplot at 0x7f49a86b3320>"
            ]
          },
          "metadata": {
            "tags": []
          },
          "execution_count": 160
        },
        {
          "output_type": "display_data",
          "data": {
            "image/png": "[encoded data removed]",
            "text/plain": [
              "<Figure size 1080x1080 with 2 Axes>"
            ]
          },
          "metadata": {
            "tags": [],
            "needs_background": "light"
          }
        }
      ]
    },
    {
      "cell_type": "code",
      "metadata": {
        "id": "CwD77zwoZX7o"
      },
      "source": [
        "financial_backup['same_less']=(financial_backup['lender_name'] == financial_backup['financial_institution_name'] )"
      ],
      "execution_count": null,
      "outputs": []
    },
    {
      "cell_type": "code",
      "metadata": {
        "id": "NJXRBLmlZX3w"
      },
      "source": [
        "bank_choiceq = financial_backup.groupby('financial_institution_name')['same_less'].mean()*100"
      ],
      "execution_count": null,
      "outputs": []
    },
    {
      "cell_type": "code",
      "metadata": {
        "id": "NohzKxrLZX0A",
        "outputId": "c5f9158e-5897-47b9-e73b-1532148e9643",
        "colab": {
          "base_uri": "https://localhost:8080/",
          "height": 383
        }
      },
      "source": [
        "bank_choiceq"
      ],
      "execution_count": null,
      "outputs": [
        {
          "output_type": "execute_result",
          "data": {
            "text/plain": [
              "financial_institution_name\n",
              "1010047888                        0.000000\n",
              "51                                0.000000\n",
              "أملاك العالمية                    0.000000\n",
              "البنك الأهلي التجاري              0.000000\n",
              "البنك الأول                       0.000000\n",
              "البنك السعودي البريطاني           0.000000\n",
              "البنك السعودي الفرنسي             0.000000\n",
              "البنك السعودي للاستثمار           0.000000\n",
              "البنك العربي الوطني               0.000000\n",
              "الشركة السعودية لتمويل المساكن    0.000000\n",
              "بداية لتمويل المنازل              0.000000\n",
              "بنك البلاد                        0.000000\n",
              "بنك الجزيرة                       0.000000\n",
              "بنك الخليج الدولي                 0.000000\n",
              "بنك الرياض                        0.000000\n",
              "دار التمليك                       0.355872\n",
              "دويتشه الخليج للتمويل             0.000000\n",
              "سامبا                             0.000000\n",
              "مصرف الإنماء                      0.000000\n",
              "مصرف الراجحي                      0.000000\n",
              "Name: same_less, dtype: float64"
            ]
          },
          "metadata": {
            "tags": []
          },
          "execution_count": 163
        }
      ]
    },
    {
      "cell_type": "code",
      "metadata": {
        "id": "P0BcdJlreazG"
      },
      "source": [
        "idx = financial.groupby(['national_id_map' , 'registration_date'])['max_loan_amount'].transform(max) == financial['max_loan_amount']"
      ],
      "execution_count": null,
      "outputs": []
    },
    {
      "cell_type": "code",
      "metadata": {
        "id": "UaMN55mzeazX"
      },
      "source": [
        "financial=financial[idx]"
      ],
      "execution_count": null,
      "outputs": []
    },
    {
      "cell_type": "code",
      "metadata": {
        "id": "VoOqeaz9imgJ",
        "outputId": "aa7b497a-e6cb-4ad4-8b00-308ba0bdb758",
        "colab": {
          "base_uri": "https://localhost:8080/",
          "height": 33
        }
      },
      "source": [
        "len(financial)"
      ],
      "execution_count": null,
      "outputs": [
        {
          "output_type": "execute_result",
          "data": {
            "text/plain": [
              "40587"
            ]
          },
          "metadata": {
            "tags": []
          },
          "execution_count": 166
        }
      ]
    },
    {
      "cell_type": "code",
      "metadata": {
        "id": "rkOL9tpW-187"
      },
      "source": [
        "financial['same_bank'] = (financial['financial_institution_name'] == financial['applicant_bank'])"
      ],
      "execution_count": null,
      "outputs": []
    },
    {
      "cell_type": "code",
      "metadata": {
        "id": "-cxBOz4CiT3s"
      },
      "source": [
        "financial['same_loan_bank'] = (financial['financial_institution_name'] == financial['lender_name'])"
      ],
      "execution_count": null,
      "outputs": []
    },
    {
      "cell_type": "code",
      "metadata": {
        "id": "7ACo2QrKngNH"
      },
      "source": [
        "table = pd.crosstab(financial['financial_institution_name'] ,financial['applicant_bank']  )\n",
        "stat, p, dof, expected = chi2_contingency(table)"
      ],
      "execution_count": null,
      "outputs": []
    },
    {
      "cell_type": "code",
      "metadata": {
        "id": "KI15v59EOOAC"
      },
      "source": [
        "financial_banks=financial.loc[pd.isna(financial['financial_institution_name'])*1 == 0 ,:]"
      ],
      "execution_count": null,
      "outputs": []
    },
    {
      "cell_type": "code",
      "metadata": {
        "id": "RlPDZAwCFYjF"
      },
      "source": [
        "table = pd.crosstab(financial_banks['financial_institution_name'] ,financial_banks['banks']  )\n",
        "stat, p, dof, expected = chi2_contingency(table)"
      ],
      "execution_count": null,
      "outputs": []
    },
    {
      "cell_type": "code",
      "metadata": {
        "id": "RCSvY7D9kE4V",
        "outputId": "cc6d6bea-a825-495b-e18f-0a5fab9776f0",
        "colab": {
          "base_uri": "https://localhost:8080/",
          "height": 33
        }
      },
      "source": [
        "p"
      ],
      "execution_count": null,
      "outputs": [
        {
          "output_type": "execute_result",
          "data": {
            "text/plain": [
              "0.0"
            ]
          },
          "metadata": {
            "tags": []
          },
          "execution_count": 172
        }
      ]
    },
    {
      "cell_type": "code",
      "metadata": {
        "id": "E_j0HNr2Q4VO"
      },
      "source": [
        "bank_suggest = financial['financial_institution_name'].value_counts(normalize=True)"
      ],
      "execution_count": null,
      "outputs": []
    },
    {
      "cell_type": "code",
      "metadata": {
        "id": "51KZXCaYrwMj"
      },
      "source": [
        "financial['bank_suggest'] = financial['financial_institution_name'] .apply(lambda x: np.where(x in list(bank_suggest.index[:5]), x , 'أخرى'))"
      ],
      "execution_count": null,
      "outputs": []
    },
    {
      "cell_type": "code",
      "metadata": {
        "id": "P73uyTcNY86s"
      },
      "source": [
        "bank_suggest = financial['bank_suggest'].value_counts(normalize=True)"
      ],
      "execution_count": null,
      "outputs": []
    },
    {
      "cell_type": "code",
      "metadata": {
        "id": "kQt2wp86X8tx"
      },
      "source": [
        "bank_suggest.to_excel('x1.xlsx')"
      ],
      "execution_count": null,
      "outputs": []
    },
    {
      "cell_type": "code",
      "metadata": {
        "id": "ArOl5Q0DY3gb"
      },
      "source": [
        "bank_suggest.index = pd.Series(bank_suggest.index).apply(lambda x: get_display(arabic_reshaper.reshape(x)))"
      ],
      "execution_count": null,
      "outputs": []
    },
    {
      "cell_type": "code",
      "metadata": {
        "id": "YjYXnlaQQsMe",
        "outputId": "560d0f1b-1f8f-4310-811a-27a57feca92e",
        "colab": {
          "base_uri": "https://localhost:8080/",
          "height": 264
        }
      },
      "source": [
        "bank_suggest.plot(kind='pie' , autopct='%1.0f%%' )"
      ],
      "execution_count": null,
      "outputs": [
        {
          "output_type": "execute_result",
          "data": {
            "text/plain": [
              "<matplotlib.axes._subplots.AxesSubplot at 0x7f49a3e8af28>"
            ]
          },
          "metadata": {
            "tags": []
          },
          "execution_count": 178
        },
        {
          "output_type": "display_data",
          "data": {
            "image/png": "[encoded data removed]",
            "text/plain": [
              "<Figure size 432x288 with 1 Axes>"
            ]
          },
          "metadata": {
            "tags": []
          }
        }
      ]
    },
    {
      "cell_type": "code",
      "metadata": {
        "id": "K_1uVPBgWvYx"
      },
      "source": [
        ""
      ],
      "execution_count": null,
      "outputs": []
    },
    {
      "cell_type": "code",
      "metadata": {
        "id": "vrlOtB69WvmJ"
      },
      "source": [
        "financial_banks=financial.loc[pd.isna(financial['financial_institution_name'])*1 == 0 ,:]"
      ],
      "execution_count": null,
      "outputs": []
    },
    {
      "cell_type": "code",
      "metadata": {
        "id": "VDsAvDZqeahs"
      },
      "source": [
        ""
      ],
      "execution_count": null,
      "outputs": []
    },
    {
      "cell_type": "code",
      "metadata": {
        "id": "lFJ8UetbGgyy"
      },
      "source": [
        "financial_banks['same_bank'] = (financial_banks['financial_institution_name'] == financial_banks['banks'])*1"
      ],
      "execution_count": null,
      "outputs": []
    },
    {
      "cell_type": "code",
      "metadata": {
        "id": "kB-04G_1dji_"
      },
      "source": [
        "financial_banks['same_bank'] = (financial_banks['financial_institution_name'] == financial_banks['banks'])*1"
      ],
      "execution_count": null,
      "outputs": []
    },
    {
      "cell_type": "code",
      "metadata": {
        "id": "01_6j2NnBs7v",
        "outputId": "671949f6-eafc-4eda-97a0-93b360cb2470",
        "colab": {
          "base_uri": "https://localhost:8080/",
          "height": 33
        }
      },
      "source": [
        "financial_banks['same_bank'].mean()"
      ],
      "execution_count": null,
      "outputs": [
        {
          "output_type": "execute_result",
          "data": {
            "text/plain": [
              "0.0003449380343459728"
            ]
          },
          "metadata": {
            "tags": []
          },
          "execution_count": 182
        }
      ]
    },
    {
      "cell_type": "code",
      "metadata": {
        "id": "Qv0du_dBWvmL"
      },
      "source": [
        "table = pd.crosstab(financial_banks['financial_institution_name'] ,financial_banks['banks']  )\n",
        "stat, p, dof, expected = chi2_contingency(table)"
      ],
      "execution_count": null,
      "outputs": []
    },
    {
      "cell_type": "code",
      "metadata": {
        "id": "lgaWmKozGy89"
      },
      "source": [
        "bank_choice = financial_banks.groupby('financial_institution_name')['same_bank'].mean()*100"
      ],
      "execution_count": null,
      "outputs": []
    },
    {
      "cell_type": "code",
      "metadata": {
        "id": "zTWHrhK7G_oD"
      },
      "source": [
        "bank_choice.index = pd.Series(bank_choice.index).apply(lambda x: get_display(arabic_reshaper.reshape(x)))"
      ],
      "execution_count": null,
      "outputs": []
    },
    {
      "cell_type": "markdown",
      "metadata": {
        "id": "qJnIkUgflFSp"
      },
      "source": [
        ""
      ]
    },
    {
      "cell_type": "code",
      "metadata": {
        "id": "C9jbhEfcQlXF",
        "outputId": "9dfb38f0-842a-4209-8a94-8085c1237a6a",
        "colab": {
          "base_uri": "https://localhost:8080/",
          "height": 677
        }
      },
      "source": [
        "table"
      ],
      "execution_count": null,
      "outputs": [
        {
          "output_type": "execute_result",
          "data": {
            "text/html": [
              "<div>\n",
              "<style scoped>\n",
              "    .dataframe tbody tr th:only-of-type {\n",
              "        vertical-align: middle;\n",
              "    }\n",
              "\n",
              "    .dataframe tbody tr th {\n",
              "        vertical-align: top;\n",
              "    }\n",
              "\n",
              "    .dataframe thead th {\n",
              "        text-align: right;\n",
              "    }\n",
              "</style>\n",
              "<table border=\"1\" class=\"dataframe\">\n",
              "  <thead>\n",
              "    <tr style=\"text-align: right;\">\n",
              "      <th>banks</th>\n",
              "      <th>أملاك</th>\n",
              "      <th>الأهلي</th>\n",
              "      <th>الإنماء</th>\n",
              "      <th>البلاد</th>\n",
              "      <th>الراجحي</th>\n",
              "      <th>الرياض</th>\n",
              "      <th>السعودي للإستثمار</th>\n",
              "      <th>الشركة السعودية لتمويل المساكن</th>\n",
              "      <th>العربي</th>\n",
              "      <th>الفرنسي</th>\n",
              "      <th>بدايه</th>\n",
              "      <th>دار التمليك</th>\n",
              "      <th>ساب</th>\n",
              "    </tr>\n",
              "    <tr>\n",
              "      <th>financial_institution_name</th>\n",
              "      <th></th>\n",
              "      <th></th>\n",
              "      <th></th>\n",
              "      <th></th>\n",
              "      <th></th>\n",
              "      <th></th>\n",
              "      <th></th>\n",
              "      <th></th>\n",
              "      <th></th>\n",
              "      <th></th>\n",
              "      <th></th>\n",
              "      <th></th>\n",
              "      <th></th>\n",
              "    </tr>\n",
              "  </thead>\n",
              "  <tbody>\n",
              "    <tr>\n",
              "      <th>1010047888</th>\n",
              "      <td>0</td>\n",
              "      <td>0</td>\n",
              "      <td>0</td>\n",
              "      <td>0</td>\n",
              "      <td>2</td>\n",
              "      <td>0</td>\n",
              "      <td>0</td>\n",
              "      <td>0</td>\n",
              "      <td>0</td>\n",
              "      <td>0</td>\n",
              "      <td>0</td>\n",
              "      <td>0</td>\n",
              "      <td>0</td>\n",
              "    </tr>\n",
              "    <tr>\n",
              "      <th>51</th>\n",
              "      <td>0</td>\n",
              "      <td>38</td>\n",
              "      <td>14</td>\n",
              "      <td>28</td>\n",
              "      <td>54</td>\n",
              "      <td>63</td>\n",
              "      <td>35</td>\n",
              "      <td>1</td>\n",
              "      <td>27</td>\n",
              "      <td>33</td>\n",
              "      <td>0</td>\n",
              "      <td>0</td>\n",
              "      <td>24</td>\n",
              "    </tr>\n",
              "    <tr>\n",
              "      <th>أملاك العالمية</th>\n",
              "      <td>3</td>\n",
              "      <td>22</td>\n",
              "      <td>9</td>\n",
              "      <td>9</td>\n",
              "      <td>21</td>\n",
              "      <td>9</td>\n",
              "      <td>8</td>\n",
              "      <td>0</td>\n",
              "      <td>5</td>\n",
              "      <td>8</td>\n",
              "      <td>1</td>\n",
              "      <td>0</td>\n",
              "      <td>11</td>\n",
              "    </tr>\n",
              "    <tr>\n",
              "      <th>البنك الأهلي التجاري</th>\n",
              "      <td>1</td>\n",
              "      <td>8842</td>\n",
              "      <td>50</td>\n",
              "      <td>45</td>\n",
              "      <td>342</td>\n",
              "      <td>142</td>\n",
              "      <td>91</td>\n",
              "      <td>2</td>\n",
              "      <td>68</td>\n",
              "      <td>47</td>\n",
              "      <td>5</td>\n",
              "      <td>8</td>\n",
              "      <td>52</td>\n",
              "    </tr>\n",
              "    <tr>\n",
              "      <th>البنك الأول</th>\n",
              "      <td>0</td>\n",
              "      <td>0</td>\n",
              "      <td>0</td>\n",
              "      <td>0</td>\n",
              "      <td>1</td>\n",
              "      <td>1</td>\n",
              "      <td>0</td>\n",
              "      <td>0</td>\n",
              "      <td>0</td>\n",
              "      <td>0</td>\n",
              "      <td>0</td>\n",
              "      <td>0</td>\n",
              "      <td>0</td>\n",
              "    </tr>\n",
              "    <tr>\n",
              "      <th>البنك السعودي البريطاني</th>\n",
              "      <td>0</td>\n",
              "      <td>6</td>\n",
              "      <td>1</td>\n",
              "      <td>1</td>\n",
              "      <td>7</td>\n",
              "      <td>12</td>\n",
              "      <td>2</td>\n",
              "      <td>0</td>\n",
              "      <td>2</td>\n",
              "      <td>4</td>\n",
              "      <td>0</td>\n",
              "      <td>1</td>\n",
              "      <td>313</td>\n",
              "    </tr>\n",
              "    <tr>\n",
              "      <th>البنك السعودي الفرنسي</th>\n",
              "      <td>0</td>\n",
              "      <td>20</td>\n",
              "      <td>7</td>\n",
              "      <td>2</td>\n",
              "      <td>13</td>\n",
              "      <td>19</td>\n",
              "      <td>21</td>\n",
              "      <td>0</td>\n",
              "      <td>21</td>\n",
              "      <td>517</td>\n",
              "      <td>0</td>\n",
              "      <td>1</td>\n",
              "      <td>21</td>\n",
              "    </tr>\n",
              "    <tr>\n",
              "      <th>البنك السعودي للاستثمار</th>\n",
              "      <td>0</td>\n",
              "      <td>0</td>\n",
              "      <td>0</td>\n",
              "      <td>0</td>\n",
              "      <td>3</td>\n",
              "      <td>0</td>\n",
              "      <td>42</td>\n",
              "      <td>0</td>\n",
              "      <td>0</td>\n",
              "      <td>0</td>\n",
              "      <td>0</td>\n",
              "      <td>0</td>\n",
              "      <td>0</td>\n",
              "    </tr>\n",
              "    <tr>\n",
              "      <th>البنك العربي الوطني</th>\n",
              "      <td>0</td>\n",
              "      <td>12</td>\n",
              "      <td>1</td>\n",
              "      <td>3</td>\n",
              "      <td>10</td>\n",
              "      <td>8</td>\n",
              "      <td>11</td>\n",
              "      <td>0</td>\n",
              "      <td>514</td>\n",
              "      <td>5</td>\n",
              "      <td>4</td>\n",
              "      <td>2</td>\n",
              "      <td>4</td>\n",
              "    </tr>\n",
              "    <tr>\n",
              "      <th>الشركة السعودية لتمويل المساكن</th>\n",
              "      <td>0</td>\n",
              "      <td>17</td>\n",
              "      <td>3</td>\n",
              "      <td>1</td>\n",
              "      <td>16</td>\n",
              "      <td>17</td>\n",
              "      <td>9</td>\n",
              "      <td>0</td>\n",
              "      <td>18</td>\n",
              "      <td>5</td>\n",
              "      <td>3</td>\n",
              "      <td>0</td>\n",
              "      <td>6</td>\n",
              "    </tr>\n",
              "    <tr>\n",
              "      <th>بداية لتمويل المنازل</th>\n",
              "      <td>0</td>\n",
              "      <td>47</td>\n",
              "      <td>13</td>\n",
              "      <td>11</td>\n",
              "      <td>46</td>\n",
              "      <td>32</td>\n",
              "      <td>18</td>\n",
              "      <td>0</td>\n",
              "      <td>9</td>\n",
              "      <td>9</td>\n",
              "      <td>8</td>\n",
              "      <td>0</td>\n",
              "      <td>17</td>\n",
              "    </tr>\n",
              "    <tr>\n",
              "      <th>بنك البلاد</th>\n",
              "      <td>0</td>\n",
              "      <td>30</td>\n",
              "      <td>10</td>\n",
              "      <td>1205</td>\n",
              "      <td>69</td>\n",
              "      <td>37</td>\n",
              "      <td>35</td>\n",
              "      <td>0</td>\n",
              "      <td>15</td>\n",
              "      <td>6</td>\n",
              "      <td>4</td>\n",
              "      <td>2</td>\n",
              "      <td>18</td>\n",
              "    </tr>\n",
              "    <tr>\n",
              "      <th>بنك الجزيرة</th>\n",
              "      <td>0</td>\n",
              "      <td>10</td>\n",
              "      <td>3</td>\n",
              "      <td>0</td>\n",
              "      <td>22</td>\n",
              "      <td>15</td>\n",
              "      <td>27</td>\n",
              "      <td>0</td>\n",
              "      <td>6</td>\n",
              "      <td>8</td>\n",
              "      <td>0</td>\n",
              "      <td>0</td>\n",
              "      <td>11</td>\n",
              "    </tr>\n",
              "    <tr>\n",
              "      <th>بنك الخليج الدولي</th>\n",
              "      <td>0</td>\n",
              "      <td>2</td>\n",
              "      <td>1</td>\n",
              "      <td>0</td>\n",
              "      <td>1</td>\n",
              "      <td>0</td>\n",
              "      <td>2</td>\n",
              "      <td>0</td>\n",
              "      <td>0</td>\n",
              "      <td>0</td>\n",
              "      <td>0</td>\n",
              "      <td>0</td>\n",
              "      <td>0</td>\n",
              "    </tr>\n",
              "    <tr>\n",
              "      <th>بنك الرياض</th>\n",
              "      <td>0</td>\n",
              "      <td>25</td>\n",
              "      <td>16</td>\n",
              "      <td>13</td>\n",
              "      <td>39</td>\n",
              "      <td>1419</td>\n",
              "      <td>14</td>\n",
              "      <td>0</td>\n",
              "      <td>15</td>\n",
              "      <td>10</td>\n",
              "      <td>2</td>\n",
              "      <td>2</td>\n",
              "      <td>21</td>\n",
              "    </tr>\n",
              "    <tr>\n",
              "      <th>دار التمليك</th>\n",
              "      <td>0</td>\n",
              "      <td>40</td>\n",
              "      <td>8</td>\n",
              "      <td>7</td>\n",
              "      <td>60</td>\n",
              "      <td>41</td>\n",
              "      <td>15</td>\n",
              "      <td>0</td>\n",
              "      <td>18</td>\n",
              "      <td>2</td>\n",
              "      <td>0</td>\n",
              "      <td>14</td>\n",
              "      <td>13</td>\n",
              "    </tr>\n",
              "    <tr>\n",
              "      <th>دويتشه الخليج للتمويل</th>\n",
              "      <td>2</td>\n",
              "      <td>25</td>\n",
              "      <td>7</td>\n",
              "      <td>17</td>\n",
              "      <td>50</td>\n",
              "      <td>27</td>\n",
              "      <td>10</td>\n",
              "      <td>0</td>\n",
              "      <td>8</td>\n",
              "      <td>10</td>\n",
              "      <td>0</td>\n",
              "      <td>4</td>\n",
              "      <td>18</td>\n",
              "    </tr>\n",
              "    <tr>\n",
              "      <th>سامبا</th>\n",
              "      <td>0</td>\n",
              "      <td>16</td>\n",
              "      <td>16</td>\n",
              "      <td>6</td>\n",
              "      <td>29</td>\n",
              "      <td>20</td>\n",
              "      <td>24</td>\n",
              "      <td>0</td>\n",
              "      <td>3</td>\n",
              "      <td>14</td>\n",
              "      <td>1</td>\n",
              "      <td>2</td>\n",
              "      <td>14</td>\n",
              "    </tr>\n",
              "    <tr>\n",
              "      <th>مصرف الإنماء</th>\n",
              "      <td>0</td>\n",
              "      <td>38</td>\n",
              "      <td>1617</td>\n",
              "      <td>35</td>\n",
              "      <td>143</td>\n",
              "      <td>53</td>\n",
              "      <td>43</td>\n",
              "      <td>0</td>\n",
              "      <td>32</td>\n",
              "      <td>13</td>\n",
              "      <td>0</td>\n",
              "      <td>0</td>\n",
              "      <td>28</td>\n",
              "    </tr>\n",
              "    <tr>\n",
              "      <th>مصرف الراجحي</th>\n",
              "      <td>0</td>\n",
              "      <td>130</td>\n",
              "      <td>92</td>\n",
              "      <td>109</td>\n",
              "      <td>19534</td>\n",
              "      <td>224</td>\n",
              "      <td>197</td>\n",
              "      <td>0</td>\n",
              "      <td>118</td>\n",
              "      <td>71</td>\n",
              "      <td>7</td>\n",
              "      <td>17</td>\n",
              "      <td>84</td>\n",
              "    </tr>\n",
              "  </tbody>\n",
              "</table>\n",
              "</div>"
            ],
            "text/plain": [
              "banks                           أملاك  الأهلي  الإنماء  ...  بدايه  دار التمليك  ساب\n",
              "financial_institution_name                              ...                         \n",
              "1010047888                          0       0        0  ...      0            0    0\n",
              "51                                  0      38       14  ...      0            0   24\n",
              "أملاك العالمية                      3      22        9  ...      1            0   11\n",
              "البنك الأهلي التجاري                1    8842       50  ...      5            8   52\n",
              "البنك الأول                         0       0        0  ...      0            0    0\n",
              "البنك السعودي البريطاني             0       6        1  ...      0            1  313\n",
              "البنك السعودي الفرنسي               0      20        7  ...      0            1   21\n",
              "البنك السعودي للاستثمار             0       0        0  ...      0            0    0\n",
              "البنك العربي الوطني                 0      12        1  ...      4            2    4\n",
              "الشركة السعودية لتمويل المساكن      0      17        3  ...      3            0    6\n",
              "بداية لتمويل المنازل                0      47       13  ...      8            0   17\n",
              "بنك البلاد                          0      30       10  ...      4            2   18\n",
              "بنك الجزيرة                         0      10        3  ...      0            0   11\n",
              "بنك الخليج الدولي                   0       2        1  ...      0            0    0\n",
              "بنك الرياض                          0      25       16  ...      2            2   21\n",
              "دار التمليك                         0      40        8  ...      0           14   13\n",
              "دويتشه الخليج للتمويل               2      25        7  ...      0            4   18\n",
              "سامبا                               0      16       16  ...      1            2   14\n",
              "مصرف الإنماء                        0      38     1617  ...      0            0   28\n",
              "مصرف الراجحي                        0     130       92  ...      7           17   84\n",
              "\n",
              "[20 rows x 13 columns]"
            ]
          },
          "metadata": {
            "tags": []
          },
          "execution_count": 186
        }
      ]
    },
    {
      "cell_type": "code",
      "metadata": {
        "id": "IPHrKJOSGcFc",
        "outputId": "cf9f6a56-d3f4-49b1-af31-f1d78fff491b",
        "colab": {
          "base_uri": "https://localhost:8080/",
          "height": 1000
        }
      },
      "source": [
        "label=bank_choice.values\n",
        "plt.figure(figsize=(15,15))\n",
        "\n",
        "(bank_choice).plot(kind='bar')\n"
      ],
      "execution_count": null,
      "outputs": [
        {
          "output_type": "execute_result",
          "data": {
            "text/plain": [
              "<matplotlib.axes._subplots.AxesSubplot at 0x7f49a3e4ed30>"
            ]
          },
          "metadata": {
            "tags": []
          },
          "execution_count": 187
        },
        {
          "output_type": "display_data",
          "data": {
            "image/png": "[encoded data removed]",
            "text/plain": [
              "<Figure size 1080x1080 with 1 Axes>"
            ]
          },
          "metadata": {
            "tags": [],
            "needs_background": "light"
          }
        }
      ]
    },
    {
      "cell_type": "code",
      "metadata": {
        "id": "ldCvvqp1Htsn"
      },
      "source": [
        "table.index = pd.Series(table.index).apply(lambda x: get_display(arabic_reshaper.reshape(x)))"
      ],
      "execution_count": null,
      "outputs": []
    },
    {
      "cell_type": "code",
      "metadata": {
        "id": "9V39sEuwHtqm"
      },
      "source": [
        "table.columns = pd.Series(table.columns).apply(lambda x: get_display(arabic_reshaper.reshape(x)))"
      ],
      "execution_count": null,
      "outputs": []
    },
    {
      "cell_type": "code",
      "metadata": {
        "id": "qwYBJI3lJPmt",
        "outputId": "1def1e6f-c8f6-4c50-aa45-c8cc6cb41fb0",
        "colab": {
          "base_uri": "https://localhost:8080/",
          "height": 1000
        }
      },
      "source": [
        "plt.figure(figsize=(15,15))\n",
        "sns.heatmap(np.round(table.apply(lambda r: r/r.sum(), axis=1)*100,0) , cmap=\"YlGnBu\" ,annot=True  ,fmt='g')"
      ],
      "execution_count": null,
      "outputs": [
        {
          "output_type": "execute_result",
          "data": {
            "text/plain": [
              "<matplotlib.axes._subplots.AxesSubplot at 0x7f49a5d58e10>"
            ]
          },
          "metadata": {
            "tags": []
          },
          "execution_count": 190
        },
        {
          "output_type": "display_data",
          "data": {
            "image/png": "[encoded data removed]",
            "text/plain": [
              "<Figure size 1080x1080 with 2 Axes>"
            ]
          },
          "metadata": {
            "tags": [],
            "needs_background": "light"
          }
        }
      ]
    },
    {
      "cell_type": "code",
      "metadata": {
        "id": "sto6vo5TTFo3"
      },
      "source": [
        ""
      ],
      "execution_count": null,
      "outputs": []
    },
    {
      "cell_type": "code",
      "metadata": {
        "id": "hiiyeyF9QjPS",
        "outputId": "464668c1-d9e2-4480-a48f-c111793a51c0",
        "colab": {
          "base_uri": "https://localhost:8080/",
          "height": 883
        }
      },
      "source": [
        "financial_banks.info()"
      ],
      "execution_count": null,
      "outputs": [
        {
          "output_type": "stream",
          "text": [
            "<class 'pandas.core.frame.DataFrame'>\n",
            "Int64Index: 40587 entries, 5 to 529226\n",
            "Data columns (total 45 columns):\n",
            " #   Column                        Non-Null Count  Dtype   \n",
            "---  ------                        --------------  -----   \n",
            " 0   registration_date             40587 non-null  object  \n",
            " 1   national_id_map               40587 non-null  int64   \n",
            " 2   family_size                   40390 non-null  float64 \n",
            " 3   eligible_status               40587 non-null  int64   \n",
            " 4   indigent_value                259 non-null    float64 \n",
            " 5   monthly_salary                23771 non-null  float64 \n",
            " 6   home_allowance                23771 non-null  float64 \n",
            " 7   manual_monthly_salary         40212 non-null  float64 \n",
            " 8   manual_home_allowance         40212 non-null  float64 \n",
            " 9   financial_adv_salary          40587 non-null  float64 \n",
            " 10  financial_adv_home_allowance  40587 non-null  float64 \n",
            " 11  loan_period_in_month          40586 non-null  float64 \n",
            " 12  applicant_bank                40587 non-null  object  \n",
            " 13  type_of_work                  40436 non-null  object  \n",
            " 14  booking_status                14556 non-null  object  \n",
            " 15  booking_date                  40587 non-null  object  \n",
            " 16  financial_institution_number  40587 non-null  int64   \n",
            " 17  financial_institution_name    40587 non-null  object  \n",
            " 18  profit_rate_in_contract       40586 non-null  float64 \n",
            " 19  unit_location                 40586 non-null  object  \n",
            " 20  max_loan_amount               40587 non-null  float64 \n",
            " 21  lender_name                   29610 non-null  object  \n",
            " 22  recommendation_created_at     40587 non-null  object  \n",
            " 23  project_region                14556 non-null  object  \n",
            " 24  project_city                  13350 non-null  object  \n",
            " 25  project_name                  14556 non-null  object  \n",
            " 26  contract_status               40587 non-null  object  \n",
            " 27  fin_institution_num           40587 non-null  int64   \n",
            " 28  signing_lender_contract_date  40587 non-null  object  \n",
            " 29  booking_unit_type             14556 non-null  object  \n",
            " 30  Building_Type                 40587 non-null  object  \n",
            " 31  unit_size                     14556 non-null  float64 \n",
            " 32  unit_price                    40586 non-null  float64 \n",
            " 33  moh_price                     14556 non-null  float64 \n",
            " 34  age                           40587 non-null  int64   \n",
            " 35  Products                      40587 non-null  object  \n",
            " 36  has_recommendation            40587 non-null  object  \n",
            " 37  banks                         38278 non-null  object  \n",
            " 38  obligatory_consuler           40587 non-null  bool    \n",
            " 39  date_to_book                  40587 non-null  object  \n",
            " 40  price_range                   40586 non-null  category\n",
            " 41  salary_range                  40587 non-null  category\n",
            " 42  same_bank                     40587 non-null  int64   \n",
            " 43  same_loan_bank                40587 non-null  bool    \n",
            " 44  bank_suggest                  40587 non-null  object  \n",
            "dtypes: bool(2), category(2), float64(14), int64(6), object(21)\n",
            "memory usage: 13.2+ MB\n"
          ],
          "name": "stdout"
        }
      ]
    },
    {
      "cell_type": "code",
      "metadata": {
        "id": "08E14QonXaA_",
        "outputId": "c77c5e29-1d6e-4ec1-a71d-1f532ef6ebd2",
        "colab": {
          "base_uri": "https://localhost:8080/",
          "height": 283
        }
      },
      "source": [
        "financial['lender_name'].value_counts()"
      ],
      "execution_count": null,
      "outputs": [
        {
          "output_type": "execute_result",
          "data": {
            "text/plain": [
              "دويتشة الخليج للتمويل    13898\n",
              "الإنماء                   3773\n",
              "الفرنسي                   2311\n",
              "بدايه                     2124\n",
              "الأهلي                    1570\n",
              "الراجحي                   1347\n",
              "العربي                    1305\n",
              "دار التمليك               1203\n",
              "البلاد                     990\n",
              "الرياض                     472\n",
              "أملاك                      434\n",
              "PLUS                        94\n",
              "DirectLending               65\n",
              "ساب                         23\n",
              "سهل                          1\n",
              "Name: lender_name, dtype: int64"
            ]
          },
          "metadata": {
            "tags": []
          },
          "execution_count": 192
        }
      ]
    },
    {
      "cell_type": "code",
      "metadata": {
        "id": "3hy5BN1djkvk",
        "outputId": "62cfa7ec-7b4e-4ad7-d2b6-6333d8d68c3c",
        "colab": {
          "base_uri": "https://localhost:8080/",
          "height": 33
        }
      },
      "source": [
        "financial_banks['same_loan_bank'].mean()"
      ],
      "execution_count": null,
      "outputs": [
        {
          "output_type": "execute_result",
          "data": {
            "text/plain": [
              "0.002069628206075837"
            ]
          },
          "metadata": {
            "tags": []
          },
          "execution_count": 193
        }
      ]
    },
    {
      "cell_type": "code",
      "metadata": {
        "id": "M_wV2J7uZYcv"
      },
      "source": [
        "#financial_banks.drop(columns=['recommendation_created_at' ,'lender_name' ,'max_loan_amount' , 'booking_date', 'date_to_book','project_city','project_name','financial_institution_number','signing_lender_contract_date','unit_location','indigent_value',\n",
        "#'fin_institution_num','applicant_bank','indigent_value','manual_home_allowance','home_allowance','financial_adv_home_allowance','monthly_salary'],inplace=True)"
      ],
      "execution_count": null,
      "outputs": []
    },
    {
      "cell_type": "code",
      "metadata": {
        "id": "58pMMUfnaIlw"
      },
      "source": [
        "financial_banks.drop(columns=['booking_date', 'date_to_book','project_city','project_name','financial_institution_number','signing_lender_contract_date','unit_location','indigent_value',\n",
        "'fin_institution_num','applicant_bank','indigent_value','manual_home_allowance','home_allowance','financial_adv_home_allowance','monthly_salary'],inplace=True)"
      ],
      "execution_count": null,
      "outputs": []
    },
    {
      "cell_type": "code",
      "metadata": {
        "id": "-ohDxVGycw_l"
      },
      "source": [
        ""
      ],
      "execution_count": null,
      "outputs": []
    },
    {
      "cell_type": "code",
      "metadata": {
        "id": "Ch7iBGzxXb_-"
      },
      "source": [
        "#idx = financial_banks.groupby(['national_id_map'])['max_loan_amount'].transform(max) == df['max_loan_amount']"
      ],
      "execution_count": null,
      "outputs": []
    },
    {
      "cell_type": "code",
      "metadata": {
        "id": "3lqc8MgvZYZC"
      },
      "source": [
        "#financial_banks=financial_banks[idx]"
      ],
      "execution_count": null,
      "outputs": []
    },
    {
      "cell_type": "code",
      "metadata": {
        "id": "UVYhXM4tZYVg"
      },
      "source": [
        ""
      ],
      "execution_count": null,
      "outputs": []
    },
    {
      "cell_type": "code",
      "metadata": {
        "id": "VF3X08D2MKbV"
      },
      "source": [
        "financial_banks.index=(financial_banks['national_id_map'])"
      ],
      "execution_count": null,
      "outputs": []
    },
    {
      "cell_type": "code",
      "metadata": {
        "id": "sDFVt-4hMKbs"
      },
      "source": [
        "financial_banks.drop(columns=['national_id_map'] , inplace=True)"
      ],
      "execution_count": null,
      "outputs": []
    },
    {
      "cell_type": "code",
      "metadata": {
        "id": "htHtXeV9MKbz",
        "outputId": "e634713c-fa40-4ee7-ed0c-cc9f4ca1d6c9",
        "colab": {
          "base_uri": "https://localhost:8080/",
          "height": 633
        }
      },
      "source": [
        "financial_banks.info()"
      ],
      "execution_count": null,
      "outputs": [
        {
          "output_type": "stream",
          "text": [
            "<class 'pandas.core.frame.DataFrame'>\n",
            "Int64Index: 40587 entries, 1099554964 to 1058691963\n",
            "Data columns (total 30 columns):\n",
            " #   Column                      Non-Null Count  Dtype   \n",
            "---  ------                      --------------  -----   \n",
            " 0   registration_date           40587 non-null  object  \n",
            " 1   family_size                 40390 non-null  float64 \n",
            " 2   eligible_status             40587 non-null  int64   \n",
            " 3   manual_monthly_salary       40212 non-null  float64 \n",
            " 4   financial_adv_salary        40587 non-null  float64 \n",
            " 5   loan_period_in_month        40586 non-null  float64 \n",
            " 6   type_of_work                40436 non-null  object  \n",
            " 7   booking_status              14556 non-null  object  \n",
            " 8   financial_institution_name  40587 non-null  object  \n",
            " 9   profit_rate_in_contract     40586 non-null  float64 \n",
            " 10  max_loan_amount             40587 non-null  float64 \n",
            " 11  lender_name                 29610 non-null  object  \n",
            " 12  recommendation_created_at   40587 non-null  object  \n",
            " 13  project_region              14556 non-null  object  \n",
            " 14  contract_status             40587 non-null  object  \n",
            " 15  booking_unit_type           14556 non-null  object  \n",
            " 16  Building_Type               40587 non-null  object  \n",
            " 17  unit_size                   14556 non-null  float64 \n",
            " 18  unit_price                  40586 non-null  float64 \n",
            " 19  moh_price                   14556 non-null  float64 \n",
            " 20  age                         40587 non-null  int64   \n",
            " 21  Products                    40587 non-null  object  \n",
            " 22  has_recommendation          40587 non-null  object  \n",
            " 23  banks                       38278 non-null  object  \n",
            " 24  obligatory_consuler         40587 non-null  bool    \n",
            " 25  price_range                 40586 non-null  category\n",
            " 26  salary_range                40587 non-null  category\n",
            " 27  same_bank                   40587 non-null  int64   \n",
            " 28  same_loan_bank              40587 non-null  bool    \n",
            " 29  bank_suggest                40587 non-null  object  \n",
            "dtypes: bool(2), category(2), float64(9), int64(3), object(14)\n",
            "memory usage: 8.5+ MB\n"
          ],
          "name": "stdout"
        }
      ]
    },
    {
      "cell_type": "code",
      "metadata": {
        "id": "DoFu914XQjDX"
      },
      "source": [
        ""
      ],
      "execution_count": null,
      "outputs": []
    },
    {
      "cell_type": "code",
      "metadata": {
        "id": "Qk100FyqjpPJ"
      },
      "source": [
        "table = pd.crosstab(financial_banks['financial_institution_name'] ,financial_banks['lender_name']  )\n",
        "stat, p, dof, expected = chi2_contingency(table)"
      ],
      "execution_count": null,
      "outputs": []
    },
    {
      "cell_type": "code",
      "metadata": {
        "id": "8A7ltexLjpPn"
      },
      "source": [
        "bank_choice = financial_banks.groupby('financial_institution_name')['same_loan_bank'].mean()*100"
      ],
      "execution_count": null,
      "outputs": []
    },
    {
      "cell_type": "code",
      "metadata": {
        "id": "rhnWm3r6j8p2"
      },
      "source": [
        "bank_choice.to_excel('x2.xlsx')"
      ],
      "execution_count": null,
      "outputs": []
    },
    {
      "cell_type": "code",
      "metadata": {
        "id": "ccPJ6jdGjpPu"
      },
      "source": [
        "bank_choice.index = pd.Series(bank_choice.index).apply(lambda x: get_display(arabic_reshaper.reshape(x)))"
      ],
      "execution_count": null,
      "outputs": []
    },
    {
      "cell_type": "markdown",
      "metadata": {
        "id": "2Gs_mwW7jpPz"
      },
      "source": [
        ""
      ]
    },
    {
      "cell_type": "code",
      "metadata": {
        "id": "Tboq-xkAjpP8",
        "outputId": "f82647f8-6613-4265-9e35-d072874cff15",
        "colab": {
          "base_uri": "https://localhost:8080/",
          "height": 1000
        }
      },
      "source": [
        "label=bank_choice.values\n",
        "plt.figure(figsize=(15,15))\n",
        "\n",
        "(bank_choice).plot(kind='bar')\n"
      ],
      "execution_count": null,
      "outputs": [
        {
          "output_type": "execute_result",
          "data": {
            "text/plain": [
              "<matplotlib.axes._subplots.AxesSubplot at 0x7f49a8ae3278>"
            ]
          },
          "metadata": {
            "tags": []
          },
          "execution_count": 205
        },
        {
          "output_type": "display_data",
          "data": {
            "image/png": "[encoded data removed]",
            "text/plain": [
              "<Figure size 1080x1080 with 1 Axes>"
            ]
          },
          "metadata": {
            "tags": [],
            "needs_background": "light"
          }
        }
      ]
    },
    {
      "cell_type": "code",
      "metadata": {
        "id": "HSwI9EhejpQE"
      },
      "source": [
        "table.index = pd.Series(table.index).apply(lambda x: get_display(arabic_reshaper.reshape(x)))"
      ],
      "execution_count": null,
      "outputs": []
    },
    {
      "cell_type": "code",
      "metadata": {
        "id": "CDESj_ppjpQI"
      },
      "source": [
        "table.columns = pd.Series(table.columns).apply(lambda x: get_display(arabic_reshaper.reshape(x)))"
      ],
      "execution_count": null,
      "outputs": []
    },
    {
      "cell_type": "code",
      "metadata": {
        "id": "ej75pn71yFce"
      },
      "source": [
        "(table.apply(lambda r: r/r.sum(), axis=1)*100).to_excel('table.xlsx') "
      ],
      "execution_count": null,
      "outputs": []
    },
    {
      "cell_type": "code",
      "metadata": {
        "id": "VHAMkU2pjpQO",
        "outputId": "1c08a80d-c45b-4034-b356-fdb43488da62",
        "colab": {
          "base_uri": "https://localhost:8080/",
          "height": 976
        }
      },
      "source": [
        "plt.figure(figsize=(15,15))\n",
        "sns.heatmap(np.round(table.apply(lambda r: r/r.sum(), axis=1)*100,0) , cmap=\"YlGnBu\" ,annot=True  ,fmt='g')"
      ],
      "execution_count": null,
      "outputs": [
        {
          "output_type": "execute_result",
          "data": {
            "text/plain": [
              "<matplotlib.axes._subplots.AxesSubplot at 0x7f49a8ad5470>"
            ]
          },
          "metadata": {
            "tags": []
          },
          "execution_count": 209
        },
        {
          "output_type": "display_data",
          "data": {
            "image/png": "[encoded data removed]",
            "text/plain": [
              "<Figure size 1080x1080 with 2 Axes>"
            ]
          },
          "metadata": {
            "tags": [],
            "needs_background": "light"
          }
        }
      ]
    },
    {
      "cell_type": "code",
      "metadata": {
        "id": "JqcnBOZSiLUE"
      },
      "source": [
        "financial_banks.replace(np.nan,0,inplace=True)"
      ],
      "execution_count": null,
      "outputs": []
    },
    {
      "cell_type": "code",
      "metadata": {
        "id": "VrWKLGL6iLO9"
      },
      "source": [
        ""
      ],
      "execution_count": null,
      "outputs": []
    },
    {
      "cell_type": "code",
      "metadata": {
        "id": "FxqgSlMKlwXu"
      },
      "source": [
        "Y = financial_banks['financial_institution_name']"
      ],
      "execution_count": null,
      "outputs": []
    },
    {
      "cell_type": "code",
      "metadata": {
        "id": "srYuq2dflwYH"
      },
      "source": [
        "encoder = LabelEncoder()\n",
        "encoder.fit( Y )\n",
        "encoded_Y = encoder.transform(Y )\n",
        "# convert integers to dummy variables (i.e. one hot encoded)\n",
        "y_train1 = to_categorical(encoded_Y)"
      ],
      "execution_count": null,
      "outputs": []
    },
    {
      "cell_type": "code",
      "metadata": {
        "id": "2WskSfpXlwYf"
      },
      "source": [
        "X= financial_banks.drop(columns=['max_loan_amount','recommendation_created_at','lender_name','bank_suggest', 'financial_institution_name','banks','contract_status' ,'registration_date' , 'financial_adv_salary' , 'same_bank' ,'manual_monthly_salary' ] )"
      ],
      "execution_count": null,
      "outputs": []
    },
    {
      "cell_type": "code",
      "metadata": {
        "id": "4FztG5b_lwYu"
      },
      "source": [
        "from keras.utils.np_utils import to_categorical"
      ],
      "execution_count": null,
      "outputs": []
    },
    {
      "cell_type": "code",
      "metadata": {
        "id": "HD325V5slwY9"
      },
      "source": [
        "X = pd.get_dummies(X)"
      ],
      "execution_count": null,
      "outputs": []
    },
    {
      "cell_type": "code",
      "metadata": {
        "id": "d0YJHh8UlwZP"
      },
      "source": [
        "X_train=preprocessing.MinMaxScaler().fit_transform(X)\n"
      ],
      "execution_count": null,
      "outputs": []
    },
    {
      "cell_type": "code",
      "metadata": {
        "id": "G_1YX-WQlwZe",
        "outputId": "8013e6a6-4eed-4925-9eb6-b1617e5532dd",
        "colab": {
          "base_uri": "https://localhost:8080/",
          "height": 33
        }
      },
      "source": [
        "X_train.shape"
      ],
      "execution_count": null,
      "outputs": [
        {
          "output_type": "execute_result",
          "data": {
            "text/plain": [
              "(40587, 59)"
            ]
          },
          "metadata": {
            "tags": []
          },
          "execution_count": 217
        }
      ]
    },
    {
      "cell_type": "code",
      "metadata": {
        "id": "gpZI4JJ_lwZz",
        "outputId": "2e5fcf9a-a2c0-43f2-fe57-50033c56a290",
        "colab": {
          "base_uri": "https://localhost:8080/",
          "height": 33
        }
      },
      "source": [
        "from sklearn.ensemble import RandomForestClassifier\n",
        "from sklearn.ensemble import RandomForestRegressor\n",
        "\n",
        "\n",
        "rf = RandomForestClassifier(n_estimators=50)\n",
        "rf.fit(X_train, y_train1)\n",
        "\n",
        "print('Training Accuracy: {:.2f} '.format(rf.score(X_train, y_train1)*100))\n"
      ],
      "execution_count": null,
      "outputs": [
        {
          "output_type": "stream",
          "text": [
            "Training Accuracy: 99.93 \n"
          ],
          "name": "stdout"
        }
      ]
    },
    {
      "cell_type": "code",
      "metadata": {
        "id": "sXEr5gnUlwZ5"
      },
      "source": [
        "features = X.columns"
      ],
      "execution_count": null,
      "outputs": []
    },
    {
      "cell_type": "code",
      "metadata": {
        "id": "YqVDvNX9lwZ_"
      },
      "source": [
        "importances = rf.feature_importances_\n",
        "indices = np.argsort(importances)"
      ],
      "execution_count": null,
      "outputs": []
    },
    {
      "cell_type": "code",
      "metadata": {
        "id": "Lwwz1uSklwaF",
        "outputId": "7bbee9e1-3ca6-43ca-a774-23651448e087",
        "colab": {
          "base_uri": "https://localhost:8080/",
          "height": 893
        }
      },
      "source": [
        "plt.figure(figsize=(15,15))\n",
        "plt.title('Feature Importances')\n",
        "plt.barh(range(len(indices[-20:])), importances[indices][-20:]*100, color='b', align='center')\n",
        "plt.yticks(range(len(indices[-20:])), [get_display(arabic_reshaper.reshape(features[i])) for i in indices[-20:]])\n",
        "plt.xlabel('Relative Importance')\n",
        "plt.show()"
      ],
      "execution_count": null,
      "outputs": [
        {
          "output_type": "display_data",
          "data": {
            "image/png": "[encoded data removed]",
            "text/plain": [
              "<Figure size 1080x1080 with 1 Axes>"
            ]
          },
          "metadata": {
            "tags": [],
            "needs_background": "light"
          }
        }
      ]
    },
    {
      "cell_type": "code",
      "metadata": {
        "id": "Kk5I35UDnyOT"
      },
      "source": [
        "pd.DataFrame(features[indices][-20:] , importances[indices][-20:]).to_excel('xx.xlsx')"
      ],
      "execution_count": null,
      "outputs": []
    },
    {
      "cell_type": "code",
      "metadata": {
        "id": "wrGGoPyrlwaM"
      },
      "source": [
        "banks_profit = pd.pivot_table(financial_banks,index='banks',values='profit_rate_in_contract',aggfunc='mean')"
      ],
      "execution_count": null,
      "outputs": []
    },
    {
      "cell_type": "code",
      "metadata": {
        "id": "u6sK5G5Sx3wf",
        "outputId": "adea6e6e-3caf-4a21-cfb6-9ec890e9d6d2",
        "colab": {
          "base_uri": "https://localhost:8080/",
          "height": 497
        }
      },
      "source": [
        "banks_profit"
      ],
      "execution_count": null,
      "outputs": [
        {
          "output_type": "execute_result",
          "data": {
            "text/html": [
              "<div>\n",
              "<style scoped>\n",
              "    .dataframe tbody tr th:only-of-type {\n",
              "        vertical-align: middle;\n",
              "    }\n",
              "\n",
              "    .dataframe tbody tr th {\n",
              "        vertical-align: top;\n",
              "    }\n",
              "\n",
              "    .dataframe thead th {\n",
              "        text-align: right;\n",
              "    }\n",
              "</style>\n",
              "<table border=\"1\" class=\"dataframe\">\n",
              "  <thead>\n",
              "    <tr style=\"text-align: right;\">\n",
              "      <th></th>\n",
              "      <th>profit_rate_in_contract</th>\n",
              "    </tr>\n",
              "    <tr>\n",
              "      <th>banks</th>\n",
              "      <th></th>\n",
              "    </tr>\n",
              "  </thead>\n",
              "  <tbody>\n",
              "    <tr>\n",
              "      <th>0</th>\n",
              "      <td>4.977585</td>\n",
              "    </tr>\n",
              "    <tr>\n",
              "      <th>أملاك</th>\n",
              "      <td>4.553333</td>\n",
              "    </tr>\n",
              "    <tr>\n",
              "      <th>الأهلي</th>\n",
              "      <td>5.322379</td>\n",
              "    </tr>\n",
              "    <tr>\n",
              "      <th>الإنماء</th>\n",
              "      <td>5.353672</td>\n",
              "    </tr>\n",
              "    <tr>\n",
              "      <th>البلاد</th>\n",
              "      <td>5.594806</td>\n",
              "    </tr>\n",
              "    <tr>\n",
              "      <th>الراجحي</th>\n",
              "      <td>2.993427</td>\n",
              "    </tr>\n",
              "    <tr>\n",
              "      <th>الرياض</th>\n",
              "      <td>5.301197</td>\n",
              "    </tr>\n",
              "    <tr>\n",
              "      <th>السعودي للإستثمار</th>\n",
              "      <td>4.537566</td>\n",
              "    </tr>\n",
              "    <tr>\n",
              "      <th>الشركة السعودية لتمويل المساكن</th>\n",
              "      <td>3.430000</td>\n",
              "    </tr>\n",
              "    <tr>\n",
              "      <th>العربي</th>\n",
              "      <td>5.070858</td>\n",
              "    </tr>\n",
              "    <tr>\n",
              "      <th>الفرنسي</th>\n",
              "      <td>5.433556</td>\n",
              "    </tr>\n",
              "    <tr>\n",
              "      <th>بدايه</th>\n",
              "      <td>5.320286</td>\n",
              "    </tr>\n",
              "    <tr>\n",
              "      <th>دار التمليك</th>\n",
              "      <td>4.806038</td>\n",
              "    </tr>\n",
              "    <tr>\n",
              "      <th>ساب</th>\n",
              "      <td>5.413710</td>\n",
              "    </tr>\n",
              "  </tbody>\n",
              "</table>\n",
              "</div>"
            ],
            "text/plain": [
              "                                profit_rate_in_contract\n",
              "banks                                                  \n",
              "0                                              4.977585\n",
              "أملاك                                          4.553333\n",
              "الأهلي                                         5.322379\n",
              "الإنماء                                        5.353672\n",
              "البلاد                                         5.594806\n",
              "الراجحي                                        2.993427\n",
              "الرياض                                         5.301197\n",
              "السعودي للإستثمار                              4.537566\n",
              "الشركة السعودية لتمويل المساكن                 3.430000\n",
              "العربي                                         5.070858\n",
              "الفرنسي                                        5.433556\n",
              "بدايه                                          5.320286\n",
              "دار التمليك                                    4.806038\n",
              "ساب                                            5.413710"
            ]
          },
          "metadata": {
            "tags": []
          },
          "execution_count": 224
        }
      ]
    },
    {
      "cell_type": "code",
      "metadata": {
        "id": "PFcE5zpUu9V5"
      },
      "source": [
        "banks_profit.to_excel('xx1.xlsx')"
      ],
      "execution_count": null,
      "outputs": []
    },
    {
      "cell_type": "code",
      "metadata": {
        "id": "72HMk3tqnpyZ"
      },
      "source": [
        "banks_profit.index = pd.Series(banks_profit.index).apply(lambda x : get_display(arabic_reshaper.reshape(x)))"
      ],
      "execution_count": null,
      "outputs": []
    },
    {
      "cell_type": "code",
      "metadata": {
        "id": "EfsYADv4m7FE",
        "outputId": "701da7d7-92c9-496b-def7-24d065243dde",
        "colab": {
          "base_uri": "https://localhost:8080/",
          "height": 426
        }
      },
      "source": [
        "banks_profit.plot(kind='bar')"
      ],
      "execution_count": null,
      "outputs": [
        {
          "output_type": "execute_result",
          "data": {
            "text/plain": [
              "<matplotlib.axes._subplots.AxesSubplot at 0x7f49a8b882b0>"
            ]
          },
          "metadata": {
            "tags": []
          },
          "execution_count": 227
        },
        {
          "output_type": "display_data",
          "data": {
            "image/png": "[encoded data removed]",
            "text/plain": [
              "<Figure size 432x288 with 1 Axes>"
            ]
          },
          "metadata": {
            "tags": [],
            "needs_background": "light"
          }
        }
      ]
    },
    {
      "cell_type": "code",
      "metadata": {
        "id": "M2COSD5Jm7FR",
        "outputId": "bf22475b-3f14-4a5d-a950-6ae97e97db7f",
        "colab": {
          "base_uri": "https://localhost:8080/",
          "height": 137
        }
      },
      "source": [
        "import statsmodels.api as sm\n",
        "from statsmodels.formula.api import ols\n",
        "\n",
        "model = ols(' profit_rate_in_contract ~ C(banks)', data=financial_banks).fit()\n",
        "aov_table = sm.stats.anova_lm(model, typ=3)\n",
        "aov_table"
      ],
      "execution_count": null,
      "outputs": [
        {
          "output_type": "execute_result",
          "data": {
            "text/html": [
              "<div>\n",
              "<style scoped>\n",
              "    .dataframe tbody tr th:only-of-type {\n",
              "        vertical-align: middle;\n",
              "    }\n",
              "\n",
              "    .dataframe tbody tr th {\n",
              "        vertical-align: top;\n",
              "    }\n",
              "\n",
              "    .dataframe thead th {\n",
              "        text-align: right;\n",
              "    }\n",
              "</style>\n",
              "<table border=\"1\" class=\"dataframe\">\n",
              "  <thead>\n",
              "    <tr style=\"text-align: right;\">\n",
              "      <th></th>\n",
              "      <th>sum_sq</th>\n",
              "      <th>df</th>\n",
              "      <th>F</th>\n",
              "      <th>PR(&gt;F)</th>\n",
              "    </tr>\n",
              "  </thead>\n",
              "  <tbody>\n",
              "    <tr>\n",
              "      <th>Intercept</th>\n",
              "      <td>57208.603092</td>\n",
              "      <td>1.0</td>\n",
              "      <td>26064.105541</td>\n",
              "      <td>0.0</td>\n",
              "    </tr>\n",
              "    <tr>\n",
              "      <th>C(banks)</th>\n",
              "      <td>53602.678847</td>\n",
              "      <td>13.0</td>\n",
              "      <td>1878.558069</td>\n",
              "      <td>0.0</td>\n",
              "    </tr>\n",
              "    <tr>\n",
              "      <th>Residual</th>\n",
              "      <td>89054.452669</td>\n",
              "      <td>40573.0</td>\n",
              "      <td>NaN</td>\n",
              "      <td>NaN</td>\n",
              "    </tr>\n",
              "  </tbody>\n",
              "</table>\n",
              "</div>"
            ],
            "text/plain": [
              "                 sum_sq       df             F  PR(>F)\n",
              "Intercept  57208.603092      1.0  26064.105541     0.0\n",
              "C(banks)   53602.678847     13.0   1878.558069     0.0\n",
              "Residual   89054.452669  40573.0           NaN     NaN"
            ]
          },
          "metadata": {
            "tags": []
          },
          "execution_count": 228
        }
      ]
    },
    {
      "cell_type": "code",
      "metadata": {
        "id": "yUaX4QJtiLIm"
      },
      "source": [
        ""
      ],
      "execution_count": null,
      "outputs": []
    },
    {
      "cell_type": "code",
      "metadata": {
        "id": "u_LN4LI_JAgM"
      },
      "source": [
        ""
      ],
      "execution_count": null,
      "outputs": []
    },
    {
      "cell_type": "code",
      "metadata": {
        "id": "wpX2f8Mooyrr"
      },
      "source": [
        ""
      ],
      "execution_count": null,
      "outputs": []
    },
    {
      "cell_type": "code",
      "metadata": {
        "id": "UBRfRfOZmlQH"
      },
      "source": [
        " financial['price_range']=pd.cut(financial['unit_price'],bins=[0,250000,500000,750000,1000000,10000000] )"
      ],
      "execution_count": null,
      "outputs": []
    },
    {
      "cell_type": "code",
      "metadata": {
        "id": "87QjqhNFmlQJ"
      },
      "source": [
        " financial['salary_range']=pd.cut(financial['financial_adv_salary'],bins=[-120,3000,5000,9000,12000,15000,1000000 ], include_lowest=True)"
      ],
      "execution_count": null,
      "outputs": []
    },
    {
      "cell_type": "code",
      "metadata": {
        "id": "I_MC25FBJAjk"
      },
      "source": [
        "financial.pivot_table(index=['financial_institution_name' ,'price_range' ,'salary_range' ] , values = ['profit_rate_in_contract'] , aggfunc=['min','mean','max']).to_excel('prices.xlsx')"
      ],
      "execution_count": null,
      "outputs": []
    },
    {
      "cell_type": "code",
      "metadata": {
        "id": "hvVnOBd8JAde"
      },
      "source": [
        ""
      ],
      "execution_count": null,
      "outputs": []
    },
    {
      "cell_type": "code",
      "metadata": {
        "id": "sC2yb2S9JAbR",
        "outputId": "3425d349-9935-4924-8a9d-64158d2ef2b9",
        "colab": {
          "base_uri": "https://localhost:8080/",
          "height": 33
        }
      },
      "source": [
        "len(financial)"
      ],
      "execution_count": null,
      "outputs": [
        {
          "output_type": "execute_result",
          "data": {
            "text/plain": [
              "40587"
            ]
          },
          "metadata": {
            "tags": []
          },
          "execution_count": 232
        }
      ]
    },
    {
      "cell_type": "code",
      "metadata": {
        "id": "MgFn9J36JAYr"
      },
      "source": [
        ""
      ],
      "execution_count": null,
      "outputs": []
    },
    {
      "cell_type": "code",
      "metadata": {
        "id": "-8Ean2tTJAWN"
      },
      "source": [
        ""
      ],
      "execution_count": null,
      "outputs": []
    },
    {
      "cell_type": "code",
      "metadata": {
        "id": "ohaidY1wJATs"
      },
      "source": [
        ""
      ],
      "execution_count": null,
      "outputs": []
    },
    {
      "cell_type": "code",
      "metadata": {
        "id": "vC-jqmc8JARV"
      },
      "source": [
        ""
      ],
      "execution_count": null,
      "outputs": []
    },
    {
      "cell_type": "markdown",
      "metadata": {
        "id": "K95BNg1c0FdU"
      },
      "source": [
        ""
      ]
    },
    {
      "cell_type": "code",
      "metadata": {
        "id": "gFTkthTURwBU"
      },
      "source": [
        "#with pd.ExcelWriter('output.xlsx') as writer:  \n",
        " #   table1.to_excel(writer, sheet_name='q1')\n",
        "  #  table2.to_excel(writer, sheet_name='q2%')\n",
        "   # table4.to_excel(writer, sheet_name='q4')\n",
        "\n",
        "\n"
      ],
      "execution_count": null,
      "outputs": []
    }
  ]
}
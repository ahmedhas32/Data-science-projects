{
  "nbformat": 4,
  "nbformat_minor": 0,
  "metadata": {
    "colab": {
      "name": "Untitled14.ipynb",
      "provenance": []
    },
    "kernelspec": {
      "name": "python3",
      "display_name": "Python 3"
    }
  },
  "cells": [
    {
      "cell_type": "code",
      "metadata": {
        "id": "-61uc4ijOzAr",
        "colab_type": "code",
        "outputId": "17578c58-8a15-4eea-c30d-3c0a2e9823a4",
        "colab": {
          "base_uri": "https://localhost:8080/",
          "height": 242
        }
      },
      "source": [
        "!pip install quandl"
      ],
      "execution_count": 0,
      "outputs": [
        {
          "output_type": "stream",
          "text": [
            "Requirement already satisfied: quandl in /usr/local/lib/python3.6/dist-packages (3.5.0)\n",
            "Requirement already satisfied: six in /usr/local/lib/python3.6/dist-packages (from quandl) (1.12.0)\n",
            "Requirement already satisfied: inflection>=0.3.1 in /usr/local/lib/python3.6/dist-packages (from quandl) (0.3.1)\n",
            "Requirement already satisfied: requests>=2.7.0 in /usr/local/lib/python3.6/dist-packages (from quandl) (2.21.0)\n",
            "Requirement already satisfied: numpy>=1.8 in /usr/local/lib/python3.6/dist-packages (from quandl) (1.17.5)\n",
            "Requirement already satisfied: python-dateutil in /usr/local/lib/python3.6/dist-packages (from quandl) (2.6.1)\n",
            "Requirement already satisfied: pandas>=0.14 in /usr/local/lib/python3.6/dist-packages (from quandl) (0.25.3)\n",
            "Requirement already satisfied: more-itertools in /usr/local/lib/python3.6/dist-packages (from quandl) (8.0.2)\n",
            "Requirement already satisfied: certifi>=2017.4.17 in /usr/local/lib/python3.6/dist-packages (from requests>=2.7.0->quandl) (2019.11.28)\n",
            "Requirement already satisfied: chardet<3.1.0,>=3.0.2 in /usr/local/lib/python3.6/dist-packages (from requests>=2.7.0->quandl) (3.0.4)\n",
            "Requirement already satisfied: idna<2.9,>=2.5 in /usr/local/lib/python3.6/dist-packages (from requests>=2.7.0->quandl) (2.8)\n",
            "Requirement already satisfied: urllib3<1.25,>=1.21.1 in /usr/local/lib/python3.6/dist-packages (from requests>=2.7.0->quandl) (1.24.3)\n",
            "Requirement already satisfied: pytz>=2017.2 in /usr/local/lib/python3.6/dist-packages (from pandas>=0.14->quandl) (2018.9)\n"
          ],
          "name": "stdout"
        }
      ]
    },
    {
      "cell_type": "code",
      "metadata": {
        "id": "9gV2nOHUOho_",
        "colab_type": "code",
        "colab": {}
      },
      "source": [
        "import quandl\n",
        "quandl.ApiConfig.api_key = 'K4cFx6oxnRuNQHdEy_j2'\n",
        "import numpy as np\n",
        "import pandas as pd\n",
        "# Download financial data from Quandl/Sharadar\n",
        "table = quandl.get_table('SHARADAR/SF1', paginate=True)\n",
        "# Grab the most recent annual data ('MRY' denotes annual data)\n",
        "stock_df = table"
      ],
      "execution_count": 0,
      "outputs": []
    },
    {
      "cell_type": "code",
      "metadata": {
        "id": "i-NLUEtzPHqL",
        "colab_type": "code",
        "colab": {}
      },
      "source": [
        "# Scrape S&P 500 tickers from Wikipedia\n",
        "from bs4 import BeautifulSoup\n",
        "import requests\n",
        "import re\n",
        "page_link = 'https://en.wikipedia.org/wiki/List_of_S%26P_500_companies'\n",
        "page_response = requests.get(page_link, timeout=1000)\n",
        "page_content = BeautifulSoup(page_response.content, 'lxml')"
      ],
      "execution_count": 0,
      "outputs": []
    },
    {
      "cell_type": "code",
      "metadata": {
        "id": "8wKu3aHaPLrp",
        "colab_type": "code",
        "colab": {}
      },
      "source": [
        "# From web scraped Wikipedia content on the S&P 500, grab the ticker and industry for each firm\n",
        "tickers = []\n",
        "industries = []\n",
        "for i, val in enumerate(page_content.find_all('tr')):\n",
        "    if i > 0:\n",
        "        try:\n",
        "            # Here is where I grab the ticker\n",
        "            tickers.append(val.find_all('a')[0].text)\n",
        "            # Here is where I grab the industry\n",
        "            industries.append(val.find_all('td')[3].text.replace('\\n', ''))\n",
        "        except:\n",
        "            pass"
      ],
      "execution_count": 0,
      "outputs": []
    },
    {
      "cell_type": "code",
      "metadata": {
        "id": "Zz6--rUoPPHn",
        "colab_type": "code",
        "colab": {}
      },
      "source": [
        "# After ticker ZTS, the rest of the table entries are for acquisitions/mergers\n",
        "last_pos = tickers.index('ZTS') + 1\n",
        "sp_tickers = tickers[:last_pos]\n",
        "sp_industries = industries[:last_pos]\n",
        "# Create a new dataframe for S&P 500 and merge in Quandl data\n",
        "sp_df = pd.DataFrame()\n",
        "sp_df['tickers'] = sp_tickers\n",
        "sp_df['industries'] = sp_industries\n",
        "merged_df = sp_df.merge(stock_df, left_on='tickers', right_on='ticker', how='left')\n",
        "merged_df= merged_df.loc[pd.isna(merged_df['tickers']) == 0 , : ]"
      ],
      "execution_count": 0,
      "outputs": []
    },
    {
      "cell_type": "code",
      "metadata": {
        "id": "5SYvMi0a4-Lt",
        "colab_type": "code",
        "colab": {}
      },
      "source": [
        "merged_df.to_csv('sp500.csv', index=False)"
      ],
      "execution_count": 0,
      "outputs": []
    }
  ]
}
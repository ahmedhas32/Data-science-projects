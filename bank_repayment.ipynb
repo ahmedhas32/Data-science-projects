{
  "nbformat": 4,
  "nbformat_minor": 0,
  "metadata": {
    "colab": {
      "name": "bank repayment.ipynb",
      "provenance": [],
      "collapsed_sections": [],
      "include_colab_link": true
    },
    "kernelspec": {
      "display_name": "Python 3",
      "language": "python",
      "name": "python3"
    },
    "language_info": {
      "codemirror_mode": {
        "name": "ipython",
        "version": 3
      },
      "file_extension": ".py",
      "mimetype": "text/x-python",
      "name": "python",
      "nbconvert_exporter": "python",
      "pygments_lexer": "ipython3",
      "version": "3.8.5"
    }
  },
  "cells": [
    {
      "cell_type": "markdown",
      "metadata": {
        "id": "view-in-github",
        "colab_type": "text"
      },
      "source": [
        "<a href=\"https://colab.research.google.com/github/ahmedhas32/Data-science-projects/blob/master/bank_repayment.ipynb\" target=\"_parent\"><img src=\"https://colab.research.google.com/assets/colab-badge.svg\" alt=\"Open In Colab\"/></a>"
      ]
    },
    {
      "cell_type": "markdown",
      "metadata": {
        "id": "q82ItelFes1S"
      },
      "source": [
        "## I will work on the following data sets based on 3 main stages \n",
        "\n",
        "### Stage 1 : Exploring , and Manipulating each of the given datasets\n",
        "    A - Loan\n",
        "    B - Payment\n",
        "    C - Clarity Underwriting\n",
        "\n",
        "### Stage 2 : Composing dataset to use in prediction\n",
        "     A - merging datasets\n",
        "     B - generating more features\n",
        "     C - Replacing missing values\n",
        "     D - Encoding categorical predictors\n",
        "\n",
        "\n",
        "### Stage 3 : Prediction and model testing\n",
        "     A - Checking variability of dependent variable across selected features\n",
        "     B - Transforming Data\n",
        "     C - Fitting model\n",
        "        "
      ]
    },
    {
      "cell_type": "markdown",
      "metadata": {
        "id": "tewvHONg1I8W"
      },
      "source": [
        "### Importing necessary libraries"
      ]
    },
    {
      "cell_type": "code",
      "metadata": {
        "id": "uT1aVyxGJNZ6",
        "colab": {
          "base_uri": "https://localhost:8080/"
        },
        "outputId": "e9fcd9db-1503-44d2-f26c-54774dd14bdb"
      },
      "source": [
        "!pip install arabic_reshaper\n",
        "\n",
        "import arabic_reshaper\n"
      ],
      "execution_count": null,
      "outputs": [
        {
          "output_type": "stream",
          "text": [
            "Collecting arabic_reshaper\n",
            "  Downloading https://files.pythonhosted.org/packages/0a/1e/b78cacd22bd55c43f2711115d67ece3ed9616ba82d2d0e0914db2a6db985/arabic_reshaper-2.1.1.tar.gz\n",
            "Requirement already satisfied: future in /usr/local/lib/python3.6/dist-packages (from arabic_reshaper) (0.16.0)\n",
            "Requirement already satisfied: setuptools in /usr/local/lib/python3.6/dist-packages (from arabic_reshaper) (50.3.2)\n",
            "Building wheels for collected packages: arabic-reshaper\n",
            "  Building wheel for arabic-reshaper (setup.py) ... \u001b[?25l\u001b[?25hdone\n",
            "  Created wheel for arabic-reshaper: filename=arabic_reshaper-2.1.1-cp36-none-any.whl size=16503 sha256=5155ce9a612bc8c7d29458468b290058367444b51a86714772eef82bbce99f25\n",
            "  Stored in directory: /root/.cache/pip/wheels/62/52/d8/bd0dcbf00f9e77e3bd0184285ed77dfa9c475dac494a5353d1\n",
            "Successfully built arabic-reshaper\n",
            "Installing collected packages: arabic-reshaper\n",
            "Successfully installed arabic-reshaper-2.1.1\n"
          ],
          "name": "stdout"
        }
      ]
    },
    {
      "cell_type": "code",
      "metadata": {
        "id": "iNjmke3aS4g9"
      },
      "source": [
        "import torch"
      ],
      "execution_count": null,
      "outputs": []
    },
    {
      "cell_type": "code",
      "metadata": {
        "id": "tk6VO6j_Jggs",
        "colab": {
          "base_uri": "https://localhost:8080/"
        },
        "outputId": "a1dc64a9-43d2-4878-c7dc-6e192e038875"
      },
      "source": [
        "#features=list(features)\n",
        "!pip install python-bidi\n",
        "from bidi.algorithm import get_display"
      ],
      "execution_count": null,
      "outputs": [
        {
          "output_type": "stream",
          "text": [
            "Collecting python-bidi\n",
            "  Downloading https://files.pythonhosted.org/packages/33/b0/f942d146a2f457233baaafd6bdf624eba8e0f665045b4abd69d1b62d097d/python_bidi-0.4.2-py2.py3-none-any.whl\n",
            "Requirement already satisfied: six in /usr/local/lib/python3.6/dist-packages (from python-bidi) (1.15.0)\n",
            "Installing collected packages: python-bidi\n",
            "Successfully installed python-bidi-0.4.2\n"
          ],
          "name": "stdout"
        }
      ]
    },
    {
      "cell_type": "code",
      "metadata": {
        "id": "5vbasgQTi_jz",
        "colab": {
          "base_uri": "https://localhost:8080/"
        },
        "outputId": "a9568d6f-b84e-4b43-ed23-e409f3f829f6"
      },
      "source": [
        "import csv as csv\n",
        "from matplotlib import pyplot\n",
        "from sklearn.model_selection import cross_val_score,KFold\n",
        "from sklearn.metrics import mean_absolute_error\n",
        "import matplotlib.pyplot as plt\n",
        "from scipy.stats import skew\n",
        "from collections import OrderedDict\n",
        "from sklearn import preprocessing\n",
        "from datetime import datetime\n",
        "from scipy import stats\n",
        "\n",
        "import statsmodels.api as sm\n",
        "from statsmodels.formula.api import ols\n",
        "from scipy.stats import chi2_contingency\n",
        "\n"
      ],
      "execution_count": null,
      "outputs": [
        {
          "output_type": "stream",
          "text": [
            "/usr/local/lib/python3.6/dist-packages/statsmodels/tools/_testing.py:19: FutureWarning: pandas.util.testing is deprecated. Use the functions in the public API at pandas.testing instead.\n",
            "  import pandas.util.testing as tm\n"
          ],
          "name": "stderr"
        }
      ]
    },
    {
      "cell_type": "code",
      "metadata": {
        "id": "Unhl9QkuvZxQ"
      },
      "source": [
        "\n",
        "\n",
        "from sklearn.model_selection import cross_val_score\n",
        "from sklearn.model_selection import KFold\n",
        "from sklearn.preprocessing import LabelEncoder\n",
        "from sklearn.pipeline import Pipeline\n",
        "\n",
        "from sklearn.model_selection import GridSearchCV, train_test_split\n",
        "\n",
        "from sklearn.metrics import r2_score\n",
        "from sklearn.metrics import mean_squared_error\n",
        "\n"
      ],
      "execution_count": null,
      "outputs": []
    },
    {
      "cell_type": "code",
      "metadata": {
        "id": "ha07guXVvgSL",
        "colab": {
          "base_uri": "https://localhost:8080/"
        },
        "outputId": "af6169b9-dd39-40ba-8ae1-7761bd46f026"
      },
      "source": [
        "from google.colab import drive\n",
        "drive.mount('/content/drive')"
      ],
      "execution_count": null,
      "outputs": [
        {
          "output_type": "stream",
          "text": [
            "Mounted at /content/drive\n"
          ],
          "name": "stdout"
        }
      ]
    },
    {
      "cell_type": "code",
      "metadata": {
        "id": "g_Ydxvuz-oq2"
      },
      "source": [
        "import numpy as np\n",
        "import pandas as pd\n",
        "import matplotlib.pyplot as plt\n",
        "import seaborn as sns\n",
        "import warnings\n",
        "import xlrd\n",
        "warnings.filterwarnings(\"ignore\")"
      ],
      "execution_count": null,
      "outputs": []
    },
    {
      "cell_type": "code",
      "metadata": {
        "id": "OaL7xM_V9zyW"
      },
      "source": [
        "from sklearn.preprocessing import LabelEncoder"
      ],
      "execution_count": null,
      "outputs": []
    },
    {
      "cell_type": "markdown",
      "metadata": {
        "id": "HaVpzeecwF3D"
      },
      "source": [
        "## Loading Datasets"
      ]
    },
    {
      "cell_type": "code",
      "metadata": {
        "id": "FjvR6qurp5yh"
      },
      "source": [
        "clarity_underwriting_variable = pd.read_csv('/content/drive/My Drive/clarity_underwriting_variables.csv')"
      ],
      "execution_count": null,
      "outputs": []
    },
    {
      "cell_type": "code",
      "metadata": {
        "id": "FBJ7uA3QupVg"
      },
      "source": [
        "loan = pd.read_csv('/content/drive/My Drive/loan.csv')"
      ],
      "execution_count": null,
      "outputs": []
    },
    {
      "cell_type": "code",
      "metadata": {
        "id": "BjmuqPXnuxQ5"
      },
      "source": [
        "payment = pd.read_csv('/content/drive/My Drive/payment.csv')"
      ],
      "execution_count": null,
      "outputs": []
    },
    {
      "cell_type": "markdown",
      "metadata": {
        "id": "zDROFUeffUPI"
      },
      "source": [
        "##  Stage 1 : Exploring , and Manipulating each of the given datasets"
      ]
    },
    {
      "cell_type": "markdown",
      "metadata": {
        "id": "X5PwE3CPwQGD"
      },
      "source": [
        "### to have an impact about datasets structure let's check the first 5 cases of each one"
      ]
    },
    {
      "cell_type": "code",
      "metadata": {
        "id": "X6y-YRaAvogz",
        "colab": {
          "base_uri": "https://localhost:8080/",
          "height": 309
        },
        "outputId": "ad99dcb0-3ff4-4407-fe0f-2587caafbc6e"
      },
      "source": [
        "loan.head()"
      ],
      "execution_count": null,
      "outputs": [
        {
          "output_type": "execute_result",
          "data": {
            "text/html": [
              "<div>\n",
              "<style scoped>\n",
              "    .dataframe tbody tr th:only-of-type {\n",
              "        vertical-align: middle;\n",
              "    }\n",
              "\n",
              "    .dataframe tbody tr th {\n",
              "        vertical-align: top;\n",
              "    }\n",
              "\n",
              "    .dataframe thead th {\n",
              "        text-align: right;\n",
              "    }\n",
              "</style>\n",
              "<table border=\"1\" class=\"dataframe\">\n",
              "  <thead>\n",
              "    <tr style=\"text-align: right;\">\n",
              "      <th></th>\n",
              "      <th>loanId</th>\n",
              "      <th>anon_ssn</th>\n",
              "      <th>payFrequency</th>\n",
              "      <th>apr</th>\n",
              "      <th>applicationDate</th>\n",
              "      <th>originated</th>\n",
              "      <th>originatedDate</th>\n",
              "      <th>nPaidOff</th>\n",
              "      <th>approved</th>\n",
              "      <th>isFunded</th>\n",
              "      <th>loanStatus</th>\n",
              "      <th>loanAmount</th>\n",
              "      <th>originallyScheduledPaymentAmount</th>\n",
              "      <th>state</th>\n",
              "      <th>leadType</th>\n",
              "      <th>leadCost</th>\n",
              "      <th>fpStatus</th>\n",
              "      <th>clarityFraudId</th>\n",
              "      <th>hasCF</th>\n",
              "    </tr>\n",
              "  </thead>\n",
              "  <tbody>\n",
              "    <tr>\n",
              "      <th>0</th>\n",
              "      <td>LL-I-07399092</td>\n",
              "      <td>beff4989be82aab4a5b47679216942fd</td>\n",
              "      <td>B</td>\n",
              "      <td>360.0</td>\n",
              "      <td>2016-02-23T17:29:01.940000</td>\n",
              "      <td>False</td>\n",
              "      <td>NaN</td>\n",
              "      <td>0.0</td>\n",
              "      <td>False</td>\n",
              "      <td>0</td>\n",
              "      <td>Withdrawn Application</td>\n",
              "      <td>500.0</td>\n",
              "      <td>978.27</td>\n",
              "      <td>IL</td>\n",
              "      <td>bvMandatory</td>\n",
              "      <td>6</td>\n",
              "      <td>NaN</td>\n",
              "      <td>5669ef78e4b0c9d3936440e6</td>\n",
              "      <td>1</td>\n",
              "    </tr>\n",
              "    <tr>\n",
              "      <th>1</th>\n",
              "      <td>LL-I-06644937</td>\n",
              "      <td>464f5d9ae4fa09ece4048d949191865c</td>\n",
              "      <td>B</td>\n",
              "      <td>199.0</td>\n",
              "      <td>2016-01-19T22:07:36.778000</td>\n",
              "      <td>True</td>\n",
              "      <td>2016-01-20T15:49:18.846000</td>\n",
              "      <td>0.0</td>\n",
              "      <td>True</td>\n",
              "      <td>1</td>\n",
              "      <td>Paid Off Loan</td>\n",
              "      <td>3000.0</td>\n",
              "      <td>6395.19</td>\n",
              "      <td>CA</td>\n",
              "      <td>prescreen</td>\n",
              "      <td>0</td>\n",
              "      <td>Checked</td>\n",
              "      <td>569eb3a3e4b096699f685d64</td>\n",
              "      <td>1</td>\n",
              "    </tr>\n",
              "    <tr>\n",
              "      <th>2</th>\n",
              "      <td>LL-I-10707532</td>\n",
              "      <td>3c174ae9e2505a5f9ddbff9843281845</td>\n",
              "      <td>B</td>\n",
              "      <td>590.0</td>\n",
              "      <td>2016-08-01T13:51:14.709000</td>\n",
              "      <td>False</td>\n",
              "      <td>NaN</td>\n",
              "      <td>0.0</td>\n",
              "      <td>False</td>\n",
              "      <td>0</td>\n",
              "      <td>Withdrawn Application</td>\n",
              "      <td>400.0</td>\n",
              "      <td>1199.45</td>\n",
              "      <td>MO</td>\n",
              "      <td>bvMandatory</td>\n",
              "      <td>3</td>\n",
              "      <td>NaN</td>\n",
              "      <td>579eab11e4b0d0502870ef2f</td>\n",
              "      <td>1</td>\n",
              "    </tr>\n",
              "    <tr>\n",
              "      <th>3</th>\n",
              "      <td>LL-I-02272596</td>\n",
              "      <td>9be6f443bb97db7e95fa0c281d34da91</td>\n",
              "      <td>B</td>\n",
              "      <td>360.0</td>\n",
              "      <td>2015-08-06T23:58:08.880000</td>\n",
              "      <td>False</td>\n",
              "      <td>NaN</td>\n",
              "      <td>0.0</td>\n",
              "      <td>False</td>\n",
              "      <td>0</td>\n",
              "      <td>Withdrawn Application</td>\n",
              "      <td>500.0</td>\n",
              "      <td>1074.05</td>\n",
              "      <td>IL</td>\n",
              "      <td>bvMandatory</td>\n",
              "      <td>3</td>\n",
              "      <td>NaN</td>\n",
              "      <td>555b1e95e4b0f6f11b267c18</td>\n",
              "      <td>1</td>\n",
              "    </tr>\n",
              "    <tr>\n",
              "      <th>4</th>\n",
              "      <td>LL-I-09542882</td>\n",
              "      <td>63b5494f60b5c19c827c7b068443752c</td>\n",
              "      <td>B</td>\n",
              "      <td>590.0</td>\n",
              "      <td>2016-06-05T22:31:34.304000</td>\n",
              "      <td>False</td>\n",
              "      <td>NaN</td>\n",
              "      <td>0.0</td>\n",
              "      <td>False</td>\n",
              "      <td>0</td>\n",
              "      <td>Rejected</td>\n",
              "      <td>350.0</td>\n",
              "      <td>814.37</td>\n",
              "      <td>NV</td>\n",
              "      <td>bvMandatory</td>\n",
              "      <td>3</td>\n",
              "      <td>NaN</td>\n",
              "      <td>5754a91be4b0c6a2bf424772</td>\n",
              "      <td>1</td>\n",
              "    </tr>\n",
              "  </tbody>\n",
              "</table>\n",
              "</div>"
            ],
            "text/plain": [
              "          loanId  ... hasCF\n",
              "0  LL-I-07399092  ...     1\n",
              "1  LL-I-06644937  ...     1\n",
              "2  LL-I-10707532  ...     1\n",
              "3  LL-I-02272596  ...     1\n",
              "4  LL-I-09542882  ...     1\n",
              "\n",
              "[5 rows x 19 columns]"
            ]
          },
          "metadata": {
            "tags": []
          },
          "execution_count": 12
        }
      ]
    },
    {
      "cell_type": "code",
      "metadata": {
        "id": "ClBmsUmvE22p",
        "colab": {
          "base_uri": "https://localhost:8080/",
          "height": 204
        },
        "outputId": "5ffdeb27-2dbd-4ca6-f279-f393928599bd"
      },
      "source": [
        "payment.head()"
      ],
      "execution_count": null,
      "outputs": [
        {
          "output_type": "execute_result",
          "data": {
            "text/html": [
              "<div>\n",
              "<style scoped>\n",
              "    .dataframe tbody tr th:only-of-type {\n",
              "        vertical-align: middle;\n",
              "    }\n",
              "\n",
              "    .dataframe tbody tr th {\n",
              "        vertical-align: top;\n",
              "    }\n",
              "\n",
              "    .dataframe thead th {\n",
              "        text-align: right;\n",
              "    }\n",
              "</style>\n",
              "<table border=\"1\" class=\"dataframe\">\n",
              "  <thead>\n",
              "    <tr style=\"text-align: right;\">\n",
              "      <th></th>\n",
              "      <th>loanId</th>\n",
              "      <th>installmentIndex</th>\n",
              "      <th>isCollection</th>\n",
              "      <th>paymentDate</th>\n",
              "      <th>principal</th>\n",
              "      <th>fees</th>\n",
              "      <th>paymentAmount</th>\n",
              "      <th>paymentStatus</th>\n",
              "      <th>paymentReturnCode</th>\n",
              "    </tr>\n",
              "  </thead>\n",
              "  <tbody>\n",
              "    <tr>\n",
              "      <th>0</th>\n",
              "      <td>LL-I-00000021</td>\n",
              "      <td>1</td>\n",
              "      <td>False</td>\n",
              "      <td>2014-12-19T05:00:00</td>\n",
              "      <td>22.33</td>\n",
              "      <td>147.28</td>\n",
              "      <td>169.61</td>\n",
              "      <td>Checked</td>\n",
              "      <td>NaN</td>\n",
              "    </tr>\n",
              "    <tr>\n",
              "      <th>1</th>\n",
              "      <td>LL-I-00000021</td>\n",
              "      <td>2</td>\n",
              "      <td>False</td>\n",
              "      <td>2015-01-02T05:00:00</td>\n",
              "      <td>26.44</td>\n",
              "      <td>143.17</td>\n",
              "      <td>169.61</td>\n",
              "      <td>Checked</td>\n",
              "      <td>NaN</td>\n",
              "    </tr>\n",
              "    <tr>\n",
              "      <th>2</th>\n",
              "      <td>LL-I-00000021</td>\n",
              "      <td>3</td>\n",
              "      <td>False</td>\n",
              "      <td>2015-01-16T05:00:00</td>\n",
              "      <td>31.30</td>\n",
              "      <td>138.31</td>\n",
              "      <td>169.61</td>\n",
              "      <td>Checked</td>\n",
              "      <td>NaN</td>\n",
              "    </tr>\n",
              "    <tr>\n",
              "      <th>3</th>\n",
              "      <td>LL-I-00000021</td>\n",
              "      <td>4</td>\n",
              "      <td>False</td>\n",
              "      <td>2015-01-30T05:00:00</td>\n",
              "      <td>37.07</td>\n",
              "      <td>132.54</td>\n",
              "      <td>169.61</td>\n",
              "      <td>Checked</td>\n",
              "      <td>NaN</td>\n",
              "    </tr>\n",
              "    <tr>\n",
              "      <th>4</th>\n",
              "      <td>LL-I-00000021</td>\n",
              "      <td>5</td>\n",
              "      <td>False</td>\n",
              "      <td>2015-02-13T05:00:00</td>\n",
              "      <td>43.89</td>\n",
              "      <td>125.72</td>\n",
              "      <td>169.61</td>\n",
              "      <td>Checked</td>\n",
              "      <td>NaN</td>\n",
              "    </tr>\n",
              "  </tbody>\n",
              "</table>\n",
              "</div>"
            ],
            "text/plain": [
              "          loanId  installmentIndex  ...  paymentStatus paymentReturnCode\n",
              "0  LL-I-00000021                 1  ...        Checked               NaN\n",
              "1  LL-I-00000021                 2  ...        Checked               NaN\n",
              "2  LL-I-00000021                 3  ...        Checked               NaN\n",
              "3  LL-I-00000021                 4  ...        Checked               NaN\n",
              "4  LL-I-00000021                 5  ...        Checked               NaN\n",
              "\n",
              "[5 rows x 9 columns]"
            ]
          },
          "metadata": {
            "tags": []
          },
          "execution_count": 13
        }
      ]
    },
    {
      "cell_type": "markdown",
      "metadata": {
        "id": "02JrtSGow170"
      },
      "source": [
        "### To ease dealing with fields of the dataset \"clarity_underwriting_variable\" we change field names as in the column \"column name\" in the file clarity under witing dictionary"
      ]
    },
    {
      "cell_type": "code",
      "metadata": {
        "id": "iylp60gI4lxe"
      },
      "source": [
        "column_names= ['CF.fs.bof_ssn_date_unverified','CF.fs.bof_ssn_deceased','CF.fs.credit_prior_age_18','CF.fs.credit_prior_ssn_date','CF.fs.cur_addr_rep_newtrade_only','CF.fs.cur_addr_rep_trade_90_days','CF.fs.dl_format_invalid','CF.fs.dl_inconsistent_wof','CF.fs.in_ssn_date_unverified','CF.fs.in_ssn_deceased','CF.fs.in_ssn_invalid','CF.fs.inq_addr_cautious','CF.fs.inq_addr_high_risk','CF.fs.inq_addr_non_residential','CF.fs.inq_age_lt_ssn_date','CF.fs.inq_current_addr_nof','CF.fs.inq_gt_3_in_last_30_days','CF.fs.inq_onf_addr_conflict','CF.fs.max_num_ssn_ba','CF.fs.onf_addr_cautious','CF.fs.onf_addr_high_risk','CF.fs.onf_addr_non_residential','CF.fs.phone_inconsistent_w_addr','CF.fs.phone_inconsistent_w_state','CF.fs.ssn_belongs_to_another','CF.fs.ssn_frequent_for_another','CF.fs.total_num_fraud_indicators','CF.fs.work_num_prev_cell_num','CF.fs.work_num_prev_home_num','CF.inquiry.1_hr_ago','CF.inquiry.1_min_ago','CF.inquiry.10_mins_ago','CF.inquiry.15_days_ago','CF.inquiry.24_hrs_ago','CF.inquiry.30_days_ago','CF.inquiry.365_days_ago','CF.inquiry.7_days_ago','CF.inquiry.90_days_ago','CF.match.name_addr','CF.match.name_addr_reason_code','CF.match.name_addr_code_desc','CF.match.oa_reason_code','CF.match.oa_result','CF.match.ssn_dob_reason_code','CF.match.phonematchtypedescription','CF.match.ssn_name','CF.match.ssn_name_reason_code','CF.match.ssn_name_code_desc','CF.match.phone_match_result','CF.match.phone_match_type','CF.match.phone_type','CF.match.ssndobmatch','clearFraudScore','underwritingid']"
      ],
      "execution_count": null,
      "outputs": []
    },
    {
      "cell_type": "code",
      "metadata": {
        "id": "10pivrFq40Bj"
      },
      "source": [
        "clarity_underwriting_variable.columns = column_names"
      ],
      "execution_count": null,
      "outputs": []
    },
    {
      "cell_type": "code",
      "metadata": {
        "id": "1klIktZO48b7",
        "colab": {
          "base_uri": "https://localhost:8080/",
          "height": 224
        },
        "outputId": "b82b6c3e-1baf-40cc-edd2-c585026b6867"
      },
      "source": [
        "clarity_underwriting_variable.head()"
      ],
      "execution_count": null,
      "outputs": [
        {
          "output_type": "execute_result",
          "data": {
            "text/html": [
              "<div>\n",
              "<style scoped>\n",
              "    .dataframe tbody tr th:only-of-type {\n",
              "        vertical-align: middle;\n",
              "    }\n",
              "\n",
              "    .dataframe tbody tr th {\n",
              "        vertical-align: top;\n",
              "    }\n",
              "\n",
              "    .dataframe thead th {\n",
              "        text-align: right;\n",
              "    }\n",
              "</style>\n",
              "<table border=\"1\" class=\"dataframe\">\n",
              "  <thead>\n",
              "    <tr style=\"text-align: right;\">\n",
              "      <th></th>\n",
              "      <th>CF.fs.bof_ssn_date_unverified</th>\n",
              "      <th>CF.fs.bof_ssn_deceased</th>\n",
              "      <th>CF.fs.credit_prior_age_18</th>\n",
              "      <th>CF.fs.credit_prior_ssn_date</th>\n",
              "      <th>CF.fs.cur_addr_rep_newtrade_only</th>\n",
              "      <th>CF.fs.cur_addr_rep_trade_90_days</th>\n",
              "      <th>CF.fs.dl_format_invalid</th>\n",
              "      <th>CF.fs.dl_inconsistent_wof</th>\n",
              "      <th>CF.fs.in_ssn_date_unverified</th>\n",
              "      <th>CF.fs.in_ssn_deceased</th>\n",
              "      <th>CF.fs.in_ssn_invalid</th>\n",
              "      <th>CF.fs.inq_addr_cautious</th>\n",
              "      <th>CF.fs.inq_addr_high_risk</th>\n",
              "      <th>CF.fs.inq_addr_non_residential</th>\n",
              "      <th>CF.fs.inq_age_lt_ssn_date</th>\n",
              "      <th>CF.fs.inq_current_addr_nof</th>\n",
              "      <th>CF.fs.inq_gt_3_in_last_30_days</th>\n",
              "      <th>CF.fs.inq_onf_addr_conflict</th>\n",
              "      <th>CF.fs.max_num_ssn_ba</th>\n",
              "      <th>CF.fs.onf_addr_cautious</th>\n",
              "      <th>CF.fs.onf_addr_high_risk</th>\n",
              "      <th>CF.fs.onf_addr_non_residential</th>\n",
              "      <th>CF.fs.phone_inconsistent_w_addr</th>\n",
              "      <th>CF.fs.phone_inconsistent_w_state</th>\n",
              "      <th>CF.fs.ssn_belongs_to_another</th>\n",
              "      <th>CF.fs.ssn_frequent_for_another</th>\n",
              "      <th>CF.fs.total_num_fraud_indicators</th>\n",
              "      <th>CF.fs.work_num_prev_cell_num</th>\n",
              "      <th>CF.fs.work_num_prev_home_num</th>\n",
              "      <th>CF.inquiry.1_hr_ago</th>\n",
              "      <th>CF.inquiry.1_min_ago</th>\n",
              "      <th>CF.inquiry.10_mins_ago</th>\n",
              "      <th>CF.inquiry.15_days_ago</th>\n",
              "      <th>CF.inquiry.24_hrs_ago</th>\n",
              "      <th>CF.inquiry.30_days_ago</th>\n",
              "      <th>CF.inquiry.365_days_ago</th>\n",
              "      <th>CF.inquiry.7_days_ago</th>\n",
              "      <th>CF.inquiry.90_days_ago</th>\n",
              "      <th>CF.match.name_addr</th>\n",
              "      <th>CF.match.name_addr_reason_code</th>\n",
              "      <th>CF.match.name_addr_code_desc</th>\n",
              "      <th>CF.match.oa_reason_code</th>\n",
              "      <th>CF.match.oa_result</th>\n",
              "      <th>CF.match.ssn_dob_reason_code</th>\n",
              "      <th>CF.match.phonematchtypedescription</th>\n",
              "      <th>CF.match.ssn_name</th>\n",
              "      <th>CF.match.ssn_name_reason_code</th>\n",
              "      <th>CF.match.ssn_name_code_desc</th>\n",
              "      <th>CF.match.phone_match_result</th>\n",
              "      <th>CF.match.phone_match_type</th>\n",
              "      <th>CF.match.phone_type</th>\n",
              "      <th>CF.match.ssndobmatch</th>\n",
              "      <th>clearFraudScore</th>\n",
              "      <th>underwritingid</th>\n",
              "    </tr>\n",
              "  </thead>\n",
              "  <tbody>\n",
              "    <tr>\n",
              "      <th>0</th>\n",
              "      <td>8.0</td>\n",
              "      <td>2.0</td>\n",
              "      <td>2.0</td>\n",
              "      <td>2.0</td>\n",
              "      <td>8.0</td>\n",
              "      <td>2.0</td>\n",
              "      <td>2.0</td>\n",
              "      <td>5.0</td>\n",
              "      <td>10.0</td>\n",
              "      <td>False</td>\n",
              "      <td>2.0</td>\n",
              "      <td>True</td>\n",
              "      <td>False</td>\n",
              "      <td>False</td>\n",
              "      <td>True</td>\n",
              "      <td>False</td>\n",
              "      <td>False</td>\n",
              "      <td>False</td>\n",
              "      <td>False</td>\n",
              "      <td>False</td>\n",
              "      <td>False</td>\n",
              "      <td>False</td>\n",
              "      <td>False</td>\n",
              "      <td>False</td>\n",
              "      <td>NaN</td>\n",
              "      <td>False</td>\n",
              "      <td>False</td>\n",
              "      <td>False</td>\n",
              "      <td>False</td>\n",
              "      <td>False</td>\n",
              "      <td>1.0</td>\n",
              "      <td>False</td>\n",
              "      <td>False</td>\n",
              "      <td>False</td>\n",
              "      <td>False</td>\n",
              "      <td>NaN</td>\n",
              "      <td>False</td>\n",
              "      <td>False</td>\n",
              "      <td>match</td>\n",
              "      <td>partial</td>\n",
              "      <td>M</td>\n",
              "      <td>NaN</td>\n",
              "      <td>unavailable</td>\n",
              "      <td>(A8) Match to Last Name only</td>\n",
              "      <td>(M) Mobile Phone</td>\n",
              "      <td>partial</td>\n",
              "      <td>NaN</td>\n",
              "      <td>NaN</td>\n",
              "      <td>NaN</td>\n",
              "      <td>A8</td>\n",
              "      <td>match</td>\n",
              "      <td>6.0</td>\n",
              "      <td>871.0</td>\n",
              "      <td>54cbffcee4b0ba763e43144d</td>\n",
              "    </tr>\n",
              "    <tr>\n",
              "      <th>1</th>\n",
              "      <td>5.0</td>\n",
              "      <td>2.0</td>\n",
              "      <td>2.0</td>\n",
              "      <td>2.0</td>\n",
              "      <td>11.0</td>\n",
              "      <td>2.0</td>\n",
              "      <td>2.0</td>\n",
              "      <td>4.0</td>\n",
              "      <td>21.0</td>\n",
              "      <td>True</td>\n",
              "      <td>3.0</td>\n",
              "      <td>True</td>\n",
              "      <td>False</td>\n",
              "      <td>False</td>\n",
              "      <td>False</td>\n",
              "      <td>False</td>\n",
              "      <td>False</td>\n",
              "      <td>False</td>\n",
              "      <td>False</td>\n",
              "      <td>False</td>\n",
              "      <td>False</td>\n",
              "      <td>False</td>\n",
              "      <td>False</td>\n",
              "      <td>False</td>\n",
              "      <td>NaN</td>\n",
              "      <td>False</td>\n",
              "      <td>False</td>\n",
              "      <td>True</td>\n",
              "      <td>False</td>\n",
              "      <td>False</td>\n",
              "      <td>1.0</td>\n",
              "      <td>False</td>\n",
              "      <td>False</td>\n",
              "      <td>False</td>\n",
              "      <td>False</td>\n",
              "      <td>NaN</td>\n",
              "      <td>False</td>\n",
              "      <td>False</td>\n",
              "      <td>match</td>\n",
              "      <td>mismatch</td>\n",
              "      <td>M</td>\n",
              "      <td>NaN</td>\n",
              "      <td>unavailable</td>\n",
              "      <td>NaN</td>\n",
              "      <td>(M) Mobile Phone</td>\n",
              "      <td>partial</td>\n",
              "      <td>NaN</td>\n",
              "      <td>NaN</td>\n",
              "      <td>NaN</td>\n",
              "      <td>NaN</td>\n",
              "      <td>match</td>\n",
              "      <td>11.0</td>\n",
              "      <td>397.0</td>\n",
              "      <td>54cc0408e4b0418d9a7f78af</td>\n",
              "    </tr>\n",
              "    <tr>\n",
              "      <th>2</th>\n",
              "      <td>9.0</td>\n",
              "      <td>4.0</td>\n",
              "      <td>2.0</td>\n",
              "      <td>3.0</td>\n",
              "      <td>10.0</td>\n",
              "      <td>8.0</td>\n",
              "      <td>2.0</td>\n",
              "      <td>9.0</td>\n",
              "      <td>25.0</td>\n",
              "      <td>False</td>\n",
              "      <td>3.0</td>\n",
              "      <td>True</td>\n",
              "      <td>False</td>\n",
              "      <td>False</td>\n",
              "      <td>False</td>\n",
              "      <td>False</td>\n",
              "      <td>False</td>\n",
              "      <td>False</td>\n",
              "      <td>False</td>\n",
              "      <td>False</td>\n",
              "      <td>False</td>\n",
              "      <td>False</td>\n",
              "      <td>False</td>\n",
              "      <td>False</td>\n",
              "      <td>NaN</td>\n",
              "      <td>False</td>\n",
              "      <td>False</td>\n",
              "      <td>False</td>\n",
              "      <td>False</td>\n",
              "      <td>False</td>\n",
              "      <td>2.0</td>\n",
              "      <td>False</td>\n",
              "      <td>False</td>\n",
              "      <td>False</td>\n",
              "      <td>False</td>\n",
              "      <td>NaN</td>\n",
              "      <td>True</td>\n",
              "      <td>False</td>\n",
              "      <td>match</td>\n",
              "      <td>match</td>\n",
              "      <td>M</td>\n",
              "      <td>NaN</td>\n",
              "      <td>unavailable</td>\n",
              "      <td>NaN</td>\n",
              "      <td>(M) Mobile Phone</td>\n",
              "      <td>match</td>\n",
              "      <td>NaN</td>\n",
              "      <td>NaN</td>\n",
              "      <td>NaN</td>\n",
              "      <td>NaN</td>\n",
              "      <td>match</td>\n",
              "      <td>1.0</td>\n",
              "      <td>572.0</td>\n",
              "      <td>54cc0683e4b0418d9a80adb6</td>\n",
              "    </tr>\n",
              "    <tr>\n",
              "      <th>3</th>\n",
              "      <td>3.0</td>\n",
              "      <td>2.0</td>\n",
              "      <td>2.0</td>\n",
              "      <td>2.0</td>\n",
              "      <td>9.0</td>\n",
              "      <td>2.0</td>\n",
              "      <td>2.0</td>\n",
              "      <td>2.0</td>\n",
              "      <td>9.0</td>\n",
              "      <td>False</td>\n",
              "      <td>1.0</td>\n",
              "      <td>True</td>\n",
              "      <td>False</td>\n",
              "      <td>False</td>\n",
              "      <td>False</td>\n",
              "      <td>False</td>\n",
              "      <td>False</td>\n",
              "      <td>False</td>\n",
              "      <td>False</td>\n",
              "      <td>False</td>\n",
              "      <td>False</td>\n",
              "      <td>False</td>\n",
              "      <td>False</td>\n",
              "      <td>False</td>\n",
              "      <td>NaN</td>\n",
              "      <td>False</td>\n",
              "      <td>False</td>\n",
              "      <td>False</td>\n",
              "      <td>False</td>\n",
              "      <td>False</td>\n",
              "      <td>1.0</td>\n",
              "      <td>False</td>\n",
              "      <td>False</td>\n",
              "      <td>False</td>\n",
              "      <td>False</td>\n",
              "      <td>NaN</td>\n",
              "      <td>False</td>\n",
              "      <td>False</td>\n",
              "      <td>match</td>\n",
              "      <td>mismatch</td>\n",
              "      <td>M</td>\n",
              "      <td>NaN</td>\n",
              "      <td>unavailable</td>\n",
              "      <td>NaN</td>\n",
              "      <td>(M) Mobile Phone</td>\n",
              "      <td>partial</td>\n",
              "      <td>NaN</td>\n",
              "      <td>NaN</td>\n",
              "      <td>NaN</td>\n",
              "      <td>NaN</td>\n",
              "      <td>match</td>\n",
              "      <td>11.0</td>\n",
              "      <td>838.0</td>\n",
              "      <td>54cc0780e4b0ba763e43b74a</td>\n",
              "    </tr>\n",
              "    <tr>\n",
              "      <th>4</th>\n",
              "      <td>5.0</td>\n",
              "      <td>5.0</td>\n",
              "      <td>2.0</td>\n",
              "      <td>2.0</td>\n",
              "      <td>6.0</td>\n",
              "      <td>5.0</td>\n",
              "      <td>2.0</td>\n",
              "      <td>5.0</td>\n",
              "      <td>6.0</td>\n",
              "      <td>False</td>\n",
              "      <td>1.0</td>\n",
              "      <td>True</td>\n",
              "      <td>False</td>\n",
              "      <td>False</td>\n",
              "      <td>False</td>\n",
              "      <td>False</td>\n",
              "      <td>False</td>\n",
              "      <td>False</td>\n",
              "      <td>False</td>\n",
              "      <td>False</td>\n",
              "      <td>False</td>\n",
              "      <td>False</td>\n",
              "      <td>False</td>\n",
              "      <td>False</td>\n",
              "      <td>NaN</td>\n",
              "      <td>False</td>\n",
              "      <td>False</td>\n",
              "      <td>False</td>\n",
              "      <td>False</td>\n",
              "      <td>False</td>\n",
              "      <td>1.0</td>\n",
              "      <td>False</td>\n",
              "      <td>False</td>\n",
              "      <td>False</td>\n",
              "      <td>False</td>\n",
              "      <td>NaN</td>\n",
              "      <td>False</td>\n",
              "      <td>False</td>\n",
              "      <td>match</td>\n",
              "      <td>match</td>\n",
              "      <td>M</td>\n",
              "      <td>NaN</td>\n",
              "      <td>unavailable</td>\n",
              "      <td>NaN</td>\n",
              "      <td>(M) Mobile Phone</td>\n",
              "      <td>match</td>\n",
              "      <td>NaN</td>\n",
              "      <td>NaN</td>\n",
              "      <td>NaN</td>\n",
              "      <td>NaN</td>\n",
              "      <td>match</td>\n",
              "      <td>1.0</td>\n",
              "      <td>768.0</td>\n",
              "      <td>54cc1d67e4b0ba763e445b45</td>\n",
              "    </tr>\n",
              "  </tbody>\n",
              "</table>\n",
              "</div>"
            ],
            "text/plain": [
              "   CF.fs.bof_ssn_date_unverified  ...            underwritingid\n",
              "0                            8.0  ...  54cbffcee4b0ba763e43144d\n",
              "1                            5.0  ...  54cc0408e4b0418d9a7f78af\n",
              "2                            9.0  ...  54cc0683e4b0418d9a80adb6\n",
              "3                            3.0  ...  54cc0780e4b0ba763e43b74a\n",
              "4                            5.0  ...  54cc1d67e4b0ba763e445b45\n",
              "\n",
              "[5 rows x 54 columns]"
            ]
          },
          "metadata": {
            "tags": []
          },
          "execution_count": 16
        }
      ]
    },
    {
      "cell_type": "markdown",
      "metadata": {
        "id": "XdmOBTnNxqqD"
      },
      "source": [
        "### Next step is to study and check the folowing in each dataset\n",
        "1- is each field stored in the correct data type\n",
        "\n",
        "2-the distibution and presense of missing values and outliers\n",
        "\n",
        "3- correlation and relationships between fields\n",
        "\n",
        "#### We start with Loan dataset"
      ]
    },
    {
      "cell_type": "markdown",
      "metadata": {
        "id": "Vcvc6Gthfg7F"
      },
      "source": [
        "### A - Loan"
      ]
    },
    {
      "cell_type": "code",
      "metadata": {
        "id": "NuM13Pi2dA_Q",
        "colab": {
          "base_uri": "https://localhost:8080/"
        },
        "outputId": "7e118ea5-9e23-4eb1-8831-cfe755a4a2cc"
      },
      "source": [
        "loan.info()"
      ],
      "execution_count": null,
      "outputs": [
        {
          "output_type": "stream",
          "text": [
            "<class 'pandas.core.frame.DataFrame'>\n",
            "RangeIndex: 577682 entries, 0 to 577681\n",
            "Data columns (total 19 columns):\n",
            " #   Column                            Non-Null Count   Dtype  \n",
            "---  ------                            --------------   -----  \n",
            " 0   loanId                            577426 non-null  object \n",
            " 1   anon_ssn                          577682 non-null  object \n",
            " 2   payFrequency                      576409 non-null  object \n",
            " 3   apr                               573760 non-null  float64\n",
            " 4   applicationDate                   577682 non-null  object \n",
            " 5   originated                        577682 non-null  bool   \n",
            " 6   originatedDate                    46044 non-null   object \n",
            " 7   nPaidOff                          577658 non-null  float64\n",
            " 8   approved                          577682 non-null  bool   \n",
            " 9   isFunded                          577682 non-null  int64  \n",
            " 10  loanStatus                        577291 non-null  object \n",
            " 11  loanAmount                        575432 non-null  float64\n",
            " 12  originallyScheduledPaymentAmount  577682 non-null  float64\n",
            " 13  state                             577550 non-null  object \n",
            " 14  leadType                          577682 non-null  object \n",
            " 15  leadCost                          577682 non-null  int64  \n",
            " 16  fpStatus                          51723 non-null   object \n",
            " 17  clarityFraudId                    357693 non-null  object \n",
            " 18  hasCF                             577682 non-null  int64  \n",
            "dtypes: bool(2), float64(4), int64(3), object(10)\n",
            "memory usage: 76.0+ MB\n"
          ],
          "name": "stdout"
        }
      ]
    },
    {
      "cell_type": "markdown",
      "metadata": {
        "id": "9xCvLj4syZ0S"
      },
      "source": [
        "we notice presence of missing values (as mentioned in the dictionary) in several fields \"originated date\" (natural case because not all loans originated \n",
        "\"fp status \" (because not all loans were funded yo have first payment and clarity fraud for similar reason"
      ]
    },
    {
      "cell_type": "markdown",
      "metadata": {
        "id": "Dvas2kn2yarn"
      },
      "source": [
        "As mentioned in dictionary we have several categories of loan status contain the word void , so we mege them into one category to ease studying distribution of variable loan status\n",
        "\n",
        "so we do with categories containing \"pending\" word"
      ]
    },
    {
      "cell_type": "code",
      "metadata": {
        "id": "0dDdaJ1o-9bf"
      },
      "source": [
        "loan['loanStatus'] = loan['loanStatus'].str.lower().replace(np.nan ,' ')\n",
        "loan.loc[loan['loanStatus'].str.contains('void'), 'loanStatus'] = 'void'\n",
        "loan.loc[loan['loanStatus'].str.contains('pending'), 'loanStatus'] = 'pending'"
      ],
      "execution_count": null,
      "outputs": []
    },
    {
      "cell_type": "code",
      "metadata": {
        "id": "EQdlRfqY95QO",
        "colab": {
          "base_uri": "https://localhost:8080/"
        },
        "outputId": "0f17e7a7-e8d0-4536-9fba-a8562a755c35"
      },
      "source": [
        "loan['loanStatus'].value_counts()"
      ],
      "execution_count": null,
      "outputs": [
        {
          "output_type": "execute_result",
          "data": {
            "text/plain": [
              "withdrawn application    450984\n",
              "rejected                  85070\n",
              "paid off loan             11427\n",
              "external collection       11334\n",
              "new loan                   8112\n",
              "internal collection        5567\n",
              "void                       2237\n",
              "returned item              1182\n",
              "settlement paid off         708\n",
              "                            391\n",
              "settled bankruptcy          326\n",
              "pending                     183\n",
              "charged off paid off        160\n",
              "charged off                   1\n",
              "Name: loanStatus, dtype: int64"
            ]
          },
          "metadata": {
            "tags": []
          },
          "execution_count": 19
        }
      ]
    },
    {
      "cell_type": "code",
      "metadata": {
        "id": "fFQFWKV2E5NJ",
        "colab": {
          "base_uri": "https://localhost:8080/",
          "height": 309
        },
        "outputId": "40d5652f-e59f-480d-e3c3-33b493802bff"
      },
      "source": [
        "loan.head()"
      ],
      "execution_count": null,
      "outputs": [
        {
          "output_type": "execute_result",
          "data": {
            "text/html": [
              "<div>\n",
              "<style scoped>\n",
              "    .dataframe tbody tr th:only-of-type {\n",
              "        vertical-align: middle;\n",
              "    }\n",
              "\n",
              "    .dataframe tbody tr th {\n",
              "        vertical-align: top;\n",
              "    }\n",
              "\n",
              "    .dataframe thead th {\n",
              "        text-align: right;\n",
              "    }\n",
              "</style>\n",
              "<table border=\"1\" class=\"dataframe\">\n",
              "  <thead>\n",
              "    <tr style=\"text-align: right;\">\n",
              "      <th></th>\n",
              "      <th>loanId</th>\n",
              "      <th>anon_ssn</th>\n",
              "      <th>payFrequency</th>\n",
              "      <th>apr</th>\n",
              "      <th>applicationDate</th>\n",
              "      <th>originated</th>\n",
              "      <th>originatedDate</th>\n",
              "      <th>nPaidOff</th>\n",
              "      <th>approved</th>\n",
              "      <th>isFunded</th>\n",
              "      <th>loanStatus</th>\n",
              "      <th>loanAmount</th>\n",
              "      <th>originallyScheduledPaymentAmount</th>\n",
              "      <th>state</th>\n",
              "      <th>leadType</th>\n",
              "      <th>leadCost</th>\n",
              "      <th>fpStatus</th>\n",
              "      <th>clarityFraudId</th>\n",
              "      <th>hasCF</th>\n",
              "    </tr>\n",
              "  </thead>\n",
              "  <tbody>\n",
              "    <tr>\n",
              "      <th>0</th>\n",
              "      <td>LL-I-07399092</td>\n",
              "      <td>beff4989be82aab4a5b47679216942fd</td>\n",
              "      <td>B</td>\n",
              "      <td>360.0</td>\n",
              "      <td>2016-02-23T17:29:01.940000</td>\n",
              "      <td>False</td>\n",
              "      <td>NaN</td>\n",
              "      <td>0.0</td>\n",
              "      <td>False</td>\n",
              "      <td>0</td>\n",
              "      <td>withdrawn application</td>\n",
              "      <td>500.0</td>\n",
              "      <td>978.27</td>\n",
              "      <td>IL</td>\n",
              "      <td>bvMandatory</td>\n",
              "      <td>6</td>\n",
              "      <td>NaN</td>\n",
              "      <td>5669ef78e4b0c9d3936440e6</td>\n",
              "      <td>1</td>\n",
              "    </tr>\n",
              "    <tr>\n",
              "      <th>1</th>\n",
              "      <td>LL-I-06644937</td>\n",
              "      <td>464f5d9ae4fa09ece4048d949191865c</td>\n",
              "      <td>B</td>\n",
              "      <td>199.0</td>\n",
              "      <td>2016-01-19T22:07:36.778000</td>\n",
              "      <td>True</td>\n",
              "      <td>2016-01-20T15:49:18.846000</td>\n",
              "      <td>0.0</td>\n",
              "      <td>True</td>\n",
              "      <td>1</td>\n",
              "      <td>paid off loan</td>\n",
              "      <td>3000.0</td>\n",
              "      <td>6395.19</td>\n",
              "      <td>CA</td>\n",
              "      <td>prescreen</td>\n",
              "      <td>0</td>\n",
              "      <td>Checked</td>\n",
              "      <td>569eb3a3e4b096699f685d64</td>\n",
              "      <td>1</td>\n",
              "    </tr>\n",
              "    <tr>\n",
              "      <th>2</th>\n",
              "      <td>LL-I-10707532</td>\n",
              "      <td>3c174ae9e2505a5f9ddbff9843281845</td>\n",
              "      <td>B</td>\n",
              "      <td>590.0</td>\n",
              "      <td>2016-08-01T13:51:14.709000</td>\n",
              "      <td>False</td>\n",
              "      <td>NaN</td>\n",
              "      <td>0.0</td>\n",
              "      <td>False</td>\n",
              "      <td>0</td>\n",
              "      <td>withdrawn application</td>\n",
              "      <td>400.0</td>\n",
              "      <td>1199.45</td>\n",
              "      <td>MO</td>\n",
              "      <td>bvMandatory</td>\n",
              "      <td>3</td>\n",
              "      <td>NaN</td>\n",
              "      <td>579eab11e4b0d0502870ef2f</td>\n",
              "      <td>1</td>\n",
              "    </tr>\n",
              "    <tr>\n",
              "      <th>3</th>\n",
              "      <td>LL-I-02272596</td>\n",
              "      <td>9be6f443bb97db7e95fa0c281d34da91</td>\n",
              "      <td>B</td>\n",
              "      <td>360.0</td>\n",
              "      <td>2015-08-06T23:58:08.880000</td>\n",
              "      <td>False</td>\n",
              "      <td>NaN</td>\n",
              "      <td>0.0</td>\n",
              "      <td>False</td>\n",
              "      <td>0</td>\n",
              "      <td>withdrawn application</td>\n",
              "      <td>500.0</td>\n",
              "      <td>1074.05</td>\n",
              "      <td>IL</td>\n",
              "      <td>bvMandatory</td>\n",
              "      <td>3</td>\n",
              "      <td>NaN</td>\n",
              "      <td>555b1e95e4b0f6f11b267c18</td>\n",
              "      <td>1</td>\n",
              "    </tr>\n",
              "    <tr>\n",
              "      <th>4</th>\n",
              "      <td>LL-I-09542882</td>\n",
              "      <td>63b5494f60b5c19c827c7b068443752c</td>\n",
              "      <td>B</td>\n",
              "      <td>590.0</td>\n",
              "      <td>2016-06-05T22:31:34.304000</td>\n",
              "      <td>False</td>\n",
              "      <td>NaN</td>\n",
              "      <td>0.0</td>\n",
              "      <td>False</td>\n",
              "      <td>0</td>\n",
              "      <td>rejected</td>\n",
              "      <td>350.0</td>\n",
              "      <td>814.37</td>\n",
              "      <td>NV</td>\n",
              "      <td>bvMandatory</td>\n",
              "      <td>3</td>\n",
              "      <td>NaN</td>\n",
              "      <td>5754a91be4b0c6a2bf424772</td>\n",
              "      <td>1</td>\n",
              "    </tr>\n",
              "  </tbody>\n",
              "</table>\n",
              "</div>"
            ],
            "text/plain": [
              "          loanId  ... hasCF\n",
              "0  LL-I-07399092  ...     1\n",
              "1  LL-I-06644937  ...     1\n",
              "2  LL-I-10707532  ...     1\n",
              "3  LL-I-02272596  ...     1\n",
              "4  LL-I-09542882  ...     1\n",
              "\n",
              "[5 rows x 19 columns]"
            ]
          },
          "metadata": {
            "tags": []
          },
          "execution_count": 20
        }
      ]
    },
    {
      "cell_type": "markdown",
      "metadata": {
        "id": "GE2D9Me30DIv"
      },
      "source": [
        "we also notice that date variables are stored as \"objects\" so we store them as dates to help us in calculatind date difference fields that may haelp us in our task"
      ]
    },
    {
      "cell_type": "code",
      "metadata": {
        "id": "EwzJAKUeC88O"
      },
      "source": [
        "loan['applicationDate'] = loan['applicationDate'].apply(lambda x : datetime.strptime(x[0:10], '%Y-%m-%d')\n",
        ")"
      ],
      "execution_count": null,
      "outputs": []
    },
    {
      "cell_type": "markdown",
      "metadata": {
        "id": "DaeAtUc10Ygv"
      },
      "source": [
        "then we study distributions of scale variables first"
      ]
    },
    {
      "cell_type": "code",
      "metadata": {
        "id": "Ytot5Ht7cx-U"
      },
      "source": [
        "predictors = []\n",
        "\n",
        "for i in loan.drop(columns=['isFunded' , 'hasCF' , 'approved' , 'originated' ,'applicationDate']).columns:\n",
        "  if loan.dtypes[i] != 'object' :\n",
        "    predictors.append(i)\n",
        "  else :\n",
        "    continue"
      ],
      "execution_count": null,
      "outputs": []
    },
    {
      "cell_type": "code",
      "metadata": {
        "id": "TgvCS9BWcx-o",
        "colab": {
          "base_uri": "https://localhost:8080/",
          "height": 1000
        },
        "outputId": "f97a4ed8-965c-48fe-d938-4162c7f78ecf"
      },
      "source": [
        "for i in predictors:\n",
        "  print('distribution of ' , i)\n",
        "  print(loan[i].describe())\n",
        "  sns.distplot(loan.loc[np.isnan(loan[i]) == 0 ,:][i])\n",
        "  plt.show()"
      ],
      "execution_count": null,
      "outputs": [
        {
          "output_type": "stream",
          "text": [
            "distribution of  apr\n",
            "count    573760.000000\n",
            "mean        553.080972\n",
            "std         110.046159\n",
            "min           0.000000\n",
            "25%         490.000000\n",
            "50%         590.000000\n",
            "75%         601.000000\n",
            "max         705.590000\n",
            "Name: apr, dtype: float64\n"
          ],
          "name": "stdout"
        },
        {
          "output_type": "display_data",
          "data": {
            "image/png": "[encoded data removed]",
            "text/plain": [
              "<Figure size 432x288 with 1 Axes>"
            ]
          },
          "metadata": {
            "tags": [],
            "needs_background": "light"
          }
        },
        {
          "output_type": "stream",
          "text": [
            "distribution of  nPaidOff\n",
            "count    577658.000000\n",
            "mean          0.037887\n",
            "std           0.333366\n",
            "min           0.000000\n",
            "25%           0.000000\n",
            "50%           0.000000\n",
            "75%           0.000000\n",
            "max          21.000000\n",
            "Name: nPaidOff, dtype: float64\n"
          ],
          "name": "stdout"
        },
        {
          "output_type": "display_data",
          "data": {
            "image/png": "[encoded data removed]",
            "text/plain": [
              "<Figure size 432x288 with 1 Axes>"
            ]
          },
          "metadata": {
            "tags": [],
            "needs_background": "light"
          }
        },
        {
          "output_type": "stream",
          "text": [
            "distribution of  loanAmount\n",
            "count    575432.000000\n",
            "mean        514.245084\n",
            "std         320.939929\n",
            "min           0.000000\n",
            "25%         350.000000\n",
            "50%         500.000000\n",
            "75%         500.000000\n",
            "max        5000.000000\n",
            "Name: loanAmount, dtype: float64\n"
          ],
          "name": "stdout"
        },
        {
          "output_type": "display_data",
          "data": {
            "image/png": "[encoded data removed]",
            "text/plain": [
              "<Figure size 432x288 with 1 Axes>"
            ]
          },
          "metadata": {
            "tags": [],
            "needs_background": "light"
          }
        },
        {
          "output_type": "stream",
          "text": [
            "distribution of  originallyScheduledPaymentAmount\n",
            "count    577682.000000\n",
            "mean       1428.897209\n",
            "std         925.009141\n",
            "min        -816.710000\n",
            "25%        1023.640000\n",
            "50%        1245.250000\n",
            "75%        1615.660000\n",
            "max       19963.630000\n",
            "Name: originallyScheduledPaymentAmount, dtype: float64\n"
          ],
          "name": "stdout"
        },
        {
          "output_type": "display_data",
          "data": {
            "image/png": "[encoded data removed]",
            "text/plain": [
              "<Figure size 432x288 with 1 Axes>"
            ]
          },
          "metadata": {
            "tags": [],
            "needs_background": "light"
          }
        },
        {
          "output_type": "stream",
          "text": [
            "distribution of  leadCost\n",
            "count    577682.000000\n",
            "mean          7.854389\n",
            "std          12.853451\n",
            "min           0.000000\n",
            "25%           3.000000\n",
            "50%           3.000000\n",
            "75%           6.000000\n",
            "max         200.000000\n",
            "Name: leadCost, dtype: float64\n"
          ],
          "name": "stdout"
        },
        {
          "output_type": "display_data",
          "data": {
            "image/png": "[encoded data removed]",
            "text/plain": [
              "<Figure size 432x288 with 1 Axes>"
            ]
          },
          "metadata": {
            "tags": [],
            "needs_background": "light"
          }
        }
      ]
    },
    {
      "cell_type": "markdown",
      "metadata": {
        "id": "ZfLS6yW20uZO"
      },
      "source": [
        "### From the above plots and distribution we notice : \n",
        "1- almost all scale variables are skewed to the right  , containing outliers , that gives an impression of the need to a transformation to (normalize) them or to get rid of this skewness as we will do later.\n",
        "\n",
        "2- also the variable \"originallyScheduledPaymentAmount\" contains values less than 0 \n"
      ]
    },
    {
      "cell_type": "code",
      "metadata": {
        "id": "b_lfvUDY1UQF",
        "colab": {
          "base_uri": "https://localhost:8080/"
        },
        "outputId": "fbe4e3e8-63fc-474f-aa3e-4e4b7465e98b"
      },
      "source": [
        "len(loan.loc[loan['originallyScheduledPaymentAmount'] >0 , :]) / len(loan)"
      ],
      "execution_count": null,
      "outputs": [
        {
          "output_type": "execute_result",
          "data": {
            "text/plain": [
              "0.9793606170869094"
            ]
          },
          "metadata": {
            "tags": []
          },
          "execution_count": 24
        }
      ]
    },
    {
      "cell_type": "markdown",
      "metadata": {
        "id": "cwhozV9u1bN8"
      },
      "source": [
        "it is a low percentage of the sample size so we drop it \n",
        "\n",
        "we could also have replaced it by the value of \"loanAmount\""
      ]
    },
    {
      "cell_type": "code",
      "metadata": {
        "id": "0J05tNDWs_7X"
      },
      "source": [
        "loan=loan.loc[loan['originallyScheduledPaymentAmount'] >0 , :]"
      ],
      "execution_count": null,
      "outputs": []
    },
    {
      "cell_type": "markdown",
      "metadata": {
        "id": "ApIKD6U11p2-"
      },
      "source": [
        "### Then we study the distribution of categorical variables"
      ]
    },
    {
      "cell_type": "code",
      "metadata": {
        "id": "IHqeyI4cFCcr"
      },
      "source": [
        "predictors_2=['payFrequency' ,'state','loanStatus' , 'leadType' ,  'hasCF' , 'approved' ]"
      ],
      "execution_count": null,
      "outputs": []
    },
    {
      "cell_type": "code",
      "metadata": {
        "id": "BHoWyXMhA5LD",
        "colab": {
          "base_uri": "https://localhost:8080/",
          "height": 1000
        },
        "outputId": "f4edc157-b835-467c-d3ba-5f36003fe3a3"
      },
      "source": [
        "for i in predictors_2 :\n",
        "  print('distribution of : '+ i)\n",
        "  plt.figure(figsize=(15,6))\n",
        "\n",
        "  np.round(loan[i].value_counts(normalize=True)*100 ,2).plot(kind='bar' , label=True)\n",
        "  plt.show()"
      ],
      "execution_count": null,
      "outputs": [
        {
          "output_type": "stream",
          "text": [
            "distribution of : payFrequency\n"
          ],
          "name": "stdout"
        },
        {
          "output_type": "display_data",
          "data": {
            "image/png": "[encoded data removed]",
            "text/plain": [
              "<Figure size 1080x432 with 1 Axes>"
            ]
          },
          "metadata": {
            "tags": [],
            "needs_background": "light"
          }
        },
        {
          "output_type": "stream",
          "text": [
            "distribution of : state\n"
          ],
          "name": "stdout"
        },
        {
          "output_type": "display_data",
          "data": {
            "image/png": "[encoded data removed]",
            "text/plain": [
              "<Figure size 1080x432 with 1 Axes>"
            ]
          },
          "metadata": {
            "tags": [],
            "needs_background": "light"
          }
        },
        {
          "output_type": "stream",
          "text": [
            "distribution of : loanStatus\n"
          ],
          "name": "stdout"
        },
        {
          "output_type": "display_data",
          "data": {
            "image/png": "[encoded data removed]",
            "text/plain": [
              "<Figure size 1080x432 with 1 Axes>"
            ]
          },
          "metadata": {
            "tags": [],
            "needs_background": "light"
          }
        },
        {
          "output_type": "stream",
          "text": [
            "distribution of : leadType\n"
          ],
          "name": "stdout"
        },
        {
          "output_type": "display_data",
          "data": {
            "image/png": "[encoded data removed]",
            "text/plain": [
              "<Figure size 1080x432 with 1 Axes>"
            ]
          },
          "metadata": {
            "tags": [],
            "needs_background": "light"
          }
        },
        {
          "output_type": "stream",
          "text": [
            "distribution of : hasCF\n"
          ],
          "name": "stdout"
        },
        {
          "output_type": "display_data",
          "data": {
            "image/png": "[encoded data removed]",
            "text/plain": [
              "<Figure size 1080x432 with 1 Axes>"
            ]
          },
          "metadata": {
            "tags": [],
            "needs_background": "light"
          }
        },
        {
          "output_type": "stream",
          "text": [
            "distribution of : approved\n"
          ],
          "name": "stdout"
        },
        {
          "output_type": "display_data",
          "data": {
            "image/png": "[encoded data removed]",
            "text/plain": [
              "<Figure size 1080x432 with 1 Axes>"
            ]
          },
          "metadata": {
            "tags": [],
            "needs_background": "light"
          }
        }
      ]
    },
    {
      "cell_type": "markdown",
      "metadata": {
        "id": "b6tPDzvk2GCp"
      },
      "source": [
        "We notice that , with the exception of State , there is a dominent category in each categorical variable , so , if needed , we can merge some cactegories in later steps to ease the process"
      ]
    },
    {
      "cell_type": "markdown",
      "metadata": {
        "id": "D7OEdV5d3HX8"
      },
      "source": [
        "### Now we study some relationships between variables\n",
        "\n",
        "We start by studying correlation matrix between scale variables \n"
      ]
    },
    {
      "cell_type": "code",
      "metadata": {
        "id": "OSMeLVd0Qnl_",
        "colab": {
          "base_uri": "https://localhost:8080/",
          "height": 458
        },
        "outputId": "ee57cd21-eb19-4d47-e721-8aee08d28445"
      },
      "source": [
        "sns.heatmap(loan.select_dtypes(include=['float' , 'int']).drop(columns=['isFunded']).corr() , cmap = \"Spectral\" , annot=True)"
      ],
      "execution_count": null,
      "outputs": [
        {
          "output_type": "execute_result",
          "data": {
            "text/plain": [
              "<matplotlib.axes._subplots.AxesSubplot at 0x7fc31b142f60>"
            ]
          },
          "metadata": {
            "tags": []
          },
          "execution_count": 28
        },
        {
          "output_type": "display_data",
          "data": {
            "image/png": "[encoded data removed]",
            "text/plain": [
              "<Figure size 432x288 with 2 Axes>"
            ]
          },
          "metadata": {
            "tags": [],
            "needs_background": "light"
          }
        }
      ]
    },
    {
      "cell_type": "markdown",
      "metadata": {
        "id": "tUCWtoGK4D7t"
      },
      "source": [
        "we notice absense of ant strong relationships except etween loan amount and originaly scheduled payment amount for the clear reason that \n",
        "the second = the first + fees and apr"
      ]
    },
    {
      "cell_type": "markdown",
      "metadata": {
        "id": "Ao4dOoJC4cTX"
      },
      "source": [
        "Up to that point if we had to predict some thing we may predict , it is whether or not loan is funded , and which factors that affect the decision of funding a loan"
      ]
    },
    {
      "cell_type": "code",
      "metadata": {
        "id": "5VhT4VtjTvQC",
        "colab": {
          "base_uri": "https://localhost:8080/",
          "height": 1000
        },
        "outputId": "33ed5ee5-ef90-4754-e0d9-7ecd012b375f"
      },
      "source": [
        "for i in predictors:\n",
        "       print('Is there a significance difference in' + ' '+ i + ' ' +'for each status')\n",
        "       print(' ')\n",
        "       f = sm.stats.anova_lm(ols('{} ~ isFunded'.format(i), data=loan).fit()) #one way anova to check significance of relationship\n",
        "       print(f)\n",
        "       print(' ')\n",
        "       if  f.iloc[0,4] <0.05 : print(\"'\" +i +\"'\" + ' differs significantly between funded and non funded loans')\n",
        "       print(' ')\n",
        "       loan.pivot_table(index='isFunded' , values= i , aggfunc='mean').plot(kind='bar') #plot for the mean across categories to check direction of relationship\n",
        "\n",
        "       plt.show()\n",
        "       print('________________________')\n",
        "       print(' ')"
      ],
      "execution_count": null,
      "outputs": [
        {
          "output_type": "stream",
          "text": [
            "Is there a significance difference in apr for each status\n",
            " \n",
            "                df        sum_sq       mean_sq            F  PR(>F)\n",
            "isFunded       1.0  2.775493e+07  2.775493e+07  2342.997328     0.0\n",
            "Residual  564114.0  6.682442e+09  1.184591e+04          NaN     NaN\n",
            " \n",
            "'apr' differs significantly between funded and non funded loans\n",
            " \n"
          ],
          "name": "stdout"
        },
        {
          "output_type": "display_data",
          "data": {
            "image/png": "[encoded data removed]",
            "text/plain": [
              "<Figure size 432x288 with 1 Axes>"
            ]
          },
          "metadata": {
            "tags": [],
            "needs_background": "light"
          }
        },
        {
          "output_type": "stream",
          "text": [
            "________________________\n",
            " \n",
            "Is there a significance difference in nPaidOff for each status\n",
            " \n",
            "                df        sum_sq      mean_sq            F  PR(>F)\n",
            "isFunded       1.0   4698.847164  4698.847164  46494.72002     0.0\n",
            "Residual  565733.0  57174.081299     0.101062          NaN     NaN\n",
            " \n",
            "'nPaidOff' differs significantly between funded and non funded loans\n",
            " \n"
          ],
          "name": "stdout"
        },
        {
          "output_type": "display_data",
          "data": {
            "image/png": "[encoded data removed]",
            "text/plain": [
              "<Figure size 432x288 with 1 Axes>"
            ]
          },
          "metadata": {
            "tags": [],
            "needs_background": "light"
          }
        },
        {
          "output_type": "stream",
          "text": [
            "________________________\n",
            " \n",
            "Is there a significance difference in loanAmount for each status\n",
            " \n",
            "                df        sum_sq       mean_sq            F  PR(>F)\n",
            "isFunded       1.0  6.624489e+08  6.624489e+08  6642.355044     0.0\n",
            "Residual  565757.0  5.642353e+10  9.973103e+04          NaN     NaN\n",
            " \n",
            "'loanAmount' differs significantly between funded and non funded loans\n",
            " \n"
          ],
          "name": "stdout"
        },
        {
          "output_type": "display_data",
          "data": {
            "image/png": "[encoded data removed]",
            "text/plain": [
              "<Figure size 432x288 with 1 Axes>"
            ]
          },
          "metadata": {
            "tags": [],
            "needs_background": "light"
          }
        },
        {
          "output_type": "stream",
          "text": [
            "________________________\n",
            " \n",
            "Is there a significance difference in originallyScheduledPaymentAmount for each status\n",
            " \n",
            "                df        sum_sq       mean_sq            F  PR(>F)\n",
            "isFunded       1.0  3.627454e+09  3.627454e+09  4405.869158     0.0\n",
            "Residual  565757.0  4.658008e+11  8.233231e+05          NaN     NaN\n",
            " \n",
            "'originallyScheduledPaymentAmount' differs significantly between funded and non funded loans\n",
            " \n"
          ],
          "name": "stdout"
        },
        {
          "output_type": "display_data",
          "data": {
            "image/png": "[encoded data removed]",
            "text/plain": [
              "<Figure size 432x288 with 1 Axes>"
            ]
          },
          "metadata": {
            "tags": [],
            "needs_background": "light"
          }
        },
        {
          "output_type": "stream",
          "text": [
            "________________________\n",
            " \n",
            "Is there a significance difference in leadCost for each status\n",
            " \n",
            "                df        sum_sq        mean_sq            F  PR(>F)\n",
            "isFunded       1.0  6.816340e+05  681634.046106  4139.717811     0.0\n",
            "Residual  565757.0  9.315592e+07     164.657128          NaN     NaN\n",
            " \n",
            "'leadCost' differs significantly between funded and non funded loans\n",
            " \n"
          ],
          "name": "stdout"
        },
        {
          "output_type": "display_data",
          "data": {
            "image/png": "[encoded data removed]",
            "text/plain": [
              "<Figure size 432x288 with 1 Axes>"
            ]
          },
          "metadata": {
            "tags": [],
            "needs_background": "light"
          }
        },
        {
          "output_type": "stream",
          "text": [
            "________________________\n",
            " \n"
          ],
          "name": "stdout"
        }
      ]
    },
    {
      "cell_type": "markdown",
      "metadata": {
        "id": "RWliG76S5OgS"
      },
      "source": [
        "### From the above we conclude : \n",
        "\n",
        "1- apr is significantly higher in loans that are not funded\n",
        "\n",
        "2- number of loans that were paid of by the same borrower is clearly higher amoung loans that were funded\n",
        "\n",
        "3 - originallyScheduledPaymentAmount is significantly higher in loans that are  funded\n",
        "\n",
        "4 - the same for lead cost"
      ]
    },
    {
      "cell_type": "markdown",
      "metadata": {
        "id": "o59doInQ6UH5"
      },
      "source": [
        "### Also we check how distribution of \" loan status\" and \"lead type \" differs between funded and non funded loans"
      ]
    },
    {
      "cell_type": "code",
      "metadata": {
        "id": "Rh630KgnqYPz"
      },
      "source": [
        "table = loan.pivot_table(index='loanStatus' , columns='isFunded' , values='loanId' , aggfunc='count' , margins=True , margins_name='total').replace( np.nan,0)"
      ],
      "execution_count": null,
      "outputs": []
    },
    {
      "cell_type": "code",
      "metadata": {
        "id": "Fa11y8c4rjLY"
      },
      "source": [
        "table=table.div( table.iloc[:,-1], axis=0 )*100 "
      ],
      "execution_count": null,
      "outputs": []
    },
    {
      "cell_type": "code",
      "metadata": {
        "id": "N0XtMondxYNX"
      },
      "source": [
        "status_counts = pd.DataFrame(loan.groupby(['isFunded'])['loanStatus'].value_counts(normalize=True).rename('percentage').reset_index().sort_values('isFunded'))"
      ],
      "execution_count": null,
      "outputs": []
    },
    {
      "cell_type": "code",
      "metadata": {
        "id": "4rIHLQRZvKlL",
        "colab": {
          "base_uri": "https://localhost:8080/",
          "height": 606
        },
        "outputId": "c6397eb8-2026-47a7-8426-59f3fd5dbbd8"
      },
      "source": [
        "\n",
        "plt.figure(figsize=(20,10))\n",
        "p = sns.barplot(x=\"isFunded\", y=\"percentage\", hue=\"loanStatus\", data=status_counts , palette=\"tab10\")\n",
        "\n"
      ],
      "execution_count": null,
      "outputs": [
        {
          "output_type": "display_data",
          "data": {
            "image/png": "[encoded data removed]",
            "text/plain": [
              "<Figure size 1440x720 with 1 Axes>"
            ]
          },
          "metadata": {
            "tags": [],
            "needs_background": "light"
          }
        }
      ]
    },
    {
      "cell_type": "markdown",
      "metadata": {
        "id": "iikEUvZS7Cxr"
      },
      "source": [
        "We see that in the non funded loans most of them are withdrawn applications , and some are rewjected , also we see some variability amond funded loans , but the most frequent status are paid off and external collection.\n",
        "\n",
        "### Now how lead type is distributed between funded and non funded loans"
      ]
    },
    {
      "cell_type": "code",
      "metadata": {
        "id": "dFox3hvq1vfv"
      },
      "source": [
        "lead_counts = pd.DataFrame(loan.groupby(['isFunded'])['leadType'].value_counts(normalize=True).rename('percentage').reset_index().sort_values('isFunded'))"
      ],
      "execution_count": null,
      "outputs": []
    },
    {
      "cell_type": "code",
      "metadata": {
        "id": "qd-byW251vjB",
        "colab": {
          "base_uri": "https://localhost:8080/",
          "height": 602
        },
        "outputId": "79e9cb04-c373-4089-c0d9-04c3cfec5c43"
      },
      "source": [
        "\n",
        "plt.figure(figsize=(20,10))\n",
        "p = sns.barplot(x=\"isFunded\", y=\"percentage\", hue=\"leadType\", data=lead_counts)\n",
        "_ = plt.setp(p.get_xticklabels(), rotation=90)  # Rotate labels"
      ],
      "execution_count": null,
      "outputs": [
        {
          "output_type": "display_data",
          "data": {
            "image/png": "[encoded data removed]",
            "text/plain": [
              "<Figure size 1440x720 with 1 Axes>"
            ]
          },
          "metadata": {
            "tags": [],
            "needs_background": "light"
          }
        }
      ]
    },
    {
      "cell_type": "markdown",
      "metadata": {
        "id": "_TRLdFqB8gZC"
      },
      "source": [
        "we see that the most frequent lead type geneally is by mendatory , but there is more variability in funded loans than in non funded."
      ]
    },
    {
      "cell_type": "code",
      "metadata": {
        "id": "3Km7kflsHwHl"
      },
      "source": [
        ""
      ],
      "execution_count": null,
      "outputs": []
    },
    {
      "cell_type": "code",
      "metadata": {
        "id": "h1GOvMTC0j6y"
      },
      "source": [
        ""
      ],
      "execution_count": null,
      "outputs": []
    },
    {
      "cell_type": "markdown",
      "metadata": {
        "id": "6WIcnlt89MTU"
      },
      "source": [
        "### Here also we check presence of missing values and whether variables are stored in correct data types"
      ]
    },
    {
      "cell_type": "markdown",
      "metadata": {
        "id": "Vr1Te2msfnTv"
      },
      "source": [
        ""
      ]
    },
    {
      "cell_type": "code",
      "metadata": {
        "id": "gDVz778nYYq8",
        "colab": {
          "base_uri": "https://localhost:8080/"
        },
        "outputId": "7893d211-2083-4525-a790-47864243e916"
      },
      "source": [
        "payment.info()"
      ],
      "execution_count": null,
      "outputs": [
        {
          "output_type": "stream",
          "text": [
            "<class 'pandas.core.frame.DataFrame'>\n",
            "RangeIndex: 689364 entries, 0 to 689363\n",
            "Data columns (total 9 columns):\n",
            " #   Column             Non-Null Count   Dtype  \n",
            "---  ------             --------------   -----  \n",
            " 0   loanId             689364 non-null  object \n",
            " 1   installmentIndex   689364 non-null  int64  \n",
            " 2   isCollection       689364 non-null  bool   \n",
            " 3   paymentDate        689364 non-null  object \n",
            " 4   principal          689364 non-null  float64\n",
            " 5   fees               689364 non-null  float64\n",
            " 6   paymentAmount      689364 non-null  float64\n",
            " 7   paymentStatus      689364 non-null  object \n",
            " 8   paymentReturnCode  31533 non-null   object \n",
            "dtypes: bool(1), float64(3), int64(1), object(4)\n",
            "memory usage: 42.7+ MB\n"
          ],
          "name": "stdout"
        }
      ]
    },
    {
      "cell_type": "markdown",
      "metadata": {
        "id": "kJcmy4aa9LWH"
      },
      "source": [
        "### B - Payment"
      ]
    },
    {
      "cell_type": "code",
      "metadata": {
        "id": "DARMhPnT0kBZ",
        "colab": {
          "base_uri": "https://localhost:8080/",
          "height": 204
        },
        "outputId": "3f446630-f9d7-4939-a392-719f91f545b4"
      },
      "source": [
        "payment.head()"
      ],
      "execution_count": null,
      "outputs": [
        {
          "output_type": "execute_result",
          "data": {
            "text/html": [
              "<div>\n",
              "<style scoped>\n",
              "    .dataframe tbody tr th:only-of-type {\n",
              "        vertical-align: middle;\n",
              "    }\n",
              "\n",
              "    .dataframe tbody tr th {\n",
              "        vertical-align: top;\n",
              "    }\n",
              "\n",
              "    .dataframe thead th {\n",
              "        text-align: right;\n",
              "    }\n",
              "</style>\n",
              "<table border=\"1\" class=\"dataframe\">\n",
              "  <thead>\n",
              "    <tr style=\"text-align: right;\">\n",
              "      <th></th>\n",
              "      <th>loanId</th>\n",
              "      <th>installmentIndex</th>\n",
              "      <th>isCollection</th>\n",
              "      <th>paymentDate</th>\n",
              "      <th>principal</th>\n",
              "      <th>fees</th>\n",
              "      <th>paymentAmount</th>\n",
              "      <th>paymentStatus</th>\n",
              "      <th>paymentReturnCode</th>\n",
              "    </tr>\n",
              "  </thead>\n",
              "  <tbody>\n",
              "    <tr>\n",
              "      <th>0</th>\n",
              "      <td>LL-I-00000021</td>\n",
              "      <td>1</td>\n",
              "      <td>False</td>\n",
              "      <td>2014-12-19T05:00:00</td>\n",
              "      <td>22.33</td>\n",
              "      <td>147.28</td>\n",
              "      <td>169.61</td>\n",
              "      <td>Checked</td>\n",
              "      <td>NaN</td>\n",
              "    </tr>\n",
              "    <tr>\n",
              "      <th>1</th>\n",
              "      <td>LL-I-00000021</td>\n",
              "      <td>2</td>\n",
              "      <td>False</td>\n",
              "      <td>2015-01-02T05:00:00</td>\n",
              "      <td>26.44</td>\n",
              "      <td>143.17</td>\n",
              "      <td>169.61</td>\n",
              "      <td>Checked</td>\n",
              "      <td>NaN</td>\n",
              "    </tr>\n",
              "    <tr>\n",
              "      <th>2</th>\n",
              "      <td>LL-I-00000021</td>\n",
              "      <td>3</td>\n",
              "      <td>False</td>\n",
              "      <td>2015-01-16T05:00:00</td>\n",
              "      <td>31.30</td>\n",
              "      <td>138.31</td>\n",
              "      <td>169.61</td>\n",
              "      <td>Checked</td>\n",
              "      <td>NaN</td>\n",
              "    </tr>\n",
              "    <tr>\n",
              "      <th>3</th>\n",
              "      <td>LL-I-00000021</td>\n",
              "      <td>4</td>\n",
              "      <td>False</td>\n",
              "      <td>2015-01-30T05:00:00</td>\n",
              "      <td>37.07</td>\n",
              "      <td>132.54</td>\n",
              "      <td>169.61</td>\n",
              "      <td>Checked</td>\n",
              "      <td>NaN</td>\n",
              "    </tr>\n",
              "    <tr>\n",
              "      <th>4</th>\n",
              "      <td>LL-I-00000021</td>\n",
              "      <td>5</td>\n",
              "      <td>False</td>\n",
              "      <td>2015-02-13T05:00:00</td>\n",
              "      <td>43.89</td>\n",
              "      <td>125.72</td>\n",
              "      <td>169.61</td>\n",
              "      <td>Checked</td>\n",
              "      <td>NaN</td>\n",
              "    </tr>\n",
              "  </tbody>\n",
              "</table>\n",
              "</div>"
            ],
            "text/plain": [
              "          loanId  installmentIndex  ...  paymentStatus paymentReturnCode\n",
              "0  LL-I-00000021                 1  ...        Checked               NaN\n",
              "1  LL-I-00000021                 2  ...        Checked               NaN\n",
              "2  LL-I-00000021                 3  ...        Checked               NaN\n",
              "3  LL-I-00000021                 4  ...        Checked               NaN\n",
              "4  LL-I-00000021                 5  ...        Checked               NaN\n",
              "\n",
              "[5 rows x 9 columns]"
            ]
          },
          "metadata": {
            "tags": []
          },
          "execution_count": 37
        }
      ]
    },
    {
      "cell_type": "markdown",
      "metadata": {
        "id": "pPVMSjvT9oKr"
      },
      "source": [
        "we store payment date as a date time rather than object"
      ]
    },
    {
      "cell_type": "code",
      "metadata": {
        "id": "cl2yYlrUU57j"
      },
      "source": [
        "payment['paymentDate'] = payment['paymentDate'].apply(lambda x : datetime.strptime(x[0:10], '%Y-%m-%d')\n",
        ")"
      ],
      "execution_count": null,
      "outputs": []
    },
    {
      "cell_type": "markdown",
      "metadata": {
        "id": "W1AQsB_B9zIx"
      },
      "source": [
        "#### As understood from dictionary , the payment that is actually calculated is the checked payment\n",
        "\n",
        "As well , the payment of type \"None\" not yet has to be paid so we need to take that into consideration while stufying quality of payment that "
      ]
    },
    {
      "cell_type": "code",
      "metadata": {
        "id": "w7XgogkR84y-"
      },
      "source": [
        "payment ['check'] = payment['paymentStatus']== 'Checked'\n",
        "payment ['not_yet'] = payment['paymentStatus']== 'None'\n",
        "payment['checked_payments'] = payment['paymentAmount'] * payment ['check'] \n",
        "payment['future_payments'] = payment['paymentAmount'] * payment ['not_yet'] "
      ],
      "execution_count": null,
      "outputs": []
    },
    {
      "cell_type": "markdown",
      "metadata": {
        "id": "hv7xcPIW9uLR"
      },
      "source": [
        "we notice that we need to aggregate payment data to merge that to loans , and calculate total payments\n",
        "\n",
        "1- we need to get sum of checked payment as the total amount paid\n",
        "\n",
        "2- also amount of amount \"future payment\" as an indicator for amount that to be paid later\n",
        "\n",
        "3 - and max \"payment date\" to help us to calculate loan term (later we will call it loan period)\n",
        "\n",
        "4 - number of installments for each loan"
      ]
    },
    {
      "cell_type": "code",
      "metadata": {
        "id": "IFEM8JnSWZV-"
      },
      "source": [
        "payment_agg = payment.groupby(by=['loanId']).agg({'checked_payments' : 'sum' ,\n",
        "                                                  'future_payments' : 'sum' ,\n",
        "                                                  'check' : 'sum',\n",
        "                                                  'not_yet':'sum'  ,    \n",
        "                  \n",
        "                                                                            'paymentDate' : 'max' , \n",
        "                                                                            'installmentIndex' : 'count' \n",
        "                                                                             })"
      ],
      "execution_count": null,
      "outputs": []
    },
    {
      "cell_type": "markdown",
      "metadata": {
        "id": "mJVmK3GWfxLO"
      },
      "source": [
        "### C - Clarity under writing "
      ]
    },
    {
      "cell_type": "markdown",
      "metadata": {
        "id": "HtQ8cvsoAyCX"
      },
      "source": [
        "### Regarding clarity data we study distributions first "
      ]
    },
    {
      "cell_type": "code",
      "metadata": {
        "id": "qRTeozeDanzL",
        "colab": {
          "base_uri": "https://localhost:8080/",
          "height": 224
        },
        "outputId": "3d4f9aca-8b1c-4305-8ae0-8f6f0cdfa0b0"
      },
      "source": [
        "clarity_underwriting_variable.head()"
      ],
      "execution_count": null,
      "outputs": [
        {
          "output_type": "execute_result",
          "data": {
            "text/html": [
              "<div>\n",
              "<style scoped>\n",
              "    .dataframe tbody tr th:only-of-type {\n",
              "        vertical-align: middle;\n",
              "    }\n",
              "\n",
              "    .dataframe tbody tr th {\n",
              "        vertical-align: top;\n",
              "    }\n",
              "\n",
              "    .dataframe thead th {\n",
              "        text-align: right;\n",
              "    }\n",
              "</style>\n",
              "<table border=\"1\" class=\"dataframe\">\n",
              "  <thead>\n",
              "    <tr style=\"text-align: right;\">\n",
              "      <th></th>\n",
              "      <th>CF.fs.bof_ssn_date_unverified</th>\n",
              "      <th>CF.fs.bof_ssn_deceased</th>\n",
              "      <th>CF.fs.credit_prior_age_18</th>\n",
              "      <th>CF.fs.credit_prior_ssn_date</th>\n",
              "      <th>CF.fs.cur_addr_rep_newtrade_only</th>\n",
              "      <th>CF.fs.cur_addr_rep_trade_90_days</th>\n",
              "      <th>CF.fs.dl_format_invalid</th>\n",
              "      <th>CF.fs.dl_inconsistent_wof</th>\n",
              "      <th>CF.fs.in_ssn_date_unverified</th>\n",
              "      <th>CF.fs.in_ssn_deceased</th>\n",
              "      <th>CF.fs.in_ssn_invalid</th>\n",
              "      <th>CF.fs.inq_addr_cautious</th>\n",
              "      <th>CF.fs.inq_addr_high_risk</th>\n",
              "      <th>CF.fs.inq_addr_non_residential</th>\n",
              "      <th>CF.fs.inq_age_lt_ssn_date</th>\n",
              "      <th>CF.fs.inq_current_addr_nof</th>\n",
              "      <th>CF.fs.inq_gt_3_in_last_30_days</th>\n",
              "      <th>CF.fs.inq_onf_addr_conflict</th>\n",
              "      <th>CF.fs.max_num_ssn_ba</th>\n",
              "      <th>CF.fs.onf_addr_cautious</th>\n",
              "      <th>CF.fs.onf_addr_high_risk</th>\n",
              "      <th>CF.fs.onf_addr_non_residential</th>\n",
              "      <th>CF.fs.phone_inconsistent_w_addr</th>\n",
              "      <th>CF.fs.phone_inconsistent_w_state</th>\n",
              "      <th>CF.fs.ssn_belongs_to_another</th>\n",
              "      <th>CF.fs.ssn_frequent_for_another</th>\n",
              "      <th>CF.fs.total_num_fraud_indicators</th>\n",
              "      <th>CF.fs.work_num_prev_cell_num</th>\n",
              "      <th>CF.fs.work_num_prev_home_num</th>\n",
              "      <th>CF.inquiry.1_hr_ago</th>\n",
              "      <th>CF.inquiry.1_min_ago</th>\n",
              "      <th>CF.inquiry.10_mins_ago</th>\n",
              "      <th>CF.inquiry.15_days_ago</th>\n",
              "      <th>CF.inquiry.24_hrs_ago</th>\n",
              "      <th>CF.inquiry.30_days_ago</th>\n",
              "      <th>CF.inquiry.365_days_ago</th>\n",
              "      <th>CF.inquiry.7_days_ago</th>\n",
              "      <th>CF.inquiry.90_days_ago</th>\n",
              "      <th>CF.match.name_addr</th>\n",
              "      <th>CF.match.name_addr_reason_code</th>\n",
              "      <th>CF.match.name_addr_code_desc</th>\n",
              "      <th>CF.match.oa_reason_code</th>\n",
              "      <th>CF.match.oa_result</th>\n",
              "      <th>CF.match.ssn_dob_reason_code</th>\n",
              "      <th>CF.match.phonematchtypedescription</th>\n",
              "      <th>CF.match.ssn_name</th>\n",
              "      <th>CF.match.ssn_name_reason_code</th>\n",
              "      <th>CF.match.ssn_name_code_desc</th>\n",
              "      <th>CF.match.phone_match_result</th>\n",
              "      <th>CF.match.phone_match_type</th>\n",
              "      <th>CF.match.phone_type</th>\n",
              "      <th>CF.match.ssndobmatch</th>\n",
              "      <th>clearFraudScore</th>\n",
              "      <th>underwritingid</th>\n",
              "    </tr>\n",
              "  </thead>\n",
              "  <tbody>\n",
              "    <tr>\n",
              "      <th>0</th>\n",
              "      <td>8.0</td>\n",
              "      <td>2.0</td>\n",
              "      <td>2.0</td>\n",
              "      <td>2.0</td>\n",
              "      <td>8.0</td>\n",
              "      <td>2.0</td>\n",
              "      <td>2.0</td>\n",
              "      <td>5.0</td>\n",
              "      <td>10.0</td>\n",
              "      <td>False</td>\n",
              "      <td>2.0</td>\n",
              "      <td>True</td>\n",
              "      <td>False</td>\n",
              "      <td>False</td>\n",
              "      <td>True</td>\n",
              "      <td>False</td>\n",
              "      <td>False</td>\n",
              "      <td>False</td>\n",
              "      <td>False</td>\n",
              "      <td>False</td>\n",
              "      <td>False</td>\n",
              "      <td>False</td>\n",
              "      <td>False</td>\n",
              "      <td>False</td>\n",
              "      <td>NaN</td>\n",
              "      <td>False</td>\n",
              "      <td>False</td>\n",
              "      <td>False</td>\n",
              "      <td>False</td>\n",
              "      <td>False</td>\n",
              "      <td>1.0</td>\n",
              "      <td>False</td>\n",
              "      <td>False</td>\n",
              "      <td>False</td>\n",
              "      <td>False</td>\n",
              "      <td>NaN</td>\n",
              "      <td>False</td>\n",
              "      <td>False</td>\n",
              "      <td>match</td>\n",
              "      <td>partial</td>\n",
              "      <td>M</td>\n",
              "      <td>NaN</td>\n",
              "      <td>unavailable</td>\n",
              "      <td>(A8) Match to Last Name only</td>\n",
              "      <td>(M) Mobile Phone</td>\n",
              "      <td>partial</td>\n",
              "      <td>NaN</td>\n",
              "      <td>NaN</td>\n",
              "      <td>NaN</td>\n",
              "      <td>A8</td>\n",
              "      <td>match</td>\n",
              "      <td>6.0</td>\n",
              "      <td>871.0</td>\n",
              "      <td>54cbffcee4b0ba763e43144d</td>\n",
              "    </tr>\n",
              "    <tr>\n",
              "      <th>1</th>\n",
              "      <td>5.0</td>\n",
              "      <td>2.0</td>\n",
              "      <td>2.0</td>\n",
              "      <td>2.0</td>\n",
              "      <td>11.0</td>\n",
              "      <td>2.0</td>\n",
              "      <td>2.0</td>\n",
              "      <td>4.0</td>\n",
              "      <td>21.0</td>\n",
              "      <td>True</td>\n",
              "      <td>3.0</td>\n",
              "      <td>True</td>\n",
              "      <td>False</td>\n",
              "      <td>False</td>\n",
              "      <td>False</td>\n",
              "      <td>False</td>\n",
              "      <td>False</td>\n",
              "      <td>False</td>\n",
              "      <td>False</td>\n",
              "      <td>False</td>\n",
              "      <td>False</td>\n",
              "      <td>False</td>\n",
              "      <td>False</td>\n",
              "      <td>False</td>\n",
              "      <td>NaN</td>\n",
              "      <td>False</td>\n",
              "      <td>False</td>\n",
              "      <td>True</td>\n",
              "      <td>False</td>\n",
              "      <td>False</td>\n",
              "      <td>1.0</td>\n",
              "      <td>False</td>\n",
              "      <td>False</td>\n",
              "      <td>False</td>\n",
              "      <td>False</td>\n",
              "      <td>NaN</td>\n",
              "      <td>False</td>\n",
              "      <td>False</td>\n",
              "      <td>match</td>\n",
              "      <td>mismatch</td>\n",
              "      <td>M</td>\n",
              "      <td>NaN</td>\n",
              "      <td>unavailable</td>\n",
              "      <td>NaN</td>\n",
              "      <td>(M) Mobile Phone</td>\n",
              "      <td>partial</td>\n",
              "      <td>NaN</td>\n",
              "      <td>NaN</td>\n",
              "      <td>NaN</td>\n",
              "      <td>NaN</td>\n",
              "      <td>match</td>\n",
              "      <td>11.0</td>\n",
              "      <td>397.0</td>\n",
              "      <td>54cc0408e4b0418d9a7f78af</td>\n",
              "    </tr>\n",
              "    <tr>\n",
              "      <th>2</th>\n",
              "      <td>9.0</td>\n",
              "      <td>4.0</td>\n",
              "      <td>2.0</td>\n",
              "      <td>3.0</td>\n",
              "      <td>10.0</td>\n",
              "      <td>8.0</td>\n",
              "      <td>2.0</td>\n",
              "      <td>9.0</td>\n",
              "      <td>25.0</td>\n",
              "      <td>False</td>\n",
              "      <td>3.0</td>\n",
              "      <td>True</td>\n",
              "      <td>False</td>\n",
              "      <td>False</td>\n",
              "      <td>False</td>\n",
              "      <td>False</td>\n",
              "      <td>False</td>\n",
              "      <td>False</td>\n",
              "      <td>False</td>\n",
              "      <td>False</td>\n",
              "      <td>False</td>\n",
              "      <td>False</td>\n",
              "      <td>False</td>\n",
              "      <td>False</td>\n",
              "      <td>NaN</td>\n",
              "      <td>False</td>\n",
              "      <td>False</td>\n",
              "      <td>False</td>\n",
              "      <td>False</td>\n",
              "      <td>False</td>\n",
              "      <td>2.0</td>\n",
              "      <td>False</td>\n",
              "      <td>False</td>\n",
              "      <td>False</td>\n",
              "      <td>False</td>\n",
              "      <td>NaN</td>\n",
              "      <td>True</td>\n",
              "      <td>False</td>\n",
              "      <td>match</td>\n",
              "      <td>match</td>\n",
              "      <td>M</td>\n",
              "      <td>NaN</td>\n",
              "      <td>unavailable</td>\n",
              "      <td>NaN</td>\n",
              "      <td>(M) Mobile Phone</td>\n",
              "      <td>match</td>\n",
              "      <td>NaN</td>\n",
              "      <td>NaN</td>\n",
              "      <td>NaN</td>\n",
              "      <td>NaN</td>\n",
              "      <td>match</td>\n",
              "      <td>1.0</td>\n",
              "      <td>572.0</td>\n",
              "      <td>54cc0683e4b0418d9a80adb6</td>\n",
              "    </tr>\n",
              "    <tr>\n",
              "      <th>3</th>\n",
              "      <td>3.0</td>\n",
              "      <td>2.0</td>\n",
              "      <td>2.0</td>\n",
              "      <td>2.0</td>\n",
              "      <td>9.0</td>\n",
              "      <td>2.0</td>\n",
              "      <td>2.0</td>\n",
              "      <td>2.0</td>\n",
              "      <td>9.0</td>\n",
              "      <td>False</td>\n",
              "      <td>1.0</td>\n",
              "      <td>True</td>\n",
              "      <td>False</td>\n",
              "      <td>False</td>\n",
              "      <td>False</td>\n",
              "      <td>False</td>\n",
              "      <td>False</td>\n",
              "      <td>False</td>\n",
              "      <td>False</td>\n",
              "      <td>False</td>\n",
              "      <td>False</td>\n",
              "      <td>False</td>\n",
              "      <td>False</td>\n",
              "      <td>False</td>\n",
              "      <td>NaN</td>\n",
              "      <td>False</td>\n",
              "      <td>False</td>\n",
              "      <td>False</td>\n",
              "      <td>False</td>\n",
              "      <td>False</td>\n",
              "      <td>1.0</td>\n",
              "      <td>False</td>\n",
              "      <td>False</td>\n",
              "      <td>False</td>\n",
              "      <td>False</td>\n",
              "      <td>NaN</td>\n",
              "      <td>False</td>\n",
              "      <td>False</td>\n",
              "      <td>match</td>\n",
              "      <td>mismatch</td>\n",
              "      <td>M</td>\n",
              "      <td>NaN</td>\n",
              "      <td>unavailable</td>\n",
              "      <td>NaN</td>\n",
              "      <td>(M) Mobile Phone</td>\n",
              "      <td>partial</td>\n",
              "      <td>NaN</td>\n",
              "      <td>NaN</td>\n",
              "      <td>NaN</td>\n",
              "      <td>NaN</td>\n",
              "      <td>match</td>\n",
              "      <td>11.0</td>\n",
              "      <td>838.0</td>\n",
              "      <td>54cc0780e4b0ba763e43b74a</td>\n",
              "    </tr>\n",
              "    <tr>\n",
              "      <th>4</th>\n",
              "      <td>5.0</td>\n",
              "      <td>5.0</td>\n",
              "      <td>2.0</td>\n",
              "      <td>2.0</td>\n",
              "      <td>6.0</td>\n",
              "      <td>5.0</td>\n",
              "      <td>2.0</td>\n",
              "      <td>5.0</td>\n",
              "      <td>6.0</td>\n",
              "      <td>False</td>\n",
              "      <td>1.0</td>\n",
              "      <td>True</td>\n",
              "      <td>False</td>\n",
              "      <td>False</td>\n",
              "      <td>False</td>\n",
              "      <td>False</td>\n",
              "      <td>False</td>\n",
              "      <td>False</td>\n",
              "      <td>False</td>\n",
              "      <td>False</td>\n",
              "      <td>False</td>\n",
              "      <td>False</td>\n",
              "      <td>False</td>\n",
              "      <td>False</td>\n",
              "      <td>NaN</td>\n",
              "      <td>False</td>\n",
              "      <td>False</td>\n",
              "      <td>False</td>\n",
              "      <td>False</td>\n",
              "      <td>False</td>\n",
              "      <td>1.0</td>\n",
              "      <td>False</td>\n",
              "      <td>False</td>\n",
              "      <td>False</td>\n",
              "      <td>False</td>\n",
              "      <td>NaN</td>\n",
              "      <td>False</td>\n",
              "      <td>False</td>\n",
              "      <td>match</td>\n",
              "      <td>match</td>\n",
              "      <td>M</td>\n",
              "      <td>NaN</td>\n",
              "      <td>unavailable</td>\n",
              "      <td>NaN</td>\n",
              "      <td>(M) Mobile Phone</td>\n",
              "      <td>match</td>\n",
              "      <td>NaN</td>\n",
              "      <td>NaN</td>\n",
              "      <td>NaN</td>\n",
              "      <td>NaN</td>\n",
              "      <td>match</td>\n",
              "      <td>1.0</td>\n",
              "      <td>768.0</td>\n",
              "      <td>54cc1d67e4b0ba763e445b45</td>\n",
              "    </tr>\n",
              "  </tbody>\n",
              "</table>\n",
              "</div>"
            ],
            "text/plain": [
              "   CF.fs.bof_ssn_date_unverified  ...            underwritingid\n",
              "0                            8.0  ...  54cbffcee4b0ba763e43144d\n",
              "1                            5.0  ...  54cc0408e4b0418d9a7f78af\n",
              "2                            9.0  ...  54cc0683e4b0418d9a80adb6\n",
              "3                            3.0  ...  54cc0780e4b0ba763e43b74a\n",
              "4                            5.0  ...  54cc1d67e4b0ba763e445b45\n",
              "\n",
              "[5 rows x 54 columns]"
            ]
          },
          "metadata": {
            "tags": []
          },
          "execution_count": 41
        }
      ]
    },
    {
      "cell_type": "code",
      "metadata": {
        "id": "JpAeXEqHUx5w"
      },
      "source": [
        "predictors = []\n",
        "\n",
        "for i in clarity_underwriting_variable.columns:\n",
        "  if clarity_underwriting_variable.dtypes[i] != 'object' :\n",
        "    predictors.append(i)\n",
        "  else :\n",
        "    continue"
      ],
      "execution_count": null,
      "outputs": []
    },
    {
      "cell_type": "code",
      "metadata": {
        "id": "7e-Duh4EU07C",
        "colab": {
          "base_uri": "https://localhost:8080/",
          "height": 1000
        },
        "outputId": "4570b591-d94b-49ca-fb6e-68c5fb5b18d6"
      },
      "source": [
        "for i in predictors:\n",
        "  print('distribution of ' , i)\n",
        "  print(clarity_underwriting_variable[i].describe())\n",
        "  sns.distplot(clarity_underwriting_variable.loc[np.isnan(clarity_underwriting_variable[i]) == 0 ,:][i])\n",
        "  plt.show()"
      ],
      "execution_count": null,
      "outputs": [
        {
          "output_type": "stream",
          "text": [
            "distribution of  CF.fs.bof_ssn_date_unverified\n",
            "count    49750.000000\n",
            "mean         7.313628\n",
            "std          6.327122\n",
            "min          0.000000\n",
            "25%          3.000000\n",
            "50%          5.000000\n",
            "75%          9.000000\n",
            "max         89.000000\n",
            "Name: CF.fs.bof_ssn_date_unverified, dtype: float64\n"
          ],
          "name": "stdout"
        },
        {
          "output_type": "display_data",
          "data": {
            "image/png": "[encoded data removed]",
            "text/plain": [
              "<Figure size 432x288 with 1 Axes>"
            ]
          },
          "metadata": {
            "tags": [],
            "needs_background": "light"
          }
        },
        {
          "output_type": "stream",
          "text": [
            "distribution of  CF.fs.bof_ssn_deceased\n",
            "count    49750.000000\n",
            "mean         4.601990\n",
            "std          3.302288\n",
            "min          0.000000\n",
            "25%          3.000000\n",
            "50%          3.000000\n",
            "75%          5.000000\n",
            "max         60.000000\n",
            "Name: CF.fs.bof_ssn_deceased, dtype: float64\n"
          ],
          "name": "stdout"
        },
        {
          "output_type": "display_data",
          "data": {
            "image/png": "[encoded data removed]",
            "text/plain": [
              "<Figure size 432x288 with 1 Axes>"
            ]
          },
          "metadata": {
            "tags": [],
            "needs_background": "light"
          }
        },
        {
          "output_type": "stream",
          "text": [
            "distribution of  CF.fs.credit_prior_age_18\n",
            "count    49750.000000\n",
            "mean         2.343980\n",
            "std          1.436345\n",
            "min          0.000000\n",
            "25%          1.000000\n",
            "50%          3.000000\n",
            "75%          3.000000\n",
            "max         16.000000\n",
            "Name: CF.fs.credit_prior_age_18, dtype: float64\n"
          ],
          "name": "stdout"
        },
        {
          "output_type": "display_data",
          "data": {
            "image/png": "[encoded data removed]",
            "text/plain": [
              "<Figure size 432x288 with 1 Axes>"
            ]
          },
          "metadata": {
            "tags": [],
            "needs_background": "light"
          }
        },
        {
          "output_type": "stream",
          "text": [
            "distribution of  CF.fs.credit_prior_ssn_date\n",
            "count    49750.000000\n",
            "mean         4.006874\n",
            "std          2.697831\n",
            "min          0.000000\n",
            "25%          3.000000\n",
            "50%          3.000000\n",
            "75%          5.000000\n",
            "max         42.000000\n",
            "Name: CF.fs.credit_prior_ssn_date, dtype: float64\n"
          ],
          "name": "stdout"
        },
        {
          "output_type": "display_data",
          "data": {
            "image/png": "[encoded data removed]",
            "text/plain": [
              "<Figure size 432x288 with 1 Axes>"
            ]
          },
          "metadata": {
            "tags": [],
            "needs_background": "light"
          }
        },
        {
          "output_type": "stream",
          "text": [
            "distribution of  CF.fs.cur_addr_rep_newtrade_only\n",
            "count    49750.000000\n",
            "mean        10.554513\n",
            "std         10.450845\n",
            "min          0.000000\n",
            "25%          4.000000\n",
            "50%          7.000000\n",
            "75%         13.000000\n",
            "max        202.000000\n",
            "Name: CF.fs.cur_addr_rep_newtrade_only, dtype: float64\n"
          ],
          "name": "stdout"
        },
        {
          "output_type": "display_data",
          "data": {
            "image/png": "[encoded data removed]",
            "text/plain": [
              "<Figure size 432x288 with 1 Axes>"
            ]
          },
          "metadata": {
            "tags": [],
            "needs_background": "light"
          }
        },
        {
          "output_type": "stream",
          "text": [
            "distribution of  CF.fs.cur_addr_rep_trade_90_days\n",
            "count    49750.000000\n",
            "mean         5.423799\n",
            "std          4.110483\n",
            "min          0.000000\n",
            "25%          3.000000\n",
            "50%          4.000000\n",
            "75%          6.000000\n",
            "max         64.000000\n",
            "Name: CF.fs.cur_addr_rep_trade_90_days, dtype: float64\n"
          ],
          "name": "stdout"
        },
        {
          "output_type": "display_data",
          "data": {
            "image/png": "[encoded data removed]",
            "text/plain": [
              "<Figure size 432x288 with 1 Axes>"
            ]
          },
          "metadata": {
            "tags": [],
            "needs_background": "light"
          }
        },
        {
          "output_type": "stream",
          "text": [
            "distribution of  CF.fs.dl_format_invalid\n",
            "count    49750.000000\n",
            "mean         3.292121\n",
            "std          2.109667\n",
            "min          0.000000\n",
            "25%          2.000000\n",
            "50%          3.000000\n",
            "75%          4.000000\n",
            "max         35.000000\n",
            "Name: CF.fs.dl_format_invalid, dtype: float64\n"
          ],
          "name": "stdout"
        },
        {
          "output_type": "display_data",
          "data": {
            "image/png": "[encoded data removed]",
            "text/plain": [
              "<Figure size 432x288 with 1 Axes>"
            ]
          },
          "metadata": {
            "tags": [],
            "needs_background": "light"
          }
        },
        {
          "output_type": "stream",
          "text": [
            "distribution of  CF.fs.dl_inconsistent_wof\n",
            "count    49750.000000\n",
            "mean         6.155578\n",
            "std          4.952620\n",
            "min          0.000000\n",
            "25%          3.000000\n",
            "50%          5.000000\n",
            "75%          7.000000\n",
            "max         83.000000\n",
            "Name: CF.fs.dl_inconsistent_wof, dtype: float64\n"
          ],
          "name": "stdout"
        },
        {
          "output_type": "display_data",
          "data": {
            "image/png": "[encoded data removed]",
            "text/plain": [
              "<Figure size 432x288 with 1 Axes>"
            ]
          },
          "metadata": {
            "tags": [],
            "needs_background": "light"
          }
        },
        {
          "output_type": "stream",
          "text": [
            "distribution of  CF.fs.in_ssn_date_unverified\n",
            "count    49750.000000\n",
            "mean        20.302291\n",
            "std         23.771239\n",
            "min          0.000000\n",
            "25%          6.000000\n",
            "50%         12.000000\n",
            "75%         25.000000\n",
            "max        438.000000\n",
            "Name: CF.fs.in_ssn_date_unverified, dtype: float64\n"
          ],
          "name": "stdout"
        },
        {
          "output_type": "display_data",
          "data": {
            "image/png": "[encoded data removed]",
            "text/plain": [
              "<Figure size 432x288 with 1 Axes>"
            ]
          },
          "metadata": {
            "tags": [],
            "needs_background": "light"
          }
        },
        {
          "output_type": "stream",
          "text": [
            "distribution of  CF.fs.in_ssn_invalid\n",
            "count    49735.000000\n",
            "mean         2.118327\n",
            "std          1.254602\n",
            "min          0.000000\n",
            "25%          1.000000\n",
            "50%          2.000000\n",
            "75%          3.000000\n",
            "max          8.000000\n",
            "Name: CF.fs.in_ssn_invalid, dtype: float64\n"
          ],
          "name": "stdout"
        },
        {
          "output_type": "display_data",
          "data": {
            "image/png": "[encoded data removed]",
            "text/plain": [
              "<Figure size 432x288 with 1 Axes>"
            ]
          },
          "metadata": {
            "tags": [],
            "needs_background": "light"
          }
        },
        {
          "output_type": "stream",
          "text": [
            "distribution of  CF.inquiry.1_min_ago\n",
            "count    49735.000000\n",
            "mean         7.202554\n",
            "std         79.908530\n",
            "min          1.000000\n",
            "25%          1.000000\n",
            "50%          1.000000\n",
            "75%          2.000000\n",
            "max       4056.000000\n",
            "Name: CF.inquiry.1_min_ago, dtype: float64\n"
          ],
          "name": "stdout"
        },
        {
          "output_type": "display_data",
          "data": {
            "image/png": "[encoded data removed]",
            "text/plain": [
              "<Figure size 432x288 with 1 Axes>"
            ]
          },
          "metadata": {
            "tags": [],
            "needs_background": "light"
          }
        },
        {
          "output_type": "stream",
          "text": [
            "distribution of  CF.match.ssndobmatch\n",
            "count    49720.000000\n",
            "mean        11.728842\n",
            "std         14.116701\n",
            "min          1.000000\n",
            "25%          1.000000\n",
            "50%         11.000000\n",
            "75%         15.000000\n",
            "max        125.000000\n",
            "Name: CF.match.ssndobmatch, dtype: float64\n"
          ],
          "name": "stdout"
        },
        {
          "output_type": "display_data",
          "data": {
            "image/png": "[encoded data removed]",
            "text/plain": [
              "<Figure size 432x288 with 1 Axes>"
            ]
          },
          "metadata": {
            "tags": [],
            "needs_background": "light"
          }
        },
        {
          "output_type": "stream",
          "text": [
            "distribution of  clearFraudScore\n",
            "count    49615.000000\n",
            "mean       683.769787\n",
            "std        126.205372\n",
            "min        122.000000\n",
            "25%        592.000000\n",
            "50%        691.000000\n",
            "75%        783.000000\n",
            "max        965.000000\n",
            "Name: clearFraudScore, dtype: float64\n"
          ],
          "name": "stdout"
        },
        {
          "output_type": "display_data",
          "data": {
            "image/png": "[encoded data removed]",
            "text/plain": [
              "<Figure size 432x288 with 1 Axes>"
            ]
          },
          "metadata": {
            "tags": [],
            "needs_background": "light"
          }
        }
      ]
    },
    {
      "cell_type": "markdown",
      "metadata": {
        "id": "vZqP1Bn-BIfR"
      },
      "source": [
        "As in loans data , we notice skewness and presense of outliers in almost all scale vaiables , as well we will get rid of that in the same way before modeling , taking a power transformation"
      ]
    },
    {
      "cell_type": "markdown",
      "metadata": {
        "id": "RLqr3MUpBaY8"
      },
      "source": [
        "We notice the large size of the dataset , to minimize dataset size , we drop variables that are corelated with other variables , in the scale variables we can use correlation coeffecient for this task , but here , in the categorical variables we use (Chi - squared contengence test)\n",
        "\n",
        "to find variables that are dependent on other variables and exclude them"
      ]
    },
    {
      "cell_type": "code",
      "metadata": {
        "id": "La7LXJuTn5y8"
      },
      "source": [
        "object_predictors = clarity_underwriting_variable.select_dtypes(include=['object']).columns # getting categorical variables\n",
        "import itertools\n",
        "mat = list(itertools.combinations(object_predictors[:-1], 2)) # getting all binary combinations of categorical variables"
      ],
      "execution_count": null,
      "outputs": []
    },
    {
      "cell_type": "code",
      "metadata": {
        "id": "PIfzZXKCn5zT"
      },
      "source": [
        "drop =[]\n",
        "for i in range(len(mat)) : \n",
        "  a , b = mat[i][0] , mat[i][1]\n",
        "  table = pd.pivot_table(clarity_underwriting_variable, columns=b , index=a ,\n",
        "                         values='underwritingid',aggfunc='count' ,\n",
        "                         margins = True , margins_name= 'row').replace(np.nan,0)# getting contingency tables\n",
        " \n",
        "  p = chi2_contingency( table, lambda_=\"log-likelihood\")[1] # getting p - value of chi - squared contingenncy test\n",
        "  if p < 0.05 :             drop.append(b)# if relationship significant drop one of the variables fom the data\n",
        "  else :  pass\n"
      ],
      "execution_count": null,
      "outputs": []
    },
    {
      "cell_type": "code",
      "metadata": {
        "id": "p3dn0KpdvxOz"
      },
      "source": [
        "drop_clarity1=list(set(drop)) # the first set to drop (dependent categorical variables)"
      ],
      "execution_count": null,
      "outputs": []
    },
    {
      "cell_type": "markdown",
      "metadata": {
        "id": "1WzZiO10Cv5V"
      },
      "source": [
        "Then , we study correlation between scale variables"
      ]
    },
    {
      "cell_type": "code",
      "metadata": {
        "id": "t-cyOycea8bD",
        "colab": {
          "base_uri": "https://localhost:8080/",
          "height": 773
        },
        "outputId": "12d79132-b751-416f-d223-4132fd80825c"
      },
      "source": [
        "plt.figure(figsize=(20,10))\n",
        "\n",
        "sns.heatmap(clarity_underwriting_variable.select_dtypes(exclude=['object']).corr() , cmap = \"Spectral\" , annot=True)"
      ],
      "execution_count": null,
      "outputs": [
        {
          "output_type": "execute_result",
          "data": {
            "text/plain": [
              "<matplotlib.axes._subplots.AxesSubplot at 0x7fc31a8b54e0>"
            ]
          },
          "metadata": {
            "tags": []
          },
          "execution_count": 47
        },
        {
          "output_type": "display_data",
          "data": {
            "image/png": "[encoded data removed]",
            "text/plain": [
              "<Figure size 1440x720 with 2 Axes>"
            ]
          },
          "metadata": {
            "tags": [],
            "needs_background": "light"
          }
        }
      ]
    },
    {
      "cell_type": "markdown",
      "metadata": {
        "id": "ayaDAsZlC44E"
      },
      "source": [
        "we notice that there are some variables that are correlated with several variables , so we drop them"
      ]
    },
    {
      "cell_type": "code",
      "metadata": {
        "id": "QahDBwZhPvKH"
      },
      "source": [
        "drop_clarity2 = ['CF.fs.dl_inconsistent_wof' , 'CF.fs.cur_addr_rep_trade_90_days' , \n",
        "                 'CF.fs.cur_addr_rep_newtrade_only','CF.inquiry.1_min_ago'] # the second set to drop (dependent scale variables)"
      ],
      "execution_count": null,
      "outputs": []
    },
    {
      "cell_type": "code",
      "metadata": {
        "id": "ZldBTOtEIXJm"
      },
      "source": [
        "new_clarity = clarity_underwriting_variable.drop(columns=drop_clarity1 ).drop (columns=drop_clarity2) # drop dependent variables"
      ],
      "execution_count": null,
      "outputs": []
    },
    {
      "cell_type": "markdown",
      "metadata": {
        "id": "LtOs7bg9f4fM"
      },
      "source": [
        "## Stage 2 : Composing dataset to use in prediction\n"
      ]
    },
    {
      "cell_type": "markdown",
      "metadata": {
        "id": "_BHjijEsga_o"
      },
      "source": [
        "### A - Merging datasets"
      ]
    },
    {
      "cell_type": "markdown",
      "metadata": {
        "id": "PQvL-K4GAPYp"
      },
      "source": [
        "### After studying characteristics of each data set, manupulating it , we start to compose our final dataset \n",
        "\n",
        "1 - Since we work on loans repayment , we will work only on funded loans\n",
        "\n",
        "Also we merge \"payment_agg\" dataset to merge our dependent variable (checked payment)"
      ]
    },
    {
      "cell_type": "code",
      "metadata": {
        "id": "vw_YGfBP9jRG"
      },
      "source": [
        "funded = loan.loc[loan.isFunded == 1].merge(right=payment_agg , on = 'loanId')"
      ],
      "execution_count": null,
      "outputs": []
    },
    {
      "cell_type": "code",
      "metadata": {
        "id": "QwhQ-judBt3U",
        "colab": {
          "base_uri": "https://localhost:8080/"
        },
        "outputId": "b30f2d5c-2956-41a9-b343-933ac3095f9a"
      },
      "source": [
        "funded.info()"
      ],
      "execution_count": null,
      "outputs": [
        {
          "output_type": "stream",
          "text": [
            "<class 'pandas.core.frame.DataFrame'>\n",
            "Int64Index: 38878 entries, 0 to 38877\n",
            "Data columns (total 25 columns):\n",
            " #   Column                            Non-Null Count  Dtype         \n",
            "---  ------                            --------------  -----         \n",
            " 0   loanId                            38878 non-null  object        \n",
            " 1   anon_ssn                          38878 non-null  object        \n",
            " 2   payFrequency                      38878 non-null  object        \n",
            " 3   apr                               38878 non-null  float64       \n",
            " 4   applicationDate                   38878 non-null  datetime64[ns]\n",
            " 5   originated                        38878 non-null  bool          \n",
            " 6   originatedDate                    38878 non-null  object        \n",
            " 7   nPaidOff                          38857 non-null  float64       \n",
            " 8   approved                          38878 non-null  bool          \n",
            " 9   isFunded                          38878 non-null  int64         \n",
            " 10  loanStatus                        38878 non-null  object        \n",
            " 11  loanAmount                        38878 non-null  float64       \n",
            " 12  originallyScheduledPaymentAmount  38878 non-null  float64       \n",
            " 13  state                             38878 non-null  object        \n",
            " 14  leadType                          38878 non-null  object        \n",
            " 15  leadCost                          38878 non-null  int64         \n",
            " 16  fpStatus                          38870 non-null  object        \n",
            " 17  clarityFraudId                    32257 non-null  object        \n",
            " 18  hasCF                             38878 non-null  int64         \n",
            " 19  checked_payments                  38878 non-null  float64       \n",
            " 20  future_payments                   38878 non-null  float64       \n",
            " 21  check                             38878 non-null  int64         \n",
            " 22  not_yet                           38878 non-null  int64         \n",
            " 23  paymentDate                       38878 non-null  datetime64[ns]\n",
            " 24  installmentIndex                  38878 non-null  int64         \n",
            "dtypes: bool(2), datetime64[ns](2), float64(6), int64(6), object(9)\n",
            "memory usage: 7.2+ MB\n"
          ],
          "name": "stdout"
        }
      ]
    },
    {
      "cell_type": "code",
      "metadata": {
        "id": "y-rRqjYoUylv",
        "colab": {
          "base_uri": "https://localhost:8080/",
          "height": 309
        },
        "outputId": "54123dd6-ea04-46bf-a251-b4df1475b884"
      },
      "source": [
        "funded.head()"
      ],
      "execution_count": null,
      "outputs": [
        {
          "output_type": "execute_result",
          "data": {
            "text/html": [
              "<div>\n",
              "<style scoped>\n",
              "    .dataframe tbody tr th:only-of-type {\n",
              "        vertical-align: middle;\n",
              "    }\n",
              "\n",
              "    .dataframe tbody tr th {\n",
              "        vertical-align: top;\n",
              "    }\n",
              "\n",
              "    .dataframe thead th {\n",
              "        text-align: right;\n",
              "    }\n",
              "</style>\n",
              "<table border=\"1\" class=\"dataframe\">\n",
              "  <thead>\n",
              "    <tr style=\"text-align: right;\">\n",
              "      <th></th>\n",
              "      <th>loanId</th>\n",
              "      <th>anon_ssn</th>\n",
              "      <th>payFrequency</th>\n",
              "      <th>apr</th>\n",
              "      <th>applicationDate</th>\n",
              "      <th>originated</th>\n",
              "      <th>originatedDate</th>\n",
              "      <th>nPaidOff</th>\n",
              "      <th>approved</th>\n",
              "      <th>isFunded</th>\n",
              "      <th>loanStatus</th>\n",
              "      <th>loanAmount</th>\n",
              "      <th>originallyScheduledPaymentAmount</th>\n",
              "      <th>state</th>\n",
              "      <th>leadType</th>\n",
              "      <th>leadCost</th>\n",
              "      <th>fpStatus</th>\n",
              "      <th>clarityFraudId</th>\n",
              "      <th>hasCF</th>\n",
              "      <th>checked_payments</th>\n",
              "      <th>future_payments</th>\n",
              "      <th>check</th>\n",
              "      <th>not_yet</th>\n",
              "      <th>paymentDate</th>\n",
              "      <th>installmentIndex</th>\n",
              "    </tr>\n",
              "  </thead>\n",
              "  <tbody>\n",
              "    <tr>\n",
              "      <th>0</th>\n",
              "      <td>LL-I-06644937</td>\n",
              "      <td>464f5d9ae4fa09ece4048d949191865c</td>\n",
              "      <td>B</td>\n",
              "      <td>199.0</td>\n",
              "      <td>2016-01-19</td>\n",
              "      <td>True</td>\n",
              "      <td>2016-01-20T15:49:18.846000</td>\n",
              "      <td>0.0</td>\n",
              "      <td>True</td>\n",
              "      <td>1</td>\n",
              "      <td>paid off loan</td>\n",
              "      <td>3000.0</td>\n",
              "      <td>6395.19</td>\n",
              "      <td>CA</td>\n",
              "      <td>prescreen</td>\n",
              "      <td>0</td>\n",
              "      <td>Checked</td>\n",
              "      <td>569eb3a3e4b096699f685d64</td>\n",
              "      <td>1</td>\n",
              "      <td>6287.08</td>\n",
              "      <td>0.00</td>\n",
              "      <td>22</td>\n",
              "      <td>0</td>\n",
              "      <td>2016-12-14</td>\n",
              "      <td>25</td>\n",
              "    </tr>\n",
              "    <tr>\n",
              "      <th>1</th>\n",
              "      <td>LL-I-12263369</td>\n",
              "      <td>accf40708233e8b7d05fcb89d5a9c081</td>\n",
              "      <td>B</td>\n",
              "      <td>475.0</td>\n",
              "      <td>2016-11-28</td>\n",
              "      <td>True</td>\n",
              "      <td>2016-11-29T20:30:40.640000</td>\n",
              "      <td>2.0</td>\n",
              "      <td>True</td>\n",
              "      <td>1</td>\n",
              "      <td>new loan</td>\n",
              "      <td>350.0</td>\n",
              "      <td>893.88</td>\n",
              "      <td>MO</td>\n",
              "      <td>organic</td>\n",
              "      <td>0</td>\n",
              "      <td>Checked</td>\n",
              "      <td>NaN</td>\n",
              "      <td>0</td>\n",
              "      <td>481.39</td>\n",
              "      <td>343.72</td>\n",
              "      <td>7</td>\n",
              "      <td>5</td>\n",
              "      <td>2017-05-26</td>\n",
              "      <td>13</td>\n",
              "    </tr>\n",
              "    <tr>\n",
              "      <th>2</th>\n",
              "      <td>LL-I-17826953</td>\n",
              "      <td>7529d29c9d943cc55bc71a85d9c6b7a3</td>\n",
              "      <td>W</td>\n",
              "      <td>645.0</td>\n",
              "      <td>2017-03-01</td>\n",
              "      <td>True</td>\n",
              "      <td>2017-03-01T16:15:13.016000</td>\n",
              "      <td>0.0</td>\n",
              "      <td>True</td>\n",
              "      <td>1</td>\n",
              "      <td>new loan</td>\n",
              "      <td>400.0</td>\n",
              "      <td>1364.87</td>\n",
              "      <td>NJ</td>\n",
              "      <td>lead</td>\n",
              "      <td>40</td>\n",
              "      <td>Checked</td>\n",
              "      <td>58b6eef8e4b0b6fca82fd426</td>\n",
              "      <td>1</td>\n",
              "      <td>0.00</td>\n",
              "      <td>1256.01</td>\n",
              "      <td>0</td>\n",
              "      <td>24</td>\n",
              "      <td>2017-09-01</td>\n",
              "      <td>26</td>\n",
              "    </tr>\n",
              "    <tr>\n",
              "      <th>3</th>\n",
              "      <td>LL-I-16519347</td>\n",
              "      <td>bc9fa73468acf18cb968a3a6a3c4697c</td>\n",
              "      <td>S</td>\n",
              "      <td>490.0</td>\n",
              "      <td>2017-01-31</td>\n",
              "      <td>True</td>\n",
              "      <td>2017-01-31T18:00:14.520000</td>\n",
              "      <td>2.0</td>\n",
              "      <td>True</td>\n",
              "      <td>1</td>\n",
              "      <td>paid off loan</td>\n",
              "      <td>1250.0</td>\n",
              "      <td>3313.78</td>\n",
              "      <td>MO</td>\n",
              "      <td>organic</td>\n",
              "      <td>0</td>\n",
              "      <td>Checked</td>\n",
              "      <td>58450a15e4b0bb9d6d7344c7</td>\n",
              "      <td>1</td>\n",
              "      <td>1333.75</td>\n",
              "      <td>0.00</td>\n",
              "      <td>1</td>\n",
              "      <td>0</td>\n",
              "      <td>2017-07-31</td>\n",
              "      <td>13</td>\n",
              "    </tr>\n",
              "    <tr>\n",
              "      <th>4</th>\n",
              "      <td>LL-I-11506719</td>\n",
              "      <td>10cefd11d41612b032fd9cd2debe32dc</td>\n",
              "      <td>B</td>\n",
              "      <td>590.0</td>\n",
              "      <td>2016-08-27</td>\n",
              "      <td>True</td>\n",
              "      <td>2016-08-29T15:05:04.014000</td>\n",
              "      <td>0.0</td>\n",
              "      <td>True</td>\n",
              "      <td>1</td>\n",
              "      <td>paid off loan</td>\n",
              "      <td>800.0</td>\n",
              "      <td>2432.08</td>\n",
              "      <td>CA</td>\n",
              "      <td>bvMandatory</td>\n",
              "      <td>10</td>\n",
              "      <td>Checked</td>\n",
              "      <td>578f9346e4b0810ad5e7b72e</td>\n",
              "      <td>1</td>\n",
              "      <td>2432.08</td>\n",
              "      <td>0.00</td>\n",
              "      <td>13</td>\n",
              "      <td>0</td>\n",
              "      <td>2017-02-24</td>\n",
              "      <td>13</td>\n",
              "    </tr>\n",
              "  </tbody>\n",
              "</table>\n",
              "</div>"
            ],
            "text/plain": [
              "          loanId  ... installmentIndex\n",
              "0  LL-I-06644937  ...               25\n",
              "1  LL-I-12263369  ...               13\n",
              "2  LL-I-17826953  ...               26\n",
              "3  LL-I-16519347  ...               13\n",
              "4  LL-I-11506719  ...               13\n",
              "\n",
              "[5 rows x 25 columns]"
            ]
          },
          "metadata": {
            "tags": []
          },
          "execution_count": 52
        }
      ]
    },
    {
      "cell_type": "markdown",
      "metadata": {
        "id": "0rKGRXRlElnq"
      },
      "source": [
        "2 -  Also History of the borrower is of our intrest , we will have to know the credit histoy of the borrower (i.e the status of loans that he had borrowed before this loan)\n",
        "\n"
      ]
    },
    {
      "cell_type": "code",
      "metadata": {
        "id": "i_EP5TNWDzf1"
      },
      "source": [
        "hist=funded.loc[: , ['loanId','anon_ssn' ,  'applicationDate']].merge(funded.loc[: , ['anon_ssn' , 'loanStatus' , 'applicationDate']] ,how='left' ,on='anon_ssn') "
      ],
      "execution_count": null,
      "outputs": []
    },
    {
      "cell_type": "code",
      "metadata": {
        "id": "-EAEcLaJFrCP"
      },
      "source": [
        "hist=pd.get_dummies(hist.loc[hist['applicationDate_x'] > hist['applicationDate_y'] #we choose status of loans that borrower applied for before this loan\n",
        "                             , ['loanId' , 'anon_ssn', 'loanStatus']  ] ,\n",
        "                    columns=['loanStatus']) .groupby('anon_ssn').sum()"
      ],
      "execution_count": null,
      "outputs": []
    },
    {
      "cell_type": "markdown",
      "metadata": {
        "id": "qI6YLP_FF52i"
      },
      "source": [
        "3 - Also we may be interested in loans that were not funded for a specific borrower , (i.e if a borrower has a several withdrawn applications it may be an indicator that borrower is not serious enough. "
      ]
    },
    {
      "cell_type": "code",
      "metadata": {
        "id": "LstemO6K1jh7"
      },
      "source": [
        "non_funded = loan.loc[loan.isFunded == 0 , ['loanId' , 'anon_ssn' ,'payFrequency' ,'applicationDate','loanStatus'] ]"
      ],
      "execution_count": null,
      "outputs": []
    },
    {
      "cell_type": "code",
      "metadata": {
        "id": "cf_nrkPR8wOv"
      },
      "source": [
        "non_funded=pd.get_dummies(non_funded , columns=['payFrequency' ,'loanStatus'])"
      ],
      "execution_count": null,
      "outputs": []
    },
    {
      "cell_type": "code",
      "metadata": {
        "id": "yXLv6n1SHtv7",
        "colab": {
          "base_uri": "https://localhost:8080/",
          "height": 326
        },
        "outputId": "19b57be7-0ab4-47b7-e281-0e1c04b6ebb6"
      },
      "source": [
        "non_funded.head()"
      ],
      "execution_count": null,
      "outputs": [
        {
          "output_type": "execute_result",
          "data": {
            "text/html": [
              "<div>\n",
              "<style scoped>\n",
              "    .dataframe tbody tr th:only-of-type {\n",
              "        vertical-align: middle;\n",
              "    }\n",
              "\n",
              "    .dataframe tbody tr th {\n",
              "        vertical-align: top;\n",
              "    }\n",
              "\n",
              "    .dataframe thead th {\n",
              "        text-align: right;\n",
              "    }\n",
              "</style>\n",
              "<table border=\"1\" class=\"dataframe\">\n",
              "  <thead>\n",
              "    <tr style=\"text-align: right;\">\n",
              "      <th></th>\n",
              "      <th>loanId</th>\n",
              "      <th>anon_ssn</th>\n",
              "      <th>applicationDate</th>\n",
              "      <th>payFrequency_B</th>\n",
              "      <th>payFrequency_I</th>\n",
              "      <th>payFrequency_M</th>\n",
              "      <th>payFrequency_S</th>\n",
              "      <th>payFrequency_W</th>\n",
              "      <th>loanStatus_</th>\n",
              "      <th>loanStatus_charged off paid off</th>\n",
              "      <th>loanStatus_internal collection</th>\n",
              "      <th>loanStatus_pending</th>\n",
              "      <th>loanStatus_rejected</th>\n",
              "      <th>loanStatus_void</th>\n",
              "      <th>loanStatus_withdrawn application</th>\n",
              "    </tr>\n",
              "  </thead>\n",
              "  <tbody>\n",
              "    <tr>\n",
              "      <th>0</th>\n",
              "      <td>LL-I-07399092</td>\n",
              "      <td>beff4989be82aab4a5b47679216942fd</td>\n",
              "      <td>2016-02-23</td>\n",
              "      <td>1</td>\n",
              "      <td>0</td>\n",
              "      <td>0</td>\n",
              "      <td>0</td>\n",
              "      <td>0</td>\n",
              "      <td>0</td>\n",
              "      <td>0</td>\n",
              "      <td>0</td>\n",
              "      <td>0</td>\n",
              "      <td>0</td>\n",
              "      <td>0</td>\n",
              "      <td>1</td>\n",
              "    </tr>\n",
              "    <tr>\n",
              "      <th>2</th>\n",
              "      <td>LL-I-10707532</td>\n",
              "      <td>3c174ae9e2505a5f9ddbff9843281845</td>\n",
              "      <td>2016-08-01</td>\n",
              "      <td>1</td>\n",
              "      <td>0</td>\n",
              "      <td>0</td>\n",
              "      <td>0</td>\n",
              "      <td>0</td>\n",
              "      <td>0</td>\n",
              "      <td>0</td>\n",
              "      <td>0</td>\n",
              "      <td>0</td>\n",
              "      <td>0</td>\n",
              "      <td>0</td>\n",
              "      <td>1</td>\n",
              "    </tr>\n",
              "    <tr>\n",
              "      <th>3</th>\n",
              "      <td>LL-I-02272596</td>\n",
              "      <td>9be6f443bb97db7e95fa0c281d34da91</td>\n",
              "      <td>2015-08-06</td>\n",
              "      <td>1</td>\n",
              "      <td>0</td>\n",
              "      <td>0</td>\n",
              "      <td>0</td>\n",
              "      <td>0</td>\n",
              "      <td>0</td>\n",
              "      <td>0</td>\n",
              "      <td>0</td>\n",
              "      <td>0</td>\n",
              "      <td>0</td>\n",
              "      <td>0</td>\n",
              "      <td>1</td>\n",
              "    </tr>\n",
              "    <tr>\n",
              "      <th>4</th>\n",
              "      <td>LL-I-09542882</td>\n",
              "      <td>63b5494f60b5c19c827c7b068443752c</td>\n",
              "      <td>2016-06-05</td>\n",
              "      <td>1</td>\n",
              "      <td>0</td>\n",
              "      <td>0</td>\n",
              "      <td>0</td>\n",
              "      <td>0</td>\n",
              "      <td>0</td>\n",
              "      <td>0</td>\n",
              "      <td>0</td>\n",
              "      <td>0</td>\n",
              "      <td>1</td>\n",
              "      <td>0</td>\n",
              "      <td>0</td>\n",
              "    </tr>\n",
              "    <tr>\n",
              "      <th>5</th>\n",
              "      <td>LL-I-09734486</td>\n",
              "      <td>b5541f49472fa0fce8e473306768f7fb</td>\n",
              "      <td>2016-06-12</td>\n",
              "      <td>0</td>\n",
              "      <td>0</td>\n",
              "      <td>1</td>\n",
              "      <td>0</td>\n",
              "      <td>0</td>\n",
              "      <td>0</td>\n",
              "      <td>0</td>\n",
              "      <td>0</td>\n",
              "      <td>0</td>\n",
              "      <td>0</td>\n",
              "      <td>0</td>\n",
              "      <td>1</td>\n",
              "    </tr>\n",
              "  </tbody>\n",
              "</table>\n",
              "</div>"
            ],
            "text/plain": [
              "          loanId  ... loanStatus_withdrawn application\n",
              "0  LL-I-07399092  ...                                1\n",
              "2  LL-I-10707532  ...                                1\n",
              "3  LL-I-02272596  ...                                1\n",
              "4  LL-I-09542882  ...                                0\n",
              "5  LL-I-09734486  ...                                1\n",
              "\n",
              "[5 rows x 15 columns]"
            ]
          },
          "metadata": {
            "tags": []
          },
          "execution_count": 57
        }
      ]
    },
    {
      "cell_type": "markdown",
      "metadata": {
        "id": "6uMB-UpPHzjK"
      },
      "source": [
        "since \"withdrawn_application\" and \"Rejected\" are the dominent categories among non funded category so we extract them only "
      ]
    },
    {
      "cell_type": "code",
      "metadata": {
        "id": "q0ihliF9IYop"
      },
      "source": [
        "non_funded_agg=non_funded.groupby('anon_ssn').agg({'loanStatus_withdrawn application' : 'sum' , 'loanStatus_rejected':'sum'})"
      ],
      "execution_count": null,
      "outputs": []
    },
    {
      "cell_type": "code",
      "metadata": {
        "id": "x1GltYGYh-5G"
      },
      "source": [
        "non_funded_agg.columns=['n_withdrawn' , 'n_rejected']"
      ],
      "execution_count": null,
      "outputs": []
    },
    {
      "cell_type": "markdown",
      "metadata": {
        "id": "YSHMweeN9JAT"
      },
      "source": [
        "then we merge non funded loans for each borrower "
      ]
    },
    {
      "cell_type": "code",
      "metadata": {
        "id": "_f3oCj49d_qC"
      },
      "source": [
        "funded_merged=funded.merge(hist , how='left' , on='anon_ssn').merge(non_funded_agg , how='left' , on='anon_ssn')\n",
        "\n"
      ],
      "execution_count": null,
      "outputs": []
    },
    {
      "cell_type": "markdown",
      "metadata": {
        "id": "DsScfOP6IZ6P"
      },
      "source": [
        "then we merge clarity "
      ]
    },
    {
      "cell_type": "code",
      "metadata": {
        "id": "I2DTfgR32QrD"
      },
      "source": [
        "funded_merged=funded_merged.merge(new_clarity ,how='left' , left_on='clarityFraudId' , right_on='underwritingid')"
      ],
      "execution_count": null,
      "outputs": []
    },
    {
      "cell_type": "markdown",
      "metadata": {
        "id": "VgbpOE_fgnvz"
      },
      "source": [
        "### B - Generating more features"
      ]
    },
    {
      "cell_type": "markdown",
      "metadata": {
        "id": "sNSTqHwLIu8y"
      },
      "source": [
        "we calculate the loan term by days , as an estimate , \n",
        "we calculate the difference between application date and last payment date"
      ]
    },
    {
      "cell_type": "code",
      "metadata": {
        "id": "zJU4WFURuPHS"
      },
      "source": [
        "funded_merged['loan_term'] = funded_merged['paymentDate'] - funded_merged['applicationDate']"
      ],
      "execution_count": null,
      "outputs": []
    },
    {
      "cell_type": "markdown",
      "metadata": {
        "id": "-ism_NheJPYo"
      },
      "source": [
        "Since we are only interested in loans  that have outstanding amount (i.e , when we have a new loan that the first payment should be after one month , this will not help us in prediction) , so we drop such cases"
      ]
    },
    {
      "cell_type": "code",
      "metadata": {
        "id": "OzYXP2Hx8f5r"
      },
      "source": [
        "funded_merged=funded_merged.loc[funded_merged['not_yet'] != funded_merged['installmentIndex']]\n",
        "#calculating the pecentage of loan that should have been paid (i.e excluding percentage of payments that should be paid in the future)\n",
        "\n",
        "funded_merged['outstanding_pct'] = (funded_merged['originallyScheduledPaymentAmount'] - funded_merged['future_payments'])/funded_merged['originallyScheduledPaymentAmount']\n",
        "\n"
      ],
      "execution_count": null,
      "outputs": []
    },
    {
      "cell_type": "code",
      "metadata": {
        "id": "YCdxvduzFH3H"
      },
      "source": [
        "funded_merged = funded_merged.loc[funded_merged['outstanding_pct'] >0 ,:]"
      ],
      "execution_count": null,
      "outputs": []
    },
    {
      "cell_type": "markdown",
      "metadata": {
        "id": "ksC1eNgHKGrW"
      },
      "source": [
        "One factor that may be of intrest is precentage of fees (apr + other fees) of the total amount that borrower has to repay  "
      ]
    },
    {
      "cell_type": "code",
      "metadata": {
        "id": "qWtNR8IYIH75"
      },
      "source": [
        "funded_merged['fees_pct'] = (funded_merged['originallyScheduledPaymentAmount'] -funded_merged['loanAmount'])/funded_merged['originallyScheduledPaymentAmount']\n"
      ],
      "execution_count": null,
      "outputs": []
    },
    {
      "cell_type": "markdown",
      "metadata": {
        "id": "obN6jwBgLOYT"
      },
      "source": [
        "Since we will get dummies for all categorical variables , we take top 20 states and recode other states into \"other\" in order not to make final data larder than we need "
      ]
    },
    {
      "cell_type": "code",
      "metadata": {
        "id": "2nA7nEgmMK7g"
      },
      "source": [
        "top_20 = funded_merged['state'].value_counts(normalize=True)[:20].keys()"
      ],
      "execution_count": null,
      "outputs": []
    },
    {
      "cell_type": "code",
      "metadata": {
        "id": "gM7QfI6RFZCR"
      },
      "source": [
        "funded_merged['state'] =funded_merged['state'].apply(lambda x : np.where (x in \n",
        "top_20 ,x , 'other'))"
      ],
      "execution_count": null,
      "outputs": []
    },
    {
      "cell_type": "code",
      "metadata": {
        "id": "5AwwdcEUdt-z",
        "colab": {
          "base_uri": "https://localhost:8080/"
        },
        "outputId": "96e1375a-cad9-41c6-c1ba-5da83565123a"
      },
      "source": [
        "funded_merged.info()"
      ],
      "execution_count": null,
      "outputs": [
        {
          "output_type": "stream",
          "text": [
            "<class 'pandas.core.frame.DataFrame'>\n",
            "Int64Index: 37170 entries, 0 to 38877\n",
            "Data columns (total 57 columns):\n",
            " #   Column                            Non-Null Count  Dtype          \n",
            "---  ------                            --------------  -----          \n",
            " 0   loanId                            37170 non-null  object         \n",
            " 1   anon_ssn                          37170 non-null  object         \n",
            " 2   payFrequency                      37170 non-null  object         \n",
            " 3   apr                               37170 non-null  float64        \n",
            " 4   applicationDate                   37170 non-null  datetime64[ns] \n",
            " 5   originated                        37170 non-null  bool           \n",
            " 6   originatedDate                    37170 non-null  object         \n",
            " 7   nPaidOff                          37149 non-null  float64        \n",
            " 8   approved                          37170 non-null  bool           \n",
            " 9   isFunded                          37170 non-null  int64          \n",
            " 10  loanStatus                        37170 non-null  object         \n",
            " 11  loanAmount                        37170 non-null  float64        \n",
            " 12  originallyScheduledPaymentAmount  37170 non-null  float64        \n",
            " 13  state                             37170 non-null  object         \n",
            " 14  leadType                          37170 non-null  object         \n",
            " 15  leadCost                          37170 non-null  int64          \n",
            " 16  fpStatus                          37170 non-null  object         \n",
            " 17  clarityFraudId                    30588 non-null  object         \n",
            " 18  hasCF                             37170 non-null  int64          \n",
            " 19  checked_payments                  37170 non-null  float64        \n",
            " 20  future_payments                   37170 non-null  float64        \n",
            " 21  check                             37170 non-null  int64          \n",
            " 22  not_yet                           37170 non-null  int64          \n",
            " 23  paymentDate                       37170 non-null  datetime64[ns] \n",
            " 24  installmentIndex                  37170 non-null  int64          \n",
            " 25  loanStatus_charged off paid off   7569 non-null   float64        \n",
            " 26  loanStatus_external collection    7569 non-null   float64        \n",
            " 27  loanStatus_paid off loan          7569 non-null   float64        \n",
            " 28  loanStatus_settlement paid off    7569 non-null   float64        \n",
            " 29  n_withdrawn                       5890 non-null   float64        \n",
            " 30  n_rejected                        5890 non-null   float64        \n",
            " 31  CF.fs.bof_ssn_date_unverified     30585 non-null  float64        \n",
            " 32  CF.fs.bof_ssn_deceased            30585 non-null  float64        \n",
            " 33  CF.fs.credit_prior_age_18         30585 non-null  float64        \n",
            " 34  CF.fs.credit_prior_ssn_date       30585 non-null  float64        \n",
            " 35  CF.fs.dl_format_invalid           30585 non-null  float64        \n",
            " 36  CF.fs.in_ssn_date_unverified      30585 non-null  float64        \n",
            " 37  CF.fs.in_ssn_deceased             30552 non-null  object         \n",
            " 38  CF.fs.in_ssn_invalid              30569 non-null  float64        \n",
            " 39  CF.fs.inq_addr_high_risk          30552 non-null  object         \n",
            " 40  CF.fs.inq_addr_non_residential    30552 non-null  object         \n",
            " 41  CF.fs.inq_age_lt_ssn_date         30552 non-null  object         \n",
            " 42  CF.fs.inq_gt_3_in_last_30_days    30552 non-null  object         \n",
            " 43  CF.fs.max_num_ssn_ba              30552 non-null  object         \n",
            " 44  CF.fs.onf_addr_high_risk          30552 non-null  object         \n",
            " 45  CF.fs.phone_inconsistent_w_state  30552 non-null  object         \n",
            " 46  CF.fs.ssn_frequent_for_another    30552 non-null  object         \n",
            " 47  CF.fs.work_num_prev_home_num      30552 non-null  object         \n",
            " 48  CF.inquiry.10_mins_ago            30552 non-null  object         \n",
            " 49  CF.match.ssn_dob_reason_code      3390 non-null   object         \n",
            " 50  CF.match.phone_match_type         3390 non-null   object         \n",
            " 51  CF.match.ssndobmatch              30560 non-null  float64        \n",
            " 52  clearFraudScore                   30494 non-null  float64        \n",
            " 53  underwritingid                    30586 non-null  object         \n",
            " 54  loan_term                         37170 non-null  timedelta64[ns]\n",
            " 55  outstanding_pct                   37170 non-null  float64        \n",
            " 56  fees_pct                          37170 non-null  float64        \n",
            "dtypes: bool(2), datetime64[ns](2), float64(23), int64(6), object(23), timedelta64[ns](1)\n",
            "memory usage: 16.0+ MB\n"
          ],
          "name": "stdout"
        }
      ]
    },
    {
      "cell_type": "markdown",
      "metadata": {
        "id": "okNAHbw1gxqi"
      },
      "source": [
        "### C - Replacing Missing values"
      ]
    },
    {
      "cell_type": "markdown",
      "metadata": {
        "id": "vxW-SHFrMA0n"
      },
      "source": [
        "We notice presense of missing values in the fields related to clarity dataset \", this is because they are missing in case of hasCF=0 , so we estimate them using mean across \"leadType\" categories "
      ]
    },
    {
      "cell_type": "code",
      "metadata": {
        "id": "E114g_BPQR-V"
      },
      "source": [
        "#selecting felds that need to replace missing\n",
        "replace_missing_fields =['CF.fs.bof_ssn_date_unverified'\t,'CF.fs.bof_ssn_deceased',\t\n",
        "      'CF.fs.credit_prior_age_18',\t'CF.fs.credit_prior_ssn_date',\n",
        "      'CF.fs.dl_format_invalid',\t'CF.fs.in_ssn_date_unverified',\t'CF.fs.in_ssn_invalid',\t'CF.match.ssndobmatch']\n"
      ],
      "execution_count": null,
      "outputs": []
    },
    {
      "cell_type": "code",
      "metadata": {
        "id": "Mgo1bx03QSBV"
      },
      "source": [
        "replace_missing_data=funded_merged.groupby('leadType')[replace_missing_fields].mean() \n",
        "#getting means for these fields across 'leadType' categories"
      ],
      "execution_count": null,
      "outputs": []
    },
    {
      "cell_type": "code",
      "metadata": {
        "id": "MRcaVKY-1xDJ"
      },
      "source": [
        "replace_missing_data.columns=['CF.fs.bof_ssn_date_unverified_y'\t,'CF.fs.bof_ssn_deceased_y',\t\n",
        "      'CF.fs.credit_prior_age_18_y',\t'CF.fs.credit_prior_ssn_date_y',\n",
        "      'CF.fs.dl_format_invalid_y',\t'CF.fs.in_ssn_date_unverified_y',\t'CF.fs.in_ssn_invalid_y',\t'CF.match.ssndobmatch_y']\n",
        "#changing names of calculated fields in order to mege it to our main dataset"
      ],
      "execution_count": null,
      "outputs": []
    },
    {
      "cell_type": "code",
      "metadata": {
        "id": "HpmKM1d92Agx"
      },
      "source": [
        "funded_merged=funded_merged.merge(replace_missing_data , on='leadType') # merging helping fields to our dataset"
      ],
      "execution_count": null,
      "outputs": []
    },
    {
      "cell_type": "code",
      "metadata": {
        "id": "lid57yFW2NMt"
      },
      "source": [
        "for i  in range(len(replace_missing_fields))  : # replacing missing values\n",
        " \n",
        "    funded_merged[replace_missing_fields[i]]= np.where(np.isnan(funded_merged[replace_missing_fields[i]]) == 1 \n",
        "                                                       ,funded_merged[replace_missing_data.columns[i]],\n",
        "                                                       funded_merged[replace_missing_fields[i]])\n"
      ],
      "execution_count": null,
      "outputs": []
    },
    {
      "cell_type": "code",
      "metadata": {
        "id": "JAl_B2Wi4fl4"
      },
      "source": [
        "funded_merged.drop(columns=replace_missing_data.columns , inplace=True) # dopping helping fields"
      ],
      "execution_count": null,
      "outputs": []
    },
    {
      "cell_type": "markdown",
      "metadata": {
        "id": "jcyQBiq9Ntpg"
      },
      "source": [
        "then we drop fields that will not help us in prediction process (i.e loan status is a variable based on payment behaviour , if a borrower fails to pay on time for several times so it turns to collection , so it has no meaning to include it among predictors)"
      ]
    },
    {
      "cell_type": "code",
      "metadata": {
        "id": "w2LfXlspWaL1"
      },
      "source": [
        "funded_merged.drop(columns=['loanStatus','applicationDate','paymentDate','check','not_yet','approved','loanAmount','originatedDate'\n",
        "        ,'originated' , 'isFunded' , 'clarityFraudId' ,'underwritingid' , 'future_payments' ] , inplace=True)"
      ],
      "execution_count": null,
      "outputs": []
    },
    {
      "cell_type": "code",
      "metadata": {
        "id": "E_CWM3vCPu1_",
        "colab": {
          "base_uri": "https://localhost:8080/"
        },
        "outputId": "0b9521cc-a4be-4172-cd54-91fa2e99ab88"
      },
      "source": [
        "funded_merged.info()\n"
      ],
      "execution_count": null,
      "outputs": [
        {
          "output_type": "stream",
          "text": [
            "<class 'pandas.core.frame.DataFrame'>\n",
            "Int64Index: 37170 entries, 0 to 37169\n",
            "Data columns (total 44 columns):\n",
            " #   Column                            Non-Null Count  Dtype          \n",
            "---  ------                            --------------  -----          \n",
            " 0   loanId                            37170 non-null  object         \n",
            " 1   anon_ssn                          37170 non-null  object         \n",
            " 2   payFrequency                      37170 non-null  object         \n",
            " 3   apr                               37170 non-null  float64        \n",
            " 4   nPaidOff                          37149 non-null  float64        \n",
            " 5   originallyScheduledPaymentAmount  37170 non-null  float64        \n",
            " 6   state                             37170 non-null  object         \n",
            " 7   leadType                          37170 non-null  object         \n",
            " 8   leadCost                          37170 non-null  int64          \n",
            " 9   fpStatus                          37170 non-null  object         \n",
            " 10  hasCF                             37170 non-null  int64          \n",
            " 11  checked_payments                  37170 non-null  float64        \n",
            " 12  installmentIndex                  37170 non-null  int64          \n",
            " 13  loanStatus_charged off paid off   7569 non-null   float64        \n",
            " 14  loanStatus_external collection    7569 non-null   float64        \n",
            " 15  loanStatus_paid off loan          7569 non-null   float64        \n",
            " 16  loanStatus_settlement paid off    7569 non-null   float64        \n",
            " 17  n_withdrawn                       5890 non-null   float64        \n",
            " 18  n_rejected                        5890 non-null   float64        \n",
            " 19  CF.fs.bof_ssn_date_unverified     37161 non-null  float64        \n",
            " 20  CF.fs.bof_ssn_deceased            37161 non-null  float64        \n",
            " 21  CF.fs.credit_prior_age_18         37161 non-null  float64        \n",
            " 22  CF.fs.credit_prior_ssn_date       37161 non-null  float64        \n",
            " 23  CF.fs.dl_format_invalid           37161 non-null  float64        \n",
            " 24  CF.fs.in_ssn_date_unverified      37161 non-null  float64        \n",
            " 25  CF.fs.in_ssn_deceased             30552 non-null  object         \n",
            " 26  CF.fs.in_ssn_invalid              37161 non-null  float64        \n",
            " 27  CF.fs.inq_addr_high_risk          30552 non-null  object         \n",
            " 28  CF.fs.inq_addr_non_residential    30552 non-null  object         \n",
            " 29  CF.fs.inq_age_lt_ssn_date         30552 non-null  object         \n",
            " 30  CF.fs.inq_gt_3_in_last_30_days    30552 non-null  object         \n",
            " 31  CF.fs.max_num_ssn_ba              30552 non-null  object         \n",
            " 32  CF.fs.onf_addr_high_risk          30552 non-null  object         \n",
            " 33  CF.fs.phone_inconsistent_w_state  30552 non-null  object         \n",
            " 34  CF.fs.ssn_frequent_for_another    30552 non-null  object         \n",
            " 35  CF.fs.work_num_prev_home_num      30552 non-null  object         \n",
            " 36  CF.inquiry.10_mins_ago            30552 non-null  object         \n",
            " 37  CF.match.ssn_dob_reason_code      3390 non-null   object         \n",
            " 38  CF.match.phone_match_type         3390 non-null   object         \n",
            " 39  CF.match.ssndobmatch              37161 non-null  float64        \n",
            " 40  clearFraudScore                   30494 non-null  float64        \n",
            " 41  loan_term                         37170 non-null  timedelta64[ns]\n",
            " 42  outstanding_pct                   37170 non-null  float64        \n",
            " 43  fees_pct                          37170 non-null  float64        \n",
            "dtypes: float64(21), int64(3), object(19), timedelta64[ns](1)\n",
            "memory usage: 12.8+ MB\n"
          ],
          "name": "stdout"
        }
      ]
    },
    {
      "cell_type": "markdown",
      "metadata": {
        "id": "vYo1UrlKYRUs"
      },
      "source": [
        "There is still missing values in the fields related to CL , we replace them by the general average"
      ]
    },
    {
      "cell_type": "code",
      "metadata": {
        "id": "BxCe-eptV-6Q"
      },
      "source": [
        "funded_merged.loc[: ,replace_missing_fields].fillna(funded_merged.loc[: ,replace_missing_fields].mean(), inplace=True)"
      ],
      "execution_count": null,
      "outputs": []
    },
    {
      "cell_type": "markdown",
      "metadata": {
        "id": "5ftaETlhPi8A"
      },
      "source": [
        "we notice that we still have missing values \n",
        "several of them were due to meging (i.e only 7569 loans their borrowers had borrowed loans before) \n",
        "\n",
        "### this indicates that we may have made a better prediction if we had more info about borrower , his income , credit history , and so on.\n",
        "\n",
        "Any ways , regarding missing values remaining we will have to replace them with zero after taking one hot encoding for categorical variables"
      ]
    },
    {
      "cell_type": "markdown",
      "metadata": {
        "id": "l6cPWu5Jg4ez"
      },
      "source": [
        "### D - Encoding categorical predictors"
      ]
    },
    {
      "cell_type": "code",
      "metadata": {
        "id": "ZzrRlMPjEBdO"
      },
      "source": [
        "scale=funded_merged.select_dtypes(exclude=['object']).columns "
      ],
      "execution_count": null,
      "outputs": []
    },
    {
      "cell_type": "code",
      "metadata": {
        "id": "PUnSi3GezMQ2"
      },
      "source": [
        "# getting the list of non scale variables that we newed in prediction to encode them\n",
        "non_scale=list(set(funded_merged.select_dtypes(include=['object']).columns )- set(['loanId','anon_ssn','applicationDate','paymentDate','check','isCollection','not_yet','approved','loanAmount','originatedDate',\n",
        "        'apr','originated' , 'isFunded' , 'clarityFraudId' ,'underwritingid' , 'future_payments','checked_payments' ,'payment_pct']))"
      ],
      "execution_count": null,
      "outputs": []
    },
    {
      "cell_type": "code",
      "metadata": {
        "id": "dPdfV_-XrJvb"
      },
      "source": [
        "# generating one hot encoding for categorical variables\n",
        "funded_final=pd.get_dummies(funded_merged,columns=non_scale, drop_first=True) .replace(np.nan,0)"
      ],
      "execution_count": null,
      "outputs": []
    },
    {
      "cell_type": "code",
      "metadata": {
        "id": "0sCB-h6Rbqym"
      },
      "source": [
        "funded_final.index = funded_final['loanId']\n",
        "funded_final.drop(columns=['loanId','anon_ssn'] , inplace=True)"
      ],
      "execution_count": null,
      "outputs": []
    },
    {
      "cell_type": "code",
      "metadata": {
        "id": "3PNfgNe3i9ur"
      },
      "source": [
        "funded_final['loan_term']=funded_final['loan_term']/ (np.timedelta64(1, 's')*(60*60*24))"
      ],
      "execution_count": null,
      "outputs": []
    },
    {
      "cell_type": "code",
      "metadata": {
        "id": "nEqPY9Mubww-",
        "colab": {
          "base_uri": "https://localhost:8080/",
          "height": 357
        },
        "outputId": "501bca9c-edad-4dc0-a9d1-8aab2255c9c8"
      },
      "source": [
        "funded_final.head()"
      ],
      "execution_count": null,
      "outputs": [
        {
          "output_type": "execute_result",
          "data": {
            "text/html": [
              "<div>\n",
              "<style scoped>\n",
              "    .dataframe tbody tr th:only-of-type {\n",
              "        vertical-align: middle;\n",
              "    }\n",
              "\n",
              "    .dataframe tbody tr th {\n",
              "        vertical-align: top;\n",
              "    }\n",
              "\n",
              "    .dataframe thead th {\n",
              "        text-align: right;\n",
              "    }\n",
              "</style>\n",
              "<table border=\"1\" class=\"dataframe\">\n",
              "  <thead>\n",
              "    <tr style=\"text-align: right;\">\n",
              "      <th></th>\n",
              "      <th>apr</th>\n",
              "      <th>nPaidOff</th>\n",
              "      <th>originallyScheduledPaymentAmount</th>\n",
              "      <th>leadCost</th>\n",
              "      <th>hasCF</th>\n",
              "      <th>checked_payments</th>\n",
              "      <th>installmentIndex</th>\n",
              "      <th>loanStatus_charged off paid off</th>\n",
              "      <th>loanStatus_external collection</th>\n",
              "      <th>loanStatus_paid off loan</th>\n",
              "      <th>loanStatus_settlement paid off</th>\n",
              "      <th>n_withdrawn</th>\n",
              "      <th>n_rejected</th>\n",
              "      <th>CF.fs.bof_ssn_date_unverified</th>\n",
              "      <th>CF.fs.bof_ssn_deceased</th>\n",
              "      <th>CF.fs.credit_prior_age_18</th>\n",
              "      <th>CF.fs.credit_prior_ssn_date</th>\n",
              "      <th>CF.fs.dl_format_invalid</th>\n",
              "      <th>CF.fs.in_ssn_date_unverified</th>\n",
              "      <th>CF.fs.in_ssn_invalid</th>\n",
              "      <th>CF.match.ssndobmatch</th>\n",
              "      <th>clearFraudScore</th>\n",
              "      <th>loan_term</th>\n",
              "      <th>outstanding_pct</th>\n",
              "      <th>fees_pct</th>\n",
              "      <th>CF.fs.onf_addr_high_risk_True</th>\n",
              "      <th>state_CA</th>\n",
              "      <th>state_CO</th>\n",
              "      <th>state_CT</th>\n",
              "      <th>state_FL</th>\n",
              "      <th>state_IL</th>\n",
              "      <th>state_IN</th>\n",
              "      <th>state_MI</th>\n",
              "      <th>state_MN</th>\n",
              "      <th>state_MO</th>\n",
              "      <th>state_NC</th>\n",
              "      <th>state_NJ</th>\n",
              "      <th>state_NV</th>\n",
              "      <th>state_OH</th>\n",
              "      <th>state_PA</th>\n",
              "      <th>state_SC</th>\n",
              "      <th>state_TN</th>\n",
              "      <th>state_TX</th>\n",
              "      <th>state_VA</th>\n",
              "      <th>state_WI</th>\n",
              "      <th>state_other</th>\n",
              "      <th>CF.fs.in_ssn_deceased_True</th>\n",
              "      <th>CF.fs.inq_addr_non_residential_True</th>\n",
              "      <th>fpStatus_Checked</th>\n",
              "      <th>fpStatus_Pending</th>\n",
              "      <th>fpStatus_Rejected</th>\n",
              "      <th>fpStatus_Returned</th>\n",
              "      <th>fpStatus_Skipped</th>\n",
              "      <th>payFrequency_I</th>\n",
              "      <th>payFrequency_M</th>\n",
              "      <th>payFrequency_S</th>\n",
              "      <th>payFrequency_W</th>\n",
              "      <th>CF.fs.inq_addr_high_risk_True</th>\n",
              "      <th>leadType_california</th>\n",
              "      <th>leadType_express</th>\n",
              "      <th>leadType_lead</th>\n",
              "      <th>leadType_lionpay</th>\n",
              "      <th>leadType_organic</th>\n",
              "      <th>leadType_prescreen</th>\n",
              "      <th>leadType_rc_returning</th>\n",
              "      <th>leadType_repeat</th>\n",
              "      <th>CF.fs.phone_inconsistent_w_state_True</th>\n",
              "      <th>CF.fs.inq_gt_3_in_last_30_days_True</th>\n",
              "      <th>CF.fs.inq_age_lt_ssn_date_True</th>\n",
              "    </tr>\n",
              "    <tr>\n",
              "      <th>loanId</th>\n",
              "      <th></th>\n",
              "      <th></th>\n",
              "      <th></th>\n",
              "      <th></th>\n",
              "      <th></th>\n",
              "      <th></th>\n",
              "      <th></th>\n",
              "      <th></th>\n",
              "      <th></th>\n",
              "      <th></th>\n",
              "      <th></th>\n",
              "      <th></th>\n",
              "      <th></th>\n",
              "      <th></th>\n",
              "      <th></th>\n",
              "      <th></th>\n",
              "      <th></th>\n",
              "      <th></th>\n",
              "      <th></th>\n",
              "      <th></th>\n",
              "      <th></th>\n",
              "      <th></th>\n",
              "      <th></th>\n",
              "      <th></th>\n",
              "      <th></th>\n",
              "      <th></th>\n",
              "      <th></th>\n",
              "      <th></th>\n",
              "      <th></th>\n",
              "      <th></th>\n",
              "      <th></th>\n",
              "      <th></th>\n",
              "      <th></th>\n",
              "      <th></th>\n",
              "      <th></th>\n",
              "      <th></th>\n",
              "      <th></th>\n",
              "      <th></th>\n",
              "      <th></th>\n",
              "      <th></th>\n",
              "      <th></th>\n",
              "      <th></th>\n",
              "      <th></th>\n",
              "      <th></th>\n",
              "      <th></th>\n",
              "      <th></th>\n",
              "      <th></th>\n",
              "      <th></th>\n",
              "      <th></th>\n",
              "      <th></th>\n",
              "      <th></th>\n",
              "      <th></th>\n",
              "      <th></th>\n",
              "      <th></th>\n",
              "      <th></th>\n",
              "      <th></th>\n",
              "      <th></th>\n",
              "      <th></th>\n",
              "      <th></th>\n",
              "      <th></th>\n",
              "      <th></th>\n",
              "      <th></th>\n",
              "      <th></th>\n",
              "      <th></th>\n",
              "      <th></th>\n",
              "      <th></th>\n",
              "      <th></th>\n",
              "      <th></th>\n",
              "      <th></th>\n",
              "    </tr>\n",
              "  </thead>\n",
              "  <tbody>\n",
              "    <tr>\n",
              "      <th>LL-I-06644937</th>\n",
              "      <td>199.0</td>\n",
              "      <td>0.0</td>\n",
              "      <td>6395.19</td>\n",
              "      <td>0</td>\n",
              "      <td>1</td>\n",
              "      <td>6287.08</td>\n",
              "      <td>25</td>\n",
              "      <td>0.0</td>\n",
              "      <td>0.0</td>\n",
              "      <td>0.0</td>\n",
              "      <td>0.0</td>\n",
              "      <td>0.0</td>\n",
              "      <td>0.0</td>\n",
              "      <td>3.0</td>\n",
              "      <td>3.0</td>\n",
              "      <td>3.0</td>\n",
              "      <td>3.0</td>\n",
              "      <td>3.0</td>\n",
              "      <td>4.0</td>\n",
              "      <td>0.0</td>\n",
              "      <td>5.0</td>\n",
              "      <td>879.0</td>\n",
              "      <td>330.0</td>\n",
              "      <td>1.000000</td>\n",
              "      <td>0.530897</td>\n",
              "      <td>0</td>\n",
              "      <td>1</td>\n",
              "      <td>0</td>\n",
              "      <td>0</td>\n",
              "      <td>0</td>\n",
              "      <td>0</td>\n",
              "      <td>0</td>\n",
              "      <td>0</td>\n",
              "      <td>0</td>\n",
              "      <td>0</td>\n",
              "      <td>0</td>\n",
              "      <td>0</td>\n",
              "      <td>0</td>\n",
              "      <td>0</td>\n",
              "      <td>0</td>\n",
              "      <td>0</td>\n",
              "      <td>0</td>\n",
              "      <td>0</td>\n",
              "      <td>0</td>\n",
              "      <td>0</td>\n",
              "      <td>0</td>\n",
              "      <td>0</td>\n",
              "      <td>0</td>\n",
              "      <td>1</td>\n",
              "      <td>0</td>\n",
              "      <td>0</td>\n",
              "      <td>0</td>\n",
              "      <td>0</td>\n",
              "      <td>0</td>\n",
              "      <td>0</td>\n",
              "      <td>0</td>\n",
              "      <td>0</td>\n",
              "      <td>0</td>\n",
              "      <td>0</td>\n",
              "      <td>0</td>\n",
              "      <td>0</td>\n",
              "      <td>0</td>\n",
              "      <td>0</td>\n",
              "      <td>1</td>\n",
              "      <td>0</td>\n",
              "      <td>0</td>\n",
              "      <td>0</td>\n",
              "      <td>0</td>\n",
              "      <td>0</td>\n",
              "    </tr>\n",
              "    <tr>\n",
              "      <th>LL-I-09965603</th>\n",
              "      <td>325.0</td>\n",
              "      <td>0.0</td>\n",
              "      <td>4865.67</td>\n",
              "      <td>0</td>\n",
              "      <td>1</td>\n",
              "      <td>373.18</td>\n",
              "      <td>26</td>\n",
              "      <td>0.0</td>\n",
              "      <td>0.0</td>\n",
              "      <td>0.0</td>\n",
              "      <td>0.0</td>\n",
              "      <td>0.0</td>\n",
              "      <td>0.0</td>\n",
              "      <td>2.0</td>\n",
              "      <td>2.0</td>\n",
              "      <td>2.0</td>\n",
              "      <td>2.0</td>\n",
              "      <td>2.0</td>\n",
              "      <td>4.0</td>\n",
              "      <td>1.0</td>\n",
              "      <td>15.0</td>\n",
              "      <td>748.0</td>\n",
              "      <td>361.0</td>\n",
              "      <td>1.000000</td>\n",
              "      <td>0.691718</td>\n",
              "      <td>0</td>\n",
              "      <td>0</td>\n",
              "      <td>0</td>\n",
              "      <td>0</td>\n",
              "      <td>0</td>\n",
              "      <td>0</td>\n",
              "      <td>0</td>\n",
              "      <td>0</td>\n",
              "      <td>0</td>\n",
              "      <td>0</td>\n",
              "      <td>0</td>\n",
              "      <td>0</td>\n",
              "      <td>0</td>\n",
              "      <td>1</td>\n",
              "      <td>0</td>\n",
              "      <td>0</td>\n",
              "      <td>0</td>\n",
              "      <td>0</td>\n",
              "      <td>0</td>\n",
              "      <td>0</td>\n",
              "      <td>0</td>\n",
              "      <td>0</td>\n",
              "      <td>0</td>\n",
              "      <td>1</td>\n",
              "      <td>0</td>\n",
              "      <td>0</td>\n",
              "      <td>0</td>\n",
              "      <td>0</td>\n",
              "      <td>0</td>\n",
              "      <td>0</td>\n",
              "      <td>0</td>\n",
              "      <td>0</td>\n",
              "      <td>0</td>\n",
              "      <td>0</td>\n",
              "      <td>0</td>\n",
              "      <td>0</td>\n",
              "      <td>0</td>\n",
              "      <td>0</td>\n",
              "      <td>1</td>\n",
              "      <td>0</td>\n",
              "      <td>0</td>\n",
              "      <td>0</td>\n",
              "      <td>0</td>\n",
              "      <td>0</td>\n",
              "    </tr>\n",
              "    <tr>\n",
              "      <th>LL-I-11872855</th>\n",
              "      <td>199.0</td>\n",
              "      <td>0.0</td>\n",
              "      <td>6611.25</td>\n",
              "      <td>0</td>\n",
              "      <td>1</td>\n",
              "      <td>3230.70</td>\n",
              "      <td>12</td>\n",
              "      <td>0.0</td>\n",
              "      <td>0.0</td>\n",
              "      <td>0.0</td>\n",
              "      <td>0.0</td>\n",
              "      <td>0.0</td>\n",
              "      <td>0.0</td>\n",
              "      <td>4.0</td>\n",
              "      <td>2.0</td>\n",
              "      <td>2.0</td>\n",
              "      <td>2.0</td>\n",
              "      <td>2.0</td>\n",
              "      <td>9.0</td>\n",
              "      <td>0.0</td>\n",
              "      <td>5.0</td>\n",
              "      <td>824.0</td>\n",
              "      <td>358.0</td>\n",
              "      <td>0.511356</td>\n",
              "      <td>0.546228</td>\n",
              "      <td>0</td>\n",
              "      <td>1</td>\n",
              "      <td>0</td>\n",
              "      <td>0</td>\n",
              "      <td>0</td>\n",
              "      <td>0</td>\n",
              "      <td>0</td>\n",
              "      <td>0</td>\n",
              "      <td>0</td>\n",
              "      <td>0</td>\n",
              "      <td>0</td>\n",
              "      <td>0</td>\n",
              "      <td>0</td>\n",
              "      <td>0</td>\n",
              "      <td>0</td>\n",
              "      <td>0</td>\n",
              "      <td>0</td>\n",
              "      <td>0</td>\n",
              "      <td>0</td>\n",
              "      <td>0</td>\n",
              "      <td>0</td>\n",
              "      <td>0</td>\n",
              "      <td>0</td>\n",
              "      <td>1</td>\n",
              "      <td>0</td>\n",
              "      <td>0</td>\n",
              "      <td>0</td>\n",
              "      <td>0</td>\n",
              "      <td>0</td>\n",
              "      <td>1</td>\n",
              "      <td>0</td>\n",
              "      <td>0</td>\n",
              "      <td>0</td>\n",
              "      <td>0</td>\n",
              "      <td>0</td>\n",
              "      <td>0</td>\n",
              "      <td>0</td>\n",
              "      <td>0</td>\n",
              "      <td>1</td>\n",
              "      <td>0</td>\n",
              "      <td>0</td>\n",
              "      <td>0</td>\n",
              "      <td>0</td>\n",
              "      <td>0</td>\n",
              "    </tr>\n",
              "    <tr>\n",
              "      <th>LL-I-08473772</th>\n",
              "      <td>360.0</td>\n",
              "      <td>0.0</td>\n",
              "      <td>791.26</td>\n",
              "      <td>0</td>\n",
              "      <td>1</td>\n",
              "      <td>408.29</td>\n",
              "      <td>14</td>\n",
              "      <td>0.0</td>\n",
              "      <td>0.0</td>\n",
              "      <td>1.0</td>\n",
              "      <td>0.0</td>\n",
              "      <td>0.0</td>\n",
              "      <td>0.0</td>\n",
              "      <td>3.0</td>\n",
              "      <td>3.0</td>\n",
              "      <td>3.0</td>\n",
              "      <td>3.0</td>\n",
              "      <td>3.0</td>\n",
              "      <td>4.0</td>\n",
              "      <td>2.0</td>\n",
              "      <td>5.0</td>\n",
              "      <td>774.0</td>\n",
              "      <td>184.0</td>\n",
              "      <td>1.000000</td>\n",
              "      <td>0.526072</td>\n",
              "      <td>0</td>\n",
              "      <td>0</td>\n",
              "      <td>0</td>\n",
              "      <td>0</td>\n",
              "      <td>0</td>\n",
              "      <td>1</td>\n",
              "      <td>0</td>\n",
              "      <td>0</td>\n",
              "      <td>0</td>\n",
              "      <td>0</td>\n",
              "      <td>0</td>\n",
              "      <td>0</td>\n",
              "      <td>0</td>\n",
              "      <td>0</td>\n",
              "      <td>0</td>\n",
              "      <td>0</td>\n",
              "      <td>0</td>\n",
              "      <td>0</td>\n",
              "      <td>0</td>\n",
              "      <td>0</td>\n",
              "      <td>0</td>\n",
              "      <td>0</td>\n",
              "      <td>0</td>\n",
              "      <td>1</td>\n",
              "      <td>0</td>\n",
              "      <td>0</td>\n",
              "      <td>0</td>\n",
              "      <td>0</td>\n",
              "      <td>0</td>\n",
              "      <td>0</td>\n",
              "      <td>0</td>\n",
              "      <td>0</td>\n",
              "      <td>0</td>\n",
              "      <td>0</td>\n",
              "      <td>0</td>\n",
              "      <td>0</td>\n",
              "      <td>0</td>\n",
              "      <td>0</td>\n",
              "      <td>1</td>\n",
              "      <td>0</td>\n",
              "      <td>0</td>\n",
              "      <td>0</td>\n",
              "      <td>0</td>\n",
              "      <td>0</td>\n",
              "    </tr>\n",
              "    <tr>\n",
              "      <th>LL-I-11462356</th>\n",
              "      <td>199.0</td>\n",
              "      <td>0.0</td>\n",
              "      <td>6651.74</td>\n",
              "      <td>0</td>\n",
              "      <td>1</td>\n",
              "      <td>2250.63</td>\n",
              "      <td>27</td>\n",
              "      <td>0.0</td>\n",
              "      <td>0.0</td>\n",
              "      <td>0.0</td>\n",
              "      <td>0.0</td>\n",
              "      <td>0.0</td>\n",
              "      <td>0.0</td>\n",
              "      <td>2.0</td>\n",
              "      <td>2.0</td>\n",
              "      <td>2.0</td>\n",
              "      <td>2.0</td>\n",
              "      <td>2.0</td>\n",
              "      <td>5.0</td>\n",
              "      <td>1.0</td>\n",
              "      <td>5.0</td>\n",
              "      <td>831.0</td>\n",
              "      <td>379.0</td>\n",
              "      <td>1.000000</td>\n",
              "      <td>0.548990</td>\n",
              "      <td>0</td>\n",
              "      <td>1</td>\n",
              "      <td>0</td>\n",
              "      <td>0</td>\n",
              "      <td>0</td>\n",
              "      <td>0</td>\n",
              "      <td>0</td>\n",
              "      <td>0</td>\n",
              "      <td>0</td>\n",
              "      <td>0</td>\n",
              "      <td>0</td>\n",
              "      <td>0</td>\n",
              "      <td>0</td>\n",
              "      <td>0</td>\n",
              "      <td>0</td>\n",
              "      <td>0</td>\n",
              "      <td>0</td>\n",
              "      <td>0</td>\n",
              "      <td>0</td>\n",
              "      <td>0</td>\n",
              "      <td>0</td>\n",
              "      <td>0</td>\n",
              "      <td>0</td>\n",
              "      <td>1</td>\n",
              "      <td>0</td>\n",
              "      <td>0</td>\n",
              "      <td>0</td>\n",
              "      <td>0</td>\n",
              "      <td>0</td>\n",
              "      <td>0</td>\n",
              "      <td>0</td>\n",
              "      <td>0</td>\n",
              "      <td>0</td>\n",
              "      <td>0</td>\n",
              "      <td>0</td>\n",
              "      <td>0</td>\n",
              "      <td>0</td>\n",
              "      <td>0</td>\n",
              "      <td>1</td>\n",
              "      <td>0</td>\n",
              "      <td>0</td>\n",
              "      <td>0</td>\n",
              "      <td>0</td>\n",
              "      <td>0</td>\n",
              "    </tr>\n",
              "  </tbody>\n",
              "</table>\n",
              "</div>"
            ],
            "text/plain": [
              "                 apr  ...  CF.fs.inq_age_lt_ssn_date_True\n",
              "loanId                ...                                \n",
              "LL-I-06644937  199.0  ...                               0\n",
              "LL-I-09965603  325.0  ...                               0\n",
              "LL-I-11872855  199.0  ...                               0\n",
              "LL-I-08473772  360.0  ...                               0\n",
              "LL-I-11462356  199.0  ...                               0\n",
              "\n",
              "[5 rows x 69 columns]"
            ]
          },
          "metadata": {
            "tags": []
          },
          "execution_count": 83
        }
      ]
    },
    {
      "cell_type": "markdown",
      "metadata": {
        "id": "aYfbBzmFRJIg"
      },
      "source": [
        "As mentioned above , before prediction we will need to take a power transformation to reduce skewness in our scale variable \n",
        "\n",
        "Let's check how this affects our dependent variable (I tried to make the dependent variable to be percentage of payment \n",
        "\n",
        "payment pct = (checked payment/ originaly scheduled payment amount - future payment)\n",
        "\n",
        " but it resulted in a lesser accuracy so i used checked payment instead"
      ]
    },
    {
      "cell_type": "markdown",
      "metadata": {
        "id": "9HeVyseXhaSV"
      },
      "source": [
        "## Stage 3 : Prediction and model testing"
      ]
    },
    {
      "cell_type": "markdown",
      "metadata": {
        "id": "m_0FxfBfhcJ-"
      },
      "source": [
        "### A - checking variability of dependent variable across selected features"
      ]
    },
    {
      "cell_type": "code",
      "metadata": {
        "id": "u3YeKPuWQQwN",
        "colab": {
          "base_uri": "https://localhost:8080/",
          "height": 297
        },
        "outputId": "a43764a3-c375-479f-b26d-db53e678e69b"
      },
      "source": [
        "sns.histplot(funded_merged['checked_payments'])"
      ],
      "execution_count": null,
      "outputs": [
        {
          "output_type": "execute_result",
          "data": {
            "text/plain": [
              "<matplotlib.axes._subplots.AxesSubplot at 0x7fc31b1ac898>"
            ]
          },
          "metadata": {
            "tags": []
          },
          "execution_count": 84
        },
        {
          "output_type": "display_data",
          "data": {
            "image/png": "[encoded data removed]",
            "text/plain": [
              "<Figure size 432x288 with 1 Axes>"
            ]
          },
          "metadata": {
            "tags": [],
            "needs_background": "light"
          }
        }
      ]
    },
    {
      "cell_type": "code",
      "metadata": {
        "id": "9Hw8LM-g1an8"
      },
      "source": [
        "pt = preprocessing.PowerTransformer(method='yeo-johnson', standardize=False)"
      ],
      "execution_count": null,
      "outputs": []
    },
    {
      "cell_type": "code",
      "metadata": {
        "id": "DAXJjWd1MOPC",
        "colab": {
          "base_uri": "https://localhost:8080/",
          "height": 282
        },
        "outputId": "e1d751cd-5fc3-46d6-a558-3ffd048842ac"
      },
      "source": [
        "Y = (funded_merged['checked_payments']).to_numpy().reshape((len(funded_merged['checked_payments']),1))\n",
        "\n",
        "Y=pt.fit_transform(Y )\n",
        "sns.histplot(Y)"
      ],
      "execution_count": null,
      "outputs": [
        {
          "output_type": "execute_result",
          "data": {
            "text/plain": [
              "<matplotlib.axes._subplots.AxesSubplot at 0x7fc31abe5d30>"
            ]
          },
          "metadata": {
            "tags": []
          },
          "execution_count": 86
        },
        {
          "output_type": "display_data",
          "data": {
            "image/png": "[encoded data removed]",
            "text/plain": [
              "<Figure size 432x288 with 1 Axes>"
            ]
          },
          "metadata": {
            "tags": [],
            "needs_background": "light"
          }
        }
      ]
    },
    {
      "cell_type": "markdown",
      "metadata": {
        "id": "adZ6nDmkRX2G"
      },
      "source": [
        "before modeling , we need to make an indicator about how predictors affect our dependent variales\n",
        "\n",
        "we run anova test to test significance of the relationship , then draw a plot to have an inferrence about pattern of relationship"
      ]
    },
    {
      "cell_type": "markdown",
      "metadata": {
        "id": "NFDIIxkUZOOj"
      },
      "source": [
        "#### checked payment vs fpStatus"
      ]
    },
    {
      "cell_type": "code",
      "metadata": {
        "id": "v1GtFyr3_pNg",
        "colab": {
          "base_uri": "https://localhost:8080/",
          "height": 111
        },
        "outputId": "9e4ba85b-101d-4db0-d0f1-5f3601500207"
      },
      "source": [
        "\n",
        "sm.stats.anova_lm(ols('{} ~ fpStatus'.format('checked_payments'), data=funded_merged).fit())"
      ],
      "execution_count": null,
      "outputs": [
        {
          "output_type": "execute_result",
          "data": {
            "text/html": [
              "<div>\n",
              "<style scoped>\n",
              "    .dataframe tbody tr th:only-of-type {\n",
              "        vertical-align: middle;\n",
              "    }\n",
              "\n",
              "    .dataframe tbody tr th {\n",
              "        vertical-align: top;\n",
              "    }\n",
              "\n",
              "    .dataframe thead th {\n",
              "        text-align: right;\n",
              "    }\n",
              "</style>\n",
              "<table border=\"1\" class=\"dataframe\">\n",
              "  <thead>\n",
              "    <tr style=\"text-align: right;\">\n",
              "      <th></th>\n",
              "      <th>df</th>\n",
              "      <th>sum_sq</th>\n",
              "      <th>mean_sq</th>\n",
              "      <th>F</th>\n",
              "      <th>PR(&gt;F)</th>\n",
              "    </tr>\n",
              "  </thead>\n",
              "  <tbody>\n",
              "    <tr>\n",
              "      <th>fpStatus</th>\n",
              "      <td>5.0</td>\n",
              "      <td>1.797242e+09</td>\n",
              "      <td>3.594484e+08</td>\n",
              "      <td>756.556553</td>\n",
              "      <td>0.0</td>\n",
              "    </tr>\n",
              "    <tr>\n",
              "      <th>Residual</th>\n",
              "      <td>37164.0</td>\n",
              "      <td>1.765703e+10</td>\n",
              "      <td>4.751110e+05</td>\n",
              "      <td>NaN</td>\n",
              "      <td>NaN</td>\n",
              "    </tr>\n",
              "  </tbody>\n",
              "</table>\n",
              "</div>"
            ],
            "text/plain": [
              "               df        sum_sq       mean_sq           F  PR(>F)\n",
              "fpStatus      5.0  1.797242e+09  3.594484e+08  756.556553     0.0\n",
              "Residual  37164.0  1.765703e+10  4.751110e+05         NaN     NaN"
            ]
          },
          "metadata": {
            "tags": []
          },
          "execution_count": 87
        }
      ]
    },
    {
      "cell_type": "code",
      "metadata": {
        "id": "Gy73lENoAM-v",
        "colab": {
          "base_uri": "https://localhost:8080/",
          "height": 336
        },
        "outputId": "cbdc08ae-7a4c-4a31-87b5-50185bcbe2a6"
      },
      "source": [
        "funded_merged.groupby('fpStatus').mean()['checked_payments'].plot(kind='bar')"
      ],
      "execution_count": null,
      "outputs": [
        {
          "output_type": "execute_result",
          "data": {
            "text/plain": [
              "<matplotlib.axes._subplots.AxesSubplot at 0x7fc31b00ddd8>"
            ]
          },
          "metadata": {
            "tags": []
          },
          "execution_count": 88
        },
        {
          "output_type": "display_data",
          "data": {
            "image/png": "[encoded data removed]",
            "text/plain": [
              "<Figure size 432x288 with 1 Axes>"
            ]
          },
          "metadata": {
            "tags": [],
            "needs_background": "light"
          }
        }
      ]
    },
    {
      "cell_type": "markdown",
      "metadata": {
        "id": "ag6PhOjJVmk1"
      },
      "source": [
        "Here we notice a significant difference of check payments across fpStatus levels we notice that the least average check payment comes when the first payment is rejected or returned , while the highest is if the first payment is checked"
      ]
    },
    {
      "cell_type": "markdown",
      "metadata": {
        "id": "D4TI4txEZUPu"
      },
      "source": [
        "#### checked payment vs state"
      ]
    },
    {
      "cell_type": "code",
      "metadata": {
        "id": "XAb-gQ3ASGAx",
        "colab": {
          "base_uri": "https://localhost:8080/",
          "height": 111
        },
        "outputId": "76c1dcea-f6ea-4345-c5e8-ae24c728f08d"
      },
      "source": [
        "sm.stats.anova_lm(ols('{} ~ state'.format('checked_payments'), data=funded_merged).fit())"
      ],
      "execution_count": null,
      "outputs": [
        {
          "output_type": "execute_result",
          "data": {
            "text/html": [
              "<div>\n",
              "<style scoped>\n",
              "    .dataframe tbody tr th:only-of-type {\n",
              "        vertical-align: middle;\n",
              "    }\n",
              "\n",
              "    .dataframe tbody tr th {\n",
              "        vertical-align: top;\n",
              "    }\n",
              "\n",
              "    .dataframe thead th {\n",
              "        text-align: right;\n",
              "    }\n",
              "</style>\n",
              "<table border=\"1\" class=\"dataframe\">\n",
              "  <thead>\n",
              "    <tr style=\"text-align: right;\">\n",
              "      <th></th>\n",
              "      <th>df</th>\n",
              "      <th>sum_sq</th>\n",
              "      <th>mean_sq</th>\n",
              "      <th>F</th>\n",
              "      <th>PR(&gt;F)</th>\n",
              "    </tr>\n",
              "  </thead>\n",
              "  <tbody>\n",
              "    <tr>\n",
              "      <th>state</th>\n",
              "      <td>20.0</td>\n",
              "      <td>2.022148e+09</td>\n",
              "      <td>1.011074e+08</td>\n",
              "      <td>215.466566</td>\n",
              "      <td>0.0</td>\n",
              "    </tr>\n",
              "    <tr>\n",
              "      <th>Residual</th>\n",
              "      <td>37149.0</td>\n",
              "      <td>1.743212e+10</td>\n",
              "      <td>4.692487e+05</td>\n",
              "      <td>NaN</td>\n",
              "      <td>NaN</td>\n",
              "    </tr>\n",
              "  </tbody>\n",
              "</table>\n",
              "</div>"
            ],
            "text/plain": [
              "               df        sum_sq       mean_sq           F  PR(>F)\n",
              "state        20.0  2.022148e+09  1.011074e+08  215.466566     0.0\n",
              "Residual  37149.0  1.743212e+10  4.692487e+05         NaN     NaN"
            ]
          },
          "metadata": {
            "tags": []
          },
          "execution_count": 89
        }
      ]
    },
    {
      "cell_type": "code",
      "metadata": {
        "id": "lU-fLhEtSImb",
        "colab": {
          "base_uri": "https://localhost:8080/",
          "height": 313
        },
        "outputId": "f1d9751f-66a0-474e-ec72-305d5efe845d"
      },
      "source": [
        "funded_merged.groupby('state').mean()['checked_payments'].plot(kind='bar')"
      ],
      "execution_count": null,
      "outputs": [
        {
          "output_type": "execute_result",
          "data": {
            "text/plain": [
              "<matplotlib.axes._subplots.AxesSubplot at 0x7fc31b09c358>"
            ]
          },
          "metadata": {
            "tags": []
          },
          "execution_count": 90
        },
        {
          "output_type": "display_data",
          "data": {
            "image/png": "[encoded data removed]",
            "text/plain": [
              "<Figure size 432x288 with 1 Axes>"
            ]
          },
          "metadata": {
            "tags": [],
            "needs_background": "light"
          }
        }
      ]
    },
    {
      "cell_type": "markdown",
      "metadata": {
        "id": "as_HlNwkXeek"
      },
      "source": [
        "we here notice also that the highest average check payment comes from the state \"california\" while least average comes from \"VA\" and \"CO\""
      ]
    },
    {
      "cell_type": "markdown",
      "metadata": {
        "id": "Le0VVqNyZYAQ"
      },
      "source": [
        "#### checked payment vs outstanding pct"
      ]
    },
    {
      "cell_type": "code",
      "metadata": {
        "id": "6bVXCIOmDESC",
        "colab": {
          "base_uri": "https://localhost:8080/",
          "height": 297
        },
        "outputId": "b3e860c6-43a7-4e4e-8669-0b0e5cfc152b"
      },
      "source": [
        "Y=  funded_merged['checked_payments']\n",
        "X = funded_merged['outstanding_pct']\n",
        "results = sm.OLS(Y,sm.add_constant(X)).fit()\n",
        "\n",
        "plt.scatter(X,Y)\n",
        "\n",
        "\n",
        "\n",
        "plt.plot(np.unique(X), np.poly1d(np.polyfit(X, Y, 1))(np.unique(X)))\n",
        "plt.xlabel('outstanding_pct')\n",
        "plt.ylabel('checked_payments')"
      ],
      "execution_count": null,
      "outputs": [
        {
          "output_type": "execute_result",
          "data": {
            "text/plain": [
              "Text(0, 0.5, 'checked_payments')"
            ]
          },
          "metadata": {
            "tags": []
          },
          "execution_count": 91
        },
        {
          "output_type": "display_data",
          "data": {
            "image/png": "[encoded data removed]",
            "text/plain": [
              "<Figure size 432x288 with 1 Axes>"
            ]
          },
          "metadata": {
            "tags": [],
            "needs_background": "light"
          }
        }
      ]
    },
    {
      "cell_type": "markdown",
      "metadata": {
        "id": "_ZZcKuRCZiWo"
      },
      "source": [
        "fom the above we notice the positive relationship between pct of outstanding payment , and checked payment"
      ]
    },
    {
      "cell_type": "markdown",
      "metadata": {
        "id": "V9yY0ZEmhwiv"
      },
      "source": [
        "### B - Transforming Data"
      ]
    },
    {
      "cell_type": "markdown",
      "metadata": {
        "id": "wCNThtI0aB5m"
      },
      "source": [
        "### Then we take a power tranformation for  the dependent variable and the scale predictors to get rid of skewness"
      ]
    },
    {
      "cell_type": "code",
      "metadata": {
        "id": "bT5tuWLwfxAn"
      },
      "source": [
        "from xgboost import XGBRegressor\n",
        "Y = funded_final['checked_payments']\n",
        "\n"
      ],
      "execution_count": null,
      "outputs": []
    },
    {
      "cell_type": "code",
      "metadata": {
        "id": "GkrE6e0SPjd6"
      },
      "source": [
        "X = funded_final.drop(columns=['checked_payments'])"
      ],
      "execution_count": null,
      "outputs": []
    },
    {
      "cell_type": "code",
      "metadata": {
        "id": "TFzM5tlfG7rE"
      },
      "source": [
        " X.loc[:,scale.drop('checked_payments')]=pt.fit_transform(X.loc[:,scale.drop('checked_payments')] )"
      ],
      "execution_count": null,
      "outputs": []
    },
    {
      "cell_type": "code",
      "metadata": {
        "id": "dJ35p6gcqabU"
      },
      "source": [
        "Y = (Y).to_numpy().reshape((len(Y),1))\n",
        "\n",
        "Y=pt.fit_transform(Y )\n"
      ],
      "execution_count": null,
      "outputs": []
    },
    {
      "cell_type": "markdown",
      "metadata": {
        "id": "NY8B1J1Vh4am"
      },
      "source": [
        "### C - Fitting model"
      ]
    },
    {
      "cell_type": "markdown",
      "metadata": {
        "id": "wiOgeiEdasRL"
      },
      "source": [
        "the final step before modeling is to split data into train and test sets to train and test ou model\n"
      ]
    },
    {
      "cell_type": "code",
      "metadata": {
        "id": "AzJVRKfFLNRM"
      },
      "source": [
        "from sklearn.model_selection import train_test_split\n",
        "X_train, X_test, y_train, y_test = train_test_split(X, Y, test_size=0.3)"
      ],
      "execution_count": null,
      "outputs": []
    },
    {
      "cell_type": "markdown",
      "metadata": {
        "id": "P_zJaKwWa5RD"
      },
      "source": [
        "We start by a random forest regression model to have an inferrence about prediction quality and to specify the most important variables in prediction process\n",
        "\n",
        "We take R- squared goodness of fit as a measue of model quality"
      ]
    },
    {
      "cell_type": "code",
      "metadata": {
        "id": "MFSx8InnZEeU",
        "colab": {
          "base_uri": "https://localhost:8080/"
        },
        "outputId": "e49f1843-1b21-4f9c-9243-111779857d9a"
      },
      "source": [
        "\n",
        "from sklearn.ensemble import RandomForestClassifier\n",
        "from sklearn.ensemble import RandomForestRegressor\n",
        "\n",
        "\n",
        "rf = RandomForestRegressor(n_estimators= 50 )\n",
        "rf.fit(X_train, y_train)\n",
        "\n",
        "print('Training Accuracy: {:.2f} '.format(rf.score(X_train, y_train)*100))\n",
        "print('test Accuracy: {:.2f} '.format(rf.score(X_test, y_test)*100))"
      ],
      "execution_count": null,
      "outputs": [
        {
          "output_type": "stream",
          "text": [
            "Training Accuracy: 96.37 \n",
            "test Accuracy: 74.43 \n"
          ],
          "name": "stdout"
        }
      ]
    },
    {
      "cell_type": "markdown",
      "metadata": {
        "id": "7kNb35DjbHzE"
      },
      "source": [
        "Since R- squared threshold is 70% , so 75% on test set is good enough to go ahead \n",
        "\n",
        "WE detect the most important features to go ahead with them and search a better model , since it may be computational expensive , so we need to minimize the size of data\n",
        "\n",
        "### So we rank features according to importance (i.e amount of variability explained in the dependent variable by each feature)\n"
      ]
    },
    {
      "cell_type": "code",
      "metadata": {
        "id": "UcX8EfU_ZfFJ"
      },
      "source": [
        "features = funded_final.drop(columns=['checked_payments']).columns"
      ],
      "execution_count": null,
      "outputs": []
    },
    {
      "cell_type": "code",
      "metadata": {
        "id": "nkK7J10uZg7P"
      },
      "source": [
        "\n",
        "importances = rf.feature_importances_\n",
        "indices = np.argsort(importances) # ranking features according to importance score"
      ],
      "execution_count": null,
      "outputs": []
    },
    {
      "cell_type": "markdown",
      "metadata": {
        "id": "yTxoXNAabtjW"
      },
      "source": [
        "the plot below gives the ank of features according to importance score"
      ]
    },
    {
      "cell_type": "code",
      "metadata": {
        "id": "MJROR_ymZitD",
        "colab": {
          "base_uri": "https://localhost:8080/",
          "height": 587
        },
        "outputId": "aefe2149-87d8-4806-bbee-b47f8597928d"
      },
      "source": [
        "# Plotting importance plot (taking top 30 features)\n",
        "plt.figure(figsize=(20,10))\n",
        "\n",
        "plt.title('Feature Importances')\n",
        "plt.barh(range(len(indices[-30:])), importances[indices][-30:]*100, color='b', align='center')\n",
        "plt.yticks(range(len(indices[-30:])), [get_display(arabic_reshaper.reshape(features[i])) for i in indices[-30:]])\n",
        "plt.xlabel('Relative Importance')\n",
        "plt.show()"
      ],
      "execution_count": null,
      "outputs": [
        {
          "output_type": "display_data",
          "data": {
            "image/png": "[encoded data removed]",
            "text/plain": [
              "<Figure size 1440x720 with 1 Axes>"
            ]
          },
          "metadata": {
            "tags": [],
            "needs_background": "light"
          }
        }
      ]
    },
    {
      "cell_type": "markdown",
      "metadata": {
        "id": "mo293Gjjb3Qx"
      },
      "source": [
        "then , let's compute how much variation explained in the top , let's say , 30 features"
      ]
    },
    {
      "cell_type": "code",
      "metadata": {
        "id": "n_cZiAYZy8o-",
        "colab": {
          "base_uri": "https://localhost:8080/"
        },
        "outputId": "a7400ee6-0070-4086-8549-5804d16a1acb"
      },
      "source": [
        "importances[indices][-30:].sum()"
      ],
      "execution_count": null,
      "outputs": [
        {
          "output_type": "execute_result",
          "data": {
            "text/plain": [
              "0.9782233801139479"
            ]
          },
          "metadata": {
            "tags": []
          },
          "execution_count": 101
        }
      ]
    },
    {
      "cell_type": "markdown",
      "metadata": {
        "id": "z3maMTyacvwP"
      },
      "source": [
        "so we extract them , and rerun the random forest regressor again"
      ]
    },
    {
      "cell_type": "code",
      "metadata": {
        "id": "SGRoSOBpmFvg"
      },
      "source": [
        "X = funded_final.drop(columns=['checked_payments']) #define data again\n",
        "X=X.loc[: , features[indices[-30:]]]#select top importance field"
      ],
      "execution_count": null,
      "outputs": []
    },
    {
      "cell_type": "code",
      "metadata": {
        "id": "xeu-rFVKrhfY"
      },
      "source": [
        "from scipy import stats"
      ],
      "execution_count": null,
      "outputs": []
    },
    {
      "cell_type": "code",
      "metadata": {
        "id": "ykiVsEdNJqZX"
      },
      "source": [
        "selected_features = [ i for i in scale if i in X.columns] #select scale fields to transfom"
      ],
      "execution_count": null,
      "outputs": []
    },
    {
      "cell_type": "code",
      "metadata": {
        "id": "qC8duvce5ehO"
      },
      "source": [
        "X.loc[:,selected_features]=pt.fit_transform(X.loc[:,selected_features] ) # transfom scale fields"
      ],
      "execution_count": null,
      "outputs": []
    },
    {
      "cell_type": "markdown",
      "metadata": {
        "id": "8tRdwuZreNFW"
      },
      "source": [
        "then we rerun model again with selected features"
      ]
    },
    {
      "cell_type": "code",
      "metadata": {
        "id": "5VbDvq1lTHkc"
      },
      "source": [
        "from sklearn.model_selection import train_test_split\n",
        "X_train, X_test, y_train, y_test = train_test_split(X, Y, test_size=0.3)"
      ],
      "execution_count": null,
      "outputs": []
    },
    {
      "cell_type": "code",
      "metadata": {
        "id": "ft8SqF8gTHkq",
        "colab": {
          "base_uri": "https://localhost:8080/"
        },
        "outputId": "8fe5852d-9666-4b8c-b798-a4bce8f55d5e"
      },
      "source": [
        "\n",
        "from sklearn.ensemble import RandomForestClassifier\n",
        "from sklearn.ensemble import RandomForestRegressor\n",
        "\n",
        "\n",
        "rf = RandomForestRegressor(n_estimators= 50 ,)\n",
        "rf.fit(X_train, y_train)\n",
        "\n",
        "print('Training Accuracy: {:.2f} '.format(rf.score(X_train, y_train)*100))\n",
        "print('test Accuracy: {:.2f} '.format(rf.score(X_test, y_test)*100))"
      ],
      "execution_count": null,
      "outputs": [
        {
          "output_type": "stream",
          "text": [
            "Training Accuracy: 96.31 \n",
            "test Accuracy: 75.17 \n"
          ],
          "name": "stdout"
        }
      ]
    },
    {
      "cell_type": "markdown",
      "metadata": {
        "id": "ISo_I1RieSCw"
      },
      "source": [
        "###Finally seeking the best model , we use XGB regressor with grid search"
      ]
    },
    {
      "cell_type": "code",
      "metadata": {
        "id": "IYKTl80VJ_-B"
      },
      "source": [
        "from sklearn.model_selection import train_test_split , GridSearchCV \n",
        "X_train, X_test, y_train, y_test = train_test_split(X, Y, test_size=0.3)"
      ],
      "execution_count": null,
      "outputs": []
    },
    {
      "cell_type": "code",
      "metadata": {
        "id": "BgdYB6qriH3Y"
      },
      "source": [
        "# A parameter grid for XGBoost\n",
        "params = {'min_child_weight':[2,3,4], 'gamma':[i/10.0 for i in [2,3,4]],  'subsample':[i/10.0 for i in range(5,8)],\n",
        "'colsample_bytree':[i/10.0 for i in range(5,8)]}\n",
        "\n",
        "# Initialize XGB and GridSearch\n",
        "xgb = XGBRegressor(nthread=-1 , max_depth=10 , n_estimators = 50 , learning_rate=0.2 , verbosity=0) \n",
        "\n",
        "grid = GridSearchCV(xgb, params)\n",
        "grid.fit(X_train, y_train)\n",
        "\n",
        "# Print the r2 score\n",
        "print(r2_score(y_test, grid.best_estimator_.predict(X_test))) \n",
        "# Print the MSE score\n",
        "print(mean_squared_error(y_test, grid.best_estimator_.predict(X_test)))"
      ],
      "execution_count": null,
      "outputs": []
    },
    {
      "cell_type": "markdown",
      "metadata": {
        "id": "NTHN9HiieZ0Z"
      },
      "source": [
        "Note that we could have reached a better fit with better test R - squared (by increasing n_estimators , and max depth)but due to comutational power limitation we think that is enough"
      ]
    },
    {
      "cell_type": "code",
      "metadata": {
        "id": "yClgNdytiL2S"
      },
      "source": [
        "grid.best_estimator_"
      ],
      "execution_count": null,
      "outputs": []
    },
    {
      "cell_type": "markdown",
      "metadata": {
        "id": "AwOb-b-qemIJ"
      },
      "source": [
        "Finally we extact datasets"
      ]
    },
    {
      "cell_type": "code",
      "metadata": {
        "id": "mjyOYCUnkC86"
      },
      "source": [
        "funded.to_csv('funded.csv')\n",
        "non_funded.to_csv('non_funded.csv')\n",
        "payment_agg.to_csv('payment_agg.csv')\n",
        "new_clarity.to_csv('new_clarity.csv')\n",
        "funded_merged.to_csv('funded_merged.csv')\n",
        "funded_final.to_csv('funded_final.csv')"
      ],
      "execution_count": null,
      "outputs": []
    }
  ]
}